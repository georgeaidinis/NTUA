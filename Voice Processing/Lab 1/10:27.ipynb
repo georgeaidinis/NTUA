{
  "nbformat": 4,
  "nbformat_minor": 0,
  "metadata": {
    "colab": {
      "name": "Mylast.ipynb",
      "provenance": [],
      "collapsed_sections": [
        "9_Jhh4FN2Hqv",
        "KlLLoZbp3tWO",
        "mmmQB8J08h6y",
        "Yy1kN1yI9uWR",
        "IRI8GJmQ_Fq5",
        "_6i9AWk5Teg3",
        "RuzupFrrggeN",
        "-_kxWWizgiHR",
        "LTVMz5ju2wKx",
        "5REbZDoF90H7",
        "qnbDRI1UV1P1",
        "1ouXqDv4ipnt",
        "_mBc-yzgWMQL",
        "pKRpWPKKlP7b",
        "sGEGAW4yuClW",
        "NAOXXVKl9jcG"
      ],
      "toc_visible": true,
      "machine_shape": "hm",
      "include_colab_link": true
    },
    "kernelspec": {
      "name": "python3",
      "display_name": "Python 3"
    },
    "accelerator": "GPU"
  },
  "cells": [
    {
      "cell_type": "markdown",
      "metadata": {
        "id": "view-in-github",
        "colab_type": "text"
      },
      "source": [
        "<a href=\"https://colab.research.google.com/github/georgeaidinis/NTUA/blob/master/Voice%20Processing/Lab%201/10%3A27.ipynb\" target=\"_parent\"><img src=\"https://colab.research.google.com/assets/colab-badge.svg\" alt=\"Open In Colab\"/></a>"
      ]
    },
    {
      "cell_type": "markdown",
      "metadata": {
        "id": "eM0mb3ATwibH",
        "colab_type": "text"
      },
      "source": [
        "> Αϊδίνης Γιώργος  (el16031)\n",
        "\n",
        "> Τσιλιβής Θοδωρής (el16032)\n",
        "\n",
        "\n",
        "\n",
        "---\n",
        "# 1η Εργαστηριακή Άσκηση - Μέρος πρώτο: Ορθογράφος"
      ]
    },
    {
      "cell_type": "markdown",
      "metadata": {
        "id": "CCBjt0YXxvDZ",
        "colab_type": "text"
      },
      "source": [
        "Πριν αρχίσουμε τα βήματα για την προετοιμασία του εργαστηρίου, πρέπει να εγκαταστήσουμε κάποια εργαλεία που θα χρησιμοποιήσουμε στην εργασία αυτή. Πρώτα είναι η βιβλιοθήκη OpenFST (1.6.1), για την οποία χρησιμοποιούμε το έτοιμο bash script."
      ]
    },
    {
      "cell_type": "code",
      "metadata": {
        "id": "SqpOG9a7HVEU",
        "colab_type": "code",
        "outputId": "6dab474f-21e5-4010-9414-14b71a228901",
        "colab": {
          "base_uri": "https://localhost:8080/",
          "height": 68
        }
      },
      "source": [
        "from urllib.request import urlretrieve\n",
        "import os\n",
        "from zipfile import ZipFile\n",
        "\n",
        "def download(url, file):\n",
        "    if not os.path.isfile(file):\n",
        "        print(\"Download file... \" + file + \" ...\")\n",
        "        urlretrieve(url,file)\n",
        "        print(\"File downloaded\")\n",
        "\n",
        "download(\"https://raw.githubusercontent.com/georgepar/python-lab/master/install_openfst.sh\",\"install_openfst.sh\")\n",
        "print(\"All the files are downloaded\")"
      ],
      "execution_count": 1,
      "outputs": [
        {
          "output_type": "stream",
          "text": [
            "Download file... install_openfst.sh ...\n",
            "File downloaded\n",
            "All the files are downloaded\n"
          ],
          "name": "stdout"
        }
      ]
    },
    {
      "cell_type": "code",
      "metadata": {
        "id": "8hY00fgBuCMe",
        "colab_type": "code",
        "colab": {
          "base_uri": "https://localhost:8080/",
          "height": 1000
        },
        "outputId": "6c803894-11cd-402c-e5ed-23305cdaeba0"
      },
      "source": [
        "!chmod +x install_openfst.sh\n",
        "!./install_openfst.sh"
      ],
      "execution_count": 2,
      "outputs": [
        {
          "output_type": "stream",
          "text": [
            "Reading package lists... Done\n",
            "Building dependency tree       \n",
            "Reading state information... Done\n",
            "Note, selecting 'zlib1g-dev' instead of 'libz-dev'\n",
            "make is already the newest version (4.1-9.1ubuntu1).\n",
            "make set to manually installed.\n",
            "python-dev is already the newest version (2.7.15~rc1-1).\n",
            "zlib1g-dev is already the newest version (1:1.2.11.dfsg-0ubuntu2).\n",
            "zlib1g-dev set to manually installed.\n",
            "g++ is already the newest version (4:7.4.0-1ubuntu2.3).\n",
            "g++ set to manually installed.\n",
            "gcc is already the newest version (4:7.4.0-1ubuntu2.3).\n",
            "gcc set to manually installed.\n",
            "wget is already the newest version (1.19.4-1ubuntu2.2).\n",
            "The following packages were automatically installed and are no longer required:\n",
            "  cuda-cufft-10-1 cuda-cufft-dev-10-1 cuda-curand-10-1 cuda-curand-dev-10-1\n",
            "  cuda-cusolver-10-1 cuda-cusolver-dev-10-1 cuda-cusparse-10-1\n",
            "  cuda-cusparse-dev-10-1 cuda-license-10-2 cuda-npp-10-1 cuda-npp-dev-10-1\n",
            "  cuda-nsight-10-1 cuda-nsight-compute-10-1 cuda-nsight-systems-10-1\n",
            "  cuda-nvgraph-10-1 cuda-nvgraph-dev-10-1 cuda-nvjpeg-10-1\n",
            "  cuda-nvjpeg-dev-10-1 cuda-nvrtc-10-1 cuda-nvrtc-dev-10-1 cuda-nvvp-10-1\n",
            "  libcublas10 libnvidia-common-430 nsight-compute-2019.5.0\n",
            "  nsight-systems-2019.5.2\n",
            "Use 'sudo apt autoremove' to remove them.\n",
            "The following additional packages will be installed:\n",
            "  file libmagic-mgc libmagic1\n",
            "Suggested packages:\n",
            "  gettext\n",
            "The following NEW packages will be installed:\n",
            "  checkinstall file libmagic-mgc libmagic1\n",
            "0 upgraded, 4 newly installed, 0 to remove and 5 not upgraded.\n",
            "Need to get 372 kB of archives.\n",
            "After this operation, 5,732 kB of additional disk space will be used.\n",
            "Get:1 http://archive.ubuntu.com/ubuntu bionic-updates/main amd64 libmagic-mgc amd64 1:5.32-2ubuntu0.3 [184 kB]\n",
            "Get:2 http://archive.ubuntu.com/ubuntu bionic-updates/main amd64 libmagic1 amd64 1:5.32-2ubuntu0.3 [68.7 kB]\n",
            "Get:3 http://archive.ubuntu.com/ubuntu bionic-updates/main amd64 file amd64 1:5.32-2ubuntu0.3 [22.1 kB]\n",
            "Get:4 http://archive.ubuntu.com/ubuntu bionic/universe amd64 checkinstall amd64 1.6.2-4ubuntu2 [97.1 kB]\n",
            "Fetched 372 kB in 1s (453 kB/s)\n",
            "debconf: unable to initialize frontend: Dialog\n",
            "debconf: (No usable dialog-like program is installed, so the dialog based frontend cannot be used. at /usr/share/perl5/Debconf/FrontEnd/Dialog.pm line 76, <> line 4.)\n",
            "debconf: falling back to frontend: Readline\n",
            "debconf: unable to initialize frontend: Readline\n",
            "debconf: (This frontend requires a controlling tty.)\n",
            "debconf: falling back to frontend: Teletype\n",
            "dpkg-preconfigure: unable to re-open stdin: \n",
            "Selecting previously unselected package libmagic-mgc.\n",
            "(Reading database ... 135718 files and directories currently installed.)\n",
            "Preparing to unpack .../libmagic-mgc_1%3a5.32-2ubuntu0.3_amd64.deb ...\n",
            "Unpacking libmagic-mgc (1:5.32-2ubuntu0.3) ...\n",
            "Selecting previously unselected package libmagic1:amd64.\n",
            "Preparing to unpack .../libmagic1_1%3a5.32-2ubuntu0.3_amd64.deb ...\n",
            "Unpacking libmagic1:amd64 (1:5.32-2ubuntu0.3) ...\n",
            "Selecting previously unselected package file.\n",
            "Preparing to unpack .../file_1%3a5.32-2ubuntu0.3_amd64.deb ...\n",
            "Unpacking file (1:5.32-2ubuntu0.3) ...\n",
            "Selecting previously unselected package checkinstall.\n",
            "Preparing to unpack .../checkinstall_1.6.2-4ubuntu2_amd64.deb ...\n",
            "Unpacking checkinstall (1.6.2-4ubuntu2) ...\n",
            "Setting up libmagic-mgc (1:5.32-2ubuntu0.3) ...\n",
            "Setting up libmagic1:amd64 (1:5.32-2ubuntu0.3) ...\n",
            "Setting up file (1:5.32-2ubuntu0.3) ...\n",
            "Setting up checkinstall (1.6.2-4ubuntu2) ...\n",
            "Processing triggers for man-db (2.8.3-2ubuntu0.1) ...\n",
            "Processing triggers for libc-bin (2.27-3ubuntu1) ...\n",
            "--2019-12-04 19:32:55--  http://www.openfst.org/twiki/pub/FST/FstDownload/openfst-1.6.1.tar.gz\n",
            "Resolving www.openfst.org (www.openfst.org)... 206.196.111.47\n",
            "Connecting to www.openfst.org (www.openfst.org)|206.196.111.47|:80... connected.\n",
            "HTTP request sent, awaiting response... 200 OK\n",
            "Length: 1208654 (1.2M) [application/x-gzip]\n",
            "Saving to: ‘openfst-1.6.1.tar.gz’\n",
            "\n",
            "openfst-1.6.1.tar.g 100%[===================>]   1.15M  1.97MB/s    in 0.6s    \n",
            "\n",
            "2019-12-04 19:32:55 (1.97 MB/s) - ‘openfst-1.6.1.tar.gz’ saved [1208654/1208654]\n",
            "\n",
            "openfst-1.6.1/\n",
            "openfst-1.6.1/ltmain.sh\n",
            "openfst-1.6.1/install-sh\n",
            "openfst-1.6.1/aclocal.m4\n",
            "openfst-1.6.1/missing\n",
            "openfst-1.6.1/ar-lib\n",
            "openfst-1.6.1/INSTALL\n",
            "openfst-1.6.1/COPYING\n",
            "openfst-1.6.1/README\n",
            "openfst-1.6.1/m4/\n",
            "openfst-1.6.1/m4/ltversion.m4\n",
            "openfst-1.6.1/m4/libtool.m4\n",
            "openfst-1.6.1/m4/ltoptions.m4\n",
            "openfst-1.6.1/m4/lt~obsolete.m4\n",
            "openfst-1.6.1/m4/ltsugar.m4\n",
            "openfst-1.6.1/m4/ac_python_devel.m4\n",
            "openfst-1.6.1/compile\n",
            "openfst-1.6.1/depcomp\n",
            "openfst-1.6.1/AUTHORS\n",
            "openfst-1.6.1/NEWS\n",
            "openfst-1.6.1/Makefile.in\n",
            "openfst-1.6.1/config.h.in\n",
            "openfst-1.6.1/configure.ac\n",
            "openfst-1.6.1/config.guess\n",
            "openfst-1.6.1/test-driver\n",
            "openfst-1.6.1/src/\n",
            "openfst-1.6.1/src/bin/\n",
            "openfst-1.6.1/src/bin/fstprint.cc\n",
            "openfst-1.6.1/src/bin/fstisomorphic.cc\n",
            "openfst-1.6.1/src/bin/fstprune.cc\n",
            "openfst-1.6.1/src/bin/fstinfo.cc\n",
            "openfst-1.6.1/src/bin/fstdraw.cc\n",
            "openfst-1.6.1/src/bin/fstunion.cc\n",
            "openfst-1.6.1/src/bin/fstrandgen.cc\n",
            "openfst-1.6.1/src/bin/fstpush.cc\n",
            "openfst-1.6.1/src/bin/fstmap.cc\n",
            "openfst-1.6.1/src/bin/Makefile.in\n",
            "openfst-1.6.1/src/bin/fstsymbols.cc\n",
            "openfst-1.6.1/src/bin/fstepsnormalize.cc\n",
            "openfst-1.6.1/src/bin/fstconvert.cc\n",
            "openfst-1.6.1/src/bin/fstshortestpath.cc\n",
            "openfst-1.6.1/src/bin/fstdifference.cc\n",
            "openfst-1.6.1/src/bin/fstconnect.cc\n",
            "openfst-1.6.1/src/bin/fstclosure.cc\n",
            "openfst-1.6.1/src/bin/fstencode.cc\n",
            "openfst-1.6.1/src/bin/fstcompose.cc\n",
            "openfst-1.6.1/src/bin/fstminimize.cc\n",
            "openfst-1.6.1/src/bin/fsttopsort.cc\n",
            "openfst-1.6.1/src/bin/fstinvert.cc\n",
            "openfst-1.6.1/src/bin/fstintersect.cc\n",
            "openfst-1.6.1/src/bin/fstreweight.cc\n",
            "openfst-1.6.1/src/bin/fstcompile.cc\n",
            "openfst-1.6.1/src/bin/fstreplace.cc\n",
            "openfst-1.6.1/src/bin/fstconcat.cc\n",
            "openfst-1.6.1/src/bin/fstproject.cc\n",
            "openfst-1.6.1/src/bin/fstequivalent.cc\n",
            "openfst-1.6.1/src/bin/fstrelabel.cc\n",
            "openfst-1.6.1/src/bin/fstarcsort.cc\n",
            "openfst-1.6.1/src/bin/fstdeterminize.cc\n",
            "openfst-1.6.1/src/bin/Makefile.am\n",
            "openfst-1.6.1/src/bin/fstreverse.cc\n",
            "openfst-1.6.1/src/bin/fstdisambiguate.cc\n",
            "openfst-1.6.1/src/bin/fstshortestdistance.cc\n",
            "openfst-1.6.1/src/bin/fstequal.cc\n",
            "openfst-1.6.1/src/bin/fstrmepsilon.cc\n",
            "openfst-1.6.1/src/bin/fstsynchronize.cc\n",
            "openfst-1.6.1/src/Makefile.in\n",
            "openfst-1.6.1/src/include/\n",
            "openfst-1.6.1/src/include/Makefile.in\n",
            "openfst-1.6.1/src/include/Makefile.am\n",
            "openfst-1.6.1/src/include/fst/\n",
            "openfst-1.6.1/src/include/fst/reweight.h\n",
            "openfst-1.6.1/src/include/fst/union.h\n",
            "openfst-1.6.1/src/include/fst/replace-util.h\n",
            "openfst-1.6.1/src/include/fst/visit.h\n",
            "openfst-1.6.1/src/include/fst/pair-weight.h\n",
            "openfst-1.6.1/src/include/fst/generic-register.h\n",
            "openfst-1.6.1/src/include/fst/flags.h\n",
            "openfst-1.6.1/src/include/fst/weight.h\n",
            "openfst-1.6.1/src/include/fst/compose.h\n",
            "openfst-1.6.1/src/include/fst/randequivalent.h\n",
            "openfst-1.6.1/src/include/fst/expanded-fst.h\n",
            "openfst-1.6.1/src/include/fst/arc-map.h\n",
            "openfst-1.6.1/src/include/fst/determinize.h\n",
            "openfst-1.6.1/src/include/fst/types.h\n",
            "openfst-1.6.1/src/include/fst/config.h\n",
            "openfst-1.6.1/src/include/fst/lookahead-matcher.h\n",
            "openfst-1.6.1/src/include/fst/statesort.h\n",
            "openfst-1.6.1/src/include/fst/prune.h\n",
            "openfst-1.6.1/src/include/fst/verify.h\n",
            "openfst-1.6.1/src/include/fst/rmfinalepsilon.h\n",
            "openfst-1.6.1/src/include/fst/register.h\n",
            "openfst-1.6.1/src/include/fst/state-map.h\n",
            "openfst-1.6.1/src/include/fst/state-table.h\n",
            "openfst-1.6.1/src/include/fst/properties.h\n",
            "openfst-1.6.1/src/include/fst/replace.h\n",
            "openfst-1.6.1/src/include/fst/edit-fst.h\n",
            "openfst-1.6.1/src/include/fst/map.h\n",
            "openfst-1.6.1/src/include/fst/arcfilter.h\n",
            "openfst-1.6.1/src/include/fst/matcher.h\n",
            "openfst-1.6.1/src/include/fst/union-weight.h\n",
            "openfst-1.6.1/src/include/fst/product-weight.h\n",
            "openfst-1.6.1/src/include/fst/label-reachable.h\n",
            "openfst-1.6.1/src/include/fst/icu.h\n",
            "openfst-1.6.1/src/include/fst/symbol-table.h\n",
            "openfst-1.6.1/src/include/fst/const-fst.h\n",
            "openfst-1.6.1/src/include/fst/equivalent.h\n",
            "openfst-1.6.1/src/include/fst/util.h\n",
            "openfst-1.6.1/src/include/fst/filter-state.h\n",
            "openfst-1.6.1/src/include/fst/union-find.h\n",
            "openfst-1.6.1/src/include/fst/complement.h\n",
            "openfst-1.6.1/src/include/fst/dfs-visit.h\n",
            "openfst-1.6.1/src/include/fst/relabel.h\n",
            "openfst-1.6.1/src/include/fst/sparse-power-weight.h\n",
            "openfst-1.6.1/src/include/fst/float-weight.h\n",
            "openfst-1.6.1/src/include/fst/epsnormalize.h\n",
            "openfst-1.6.1/src/include/fst/push.h\n",
            "openfst-1.6.1/src/include/fst/rational.h\n",
            "openfst-1.6.1/src/include/fst/config.h.in\n",
            "openfst-1.6.1/src/include/fst/compact-fst.h\n",
            "openfst-1.6.1/src/include/fst/fst-decl.h\n",
            "openfst-1.6.1/src/include/fst/symbol-table-ops.h\n",
            "openfst-1.6.1/src/include/fst/lock.h\n",
            "openfst-1.6.1/src/include/fst/mapped-file.h\n",
            "openfst-1.6.1/src/include/fst/matcher-fst.h\n",
            "openfst-1.6.1/src/include/fst/arc-arena.h\n",
            "openfst-1.6.1/src/include/fst/synchronize.h\n",
            "openfst-1.6.1/src/include/fst/project.h\n",
            "openfst-1.6.1/src/include/fst/state-reachable.h\n",
            "openfst-1.6.1/src/include/fst/vector-fst.h\n",
            "openfst-1.6.1/src/include/fst/sparse-tuple-weight.h\n",
            "openfst-1.6.1/src/include/fst/heap.h\n",
            "openfst-1.6.1/src/include/fst/memory.h\n",
            "openfst-1.6.1/src/include/fst/reverse.h\n",
            "openfst-1.6.1/src/include/fst/intersect.h\n",
            "openfst-1.6.1/src/include/fst/fstlib.h\n",
            "openfst-1.6.1/src/include/fst/arc.h\n",
            "openfst-1.6.1/src/include/fst/lookahead-filter.h\n",
            "openfst-1.6.1/src/include/fst/script/\n",
            "openfst-1.6.1/src/include/fst/script/reweight.h\n",
            "openfst-1.6.1/src/include/fst/script/union.h\n",
            "openfst-1.6.1/src/include/fst/script/fst-class.h\n",
            "openfst-1.6.1/src/include/fst/script/fstscript-decl.h\n",
            "openfst-1.6.1/src/include/fst/script/compose.h\n",
            "openfst-1.6.1/src/include/fst/script/randequivalent.h\n",
            "openfst-1.6.1/src/include/fst/script/text-io.h\n",
            "openfst-1.6.1/src/include/fst/script/decode.h\n",
            "openfst-1.6.1/src/include/fst/script/determinize.h\n",
            "openfst-1.6.1/src/include/fst/script/draw-impl.h\n",
            "openfst-1.6.1/src/include/fst/script/prune.h\n",
            "openfst-1.6.1/src/include/fst/script/verify.h\n",
            "openfst-1.6.1/src/include/fst/script/print-impl.h\n",
            "openfst-1.6.1/src/include/fst/script/register.h\n",
            "openfst-1.6.1/src/include/fst/script/convert.h\n",
            "openfst-1.6.1/src/include/fst/script/weight-class.h\n",
            "openfst-1.6.1/src/include/fst/script/replace.h\n",
            "openfst-1.6.1/src/include/fst/script/map.h\n",
            "openfst-1.6.1/src/include/fst/script/script-impl.h\n",
            "openfst-1.6.1/src/include/fst/script/compile.h\n",
            "openfst-1.6.1/src/include/fst/script/fstscript.h\n",
            "openfst-1.6.1/src/include/fst/script/compile-impl.h\n",
            "openfst-1.6.1/src/include/fst/script/draw.h\n",
            "openfst-1.6.1/src/include/fst/script/equivalent.h\n",
            "openfst-1.6.1/src/include/fst/script/relabel.h\n",
            "openfst-1.6.1/src/include/fst/script/epsnormalize.h\n",
            "openfst-1.6.1/src/include/fst/script/push.h\n",
            "openfst-1.6.1/src/include/fst/script/arc-class.h\n",
            "openfst-1.6.1/src/include/fst/script/stateiterator-class.h\n",
            "openfst-1.6.1/src/include/fst/script/info-impl.h\n",
            "openfst-1.6.1/src/include/fst/script/synchronize.h\n",
            "openfst-1.6.1/src/include/fst/script/project.h\n",
            "openfst-1.6.1/src/include/fst/script/info.h\n",
            "openfst-1.6.1/src/include/fst/script/reverse.h\n",
            "openfst-1.6.1/src/include/fst/script/intersect.h\n",
            "openfst-1.6.1/src/include/fst/script/getters.h\n",
            "openfst-1.6.1/src/include/fst/script/minimize.h\n",
            "openfst-1.6.1/src/include/fst/script/invert.h\n",
            "openfst-1.6.1/src/include/fst/script/closure.h\n",
            "openfst-1.6.1/src/include/fst/script/randgen.h\n",
            "openfst-1.6.1/src/include/fst/script/connect.h\n",
            "openfst-1.6.1/src/include/fst/script/shortest-path.h\n",
            "openfst-1.6.1/src/include/fst/script/arcsort.h\n",
            "openfst-1.6.1/src/include/fst/script/arg-packs.h\n",
            "openfst-1.6.1/src/include/fst/script/difference.h\n",
            "openfst-1.6.1/src/include/fst/script/disambiguate.h\n",
            "openfst-1.6.1/src/include/fst/script/encodemapper-class.h\n",
            "openfst-1.6.1/src/include/fst/script/equal.h\n",
            "openfst-1.6.1/src/include/fst/script/topsort.h\n",
            "openfst-1.6.1/src/include/fst/script/shortest-distance.h\n",
            "openfst-1.6.1/src/include/fst/script/print.h\n",
            "openfst-1.6.1/src/include/fst/script/arciterator-class.h\n",
            "openfst-1.6.1/src/include/fst/script/isomorphic.h\n",
            "openfst-1.6.1/src/include/fst/script/rmepsilon.h\n",
            "openfst-1.6.1/src/include/fst/script/encode.h\n",
            "openfst-1.6.1/src/include/fst/script/concat.h\n",
            "openfst-1.6.1/src/include/fst/minimize.h\n",
            "openfst-1.6.1/src/include/fst/queue.h\n",
            "openfst-1.6.1/src/include/fst/cache.h\n",
            "openfst-1.6.1/src/include/fst/string-weight.h\n",
            "openfst-1.6.1/src/include/fst/invert.h\n",
            "openfst-1.6.1/src/include/fst/accumulator.h\n",
            "openfst-1.6.1/src/include/fst/log.h\n",
            "openfst-1.6.1/src/include/fst/closure.h\n",
            "openfst-1.6.1/src/include/fst/randgen.h\n",
            "openfst-1.6.1/src/include/fst/signed-log-weight.h\n",
            "openfst-1.6.1/src/include/fst/add-on.h\n",
            "openfst-1.6.1/src/include/fst/partition.h\n",
            "openfst-1.6.1/src/include/fst/connect.h\n",
            "openfst-1.6.1/src/include/fst/extensions/\n",
            "openfst-1.6.1/src/include/fst/extensions/far/\n",
            "openfst-1.6.1/src/include/fst/extensions/far/far-class.h\n",
            "openfst-1.6.1/src/include/fst/extensions/far/farlib.h\n",
            "openfst-1.6.1/src/include/fst/extensions/far/compile-strings.h\n",
            "openfst-1.6.1/src/include/fst/extensions/far/print-strings.h\n",
            "openfst-1.6.1/src/include/fst/extensions/far/script-impl.h\n",
            "openfst-1.6.1/src/include/fst/extensions/far/stlist.h\n",
            "openfst-1.6.1/src/include/fst/extensions/far/sttable.h\n",
            "openfst-1.6.1/src/include/fst/extensions/far/farscript.h\n",
            "openfst-1.6.1/src/include/fst/extensions/far/info.h\n",
            "openfst-1.6.1/src/include/fst/extensions/far/getters.h\n",
            "openfst-1.6.1/src/include/fst/extensions/far/extract.h\n",
            "openfst-1.6.1/src/include/fst/extensions/far/far.h\n",
            "openfst-1.6.1/src/include/fst/extensions/far/equal.h\n",
            "openfst-1.6.1/src/include/fst/extensions/far/create.h\n",
            "openfst-1.6.1/src/include/fst/extensions/far/isomorphic.h\n",
            "openfst-1.6.1/src/include/fst/extensions/special/\n",
            "openfst-1.6.1/src/include/fst/extensions/special/sigma-fst.h\n",
            "openfst-1.6.1/src/include/fst/extensions/special/rho-fst.h\n",
            "openfst-1.6.1/src/include/fst/extensions/special/phi-fst.h\n",
            "openfst-1.6.1/src/include/fst/extensions/pdt/\n",
            "openfst-1.6.1/src/include/fst/extensions/pdt/compose.h\n",
            "openfst-1.6.1/src/include/fst/extensions/pdt/paren.h\n",
            "openfst-1.6.1/src/include/fst/extensions/pdt/pdtlib.h\n",
            "openfst-1.6.1/src/include/fst/extensions/pdt/replace.h\n",
            "openfst-1.6.1/src/include/fst/extensions/pdt/pdtscript.h\n",
            "openfst-1.6.1/src/include/fst/extensions/pdt/pdt.h\n",
            "openfst-1.6.1/src/include/fst/extensions/pdt/info.h\n",
            "openfst-1.6.1/src/include/fst/extensions/pdt/reverse.h\n",
            "openfst-1.6.1/src/include/fst/extensions/pdt/getters.h\n",
            "openfst-1.6.1/src/include/fst/extensions/pdt/shortest-path.h\n",
            "openfst-1.6.1/src/include/fst/extensions/pdt/collection.h\n",
            "openfst-1.6.1/src/include/fst/extensions/pdt/expand.h\n",
            "openfst-1.6.1/src/include/fst/extensions/ngram/\n",
            "openfst-1.6.1/src/include/fst/extensions/ngram/ngram-fst.h\n",
            "openfst-1.6.1/src/include/fst/extensions/ngram/nthbit.h\n",
            "openfst-1.6.1/src/include/fst/extensions/ngram/bitmap-index.h\n",
            "openfst-1.6.1/src/include/fst/extensions/compress/\n",
            "openfst-1.6.1/src/include/fst/extensions/compress/compress-script.h\n",
            "openfst-1.6.1/src/include/fst/extensions/compress/elias.h\n",
            "openfst-1.6.1/src/include/fst/extensions/compress/randmod.h\n",
            "openfst-1.6.1/src/include/fst/extensions/compress/compress.h\n",
            "openfst-1.6.1/src/include/fst/extensions/compress/gzfile.h\n",
            "openfst-1.6.1/src/include/fst/extensions/mpdt/\n",
            "openfst-1.6.1/src/include/fst/extensions/mpdt/compose.h\n",
            "openfst-1.6.1/src/include/fst/extensions/mpdt/mpdtscript.h\n",
            "openfst-1.6.1/src/include/fst/extensions/mpdt/read_write_utils.h\n",
            "openfst-1.6.1/src/include/fst/extensions/mpdt/info.h\n",
            "openfst-1.6.1/src/include/fst/extensions/mpdt/reverse.h\n",
            "openfst-1.6.1/src/include/fst/extensions/mpdt/mpdt.h\n",
            "openfst-1.6.1/src/include/fst/extensions/mpdt/mpdtlib.h\n",
            "openfst-1.6.1/src/include/fst/extensions/mpdt/expand.h\n",
            "openfst-1.6.1/src/include/fst/extensions/linear/\n",
            "openfst-1.6.1/src/include/fst/extensions/linear/linear-fst.h\n",
            "openfst-1.6.1/src/include/fst/extensions/linear/linearscript.h\n",
            "openfst-1.6.1/src/include/fst/extensions/linear/trie.h\n",
            "openfst-1.6.1/src/include/fst/extensions/linear/linear-fst-data.h\n",
            "openfst-1.6.1/src/include/fst/extensions/linear/linear-fst-data-builder.h\n",
            "openfst-1.6.1/src/include/fst/extensions/linear/loglinear-apply.h\n",
            "openfst-1.6.1/src/include/fst/shortest-path.h\n",
            "openfst-1.6.1/src/include/fst/arcsort.h\n",
            "openfst-1.6.1/src/include/fst/tuple-weight.h\n",
            "openfst-1.6.1/src/include/fst/difference.h\n",
            "openfst-1.6.1/src/include/fst/mutable-fst.h\n",
            "openfst-1.6.1/src/include/fst/factor-weight.h\n",
            "openfst-1.6.1/src/include/fst/lexicographic-weight.h\n",
            "openfst-1.6.1/src/include/fst/bi-table.h\n",
            "openfst-1.6.1/src/include/fst/disambiguate.h\n",
            "openfst-1.6.1/src/include/fst/compose-filter.h\n",
            "openfst-1.6.1/src/include/fst/equal.h\n",
            "openfst-1.6.1/src/include/fst/topsort.h\n",
            "openfst-1.6.1/src/include/fst/string.h\n",
            "openfst-1.6.1/src/include/fst/compat.h\n",
            "openfst-1.6.1/src/include/fst/shortest-distance.h\n",
            "openfst-1.6.1/src/include/fst/isomorphic.h\n",
            "openfst-1.6.1/src/include/fst/fst.h\n",
            "openfst-1.6.1/src/include/fst/expectation-weight.h\n",
            "openfst-1.6.1/src/include/fst/rmepsilon.h\n",
            "openfst-1.6.1/src/include/fst/power-weight.h\n",
            "openfst-1.6.1/src/include/fst/test-properties.h\n",
            "openfst-1.6.1/src/include/fst/encode.h\n",
            "openfst-1.6.1/src/include/fst/concat.h\n",
            "openfst-1.6.1/src/include/fst/interval-set.h\n",
            "openfst-1.6.1/src/lib/\n",
            "openfst-1.6.1/src/lib/weight.cc\n",
            "openfst-1.6.1/src/lib/util.cc\n",
            "openfst-1.6.1/src/lib/Makefile.in\n",
            "openfst-1.6.1/src/lib/symbol-table.cc\n",
            "openfst-1.6.1/src/lib/flags.cc\n",
            "openfst-1.6.1/src/lib/fst.cc\n",
            "openfst-1.6.1/src/lib/compat.cc\n",
            "openfst-1.6.1/src/lib/symbol-table-ops.cc\n",
            "openfst-1.6.1/src/lib/Makefile.am\n",
            "openfst-1.6.1/src/lib/mapped-file.cc\n",
            "openfst-1.6.1/src/lib/properties.cc\n",
            "openfst-1.6.1/src/script/\n",
            "openfst-1.6.1/src/script/synchronize.cc\n",
            "openfst-1.6.1/src/script/replace.cc\n",
            "openfst-1.6.1/src/script/isomorphic.cc\n",
            "openfst-1.6.1/src/script/print.cc\n",
            "openfst-1.6.1/src/script/decode.cc\n",
            "openfst-1.6.1/src/script/text-io.cc\n",
            "openfst-1.6.1/src/script/intersect.cc\n",
            "openfst-1.6.1/src/script/minimize.cc\n",
            "openfst-1.6.1/src/script/info.cc\n",
            "openfst-1.6.1/src/script/getters.cc\n",
            "openfst-1.6.1/src/script/equal.cc\n",
            "openfst-1.6.1/src/script/draw.cc\n",
            "openfst-1.6.1/src/script/compose.cc\n",
            "openfst-1.6.1/src/script/disambiguate.cc\n",
            "openfst-1.6.1/src/script/verify.cc\n",
            "openfst-1.6.1/src/script/shortest-distance.cc\n",
            "openfst-1.6.1/src/script/encode.cc\n",
            "openfst-1.6.1/src/script/union.cc\n",
            "openfst-1.6.1/src/script/closure.cc\n",
            "openfst-1.6.1/src/script/Makefile.in\n",
            "openfst-1.6.1/src/script/push.cc\n",
            "openfst-1.6.1/src/script/project.cc\n",
            "openfst-1.6.1/src/script/prune.cc\n",
            "openfst-1.6.1/src/script/reweight.cc\n",
            "openfst-1.6.1/src/script/weight-class.cc\n",
            "openfst-1.6.1/src/script/fst-class.cc\n",
            "openfst-1.6.1/src/script/arcsort.cc\n",
            "openfst-1.6.1/src/script/randequivalent.cc\n",
            "openfst-1.6.1/src/script/rmepsilon.cc\n",
            "openfst-1.6.1/src/script/epsnormalize.cc\n",
            "openfst-1.6.1/src/script/topsort.cc\n",
            "openfst-1.6.1/src/script/concat.cc\n",
            "openfst-1.6.1/src/script/stateiterator-class.cc\n",
            "openfst-1.6.1/src/script/determinize.cc\n",
            "openfst-1.6.1/src/script/map.cc\n",
            "openfst-1.6.1/src/script/randgen.cc\n",
            "openfst-1.6.1/src/script/Makefile.am\n",
            "openfst-1.6.1/src/script/arciterator-class.cc\n",
            "openfst-1.6.1/src/script/relabel.cc\n",
            "openfst-1.6.1/src/script/connect.cc\n",
            "openfst-1.6.1/src/script/invert.cc\n",
            "openfst-1.6.1/src/script/compile.cc\n",
            "openfst-1.6.1/src/script/shortest-path.cc\n",
            "openfst-1.6.1/src/script/reverse.cc\n",
            "openfst-1.6.1/src/script/convert.cc\n",
            "openfst-1.6.1/src/script/difference.cc\n",
            "openfst-1.6.1/src/script/equivalent.cc\n",
            "openfst-1.6.1/src/script/encodemapper-class.cc\n",
            "openfst-1.6.1/src/extensions/\n",
            "openfst-1.6.1/src/extensions/far/\n",
            "openfst-1.6.1/src/extensions/far/farextract.cc\n",
            "openfst-1.6.1/src/extensions/far/far-class.cc\n",
            "openfst-1.6.1/src/extensions/far/farequal.cc\n",
            "openfst-1.6.1/src/extensions/far/getters.cc\n",
            "openfst-1.6.1/src/extensions/far/sttable.cc\n",
            "openfst-1.6.1/src/extensions/far/farprintstrings.cc\n",
            "openfst-1.6.1/src/extensions/far/farisomorphic.cc\n",
            "openfst-1.6.1/src/extensions/far/farcreate.cc\n",
            "openfst-1.6.1/src/extensions/far/Makefile.in\n",
            "openfst-1.6.1/src/extensions/far/strings.cc\n",
            "openfst-1.6.1/src/extensions/far/stlist.cc\n",
            "openfst-1.6.1/src/extensions/far/farscript.cc\n",
            "openfst-1.6.1/src/extensions/far/script-impl.cc\n",
            "openfst-1.6.1/src/extensions/far/Makefile.am\n",
            "openfst-1.6.1/src/extensions/far/farcompilestrings.cc\n",
            "openfst-1.6.1/src/extensions/far/farinfo.cc\n",
            "openfst-1.6.1/src/extensions/special/\n",
            "openfst-1.6.1/src/extensions/special/Makefile.in\n",
            "openfst-1.6.1/src/extensions/special/sigma-fst.cc\n",
            "openfst-1.6.1/src/extensions/special/rho-fst.cc\n",
            "openfst-1.6.1/src/extensions/special/Makefile.am\n",
            "openfst-1.6.1/src/extensions/special/phi-fst.cc\n",
            "openfst-1.6.1/src/extensions/lookahead/\n",
            "openfst-1.6.1/src/extensions/lookahead/olabel_lookahead-fst.cc\n",
            "openfst-1.6.1/src/extensions/lookahead/Makefile.in\n",
            "openfst-1.6.1/src/extensions/lookahead/arc_lookahead-fst.cc\n",
            "openfst-1.6.1/src/extensions/lookahead/Makefile.am\n",
            "openfst-1.6.1/src/extensions/lookahead/ilabel_lookahead-fst.cc\n",
            "openfst-1.6.1/src/extensions/Makefile.in\n",
            "openfst-1.6.1/src/extensions/pdt/\n",
            "openfst-1.6.1/src/extensions/pdt/pdtexpand.cc\n",
            "openfst-1.6.1/src/extensions/pdt/getters.cc\n",
            "openfst-1.6.1/src/extensions/pdt/pdtscript.cc\n",
            "openfst-1.6.1/src/extensions/pdt/Makefile.in\n",
            "openfst-1.6.1/src/extensions/pdt/pdtshortestpath.cc\n",
            "openfst-1.6.1/src/extensions/pdt/pdtreverse.cc\n",
            "openfst-1.6.1/src/extensions/pdt/pdtinfo.cc\n",
            "openfst-1.6.1/src/extensions/pdt/pdtcompose.cc\n",
            "openfst-1.6.1/src/extensions/pdt/pdtreplace.cc\n",
            "openfst-1.6.1/src/extensions/pdt/Makefile.am\n",
            "openfst-1.6.1/src/extensions/ngram/\n",
            "openfst-1.6.1/src/extensions/ngram/nthbit.cc\n",
            "openfst-1.6.1/src/extensions/ngram/Makefile.in\n",
            "openfst-1.6.1/src/extensions/ngram/ngram-fst.cc\n",
            "openfst-1.6.1/src/extensions/ngram/Makefile.am\n",
            "openfst-1.6.1/src/extensions/ngram/bitmap-index.cc\n",
            "openfst-1.6.1/src/extensions/compress/\n",
            "openfst-1.6.1/src/extensions/compress/fstcompress.cc\n",
            "openfst-1.6.1/src/extensions/compress/compress-script.cc\n",
            "openfst-1.6.1/src/extensions/compress/Makefile.in\n",
            "openfst-1.6.1/src/extensions/compress/fstrandmod.cc\n",
            "openfst-1.6.1/src/extensions/compress/Makefile.am\n",
            "openfst-1.6.1/src/extensions/mpdt/\n",
            "openfst-1.6.1/src/extensions/mpdt/mpdtinfo.cc\n",
            "openfst-1.6.1/src/extensions/mpdt/mpdtcompose.cc\n",
            "openfst-1.6.1/src/extensions/mpdt/Makefile.in\n",
            "openfst-1.6.1/src/extensions/mpdt/mpdtexpand.cc\n",
            "openfst-1.6.1/src/extensions/mpdt/Makefile.am\n",
            "openfst-1.6.1/src/extensions/mpdt/mpdtreverse.cc\n",
            "openfst-1.6.1/src/extensions/mpdt/mpdtscript.cc\n",
            "openfst-1.6.1/src/extensions/python/\n",
            "openfst-1.6.1/src/extensions/python/fst.pxd\n",
            "openfst-1.6.1/src/extensions/python/pywrapfst.pxd\n",
            "openfst-1.6.1/src/extensions/python/memory.pxd\n",
            "openfst-1.6.1/src/extensions/python/Makefile.in\n",
            "openfst-1.6.1/src/extensions/python/basictypes.pxd\n",
            "openfst-1.6.1/src/extensions/python/pywrapfst.cc\n",
            "openfst-1.6.1/src/extensions/python/ios.pxd\n",
            "openfst-1.6.1/src/extensions/python/pywrapfst.pyx\n",
            "openfst-1.6.1/src/extensions/python/Makefile.am\n",
            "openfst-1.6.1/src/extensions/Makefile.am\n",
            "openfst-1.6.1/src/extensions/const/\n",
            "openfst-1.6.1/src/extensions/const/const8-fst.cc\n",
            "openfst-1.6.1/src/extensions/const/const16-fst.cc\n",
            "openfst-1.6.1/src/extensions/const/Makefile.in\n",
            "openfst-1.6.1/src/extensions/const/const64-fst.cc\n",
            "openfst-1.6.1/src/extensions/const/Makefile.am\n",
            "openfst-1.6.1/src/extensions/compact/\n",
            "openfst-1.6.1/src/extensions/compact/compact8_acceptor-fst.cc\n",
            "openfst-1.6.1/src/extensions/compact/compact16_weighted_string-fst.cc\n",
            "openfst-1.6.1/src/extensions/compact/compact64_acceptor-fst.cc\n",
            "openfst-1.6.1/src/extensions/compact/compact64_unweighted-fst.cc\n",
            "openfst-1.6.1/src/extensions/compact/compact64_string-fst.cc\n",
            "openfst-1.6.1/src/extensions/compact/compact8_weighted_string-fst.cc\n",
            "openfst-1.6.1/src/extensions/compact/Makefile.in\n",
            "openfst-1.6.1/src/extensions/compact/compact16_string-fst.cc\n",
            "openfst-1.6.1/src/extensions/compact/compact8_unweighted-fst.cc\n",
            "openfst-1.6.1/src/extensions/compact/compact64_weighted_string-fst.cc\n",
            "openfst-1.6.1/src/extensions/compact/compact8_unweighted_acceptor-fst.cc\n",
            "openfst-1.6.1/src/extensions/compact/compact16_unweighted_acceptor-fst.cc\n",
            "openfst-1.6.1/src/extensions/compact/compact16_unweighted-fst.cc\n",
            "openfst-1.6.1/src/extensions/compact/Makefile.am\n",
            "openfst-1.6.1/src/extensions/compact/compact16_acceptor-fst.cc\n",
            "openfst-1.6.1/src/extensions/compact/compact8_string-fst.cc\n",
            "openfst-1.6.1/src/extensions/compact/compact64_unweighted_acceptor-fst.cc\n",
            "openfst-1.6.1/src/extensions/linear/\n",
            "openfst-1.6.1/src/extensions/linear/linear-tagger-fst.cc\n",
            "openfst-1.6.1/src/extensions/linear/fstloglinearapply.cc\n",
            "openfst-1.6.1/src/extensions/linear/linearscript.cc\n",
            "openfst-1.6.1/src/extensions/linear/Makefile.in\n",
            "openfst-1.6.1/src/extensions/linear/fstlinear.cc\n",
            "openfst-1.6.1/src/extensions/linear/linear-classifier-fst.cc\n",
            "openfst-1.6.1/src/extensions/linear/Makefile.am\n",
            "openfst-1.6.1/src/Makefile.am\n",
            "openfst-1.6.1/src/test/\n",
            "openfst-1.6.1/src/test/fst_test.cc\n",
            "openfst-1.6.1/src/test/Makefile.in\n",
            "openfst-1.6.1/src/test/weight-tester.h\n",
            "openfst-1.6.1/src/test/weight_test.cc\n",
            "openfst-1.6.1/src/test/algo_test.cc\n",
            "openfst-1.6.1/src/test/algo_test.h\n",
            "openfst-1.6.1/src/test/rand-fst.h\n",
            "openfst-1.6.1/src/test/fst_test.h\n",
            "openfst-1.6.1/src/test/Makefile.am\n",
            "openfst-1.6.1/Makefile.am\n",
            "openfst-1.6.1/configure\n",
            "openfst-1.6.1/config.sub\n",
            "checking for a BSD-compatible install... /usr/bin/install -c\n",
            "checking whether build environment is sane... yes\n",
            "checking for a thread-safe mkdir -p... /bin/mkdir -p\n",
            "checking for gawk... no\n",
            "checking for mawk... mawk\n",
            "checking whether make sets $(MAKE)... yes\n",
            "checking whether make supports nested variables... yes\n",
            "checking for style of include used by make... GNU\n",
            "checking for gcc... gcc\n",
            "checking whether the C compiler works... yes\n",
            "checking for C compiler default output file name... a.out\n",
            "checking for suffix of executables... \n",
            "checking whether we are cross compiling... no\n",
            "checking for suffix of object files... o\n",
            "checking whether we are using the GNU C compiler... yes\n",
            "checking whether gcc accepts -g... yes\n",
            "checking for gcc option to accept ISO C89... none needed\n",
            "checking whether gcc understands -c and -o together... yes\n",
            "checking dependency style of gcc... gcc3\n",
            "checking for ar... ar\n",
            "checking the archiver (ar) interface... ar\n",
            "checking for g++... g++\n",
            "checking whether we are using the GNU C++ compiler... yes\n",
            "checking whether g++ accepts -g... yes\n",
            "checking dependency style of g++... gcc3\n",
            "checking build system type... x86_64-unknown-linux-gnu\n",
            "checking host system type... x86_64-unknown-linux-gnu\n",
            "checking how to print strings... printf\n",
            "checking for a sed that does not truncate output... /bin/sed\n",
            "checking for grep that handles long lines and -e... /bin/grep\n",
            "checking for egrep... /bin/grep -E\n",
            "checking for fgrep... /bin/grep -F\n",
            "checking for ld used by gcc... /usr/bin/ld\n",
            "checking if the linker (/usr/bin/ld) is GNU ld... yes\n",
            "checking for BSD- or MS-compatible name lister (nm)... /usr/bin/nm -B\n",
            "checking the name lister (/usr/bin/nm -B) interface... BSD nm\n",
            "checking whether ln -s works... yes\n",
            "checking the maximum length of command line arguments... 1572864\n",
            "checking whether the shell understands some XSI constructs... yes\n",
            "checking whether the shell understands \"+=\"... yes\n",
            "checking how to convert x86_64-unknown-linux-gnu file names to x86_64-unknown-linux-gnu format... func_convert_file_noop\n",
            "checking how to convert x86_64-unknown-linux-gnu file names to toolchain format... func_convert_file_noop\n",
            "checking for /usr/bin/ld option to reload object files... -r\n",
            "checking for objdump... objdump\n",
            "checking how to recognize dependent libraries... pass_all\n",
            "checking for dlltool... no\n",
            "checking how to associate runtime and link libraries... printf %s\\n\n",
            "checking for archiver @FILE support... @\n",
            "checking for strip... strip\n",
            "checking for ranlib... ranlib\n",
            "checking command to parse /usr/bin/nm -B output from gcc object... ok\n",
            "checking for sysroot... no\n",
            "checking for mt... no\n",
            "checking if : is a manifest tool... no\n",
            "checking how to run the C preprocessor... gcc -E\n",
            "checking for ANSI C header files... yes\n",
            "checking for sys/types.h... yes\n",
            "checking for sys/stat.h... yes\n",
            "checking for stdlib.h... yes\n",
            "checking for string.h... yes\n",
            "checking for memory.h... yes\n",
            "checking for strings.h... yes\n",
            "checking for inttypes.h... yes\n",
            "checking for stdint.h... yes\n",
            "checking for unistd.h... yes\n",
            "checking for dlfcn.h... yes\n",
            "checking for objdir... .libs\n",
            "checking if gcc supports -fno-rtti -fno-exceptions... no\n",
            "checking for gcc option to produce PIC... -fPIC -DPIC\n",
            "checking if gcc PIC flag -fPIC -DPIC works... yes\n",
            "checking if gcc static flag -static works... yes\n",
            "checking if gcc supports -c -o file.o... yes\n",
            "checking if gcc supports -c -o file.o... (cached) yes\n",
            "checking whether the gcc linker (/usr/bin/ld -m elf_x86_64) supports shared libraries... yes\n",
            "checking dynamic linker characteristics... GNU/Linux ld.so\n",
            "checking how to hardcode library paths into programs... immediate\n",
            "checking whether stripping libraries is possible... yes\n",
            "checking if libtool supports shared libraries... yes\n",
            "checking whether to build shared libraries... no\n",
            "checking whether to build static libraries... yes\n",
            "checking how to run the C++ preprocessor... g++ -E\n",
            "checking for ld used by g++... /usr/bin/ld -m elf_x86_64\n",
            "checking if the linker (/usr/bin/ld -m elf_x86_64) is GNU ld... yes\n",
            "checking whether the g++ linker (/usr/bin/ld -m elf_x86_64) supports shared libraries... yes\n",
            "checking for g++ option to produce PIC... -fPIC -DPIC\n",
            "checking if g++ PIC flag -fPIC -DPIC works... yes\n",
            "checking if g++ static flag -static works... yes\n",
            "checking if g++ supports -c -o file.o... yes\n",
            "checking if g++ supports -c -o file.o... (cached) yes\n",
            "checking whether the g++ linker (/usr/bin/ld -m elf_x86_64) supports shared libraries... yes\n",
            "checking dynamic linker characteristics... (cached) GNU/Linux ld.so\n",
            "checking how to hardcode library paths into programs... immediate\n",
            "checking for dlopen in -ldl... yes\n",
            "checking that generated files are newer than configure... done\n",
            "configure: creating ./config.status\n",
            "config.status: creating Makefile\n",
            "config.status: creating src/Makefile\n",
            "config.status: creating src/include/Makefile\n",
            "config.status: creating src/lib/Makefile\n",
            "config.status: creating src/bin/Makefile\n",
            "config.status: creating src/test/Makefile\n",
            "config.status: creating src/extensions/Makefile\n",
            "config.status: creating src/extensions/compact/Makefile\n",
            "config.status: creating src/extensions/compress/Makefile\n",
            "config.status: creating src/extensions/const/Makefile\n",
            "config.status: creating src/extensions/far/Makefile\n",
            "config.status: creating src/extensions/linear/Makefile\n",
            "config.status: creating src/extensions/lookahead/Makefile\n",
            "config.status: creating src/extensions/mpdt/Makefile\n",
            "config.status: creating src/extensions/ngram/Makefile\n",
            "config.status: creating src/extensions/pdt/Makefile\n",
            "config.status: creating src/extensions/python/Makefile\n",
            "config.status: creating src/extensions/special/Makefile\n",
            "config.status: creating src/script/Makefile\n",
            "config.status: creating config.h\n",
            "config.status: creating src/include/fst/config.h\n",
            "config.status: src/include/fst/config.h is unchanged\n",
            "config.status: executing depfiles commands\n",
            "config.status: executing libtool commands\n",
            "make  all-recursive\n",
            "make[1]: Entering directory '/content/openfst-1.6.1'\n",
            "Making all in src\n",
            "make[2]: Entering directory '/content/openfst-1.6.1/src'\n",
            "Making all in include\n",
            "make[3]: Entering directory '/content/openfst-1.6.1/src/include'\n",
            "make[3]: Nothing to be done for 'all'.\n",
            "make[3]: Leaving directory '/content/openfst-1.6.1/src/include'\n",
            "Making all in lib\n",
            "make[3]: Entering directory '/content/openfst-1.6.1/src/lib'\n",
            "depbase=`echo compat.lo | sed 's|[^/]*$|.deps/&|;s|\\.lo$||'`;\\\n",
            "/bin/bash ../../libtool  --tag=CXX   --mode=compile g++ -DHAVE_CONFIG_H   -I./../include  -fno-exceptions -funsigned-char  -std=c++11 -MT compat.lo -MD -MP -MF $depbase.Tpo -c -o compat.lo compat.cc &&\\\n",
            "mv -f $depbase.Tpo $depbase.Plo\n",
            "depbase=`echo flags.lo | sed 's|[^/]*$|.deps/&|;s|\\.lo$||'`;\\\n",
            "/bin/bash ../../libtool  --tag=CXX   --mode=compile g++ -DHAVE_CONFIG_H   -I./../include  -fno-exceptions -funsigned-char  -std=c++11 -MT flags.lo -MD -MP -MF $depbase.Tpo -c -o flags.lo flags.cc &&\\\n",
            "mv -f $depbase.Tpo $depbase.Plo\n",
            "depbase=`echo fst.lo | sed 's|[^/]*$|.deps/&|;s|\\.lo$||'`;\\\n",
            "/bin/bash ../../libtool  --tag=CXX   --mode=compile g++ -DHAVE_CONFIG_H   -I./../include  -fno-exceptions -funsigned-char  -std=c++11 -MT fst.lo -MD -MP -MF $depbase.Tpo -c -o fst.lo fst.cc &&\\\n",
            "mv -f $depbase.Tpo $depbase.Plo\n",
            "libtool: compile:  g++ -DHAVE_CONFIG_H -I./../include -fno-exceptions -funsigned-char -std=c++11 -MT compat.lo -MD -MP -MF .deps/compat.Tpo -c compat.cc  -fPIC -DPIC -o compat.o\n",
            "libtool: compile:  g++ -DHAVE_CONFIG_H -I./../include -fno-exceptions -funsigned-char -std=c++11 -MT flags.lo -MD -MP -MF .deps/flags.Tpo -c flags.cc  -fPIC -DPIC -o flags.o\n",
            "libtool: compile:  g++ -DHAVE_CONFIG_H -I./../include -fno-exceptions -funsigned-char -std=c++11 -MT fst.lo -MD -MP -MF .deps/fst.Tpo -c fst.cc  -fPIC -DPIC -o fst.o\n",
            "depbase=`echo properties.lo | sed 's|[^/]*$|.deps/&|;s|\\.lo$||'`;\\\n",
            "/bin/bash ../../libtool  --tag=CXX   --mode=compile g++ -DHAVE_CONFIG_H   -I./../include  -fno-exceptions -funsigned-char  -std=c++11 -MT properties.lo -MD -MP -MF $depbase.Tpo -c -o properties.lo properties.cc &&\\\n",
            "mv -f $depbase.Tpo $depbase.Plo\n",
            "libtool: compile:  g++ -DHAVE_CONFIG_H -I./../include -fno-exceptions -funsigned-char -std=c++11 -MT properties.lo -MD -MP -MF .deps/properties.Tpo -c properties.cc  -fPIC -DPIC -o properties.o\n",
            "depbase=`echo symbol-table.lo | sed 's|[^/]*$|.deps/&|;s|\\.lo$||'`;\\\n",
            "/bin/bash ../../libtool  --tag=CXX   --mode=compile g++ -DHAVE_CONFIG_H   -I./../include  -fno-exceptions -funsigned-char  -std=c++11 -MT symbol-table.lo -MD -MP -MF $depbase.Tpo -c -o symbol-table.lo symbol-table.cc &&\\\n",
            "mv -f $depbase.Tpo $depbase.Plo\n",
            "libtool: compile:  g++ -DHAVE_CONFIG_H -I./../include -fno-exceptions -funsigned-char -std=c++11 -MT symbol-table.lo -MD -MP -MF .deps/symbol-table.Tpo -c symbol-table.cc  -fPIC -DPIC -o symbol-table.o\n",
            "depbase=`echo util.lo | sed 's|[^/]*$|.deps/&|;s|\\.lo$||'`;\\\n",
            "/bin/bash ../../libtool  --tag=CXX   --mode=compile g++ -DHAVE_CONFIG_H   -I./../include  -fno-exceptions -funsigned-char  -std=c++11 -MT util.lo -MD -MP -MF $depbase.Tpo -c -o util.lo util.cc &&\\\n",
            "mv -f $depbase.Tpo $depbase.Plo\n",
            "libtool: compile:  g++ -DHAVE_CONFIG_H -I./../include -fno-exceptions -funsigned-char -std=c++11 -MT util.lo -MD -MP -MF .deps/util.Tpo -c util.cc  -fPIC -DPIC -o util.o\n",
            "depbase=`echo symbol-table-ops.lo | sed 's|[^/]*$|.deps/&|;s|\\.lo$||'`;\\\n",
            "/bin/bash ../../libtool  --tag=CXX   --mode=compile g++ -DHAVE_CONFIG_H   -I./../include  -fno-exceptions -funsigned-char  -std=c++11 -MT symbol-table-ops.lo -MD -MP -MF $depbase.Tpo -c -o symbol-table-ops.lo symbol-table-ops.cc &&\\\n",
            "mv -f $depbase.Tpo $depbase.Plo\n",
            "libtool: compile:  g++ -DHAVE_CONFIG_H -I./../include -fno-exceptions -funsigned-char -std=c++11 -MT symbol-table-ops.lo -MD -MP -MF .deps/symbol-table-ops.Tpo -c symbol-table-ops.cc  -fPIC -DPIC -o symbol-table-ops.o\n",
            "depbase=`echo mapped-file.lo | sed 's|[^/]*$|.deps/&|;s|\\.lo$||'`;\\\n",
            "/bin/bash ../../libtool  --tag=CXX   --mode=compile g++ -DHAVE_CONFIG_H   -I./../include  -fno-exceptions -funsigned-char  -std=c++11 -MT mapped-file.lo -MD -MP -MF $depbase.Tpo -c -o mapped-file.lo mapped-file.cc &&\\\n",
            "mv -f $depbase.Tpo $depbase.Plo\n",
            "libtool: compile:  g++ -DHAVE_CONFIG_H -I./../include -fno-exceptions -funsigned-char -std=c++11 -MT mapped-file.lo -MD -MP -MF .deps/mapped-file.Tpo -c mapped-file.cc  -fPIC -DPIC -o mapped-file.o\n",
            "depbase=`echo weight.lo | sed 's|[^/]*$|.deps/&|;s|\\.lo$||'`;\\\n",
            "/bin/bash ../../libtool  --tag=CXX   --mode=compile g++ -DHAVE_CONFIG_H   -I./../include  -fno-exceptions -funsigned-char  -std=c++11 -MT weight.lo -MD -MP -MF $depbase.Tpo -c -o weight.lo weight.cc &&\\\n",
            "mv -f $depbase.Tpo $depbase.Plo\n",
            "libtool: compile:  g++ -DHAVE_CONFIG_H -I./../include -fno-exceptions -funsigned-char -std=c++11 -MT weight.lo -MD -MP -MF .deps/weight.Tpo -c weight.cc  -fPIC -DPIC -o weight.o\n",
            "/bin/bash ../../libtool  --tag=CXX   --mode=link g++  -std=c++11 -version-info 6:0:0  -o libfst.la -rpath /usr/local/lib compat.lo flags.lo fst.lo properties.lo symbol-table.lo util.lo symbol-table-ops.lo mapped-file.lo weight.lo -ldl \n",
            "libtool: link: ar cru .libs/libfst.a  compat.o flags.o fst.o properties.o symbol-table.o util.o symbol-table-ops.o mapped-file.o weight.o\n",
            "ar: `u' modifier ignored since `D' is the default (see `U')\n",
            "libtool: link: ranlib .libs/libfst.a\n",
            "libtool: link: ( cd \".libs\" && rm -f \"libfst.la\" && ln -s \"../libfst.la\" \"libfst.la\" )\n",
            "make[3]: Leaving directory '/content/openfst-1.6.1/src/lib'\n",
            "Making all in script\n",
            "make[3]: Entering directory '/content/openfst-1.6.1/src/script'\n",
            "depbase=`echo arciterator-class.lo | sed 's|[^/]*$|.deps/&|;s|\\.lo$||'`;\\\n",
            "/bin/bash ../../libtool  --tag=CXX   --mode=compile g++ -DHAVE_CONFIG_H   -I./../include  -fno-exceptions -funsigned-char  -std=c++11 -MT arciterator-class.lo -MD -MP -MF $depbase.Tpo -c -o arciterator-class.lo arciterator-class.cc &&\\\n",
            "mv -f $depbase.Tpo $depbase.Plo\n",
            "depbase=`echo arcsort.lo | sed 's|[^/]*$|.deps/&|;s|\\.lo$||'`;\\\n",
            "/bin/bash ../../libtool  --tag=CXX   --mode=compile g++ -DHAVE_CONFIG_H   -I./../include  -fno-exceptions -funsigned-char  -std=c++11 -MT arcsort.lo -MD -MP -MF $depbase.Tpo -c -o arcsort.lo arcsort.cc &&\\\n",
            "mv -f $depbase.Tpo $depbase.Plo\n",
            "depbase=`echo closure.lo | sed 's|[^/]*$|.deps/&|;s|\\.lo$||'`;\\\n",
            "/bin/bash ../../libtool  --tag=CXX   --mode=compile g++ -DHAVE_CONFIG_H   -I./../include  -fno-exceptions -funsigned-char  -std=c++11 -MT closure.lo -MD -MP -MF $depbase.Tpo -c -o closure.lo closure.cc &&\\\n",
            "mv -f $depbase.Tpo $depbase.Plo\n",
            "libtool: compile:  g++ -DHAVE_CONFIG_H -I./../include -fno-exceptions -funsigned-char -std=c++11 -MT arcsort.lo -MD -MP -MF .deps/arcsort.Tpo -c arcsort.cc  -fPIC -DPIC -o arcsort.o\n",
            "libtool: compile:  g++ -DHAVE_CONFIG_H -I./../include -fno-exceptions -funsigned-char -std=c++11 -MT arciterator-class.lo -MD -MP -MF .deps/arciterator-class.Tpo -c arciterator-class.cc  -fPIC -DPIC -o arciterator-class.o\n",
            "libtool: compile:  g++ -DHAVE_CONFIG_H -I./../include -fno-exceptions -funsigned-char -std=c++11 -MT closure.lo -MD -MP -MF .deps/closure.Tpo -c closure.cc  -fPIC -DPIC -o closure.o\n",
            "depbase=`echo compile.lo | sed 's|[^/]*$|.deps/&|;s|\\.lo$||'`;\\\n",
            "/bin/bash ../../libtool  --tag=CXX   --mode=compile g++ -DHAVE_CONFIG_H   -I./../include  -fno-exceptions -funsigned-char  -std=c++11 -MT compile.lo -MD -MP -MF $depbase.Tpo -c -o compile.lo compile.cc &&\\\n",
            "mv -f $depbase.Tpo $depbase.Plo\n",
            "libtool: compile:  g++ -DHAVE_CONFIG_H -I./../include -fno-exceptions -funsigned-char -std=c++11 -MT compile.lo -MD -MP -MF .deps/compile.Tpo -c compile.cc  -fPIC -DPIC -o compile.o\n",
            "In file included from \u001b[01m\u001b[K./../include/fst/fstlib.h:123:0\u001b[m\u001b[K,\n",
            "                 from \u001b[01m\u001b[K./../include/fst/script/arciterator-class.h:10\u001b[m\u001b[K,\n",
            "                 from \u001b[01m\u001b[Karciterator-class.cc:4\u001b[m\u001b[K:\n",
            "\u001b[01m\u001b[K./../include/fst/string.h:117:54:\u001b[m\u001b[K \u001b[01;35m\u001b[Kwarning: \u001b[m\u001b[K'\u001b[01m\u001b[KTokenType\u001b[m\u001b[K' is deprecated: Use fst::StringTokenType [\u001b[01;35m\u001b[K-Wdeprecated-declarations\u001b[m\u001b[K]\n",
            "                           bool allow_negative = false\u001b[01;35m\u001b[K)\u001b[m\u001b[K\n",
            "                                                      \u001b[01;35m\u001b[K^\u001b[m\u001b[K\n",
            "\u001b[01m\u001b[K./../include/fst/string.h:107:55:\u001b[m\u001b[K \u001b[01;36m\u001b[Knote: \u001b[m\u001b[Kdeclared here\n",
            "   enum OPENFST_DEPRECATED(\"Use fst::StringTokenType\") \u001b[01;36m\u001b[KTokenType\u001b[m\u001b[K {\n",
            "                                                       \u001b[01;36m\u001b[K^~~~~~~~~\u001b[m\u001b[K\n",
            "\u001b[01m\u001b[K./../include/fst/string.h:207:59:\u001b[m\u001b[K \u001b[01;35m\u001b[Kwarning: \u001b[m\u001b[K'\u001b[01m\u001b[KTokenType\u001b[m\u001b[K' is deprecated: Use fst::StringTokenType [\u001b[01;35m\u001b[K-Wdeprecated-declarations\u001b[m\u001b[K]\n",
            "                          const SymbolTable *syms = nullptr\u001b[01;35m\u001b[K)\u001b[m\u001b[K\n",
            "                                                           \u001b[01;35m\u001b[K^\u001b[m\u001b[K\n",
            "\u001b[01m\u001b[K./../include/fst/string.h:199:55:\u001b[m\u001b[K \u001b[01;36m\u001b[Knote: \u001b[m\u001b[Kdeclared here\n",
            "   enum OPENFST_DEPRECATED(\"Use fst::StringTokenType\") \u001b[01;36m\u001b[KTokenType\u001b[m\u001b[K {\n",
            "                                                       \u001b[01;36m\u001b[K^~~~~~~~~\u001b[m\u001b[K\n",
            "depbase=`echo compose.lo | sed 's|[^/]*$|.deps/&|;s|\\.lo$||'`;\\\n",
            "/bin/bash ../../libtool  --tag=CXX   --mode=compile g++ -DHAVE_CONFIG_H   -I./../include  -fno-exceptions -funsigned-char  -std=c++11 -MT compose.lo -MD -MP -MF $depbase.Tpo -c -o compose.lo compose.cc &&\\\n",
            "mv -f $depbase.Tpo $depbase.Plo\n",
            "libtool: compile:  g++ -DHAVE_CONFIG_H -I./../include -fno-exceptions -funsigned-char -std=c++11 -MT compose.lo -MD -MP -MF .deps/compose.Tpo -c compose.cc  -fPIC -DPIC -o compose.o\n",
            "depbase=`echo concat.lo | sed 's|[^/]*$|.deps/&|;s|\\.lo$||'`;\\\n",
            "/bin/bash ../../libtool  --tag=CXX   --mode=compile g++ -DHAVE_CONFIG_H   -I./../include  -fno-exceptions -funsigned-char  -std=c++11 -MT concat.lo -MD -MP -MF $depbase.Tpo -c -o concat.lo concat.cc &&\\\n",
            "mv -f $depbase.Tpo $depbase.Plo\n",
            "libtool: compile:  g++ -DHAVE_CONFIG_H -I./../include -fno-exceptions -funsigned-char -std=c++11 -MT concat.lo -MD -MP -MF .deps/concat.Tpo -c concat.cc  -fPIC -DPIC -o concat.o\n",
            "depbase=`echo connect.lo | sed 's|[^/]*$|.deps/&|;s|\\.lo$||'`;\\\n",
            "/bin/bash ../../libtool  --tag=CXX   --mode=compile g++ -DHAVE_CONFIG_H   -I./../include  -fno-exceptions -funsigned-char  -std=c++11 -MT connect.lo -MD -MP -MF $depbase.Tpo -c -o connect.lo connect.cc &&\\\n",
            "mv -f $depbase.Tpo $depbase.Plo\n",
            "libtool: compile:  g++ -DHAVE_CONFIG_H -I./../include -fno-exceptions -funsigned-char -std=c++11 -MT connect.lo -MD -MP -MF .deps/connect.Tpo -c connect.cc  -fPIC -DPIC -o connect.o\n",
            "depbase=`echo convert.lo | sed 's|[^/]*$|.deps/&|;s|\\.lo$||'`;\\\n",
            "/bin/bash ../../libtool  --tag=CXX   --mode=compile g++ -DHAVE_CONFIG_H   -I./../include  -fno-exceptions -funsigned-char  -std=c++11 -MT convert.lo -MD -MP -MF $depbase.Tpo -c -o convert.lo convert.cc &&\\\n",
            "mv -f $depbase.Tpo $depbase.Plo\n",
            "libtool: compile:  g++ -DHAVE_CONFIG_H -I./../include -fno-exceptions -funsigned-char -std=c++11 -MT convert.lo -MD -MP -MF .deps/convert.Tpo -c convert.cc  -fPIC -DPIC -o convert.o\n",
            "depbase=`echo decode.lo | sed 's|[^/]*$|.deps/&|;s|\\.lo$||'`;\\\n",
            "/bin/bash ../../libtool  --tag=CXX   --mode=compile g++ -DHAVE_CONFIG_H   -I./../include  -fno-exceptions -funsigned-char  -std=c++11 -MT decode.lo -MD -MP -MF $depbase.Tpo -c -o decode.lo decode.cc &&\\\n",
            "mv -f $depbase.Tpo $depbase.Plo\n",
            "libtool: compile:  g++ -DHAVE_CONFIG_H -I./../include -fno-exceptions -funsigned-char -std=c++11 -MT decode.lo -MD -MP -MF .deps/decode.Tpo -c decode.cc  -fPIC -DPIC -o decode.o\n",
            "depbase=`echo determinize.lo | sed 's|[^/]*$|.deps/&|;s|\\.lo$||'`;\\\n",
            "/bin/bash ../../libtool  --tag=CXX   --mode=compile g++ -DHAVE_CONFIG_H   -I./../include  -fno-exceptions -funsigned-char  -std=c++11 -MT determinize.lo -MD -MP -MF $depbase.Tpo -c -o determinize.lo determinize.cc &&\\\n",
            "mv -f $depbase.Tpo $depbase.Plo\n",
            "libtool: compile:  g++ -DHAVE_CONFIG_H -I./../include -fno-exceptions -funsigned-char -std=c++11 -MT determinize.lo -MD -MP -MF .deps/determinize.Tpo -c determinize.cc  -fPIC -DPIC -o determinize.o\n",
            "In file included from \u001b[01m\u001b[K./../include/fst/fstlib.h:123:0\u001b[m\u001b[K,\n",
            "                 from \u001b[01m\u001b[K./../include/fst/script/encodemapper-class.h:11\u001b[m\u001b[K,\n",
            "                 from \u001b[01m\u001b[K./../include/fst/script/decode.h:12\u001b[m\u001b[K,\n",
            "                 from \u001b[01m\u001b[Kdecode.cc:6\u001b[m\u001b[K:\n",
            "\u001b[01m\u001b[K./../include/fst/string.h:117:54:\u001b[m\u001b[K \u001b[01;35m\u001b[Kwarning: \u001b[m\u001b[K'\u001b[01m\u001b[KTokenType\u001b[m\u001b[K' is deprecated: Use fst::StringTokenType [\u001b[01;35m\u001b[K-Wdeprecated-declarations\u001b[m\u001b[K]\n",
            "                           bool allow_negative = false\u001b[01;35m\u001b[K)\u001b[m\u001b[K\n",
            "                                                      \u001b[01;35m\u001b[K^\u001b[m\u001b[K\n",
            "\u001b[01m\u001b[K./../include/fst/string.h:107:55:\u001b[m\u001b[K \u001b[01;36m\u001b[Knote: \u001b[m\u001b[Kdeclared here\n",
            "   enum OPENFST_DEPRECATED(\"Use fst::StringTokenType\") \u001b[01;36m\u001b[KTokenType\u001b[m\u001b[K {\n",
            "                                                       \u001b[01;36m\u001b[K^~~~~~~~~\u001b[m\u001b[K\n",
            "\u001b[01m\u001b[K./../include/fst/string.h:207:59:\u001b[m\u001b[K \u001b[01;35m\u001b[Kwarning: \u001b[m\u001b[K'\u001b[01m\u001b[KTokenType\u001b[m\u001b[K' is deprecated: Use fst::StringTokenType [\u001b[01;35m\u001b[K-Wdeprecated-declarations\u001b[m\u001b[K]\n",
            "                          const SymbolTable *syms = nullptr\u001b[01;35m\u001b[K)\u001b[m\u001b[K\n",
            "                                                           \u001b[01;35m\u001b[K^\u001b[m\u001b[K\n",
            "\u001b[01m\u001b[K./../include/fst/string.h:199:55:\u001b[m\u001b[K \u001b[01;36m\u001b[Knote: \u001b[m\u001b[Kdeclared here\n",
            "   enum OPENFST_DEPRECATED(\"Use fst::StringTokenType\") \u001b[01;36m\u001b[KTokenType\u001b[m\u001b[K {\n",
            "                                                       \u001b[01;36m\u001b[K^~~~~~~~~\u001b[m\u001b[K\n",
            "depbase=`echo difference.lo | sed 's|[^/]*$|.deps/&|;s|\\.lo$||'`;\\\n",
            "/bin/bash ../../libtool  --tag=CXX   --mode=compile g++ -DHAVE_CONFIG_H   -I./../include  -fno-exceptions -funsigned-char  -std=c++11 -MT difference.lo -MD -MP -MF $depbase.Tpo -c -o difference.lo difference.cc &&\\\n",
            "mv -f $depbase.Tpo $depbase.Plo\n",
            "libtool: compile:  g++ -DHAVE_CONFIG_H -I./../include -fno-exceptions -funsigned-char -std=c++11 -MT difference.lo -MD -MP -MF .deps/difference.Tpo -c difference.cc  -fPIC -DPIC -o difference.o\n",
            "depbase=`echo disambiguate.lo | sed 's|[^/]*$|.deps/&|;s|\\.lo$||'`;\\\n",
            "/bin/bash ../../libtool  --tag=CXX   --mode=compile g++ -DHAVE_CONFIG_H   -I./../include  -fno-exceptions -funsigned-char  -std=c++11 -MT disambiguate.lo -MD -MP -MF $depbase.Tpo -c -o disambiguate.lo disambiguate.cc &&\\\n",
            "mv -f $depbase.Tpo $depbase.Plo\n",
            "libtool: compile:  g++ -DHAVE_CONFIG_H -I./../include -fno-exceptions -funsigned-char -std=c++11 -MT disambiguate.lo -MD -MP -MF .deps/disambiguate.Tpo -c disambiguate.cc  -fPIC -DPIC -o disambiguate.o\n",
            "depbase=`echo draw.lo | sed 's|[^/]*$|.deps/&|;s|\\.lo$||'`;\\\n",
            "/bin/bash ../../libtool  --tag=CXX   --mode=compile g++ -DHAVE_CONFIG_H   -I./../include  -fno-exceptions -funsigned-char  -std=c++11 -MT draw.lo -MD -MP -MF $depbase.Tpo -c -o draw.lo draw.cc &&\\\n",
            "mv -f $depbase.Tpo $depbase.Plo\n",
            "libtool: compile:  g++ -DHAVE_CONFIG_H -I./../include -fno-exceptions -funsigned-char -std=c++11 -MT draw.lo -MD -MP -MF .deps/draw.Tpo -c draw.cc  -fPIC -DPIC -o draw.o\n",
            "depbase=`echo encode.lo | sed 's|[^/]*$|.deps/&|;s|\\.lo$||'`;\\\n",
            "/bin/bash ../../libtool  --tag=CXX   --mode=compile g++ -DHAVE_CONFIG_H   -I./../include  -fno-exceptions -funsigned-char  -std=c++11 -MT encode.lo -MD -MP -MF $depbase.Tpo -c -o encode.lo encode.cc &&\\\n",
            "mv -f $depbase.Tpo $depbase.Plo\n",
            "libtool: compile:  g++ -DHAVE_CONFIG_H -I./../include -fno-exceptions -funsigned-char -std=c++11 -MT encode.lo -MD -MP -MF .deps/encode.Tpo -c encode.cc  -fPIC -DPIC -o encode.o\n",
            "In file included from \u001b[01m\u001b[K./../include/fst/fstlib.h:123:0\u001b[m\u001b[K,\n",
            "                 from \u001b[01m\u001b[K./../include/fst/script/encodemapper-class.h:11\u001b[m\u001b[K,\n",
            "                 from \u001b[01m\u001b[K./../include/fst/script/encode.h:12\u001b[m\u001b[K,\n",
            "                 from \u001b[01m\u001b[Kencode.cc:6\u001b[m\u001b[K:\n",
            "\u001b[01m\u001b[K./../include/fst/string.h:117:54:\u001b[m\u001b[K \u001b[01;35m\u001b[Kwarning: \u001b[m\u001b[K'\u001b[01m\u001b[KTokenType\u001b[m\u001b[K' is deprecated: Use fst::StringTokenType [\u001b[01;35m\u001b[K-Wdeprecated-declarations\u001b[m\u001b[K]\n",
            "                           bool allow_negative = false\u001b[01;35m\u001b[K)\u001b[m\u001b[K\n",
            "                                                      \u001b[01;35m\u001b[K^\u001b[m\u001b[K\n",
            "\u001b[01m\u001b[K./../include/fst/string.h:107:55:\u001b[m\u001b[K \u001b[01;36m\u001b[Knote: \u001b[m\u001b[Kdeclared here\n",
            "   enum OPENFST_DEPRECATED(\"Use fst::StringTokenType\") \u001b[01;36m\u001b[KTokenType\u001b[m\u001b[K {\n",
            "                                                       \u001b[01;36m\u001b[K^~~~~~~~~\u001b[m\u001b[K\n",
            "\u001b[01m\u001b[K./../include/fst/string.h:207:59:\u001b[m\u001b[K \u001b[01;35m\u001b[Kwarning: \u001b[m\u001b[K'\u001b[01m\u001b[KTokenType\u001b[m\u001b[K' is deprecated: Use fst::StringTokenType [\u001b[01;35m\u001b[K-Wdeprecated-declarations\u001b[m\u001b[K]\n",
            "                          const SymbolTable *syms = nullptr\u001b[01;35m\u001b[K)\u001b[m\u001b[K\n",
            "                                                           \u001b[01;35m\u001b[K^\u001b[m\u001b[K\n",
            "\u001b[01m\u001b[K./../include/fst/string.h:199:55:\u001b[m\u001b[K \u001b[01;36m\u001b[Knote: \u001b[m\u001b[Kdeclared here\n",
            "   enum OPENFST_DEPRECATED(\"Use fst::StringTokenType\") \u001b[01;36m\u001b[KTokenType\u001b[m\u001b[K {\n",
            "                                                       \u001b[01;36m\u001b[K^~~~~~~~~\u001b[m\u001b[K\n",
            "depbase=`echo encodemapper-class.lo | sed 's|[^/]*$|.deps/&|;s|\\.lo$||'`;\\\n",
            "/bin/bash ../../libtool  --tag=CXX   --mode=compile g++ -DHAVE_CONFIG_H   -I./../include  -fno-exceptions -funsigned-char  -std=c++11 -MT encodemapper-class.lo -MD -MP -MF $depbase.Tpo -c -o encodemapper-class.lo encodemapper-class.cc &&\\\n",
            "mv -f $depbase.Tpo $depbase.Plo\n",
            "libtool: compile:  g++ -DHAVE_CONFIG_H -I./../include -fno-exceptions -funsigned-char -std=c++11 -MT encodemapper-class.lo -MD -MP -MF .deps/encodemapper-class.Tpo -c encodemapper-class.cc  -fPIC -DPIC -o encodemapper-class.o\n",
            "In file included from \u001b[01m\u001b[K./../include/fst/fstlib.h:123:0\u001b[m\u001b[K,\n",
            "                 from \u001b[01m\u001b[K./../include/fst/script/encodemapper-class.h:11\u001b[m\u001b[K,\n",
            "                 from \u001b[01m\u001b[Kencodemapper-class.cc:4\u001b[m\u001b[K:\n",
            "\u001b[01m\u001b[K./../include/fst/string.h:117:54:\u001b[m\u001b[K \u001b[01;35m\u001b[Kwarning: \u001b[m\u001b[K'\u001b[01m\u001b[KTokenType\u001b[m\u001b[K' is deprecated: Use fst::StringTokenType [\u001b[01;35m\u001b[K-Wdeprecated-declarations\u001b[m\u001b[K]\n",
            "                           bool allow_negative = false\u001b[01;35m\u001b[K)\u001b[m\u001b[K\n",
            "                                                      \u001b[01;35m\u001b[K^\u001b[m\u001b[K\n",
            "\u001b[01m\u001b[K./../include/fst/string.h:107:55:\u001b[m\u001b[K \u001b[01;36m\u001b[Knote: \u001b[m\u001b[Kdeclared here\n",
            "   enum OPENFST_DEPRECATED(\"Use fst::StringTokenType\") \u001b[01;36m\u001b[KTokenType\u001b[m\u001b[K {\n",
            "                                                       \u001b[01;36m\u001b[K^~~~~~~~~\u001b[m\u001b[K\n",
            "\u001b[01m\u001b[K./../include/fst/string.h:207:59:\u001b[m\u001b[K \u001b[01;35m\u001b[Kwarning: \u001b[m\u001b[K'\u001b[01m\u001b[KTokenType\u001b[m\u001b[K' is deprecated: Use fst::StringTokenType [\u001b[01;35m\u001b[K-Wdeprecated-declarations\u001b[m\u001b[K]\n",
            "                          const SymbolTable *syms = nullptr\u001b[01;35m\u001b[K)\u001b[m\u001b[K\n",
            "                                                           \u001b[01;35m\u001b[K^\u001b[m\u001b[K\n",
            "\u001b[01m\u001b[K./../include/fst/string.h:199:55:\u001b[m\u001b[K \u001b[01;36m\u001b[Knote: \u001b[m\u001b[Kdeclared here\n",
            "   enum OPENFST_DEPRECATED(\"Use fst::StringTokenType\") \u001b[01;36m\u001b[KTokenType\u001b[m\u001b[K {\n",
            "                                                       \u001b[01;36m\u001b[K^~~~~~~~~\u001b[m\u001b[K\n",
            "depbase=`echo epsnormalize.lo | sed 's|[^/]*$|.deps/&|;s|\\.lo$||'`;\\\n",
            "/bin/bash ../../libtool  --tag=CXX   --mode=compile g++ -DHAVE_CONFIG_H   -I./../include  -fno-exceptions -funsigned-char  -std=c++11 -MT epsnormalize.lo -MD -MP -MF $depbase.Tpo -c -o epsnormalize.lo epsnormalize.cc &&\\\n",
            "mv -f $depbase.Tpo $depbase.Plo\n",
            "libtool: compile:  g++ -DHAVE_CONFIG_H -I./../include -fno-exceptions -funsigned-char -std=c++11 -MT epsnormalize.lo -MD -MP -MF .deps/epsnormalize.Tpo -c epsnormalize.cc  -fPIC -DPIC -o epsnormalize.o\n",
            "depbase=`echo equal.lo | sed 's|[^/]*$|.deps/&|;s|\\.lo$||'`;\\\n",
            "/bin/bash ../../libtool  --tag=CXX   --mode=compile g++ -DHAVE_CONFIG_H   -I./../include  -fno-exceptions -funsigned-char  -std=c++11 -MT equal.lo -MD -MP -MF $depbase.Tpo -c -o equal.lo equal.cc &&\\\n",
            "mv -f $depbase.Tpo $depbase.Plo\n",
            "libtool: compile:  g++ -DHAVE_CONFIG_H -I./../include -fno-exceptions -funsigned-char -std=c++11 -MT equal.lo -MD -MP -MF .deps/equal.Tpo -c equal.cc  -fPIC -DPIC -o equal.o\n",
            "depbase=`echo equivalent.lo | sed 's|[^/]*$|.deps/&|;s|\\.lo$||'`;\\\n",
            "/bin/bash ../../libtool  --tag=CXX   --mode=compile g++ -DHAVE_CONFIG_H   -I./../include  -fno-exceptions -funsigned-char  -std=c++11 -MT equivalent.lo -MD -MP -MF $depbase.Tpo -c -o equivalent.lo equivalent.cc &&\\\n",
            "mv -f $depbase.Tpo $depbase.Plo\n",
            "libtool: compile:  g++ -DHAVE_CONFIG_H -I./../include -fno-exceptions -funsigned-char -std=c++11 -MT equivalent.lo -MD -MP -MF .deps/equivalent.Tpo -c equivalent.cc  -fPIC -DPIC -o equivalent.o\n",
            "depbase=`echo fst-class.lo | sed 's|[^/]*$|.deps/&|;s|\\.lo$||'`;\\\n",
            "/bin/bash ../../libtool  --tag=CXX   --mode=compile g++ -DHAVE_CONFIG_H   -I./../include  -fno-exceptions -funsigned-char  -std=c++11 -MT fst-class.lo -MD -MP -MF $depbase.Tpo -c -o fst-class.lo fst-class.cc &&\\\n",
            "mv -f $depbase.Tpo $depbase.Plo\n",
            "libtool: compile:  g++ -DHAVE_CONFIG_H -I./../include -fno-exceptions -funsigned-char -std=c++11 -MT fst-class.lo -MD -MP -MF .deps/fst-class.Tpo -c fst-class.cc  -fPIC -DPIC -o fst-class.o\n",
            "depbase=`echo getters.lo | sed 's|[^/]*$|.deps/&|;s|\\.lo$||'`;\\\n",
            "/bin/bash ../../libtool  --tag=CXX   --mode=compile g++ -DHAVE_CONFIG_H   -I./../include  -fno-exceptions -funsigned-char  -std=c++11 -MT getters.lo -MD -MP -MF $depbase.Tpo -c -o getters.lo getters.cc &&\\\n",
            "mv -f $depbase.Tpo $depbase.Plo\n",
            "libtool: compile:  g++ -DHAVE_CONFIG_H -I./../include -fno-exceptions -funsigned-char -std=c++11 -MT getters.lo -MD -MP -MF .deps/getters.Tpo -c getters.cc  -fPIC -DPIC -o getters.o\n",
            "depbase=`echo info.lo | sed 's|[^/]*$|.deps/&|;s|\\.lo$||'`;\\\n",
            "/bin/bash ../../libtool  --tag=CXX   --mode=compile g++ -DHAVE_CONFIG_H   -I./../include  -fno-exceptions -funsigned-char  -std=c++11 -MT info.lo -MD -MP -MF $depbase.Tpo -c -o info.lo info.cc &&\\\n",
            "mv -f $depbase.Tpo $depbase.Plo\n",
            "libtool: compile:  g++ -DHAVE_CONFIG_H -I./../include -fno-exceptions -funsigned-char -std=c++11 -MT info.lo -MD -MP -MF .deps/info.Tpo -c info.cc  -fPIC -DPIC -o info.o\n",
            "depbase=`echo intersect.lo | sed 's|[^/]*$|.deps/&|;s|\\.lo$||'`;\\\n",
            "/bin/bash ../../libtool  --tag=CXX   --mode=compile g++ -DHAVE_CONFIG_H   -I./../include  -fno-exceptions -funsigned-char  -std=c++11 -MT intersect.lo -MD -MP -MF $depbase.Tpo -c -o intersect.lo intersect.cc &&\\\n",
            "mv -f $depbase.Tpo $depbase.Plo\n",
            "libtool: compile:  g++ -DHAVE_CONFIG_H -I./../include -fno-exceptions -funsigned-char -std=c++11 -MT intersect.lo -MD -MP -MF .deps/intersect.Tpo -c intersect.cc  -fPIC -DPIC -o intersect.o\n",
            "depbase=`echo invert.lo | sed 's|[^/]*$|.deps/&|;s|\\.lo$||'`;\\\n",
            "/bin/bash ../../libtool  --tag=CXX   --mode=compile g++ -DHAVE_CONFIG_H   -I./../include  -fno-exceptions -funsigned-char  -std=c++11 -MT invert.lo -MD -MP -MF $depbase.Tpo -c -o invert.lo invert.cc &&\\\n",
            "mv -f $depbase.Tpo $depbase.Plo\n",
            "libtool: compile:  g++ -DHAVE_CONFIG_H -I./../include -fno-exceptions -funsigned-char -std=c++11 -MT invert.lo -MD -MP -MF .deps/invert.Tpo -c invert.cc  -fPIC -DPIC -o invert.o\n",
            "depbase=`echo isomorphic.lo | sed 's|[^/]*$|.deps/&|;s|\\.lo$||'`;\\\n",
            "/bin/bash ../../libtool  --tag=CXX   --mode=compile g++ -DHAVE_CONFIG_H   -I./../include  -fno-exceptions -funsigned-char  -std=c++11 -MT isomorphic.lo -MD -MP -MF $depbase.Tpo -c -o isomorphic.lo isomorphic.cc &&\\\n",
            "mv -f $depbase.Tpo $depbase.Plo\n",
            "libtool: compile:  g++ -DHAVE_CONFIG_H -I./../include -fno-exceptions -funsigned-char -std=c++11 -MT isomorphic.lo -MD -MP -MF .deps/isomorphic.Tpo -c isomorphic.cc  -fPIC -DPIC -o isomorphic.o\n",
            "depbase=`echo map.lo | sed 's|[^/]*$|.deps/&|;s|\\.lo$||'`;\\\n",
            "/bin/bash ../../libtool  --tag=CXX   --mode=compile g++ -DHAVE_CONFIG_H   -I./../include  -fno-exceptions -funsigned-char  -std=c++11 -MT map.lo -MD -MP -MF $depbase.Tpo -c -o map.lo map.cc &&\\\n",
            "mv -f $depbase.Tpo $depbase.Plo\n",
            "libtool: compile:  g++ -DHAVE_CONFIG_H -I./../include -fno-exceptions -funsigned-char -std=c++11 -MT map.lo -MD -MP -MF .deps/map.Tpo -c map.cc  -fPIC -DPIC -o map.o\n",
            "depbase=`echo minimize.lo | sed 's|[^/]*$|.deps/&|;s|\\.lo$||'`;\\\n",
            "/bin/bash ../../libtool  --tag=CXX   --mode=compile g++ -DHAVE_CONFIG_H   -I./../include  -fno-exceptions -funsigned-char  -std=c++11 -MT minimize.lo -MD -MP -MF $depbase.Tpo -c -o minimize.lo minimize.cc &&\\\n",
            "mv -f $depbase.Tpo $depbase.Plo\n",
            "libtool: compile:  g++ -DHAVE_CONFIG_H -I./../include -fno-exceptions -funsigned-char -std=c++11 -MT minimize.lo -MD -MP -MF .deps/minimize.Tpo -c minimize.cc  -fPIC -DPIC -o minimize.o\n",
            "depbase=`echo print.lo | sed 's|[^/]*$|.deps/&|;s|\\.lo$||'`;\\\n",
            "/bin/bash ../../libtool  --tag=CXX   --mode=compile g++ -DHAVE_CONFIG_H   -I./../include  -fno-exceptions -funsigned-char  -std=c++11 -MT print.lo -MD -MP -MF $depbase.Tpo -c -o print.lo print.cc &&\\\n",
            "mv -f $depbase.Tpo $depbase.Plo\n",
            "libtool: compile:  g++ -DHAVE_CONFIG_H -I./../include -fno-exceptions -funsigned-char -std=c++11 -MT print.lo -MD -MP -MF .deps/print.Tpo -c print.cc  -fPIC -DPIC -o print.o\n",
            "depbase=`echo project.lo | sed 's|[^/]*$|.deps/&|;s|\\.lo$||'`;\\\n",
            "/bin/bash ../../libtool  --tag=CXX   --mode=compile g++ -DHAVE_CONFIG_H   -I./../include  -fno-exceptions -funsigned-char  -std=c++11 -MT project.lo -MD -MP -MF $depbase.Tpo -c -o project.lo project.cc &&\\\n",
            "mv -f $depbase.Tpo $depbase.Plo\n",
            "libtool: compile:  g++ -DHAVE_CONFIG_H -I./../include -fno-exceptions -funsigned-char -std=c++11 -MT project.lo -MD -MP -MF .deps/project.Tpo -c project.cc  -fPIC -DPIC -o project.o\n",
            "In file included from \u001b[01m\u001b[K./../include/fst/fstlib.h:123:0\u001b[m\u001b[K,\n",
            "                 from \u001b[01m\u001b[K./../include/fst/script/print-impl.h:14\u001b[m\u001b[K,\n",
            "                 from \u001b[01m\u001b[K./../include/fst/script/print.h:11\u001b[m\u001b[K,\n",
            "                 from \u001b[01m\u001b[Kprint.cc:8\u001b[m\u001b[K:\n",
            "\u001b[01m\u001b[K./../include/fst/string.h:117:54:\u001b[m\u001b[K \u001b[01;35m\u001b[Kwarning: \u001b[m\u001b[K'\u001b[01m\u001b[KTokenType\u001b[m\u001b[K' is deprecated: Use fst::StringTokenType [\u001b[01;35m\u001b[K-Wdeprecated-declarations\u001b[m\u001b[K]\n",
            "                           bool allow_negative = false\u001b[01;35m\u001b[K)\u001b[m\u001b[K\n",
            "                                                      \u001b[01;35m\u001b[K^\u001b[m\u001b[K\n",
            "\u001b[01m\u001b[K./../include/fst/string.h:107:55:\u001b[m\u001b[K \u001b[01;36m\u001b[Knote: \u001b[m\u001b[Kdeclared here\n",
            "   enum OPENFST_DEPRECATED(\"Use fst::StringTokenType\") \u001b[01;36m\u001b[KTokenType\u001b[m\u001b[K {\n",
            "                                                       \u001b[01;36m\u001b[K^~~~~~~~~\u001b[m\u001b[K\n",
            "\u001b[01m\u001b[K./../include/fst/string.h:207:59:\u001b[m\u001b[K \u001b[01;35m\u001b[Kwarning: \u001b[m\u001b[K'\u001b[01m\u001b[KTokenType\u001b[m\u001b[K' is deprecated: Use fst::StringTokenType [\u001b[01;35m\u001b[K-Wdeprecated-declarations\u001b[m\u001b[K]\n",
            "                          const SymbolTable *syms = nullptr\u001b[01;35m\u001b[K)\u001b[m\u001b[K\n",
            "                                                           \u001b[01;35m\u001b[K^\u001b[m\u001b[K\n",
            "\u001b[01m\u001b[K./../include/fst/string.h:199:55:\u001b[m\u001b[K \u001b[01;36m\u001b[Knote: \u001b[m\u001b[Kdeclared here\n",
            "   enum OPENFST_DEPRECATED(\"Use fst::StringTokenType\") \u001b[01;36m\u001b[KTokenType\u001b[m\u001b[K {\n",
            "                                                       \u001b[01;36m\u001b[K^~~~~~~~~\u001b[m\u001b[K\n",
            "depbase=`echo prune.lo | sed 's|[^/]*$|.deps/&|;s|\\.lo$||'`;\\\n",
            "/bin/bash ../../libtool  --tag=CXX   --mode=compile g++ -DHAVE_CONFIG_H   -I./../include  -fno-exceptions -funsigned-char  -std=c++11 -MT prune.lo -MD -MP -MF $depbase.Tpo -c -o prune.lo prune.cc &&\\\n",
            "mv -f $depbase.Tpo $depbase.Plo\n",
            "depbase=`echo push.lo | sed 's|[^/]*$|.deps/&|;s|\\.lo$||'`;\\\n",
            "/bin/bash ../../libtool  --tag=CXX   --mode=compile g++ -DHAVE_CONFIG_H   -I./../include  -fno-exceptions -funsigned-char  -std=c++11 -MT push.lo -MD -MP -MF $depbase.Tpo -c -o push.lo push.cc &&\\\n",
            "mv -f $depbase.Tpo $depbase.Plo\n",
            "libtool: compile:  g++ -DHAVE_CONFIG_H -I./../include -fno-exceptions -funsigned-char -std=c++11 -MT prune.lo -MD -MP -MF .deps/prune.Tpo -c prune.cc  -fPIC -DPIC -o prune.o\n",
            "libtool: compile:  g++ -DHAVE_CONFIG_H -I./../include -fno-exceptions -funsigned-char -std=c++11 -MT push.lo -MD -MP -MF .deps/push.Tpo -c push.cc  -fPIC -DPIC -o push.o\n",
            "depbase=`echo randequivalent.lo | sed 's|[^/]*$|.deps/&|;s|\\.lo$||'`;\\\n",
            "/bin/bash ../../libtool  --tag=CXX   --mode=compile g++ -DHAVE_CONFIG_H   -I./../include  -fno-exceptions -funsigned-char  -std=c++11 -MT randequivalent.lo -MD -MP -MF $depbase.Tpo -c -o randequivalent.lo randequivalent.cc &&\\\n",
            "mv -f $depbase.Tpo $depbase.Plo\n",
            "libtool: compile:  g++ -DHAVE_CONFIG_H -I./../include -fno-exceptions -funsigned-char -std=c++11 -MT randequivalent.lo -MD -MP -MF .deps/randequivalent.Tpo -c randequivalent.cc  -fPIC -DPIC -o randequivalent.o\n",
            "depbase=`echo randgen.lo | sed 's|[^/]*$|.deps/&|;s|\\.lo$||'`;\\\n",
            "/bin/bash ../../libtool  --tag=CXX   --mode=compile g++ -DHAVE_CONFIG_H   -I./../include  -fno-exceptions -funsigned-char  -std=c++11 -MT randgen.lo -MD -MP -MF $depbase.Tpo -c -o randgen.lo randgen.cc &&\\\n",
            "mv -f $depbase.Tpo $depbase.Plo\n",
            "libtool: compile:  g++ -DHAVE_CONFIG_H -I./../include -fno-exceptions -funsigned-char -std=c++11 -MT randgen.lo -MD -MP -MF .deps/randgen.Tpo -c randgen.cc  -fPIC -DPIC -o randgen.o\n",
            "depbase=`echo relabel.lo | sed 's|[^/]*$|.deps/&|;s|\\.lo$||'`;\\\n",
            "/bin/bash ../../libtool  --tag=CXX   --mode=compile g++ -DHAVE_CONFIG_H   -I./../include  -fno-exceptions -funsigned-char  -std=c++11 -MT relabel.lo -MD -MP -MF $depbase.Tpo -c -o relabel.lo relabel.cc &&\\\n",
            "mv -f $depbase.Tpo $depbase.Plo\n",
            "libtool: compile:  g++ -DHAVE_CONFIG_H -I./../include -fno-exceptions -funsigned-char -std=c++11 -MT relabel.lo -MD -MP -MF .deps/relabel.Tpo -c relabel.cc  -fPIC -DPIC -o relabel.o\n",
            "depbase=`echo replace.lo | sed 's|[^/]*$|.deps/&|;s|\\.lo$||'`;\\\n",
            "/bin/bash ../../libtool  --tag=CXX   --mode=compile g++ -DHAVE_CONFIG_H   -I./../include  -fno-exceptions -funsigned-char  -std=c++11 -MT replace.lo -MD -MP -MF $depbase.Tpo -c -o replace.lo replace.cc &&\\\n",
            "mv -f $depbase.Tpo $depbase.Plo\n",
            "libtool: compile:  g++ -DHAVE_CONFIG_H -I./../include -fno-exceptions -funsigned-char -std=c++11 -MT replace.lo -MD -MP -MF .deps/replace.Tpo -c replace.cc  -fPIC -DPIC -o replace.o\n",
            "depbase=`echo reverse.lo | sed 's|[^/]*$|.deps/&|;s|\\.lo$||'`;\\\n",
            "/bin/bash ../../libtool  --tag=CXX   --mode=compile g++ -DHAVE_CONFIG_H   -I./../include  -fno-exceptions -funsigned-char  -std=c++11 -MT reverse.lo -MD -MP -MF $depbase.Tpo -c -o reverse.lo reverse.cc &&\\\n",
            "mv -f $depbase.Tpo $depbase.Plo\n",
            "libtool: compile:  g++ -DHAVE_CONFIG_H -I./../include -fno-exceptions -funsigned-char -std=c++11 -MT reverse.lo -MD -MP -MF .deps/reverse.Tpo -c reverse.cc  -fPIC -DPIC -o reverse.o\n",
            "depbase=`echo reweight.lo | sed 's|[^/]*$|.deps/&|;s|\\.lo$||'`;\\\n",
            "/bin/bash ../../libtool  --tag=CXX   --mode=compile g++ -DHAVE_CONFIG_H   -I./../include  -fno-exceptions -funsigned-char  -std=c++11 -MT reweight.lo -MD -MP -MF $depbase.Tpo -c -o reweight.lo reweight.cc &&\\\n",
            "mv -f $depbase.Tpo $depbase.Plo\n",
            "libtool: compile:  g++ -DHAVE_CONFIG_H -I./../include -fno-exceptions -funsigned-char -std=c++11 -MT reweight.lo -MD -MP -MF .deps/reweight.Tpo -c reweight.cc  -fPIC -DPIC -o reweight.o\n",
            "depbase=`echo rmepsilon.lo | sed 's|[^/]*$|.deps/&|;s|\\.lo$||'`;\\\n",
            "/bin/bash ../../libtool  --tag=CXX   --mode=compile g++ -DHAVE_CONFIG_H   -I./../include  -fno-exceptions -funsigned-char  -std=c++11 -MT rmepsilon.lo -MD -MP -MF $depbase.Tpo -c -o rmepsilon.lo rmepsilon.cc &&\\\n",
            "mv -f $depbase.Tpo $depbase.Plo\n",
            "libtool: compile:  g++ -DHAVE_CONFIG_H -I./../include -fno-exceptions -funsigned-char -std=c++11 -MT rmepsilon.lo -MD -MP -MF .deps/rmepsilon.Tpo -c rmepsilon.cc  -fPIC -DPIC -o rmepsilon.o\n",
            "depbase=`echo shortest-distance.lo | sed 's|[^/]*$|.deps/&|;s|\\.lo$||'`;\\\n",
            "/bin/bash ../../libtool  --tag=CXX   --mode=compile g++ -DHAVE_CONFIG_H   -I./../include  -fno-exceptions -funsigned-char  -std=c++11 -MT shortest-distance.lo -MD -MP -MF $depbase.Tpo -c -o shortest-distance.lo shortest-distance.cc &&\\\n",
            "mv -f $depbase.Tpo $depbase.Plo\n",
            "libtool: compile:  g++ -DHAVE_CONFIG_H -I./../include -fno-exceptions -funsigned-char -std=c++11 -MT shortest-distance.lo -MD -MP -MF .deps/shortest-distance.Tpo -c shortest-distance.cc  -fPIC -DPIC -o shortest-distance.o\n",
            "depbase=`echo shortest-path.lo | sed 's|[^/]*$|.deps/&|;s|\\.lo$||'`;\\\n",
            "/bin/bash ../../libtool  --tag=CXX   --mode=compile g++ -DHAVE_CONFIG_H   -I./../include  -fno-exceptions -funsigned-char  -std=c++11 -MT shortest-path.lo -MD -MP -MF $depbase.Tpo -c -o shortest-path.lo shortest-path.cc &&\\\n",
            "mv -f $depbase.Tpo $depbase.Plo\n",
            "libtool: compile:  g++ -DHAVE_CONFIG_H -I./../include -fno-exceptions -funsigned-char -std=c++11 -MT shortest-path.lo -MD -MP -MF .deps/shortest-path.Tpo -c shortest-path.cc  -fPIC -DPIC -o shortest-path.o\n",
            "depbase=`echo stateiterator-class.lo | sed 's|[^/]*$|.deps/&|;s|\\.lo$||'`;\\\n",
            "/bin/bash ../../libtool  --tag=CXX   --mode=compile g++ -DHAVE_CONFIG_H   -I./../include  -fno-exceptions -funsigned-char  -std=c++11 -MT stateiterator-class.lo -MD -MP -MF $depbase.Tpo -c -o stateiterator-class.lo stateiterator-class.cc &&\\\n",
            "mv -f $depbase.Tpo $depbase.Plo\n",
            "libtool: compile:  g++ -DHAVE_CONFIG_H -I./../include -fno-exceptions -funsigned-char -std=c++11 -MT stateiterator-class.lo -MD -MP -MF .deps/stateiterator-class.Tpo -c stateiterator-class.cc  -fPIC -DPIC -o stateiterator-class.o\n",
            "depbase=`echo synchronize.lo | sed 's|[^/]*$|.deps/&|;s|\\.lo$||'`;\\\n",
            "/bin/bash ../../libtool  --tag=CXX   --mode=compile g++ -DHAVE_CONFIG_H   -I./../include  -fno-exceptions -funsigned-char  -std=c++11 -MT synchronize.lo -MD -MP -MF $depbase.Tpo -c -o synchronize.lo synchronize.cc &&\\\n",
            "mv -f $depbase.Tpo $depbase.Plo\n",
            "libtool: compile:  g++ -DHAVE_CONFIG_H -I./../include -fno-exceptions -funsigned-char -std=c++11 -MT synchronize.lo -MD -MP -MF .deps/synchronize.Tpo -c synchronize.cc  -fPIC -DPIC -o synchronize.o\n",
            "In file included from \u001b[01m\u001b[K./../include/fst/fstlib.h:123:0\u001b[m\u001b[K,\n",
            "                 from \u001b[01m\u001b[K./../include/fst/script/stateiterator-class.h:9\u001b[m\u001b[K,\n",
            "                 from \u001b[01m\u001b[Kstateiterator-class.cc:5\u001b[m\u001b[K:\n",
            "\u001b[01m\u001b[K./../include/fst/string.h:117:54:\u001b[m\u001b[K \u001b[01;35m\u001b[Kwarning: \u001b[m\u001b[K'\u001b[01m\u001b[KTokenType\u001b[m\u001b[K' is deprecated: Use fst::StringTokenType [\u001b[01;35m\u001b[K-Wdeprecated-declarations\u001b[m\u001b[K]\n",
            "                           bool allow_negative = false\u001b[01;35m\u001b[K)\u001b[m\u001b[K\n",
            "                                                      \u001b[01;35m\u001b[K^\u001b[m\u001b[K\n",
            "\u001b[01m\u001b[K./../include/fst/string.h:107:55:\u001b[m\u001b[K \u001b[01;36m\u001b[Knote: \u001b[m\u001b[Kdeclared here\n",
            "   enum OPENFST_DEPRECATED(\"Use fst::StringTokenType\") \u001b[01;36m\u001b[KTokenType\u001b[m\u001b[K {\n",
            "                                                       \u001b[01;36m\u001b[K^~~~~~~~~\u001b[m\u001b[K\n",
            "\u001b[01m\u001b[K./../include/fst/string.h:207:59:\u001b[m\u001b[K \u001b[01;35m\u001b[Kwarning: \u001b[m\u001b[K'\u001b[01m\u001b[KTokenType\u001b[m\u001b[K' is deprecated: Use fst::StringTokenType [\u001b[01;35m\u001b[K-Wdeprecated-declarations\u001b[m\u001b[K]\n",
            "                          const SymbolTable *syms = nullptr\u001b[01;35m\u001b[K)\u001b[m\u001b[K\n",
            "                                                           \u001b[01;35m\u001b[K^\u001b[m\u001b[K\n",
            "\u001b[01m\u001b[K./../include/fst/string.h:199:55:\u001b[m\u001b[K \u001b[01;36m\u001b[Knote: \u001b[m\u001b[Kdeclared here\n",
            "   enum OPENFST_DEPRECATED(\"Use fst::StringTokenType\") \u001b[01;36m\u001b[KTokenType\u001b[m\u001b[K {\n",
            "                                                       \u001b[01;36m\u001b[K^~~~~~~~~\u001b[m\u001b[K\n",
            "depbase=`echo text-io.lo | sed 's|[^/]*$|.deps/&|;s|\\.lo$||'`;\\\n",
            "/bin/bash ../../libtool  --tag=CXX   --mode=compile g++ -DHAVE_CONFIG_H   -I./../include  -fno-exceptions -funsigned-char  -std=c++11 -MT text-io.lo -MD -MP -MF $depbase.Tpo -c -o text-io.lo text-io.cc &&\\\n",
            "mv -f $depbase.Tpo $depbase.Plo\n",
            "libtool: compile:  g++ -DHAVE_CONFIG_H -I./../include -fno-exceptions -funsigned-char -std=c++11 -MT text-io.lo -MD -MP -MF .deps/text-io.Tpo -c text-io.cc  -fPIC -DPIC -o text-io.o\n",
            "depbase=`echo topsort.lo | sed 's|[^/]*$|.deps/&|;s|\\.lo$||'`;\\\n",
            "/bin/bash ../../libtool  --tag=CXX   --mode=compile g++ -DHAVE_CONFIG_H   -I./../include  -fno-exceptions -funsigned-char  -std=c++11 -MT topsort.lo -MD -MP -MF $depbase.Tpo -c -o topsort.lo topsort.cc &&\\\n",
            "mv -f $depbase.Tpo $depbase.Plo\n",
            "libtool: compile:  g++ -DHAVE_CONFIG_H -I./../include -fno-exceptions -funsigned-char -std=c++11 -MT topsort.lo -MD -MP -MF .deps/topsort.Tpo -c topsort.cc  -fPIC -DPIC -o topsort.o\n",
            "depbase=`echo union.lo | sed 's|[^/]*$|.deps/&|;s|\\.lo$||'`;\\\n",
            "/bin/bash ../../libtool  --tag=CXX   --mode=compile g++ -DHAVE_CONFIG_H   -I./../include  -fno-exceptions -funsigned-char  -std=c++11 -MT union.lo -MD -MP -MF $depbase.Tpo -c -o union.lo union.cc &&\\\n",
            "mv -f $depbase.Tpo $depbase.Plo\n",
            "libtool: compile:  g++ -DHAVE_CONFIG_H -I./../include -fno-exceptions -funsigned-char -std=c++11 -MT union.lo -MD -MP -MF .deps/union.Tpo -c union.cc  -fPIC -DPIC -o union.o\n",
            "depbase=`echo weight-class.lo | sed 's|[^/]*$|.deps/&|;s|\\.lo$||'`;\\\n",
            "/bin/bash ../../libtool  --tag=CXX   --mode=compile g++ -DHAVE_CONFIG_H   -I./../include  -fno-exceptions -funsigned-char  -std=c++11 -MT weight-class.lo -MD -MP -MF $depbase.Tpo -c -o weight-class.lo weight-class.cc &&\\\n",
            "mv -f $depbase.Tpo $depbase.Plo\n",
            "libtool: compile:  g++ -DHAVE_CONFIG_H -I./../include -fno-exceptions -funsigned-char -std=c++11 -MT weight-class.lo -MD -MP -MF .deps/weight-class.Tpo -c weight-class.cc  -fPIC -DPIC -o weight-class.o\n",
            "depbase=`echo verify.lo | sed 's|[^/]*$|.deps/&|;s|\\.lo$||'`;\\\n",
            "/bin/bash ../../libtool  --tag=CXX   --mode=compile g++ -DHAVE_CONFIG_H   -I./../include  -fno-exceptions -funsigned-char  -std=c++11 -MT verify.lo -MD -MP -MF $depbase.Tpo -c -o verify.lo verify.cc &&\\\n",
            "mv -f $depbase.Tpo $depbase.Plo\n",
            "libtool: compile:  g++ -DHAVE_CONFIG_H -I./../include -fno-exceptions -funsigned-char -std=c++11 -MT verify.lo -MD -MP -MF .deps/verify.Tpo -c verify.cc  -fPIC -DPIC -o verify.o\n",
            "/bin/bash ../../libtool  --tag=CXX   --mode=link g++  -std=c++11 -version-info 6:0:0  -o libfstscript.la -rpath /usr/local/lib arciterator-class.lo arcsort.lo closure.lo compile.lo compose.lo concat.lo connect.lo convert.lo decode.lo determinize.lo difference.lo disambiguate.lo draw.lo encode.lo encodemapper-class.lo epsnormalize.lo equal.lo equivalent.lo fst-class.lo getters.lo info.lo intersect.lo invert.lo isomorphic.lo map.lo minimize.lo print.lo project.lo prune.lo push.lo randequivalent.lo randgen.lo relabel.lo replace.lo reverse.lo reweight.lo rmepsilon.lo shortest-distance.lo shortest-path.lo stateiterator-class.lo synchronize.lo text-io.lo topsort.lo union.lo weight-class.lo verify.lo ../lib/libfst.la -lm -ldl \n",
            "libtool: link: ar cru .libs/libfstscript.a  arciterator-class.o arcsort.o closure.o compile.o compose.o concat.o connect.o convert.o decode.o determinize.o difference.o disambiguate.o draw.o encode.o encodemapper-class.o epsnormalize.o equal.o equivalent.o fst-class.o getters.o info.o intersect.o invert.o isomorphic.o map.o minimize.o print.o project.o prune.o push.o randequivalent.o randgen.o relabel.o replace.o reverse.o reweight.o rmepsilon.o shortest-distance.o shortest-path.o stateiterator-class.o synchronize.o text-io.o topsort.o union.o weight-class.o verify.o\n",
            "ar: `u' modifier ignored since `D' is the default (see `U')\n",
            "libtool: link: ranlib .libs/libfstscript.a\n",
            "libtool: link: ( cd \".libs\" && rm -f \"libfstscript.la\" && ln -s \"../libfstscript.la\" \"libfstscript.la\" )\n",
            "make[3]: Leaving directory '/content/openfst-1.6.1/src/script'\n",
            "Making all in bin\n",
            "make[3]: Entering directory '/content/openfst-1.6.1/src/bin'\n",
            "depbase=`echo fstarcsort.o | sed 's|[^/]*$|.deps/&|;s|\\.o$||'`;\\\n",
            "g++ -DHAVE_CONFIG_H   -I./../include -I./../script  -fno-exceptions -funsigned-char  -std=c++11 -MT fstarcsort.o -MD -MP -MF $depbase.Tpo -c -o fstarcsort.o fstarcsort.cc &&\\\n",
            "mv -f $depbase.Tpo $depbase.Po\n",
            "depbase=`echo fstclosure.o | sed 's|[^/]*$|.deps/&|;s|\\.o$||'`;\\\n",
            "g++ -DHAVE_CONFIG_H   -I./../include -I./../script  -fno-exceptions -funsigned-char  -std=c++11 -MT fstclosure.o -MD -MP -MF $depbase.Tpo -c -o fstclosure.o fstclosure.cc &&\\\n",
            "mv -f $depbase.Tpo $depbase.Po\n",
            "depbase=`echo fstcompile.o | sed 's|[^/]*$|.deps/&|;s|\\.o$||'`;\\\n",
            "g++ -DHAVE_CONFIG_H   -I./../include -I./../script  -fno-exceptions -funsigned-char  -std=c++11 -MT fstcompile.o -MD -MP -MF $depbase.Tpo -c -o fstcompile.o fstcompile.cc &&\\\n",
            "mv -f $depbase.Tpo $depbase.Po\n",
            "depbase=`echo fstcompose.o | sed 's|[^/]*$|.deps/&|;s|\\.o$||'`;\\\n",
            "g++ -DHAVE_CONFIG_H   -I./../include -I./../script  -fno-exceptions -funsigned-char  -std=c++11 -MT fstcompose.o -MD -MP -MF $depbase.Tpo -c -o fstcompose.o fstcompose.cc &&\\\n",
            "mv -f $depbase.Tpo $depbase.Po\n",
            "depbase=`echo fstconcat.o | sed 's|[^/]*$|.deps/&|;s|\\.o$||'`;\\\n",
            "g++ -DHAVE_CONFIG_H   -I./../include -I./../script  -fno-exceptions -funsigned-char  -std=c++11 -MT fstconcat.o -MD -MP -MF $depbase.Tpo -c -o fstconcat.o fstconcat.cc &&\\\n",
            "mv -f $depbase.Tpo $depbase.Po\n",
            "depbase=`echo fstconnect.o | sed 's|[^/]*$|.deps/&|;s|\\.o$||'`;\\\n",
            "g++ -DHAVE_CONFIG_H   -I./../include -I./../script  -fno-exceptions -funsigned-char  -std=c++11 -MT fstconnect.o -MD -MP -MF $depbase.Tpo -c -o fstconnect.o fstconnect.cc &&\\\n",
            "mv -f $depbase.Tpo $depbase.Po\n",
            "depbase=`echo fstconvert.o | sed 's|[^/]*$|.deps/&|;s|\\.o$||'`;\\\n",
            "g++ -DHAVE_CONFIG_H   -I./../include -I./../script  -fno-exceptions -funsigned-char  -std=c++11 -MT fstconvert.o -MD -MP -MF $depbase.Tpo -c -o fstconvert.o fstconvert.cc &&\\\n",
            "mv -f $depbase.Tpo $depbase.Po\n",
            "depbase=`echo fstdeterminize.o | sed 's|[^/]*$|.deps/&|;s|\\.o$||'`;\\\n",
            "g++ -DHAVE_CONFIG_H   -I./../include -I./../script  -fno-exceptions -funsigned-char  -std=c++11 -MT fstdeterminize.o -MD -MP -MF $depbase.Tpo -c -o fstdeterminize.o fstdeterminize.cc &&\\\n",
            "mv -f $depbase.Tpo $depbase.Po\n",
            "depbase=`echo fstdifference.o | sed 's|[^/]*$|.deps/&|;s|\\.o$||'`;\\\n",
            "g++ -DHAVE_CONFIG_H   -I./../include -I./../script  -fno-exceptions -funsigned-char  -std=c++11 -MT fstdifference.o -MD -MP -MF $depbase.Tpo -c -o fstdifference.o fstdifference.cc &&\\\n",
            "mv -f $depbase.Tpo $depbase.Po\n",
            "depbase=`echo fstdraw.o | sed 's|[^/]*$|.deps/&|;s|\\.o$||'`;\\\n",
            "g++ -DHAVE_CONFIG_H   -I./../include -I./../script  -fno-exceptions -funsigned-char  -std=c++11 -MT fstdraw.o -MD -MP -MF $depbase.Tpo -c -o fstdraw.o fstdraw.cc &&\\\n",
            "mv -f $depbase.Tpo $depbase.Po\n",
            "depbase=`echo fstencode.o | sed 's|[^/]*$|.deps/&|;s|\\.o$||'`;\\\n",
            "g++ -DHAVE_CONFIG_H   -I./../include -I./../script  -fno-exceptions -funsigned-char  -std=c++11 -MT fstencode.o -MD -MP -MF $depbase.Tpo -c -o fstencode.o fstencode.cc &&\\\n",
            "mv -f $depbase.Tpo $depbase.Po\n",
            "In file included from \u001b[01m\u001b[K./../include/fst/fstlib.h:123:0\u001b[m\u001b[K,\n",
            "                 from \u001b[01m\u001b[K./../include/fst/script/encodemapper-class.h:11\u001b[m\u001b[K,\n",
            "                 from \u001b[01m\u001b[K./../include/fst/script/decode.h:12\u001b[m\u001b[K,\n",
            "                 from \u001b[01m\u001b[Kfstencode.cc:11\u001b[m\u001b[K:\n",
            "\u001b[01m\u001b[K./../include/fst/string.h:117:54:\u001b[m\u001b[K \u001b[01;35m\u001b[Kwarning: \u001b[m\u001b[K‘\u001b[01m\u001b[KTokenType\u001b[m\u001b[K’ is deprecated: Use fst::StringTokenType [\u001b[01;35m\u001b[K-Wdeprecated-declarations\u001b[m\u001b[K]\n",
            "                           bool allow_negative = false\u001b[01;35m\u001b[K)\u001b[m\u001b[K\n",
            "                                                      \u001b[01;35m\u001b[K^\u001b[m\u001b[K\n",
            "\u001b[01m\u001b[K./../include/fst/string.h:107:55:\u001b[m\u001b[K \u001b[01;36m\u001b[Knote: \u001b[m\u001b[Kdeclared here\n",
            "   enum OPENFST_DEPRECATED(\"Use fst::StringTokenType\") \u001b[01;36m\u001b[KTokenType\u001b[m\u001b[K {\n",
            "                                                       \u001b[01;36m\u001b[K^~~~~~~~~\u001b[m\u001b[K\n",
            "\u001b[01m\u001b[K./../include/fst/string.h:207:59:\u001b[m\u001b[K \u001b[01;35m\u001b[Kwarning: \u001b[m\u001b[K‘\u001b[01m\u001b[KTokenType\u001b[m\u001b[K’ is deprecated: Use fst::StringTokenType [\u001b[01;35m\u001b[K-Wdeprecated-declarations\u001b[m\u001b[K]\n",
            "                          const SymbolTable *syms = nullptr\u001b[01;35m\u001b[K)\u001b[m\u001b[K\n",
            "                                                           \u001b[01;35m\u001b[K^\u001b[m\u001b[K\n",
            "\u001b[01m\u001b[K./../include/fst/string.h:199:55:\u001b[m\u001b[K \u001b[01;36m\u001b[Knote: \u001b[m\u001b[Kdeclared here\n",
            "   enum OPENFST_DEPRECATED(\"Use fst::StringTokenType\") \u001b[01;36m\u001b[KTokenType\u001b[m\u001b[K {\n",
            "                                                       \u001b[01;36m\u001b[K^~~~~~~~~\u001b[m\u001b[K\n",
            "depbase=`echo fstepsnormalize.o | sed 's|[^/]*$|.deps/&|;s|\\.o$||'`;\\\n",
            "g++ -DHAVE_CONFIG_H   -I./../include -I./../script  -fno-exceptions -funsigned-char  -std=c++11 -MT fstepsnormalize.o -MD -MP -MF $depbase.Tpo -c -o fstepsnormalize.o fstepsnormalize.cc &&\\\n",
            "mv -f $depbase.Tpo $depbase.Po\n",
            "depbase=`echo fstequal.o | sed 's|[^/]*$|.deps/&|;s|\\.o$||'`;\\\n",
            "g++ -DHAVE_CONFIG_H   -I./../include -I./../script  -fno-exceptions -funsigned-char  -std=c++11 -MT fstequal.o -MD -MP -MF $depbase.Tpo -c -o fstequal.o fstequal.cc &&\\\n",
            "mv -f $depbase.Tpo $depbase.Po\n",
            "depbase=`echo fstequivalent.o | sed 's|[^/]*$|.deps/&|;s|\\.o$||'`;\\\n",
            "g++ -DHAVE_CONFIG_H   -I./../include -I./../script  -fno-exceptions -funsigned-char  -std=c++11 -MT fstequivalent.o -MD -MP -MF $depbase.Tpo -c -o fstequivalent.o fstequivalent.cc &&\\\n",
            "mv -f $depbase.Tpo $depbase.Po\n",
            "depbase=`echo fstinfo.o | sed 's|[^/]*$|.deps/&|;s|\\.o$||'`;\\\n",
            "g++ -DHAVE_CONFIG_H   -I./../include -I./../script  -fno-exceptions -funsigned-char  -std=c++11 -MT fstinfo.o -MD -MP -MF $depbase.Tpo -c -o fstinfo.o fstinfo.cc &&\\\n",
            "mv -f $depbase.Tpo $depbase.Po\n",
            "depbase=`echo fstintersect.o | sed 's|[^/]*$|.deps/&|;s|\\.o$||'`;\\\n",
            "g++ -DHAVE_CONFIG_H   -I./../include -I./../script  -fno-exceptions -funsigned-char  -std=c++11 -MT fstintersect.o -MD -MP -MF $depbase.Tpo -c -o fstintersect.o fstintersect.cc &&\\\n",
            "mv -f $depbase.Tpo $depbase.Po\n",
            "depbase=`echo fstinvert.o | sed 's|[^/]*$|.deps/&|;s|\\.o$||'`;\\\n",
            "g++ -DHAVE_CONFIG_H   -I./../include -I./../script  -fno-exceptions -funsigned-char  -std=c++11 -MT fstinvert.o -MD -MP -MF $depbase.Tpo -c -o fstinvert.o fstinvert.cc &&\\\n",
            "mv -f $depbase.Tpo $depbase.Po\n",
            "depbase=`echo fstisomorphic.o | sed 's|[^/]*$|.deps/&|;s|\\.o$||'`;\\\n",
            "g++ -DHAVE_CONFIG_H   -I./../include -I./../script  -fno-exceptions -funsigned-char  -std=c++11 -MT fstisomorphic.o -MD -MP -MF $depbase.Tpo -c -o fstisomorphic.o fstisomorphic.cc &&\\\n",
            "mv -f $depbase.Tpo $depbase.Po\n",
            "depbase=`echo fstmap.o | sed 's|[^/]*$|.deps/&|;s|\\.o$||'`;\\\n",
            "g++ -DHAVE_CONFIG_H   -I./../include -I./../script  -fno-exceptions -funsigned-char  -std=c++11 -MT fstmap.o -MD -MP -MF $depbase.Tpo -c -o fstmap.o fstmap.cc &&\\\n",
            "mv -f $depbase.Tpo $depbase.Po\n",
            "depbase=`echo fstminimize.o | sed 's|[^/]*$|.deps/&|;s|\\.o$||'`;\\\n",
            "g++ -DHAVE_CONFIG_H   -I./../include -I./../script  -fno-exceptions -funsigned-char  -std=c++11 -MT fstminimize.o -MD -MP -MF $depbase.Tpo -c -o fstminimize.o fstminimize.cc &&\\\n",
            "mv -f $depbase.Tpo $depbase.Po\n",
            "depbase=`echo fstprint.o | sed 's|[^/]*$|.deps/&|;s|\\.o$||'`;\\\n",
            "g++ -DHAVE_CONFIG_H   -I./../include -I./../script  -fno-exceptions -funsigned-char  -std=c++11 -MT fstprint.o -MD -MP -MF $depbase.Tpo -c -o fstprint.o fstprint.cc &&\\\n",
            "mv -f $depbase.Tpo $depbase.Po\n",
            "depbase=`echo fstproject.o | sed 's|[^/]*$|.deps/&|;s|\\.o$||'`;\\\n",
            "g++ -DHAVE_CONFIG_H   -I./../include -I./../script  -fno-exceptions -funsigned-char  -std=c++11 -MT fstproject.o -MD -MP -MF $depbase.Tpo -c -o fstproject.o fstproject.cc &&\\\n",
            "mv -f $depbase.Tpo $depbase.Po\n",
            "depbase=`echo fstprune.o | sed 's|[^/]*$|.deps/&|;s|\\.o$||'`;\\\n",
            "g++ -DHAVE_CONFIG_H   -I./../include -I./../script  -fno-exceptions -funsigned-char  -std=c++11 -MT fstprune.o -MD -MP -MF $depbase.Tpo -c -o fstprune.o fstprune.cc &&\\\n",
            "mv -f $depbase.Tpo $depbase.Po\n",
            "In file included from \u001b[01m\u001b[K./../include/fst/fstlib.h:123:0\u001b[m\u001b[K,\n",
            "                 from \u001b[01m\u001b[K./../include/fst/script/print-impl.h:14\u001b[m\u001b[K,\n",
            "                 from \u001b[01m\u001b[K./../include/fst/script/print.h:11\u001b[m\u001b[K,\n",
            "                 from \u001b[01m\u001b[Kfstprint.cc:14\u001b[m\u001b[K:\n",
            "\u001b[01m\u001b[K./../include/fst/string.h:117:54:\u001b[m\u001b[K \u001b[01;35m\u001b[Kwarning: \u001b[m\u001b[K‘\u001b[01m\u001b[KTokenType\u001b[m\u001b[K’ is deprecated: Use fst::StringTokenType [\u001b[01;35m\u001b[K-Wdeprecated-declarations\u001b[m\u001b[K]\n",
            "                           bool allow_negative = false\u001b[01;35m\u001b[K)\u001b[m\u001b[K\n",
            "                                                      \u001b[01;35m\u001b[K^\u001b[m\u001b[K\n",
            "\u001b[01m\u001b[K./../include/fst/string.h:107:55:\u001b[m\u001b[K \u001b[01;36m\u001b[Knote: \u001b[m\u001b[Kdeclared here\n",
            "   enum OPENFST_DEPRECATED(\"Use fst::StringTokenType\") \u001b[01;36m\u001b[KTokenType\u001b[m\u001b[K {\n",
            "                                                       \u001b[01;36m\u001b[K^~~~~~~~~\u001b[m\u001b[K\n",
            "\u001b[01m\u001b[K./../include/fst/string.h:207:59:\u001b[m\u001b[K \u001b[01;35m\u001b[Kwarning: \u001b[m\u001b[K‘\u001b[01m\u001b[KTokenType\u001b[m\u001b[K’ is deprecated: Use fst::StringTokenType [\u001b[01;35m\u001b[K-Wdeprecated-declarations\u001b[m\u001b[K]\n",
            "                          const SymbolTable *syms = nullptr\u001b[01;35m\u001b[K)\u001b[m\u001b[K\n",
            "                                                           \u001b[01;35m\u001b[K^\u001b[m\u001b[K\n",
            "\u001b[01m\u001b[K./../include/fst/string.h:199:55:\u001b[m\u001b[K \u001b[01;36m\u001b[Knote: \u001b[m\u001b[Kdeclared here\n",
            "   enum OPENFST_DEPRECATED(\"Use fst::StringTokenType\") \u001b[01;36m\u001b[KTokenType\u001b[m\u001b[K {\n",
            "                                                       \u001b[01;36m\u001b[K^~~~~~~~~\u001b[m\u001b[K\n",
            "depbase=`echo fstpush.o | sed 's|[^/]*$|.deps/&|;s|\\.o$||'`;\\\n",
            "g++ -DHAVE_CONFIG_H   -I./../include -I./../script  -fno-exceptions -funsigned-char  -std=c++11 -MT fstpush.o -MD -MP -MF $depbase.Tpo -c -o fstpush.o fstpush.cc &&\\\n",
            "mv -f $depbase.Tpo $depbase.Po\n",
            "depbase=`echo fstrandgen.o | sed 's|[^/]*$|.deps/&|;s|\\.o$||'`;\\\n",
            "g++ -DHAVE_CONFIG_H   -I./../include -I./../script  -fno-exceptions -funsigned-char  -std=c++11 -MT fstrandgen.o -MD -MP -MF $depbase.Tpo -c -o fstrandgen.o fstrandgen.cc &&\\\n",
            "mv -f $depbase.Tpo $depbase.Po\n",
            "depbase=`echo fstrelabel.o | sed 's|[^/]*$|.deps/&|;s|\\.o$||'`;\\\n",
            "g++ -DHAVE_CONFIG_H   -I./../include -I./../script  -fno-exceptions -funsigned-char  -std=c++11 -MT fstrelabel.o -MD -MP -MF $depbase.Tpo -c -o fstrelabel.o fstrelabel.cc &&\\\n",
            "mv -f $depbase.Tpo $depbase.Po\n",
            "depbase=`echo fstreplace.o | sed 's|[^/]*$|.deps/&|;s|\\.o$||'`;\\\n",
            "g++ -DHAVE_CONFIG_H   -I./../include -I./../script  -fno-exceptions -funsigned-char  -std=c++11 -MT fstreplace.o -MD -MP -MF $depbase.Tpo -c -o fstreplace.o fstreplace.cc &&\\\n",
            "mv -f $depbase.Tpo $depbase.Po\n",
            "depbase=`echo fstreverse.o | sed 's|[^/]*$|.deps/&|;s|\\.o$||'`;\\\n",
            "g++ -DHAVE_CONFIG_H   -I./../include -I./../script  -fno-exceptions -funsigned-char  -std=c++11 -MT fstreverse.o -MD -MP -MF $depbase.Tpo -c -o fstreverse.o fstreverse.cc &&\\\n",
            "mv -f $depbase.Tpo $depbase.Po\n",
            "depbase=`echo fstreweight.o | sed 's|[^/]*$|.deps/&|;s|\\.o$||'`;\\\n",
            "g++ -DHAVE_CONFIG_H   -I./../include -I./../script  -fno-exceptions -funsigned-char  -std=c++11 -MT fstreweight.o -MD -MP -MF $depbase.Tpo -c -o fstreweight.o fstreweight.cc &&\\\n",
            "mv -f $depbase.Tpo $depbase.Po\n",
            "depbase=`echo fstrmepsilon.o | sed 's|[^/]*$|.deps/&|;s|\\.o$||'`;\\\n",
            "g++ -DHAVE_CONFIG_H   -I./../include -I./../script  -fno-exceptions -funsigned-char  -std=c++11 -MT fstrmepsilon.o -MD -MP -MF $depbase.Tpo -c -o fstrmepsilon.o fstrmepsilon.cc &&\\\n",
            "mv -f $depbase.Tpo $depbase.Po\n",
            "depbase=`echo fstshortestdistance.o | sed 's|[^/]*$|.deps/&|;s|\\.o$||'`;\\\n",
            "g++ -DHAVE_CONFIG_H   -I./../include -I./../script  -fno-exceptions -funsigned-char  -std=c++11 -MT fstshortestdistance.o -MD -MP -MF $depbase.Tpo -c -o fstshortestdistance.o fstshortestdistance.cc &&\\\n",
            "mv -f $depbase.Tpo $depbase.Po\n",
            "depbase=`echo fstshortestpath.o | sed 's|[^/]*$|.deps/&|;s|\\.o$||'`;\\\n",
            "g++ -DHAVE_CONFIG_H   -I./../include -I./../script  -fno-exceptions -funsigned-char  -std=c++11 -MT fstshortestpath.o -MD -MP -MF $depbase.Tpo -c -o fstshortestpath.o fstshortestpath.cc &&\\\n",
            "mv -f $depbase.Tpo $depbase.Po\n",
            "depbase=`echo fstsymbols.o | sed 's|[^/]*$|.deps/&|;s|\\.o$||'`;\\\n",
            "g++ -DHAVE_CONFIG_H   -I./../include -I./../script  -fno-exceptions -funsigned-char  -std=c++11 -MT fstsymbols.o -MD -MP -MF $depbase.Tpo -c -o fstsymbols.o fstsymbols.cc &&\\\n",
            "mv -f $depbase.Tpo $depbase.Po\n",
            "depbase=`echo fstsynchronize.o | sed 's|[^/]*$|.deps/&|;s|\\.o$||'`;\\\n",
            "g++ -DHAVE_CONFIG_H   -I./../include -I./../script  -fno-exceptions -funsigned-char  -std=c++11 -MT fstsynchronize.o -MD -MP -MF $depbase.Tpo -c -o fstsynchronize.o fstsynchronize.cc &&\\\n",
            "mv -f $depbase.Tpo $depbase.Po\n",
            "depbase=`echo fsttopsort.o | sed 's|[^/]*$|.deps/&|;s|\\.o$||'`;\\\n",
            "g++ -DHAVE_CONFIG_H   -I./../include -I./../script  -fno-exceptions -funsigned-char  -std=c++11 -MT fsttopsort.o -MD -MP -MF $depbase.Tpo -c -o fsttopsort.o fsttopsort.cc &&\\\n",
            "mv -f $depbase.Tpo $depbase.Po\n",
            "depbase=`echo fstunion.o | sed 's|[^/]*$|.deps/&|;s|\\.o$||'`;\\\n",
            "g++ -DHAVE_CONFIG_H   -I./../include -I./../script  -fno-exceptions -funsigned-char  -std=c++11 -MT fstunion.o -MD -MP -MF $depbase.Tpo -c -o fstunion.o fstunion.cc &&\\\n",
            "mv -f $depbase.Tpo $depbase.Po\n",
            "depbase=`echo fstdisambiguate.o | sed 's|[^/]*$|.deps/&|;s|\\.o$||'`;\\\n",
            "g++ -DHAVE_CONFIG_H   -I./../include -I./../script  -fno-exceptions -funsigned-char  -std=c++11 -MT fstdisambiguate.o -MD -MP -MF $depbase.Tpo -c -o fstdisambiguate.o fstdisambiguate.cc &&\\\n",
            "mv -f $depbase.Tpo $depbase.Po\n",
            "/bin/bash ../../libtool  --tag=CXX   --mode=link g++  -std=c++11   -o fstarcsort fstarcsort.o ../script/libfstscript.la ../lib/libfst.la -lm -ldl \n",
            "libtool: link: g++ -std=c++11 -o fstarcsort fstarcsort.o  ../script/.libs/libfstscript.a /content/openfst-1.6.1/src/lib/.libs/libfst.a ../lib/.libs/libfst.a -lm -ldl\n",
            "/bin/bash ../../libtool  --tag=CXX   --mode=link g++  -std=c++11   -o fstclosure fstclosure.o ../script/libfstscript.la ../lib/libfst.la -lm -ldl \n",
            "libtool: link: g++ -std=c++11 -o fstclosure fstclosure.o  ../script/.libs/libfstscript.a /content/openfst-1.6.1/src/lib/.libs/libfst.a ../lib/.libs/libfst.a -lm -ldl\n",
            "/bin/bash ../../libtool  --tag=CXX   --mode=link g++  -std=c++11   -o fstcompile fstcompile.o ../script/libfstscript.la ../lib/libfst.la -lm -ldl \n",
            "libtool: link: g++ -std=c++11 -o fstcompile fstcompile.o  ../script/.libs/libfstscript.a /content/openfst-1.6.1/src/lib/.libs/libfst.a ../lib/.libs/libfst.a -lm -ldl\n",
            "/bin/bash ../../libtool  --tag=CXX   --mode=link g++  -std=c++11   -o fstcompose fstcompose.o ../script/libfstscript.la ../lib/libfst.la -lm -ldl \n",
            "libtool: link: g++ -std=c++11 -o fstcompose fstcompose.o  ../script/.libs/libfstscript.a /content/openfst-1.6.1/src/lib/.libs/libfst.a ../lib/.libs/libfst.a -lm -ldl\n",
            "/bin/bash ../../libtool  --tag=CXX   --mode=link g++  -std=c++11   -o fstconcat fstconcat.o ../script/libfstscript.la ../lib/libfst.la -lm -ldl \n",
            "/bin/bash ../../libtool  --tag=CXX   --mode=link g++  -std=c++11   -o fstconnect fstconnect.o ../script/libfstscript.la ../lib/libfst.la -lm -ldl \n",
            "libtool: link: g++ -std=c++11 -o fstconnect fstconnect.o  ../script/.libs/libfstscript.a /content/openfst-1.6.1/src/lib/.libs/libfst.a ../lib/.libs/libfst.a -lm -ldl\n",
            "libtool: link: g++ -std=c++11 -o fstconcat fstconcat.o  ../script/.libs/libfstscript.a /content/openfst-1.6.1/src/lib/.libs/libfst.a ../lib/.libs/libfst.a -lm -ldl\n",
            "/bin/bash ../../libtool  --tag=CXX   --mode=link g++  -std=c++11   -o fstconvert fstconvert.o ../script/libfstscript.la ../lib/libfst.la -lm -ldl \n",
            "libtool: link: g++ -std=c++11 -o fstconvert fstconvert.o  ../script/.libs/libfstscript.a /content/openfst-1.6.1/src/lib/.libs/libfst.a ../lib/.libs/libfst.a -lm -ldl\n",
            "/bin/bash ../../libtool  --tag=CXX   --mode=link g++  -std=c++11   -o fstdeterminize fstdeterminize.o ../script/libfstscript.la ../lib/libfst.la -lm -ldl \n",
            "/bin/bash ../../libtool  --tag=CXX   --mode=link g++  -std=c++11   -o fstdifference fstdifference.o ../script/libfstscript.la ../lib/libfst.la -lm -ldl \n",
            "libtool: link: g++ -std=c++11 -o fstdifference fstdifference.o  ../script/.libs/libfstscript.a /content/openfst-1.6.1/src/lib/.libs/libfst.a ../lib/.libs/libfst.a -lm -ldl\n",
            "libtool: link: g++ -std=c++11 -o fstdeterminize fstdeterminize.o  ../script/.libs/libfstscript.a /content/openfst-1.6.1/src/lib/.libs/libfst.a ../lib/.libs/libfst.a -lm -ldl\n",
            "/bin/bash ../../libtool  --tag=CXX   --mode=link g++  -std=c++11   -o fstdraw fstdraw.o ../script/libfstscript.la ../lib/libfst.la -lm -ldl \n",
            "libtool: link: g++ -std=c++11 -o fstdraw fstdraw.o  ../script/.libs/libfstscript.a /content/openfst-1.6.1/src/lib/.libs/libfst.a ../lib/.libs/libfst.a -lm -ldl\n",
            "/bin/bash ../../libtool  --tag=CXX   --mode=link g++  -std=c++11   -o fstencode fstencode.o ../script/libfstscript.la ../lib/libfst.la -lm -ldl \n",
            "libtool: link: g++ -std=c++11 -o fstencode fstencode.o  ../script/.libs/libfstscript.a /content/openfst-1.6.1/src/lib/.libs/libfst.a ../lib/.libs/libfst.a -lm -ldl\n",
            "/bin/bash ../../libtool  --tag=CXX   --mode=link g++  -std=c++11   -o fstepsnormalize fstepsnormalize.o ../script/libfstscript.la ../lib/libfst.la -lm -ldl \n",
            "libtool: link: g++ -std=c++11 -o fstepsnormalize fstepsnormalize.o  ../script/.libs/libfstscript.a /content/openfst-1.6.1/src/lib/.libs/libfst.a ../lib/.libs/libfst.a -lm -ldl\n",
            "/bin/bash ../../libtool  --tag=CXX   --mode=link g++  -std=c++11   -o fstequal fstequal.o ../script/libfstscript.la ../lib/libfst.la -lm -ldl \n",
            "/bin/bash ../../libtool  --tag=CXX   --mode=link g++  -std=c++11   -o fstequivalent fstequivalent.o ../script/libfstscript.la ../lib/libfst.la -lm -ldl \n",
            "/bin/bash ../../libtool  --tag=CXX   --mode=link g++  -std=c++11   -o fstinfo fstinfo.o ../script/libfstscript.la ../lib/libfst.la -lm -ldl \n",
            "libtool: link: g++ -std=c++11 -o fstequal fstequal.o  ../script/.libs/libfstscript.a /content/openfst-1.6.1/src/lib/.libs/libfst.a ../lib/.libs/libfst.a -lm -ldl\n",
            "libtool: link: g++ -std=c++11 -o fstequivalent fstequivalent.o  ../script/.libs/libfstscript.a /content/openfst-1.6.1/src/lib/.libs/libfst.a ../lib/.libs/libfst.a -lm -ldl\n",
            "libtool: link: g++ -std=c++11 -o fstinfo fstinfo.o  ../script/.libs/libfstscript.a /content/openfst-1.6.1/src/lib/.libs/libfst.a ../lib/.libs/libfst.a -lm -ldl\n",
            "/bin/bash ../../libtool  --tag=CXX   --mode=link g++  -std=c++11   -o fstintersect fstintersect.o ../script/libfstscript.la ../lib/libfst.la -lm -ldl \n",
            "libtool: link: g++ -std=c++11 -o fstintersect fstintersect.o  ../script/.libs/libfstscript.a /content/openfst-1.6.1/src/lib/.libs/libfst.a ../lib/.libs/libfst.a -lm -ldl\n",
            "/bin/bash ../../libtool  --tag=CXX   --mode=link g++  -std=c++11   -o fstinvert fstinvert.o ../script/libfstscript.la ../lib/libfst.la -lm -ldl \n",
            "libtool: link: g++ -std=c++11 -o fstinvert fstinvert.o  ../script/.libs/libfstscript.a /content/openfst-1.6.1/src/lib/.libs/libfst.a ../lib/.libs/libfst.a -lm -ldl\n",
            "/bin/bash ../../libtool  --tag=CXX   --mode=link g++  -std=c++11   -o fstisomorphic fstisomorphic.o ../script/libfstscript.la ../lib/libfst.la -lm -ldl \n",
            "libtool: link: g++ -std=c++11 -o fstisomorphic fstisomorphic.o  ../script/.libs/libfstscript.a /content/openfst-1.6.1/src/lib/.libs/libfst.a ../lib/.libs/libfst.a -lm -ldl\n",
            "/bin/bash ../../libtool  --tag=CXX   --mode=link g++  -std=c++11   -o fstmap fstmap.o ../script/libfstscript.la ../lib/libfst.la -lm -ldl \n",
            "/bin/bash ../../libtool  --tag=CXX   --mode=link g++  -std=c++11   -o fstminimize fstminimize.o ../script/libfstscript.la ../lib/libfst.la -lm -ldl \n",
            "libtool: link: g++ -std=c++11 -o fstmap fstmap.o  ../script/.libs/libfstscript.a /content/openfst-1.6.1/src/lib/.libs/libfst.a ../lib/.libs/libfst.a -lm -ldl\n",
            "libtool: link: g++ -std=c++11 -o fstminimize fstminimize.o  ../script/.libs/libfstscript.a /content/openfst-1.6.1/src/lib/.libs/libfst.a ../lib/.libs/libfst.a -lm -ldl\n",
            "/bin/bash ../../libtool  --tag=CXX   --mode=link g++  -std=c++11   -o fstprint fstprint.o ../script/libfstscript.la ../lib/libfst.la -lm -ldl \n",
            "libtool: link: g++ -std=c++11 -o fstprint fstprint.o  ../script/.libs/libfstscript.a /content/openfst-1.6.1/src/lib/.libs/libfst.a ../lib/.libs/libfst.a -lm -ldl\n",
            "/bin/bash ../../libtool  --tag=CXX   --mode=link g++  -std=c++11   -o fstproject fstproject.o ../script/libfstscript.la ../lib/libfst.la -lm -ldl \n",
            "libtool: link: g++ -std=c++11 -o fstproject fstproject.o  ../script/.libs/libfstscript.a /content/openfst-1.6.1/src/lib/.libs/libfst.a ../lib/.libs/libfst.a -lm -ldl\n",
            "/bin/bash ../../libtool  --tag=CXX   --mode=link g++  -std=c++11   -o fstprune fstprune.o ../script/libfstscript.la ../lib/libfst.la -lm -ldl \n",
            "libtool: link: g++ -std=c++11 -o fstprune fstprune.o  ../script/.libs/libfstscript.a /content/openfst-1.6.1/src/lib/.libs/libfst.a ../lib/.libs/libfst.a -lm -ldl\n",
            "/bin/bash ../../libtool  --tag=CXX   --mode=link g++  -std=c++11   -o fstpush fstpush.o ../script/libfstscript.la ../lib/libfst.la -lm -ldl \n",
            "libtool: link: g++ -std=c++11 -o fstpush fstpush.o  ../script/.libs/libfstscript.a /content/openfst-1.6.1/src/lib/.libs/libfst.a ../lib/.libs/libfst.a -lm -ldl\n",
            "/bin/bash ../../libtool  --tag=CXX   --mode=link g++  -std=c++11   -o fstrandgen fstrandgen.o ../script/libfstscript.la ../lib/libfst.la -lm -ldl \n",
            "libtool: link: g++ -std=c++11 -o fstrandgen fstrandgen.o  ../script/.libs/libfstscript.a /content/openfst-1.6.1/src/lib/.libs/libfst.a ../lib/.libs/libfst.a -lm -ldl\n",
            "/bin/bash ../../libtool  --tag=CXX   --mode=link g++  -std=c++11   -o fstrelabel fstrelabel.o ../script/libfstscript.la ../lib/libfst.la -lm -ldl \n",
            "libtool: link: g++ -std=c++11 -o fstrelabel fstrelabel.o  ../script/.libs/libfstscript.a /content/openfst-1.6.1/src/lib/.libs/libfst.a ../lib/.libs/libfst.a -lm -ldl\n",
            "/bin/bash ../../libtool  --tag=CXX   --mode=link g++  -std=c++11   -o fstreplace fstreplace.o ../script/libfstscript.la ../lib/libfst.la -lm -ldl \n",
            "libtool: link: g++ -std=c++11 -o fstreplace fstreplace.o  ../script/.libs/libfstscript.a /content/openfst-1.6.1/src/lib/.libs/libfst.a ../lib/.libs/libfst.a -lm -ldl\n",
            "/bin/bash ../../libtool  --tag=CXX   --mode=link g++  -std=c++11   -o fstreverse fstreverse.o ../script/libfstscript.la ../lib/libfst.la -lm -ldl \n",
            "/bin/bash ../../libtool  --tag=CXX   --mode=link g++  -std=c++11   -o fstreweight fstreweight.o ../script/libfstscript.la ../lib/libfst.la -lm -ldl \n",
            "libtool: link: g++ -std=c++11 -o fstreverse fstreverse.o  ../script/.libs/libfstscript.a /content/openfst-1.6.1/src/lib/.libs/libfst.a ../lib/.libs/libfst.a -lm -ldl\n",
            "libtool: link: g++ -std=c++11 -o fstreweight fstreweight.o  ../script/.libs/libfstscript.a /content/openfst-1.6.1/src/lib/.libs/libfst.a ../lib/.libs/libfst.a -lm -ldl\n",
            "/bin/bash ../../libtool  --tag=CXX   --mode=link g++  -std=c++11   -o fstrmepsilon fstrmepsilon.o ../script/libfstscript.la ../lib/libfst.la -lm -ldl \n",
            "libtool: link: g++ -std=c++11 -o fstrmepsilon fstrmepsilon.o  ../script/.libs/libfstscript.a /content/openfst-1.6.1/src/lib/.libs/libfst.a ../lib/.libs/libfst.a -lm -ldl\n",
            "/bin/bash ../../libtool  --tag=CXX   --mode=link g++  -std=c++11   -o fstshortestdistance fstshortestdistance.o ../script/libfstscript.la ../lib/libfst.la -lm -ldl \n",
            "/bin/bash ../../libtool  --tag=CXX   --mode=link g++  -std=c++11   -o fstshortestpath fstshortestpath.o ../script/libfstscript.la ../lib/libfst.la -lm -ldl \n",
            "libtool: link: g++ -std=c++11 -o fstshortestdistance fstshortestdistance.o  ../script/.libs/libfstscript.a /content/openfst-1.6.1/src/lib/.libs/libfst.a ../lib/.libs/libfst.a -lm -ldl\n",
            "libtool: link: g++ -std=c++11 -o fstshortestpath fstshortestpath.o  ../script/.libs/libfstscript.a /content/openfst-1.6.1/src/lib/.libs/libfst.a ../lib/.libs/libfst.a -lm -ldl\n",
            "/bin/bash ../../libtool  --tag=CXX   --mode=link g++  -std=c++11   -o fstsymbols fstsymbols.o ../script/libfstscript.la ../lib/libfst.la -lm -ldl \n",
            "libtool: link: g++ -std=c++11 -o fstsymbols fstsymbols.o  ../script/.libs/libfstscript.a /content/openfst-1.6.1/src/lib/.libs/libfst.a ../lib/.libs/libfst.a -lm -ldl\n",
            "/bin/bash ../../libtool  --tag=CXX   --mode=link g++  -std=c++11   -o fstsynchronize fstsynchronize.o ../script/libfstscript.la ../lib/libfst.la -lm -ldl \n",
            "libtool: link: g++ -std=c++11 -o fstsynchronize fstsynchronize.o  ../script/.libs/libfstscript.a /content/openfst-1.6.1/src/lib/.libs/libfst.a ../lib/.libs/libfst.a -lm -ldl\n",
            "/bin/bash ../../libtool  --tag=CXX   --mode=link g++  -std=c++11   -o fsttopsort fsttopsort.o ../script/libfstscript.la ../lib/libfst.la -lm -ldl \n",
            "libtool: link: g++ -std=c++11 -o fsttopsort fsttopsort.o  ../script/.libs/libfstscript.a /content/openfst-1.6.1/src/lib/.libs/libfst.a ../lib/.libs/libfst.a -lm -ldl\n",
            "/bin/bash ../../libtool  --tag=CXX   --mode=link g++  -std=c++11   -o fstunion fstunion.o ../script/libfstscript.la ../lib/libfst.la -lm -ldl \n",
            "libtool: link: g++ -std=c++11 -o fstunion fstunion.o  ../script/.libs/libfstscript.a /content/openfst-1.6.1/src/lib/.libs/libfst.a ../lib/.libs/libfst.a -lm -ldl\n",
            "/bin/bash ../../libtool  --tag=CXX   --mode=link g++  -std=c++11   -o fstdisambiguate fstdisambiguate.o ../script/libfstscript.la ../lib/libfst.la -lm -ldl \n",
            "libtool: link: g++ -std=c++11 -o fstdisambiguate fstdisambiguate.o  ../script/.libs/libfstscript.a /content/openfst-1.6.1/src/lib/.libs/libfst.a ../lib/.libs/libfst.a -lm -ldl\n",
            "make[3]: Leaving directory '/content/openfst-1.6.1/src/bin'\n",
            "Making all in test\n",
            "make[3]: Entering directory '/content/openfst-1.6.1/src/test'\n",
            "make[3]: Nothing to be done for 'all'.\n",
            "make[3]: Leaving directory '/content/openfst-1.6.1/src/test'\n",
            "Making all in extensions\n",
            "make[3]: Entering directory '/content/openfst-1.6.1/src/extensions'\n",
            "Making all in far\n",
            "make[4]: Entering directory '/content/openfst-1.6.1/src/extensions/far'\n",
            "depbase=`echo sttable.lo | sed 's|[^/]*$|.deps/&|;s|\\.lo$||'`;\\\n",
            "/bin/bash ../../../libtool  --tag=CXX   --mode=compile g++ -DHAVE_CONFIG_H   -I./../../include  -fno-exceptions -funsigned-char  -std=c++11 -MT sttable.lo -MD -MP -MF $depbase.Tpo -c -o sttable.lo sttable.cc &&\\\n",
            "mv -f $depbase.Tpo $depbase.Plo\n",
            "depbase=`echo stlist.lo | sed 's|[^/]*$|.deps/&|;s|\\.lo$||'`;\\\n",
            "/bin/bash ../../../libtool  --tag=CXX   --mode=compile g++ -DHAVE_CONFIG_H   -I./../../include  -fno-exceptions -funsigned-char  -std=c++11 -MT stlist.lo -MD -MP -MF $depbase.Tpo -c -o stlist.lo stlist.cc &&\\\n",
            "mv -f $depbase.Tpo $depbase.Plo\n",
            "depbase=`echo far-class.lo | sed 's|[^/]*$|.deps/&|;s|\\.lo$||'`;\\\n",
            "/bin/bash ../../../libtool  --tag=CXX   --mode=compile g++ -DHAVE_CONFIG_H   -I./../../include  -fno-exceptions -funsigned-char  -std=c++11 -MT far-class.lo -MD -MP -MF $depbase.Tpo -c -o far-class.lo far-class.cc &&\\\n",
            "mv -f $depbase.Tpo $depbase.Plo\n",
            "libtool: compile:  g++ -DHAVE_CONFIG_H -I./../../include -fno-exceptions -funsigned-char -std=c++11 -MT sttable.lo -MD -MP -MF .deps/sttable.Tpo -c sttable.cc  -fPIC -DPIC -o sttable.o\n",
            "libtool: compile:  g++ -DHAVE_CONFIG_H -I./../../include -fno-exceptions -funsigned-char -std=c++11 -MT far-class.lo -MD -MP -MF .deps/far-class.Tpo -c far-class.cc  -fPIC -DPIC -o far-class.o\n",
            "libtool: compile:  g++ -DHAVE_CONFIG_H -I./../../include -fno-exceptions -funsigned-char -std=c++11 -MT stlist.lo -MD -MP -MF .deps/stlist.Tpo -c stlist.cc  -fPIC -DPIC -o stlist.o\n",
            "depbase=`echo farscript.lo | sed 's|[^/]*$|.deps/&|;s|\\.lo$||'`;\\\n",
            "/bin/bash ../../../libtool  --tag=CXX   --mode=compile g++ -DHAVE_CONFIG_H   -I./../../include  -fno-exceptions -funsigned-char  -std=c++11 -MT farscript.lo -MD -MP -MF $depbase.Tpo -c -o farscript.lo farscript.cc &&\\\n",
            "mv -f $depbase.Tpo $depbase.Plo\n",
            "libtool: compile:  g++ -DHAVE_CONFIG_H -I./../../include -fno-exceptions -funsigned-char -std=c++11 -MT farscript.lo -MD -MP -MF .deps/farscript.Tpo -c farscript.cc  -fPIC -DPIC -o farscript.o\n",
            "depbase=`echo getters.lo | sed 's|[^/]*$|.deps/&|;s|\\.lo$||'`;\\\n",
            "/bin/bash ../../../libtool  --tag=CXX   --mode=compile g++ -DHAVE_CONFIG_H   -I./../../include  -fno-exceptions -funsigned-char  -std=c++11 -MT getters.lo -MD -MP -MF $depbase.Tpo -c -o getters.lo getters.cc &&\\\n",
            "mv -f $depbase.Tpo $depbase.Plo\n",
            "libtool: compile:  g++ -DHAVE_CONFIG_H -I./../../include -fno-exceptions -funsigned-char -std=c++11 -MT getters.lo -MD -MP -MF .deps/getters.Tpo -c getters.cc  -fPIC -DPIC -o getters.o\n",
            "depbase=`echo script-impl.lo | sed 's|[^/]*$|.deps/&|;s|\\.lo$||'`;\\\n",
            "/bin/bash ../../../libtool  --tag=CXX   --mode=compile g++ -DHAVE_CONFIG_H   -I./../../include  -fno-exceptions -funsigned-char  -std=c++11 -MT script-impl.lo -MD -MP -MF $depbase.Tpo -c -o script-impl.lo script-impl.cc &&\\\n",
            "mv -f $depbase.Tpo $depbase.Plo\n",
            "In file included from \u001b[01m\u001b[K./../../include/fst/fstlib.h:123:0\u001b[m\u001b[K,\n",
            "                 from \u001b[01m\u001b[K./../../include/fst/script/arciterator-class.h:10\u001b[m\u001b[K,\n",
            "                 from \u001b[01m\u001b[K./../../include/fst/script/fstscript.h:21\u001b[m\u001b[K,\n",
            "                 from \u001b[01m\u001b[K./../../include/fst/extensions/far/far-class.h:14\u001b[m\u001b[K,\n",
            "                 from \u001b[01m\u001b[Kfar-class.cc:4\u001b[m\u001b[K:\n",
            "\u001b[01m\u001b[K./../../include/fst/string.h:117:54:\u001b[m\u001b[K \u001b[01;35m\u001b[Kwarning: \u001b[m\u001b[K'\u001b[01m\u001b[KTokenType\u001b[m\u001b[K' is deprecated: Use fst::StringTokenType [\u001b[01;35m\u001b[K-Wdeprecated-declarations\u001b[m\u001b[K]\n",
            "                           bool allow_negative = false\u001b[01;35m\u001b[K)\u001b[m\u001b[K\n",
            "                                                      \u001b[01;35m\u001b[K^\u001b[m\u001b[K\n",
            "\u001b[01m\u001b[K./../../include/fst/string.h:107:55:\u001b[m\u001b[K \u001b[01;36m\u001b[Knote: \u001b[m\u001b[Kdeclared here\n",
            "   enum OPENFST_DEPRECATED(\"Use fst::StringTokenType\") \u001b[01;36m\u001b[KTokenType\u001b[m\u001b[K {\n",
            "                                                       \u001b[01;36m\u001b[K^~~~~~~~~\u001b[m\u001b[K\n",
            "\u001b[01m\u001b[K./../../include/fst/string.h:207:59:\u001b[m\u001b[K \u001b[01;35m\u001b[Kwarning: \u001b[m\u001b[K'\u001b[01m\u001b[KTokenType\u001b[m\u001b[K' is deprecated: Use fst::StringTokenType [\u001b[01;35m\u001b[K-Wdeprecated-declarations\u001b[m\u001b[K]\n",
            "                          const SymbolTable *syms = nullptr\u001b[01;35m\u001b[K)\u001b[m\u001b[K\n",
            "                                                           \u001b[01;35m\u001b[K^\u001b[m\u001b[K\n",
            "\u001b[01m\u001b[K./../../include/fst/string.h:199:55:\u001b[m\u001b[K \u001b[01;36m\u001b[Knote: \u001b[m\u001b[Kdeclared here\n",
            "   enum OPENFST_DEPRECATED(\"Use fst::StringTokenType\") \u001b[01;36m\u001b[KTokenType\u001b[m\u001b[K {\n",
            "                                                       \u001b[01;36m\u001b[K^~~~~~~~~\u001b[m\u001b[K\n",
            "libtool: compile:  g++ -DHAVE_CONFIG_H -I./../../include -fno-exceptions -funsigned-char -std=c++11 -MT script-impl.lo -MD -MP -MF .deps/script-impl.Tpo -c script-impl.cc  -fPIC -DPIC -o script-impl.o\n",
            "In file included from \u001b[01m\u001b[K./../../include/fst/extensions/far/compile-strings.h:16:0\u001b[m\u001b[K,\n",
            "                 from \u001b[01m\u001b[K./../../include/fst/extensions/far/farscript.h:14\u001b[m\u001b[K,\n",
            "                 from \u001b[01m\u001b[Kfarscript.cc:7\u001b[m\u001b[K:\n",
            "\u001b[01m\u001b[K./../../include/fst/string.h:117:54:\u001b[m\u001b[K \u001b[01;35m\u001b[Kwarning: \u001b[m\u001b[K'\u001b[01m\u001b[KTokenType\u001b[m\u001b[K' is deprecated: Use fst::StringTokenType [\u001b[01;35m\u001b[K-Wdeprecated-declarations\u001b[m\u001b[K]\n",
            "                           bool allow_negative = false\u001b[01;35m\u001b[K)\u001b[m\u001b[K\n",
            "                                                      \u001b[01;35m\u001b[K^\u001b[m\u001b[K\n",
            "\u001b[01m\u001b[K./../../include/fst/string.h:107:55:\u001b[m\u001b[K \u001b[01;36m\u001b[Knote: \u001b[m\u001b[Kdeclared here\n",
            "   enum OPENFST_DEPRECATED(\"Use fst::StringTokenType\") \u001b[01;36m\u001b[KTokenType\u001b[m\u001b[K {\n",
            "                                                       \u001b[01;36m\u001b[K^~~~~~~~~\u001b[m\u001b[K\n",
            "\u001b[01m\u001b[K./../../include/fst/string.h:207:59:\u001b[m\u001b[K \u001b[01;35m\u001b[Kwarning: \u001b[m\u001b[K'\u001b[01m\u001b[KTokenType\u001b[m\u001b[K' is deprecated: Use fst::StringTokenType [\u001b[01;35m\u001b[K-Wdeprecated-declarations\u001b[m\u001b[K]\n",
            "                          const SymbolTable *syms = nullptr\u001b[01;35m\u001b[K)\u001b[m\u001b[K\n",
            "                                                           \u001b[01;35m\u001b[K^\u001b[m\u001b[K\n",
            "\u001b[01m\u001b[K./../../include/fst/string.h:199:55:\u001b[m\u001b[K \u001b[01;36m\u001b[Knote: \u001b[m\u001b[Kdeclared here\n",
            "   enum OPENFST_DEPRECATED(\"Use fst::StringTokenType\") \u001b[01;36m\u001b[KTokenType\u001b[m\u001b[K {\n",
            "                                                       \u001b[01;36m\u001b[K^~~~~~~~~\u001b[m\u001b[K\n",
            "depbase=`echo strings.lo | sed 's|[^/]*$|.deps/&|;s|\\.lo$||'`;\\\n",
            "/bin/bash ../../../libtool  --tag=CXX   --mode=compile g++ -DHAVE_CONFIG_H   -I./../../include  -fno-exceptions -funsigned-char  -std=c++11 -MT strings.lo -MD -MP -MF $depbase.Tpo -c -o strings.lo strings.cc &&\\\n",
            "mv -f $depbase.Tpo $depbase.Plo\n",
            "libtool: compile:  g++ -DHAVE_CONFIG_H -I./../../include -fno-exceptions -funsigned-char -std=c++11 -MT strings.lo -MD -MP -MF .deps/strings.Tpo -c strings.cc  -fPIC -DPIC -o strings.o\n",
            "In file included from \u001b[01m\u001b[K./../../include/fst/extensions/far/compile-strings.h:16:0\u001b[m\u001b[K,\n",
            "                 from \u001b[01m\u001b[Kstrings.cc:7\u001b[m\u001b[K:\n",
            "\u001b[01m\u001b[K./../../include/fst/string.h:117:54:\u001b[m\u001b[K \u001b[01;35m\u001b[Kwarning: \u001b[m\u001b[K'\u001b[01m\u001b[KTokenType\u001b[m\u001b[K' is deprecated: Use fst::StringTokenType [\u001b[01;35m\u001b[K-Wdeprecated-declarations\u001b[m\u001b[K]\n",
            "                           bool allow_negative = false\u001b[01;35m\u001b[K)\u001b[m\u001b[K\n",
            "                                                      \u001b[01;35m\u001b[K^\u001b[m\u001b[K\n",
            "\u001b[01m\u001b[K./../../include/fst/string.h:107:55:\u001b[m\u001b[K \u001b[01;36m\u001b[Knote: \u001b[m\u001b[Kdeclared here\n",
            "   enum OPENFST_DEPRECATED(\"Use fst::StringTokenType\") \u001b[01;36m\u001b[KTokenType\u001b[m\u001b[K {\n",
            "                                                       \u001b[01;36m\u001b[K^~~~~~~~~\u001b[m\u001b[K\n",
            "\u001b[01m\u001b[K./../../include/fst/string.h:207:59:\u001b[m\u001b[K \u001b[01;35m\u001b[Kwarning: \u001b[m\u001b[K'\u001b[01m\u001b[KTokenType\u001b[m\u001b[K' is deprecated: Use fst::StringTokenType [\u001b[01;35m\u001b[K-Wdeprecated-declarations\u001b[m\u001b[K]\n",
            "                          const SymbolTable *syms = nullptr\u001b[01;35m\u001b[K)\u001b[m\u001b[K\n",
            "                                                           \u001b[01;35m\u001b[K^\u001b[m\u001b[K\n",
            "\u001b[01m\u001b[K./../../include/fst/string.h:199:55:\u001b[m\u001b[K \u001b[01;36m\u001b[Knote: \u001b[m\u001b[Kdeclared here\n",
            "   enum OPENFST_DEPRECATED(\"Use fst::StringTokenType\") \u001b[01;36m\u001b[KTokenType\u001b[m\u001b[K {\n",
            "                                                       \u001b[01;36m\u001b[K^~~~~~~~~\u001b[m\u001b[K\n",
            "depbase=`echo farcompilestrings.o | sed 's|[^/]*$|.deps/&|;s|\\.o$||'`;\\\n",
            "g++ -DHAVE_CONFIG_H   -I./../../include  -fno-exceptions -funsigned-char  -std=c++11 -MT farcompilestrings.o -MD -MP -MF $depbase.Tpo -c -o farcompilestrings.o farcompilestrings.cc &&\\\n",
            "mv -f $depbase.Tpo $depbase.Po\n",
            "depbase=`echo farcreate.o | sed 's|[^/]*$|.deps/&|;s|\\.o$||'`;\\\n",
            "g++ -DHAVE_CONFIG_H   -I./../../include  -fno-exceptions -funsigned-char  -std=c++11 -MT farcreate.o -MD -MP -MF $depbase.Tpo -c -o farcreate.o farcreate.cc &&\\\n",
            "mv -f $depbase.Tpo $depbase.Po\n",
            "In file included from \u001b[01m\u001b[K./../../include/fst/extensions/far/compile-strings.h:16:0\u001b[m\u001b[K,\n",
            "                 from \u001b[01m\u001b[K./../../include/fst/extensions/far/farscript.h:14\u001b[m\u001b[K,\n",
            "                 from \u001b[01m\u001b[Kfarcompilestrings.cc:9\u001b[m\u001b[K:\n",
            "\u001b[01m\u001b[K./../../include/fst/string.h:117:54:\u001b[m\u001b[K \u001b[01;35m\u001b[Kwarning: \u001b[m\u001b[K‘\u001b[01m\u001b[KTokenType\u001b[m\u001b[K’ is deprecated: Use fst::StringTokenType [\u001b[01;35m\u001b[K-Wdeprecated-declarations\u001b[m\u001b[K]\n",
            "                           bool allow_negative = false\u001b[01;35m\u001b[K)\u001b[m\u001b[K\n",
            "                                                      \u001b[01;35m\u001b[K^\u001b[m\u001b[K\n",
            "\u001b[01m\u001b[K./../../include/fst/string.h:107:55:\u001b[m\u001b[K \u001b[01;36m\u001b[Knote: \u001b[m\u001b[Kdeclared here\n",
            "   enum OPENFST_DEPRECATED(\"Use fst::StringTokenType\") \u001b[01;36m\u001b[KTokenType\u001b[m\u001b[K {\n",
            "                                                       \u001b[01;36m\u001b[K^~~~~~~~~\u001b[m\u001b[K\n",
            "\u001b[01m\u001b[K./../../include/fst/string.h:207:59:\u001b[m\u001b[K \u001b[01;35m\u001b[Kwarning: \u001b[m\u001b[K‘\u001b[01m\u001b[KTokenType\u001b[m\u001b[K’ is deprecated: Use fst::StringTokenType [\u001b[01;35m\u001b[K-Wdeprecated-declarations\u001b[m\u001b[K]\n",
            "                          const SymbolTable *syms = nullptr\u001b[01;35m\u001b[K)\u001b[m\u001b[K\n",
            "                                                           \u001b[01;35m\u001b[K^\u001b[m\u001b[K\n",
            "\u001b[01m\u001b[K./../../include/fst/string.h:199:55:\u001b[m\u001b[K \u001b[01;36m\u001b[Knote: \u001b[m\u001b[Kdeclared here\n",
            "   enum OPENFST_DEPRECATED(\"Use fst::StringTokenType\") \u001b[01;36m\u001b[KTokenType\u001b[m\u001b[K {\n",
            "                                                       \u001b[01;36m\u001b[K^~~~~~~~~\u001b[m\u001b[K\n",
            "In file included from \u001b[01m\u001b[K./../../include/fst/extensions/far/compile-strings.h:16:0\u001b[m\u001b[K,\n",
            "                 from \u001b[01m\u001b[K./../../include/fst/extensions/far/farscript.h:14\u001b[m\u001b[K,\n",
            "                 from \u001b[01m\u001b[Kfarcreate.cc:9\u001b[m\u001b[K:\n",
            "\u001b[01m\u001b[K./../../include/fst/string.h:117:54:\u001b[m\u001b[K \u001b[01;35m\u001b[Kwarning: \u001b[m\u001b[K‘\u001b[01m\u001b[KTokenType\u001b[m\u001b[K’ is deprecated: Use fst::StringTokenType [\u001b[01;35m\u001b[K-Wdeprecated-declarations\u001b[m\u001b[K]\n",
            "                           bool allow_negative = false\u001b[01;35m\u001b[K)\u001b[m\u001b[K\n",
            "                                                      \u001b[01;35m\u001b[K^\u001b[m\u001b[K\n",
            "\u001b[01m\u001b[K./../../include/fst/string.h:107:55:\u001b[m\u001b[K \u001b[01;36m\u001b[Knote: \u001b[m\u001b[Kdeclared here\n",
            "   enum OPENFST_DEPRECATED(\"Use fst::StringTokenType\") \u001b[01;36m\u001b[KTokenType\u001b[m\u001b[K {\n",
            "                                                       \u001b[01;36m\u001b[K^~~~~~~~~\u001b[m\u001b[K\n",
            "\u001b[01m\u001b[K./../../include/fst/string.h:207:59:\u001b[m\u001b[K \u001b[01;35m\u001b[Kwarning: \u001b[m\u001b[K‘\u001b[01m\u001b[KTokenType\u001b[m\u001b[K’ is deprecated: Use fst::StringTokenType [\u001b[01;35m\u001b[K-Wdeprecated-declarations\u001b[m\u001b[K]\n",
            "                          const SymbolTable *syms = nullptr\u001b[01;35m\u001b[K)\u001b[m\u001b[K\n",
            "                                                           \u001b[01;35m\u001b[K^\u001b[m\u001b[K\n",
            "\u001b[01m\u001b[K./../../include/fst/string.h:199:55:\u001b[m\u001b[K \u001b[01;36m\u001b[Knote: \u001b[m\u001b[Kdeclared here\n",
            "   enum OPENFST_DEPRECATED(\"Use fst::StringTokenType\") \u001b[01;36m\u001b[KTokenType\u001b[m\u001b[K {\n",
            "                                                       \u001b[01;36m\u001b[K^~~~~~~~~\u001b[m\u001b[K\n",
            "depbase=`echo farequal.o | sed 's|[^/]*$|.deps/&|;s|\\.o$||'`;\\\n",
            "g++ -DHAVE_CONFIG_H   -I./../../include  -fno-exceptions -funsigned-char  -std=c++11 -MT farequal.o -MD -MP -MF $depbase.Tpo -c -o farequal.o farequal.cc &&\\\n",
            "mv -f $depbase.Tpo $depbase.Po\n",
            "depbase=`echo farextract.o | sed 's|[^/]*$|.deps/&|;s|\\.o$||'`;\\\n",
            "g++ -DHAVE_CONFIG_H   -I./../../include  -fno-exceptions -funsigned-char  -std=c++11 -MT farextract.o -MD -MP -MF $depbase.Tpo -c -o farextract.o farextract.cc &&\\\n",
            "mv -f $depbase.Tpo $depbase.Po\n",
            "In file included from \u001b[01m\u001b[K./../../include/fst/extensions/far/compile-strings.h:16:0\u001b[m\u001b[K,\n",
            "                 from \u001b[01m\u001b[K./../../include/fst/extensions/far/farscript.h:14\u001b[m\u001b[K,\n",
            "                 from \u001b[01m\u001b[Kfarequal.cc:8\u001b[m\u001b[K:\n",
            "\u001b[01m\u001b[K./../../include/fst/string.h:117:54:\u001b[m\u001b[K \u001b[01;35m\u001b[Kwarning: \u001b[m\u001b[K‘\u001b[01m\u001b[KTokenType\u001b[m\u001b[K’ is deprecated: Use fst::StringTokenType [\u001b[01;35m\u001b[K-Wdeprecated-declarations\u001b[m\u001b[K]\n",
            "                           bool allow_negative = false\u001b[01;35m\u001b[K)\u001b[m\u001b[K\n",
            "                                                      \u001b[01;35m\u001b[K^\u001b[m\u001b[K\n",
            "\u001b[01m\u001b[K./../../include/fst/string.h:107:55:\u001b[m\u001b[K \u001b[01;36m\u001b[Knote: \u001b[m\u001b[Kdeclared here\n",
            "   enum OPENFST_DEPRECATED(\"Use fst::StringTokenType\") \u001b[01;36m\u001b[KTokenType\u001b[m\u001b[K {\n",
            "                                                       \u001b[01;36m\u001b[K^~~~~~~~~\u001b[m\u001b[K\n",
            "\u001b[01m\u001b[K./../../include/fst/string.h:207:59:\u001b[m\u001b[K \u001b[01;35m\u001b[Kwarning: \u001b[m\u001b[K‘\u001b[01m\u001b[KTokenType\u001b[m\u001b[K’ is deprecated: Use fst::StringTokenType [\u001b[01;35m\u001b[K-Wdeprecated-declarations\u001b[m\u001b[K]\n",
            "                          const SymbolTable *syms = nullptr\u001b[01;35m\u001b[K)\u001b[m\u001b[K\n",
            "                                                           \u001b[01;35m\u001b[K^\u001b[m\u001b[K\n",
            "\u001b[01m\u001b[K./../../include/fst/string.h:199:55:\u001b[m\u001b[K \u001b[01;36m\u001b[Knote: \u001b[m\u001b[Kdeclared here\n",
            "   enum OPENFST_DEPRECATED(\"Use fst::StringTokenType\") \u001b[01;36m\u001b[KTokenType\u001b[m\u001b[K {\n",
            "                                                       \u001b[01;36m\u001b[K^~~~~~~~~\u001b[m\u001b[K\n",
            "In file included from \u001b[01m\u001b[K./../../include/fst/extensions/far/compile-strings.h:16:0\u001b[m\u001b[K,\n",
            "                 from \u001b[01m\u001b[K./../../include/fst/extensions/far/farscript.h:14\u001b[m\u001b[K,\n",
            "                 from \u001b[01m\u001b[Kfarextract.cc:9\u001b[m\u001b[K:\n",
            "\u001b[01m\u001b[K./../../include/fst/string.h:117:54:\u001b[m\u001b[K \u001b[01;35m\u001b[Kwarning: \u001b[m\u001b[K‘\u001b[01m\u001b[KTokenType\u001b[m\u001b[K’ is deprecated: Use fst::StringTokenType [\u001b[01;35m\u001b[K-Wdeprecated-declarations\u001b[m\u001b[K]\n",
            "                           bool allow_negative = false\u001b[01;35m\u001b[K)\u001b[m\u001b[K\n",
            "                                                      \u001b[01;35m\u001b[K^\u001b[m\u001b[K\n",
            "\u001b[01m\u001b[K./../../include/fst/string.h:107:55:\u001b[m\u001b[K \u001b[01;36m\u001b[Knote: \u001b[m\u001b[Kdeclared here\n",
            "   enum OPENFST_DEPRECATED(\"Use fst::StringTokenType\") \u001b[01;36m\u001b[KTokenType\u001b[m\u001b[K {\n",
            "                                                       \u001b[01;36m\u001b[K^~~~~~~~~\u001b[m\u001b[K\n",
            "\u001b[01m\u001b[K./../../include/fst/string.h:207:59:\u001b[m\u001b[K \u001b[01;35m\u001b[Kwarning: \u001b[m\u001b[K‘\u001b[01m\u001b[KTokenType\u001b[m\u001b[K’ is deprecated: Use fst::StringTokenType [\u001b[01;35m\u001b[K-Wdeprecated-declarations\u001b[m\u001b[K]\n",
            "                          const SymbolTable *syms = nullptr\u001b[01;35m\u001b[K)\u001b[m\u001b[K\n",
            "                                                           \u001b[01;35m\u001b[K^\u001b[m\u001b[K\n",
            "\u001b[01m\u001b[K./../../include/fst/string.h:199:55:\u001b[m\u001b[K \u001b[01;36m\u001b[Knote: \u001b[m\u001b[Kdeclared here\n",
            "   enum OPENFST_DEPRECATED(\"Use fst::StringTokenType\") \u001b[01;36m\u001b[KTokenType\u001b[m\u001b[K {\n",
            "                                                       \u001b[01;36m\u001b[K^~~~~~~~~\u001b[m\u001b[K\n",
            "depbase=`echo farinfo.o | sed 's|[^/]*$|.deps/&|;s|\\.o$||'`;\\\n",
            "g++ -DHAVE_CONFIG_H   -I./../../include  -fno-exceptions -funsigned-char  -std=c++11 -MT farinfo.o -MD -MP -MF $depbase.Tpo -c -o farinfo.o farinfo.cc &&\\\n",
            "mv -f $depbase.Tpo $depbase.Po\n",
            "depbase=`echo farisomorphic.o | sed 's|[^/]*$|.deps/&|;s|\\.o$||'`;\\\n",
            "g++ -DHAVE_CONFIG_H   -I./../../include  -fno-exceptions -funsigned-char  -std=c++11 -MT farisomorphic.o -MD -MP -MF $depbase.Tpo -c -o farisomorphic.o farisomorphic.cc &&\\\n",
            "mv -f $depbase.Tpo $depbase.Po\n",
            "In file included from \u001b[01m\u001b[K./../../include/fst/extensions/far/compile-strings.h:16:0\u001b[m\u001b[K,\n",
            "                 from \u001b[01m\u001b[K./../../include/fst/extensions/far/farscript.h:14\u001b[m\u001b[K,\n",
            "                 from \u001b[01m\u001b[Kfarisomorphic.cc:8\u001b[m\u001b[K:\n",
            "\u001b[01m\u001b[K./../../include/fst/string.h:117:54:\u001b[m\u001b[K \u001b[01;35m\u001b[Kwarning: \u001b[m\u001b[K‘\u001b[01m\u001b[KTokenType\u001b[m\u001b[K’ is deprecated: Use fst::StringTokenType [\u001b[01;35m\u001b[K-Wdeprecated-declarations\u001b[m\u001b[K]\n",
            "                           bool allow_negative = false\u001b[01;35m\u001b[K)\u001b[m\u001b[K\n",
            "                                                      \u001b[01;35m\u001b[K^\u001b[m\u001b[K\n",
            "\u001b[01m\u001b[K./../../include/fst/string.h:107:55:\u001b[m\u001b[K \u001b[01;36m\u001b[Knote: \u001b[m\u001b[Kdeclared here\n",
            "   enum OPENFST_DEPRECATED(\"Use fst::StringTokenType\") \u001b[01;36m\u001b[KTokenType\u001b[m\u001b[K {\n",
            "                                                       \u001b[01;36m\u001b[K^~~~~~~~~\u001b[m\u001b[K\n",
            "\u001b[01m\u001b[K./../../include/fst/string.h:207:59:\u001b[m\u001b[K \u001b[01;35m\u001b[Kwarning: \u001b[m\u001b[K‘\u001b[01m\u001b[KTokenType\u001b[m\u001b[K’ is deprecated: Use fst::StringTokenType [\u001b[01;35m\u001b[K-Wdeprecated-declarations\u001b[m\u001b[K]\n",
            "                          const SymbolTable *syms = nullptr\u001b[01;35m\u001b[K)\u001b[m\u001b[K\n",
            "                                                           \u001b[01;35m\u001b[K^\u001b[m\u001b[K\n",
            "\u001b[01m\u001b[K./../../include/fst/string.h:199:55:\u001b[m\u001b[K \u001b[01;36m\u001b[Knote: \u001b[m\u001b[Kdeclared here\n",
            "   enum OPENFST_DEPRECATED(\"Use fst::StringTokenType\") \u001b[01;36m\u001b[KTokenType\u001b[m\u001b[K {\n",
            "                                                       \u001b[01;36m\u001b[K^~~~~~~~~\u001b[m\u001b[K\n",
            "In file included from \u001b[01m\u001b[K./../../include/fst/extensions/far/compile-strings.h:16:0\u001b[m\u001b[K,\n",
            "                 from \u001b[01m\u001b[K./../../include/fst/extensions/far/farscript.h:14\u001b[m\u001b[K,\n",
            "                 from \u001b[01m\u001b[Kfarinfo.cc:9\u001b[m\u001b[K:\n",
            "\u001b[01m\u001b[K./../../include/fst/string.h:117:54:\u001b[m\u001b[K \u001b[01;35m\u001b[Kwarning: \u001b[m\u001b[K‘\u001b[01m\u001b[KTokenType\u001b[m\u001b[K’ is deprecated: Use fst::StringTokenType [\u001b[01;35m\u001b[K-Wdeprecated-declarations\u001b[m\u001b[K]\n",
            "                           bool allow_negative = false\u001b[01;35m\u001b[K)\u001b[m\u001b[K\n",
            "                                                      \u001b[01;35m\u001b[K^\u001b[m\u001b[K\n",
            "\u001b[01m\u001b[K./../../include/fst/string.h:107:55:\u001b[m\u001b[K \u001b[01;36m\u001b[Knote: \u001b[m\u001b[Kdeclared here\n",
            "   enum OPENFST_DEPRECATED(\"Use fst::StringTokenType\") \u001b[01;36m\u001b[KTokenType\u001b[m\u001b[K {\n",
            "                                                       \u001b[01;36m\u001b[K^~~~~~~~~\u001b[m\u001b[K\n",
            "\u001b[01m\u001b[K./../../include/fst/string.h:207:59:\u001b[m\u001b[K \u001b[01;35m\u001b[Kwarning: \u001b[m\u001b[K‘\u001b[01m\u001b[KTokenType\u001b[m\u001b[K’ is deprecated: Use fst::StringTokenType [\u001b[01;35m\u001b[K-Wdeprecated-declarations\u001b[m\u001b[K]\n",
            "                          const SymbolTable *syms = nullptr\u001b[01;35m\u001b[K)\u001b[m\u001b[K\n",
            "                                                           \u001b[01;35m\u001b[K^\u001b[m\u001b[K\n",
            "\u001b[01m\u001b[K./../../include/fst/string.h:199:55:\u001b[m\u001b[K \u001b[01;36m\u001b[Knote: \u001b[m\u001b[Kdeclared here\n",
            "   enum OPENFST_DEPRECATED(\"Use fst::StringTokenType\") \u001b[01;36m\u001b[KTokenType\u001b[m\u001b[K {\n",
            "                                                       \u001b[01;36m\u001b[K^~~~~~~~~\u001b[m\u001b[K\n",
            "depbase=`echo farprintstrings.o | sed 's|[^/]*$|.deps/&|;s|\\.o$||'`;\\\n",
            "g++ -DHAVE_CONFIG_H   -I./../../include  -fno-exceptions -funsigned-char  -std=c++11 -MT farprintstrings.o -MD -MP -MF $depbase.Tpo -c -o farprintstrings.o farprintstrings.cc &&\\\n",
            "mv -f $depbase.Tpo $depbase.Po\n",
            "/bin/bash ../../../libtool  --tag=CXX   --mode=link g++  -std=c++11 -version-info 7:0:0  -o libfstfar.la -rpath /usr/local/lib sttable.lo stlist.lo ../../lib/libfst.la -lm -ldl \n",
            "libtool: link: ar cru .libs/libfstfar.a  sttable.o stlist.o\n",
            "ar: `u' modifier ignored since `D' is the default (see `U')\n",
            "libtool: link: ranlib .libs/libfstfar.a\n",
            "libtool: link: ( cd \".libs\" && rm -f \"libfstfar.la\" && ln -s \"../libfstfar.la\" \"libfstfar.la\" )\n",
            "In file included from \u001b[01m\u001b[K./../../include/fst/extensions/far/compile-strings.h:16:0\u001b[m\u001b[K,\n",
            "                 from \u001b[01m\u001b[K./../../include/fst/extensions/far/farscript.h:14\u001b[m\u001b[K,\n",
            "                 from \u001b[01m\u001b[Kfarprintstrings.cc:9\u001b[m\u001b[K:\n",
            "\u001b[01m\u001b[K./../../include/fst/string.h:117:54:\u001b[m\u001b[K \u001b[01;35m\u001b[Kwarning: \u001b[m\u001b[K‘\u001b[01m\u001b[KTokenType\u001b[m\u001b[K’ is deprecated: Use fst::StringTokenType [\u001b[01;35m\u001b[K-Wdeprecated-declarations\u001b[m\u001b[K]\n",
            "                           bool allow_negative = false\u001b[01;35m\u001b[K)\u001b[m\u001b[K\n",
            "                                                      \u001b[01;35m\u001b[K^\u001b[m\u001b[K\n",
            "\u001b[01m\u001b[K./../../include/fst/string.h:107:55:\u001b[m\u001b[K \u001b[01;36m\u001b[Knote: \u001b[m\u001b[Kdeclared here\n",
            "   enum OPENFST_DEPRECATED(\"Use fst::StringTokenType\") \u001b[01;36m\u001b[KTokenType\u001b[m\u001b[K {\n",
            "                                                       \u001b[01;36m\u001b[K^~~~~~~~~\u001b[m\u001b[K\n",
            "\u001b[01m\u001b[K./../../include/fst/string.h:207:59:\u001b[m\u001b[K \u001b[01;35m\u001b[Kwarning: \u001b[m\u001b[K‘\u001b[01m\u001b[KTokenType\u001b[m\u001b[K’ is deprecated: Use fst::StringTokenType [\u001b[01;35m\u001b[K-Wdeprecated-declarations\u001b[m\u001b[K]\n",
            "                          const SymbolTable *syms = nullptr\u001b[01;35m\u001b[K)\u001b[m\u001b[K\n",
            "                                                           \u001b[01;35m\u001b[K^\u001b[m\u001b[K\n",
            "\u001b[01m\u001b[K./../../include/fst/string.h:199:55:\u001b[m\u001b[K \u001b[01;36m\u001b[Knote: \u001b[m\u001b[Kdeclared here\n",
            "   enum OPENFST_DEPRECATED(\"Use fst::StringTokenType\") \u001b[01;36m\u001b[KTokenType\u001b[m\u001b[K {\n",
            "                                                       \u001b[01;36m\u001b[K^~~~~~~~~\u001b[m\u001b[K\n",
            "/bin/bash ../../../libtool  --tag=CXX   --mode=link g++  -std=c++11 -version-info 7:0:0  -o libfstfarscript.la -rpath /usr/local/lib far-class.lo farscript.lo getters.lo script-impl.lo strings.lo libfstfar.la ../../script/libfstscript.la ../../lib/libfst.la -lm -ldl \n",
            "libtool: link: ar cru .libs/libfstfarscript.a  far-class.o farscript.o getters.o script-impl.o strings.o\n",
            "ar: `u' modifier ignored since `D' is the default (see `U')\n",
            "libtool: link: ranlib .libs/libfstfarscript.a\n",
            "libtool: link: ( cd \".libs\" && rm -f \"libfstfarscript.la\" && ln -s \"../libfstfarscript.la\" \"libfstfarscript.la\" )\n",
            "/bin/bash ../../../libtool  --tag=CXX   --mode=link g++  -std=c++11   -o farcreate farcreate.o libfstfarscript.la ../../script/libfstscript.la ../../lib/libfst.la -lm -ldl \n",
            "/bin/bash ../../../libtool  --tag=CXX   --mode=link g++  -std=c++11   -o farcompilestrings farcompilestrings.o libfstfarscript.la ../../script/libfstscript.la ../../lib/libfst.la -lm -ldl \n",
            "/bin/bash ../../../libtool  --tag=CXX   --mode=link g++  -std=c++11   -o farequal farequal.o libfstfarscript.la ../../script/libfstscript.la ../../lib/libfst.la -lm -ldl \n",
            "libtool: link: g++ -std=c++11 -o farcreate farcreate.o  ./.libs/libfstfarscript.a /content/openfst-1.6.1/src/extensions/far/.libs/libfstfar.a /content/openfst-1.6.1/src/script/.libs/libfstscript.a ../../script/.libs/libfstscript.a /content/openfst-1.6.1/src/lib/.libs/libfst.a ../../lib/.libs/libfst.a -lm -ldl\n",
            "libtool: link: g++ -std=c++11 -o farequal farequal.o  ./.libs/libfstfarscript.a /content/openfst-1.6.1/src/extensions/far/.libs/libfstfar.a /content/openfst-1.6.1/src/script/.libs/libfstscript.a ../../script/.libs/libfstscript.a /content/openfst-1.6.1/src/lib/.libs/libfst.a ../../lib/.libs/libfst.a -lm -ldl\n",
            "libtool: link: g++ -std=c++11 -o farcompilestrings farcompilestrings.o  ./.libs/libfstfarscript.a /content/openfst-1.6.1/src/extensions/far/.libs/libfstfar.a /content/openfst-1.6.1/src/script/.libs/libfstscript.a ../../script/.libs/libfstscript.a /content/openfst-1.6.1/src/lib/.libs/libfst.a ../../lib/.libs/libfst.a -lm -ldl\n",
            "/bin/bash ../../../libtool  --tag=CXX   --mode=link g++  -std=c++11   -o farextract farextract.o libfstfarscript.la ../../script/libfstscript.la ../../lib/libfst.la -lm -ldl \n",
            "libtool: link: g++ -std=c++11 -o farextract farextract.o  ./.libs/libfstfarscript.a /content/openfst-1.6.1/src/extensions/far/.libs/libfstfar.a /content/openfst-1.6.1/src/script/.libs/libfstscript.a ../../script/.libs/libfstscript.a /content/openfst-1.6.1/src/lib/.libs/libfst.a ../../lib/.libs/libfst.a -lm -ldl\n",
            "/bin/bash ../../../libtool  --tag=CXX   --mode=link g++  -std=c++11   -o farinfo farinfo.o libfstfarscript.la ../../script/libfstscript.la ../../lib/libfst.la -lm -ldl \n",
            "/bin/bash ../../../libtool  --tag=CXX   --mode=link g++  -std=c++11   -o farisomorphic farisomorphic.o libfstfarscript.la ../../script/libfstscript.la ../../lib/libfst.la -lm -ldl \n",
            "libtool: link: g++ -std=c++11 -o farinfo farinfo.o  ./.libs/libfstfarscript.a /content/openfst-1.6.1/src/extensions/far/.libs/libfstfar.a /content/openfst-1.6.1/src/script/.libs/libfstscript.a ../../script/.libs/libfstscript.a /content/openfst-1.6.1/src/lib/.libs/libfst.a ../../lib/.libs/libfst.a -lm -ldl\n",
            "libtool: link: g++ -std=c++11 -o farisomorphic farisomorphic.o  ./.libs/libfstfarscript.a /content/openfst-1.6.1/src/extensions/far/.libs/libfstfar.a /content/openfst-1.6.1/src/script/.libs/libfstscript.a ../../script/.libs/libfstscript.a /content/openfst-1.6.1/src/lib/.libs/libfst.a ../../lib/.libs/libfst.a -lm -ldl\n",
            "/bin/bash ../../../libtool  --tag=CXX   --mode=link g++  -std=c++11   -o farprintstrings farprintstrings.o libfstfarscript.la ../../script/libfstscript.la ../../lib/libfst.la -lm -ldl \n",
            "libtool: link: g++ -std=c++11 -o farprintstrings farprintstrings.o  ./.libs/libfstfarscript.a /content/openfst-1.6.1/src/extensions/far/.libs/libfstfar.a /content/openfst-1.6.1/src/script/.libs/libfstscript.a ../../script/.libs/libfstscript.a /content/openfst-1.6.1/src/lib/.libs/libfst.a ../../lib/.libs/libfst.a -lm -ldl\n",
            "make[4]: Leaving directory '/content/openfst-1.6.1/src/extensions/far'\n",
            "make[4]: Entering directory '/content/openfst-1.6.1/src/extensions'\n",
            "make[4]: Nothing to be done for 'all-am'.\n",
            "make[4]: Leaving directory '/content/openfst-1.6.1/src/extensions'\n",
            "make[3]: Leaving directory '/content/openfst-1.6.1/src/extensions'\n",
            "make[3]: Entering directory '/content/openfst-1.6.1/src'\n",
            "make[3]: Nothing to be done for 'all-am'.\n",
            "make[3]: Leaving directory '/content/openfst-1.6.1/src'\n",
            "make[2]: Leaving directory '/content/openfst-1.6.1/src'\n",
            "make[2]: Entering directory '/content/openfst-1.6.1'\n",
            "make[2]: Leaving directory '/content/openfst-1.6.1'\n",
            "make[1]: Leaving directory '/content/openfst-1.6.1'\n",
            "Making install in src\n",
            "make[1]: Entering directory '/content/openfst-1.6.1/src'\n",
            "Making install in include\n",
            "make[2]: Entering directory '/content/openfst-1.6.1/src/include'\n",
            "make[3]: Entering directory '/content/openfst-1.6.1/src/include'\n",
            "make[3]: Nothing to be done for 'install-exec-am'.\n",
            " /bin/mkdir -p '/usr/local/include'\n",
            " /bin/mkdir -p '/usr/local/include/fst'\n",
            " /usr/bin/install -c -m 644  fst/arc-arena.h fst/arc.h fst/determinize.h fst/intersect.h fst/queue.h fst/statesort.h fst/arcfilter.h fst/dfs-visit.h fst/invert.h fst/randequivalent.h fst/string-weight.h fst/difference.h fst/lexicographic-weight.h fst/randgen.h fst/symbol-table.h fst/arcsort.h fst/encode.h fst/lock.h fst/synchronize.h fst/epsnormalize.h fst/log.h fst/rational.h fst/test-properties.h fst/cache.h fst/equal.h fst/arc-map.h fst/map.h fst/register.h fst/topsort.h fst/closure.h fst/equivalent.h fst/matcher.h fst/matcher-fst.h fst/relabel.h fst/union-find.h fst/compact-fst.h fst/expanded-fst.h fst/minimize.h fst/replace.h fst/union.h '/usr/local/include/fst'\n",
            " /bin/mkdir -p '/usr/local/include/fst'\n",
            " /usr/bin/install -c -m 644  fst/compat.h fst/factor-weight.h fst/state-map.h fst/mutable-fst.h fst/reverse.h fst/util.h fst/complement.h fst/flags.h fst/partition.h fst/reweight.h fst/vector-fst.h fst/filter-state.h fst/compose-filter.h fst/float-weight.h fst/product-weight.h fst/rmepsilon.h fst/verify.h fst/compose.h fst/fst-decl.h fst/project.h fst/rmfinalepsilon.h fst/visit.h fst/concat.h fst/fst.h fst/properties.h fst/shortest-distance.h fst/weight.h fst/connect.h fst/fstlib.h fst/prune.h fst/shortest-path.h fst/const-fst.h fst/heap.h fst/push.h fst/state-table.h fst/pair-weight.h fst/config.h fst/tuple-weight.h fst/power-weight.h fst/lookahead-matcher.h '/usr/local/include/fst'\n",
            " /bin/mkdir -p '/usr/local/include/fst/script'\n",
            " /usr/bin/install -c -m 644  fst/script/arc-class.h fst/script/arciterator-class.h fst/script/arcsort.h fst/script/arg-packs.h fst/script/closure.h fst/script/compile-impl.h fst/script/compile.h fst/script/compose.h fst/script/concat.h fst/script/connect.h fst/script/convert.h fst/script/decode.h fst/script/determinize.h fst/script/difference.h fst/script/disambiguate.h fst/script/draw-impl.h fst/script/draw.h fst/script/encode.h fst/script/encodemapper-class.h fst/script/epsnormalize.h fst/script/equal.h fst/script/equivalent.h fst/script/fst-class.h fst/script/fstscript.h fst/script/getters.h fst/script/info-impl.h fst/script/info.h fst/script/intersect.h fst/script/invert.h fst/script/isomorphic.h fst/script/map.h fst/script/minimize.h fst/script/print-impl.h fst/script/print.h fst/script/project.h fst/script/prune.h fst/script/push.h fst/script/randequivalent.h fst/script/randgen.h fst/script/register.h '/usr/local/include/fst/script'\n",
            " /bin/mkdir -p '/usr/local/include/fst'\n",
            " /usr/bin/install -c -m 644  fst/types.h fst/add-on.h fst/label-reachable.h fst/accumulator.h fst/interval-set.h fst/state-reachable.h fst/lookahead-filter.h fst/generic-register.h fst/edit-fst.h fst/replace-util.h fst/icu.h fst/string.h fst/signed-log-weight.h fst/sparse-tuple-weight.h fst/sparse-power-weight.h fst/expectation-weight.h fst/symbol-table-ops.h fst/bi-table.h fst/mapped-file.h fst/memory.h fst/filter-state.h fst/disambiguate.h fst/isomorphic.h fst/union-weight.h '/usr/local/include/fst'\n",
            " /bin/mkdir -p '/usr/local/include/fst/extensions/far'\n",
            " /usr/bin/install -c -m 644  fst/extensions/far/compile-strings.h fst/extensions/far/create.h fst/extensions/far/equal.h fst/extensions/far/extract.h fst/extensions/far/far.h fst/extensions/far/far-class.h fst/extensions/far/farlib.h fst/extensions/far/farscript.h fst/extensions/far/getters.h fst/extensions/far/info.h fst/extensions/far/isomorphic.h fst/extensions/far/print-strings.h fst/extensions/far/script-impl.h fst/extensions/far/stlist.h fst/extensions/far/sttable.h '/usr/local/include/fst/extensions/far'\n",
            " /bin/mkdir -p '/usr/local/include/fst/script'\n",
            " /usr/bin/install -c -m 644  fst/script/relabel.h fst/script/replace.h fst/script/reverse.h fst/script/reweight.h fst/script/rmepsilon.h fst/script/script-impl.h fst/script/shortest-distance.h fst/script/shortest-path.h fst/script/stateiterator-class.h fst/script/synchronize.h fst/script/text-io.h fst/script/topsort.h fst/script/union.h fst/script/weight-class.h fst/script/fstscript-decl.h fst/script/verify.h '/usr/local/include/fst/script'\n",
            "make[3]: Leaving directory '/content/openfst-1.6.1/src/include'\n",
            "make[2]: Leaving directory '/content/openfst-1.6.1/src/include'\n",
            "Making install in lib\n",
            "make[2]: Entering directory '/content/openfst-1.6.1/src/lib'\n",
            "make[3]: Entering directory '/content/openfst-1.6.1/src/lib'\n",
            " /bin/mkdir -p '/usr/local/lib'\n",
            " /bin/bash ../../libtool   --mode=install /usr/bin/install -c   libfst.la '/usr/local/lib'\n",
            "libtool: install: /usr/bin/install -c .libs/libfst.lai /usr/local/lib/libfst.la\n",
            "libtool: install: /usr/bin/install -c .libs/libfst.a /usr/local/lib/libfst.a\n",
            "libtool: install: chmod 644 /usr/local/lib/libfst.a\n",
            "libtool: install: ranlib /usr/local/lib/libfst.a\n",
            "libtool: finish: PATH=\"/usr/local/sbin:/usr/local/bin:/usr/sbin:/usr/bin:/sbin:/bin:/snap/bin:/sbin\" ldconfig -n /usr/local/lib\n",
            "----------------------------------------------------------------------\n",
            "Libraries have been installed in:\n",
            "   /usr/local/lib\n",
            "\n",
            "If you ever happen to want to link against installed libraries\n",
            "in a given directory, LIBDIR, you must either use libtool, and\n",
            "specify the full pathname of the library, or use the `-LLIBDIR'\n",
            "flag during linking and do at least one of the following:\n",
            "   - add LIBDIR to the `LD_LIBRARY_PATH' environment variable\n",
            "     during execution\n",
            "   - add LIBDIR to the `LD_RUN_PATH' environment variable\n",
            "     during linking\n",
            "   - use the `-Wl,-rpath -Wl,LIBDIR' linker flag\n",
            "   - have your system administrator add LIBDIR to `/etc/ld.so.conf'\n",
            "\n",
            "See any operating system documentation about shared libraries for\n",
            "more information, such as the ld(1) and ld.so(8) manual pages.\n",
            "----------------------------------------------------------------------\n",
            "make[3]: Nothing to be done for 'install-data-am'.\n",
            "make[3]: Leaving directory '/content/openfst-1.6.1/src/lib'\n",
            "make[2]: Leaving directory '/content/openfst-1.6.1/src/lib'\n",
            "Making install in script\n",
            "make[2]: Entering directory '/content/openfst-1.6.1/src/script'\n",
            "make[3]: Entering directory '/content/openfst-1.6.1/src/script'\n",
            " /bin/mkdir -p '/usr/local/lib'\n",
            " /bin/bash ../../libtool   --mode=install /usr/bin/install -c   libfstscript.la '/usr/local/lib'\n",
            "libtool: install: /usr/bin/install -c .libs/libfstscript.lai /usr/local/lib/libfstscript.la\n",
            "libtool: install: /usr/bin/install -c .libs/libfstscript.a /usr/local/lib/libfstscript.a\n",
            "libtool: install: chmod 644 /usr/local/lib/libfstscript.a\n",
            "libtool: install: ranlib /usr/local/lib/libfstscript.a\n",
            "libtool: finish: PATH=\"/usr/local/sbin:/usr/local/bin:/usr/sbin:/usr/bin:/sbin:/bin:/snap/bin:/sbin\" ldconfig -n /usr/local/lib\n",
            "----------------------------------------------------------------------\n",
            "Libraries have been installed in:\n",
            "   /usr/local/lib\n",
            "\n",
            "If you ever happen to want to link against installed libraries\n",
            "in a given directory, LIBDIR, you must either use libtool, and\n",
            "specify the full pathname of the library, or use the `-LLIBDIR'\n",
            "flag during linking and do at least one of the following:\n",
            "   - add LIBDIR to the `LD_LIBRARY_PATH' environment variable\n",
            "     during execution\n",
            "   - add LIBDIR to the `LD_RUN_PATH' environment variable\n",
            "     during linking\n",
            "   - use the `-Wl,-rpath -Wl,LIBDIR' linker flag\n",
            "   - have your system administrator add LIBDIR to `/etc/ld.so.conf'\n",
            "\n",
            "See any operating system documentation about shared libraries for\n",
            "more information, such as the ld(1) and ld.so(8) manual pages.\n",
            "----------------------------------------------------------------------\n",
            "make[3]: Nothing to be done for 'install-data-am'.\n",
            "make[3]: Leaving directory '/content/openfst-1.6.1/src/script'\n",
            "make[2]: Leaving directory '/content/openfst-1.6.1/src/script'\n",
            "Making install in bin\n",
            "make[2]: Entering directory '/content/openfst-1.6.1/src/bin'\n",
            "make[3]: Entering directory '/content/openfst-1.6.1/src/bin'\n",
            " /bin/mkdir -p '/usr/local/bin'\n",
            "  /bin/bash ../../libtool   --mode=install /usr/bin/install -c fstarcsort fstclosure fstcompile fstcompose fstconcat fstconnect fstconvert fstdeterminize fstdifference fstdraw fstencode fstepsnormalize fstequal fstequivalent fstinfo fstintersect fstinvert fstisomorphic fstmap fstminimize fstprint fstproject fstprune fstpush fstrandgen fstrelabel fstreplace fstreverse fstreweight fstrmepsilon fstshortestdistance fstshortestpath fstsymbols fstsynchronize fsttopsort fstunion fstdisambiguate '/usr/local/bin'\n",
            "libtool: install: /usr/bin/install -c fstarcsort /usr/local/bin/fstarcsort\n",
            "libtool: install: /usr/bin/install -c fstclosure /usr/local/bin/fstclosure\n",
            "libtool: install: /usr/bin/install -c fstcompile /usr/local/bin/fstcompile\n",
            "libtool: install: /usr/bin/install -c fstcompose /usr/local/bin/fstcompose\n",
            "libtool: install: /usr/bin/install -c fstconcat /usr/local/bin/fstconcat\n",
            "libtool: install: /usr/bin/install -c fstconnect /usr/local/bin/fstconnect\n",
            "libtool: install: /usr/bin/install -c fstconvert /usr/local/bin/fstconvert\n",
            "libtool: install: /usr/bin/install -c fstdeterminize /usr/local/bin/fstdeterminize\n",
            "libtool: install: /usr/bin/install -c fstdifference /usr/local/bin/fstdifference\n",
            "libtool: install: /usr/bin/install -c fstdraw /usr/local/bin/fstdraw\n",
            "libtool: install: /usr/bin/install -c fstencode /usr/local/bin/fstencode\n",
            "libtool: install: /usr/bin/install -c fstepsnormalize /usr/local/bin/fstepsnormalize\n",
            "libtool: install: /usr/bin/install -c fstequal /usr/local/bin/fstequal\n",
            "libtool: install: /usr/bin/install -c fstequivalent /usr/local/bin/fstequivalent\n",
            "libtool: install: /usr/bin/install -c fstinfo /usr/local/bin/fstinfo\n",
            "libtool: install: /usr/bin/install -c fstintersect /usr/local/bin/fstintersect\n",
            "libtool: install: /usr/bin/install -c fstinvert /usr/local/bin/fstinvert\n",
            "libtool: install: /usr/bin/install -c fstisomorphic /usr/local/bin/fstisomorphic\n",
            "libtool: install: /usr/bin/install -c fstmap /usr/local/bin/fstmap\n",
            "libtool: install: /usr/bin/install -c fstminimize /usr/local/bin/fstminimize\n",
            "libtool: install: /usr/bin/install -c fstprint /usr/local/bin/fstprint\n",
            "libtool: install: /usr/bin/install -c fstproject /usr/local/bin/fstproject\n",
            "libtool: install: /usr/bin/install -c fstprune /usr/local/bin/fstprune\n",
            "libtool: install: /usr/bin/install -c fstpush /usr/local/bin/fstpush\n",
            "libtool: install: /usr/bin/install -c fstrandgen /usr/local/bin/fstrandgen\n",
            "libtool: install: /usr/bin/install -c fstrelabel /usr/local/bin/fstrelabel\n",
            "libtool: install: /usr/bin/install -c fstreplace /usr/local/bin/fstreplace\n",
            "libtool: install: /usr/bin/install -c fstreverse /usr/local/bin/fstreverse\n",
            "libtool: install: /usr/bin/install -c fstreweight /usr/local/bin/fstreweight\n",
            "libtool: install: /usr/bin/install -c fstrmepsilon /usr/local/bin/fstrmepsilon\n",
            "libtool: install: /usr/bin/install -c fstshortestdistance /usr/local/bin/fstshortestdistance\n",
            "libtool: install: /usr/bin/install -c fstshortestpath /usr/local/bin/fstshortestpath\n",
            "libtool: install: /usr/bin/install -c fstsymbols /usr/local/bin/fstsymbols\n",
            "libtool: install: /usr/bin/install -c fstsynchronize /usr/local/bin/fstsynchronize\n",
            "libtool: install: /usr/bin/install -c fsttopsort /usr/local/bin/fsttopsort\n",
            "libtool: install: /usr/bin/install -c fstunion /usr/local/bin/fstunion\n",
            "libtool: install: /usr/bin/install -c fstdisambiguate /usr/local/bin/fstdisambiguate\n",
            "make[3]: Nothing to be done for 'install-data-am'.\n",
            "make[3]: Leaving directory '/content/openfst-1.6.1/src/bin'\n",
            "make[2]: Leaving directory '/content/openfst-1.6.1/src/bin'\n",
            "Making install in test\n",
            "make[2]: Entering directory '/content/openfst-1.6.1/src/test'\n",
            "make[3]: Entering directory '/content/openfst-1.6.1/src/test'\n",
            "make[3]: Nothing to be done for 'install-exec-am'.\n",
            "make[3]: Nothing to be done for 'install-data-am'.\n",
            "make[3]: Leaving directory '/content/openfst-1.6.1/src/test'\n",
            "make[2]: Leaving directory '/content/openfst-1.6.1/src/test'\n",
            "Making install in extensions\n",
            "make[2]: Entering directory '/content/openfst-1.6.1/src/extensions'\n",
            "Making install in far\n",
            "make[3]: Entering directory '/content/openfst-1.6.1/src/extensions/far'\n",
            "make[4]: Entering directory '/content/openfst-1.6.1/src/extensions/far'\n",
            " /bin/mkdir -p '/usr/local/lib'\n",
            " /bin/bash ../../../libtool   --mode=install /usr/bin/install -c   libfstfar.la libfstfarscript.la '/usr/local/lib'\n",
            "libtool: install: /usr/bin/install -c .libs/libfstfar.lai /usr/local/lib/libfstfar.la\n",
            "libtool: install: /usr/bin/install -c .libs/libfstfarscript.lai /usr/local/lib/libfstfarscript.la\n",
            "libtool: install: /usr/bin/install -c .libs/libfstfar.a /usr/local/lib/libfstfar.a\n",
            "libtool: install: chmod 644 /usr/local/lib/libfstfar.a\n",
            "libtool: install: ranlib /usr/local/lib/libfstfar.a\n",
            "libtool: install: /usr/bin/install -c .libs/libfstfarscript.a /usr/local/lib/libfstfarscript.a\n",
            "libtool: install: chmod 644 /usr/local/lib/libfstfarscript.a\n",
            "libtool: install: ranlib /usr/local/lib/libfstfarscript.a\n",
            "libtool: finish: PATH=\"/usr/local/sbin:/usr/local/bin:/usr/sbin:/usr/bin:/sbin:/bin:/snap/bin:/sbin\" ldconfig -n /usr/local/lib\n",
            "----------------------------------------------------------------------\n",
            "Libraries have been installed in:\n",
            "   /usr/local/lib\n",
            "\n",
            "If you ever happen to want to link against installed libraries\n",
            "in a given directory, LIBDIR, you must either use libtool, and\n",
            "specify the full pathname of the library, or use the `-LLIBDIR'\n",
            "flag during linking and do at least one of the following:\n",
            "   - add LIBDIR to the `LD_LIBRARY_PATH' environment variable\n",
            "     during execution\n",
            "   - add LIBDIR to the `LD_RUN_PATH' environment variable\n",
            "     during linking\n",
            "   - use the `-Wl,-rpath -Wl,LIBDIR' linker flag\n",
            "   - have your system administrator add LIBDIR to `/etc/ld.so.conf'\n",
            "\n",
            "See any operating system documentation about shared libraries for\n",
            "more information, such as the ld(1) and ld.so(8) manual pages.\n",
            "----------------------------------------------------------------------\n",
            " /bin/mkdir -p '/usr/local/bin'\n",
            "  /bin/bash ../../../libtool   --mode=install /usr/bin/install -c farcompilestrings farcreate farequal farextract farinfo farisomorphic farprintstrings '/usr/local/bin'\n",
            "libtool: install: /usr/bin/install -c farcompilestrings /usr/local/bin/farcompilestrings\n",
            "libtool: install: /usr/bin/install -c farcreate /usr/local/bin/farcreate\n",
            "libtool: install: /usr/bin/install -c farequal /usr/local/bin/farequal\n",
            "libtool: install: /usr/bin/install -c farextract /usr/local/bin/farextract\n",
            "libtool: install: /usr/bin/install -c farinfo /usr/local/bin/farinfo\n",
            "libtool: install: /usr/bin/install -c farisomorphic /usr/local/bin/farisomorphic\n",
            "libtool: install: /usr/bin/install -c farprintstrings /usr/local/bin/farprintstrings\n",
            "make[4]: Nothing to be done for 'install-data-am'.\n",
            "make[4]: Leaving directory '/content/openfst-1.6.1/src/extensions/far'\n",
            "make[3]: Leaving directory '/content/openfst-1.6.1/src/extensions/far'\n",
            "make[3]: Entering directory '/content/openfst-1.6.1/src/extensions'\n",
            "make[4]: Entering directory '/content/openfst-1.6.1/src/extensions'\n",
            "make[4]: Nothing to be done for 'install-exec-am'.\n",
            "make[4]: Nothing to be done for 'install-data-am'.\n",
            "make[4]: Leaving directory '/content/openfst-1.6.1/src/extensions'\n",
            "make[3]: Leaving directory '/content/openfst-1.6.1/src/extensions'\n",
            "make[2]: Leaving directory '/content/openfst-1.6.1/src/extensions'\n",
            "make[2]: Entering directory '/content/openfst-1.6.1/src'\n",
            "make[3]: Entering directory '/content/openfst-1.6.1/src'\n",
            "make[3]: Nothing to be done for 'install-exec-am'.\n",
            "make[3]: Nothing to be done for 'install-data-am'.\n",
            "make[3]: Leaving directory '/content/openfst-1.6.1/src'\n",
            "make[2]: Leaving directory '/content/openfst-1.6.1/src'\n",
            "make[1]: Leaving directory '/content/openfst-1.6.1/src'\n",
            "make[1]: Entering directory '/content/openfst-1.6.1'\n",
            "make[2]: Entering directory '/content/openfst-1.6.1'\n",
            "make[2]: Nothing to be done for 'install-exec-am'.\n",
            "make[2]: Nothing to be done for 'install-data-am'.\n",
            "make[2]: Leaving directory '/content/openfst-1.6.1'\n",
            "make[1]: Leaving directory '/content/openfst-1.6.1'\n"
          ],
          "name": "stdout"
        }
      ]
    },
    {
      "cell_type": "markdown",
      "metadata": {
        "id": "kcwet47Oyboe",
        "colab_type": "text"
      },
      "source": [
        "Ακόμα, θα πρέπει να εγκαταστήσουμε τις βιβλιοθήκες του NLTK (Natural Language Toolkit) καθώς και του graphviz, που μας επιτρέπει να σχεδιάζουμε τα FST που δημιουργούμε."
      ]
    },
    {
      "cell_type": "code",
      "metadata": {
        "id": "WjbkzLreyQgC",
        "colab_type": "code",
        "outputId": "7736c0f4-8544-4f7d-c3b1-a5475fe42e85",
        "colab": {
          "base_uri": "https://localhost:8080/",
          "height": 816
        }
      },
      "source": [
        "!pip install nltk\n",
        "!sudo apt install python-pydot python-pydot-ng graphviz"
      ],
      "execution_count": 3,
      "outputs": [
        {
          "output_type": "stream",
          "text": [
            "Requirement already satisfied: nltk in /usr/local/lib/python3.6/dist-packages (3.2.5)\n",
            "Requirement already satisfied: six in /usr/local/lib/python3.6/dist-packages (from nltk) (1.12.0)\n",
            "Reading package lists... Done\n",
            "Building dependency tree       \n",
            "Reading state information... Done\n",
            "graphviz is already the newest version (2.40.1-2).\n",
            "The following packages were automatically installed and are no longer required:\n",
            "  cuda-cufft-10-1 cuda-cufft-dev-10-1 cuda-curand-10-1 cuda-curand-dev-10-1\n",
            "  cuda-cusolver-10-1 cuda-cusolver-dev-10-1 cuda-cusparse-10-1\n",
            "  cuda-cusparse-dev-10-1 cuda-license-10-2 cuda-npp-10-1 cuda-npp-dev-10-1\n",
            "  cuda-nsight-10-1 cuda-nsight-compute-10-1 cuda-nsight-systems-10-1\n",
            "  cuda-nvgraph-10-1 cuda-nvgraph-dev-10-1 cuda-nvjpeg-10-1\n",
            "  cuda-nvjpeg-dev-10-1 cuda-nvrtc-10-1 cuda-nvrtc-dev-10-1 cuda-nvvp-10-1\n",
            "  libcublas10 libnvidia-common-430 nsight-compute-2019.5.0\n",
            "  nsight-systems-2019.5.2\n",
            "Use 'sudo apt autoremove' to remove them.\n",
            "Suggested packages:\n",
            "  python-pyparsing-doc\n",
            "The following NEW packages will be installed:\n",
            "  python-pydot python-pydot-ng python-pyparsing\n",
            "0 upgraded, 3 newly installed, 0 to remove and 5 not upgraded.\n",
            "Need to get 91.5 kB of archives.\n",
            "After this operation, 443 kB of additional disk space will be used.\n",
            "Get:1 http://archive.ubuntu.com/ubuntu bionic/main amd64 python-pyparsing all 2.2.0+dfsg1-2 [52.1 kB]\n",
            "Get:2 http://archive.ubuntu.com/ubuntu bionic/universe amd64 python-pydot all 1.2.3-1 [19.6 kB]\n",
            "Get:3 http://archive.ubuntu.com/ubuntu bionic/universe amd64 python-pydot-ng all 1.0.0-3 [19.8 kB]\n",
            "Fetched 91.5 kB in 1s (178 kB/s)\n",
            "debconf: unable to initialize frontend: Dialog\n",
            "debconf: (No usable dialog-like program is installed, so the dialog based frontend cannot be used. at /usr/share/perl5/Debconf/FrontEnd/Dialog.pm line 76, <> line 3.)\n",
            "debconf: falling back to frontend: Readline\n",
            "debconf: unable to initialize frontend: Readline\n",
            "debconf: (This frontend requires a controlling tty.)\n",
            "debconf: falling back to frontend: Teletype\n",
            "dpkg-preconfigure: unable to re-open stdin: \n",
            "Selecting previously unselected package python-pyparsing.\n",
            "(Reading database ... 135782 files and directories currently installed.)\n",
            "Preparing to unpack .../python-pyparsing_2.2.0+dfsg1-2_all.deb ...\n",
            "Unpacking python-pyparsing (2.2.0+dfsg1-2) ...\n",
            "Selecting previously unselected package python-pydot.\n",
            "Preparing to unpack .../python-pydot_1.2.3-1_all.deb ...\n",
            "Unpacking python-pydot (1.2.3-1) ...\n",
            "Selecting previously unselected package python-pydot-ng.\n",
            "Preparing to unpack .../python-pydot-ng_1.0.0-3_all.deb ...\n",
            "Unpacking python-pydot-ng (1.0.0-3) ...\n",
            "Setting up python-pyparsing (2.2.0+dfsg1-2) ...\n",
            "Setting up python-pydot-ng (1.0.0-3) ...\n",
            "Setting up python-pydot (1.2.3-1) ...\n"
          ],
          "name": "stdout"
        }
      ]
    },
    {
      "cell_type": "markdown",
      "metadata": {
        "id": "9_Jhh4FN2Hqv",
        "colab_type": "text"
      },
      "source": [
        "---\n",
        "# Βήμα 1ο\n",
        "\n",
        "Για το Βήμα αυτό, επιλέξαμε και τα δύο προτεινόμενα βιβλία από το Project Guternberg, για να έχουμε περισσότερα δεδομένα.\n",
        "\n",
        "Το τελικό αρχείο, ονομάζεται corpora.txt . \n",
        "\n",
        "Ιδανικά, θα θέλαμε να είχαμε όσο το δυνατόν περισσοτερα δεδομενα, καθως αυτο θα μας επετρεπε να εχουμε ευρυτερο λεξιλογιο, δηλαδη να αναγνωριζει το συστημα μας περισσοτερες λεξεις. Ακομα, θα μπορουσαμε να εχουμε στην διαθεση μας διαφορετικες γραφες των ιδιων λεξεων, που ειναι χρησιμο σε εξειδικευμενους ορθογραφους."
      ]
    },
    {
      "cell_type": "code",
      "metadata": {
        "id": "SBPwKdZ9DdVq",
        "colab_type": "code",
        "outputId": "df0e2b5b-0412-4fb3-a3b0-d3d2d50ce56a",
        "colab": {
          "base_uri": "https://localhost:8080/",
          "height": 0
        }
      },
      "source": [
        "from urllib.request import urlretrieve\n",
        "import os\n",
        "from zipfile import ZipFile\n",
        "\n",
        "def download(url, file):\n",
        "    if not os.path.isfile(file):\n",
        "        print(\"Download file... \" + file + \" ...\")\n",
        "        urlretrieve(url,file)\n",
        "        print(\"File downloaded\")\n",
        "\n",
        "download(\"http://www.gutenberg.org/files/1661/1661-0.txt\",\"corpora.txt\")\n",
        "print(\"All the files are downloaded\")"
      ],
      "execution_count": 4,
      "outputs": [
        {
          "output_type": "stream",
          "text": [
            "Download file... corpora.txt ...\n",
            "File downloaded\n",
            "All the files are downloaded\n"
          ],
          "name": "stdout"
        }
      ]
    },
    {
      "cell_type": "markdown",
      "metadata": {
        "id": "pINLD3af4CCM",
        "colab_type": "text"
      },
      "source": [
        "Προσδιοριζουμε την κωδικοποιηση χαρακτηρων σε UTF-8, για να αναγνωρισθουν τυχον \"περιεργοι\" χαρακτηρες.\n",
        "\n",
        "Ακομα, ειναι χρησιμο να κανουμε import τωρα ο,τι βιβλιοθηκες της python θα χρησιμοποιησουμε αργοτερα:"
      ]
    },
    {
      "cell_type": "code",
      "metadata": {
        "id": "eY7KEix24A7x",
        "colab_type": "code",
        "colab": {}
      },
      "source": [
        "# -*- coding: utf-8 -*-\n",
        "\n",
        "\n",
        "import itertools\n",
        "from nltk.tokenize.regexp import regexp_tokenize"
      ],
      "execution_count": 0,
      "outputs": []
    },
    {
      "cell_type": "markdown",
      "metadata": {
        "id": "KlLLoZbp3tWO",
        "colab_type": "text"
      },
      "source": [
        "---\n",
        "# Βήμα 2ο\n",
        "\n",
        "\n",
        "\n",
        "> α)  Γραφουμε μια συναρτηση που την ονομαζουμε identity_preprocess: (αρκετα απλο)\n",
        "\n",
        "\n"
      ]
    },
    {
      "cell_type": "code",
      "metadata": {
        "id": "DYDfatHm4up3",
        "colab_type": "code",
        "colab": {}
      },
      "source": [
        "\"\"\"Reads a string and returns it. Returns string.\"\"\"\n",
        "def identity_preprocess(stringaki):\n",
        "\treturn stringaki\n"
      ],
      "execution_count": 0,
      "outputs": []
    },
    {
      "cell_type": "markdown",
      "metadata": {
        "id": "6JWABj-q5Dn0",
        "colab_type": "text"
      },
      "source": [
        "\n",
        "\n",
        "> β) Γραφουμε μια συναρτηση που να δεχεται δυο ορισματα, το ονομα αρχειου, και μια συναρτηση της επιλογης μας και να διαβαζει το αρχειο γραμμη - γραμμη καλωντας την συναρτηση που εχουμε δωσει σαν ορισμα σε καθε γραμμη:"
      ]
    },
    {
      "cell_type": "code",
      "metadata": {
        "id": "NYUlckQY5esE",
        "colab_type": "code",
        "colab": {}
      },
      "source": [
        "\"\"\"Takes 2 arguments, one being the filepath and the second\n",
        "being the name of the method that reads the string, defaulting\n",
        "to the above method, 'identity_preprocess'. Returns a list of\n",
        "strings, that are the whole text of the file.\"\"\"\n",
        "def read_from_file(filepath, myfunc = identity_preprocess):\n",
        "\tlines = []\n",
        "\twith open(filepath) as file:\n",
        "\t\tfor line in file:\n",
        "\t\t\tlines.append(myfunc(line))\n",
        "\treturn lines"
      ],
      "execution_count": 0,
      "outputs": []
    },
    {
      "cell_type": "markdown",
      "metadata": {
        "id": "GGCff1_15jiw",
        "colab_type": "text"
      },
      "source": [
        "> γ) Γραφουμε εδω 2 συναρτησεις, η μια ειναι η συναρτηση clean_text που \"καθαριζει\" το κειμενο που της δινουμε απο οποιον χαρακτηρα δεν ειναι γραμμα, και στην συνεχεια, την tokenize, που παιρνει ενα τετοιο καθαρο κειμενο και το χωριζει σε μερη:"
      ]
    },
    {
      "cell_type": "code",
      "metadata": {
        "id": "7fOQVa4T6Su9",
        "colab_type": "code",
        "colab": {}
      },
      "source": [
        "\"\"\"Takes one string and returns a string that has only lowercase\n",
        "letters, that means exluding any non-alphanumeric sumbols, numbers\n",
        "punctuation.\"\"\"\n",
        "def clean_text(text):\n",
        "\t#replace new line and carriage return\n",
        "\ttext = text.replace(\"\\n\", \" \").replace(\"\\r\", \" \")\n",
        "\t#replace the numbers, symbols and punctuation with space\n",
        "\tpunc_list = '~`!@#$£½%^&*()_+-—“”’‘\\'=}{|:à\"?>æ<âç,œ./è;é][}' + '1234567890'\n",
        "\tt = str.maketrans(dict.fromkeys(punc_list, \" \"))\n",
        "\ttext = text.translate(t)\n",
        "\t#make everything lowercase\n",
        "\ttext = text.lower()\n",
        "\treturn text\n",
        "\n",
        "\n",
        "\n",
        "\"\"\"Takes a text and splits it between whitespaces or \\n. Returns\n",
        "a list of strings\"\"\"\n",
        "def tokenize(text):\n",
        "\ttext = clean_text(text)\n",
        "\ttext = text.split()\n",
        "\treturn text\n"
      ],
      "execution_count": 0,
      "outputs": []
    },
    {
      "cell_type": "markdown",
      "metadata": {
        "id": "1Wiwjnso6Zbp",
        "colab_type": "text"
      },
      "source": [
        "\n",
        "\n",
        "> δ) μια καλη συναρτηση που βρηκαμε οτι εχει καλα αποτελεσματα ειναι η εξης:\n",
        "\n"
      ]
    },
    {
      "cell_type": "code",
      "metadata": {
        "id": "B_IOTEIT6kVK",
        "colab_type": "code",
        "colab": {}
      },
      "source": [
        "\n",
        "\"\"\"Uses the imported library from nltk to return a list of strings\n",
        "created by using regular expressions. It is one of the fastest \n",
        "tokenizers.\"\"\"\n",
        "def Tokenize(text):\n",
        "\t#text = clean_text(text)\n",
        "\treturn regexp_tokenize(text, pattern = '\\s+', gaps = True)\n"
      ],
      "execution_count": 0,
      "outputs": []
    },
    {
      "cell_type": "markdown",
      "metadata": {
        "id": "jllEoKJy6ot9",
        "colab_type": "text"
      },
      "source": [
        "Στις προσπαθειες μας, βρηκαμε οτι η ετοιμη συναρτηση ενω ειναι παρα πολυ γρηγορη, (πολυ πιο γρηγορη απο την δικη μας, ακομα και για τον σχετικα μικρο αριθμο δεδομενων μας), επιτρεπει λιγο λιγοτερες λεξεις (~170k vs ~173k) να \"περασουν\" ομως καταληγουμε με πολυ μεγαλο λεξιλογιο (κατι που θα φανει μετεπειτα): (παραθετουμε και την συναρτηση flatten, που αν και δεν ζητειται, ειναι χρησιμη καθως μετατρεπει μια λιστα λιστων σε μια λιστα)"
      ]
    },
    {
      "cell_type": "code",
      "metadata": {
        "id": "bWNMTsZw7c9C",
        "colab_type": "code",
        "outputId": "a5aa61cc-708c-42a7-b833-4b3894eb451f",
        "colab": {
          "base_uri": "https://localhost:8080/",
          "height": 0
        }
      },
      "source": [
        "\"\"\"Takes a list of lists and returns a list. Elements are kept in\n",
        "order.\"\"\"\n",
        "def flatten(l):\n",
        "\treturn list(itertools.chain(*l))\n",
        " \n",
        "\n",
        "lines = read_from_file(\"corpora.txt\")\n",
        "text = []\n",
        "text1 = []\n",
        "for line in lines:\n",
        "    text.append(Tokenize(line))\n",
        "    text1.append(tokenize(line))\n",
        "text = flatten(text)\n",
        "text1 = flatten(text1)\n",
        "print(len(text))\n",
        "print(len(text1))"
      ],
      "execution_count": 10,
      "outputs": [
        {
          "output_type": "stream",
          "text": [
            "107602\n",
            "109021\n"
          ],
          "name": "stdout"
        }
      ]
    },
    {
      "cell_type": "markdown",
      "metadata": {
        "id": "mmmQB8J08h6y",
        "colab_type": "text"
      },
      "source": [
        "---\n",
        "# Βήμα 3ο\n",
        "\n",
        "\n",
        "\n",
        "> α)  Για να βρουμε το λεξιλογιο μας, φτιαχνουμε την συναρτηση unique_tokens, που παιρνει μια λιστα απο strings και αφαιρει τις πολλαπλες εμφανισεις:"
      ]
    },
    {
      "cell_type": "code",
      "metadata": {
        "id": "VrSaBEEp9PgS",
        "colab_type": "code",
        "colab": {}
      },
      "source": [
        "\"\"\"Takes a list of strings (tokens) and reduces it to only unique\n",
        "elements. (gets rid of the duplicates). Returns a list of strings\n",
        "that are unique and sorted.\"\"\"\n",
        "def unique_tokens(tokens):\n",
        "\tlexicon = list(set(tokens))\n",
        "\tlexicon.sort()\n",
        "\treturn lexicon"
      ],
      "execution_count": 0,
      "outputs": []
    },
    {
      "cell_type": "markdown",
      "metadata": {
        "id": "3GRjySeS9UEP",
        "colab_type": "text"
      },
      "source": [
        "> β)  Για να βρουμε το αλφαβητο του corpus, φτιαχνουμε την συναρτηση alphabet, που παιρνει μια λιστα απο strings επιστρεφει μια λιστα απο χαρακτηρες, χωρις πολλαπλες εμφανισεις:"
      ]
    },
    {
      "cell_type": "markdown",
      "metadata": {
        "id": "Qod5JWP4-efW",
        "colab_type": "text"
      },
      "source": [
        "Εκτελωντας τις παρακατω εντολες, μπορουμε να δουμε οτι τα λεξιλογια που δημιουργουνται απο τις διαφορετικες μεθοδους tokenization ειναι κατα πολυ διαφορετικα:"
      ]
    },
    {
      "cell_type": "code",
      "metadata": {
        "id": "JTPTmijl-u-f",
        "colab_type": "code",
        "outputId": "722ac8a3-bc06-4e14-e80b-5b708bd54e54",
        "colab": {
          "base_uri": "https://localhost:8080/",
          "height": 0
        }
      },
      "source": [
        "lines = read_from_file(\"corpora.txt\")\n",
        "text = []\n",
        "for line in lines:\n",
        "    text.append(Tokenize(line))\n",
        "text = flatten(text)\n",
        "Lexicon = unique_tokens(text)\n",
        "print(\"NLTK tokenize(): \",len(Lexicon))\n",
        "text = []\n",
        "for line in lines:\n",
        "    text.append(tokenize(line))\n",
        "text = flatten(text)\n",
        "Lexicon = unique_tokens(text)\n",
        "print(\"Our tokenize(): \",len(Lexicon))"
      ],
      "execution_count": 12,
      "outputs": [
        {
          "output_type": "stream",
          "text": [
            "NLTK tokenize():  15221\n",
            "Our tokenize():  8082\n"
          ],
          "name": "stdout"
        }
      ]
    },
    {
      "cell_type": "code",
      "metadata": {
        "id": "aYu1H3tI9mnb",
        "colab_type": "code",
        "colab": {}
      },
      "source": [
        "\"\"\"Takes a string and returns a list of the characters \n",
        "that were used to make the strings.\"\"\"\n",
        "def split_word(word):\n",
        "\treturn [char for char in word]\n",
        "\n",
        "\n",
        "\n",
        "\"\"\"Takes a list of strings as an input and returns a list of chars.\n",
        "The characters that are returned are used to make the elements of \n",
        "the input strings, but they are returned duplicate-free and sorted.\"\"\"\n",
        "def alphabet(words):\n",
        "\tchars = []\n",
        "\tfor word in words:\n",
        "\t\tchars.append(split_word(word))\n",
        "\talpbt = list(set(flatten(chars)))\n",
        "\talpbt.sort()\n",
        "\treturn alpbt"
      ],
      "execution_count": 0,
      "outputs": []
    },
    {
      "cell_type": "markdown",
      "metadata": {
        "id": "Yy1kN1yI9uWR",
        "colab_type": "text"
      },
      "source": [
        "---\n",
        "# Βήμα 4ο\n",
        "\n",
        "\n",
        "Για να δημιουργησουμε το αρχειο chars.syms που μας χρειαζεται για μετα, φιταχνουμε δυο συναρτησεις, μια για να κανει το (προηγουμενως δημιουργημενο) αλφαβητο indexed, δηλαδη καθε χαρακτηρας να αντιστοιχιζεται σε εναν φυσικο αριθμο, και το ε ('<epsilon>') να αντιστοιχιζεται στο 0. Ακομα, φτιαχνουμε μια συναρτηση που να παιρνει ενα τετοιο στοιχισμενο αλφαβητο και να το αποθηκευει σε ενα αρχειο της επιλογης μας (προεπιλεγμενο ονομα ειναι το \"chars.syms\"):\n"
      ]
    },
    {
      "cell_type": "code",
      "metadata": {
        "id": "KcfIp5xG-aSK",
        "colab_type": "code",
        "colab": {}
      },
      "source": [
        "\"\"\"Takes an alphabet (list of chars) and assigns each character \n",
        "an index. Index 0 is <epsilon> (ε). Returns a list that has n+1 \n",
        "tuples, each tuple being the character with its assigned index.\"\"\"\n",
        "def alphabet_indexing(alphabet):\n",
        "\tindexed_alphabet = []\n",
        "\tindexed_alphabet.append((\"<epsilon>\", 0))\n",
        "\ti = 1;\n",
        "\tfor letter in alphabet:\n",
        "\t\tindexed_alphabet.append((letter, str(i)))\n",
        "\t\ti+=1\n",
        "\treturn indexed_alphabet\n",
        "\n",
        "\n",
        "\n",
        "\"\"\"Takes two arguments. The first is an  alphabet and the \n",
        "second is the name of the file to write the output. The \n",
        "method takes the indexed alphabet and writes it to a file \n",
        "with the name given\"\"\"\n",
        "def symbols_file(alphabet, filename = \"chars.syms\"):\n",
        "\tf = open(filename, \"w+\")\n",
        "\tfor pair in alphabet:\n",
        "\t\tf.write(pair[0] + \"\\t\\t\" + str(pair[1]) + \"\\n\")\n"
      ],
      "execution_count": 0,
      "outputs": []
    },
    {
      "cell_type": "markdown",
      "metadata": {
        "id": "IRI8GJmQ_Fq5",
        "colab_type": "text"
      },
      "source": [
        "---\n",
        "# Βήμα 5ο\n",
        "\n",
        "\n",
        "   α) Για to βημα 5ο, αρχικα υποθεσαμε οτι πρεπει να υλοποιησουμε εκτος των αλλων και την συναρτηση για την αποσταση Levenshtein, οποτε αν και (μετα απο ξεκαθαρισμα) δεν ειναι απαραιτητο, την παραθετουμε εδω για κριτικη, καθως και για να υπαρχει σε τυχον περιπτωση που την χρειαστουμε:"
      ]
    },
    {
      "cell_type": "code",
      "metadata": {
        "id": "PVaTHdqP_fOf",
        "colab_type": "code",
        "colab": {}
      },
      "source": [
        "\"\"\"This function computes the Levenshtein distance between two \n",
        "chars s,t. It uses the algorithm mentioned in the instructions\n",
        "of the lab, and is horribly inefficient. Takes two arguments, both\n",
        "chars and returns an integer that is the levenshtein distance of\n",
        "the two strings.\"\"\"\n",
        "def my_levenshtein(s,t):\n",
        "\t#same characters, no edit => Levenshtein cost 0\n",
        "\tif (s==t):\n",
        "\t\treturn 0\n",
        "\t#<epsilon> with some other character or any character with <epsilon>\n",
        "\t#either insertion or deletion => Levenshtein cost 1\n",
        "\telif (s=='<epsilon' and t!='<epsilon>') or (s!='<epsilon' and t=='<epsilon>'):\n",
        "\t\treturn 1\n",
        "\t#two different chars, substiturion => Levenshtein cost 1\n",
        "\telse:\n",
        "\t\treturn 1\n",
        "\n",
        "\n",
        "\n",
        "\"\"\"This function computes the Levenshtein distance between two \n",
        "strings s,t. It uses the iterative algorithm, that creates a \n",
        "2d matrix of the characters of the strings, along with the \n",
        "values it needs to compute the sum of the weights of the insert\n",
        "/delete/substitute logic. It is a much faster algorithm than the\n",
        "recursive one. The method takes 3 arguments, string s, string t\n",
        "and a tuple of 3 integeres that are the cost of deletion, insertion\n",
        "and substitution respectively. Defaults to (1,1,1) (equal cost).\n",
        "I have taken the code for this method from:\n",
        "https://www.python-course.eu/levenshtein_distance.php \n",
        "Another method could have been the method given in\n",
        "the python package python-Levenshtein (0.12.0) that uses python to \n",
        "instruct C to compute the afforementioned array, with much faster \n",
        "execution times.\"\"\"\n",
        "def iterative_levenshtein(s, t, costs=(1, 1, 1)):\n",
        "    \"\"\" \n",
        "        iterative_levenshtein(s, t) -> ldist\n",
        "        ldist is the Levenshtein distance between the strings \n",
        "        s and t.\n",
        "        For all i and j, dist[i,j] will contain the Levenshtein \n",
        "        distance between the first i characters of s and the \n",
        "        first j characters of t\n",
        "        \n",
        "        costs: a tuple or a list with three integers (d, i, s)\n",
        "               where d defines the costs for a deletion\n",
        "                     i defines the costs for an insertion and\n",
        "                     s defines the costs for a substitution\n",
        "    \"\"\"\n",
        "    rows = len(s)+1\n",
        "    cols = len(t)+1\n",
        "    deletes, inserts, substitutes = costs\n",
        "    \n",
        "    dist = [[0 for x in range(cols)] for x in range(rows)]\n",
        "    # source prefixes can be transformed into empty strings \n",
        "    # by deletions:\n",
        "    for row in range(1, rows):\n",
        "        dist[row][0] = row * deletes\n",
        "    # target prefixes can be created from an empty source string\n",
        "    # by inserting the characters\n",
        "    for col in range(1, cols):\n",
        "        dist[0][col] = col * inserts\n",
        "        \n",
        "    for col in range(1, cols):\n",
        "        for row in range(1, rows):\n",
        "            if s[row-1] == t[col-1]:\n",
        "                cost = 0\n",
        "            else:\n",
        "                cost = substitutes\n",
        "            dist[row][col] = min(dist[row-1][col] + deletes,\n",
        "                                 dist[row][col-1] + inserts,\n",
        "                                 dist[row-1][col-1] + cost) # substitution\n",
        "    \"\"\"for r in range(rows):\n",
        "        print(dist[r])\n",
        "    \"\"\" \n",
        "    return dist[row][col]"
      ],
      "execution_count": 0,
      "outputs": []
    },
    {
      "cell_type": "markdown",
      "metadata": {
        "id": "bUbSdpft_rBN",
        "colab_type": "text"
      },
      "source": [
        "Προφανως η ασκηση δεν ανεφερε αυτο, οποτε για την δημιουργια του μετατροπεα μιας καταστασης, αρχικα δημιουργουμε τα αρχεια που χρειαζομαστε, (τα αρχεια για τα συμβολα ειναι ηδη ετοιμα, καθως ειναι ομοια με τα αρχεια του στοιχισμενου αλφαβητου που περιεχεται στο αρχειο chars.syms. Για τον σκοπο αυτο, φτιαξαμε μια μεθοδο για να τυπωνει τα περιεχομενα του fst τοσο στο stdout, οσο και στο αρχειο με ονομα \"text.txt\" που θα χρησιμοποιησουμε αργοτερα. O ακριβης αριθμος των ακμων στο fst ειναι (πληθος αλφαβητου)^2 -1, καθως θελουμε καθε γραμμα να εχει καποια ενεργεια με οποιοδηποτε αλλο γραμμα του αλφαβητου, εκτος απο το ε, που με τον εαυτο του δεν θελουμε να εχει. "
      ]
    },
    {
      "cell_type": "code",
      "metadata": {
        "id": "DZ8Xzx_HAmS1",
        "colab_type": "code",
        "colab": {}
      },
      "source": [
        "def text_fst(Alphabet, filename = \"text.txt\", print_lines = False):\n",
        "    f = open(filename, \"w+\")\n",
        "    if (print_lines):\n",
        "        for pair in Alphabet:\n",
        "            for pair1 in Alphabet:\n",
        "                if  (pair[0] == pair1[0] ==\"<epsilon>\"):\n",
        "                    continue \n",
        "                elif (pair[0] == pair1[0] and pair[0]!=\"<epsilon>\"):\n",
        "                    print(\"0\" + \" 0 \" + pair[0] + \" \" + pair1[0] + \" 0\")\n",
        "                    f.write(\"0\" + \" 0 \" + pair[0] + \" \" + pair1[0] + \" 0\" + \"\\n\")\n",
        "                elif (pair[0]=='<epsilon>'):\n",
        "                    print(\"0\" + \" 0 \" + pair[0] + \" \" + pair1[0] + \" 1\")\n",
        "                    f.write(\"0\" + \" 0 \" + pair[0] + \" \" + pair1[0] + \" 1\"+ \"\\n\")\n",
        "                elif (pair1[0]=='<epsilon>'):\n",
        "                    print(\"0\" + \" 0 \" + pair[0] + \" \" + pair1[0] + \" 1\")\n",
        "                    f.write(\"0\" + \" 0 \" + pair[0] + \" \" + pair1[0] + \" 1\"+ \"\\n\")\n",
        "                else:\n",
        "                    print(\"0\" + \" 0 \" + pair[0] + \" \" + pair1[0] + \" 1\")\n",
        "                    f.write(\"0\" + \" 0 \" + pair[0] + \" \" + pair1[0] + \" 1\"+ \"\\n\")\n",
        "        print(\"0\")\n",
        "        f.write(\"0\")\n",
        "    else:\n",
        "        for pair in Alphabet:\n",
        "            for pair1 in Alphabet:\n",
        "                if  (pair[0] == pair1[0] ==\"<epsilon>\"):\n",
        "                    continue \n",
        "                elif (pair[0] == pair1[0] and pair[0]!=\"<epsilon>\"):\n",
        "                    f.write(\"0\" + \" 0 \" + pair[0] + \" \" + pair1[0] + \" 0\" + \"\\n\")\n",
        "                elif (pair[0]=='<epsilon>'):\n",
        "                    f.write(\"0\" + \" 0 \" + pair[0] + \" \" + pair1[0] + \" 1\"+ \"\\n\")\n",
        "                elif (pair1[0]=='<epsilon>'):\n",
        "                    f.write(\"0\" + \" 0 \" + pair[0] + \" \" + pair1[0] + \" 1\"+ \"\\n\")\n",
        "                else:\n",
        "                    f.write(\"0\" + \" 0 \" + pair[0] + \" \" + pair1[0] + \" 1\"+ \"\\n\")\n",
        "        f.write(\"0\")\n",
        "    f.close()\n"
      ],
      "execution_count": 0,
      "outputs": []
    },
    {
      "cell_type": "markdown",
      "metadata": {
        "id": "wXRETrXFCcPN",
        "colab_type": "text"
      },
      "source": [
        "Για να δημιουργησουμε τα αρχεια, θα πρεπει να εκτελεσουμε τον παρακατω κωδικα:"
      ]
    },
    {
      "cell_type": "code",
      "metadata": {
        "id": "DSk8leWVCiwD",
        "colab_type": "code",
        "colab": {}
      },
      "source": [
        "lines = read_from_file(\"corpora.txt\")\n",
        "#print(len(lines))\n",
        "text = []\n",
        "for line in lines:\n",
        "    text.append(tokenize(line))\n",
        "text = flatten(text)\n",
        "#print(len(text))\n",
        "Lexicon = unique_tokens(text)\n",
        "#print(len(Lexicon))\n",
        "Alphabet = alphabet(Lexicon)\n",
        "#print(len(Alphabet))\n",
        "Alphabet = alphabet_indexing(Alphabet)\n",
        "#print(Alphabet)\n",
        "symbols_file(Alphabet,)\n",
        "text_fst(Alphabet, \"onestate.txt\")"
      ],
      "execution_count": 0,
      "outputs": []
    },
    {
      "cell_type": "markdown",
      "metadata": {
        "id": "wqq_r9--C4WJ",
        "colab_type": "text"
      },
      "source": [
        "Στην συνεχεια, για να δημιουργησουμε το fst, θα πρεπει να εκτελεστει το παρακτω shell script:"
      ]
    },
    {
      "cell_type": "code",
      "metadata": {
        "id": "Vo0hg4X5DAyx",
        "colab_type": "code",
        "outputId": "43088452-f8d4-4c3a-f7d1-553b9f31cce3",
        "colab": {
          "base_uri": "https://localhost:8080/",
          "height": 0
        }
      },
      "source": [
        "!fstcompile -isymbols=chars.syms -osymbols=chars.syms onestate.txt > onestate.fst\n",
        "!fstinfo onestate.fst"
      ],
      "execution_count": 18,
      "outputs": [
        {
          "output_type": "stream",
          "text": [
            "fst type                                          vector\n",
            "arc type                                          standard\n",
            "input symbol table                                none\n",
            "output symbol table                               none\n",
            "# of states                                       1\n",
            "# of arcs                                         728\n",
            "initial state                                     0\n",
            "# of final states                                 1\n",
            "# of input/output epsilons                        0\n",
            "# of input epsilons                               26\n",
            "# of output epsilons                              26\n",
            "input label multiplicity                          26.9643\n",
            "output label multiplicity                         26.9643\n",
            "# of accessible states                            1\n",
            "# of coaccessible states                          1\n",
            "# of connected states                             1\n",
            "# of connected components                         1\n",
            "# of strongly conn components                     1\n",
            "input matcher                                     y\n",
            "output matcher                                    n\n",
            "input lookahead                                   n\n",
            "output lookahead                                  n\n",
            "expanded                                          y\n",
            "mutable                                           y\n",
            "error                                             n\n",
            "acceptor                                          n\n",
            "input deterministic                               n\n",
            "output deterministic                              n\n",
            "input/output epsilons                             n\n",
            "input epsilons                                    y\n",
            "output epsilons                                   y\n",
            "input label sorted                                y\n",
            "output label sorted                               n\n",
            "weighted                                          y\n",
            "cyclic                                            y\n",
            "cyclic at initial state                           y\n",
            "top sorted                                        n\n",
            "accessible                                        y\n",
            "coaccessible                                      y\n",
            "string                                            n\n",
            "weighted cycles                                   y\n"
          ],
          "name": "stdout"
        }
      ]
    },
    {
      "cell_type": "markdown",
      "metadata": {
        "id": "95snmURjDkxd",
        "colab_type": "text"
      },
      "source": [
        "Η πρωτη εντολη κανει compile τις πληροφοριες του αρχειο που δημιουργησαμε προηγουμενως για το one state fst, και παιρνει σαν input και output symbols τους χαρακτηρες του chars.syms (που ειναι και η αλφαβητα μας).\n",
        "Η δευτερη εντολη σχεδιαζει το fst που δημιουργηθηκε με τις βιβλιοθηκες dot και ghraphviz, και το αποθηκευει στο αρχειο fst.jpg. Η τριτη εντολη ειναι για να δουμε οτι ολα πηγαν καλα, δηλαδη οτι δημιουργηθηκε και εχει τα καταλληλα χαρακτηρηστικα. Επειδη ο μετατροπεας μιας καταστασης για την περιπτωση μας ειναι εξαιρετικα μεγαλος και η εικονα (jpg) δεν μας δειχνει καθαρα το τι συμβαινει, θα κανουμε μια μικροτερη αποτυπωση, απλα και μονο για λογους κατανοησης της λειτουργιας του κωδικα:"
      ]
    },
    {
      "cell_type": "code",
      "metadata": {
        "id": "Jj4prUwFL8Ut",
        "colab_type": "code",
        "colab": {}
      },
      "source": [
        "Alphabet = [('<epsilon>', 0), ('a', '1'), ('b', '2'), ('c', '3'), ('d', '4')]\n",
        "symbols_file(Alphabet, \"chars1.syms\")\n",
        "text_fst(Alphabet, \"text1.txt\", False)"
      ],
      "execution_count": 0,
      "outputs": []
    },
    {
      "cell_type": "markdown",
      "metadata": {
        "id": "BXeLoMsiNG8t",
        "colab_type": "text"
      },
      "source": [
        "Τα αρχεια αυτα εχουν 25 ακμες, οποτε ειναι αρκετα πιο ευκολο να διακρινουμε τι γινεται απο την εικονα:"
      ]
    },
    {
      "cell_type": "code",
      "metadata": {
        "id": "3mlvpPqwNP1L",
        "colab_type": "code",
        "outputId": "6a22df63-2317-48b2-86a8-741de9baeba4",
        "colab": {
          "base_uri": "https://localhost:8080/",
          "height": 0
        }
      },
      "source": [
        "!fstcompile -isymbols=chars1.syms -osymbols=chars1.syms text1.txt > fst1.fst\n",
        "!fstdraw --isymbols=chars1.syms --osymbols=chars1.syms -portrait fst1.fst  | dot -Tjpg >fst1.jpg\n",
        "!fstinfo fst1.fst"
      ],
      "execution_count": 20,
      "outputs": [
        {
          "output_type": "stream",
          "text": [
            "fst type                                          vector\n",
            "arc type                                          standard\n",
            "input symbol table                                none\n",
            "output symbol table                               none\n",
            "# of states                                       1\n",
            "# of arcs                                         24\n",
            "initial state                                     0\n",
            "# of final states                                 1\n",
            "# of input/output epsilons                        0\n",
            "# of input epsilons                               4\n",
            "# of output epsilons                              4\n",
            "input label multiplicity                          4.83333\n",
            "output label multiplicity                         4.83333\n",
            "# of accessible states                            1\n",
            "# of coaccessible states                          1\n",
            "# of connected states                             1\n",
            "# of connected components                         1\n",
            "# of strongly conn components                     1\n",
            "input matcher                                     y\n",
            "output matcher                                    n\n",
            "input lookahead                                   n\n",
            "output lookahead                                  n\n",
            "expanded                                          y\n",
            "mutable                                           y\n",
            "error                                             n\n",
            "acceptor                                          n\n",
            "input deterministic                               n\n",
            "output deterministic                              n\n",
            "input/output epsilons                             n\n",
            "input epsilons                                    y\n",
            "output epsilons                                   y\n",
            "input label sorted                                y\n",
            "output label sorted                               n\n",
            "weighted                                          y\n",
            "cyclic                                            y\n",
            "cyclic at initial state                           y\n",
            "top sorted                                        n\n",
            "accessible                                        y\n",
            "coaccessible                                      y\n",
            "string                                            n\n",
            "weighted cycles                                   y\n"
          ],
          "name": "stdout"
        }
      ]
    },
    {
      "cell_type": "markdown",
      "metadata": {
        "id": "Z-hzCCm1NpLu",
        "colab_type": "text"
      },
      "source": [
        "Ο μετατροπεας εισοδου αν παρουμε το shortest path, αυτο σημαινει οτι δεν επιφερει καμια αλλαγη, δηλαδη η λεξη που παιρνει στην εισοδο και η λεξη που παιρνουμε στην εξοδο ειναι ιδιες."
      ]
    },
    {
      "cell_type": "markdown",
      "metadata": {
        "id": "JfSj8QUkSMzc",
        "colab_type": "text"
      },
      "source": [
        "   β) Ιδανικα, αντι να εχουμε κανονες για τα βαρη, θα επρεπε αν ειχαμε πολυ περισσοτερα δεδομενα να εφαρμοζουμε πιθανοτικες μεθοδους για να προσδιορισουμε τα βαρη καλυτερα στο μοντελο μας."
      ]
    },
    {
      "cell_type": "markdown",
      "metadata": {
        "id": "_6i9AWk5Teg3",
        "colab_type": "text"
      },
      "source": [
        "---\n",
        "# Βήμα 6ο\n",
        "   α) Για να υλοποιησουμε τον αποδοχεα λεξεων του λεξικου, ακολουθουμε την λογικη που ειχαμε και πριν για το αλφαβητο, μονο που αυτην την φορα ο αποδοχεας ειναι παρα (μα παρα) πολυ μεγαλος (τουλαχιστον για τον υπολογιστη μας). Παρολα αυτα, η μεθοδος sixth δημιουργει ενα αρχειο με το προσδιορισμενο ονομα, που περιεχει τις ακμες για καθε λεξη, με μηδενικο βαρος."
      ]
    },
    {
      "cell_type": "code",
      "metadata": {
        "id": "XArzNCcdelqq",
        "colab_type": "code",
        "colab": {}
      },
      "source": [
        "def sixth(Lexicon, Alphabet, filename = \"6a.txt\", print_lines = False):\n",
        "    for i in range(0, len(Alphabet)):\n",
        "        temp = Alphabet[i]\n",
        "        Alphabet[i] = [temp, i]\n",
        "    f = open(filename, \"w+\")\n",
        "    i = 2\n",
        "    if (not print_lines):\n",
        "        for word in Lexicon:\n",
        "            for j in range(0, len(word)):\n",
        "                if j==0:\n",
        "                    f.write(\"0\" + \" \" + str(i) + \" \" + word[j] + \" \" + word[j] + \" 0\" + \"\\n\") \n",
        "                    i += 1\n",
        "                elif (j== len(word) -1):\n",
        "                    f.write( str(i-1) + \" \" + \"1\" + \" \" + word[j] + \" \" + word[j] + \" 0\" + \"\\n\")\n",
        "                    i +=1\n",
        "                else:\n",
        "                    f.write( str(i-1) + \" \" + str(i) + \" \" + word[j] + \" \" + word[j] + \" 0\" + \"\\n\")\n",
        "                    i+=1\n",
        "        f.write(\"1\")\n",
        "    else:\n",
        "        for word in Lexicon:\n",
        "            for j in range(0, len(word)):\n",
        "                if j==0:\n",
        "                    f.write(\"0\" + \" \" + str(i) + \" \" + word[j] + \" \" + word[j] + \" 0\" + \"\\n\")\n",
        "                    print(\"0\" + \" \" + str(i) + \" \" + word[j] + \" \" + word[j] + \" 0\" + \"\\n\") \n",
        "                    i += 1\n",
        "                elif (j== len(word) -1):\n",
        "                    f.write( str(i-1) + \" \" + \"1\" + \" \" + word[j] + \" \" + word[j] + \" 0\" + \"\\n\")\n",
        "                    print( str(i-1) + \" \" + \"1\" + \" \" + word[j] + \" \" + word[j] + \" 0\" + \"\\n\") \n",
        "                    i +=1\n",
        "                else:\n",
        "                    f.write( str(i-1) + \" \" + str(i) + \" \" + word[j] + \" \" + word[j] + \" 0\" + \"\\n\")\n",
        "                    print( str(i-1) + \" \" + str(i) + \" \" + word[j] + \" \" + word[j] + \" 0\" + \"\\n\")\n",
        "                    i+=1\n",
        "        f.write(\"1\")\n",
        "        print(\"1\")\n",
        "    f.close()\n"
      ],
      "execution_count": 0,
      "outputs": []
    },
    {
      "cell_type": "code",
      "metadata": {
        "id": "Nr6xfnX6BdiZ",
        "colab_type": "code",
        "colab": {}
      },
      "source": [
        "lines = read_from_file(\"corpora.txt\")\n",
        "#print(len(lines))\n",
        "text = []\n",
        "for line in lines:\n",
        "    text.append(tokenize(line))\n",
        "text = flatten(text)\n",
        "#print(len(text))\n",
        "Lexicon = unique_tokens(text)\n",
        "#print(len(Lexicon))\n",
        "Alphabet = alphabet(Lexicon)\n",
        "sixth(Lexicon, Alphabet, \"acceptor.txt\")\n"
      ],
      "execution_count": 0,
      "outputs": []
    },
    {
      "cell_type": "markdown",
      "metadata": {
        "id": "em0PndE8Zdnp",
        "colab_type": "text"
      },
      "source": [
        " Αφου φτιαξουμε το αρχειο, οπως πριν καλουμε απο το cli τις ιδιες εντολες με τον μετατροπεα μιας καταστασης (με αλλαγμενα τα ονοματα προφανως. Συστηνουμε (τουλαχιστον εμεις ετσι μπορουσαμε να δουμε τα αποτελεσματα) να εκτελεστει το απο κατω κελι αντι για το απο πανω, για και στην συνεχεια να δημιουργηθει το fst, γιατι μειωνει σημαντικα ( απο 11249 λεξεις σε μολις 10 ) το λεξιλογιο, οποτε οχι μονο ειναι γρηγορη η δημιουργια του fst, αλλα και μπορει να διακριθει ο ιδιος ο αποδοχεας."
      ]
    },
    {
      "cell_type": "code",
      "metadata": {
        "id": "7LktRu0bDGGn",
        "colab_type": "code",
        "outputId": "e6937b42-d3d9-49a8-895d-a81e00404ca1",
        "colab": {
          "base_uri": "https://localhost:8080/",
          "height": 0
        }
      },
      "source": [
        "lines = read_from_file(\"corpora.txt\")\n",
        "#print(len(lines))\n",
        "text = []\n",
        "for line in lines:\n",
        "    text.append(tokenize(line))\n",
        "text = flatten(text)\n",
        "#print(len(text))\n",
        "Lexicon = unique_tokens(text)\n",
        "print(\"Αρχικο μεγεθος λεξικου: \",len(Lexicon))\n",
        "Alphabet = alphabet(Lexicon)\n",
        "Lexicon1 = Lexicon[10:20]\n",
        "print(\"Μειωμενο μεγεθος λεξικου: \",len(Lexicon1))\n",
        "sixth(Lexicon1, Alphabet)"
      ],
      "execution_count": 23,
      "outputs": [
        {
          "output_type": "stream",
          "text": [
            "Αρχικο μεγεθος λεξικου:  8082\n",
            "Μειωμενο μεγεθος λεξικου:  10\n"
          ],
          "name": "stdout"
        }
      ]
    },
    {
      "cell_type": "code",
      "metadata": {
        "id": "8LwAJwLRCt5L",
        "colab_type": "code",
        "outputId": "a71565fe-a2a1-48de-88b3-0f12039648a1",
        "colab": {
          "base_uri": "https://localhost:8080/",
          "height": 0
        }
      },
      "source": [
        "!fstcompile -isymbols=chars.syms -osymbols=chars.syms acceptor.txt > acceptor.fst\n",
        "!fstinfo acceptor.fst"
      ],
      "execution_count": 24,
      "outputs": [
        {
          "output_type": "stream",
          "text": [
            "fst type                                          vector\n",
            "arc type                                          standard\n",
            "input symbol table                                none\n",
            "output symbol table                               none\n",
            "# of states                                       48224\n",
            "# of arcs                                         56282\n",
            "initial state                                     0\n",
            "# of final states                                 1\n",
            "# of input/output epsilons                        0\n",
            "# of input epsilons                               0\n",
            "# of output epsilons                              0\n",
            "input label multiplicity                          71.8434\n",
            "output label multiplicity                         71.8434\n",
            "# of accessible states                            48224\n",
            "# of coaccessible states                          48202\n",
            "# of connected states                             48202\n",
            "# of connected components                         1\n",
            "# of strongly conn components                     48224\n",
            "input matcher                                     y\n",
            "output matcher                                    y\n",
            "input lookahead                                   n\n",
            "output lookahead                                  n\n",
            "expanded                                          y\n",
            "mutable                                           y\n",
            "error                                             n\n",
            "acceptor                                          y\n",
            "input deterministic                               n\n",
            "output deterministic                              n\n",
            "input/output epsilons                             n\n",
            "input epsilons                                    n\n",
            "output epsilons                                   n\n",
            "input label sorted                                y\n",
            "output label sorted                               y\n",
            "weighted                                          n\n",
            "cyclic                                            n\n",
            "cyclic at initial state                           n\n",
            "top sorted                                        n\n",
            "accessible                                        y\n",
            "coaccessible                                      n\n",
            "string                                            n\n",
            "weighted cycles                                   n\n"
          ],
          "name": "stdout"
        }
      ]
    },
    {
      "cell_type": "markdown",
      "metadata": {
        "id": "xGcbyqVNa0_B",
        "colab_type": "text"
      },
      "source": [
        "   β) Για το μερος β, αρκει να τρεξουμε τις παρακατω εντολες (τις εχουμε βαλει ξεχωριστα για να παρατηρησουμε τι κανει η καθε μια)"
      ]
    },
    {
      "cell_type": "code",
      "metadata": {
        "id": "LP9n8AZKbEnh",
        "colab_type": "code",
        "outputId": "9965275a-afb5-42da-80a4-be02c8ccd148",
        "colab": {
          "base_uri": "https://localhost:8080/",
          "height": 0
        }
      },
      "source": [
        "!fstdeterminize acceptor.fst  > acceptor_determinized.fst\n",
        "!fstminimize acceptor_determinized.fst > acceptor_minimized.fst\n",
        "!fstinfo acceptor_minimized.fst"
      ],
      "execution_count": 25,
      "outputs": [
        {
          "output_type": "stream",
          "text": [
            "fst type                                          vector\n",
            "arc type                                          standard\n",
            "input symbol table                                none\n",
            "output symbol table                               none\n",
            "# of states                                       6031\n",
            "# of arcs                                         11566\n",
            "initial state                                     0\n",
            "# of final states                                 795\n",
            "# of input/output epsilons                        0\n",
            "# of input epsilons                               0\n",
            "# of output epsilons                              0\n",
            "input label multiplicity                          1\n",
            "output label multiplicity                         1\n",
            "# of accessible states                            6031\n",
            "# of coaccessible states                          6031\n",
            "# of connected states                             6031\n",
            "# of connected components                         1\n",
            "# of strongly conn components                     6031\n",
            "input matcher                                     y\n",
            "output matcher                                    y\n",
            "input lookahead                                   n\n",
            "output lookahead                                  n\n",
            "expanded                                          y\n",
            "mutable                                           y\n",
            "error                                             n\n",
            "acceptor                                          y\n",
            "input deterministic                               y\n",
            "output deterministic                              y\n",
            "input/output epsilons                             n\n",
            "input epsilons                                    n\n",
            "output epsilons                                   n\n",
            "input label sorted                                y\n",
            "output label sorted                               y\n",
            "weighted                                          n\n",
            "cyclic                                            n\n",
            "cyclic at initial state                           n\n",
            "top sorted                                        n\n",
            "accessible                                        y\n",
            "coaccessible                                      y\n",
            "string                                            n\n",
            "weighted cycles                                   n\n"
          ],
          "name": "stdout"
        }
      ]
    },
    {
      "cell_type": "markdown",
      "metadata": {
        "id": "blOuFPvafApW",
        "colab_type": "text"
      },
      "source": [
        "Η συναρτηση fstrmepsilon αφαιρει τις μεταβασεις που εχουν ε στο fst μας, και προφανως δεν ειχε καν νοημα να τις εφαρμοσουμε, αφου δεν ειχαμε χρησιμοποιησει καν ε στην κατασκευη του.\n",
        "Η συναρτηση fstdeterminize αφαιρει τον μη ντετερμινισμο, και οπως φαινεται απο τις εικονες των διαγραμματων που παραγονται, αν και δεν εχει ελαχιστο αριθμο καταστασεων, ειναι αφενος σαφως μικροτερο διαγραμμα απο το αρχικο και αφετερου σαφως πιο κατανοητο.\n",
        "Τελος, η συναρτηση fstminimize δημιουργει το διαγραμμα με τον ελαχιστο αριθμο καταστασεων, οπως φαινεται και απο την φωτογραφια fst_minimized.jpg που εχει 24 καταστασεις (ενω η determinized 27, ενω η αρχικη 55!)."
      ]
    },
    {
      "cell_type": "markdown",
      "metadata": {
        "id": "hr1vRGrEhgNi",
        "colab_type": "text"
      },
      "source": [
        "*Για τα Βηματα 7,8,9, δεν ειχαμε αρκετο χρονο, καθως πολλες αποριες μας λυθηκαν την ημερα του εργαστηριου (25/11). Παρολα αυτα, οπως συζητηθηκε και με τον καθηγητη, θα ειναι υλοποιημενα στην υποβολη της ολοκληρωμενης αναφορας για το εργαστηριο 1.*"
      ]
    },
    {
      "cell_type": "markdown",
      "metadata": {
        "id": "RuzupFrrggeN",
        "colab_type": "text"
      },
      "source": [
        "---\n",
        "# Βήμα 7ο"
      ]
    },
    {
      "cell_type": "markdown",
      "metadata": {
        "id": "EyfwnLBpNfz-",
        "colab_type": "text"
      },
      "source": [
        "   α) Φτιαχνουμε το Levenshtein Transducer:"
      ]
    },
    {
      "cell_type": "code",
      "metadata": {
        "id": "24sy_jxd_Nyj",
        "colab_type": "code",
        "outputId": "783c2570-2faa-4f90-ee37-2ddc74005494",
        "colab": {
          "base_uri": "https://localhost:8080/",
          "height": 0
        }
      },
      "source": [
        "!fstcompose onestate.fst acceptor_minimized.fst > Leven.fst\n",
        "!fstinfo Leven.fst"
      ],
      "execution_count": 26,
      "outputs": [
        {
          "output_type": "stream",
          "text": [
            "fst type                                          vector\n",
            "arc type                                          standard\n",
            "input symbol table                                none\n",
            "output symbol table                               none\n",
            "# of states                                       6031\n",
            "# of arcs                                         469088\n",
            "initial state                                     0\n",
            "# of final states                                 795\n",
            "# of input/output epsilons                        0\n",
            "# of input epsilons                               11566\n",
            "# of output epsilons                              156806\n",
            "input label multiplicity                          4.17592\n",
            "output label multiplicity                         26.6657\n",
            "# of accessible states                            6031\n",
            "# of coaccessible states                          6031\n",
            "# of connected states                             6031\n",
            "# of connected components                         1\n",
            "# of strongly conn components                     6031\n",
            "input matcher                                     y\n",
            "output matcher                                    n\n",
            "input lookahead                                   n\n",
            "output lookahead                                  n\n",
            "expanded                                          y\n",
            "mutable                                           y\n",
            "error                                             n\n",
            "acceptor                                          n\n",
            "input deterministic                               n\n",
            "output deterministic                              n\n",
            "input/output epsilons                             n\n",
            "input epsilons                                    y\n",
            "output epsilons                                   y\n",
            "input label sorted                                y\n",
            "output label sorted                               n\n",
            "weighted                                          y\n",
            "cyclic                                            y\n",
            "cyclic at initial state                           y\n",
            "top sorted                                        n\n",
            "accessible                                        y\n",
            "coaccessible                                      y\n",
            "string                                            n\n",
            "weighted cycles                                   y\n"
          ],
          "name": "stdout"
        }
      ]
    },
    {
      "cell_type": "markdown",
      "metadata": {
        "id": "5XlilBJXZnTb",
        "colab_type": "text"
      },
      "source": [
        "Αναλογα με τα βαρη του καθε ειδους edit, γινεται αναλογο prioritization στα output words. Για παραδειγμα, για ισοβαρη edits, ο min distance transducer μπορει να επιλεξει και λεξεις μεγαλυτερου μηκους, που εχουν πολλα κοινα γραμματα με την αρχικη, με τελικο βαρος ισο με αλλες λεξεις μικροτερου μηκους, που ομως εχουν περισσοτερα substitutions γραμματων. Απο την αλλη, αν ειχαμε μεγαλυτερο βαρος στο removal η στο insertion, τοτε θα ειχαμε περισσοτερα αποτελεσματα ιδιου μηκους με την λεξη εισοδου, αλλα με περισσοτερα substitutions. Συμπερασματικα, καταληγουμε οτι τα βαρη επηρεαζουν την μορφη των λεξεων εξοδου. "
      ]
    },
    {
      "cell_type": "markdown",
      "metadata": {
        "id": "xNp5vgd4NwuJ",
        "colab_type": "text"
      },
      "source": [
        " β) Φτιαχνουμε τα απαραιτητα αρχεια για την δημιουργια ενος acceptor για την λεξη \"cit\":\n"
      ]
    },
    {
      "cell_type": "code",
      "metadata": {
        "id": "m9OgWWx8OXmX",
        "colab_type": "code",
        "colab": {}
      },
      "source": [
        "Lexicon_cit = [\"cit\"]\n",
        "sixth(Lexicon_cit, Alphabet, \"cit.txt\")"
      ],
      "execution_count": 0,
      "outputs": []
    },
    {
      "cell_type": "markdown",
      "metadata": {
        "id": "zlBWXN-QOy-C",
        "colab_type": "text"
      },
      "source": [
        "Φτιαχνουμε τον αποδοχεα για την λεξη \"cit\":"
      ]
    },
    {
      "cell_type": "code",
      "metadata": {
        "id": "wlVgsc7oHyw6",
        "colab_type": "code",
        "colab": {}
      },
      "source": [
        "! fstcompile -isymbols=chars.syms -osymbols=chars.syms cit.txt > cit.fst\n",
        "! fstdraw --isymbols=chars.syms --osymbols=chars.syms -portrait cit.fst  | dot -Tjpg >cit.jpg"
      ],
      "execution_count": 0,
      "outputs": []
    },
    {
      "cell_type": "markdown",
      "metadata": {
        "id": "ncB7sxhrOOnE",
        "colab_type": "text"
      },
      "source": [
        "Κανουμε compose το FST για την αποσταση Levenshtein με τον αποδοχεα της λεξης \"cit\":"
      ]
    },
    {
      "cell_type": "code",
      "metadata": {
        "id": "JfhSAwZfOPFH",
        "colab_type": "code",
        "outputId": "bd62e946-4abc-4fb2-8a8d-45caeba080b3",
        "colab": {
          "base_uri": "https://localhost:8080/",
          "height": 0
        }
      },
      "source": [
        "! fstcompose cit.fst Leven.fst  > min_distance.fst\n",
        "! fstinfo min_distance.fst"
      ],
      "execution_count": 29,
      "outputs": [
        {
          "output_type": "stream",
          "text": [
            "fst type                                          vector\n",
            "arc type                                          standard\n",
            "input symbol table                                none\n",
            "output symbol table                               none\n",
            "# of states                                       24124\n",
            "# of arcs                                         99055\n",
            "initial state                                     0\n",
            "# of final states                                 795\n",
            "# of input/output epsilons                        0\n",
            "# of input epsilons                               46264\n",
            "# of output epsilons                              18093\n",
            "input label multiplicity                          4.02569\n",
            "output label multiplicity                         1.70058\n",
            "# of accessible states                            24124\n",
            "# of coaccessible states                          24124\n",
            "# of connected states                             24124\n",
            "# of connected components                         1\n",
            "# of strongly conn components                     24124\n",
            "input matcher                                     y\n",
            "output matcher                                    n\n",
            "input lookahead                                   n\n",
            "output lookahead                                  n\n",
            "expanded                                          y\n",
            "mutable                                           y\n",
            "error                                             n\n",
            "acceptor                                          n\n",
            "input deterministic                               n\n",
            "output deterministic                              n\n",
            "input/output epsilons                             n\n",
            "input epsilons                                    y\n",
            "output epsilons                                   y\n",
            "input label sorted                                y\n",
            "output label sorted                               n\n",
            "weighted                                          y\n",
            "cyclic                                            n\n",
            "cyclic at initial state                           n\n",
            "top sorted                                        n\n",
            "accessible                                        y\n",
            "coaccessible                                      y\n",
            "string                                            n\n",
            "weighted cycles                                   n\n"
          ],
          "name": "stdout"
        }
      ]
    },
    {
      "cell_type": "markdown",
      "metadata": {
        "id": "To5bzmAKPDU7",
        "colab_type": "text"
      },
      "source": [
        "Καλουμε την fstshortestpath για να βρουμε την ελαχιστη edit αποσταση (αποσταση Levenshtein)"
      ]
    },
    {
      "cell_type": "code",
      "metadata": {
        "id": "iT6XXmZJSNnK",
        "colab_type": "code",
        "outputId": "66055661-5b7c-4848-aecf-2f8c090d9e81",
        "colab": {
          "base_uri": "https://localhost:8080/",
          "height": 0
        }
      },
      "source": [
        "!fstshortestpath min_distance.fst | fstrmepsilon > out.fst\n",
        "!fstdraw --isymbols=chars.syms --osymbols=chars.syms -portrait out.fst  | dot -Tjpg >out.jpg\n",
        "!fstinfo out.fst"
      ],
      "execution_count": 30,
      "outputs": [
        {
          "output_type": "stream",
          "text": [
            "fst type                                          vector\n",
            "arc type                                          standard\n",
            "input symbol table                                none\n",
            "output symbol table                               none\n",
            "# of states                                       4\n",
            "# of arcs                                         3\n",
            "initial state                                     3\n",
            "# of final states                                 1\n",
            "# of input/output epsilons                        0\n",
            "# of input epsilons                               0\n",
            "# of output epsilons                              0\n",
            "input label multiplicity                          1\n",
            "output label multiplicity                         1\n",
            "# of accessible states                            4\n",
            "# of coaccessible states                          4\n",
            "# of connected states                             4\n",
            "# of connected components                         1\n",
            "# of strongly conn components                     4\n",
            "input matcher                                     y\n",
            "output matcher                                    y\n",
            "input lookahead                                   n\n",
            "output lookahead                                  n\n",
            "expanded                                          y\n",
            "mutable                                           y\n",
            "error                                             n\n",
            "acceptor                                          n\n",
            "input deterministic                               y\n",
            "output deterministic                              y\n",
            "input/output epsilons                             n\n",
            "input epsilons                                    n\n",
            "output epsilons                                   n\n",
            "input label sorted                                y\n",
            "output label sorted                               y\n",
            "weighted                                          y\n",
            "cyclic                                            n\n",
            "cyclic at initial state                           n\n",
            "top sorted                                        n\n",
            "accessible                                        y\n",
            "coaccessible                                      y\n",
            "string                                            n\n",
            "weighted cycles                                   n\n"
          ],
          "name": "stdout"
        }
      ]
    },
    {
      "cell_type": "markdown",
      "metadata": {
        "id": "xdaYjRTDZWu8",
        "colab_type": "text"
      },
      "source": [
        "Αν τρεξουμε τον παραπανω κωδικα, βλεπουμε οτι η προβλεψη του min edit spell checker ειναι η λεξη \"wit\" που ουσιαστικα εχει μονο ενα substitution ενος γραμματος. Αν βαλουμε το argument --nshorterst = Ν, οπου Ν ο αριθμος των προβλεψεων που θελουμε να δουμε, βλεπουμε οτι υπαρχουν πολλες επιλογες με το ιδιο αριθμο edits, οπως η λεξη \"sit\" και αλλες. "
      ]
    },
    {
      "cell_type": "markdown",
      "metadata": {
        "id": "-_kxWWizgiHR",
        "colab_type": "text"
      },
      "source": [
        "---\n",
        "# Βήμα 8ο\n",
        "\n",
        "  α) Για το βημα αυτο, εχουμε αποηθεκυσει τα δεδομενα για testing στο αρχειο evaluation_data.txt .\n",
        "  β) Για το ερωτημα αυτο, πρωτα δημιουργουμε ενα λεξικο που συνδεει τις σωστες λεξεις με τις λαθος, και απο αυτο \"τραβαμε\" τυχαια λαθος λεξεις και χρησιμοποιουμε τον min edit checker για να μας δωσει πιθανες απαντησεις λεξεων. Στην συνεχεια συγκρινουμε τις απαντησεις του με τις προκαθορισμενες απαντησεις, τυπωνοντας για καθε περιπτωση."
      ]
    },
    {
      "cell_type": "code",
      "metadata": {
        "id": "EoP9BPA-GLqD",
        "colab_type": "code",
        "outputId": "5264902d-7e0d-48af-92cc-1713ac3c7340",
        "colab": {
          "base_uri": "https://localhost:8080/",
          "height": 0
        }
      },
      "source": [
        "from urllib.request import urlretrieve\n",
        "import os\n",
        "from zipfile import ZipFile\n",
        "\n",
        "def download(url, file):\n",
        "    if not os.path.isfile(file):\n",
        "        print(\"Download file... \" + file + \" ...\")\n",
        "        urlretrieve(url,file)\n",
        "        print(\"File downloaded\")\n",
        "\n",
        "download(\"https://raw.githubusercontent.com/georgepar/python-lab/master/spell_checker_test_set\",\"evaluation_data.txt\")\n",
        "print(\"All the files are downloaded\")#If the downloaded file is a zip file than you can use below function to unzip it."
      ],
      "execution_count": 31,
      "outputs": [
        {
          "output_type": "stream",
          "text": [
            "Download file... evaluation_data.txt ...\n",
            "File downloaded\n",
            "All the files are downloaded\n"
          ],
          "name": "stdout"
        }
      ]
    },
    {
      "cell_type": "code",
      "metadata": {
        "id": "n_5EU0ha3H0D",
        "colab_type": "code",
        "outputId": "2c45b18a-18b0-496a-abde-36bb3f49b7f6",
        "colab": {
          "base_uri": "https://localhost:8080/",
          "height": 0
        }
      },
      "source": [
        "import random\n",
        "lines = read_from_file(\"evaluation_data.txt\")\n",
        "text = []\n",
        "dictionary = {}\n",
        "for line in lines:\n",
        "    text = []\n",
        "    text.append(tokenize(line))\n",
        "    for i in range (1,len(text[0])):\n",
        "      dictionary.update({text[0][i]:text[0][0]})\n",
        "for counter in range(0,20):\n",
        "  key = random.choice(list(dictionary.keys()))\n",
        "  value = dictionary[key]\n",
        "  Lexicon_test = [key]\n",
        "  f = open('new.txt', 'w+')\n",
        "  f.truncate(0)\n",
        "  f.close()\n",
        "  fileopen = open(\"new.txt\",\"w+\")\n",
        "  for i in range(0,len(key)):\n",
        "    fileopen.write(\"%s \" %str(i))\n",
        "    fileopen.write(\" %s \" %str(i+1))\n",
        "    fileopen.write(\" %s \" %key[i])\n",
        "    fileopen.write(\" %s \" %key[i])\n",
        "    fileopen.write(\"0\\n\")\n",
        "  fileopen.write(str(len(key)))\n",
        "  fileopen.close()\n",
        "  sixth(Lexicon_test, Alphabet, \"new.txt\")\n",
        "  !fstcompile -isymbols=chars.syms -osymbols=chars.syms new.txt > test.fst\n",
        "  !fstcompose test.fst Leven.fst  > min_distance.fst\n",
        "  print(\"Wrong word = \" ,key,\", actual word = \",value)\n",
        "  print(\"What we got from the transducer =\", end =\" \")  \n",
        "  !fstshortestpath min_distance.fst | fstrmepsilon | fsttopsort | fstprint -osymbols=chars.syms | cut -f4 | grep -v \"<epsilon>\" | head -n -1 | tr -d '\\n'\n",
        "  print()"
      ],
      "execution_count": 32,
      "outputs": [
        {
          "output_type": "stream",
          "text": [
            "Wrong word =  astablishing , actual word =  establishing\n",
            "What we got from the transducer = establish\n",
            "Wrong word =  poetre , actual word =  poetry\n",
            "What we got from the transducer = poetry\n",
            "Wrong word =  oppisite , actual word =  opposite\n",
            "What we got from the transducer = opposite\n",
            "Wrong word =  magnifisent , actual word =  magnificent\n",
            "What we got from the transducer = magnificent\n",
            "Wrong word =  extented , actual word =  extended\n",
            "What we got from the transducer = extended\n",
            "Wrong word =  desicate , actual word =  desiccate\n",
            "What we got from the transducer = delicate\n",
            "Wrong word =  magnificant , actual word =  magnificent\n",
            "What we got from the transducer = magnificent\n",
            "Wrong word =  undersand , actual word =  understand\n",
            "What we got from the transducer = understand\n",
            "Wrong word =  rememmer , actual word =  remember\n",
            "What we got from the transducer = remember\n",
            "Wrong word =  opisite , actual word =  opposite\n",
            "What we got from the transducer = opposite\n",
            "Wrong word =  scarely , actual word =  scarcely\n",
            "What we got from the transducer = stately\n",
            "Wrong word =  desicate , actual word =  desiccate\n",
            "What we got from the transducer = delicate\n",
            "Wrong word =  parrallell , actual word =  parallel\n",
            "What we got from the transducer = parallel\n",
            "Wrong word =  diffrent , actual word =  different\n",
            "What we got from the transducer = different\n",
            "Wrong word =  poarple , actual word =  purple\n",
            "What we got from the transducer = purple\n",
            "Wrong word =  juise , actual word =  juice\n",
            "What we got from the transducer = use\n",
            "Wrong word =  bicycal , actual word =  bicycle\n",
            "What we got from the transducer = royal\n",
            "Wrong word =  annt , actual word =  aunt\n",
            "What we got from the transducer = aunt\n",
            "Wrong word =  oppossite , actual word =  opposite\n",
            "What we got from the transducer = opposite\n",
            "Wrong word =  rermember , actual word =  remember\n",
            "What we got from the transducer = remember\n"
          ],
          "name": "stdout"
        }
      ]
    },
    {
      "cell_type": "markdown",
      "metadata": {
        "id": "fm1GLoTXgjci",
        "colab_type": "text"
      },
      "source": [
        "---\n",
        "# Βήμα 9ο\n",
        "\n",
        "  α) Διαβαζουμε το κειμενο σε προτασεις:"
      ]
    },
    {
      "cell_type": "code",
      "metadata": {
        "id": "478LJxqs81dh",
        "colab_type": "code",
        "colab": {}
      },
      "source": [
        "lines = read_from_file(\"corpora.txt\")\n",
        "text = []\n",
        "for line in lines:\n",
        "    text.append(tokenize(line))"
      ],
      "execution_count": 0,
      "outputs": []
    },
    {
      "cell_type": "markdown",
      "metadata": {
        "id": "AouLMySO89CU",
        "colab_type": "text"
      },
      "source": [
        "  β) Κανουμε import την βιβλιοθηκη του Word2Vec, για να εκπαιδεύσουμε 100διαστατα word2vec embeddings με βάση τις προτάσεις του βηματος 9α."
      ]
    },
    {
      "cell_type": "code",
      "metadata": {
        "id": "QSyHHegH6TsV",
        "colab_type": "code",
        "outputId": "bf8e0d64-49eb-4ea6-abab-781494227c35",
        "colab": {
          "base_uri": "https://localhost:8080/",
          "height": 71
        }
      },
      "source": [
        "from gensim.test.utils import common_texts, get_tmpfile\n",
        "from gensim.models import Word2Vec\n",
        "path = get_tmpfile(\"word2vec.model\")\n",
        "model = Word2Vec(text, size=100, window=5)\n",
        "model.save(\"word2vec.model\")\n",
        "model.train(text, total_examples=len(text), epochs=1000)\n",
        "voc = model.wv.index2word\n",
        "dim = model.wv.vector_size"
      ],
      "execution_count": 95,
      "outputs": [
        {
          "output_type": "stream",
          "text": [
            "/usr/local/lib/python3.6/dist-packages/smart_open/smart_open_lib.py:402: UserWarning: This function is deprecated, use smart_open.open instead. See the migration notes for details: https://github.com/RaRe-Technologies/smart_open/blob/master/README.rst#migrating-to-the-new-open-function\n",
            "  'See the migration notes for details: %s' % _MIGRATION_NOTES_URL\n"
          ],
          "name": "stderr"
        }
      ]
    },
    {
      "cell_type": "code",
      "metadata": {
        "id": "q7vBjalPBIob",
        "colab_type": "code",
        "colab": {}
      },
      "source": [
        "import numpy as np\n",
        "def to_embeddings_Matrix(model):  \n",
        "    embedding_matrix = np.zeros((len(model.wv.vocab), model.vector_size))\n",
        "    word2idx = {}\n",
        "    for i in range(len(model.wv.vocab)):\n",
        "        embedding_matrix[i] = model.wv[model.wv.index2word[i]]\n",
        "        word2idx[model.wv.index2word[i]] = i\n",
        "    return embedding_matrix, model.wv.index2word, word2idx"
      ],
      "execution_count": 0,
      "outputs": []
    },
    {
      "cell_type": "markdown",
      "metadata": {
        "id": "Lgei-di2-Gb4",
        "colab_type": "text"
      },
      "source": [
        "  γ) Βρισκουμε 10 τυχαιες λεξεις απο το λεξικο και παραγουμε τις σημασειολογικα κοντινοτερες τους:"
      ]
    },
    {
      "cell_type": "code",
      "metadata": {
        "id": "YXYCS4GG-Qzv",
        "colab_type": "code",
        "outputId": "8d64509c-d2db-434d-ad31-671ffbfcc523",
        "colab": {
          "base_uri": "https://localhost:8080/",
          "height": 445
        }
      },
      "source": [
        "text1 = flatten(text)\n",
        "Lexicon = unique_tokens(text1)\n",
        "i = 0\n",
        "tries = 0\n",
        "while i<10:\n",
        "    try:\n",
        "        word = random.choice(Lexicon)\n",
        "        result, similarity = model.wv.most_similar(word,topn=1)[0][0],  model.wv.most_similar(word,topn=1)[0][1]\n",
        "        i += 1\n",
        "        print(\"Initial word: \", word, \", Similar-context word (According to Word2Vec embedding):\", result, \"\\n Accuracy Achieved: \", similarity)\n",
        "    except:\n",
        "        pass\n",
        "    finally:\n",
        "        tries +=1\n",
        "    "
      ],
      "execution_count": 100,
      "outputs": [
        {
          "output_type": "stream",
          "text": [
            "Initial word:  to-morrow , Similar-context word (According to Word2Vec embedding): Copper \n",
            " Accuracy Achieved:  0.3621762990951538\n",
            "Initial word:  somewhat , Similar-context word (According to Word2Vec embedding): “the \n",
            " Accuracy Achieved:  0.39390498399734497\n",
            "Initial word:  show , Similar-context word (According to Word2Vec embedding): tell \n",
            " Accuracy Achieved:  0.459075003862381\n",
            "Initial word:  whether , Similar-context word (According to Word2Vec embedding): if \n",
            " Accuracy Achieved:  0.43347790837287903\n",
            "Initial word:  promise , Similar-context word (According to Word2Vec embedding): Still, \n",
            " Accuracy Achieved:  0.3194764256477356\n",
            "Initial word:  We , Similar-context word (According to Word2Vec embedding): You \n",
            " Accuracy Achieved:  0.44501495361328125\n",
            "Initial word:  many , Similar-context word (According to Word2Vec embedding): brought \n",
            " Accuracy Achieved:  0.3227238655090332\n",
            "Initial word:  Here , Similar-context word (According to Word2Vec embedding): will\n",
            " \n",
            " Accuracy Achieved:  0.35503455996513367\n",
            "Initial word:  I. , Similar-context word (According to Word2Vec embedding): he.\n",
            " \n",
            " Accuracy Achieved:  0.37513554096221924\n",
            "Initial word:  Waterloo , Similar-context word (According to Word2Vec embedding): yards \n",
            " Accuracy Achieved:  0.39951691031455994\n"
          ],
          "name": "stdout"
        },
        {
          "output_type": "stream",
          "text": [
            "/usr/local/lib/python3.6/dist-packages/gensim/matutils.py:737: FutureWarning: Conversion of the second argument of issubdtype from `int` to `np.signedinteger` is deprecated. In future, it will be treated as `np.int64 == np.dtype(int).type`.\n",
            "  if np.issubdtype(vec.dtype, np.int):\n"
          ],
          "name": "stderr"
        }
      ]
    },
    {
      "cell_type": "markdown",
      "metadata": {
        "id": "LTVMz5ju2wKx",
        "colab_type": "text"
      },
      "source": [
        "# Βήμα 10ο"
      ]
    },
    {
      "cell_type": "markdown",
      "metadata": {
        "id": "WQku2-LA-Ky2",
        "colab_type": "text"
      },
      "source": [
        "  α) Εξάγουμε την πιθανότητα εμφάνισης κάθε token (λέξης) και την αποθηκεύουμε σε ένα λεξικό με key το token και value την πιθανότητα εμφάνισής του."
      ]
    },
    {
      "cell_type": "code",
      "metadata": {
        "id": "Q2xIxWxj2K0A",
        "colab_type": "code",
        "colab": {}
      },
      "source": [
        "lines = read_from_file(\"corpora.txt\")\n",
        "text = []\n",
        "Word_probability = {}\n",
        "Totalwords = 0\n",
        "for line in lines:\n",
        "    text.append(tokenize(line))\n",
        "for i in range(0,len(text)):\n",
        "  for word in text[i]:\n",
        "      if not word:\n",
        "        continue\n",
        "      Totalwords+= 1\n",
        "      if Word_probability.get(word) == None:\n",
        "        Word_probability.update({word:1})\n",
        "      else:\n",
        "        Word_probability[word] += 1\n",
        "for key,value in Word_probability.items():\n",
        "  Word_probability[key] = Word_probability[key]/Totalwords"
      ],
      "execution_count": 0,
      "outputs": []
    },
    {
      "cell_type": "markdown",
      "metadata": {
        "id": "p7LICeKa-Vss",
        "colab_type": "text"
      },
      "source": [
        " β) Εξάγουμε την πιθανότητα εμφάνισης κάθε χαρακτήρα και την αποθηκεύουμε σε ένα λεξικό με key το token και value την πιθανότητα εμφάνισής του."
      ]
    },
    {
      "cell_type": "code",
      "metadata": {
        "id": "yHHk-BkJ2Pgh",
        "colab_type": "code",
        "colab": {}
      },
      "source": [
        "lines = read_from_file(\"corpora.txt\")\n",
        "text = []\n",
        "Letter_probability = {}\n",
        "Totalletters = 0\n",
        "for line in lines:\n",
        "    text.append(tokenize(line))\n",
        "for i in range(0,len(text)):\n",
        "  for word in text[i]:\n",
        "    for letter in range(0,len(word)):\n",
        "      Totalletters+= 1\n",
        "      if Letter_probability.get(word[letter]) == None:\n",
        "        Letter_probability.update({word[letter]:1})\n",
        "      else:\n",
        "        Letter_probability.update({word[letter]:Letter_probability[word[letter]]+1})\n",
        "for key,value in Letter_probability.items():\n",
        "  Letter_probability[key] = Letter_probability[key]/Totalletters"
      ],
      "execution_count": 0,
      "outputs": []
    },
    {
      "cell_type": "markdown",
      "metadata": {
        "id": "5REbZDoF90H7",
        "colab_type": "text"
      },
      "source": [
        "#Βήμα 11ο"
      ]
    },
    {
      "cell_type": "markdown",
      "metadata": {
        "id": "NiWlXiiWCz23",
        "colab_type": "text"
      },
      "source": [
        "  α)Υπολογιζουμε την μεση τιμη των βαρων του word level, αλλα και του unigram level:"
      ]
    },
    {
      "cell_type": "code",
      "metadata": {
        "id": "EUfh99mO97dv",
        "colab_type": "code",
        "outputId": "b501c170-2a5e-4321-cc6e-c8ab7363b82f",
        "colab": {
          "base_uri": "https://localhost:8080/",
          "height": 0
        }
      },
      "source": [
        "Wordw = 0\n",
        "Distwords = 0\n",
        "Letterw = 0\n",
        "Distletters = 0\n",
        "for (key,value) in Word_probability.items():\n",
        "  Wordw -= np.log(value)\n",
        "  Distwords += 1\n",
        "for (key,value) in Letter_probability.items():\n",
        "  Letterw -= np.log(value)\n",
        "  Distletters += 1\n",
        "Wordw = Wordw / Distwords\n",
        "print(Distwords)\n",
        "print(Wordw)\n",
        "Letterw = Letterw / Distletters\n",
        "print(Distletters)\n",
        "print(Letterw)"
      ],
      "execution_count": 39,
      "outputs": [
        {
          "output_type": "stream",
          "text": [
            "8082\n",
            "10.620257420623155\n",
            "26\n",
            "3.9143484580218573\n"
          ],
          "name": "stdout"
        }
      ]
    },
    {
      "cell_type": "markdown",
      "metadata": {
        "id": "9ipu0tD6D7CZ",
        "colab_type": "text"
      },
      "source": [
        "  β) Αρχικα φτιαχνουμε μια συναρτηση για να τυπωνουμε σε αρχειο τις απαραιτητες πληροφοριες για να φτιαχτει το fst:"
      ]
    },
    {
      "cell_type": "code",
      "metadata": {
        "id": "040RRQj7AIhi",
        "colab_type": "code",
        "colab": {}
      },
      "source": [
        "def weighted_fst(Alphabet,weight, filename = \"text.txt\", print_lines = False):\n",
        "    f = open(filename, \"w+\")\n",
        "    if (print_lines):\n",
        "        for pair in Alphabet:\n",
        "            for pair1 in Alphabet:\n",
        "                if  (pair[0] == pair1[0] ==\"<epsilon>\"):\n",
        "                    continue \n",
        "                elif (pair[0] == pair1[0] and pair[0]!=\"<epsilon>\"):\n",
        "                    print(\"0\" + \" 0 \" + pair[0] + \" \" + pair1[0] + \" 0\")\n",
        "                    f.write(\"0\" + \" 0 \" + pair[0] + \" \" + pair1[0] + \" 0\" + \"\\n\")\n",
        "                elif (pair[0]=='<epsilon>'):\n",
        "                    print(\"0\" + \" 0 \" + pair[0] + \" \" + pair1[0] + \" \" + str(weight))\n",
        "                    f.write(\"0\" + \" 0 \" + pair[0] + \" \" + pair1[0] + \" \" + str(weight)+ \"\\n\")\n",
        "                elif (pair1[0]=='<epsilon>'):\n",
        "                    print(\"0\" + \" 0 \" + pair[0] + \" \" + pair1[0] + \" \" + str(weight))\n",
        "                    f.write(\"0\" + \" 0 \" + pair[0] + \" \" + pair1[0] + \" \" + str(weight)+ \"\\n\")\n",
        "                else:\n",
        "                    print(\"0\" + \" 0 \" + pair[0] + \" \" + pair1[0] + \" \" + str(weight))\n",
        "                    f.write(\"0\" + \" 0 \" + pair[0] + \" \" + pair1[0] + \" \" + str(weight)+ \"\\n\")\n",
        "        print(\"0\")\n",
        "        f.write(\"0\")\n",
        "    else:\n",
        "        for pair in Alphabet:\n",
        "            for pair1 in Alphabet:\n",
        "                if  (pair[0] == pair1[0] ==\"<epsilon>\"):\n",
        "                    continue \n",
        "                elif (pair[0] == pair1[0] and pair[0]!=\"<epsilon>\"):\n",
        "                    f.write(\"0\" + \" 0 \" + pair[0] + \" \" + pair1[0] + \" 0\" + \"\\n\")\n",
        "                elif (pair[0]=='<epsilon>'):\n",
        "                    f.write(\"0\" + \" 0 \" + pair[0] + \" \" + pair1[0] + \" \" + str(weight)+ \"\\n\")\n",
        "                elif (pair1[0]=='<epsilon>'):\n",
        "                    f.write(\"0\" + \" 0 \" + pair[0] + \" \" + pair1[0] + \" \" + str(weight)+ \"\\n\")\n",
        "                else:\n",
        "                    f.write(\"0\" + \" 0 \" + pair[0] + \" \" + pair1[0] + \" \" + str(weight)+ \"\\n\")\n",
        "        f.write(\"0\")\n",
        "    f.close()"
      ],
      "execution_count": 0,
      "outputs": []
    },
    {
      "cell_type": "markdown",
      "metadata": {
        "id": "ukg8W6PEEKFY",
        "colab_type": "text"
      },
      "source": [
        "Φτιαχνουμε τα δυο αρχεια που θα μας χρειαστουν για τους μετατροπεις:"
      ]
    },
    {
      "cell_type": "code",
      "metadata": {
        "id": "bhWng1JgCXog",
        "colab_type": "code",
        "colab": {}
      },
      "source": [
        "lines = read_from_file(\"corpora.txt\")\n",
        "#print(len(lines))\n",
        "text = []\n",
        "for line in lines:\n",
        "    text.append(tokenize(line))\n",
        "text = flatten(text)\n",
        "#print(len(text))\n",
        "Lexicon = unique_tokens(text)\n",
        "#print(len(Lexicon))\n",
        "Alphabet = alphabet(Lexicon)\n",
        "#print(len(Alphabet))\n",
        "Alphabet = alphabet_indexing(Alphabet)\n",
        "#print(Alphabet)\n",
        "symbols_file(Alphabet,)\n",
        "weighted_fst(Alphabet,Wordw, \"Wordw.txt\")\n",
        "weighted_fst(Alphabet,Letterw, \"Letterw.txt\")"
      ],
      "execution_count": 0,
      "outputs": []
    },
    {
      "cell_type": "markdown",
      "metadata": {
        "id": "Nik0YYidEk7w",
        "colab_type": "text"
      },
      "source": [
        "Και τωρα κανουμε compile τους μετατροπεις:"
      ]
    },
    {
      "cell_type": "code",
      "metadata": {
        "id": "gRi9Kw45D1Qk",
        "colab_type": "code",
        "colab": {}
      },
      "source": [
        "!fstcompile -isymbols=chars.syms -osymbols=chars.syms Wordw.txt > Wordw.fst\n",
        "!fstcompile -isymbols=chars.syms -osymbols=chars.syms Letterw.txt > Letterw.fst"
      ],
      "execution_count": 0,
      "outputs": []
    },
    {
      "cell_type": "markdown",
      "metadata": {
        "id": "qnbDRI1UV1P1",
        "colab_type": "text"
      },
      "source": [
        "# Βήμα 12ο"
      ]
    },
    {
      "cell_type": "markdown",
      "metadata": {
        "id": "N8WJEc0CPPsI",
        "colab_type": "text"
      },
      "source": [
        "   α) Φτιαχνουμε 2 συναρτησεις για να δημιουργουμε τα αρχεια που ειναι απαραιτητα για τα  fst που μας ζητουνται:"
      ]
    },
    {
      "cell_type": "code",
      "metadata": {
        "id": "jLEo8bt6V5Qb",
        "colab_type": "code",
        "colab": {}
      },
      "source": [
        "def twelvtha(Lexicon, Alphabet, Word_probability, filename = \"12a.txt\"):\n",
        "    f = open(filename, \"w+\")\n",
        "    i = 2\n",
        "    for word in Lexicon:\n",
        "        for j in range(0, len(word)):\n",
        "            if j==0:\n",
        "                f.write(\"0\" + \" \" + str(i) + \" \" + word[j] + \" \" + word[j] + \" \" + str(-1*np.log(Word_probability[word])) + \"\\n\")\n",
        "                i += 1\n",
        "            elif (j== len(word) -1):\n",
        "                f.write( str(i-1) + \" \" + \"1\" + \" \" + word[j] + \" \" + word[j] + \" 0\" + \"\\n\")\n",
        "                i +=1\n",
        "            else:\n",
        "                f.write( str(i-1) + \" \" + str(i) + \" \" + word[j] + \" \" + word[j] + \" 0\" + \"\\n\")\n",
        "                i+=1\n",
        "    f.write(\"1\")\n",
        "    f.close()\n",
        "\n",
        "def twelvthb(Lexicon, Alphabet, Letter_probability, filename = \"12b.txt\"):\n",
        "    f = open(filename, \"w+\")\n",
        "    i = 2\n",
        "    for word in Lexicon:\n",
        "        for j in range(0, len(word)):\n",
        "            if j==0:\n",
        "                f.write(\"0\" + \" \" + str(i) + \" \" + word[j] + \" \" + word[j] + \" \" + str(-1*np.log(Letter_probability[word[j]])/len(word)) + \"\\n\")\n",
        "                i += 1\n",
        "            elif (j== len(word) -1):\n",
        "                f.write( str(i-1) + \" \" + \"1\" + \" \" + word[j] + \" \" + word[j] + \" \" + str(-1*np.log(Letter_probability[word[j]])/len(word)) + \"\\n\")\n",
        "                i +=1\n",
        "            else:\n",
        "                f.write( str(i-1) + \" \" + str(i) + \" \" + word[j] + \" \" + word[j] + \" \" + str(-1*np.log(Letter_probability[word[j]])/len(word)) + \"\\n\")\n",
        "                i+=1\n",
        "    f.write(\"1\")\n",
        "    f.close()\n"
      ],
      "execution_count": 0,
      "outputs": []
    },
    {
      "cell_type": "markdown",
      "metadata": {
        "id": "HDUQyVgzPa0o",
        "colab_type": "text"
      },
      "source": [
        "*Στην συνάρτηση twelvthb το βάρος τοποθετείται σταθμισμένο με βάση το μέγεθος της εκάστοτε λέξης καθώς δίχως αυτή την κανονικοποίηση ο ορθογράφος θα προτιμούσε πάντα πολύ μικρές λέξεις*\n",
        "\n",
        "\n",
        "Δημιουργουμε τα αρχεια που χρειαζομαστε:"
      ]
    },
    {
      "cell_type": "code",
      "metadata": {
        "id": "H51_jYZTXhkg",
        "colab_type": "code",
        "colab": {}
      },
      "source": [
        "twelvtha(Lexicon, Alphabet,Word_probability,\"Wordlevel.txt\")\n",
        "twelvthb(Lexicon, Alphabet,Letter_probability,\"Unigram.txt\")"
      ],
      "execution_count": 0,
      "outputs": []
    },
    {
      "cell_type": "markdown",
      "metadata": {
        "id": "kcmgviLNPg_W",
        "colab_type": "text"
      },
      "source": [
        "  β) Καλουμε τις αναλογες συναρτησεις για να βελτιστοποιησουμε τα μοντελα μας:"
      ]
    },
    {
      "cell_type": "code",
      "metadata": {
        "id": "l3JMoUZJhpT6",
        "colab_type": "code",
        "colab": {
          "base_uri": "https://localhost:8080/",
          "height": 0
        },
        "outputId": "edabf8f0-b255-46e6-e7d3-4f0889bac164"
      },
      "source": [
        "!fstcompile -isymbols=chars.syms -osymbols=chars.syms Wordlevel.txt | fstdeterminize | fstminimize | fstarcsort > Wordlevel.fst\n",
        "!fstinfo Wordlevel.fst\n",
        "!fstcompile -isymbols=chars.syms -osymbols=chars.syms Unigram.txt | fstdeterminize | fstminimize | fstarcsort > Unigram.fst\n",
        "!fstinfo Unigram.fst"
      ],
      "execution_count": 45,
      "outputs": [
        {
          "output_type": "stream",
          "text": [
            "fst type                                          vector\n",
            "arc type                                          standard\n",
            "input symbol table                                none\n",
            "output symbol table                               none\n",
            "# of states                                       7518\n",
            "# of arcs                                         13551\n",
            "initial state                                     0\n",
            "# of final states                                 1401\n",
            "# of input/output epsilons                        0\n",
            "# of input epsilons                               0\n",
            "# of output epsilons                              0\n",
            "input label multiplicity                          1\n",
            "output label multiplicity                         1\n",
            "# of accessible states                            7518\n",
            "# of coaccessible states                          7518\n",
            "# of connected states                             7518\n",
            "# of connected components                         1\n",
            "# of strongly conn components                     7518\n",
            "input matcher                                     y\n",
            "output matcher                                    y\n",
            "input lookahead                                   n\n",
            "output lookahead                                  n\n",
            "expanded                                          y\n",
            "mutable                                           y\n",
            "error                                             n\n",
            "acceptor                                          y\n",
            "input deterministic                               y\n",
            "output deterministic                              y\n",
            "input/output epsilons                             n\n",
            "input epsilons                                    n\n",
            "output epsilons                                   n\n",
            "input label sorted                                y\n",
            "output label sorted                               y\n",
            "weighted                                          y\n",
            "cyclic                                            n\n",
            "cyclic at initial state                           n\n",
            "top sorted                                        n\n",
            "accessible                                        y\n",
            "coaccessible                                      y\n",
            "string                                            n\n",
            "weighted cycles                                   n\n",
            "fst type                                          vector\n",
            "arc type                                          standard\n",
            "input symbol table                                none\n",
            "output symbol table                               none\n",
            "# of states                                       7884\n",
            "# of arcs                                         13955\n",
            "initial state                                     0\n",
            "# of final states                                 1613\n",
            "# of input/output epsilons                        0\n",
            "# of input epsilons                               0\n",
            "# of output epsilons                              0\n",
            "input label multiplicity                          1\n",
            "output label multiplicity                         1\n",
            "# of accessible states                            7884\n",
            "# of coaccessible states                          7884\n",
            "# of connected states                             7884\n",
            "# of connected components                         1\n",
            "# of strongly conn components                     7884\n",
            "input matcher                                     y\n",
            "output matcher                                    y\n",
            "input lookahead                                   n\n",
            "output lookahead                                  n\n",
            "expanded                                          y\n",
            "mutable                                           y\n",
            "error                                             n\n",
            "acceptor                                          y\n",
            "input deterministic                               y\n",
            "output deterministic                              y\n",
            "input/output epsilons                             n\n",
            "input epsilons                                    n\n",
            "output epsilons                                   n\n",
            "input label sorted                                y\n",
            "output label sorted                               y\n",
            "weighted                                          y\n",
            "cyclic                                            n\n",
            "cyclic at initial state                           n\n",
            "top sorted                                        n\n",
            "accessible                                        y\n",
            "coaccessible                                      y\n",
            "string                                            n\n",
            "weighted cycles                                   n\n"
          ],
          "name": "stdout"
        }
      ]
    },
    {
      "cell_type": "markdown",
      "metadata": {
        "id": "1ouXqDv4ipnt",
        "colab_type": "text"
      },
      "source": [
        "#Βήμα 13ο"
      ]
    },
    {
      "cell_type": "markdown",
      "metadata": {
        "id": "lHXLNmcyP_3K",
        "colab_type": "text"
      },
      "source": [
        "α)β)Για να κατασκευασουμε τους ορθογραφους για τα word-level & unigram-level γλωσσικα μοντελα καλουμε την fstcompose με τον word-level μετατροπεα:"
      ]
    },
    {
      "cell_type": "code",
      "metadata": {
        "id": "ew4HNQrZit4o",
        "colab_type": "code",
        "colab": {}
      },
      "source": [
        "\n",
        "! fstcompose Wordw.fst Wordlevel.fst> Wordlevellast.fst\n",
        "! fstcompose Letterw.fst Unigram.fst > Unigramlast.fst"
      ],
      "execution_count": 0,
      "outputs": []
    },
    {
      "cell_type": "markdown",
      "metadata": {
        "id": "4cjhSYEGQYry",
        "colab_type": "text"
      },
      "source": [
        "γ) Αρχικα καλουμε την fstcompose με το μοντελο sample.fst, και για τους δυο ορθογραφους:"
      ]
    },
    {
      "cell_type": "code",
      "metadata": {
        "id": "WaiBE12LTQ4p",
        "colab_type": "code",
        "colab": {}
      },
      "source": [
        "Lexicon_sample = [\"cit\"]\n",
        "sixth(Lexicon_sample, Alphabet, \"sample.txt\")"
      ],
      "execution_count": 0,
      "outputs": []
    },
    {
      "cell_type": "code",
      "metadata": {
        "id": "t1QUavDwTb8l",
        "colab_type": "code",
        "colab": {}
      },
      "source": [
        "! fstcompile -isymbols=chars.syms -osymbols=chars.syms sample.txt > sample.fst\n",
        "! fstdraw --isymbols=chars.syms --osymbols=chars.syms -portrait sample.fst  | dot -Tjpg >sample.jpg"
      ],
      "execution_count": 0,
      "outputs": []
    },
    {
      "cell_type": "code",
      "metadata": {
        "id": "mKJtpdInQk4M",
        "colab_type": "code",
        "colab": {}
      },
      "source": [
        "! fstcompose sample.fst Wordlevellast.fst > min_distance_Wordlevel.fst  "
      ],
      "execution_count": 0,
      "outputs": []
    },
    {
      "cell_type": "code",
      "metadata": {
        "id": "7GeMwL01KdT_",
        "colab_type": "code",
        "colab": {}
      },
      "source": [
        "! fstcompose  sample.fst Unigramlast.fst > min_distance_Unigram.fst"
      ],
      "execution_count": 0,
      "outputs": []
    },
    {
      "cell_type": "markdown",
      "metadata": {
        "id": "55G1BO8RRJA4",
        "colab_type": "text"
      },
      "source": [
        "Στην συνεχεια βρισκουμε την λεξη με την μικροτερη αποσταση απο την λεξη \"cit\" και για τους δυο ορθογραφους:"
      ]
    },
    {
      "cell_type": "code",
      "metadata": {
        "id": "AThXNyhwQ6Sg",
        "colab_type": "code",
        "colab": {}
      },
      "source": [
        "!fstshortestpath min_distance_Wordlevel.fst | fstrmepsilon > out_word.fst\n",
        "!fstdraw --isymbols=chars.syms --osymbols=chars.syms -portrait out_word.fst  | dot -Tjpg >out_word.jpg\n",
        "!fstshortestpath min_distance_Unigram.fst | fstrmepsilon > out_unigram.fst\n",
        "!fstdraw --isymbols=chars.syms --osymbols=chars.syms -portrait out_unigram.fst  | dot -Tjpg >out_unigram.jpg"
      ],
      "execution_count": 0,
      "outputs": []
    },
    {
      "cell_type": "markdown",
      "metadata": {
        "id": "axGyF7jfUmJB",
        "colab_type": "text"
      },
      "source": [
        "Αυτοι οι ορθογραφοι προσπαθουν να βρουν την λεξη που με ελαχιστον edit cost ερχεται πλησιεστερα στην λεξη εισοδου σε επιπεδο λεξεων και χαρακτηρων. Με αλλα λογια, ο ενας προσπαθει να ταιριαξει ολοκληρη την λεξη με βαση τις υπολοιπες λεξεις του κειμενου, ενω ο αλλος προσπαθει να ταιριαξει την λεξη ταιριαζοντας χαρακτηρες, ετσι ωστε να δημιουργησει μια λεξη που υπαρχει στο κειμενο. Ενα παραδειγμα αμφισημης διορθωσης ειναι η λεξη-εισοδος \"fuckery\", που με το μοντελο λεξεων διορθωνεται σε \"fuller\", ενω με το μοντελο unigram διορθωνεται σε \"fury\"."
      ]
    },
    {
      "cell_type": "markdown",
      "metadata": {
        "id": "_mBc-yzgWMQL",
        "colab_type": "text"
      },
      "source": [
        "#Βήμα 14ο\n",
        "\n",
        "  α) Το συνολο δεδομενων επαληθευσης ειναι στο αρχειο evaluation_data.txt\n"
      ]
    },
    {
      "cell_type": "markdown",
      "metadata": {
        "id": "aNtXrh1_hbDj",
        "colab_type": "text"
      },
      "source": [
        "β) Ο κωδικας για να ελεγχουμε για καθε λεξη του συνολου δεδομενων επαληθευσης ειναι ο εξης:"
      ]
    },
    {
      "cell_type": "code",
      "metadata": {
        "id": "KT9b_JdViDVp",
        "colab_type": "code",
        "colab": {}
      },
      "source": [
        "lines = read_from_file(\"evaluation_data.txt\")\n",
        "text = []\n",
        "dictionary = {}\n",
        "for line in lines:\n",
        "    text = []\n",
        "    text.append(tokenize(line))\n",
        "    for i in range (1,len(text[0])):\n",
        "      dictionary.update({text[0][i]:text[0][0]})"
      ],
      "execution_count": 0,
      "outputs": []
    },
    {
      "cell_type": "code",
      "metadata": {
        "id": "wN1jxiE-gbkT",
        "colab_type": "code",
        "outputId": "c8d2407a-2da0-4ae0-92a0-feb0a6d7d234",
        "colab": {
          "base_uri": "https://localhost:8080/",
          "height": 697
        }
      },
      "source": [
        "dict_contents = list(dictionary)\n",
        "for counter in range(0,20):\n",
        "  key = random.choice(dict_contents)\n",
        "  value = dictionary[key]\n",
        "  Lexicon_test = [key]\n",
        "  f = open('new.txt', 'w+')\n",
        "  f.truncate(0)\n",
        "  f.close()\n",
        "  fileopen = open(\"new.txt\",\"w+\")\n",
        "  for i in range(0,len(key)):\n",
        "    fileopen.write(\"%s \" %str(i))\n",
        "    fileopen.write(\" %s \" %str(i+1))\n",
        "    fileopen.write(\" %s \" %key[i])\n",
        "    fileopen.write(\" %s \" %key[i])\n",
        "    fileopen.write(\"0\\n\")\n",
        "  fileopen.write(str(len(key)))\n",
        "  fileopen.close()\n",
        "  sixth(Lexicon_test, Alphabet, \"new.txt\")\n",
        "  !fstcompile -isymbols=chars.syms -osymbols=chars.syms new.txt > test.fst\n",
        "  !fstdraw --isymbols=chars.syms --osymbols=chars.syms -portrait test.fst  | dot -Tjpg >test.jpg \n",
        "  !fstcompose test.fst Wordlevellast.fst > min_distance.fst\n",
        "  print(\"Wrong word = \" ,key,\", actual word = \",value)\n",
        "  print(\"What we got from the transducer =\", end =\" \")  \n",
        "  !fstshortestpath min_distance.fst | fstrmepsilon | fsttopsort | fstprint -osymbols=chars.syms | cut -f4 | grep -v \"<epsilon>\" | head -n -1 | tr -d '\\n'\n",
        "  print()"
      ],
      "execution_count": 53,
      "outputs": [
        {
          "output_type": "stream",
          "text": [
            "Wrong word =  experance , actual word =  experience\n",
            "What we got from the transducer = experience\n",
            "Wrong word =  anut , actual word =  aunt\n",
            "What we got from the transducer = nut\n",
            "Wrong word =  febuary , actual word =  february\n",
            "What we got from the transducer = february\n",
            "Wrong word =  descide , actual word =  decide\n",
            "What we got from the transducer = decide\n",
            "Wrong word =  failes , actual word =  fails\n",
            "What we got from the transducer = failed\n",
            "Wrong word =  possition , actual word =  position\n",
            "What we got from the transducer = position\n",
            "Wrong word =  initals , actual word =  initials\n",
            "What we got from the transducer = initials\n",
            "Wrong word =  problam , actual word =  problem\n",
            "What we got from the transducer = problem\n",
            "Wrong word =  levals , actual word =  levels\n",
            "What we got from the transducer = legal\n",
            "Wrong word =  magnificnet , actual word =  magnificent\n",
            "What we got from the transducer = magnificent\n",
            "Wrong word =  opisite , actual word =  opposite\n",
            "What we got from the transducer = opposite\n",
            "Wrong word =  oppasite , actual word =  opposite\n",
            "What we got from the transducer = opposite\n",
            "Wrong word =  basicaly , actual word =  basically\n",
            "What we got from the transducer = easily\n",
            "Wrong word =  parrallel , actual word =  parallel\n",
            "What we got from the transducer = parallel\n",
            "Wrong word =  paralel , actual word =  parallel\n",
            "What we got from the transducer = parallel\n",
            "Wrong word =  specal , actual word =  special\n",
            "What we got from the transducer = special\n",
            "Wrong word =  wether , actual word =  whether\n",
            "What we got from the transducer = whether\n",
            "Wrong word =  familes , actual word =  families\n",
            "What we got from the transducer = families\n",
            "Wrong word =  volantry , actual word =  voluntary\n",
            "What we got from the transducer = country\n",
            "Wrong word =  curtans , actual word =  curtains\n",
            "What we got from the transducer = curtain\n"
          ],
          "name": "stdout"
        }
      ]
    },
    {
      "cell_type": "code",
      "metadata": {
        "id": "aw-4CZA4iAgL",
        "colab_type": "code",
        "outputId": "567cf0ed-4cb3-4a5b-a6b2-5d4f2b65ae76",
        "colab": {
          "base_uri": "https://localhost:8080/",
          "height": 697
        }
      },
      "source": [
        "for counter in range(0,20):\n",
        "  key = random.choice(dict_contents)\n",
        "  value = dictionary[key]\n",
        "  Lexicon_test = [key]\n",
        "  f = open('new.txt', 'w+')\n",
        "  f.truncate(0)\n",
        "  f.close()\n",
        "  fileopen = open(\"new.txt\",\"w+\")\n",
        "  for i in range(0,len(key)):\n",
        "    fileopen.write(\"%s \" %str(i))\n",
        "    fileopen.write(\" %s \" %str(i+1))\n",
        "    fileopen.write(\" %s \" %key[i])\n",
        "    fileopen.write(\" %s \" %key[i])\n",
        "    fileopen.write(\"0\\n\")\n",
        "  fileopen.write(str(len(key)))\n",
        "  fileopen.close()\n",
        "  sixth(Lexicon_test, Alphabet, \"new.txt\")\n",
        "  !fstcompile -isymbols=chars.syms -osymbols=chars.syms new.txt > test.fst\n",
        "  !fstdraw --isymbols=chars.syms --osymbols=chars.syms -portrait test.fst  | dot -Tjpg >test.jpg \n",
        "  !fstcompose test.fst Wordlevellast.fst > min_distance.fst\n",
        "  print(\"Wrong word = \" ,key,\", actual word = \",value)\n",
        "  print(\"What we got from the transducer =\", end =\" \")  \n",
        "  !fstshortestpath min_distance.fst | fstrmepsilon | fsttopsort | fstprint -osymbols=chars.syms | cut -f4 | grep -v \"<epsilon>\" | head -n -1 | tr -d '\\n'\n",
        "  print()"
      ],
      "execution_count": 73,
      "outputs": [
        {
          "output_type": "stream",
          "text": [
            "Wrong word =  articals , actual word =  articles\n",
            "What we got from the transducer = article\n",
            "Wrong word =  experiance , actual word =  experience\n",
            "What we got from the transducer = experience\n",
            "Wrong word =  ofton , actual word =  often\n",
            "What we got from the transducer = often\n",
            "Wrong word =  necassery , actual word =  necessary\n",
            "What we got from the transducer = necessary\n",
            "Wrong word =  embarass , actual word =  embarrass\n",
            "What we got from the transducer = brass\n",
            "Wrong word =  singulaur , actual word =  singular\n",
            "What we got from the transducer = singular\n",
            "Wrong word =  intials , actual word =  initials\n",
            "What we got from the transducer = initials\n",
            "Wrong word =  discription , actual word =  description\n",
            "What we got from the transducer = description\n",
            "Wrong word =  rermember , actual word =  remember\n",
            "What we got from the transducer = remember\n",
            "Wrong word =  valubale , actual word =  valuable\n",
            "What we got from the transducer = valuable\n",
            "Wrong word =  possable , actual word =  possible\n",
            "What we got from the transducer = possible\n",
            "Wrong word =  bycicle , actual word =  bicycle\n",
            "What we got from the transducer = circle\n",
            "Wrong word =  localy , actual word =  locally\n",
            "What we got from the transducer = local\n",
            "Wrong word =  unexspected , actual word =  unexpected\n",
            "What we got from the transducer = unexpected\n",
            "Wrong word =  extreamly , actual word =  extremely\n",
            "What we got from the transducer = extremely\n",
            "Wrong word =  seperate , actual word =  separate\n",
            "What we got from the transducer = separate\n",
            "Wrong word =  accesing , actual word =  accessing\n",
            "What we got from the transducer = accepting\n",
            "Wrong word =  gallary , actual word =  gallery\n",
            "What we got from the transducer = salary\n",
            "Wrong word =  comittee , actual word =  committee\n",
            "What we got from the transducer = committed\n",
            "Wrong word =  magnifiscant , actual word =  magnificent\n",
            "What we got from the transducer = magnificent\n"
          ],
          "name": "stdout"
        }
      ]
    },
    {
      "cell_type": "markdown",
      "metadata": {
        "id": "pKRpWPKKlP7b",
        "colab_type": "text"
      },
      "source": [
        "#Βήμα 16ο\n",
        "\n",
        "  α) Kατεβαζουμε τα δεδομενα αρχικα:\n"
      ]
    },
    {
      "cell_type": "code",
      "metadata": {
        "id": "SvWHqxiemAwa",
        "colab_type": "code",
        "colab": {}
      },
      "source": [
        "from urllib.request import urlretrieve\n",
        "import os\n",
        "from zipfile import ZipFile\n",
        "\n",
        "def download(url, file):\n",
        "    if not os.path.isfile(file):\n",
        "        print(\"Download file... \" + file + \" ...\")\n",
        "        urlretrieve(url,file)\n",
        "        print(\"File downloaded\")\n",
        "\n",
        "download(\"http://ai.stanford.edu/~amaas/data/sentiment/aclImdb_v1.tar.gz\",\"aclImdb_v1.tar.gz\")\n",
        "print(\"All the files are downloaded\")"
      ],
      "execution_count": 0,
      "outputs": []
    },
    {
      "cell_type": "markdown",
      "metadata": {
        "id": "LjhdiNjkn2Mr",
        "colab_type": "text"
      },
      "source": [
        "Στην συνεχεια τα κανουμε uncompress:"
      ]
    },
    {
      "cell_type": "code",
      "metadata": {
        "id": "AdeYz72BnhgZ",
        "colab_type": "code",
        "colab": {}
      },
      "source": [
        "!tar -xvf aclImdb_v1.tar.gz"
      ],
      "execution_count": 0,
      "outputs": []
    },
    {
      "cell_type": "markdown",
      "metadata": {
        "id": "gfIrjLr1oKFs",
        "colab_type": "text"
      },
      "source": [
        "  β) Επειτα τα επεξεργαζομαστε:"
      ]
    },
    {
      "cell_type": "code",
      "metadata": {
        "id": "VM2Z4S45oLq6",
        "colab_type": "code",
        "colab": {}
      },
      "source": [
        "data_dir = './aclImdb/'\n",
        "train_dir = os.path.join(data_dir, 'train')\n",
        "test_dir = os.path.join(data_dir, 'test')\n",
        "pos_train_dir = os.path.join(train_dir, 'pos')\n",
        "neg_train_dir = os.path.join(train_dir, 'neg')\n",
        "pos_test_dir = os.path.join(test_dir, 'pos')\n",
        "neg_test_dir = os.path.join(test_dir, 'neg')\n",
        "\n",
        "# For memory limitations. These parameters fit in 8GB of RAM. (5000)\n",
        "# If you have 16G of RAM you can experiment with the full dataset / W2V (10000)\n",
        "MAX_NUM_SAMPLES = 100000\n",
        "# Load first 1M word embeddings. This works because GoogleNews are roughly\n",
        "# sorted from most frequent to least frequent.\n",
        "# It may yield much worse results for other embeddings corpora\n",
        "NUM_W2V_TO_LOAD = 2000000\n",
        "import numpy as np\n",
        "\n",
        "SEED = 42\n",
        "\n",
        "# Fix numpy random seed for reproducibility\n",
        "np.random.seed(42)\n",
        "\n",
        "try:\n",
        "    import glob2 as glob\n",
        "except ImportError:\n",
        "    import glob\n",
        "\n",
        "def strip_punctuation(s):\n",
        "    return re.sub(r'[^a-zA-Z\\s]', ' ', s)\n",
        "\n",
        "def preprocess(s):\n",
        "    return re.sub('\\s+',' ', strip_punctuation(s).lower())\n",
        "\n",
        "def tokenize(s):\n",
        "    return s.split(' ')\n",
        "\n",
        "def preproc_tok(s):\n",
        "    return tokenize(preprocess(s))\n",
        "\n",
        "def read_samples(folder, preprocess=lambda x: x):\n",
        "    samples = glob.iglob(os.path.join(folder, '*.txt'))\n",
        "    data = []\n",
        "    for i, sample in enumerate(samples):\n",
        "        if MAX_NUM_SAMPLES > 0 and i == MAX_NUM_SAMPLES:\n",
        "            break\n",
        "        with open(sample, 'r') as fd:\n",
        "            x = [preprocess(l) for l in fd][0]\n",
        "            data.append(x)\n",
        "    return data\n",
        "\n",
        "def create_corpus(pos, neg):\n",
        "    corpus = np.array(pos + neg)\n",
        "    y = np.array([1 for _ in pos] + [0 for _ in neg])\n",
        "    indices = np.arange(y.shape[0])\n",
        "    np.random.shuffle(indices)\n",
        "    return list(corpus[indices]), list(y[indices])"
      ],
      "execution_count": 0,
      "outputs": []
    },
    {
      "cell_type": "code",
      "metadata": {
        "id": "pJw-BZXOrDr8",
        "colab_type": "code",
        "colab": {}
      },
      "source": [
        "#4 lists of 12500 length, containing strings\n",
        "#Each string is a positive or negative comment, of varying length\n",
        "positive_train_data = read_samples(pos_train_dir)\n",
        "negative_train_data = read_samples(neg_train_dir)\n",
        "positive_test_data = read_samples(pos_test_dir)\n",
        "negative_test_data = read_samples(neg_test_dir)\n",
        "whole_train_text = positive_train_data + negative_train_data\n",
        "whole_test_text = positive_test_data + negative_test_data"
      ],
      "execution_count": 0,
      "outputs": []
    },
    {
      "cell_type": "markdown",
      "metadata": {
        "id": "sGEGAW4yuClW",
        "colab_type": "text"
      },
      "source": [
        "#Βημα 17ο\n"
      ]
    },
    {
      "cell_type": "markdown",
      "metadata": {
        "id": "u2ufbVzxPSUS",
        "colab_type": "text"
      },
      "source": [
        "α) Ο ρολος των βαρων TF-IDF στις BOW αναπαραστασεις ειναι για να κανει ουσιαστικα normalize τα βαρη των ορων που εμφανιζονται πολλες φορες. Με αλλα λογια, η αναλυση του Term Frequency εξεταζει ποσες φορες εχει εμφανιστει ενας ορος σε ενα sample, και η αναλυση Inverse Document Frequency εξεταζει (αναστροφα) το ποσες φορες εχει εμφανιστει ο ορος αυτος σε ολα τα sample που εχουμε. Ο ρολος τους δηλαδη ειναι να αποτιμουν βαρη για ορους που θελουμε να μαθουμε ποσο σχετικοι ειναι με ενα θεμα, αλλα αν εμφανιζονται παρα πολλες φορες σε ενα sample τοτε το βαρος τους δεν πρεπει να ειναι εξαιρετικα μεγαλο. Η αναλυση TF εξεταζει το ποσο σημαντικος ειναι ενας ορος στο συγκεκριμενο sample, ενω η αναλυση IDF εξεταζει ποσο \"κοινος\" ειναι σε ολα τα sample, αρα και ποσο μη σημαντικος (κοινοτυπος) ειναι ο ορος αυτος.\n",
        "\n",
        "Ενα παραδειγμα ειναι το εξης:\n",
        "\n",
        "Αν θελουμε να ψαξουμε για την σχετικοτητα του ορου \"pool\" σε αρθρα που αναφερονται σε κολυμβηση (\"swimming\"), τοτε η αναλυση TF μπορει να μας πει οτι ο ορος \"pool\" εμφανιζεται 5 φορες στο αρθρο x, και απο την αναλυση IDF, 20 φορες σε ολα τα αρθρα. Απο την αλλη, ο ορος \"the\" (που ειναι εξαιρετικα κοινος, καθως ειναι stop-word) μπορει να εμφανιζεται στο αρθρο x 100 φορες, και σε ολα τα αρθρα 1000. Αυτο μας λεει οτι λογω της πολυ μεγαλης αναστροφης συχνοτητας εμφανισης στα αρθρα, δεν εχει μεγαλη σημασεια, τουλαχιστον οχι οσο μεγαλη σημασεια εχει ο ορος \"pool\" \n",
        "(πχ  5/20  >  100/1000).\n",
        "\n",
        "Η τεχνικη αυτη ειναι πολυ χρησιμη και ευρεως διαδεδομενη, και συνδεεται με τον νομο του Ζιπφ. "
      ]
    },
    {
      "cell_type": "markdown",
      "metadata": {
        "id": "QSkIpxTq2kHP",
        "colab_type": "text"
      },
      "source": [
        "β) Αρχικα χρησιμοποιουμε το CountVectorizer για να δημιουργησουμε μια αφελη (μη σταθμισμενη) αναπαρασταση για το Bag Of Words μας:"
      ]
    },
    {
      "cell_type": "code",
      "metadata": {
        "id": "orcBgRv62lMX",
        "colab_type": "code",
        "outputId": "759f5ecc-7530-408f-928c-8e1ae85226bd",
        "colab": {
          "base_uri": "https://localhost:8080/",
          "height": 323
        }
      },
      "source": [
        "from sklearn.feature_extraction.text import CountVectorizer\n",
        "\n",
        "vectorizer= CountVectorizer()\n",
        "\n",
        "random.shuffle(whole_train_text)\n",
        "random.shuffle(whole_test_text)\n",
        "\n",
        "vectorizer.fit_transform(whole_train_text)\n",
        "#print(vectorizer_train.vocabulary_)\n",
        "\n",
        "train_vector = vectorizer.fit_transform(whole_train_text)\n",
        "print(train_vector.shape)\n",
        "print(type(train_vector))\n",
        "print(train_vector.toarray())\n",
        "\n",
        "test_vector = vectorizer.transform(whole_test_text)\n",
        "print(test_vector.shape)\n",
        "print(type(test_vector))\n",
        "print(test_vector.toarray())\n"
      ],
      "execution_count": 78,
      "outputs": [
        {
          "output_type": "stream",
          "text": [
            "(25000, 74849)\n",
            "<class 'scipy.sparse.csr.csr_matrix'>\n",
            "[[0 0 0 ... 0 0 0]\n",
            " [0 0 0 ... 0 0 0]\n",
            " [0 0 0 ... 0 0 0]\n",
            " ...\n",
            " [0 0 0 ... 0 0 0]\n",
            " [0 0 0 ... 0 0 0]\n",
            " [0 0 0 ... 0 0 0]]\n",
            "(25000, 74849)\n",
            "<class 'scipy.sparse.csr.csr_matrix'>\n",
            "[[0 0 0 ... 0 0 0]\n",
            " [0 0 0 ... 0 0 0]\n",
            " [0 0 0 ... 0 0 0]\n",
            " ...\n",
            " [0 0 0 ... 0 0 0]\n",
            " [0 0 0 ... 0 0 0]\n",
            " [0 0 0 ... 0 0 0]]\n"
          ],
          "name": "stdout"
        }
      ]
    },
    {
      "cell_type": "markdown",
      "metadata": {
        "id": "8mmbyB-weUok",
        "colab_type": "text"
      },
      "source": [
        "γ) Εκπαιδευουμε εναν ταξινομητη χρησιμοποιωντας την τεχνικη Logistic Regression για να δουμε την ακριβεια:"
      ]
    },
    {
      "cell_type": "code",
      "metadata": {
        "id": "KhmzmSfMuV7N",
        "colab_type": "code",
        "outputId": "a44e284d-4aa2-4341-c7a1-a603b32dba1d",
        "colab": {
          "base_uri": "https://localhost:8080/",
          "height": 51
        }
      },
      "source": [
        "from sklearn.linear_model import LogisticRegression\n",
        "from sklearn import metrics\n",
        "\n",
        "\n",
        "labels_train = [0]*len(whole_train_text)\n",
        "for i in range(0, len(whole_train_text)):\n",
        "    if whole_train_text[i] in positive_train_data:\n",
        "        labels_train[i] = 1\n",
        "    else:\n",
        "        labels_train[i] = -1\n",
        "\n",
        "logisticRegr = LogisticRegression()\n",
        "logisticRegr.fit(train_vector, labels_train)\n",
        "\n",
        "\n",
        "\n",
        "labels_test = [0]*len(whole_test_text)\n",
        "for i in range(0, len(whole_test_text)):\n",
        "    if whole_test_text[i] in positive_test_data:\n",
        "        labels_test[i] = 1\n",
        "    else:\n",
        "        labels_test[i] = -1\n",
        "\n",
        "lr_prediction = logisticRegr.predict(test_vector)"
      ],
      "execution_count": 79,
      "outputs": [
        {
          "output_type": "stream",
          "text": [
            "/usr/local/lib/python3.6/dist-packages/sklearn/linear_model/logistic.py:432: FutureWarning: Default solver will be changed to 'lbfgs' in 0.22. Specify a solver to silence this warning.\n",
            "  FutureWarning)\n"
          ],
          "name": "stderr"
        }
      ]
    },
    {
      "cell_type": "markdown",
      "metadata": {
        "id": "i35_J0LU9CX8",
        "colab_type": "text"
      },
      "source": [
        "Η ακριβεια ειναι:"
      ]
    },
    {
      "cell_type": "code",
      "metadata": {
        "id": "mj-rSB_53rCb",
        "colab_type": "code",
        "outputId": "c09bbd7c-5189-44a1-8f51-295deb55a82f",
        "colab": {
          "base_uri": "https://localhost:8080/",
          "height": 34
        }
      },
      "source": [
        "accuracy = 0\n",
        "for i in range(0, len(lr_prediction)):\n",
        "    accuracy += (lr_prediction[i] == labels_test[i])\n",
        "print(\"Accuracy = \",100*accuracy/len(lr_prediction),\"%\")"
      ],
      "execution_count": 80,
      "outputs": [
        {
          "output_type": "stream",
          "text": [
            "Accuracy =  86.676 %\n"
          ],
          "name": "stdout"
        }
      ]
    },
    {
      "cell_type": "markdown",
      "metadata": {
        "id": "3S5luB4ZeUYe",
        "colab_type": "text"
      },
      "source": [
        "δ) Τωρα, θα χρησιμοποιησουμε τον TfidVectorizer για να δημιουργησουμε μια καλυτερη αναπαρασταση για τα δεδομενα μας (σταθμισμενη)"
      ]
    },
    {
      "cell_type": "code",
      "metadata": {
        "id": "d4PQRg-feXuu",
        "colab_type": "code",
        "outputId": "45457430-3ea5-41ef-8567-30c841f9a3dd",
        "colab": {
          "base_uri": "https://localhost:8080/",
          "height": 323
        }
      },
      "source": [
        "from sklearn.feature_extraction.text import TfidfVectorizer\n",
        "\n",
        "vectorizer_tfidf = TfidfVectorizer()\n",
        "\n",
        "vectorizer_tfidf.fit_transform(whole_train_text)\n",
        "#print(vectorizer_train.vocabulary_)\n",
        "\n",
        "train_vector_tfidf = vectorizer_tfidf.fit_transform(whole_train_text)\n",
        "print(train_vector_tfidf.shape)\n",
        "print(type(train_vector_tfidf))\n",
        "print(train_vector_tfidf.toarray())\n",
        "\n",
        "test_vector_tfidf = vectorizer_tfidf.transform(whole_test_text)\n",
        "print(test_vector_tfidf.shape)\n",
        "print(type(test_vector_tfidf))\n",
        "print(test_vector_tfidf.toarray())"
      ],
      "execution_count": 81,
      "outputs": [
        {
          "output_type": "stream",
          "text": [
            "(25000, 74849)\n",
            "<class 'scipy.sparse.csr.csr_matrix'>\n",
            "[[0. 0. 0. ... 0. 0. 0.]\n",
            " [0. 0. 0. ... 0. 0. 0.]\n",
            " [0. 0. 0. ... 0. 0. 0.]\n",
            " ...\n",
            " [0. 0. 0. ... 0. 0. 0.]\n",
            " [0. 0. 0. ... 0. 0. 0.]\n",
            " [0. 0. 0. ... 0. 0. 0.]]\n",
            "(25000, 74849)\n",
            "<class 'scipy.sparse.csr.csr_matrix'>\n",
            "[[0. 0. 0. ... 0. 0. 0.]\n",
            " [0. 0. 0. ... 0. 0. 0.]\n",
            " [0. 0. 0. ... 0. 0. 0.]\n",
            " ...\n",
            " [0. 0. 0. ... 0. 0. 0.]\n",
            " [0. 0. 0. ... 0. 0. 0.]\n",
            " [0. 0. 0. ... 0. 0. 0.]]\n"
          ],
          "name": "stdout"
        }
      ]
    },
    {
      "cell_type": "markdown",
      "metadata": {
        "id": "rQOm6cx49PxY",
        "colab_type": "text"
      },
      "source": [
        "Και φτιαχνουμε παλι εναν ταξινομητη για να δουμε την ακριβεια:"
      ]
    },
    {
      "cell_type": "code",
      "metadata": {
        "id": "XVo_bttifJf0",
        "colab_type": "code",
        "outputId": "44c8ada0-cc4b-4c52-c420-ac367a6f4307",
        "colab": {
          "base_uri": "https://localhost:8080/",
          "height": 68
        }
      },
      "source": [
        "logisticRegr_tfidf = LogisticRegression()\n",
        "logisticRegr_tfidf.fit(train_vector_tfidf, labels_train)\n",
        "\n",
        "lr_prediction_tfidf = logisticRegr_tfidf.predict(test_vector_tfidf)\n",
        "accuracy = 0\n",
        "for i in range(0, len(lr_prediction_tfidf)):\n",
        "    accuracy += (lr_prediction_tfidf[i] == labels_test[i])\n",
        "print(\"Accuracy = \",100*accuracy/len(lr_prediction_tfidf),\"%\")"
      ],
      "execution_count": 83,
      "outputs": [
        {
          "output_type": "stream",
          "text": [
            "/usr/local/lib/python3.6/dist-packages/sklearn/linear_model/logistic.py:432: FutureWarning: Default solver will be changed to 'lbfgs' in 0.22. Specify a solver to silence this warning.\n",
            "  FutureWarning)\n"
          ],
          "name": "stderr"
        },
        {
          "output_type": "stream",
          "text": [
            "Accuracy =  88.312 %\n"
          ],
          "name": "stdout"
        }
      ]
    },
    {
      "cell_type": "markdown",
      "metadata": {
        "id": "7Peo6GIW9Yf9",
        "colab_type": "text"
      },
      "source": [
        "Βλεπουμε οτι η σταθμισμενη αναπαρασταση ειναι πιο ακριβης απο την μη σταθμισμενη, γεγονος που επαληθευει την διαισθηση μας οτι ειναι χρησιμη τεχνικη."
      ]
    },
    {
      "cell_type": "markdown",
      "metadata": {
        "id": "NAOXXVKl9jcG",
        "colab_type": "text"
      },
      "source": [
        "#Βημα 18ο"
      ]
    },
    {
      "cell_type": "markdown",
      "metadata": {
        "id": "wu2fGhcn_TdE",
        "colab_type": "text"
      },
      "source": [
        "α)"
      ]
    },
    {
      "cell_type": "code",
      "metadata": {
        "id": "N2sRxCWv_VK0",
        "colab_type": "code",
        "outputId": "ea429139-e6ae-44ec-b5d7-4a51b81661ba",
        "colab": {
          "base_uri": "https://localhost:8080/",
          "height": 34
        }
      },
      "source": [
        "positive_train_data = read_samples(pos_train_dir)\n",
        "negative_train_data = read_samples(neg_train_dir)\n",
        "whole_train_text = positive_train_data + negative_train_data\n",
        "lines = whole_train_text\n",
        "text = []\n",
        "for line in lines:\n",
        "    text.append(tokenize(line))\n",
        "text1 = flatten(text)\n",
        "Lexicon = unique_tokens(text1)\n",
        "words_in_voc = 0\n",
        "for i in range(0, len(voc)):\n",
        "    words_in_voc += (voc[i] in Lexicon)\n",
        "print(words_in_voc, \" of the vocabulary of IMDB texts are in the embedding, out of \", len(Lexicon), \", A \", 100*words_in_voc/len(Lexicon),\"% .\")"
      ],
      "execution_count": 115,
      "outputs": [
        {
          "output_type": "stream",
          "text": [
            "1880  of the vocabulary of IMDB texts are in the embedding, out of  281158 , A  0.6686631715974648 % .\n"
          ],
          "name": "stdout"
        }
      ]
    },
    {
      "cell_type": "markdown",
      "metadata": {
        "id": "UX_uh5Ff_Vrq",
        "colab_type": "text"
      },
      "source": [
        "β)"
      ]
    },
    {
      "cell_type": "code",
      "metadata": {
        "id": "JaAylr-0_V9J",
        "colab_type": "code",
        "colab": {}
      },
      "source": [
        ""
      ],
      "execution_count": 0,
      "outputs": []
    },
    {
      "cell_type": "markdown",
      "metadata": {
        "id": "-7N7KJCs_WXd",
        "colab_type": "text"
      },
      "source": [
        "γ)Κατεβαζουμε τα προεκπαιδευμενα GoogleNews vectors:"
      ]
    },
    {
      "cell_type": "code",
      "metadata": {
        "id": "_Qh2uDFnF4hn",
        "colab_type": "code",
        "outputId": "c224a8f8-f16e-43d7-81a8-ee01f879849e",
        "colab": {
          "base_uri": "https://localhost:8080/",
          "height": 136
        }
      },
      "source": [
        "!wget  -c \"https://s3.amazonaws.com/dl4j-distribution/GoogleNews-vectors-negative300.bin.gz\""
      ],
      "execution_count": 102,
      "outputs": [
        {
          "output_type": "stream",
          "text": [
            "--2019-12-04 20:12:50--  https://s3.amazonaws.com/dl4j-distribution/GoogleNews-vectors-negative300.bin.gz\n",
            "Resolving s3.amazonaws.com (s3.amazonaws.com)... 52.216.21.149\n",
            "Connecting to s3.amazonaws.com (s3.amazonaws.com)|52.216.21.149|:443... connected.\n",
            "HTTP request sent, awaiting response... 416 Requested Range Not Satisfiable\n",
            "\n",
            "    The file is already fully retrieved; nothing to do.\n",
            "\n"
          ],
          "name": "stdout"
        }
      ]
    },
    {
      "cell_type": "markdown",
      "metadata": {
        "id": "4jovV9-i_XZ4",
        "colab_type": "text"
      },
      "source": [
        "δ)"
      ]
    },
    {
      "cell_type": "code",
      "metadata": {
        "id": "OZE83me1AkAZ",
        "colab_type": "code",
        "outputId": "8663a5ba-b635-43e5-ceb8-4c162a2760be",
        "colab": {
          "base_uri": "https://localhost:8080/",
          "height": 394
        }
      },
      "source": [
        "from gensim.models import KeyedVectors\n",
        "\n",
        "EMBEDDING_FILE = 'GoogleNews-vectors-negative300.bin.gz'\n",
        "model2 = KeyedVectors.load_word2vec_format(EMBEDDING_FILE, binary=True, limit = 1000000)"
      ],
      "execution_count": 103,
      "outputs": [
        {
          "output_type": "stream",
          "text": [
            "/usr/local/lib/python3.6/dist-packages/smart_open/smart_open_lib.py:402: UserWarning: This function is deprecated, use smart_open.open instead. See the migration notes for details: https://github.com/RaRe-Technologies/smart_open/blob/master/README.rst#migrating-to-the-new-open-function\n",
            "  'See the migration notes for details: %s' % _MIGRATION_NOTES_URL\n"
          ],
          "name": "stderr"
        },
        {
          "output_type": "error",
          "ename": "KeyboardInterrupt",
          "evalue": "ignored",
          "traceback": [
            "\u001b[0;31m---------------------------------------------------------------------------\u001b[0m",
            "\u001b[0;31mKeyboardInterrupt\u001b[0m                         Traceback (most recent call last)",
            "\u001b[0;32m<ipython-input-103-6a7de188c2d5>\u001b[0m in \u001b[0;36m<module>\u001b[0;34m()\u001b[0m\n\u001b[1;32m      2\u001b[0m \u001b[0;34m\u001b[0m\u001b[0m\n\u001b[1;32m      3\u001b[0m \u001b[0mEMBEDDING_FILE\u001b[0m \u001b[0;34m=\u001b[0m \u001b[0;34m'GoogleNews-vectors-negative300.bin.gz'\u001b[0m\u001b[0;34m\u001b[0m\u001b[0;34m\u001b[0m\u001b[0m\n\u001b[0;32m----> 4\u001b[0;31m \u001b[0mmodel2\u001b[0m \u001b[0;34m=\u001b[0m \u001b[0mKeyedVectors\u001b[0m\u001b[0;34m.\u001b[0m\u001b[0mload_word2vec_format\u001b[0m\u001b[0;34m(\u001b[0m\u001b[0mEMBEDDING_FILE\u001b[0m\u001b[0;34m,\u001b[0m \u001b[0mbinary\u001b[0m\u001b[0;34m=\u001b[0m\u001b[0;32mTrue\u001b[0m\u001b[0;34m,\u001b[0m \u001b[0mlimit\u001b[0m \u001b[0;34m=\u001b[0m \u001b[0;36m1000000\u001b[0m\u001b[0;34m)\u001b[0m\u001b[0;34m\u001b[0m\u001b[0;34m\u001b[0m\u001b[0m\n\u001b[0m",
            "\u001b[0;32m/usr/local/lib/python3.6/dist-packages/gensim/models/keyedvectors.py\u001b[0m in \u001b[0;36mload_word2vec_format\u001b[0;34m(cls, fname, fvocab, binary, encoding, unicode_errors, limit, datatype)\u001b[0m\n\u001b[1;32m   1436\u001b[0m         return _load_word2vec_format(\n\u001b[1;32m   1437\u001b[0m             \u001b[0mcls\u001b[0m\u001b[0;34m,\u001b[0m \u001b[0mfname\u001b[0m\u001b[0;34m,\u001b[0m \u001b[0mfvocab\u001b[0m\u001b[0;34m=\u001b[0m\u001b[0mfvocab\u001b[0m\u001b[0;34m,\u001b[0m \u001b[0mbinary\u001b[0m\u001b[0;34m=\u001b[0m\u001b[0mbinary\u001b[0m\u001b[0;34m,\u001b[0m \u001b[0mencoding\u001b[0m\u001b[0;34m=\u001b[0m\u001b[0mencoding\u001b[0m\u001b[0;34m,\u001b[0m \u001b[0municode_errors\u001b[0m\u001b[0;34m=\u001b[0m\u001b[0municode_errors\u001b[0m\u001b[0;34m,\u001b[0m\u001b[0;34m\u001b[0m\u001b[0;34m\u001b[0m\u001b[0m\n\u001b[0;32m-> 1438\u001b[0;31m             limit=limit, datatype=datatype)\n\u001b[0m\u001b[1;32m   1439\u001b[0m \u001b[0;34m\u001b[0m\u001b[0m\n\u001b[1;32m   1440\u001b[0m     \u001b[0;32mdef\u001b[0m \u001b[0mget_keras_embedding\u001b[0m\u001b[0;34m(\u001b[0m\u001b[0mself\u001b[0m\u001b[0;34m,\u001b[0m \u001b[0mtrain_embeddings\u001b[0m\u001b[0;34m=\u001b[0m\u001b[0;32mFalse\u001b[0m\u001b[0;34m)\u001b[0m\u001b[0;34m:\u001b[0m\u001b[0;34m\u001b[0m\u001b[0;34m\u001b[0m\u001b[0m\n",
            "\u001b[0;32m/usr/local/lib/python3.6/dist-packages/gensim/models/utils_any2vec.py\u001b[0m in \u001b[0;36m_load_word2vec_format\u001b[0;34m(cls, fname, fvocab, binary, encoding, unicode_errors, limit, datatype)\u001b[0m\n\u001b[1;32m    202\u001b[0m                 \u001b[0mword\u001b[0m \u001b[0;34m=\u001b[0m \u001b[0;34m[\u001b[0m\u001b[0;34m]\u001b[0m\u001b[0;34m\u001b[0m\u001b[0;34m\u001b[0m\u001b[0m\n\u001b[1;32m    203\u001b[0m                 \u001b[0;32mwhile\u001b[0m \u001b[0;32mTrue\u001b[0m\u001b[0;34m:\u001b[0m\u001b[0;34m\u001b[0m\u001b[0;34m\u001b[0m\u001b[0m\n\u001b[0;32m--> 204\u001b[0;31m                     \u001b[0mch\u001b[0m \u001b[0;34m=\u001b[0m \u001b[0mfin\u001b[0m\u001b[0;34m.\u001b[0m\u001b[0mread\u001b[0m\u001b[0;34m(\u001b[0m\u001b[0;36m1\u001b[0m\u001b[0;34m)\u001b[0m\u001b[0;34m\u001b[0m\u001b[0;34m\u001b[0m\u001b[0m\n\u001b[0m\u001b[1;32m    205\u001b[0m                     \u001b[0;32mif\u001b[0m \u001b[0mch\u001b[0m \u001b[0;34m==\u001b[0m \u001b[0;34mb' '\u001b[0m\u001b[0;34m:\u001b[0m\u001b[0;34m\u001b[0m\u001b[0;34m\u001b[0m\u001b[0m\n\u001b[1;32m    206\u001b[0m                         \u001b[0;32mbreak\u001b[0m\u001b[0;34m\u001b[0m\u001b[0;34m\u001b[0m\u001b[0m\n",
            "\u001b[0;32m/usr/lib/python3.6/gzip.py\u001b[0m in \u001b[0;36mread\u001b[0;34m(self, size)\u001b[0m\n\u001b[1;32m    270\u001b[0m \u001b[0;34m\u001b[0m\u001b[0m\n\u001b[1;32m    271\u001b[0m     \u001b[0;32mdef\u001b[0m \u001b[0mread\u001b[0m\u001b[0;34m(\u001b[0m\u001b[0mself\u001b[0m\u001b[0;34m,\u001b[0m \u001b[0msize\u001b[0m\u001b[0;34m=\u001b[0m\u001b[0;34m-\u001b[0m\u001b[0;36m1\u001b[0m\u001b[0;34m)\u001b[0m\u001b[0;34m:\u001b[0m\u001b[0;34m\u001b[0m\u001b[0;34m\u001b[0m\u001b[0m\n\u001b[0;32m--> 272\u001b[0;31m         \u001b[0mself\u001b[0m\u001b[0;34m.\u001b[0m\u001b[0m_check_not_closed\u001b[0m\u001b[0;34m(\u001b[0m\u001b[0;34m)\u001b[0m\u001b[0;34m\u001b[0m\u001b[0;34m\u001b[0m\u001b[0m\n\u001b[0m\u001b[1;32m    273\u001b[0m         \u001b[0;32mif\u001b[0m \u001b[0mself\u001b[0m\u001b[0;34m.\u001b[0m\u001b[0mmode\u001b[0m \u001b[0;34m!=\u001b[0m \u001b[0mREAD\u001b[0m\u001b[0;34m:\u001b[0m\u001b[0;34m\u001b[0m\u001b[0;34m\u001b[0m\u001b[0m\n\u001b[1;32m    274\u001b[0m             \u001b[0;32mimport\u001b[0m \u001b[0merrno\u001b[0m\u001b[0;34m\u001b[0m\u001b[0;34m\u001b[0m\u001b[0m\n",
            "\u001b[0;32m/usr/lib/python3.6/_compression.py\u001b[0m in \u001b[0;36m_check_not_closed\u001b[0;34m(self)\u001b[0m\n\u001b[1;32m     11\u001b[0m \u001b[0;34m\u001b[0m\u001b[0m\n\u001b[1;32m     12\u001b[0m     \u001b[0;32mdef\u001b[0m \u001b[0m_check_not_closed\u001b[0m\u001b[0;34m(\u001b[0m\u001b[0mself\u001b[0m\u001b[0;34m)\u001b[0m\u001b[0;34m:\u001b[0m\u001b[0;34m\u001b[0m\u001b[0;34m\u001b[0m\u001b[0m\n\u001b[0;32m---> 13\u001b[0;31m         \u001b[0;32mif\u001b[0m \u001b[0mself\u001b[0m\u001b[0;34m.\u001b[0m\u001b[0mclosed\u001b[0m\u001b[0;34m:\u001b[0m\u001b[0;34m\u001b[0m\u001b[0;34m\u001b[0m\u001b[0m\n\u001b[0m\u001b[1;32m     14\u001b[0m             \u001b[0;32mraise\u001b[0m \u001b[0mValueError\u001b[0m\u001b[0;34m(\u001b[0m\u001b[0;34m\"I/O operation on closed file\"\u001b[0m\u001b[0;34m)\u001b[0m\u001b[0;34m\u001b[0m\u001b[0;34m\u001b[0m\u001b[0m\n\u001b[1;32m     15\u001b[0m \u001b[0;34m\u001b[0m\u001b[0m\n",
            "\u001b[0;32m/usr/lib/python3.6/gzip.py\u001b[0m in \u001b[0;36mclosed\u001b[0;34m(self)\u001b[0m\n\u001b[1;32m    296\u001b[0m         \u001b[0;32mreturn\u001b[0m \u001b[0mself\u001b[0m\u001b[0;34m.\u001b[0m\u001b[0m_buffer\u001b[0m\u001b[0;34m.\u001b[0m\u001b[0mpeek\u001b[0m\u001b[0;34m(\u001b[0m\u001b[0mn\u001b[0m\u001b[0;34m)\u001b[0m\u001b[0;34m\u001b[0m\u001b[0;34m\u001b[0m\u001b[0m\n\u001b[1;32m    297\u001b[0m \u001b[0;34m\u001b[0m\u001b[0m\n\u001b[0;32m--> 298\u001b[0;31m     \u001b[0;34m@\u001b[0m\u001b[0mproperty\u001b[0m\u001b[0;34m\u001b[0m\u001b[0;34m\u001b[0m\u001b[0m\n\u001b[0m\u001b[1;32m    299\u001b[0m     \u001b[0;32mdef\u001b[0m \u001b[0mclosed\u001b[0m\u001b[0;34m(\u001b[0m\u001b[0mself\u001b[0m\u001b[0;34m)\u001b[0m\u001b[0;34m:\u001b[0m\u001b[0;34m\u001b[0m\u001b[0;34m\u001b[0m\u001b[0m\n\u001b[1;32m    300\u001b[0m         \u001b[0;32mreturn\u001b[0m \u001b[0mself\u001b[0m\u001b[0;34m.\u001b[0m\u001b[0mfileobj\u001b[0m \u001b[0;32mis\u001b[0m \u001b[0;32mNone\u001b[0m\u001b[0;34m\u001b[0m\u001b[0;34m\u001b[0m\u001b[0m\n",
            "\u001b[0;31mKeyboardInterrupt\u001b[0m: "
          ]
        }
      ]
    },
    {
      "cell_type": "code",
      "metadata": {
        "id": "gT2d7TdE_YKH",
        "colab_type": "code",
        "outputId": "91409abb-b979-401d-d077-c3a48e963971",
        "colab": {
          "base_uri": "https://localhost:8080/",
          "height": 717
        }
      },
      "source": [
        "model2.save(\"model2.model\")\n",
        "text1 = flatten(text)\n",
        "Lexicon = unique_tokens(text1)\n",
        "for i in range(0,10):\n",
        "    word = random.choice(model.wv.index2word)\n",
        "    while (word not in model2.wv.index2word):\n",
        "      word = random.choice(model.wv.index2word)\n",
        "    result, similarity = model2.wv.most_similar(word,topn=1)[0][0],  model2.wv.most_similar(word,topn=1)[0][1]\n",
        "    print(\"Initial word: \", word)\n",
        "    print(\"Similar-context word (According to Word2Vec embedding):\", result, \", Accuracy Achieved: \", similarity)\n",
        "    result, similarity = model.wv.most_similar(word,topn=1)[0][0],  model.wv.most_similar(word,topn=1)[0][1]\n",
        "    print(\"Similar-context word (According to our embedding):\", result, \", Accuracy Achieved: \", similarity)"
      ],
      "execution_count": 114,
      "outputs": [
        {
          "output_type": "stream",
          "text": [
            "/usr/local/lib/python3.6/dist-packages/smart_open/smart_open_lib.py:402: UserWarning: This function is deprecated, use smart_open.open instead. See the migration notes for details: https://github.com/RaRe-Technologies/smart_open/blob/master/README.rst#migrating-to-the-new-open-function\n",
            "  'See the migration notes for details: %s' % _MIGRATION_NOTES_URL\n",
            "/usr/local/lib/python3.6/dist-packages/ipykernel_launcher.py:6: DeprecationWarning: Call to deprecated `wv` (Attribute will be removed in 4.0.0, use self instead).\n",
            "  \n",
            "/usr/local/lib/python3.6/dist-packages/ipykernel_launcher.py:8: DeprecationWarning: Call to deprecated `wv` (Attribute will be removed in 4.0.0, use self instead).\n",
            "  \n",
            "/usr/local/lib/python3.6/dist-packages/gensim/matutils.py:737: FutureWarning: Conversion of the second argument of issubdtype from `int` to `np.signedinteger` is deprecated. In future, it will be treated as `np.int64 == np.dtype(int).type`.\n",
            "  if np.issubdtype(vec.dtype, np.int):\n"
          ],
          "name": "stderr"
        },
        {
          "output_type": "stream",
          "text": [
            "Initial word:  ways\n",
            "Similar-context word (According to Word2Vec embedding): way , Accuracy Achieved:  0.5782198905944824\n",
            "Similar-context word (According to our embedding): noble , Accuracy Achieved:  0.3492506742477417\n",
            "Initial word:  best\n",
            "Similar-context word (According to Word2Vec embedding): finest , Accuracy Achieved:  0.6383626461029053\n",
            "Similar-context word (According to our embedding): highest , Accuracy Achieved:  0.3527364134788513\n",
            "Initial word:  narrative\n",
            "Similar-context word (According to Word2Vec embedding): narratives , Accuracy Achieved:  0.7871276140213013\n",
            "Similar-context word (According to our embedding): seems , Accuracy Achieved:  0.34615248441696167\n",
            "Initial word:  than\n",
            "Similar-context word (According to Word2Vec embedding): more , Accuracy Achieved:  0.72532057762146\n",
            "Similar-context word (According to our embedding): than\n",
            " , Accuracy Achieved:  0.3913538455963135\n",
            "Initial word:  double\n",
            "Similar-context word (According to Word2Vec embedding): triple , Accuracy Achieved:  0.8152856826782227\n",
            "Similar-context word (According to our embedding): paragraph , Accuracy Achieved:  0.38059669733047485\n",
            "Initial word:  position\n",
            "Similar-context word (According to Word2Vec embedding): postion , Accuracy Achieved:  0.7399062514305115\n",
            "Similar-context word (According to our embedding): skill , Accuracy Achieved:  0.33659982681274414\n",
            "Initial word:  waited\n",
            "Similar-context word (According to Word2Vec embedding): waited_patiently , Accuracy Achieved:  0.8053663969039917\n",
            "Similar-context word (According to our embedding): written , Accuracy Achieved:  0.3589209318161011\n",
            "Initial word:  four\n",
            "Similar-context word (According to Word2Vec embedding): three , Accuracy Achieved:  0.9703434705734253\n",
            "Similar-context word (According to our embedding): seven , Accuracy Achieved:  0.4565795361995697\n",
            "Initial word:  lit\n",
            "Similar-context word (According to Word2Vec embedding): lighted , Accuracy Achieved:  0.6980102062225342\n",
            "Similar-context word (According to our embedding): more, , Accuracy Achieved:  0.38716429471969604\n",
            "Initial word:  running\n",
            "Similar-context word (According to Word2Vec embedding): Running , Accuracy Achieved:  0.6978580951690674\n",
            "Similar-context word (According to our embedding): right\n",
            " , Accuracy Achieved:  0.3160715103149414\n"
          ],
          "name": "stdout"
        }
      ]
    },
    {
      "cell_type": "markdown",
      "metadata": {
        "id": "WWqWfaIx_Y0_",
        "colab_type": "text"
      },
      "source": [
        "ε)"
      ]
    },
    {
      "cell_type": "code",
      "metadata": {
        "id": "NcwTRkDb_ZTL",
        "colab_type": "code",
        "colab": {}
      },
      "source": [
        ""
      ],
      "execution_count": 0,
      "outputs": []
    },
    {
      "cell_type": "markdown",
      "metadata": {
        "id": "1YrlTZZC_aAs",
        "colab_type": "text"
      },
      "source": [
        "ζ)"
      ]
    },
    {
      "cell_type": "code",
      "metadata": {
        "id": "eWQrfB-F_agf",
        "colab_type": "code",
        "colab": {}
      },
      "source": [
        ""
      ],
      "execution_count": 0,
      "outputs": []
    }
  ]
}