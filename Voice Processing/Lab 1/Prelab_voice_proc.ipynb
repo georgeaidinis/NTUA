{
  "nbformat": 4,
  "nbformat_minor": 0,
  "metadata": {
    "colab": {
      "name": "Prelab_voice_proc.ipynb",
      "provenance": [],
      "collapsed_sections": [],
      "toc_visible": true,
      "include_colab_link": true
    },
    "kernelspec": {
      "name": "python3",
      "display_name": "Python 3"
    },
    "accelerator": "GPU"
  },
  "cells": [
    {
      "cell_type": "markdown",
      "metadata": {
        "id": "view-in-github",
        "colab_type": "text"
      },
      "source": [
        "<a href=\"https://colab.research.google.com/github/georgeaidinis/NTUA/blob/master/Voice%20Processing/Lab%201/Prelab_voice_proc.ipynb\" target=\"_parent\"><img src=\"https://colab.research.google.com/assets/colab-badge.svg\" alt=\"Open In Colab\"/></a>"
      ]
    },
    {
      "cell_type": "markdown",
      "metadata": {
        "id": "eM0mb3ATwibH",
        "colab_type": "text"
      },
      "source": [
        "> Αϊδίνης Γιώργος  (el16031)\n",
        "\n",
        "> Τσιλιβής Θοδωρής (el16032)\n",
        "\n",
        "\n",
        "\n",
        "---\n",
        "# 1η Εργαστηριακή Άσκηση - Μέρος πρώτο: Ορθογράφος"
      ]
    },
    {
      "cell_type": "markdown",
      "metadata": {
        "id": "CCBjt0YXxvDZ",
        "colab_type": "text"
      },
      "source": [
        "Πριν αρχίσουμε τα βήματα για την προετοιμασία του εργαστηρίου, πρέπει να εγκαταστήσουμε κάποια εργαλεία που θα χρησιμοποιήσουμε στην εργασία αυτή. Πρώτα είναι η βιβλιοθήκη OpenFST (1.6.1), για την οποία χρησιμοποιούμε το έτοιμο bash script."
      ]
    },
    {
      "cell_type": "code",
      "metadata": {
        "id": "8hY00fgBuCMe",
        "colab_type": "code",
        "outputId": "774d50be-1291-4626-a60f-e12ec0865c55",
        "colab": {
          "base_uri": "https://localhost:8080/",
          "height": 1000
        }
      },
      "source": [
        "!chmod +x install_openfst.sh\n",
        "!./install_openfst.sh"
      ],
      "execution_count": 96,
      "outputs": [
        {
          "output_type": "stream",
          "text": [
            "Reading package lists... Done\n",
            "Building dependency tree       \n",
            "Reading state information... Done\n",
            "Note, selecting 'zlib1g-dev' instead of 'libz-dev'\n",
            "make is already the newest version (4.1-9.1ubuntu1).\n",
            "python-dev is already the newest version (2.7.15~rc1-1).\n",
            "zlib1g-dev is already the newest version (1:1.2.11.dfsg-0ubuntu2).\n",
            "checkinstall is already the newest version (1.6.2-4ubuntu2).\n",
            "g++ is already the newest version (4:7.4.0-1ubuntu2.3).\n",
            "gcc is already the newest version (4:7.4.0-1ubuntu2.3).\n",
            "wget is already the newest version (1.19.4-1ubuntu2.2).\n",
            "The following package was automatically installed and is no longer required:\n",
            "  libnvidia-common-430\n",
            "Use 'sudo apt autoremove' to remove it.\n",
            "0 upgraded, 0 newly installed, 0 to remove and 32 not upgraded.\n",
            "--2019-12-04 01:54:21--  http://www.openfst.org/twiki/pub/FST/FstDownload/openfst-1.6.1.tar.gz\n",
            "Resolving www.openfst.org (www.openfst.org)... 206.196.111.47\n",
            "Connecting to www.openfst.org (www.openfst.org)|206.196.111.47|:80... connected.\n",
            "HTTP request sent, awaiting response... 200 OK\n",
            "Length: 1208654 (1.2M) [application/x-gzip]\n",
            "Saving to: ‘openfst-1.6.1.tar.gz.1’\n",
            "\n",
            "openfst-1.6.1.tar.g 100%[===================>]   1.15M  2.90MB/s    in 0.4s    \n",
            "\n",
            "2019-12-04 01:54:22 (2.90 MB/s) - ‘openfst-1.6.1.tar.gz.1’ saved [1208654/1208654]\n",
            "\n",
            "openfst-1.6.1/\n",
            "openfst-1.6.1/ltmain.sh\n",
            "openfst-1.6.1/install-sh\n",
            "openfst-1.6.1/aclocal.m4\n",
            "openfst-1.6.1/missing\n",
            "openfst-1.6.1/ar-lib\n",
            "openfst-1.6.1/INSTALL\n",
            "openfst-1.6.1/COPYING\n",
            "openfst-1.6.1/README\n",
            "openfst-1.6.1/m4/\n",
            "openfst-1.6.1/m4/ltversion.m4\n",
            "openfst-1.6.1/m4/libtool.m4\n",
            "openfst-1.6.1/m4/ltoptions.m4\n",
            "openfst-1.6.1/m4/lt~obsolete.m4\n",
            "openfst-1.6.1/m4/ltsugar.m4\n",
            "openfst-1.6.1/m4/ac_python_devel.m4\n",
            "openfst-1.6.1/compile\n",
            "openfst-1.6.1/depcomp\n",
            "openfst-1.6.1/AUTHORS\n",
            "openfst-1.6.1/NEWS\n",
            "openfst-1.6.1/Makefile.in\n",
            "openfst-1.6.1/config.h.in\n",
            "openfst-1.6.1/configure.ac\n",
            "openfst-1.6.1/config.guess\n",
            "openfst-1.6.1/test-driver\n",
            "openfst-1.6.1/src/\n",
            "openfst-1.6.1/src/bin/\n",
            "openfst-1.6.1/src/bin/fstprint.cc\n",
            "openfst-1.6.1/src/bin/fstisomorphic.cc\n",
            "openfst-1.6.1/src/bin/fstprune.cc\n",
            "openfst-1.6.1/src/bin/fstinfo.cc\n",
            "openfst-1.6.1/src/bin/fstdraw.cc\n",
            "openfst-1.6.1/src/bin/fstunion.cc\n",
            "openfst-1.6.1/src/bin/fstrandgen.cc\n",
            "openfst-1.6.1/src/bin/fstpush.cc\n",
            "openfst-1.6.1/src/bin/fstmap.cc\n",
            "openfst-1.6.1/src/bin/Makefile.in\n",
            "openfst-1.6.1/src/bin/fstsymbols.cc\n",
            "openfst-1.6.1/src/bin/fstepsnormalize.cc\n",
            "openfst-1.6.1/src/bin/fstconvert.cc\n",
            "openfst-1.6.1/src/bin/fstshortestpath.cc\n",
            "openfst-1.6.1/src/bin/fstdifference.cc\n",
            "openfst-1.6.1/src/bin/fstconnect.cc\n",
            "openfst-1.6.1/src/bin/fstclosure.cc\n",
            "openfst-1.6.1/src/bin/fstencode.cc\n",
            "openfst-1.6.1/src/bin/fstcompose.cc\n",
            "openfst-1.6.1/src/bin/fstminimize.cc\n",
            "openfst-1.6.1/src/bin/fsttopsort.cc\n",
            "openfst-1.6.1/src/bin/fstinvert.cc\n",
            "openfst-1.6.1/src/bin/fstintersect.cc\n",
            "openfst-1.6.1/src/bin/fstreweight.cc\n",
            "openfst-1.6.1/src/bin/fstcompile.cc\n",
            "openfst-1.6.1/src/bin/fstreplace.cc\n",
            "openfst-1.6.1/src/bin/fstconcat.cc\n",
            "openfst-1.6.1/src/bin/fstproject.cc\n",
            "openfst-1.6.1/src/bin/fstequivalent.cc\n",
            "openfst-1.6.1/src/bin/fstrelabel.cc\n",
            "openfst-1.6.1/src/bin/fstarcsort.cc\n",
            "openfst-1.6.1/src/bin/fstdeterminize.cc\n",
            "openfst-1.6.1/src/bin/Makefile.am\n",
            "openfst-1.6.1/src/bin/fstreverse.cc\n",
            "openfst-1.6.1/src/bin/fstdisambiguate.cc\n",
            "openfst-1.6.1/src/bin/fstshortestdistance.cc\n",
            "openfst-1.6.1/src/bin/fstequal.cc\n",
            "openfst-1.6.1/src/bin/fstrmepsilon.cc\n",
            "openfst-1.6.1/src/bin/fstsynchronize.cc\n",
            "openfst-1.6.1/src/Makefile.in\n",
            "openfst-1.6.1/src/include/\n",
            "openfst-1.6.1/src/include/Makefile.in\n",
            "openfst-1.6.1/src/include/Makefile.am\n",
            "openfst-1.6.1/src/include/fst/\n",
            "openfst-1.6.1/src/include/fst/reweight.h\n",
            "openfst-1.6.1/src/include/fst/union.h\n",
            "openfst-1.6.1/src/include/fst/replace-util.h\n",
            "openfst-1.6.1/src/include/fst/visit.h\n",
            "openfst-1.6.1/src/include/fst/pair-weight.h\n",
            "openfst-1.6.1/src/include/fst/generic-register.h\n",
            "openfst-1.6.1/src/include/fst/flags.h\n",
            "openfst-1.6.1/src/include/fst/weight.h\n",
            "openfst-1.6.1/src/include/fst/compose.h\n",
            "openfst-1.6.1/src/include/fst/randequivalent.h\n",
            "openfst-1.6.1/src/include/fst/expanded-fst.h\n",
            "openfst-1.6.1/src/include/fst/arc-map.h\n",
            "openfst-1.6.1/src/include/fst/determinize.h\n",
            "openfst-1.6.1/src/include/fst/types.h\n",
            "openfst-1.6.1/src/include/fst/config.h\n",
            "openfst-1.6.1/src/include/fst/lookahead-matcher.h\n",
            "openfst-1.6.1/src/include/fst/statesort.h\n",
            "openfst-1.6.1/src/include/fst/prune.h\n",
            "openfst-1.6.1/src/include/fst/verify.h\n",
            "openfst-1.6.1/src/include/fst/rmfinalepsilon.h\n",
            "openfst-1.6.1/src/include/fst/register.h\n",
            "openfst-1.6.1/src/include/fst/state-map.h\n",
            "openfst-1.6.1/src/include/fst/state-table.h\n",
            "openfst-1.6.1/src/include/fst/properties.h\n",
            "openfst-1.6.1/src/include/fst/replace.h\n",
            "openfst-1.6.1/src/include/fst/edit-fst.h\n",
            "openfst-1.6.1/src/include/fst/map.h\n",
            "openfst-1.6.1/src/include/fst/arcfilter.h\n",
            "openfst-1.6.1/src/include/fst/matcher.h\n",
            "openfst-1.6.1/src/include/fst/union-weight.h\n",
            "openfst-1.6.1/src/include/fst/product-weight.h\n",
            "openfst-1.6.1/src/include/fst/label-reachable.h\n",
            "openfst-1.6.1/src/include/fst/icu.h\n",
            "openfst-1.6.1/src/include/fst/symbol-table.h\n",
            "openfst-1.6.1/src/include/fst/const-fst.h\n",
            "openfst-1.6.1/src/include/fst/equivalent.h\n",
            "openfst-1.6.1/src/include/fst/util.h\n",
            "openfst-1.6.1/src/include/fst/filter-state.h\n",
            "openfst-1.6.1/src/include/fst/union-find.h\n",
            "openfst-1.6.1/src/include/fst/complement.h\n",
            "openfst-1.6.1/src/include/fst/dfs-visit.h\n",
            "openfst-1.6.1/src/include/fst/relabel.h\n",
            "openfst-1.6.1/src/include/fst/sparse-power-weight.h\n",
            "openfst-1.6.1/src/include/fst/float-weight.h\n",
            "openfst-1.6.1/src/include/fst/epsnormalize.h\n",
            "openfst-1.6.1/src/include/fst/push.h\n",
            "openfst-1.6.1/src/include/fst/rational.h\n",
            "openfst-1.6.1/src/include/fst/config.h.in\n",
            "openfst-1.6.1/src/include/fst/compact-fst.h\n",
            "openfst-1.6.1/src/include/fst/fst-decl.h\n",
            "openfst-1.6.1/src/include/fst/symbol-table-ops.h\n",
            "openfst-1.6.1/src/include/fst/lock.h\n",
            "openfst-1.6.1/src/include/fst/mapped-file.h\n",
            "openfst-1.6.1/src/include/fst/matcher-fst.h\n",
            "openfst-1.6.1/src/include/fst/arc-arena.h\n",
            "openfst-1.6.1/src/include/fst/synchronize.h\n",
            "openfst-1.6.1/src/include/fst/project.h\n",
            "openfst-1.6.1/src/include/fst/state-reachable.h\n",
            "openfst-1.6.1/src/include/fst/vector-fst.h\n",
            "openfst-1.6.1/src/include/fst/sparse-tuple-weight.h\n",
            "openfst-1.6.1/src/include/fst/heap.h\n",
            "openfst-1.6.1/src/include/fst/memory.h\n",
            "openfst-1.6.1/src/include/fst/reverse.h\n",
            "openfst-1.6.1/src/include/fst/intersect.h\n",
            "openfst-1.6.1/src/include/fst/fstlib.h\n",
            "openfst-1.6.1/src/include/fst/arc.h\n",
            "openfst-1.6.1/src/include/fst/lookahead-filter.h\n",
            "openfst-1.6.1/src/include/fst/script/\n",
            "openfst-1.6.1/src/include/fst/script/reweight.h\n",
            "openfst-1.6.1/src/include/fst/script/union.h\n",
            "openfst-1.6.1/src/include/fst/script/fst-class.h\n",
            "openfst-1.6.1/src/include/fst/script/fstscript-decl.h\n",
            "openfst-1.6.1/src/include/fst/script/compose.h\n",
            "openfst-1.6.1/src/include/fst/script/randequivalent.h\n",
            "openfst-1.6.1/src/include/fst/script/text-io.h\n",
            "openfst-1.6.1/src/include/fst/script/decode.h\n",
            "openfst-1.6.1/src/include/fst/script/determinize.h\n",
            "openfst-1.6.1/src/include/fst/script/draw-impl.h\n",
            "openfst-1.6.1/src/include/fst/script/prune.h\n",
            "openfst-1.6.1/src/include/fst/script/verify.h\n",
            "openfst-1.6.1/src/include/fst/script/print-impl.h\n",
            "openfst-1.6.1/src/include/fst/script/register.h\n",
            "openfst-1.6.1/src/include/fst/script/convert.h\n",
            "openfst-1.6.1/src/include/fst/script/weight-class.h\n",
            "openfst-1.6.1/src/include/fst/script/replace.h\n",
            "openfst-1.6.1/src/include/fst/script/map.h\n",
            "openfst-1.6.1/src/include/fst/script/script-impl.h\n",
            "openfst-1.6.1/src/include/fst/script/compile.h\n",
            "openfst-1.6.1/src/include/fst/script/fstscript.h\n",
            "openfst-1.6.1/src/include/fst/script/compile-impl.h\n",
            "openfst-1.6.1/src/include/fst/script/draw.h\n",
            "openfst-1.6.1/src/include/fst/script/equivalent.h\n",
            "openfst-1.6.1/src/include/fst/script/relabel.h\n",
            "openfst-1.6.1/src/include/fst/script/epsnormalize.h\n",
            "openfst-1.6.1/src/include/fst/script/push.h\n",
            "openfst-1.6.1/src/include/fst/script/arc-class.h\n",
            "openfst-1.6.1/src/include/fst/script/stateiterator-class.h\n",
            "openfst-1.6.1/src/include/fst/script/info-impl.h\n",
            "openfst-1.6.1/src/include/fst/script/synchronize.h\n",
            "openfst-1.6.1/src/include/fst/script/project.h\n",
            "openfst-1.6.1/src/include/fst/script/info.h\n",
            "openfst-1.6.1/src/include/fst/script/reverse.h\n",
            "openfst-1.6.1/src/include/fst/script/intersect.h\n",
            "openfst-1.6.1/src/include/fst/script/getters.h\n",
            "openfst-1.6.1/src/include/fst/script/minimize.h\n",
            "openfst-1.6.1/src/include/fst/script/invert.h\n",
            "openfst-1.6.1/src/include/fst/script/closure.h\n",
            "openfst-1.6.1/src/include/fst/script/randgen.h\n",
            "openfst-1.6.1/src/include/fst/script/connect.h\n",
            "openfst-1.6.1/src/include/fst/script/shortest-path.h\n",
            "openfst-1.6.1/src/include/fst/script/arcsort.h\n",
            "openfst-1.6.1/src/include/fst/script/arg-packs.h\n",
            "openfst-1.6.1/src/include/fst/script/difference.h\n",
            "openfst-1.6.1/src/include/fst/script/disambiguate.h\n",
            "openfst-1.6.1/src/include/fst/script/encodemapper-class.h\n",
            "openfst-1.6.1/src/include/fst/script/equal.h\n",
            "openfst-1.6.1/src/include/fst/script/topsort.h\n",
            "openfst-1.6.1/src/include/fst/script/shortest-distance.h\n",
            "openfst-1.6.1/src/include/fst/script/print.h\n",
            "openfst-1.6.1/src/include/fst/script/arciterator-class.h\n",
            "openfst-1.6.1/src/include/fst/script/isomorphic.h\n",
            "openfst-1.6.1/src/include/fst/script/rmepsilon.h\n",
            "openfst-1.6.1/src/include/fst/script/encode.h\n",
            "openfst-1.6.1/src/include/fst/script/concat.h\n",
            "openfst-1.6.1/src/include/fst/minimize.h\n",
            "openfst-1.6.1/src/include/fst/queue.h\n",
            "openfst-1.6.1/src/include/fst/cache.h\n",
            "openfst-1.6.1/src/include/fst/string-weight.h\n",
            "openfst-1.6.1/src/include/fst/invert.h\n",
            "openfst-1.6.1/src/include/fst/accumulator.h\n",
            "openfst-1.6.1/src/include/fst/log.h\n",
            "openfst-1.6.1/src/include/fst/closure.h\n",
            "openfst-1.6.1/src/include/fst/randgen.h\n",
            "openfst-1.6.1/src/include/fst/signed-log-weight.h\n",
            "openfst-1.6.1/src/include/fst/add-on.h\n",
            "openfst-1.6.1/src/include/fst/partition.h\n",
            "openfst-1.6.1/src/include/fst/connect.h\n",
            "openfst-1.6.1/src/include/fst/extensions/\n",
            "openfst-1.6.1/src/include/fst/extensions/far/\n",
            "openfst-1.6.1/src/include/fst/extensions/far/far-class.h\n",
            "openfst-1.6.1/src/include/fst/extensions/far/farlib.h\n",
            "openfst-1.6.1/src/include/fst/extensions/far/compile-strings.h\n",
            "openfst-1.6.1/src/include/fst/extensions/far/print-strings.h\n",
            "openfst-1.6.1/src/include/fst/extensions/far/script-impl.h\n",
            "openfst-1.6.1/src/include/fst/extensions/far/stlist.h\n",
            "openfst-1.6.1/src/include/fst/extensions/far/sttable.h\n",
            "openfst-1.6.1/src/include/fst/extensions/far/farscript.h\n",
            "openfst-1.6.1/src/include/fst/extensions/far/info.h\n",
            "openfst-1.6.1/src/include/fst/extensions/far/getters.h\n",
            "openfst-1.6.1/src/include/fst/extensions/far/extract.h\n",
            "openfst-1.6.1/src/include/fst/extensions/far/far.h\n",
            "openfst-1.6.1/src/include/fst/extensions/far/equal.h\n",
            "openfst-1.6.1/src/include/fst/extensions/far/create.h\n",
            "openfst-1.6.1/src/include/fst/extensions/far/isomorphic.h\n",
            "openfst-1.6.1/src/include/fst/extensions/special/\n",
            "openfst-1.6.1/src/include/fst/extensions/special/sigma-fst.h\n",
            "openfst-1.6.1/src/include/fst/extensions/special/rho-fst.h\n",
            "openfst-1.6.1/src/include/fst/extensions/special/phi-fst.h\n",
            "openfst-1.6.1/src/include/fst/extensions/pdt/\n",
            "openfst-1.6.1/src/include/fst/extensions/pdt/compose.h\n",
            "openfst-1.6.1/src/include/fst/extensions/pdt/paren.h\n",
            "openfst-1.6.1/src/include/fst/extensions/pdt/pdtlib.h\n",
            "openfst-1.6.1/src/include/fst/extensions/pdt/replace.h\n",
            "openfst-1.6.1/src/include/fst/extensions/pdt/pdtscript.h\n",
            "openfst-1.6.1/src/include/fst/extensions/pdt/pdt.h\n",
            "openfst-1.6.1/src/include/fst/extensions/pdt/info.h\n",
            "openfst-1.6.1/src/include/fst/extensions/pdt/reverse.h\n",
            "openfst-1.6.1/src/include/fst/extensions/pdt/getters.h\n",
            "openfst-1.6.1/src/include/fst/extensions/pdt/shortest-path.h\n",
            "openfst-1.6.1/src/include/fst/extensions/pdt/collection.h\n",
            "openfst-1.6.1/src/include/fst/extensions/pdt/expand.h\n",
            "openfst-1.6.1/src/include/fst/extensions/ngram/\n",
            "openfst-1.6.1/src/include/fst/extensions/ngram/ngram-fst.h\n",
            "openfst-1.6.1/src/include/fst/extensions/ngram/nthbit.h\n",
            "openfst-1.6.1/src/include/fst/extensions/ngram/bitmap-index.h\n",
            "openfst-1.6.1/src/include/fst/extensions/compress/\n",
            "openfst-1.6.1/src/include/fst/extensions/compress/compress-script.h\n",
            "openfst-1.6.1/src/include/fst/extensions/compress/elias.h\n",
            "openfst-1.6.1/src/include/fst/extensions/compress/randmod.h\n",
            "openfst-1.6.1/src/include/fst/extensions/compress/compress.h\n",
            "openfst-1.6.1/src/include/fst/extensions/compress/gzfile.h\n",
            "openfst-1.6.1/src/include/fst/extensions/mpdt/\n",
            "openfst-1.6.1/src/include/fst/extensions/mpdt/compose.h\n",
            "openfst-1.6.1/src/include/fst/extensions/mpdt/mpdtscript.h\n",
            "openfst-1.6.1/src/include/fst/extensions/mpdt/read_write_utils.h\n",
            "openfst-1.6.1/src/include/fst/extensions/mpdt/info.h\n",
            "openfst-1.6.1/src/include/fst/extensions/mpdt/reverse.h\n",
            "openfst-1.6.1/src/include/fst/extensions/mpdt/mpdt.h\n",
            "openfst-1.6.1/src/include/fst/extensions/mpdt/mpdtlib.h\n",
            "openfst-1.6.1/src/include/fst/extensions/mpdt/expand.h\n",
            "openfst-1.6.1/src/include/fst/extensions/linear/\n",
            "openfst-1.6.1/src/include/fst/extensions/linear/linear-fst.h\n",
            "openfst-1.6.1/src/include/fst/extensions/linear/linearscript.h\n",
            "openfst-1.6.1/src/include/fst/extensions/linear/trie.h\n",
            "openfst-1.6.1/src/include/fst/extensions/linear/linear-fst-data.h\n",
            "openfst-1.6.1/src/include/fst/extensions/linear/linear-fst-data-builder.h\n",
            "openfst-1.6.1/src/include/fst/extensions/linear/loglinear-apply.h\n",
            "openfst-1.6.1/src/include/fst/shortest-path.h\n",
            "openfst-1.6.1/src/include/fst/arcsort.h\n",
            "openfst-1.6.1/src/include/fst/tuple-weight.h\n",
            "openfst-1.6.1/src/include/fst/difference.h\n",
            "openfst-1.6.1/src/include/fst/mutable-fst.h\n",
            "openfst-1.6.1/src/include/fst/factor-weight.h\n",
            "openfst-1.6.1/src/include/fst/lexicographic-weight.h\n",
            "openfst-1.6.1/src/include/fst/bi-table.h\n",
            "openfst-1.6.1/src/include/fst/disambiguate.h\n",
            "openfst-1.6.1/src/include/fst/compose-filter.h\n",
            "openfst-1.6.1/src/include/fst/equal.h\n",
            "openfst-1.6.1/src/include/fst/topsort.h\n",
            "openfst-1.6.1/src/include/fst/string.h\n",
            "openfst-1.6.1/src/include/fst/compat.h\n",
            "openfst-1.6.1/src/include/fst/shortest-distance.h\n",
            "openfst-1.6.1/src/include/fst/isomorphic.h\n",
            "openfst-1.6.1/src/include/fst/fst.h\n",
            "openfst-1.6.1/src/include/fst/expectation-weight.h\n",
            "openfst-1.6.1/src/include/fst/rmepsilon.h\n",
            "openfst-1.6.1/src/include/fst/power-weight.h\n",
            "openfst-1.6.1/src/include/fst/test-properties.h\n",
            "openfst-1.6.1/src/include/fst/encode.h\n",
            "openfst-1.6.1/src/include/fst/concat.h\n",
            "openfst-1.6.1/src/include/fst/interval-set.h\n",
            "openfst-1.6.1/src/lib/\n",
            "openfst-1.6.1/src/lib/weight.cc\n",
            "openfst-1.6.1/src/lib/util.cc\n",
            "openfst-1.6.1/src/lib/Makefile.in\n",
            "openfst-1.6.1/src/lib/symbol-table.cc\n",
            "openfst-1.6.1/src/lib/flags.cc\n",
            "openfst-1.6.1/src/lib/fst.cc\n",
            "openfst-1.6.1/src/lib/compat.cc\n",
            "openfst-1.6.1/src/lib/symbol-table-ops.cc\n",
            "openfst-1.6.1/src/lib/Makefile.am\n",
            "openfst-1.6.1/src/lib/mapped-file.cc\n",
            "openfst-1.6.1/src/lib/properties.cc\n",
            "openfst-1.6.1/src/script/\n",
            "openfst-1.6.1/src/script/synchronize.cc\n",
            "openfst-1.6.1/src/script/replace.cc\n",
            "openfst-1.6.1/src/script/isomorphic.cc\n",
            "openfst-1.6.1/src/script/print.cc\n",
            "openfst-1.6.1/src/script/decode.cc\n",
            "openfst-1.6.1/src/script/text-io.cc\n",
            "openfst-1.6.1/src/script/intersect.cc\n",
            "openfst-1.6.1/src/script/minimize.cc\n",
            "openfst-1.6.1/src/script/info.cc\n",
            "openfst-1.6.1/src/script/getters.cc\n",
            "openfst-1.6.1/src/script/equal.cc\n",
            "openfst-1.6.1/src/script/draw.cc\n",
            "openfst-1.6.1/src/script/compose.cc\n",
            "openfst-1.6.1/src/script/disambiguate.cc\n",
            "openfst-1.6.1/src/script/verify.cc\n",
            "openfst-1.6.1/src/script/shortest-distance.cc\n",
            "openfst-1.6.1/src/script/encode.cc\n",
            "openfst-1.6.1/src/script/union.cc\n",
            "openfst-1.6.1/src/script/closure.cc\n",
            "openfst-1.6.1/src/script/Makefile.in\n",
            "openfst-1.6.1/src/script/push.cc\n",
            "openfst-1.6.1/src/script/project.cc\n",
            "openfst-1.6.1/src/script/prune.cc\n",
            "openfst-1.6.1/src/script/reweight.cc\n",
            "openfst-1.6.1/src/script/weight-class.cc\n",
            "openfst-1.6.1/src/script/fst-class.cc\n",
            "openfst-1.6.1/src/script/arcsort.cc\n",
            "openfst-1.6.1/src/script/randequivalent.cc\n",
            "openfst-1.6.1/src/script/rmepsilon.cc\n",
            "openfst-1.6.1/src/script/epsnormalize.cc\n",
            "openfst-1.6.1/src/script/topsort.cc\n",
            "openfst-1.6.1/src/script/concat.cc\n",
            "openfst-1.6.1/src/script/stateiterator-class.cc\n",
            "openfst-1.6.1/src/script/determinize.cc\n",
            "openfst-1.6.1/src/script/map.cc\n",
            "openfst-1.6.1/src/script/randgen.cc\n",
            "openfst-1.6.1/src/script/Makefile.am\n",
            "openfst-1.6.1/src/script/arciterator-class.cc\n",
            "openfst-1.6.1/src/script/relabel.cc\n",
            "openfst-1.6.1/src/script/connect.cc\n",
            "openfst-1.6.1/src/script/invert.cc\n",
            "openfst-1.6.1/src/script/compile.cc\n",
            "openfst-1.6.1/src/script/shortest-path.cc\n",
            "openfst-1.6.1/src/script/reverse.cc\n",
            "openfst-1.6.1/src/script/convert.cc\n",
            "openfst-1.6.1/src/script/difference.cc\n",
            "openfst-1.6.1/src/script/equivalent.cc\n",
            "openfst-1.6.1/src/script/encodemapper-class.cc\n",
            "openfst-1.6.1/src/extensions/\n",
            "openfst-1.6.1/src/extensions/far/\n",
            "openfst-1.6.1/src/extensions/far/farextract.cc\n",
            "openfst-1.6.1/src/extensions/far/far-class.cc\n",
            "openfst-1.6.1/src/extensions/far/farequal.cc\n",
            "openfst-1.6.1/src/extensions/far/getters.cc\n",
            "openfst-1.6.1/src/extensions/far/sttable.cc\n",
            "openfst-1.6.1/src/extensions/far/farprintstrings.cc\n",
            "openfst-1.6.1/src/extensions/far/farisomorphic.cc\n",
            "openfst-1.6.1/src/extensions/far/farcreate.cc\n",
            "openfst-1.6.1/src/extensions/far/Makefile.in\n",
            "openfst-1.6.1/src/extensions/far/strings.cc\n",
            "openfst-1.6.1/src/extensions/far/stlist.cc\n",
            "openfst-1.6.1/src/extensions/far/farscript.cc\n",
            "openfst-1.6.1/src/extensions/far/script-impl.cc\n",
            "openfst-1.6.1/src/extensions/far/Makefile.am\n",
            "openfst-1.6.1/src/extensions/far/farcompilestrings.cc\n",
            "openfst-1.6.1/src/extensions/far/farinfo.cc\n",
            "openfst-1.6.1/src/extensions/special/\n",
            "openfst-1.6.1/src/extensions/special/Makefile.in\n",
            "openfst-1.6.1/src/extensions/special/sigma-fst.cc\n",
            "openfst-1.6.1/src/extensions/special/rho-fst.cc\n",
            "openfst-1.6.1/src/extensions/special/Makefile.am\n",
            "openfst-1.6.1/src/extensions/special/phi-fst.cc\n",
            "openfst-1.6.1/src/extensions/lookahead/\n",
            "openfst-1.6.1/src/extensions/lookahead/olabel_lookahead-fst.cc\n",
            "openfst-1.6.1/src/extensions/lookahead/Makefile.in\n",
            "openfst-1.6.1/src/extensions/lookahead/arc_lookahead-fst.cc\n",
            "openfst-1.6.1/src/extensions/lookahead/Makefile.am\n",
            "openfst-1.6.1/src/extensions/lookahead/ilabel_lookahead-fst.cc\n",
            "openfst-1.6.1/src/extensions/Makefile.in\n",
            "openfst-1.6.1/src/extensions/pdt/\n",
            "openfst-1.6.1/src/extensions/pdt/pdtexpand.cc\n",
            "openfst-1.6.1/src/extensions/pdt/getters.cc\n",
            "openfst-1.6.1/src/extensions/pdt/pdtscript.cc\n",
            "openfst-1.6.1/src/extensions/pdt/Makefile.in\n",
            "openfst-1.6.1/src/extensions/pdt/pdtshortestpath.cc\n",
            "openfst-1.6.1/src/extensions/pdt/pdtreverse.cc\n",
            "openfst-1.6.1/src/extensions/pdt/pdtinfo.cc\n",
            "openfst-1.6.1/src/extensions/pdt/pdtcompose.cc\n",
            "openfst-1.6.1/src/extensions/pdt/pdtreplace.cc\n",
            "openfst-1.6.1/src/extensions/pdt/Makefile.am\n",
            "openfst-1.6.1/src/extensions/ngram/\n",
            "openfst-1.6.1/src/extensions/ngram/nthbit.cc\n",
            "openfst-1.6.1/src/extensions/ngram/Makefile.in\n",
            "openfst-1.6.1/src/extensions/ngram/ngram-fst.cc\n",
            "openfst-1.6.1/src/extensions/ngram/Makefile.am\n",
            "openfst-1.6.1/src/extensions/ngram/bitmap-index.cc\n",
            "openfst-1.6.1/src/extensions/compress/\n",
            "openfst-1.6.1/src/extensions/compress/fstcompress.cc\n",
            "openfst-1.6.1/src/extensions/compress/compress-script.cc\n",
            "openfst-1.6.1/src/extensions/compress/Makefile.in\n",
            "openfst-1.6.1/src/extensions/compress/fstrandmod.cc\n",
            "openfst-1.6.1/src/extensions/compress/Makefile.am\n",
            "openfst-1.6.1/src/extensions/mpdt/\n",
            "openfst-1.6.1/src/extensions/mpdt/mpdtinfo.cc\n",
            "openfst-1.6.1/src/extensions/mpdt/mpdtcompose.cc\n",
            "openfst-1.6.1/src/extensions/mpdt/Makefile.in\n",
            "openfst-1.6.1/src/extensions/mpdt/mpdtexpand.cc\n",
            "openfst-1.6.1/src/extensions/mpdt/Makefile.am\n",
            "openfst-1.6.1/src/extensions/mpdt/mpdtreverse.cc\n",
            "openfst-1.6.1/src/extensions/mpdt/mpdtscript.cc\n",
            "openfst-1.6.1/src/extensions/python/\n",
            "openfst-1.6.1/src/extensions/python/fst.pxd\n",
            "openfst-1.6.1/src/extensions/python/pywrapfst.pxd\n",
            "openfst-1.6.1/src/extensions/python/memory.pxd\n",
            "openfst-1.6.1/src/extensions/python/Makefile.in\n",
            "openfst-1.6.1/src/extensions/python/basictypes.pxd\n",
            "openfst-1.6.1/src/extensions/python/pywrapfst.cc\n",
            "openfst-1.6.1/src/extensions/python/ios.pxd\n",
            "openfst-1.6.1/src/extensions/python/pywrapfst.pyx\n",
            "openfst-1.6.1/src/extensions/python/Makefile.am\n",
            "openfst-1.6.1/src/extensions/Makefile.am\n",
            "openfst-1.6.1/src/extensions/const/\n",
            "openfst-1.6.1/src/extensions/const/const8-fst.cc\n",
            "openfst-1.6.1/src/extensions/const/const16-fst.cc\n",
            "openfst-1.6.1/src/extensions/const/Makefile.in\n",
            "openfst-1.6.1/src/extensions/const/const64-fst.cc\n",
            "openfst-1.6.1/src/extensions/const/Makefile.am\n",
            "openfst-1.6.1/src/extensions/compact/\n",
            "openfst-1.6.1/src/extensions/compact/compact8_acceptor-fst.cc\n",
            "openfst-1.6.1/src/extensions/compact/compact16_weighted_string-fst.cc\n",
            "openfst-1.6.1/src/extensions/compact/compact64_acceptor-fst.cc\n",
            "openfst-1.6.1/src/extensions/compact/compact64_unweighted-fst.cc\n",
            "openfst-1.6.1/src/extensions/compact/compact64_string-fst.cc\n",
            "openfst-1.6.1/src/extensions/compact/compact8_weighted_string-fst.cc\n",
            "openfst-1.6.1/src/extensions/compact/Makefile.in\n",
            "openfst-1.6.1/src/extensions/compact/compact16_string-fst.cc\n",
            "openfst-1.6.1/src/extensions/compact/compact8_unweighted-fst.cc\n",
            "openfst-1.6.1/src/extensions/compact/compact64_weighted_string-fst.cc\n",
            "openfst-1.6.1/src/extensions/compact/compact8_unweighted_acceptor-fst.cc\n",
            "openfst-1.6.1/src/extensions/compact/compact16_unweighted_acceptor-fst.cc\n",
            "openfst-1.6.1/src/extensions/compact/compact16_unweighted-fst.cc\n",
            "openfst-1.6.1/src/extensions/compact/Makefile.am\n",
            "openfst-1.6.1/src/extensions/compact/compact16_acceptor-fst.cc\n",
            "openfst-1.6.1/src/extensions/compact/compact8_string-fst.cc\n",
            "openfst-1.6.1/src/extensions/compact/compact64_unweighted_acceptor-fst.cc\n",
            "openfst-1.6.1/src/extensions/linear/\n",
            "openfst-1.6.1/src/extensions/linear/linear-tagger-fst.cc\n",
            "openfst-1.6.1/src/extensions/linear/fstloglinearapply.cc\n",
            "openfst-1.6.1/src/extensions/linear/linearscript.cc\n",
            "openfst-1.6.1/src/extensions/linear/Makefile.in\n",
            "openfst-1.6.1/src/extensions/linear/fstlinear.cc\n",
            "openfst-1.6.1/src/extensions/linear/linear-classifier-fst.cc\n",
            "openfst-1.6.1/src/extensions/linear/Makefile.am\n",
            "openfst-1.6.1/src/Makefile.am\n",
            "openfst-1.6.1/src/test/\n",
            "openfst-1.6.1/src/test/fst_test.cc\n",
            "openfst-1.6.1/src/test/Makefile.in\n",
            "openfst-1.6.1/src/test/weight-tester.h\n",
            "openfst-1.6.1/src/test/weight_test.cc\n",
            "openfst-1.6.1/src/test/algo_test.cc\n",
            "openfst-1.6.1/src/test/algo_test.h\n",
            "openfst-1.6.1/src/test/rand-fst.h\n",
            "openfst-1.6.1/src/test/fst_test.h\n",
            "openfst-1.6.1/src/test/Makefile.am\n",
            "openfst-1.6.1/Makefile.am\n",
            "openfst-1.6.1/configure\n",
            "openfst-1.6.1/config.sub\n",
            "checking for a BSD-compatible install... /usr/bin/install -c\n",
            "checking whether build environment is sane... yes\n",
            "checking for a thread-safe mkdir -p... /bin/mkdir -p\n",
            "checking for gawk... no\n",
            "checking for mawk... mawk\n",
            "checking whether make sets $(MAKE)... yes\n",
            "checking whether make supports nested variables... yes\n",
            "checking for style of include used by make... GNU\n",
            "checking for gcc... gcc\n",
            "checking whether the C compiler works... yes\n",
            "checking for C compiler default output file name... a.out\n",
            "checking for suffix of executables... \n",
            "checking whether we are cross compiling... no\n",
            "checking for suffix of object files... o\n",
            "checking whether we are using the GNU C compiler... yes\n",
            "checking whether gcc accepts -g... yes\n",
            "checking for gcc option to accept ISO C89... none needed\n",
            "checking whether gcc understands -c and -o together... yes\n",
            "checking dependency style of gcc... gcc3\n",
            "checking for ar... ar\n",
            "checking the archiver (ar) interface... ar\n",
            "checking for g++... g++\n",
            "checking whether we are using the GNU C++ compiler... yes\n",
            "checking whether g++ accepts -g... yes\n",
            "checking dependency style of g++... gcc3\n",
            "checking build system type... x86_64-unknown-linux-gnu\n",
            "checking host system type... x86_64-unknown-linux-gnu\n",
            "checking how to print strings... printf\n",
            "checking for a sed that does not truncate output... /bin/sed\n",
            "checking for grep that handles long lines and -e... /bin/grep\n",
            "checking for egrep... /bin/grep -E\n",
            "checking for fgrep... /bin/grep -F\n",
            "checking for ld used by gcc... /usr/bin/ld\n",
            "checking if the linker (/usr/bin/ld) is GNU ld... yes\n",
            "checking for BSD- or MS-compatible name lister (nm)... /usr/bin/nm -B\n",
            "checking the name lister (/usr/bin/nm -B) interface... BSD nm\n",
            "checking whether ln -s works... yes\n",
            "checking the maximum length of command line arguments... 1572864\n",
            "checking whether the shell understands some XSI constructs... yes\n",
            "checking whether the shell understands \"+=\"... yes\n",
            "checking how to convert x86_64-unknown-linux-gnu file names to x86_64-unknown-linux-gnu format... func_convert_file_noop\n",
            "checking how to convert x86_64-unknown-linux-gnu file names to toolchain format... func_convert_file_noop\n",
            "checking for /usr/bin/ld option to reload object files... -r\n",
            "checking for objdump... objdump\n",
            "checking how to recognize dependent libraries... pass_all\n",
            "checking for dlltool... no\n",
            "checking how to associate runtime and link libraries... printf %s\\n\n",
            "checking for archiver @FILE support... @\n",
            "checking for strip... strip\n",
            "checking for ranlib... ranlib\n",
            "checking command to parse /usr/bin/nm -B output from gcc object... ok\n",
            "checking for sysroot... no\n",
            "checking for mt... no\n",
            "checking if : is a manifest tool... no\n",
            "checking how to run the C preprocessor... gcc -E\n",
            "checking for ANSI C header files... yes\n",
            "checking for sys/types.h... yes\n",
            "checking for sys/stat.h... yes\n",
            "checking for stdlib.h... yes\n",
            "checking for string.h... yes\n",
            "checking for memory.h... yes\n",
            "checking for strings.h... yes\n",
            "checking for inttypes.h... yes\n",
            "checking for stdint.h... yes\n",
            "checking for unistd.h... yes\n",
            "checking for dlfcn.h... yes\n",
            "checking for objdir... .libs\n",
            "checking if gcc supports -fno-rtti -fno-exceptions... no\n",
            "checking for gcc option to produce PIC... -fPIC -DPIC\n",
            "checking if gcc PIC flag -fPIC -DPIC works... yes\n",
            "checking if gcc static flag -static works... yes\n",
            "checking if gcc supports -c -o file.o... yes\n",
            "checking if gcc supports -c -o file.o... (cached) yes\n",
            "checking whether the gcc linker (/usr/bin/ld -m elf_x86_64) supports shared libraries... yes\n",
            "checking dynamic linker characteristics... GNU/Linux ld.so\n",
            "checking how to hardcode library paths into programs... immediate\n",
            "checking whether stripping libraries is possible... yes\n",
            "checking if libtool supports shared libraries... yes\n",
            "checking whether to build shared libraries... no\n",
            "checking whether to build static libraries... yes\n",
            "checking how to run the C++ preprocessor... g++ -E\n",
            "checking for ld used by g++... /usr/bin/ld -m elf_x86_64\n",
            "checking if the linker (/usr/bin/ld -m elf_x86_64) is GNU ld... yes\n",
            "checking whether the g++ linker (/usr/bin/ld -m elf_x86_64) supports shared libraries... yes\n",
            "checking for g++ option to produce PIC... -fPIC -DPIC\n",
            "checking if g++ PIC flag -fPIC -DPIC works... yes\n",
            "checking if g++ static flag -static works... yes\n",
            "checking if g++ supports -c -o file.o... yes\n",
            "checking if g++ supports -c -o file.o... (cached) yes\n",
            "checking whether the g++ linker (/usr/bin/ld -m elf_x86_64) supports shared libraries... yes\n",
            "checking dynamic linker characteristics... (cached) GNU/Linux ld.so\n",
            "checking how to hardcode library paths into programs... immediate\n",
            "checking for dlopen in -ldl... yes\n",
            "checking that generated files are newer than configure... done\n",
            "configure: creating ./config.status\n",
            "config.status: creating Makefile\n",
            "config.status: creating src/Makefile\n",
            "config.status: creating src/include/Makefile\n",
            "config.status: creating src/lib/Makefile\n",
            "config.status: creating src/bin/Makefile\n",
            "config.status: creating src/test/Makefile\n",
            "config.status: creating src/extensions/Makefile\n",
            "config.status: creating src/extensions/compact/Makefile\n",
            "config.status: creating src/extensions/compress/Makefile\n",
            "config.status: creating src/extensions/const/Makefile\n",
            "config.status: creating src/extensions/far/Makefile\n",
            "config.status: creating src/extensions/linear/Makefile\n",
            "config.status: creating src/extensions/lookahead/Makefile\n",
            "config.status: creating src/extensions/mpdt/Makefile\n",
            "config.status: creating src/extensions/ngram/Makefile\n",
            "config.status: creating src/extensions/pdt/Makefile\n",
            "config.status: creating src/extensions/python/Makefile\n",
            "config.status: creating src/extensions/special/Makefile\n",
            "config.status: creating src/script/Makefile\n",
            "config.status: creating config.h\n",
            "config.status: config.h is unchanged\n",
            "config.status: creating src/include/fst/config.h\n",
            "config.status: src/include/fst/config.h is unchanged\n",
            "config.status: executing depfiles commands\n",
            "config.status: executing libtool commands\n",
            "make  all-recursive\n",
            "make[1]: Entering directory '/content/openfst-1.6.1'\n",
            "Making all in src\n",
            "make[2]: Entering directory '/content/openfst-1.6.1/src'\n",
            "Making all in include\n",
            "make[3]: Entering directory '/content/openfst-1.6.1/src/include'\n",
            "make[3]: Nothing to be done for 'all'.\n",
            "make[3]: Leaving directory '/content/openfst-1.6.1/src/include'\n",
            "Making all in lib\n",
            "make[3]: Entering directory '/content/openfst-1.6.1/src/lib'\n",
            "make[3]: Nothing to be done for 'all'.\n",
            "make[3]: Leaving directory '/content/openfst-1.6.1/src/lib'\n",
            "Making all in script\n",
            "make[3]: Entering directory '/content/openfst-1.6.1/src/script'\n",
            "make[3]: Nothing to be done for 'all'.\n",
            "make[3]: Leaving directory '/content/openfst-1.6.1/src/script'\n",
            "Making all in bin\n",
            "make[3]: Entering directory '/content/openfst-1.6.1/src/bin'\n",
            "make[3]: Nothing to be done for 'all'.\n",
            "make[3]: Leaving directory '/content/openfst-1.6.1/src/bin'\n",
            "Making all in test\n",
            "make[3]: Entering directory '/content/openfst-1.6.1/src/test'\n",
            "make[3]: Nothing to be done for 'all'.\n",
            "make[3]: Leaving directory '/content/openfst-1.6.1/src/test'\n",
            "Making all in extensions\n",
            "make[3]: Entering directory '/content/openfst-1.6.1/src/extensions'\n",
            "Making all in far\n",
            "make[4]: Entering directory '/content/openfst-1.6.1/src/extensions/far'\n",
            "make[4]: Nothing to be done for 'all'.\n",
            "make[4]: Leaving directory '/content/openfst-1.6.1/src/extensions/far'\n",
            "make[4]: Entering directory '/content/openfst-1.6.1/src/extensions'\n",
            "make[4]: Nothing to be done for 'all-am'.\n",
            "make[4]: Leaving directory '/content/openfst-1.6.1/src/extensions'\n",
            "make[3]: Leaving directory '/content/openfst-1.6.1/src/extensions'\n",
            "make[3]: Entering directory '/content/openfst-1.6.1/src'\n",
            "make[3]: Nothing to be done for 'all-am'.\n",
            "make[3]: Leaving directory '/content/openfst-1.6.1/src'\n",
            "make[2]: Leaving directory '/content/openfst-1.6.1/src'\n",
            "make[2]: Entering directory '/content/openfst-1.6.1'\n",
            "make[2]: Leaving directory '/content/openfst-1.6.1'\n",
            "make[1]: Leaving directory '/content/openfst-1.6.1'\n",
            "Making install in src\n",
            "make[1]: Entering directory '/content/openfst-1.6.1/src'\n",
            "Making install in include\n",
            "make[2]: Entering directory '/content/openfst-1.6.1/src/include'\n",
            "make[3]: Entering directory '/content/openfst-1.6.1/src/include'\n",
            "make[3]: Nothing to be done for 'install-exec-am'.\n",
            " /bin/mkdir -p '/usr/local/include'\n",
            " /bin/mkdir -p '/usr/local/include/fst'\n",
            " /usr/bin/install -c -m 644  fst/arc-arena.h fst/arc.h fst/determinize.h fst/intersect.h fst/queue.h fst/statesort.h fst/arcfilter.h fst/dfs-visit.h fst/invert.h fst/randequivalent.h fst/string-weight.h fst/difference.h fst/lexicographic-weight.h fst/randgen.h fst/symbol-table.h fst/arcsort.h fst/encode.h fst/lock.h fst/synchronize.h fst/epsnormalize.h fst/log.h fst/rational.h fst/test-properties.h fst/cache.h fst/equal.h fst/arc-map.h fst/map.h fst/register.h fst/topsort.h fst/closure.h fst/equivalent.h fst/matcher.h fst/matcher-fst.h fst/relabel.h fst/union-find.h fst/compact-fst.h fst/expanded-fst.h fst/minimize.h fst/replace.h fst/union.h '/usr/local/include/fst'\n",
            " /bin/mkdir -p '/usr/local/include/fst'\n",
            " /usr/bin/install -c -m 644  fst/compat.h fst/factor-weight.h fst/state-map.h fst/mutable-fst.h fst/reverse.h fst/util.h fst/complement.h fst/flags.h fst/partition.h fst/reweight.h fst/vector-fst.h fst/filter-state.h fst/compose-filter.h fst/float-weight.h fst/product-weight.h fst/rmepsilon.h fst/verify.h fst/compose.h fst/fst-decl.h fst/project.h fst/rmfinalepsilon.h fst/visit.h fst/concat.h fst/fst.h fst/properties.h fst/shortest-distance.h fst/weight.h fst/connect.h fst/fstlib.h fst/prune.h fst/shortest-path.h fst/const-fst.h fst/heap.h fst/push.h fst/state-table.h fst/pair-weight.h fst/config.h fst/tuple-weight.h fst/power-weight.h fst/lookahead-matcher.h '/usr/local/include/fst'\n",
            " /bin/mkdir -p '/usr/local/include/fst/script'\n",
            " /usr/bin/install -c -m 644  fst/script/arc-class.h fst/script/arciterator-class.h fst/script/arcsort.h fst/script/arg-packs.h fst/script/closure.h fst/script/compile-impl.h fst/script/compile.h fst/script/compose.h fst/script/concat.h fst/script/connect.h fst/script/convert.h fst/script/decode.h fst/script/determinize.h fst/script/difference.h fst/script/disambiguate.h fst/script/draw-impl.h fst/script/draw.h fst/script/encode.h fst/script/encodemapper-class.h fst/script/epsnormalize.h fst/script/equal.h fst/script/equivalent.h fst/script/fst-class.h fst/script/fstscript.h fst/script/getters.h fst/script/info-impl.h fst/script/info.h fst/script/intersect.h fst/script/invert.h fst/script/isomorphic.h fst/script/map.h fst/script/minimize.h fst/script/print-impl.h fst/script/print.h fst/script/project.h fst/script/prune.h fst/script/push.h fst/script/randequivalent.h fst/script/randgen.h fst/script/register.h '/usr/local/include/fst/script'\n",
            " /bin/mkdir -p '/usr/local/include/fst'\n",
            " /usr/bin/install -c -m 644  fst/types.h fst/add-on.h fst/label-reachable.h fst/accumulator.h fst/interval-set.h fst/state-reachable.h fst/lookahead-filter.h fst/generic-register.h fst/edit-fst.h fst/replace-util.h fst/icu.h fst/string.h fst/signed-log-weight.h fst/sparse-tuple-weight.h fst/sparse-power-weight.h fst/expectation-weight.h fst/symbol-table-ops.h fst/bi-table.h fst/mapped-file.h fst/memory.h fst/filter-state.h fst/disambiguate.h fst/isomorphic.h fst/union-weight.h '/usr/local/include/fst'\n",
            " /bin/mkdir -p '/usr/local/include/fst/extensions/far'\n",
            " /usr/bin/install -c -m 644  fst/extensions/far/compile-strings.h fst/extensions/far/create.h fst/extensions/far/equal.h fst/extensions/far/extract.h fst/extensions/far/far.h fst/extensions/far/far-class.h fst/extensions/far/farlib.h fst/extensions/far/farscript.h fst/extensions/far/getters.h fst/extensions/far/info.h fst/extensions/far/isomorphic.h fst/extensions/far/print-strings.h fst/extensions/far/script-impl.h fst/extensions/far/stlist.h fst/extensions/far/sttable.h '/usr/local/include/fst/extensions/far'\n",
            " /bin/mkdir -p '/usr/local/include/fst/script'\n",
            " /usr/bin/install -c -m 644  fst/script/relabel.h fst/script/replace.h fst/script/reverse.h fst/script/reweight.h fst/script/rmepsilon.h fst/script/script-impl.h fst/script/shortest-distance.h fst/script/shortest-path.h fst/script/stateiterator-class.h fst/script/synchronize.h fst/script/text-io.h fst/script/topsort.h fst/script/union.h fst/script/weight-class.h fst/script/fstscript-decl.h fst/script/verify.h '/usr/local/include/fst/script'\n",
            "make[3]: Leaving directory '/content/openfst-1.6.1/src/include'\n",
            "make[2]: Leaving directory '/content/openfst-1.6.1/src/include'\n",
            "Making install in lib\n",
            "make[2]: Entering directory '/content/openfst-1.6.1/src/lib'\n",
            "make[3]: Entering directory '/content/openfst-1.6.1/src/lib'\n",
            " /bin/mkdir -p '/usr/local/lib'\n",
            " /bin/bash ../../libtool   --mode=install /usr/bin/install -c   libfst.la '/usr/local/lib'\n",
            "libtool: install: /usr/bin/install -c .libs/libfst.lai /usr/local/lib/libfst.la\n",
            "libtool: install: /usr/bin/install -c .libs/libfst.a /usr/local/lib/libfst.a\n",
            "libtool: install: chmod 644 /usr/local/lib/libfst.a\n",
            "libtool: install: ranlib /usr/local/lib/libfst.a\n",
            "libtool: finish: PATH=\"/usr/local/sbin:/usr/local/bin:/usr/sbin:/usr/bin:/sbin:/bin:/snap/bin:/sbin\" ldconfig -n /usr/local/lib\n",
            "----------------------------------------------------------------------\n",
            "Libraries have been installed in:\n",
            "   /usr/local/lib\n",
            "\n",
            "If you ever happen to want to link against installed libraries\n",
            "in a given directory, LIBDIR, you must either use libtool, and\n",
            "specify the full pathname of the library, or use the `-LLIBDIR'\n",
            "flag during linking and do at least one of the following:\n",
            "   - add LIBDIR to the `LD_LIBRARY_PATH' environment variable\n",
            "     during execution\n",
            "   - add LIBDIR to the `LD_RUN_PATH' environment variable\n",
            "     during linking\n",
            "   - use the `-Wl,-rpath -Wl,LIBDIR' linker flag\n",
            "   - have your system administrator add LIBDIR to `/etc/ld.so.conf'\n",
            "\n",
            "See any operating system documentation about shared libraries for\n",
            "more information, such as the ld(1) and ld.so(8) manual pages.\n",
            "----------------------------------------------------------------------\n",
            "make[3]: Nothing to be done for 'install-data-am'.\n",
            "make[3]: Leaving directory '/content/openfst-1.6.1/src/lib'\n",
            "make[2]: Leaving directory '/content/openfst-1.6.1/src/lib'\n",
            "Making install in script\n",
            "make[2]: Entering directory '/content/openfst-1.6.1/src/script'\n",
            "make[3]: Entering directory '/content/openfst-1.6.1/src/script'\n",
            " /bin/mkdir -p '/usr/local/lib'\n",
            " /bin/bash ../../libtool   --mode=install /usr/bin/install -c   libfstscript.la '/usr/local/lib'\n",
            "libtool: install: /usr/bin/install -c .libs/libfstscript.lai /usr/local/lib/libfstscript.la\n",
            "libtool: install: /usr/bin/install -c .libs/libfstscript.a /usr/local/lib/libfstscript.a\n",
            "libtool: install: chmod 644 /usr/local/lib/libfstscript.a\n",
            "libtool: install: ranlib /usr/local/lib/libfstscript.a\n",
            "libtool: finish: PATH=\"/usr/local/sbin:/usr/local/bin:/usr/sbin:/usr/bin:/sbin:/bin:/snap/bin:/sbin\" ldconfig -n /usr/local/lib\n",
            "----------------------------------------------------------------------\n",
            "Libraries have been installed in:\n",
            "   /usr/local/lib\n",
            "\n",
            "If you ever happen to want to link against installed libraries\n",
            "in a given directory, LIBDIR, you must either use libtool, and\n",
            "specify the full pathname of the library, or use the `-LLIBDIR'\n",
            "flag during linking and do at least one of the following:\n",
            "   - add LIBDIR to the `LD_LIBRARY_PATH' environment variable\n",
            "     during execution\n",
            "   - add LIBDIR to the `LD_RUN_PATH' environment variable\n",
            "     during linking\n",
            "   - use the `-Wl,-rpath -Wl,LIBDIR' linker flag\n",
            "   - have your system administrator add LIBDIR to `/etc/ld.so.conf'\n",
            "\n",
            "See any operating system documentation about shared libraries for\n",
            "more information, such as the ld(1) and ld.so(8) manual pages.\n",
            "----------------------------------------------------------------------\n",
            "make[3]: Nothing to be done for 'install-data-am'.\n",
            "make[3]: Leaving directory '/content/openfst-1.6.1/src/script'\n",
            "make[2]: Leaving directory '/content/openfst-1.6.1/src/script'\n",
            "Making install in bin\n",
            "make[2]: Entering directory '/content/openfst-1.6.1/src/bin'\n",
            "make[3]: Entering directory '/content/openfst-1.6.1/src/bin'\n",
            " /bin/mkdir -p '/usr/local/bin'\n",
            "  /bin/bash ../../libtool   --mode=install /usr/bin/install -c fstarcsort fstclosure fstcompile fstcompose fstconcat fstconnect fstconvert fstdeterminize fstdifference fstdraw fstencode fstepsnormalize fstequal fstequivalent fstinfo fstintersect fstinvert fstisomorphic fstmap fstminimize fstprint fstproject fstprune fstpush fstrandgen fstrelabel fstreplace fstreverse fstreweight fstrmepsilon fstshortestdistance fstshortestpath fstsymbols fstsynchronize fsttopsort fstunion fstdisambiguate '/usr/local/bin'\n",
            "libtool: install: /usr/bin/install -c fstarcsort /usr/local/bin/fstarcsort\n",
            "libtool: install: /usr/bin/install -c fstclosure /usr/local/bin/fstclosure\n",
            "libtool: install: /usr/bin/install -c fstcompile /usr/local/bin/fstcompile\n",
            "libtool: install: /usr/bin/install -c fstcompose /usr/local/bin/fstcompose\n",
            "libtool: install: /usr/bin/install -c fstconcat /usr/local/bin/fstconcat\n",
            "libtool: install: /usr/bin/install -c fstconnect /usr/local/bin/fstconnect\n",
            "libtool: install: /usr/bin/install -c fstconvert /usr/local/bin/fstconvert\n",
            "libtool: install: /usr/bin/install -c fstdeterminize /usr/local/bin/fstdeterminize\n",
            "libtool: install: /usr/bin/install -c fstdifference /usr/local/bin/fstdifference\n",
            "libtool: install: /usr/bin/install -c fstdraw /usr/local/bin/fstdraw\n",
            "libtool: install: /usr/bin/install -c fstencode /usr/local/bin/fstencode\n",
            "libtool: install: /usr/bin/install -c fstepsnormalize /usr/local/bin/fstepsnormalize\n",
            "libtool: install: /usr/bin/install -c fstequal /usr/local/bin/fstequal\n",
            "libtool: install: /usr/bin/install -c fstequivalent /usr/local/bin/fstequivalent\n",
            "libtool: install: /usr/bin/install -c fstinfo /usr/local/bin/fstinfo\n",
            "libtool: install: /usr/bin/install -c fstintersect /usr/local/bin/fstintersect\n",
            "libtool: install: /usr/bin/install -c fstinvert /usr/local/bin/fstinvert\n",
            "libtool: install: /usr/bin/install -c fstisomorphic /usr/local/bin/fstisomorphic\n",
            "libtool: install: /usr/bin/install -c fstmap /usr/local/bin/fstmap\n",
            "libtool: install: /usr/bin/install -c fstminimize /usr/local/bin/fstminimize\n",
            "libtool: install: /usr/bin/install -c fstprint /usr/local/bin/fstprint\n",
            "libtool: install: /usr/bin/install -c fstproject /usr/local/bin/fstproject\n",
            "libtool: install: /usr/bin/install -c fstprune /usr/local/bin/fstprune\n",
            "libtool: install: /usr/bin/install -c fstpush /usr/local/bin/fstpush\n",
            "libtool: install: /usr/bin/install -c fstrandgen /usr/local/bin/fstrandgen\n",
            "libtool: install: /usr/bin/install -c fstrelabel /usr/local/bin/fstrelabel\n",
            "libtool: install: /usr/bin/install -c fstreplace /usr/local/bin/fstreplace\n",
            "libtool: install: /usr/bin/install -c fstreverse /usr/local/bin/fstreverse\n",
            "libtool: install: /usr/bin/install -c fstreweight /usr/local/bin/fstreweight\n",
            "libtool: install: /usr/bin/install -c fstrmepsilon /usr/local/bin/fstrmepsilon\n",
            "libtool: install: /usr/bin/install -c fstshortestdistance /usr/local/bin/fstshortestdistance\n",
            "libtool: install: /usr/bin/install -c fstshortestpath /usr/local/bin/fstshortestpath\n",
            "libtool: install: /usr/bin/install -c fstsymbols /usr/local/bin/fstsymbols\n",
            "libtool: install: /usr/bin/install -c fstsynchronize /usr/local/bin/fstsynchronize\n",
            "libtool: install: /usr/bin/install -c fsttopsort /usr/local/bin/fsttopsort\n",
            "libtool: install: /usr/bin/install -c fstunion /usr/local/bin/fstunion\n",
            "libtool: install: /usr/bin/install -c fstdisambiguate /usr/local/bin/fstdisambiguate\n",
            "make[3]: Nothing to be done for 'install-data-am'.\n",
            "make[3]: Leaving directory '/content/openfst-1.6.1/src/bin'\n",
            "make[2]: Leaving directory '/content/openfst-1.6.1/src/bin'\n",
            "Making install in test\n",
            "make[2]: Entering directory '/content/openfst-1.6.1/src/test'\n",
            "make[3]: Entering directory '/content/openfst-1.6.1/src/test'\n",
            "make[3]: Nothing to be done for 'install-exec-am'.\n",
            "make[3]: Nothing to be done for 'install-data-am'.\n",
            "make[3]: Leaving directory '/content/openfst-1.6.1/src/test'\n",
            "make[2]: Leaving directory '/content/openfst-1.6.1/src/test'\n",
            "Making install in extensions\n",
            "make[2]: Entering directory '/content/openfst-1.6.1/src/extensions'\n",
            "Making install in far\n",
            "make[3]: Entering directory '/content/openfst-1.6.1/src/extensions/far'\n",
            "make[4]: Entering directory '/content/openfst-1.6.1/src/extensions/far'\n",
            " /bin/mkdir -p '/usr/local/lib'\n",
            " /bin/bash ../../../libtool   --mode=install /usr/bin/install -c   libfstfar.la libfstfarscript.la '/usr/local/lib'\n",
            "libtool: install: /usr/bin/install -c .libs/libfstfar.lai /usr/local/lib/libfstfar.la\n",
            "libtool: install: /usr/bin/install -c .libs/libfstfarscript.lai /usr/local/lib/libfstfarscript.la\n",
            "libtool: install: /usr/bin/install -c .libs/libfstfar.a /usr/local/lib/libfstfar.a\n",
            "libtool: install: chmod 644 /usr/local/lib/libfstfar.a\n",
            "libtool: install: ranlib /usr/local/lib/libfstfar.a\n",
            "libtool: install: /usr/bin/install -c .libs/libfstfarscript.a /usr/local/lib/libfstfarscript.a\n",
            "libtool: install: chmod 644 /usr/local/lib/libfstfarscript.a\n",
            "libtool: install: ranlib /usr/local/lib/libfstfarscript.a\n",
            "libtool: finish: PATH=\"/usr/local/sbin:/usr/local/bin:/usr/sbin:/usr/bin:/sbin:/bin:/snap/bin:/sbin\" ldconfig -n /usr/local/lib\n",
            "----------------------------------------------------------------------\n",
            "Libraries have been installed in:\n",
            "   /usr/local/lib\n",
            "\n",
            "If you ever happen to want to link against installed libraries\n",
            "in a given directory, LIBDIR, you must either use libtool, and\n",
            "specify the full pathname of the library, or use the `-LLIBDIR'\n",
            "flag during linking and do at least one of the following:\n",
            "   - add LIBDIR to the `LD_LIBRARY_PATH' environment variable\n",
            "     during execution\n",
            "   - add LIBDIR to the `LD_RUN_PATH' environment variable\n",
            "     during linking\n",
            "   - use the `-Wl,-rpath -Wl,LIBDIR' linker flag\n",
            "   - have your system administrator add LIBDIR to `/etc/ld.so.conf'\n",
            "\n",
            "See any operating system documentation about shared libraries for\n",
            "more information, such as the ld(1) and ld.so(8) manual pages.\n",
            "----------------------------------------------------------------------\n",
            " /bin/mkdir -p '/usr/local/bin'\n",
            "  /bin/bash ../../../libtool   --mode=install /usr/bin/install -c farcompilestrings farcreate farequal farextract farinfo farisomorphic farprintstrings '/usr/local/bin'\n",
            "libtool: install: /usr/bin/install -c farcompilestrings /usr/local/bin/farcompilestrings\n",
            "libtool: install: /usr/bin/install -c farcreate /usr/local/bin/farcreate\n",
            "libtool: install: /usr/bin/install -c farequal /usr/local/bin/farequal\n",
            "libtool: install: /usr/bin/install -c farextract /usr/local/bin/farextract\n",
            "libtool: install: /usr/bin/install -c farinfo /usr/local/bin/farinfo\n",
            "libtool: install: /usr/bin/install -c farisomorphic /usr/local/bin/farisomorphic\n",
            "libtool: install: /usr/bin/install -c farprintstrings /usr/local/bin/farprintstrings\n",
            "make[4]: Nothing to be done for 'install-data-am'.\n",
            "make[4]: Leaving directory '/content/openfst-1.6.1/src/extensions/far'\n",
            "make[3]: Leaving directory '/content/openfst-1.6.1/src/extensions/far'\n",
            "make[3]: Entering directory '/content/openfst-1.6.1/src/extensions'\n",
            "make[4]: Entering directory '/content/openfst-1.6.1/src/extensions'\n",
            "make[4]: Nothing to be done for 'install-exec-am'.\n",
            "make[4]: Nothing to be done for 'install-data-am'.\n",
            "make[4]: Leaving directory '/content/openfst-1.6.1/src/extensions'\n",
            "make[3]: Leaving directory '/content/openfst-1.6.1/src/extensions'\n",
            "make[2]: Leaving directory '/content/openfst-1.6.1/src/extensions'\n",
            "make[2]: Entering directory '/content/openfst-1.6.1/src'\n",
            "make[3]: Entering directory '/content/openfst-1.6.1/src'\n",
            "make[3]: Nothing to be done for 'install-exec-am'.\n",
            "make[3]: Nothing to be done for 'install-data-am'.\n",
            "make[3]: Leaving directory '/content/openfst-1.6.1/src'\n",
            "make[2]: Leaving directory '/content/openfst-1.6.1/src'\n",
            "make[1]: Leaving directory '/content/openfst-1.6.1/src'\n",
            "make[1]: Entering directory '/content/openfst-1.6.1'\n",
            "make[2]: Entering directory '/content/openfst-1.6.1'\n",
            "make[2]: Nothing to be done for 'install-exec-am'.\n",
            "make[2]: Nothing to be done for 'install-data-am'.\n",
            "make[2]: Leaving directory '/content/openfst-1.6.1'\n",
            "make[1]: Leaving directory '/content/openfst-1.6.1'\n"
          ],
          "name": "stdout"
        }
      ]
    },
    {
      "cell_type": "markdown",
      "metadata": {
        "id": "kcwet47Oyboe",
        "colab_type": "text"
      },
      "source": [
        "Ακόμα, θα πρέπει να εγκαταστήσουμε τις βιβλιοθήκες του NLTK (Natural Language Toolkit) καθώς και του graphviz, που μας επιτρέπει να σχεδιάζουμε τα FST που δημιουργούμε."
      ]
    },
    {
      "cell_type": "code",
      "metadata": {
        "id": "WjbkzLreyQgC",
        "colab_type": "code",
        "outputId": "651e0e2b-3fc4-467a-e2d2-039df25884ce",
        "colab": {
          "base_uri": "https://localhost:8080/",
          "height": 225
        }
      },
      "source": [
        "!pip install nltk\n",
        "!sudo apt install python-pydot python-pydot-ng graphviz"
      ],
      "execution_count": 97,
      "outputs": [
        {
          "output_type": "stream",
          "text": [
            "Requirement already satisfied: nltk in /usr/local/lib/python3.6/dist-packages (3.2.5)\n",
            "Requirement already satisfied: six in /usr/local/lib/python3.6/dist-packages (from nltk) (1.12.0)\n",
            "Reading package lists... Done\n",
            "Building dependency tree       \n",
            "Reading state information... Done\n",
            "graphviz is already the newest version (2.40.1-2).\n",
            "python-pydot is already the newest version (1.2.3-1).\n",
            "python-pydot-ng is already the newest version (1.0.0-3).\n",
            "The following package was automatically installed and is no longer required:\n",
            "  libnvidia-common-430\n",
            "Use 'sudo apt autoremove' to remove it.\n",
            "0 upgraded, 0 newly installed, 0 to remove and 32 not upgraded.\n"
          ],
          "name": "stdout"
        }
      ]
    },
    {
      "cell_type": "markdown",
      "metadata": {
        "id": "9_Jhh4FN2Hqv",
        "colab_type": "text"
      },
      "source": [
        "---\n",
        "# Βήμα 1ο\n",
        "\n",
        "Για το Βήμα αυτό, επιλέξαμε και τα δύο προτεινόμενα βιβλία από το Project Guternberg, για να έχουμε περισσότερα δεδομένα.\n",
        "\n",
        "Το τελικό αρχείο, ονομάζεται corpora.txt . \n",
        "\n",
        "Ιδανικά, θα θέλαμε να είχαμε όσο το δυνατόν περισσοτερα δεδομενα, καθως αυτο θα μας επετρεπε να εχουμε ευρυτερο λεξιλογιο, δηλαδη να αναγνωριζει το συστημα μας περισσοτερες λεξεις. Ακομα, θα μπορουσαμε να εχουμε στην διαθεση μας διαφορετικες γραφες των ιδιων λεξεων, που ειναι χρησιμο σε εξειδικευμενους ορθογραφους."
      ]
    },
    {
      "cell_type": "markdown",
      "metadata": {
        "id": "pINLD3af4CCM",
        "colab_type": "text"
      },
      "source": [
        "Προσδιοριζουμε την κωδικοποιηση χαρακτηρων σε UTF-8, για να αναγνωρισθουν τυχον \"περιεργοι\" χαρακτηρες.\n",
        "\n",
        "Ακομα, ειναι χρησιμο να κανουμε import τωρα ο,τι βιβλιοθηκες της python θα χρησιμοποιησουμε αργοτερα:"
      ]
    },
    {
      "cell_type": "code",
      "metadata": {
        "id": "eY7KEix24A7x",
        "colab_type": "code",
        "colab": {}
      },
      "source": [
        "# -*- coding: utf-8 -*-\n",
        "\n",
        "\n",
        "import itertools\n",
        "from nltk.tokenize.regexp import regexp_tokenize"
      ],
      "execution_count": 0,
      "outputs": []
    },
    {
      "cell_type": "markdown",
      "metadata": {
        "id": "KlLLoZbp3tWO",
        "colab_type": "text"
      },
      "source": [
        "---\n",
        "# Βήμα 2ο\n",
        "\n",
        "\n",
        "\n",
        "> α)  Γραφουμε μια συναρτηση που την ονομαζουμε identity_preprocess: (αρκετα απλο)\n",
        "\n",
        "\n"
      ]
    },
    {
      "cell_type": "code",
      "metadata": {
        "id": "DYDfatHm4up3",
        "colab_type": "code",
        "colab": {}
      },
      "source": [
        "\"\"\"Reads a string and returns it. Returns string.\"\"\"\n",
        "def identity_preprocess(stringaki):\n",
        "\treturn stringaki\n"
      ],
      "execution_count": 0,
      "outputs": []
    },
    {
      "cell_type": "markdown",
      "metadata": {
        "id": "6JWABj-q5Dn0",
        "colab_type": "text"
      },
      "source": [
        "\n",
        "\n",
        "> β) Γραφουμε μια συναρτηση που να δεχεται δυο ορισματα, το ονομα αρχειου, και μια συναρτηση της επιλογης μας και να διαβαζει το αρχειο γραμμη - γραμμη καλωντας την συναρτηση που εχουμε δωσει σαν ορισμα σε καθε γραμμη:"
      ]
    },
    {
      "cell_type": "code",
      "metadata": {
        "id": "NYUlckQY5esE",
        "colab_type": "code",
        "colab": {}
      },
      "source": [
        "\"\"\"Takes 2 arguments, one being the filepath and the second\n",
        "being the name of the method that reads the string, defaulting\n",
        "to the above method, 'identity_preprocess'. Returns a list of\n",
        "strings, that are the whole text of the file.\"\"\"\n",
        "def read_from_file(filepath, myfunc = identity_preprocess):\n",
        "\tlines = []\n",
        "\twith open(filepath) as file:\n",
        "\t\tfor line in file:\n",
        "\t\t\tlines.append(myfunc(line))\n",
        "\treturn lines"
      ],
      "execution_count": 0,
      "outputs": []
    },
    {
      "cell_type": "markdown",
      "metadata": {
        "id": "GGCff1_15jiw",
        "colab_type": "text"
      },
      "source": [
        "> γ) Γραφουμε εδω 2 συναρτησεις, η μια ειναι η συναρτηση clean_text που \"καθαριζει\" το κειμενο που της δινουμε απο οποιον χαρακτηρα δεν ειναι γραμμα, και στην συνεχεια, την tokenize, που παιρνει ενα τετοιο καθαρο κειμενο και το χωριζει σε μερη:"
      ]
    },
    {
      "cell_type": "code",
      "metadata": {
        "id": "7fOQVa4T6Su9",
        "colab_type": "code",
        "colab": {}
      },
      "source": [
        "\"\"\"Takes one string and returns a string that has only lowercase\n",
        "letters, that means exluding any non-alphanumeric sumbols, numbers\n",
        "punctuation.\"\"\"\n",
        "def clean_text(text):\n",
        "\t#replace new line and carriage return\n",
        "\ttext = text.replace(\"\\n\", \" \").replace(\"\\r\", \" \")\n",
        "\t#replace the numbers, symbols and punctuation with space\n",
        "\tpunc_list = '~`!@#$£½%^&*()_+-—“”’‘\\'=}{|:à\"?>æ<âç,œ./è;é][}' + '1234567890'\n",
        "\tt = str.maketrans(dict.fromkeys(punc_list, \" \"))\n",
        "\ttext = text.translate(t)\n",
        "\t#make everything lowercase\n",
        "\ttext = text.lower()\n",
        "\treturn text\n",
        "\n",
        "\n",
        "\n",
        "\"\"\"Takes a text and splits it between whitespaces or \\n. Returns\n",
        "a list of strings\"\"\"\n",
        "def tokenize(text):\n",
        "\ttext = clean_text(text)\n",
        "\ttext = text.split()\n",
        "\treturn text\n"
      ],
      "execution_count": 0,
      "outputs": []
    },
    {
      "cell_type": "markdown",
      "metadata": {
        "id": "1Wiwjnso6Zbp",
        "colab_type": "text"
      },
      "source": [
        "\n",
        "\n",
        "> δ) μια καλη συναρτηση που βρηκαμε οτι εχει καλα αποτελεσματα ειναι η εξης:\n",
        "\n"
      ]
    },
    {
      "cell_type": "code",
      "metadata": {
        "id": "B_IOTEIT6kVK",
        "colab_type": "code",
        "colab": {}
      },
      "source": [
        "\n",
        "\"\"\"Uses the imported library from nltk to return a list of strings\n",
        "created by using regular expressions. It is one of the fastest \n",
        "tokenizers.\"\"\"\n",
        "def Tokenize(text):\n",
        "\t#text = clean_text(text)\n",
        "\treturn regexp_tokenize(text, pattern = '\\s+', gaps = True)\n"
      ],
      "execution_count": 0,
      "outputs": []
    },
    {
      "cell_type": "markdown",
      "metadata": {
        "id": "jllEoKJy6ot9",
        "colab_type": "text"
      },
      "source": [
        "Στις προσπαθειες μας, βρηκαμε οτι η ετοιμη συναρτηση ενω ειναι παρα πολυ γρηγορη, (πολυ πιο γρηγορη απο την δικη μας, ακομα και για τον σχετικα μικρο αριθμο δεδομενων μας), επιτρεπει λιγο λιγοτερες λεξεις (~170k vs ~173k) να \"περασουν\" ομως καταληγουμε με πολυ μεγαλο λεξιλογιο (κατι που θα φανει μετεπειτα): (παραθετουμε και την συναρτηση flatten, που αν και δεν ζητειται, ειναι χρησιμη καθως μετατρεπει μια λιστα λιστων σε μια λιστα)"
      ]
    },
    {
      "cell_type": "code",
      "metadata": {
        "id": "bWNMTsZw7c9C",
        "colab_type": "code",
        "outputId": "fe13f21e-a04b-450a-93de-8be4600f278a",
        "colab": {
          "base_uri": "https://localhost:8080/",
          "height": 52
        }
      },
      "source": [
        "\"\"\"Takes a list of lists and returns a list. Elements are kept in\n",
        "order.\"\"\"\n",
        "def flatten(l):\n",
        "\treturn list(itertools.chain(*l))\n",
        " \n",
        "\n",
        "lines = read_from_file(\"corpora.txt\")\n",
        "text = []\n",
        "text1 = []\n",
        "for line in lines:\n",
        "    text.append(Tokenize(line))\n",
        "    text1.append(tokenize(line))\n",
        "text = flatten(text)\n",
        "text1 = flatten(text1)\n",
        "print(len(text))\n",
        "print(len(text1))"
      ],
      "execution_count": 103,
      "outputs": [
        {
          "output_type": "stream",
          "text": [
            "170792\n",
            "173206\n"
          ],
          "name": "stdout"
        }
      ]
    },
    {
      "cell_type": "markdown",
      "metadata": {
        "id": "mmmQB8J08h6y",
        "colab_type": "text"
      },
      "source": [
        "---\n",
        "# Βήμα 3ο\n",
        "\n",
        "\n",
        "\n",
        "> α)  Για να βρουμε το λεξιλογιο μας, φτιαχνουμε την συναρτηση unique_tokens, που παιρνει μια λιστα απο strings και αφαιρει τις πολλαπλες εμφανισεις:"
      ]
    },
    {
      "cell_type": "code",
      "metadata": {
        "id": "VrSaBEEp9PgS",
        "colab_type": "code",
        "colab": {}
      },
      "source": [
        "\"\"\"Takes a list of strings (tokens) and reduces it to only unique\n",
        "elements. (gets rid of the duplicates). Returns a list of strings\n",
        "that are unique and sorted.\"\"\"\n",
        "def unique_tokens(tokens):\n",
        "\tlexicon = list(set(tokens))\n",
        "\tlexicon.sort()\n",
        "\treturn lexicon"
      ],
      "execution_count": 0,
      "outputs": []
    },
    {
      "cell_type": "markdown",
      "metadata": {
        "id": "3GRjySeS9UEP",
        "colab_type": "text"
      },
      "source": [
        "> β)  Για να βρουμε το αλφαβητο του corpus, φτιαχνουμε την συναρτηση alphabet, που παιρνει μια λιστα απο strings επιστρεφει μια λιστα απο χαρακτηρες, χωρις πολλαπλες εμφανισεις:"
      ]
    },
    {
      "cell_type": "markdown",
      "metadata": {
        "id": "Qod5JWP4-efW",
        "colab_type": "text"
      },
      "source": [
        "Εκτελωντας τις παρακατω εντολες, μπορουμε να δουμε οτι τα λεξιλογια που δημιουργουνται απο τις διαφορετικες μεθοδους tokenization ειναι κατα πολυ διαφορετικα:"
      ]
    },
    {
      "cell_type": "code",
      "metadata": {
        "id": "JTPTmijl-u-f",
        "colab_type": "code",
        "outputId": "a527c582-5fc7-4d06-f7e8-40c9210837d2",
        "colab": {
          "base_uri": "https://localhost:8080/",
          "height": 52
        }
      },
      "source": [
        "lines = read_from_file(\"corpora.txt\")\n",
        "text = []\n",
        "for line in lines:\n",
        "    text.append(Tokenize(line))\n",
        "text = flatten(text)\n",
        "Lexicon = unique_tokens(text)\n",
        "print(\"NLTK tokenize(): \",len(Lexicon))\n",
        "text = []\n",
        "for line in lines:\n",
        "    text.append(tokenize(line))\n",
        "text = flatten(text)\n",
        "Lexicon = unique_tokens(text)\n",
        "print(\"Our tokenize(): \",len(Lexicon))"
      ],
      "execution_count": 105,
      "outputs": [
        {
          "output_type": "stream",
          "text": [
            "NLTK tokenize():  21672\n",
            "Our tokenize():  11249\n"
          ],
          "name": "stdout"
        }
      ]
    },
    {
      "cell_type": "code",
      "metadata": {
        "id": "aYu1H3tI9mnb",
        "colab_type": "code",
        "colab": {}
      },
      "source": [
        "\"\"\"Takes a string and returns a list of the characters \n",
        "that were used to make the strings.\"\"\"\n",
        "def split_word(word):\n",
        "\treturn [char for char in word]\n",
        "\n",
        "\n",
        "\n",
        "\"\"\"Takes a list of strings as an input and returns a list of chars.\n",
        "The characters that are returned are used to make the elements of \n",
        "the input strings, but they are returned duplicate-free and sorted.\"\"\"\n",
        "def alphabet(words):\n",
        "\tchars = []\n",
        "\tfor word in words:\n",
        "\t\tchars.append(split_word(word))\n",
        "\talpbt = list(set(flatten(chars)))\n",
        "\talpbt.sort()\n",
        "\treturn alpbt"
      ],
      "execution_count": 0,
      "outputs": []
    },
    {
      "cell_type": "markdown",
      "metadata": {
        "id": "Yy1kN1yI9uWR",
        "colab_type": "text"
      },
      "source": [
        "---\n",
        "# Βήμα 4ο\n",
        "\n",
        "\n",
        "Για να δημιουργησουμε το αρχειο chars.syms που μας χρειαζεται για μετα, φιταχνουμε δυο συναρτησεις, μια για να κανει το (προηγουμενως δημιουργημενο) αλφαβητο indexed, δηλαδη καθε χαρακτηρας να αντιστοιχιζεται σε εναν φυσικο αριθμο, και το ε ('<epsilon>') να αντιστοιχιζεται στο 0. Ακομα, φτιαχνουμε μια συναρτηση που να παιρνει ενα τετοιο στοιχισμενο αλφαβητο και να το αποθηκευει σε ενα αρχειο της επιλογης μας (προεπιλεγμενο ονομα ειναι το \"chars.syms\"):\n"
      ]
    },
    {
      "cell_type": "code",
      "metadata": {
        "id": "KcfIp5xG-aSK",
        "colab_type": "code",
        "colab": {}
      },
      "source": [
        "\"\"\"Takes an alphabet (list of chars) and assigns each character \n",
        "an index. Index 0 is <epsilon> (ε). Returns a list that has n+1 \n",
        "tuples, each tuple being the character with its assigned index.\"\"\"\n",
        "def alphabet_indexing(alphabet):\n",
        "\tindexed_alphabet = []\n",
        "\tindexed_alphabet.append((\"<epsilon>\", 0))\n",
        "\ti = 1;\n",
        "\tfor letter in alphabet:\n",
        "\t\tindexed_alphabet.append((letter, str(i)))\n",
        "\t\ti+=1\n",
        "\treturn indexed_alphabet\n",
        "\n",
        "\n",
        "\n",
        "\"\"\"Takes two arguments. The first is an  alphabet and the \n",
        "second is the name of the file to write the output. The \n",
        "method takes the indexed alphabet and writes it to a file \n",
        "with the name given\"\"\"\n",
        "def symbols_file(alphabet, filename = \"chars.syms\"):\n",
        "\tf = open(filename, \"w+\")\n",
        "\tfor pair in alphabet:\n",
        "\t\tf.write(pair[0] + \"\\t\\t\" + str(pair[1]) + \"\\n\")\n"
      ],
      "execution_count": 0,
      "outputs": []
    },
    {
      "cell_type": "markdown",
      "metadata": {
        "id": "IRI8GJmQ_Fq5",
        "colab_type": "text"
      },
      "source": [
        "---\n",
        "# Βήμα 5ο\n",
        "\n",
        "\n",
        "   α) Για to βημα 5ο, αρχικα υποθεσαμε οτι πρεπει να υλοποιησουμε εκτος των αλλων και την συναρτηση για την αποσταση Levenshtein, οποτε αν και (μετα απο ξεκαθαρισμα) δεν ειναι απαραιτητο, την παραθετουμε εδω για κριτικη, καθως και για να υπαρχει σε τυχον περιπτωση που την χρειαστουμε:"
      ]
    },
    {
      "cell_type": "code",
      "metadata": {
        "id": "PVaTHdqP_fOf",
        "colab_type": "code",
        "colab": {}
      },
      "source": [
        "\"\"\"This function computes the Levenshtein distance between two \n",
        "chars s,t. It uses the algorithm mentioned in the instructions\n",
        "of the lab, and is horribly inefficient. Takes two arguments, both\n",
        "chars and returns an integer that is the levenshtein distance of\n",
        "the two strings.\"\"\"\n",
        "def my_levenshtein(s,t):\n",
        "\t#same characters, no edit => Levenshtein cost 0\n",
        "\tif (s==t):\n",
        "\t\treturn 0\n",
        "\t#<epsilon> with some other character or any character with <epsilon>\n",
        "\t#either insertion or deletion => Levenshtein cost 1\n",
        "\telif (s=='<epsilon' and t!='<epsilon>') or (s!='<epsilon' and t=='<epsilon>'):\n",
        "\t\treturn 1\n",
        "\t#two different chars, substiturion => Levenshtein cost 1\n",
        "\telse:\n",
        "\t\treturn 1\n",
        "\n",
        "\n",
        "\n",
        "\"\"\"This function computes the Levenshtein distance between two \n",
        "strings s,t. It uses the iterative algorithm, that creates a \n",
        "2d matrix of the characters of the strings, along with the \n",
        "values it needs to compute the sum of the weights of the insert\n",
        "/delete/substitute logic. It is a much faster algorithm than the\n",
        "recursive one. The method takes 3 arguments, string s, string t\n",
        "and a tuple of 3 integeres that are the cost of deletion, insertion\n",
        "and substitution respectively. Defaults to (1,1,1) (equal cost).\n",
        "I have taken the code for this method from:\n",
        "https://www.python-course.eu/levenshtein_distance.php \n",
        "Another method could have been the method given in\n",
        "the python package python-Levenshtein (0.12.0) that uses python to \n",
        "instruct C to compute the afforementioned array, with much faster \n",
        "execution times.\"\"\"\n",
        "def iterative_levenshtein(s, t, costs=(1, 1, 1)):\n",
        "    \"\"\" \n",
        "        iterative_levenshtein(s, t) -> ldist\n",
        "        ldist is the Levenshtein distance between the strings \n",
        "        s and t.\n",
        "        For all i and j, dist[i,j] will contain the Levenshtein \n",
        "        distance between the first i characters of s and the \n",
        "        first j characters of t\n",
        "        \n",
        "        costs: a tuple or a list with three integers (d, i, s)\n",
        "               where d defines the costs for a deletion\n",
        "                     i defines the costs for an insertion and\n",
        "                     s defines the costs for a substitution\n",
        "    \"\"\"\n",
        "    rows = len(s)+1\n",
        "    cols = len(t)+1\n",
        "    deletes, inserts, substitutes = costs\n",
        "    \n",
        "    dist = [[0 for x in range(cols)] for x in range(rows)]\n",
        "    # source prefixes can be transformed into empty strings \n",
        "    # by deletions:\n",
        "    for row in range(1, rows):\n",
        "        dist[row][0] = row * deletes\n",
        "    # target prefixes can be created from an empty source string\n",
        "    # by inserting the characters\n",
        "    for col in range(1, cols):\n",
        "        dist[0][col] = col * inserts\n",
        "        \n",
        "    for col in range(1, cols):\n",
        "        for row in range(1, rows):\n",
        "            if s[row-1] == t[col-1]:\n",
        "                cost = 0\n",
        "            else:\n",
        "                cost = substitutes\n",
        "            dist[row][col] = min(dist[row-1][col] + deletes,\n",
        "                                 dist[row][col-1] + inserts,\n",
        "                                 dist[row-1][col-1] + cost) # substitution\n",
        "    \"\"\"for r in range(rows):\n",
        "        print(dist[r])\n",
        "    \"\"\" \n",
        "    return dist[row][col]"
      ],
      "execution_count": 0,
      "outputs": []
    },
    {
      "cell_type": "markdown",
      "metadata": {
        "id": "bUbSdpft_rBN",
        "colab_type": "text"
      },
      "source": [
        "Προφανως η ασκηση δεν ανεφερε αυτο, οποτε για την δημιουργια του μετατροπεα μιας καταστασης, αρχικα δημιουργουμε τα αρχεια που χρειαζομαστε, (τα αρχεια για τα συμβολα ειναι ηδη ετοιμα, καθως ειναι ομοια με τα αρχεια του στοιχισμενου αλφαβητου που περιεχεται στο αρχειο chars.syms. Για τον σκοπο αυτο, φτιαξαμε μια μεθοδο για να τυπωνει τα περιεχομενα του fst τοσο στο stdout, οσο και στο αρχειο με ονομα \"text.txt\" που θα χρησιμοποιησουμε αργοτερα. O ακριβης αριθμος των ακμων στο fst ειναι (πληθος αλφαβητου)^2 -1, καθως θελουμε καθε γραμμα να εχει καποια ενεργεια με οποιοδηποτε αλλο γραμμα του αλφαβητου, εκτος απο το ε, που με τον εαυτο του δεν θελουμε να εχει. "
      ]
    },
    {
      "cell_type": "code",
      "metadata": {
        "id": "DZ8Xzx_HAmS1",
        "colab_type": "code",
        "colab": {}
      },
      "source": [
        "def text_fst(Alphabet, filename = \"text.txt\", print_lines = False):\n",
        "    f = open(filename, \"w+\")\n",
        "    if (print_lines):\n",
        "        for pair in Alphabet:\n",
        "            for pair1 in Alphabet:\n",
        "                if  (pair[0] == pair1[0] ==\"<epsilon>\"):\n",
        "                    continue \n",
        "                elif (pair[0] == pair1[0] and pair[0]!=\"<epsilon>\"):\n",
        "                    print(\"0\" + \" 0 \" + pair[0] + \" \" + pair1[0] + \" 0\")\n",
        "                    f.write(\"0\" + \" 0 \" + pair[0] + \" \" + pair1[0] + \" 0\" + \"\\n\")\n",
        "                elif (pair[0]=='<epsilon>'):\n",
        "                    print(\"0\" + \" 0 \" + pair[0] + \" \" + pair1[0] + \" 1\")\n",
        "                    f.write(\"0\" + \" 0 \" + pair[0] + \" \" + pair1[0] + \" 1\"+ \"\\n\")\n",
        "                elif (pair1[0]=='<epsilon>'):\n",
        "                    print(\"0\" + \" 0 \" + pair[0] + \" \" + pair1[0] + \" 1\")\n",
        "                    f.write(\"0\" + \" 0 \" + pair[0] + \" \" + pair1[0] + \" 1\"+ \"\\n\")\n",
        "                else:\n",
        "                    print(\"0\" + \" 0 \" + pair[0] + \" \" + pair1[0] + \" 1\")\n",
        "                    f.write(\"0\" + \" 0 \" + pair[0] + \" \" + pair1[0] + \" 1\"+ \"\\n\")\n",
        "        print(\"0\")\n",
        "        f.write(\"0\")\n",
        "    else:\n",
        "        for pair in Alphabet:\n",
        "            for pair1 in Alphabet:\n",
        "                if  (pair[0] == pair1[0] ==\"<epsilon>\"):\n",
        "                    continue \n",
        "                elif (pair[0] == pair1[0] and pair[0]!=\"<epsilon>\"):\n",
        "                    f.write(\"0\" + \" 0 \" + pair[0] + \" \" + pair1[0] + \" 0\" + \"\\n\")\n",
        "                elif (pair[0]=='<epsilon>'):\n",
        "                    f.write(\"0\" + \" 0 \" + pair[0] + \" \" + pair1[0] + \" 1\"+ \"\\n\")\n",
        "                elif (pair1[0]=='<epsilon>'):\n",
        "                    f.write(\"0\" + \" 0 \" + pair[0] + \" \" + pair1[0] + \" 1\"+ \"\\n\")\n",
        "                else:\n",
        "                    f.write(\"0\" + \" 0 \" + pair[0] + \" \" + pair1[0] + \" 1\"+ \"\\n\")\n",
        "        f.write(\"0\")\n",
        "    f.close()\n"
      ],
      "execution_count": 0,
      "outputs": []
    },
    {
      "cell_type": "markdown",
      "metadata": {
        "id": "wXRETrXFCcPN",
        "colab_type": "text"
      },
      "source": [
        "Για να δημιουργησουμε τα αρχεια, θα πρεπει να εκτελεσουμε τον παρακατω κωδικα:"
      ]
    },
    {
      "cell_type": "code",
      "metadata": {
        "id": "DSk8leWVCiwD",
        "colab_type": "code",
        "colab": {}
      },
      "source": [
        "lines = read_from_file(\"corpora.txt\")\n",
        "#print(len(lines))\n",
        "text = []\n",
        "for line in lines:\n",
        "    text.append(tokenize(line))\n",
        "text = flatten(text)\n",
        "#print(len(text))\n",
        "Lexicon = unique_tokens(text)\n",
        "#print(len(Lexicon))\n",
        "Alphabet = alphabet(Lexicon)\n",
        "#print(len(Alphabet))\n",
        "Alphabet = alphabet_indexing(Alphabet)\n",
        "#print(Alphabet)\n",
        "symbols_file(Alphabet,)\n",
        "text_fst(Alphabet, \"onestate.txt\")"
      ],
      "execution_count": 0,
      "outputs": []
    },
    {
      "cell_type": "markdown",
      "metadata": {
        "id": "wqq_r9--C4WJ",
        "colab_type": "text"
      },
      "source": [
        "Στην συνεχεια, για να δημιουργησουμε το fst, θα πρεπει να εκτελεστει το παρακτω shell script:"
      ]
    },
    {
      "cell_type": "code",
      "metadata": {
        "id": "Vo0hg4X5DAyx",
        "colab_type": "code",
        "outputId": "92e1a87e-276d-4ab9-eb48-d2afe1437ab3",
        "colab": {
          "base_uri": "https://localhost:8080/",
          "height": 729
        }
      },
      "source": [
        "!fstcompile -isymbols=chars.syms -osymbols=chars.syms onestate.txt > onestate.fst\n",
        "!fstinfo onestate.fst"
      ],
      "execution_count": 111,
      "outputs": [
        {
          "output_type": "stream",
          "text": [
            "fst type                                          vector\n",
            "arc type                                          standard\n",
            "input symbol table                                none\n",
            "output symbol table                               none\n",
            "# of states                                       1\n",
            "# of arcs                                         728\n",
            "initial state                                     0\n",
            "# of final states                                 1\n",
            "# of input/output epsilons                        0\n",
            "# of input epsilons                               26\n",
            "# of output epsilons                              26\n",
            "input label multiplicity                          26.9643\n",
            "output label multiplicity                         26.9643\n",
            "# of accessible states                            1\n",
            "# of coaccessible states                          1\n",
            "# of connected states                             1\n",
            "# of connected components                         1\n",
            "# of strongly conn components                     1\n",
            "input matcher                                     y\n",
            "output matcher                                    n\n",
            "input lookahead                                   n\n",
            "output lookahead                                  n\n",
            "expanded                                          y\n",
            "mutable                                           y\n",
            "error                                             n\n",
            "acceptor                                          n\n",
            "input deterministic                               n\n",
            "output deterministic                              n\n",
            "input/output epsilons                             n\n",
            "input epsilons                                    y\n",
            "output epsilons                                   y\n",
            "input label sorted                                y\n",
            "output label sorted                               n\n",
            "weighted                                          y\n",
            "cyclic                                            y\n",
            "cyclic at initial state                           y\n",
            "top sorted                                        n\n",
            "accessible                                        y\n",
            "coaccessible                                      y\n",
            "string                                            n\n",
            "weighted cycles                                   y\n"
          ],
          "name": "stdout"
        }
      ]
    },
    {
      "cell_type": "markdown",
      "metadata": {
        "id": "95snmURjDkxd",
        "colab_type": "text"
      },
      "source": [
        "Η πρωτη εντολη κανει compile τις πληροφοριες του αρχειο που δημιουργησαμε προηγουμενως για το one state fst, και παιρνει σαν input και output symbols τους χαρακτηρες του chars.syms (που ειναι και η αλφαβητα μας).\n",
        "Η δευτερη εντολη σχεδιαζει το fst που δημιουργηθηκε με τις βιβλιοθηκες dot και ghraphviz, και το αποθηκευει στο αρχειο fst.jpg. Η τριτη εντολη ειναι για να δουμε οτι ολα πηγαν καλα, δηλαδη οτι δημιουργηθηκε και εχει τα καταλληλα χαρακτηρηστικα. Επειδη ο μετατροπεας μιας καταστασης για την περιπτωση μας ειναι εξαιρετικα μεγαλος και η εικονα (jpg) δεν μας δειχνει καθαρα το τι συμβαινει, θα κανουμε μια μικροτερη αποτυπωση, απλα και μονο για λογους κατανοησης της λειτουργιας του κωδικα:"
      ]
    },
    {
      "cell_type": "code",
      "metadata": {
        "id": "Jj4prUwFL8Ut",
        "colab_type": "code",
        "colab": {}
      },
      "source": [
        "Alphabet = [('<epsilon>', 0), ('a', '1'), ('b', '2'), ('c', '3'), ('d', '4')]\n",
        "symbols_file(Alphabet, \"chars1.syms\")\n",
        "text_fst(Alphabet, \"text1.txt\", False)"
      ],
      "execution_count": 0,
      "outputs": []
    },
    {
      "cell_type": "markdown",
      "metadata": {
        "id": "BXeLoMsiNG8t",
        "colab_type": "text"
      },
      "source": [
        "Τα αρχεια αυτα εχουν 25 ακμες, οποτε ειναι αρκετα πιο ευκολο να διακρινουμε τι γινεται απο την εικονα:"
      ]
    },
    {
      "cell_type": "code",
      "metadata": {
        "id": "3mlvpPqwNP1L",
        "colab_type": "code",
        "outputId": "601cf191-9390-4948-f938-bd30577ea7f9",
        "colab": {
          "base_uri": "https://localhost:8080/",
          "height": 729
        }
      },
      "source": [
        "!fstcompile -isymbols=chars1.syms -osymbols=chars1.syms text1.txt > fst1.fst\n",
        "!fstdraw --isymbols=chars1.syms --osymbols=chars1.syms -portrait fst1.fst  | dot -Tjpg >fst1.jpg\n",
        "!fstinfo fst1.fst"
      ],
      "execution_count": 113,
      "outputs": [
        {
          "output_type": "stream",
          "text": [
            "fst type                                          vector\n",
            "arc type                                          standard\n",
            "input symbol table                                none\n",
            "output symbol table                               none\n",
            "# of states                                       1\n",
            "# of arcs                                         24\n",
            "initial state                                     0\n",
            "# of final states                                 1\n",
            "# of input/output epsilons                        0\n",
            "# of input epsilons                               4\n",
            "# of output epsilons                              4\n",
            "input label multiplicity                          4.83333\n",
            "output label multiplicity                         4.83333\n",
            "# of accessible states                            1\n",
            "# of coaccessible states                          1\n",
            "# of connected states                             1\n",
            "# of connected components                         1\n",
            "# of strongly conn components                     1\n",
            "input matcher                                     y\n",
            "output matcher                                    n\n",
            "input lookahead                                   n\n",
            "output lookahead                                  n\n",
            "expanded                                          y\n",
            "mutable                                           y\n",
            "error                                             n\n",
            "acceptor                                          n\n",
            "input deterministic                               n\n",
            "output deterministic                              n\n",
            "input/output epsilons                             n\n",
            "input epsilons                                    y\n",
            "output epsilons                                   y\n",
            "input label sorted                                y\n",
            "output label sorted                               n\n",
            "weighted                                          y\n",
            "cyclic                                            y\n",
            "cyclic at initial state                           y\n",
            "top sorted                                        n\n",
            "accessible                                        y\n",
            "coaccessible                                      y\n",
            "string                                            n\n",
            "weighted cycles                                   y\n"
          ],
          "name": "stdout"
        }
      ]
    },
    {
      "cell_type": "markdown",
      "metadata": {
        "id": "Z-hzCCm1NpLu",
        "colab_type": "text"
      },
      "source": [
        "Ο μετατροπεας εισοδου αν παρουμε το shortest path, αυτο σημαινει οτι δεν επιφερει καμια αλλαγη, δηλαδη η λεξη που παιρνει στην εισοδο και η λεξη που παιρνουμε στην εξοδο ειναι ιδιες."
      ]
    },
    {
      "cell_type": "markdown",
      "metadata": {
        "id": "JfSj8QUkSMzc",
        "colab_type": "text"
      },
      "source": [
        "   β) Ιδανικα, αντι να εχουμε κανονες για τα βαρη, θα επρεπε αν ειχαμε πολυ περισσοτερα δεδομενα να εφαρμοζουμε πιθανοτικες μεθοδους για να προσδιορισουμε τα βαρη καλυτερα στο μοντελο μας."
      ]
    },
    {
      "cell_type": "markdown",
      "metadata": {
        "id": "_6i9AWk5Teg3",
        "colab_type": "text"
      },
      "source": [
        "---\n",
        "# Βήμα 6ο\n",
        "   α) Για να υλοποιησουμε τον αποδοχεα λεξεων του λεξικου, ακολουθουμε την λογικη που ειχαμε και πριν για το αλφαβητο, μονο που αυτην την φορα ο αποδοχεας ειναι παρα (μα παρα) πολυ μεγαλος (τουλαχιστον για τον υπολογιστη μας). Παρολα αυτα, η μεθοδος sixth δημιουργει ενα αρχειο με το προσδιορισμενο ονομα, που περιεχει τις ακμες για καθε λεξη, με μηδενικο βαρος."
      ]
    },
    {
      "cell_type": "code",
      "metadata": {
        "id": "XArzNCcdelqq",
        "colab_type": "code",
        "colab": {}
      },
      "source": [
        "def sixth(Lexicon, Alphabet, filename = \"6a.txt\", print_lines = False):\n",
        "    for i in range(0, len(Alphabet)):\n",
        "        temp = Alphabet[i]\n",
        "        Alphabet[i] = [temp, i]\n",
        "    f = open(filename, \"w+\")\n",
        "    i = 2\n",
        "    if (not print_lines):\n",
        "        for word in Lexicon:\n",
        "            for j in range(0, len(word)):\n",
        "                if j==0:\n",
        "                    f.write(\"0\" + \" \" + str(i) + \" \" + word[j] + \" \" + word[j] + \" 0\" + \"\\n\") \n",
        "                    i += 1\n",
        "                elif (j== len(word) -1):\n",
        "                    f.write( str(i-1) + \" \" + \"1\" + \" \" + word[j] + \" \" + word[j] + \" 0\" + \"\\n\")\n",
        "                    i +=1\n",
        "                else:\n",
        "                    f.write( str(i-1) + \" \" + str(i) + \" \" + word[j] + \" \" + word[j] + \" 0\" + \"\\n\")\n",
        "                    i+=1\n",
        "        f.write(\"1\")\n",
        "    else:\n",
        "        for word in Lexicon:\n",
        "            for j in range(0, len(word)):\n",
        "                if j==0:\n",
        "                    f.write(\"0\" + \" \" + str(i) + \" \" + word[j] + \" \" + word[j] + \" 0\" + \"\\n\")\n",
        "                    print(\"0\" + \" \" + str(i) + \" \" + word[j] + \" \" + word[j] + \" 0\" + \"\\n\") \n",
        "                    i += 1\n",
        "                elif (j== len(word) -1):\n",
        "                    f.write( str(i-1) + \" \" + \"1\" + \" \" + word[j] + \" \" + word[j] + \" 0\" + \"\\n\")\n",
        "                    print( str(i-1) + \" \" + \"1\" + \" \" + word[j] + \" \" + word[j] + \" 0\" + \"\\n\") \n",
        "                    i +=1\n",
        "                else:\n",
        "                    f.write( str(i-1) + \" \" + str(i) + \" \" + word[j] + \" \" + word[j] + \" 0\" + \"\\n\")\n",
        "                    print( str(i-1) + \" \" + str(i) + \" \" + word[j] + \" \" + word[j] + \" 0\" + \"\\n\")\n",
        "                    i+=1\n",
        "        f.write(\"1\")\n",
        "        print(\"1\")\n",
        "    f.close()\n"
      ],
      "execution_count": 0,
      "outputs": []
    },
    {
      "cell_type": "code",
      "metadata": {
        "id": "Nr6xfnX6BdiZ",
        "colab_type": "code",
        "colab": {}
      },
      "source": [
        "lines = read_from_file(\"corpora.txt\")\n",
        "#print(len(lines))\n",
        "text = []\n",
        "for line in lines:\n",
        "    text.append(tokenize(line))\n",
        "text = flatten(text)\n",
        "#print(len(text))\n",
        "Lexicon = unique_tokens(text)\n",
        "#print(len(Lexicon))\n",
        "Alphabet = alphabet(Lexicon)\n",
        "sixth(Lexicon, Alphabet, \"acceptor.txt\")\n"
      ],
      "execution_count": 0,
      "outputs": []
    },
    {
      "cell_type": "markdown",
      "metadata": {
        "id": "em0PndE8Zdnp",
        "colab_type": "text"
      },
      "source": [
        " Αφου φτιαξουμε το αρχειο, οπως πριν καλουμε απο το cli τις ιδιες εντολες με τον μετατροπεα μιας καταστασης (με αλλαγμενα τα ονοματα προφανως. Συστηνουμε (τουλαχιστον εμεις ετσι μπορουσαμε να δουμε τα αποτελεσματα) να εκτελεστει το απο κατω κελι αντι για το απο πανω, για και στην συνεχεια να δημιουργηθει το fst, γιατι μειωνει σημαντικα ( απο 11249 λεξεις σε μολις 10 ) το λεξιλογιο, οποτε οχι μονο ειναι γρηγορη η δημιουργια του fst, αλλα και μπορει να διακριθει ο ιδιος ο αποδοχεας."
      ]
    },
    {
      "cell_type": "code",
      "metadata": {
        "id": "7LktRu0bDGGn",
        "colab_type": "code",
        "outputId": "497891a2-b8b2-4c46-bf37-b16abe96be3d",
        "colab": {
          "base_uri": "https://localhost:8080/",
          "height": 52
        }
      },
      "source": [
        "lines = read_from_file(\"corpora.txt\")\n",
        "#print(len(lines))\n",
        "text = []\n",
        "for line in lines:\n",
        "    text.append(tokenize(line))\n",
        "text = flatten(text)\n",
        "#print(len(text))\n",
        "Lexicon = unique_tokens(text)\n",
        "print(\"Αρχικο μεγεθος λεξικου: \",len(Lexicon))\n",
        "Alphabet = alphabet(Lexicon)\n",
        "Lexicon1 = Lexicon[10:20]\n",
        "print(\"Μειωμενο μεγεθος λεξικου: \",len(Lexicon1))\n",
        "sixth(Lexicon1, Alphabet)"
      ],
      "execution_count": 116,
      "outputs": [
        {
          "output_type": "stream",
          "text": [
            "Αρχικο μεγεθος λεξικου:  11249\n",
            "Μειωμενο μεγεθος λεξικου:  10\n"
          ],
          "name": "stdout"
        }
      ]
    },
    {
      "cell_type": "code",
      "metadata": {
        "id": "8LwAJwLRCt5L",
        "colab_type": "code",
        "outputId": "5acdf75f-6759-4c72-99af-5461556cb6e0",
        "colab": {
          "base_uri": "https://localhost:8080/",
          "height": 729
        }
      },
      "source": [
        "!fstcompile -isymbols=chars.syms -osymbols=chars.syms acceptor.txt > acceptor.fst\n",
        "!fstinfo acceptor.fst"
      ],
      "execution_count": 117,
      "outputs": [
        {
          "output_type": "stream",
          "text": [
            "fst type                                          vector\n",
            "arc type                                          standard\n",
            "input symbol table                                none\n",
            "output symbol table                               none\n",
            "# of states                                       69650\n",
            "# of arcs                                         80875\n",
            "initial state                                     0\n",
            "# of final states                                 1\n",
            "# of input/output epsilons                        0\n",
            "# of input epsilons                               0\n",
            "# of output epsilons                              0\n",
            "input label multiplicity                          96.88\n",
            "output label multiplicity                         96.88\n",
            "# of accessible states                            69650\n",
            "# of coaccessible states                          69628\n",
            "# of connected states                             69628\n",
            "# of connected components                         1\n",
            "# of strongly conn components                     69650\n",
            "input matcher                                     y\n",
            "output matcher                                    y\n",
            "input lookahead                                   n\n",
            "output lookahead                                  n\n",
            "expanded                                          y\n",
            "mutable                                           y\n",
            "error                                             n\n",
            "acceptor                                          y\n",
            "input deterministic                               n\n",
            "output deterministic                              n\n",
            "input/output epsilons                             n\n",
            "input epsilons                                    n\n",
            "output epsilons                                   n\n",
            "input label sorted                                y\n",
            "output label sorted                               y\n",
            "weighted                                          n\n",
            "cyclic                                            n\n",
            "cyclic at initial state                           n\n",
            "top sorted                                        n\n",
            "accessible                                        y\n",
            "coaccessible                                      n\n",
            "string                                            n\n",
            "weighted cycles                                   n\n"
          ],
          "name": "stdout"
        }
      ]
    },
    {
      "cell_type": "markdown",
      "metadata": {
        "id": "xGcbyqVNa0_B",
        "colab_type": "text"
      },
      "source": [
        "   β) Για το μερος β, αρκει να τρεξουμε τις παρακατω εντολες (τις εχουμε βαλει ξεχωριστα για να παρατηρησουμε τι κανει η καθε μια)"
      ]
    },
    {
      "cell_type": "code",
      "metadata": {
        "id": "LP9n8AZKbEnh",
        "colab_type": "code",
        "outputId": "0dcda246-7d72-4454-86dd-2d28d26bfec8",
        "colab": {
          "base_uri": "https://localhost:8080/",
          "height": 729
        }
      },
      "source": [
        "!fstdeterminize acceptor.fst  > acceptor_determinized.fst\n",
        "!fstminimize acceptor_determinized.fst > acceptor_minimized.fst\n",
        "!fstinfo acceptor_minimized.fst"
      ],
      "execution_count": 118,
      "outputs": [
        {
          "output_type": "stream",
          "text": [
            "fst type                                          vector\n",
            "arc type                                          standard\n",
            "input symbol table                                none\n",
            "output symbol table                               none\n",
            "# of states                                       7933\n",
            "# of arcs                                         15422\n",
            "initial state                                     0\n",
            "# of final states                                 1101\n",
            "# of input/output epsilons                        0\n",
            "# of input epsilons                               0\n",
            "# of output epsilons                              0\n",
            "input label multiplicity                          1\n",
            "output label multiplicity                         1\n",
            "# of accessible states                            7933\n",
            "# of coaccessible states                          7933\n",
            "# of connected states                             7933\n",
            "# of connected components                         1\n",
            "# of strongly conn components                     7933\n",
            "input matcher                                     y\n",
            "output matcher                                    y\n",
            "input lookahead                                   n\n",
            "output lookahead                                  n\n",
            "expanded                                          y\n",
            "mutable                                           y\n",
            "error                                             n\n",
            "acceptor                                          y\n",
            "input deterministic                               y\n",
            "output deterministic                              y\n",
            "input/output epsilons                             n\n",
            "input epsilons                                    n\n",
            "output epsilons                                   n\n",
            "input label sorted                                y\n",
            "output label sorted                               y\n",
            "weighted                                          n\n",
            "cyclic                                            n\n",
            "cyclic at initial state                           n\n",
            "top sorted                                        n\n",
            "accessible                                        y\n",
            "coaccessible                                      y\n",
            "string                                            n\n",
            "weighted cycles                                   n\n"
          ],
          "name": "stdout"
        }
      ]
    },
    {
      "cell_type": "markdown",
      "metadata": {
        "id": "blOuFPvafApW",
        "colab_type": "text"
      },
      "source": [
        "Η συναρτηση fstrmepsilon αφαιρει τις μεταβασεις που εχουν ε στο fst μας, και προφανως δεν ειχε καν νοημα να τις εφαρμοσουμε, αφου δεν ειχαμε χρησιμοποιησει καν ε στην κατασκευη του.\n",
        "Η συναρτηση fstdeterminize αφαιρει τον μη ντετερμινισμο, και οπως φαινεται απο τις εικονες των διαγραμματων που παραγονται, αν και δεν εχει ελαχιστο αριθμο καταστασεων, ειναι αφενος σαφως μικροτερο διαγραμμα απο το αρχικο και αφετερου σαφως πιο κατανοητο.\n",
        "Τελος, η συναρτηση fstminimize δημιουργει το διαγραμμα με τον ελαχιστο αριθμο καταστασεων, οπως φαινεται και απο την φωτογραφια fst_minimized.jpg που εχει 24 καταστασεις (ενω η determinized 27, ενω η αρχικη 55!)."
      ]
    },
    {
      "cell_type": "markdown",
      "metadata": {
        "id": "hr1vRGrEhgNi",
        "colab_type": "text"
      },
      "source": [
        "*Για τα Βηματα 7,8,9, δεν ειχαμε αρκετο χρονο, καθως πολλες αποριες μας λυθηκαν την ημερα του εργαστηριου (25/11). Παρολα αυτα, οπως συζητηθηκε και με τον καθηγητη, θα ειναι υλοποιημενα στην υποβολη της ολοκληρωμενης αναφορας για το εργαστηριο 1.*"
      ]
    },
    {
      "cell_type": "markdown",
      "metadata": {
        "id": "RuzupFrrggeN",
        "colab_type": "text"
      },
      "source": [
        "---\n",
        "# Βήμα 7ο"
      ]
    },
    {
      "cell_type": "markdown",
      "metadata": {
        "id": "EyfwnLBpNfz-",
        "colab_type": "text"
      },
      "source": [
        "   α) Φτιαχνουμε το Levenshtein Transducer:"
      ]
    },
    {
      "cell_type": "code",
      "metadata": {
        "id": "24sy_jxd_Nyj",
        "colab_type": "code",
        "outputId": "7d1d6c26-77ba-4466-e019-f227b6d4e652",
        "colab": {
          "base_uri": "https://localhost:8080/",
          "height": 729
        }
      },
      "source": [
        "!fstcompose onestate.fst acceptor_minimized.fst > Leven.fst\n",
        "!fstinfo Leven.fst"
      ],
      "execution_count": 119,
      "outputs": [
        {
          "output_type": "stream",
          "text": [
            "fst type                                          vector\n",
            "arc type                                          standard\n",
            "input symbol table                                none\n",
            "output symbol table                               none\n",
            "# of states                                       7933\n",
            "# of arcs                                         622652\n",
            "initial state                                     0\n",
            "# of final states                                 1101\n",
            "# of input/output epsilons                        0\n",
            "# of input epsilons                               15422\n",
            "# of output epsilons                              206258\n",
            "input label multiplicity                          4.20416\n",
            "output label multiplicity                         26.6687\n",
            "# of accessible states                            7933\n",
            "# of coaccessible states                          7933\n",
            "# of connected states                             7933\n",
            "# of connected components                         1\n",
            "# of strongly conn components                     7933\n",
            "input matcher                                     y\n",
            "output matcher                                    n\n",
            "input lookahead                                   n\n",
            "output lookahead                                  n\n",
            "expanded                                          y\n",
            "mutable                                           y\n",
            "error                                             n\n",
            "acceptor                                          n\n",
            "input deterministic                               n\n",
            "output deterministic                              n\n",
            "input/output epsilons                             n\n",
            "input epsilons                                    y\n",
            "output epsilons                                   y\n",
            "input label sorted                                y\n",
            "output label sorted                               n\n",
            "weighted                                          y\n",
            "cyclic                                            y\n",
            "cyclic at initial state                           y\n",
            "top sorted                                        n\n",
            "accessible                                        y\n",
            "coaccessible                                      y\n",
            "string                                            n\n",
            "weighted cycles                                   y\n"
          ],
          "name": "stdout"
        }
      ]
    },
    {
      "cell_type": "markdown",
      "metadata": {
        "id": "5XlilBJXZnTb",
        "colab_type": "text"
      },
      "source": [
        "Αναλογα με τα βαρη του καθε ειδους edit, γινεται αναλογο prioritization στα output words. Για παραδειγμα, για ισοβαρη edits, ο min distance transducer μπορει να επιλεξει και λεξεις μεγαλυτερου μηκους, που εχουν πολλα κοινα γραμματα με την αρχικη, με τελικο βαρος ισο με αλλες λεξεις μικροτερου μηκους, που ομως εχουν περισσοτερα substitutions γραμματων. Απο την αλλη, αν ειχαμε μεγαλυτερο βαρος στο removal η στο insertion, τοτε θα ειχαμε περισσοτερα αποτελεσματα ιδιου μηκους με την λεξη εισοδου, αλλα με περισσοτερα substitutions. Συμπερασματικα, καταληγουμε οτι τα βαρη επηρεαζουν την μορφη των λεξεων εξοδου. "
      ]
    },
    {
      "cell_type": "markdown",
      "metadata": {
        "id": "xNp5vgd4NwuJ",
        "colab_type": "text"
      },
      "source": [
        " β) Φτιαχνουμε τα απαραιτητα αρχεια για την δημιουργια ενος acceptor για την λεξη \"cit\":\n"
      ]
    },
    {
      "cell_type": "code",
      "metadata": {
        "id": "m9OgWWx8OXmX",
        "colab_type": "code",
        "colab": {}
      },
      "source": [
        "Lexicon_cit = [\"cit\"]\n",
        "sixth(Lexicon_cit, Alphabet, \"cit.txt\")"
      ],
      "execution_count": 0,
      "outputs": []
    },
    {
      "cell_type": "markdown",
      "metadata": {
        "id": "zlBWXN-QOy-C",
        "colab_type": "text"
      },
      "source": [
        "Φτιαχνουμε τον αποδοχεα για την λεξη \"cit\":"
      ]
    },
    {
      "cell_type": "code",
      "metadata": {
        "id": "wlVgsc7oHyw6",
        "colab_type": "code",
        "colab": {}
      },
      "source": [
        "! fstcompile -isymbols=chars.syms -osymbols=chars.syms cit.txt > cit.fst\n",
        "! fstdraw --isymbols=chars.syms --osymbols=chars.syms -portrait cit.fst  | dot -Tjpg >cit.jpg"
      ],
      "execution_count": 0,
      "outputs": []
    },
    {
      "cell_type": "markdown",
      "metadata": {
        "id": "ncB7sxhrOOnE",
        "colab_type": "text"
      },
      "source": [
        "Κανουμε compose το FST για την αποσταση Levenshtein με τον αποδοχεα της λεξης \"cit\":"
      ]
    },
    {
      "cell_type": "code",
      "metadata": {
        "id": "JfhSAwZfOPFH",
        "colab_type": "code",
        "outputId": "40d10f10-615f-4330-b0e2-4eb9c7eec365",
        "colab": {
          "base_uri": "https://localhost:8080/",
          "height": 729
        }
      },
      "source": [
        "! fstcompose cit.fst Leven.fst  > min_distance.fst\n",
        "! fstinfo min_distance.fst"
      ],
      "execution_count": 122,
      "outputs": [
        {
          "output_type": "stream",
          "text": [
            "fst type                                          vector\n",
            "arc type                                          standard\n",
            "input symbol table                                none\n",
            "output symbol table                               none\n",
            "# of states                                       31732\n",
            "# of arcs                                         131753\n",
            "initial state                                     0\n",
            "# of final states                                 1101\n",
            "# of input/output epsilons                        0\n",
            "# of input epsilons                               61688\n",
            "# of output epsilons                              23799\n",
            "input label multiplicity                          4.05012\n",
            "output label multiplicity                         1.70231\n",
            "# of accessible states                            31732\n",
            "# of coaccessible states                          31732\n",
            "# of connected states                             31732\n",
            "# of connected components                         1\n",
            "# of strongly conn components                     31732\n",
            "input matcher                                     y\n",
            "output matcher                                    n\n",
            "input lookahead                                   n\n",
            "output lookahead                                  n\n",
            "expanded                                          y\n",
            "mutable                                           y\n",
            "error                                             n\n",
            "acceptor                                          n\n",
            "input deterministic                               n\n",
            "output deterministic                              n\n",
            "input/output epsilons                             n\n",
            "input epsilons                                    y\n",
            "output epsilons                                   y\n",
            "input label sorted                                y\n",
            "output label sorted                               n\n",
            "weighted                                          y\n",
            "cyclic                                            n\n",
            "cyclic at initial state                           n\n",
            "top sorted                                        n\n",
            "accessible                                        y\n",
            "coaccessible                                      y\n",
            "string                                            n\n",
            "weighted cycles                                   n\n"
          ],
          "name": "stdout"
        }
      ]
    },
    {
      "cell_type": "markdown",
      "metadata": {
        "id": "To5bzmAKPDU7",
        "colab_type": "text"
      },
      "source": [
        "Καλουμε την fstshortestpath για να βρουμε την ελαχιστη edit αποσταση (αποσταση Levenshtein)"
      ]
    },
    {
      "cell_type": "code",
      "metadata": {
        "id": "iT6XXmZJSNnK",
        "colab_type": "code",
        "outputId": "9d0cd955-22ed-40cf-aeb9-13a0aca07af6",
        "colab": {
          "base_uri": "https://localhost:8080/",
          "height": 729
        }
      },
      "source": [
        "!fstshortestpath min_distance.fst | fstrmepsilon > out.fst\n",
        "!fstdraw --isymbols=chars.syms --osymbols=chars.syms -portrait out.fst  | dot -Tjpg >out.jpg\n",
        "!fstinfo out.fst"
      ],
      "execution_count": 123,
      "outputs": [
        {
          "output_type": "stream",
          "text": [
            "fst type                                          vector\n",
            "arc type                                          standard\n",
            "input symbol table                                none\n",
            "output symbol table                               none\n",
            "# of states                                       4\n",
            "# of arcs                                         3\n",
            "initial state                                     3\n",
            "# of final states                                 1\n",
            "# of input/output epsilons                        0\n",
            "# of input epsilons                               0\n",
            "# of output epsilons                              0\n",
            "input label multiplicity                          1\n",
            "output label multiplicity                         1\n",
            "# of accessible states                            4\n",
            "# of coaccessible states                          4\n",
            "# of connected states                             4\n",
            "# of connected components                         1\n",
            "# of strongly conn components                     4\n",
            "input matcher                                     y\n",
            "output matcher                                    y\n",
            "input lookahead                                   n\n",
            "output lookahead                                  n\n",
            "expanded                                          y\n",
            "mutable                                           y\n",
            "error                                             n\n",
            "acceptor                                          n\n",
            "input deterministic                               y\n",
            "output deterministic                              y\n",
            "input/output epsilons                             n\n",
            "input epsilons                                    n\n",
            "output epsilons                                   n\n",
            "input label sorted                                y\n",
            "output label sorted                               y\n",
            "weighted                                          y\n",
            "cyclic                                            n\n",
            "cyclic at initial state                           n\n",
            "top sorted                                        n\n",
            "accessible                                        y\n",
            "coaccessible                                      y\n",
            "string                                            n\n",
            "weighted cycles                                   n\n"
          ],
          "name": "stdout"
        }
      ]
    },
    {
      "cell_type": "markdown",
      "metadata": {
        "id": "xdaYjRTDZWu8",
        "colab_type": "text"
      },
      "source": [
        "Αν τρεξουμε τον παραπανω κωδικα, βλεπουμε οτι η προβλεψη του min edit spell checker ειναι η λεξη \"wit\" που ουσιαστικα εχει μονο ενα substitution ενος γραμματος. Αν βαλουμε το argument --nshorterst = Ν, οπου Ν ο αριθμος των προβλεψεων που θελουμε να δουμε, βλεπουμε οτι υπαρχουν πολλες επιλογες με το ιδιο αριθμο edits, οπως η λεξη \"sit\" και αλλες. "
      ]
    },
    {
      "cell_type": "markdown",
      "metadata": {
        "id": "-_kxWWizgiHR",
        "colab_type": "text"
      },
      "source": [
        "---\n",
        "# Βήμα 8ο\n",
        "\n",
        "  α) Για το βημα αυτο, εχουμε αποηθεκυσει τα δεδομενα για testing στο αρχειο evaluation_data.txt .\n",
        "  β) Για το ερωτημα αυτο, πρωτα δημιουργουμε ενα λεξικο που συνδεει τις σωστες λεξεις με τις λαθος, και απο αυτο \"τραβαμε\" τυχαια λαθος λεξεις και χρησιμοποιουμε τον min edit checker για να μας δωσει πιθανες απαντησεις λεξεων. Στην συνεχεια συγκρινουμε τις απαντησεις του με τις προκαθορισμενες απαντησεις, τυπωνοντας για καθε περιπτωση."
      ]
    },
    {
      "cell_type": "code",
      "metadata": {
        "id": "n_5EU0ha3H0D",
        "colab_type": "code",
        "outputId": "8823df57-3a80-4f25-ad16-d0afa5898958",
        "colab": {
          "base_uri": "https://localhost:8080/",
          "height": 712
        }
      },
      "source": [
        "import random\n",
        "lines = read_from_file(\"evaluation_data.txt\")\n",
        "text = []\n",
        "dictionary = {}\n",
        "for line in lines:\n",
        "    text = []\n",
        "    text.append(tokenize(line))\n",
        "    for i in range (1,len(text[0])):\n",
        "      dictionary.update({text[0][i]:text[0][0]})\n",
        "for counter in range(0,20):\n",
        "  key = random.choice(list(dictionary.keys()))\n",
        "  value = dictionary[key]\n",
        "  Lexicon_test = [key]\n",
        "  f = open('new.txt', 'w+')\n",
        "  f.truncate(0)\n",
        "  f.close()\n",
        "  fileopen = open(\"new.txt\",\"w+\")\n",
        "  for i in range(0,len(key)):\n",
        "    fileopen.write(\"%s \" %str(i))\n",
        "    fileopen.write(\" %s \" %str(i+1))\n",
        "    fileopen.write(\" %s \" %key[i])\n",
        "    fileopen.write(\" %s \" %key[i])\n",
        "    fileopen.write(\"0\\n\")\n",
        "  fileopen.write(str(len(key)))\n",
        "  fileopen.close()\n",
        "  sixth(Lexicon_test, Alphabet, \"new.txt\")\n",
        "  !fstcompile -isymbols=chars.syms -osymbols=chars.syms new.txt > test.fst\n",
        "  !fstcompose test.fst Leven.fst  > min_distance.fst\n",
        "  print(\"Wrong word = \" ,key,\", actual word = \",value)\n",
        "  print(\"What we got from the transducer =\", end =\" \")  \n",
        "  !fstshortestpath min_distance.fst | fstrmepsilon | fsttopsort | fstprint -osymbols=chars.syms | cut -f4 | grep -v \"<epsilon>\" | head -n -1 | tr -d '\\n'\n",
        "  print()"
      ],
      "execution_count": 124,
      "outputs": [
        {
          "output_type": "stream",
          "text": [
            "Wrong word =  magnificant , actual word =  magnificent\n",
            "What we got from the transducer = magnificent\n",
            "Wrong word =  muinets , actual word =  minutes\n",
            "What we got from the transducer = mines\n",
            "Wrong word =  desicate , actual word =  desiccate\n",
            "What we got from the transducer = delicate\n",
            "Wrong word =  adres , actual word =  address\n",
            "What we got from the transducer = acres\n",
            "Wrong word =  proplen , actual word =  problem\n",
            "What we got from the transducer = problem\n",
            "Wrong word =  questionaire , actual word =  questionnaire\n",
            "What we got from the transducer = questionable\n",
            "Wrong word =  juce , actual word =  juice\n",
            "What we got from the transducer = june\n",
            "Wrong word =  stomac , actual word =  stomach\n",
            "What we got from the transducer = stomachs\n",
            "Wrong word =  acomodation , actual word =  accommodation\n",
            "What we got from the transducer = abomination\n",
            "Wrong word =  benifits , actual word =  benefits\n",
            "What we got from the transducer = benefit\n",
            "Wrong word =  offten , actual word =  often\n",
            "What we got from the transducer = often\n",
            "Wrong word =  recipt , actual word =  receipt\n",
            "What we got from the transducer = receipt\n",
            "Wrong word =  possable , actual word =  possible\n",
            "What we got from the transducer = possible\n",
            "Wrong word =  begining , actual word =  beginning\n",
            "What we got from the transducer = beginning\n",
            "Wrong word =  receit , actual word =  receipt\n",
            "What we got from the transducer = receipt\n",
            "Wrong word =  receit , actual word =  receipt\n",
            "What we got from the transducer = receipt\n",
            "Wrong word =  localy , actual word =  locally\n",
            "What we got from the transducer = local\n",
            "Wrong word =  buiscits , actual word =  biscuits\n",
            "What we got from the transducer = biscuits\n",
            "Wrong word =  unexspected , actual word =  unexpected\n",
            "What we got from the transducer = unexpected\n",
            "Wrong word =  initals , actual word =  initials\n",
            "What we got from the transducer = initials\n"
          ],
          "name": "stdout"
        }
      ]
    },
    {
      "cell_type": "markdown",
      "metadata": {
        "id": "fm1GLoTXgjci",
        "colab_type": "text"
      },
      "source": [
        "---\n",
        "# Βήμα 9ο\n",
        "\n",
        "  α) Διαβαζουμε το κειμενο σε προτασεις:"
      ]
    },
    {
      "cell_type": "code",
      "metadata": {
        "id": "478LJxqs81dh",
        "colab_type": "code",
        "colab": {}
      },
      "source": [
        "lines = read_from_file(\"corpora.txt\")\n",
        "text = []\n",
        "for line in lines:\n",
        "    text.append(tokenize(line))"
      ],
      "execution_count": 0,
      "outputs": []
    },
    {
      "cell_type": "markdown",
      "metadata": {
        "id": "AouLMySO89CU",
        "colab_type": "text"
      },
      "source": [
        "  β) Κανουμε import την βιβλιοθηκη του Word2Vec, για να εκπαιδεύσουμε 100διαστατα word2vec embeddings με βάση τις προτάσεις του βηματος 9α."
      ]
    },
    {
      "cell_type": "code",
      "metadata": {
        "id": "QSyHHegH6TsV",
        "colab_type": "code",
        "outputId": "1d336319-edd7-47ed-d6d4-c32d111ff94a",
        "colab": {
          "base_uri": "https://localhost:8080/",
          "height": 72
        }
      },
      "source": [
        "from gensim.test.utils import common_texts, get_tmpfile\n",
        "from gensim.models import Word2Vec\n",
        "path = get_tmpfile(\"word2vec.model\")\n",
        "model = Word2Vec(text, size=100, window=5, min_count=1)\n",
        "model.save(\"word2vec.model\")\n",
        "model.train(text, total_examples=len(text), epochs=1000)\n",
        "voc = model.wv.index2word\n",
        "dim = model.wv.vector_size"
      ],
      "execution_count": 126,
      "outputs": [
        {
          "output_type": "stream",
          "text": [
            "/usr/local/lib/python3.6/dist-packages/smart_open/smart_open_lib.py:402: UserWarning: This function is deprecated, use smart_open.open instead. See the migration notes for details: https://github.com/RaRe-Technologies/smart_open/blob/master/README.rst#migrating-to-the-new-open-function\n",
            "  'See the migration notes for details: %s' % _MIGRATION_NOTES_URL\n"
          ],
          "name": "stderr"
        }
      ]
    },
    {
      "cell_type": "code",
      "metadata": {
        "id": "q7vBjalPBIob",
        "colab_type": "code",
        "colab": {}
      },
      "source": [
        "import numpy as np\n",
        "def to_embeddings_Matrix(model):  \n",
        "    embedding_matrix = np.zeros((len(model.wv.vocab), model.vector_size))\n",
        "    word2idx = {}\n",
        "    for i in range(len(model.wv.vocab)):\n",
        "        embedding_matrix[i] = model.wv[model.wv.index2word[i]]\n",
        "        word2idx[model.wv.index2word[i]] = i\n",
        "    return embedding_matrix, model.wv.index2word, word2idx"
      ],
      "execution_count": 0,
      "outputs": []
    },
    {
      "cell_type": "markdown",
      "metadata": {
        "id": "Lgei-di2-Gb4",
        "colab_type": "text"
      },
      "source": [
        "  γ) Βρισκουμε 10 τυχαιες λεξεις απο το λεξικο και παραγουμε τις σημασειολογικα κοντινοτερες τους:"
      ]
    },
    {
      "cell_type": "code",
      "metadata": {
        "id": "YXYCS4GG-Qzv",
        "colab_type": "code",
        "outputId": "d24487ee-6c7e-4660-83e8-edcfd9b0f996",
        "colab": {
          "base_uri": "https://localhost:8080/",
          "height": 419
        }
      },
      "source": [
        "text1 = flatten(text)\n",
        "Lexicon = unique_tokens(text1)\n",
        "for i in range(0,10):\n",
        "    word = random.choice(Lexicon)\n",
        "    result, similarity = model.wv.most_similar(word,topn=1)[0][0],  model.wv.most_similar(word,topn=1)[0][1]\n",
        "    print(\"Initial word: \", word, \", Similar-context word (According to Word2Vec embedding):\", result, \"\\n Accuracy Achieved: \", similarity)\n",
        "    "
      ],
      "execution_count": 128,
      "outputs": [
        {
          "output_type": "stream",
          "text": [
            "Initial word:  offered , Similar-context word (According to Word2Vec embedding): delicate \n",
            " Accuracy Achieved:  0.4273199439048767\n",
            "Initial word:  host , Similar-context word (According to Word2Vec embedding): expended \n",
            " Accuracy Achieved:  0.4371470808982849\n",
            "Initial word:  evident , Similar-context word (According to Word2Vec embedding): imprison \n",
            " Accuracy Achieved:  0.4525837302207947\n",
            "Initial word:  affection , Similar-context word (According to Word2Vec embedding): doyle \n",
            " Accuracy Achieved:  0.4673263430595398\n",
            "Initial word:  butted , Similar-context word (According to Word2Vec embedding): shawl \n",
            " Accuracy Achieved:  0.4800434112548828\n",
            "Initial word:  tomfoolery , Similar-context word (According to Word2Vec embedding): fleshy \n",
            " Accuracy Achieved:  0.51698899269104\n",
            "Initial word:  stalls , Similar-context word (According to Word2Vec embedding): imperturbably \n",
            " Accuracy Achieved:  0.4985199272632599\n",
            "Initial word:  papier , Similar-context word (According to Word2Vec embedding): eg \n",
            " Accuracy Achieved:  0.9454703330993652\n",
            "Initial word:  apprenticed , Similar-context word (According to Word2Vec embedding): venner \n",
            " Accuracy Achieved:  0.9321588277816772\n",
            "Initial word:  loiter , Similar-context word (According to Word2Vec embedding): lyon \n",
            " Accuracy Achieved:  0.5111162066459656\n"
          ],
          "name": "stdout"
        },
        {
          "output_type": "stream",
          "text": [
            "/usr/local/lib/python3.6/dist-packages/gensim/matutils.py:737: FutureWarning: Conversion of the second argument of issubdtype from `int` to `np.signedinteger` is deprecated. In future, it will be treated as `np.int64 == np.dtype(int).type`.\n",
            "  if np.issubdtype(vec.dtype, np.int):\n"
          ],
          "name": "stderr"
        }
      ]
    },
    {
      "cell_type": "markdown",
      "metadata": {
        "id": "LTVMz5ju2wKx",
        "colab_type": "text"
      },
      "source": [
        "# Βήμα 10ο"
      ]
    },
    {
      "cell_type": "markdown",
      "metadata": {
        "id": "WQku2-LA-Ky2",
        "colab_type": "text"
      },
      "source": [
        "  α) Εξάγουμε την πιθανότητα εμφάνισης κάθε token (λέξης) και την αποθηκεύουμε τη σε ένα λεξικό με key το token και value την πιθανότητα εμφάνισής του."
      ]
    },
    {
      "cell_type": "code",
      "metadata": {
        "id": "Q2xIxWxj2K0A",
        "colab_type": "code",
        "colab": {}
      },
      "source": [
        "lines = read_from_file(\"corpora.txt\")\n",
        "text = []\n",
        "Word_probability = {}\n",
        "Totalwords = 0\n",
        "for line in lines:\n",
        "    text.append(tokenize(line))\n",
        "for i in range(0,len(text)):\n",
        "  for word in text[i]:\n",
        "      if not word:\n",
        "        continue\n",
        "      Totalwords+= 1\n",
        "      if Word_probability.get(word) == None:\n",
        "        Word_probability.update({word:1})\n",
        "      else:\n",
        "        Word_probability[word] += 1\n",
        "for key,value in Word_probability.items():\n",
        "  Word_probability[key] = Word_probability[key]/Totalwords\n"
      ],
      "execution_count": 0,
      "outputs": []
    },
    {
      "cell_type": "markdown",
      "metadata": {
        "id": "p7LICeKa-Vss",
        "colab_type": "text"
      },
      "source": [
        " β) Εξάγουμε την πιθανότητα εμφάνισης κάθε χαρακτήρα και την αποθηκεύουμε τη σε ένα λεξικό με key το token και value την πιθανότητα εμφάνισής του."
      ]
    },
    {
      "cell_type": "code",
      "metadata": {
        "id": "yHHk-BkJ2Pgh",
        "colab_type": "code",
        "colab": {}
      },
      "source": [
        "lines = read_from_file(\"corpora.txt\")\n",
        "text = []\n",
        "Letter_probability = {}\n",
        "Totalletters = 0\n",
        "for line in lines:\n",
        "    text.append(tokenize(line))\n",
        "for i in range(0,len(text)):\n",
        "  for word in text[i]:\n",
        "    for letter in range(0,len(word)):\n",
        "      Totalletters+= 1\n",
        "      if Letter_probability.get(word[letter]) == None:\n",
        "        Letter_probability.update({word[letter]:1})\n",
        "      else:\n",
        "        Letter_probability.update({word[letter]:Letter_probability[word[letter]]+1})\n",
        "for key,value in Letter_probability.items():\n",
        "  Letter_probability[key] = Letter_probability[key]/Totalletters\n"
      ],
      "execution_count": 0,
      "outputs": []
    },
    {
      "cell_type": "markdown",
      "metadata": {
        "id": "5REbZDoF90H7",
        "colab_type": "text"
      },
      "source": [
        "#Βήμα 11ο"
      ]
    },
    {
      "cell_type": "markdown",
      "metadata": {
        "id": "NiWlXiiWCz23",
        "colab_type": "text"
      },
      "source": [
        "  α)Υπολογιζουμε την μεση τιμη των βαρων του word level, αλλα και του unigram level:"
      ]
    },
    {
      "cell_type": "code",
      "metadata": {
        "id": "EUfh99mO97dv",
        "colab_type": "code",
        "outputId": "2a3934f2-f42e-4f49-bd00-875ea7ac13b4",
        "colab": {
          "base_uri": "https://localhost:8080/",
          "height": 86
        }
      },
      "source": [
        "Wordw = 0\n",
        "Distwords = 0\n",
        "Letterw = 0\n",
        "Distletters = 0\n",
        "for (key,value) in Word_probability.items():\n",
        "  Wordw -= np.log(value)\n",
        "  Distwords += 1\n",
        "for (key,value) in Letter_probability.items():\n",
        "  Letterw -= np.log(value)\n",
        "  Distletters += 1\n",
        "Wordw = Wordw / Distwords\n",
        "print(Distwords)\n",
        "print(Wordw)\n",
        "Letterw = Letterw / Distletters\n",
        "print(Distletters)\n",
        "print(Letterw)"
      ],
      "execution_count": 131,
      "outputs": [
        {
          "output_type": "stream",
          "text": [
            "11249\n",
            "11.008959701031827\n",
            "26\n",
            "3.9208175099324643\n"
          ],
          "name": "stdout"
        }
      ]
    },
    {
      "cell_type": "markdown",
      "metadata": {
        "id": "9ipu0tD6D7CZ",
        "colab_type": "text"
      },
      "source": [
        "  β) Αρχικα φτιαχνουμε μια συναρτηση για να τυπωνουμε σε αρχειο τις απαραιτητες πληροφοριες για να φτιαχτει το fst:"
      ]
    },
    {
      "cell_type": "code",
      "metadata": {
        "id": "040RRQj7AIhi",
        "colab_type": "code",
        "colab": {}
      },
      "source": [
        "def weighted_fst(Alphabet,weight, filename = \"text.txt\", print_lines = False):\n",
        "    f = open(filename, \"w+\")\n",
        "    if (print_lines):\n",
        "        for pair in Alphabet:\n",
        "            for pair1 in Alphabet:\n",
        "                if  (pair[0] == pair1[0] ==\"<epsilon>\"):\n",
        "                    continue \n",
        "                elif (pair[0] == pair1[0] and pair[0]!=\"<epsilon>\"):\n",
        "                    print(\"0\" + \" 0 \" + pair[0] + \" \" + pair1[0] + \" 0\")\n",
        "                    f.write(\"0\" + \" 0 \" + pair[0] + \" \" + pair1[0] + \" 0\" + \"\\n\")\n",
        "                elif (pair[0]=='<epsilon>'):\n",
        "                    print(\"0\" + \" 0 \" + pair[0] + \" \" + pair1[0] + \" \" + str(weight))\n",
        "                    f.write(\"0\" + \" 0 \" + pair[0] + \" \" + pair1[0] + \" \" + str(weight)+ \"\\n\")\n",
        "                elif (pair1[0]=='<epsilon>'):\n",
        "                    print(\"0\" + \" 0 \" + pair[0] + \" \" + pair1[0] + \" \" + str(weight))\n",
        "                    f.write(\"0\" + \" 0 \" + pair[0] + \" \" + pair1[0] + \" \" + str(weight)+ \"\\n\")\n",
        "                else:\n",
        "                    print(\"0\" + \" 0 \" + pair[0] + \" \" + pair1[0] + \" \" + str(weight))\n",
        "                    f.write(\"0\" + \" 0 \" + pair[0] + \" \" + pair1[0] + \" \" + str(weight)+ \"\\n\")\n",
        "        print(\"0\")\n",
        "        f.write(\"0\")\n",
        "    else:\n",
        "        for pair in Alphabet:\n",
        "            for pair1 in Alphabet:\n",
        "                if  (pair[0] == pair1[0] ==\"<epsilon>\"):\n",
        "                    continue \n",
        "                elif (pair[0] == pair1[0] and pair[0]!=\"<epsilon>\"):\n",
        "                    f.write(\"0\" + \" 0 \" + pair[0] + \" \" + pair1[0] + \" 0\" + \"\\n\")\n",
        "                elif (pair[0]=='<epsilon>'):\n",
        "                    f.write(\"0\" + \" 0 \" + pair[0] + \" \" + pair1[0] + \" \" + str(weight)+ \"\\n\")\n",
        "                elif (pair1[0]=='<epsilon>'):\n",
        "                    f.write(\"0\" + \" 0 \" + pair[0] + \" \" + pair1[0] + \" \" + str(weight)+ \"\\n\")\n",
        "                else:\n",
        "                    f.write(\"0\" + \" 0 \" + pair[0] + \" \" + pair1[0] + \" \" + str(weight)+ \"\\n\")\n",
        "        f.write(\"0\")\n",
        "    f.close()"
      ],
      "execution_count": 0,
      "outputs": []
    },
    {
      "cell_type": "markdown",
      "metadata": {
        "id": "ukg8W6PEEKFY",
        "colab_type": "text"
      },
      "source": [
        "Φτιαχνουμε τα δυο αρχεια που θα μας χρειαστουν για τους μετατροπεις:"
      ]
    },
    {
      "cell_type": "code",
      "metadata": {
        "id": "bhWng1JgCXog",
        "colab_type": "code",
        "colab": {}
      },
      "source": [
        "lines = read_from_file(\"corpora.txt\")\n",
        "#print(len(lines))\n",
        "text = []\n",
        "for line in lines:\n",
        "    text.append(tokenize(line))\n",
        "text = flatten(text)\n",
        "#print(len(text))\n",
        "Lexicon = unique_tokens(text)\n",
        "#print(len(Lexicon))\n",
        "Alphabet = alphabet(Lexicon)\n",
        "#print(len(Alphabet))\n",
        "Alphabet = alphabet_indexing(Alphabet)\n",
        "#print(Alphabet)\n",
        "symbols_file(Alphabet,)\n",
        "weighted_fst(Alphabet,Wordw, \"Wordw.txt\")\n",
        "weighted_fst(Alphabet,Letterw, \"Letterw.txt\")"
      ],
      "execution_count": 0,
      "outputs": []
    },
    {
      "cell_type": "markdown",
      "metadata": {
        "id": "Nik0YYidEk7w",
        "colab_type": "text"
      },
      "source": [
        "Και τωρα κανουμε compile τους μετατροπεις:"
      ]
    },
    {
      "cell_type": "code",
      "metadata": {
        "id": "gRi9Kw45D1Qk",
        "colab_type": "code",
        "outputId": "b28c4449-6293-4678-bf6c-54b9b74e4bf7",
        "colab": {
          "base_uri": "https://localhost:8080/",
          "height": 1000
        }
      },
      "source": [
        "!fstcompile -isymbols=chars.syms -osymbols=chars.syms Wordw.txt > Wordw.fst\n",
        "!fstinfo Wordw.fst\n",
        "!fstcompile -isymbols=chars.syms -osymbols=chars.syms Letterw.txt > Letterw.fst\n",
        "!fstinfo Letterw.fst"
      ],
      "execution_count": 134,
      "outputs": [
        {
          "output_type": "stream",
          "text": [
            "fst type                                          vector\n",
            "arc type                                          standard\n",
            "input symbol table                                none\n",
            "output symbol table                               none\n",
            "# of states                                       1\n",
            "# of arcs                                         728\n",
            "initial state                                     0\n",
            "# of final states                                 1\n",
            "# of input/output epsilons                        0\n",
            "# of input epsilons                               26\n",
            "# of output epsilons                              26\n",
            "input label multiplicity                          26.9643\n",
            "output label multiplicity                         26.9643\n",
            "# of accessible states                            1\n",
            "# of coaccessible states                          1\n",
            "# of connected states                             1\n",
            "# of connected components                         1\n",
            "# of strongly conn components                     1\n",
            "input matcher                                     y\n",
            "output matcher                                    n\n",
            "input lookahead                                   n\n",
            "output lookahead                                  n\n",
            "expanded                                          y\n",
            "mutable                                           y\n",
            "error                                             n\n",
            "acceptor                                          n\n",
            "input deterministic                               n\n",
            "output deterministic                              n\n",
            "input/output epsilons                             n\n",
            "input epsilons                                    y\n",
            "output epsilons                                   y\n",
            "input label sorted                                y\n",
            "output label sorted                               n\n",
            "weighted                                          y\n",
            "cyclic                                            y\n",
            "cyclic at initial state                           y\n",
            "top sorted                                        n\n",
            "accessible                                        y\n",
            "coaccessible                                      y\n",
            "string                                            n\n",
            "weighted cycles                                   y\n",
            "fst type                                          vector\n",
            "arc type                                          standard\n",
            "input symbol table                                none\n",
            "output symbol table                               none\n",
            "# of states                                       1\n",
            "# of arcs                                         728\n",
            "initial state                                     0\n",
            "# of final states                                 1\n",
            "# of input/output epsilons                        0\n",
            "# of input epsilons                               26\n",
            "# of output epsilons                              26\n",
            "input label multiplicity                          26.9643\n",
            "output label multiplicity                         26.9643\n",
            "# of accessible states                            1\n",
            "# of coaccessible states                          1\n",
            "# of connected states                             1\n",
            "# of connected components                         1\n",
            "# of strongly conn components                     1\n",
            "input matcher                                     y\n",
            "output matcher                                    n\n",
            "input lookahead                                   n\n",
            "output lookahead                                  n\n",
            "expanded                                          y\n",
            "mutable                                           y\n",
            "error                                             n\n",
            "acceptor                                          n\n",
            "input deterministic                               n\n",
            "output deterministic                              n\n",
            "input/output epsilons                             n\n",
            "input epsilons                                    y\n",
            "output epsilons                                   y\n",
            "input label sorted                                y\n",
            "output label sorted                               n\n",
            "weighted                                          y\n",
            "cyclic                                            y\n",
            "cyclic at initial state                           y\n",
            "top sorted                                        n\n",
            "accessible                                        y\n",
            "coaccessible                                      y\n",
            "string                                            n\n",
            "weighted cycles                                   y\n"
          ],
          "name": "stdout"
        }
      ]
    },
    {
      "cell_type": "markdown",
      "metadata": {
        "id": "qnbDRI1UV1P1",
        "colab_type": "text"
      },
      "source": [
        "# Βήμα 12ο"
      ]
    },
    {
      "cell_type": "markdown",
      "metadata": {
        "id": "N8WJEc0CPPsI",
        "colab_type": "text"
      },
      "source": [
        "   α) Φτιαχνουμε 2 συναρτησεις για να δημιουργουμε τα αρχεια που ειναι απαραιτητα για τα  fst που μας ζητουνται:"
      ]
    },
    {
      "cell_type": "code",
      "metadata": {
        "id": "jLEo8bt6V5Qb",
        "colab_type": "code",
        "colab": {}
      },
      "source": [
        "def twelvtha(Lexicon, Alphabet, Word_probability, filename = \"12a.txt\"):\n",
        "    for i in range(0, len(Alphabet)):\n",
        "        temp = Alphabet[i]\n",
        "        Alphabet[i] = [temp, i]\n",
        "    f = open(filename, \"w+\")\n",
        "    i = 2\n",
        "    for word in Lexicon:\n",
        "        for j in range(0, len(word)):\n",
        "            if j==0:\n",
        "                f.write(\"0\" + \" \" + str(i) + \" \" + word[j] + \" \" + word[j] + \" \" + str(-1*np.log(Word_probability[word])) + \"\\n\")\n",
        "                i += 1\n",
        "            elif (j== len(word) -1):\n",
        "                f.write( str(i-1) + \" \" + \"1\" + \" \" + word[j] + \" \" + word[j] + \" 0\" + \"\\n\")\n",
        "                i +=1\n",
        "            else:\n",
        "                f.write( str(i-1) + \" \" + str(i) + \" \" + word[j] + \" \" + word[j] + \" 0\" + \"\\n\")\n",
        "                i+=1\n",
        "    f.write(\"1\")\n",
        "    f.close()\n",
        "\n",
        "def twelvthb(Lexicon, Alphabet, Letter_probability, filename = \"12b.txt\"):\n",
        "    for i in range(0, len(Alphabet)):\n",
        "        temp = Alphabet[i]\n",
        "        Alphabet[i] = [temp, i]\n",
        "    f = open(filename, \"w+\")\n",
        "    i = 2\n",
        "    for word in Lexicon:\n",
        "        for j in range(0, len(word)):\n",
        "            if j==0:\n",
        "                f.write(\"0\" + \" \" + str(i) + \" \" + word[j] + \" \" + word[j] + \" \" + str(-1*np.log(Letter_probability[word[j]])) + \"\\n\")\n",
        "                i += 1\n",
        "            elif (j== len(word) -1):\n",
        "                f.write( str(i-1) + \" \" + \"1\" + \" \" + word[j] + \" \" + word[j] + \" \" + str(-1*np.log(Letter_probability[word[j]])) + \"\\n\")\n",
        "                i +=1\n",
        "            else:\n",
        "                f.write( str(i-1) + \" \" + str(i) + \" \" + word[j] + \" \" + word[j] + \" \" + str(-1*np.log(Letter_probability[word[j]])) + \"\\n\")\n",
        "                i+=1\n",
        "    f.write(\"1\")\n",
        "    f.close()"
      ],
      "execution_count": 0,
      "outputs": []
    },
    {
      "cell_type": "markdown",
      "metadata": {
        "id": "HDUQyVgzPa0o",
        "colab_type": "text"
      },
      "source": [
        "Δημιουργουμε τα αρχεια που χρειαζομαστε:"
      ]
    },
    {
      "cell_type": "code",
      "metadata": {
        "id": "H51_jYZTXhkg",
        "colab_type": "code",
        "colab": {}
      },
      "source": [
        "lines = read_from_file(\"corpora.txt\")\n",
        "#print(len(lines))\n",
        "text = []\n",
        "for line in lines:\n",
        "    text.append(tokenize(line))\n",
        "text = flatten(text)\n",
        "#print(len(text))\n",
        "Lexicon = unique_tokens(text)\n",
        "#print(len(Lexicon))\n",
        "Alphabet = alphabet(Lexicon)\n",
        "twelvtha(Lexicon, Alphabet,Word_probability,\"Wordlevel.txt\")\n",
        "twelvthb(Lexicon, Alphabet,Letter_probability,\"Unigram.txt\")\n"
      ],
      "execution_count": 0,
      "outputs": []
    },
    {
      "cell_type": "markdown",
      "metadata": {
        "id": "kcmgviLNPg_W",
        "colab_type": "text"
      },
      "source": [
        "  β) Καλουμε τις αναλογες συναρτησεις για να βελτιστοποιησουμε τα μοντελα μας:"
      ]
    },
    {
      "cell_type": "code",
      "metadata": {
        "id": "l3JMoUZJhpT6",
        "colab_type": "code",
        "outputId": "7e5e009e-5795-4e6d-8258-0dc13a800d24",
        "colab": {
          "base_uri": "https://localhost:8080/",
          "height": 1000
        }
      },
      "source": [
        "!fstcompile -isymbols=chars.syms -osymbols=chars.syms Wordlevel.txt | fstrmepsilon | fstdeterminize | fstminimize > Wordlevel.fst\n",
        "!fstinfo Wordlevel.fst\n",
        "!fstcompile -isymbols=chars.syms -osymbols=chars.syms Unigram.txt | fstrmepsilon | fstdeterminize | fstminimize > Unigram.fst\n",
        "!fstinfo Unigram.fst"
      ],
      "execution_count": 137,
      "outputs": [
        {
          "output_type": "stream",
          "text": [
            "fst type                                          vector\n",
            "arc type                                          standard\n",
            "input symbol table                                none\n",
            "output symbol table                               none\n",
            "# of states                                       10295\n",
            "# of arcs                                         18601\n",
            "initial state                                     0\n",
            "# of final states                                 1983\n",
            "# of input/output epsilons                        0\n",
            "# of input epsilons                               0\n",
            "# of output epsilons                              0\n",
            "input label multiplicity                          1\n",
            "output label multiplicity                         1\n",
            "# of accessible states                            10295\n",
            "# of coaccessible states                          10295\n",
            "# of connected states                             10295\n",
            "# of connected components                         1\n",
            "# of strongly conn components                     10295\n",
            "input matcher                                     n\n",
            "output matcher                                    n\n",
            "input lookahead                                   n\n",
            "output lookahead                                  n\n",
            "expanded                                          y\n",
            "mutable                                           y\n",
            "error                                             n\n",
            "acceptor                                          y\n",
            "input deterministic                               y\n",
            "output deterministic                              y\n",
            "input/output epsilons                             n\n",
            "input epsilons                                    n\n",
            "output epsilons                                   n\n",
            "input label sorted                                n\n",
            "output label sorted                               n\n",
            "weighted                                          y\n",
            "cyclic                                            n\n",
            "cyclic at initial state                           n\n",
            "top sorted                                        n\n",
            "accessible                                        y\n",
            "coaccessible                                      y\n",
            "string                                            n\n",
            "weighted cycles                                   n\n",
            "fst type                                          vector\n",
            "arc type                                          standard\n",
            "input symbol table                                none\n",
            "output symbol table                               none\n",
            "# of states                                       7933\n",
            "# of arcs                                         15422\n",
            "initial state                                     0\n",
            "# of final states                                 1101\n",
            "# of input/output epsilons                        0\n",
            "# of input epsilons                               0\n",
            "# of output epsilons                              0\n",
            "input label multiplicity                          1\n",
            "output label multiplicity                         1\n",
            "# of accessible states                            7933\n",
            "# of coaccessible states                          7933\n",
            "# of connected states                             7933\n",
            "# of connected components                         1\n",
            "# of strongly conn components                     7933\n",
            "input matcher                                     n\n",
            "output matcher                                    n\n",
            "input lookahead                                   n\n",
            "output lookahead                                  n\n",
            "expanded                                          y\n",
            "mutable                                           y\n",
            "error                                             n\n",
            "acceptor                                          y\n",
            "input deterministic                               y\n",
            "output deterministic                              y\n",
            "input/output epsilons                             n\n",
            "input epsilons                                    n\n",
            "output epsilons                                   n\n",
            "input label sorted                                n\n",
            "output label sorted                               n\n",
            "weighted                                          y\n",
            "cyclic                                            n\n",
            "cyclic at initial state                           n\n",
            "top sorted                                        n\n",
            "accessible                                        y\n",
            "coaccessible                                      y\n",
            "string                                            n\n",
            "weighted cycles                                   n\n"
          ],
          "name": "stdout"
        }
      ]
    },
    {
      "cell_type": "markdown",
      "metadata": {
        "id": "1ouXqDv4ipnt",
        "colab_type": "text"
      },
      "source": [
        "#Βήμα 13ο"
      ]
    },
    {
      "cell_type": "markdown",
      "metadata": {
        "id": "lHXLNmcyP_3K",
        "colab_type": "text"
      },
      "source": [
        "α)β)Για να κατασκευασουμε τους ορθογραφους για τα word-level & unigram-level γλωσσικα μοντελα καλουμε την fstcompose με τον word-level μετατροπεα:"
      ]
    },
    {
      "cell_type": "code",
      "metadata": {
        "id": "ew4HNQrZit4o",
        "colab_type": "code",
        "colab": {
          "base_uri": "https://localhost:8080/",
          "height": 1000
        },
        "outputId": "9a5e419c-770e-427f-e1c2-9be0b1a0b332"
      },
      "source": [
        "! fstcompose Wordlevel.fst Wordw.fst > Wordlevellast.fst\n",
        "! fstinfo Wordlevellast.fst\n",
        "! fstcompose Unigram.fst Letterw.fst > Unigramlast.fst\n",
        "! fstinfo Unigramlast.fst"
      ],
      "execution_count": 138,
      "outputs": [
        {
          "output_type": "stream",
          "text": [
            "fst type                                          vector\n",
            "arc type                                          standard\n",
            "input symbol table                                none\n",
            "output symbol table                               none\n",
            "# of states                                       10295\n",
            "# of arcs                                         769897\n",
            "initial state                                     0\n",
            "# of final states                                 1983\n",
            "# of input/output epsilons                        0\n",
            "# of input epsilons                               267670\n",
            "# of output epsilons                              18601\n",
            "input label multiplicity                          26.6523\n",
            "output label multiplicity                         3.87038\n",
            "# of accessible states                            10295\n",
            "# of coaccessible states                          10295\n",
            "# of connected states                             10295\n",
            "# of connected components                         1\n",
            "# of strongly conn components                     10295\n",
            "input matcher                                     n\n",
            "output matcher                                    n\n",
            "input lookahead                                   n\n",
            "output lookahead                                  n\n",
            "expanded                                          y\n",
            "mutable                                           y\n",
            "error                                             n\n",
            "acceptor                                          n\n",
            "input deterministic                               n\n",
            "output deterministic                              n\n",
            "input/output epsilons                             n\n",
            "input epsilons                                    y\n",
            "output epsilons                                   y\n",
            "input label sorted                                n\n",
            "output label sorted                               n\n",
            "weighted                                          y\n",
            "cyclic                                            y\n",
            "cyclic at initial state                           y\n",
            "top sorted                                        n\n",
            "accessible                                        y\n",
            "coaccessible                                      y\n",
            "string                                            n\n",
            "weighted cycles                                   y\n",
            "fst type                                          vector\n",
            "arc type                                          standard\n",
            "input symbol table                                none\n",
            "output symbol table                               none\n",
            "# of states                                       7933\n",
            "# of arcs                                         622652\n",
            "initial state                                     0\n",
            "# of final states                                 1101\n",
            "# of input/output epsilons                        0\n",
            "# of input epsilons                               206258\n",
            "# of output epsilons                              15422\n",
            "input label multiplicity                          26.6687\n",
            "output label multiplicity                         4.20416\n",
            "# of accessible states                            7933\n",
            "# of coaccessible states                          7933\n",
            "# of connected states                             7933\n",
            "# of connected components                         1\n",
            "# of strongly conn components                     7933\n",
            "input matcher                                     n\n",
            "output matcher                                    n\n",
            "input lookahead                                   n\n",
            "output lookahead                                  n\n",
            "expanded                                          y\n",
            "mutable                                           y\n",
            "error                                             n\n",
            "acceptor                                          n\n",
            "input deterministic                               n\n",
            "output deterministic                              n\n",
            "input/output epsilons                             n\n",
            "input epsilons                                    y\n",
            "output epsilons                                   y\n",
            "input label sorted                                n\n",
            "output label sorted                               n\n",
            "weighted                                          y\n",
            "cyclic                                            y\n",
            "cyclic at initial state                           y\n",
            "top sorted                                        n\n",
            "accessible                                        y\n",
            "coaccessible                                      y\n",
            "string                                            n\n",
            "weighted cycles                                   y\n"
          ],
          "name": "stdout"
        }
      ]
    },
    {
      "cell_type": "markdown",
      "metadata": {
        "id": "4cjhSYEGQYry",
        "colab_type": "text"
      },
      "source": [
        "γ) Αρχικα καλουμε την fstcompose με το μοντελο sample.fst, και για τους δυο ορθογραφους:"
      ]
    },
    {
      "cell_type": "code",
      "metadata": {
        "id": "WaiBE12LTQ4p",
        "colab_type": "code",
        "colab": {}
      },
      "source": [
        "Lexicon_sample = [\"fuckery\"]\n",
        "sixth(Lexicon_sample, Alphabet, \"sample.txt\")"
      ],
      "execution_count": 0,
      "outputs": []
    },
    {
      "cell_type": "code",
      "metadata": {
        "id": "t1QUavDwTb8l",
        "colab_type": "code",
        "colab": {}
      },
      "source": [
        "! fstcompile -isymbols=chars.syms -osymbols=chars.syms sample.txt > sample.fst\n",
        "! fstdraw --isymbols=chars.syms --osymbols=chars.syms -portrait sample.fst  | dot -Tjpg >sample.jpg"
      ],
      "execution_count": 0,
      "outputs": []
    },
    {
      "cell_type": "code",
      "metadata": {
        "id": "mKJtpdInQk4M",
        "colab_type": "code",
        "colab": {
          "base_uri": "https://localhost:8080/",
          "height": 1000
        },
        "outputId": "a7699fae-6222-4fb9-fbdd-bf9e3d52cf89"
      },
      "source": [
        "! fstcompose  Wordlevellast.fst sample.fst > min_distance_Wordlevel.fst\n",
        "! fstinfo min_distance_Wordlevel.fst\n",
        "\n",
        "\n",
        "\n",
        "! fstcompose  Unigramlast.fst sample.fst > min_distance_Unigram.fst\n",
        "! fstinfo min_distance_Unigram.fst"
      ],
      "execution_count": 141,
      "outputs": [
        {
          "output_type": "stream",
          "text": [
            "fst type                                          vector\n",
            "arc type                                          standard\n",
            "input symbol table                                none\n",
            "output symbol table                               none\n",
            "# of states                                       82360\n",
            "# of arcs                                         351080\n",
            "initial state                                     0\n",
            "# of final states                                 1983\n",
            "# of input/output epsilons                        0\n",
            "# of input epsilons                               72065\n",
            "# of output epsilons                              148808\n",
            "input label multiplicity                          1.74175\n",
            "output label multiplicity                         3.70814\n",
            "# of accessible states                            82360\n",
            "# of coaccessible states                          82360\n",
            "# of connected states                             82360\n",
            "# of connected components                         1\n",
            "# of strongly conn components                     82360\n",
            "input matcher                                     n\n",
            "output matcher                                    n\n",
            "input lookahead                                   n\n",
            "output lookahead                                  n\n",
            "expanded                                          y\n",
            "mutable                                           y\n",
            "error                                             n\n",
            "acceptor                                          n\n",
            "input deterministic                               n\n",
            "output deterministic                              n\n",
            "input/output epsilons                             n\n",
            "input epsilons                                    y\n",
            "output epsilons                                   y\n",
            "input label sorted                                n\n",
            "output label sorted                               n\n",
            "weighted                                          y\n",
            "cyclic                                            n\n",
            "cyclic at initial state                           n\n",
            "top sorted                                        n\n",
            "accessible                                        y\n",
            "coaccessible                                      y\n",
            "string                                            n\n",
            "weighted cycles                                   n\n",
            "fst type                                          vector\n",
            "arc type                                          standard\n",
            "input symbol table                                none\n",
            "output symbol table                               none\n",
            "# of states                                       63464\n",
            "# of arcs                                         286861\n",
            "initial state                                     0\n",
            "# of final states                                 1101\n",
            "# of input/output epsilons                        0\n",
            "# of input epsilons                               55531\n",
            "# of output epsilons                              123376\n",
            "input label multiplicity                          1.75266\n",
            "output label multiplicity                         4.06336\n",
            "# of accessible states                            63464\n",
            "# of coaccessible states                          63464\n",
            "# of connected states                             63464\n",
            "# of connected components                         1\n",
            "# of strongly conn components                     63464\n",
            "input matcher                                     n\n",
            "output matcher                                    n\n",
            "input lookahead                                   n\n",
            "output lookahead                                  n\n",
            "expanded                                          y\n",
            "mutable                                           y\n",
            "error                                             n\n",
            "acceptor                                          n\n",
            "input deterministic                               n\n",
            "output deterministic                              n\n",
            "input/output epsilons                             n\n",
            "input epsilons                                    y\n",
            "output epsilons                                   y\n",
            "input label sorted                                n\n",
            "output label sorted                               n\n",
            "weighted                                          y\n",
            "cyclic                                            n\n",
            "cyclic at initial state                           n\n",
            "top sorted                                        n\n",
            "accessible                                        y\n",
            "coaccessible                                      y\n",
            "string                                            n\n",
            "weighted cycles                                   n\n"
          ],
          "name": "stdout"
        }
      ]
    },
    {
      "cell_type": "markdown",
      "metadata": {
        "id": "55G1BO8RRJA4",
        "colab_type": "text"
      },
      "source": [
        "Στην συνεχεια βρισκουμε την λεξη με την μικροτερη αποσταση απο την λεξη \"cit\" και για τους δυο ορθογραφους:"
      ]
    },
    {
      "cell_type": "code",
      "metadata": {
        "id": "AThXNyhwQ6Sg",
        "colab_type": "code",
        "colab": {
          "base_uri": "https://localhost:8080/",
          "height": 1000
        },
        "outputId": "df667147-558b-42e6-d1f5-4a4913da26b9"
      },
      "source": [
        "!fstshortestpath min_distance_Wordlevel.fst | fstrmepsilon > out_word.fst\n",
        "!fstdraw --isymbols=chars.syms --osymbols=chars.syms -portrait out_word.fst  | dot -Tjpg >out_word.jpg\n",
        "!fstinfo out_word.fst\n",
        "\n",
        "\n",
        "\n",
        "!fstshortestpath min_distance_Unigram.fst | fstrmepsilon > out_unigram.fst\n",
        "!fstdraw --isymbols=chars.syms --osymbols=chars.syms -portrait out_unigram.fst  | dot -Tjpg >out_unigram.jpg\n",
        "!fstinfo out_unigram.fst"
      ],
      "execution_count": 142,
      "outputs": [
        {
          "output_type": "stream",
          "text": [
            "fst type                                          vector\n",
            "arc type                                          standard\n",
            "input symbol table                                none\n",
            "output symbol table                               none\n",
            "# of states                                       8\n",
            "# of arcs                                         7\n",
            "initial state                                     7\n",
            "# of final states                                 1\n",
            "# of input/output epsilons                        0\n",
            "# of input epsilons                               0\n",
            "# of output epsilons                              0\n",
            "input label multiplicity                          1\n",
            "output label multiplicity                         1\n",
            "# of accessible states                            8\n",
            "# of coaccessible states                          8\n",
            "# of connected states                             8\n",
            "# of connected components                         1\n",
            "# of strongly conn components                     8\n",
            "input matcher                                     y\n",
            "output matcher                                    y\n",
            "input lookahead                                   n\n",
            "output lookahead                                  n\n",
            "expanded                                          y\n",
            "mutable                                           y\n",
            "error                                             n\n",
            "acceptor                                          n\n",
            "input deterministic                               y\n",
            "output deterministic                              y\n",
            "input/output epsilons                             n\n",
            "input epsilons                                    n\n",
            "output epsilons                                   n\n",
            "input label sorted                                y\n",
            "output label sorted                               y\n",
            "weighted                                          y\n",
            "cyclic                                            n\n",
            "cyclic at initial state                           n\n",
            "top sorted                                        n\n",
            "accessible                                        y\n",
            "coaccessible                                      y\n",
            "string                                            n\n",
            "weighted cycles                                   n\n",
            "fst type                                          vector\n",
            "arc type                                          standard\n",
            "input symbol table                                none\n",
            "output symbol table                               none\n",
            "# of states                                       8\n",
            "# of arcs                                         7\n",
            "initial state                                     7\n",
            "# of final states                                 1\n",
            "# of input/output epsilons                        0\n",
            "# of input epsilons                               3\n",
            "# of output epsilons                              0\n",
            "input label multiplicity                          1\n",
            "output label multiplicity                         1\n",
            "# of accessible states                            8\n",
            "# of coaccessible states                          8\n",
            "# of connected states                             8\n",
            "# of connected components                         1\n",
            "# of strongly conn components                     8\n",
            "input matcher                                     y\n",
            "output matcher                                    y\n",
            "input lookahead                                   n\n",
            "output lookahead                                  n\n",
            "expanded                                          y\n",
            "mutable                                           y\n",
            "error                                             n\n",
            "acceptor                                          n\n",
            "input deterministic                               y\n",
            "output deterministic                              y\n",
            "input/output epsilons                             n\n",
            "input epsilons                                    y\n",
            "output epsilons                                   n\n",
            "input label sorted                                y\n",
            "output label sorted                               y\n",
            "weighted                                          y\n",
            "cyclic                                            n\n",
            "cyclic at initial state                           n\n",
            "top sorted                                        n\n",
            "accessible                                        y\n",
            "coaccessible                                      y\n",
            "string                                            n\n",
            "weighted cycles                                   n\n"
          ],
          "name": "stdout"
        }
      ]
    },
    {
      "cell_type": "markdown",
      "metadata": {
        "id": "axGyF7jfUmJB",
        "colab_type": "text"
      },
      "source": [
        "Αυτοι οι ορθογραφοι προσπαθουν να βρουν την λεξη που με ελαχιστον edit cost ερχεται πλησιεστερα στην λεξη εισοδου σε επιπεδο λεξεων και χαρακτηρων. Με αλλα λογια, ο ενας προσπαθει να ταιριαξει ολοκληρη την λεξη με βαση τις υπολοιπες λεξεις του κειμενου, ενω ο αλλος προσπαθει να ταιριαξει την λεξη ταιριαζοντας χαρακτηρες, ετσι ωστε να δημιουργησει μια λεξη που υπαρχει στο κειμενο. Ενα παραδειγμα αμφισημης διορθωσης ειναι η λεξη-εισοδος \"fuckery\", που με το μοντελο λεξεων διορθωνεται σε \"mockery\", ενω με το μοντελο unigram διορθωνεται σε \"fury\"."
      ]
    },
    {
      "cell_type": "markdown",
      "metadata": {
        "id": "_mBc-yzgWMQL",
        "colab_type": "text"
      },
      "source": [
        "#Βήμα 14ο\n",
        "\n",
        "  α) Το συνολο δεδομενων επαληθευσης ειναι στο αρχειο evaluation_data.txt\n"
      ]
    },
    {
      "cell_type": "markdown",
      "metadata": {
        "id": "aNtXrh1_hbDj",
        "colab_type": "text"
      },
      "source": [
        "β) Ο κωδικας για να ελεγχουμε για καθε λεξη του συνολου δεδομενων επαληθευσης ειναι ο εξης:"
      ]
    },
    {
      "cell_type": "code",
      "metadata": {
        "id": "KT9b_JdViDVp",
        "colab_type": "code",
        "colab": {
          "base_uri": "https://localhost:8080/",
          "height": 54
        },
        "outputId": "bceddef8-29e1-4f83-851e-899d8a9c42d9"
      },
      "source": [
        "lines = read_from_file(\"evaluation_data.txt\")\n",
        "text = []\n",
        "dictionary = {}\n",
        "for line in lines:\n",
        "    text = []\n",
        "    text.append(tokenize(line))\n",
        "    for i in range (1,len(text[0])):\n",
        "      dictionary.update({text[0][i]:text[0][0]})\n",
        "\n",
        "print(dictionary)"
      ],
      "execution_count": 143,
      "outputs": [
        {
          "output_type": "stream",
          "text": [
            "{'contenpted': 'contented', 'contende': 'contented', 'contended': 'contented', 'contentid': 'contented', 'begining': 'beginning', 'problam': 'problem', 'proble': 'problem', 'promblem': 'problem', 'proplen': 'problem', 'dirven': 'driven', 'exstacy': 'ecstasy', 'ecstacy': 'ecstasy', 'guic': 'juice', 'juce': 'juice', 'jucie': 'juice', 'juise': 'juice', 'juse': 'juice', 'localy': 'locally', 'compair': 'compare', 'pronounciation': 'pronunciation', 'transportibility': 'transportability', 'miniscule': 'minuscule', 'independant': 'independent', 'aranged': 'arranged', 'arrainged': 'arranged', 'poartry': 'poetry', 'poertry': 'poetry', 'poetre': 'poetry', 'poety': 'poetry', 'powetry': 'poetry', 'leval': 'level', 'basicaly': 'basically', 'triangulaur': 'triangular', 'unexpcted': 'unexpected', 'unexpeted': 'unexpected', 'unexspected': 'unexpected', 'stanerdizing': 'standardizing', 'varable': 'variable', 'futher': 'further', 'monitering': 'monitoring', 'biscits': 'biscuits', 'biscutes': 'biscuits', 'biscuts': 'biscuits', 'bisquits': 'biscuits', 'buiscits': 'biscuits', 'buiscuts': 'biscuits', 'avaible': 'available', 'seperate': 'separate', 'neccesary': 'necessary', 'necesary': 'necessary', 'necassary': 'necessary', 'necassery': 'necessary', 'neccasary': 'necessary', 'defenition': 'definition', 'receit': 'receipt', 'receite': 'receipt', 'reciet': 'receipt', 'recipt': 'receipt', 'remine': 'remind', 'remined': 'remind', 'inetials': 'initials', 'inistals': 'initials', 'initails': 'initials', 'initals': 'initials', 'intials': 'initials', 'magnificnet': 'magnificent', 'magificent': 'magnificent', 'magnifcent': 'magnificent', 'magnifecent': 'magnificent', 'magnifiscant': 'magnificent', 'magnifisent': 'magnificent', 'magnificant': 'magnificent', 'annt': 'aunt', 'anut': 'aunt', 'arnt': 'aunt', 'intial': 'initial', 'ther': 'there', 'experances': 'experiences', 'biult': 'built', 'totaly': 'totally', 'undersand': 'understand', 'undistand': 'understand', 'southen': 'southern', 'definately': 'definitely', 'difinately': 'definitely', 'fisited': 'visited', 'viseted': 'visited', 'vistid': 'visited', 'vistied': 'visited', 'volantry': 'voluntary', 'ment': 'meant', 'recieve': 'receive', 'sorces': 'sources', 'wether': 'whether', 'usefull': 'useful', 'litriture': 'literature', 'valubale': 'valuable', 'valuble': 'valuable', 'desicate': 'desiccate', 'dessicate': 'desiccate', 'dessiccate': 'desiccate', 'clearical': 'clerical', 'spledid': 'splendid', 'splended': 'splendid', 'splened': 'splendid', 'beetween': 'between', 'completly': 'completely', 'acount': 'account', 'cemetary': 'cemetery', 'semetary': 'cemetery', 'speaical': 'special', 'specail': 'special', 'specal': 'special', 'speical': 'special', 'lates': 'latest', 'latets': 'latest', 'latiest': 'latest', 'latist': 'latest', 'perhapse': 'perhaps', 'rember': 'remember', 'remeber': 'remember', 'rememmer': 'remember', 'rermember': 'remember', 'chaper': 'chapter', 'chaphter': 'chapter', 'chaptur': 'chapter', 'cak': 'cake', 'vairious': 'various', 'febuary': 'february', 'pertend': 'pretend', 'protend': 'pretend', 'prtend': 'pretend', 'pritend': 'pretend', 'chosing': 'choosing', 'rote': 'wrote', 'wote': 'wrote', 'particulaur': 'particular', 'awfall': 'awful', 'afful': 'awful', 'arragment': 'arrangement', 'chalenges': 'challenges', 'lagh': 'laugh', 'lauf': 'laugh', 'laught': 'laugh', 'lugh': 'laugh', 'ofen': 'often', 'offen': 'often', 'offten': 'often', 'ofton': 'often', 'somone': 'someone', 'personnell': 'personnel', 'uneque': 'unique', 'diagrammaticaally': 'diagrammatically', 'discription': 'description', 'poims': 'poems', 'pomes': 'poems', 'perple': 'purple', 'perpul': 'purple', 'poarple': 'purple', 'descide': 'decide', 'articals': 'articles', 'possition': 'position', 'extented': 'extended', 'hierachial': 'hierarchal', 'realy': 'really', 'relley': 'really', 'relly': 'really', 'voteing': 'voting', 'comittee': 'committee', 'wantid': 'wanted', 'wonted': 'wanted', 'benifits': 'benefits', 'defenitions': 'definitions', 'scisors': 'scissors', 'sissors': 'scissors', 'levals': 'levels', 'paralel': 'parallel', 'paralell': 'parallel', 'parrallel': 'parallel', 'parralell': 'parallel', 'parrallell': 'parallel', 'accomodation': 'accommodation', 'acommodation': 'accommodation', 'acomodation': 'accommodation', 'planed': 'planned', 'hierchy': 'hierarchy', 'transfred': 'transferred', 'muinets': 'minutes', 'aranging': 'arrangeing', 'accesing': 'accessing', 'stomac': 'stomach', 'stomache': 'stomach', 'stomec': 'stomach', 'stumache': 'stomach', 'unfortunatly': 'unfortunately', 'conciderable': 'considerable', 'acess': 'access', 'singulaur': 'singular', 'scarcly': 'scarcely', 'scarecly': 'scarcely', 'scarely': 'scarcely', 'scarsely': 'scarcely', 'questionaire': 'questionnaire', 'experance': 'experience', 'experiance': 'experience', 'possable': 'possible', 'reafreshment': 'refreshment', 'refreshmant': 'refreshment', 'refresment': 'refreshment', 'refressmunt': 'refreshment', 'embaras': 'embarrass', 'embarass': 'embarrass', 'vistors': 'visitors', 'auxillary': 'auxiliary', 'descided': 'decided', 'benifit': 'benefit', 'concider': 'consider', 'failes': 'fails', 'carrer': 'career', 'occurence': 'occurrence', 'cirtain': 'certain', 'poame': 'poem', 'liew': 'lieu', 'astablishing': 'establishing', 'establising': 'establishing', 'diffrent': 'different', 'lones': 'loans', 'extreamly': 'extremely', 'addresable': 'addressable', 'galery': 'gallery', 'gallary': 'gallery', 'gallerry': 'gallery', 'gallrey': 'gallery', 'centraly': 'centrally', 'familes': 'families', 'bicycal': 'bicycle', 'bycicle': 'bicycle', 'bycycle': 'bicycle', 'choise': 'choice', 'opisite': 'opposite', 'oppasite': 'opposite', 'oppesite': 'opposite', 'oppisit': 'opposite', 'oppisite': 'opposite', 'opposit': 'opposite', 'oppossite': 'opposite', 'oppossitte': 'opposite', 'cartains': 'curtains', 'certans': 'curtains', 'courtens': 'curtains', 'cuaritains': 'curtains', 'curtans': 'curtains', 'curtians': 'curtains', 'curtions': 'curtains', 'adress': 'address', 'adres': 'address', 'liaision': 'liaison', 'liason': 'liaison', 'managment': 'management', 'inconvienient': 'inconvenient', 'inconvient': 'inconvenient', 'inconvinient': 'inconvenient', 'vairiant': 'variant', 'supercede': 'supersede', 'superceed': 'supersede'}\n"
          ],
          "name": "stdout"
        }
      ]
    },
    {
      "cell_type": "code",
      "metadata": {
        "id": "wN1jxiE-gbkT",
        "colab_type": "code",
        "colab": {
          "base_uri": "https://localhost:8080/",
          "height": 956
        },
        "outputId": "a0fde777-5a1a-4b8f-9885-e1d0c953bc17"
      },
      "source": [
        "for key in dictionary:\n",
        "  value = dictionary[key]\n",
        "  Lexicon_test = [key]\n",
        "  f = open('new.txt', 'w+')\n",
        "  f.truncate(0)\n",
        "  f.close()\n",
        "  fileopen = open(\"new.txt\",\"w+\")\n",
        "  for i in range(0,len(key)):\n",
        "    fileopen.write(\"%s \" %str(i))\n",
        "    fileopen.write(\" %s \" %str(i+1))\n",
        "    fileopen.write(\" %s \" %key[i])\n",
        "    fileopen.write(\" %s \" %key[i])\n",
        "    fileopen.write(\"0\\n\")\n",
        "  fileopen.write(str(len(key)))\n",
        "  fileopen.close()\n",
        "  sixth(Lexicon_test, Alphabet, \"new.txt\")\n",
        "  !fstcompile -isymbols=chars.syms -osymbols=chars.syms new.txt > test.fst\n",
        "  !fstcompose Wordlevellast.fst test.fst   > min_distance.fst\n",
        "  print(\"Wrong word = \" ,key,\", actual word = \",value)\n",
        "  print(\"What we got from the transducer =\", end =\" \")  \n",
        "  !fstshortestpath min_distance.fst | fstrmepsilon | fsttopsort | fstprint -osymbols=chars.syms | cut -f4 | grep -v \"<epsilon>\" | head -n -1 | tr -d '\\n'\n",
        "  print()\n"
      ],
      "execution_count": 144,
      "outputs": [
        {
          "output_type": "stream",
          "text": [
            "Wrong word =  contenpted , actual word =  contented\n",
            "What we got from the transducer = contenpted\n",
            "Wrong word =  contende , actual word =  contented\n",
            "What we got from the transducer = contende\n",
            "Wrong word =  contended , actual word =  contented\n",
            "What we got from the transducer = contended\n",
            "Wrong word =  contentid , actual word =  contented\n",
            "What we got from the transducer = contentid\n",
            "Wrong word =  begining , actual word =  beginning\n",
            "What we got from the transducer = begining\n",
            "Wrong word =  problam , actual word =  problem\n",
            "What we got from the transducer = problam\n",
            "Wrong word =  proble , actual word =  problem\n",
            "What we got from the transducer = proble\n",
            "Wrong word =  promblem , actual word =  problem\n",
            "What we got from the transducer = promblem\n",
            "Wrong word =  proplen , actual word =  problem\n",
            "What we got from the transducer = proplen\n",
            "Wrong word =  dirven , actual word =  driven\n",
            "What we got from the transducer = dirven\n",
            "Wrong word =  exstacy , actual word =  ecstasy\n",
            "What we got from the transducer = exstacy\n",
            "Wrong word =  ecstacy , actual word =  ecstasy\n",
            "What we got from the transducer = ecstacy\n",
            "^C\n",
            "Wrong word =  guic , actual word =  juice\n",
            "What we got from the transducer = ERROR: FstHeader::Read: Bad FST header: min_distance.fst\n",
            "ERROR: FstHeader::Read: Bad FST header: standard input\n",
            "ERROR: FstHeader::Read: Bad FST header: standard input\n",
            "ERROR: FstHeader::Read: Bad FST header: standard input\n",
            "\n",
            "Wrong word =  juce , actual word =  juice\n",
            "What we got from the transducer = juce\n"
          ],
          "name": "stdout"
        },
        {
          "output_type": "error",
          "ename": "KeyboardInterrupt",
          "evalue": "ignored",
          "traceback": [
            "\u001b[0;31m---------------------------------------------------------------------------\u001b[0m",
            "\u001b[0;31mKeyboardInterrupt\u001b[0m                         Traceback (most recent call last)",
            "\u001b[0;32m<ipython-input-144-df7d4d00a6a8>\u001b[0m in \u001b[0;36m<module>\u001b[0;34m()\u001b[0m\n\u001b[1;32m     15\u001b[0m   \u001b[0mfileopen\u001b[0m\u001b[0;34m.\u001b[0m\u001b[0mclose\u001b[0m\u001b[0;34m(\u001b[0m\u001b[0;34m)\u001b[0m\u001b[0;34m\u001b[0m\u001b[0;34m\u001b[0m\u001b[0m\n\u001b[1;32m     16\u001b[0m   \u001b[0msixth\u001b[0m\u001b[0;34m(\u001b[0m\u001b[0mLexicon_test\u001b[0m\u001b[0;34m,\u001b[0m \u001b[0mAlphabet\u001b[0m\u001b[0;34m,\u001b[0m \u001b[0;34m\"new.txt\"\u001b[0m\u001b[0;34m)\u001b[0m\u001b[0;34m\u001b[0m\u001b[0;34m\u001b[0m\u001b[0m\n\u001b[0;32m---> 17\u001b[0;31m   \u001b[0mget_ipython\u001b[0m\u001b[0;34m(\u001b[0m\u001b[0;34m)\u001b[0m\u001b[0;34m.\u001b[0m\u001b[0msystem\u001b[0m\u001b[0;34m(\u001b[0m\u001b[0;34m'fstcompile -isymbols=chars.syms -osymbols=chars.syms new.txt > test.fst'\u001b[0m\u001b[0;34m)\u001b[0m\u001b[0;34m\u001b[0m\u001b[0;34m\u001b[0m\u001b[0m\n\u001b[0m\u001b[1;32m     18\u001b[0m   \u001b[0mget_ipython\u001b[0m\u001b[0;34m(\u001b[0m\u001b[0;34m)\u001b[0m\u001b[0;34m.\u001b[0m\u001b[0msystem\u001b[0m\u001b[0;34m(\u001b[0m\u001b[0;34m'fstcompose Wordlevellast.fst test.fst   > min_distance.fst'\u001b[0m\u001b[0;34m)\u001b[0m\u001b[0;34m\u001b[0m\u001b[0;34m\u001b[0m\u001b[0m\n\u001b[1;32m     19\u001b[0m   \u001b[0mprint\u001b[0m\u001b[0;34m(\u001b[0m\u001b[0;34m\"Wrong word = \"\u001b[0m \u001b[0;34m,\u001b[0m\u001b[0mkey\u001b[0m\u001b[0;34m,\u001b[0m\u001b[0;34m\", actual word = \"\u001b[0m\u001b[0;34m,\u001b[0m\u001b[0mvalue\u001b[0m\u001b[0;34m)\u001b[0m\u001b[0;34m\u001b[0m\u001b[0;34m\u001b[0m\u001b[0m\n",
            "\u001b[0;32m/usr/local/lib/python3.6/dist-packages/google/colab/_shell.py\u001b[0m in \u001b[0;36msystem\u001b[0;34m(self, *args, **kwargs)\u001b[0m\n\u001b[1;32m     94\u001b[0m       \u001b[0mkwargs\u001b[0m\u001b[0;34m.\u001b[0m\u001b[0mupdate\u001b[0m\u001b[0;34m(\u001b[0m\u001b[0;34m{\u001b[0m\u001b[0;34m'also_return_output'\u001b[0m\u001b[0;34m:\u001b[0m \u001b[0;32mTrue\u001b[0m\u001b[0;34m}\u001b[0m\u001b[0;34m)\u001b[0m\u001b[0;34m\u001b[0m\u001b[0;34m\u001b[0m\u001b[0m\n\u001b[1;32m     95\u001b[0m \u001b[0;34m\u001b[0m\u001b[0m\n\u001b[0;32m---> 96\u001b[0;31m     \u001b[0moutput\u001b[0m \u001b[0;34m=\u001b[0m \u001b[0m_system_commands\u001b[0m\u001b[0;34m.\u001b[0m\u001b[0m_system_compat\u001b[0m\u001b[0;34m(\u001b[0m\u001b[0mself\u001b[0m\u001b[0;34m,\u001b[0m \u001b[0;34m*\u001b[0m\u001b[0margs\u001b[0m\u001b[0;34m,\u001b[0m \u001b[0;34m**\u001b[0m\u001b[0mkwargs\u001b[0m\u001b[0;34m)\u001b[0m  \u001b[0;31m# pylint:disable=protected-access\u001b[0m\u001b[0;34m\u001b[0m\u001b[0;34m\u001b[0m\u001b[0m\n\u001b[0m\u001b[1;32m     97\u001b[0m \u001b[0;34m\u001b[0m\u001b[0m\n\u001b[1;32m     98\u001b[0m     \u001b[0;32mif\u001b[0m \u001b[0mpip_warn\u001b[0m\u001b[0;34m:\u001b[0m\u001b[0;34m\u001b[0m\u001b[0;34m\u001b[0m\u001b[0m\n",
            "\u001b[0;32m/usr/local/lib/python3.6/dist-packages/google/colab/_system_commands.py\u001b[0m in \u001b[0;36m_system_compat\u001b[0;34m(shell, cmd, also_return_output)\u001b[0m\n\u001b[1;32m    436\u001b[0m   \u001b[0;31m# stack.\u001b[0m\u001b[0;34m\u001b[0m\u001b[0;34m\u001b[0m\u001b[0;34m\u001b[0m\u001b[0m\n\u001b[1;32m    437\u001b[0m   result = _run_command(\n\u001b[0;32m--> 438\u001b[0;31m       shell.var_expand(cmd, depth=2), clear_streamed_output=False)\n\u001b[0m\u001b[1;32m    439\u001b[0m   \u001b[0mshell\u001b[0m\u001b[0;34m.\u001b[0m\u001b[0muser_ns\u001b[0m\u001b[0;34m[\u001b[0m\u001b[0;34m'_exit_code'\u001b[0m\u001b[0;34m]\u001b[0m \u001b[0;34m=\u001b[0m \u001b[0mresult\u001b[0m\u001b[0;34m.\u001b[0m\u001b[0mreturncode\u001b[0m\u001b[0;34m\u001b[0m\u001b[0;34m\u001b[0m\u001b[0m\n\u001b[1;32m    440\u001b[0m   \u001b[0;32mif\u001b[0m \u001b[0;34m-\u001b[0m\u001b[0mresult\u001b[0m\u001b[0;34m.\u001b[0m\u001b[0mreturncode\u001b[0m \u001b[0;32min\u001b[0m \u001b[0m_INTERRUPTED_SIGNALS\u001b[0m\u001b[0;34m:\u001b[0m\u001b[0;34m\u001b[0m\u001b[0;34m\u001b[0m\u001b[0m\n",
            "\u001b[0;32m/usr/local/lib/python3.6/dist-packages/google/colab/_system_commands.py\u001b[0m in \u001b[0;36m_run_command\u001b[0;34m(cmd, clear_streamed_output)\u001b[0m\n\u001b[1;32m    193\u001b[0m       \u001b[0mos\u001b[0m\u001b[0;34m.\u001b[0m\u001b[0mclose\u001b[0m\u001b[0;34m(\u001b[0m\u001b[0mchild_pty\u001b[0m\u001b[0;34m)\u001b[0m\u001b[0;34m\u001b[0m\u001b[0;34m\u001b[0m\u001b[0m\n\u001b[1;32m    194\u001b[0m \u001b[0;34m\u001b[0m\u001b[0m\n\u001b[0;32m--> 195\u001b[0;31m       \u001b[0;32mreturn\u001b[0m \u001b[0m_monitor_process\u001b[0m\u001b[0;34m(\u001b[0m\u001b[0mparent_pty\u001b[0m\u001b[0;34m,\u001b[0m \u001b[0mepoll\u001b[0m\u001b[0;34m,\u001b[0m \u001b[0mp\u001b[0m\u001b[0;34m,\u001b[0m \u001b[0mcmd\u001b[0m\u001b[0;34m,\u001b[0m \u001b[0mupdate_stdin_widget\u001b[0m\u001b[0;34m)\u001b[0m\u001b[0;34m\u001b[0m\u001b[0;34m\u001b[0m\u001b[0m\n\u001b[0m\u001b[1;32m    196\u001b[0m   \u001b[0;32mfinally\u001b[0m\u001b[0;34m:\u001b[0m\u001b[0;34m\u001b[0m\u001b[0;34m\u001b[0m\u001b[0m\n\u001b[1;32m    197\u001b[0m     \u001b[0mepoll\u001b[0m\u001b[0;34m.\u001b[0m\u001b[0mclose\u001b[0m\u001b[0;34m(\u001b[0m\u001b[0;34m)\u001b[0m\u001b[0;34m\u001b[0m\u001b[0;34m\u001b[0m\u001b[0m\n",
            "\u001b[0;32m/usr/lib/python3.6/contextlib.py\u001b[0m in \u001b[0;36m__exit__\u001b[0;34m(self, type, value, traceback)\u001b[0m\n\u001b[1;32m     86\u001b[0m         \u001b[0;32mif\u001b[0m \u001b[0mtype\u001b[0m \u001b[0;32mis\u001b[0m \u001b[0;32mNone\u001b[0m\u001b[0;34m:\u001b[0m\u001b[0;34m\u001b[0m\u001b[0;34m\u001b[0m\u001b[0m\n\u001b[1;32m     87\u001b[0m             \u001b[0;32mtry\u001b[0m\u001b[0;34m:\u001b[0m\u001b[0;34m\u001b[0m\u001b[0;34m\u001b[0m\u001b[0m\n\u001b[0;32m---> 88\u001b[0;31m                 \u001b[0mnext\u001b[0m\u001b[0;34m(\u001b[0m\u001b[0mself\u001b[0m\u001b[0;34m.\u001b[0m\u001b[0mgen\u001b[0m\u001b[0;34m)\u001b[0m\u001b[0;34m\u001b[0m\u001b[0;34m\u001b[0m\u001b[0m\n\u001b[0m\u001b[1;32m     89\u001b[0m             \u001b[0;32mexcept\u001b[0m \u001b[0mStopIteration\u001b[0m\u001b[0;34m:\u001b[0m\u001b[0;34m\u001b[0m\u001b[0;34m\u001b[0m\u001b[0m\n\u001b[1;32m     90\u001b[0m                 \u001b[0;32mreturn\u001b[0m \u001b[0;32mFalse\u001b[0m\u001b[0;34m\u001b[0m\u001b[0;34m\u001b[0m\u001b[0m\n",
            "\u001b[0;32m/usr/local/lib/python3.6/dist-packages/google/colab/_system_commands.py\u001b[0m in \u001b[0;36m_display_stdin_widget\u001b[0;34m(delay_millis)\u001b[0m\n\u001b[1;32m    353\u001b[0m \u001b[0;34m\u001b[0m\u001b[0m\n\u001b[1;32m    354\u001b[0m   \u001b[0mhide_args\u001b[0m \u001b[0;34m=\u001b[0m \u001b[0;34m[\u001b[0m\u001b[0;34m'cell_remove_stdin'\u001b[0m\u001b[0;34m,\u001b[0m \u001b[0;34m{\u001b[0m\u001b[0;34m}\u001b[0m\u001b[0;34m]\u001b[0m\u001b[0;34m\u001b[0m\u001b[0;34m\u001b[0m\u001b[0m\n\u001b[0;32m--> 355\u001b[0;31m   \u001b[0m_message\u001b[0m\u001b[0;34m.\u001b[0m\u001b[0mblocking_request\u001b[0m\u001b[0;34m(\u001b[0m\u001b[0;34m*\u001b[0m\u001b[0mhide_args\u001b[0m\u001b[0;34m,\u001b[0m \u001b[0mparent\u001b[0m\u001b[0;34m=\u001b[0m\u001b[0mshell\u001b[0m\u001b[0;34m.\u001b[0m\u001b[0mparent_header\u001b[0m\u001b[0;34m)\u001b[0m\u001b[0;34m\u001b[0m\u001b[0;34m\u001b[0m\u001b[0m\n\u001b[0m\u001b[1;32m    356\u001b[0m \u001b[0;34m\u001b[0m\u001b[0m\n\u001b[1;32m    357\u001b[0m \u001b[0;34m\u001b[0m\u001b[0m\n",
            "\u001b[0;32m/usr/local/lib/python3.6/dist-packages/google/colab/_message.py\u001b[0m in \u001b[0;36mblocking_request\u001b[0;34m(request_type, request, timeout_sec, parent)\u001b[0m\n\u001b[1;32m    169\u001b[0m   \u001b[0;31m# unique.\u001b[0m\u001b[0;34m\u001b[0m\u001b[0;34m\u001b[0m\u001b[0;34m\u001b[0m\u001b[0m\n\u001b[1;32m    170\u001b[0m   \u001b[0mrequest_id\u001b[0m \u001b[0;34m=\u001b[0m \u001b[0msend_request\u001b[0m\u001b[0;34m(\u001b[0m\u001b[0mrequest_type\u001b[0m\u001b[0;34m,\u001b[0m \u001b[0mrequest\u001b[0m\u001b[0;34m,\u001b[0m \u001b[0mparent\u001b[0m\u001b[0;34m=\u001b[0m\u001b[0mparent\u001b[0m\u001b[0;34m)\u001b[0m\u001b[0;34m\u001b[0m\u001b[0;34m\u001b[0m\u001b[0m\n\u001b[0;32m--> 171\u001b[0;31m   \u001b[0;32mreturn\u001b[0m \u001b[0mread_reply_from_input\u001b[0m\u001b[0;34m(\u001b[0m\u001b[0mrequest_id\u001b[0m\u001b[0;34m,\u001b[0m \u001b[0mtimeout_sec\u001b[0m\u001b[0;34m)\u001b[0m\u001b[0;34m\u001b[0m\u001b[0;34m\u001b[0m\u001b[0m\n\u001b[0m",
            "\u001b[0;32m/usr/local/lib/python3.6/dist-packages/google/colab/_message.py\u001b[0m in \u001b[0;36mread_reply_from_input\u001b[0;34m(message_id, timeout_sec)\u001b[0m\n\u001b[1;32m     99\u001b[0m     \u001b[0mreply\u001b[0m \u001b[0;34m=\u001b[0m \u001b[0m_read_next_input_message\u001b[0m\u001b[0;34m(\u001b[0m\u001b[0;34m)\u001b[0m\u001b[0;34m\u001b[0m\u001b[0;34m\u001b[0m\u001b[0m\n\u001b[1;32m    100\u001b[0m     \u001b[0;32mif\u001b[0m \u001b[0mreply\u001b[0m \u001b[0;34m==\u001b[0m \u001b[0m_NOT_READY\u001b[0m \u001b[0;32mor\u001b[0m \u001b[0;32mnot\u001b[0m \u001b[0misinstance\u001b[0m\u001b[0;34m(\u001b[0m\u001b[0mreply\u001b[0m\u001b[0;34m,\u001b[0m \u001b[0mdict\u001b[0m\u001b[0;34m)\u001b[0m\u001b[0;34m:\u001b[0m\u001b[0;34m\u001b[0m\u001b[0;34m\u001b[0m\u001b[0m\n\u001b[0;32m--> 101\u001b[0;31m       \u001b[0mtime\u001b[0m\u001b[0;34m.\u001b[0m\u001b[0msleep\u001b[0m\u001b[0;34m(\u001b[0m\u001b[0;36m0.025\u001b[0m\u001b[0;34m)\u001b[0m\u001b[0;34m\u001b[0m\u001b[0;34m\u001b[0m\u001b[0m\n\u001b[0m\u001b[1;32m    102\u001b[0m       \u001b[0;32mcontinue\u001b[0m\u001b[0;34m\u001b[0m\u001b[0;34m\u001b[0m\u001b[0m\n\u001b[1;32m    103\u001b[0m     if (reply.get('type') == 'colab_reply' and\n",
            "\u001b[0;31mKeyboardInterrupt\u001b[0m: "
          ]
        }
      ]
    },
    {
      "cell_type": "code",
      "metadata": {
        "id": "aw-4CZA4iAgL",
        "colab_type": "code",
        "colab": {}
      },
      "source": [
        "for key in dictionary:\n",
        "  value = dictionary[key]\n",
        "  Lexicon_test = [key]\n",
        "  f = open('new.txt', 'w+')\n",
        "  f.truncate(0)\n",
        "  f.close()\n",
        "  fileopen = open(\"new.txt\",\"w+\")\n",
        "  for i in range(0,len(key)):\n",
        "    fileopen.write(\"%s \" %str(i))\n",
        "    fileopen.write(\" %s \" %str(i+1))\n",
        "    fileopen.write(\" %s \" %key[i])\n",
        "    fileopen.write(\" %s \" %key[i])\n",
        "    fileopen.write(\"0\\n\")\n",
        "  fileopen.write(str(len(key)))\n",
        "  fileopen.close()\n",
        "  sixth(Lexicon_test, Alphabet, \"new.txt\")\n",
        "  !fstcompile -isymbols=chars.syms -osymbols=chars.syms new.txt > test.fst\n",
        "  !fstcompose Unigramlast.fst  test.fst  > min_distance.fst\n",
        "  print(\"Wrong word = \" ,key,\", actual word = \",value)\n",
        "  print(\"What we got from the transducer =\", end =\" \")  \n",
        "  !fstshortestpath min_distance.fst | fstrmepsilon | fsttopsort | fstprint -osymbols=chars.syms | cut -f4 | grep -v \"<epsilon>\" | head -n -1 | tr -d '\\n'\n",
        "  print()\n"
      ],
      "execution_count": 0,
      "outputs": []
    }
  ]
}