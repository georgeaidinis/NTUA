{
  "nbformat": 4,
  "nbformat_minor": 0,
  "metadata": {
    "kernelspec": {
      "name": "python3",
      "display_name": "Python 3"
    },
    "language_info": {
      "codemirror_mode": {
        "name": "ipython",
        "version": 3
      },
      "file_extension": ".py",
      "mimetype": "text/x-python",
      "name": "python",
      "nbconvert_exporter": "python",
      "pygments_lexer": "ipython3",
      "version": "3.7.3"
    },
    "pycharm": {
      "stem_cell": {
        "cell_type": "raw",
        "source": [],
        "metadata": {
          "collapsed": false
        }
      }
    },
    "colab": {
      "name": "AI_ex2.ipynb",
      "provenance": [],
      "collapsed_sections": [],
      "include_colab_link": true
    },
    "accelerator": "GPU"
  },
  "cells": [
    {
      "cell_type": "markdown",
      "metadata": {
        "id": "view-in-github",
        "colab_type": "text"
      },
      "source": [
        "<a href=\"https://colab.research.google.com/github/georgeaidinis/NTUA/blob/master/AI/Assignment%202/AI_ex2.ipynb\" target=\"_parent\"><img src=\"https://colab.research.google.com/assets/colab-badge.svg\" alt=\"Open In Colab\"/></a>"
      ]
    },
    {
      "cell_type": "markdown",
      "metadata": {
        "colab_type": "text",
        "id": "816WHA5P3nJT"
      },
      "source": [
        "# Τεχνητή Νοημοσύνη: Εργαστηριακή Άσκηση 2\n",
        "---\n",
        "\n",
        "Ο στόχος της εργασίας είναι η κατασκευή ενός συστήματος προτάσεων (Recommendation System) για ταινίες. Οι προτάσεις αυτές θα πηγάζουν τόσο από τα χαρακτηριστικά της ταινίας όσο και από ορισμένες αξιολογήσεις του κάθε χρήστη.\n",
        "\n",
        "Στα δεδομένα της άσκησης περιλαμβάνονται ένα αρχείο με το όνομα movies_metadata.csv το όποιο περιέχει τα χαρακτηριστικά κάθε ταινίας όπως θέμα, σκηνοθέτης, ηθοποιοί, λέξεις κλειδιά κ.α. από το imdb, τα αρχεία user1.csv και user2.csv τα όποια περιέχουν αξιολογήσεις για 2 διαφορετικούς χρήστες καθώς και το αρχείο relative_movies.csv, που περιέχει 10 όμοιες ταινίες για ορισμένους τυχαία επιλεγμένους τίτλους.\n"
      ]
    },
    {
      "cell_type": "markdown",
      "metadata": {
        "colab_type": "text",
        "id": "aa-wJhCX9Nwk"
      },
      "source": [
        "# Εκφώνηση\n",
        "Στην παρούσα εργασία σας ζητείται να μελετήσετε και υλοποιήσετε τα παρακάτω:<br>\n",
        "\n",
        "### Μέρος 1\n",
        "Στο μέρος 1 και 2 θα ασχοληθείτε και θα εργαστείτε μόνο με το αρχείο movies_metadata.csv.\n",
        "#### Ερώτημα 1α\n",
        "\n",
        "Αρχικά θα πρέπει αφού μελετήσετε την δομή και τα χαρακτηριστικά του αρχείου αυτού να κατασκευάσετε μια βάση γνώσης για την Prolog η όποια ουσιαστικά θα αποτελεί τον κόσμο με τον όποιο θα εργαστείτε στην συνέχεια. Τα κατηγορήματα που θα δημιουργηθούν θα σας βοηθήσουν και στην κατασκευή του recommender και θα είναι της μορφής:\n",
        "\n",
        "```\n",
        "director(Movie, Director).\n",
        "genre(Movie, Genre).\n",
        "```\n",
        "#### Ερώτημα 1β\n",
        "\n",
        "Αφού δημιουργήσετε τον κόσμο του προβλήματος στην συνέχεια καλείστε να δημιουργήσετε, σε Prolog, απλούς κανόνες οι οποίοι θα βρίσκουν όλες τις ταινίες με:\n",
        "1.\tΑρκετά κοινό θέμα (κάποιες λέξεις σχετικά με το genre κοινές)\n",
        "2.\tΣχετικά κοινό θέμα (κάποιες λιγότερες λέξεις σχετικά με το genre κοινές π.χ. 3)\n",
        "3.\tΛιγότερο κοινό θέμα (λίγες λέξεις σχετικές με το genre κοινές π.χ. 1)\n",
        "4.\tΚοινός σκηνοθέτης\n",
        "5.\tΑκριβώς ίδια πλοκή (κάποιες λέξεις κλειδιά της πλοκής να είναι κοινές)\n",
        "6.\tΣχετικά ίδια πλοκή (κάποιες λιγότερες λέξεις κλειδιά κοινές)\n",
        "7.\tΊδιους τους βασικούς ηθοποιούς (και τους 3)\n",
        "8.\tΑρκετά ίδιους βασικούς ηθοποιούς (ορισμένους βασικούς ηθοποιούς κοινούς π.χ. 2)\n",
        "9.\tΣχετικά ίδιους ηθοποιούς (π.χ. 1 από τους 3)\n",
        "10.\tΊδια γλώσσα\n",
        "11.\tΕίναι έγχρωμες ή ασπρόμαυρες\n",
        "\n",
        "Αξίζει να σημειωθεί ότι στα παραπάνω μπορείτε να προσθέσετε περισσότερα ερωτήματα ή να αλλάξετε την κλιμακωσιμότητα των queries (πέρα από το ίδιο, αρκετά ίδιο, σχετικά ίδιο) που θα κατασκευάσετε(π.χ. μια κλίμακα από 1 στα 5 όπου αυτό είναι δυνατόν), μιας και αυτά στην συνέχεια θα χρησιμοποιηθούν για την λειτουργία του recommender. Έτσι μπορείτε να προσθέσετε queries με τα όποια μπορεί να παράγονται καλύτερες συστάσεις  (το αρχείο movie_metadata.csv περιέχει πολλές πληροφορίες ακόμα για κάθε ταινία όπως έτος κυκλοφορίας, βαθμολογία στο imdb, facebοok_likes κ.α.).\n",
        "\n",
        "Περισσότερες πληροφορίες για το dataset μπορείτε να διαβάσετε σε αυτό το Link: https://www.kaggle.com/adnanr94/imdb-movies-metadata.\n",
        "\n",
        "### Μέρος 2: Recommendation System\n",
        "Στο σημείο αυτό καλείστε με βάση αυτά που κάνατε στο μέρος 1 να κατασκευάσετε queries τα όποια θα σας επιστρέφουν παρόμοιες (σε χαρακτηριστικά) ταινίες. Τα ερωτήματα αυτά θα είναι κλιμακούμενα, δηλαδή θα υπάρχουν ερωτήματα που επιστρέφουν αρκετά κοινές ταινίες, και άλλα που επιστρέφουν λιγότερο κοινές (σε μια κλίμακα π.χ. από 1 σε 5). Για παράδειγμα:\n",
        "\n",
        "```\n",
        "simple_recommender_5(\"Pirates Of The Caribbean\", M).\n",
        "M = \"Pirates Of The Caribbean: On Stranger Tides\"\n",
        "M = \"The Chronicles Of Narnia\"\n",
        "M = \"Prince Of Persia: The Sands Of Time\"\n",
        "...\n",
        "\n",
        "simple_recommender_5(\"Avatar\").\n",
        "M = 'Terminator 2: Judgment Day'\n",
        "M = 'Aliens'\n",
        "M = 'The Terminator'\n",
        "\n",
        "simple_recommender_5(\"Star Wars: Episode III - Revenge of the Sith\").\n",
        "M = Star Wars: Episode IV - A New Hope'\n",
        "M = 'Star Wars: Episode I - The Phantom Menace'\n",
        "M = 'Star Wars: Episode II - Attack of the Clones'\n",
        "\n",
        "```\n",
        "Για παράδειγμα το παραπάνω ερώτημα θα επιστρέφει αρκετά κοινές σε περιεχόμενο ταινίες με την ταινια \"Pirates Of The Caribbean\". Αντίστοιχα θα υπάρχουν και ερωτήματα που θα βρίσκουν λιγότερα όμοιες ταινίες. Ο δείκτης ομοιότητας των ταινιών είναι αυθαίρετος και μπορείτε να τον ορίσετε εσείς όπως θέλετε, αρκεί απλά να υπάρχει κάποια λογική σύνδεση με τα δεδομένα που περιέχονται στο αρχείο movies_metadata.csv. \n",
        "\n",
        "Συνεπώς η συνάρτηση που θα κάνει τις προτάσεις (recommendation) με είσοδο μια ταινία πρέπει να επιστρέφει-εκτυπώνει μια λίστα με τις προτεινόμενες ταινίες σε φθίνουσα σειρά ομοιότητας. \n",
        "\n",
        "Για να μπορείτε να αξιολογήσετε τα αποτελέσματα των συστάσεων σας σας δίνεται ένα αρχείο με ορισμένες ταινίας και τα 10 πρώτα αποτελέσματά τους σε φθίνουσα σειρά ομοιότητας. Για την σύγκρισή των αποτελεσμάτων σας με τα  αποτελέσματα του αρχείου relative_movies.csv  μπορείτε να χρησιμοποιήσετε της συνάρτηση ομοιότητας συνόλων Jaccard (https://www.statisticshowto.datasciencecentral.com/jaccard-index/).\n",
        "\n",
        "$$jaccard(A,B)=\\frac{|A\\cap B|}{|A\\cup B|}$$\n",
        "\n",
        "Η υλοποίηση της συνάρτησης αυτής σε Python σας δίνεται με το όνομα jaccard_similarity (set1, set2). \n",
        "\n",
        "Αξίζει να σημειωθεί ότι η παραπάνω σύγκριση δεν είναι απόλυτη για τον λόγο ότι οι συναρτήσεις ομοιότητας μπορεί να είναι διαφορετικές (διαφορετικά ορίζει ο καθένας της ομοιότητα μεταξύ ταινιών) καθώς επίσης αν μια ταινία δεν έχει πολύ σχετικές προτάσεις τότε οι πιο γενικές συναρτήσεις ομοιότητας θα έχουν πολλά αποτελέσματα τα όποια η Prolog θα επιστρέψει με την σειρά που τα βρίσκει στην βάση, όποτε τότε δεν έχει ιδιαίτερο νόημα η σύγκριση σε αυτήν την περίπτωση.\n",
        "Η ομοιότητα των ταινιών είναι βοηθητική και σκοπό έχει να σας βοηθήσει να κατανοήσετε την κατεύθυνση της ασκήσης και όχι για να καταφέρετε την πλήρη ταύτιση των συστάσεων.\n",
        "\n",
        "### 3ο Μέρος: Recommendation System με βάση τις προτιμήσεις-αξιολογήσεις του χρήστη\n",
        "\n",
        "\n",
        "Σε αυτό το σημείο θα εργαστείτε με τα αρχεία user1.csv και user2.csv, τα όποια περιέχουν αξιολογήσεις (από 1 μέχρι 5) για ταινίες από 2 διαφορετικούς χρήστες. Το προηγούμενο σύστημα συστάσεων προτείνει στον χρήστη ταινίες αποκλειστικά με βάση την ομοιότητά τους. Έτσι σε αυτό το σημείο θα γίνει μια αναβάθμιση του συστήματος έτσι ώστε να παράγονται καλύτερες  συστάσεις οι όποιες θα λαμβάνουν υπόψιν και τις προτιμήσεις του χρήστη, οι όποιες θα εξάγονται από τις αξιολογήσεις που έχει κάνει μέχρι στιγμής. \n",
        "\n",
        "Έτσι πλέον για κάθε ταινία θα υπάρχει ένα score το όποιο αρχικά θε είναι ίσο με 0 και θα διαμορφώνεται από τις αξιολογήσεις κάθε user. Έτσι για έναν χρήστη με βάση τις αξιολογήσεις που έχει κάνει θα πρέπει για κάθε ταινία που έχει βαθμολογήσει θα βρίσκονται οι κοινές ταινίες ανά κλίμακα και στο μέχρι τώρα σκορ κάθε παρόμοιας ταινίας θα προστίθεται ένα βάρος το όποιο θα μπορούσε να είναι το ποσοστό ομοιότητας της ταινίας (δηλαδή ένα βάρος για κάθε κλίμακα) επί τον βαθμό που έχει βάλει ο χρήστης για την αρχική ταινία (ή ένα βάρος ανά βαθμό ώστε οι καλές κριτικές να γίνονται καλύτερες ενώ οι κακές χειρότερες). Δηλαδή, αν $rated\\_movies$ είναι το σύνολο ταινιών που έχει αξιολογήσει ο χρήστης, τότε τα recommendations που θα λαμβάνει ο χρήστης θα είναι οι ταινίες που είναι τουλάχιστον similar_1 με τουλάχιστον μία ταινία που έχει βαθμολογήσει ο χρήστης, σε φθίνουσα σειρά recommendation_score, όπου:\n",
        "\n",
        "$$recommendation\\_score(m_1)=\\sum_{m_2\\in rated\\_movies} similarity\\_weight(m_1,m_2)\\cdot voting\\_weight(m_2)$$\n",
        "\n",
        "\n",
        "Έτσι για παράδειγμα αν ένας χρήστης έχει αξιολογήσει αρκετές  ταινίες οι όποιες είναι sci-fiction με 5/5 τότε όταν ζητήσει τις προτεινόμενες είναι λογικό να λάβει πρώτα κάποιες που είναι αυτού του είδους μιας και αυτές μπορεί του αρέσουν περισσότερο.\n",
        "\n",
        "Επίσης για να εξετάσετε την αποδοτικότητα του συστήματος αυτού μπορείτε να κατασκευάσετε τους δικούς σας χρήστες. Για να το κάνετε αυτό πρέπει να γράψετε ορισμένους κανόνες της μορφής: liked(X), notliked(X) οι οποίοι θα σας επιστρέφουν ταινίες που πιθανώς θα σας αρέσουν, π.χ. σας αρέσουν ταινίες επιστημονικής φαντασίας που τις έχει σκηνοθετήσει ένας συγκεκριμένος σκηνοθέτης και αυτές που δεν είναι του γούστου σας. Για την κατασκευή του αρχείου και των αξιολογήσεων σας δίνεται μια συνάρτηση η όποια δέχεται σας ορίσματα όλες τις ταινίες από κάθε κατηγορία και τυχαία επιλέγετε ένας ορισμένος αριθμός ταινιών από αυτές στις όποιες δίνεται ένας βαθμός (για αυτές που αρέσουν στον χρήστη από 3 μέχρι 5 με διαφορετικές πιθανότητες ενώ σε αυτές που δεν του αρέσουν από 1 μέχρι 3). Μπορείτε να πειραματιστείτε με αυτήν την συνάρτηση για να ελέγξετε τα αποτελέσματά σας.\n"
      ]
    },
    {
      "cell_type": "markdown",
      "metadata": {
        "colab_type": "text",
        "id": "mgT4rsTd4tcf"
      },
      "source": [
        "---\n",
        "## Κατασκευή Περιβάλλοντος Εργασίας\n",
        "---\n",
        "### Διάβασμα Αρχείων στο Colab (Μόνο για το Colab)\n",
        "Αν η υλοποίηση γίνει στο google colab τότε μπορεί να χρησιμοποιηθεί το google drive ως file system. Για να γίνει Mount το google drive τρέχουμε τον παρακάτω κώδικα και κλικάρουμε στο link που θα μας εμφανιστεί. \n",
        "\n",
        "```\n",
        "from google.colab import drive\n",
        "drive.mount('/gdrive')\n",
        "import os\n",
        "os.listdir('/gdrive/My Drive')\n",
        "```\n",
        "Επέιτα στην σελίδα που άνοιξε επιλέγουμε το mail μας και στο επόμενο παράθυρο που θα μας ανοίξει πατάμε Να επιτρέπεται. Στην συνέχεια αντιγράφουμε τον κωδικό που θα μας βγάλει και τον κάνουμε paste στο Input που έχει ανοίξει στο colab. Έτσι πλέον αν έχουμε ανεβάσει ένα αρχείο στο google drive μπορούμε να το βρούμε στην θέση:\n",
        "\n",
        "```\n",
        "movies_filename = '/gdrive/My Drive/' + movies_metadata.csv\n",
        "```\n",
        "Μπορούμε πλέον κανονικά να δουλέψουμε φτιάχνοντας φακέλους ή αρχεία και γενικότερα κάνοντας οτιδήποτε θα κάναμε αν ήμασταν τοπικά. \n",
        "\n",
        "### Prolog μέσω Python\n",
        "\n",
        "Το πακέτο που θα χρησιμοποιηθεί για την επικοινωνία Python και Prolog είναι το pyswip (https://pypi.org/project/pyswip/). Για να δουλέψει το Pyswip  χρειάζεται να υπάρχει το Swi-Prolog το όποιο αν δουλεύουμε τοπικά πρέπει να το εγκαταστήσουμε, ακολουθώντας αντίστοιχές οδηγίες στην σελίδα του εργαλείου. Για να γίνει του Swi-Prolog η εγκατάσταση στο Google Colab πρέπει να τρέξουμε τον παρακάτω κώδικα:\n",
        "\n",
        "```\n",
        "!sudo apt-get install software-properties-common\n",
        "!sudo apt-add-repository ppa:swi-prolog/stable\n",
        "!sudo apt-get update\n",
        "!sudo apt-get install swi-prolog\n",
        "```\n",
        "Σε κάποιο σημείο της εκτέλεσης εμφανίζεται ένα μήνυμα ότι πρέπει να πατήσουμε enter σε ένα input για να συνεχίσει η διαδικασία. Έπειτα από αυτό η εκτέλεση θα συνεχίσει χωρίς κάποιο πρόβλημα.\n",
        "\n",
        "Τέλος πρέπει να εγκαταστήσουμε το pyswip (**όπου και να δουλεύουμε**) όπως παρακάτω:\n",
        "\n",
        "```\n",
        "!pip isntall pyswip\n",
        "```\n"
      ]
    },
    {
      "cell_type": "markdown",
      "metadata": {
        "colab_type": "text",
        "id": "21xzXVjQ5tFB"
      },
      "source": [
        "---\n",
        "#Κώδικας για κατασκευή περιβάλλοντος εργασίας\n",
        "##Μόνο για Google Colab\n",
        "\n",
        "Κώδικας για να γίνει Mount to Google Drive"
      ]
    },
    {
      "cell_type": "code",
      "metadata": {
        "colab_type": "code",
        "id": "DfT5Z_wtrhsV",
        "outputId": "221beb78-e736-40ff-eaee-0be0940b6153",
        "colab": {
          "base_uri": "https://localhost:8080/",
          "height": 127
        }
      },
      "source": [
        "from google.colab import drive\n",
        "drive.mount('/content/drive')\n"
      ],
      "execution_count": 1,
      "outputs": [
        {
          "output_type": "stream",
          "text": [
            "Go to this URL in a browser: https://accounts.google.com/o/oauth2/auth?client_id=947318989803-6bn6qk8qdgf4n4g3pfee6491hc0brc4i.apps.googleusercontent.com&redirect_uri=urn%3aietf%3awg%3aoauth%3a2.0%3aoob&response_type=code&scope=email%20https%3a%2f%2fwww.googleapis.com%2fauth%2fdocs.test%20https%3a%2f%2fwww.googleapis.com%2fauth%2fdrive%20https%3a%2f%2fwww.googleapis.com%2fauth%2fdrive.photos.readonly%20https%3a%2f%2fwww.googleapis.com%2fauth%2fpeopleapi.readonly\n",
            "\n",
            "Enter your authorization code:\n",
            "··········\n",
            "Mounted at /content/drive\n"
          ],
          "name": "stdout"
        }
      ]
    },
    {
      "cell_type": "markdown",
      "metadata": {
        "colab_type": "text",
        "id": "Rk-8r3HU6Jyo"
      },
      "source": [
        "Κώδικάς για να εγκατασταθεί το Swi-Prolog και το pyswip.<br>\n",
        "\n",
        "***Αυτά χρειάζονται σε κάθε περιβάλλον λειτουργίας, αν δεν έιναι ήδη  εγκατεστημένα.***"
      ]
    },
    {
      "cell_type": "code",
      "metadata": {
        "colab_type": "code",
        "id": "mHVpa_D65-E2",
        "colab": {
          "base_uri": "https://localhost:8080/",
          "height": 1000
        },
        "outputId": "fa027b30-a8e4-4ed8-f07b-fd24b491f336"
      },
      "source": [
        "#install swi-prolog\n",
        "!sudo apt-get install software-properties-common\n",
        "!sudo apt-add-repository ppa:swi-prolog/stable\n",
        "!sudo apt-get update\n",
        "!sudo apt-get install swi-prolog"
      ],
      "execution_count": 2,
      "outputs": [
        {
          "output_type": "stream",
          "text": [
            "Reading package lists... Done\n",
            "Building dependency tree       \n",
            "Reading state information... Done\n",
            "software-properties-common is already the newest version (0.96.24.32.11).\n",
            "The following package was automatically installed and is no longer required:\n",
            "  libnvidia-common-430\n",
            "Use 'sudo apt autoremove' to remove it.\n",
            "0 upgraded, 0 newly installed, 0 to remove and 7 not upgraded.\n",
            " Comprehensive Prolog implementation with extensive libraries and development tools.   Primarily targetted at teaching, RDF processing and web-related tasks, such as creating web services or analysing web content.\n",
            " More info: https://launchpad.net/~swi-prolog/+archive/ubuntu/stable\n",
            "Press [ENTER] to continue or Ctrl-c to cancel adding it.\n",
            "\n",
            "Ign:1 https://developer.download.nvidia.com/compute/cuda/repos/ubuntu1804/x86_64  InRelease\n",
            "Get:2 https://cloud.r-project.org/bin/linux/ubuntu bionic-cran35/ InRelease [3,626 B]\n",
            "Ign:3 https://developer.download.nvidia.com/compute/machine-learning/repos/ubuntu1804/x86_64  InRelease\n",
            "Hit:4 https://developer.download.nvidia.com/compute/cuda/repos/ubuntu1804/x86_64  Release\n",
            "Get:5 https://developer.download.nvidia.com/compute/machine-learning/repos/ubuntu1804/x86_64  Release [564 B]\n",
            "Get:6 https://developer.download.nvidia.com/compute/machine-learning/repos/ubuntu1804/x86_64  Release.gpg [833 B]\n",
            "Get:7 http://security.ubuntu.com/ubuntu bionic-security InRelease [88.7 kB]\n",
            "Get:8 http://ppa.launchpad.net/graphics-drivers/ppa/ubuntu bionic InRelease [21.3 kB]\n",
            "Hit:9 http://archive.ubuntu.com/ubuntu bionic InRelease\n",
            "Get:11 https://developer.download.nvidia.com/compute/machine-learning/repos/ubuntu1804/x86_64  Packages [30.4 kB]\n",
            "Get:12 http://archive.ubuntu.com/ubuntu bionic-updates InRelease [88.7 kB]\n",
            "Get:13 https://cloud.r-project.org/bin/linux/ubuntu bionic-cran35/ Packages [81.6 kB]\n",
            "Get:14 http://ppa.launchpad.net/marutter/c2d4u3.5/ubuntu bionic InRelease [15.4 kB]\n",
            "Get:15 http://security.ubuntu.com/ubuntu bionic-security/universe amd64 Packages [804 kB]\n",
            "Get:16 http://archive.ubuntu.com/ubuntu bionic-backports InRelease [74.6 kB]\n",
            "Get:17 http://ppa.launchpad.net/swi-prolog/stable/ubuntu bionic InRelease [15.4 kB]\n",
            "Get:18 http://archive.ubuntu.com/ubuntu bionic-updates/multiverse amd64 Packages [10.8 kB]\n",
            "Get:19 http://archive.ubuntu.com/ubuntu bionic-updates/universe amd64 Packages [1,335 kB]\n",
            "Get:20 http://ppa.launchpad.net/graphics-drivers/ppa/ubuntu bionic/main amd64 Packages [36.8 kB]\n",
            "Get:21 http://security.ubuntu.com/ubuntu bionic-security/restricted amd64 Packages [23.7 kB]\n",
            "Get:22 http://security.ubuntu.com/ubuntu bionic-security/multiverse amd64 Packages [6,779 B]\n",
            "Get:23 http://security.ubuntu.com/ubuntu bionic-security/main amd64 Packages [780 kB]\n",
            "Get:24 http://archive.ubuntu.com/ubuntu bionic-updates/restricted amd64 Packages [37.4 kB]\n",
            "Get:25 http://archive.ubuntu.com/ubuntu bionic-updates/main amd64 Packages [1,077 kB]\n",
            "Get:26 http://ppa.launchpad.net/marutter/c2d4u3.5/ubuntu bionic/main Sources [1,752 kB]\n",
            "Get:27 http://archive.ubuntu.com/ubuntu bionic-backports/universe amd64 Packages [4,241 B]\n",
            "Get:28 http://ppa.launchpad.net/marutter/c2d4u3.5/ubuntu bionic/main amd64 Packages [845 kB]\n",
            "Get:29 http://ppa.launchpad.net/swi-prolog/stable/ubuntu bionic/main amd64 Packages [1,491 B]\n",
            "Fetched 7,135 kB in 4s (1,661 kB/s)\n",
            "Reading package lists... Done\n",
            "Hit:1 https://cloud.r-project.org/bin/linux/ubuntu bionic-cran35/ InRelease\n",
            "Ign:2 https://developer.download.nvidia.com/compute/cuda/repos/ubuntu1804/x86_64  InRelease\n",
            "Ign:3 https://developer.download.nvidia.com/compute/machine-learning/repos/ubuntu1804/x86_64  InRelease\n",
            "Hit:4 https://developer.download.nvidia.com/compute/cuda/repos/ubuntu1804/x86_64  Release\n",
            "Hit:5 https://developer.download.nvidia.com/compute/machine-learning/repos/ubuntu1804/x86_64  Release\n",
            "Hit:7 http://ppa.launchpad.net/graphics-drivers/ppa/ubuntu bionic InRelease\n",
            "Hit:8 http://security.ubuntu.com/ubuntu bionic-security InRelease\n",
            "Hit:9 http://archive.ubuntu.com/ubuntu bionic InRelease\n",
            "Hit:11 http://archive.ubuntu.com/ubuntu bionic-updates InRelease\n",
            "Hit:12 http://ppa.launchpad.net/marutter/c2d4u3.5/ubuntu bionic InRelease\n",
            "Hit:13 http://archive.ubuntu.com/ubuntu bionic-backports InRelease\n",
            "Hit:14 http://ppa.launchpad.net/swi-prolog/stable/ubuntu bionic InRelease\n",
            "Reading package lists... Done\n",
            "Reading package lists... Done\n",
            "Building dependency tree       \n",
            "Reading state information... Done\n",
            "The following package was automatically installed and is no longer required:\n",
            "  libnvidia-common-430\n",
            "Use 'sudo apt autoremove' to remove it.\n",
            "The following additional packages will be installed:\n",
            "  libbsd-dev libedit-dev libgmp-dev libgmpxx4ldbl libncursesw5-dev\n",
            "  libossp-uuid16 swi-prolog-nox swi-prolog-x\n",
            "Suggested packages:\n",
            "  gmp-doc libgmp10-doc libmpfr-dev ncurses-doc uuid swi-prolog-doc prolog-el\n",
            "The following NEW packages will be installed:\n",
            "  libbsd-dev libedit-dev libgmp-dev libgmpxx4ldbl libncursesw5-dev\n",
            "  libossp-uuid16 swi-prolog swi-prolog-nox swi-prolog-x\n",
            "0 upgraded, 9 newly installed, 0 to remove and 63 not upgraded.\n",
            "Need to get 6,664 kB of archives.\n",
            "After this operation, 34.7 MB of additional disk space will be used.\n",
            "Get:1 http://archive.ubuntu.com/ubuntu bionic/main amd64 libbsd-dev amd64 0.8.7-1 [150 kB]\n",
            "Get:2 http://ppa.launchpad.net/swi-prolog/stable/ubuntu bionic/main amd64 swi-prolog-nox amd64 8.0.3-1-gcbd8b3b92-bionicppa2 [3,723 kB]\n",
            "Get:3 http://archive.ubuntu.com/ubuntu bionic/main amd64 libedit-dev amd64 3.1-20170329-1 [99.1 kB]\n",
            "Get:4 http://archive.ubuntu.com/ubuntu bionic/main amd64 libgmpxx4ldbl amd64 2:6.1.2+dfsg-2 [8,964 B]\n",
            "Get:5 http://archive.ubuntu.com/ubuntu bionic/main amd64 libgmp-dev amd64 2:6.1.2+dfsg-2 [316 kB]\n",
            "Get:6 http://archive.ubuntu.com/ubuntu bionic-updates/main amd64 libncursesw5-dev amd64 6.1-1ubuntu1.18.04 [199 kB]\n",
            "Get:7 http://archive.ubuntu.com/ubuntu bionic/universe amd64 libossp-uuid16 amd64 1.6.2-1.5build4 [29.0 kB]\n",
            "Get:8 http://ppa.launchpad.net/swi-prolog/stable/ubuntu bionic/main amd64 swi-prolog-x amd64 8.0.3-1-gcbd8b3b92-bionicppa2 [2,110 kB]\n",
            "Get:9 http://ppa.launchpad.net/swi-prolog/stable/ubuntu bionic/main amd64 swi-prolog amd64 8.0.3-1-gcbd8b3b92-bionicppa2 [27.3 kB]\n",
            "Fetched 6,664 kB in 3s (2,034 kB/s)\n",
            "debconf: unable to initialize frontend: Dialog\n",
            "debconf: (No usable dialog-like program is installed, so the dialog based frontend cannot be used. at /usr/share/perl5/Debconf/FrontEnd/Dialog.pm line 76, <> line 9.)\n",
            "debconf: falling back to frontend: Readline\n",
            "debconf: unable to initialize frontend: Readline\n",
            "debconf: (This frontend requires a controlling tty.)\n",
            "debconf: falling back to frontend: Teletype\n",
            "dpkg-preconfigure: unable to re-open stdin: \n",
            "Selecting previously unselected package libbsd-dev:amd64.\n",
            "(Reading database ... 145674 files and directories currently installed.)\n",
            "Preparing to unpack .../0-libbsd-dev_0.8.7-1_amd64.deb ...\n",
            "Unpacking libbsd-dev:amd64 (0.8.7-1) ...\n",
            "Selecting previously unselected package libedit-dev:amd64.\n",
            "Preparing to unpack .../1-libedit-dev_3.1-20170329-1_amd64.deb ...\n",
            "Unpacking libedit-dev:amd64 (3.1-20170329-1) ...\n",
            "Selecting previously unselected package libgmpxx4ldbl:amd64.\n",
            "Preparing to unpack .../2-libgmpxx4ldbl_2%3a6.1.2+dfsg-2_amd64.deb ...\n",
            "Unpacking libgmpxx4ldbl:amd64 (2:6.1.2+dfsg-2) ...\n",
            "Selecting previously unselected package libgmp-dev:amd64.\n",
            "Preparing to unpack .../3-libgmp-dev_2%3a6.1.2+dfsg-2_amd64.deb ...\n",
            "Unpacking libgmp-dev:amd64 (2:6.1.2+dfsg-2) ...\n",
            "Selecting previously unselected package libncursesw5-dev:amd64.\n",
            "Preparing to unpack .../4-libncursesw5-dev_6.1-1ubuntu1.18.04_amd64.deb ...\n",
            "Unpacking libncursesw5-dev:amd64 (6.1-1ubuntu1.18.04) ...\n",
            "Selecting previously unselected package libossp-uuid16:amd64.\n",
            "Preparing to unpack .../5-libossp-uuid16_1.6.2-1.5build4_amd64.deb ...\n",
            "Unpacking libossp-uuid16:amd64 (1.6.2-1.5build4) ...\n",
            "Selecting previously unselected package swi-prolog-nox.\n",
            "Preparing to unpack .../6-swi-prolog-nox_8.0.3-1-gcbd8b3b92-bionicppa2_amd64.deb ...\n",
            "Unpacking swi-prolog-nox (8.0.3-1-gcbd8b3b92-bionicppa2) ...\n",
            "Selecting previously unselected package swi-prolog-x.\n",
            "Preparing to unpack .../7-swi-prolog-x_8.0.3-1-gcbd8b3b92-bionicppa2_amd64.deb ...\n",
            "Unpacking swi-prolog-x (8.0.3-1-gcbd8b3b92-bionicppa2) ...\n",
            "Selecting previously unselected package swi-prolog.\n",
            "Preparing to unpack .../8-swi-prolog_8.0.3-1-gcbd8b3b92-bionicppa2_amd64.deb ...\n",
            "Unpacking swi-prolog (8.0.3-1-gcbd8b3b92-bionicppa2) ...\n",
            "Setting up libbsd-dev:amd64 (0.8.7-1) ...\n",
            "Setting up libossp-uuid16:amd64 (1.6.2-1.5build4) ...\n",
            "Setting up libncursesw5-dev:amd64 (6.1-1ubuntu1.18.04) ...\n",
            "Setting up libedit-dev:amd64 (3.1-20170329-1) ...\n",
            "Setting up libgmpxx4ldbl:amd64 (2:6.1.2+dfsg-2) ...\n",
            "Setting up libgmp-dev:amd64 (2:6.1.2+dfsg-2) ...\n",
            "Setting up swi-prolog-nox (8.0.3-1-gcbd8b3b92-bionicppa2) ...\n",
            "update-alternatives: using /usr/bin/swipl to provide /usr/bin/prolog (prolog) in auto mode\n",
            "Setting up swi-prolog-x (8.0.3-1-gcbd8b3b92-bionicppa2) ...\n",
            "Setting up swi-prolog (8.0.3-1-gcbd8b3b92-bionicppa2) ...\n",
            "Processing triggers for libc-bin (2.27-3ubuntu1) ...\n",
            "Processing triggers for man-db (2.8.3-2ubuntu0.1) ...\n"
          ],
          "name": "stdout"
        }
      ]
    },
    {
      "cell_type": "code",
      "metadata": {
        "id": "wEG7xB7GgGdm",
        "colab_type": "code",
        "outputId": "025c9f4d-562d-4b0f-8c54-3c9dadc4fcd6",
        "colab": {
          "base_uri": "https://localhost:8080/",
          "height": 89
        }
      },
      "source": [
        "#install pyswip\n",
        "!pip install pyswip"
      ],
      "execution_count": 3,
      "outputs": [
        {
          "output_type": "stream",
          "text": [
            "Collecting pyswip\n",
            "  Downloading https://files.pythonhosted.org/packages/e4/f3/2b1462c4379b089426dbedb29d8d903e63baf37857ccf6e87f168b786019/pyswip-0.2.9-py2.py3-none-any.whl\n",
            "Installing collected packages: pyswip\n",
            "Successfully installed pyswip-0.2.9\n"
          ],
          "name": "stdout"
        }
      ]
    },
    {
      "cell_type": "markdown",
      "metadata": {
        "colab_type": "text",
        "id": "YwVgPW316S3l"
      },
      "source": [
        "---"
      ]
    },
    {
      "cell_type": "markdown",
      "metadata": {
        "colab_type": "text",
        "id": "rhbCLdSqKUy2"
      },
      "source": [
        "# **Μέρος 1: Μελέτη των Metadata, Δημιουργία κόσμου και των βασικών queries.**\n"
      ]
    },
    {
      "cell_type": "code",
      "metadata": {
        "colab_type": "code",
        "id": "Z_f0xW6_tHhp",
        "outputId": "9cd56bf6-60d9-419f-a7aa-047177ae2636",
        "colab": {
          "base_uri": "https://localhost:8080/",
          "height": 360
        }
      },
      "source": [
        "# Η βιβλιοθήκη pandas είναι χρήσιμη για την εργασία με τέτοια δεδομένα\n",
        "import pandas as pd \n",
        "# Διάβασμα του αρχείου 'movie_metadata.csv' \n",
        "data = pd.read_csv(\"/content/drive/My Drive/Colab Notebooks/AI/Assignment 2/movie_metadata.csv\") \n",
        "#Στο csv υπαρχούν κελία με nan τιμές\n",
        "#Στις θέσεις αυτές βάζουμε 'UNK' πράγμα που  κάνουμε με την παρακάτω συνάρτηση\n",
        "data.fillna(\"UNK\", inplace=True)\n",
        "# Preview the first 5 lines of the loaded data \n",
        "data.shape\n",
        "\n",
        "data.head()"
      ],
      "execution_count": 4,
      "outputs": [
        {
          "output_type": "execute_result",
          "data": {
            "text/html": [
              "<div>\n",
              "<style scoped>\n",
              "    .dataframe tbody tr th:only-of-type {\n",
              "        vertical-align: middle;\n",
              "    }\n",
              "\n",
              "    .dataframe tbody tr th {\n",
              "        vertical-align: top;\n",
              "    }\n",
              "\n",
              "    .dataframe thead th {\n",
              "        text-align: right;\n",
              "    }\n",
              "</style>\n",
              "<table border=\"1\" class=\"dataframe\">\n",
              "  <thead>\n",
              "    <tr style=\"text-align: right;\">\n",
              "      <th></th>\n",
              "      <th>color</th>\n",
              "      <th>director_name</th>\n",
              "      <th>num_critic_for_reviews</th>\n",
              "      <th>duration</th>\n",
              "      <th>director_facebook_likes</th>\n",
              "      <th>actor_3_facebook_likes</th>\n",
              "      <th>actor_2_name</th>\n",
              "      <th>actor_1_facebook_likes</th>\n",
              "      <th>gross</th>\n",
              "      <th>genres</th>\n",
              "      <th>actor_1_name</th>\n",
              "      <th>movie_title</th>\n",
              "      <th>num_voted_users</th>\n",
              "      <th>cast_total_facebook_likes</th>\n",
              "      <th>actor_3_name</th>\n",
              "      <th>facenumber_in_poster</th>\n",
              "      <th>plot_keywords</th>\n",
              "      <th>movie_imdb_link</th>\n",
              "      <th>num_user_for_reviews</th>\n",
              "      <th>language</th>\n",
              "      <th>country</th>\n",
              "      <th>content_rating</th>\n",
              "      <th>budget</th>\n",
              "      <th>title_year</th>\n",
              "      <th>actor_2_facebook_likes</th>\n",
              "      <th>imdb_score</th>\n",
              "      <th>aspect_ratio</th>\n",
              "      <th>movie_facebook_likes</th>\n",
              "    </tr>\n",
              "  </thead>\n",
              "  <tbody>\n",
              "    <tr>\n",
              "      <th>0</th>\n",
              "      <td>Color</td>\n",
              "      <td>James Cameron</td>\n",
              "      <td>723</td>\n",
              "      <td>178</td>\n",
              "      <td>0</td>\n",
              "      <td>855</td>\n",
              "      <td>Joel David Moore</td>\n",
              "      <td>1000</td>\n",
              "      <td>7.60506e+08</td>\n",
              "      <td>Action|Adventure|Fantasy|Sci-Fi</td>\n",
              "      <td>CCH Pounder</td>\n",
              "      <td>Avatar</td>\n",
              "      <td>886204</td>\n",
              "      <td>4834</td>\n",
              "      <td>Wes Studi</td>\n",
              "      <td>0</td>\n",
              "      <td>avatar|future|marine|native|paraplegic</td>\n",
              "      <td>http://www.imdb.com/title/tt0499549/?ref_=fn_t...</td>\n",
              "      <td>3054</td>\n",
              "      <td>English</td>\n",
              "      <td>USA</td>\n",
              "      <td>PG-13</td>\n",
              "      <td>2.37e+08</td>\n",
              "      <td>2009</td>\n",
              "      <td>936</td>\n",
              "      <td>7.9</td>\n",
              "      <td>1.78</td>\n",
              "      <td>33000</td>\n",
              "    </tr>\n",
              "    <tr>\n",
              "      <th>1</th>\n",
              "      <td>Color</td>\n",
              "      <td>Gore Verbinski</td>\n",
              "      <td>302</td>\n",
              "      <td>169</td>\n",
              "      <td>563</td>\n",
              "      <td>1000</td>\n",
              "      <td>Orlando Bloom</td>\n",
              "      <td>40000</td>\n",
              "      <td>3.09404e+08</td>\n",
              "      <td>Action|Adventure|Fantasy</td>\n",
              "      <td>Johnny Depp</td>\n",
              "      <td>Pirates of the Caribbean: At World's End</td>\n",
              "      <td>471220</td>\n",
              "      <td>48350</td>\n",
              "      <td>Jack Davenport</td>\n",
              "      <td>0</td>\n",
              "      <td>goddess|marriage ceremony|marriage proposal|pi...</td>\n",
              "      <td>http://www.imdb.com/title/tt0449088/?ref_=fn_t...</td>\n",
              "      <td>1238</td>\n",
              "      <td>English</td>\n",
              "      <td>USA</td>\n",
              "      <td>PG-13</td>\n",
              "      <td>3e+08</td>\n",
              "      <td>2007</td>\n",
              "      <td>5000</td>\n",
              "      <td>7.1</td>\n",
              "      <td>2.35</td>\n",
              "      <td>0</td>\n",
              "    </tr>\n",
              "    <tr>\n",
              "      <th>2</th>\n",
              "      <td>Color</td>\n",
              "      <td>Sam Mendes</td>\n",
              "      <td>602</td>\n",
              "      <td>148</td>\n",
              "      <td>0</td>\n",
              "      <td>161</td>\n",
              "      <td>Rory Kinnear</td>\n",
              "      <td>11000</td>\n",
              "      <td>2.00074e+08</td>\n",
              "      <td>Action|Adventure|Thriller</td>\n",
              "      <td>Christoph Waltz</td>\n",
              "      <td>Spectre</td>\n",
              "      <td>275868</td>\n",
              "      <td>11700</td>\n",
              "      <td>Stephanie Sigman</td>\n",
              "      <td>1</td>\n",
              "      <td>bomb|espionage|sequel|spy|terrorist</td>\n",
              "      <td>http://www.imdb.com/title/tt2379713/?ref_=fn_t...</td>\n",
              "      <td>994</td>\n",
              "      <td>English</td>\n",
              "      <td>UK</td>\n",
              "      <td>PG-13</td>\n",
              "      <td>2.45e+08</td>\n",
              "      <td>2015</td>\n",
              "      <td>393</td>\n",
              "      <td>6.8</td>\n",
              "      <td>2.35</td>\n",
              "      <td>85000</td>\n",
              "    </tr>\n",
              "    <tr>\n",
              "      <th>3</th>\n",
              "      <td>Color</td>\n",
              "      <td>Christopher Nolan</td>\n",
              "      <td>813</td>\n",
              "      <td>164</td>\n",
              "      <td>22000</td>\n",
              "      <td>23000</td>\n",
              "      <td>Christian Bale</td>\n",
              "      <td>27000</td>\n",
              "      <td>4.48131e+08</td>\n",
              "      <td>Action|Thriller</td>\n",
              "      <td>Tom Hardy</td>\n",
              "      <td>The Dark Knight Rises</td>\n",
              "      <td>1144337</td>\n",
              "      <td>106759</td>\n",
              "      <td>Joseph Gordon-Levitt</td>\n",
              "      <td>0</td>\n",
              "      <td>deception|imprisonment|lawlessness|police offi...</td>\n",
              "      <td>http://www.imdb.com/title/tt1345836/?ref_=fn_t...</td>\n",
              "      <td>2701</td>\n",
              "      <td>English</td>\n",
              "      <td>USA</td>\n",
              "      <td>PG-13</td>\n",
              "      <td>2.5e+08</td>\n",
              "      <td>2012</td>\n",
              "      <td>23000</td>\n",
              "      <td>8.5</td>\n",
              "      <td>2.35</td>\n",
              "      <td>164000</td>\n",
              "    </tr>\n",
              "    <tr>\n",
              "      <th>4</th>\n",
              "      <td>UNK</td>\n",
              "      <td>Doug Walker</td>\n",
              "      <td>UNK</td>\n",
              "      <td>UNK</td>\n",
              "      <td>131</td>\n",
              "      <td>UNK</td>\n",
              "      <td>Rob Walker</td>\n",
              "      <td>131</td>\n",
              "      <td>UNK</td>\n",
              "      <td>Documentary</td>\n",
              "      <td>Doug Walker</td>\n",
              "      <td>Star Wars: Episode VII - The Force Awakens    ...</td>\n",
              "      <td>8</td>\n",
              "      <td>143</td>\n",
              "      <td>UNK</td>\n",
              "      <td>0</td>\n",
              "      <td>UNK</td>\n",
              "      <td>http://www.imdb.com/title/tt5289954/?ref_=fn_t...</td>\n",
              "      <td>UNK</td>\n",
              "      <td>UNK</td>\n",
              "      <td>UNK</td>\n",
              "      <td>UNK</td>\n",
              "      <td>UNK</td>\n",
              "      <td>UNK</td>\n",
              "      <td>12</td>\n",
              "      <td>7.1</td>\n",
              "      <td>UNK</td>\n",
              "      <td>0</td>\n",
              "    </tr>\n",
              "  </tbody>\n",
              "</table>\n",
              "</div>"
            ],
            "text/plain": [
              "   color      director_name  ... aspect_ratio movie_facebook_likes\n",
              "0  Color      James Cameron  ...         1.78                33000\n",
              "1  Color     Gore Verbinski  ...         2.35                    0\n",
              "2  Color         Sam Mendes  ...         2.35                85000\n",
              "3  Color  Christopher Nolan  ...         2.35               164000\n",
              "4    UNK        Doug Walker  ...          UNK                    0\n",
              "\n",
              "[5 rows x 28 columns]"
            ]
          },
          "metadata": {
            "tags": []
          },
          "execution_count": 4
        }
      ]
    },
    {
      "cell_type": "code",
      "metadata": {
        "colab_type": "code",
        "id": "dG4-a9_FzRRd",
        "colab": {}
      },
      "source": [
        "from pyswip import Prolog"
      ],
      "execution_count": 0,
      "outputs": []
    },
    {
      "cell_type": "code",
      "metadata": {
        "colab_type": "code",
        "id": "ceBtnUMn7Mwm",
        "colab": {}
      },
      "source": [
        "def clean_text(text):\n",
        "    text = text.replace(u'\\xa0', u'')\n",
        "    text = text.replace(u\"'\", u'')\n",
        "    text = text.replace(u'\"', u'')\n",
        "    return text"
      ],
      "execution_count": 0,
      "outputs": []
    },
    {
      "cell_type": "code",
      "metadata": {
        "id": "l8e_v_4iPfy0",
        "colab_type": "code",
        "outputId": "bdf4ceb6-a520-4766-e058-1e3fa8a8cb93",
        "colab": {
          "base_uri": "https://localhost:8080/",
          "height": 35
        }
      },
      "source": [
        "#create World\n",
        "#Ορίζουμε τον κόσμο μας\n",
        "prolog = Prolog()\n",
        "#και σβήνουμε ότι υπήρχε αποθηκευμένο από πρίν\n",
        "prolog.query(\"make\")\n"
      ],
      "execution_count": 7,
      "outputs": [
        {
          "output_type": "execute_result",
          "data": {
            "text/plain": [
              "<generator object Prolog._QueryWrapper.__call__ at 0x7fd8ccb407d8>"
            ]
          },
          "metadata": {
            "tags": []
          },
          "execution_count": 7
        }
      ]
    },
    {
      "cell_type": "code",
      "metadata": {
        "colab_type": "code",
        "id": "8-fmdlMxxBzx",
        "colab": {}
      },
      "source": [
        "#Για κάθε row του πίνακα φτιάχνουμε τα κατηγοτήματα που θέλουμε να αποθηκέυσουμε\n",
        "#αρχικά σε μια λίστα με το όνομα literals\n",
        "literals = []\n",
        "movie_score = {}\n",
        "my_movie_score = {}\n",
        "for row in data.itertuples(index=True, name='Pandas'):\n",
        "    \n",
        "    movie_title = clean_text(getattr(row, 'movie_title'))\n",
        "\n",
        "    genres = clean_text(getattr(row, 'genres'))\n",
        "    genres = genres.split('|')\n",
        "\n",
        "    director = clean_text(getattr(row, 'director_name'))\n",
        "\n",
        "    movie_score[movie_title] = 0\n",
        "    my_movie_score[movie_title] = 0\n",
        "\n",
        "    plot_keywords = clean_text(getattr(row, 'plot_keywords'))\n",
        "    plot_keywords = plot_keywords.split('|')\n",
        "\n",
        "    actor1 = clean_text(getattr(row, 'actor_1_name'))\n",
        "\n",
        "    actor2 = clean_text(getattr(row, 'actor_2_name'))\n",
        "\n",
        "    actor3 = clean_text(getattr(row, 'actor_3_name'))\n",
        "\n",
        "    color = clean_text(getattr(row, 'color'))\n",
        "\n",
        "    language = clean_text(getattr(row, 'language'))\n",
        "    \n",
        "    if movie_title != \"UNK\":\n",
        "        if director != \"UNK\":\n",
        "            literals.append(\"director('\"+ movie_title +\"','\" + director + \"')\")\n",
        "        for genre in genres:\n",
        "            literals.append(\"genre('\"+ movie_title +\"','\"+ genre +\"')\")\n",
        "        for plot_keyword in plot_keywords:\n",
        "            literals.append(\"keywords('\" + movie_title + \"','\" + plot_keyword + \"')\")\n",
        "\n",
        "        if actor1 != \"UNK\":\n",
        "            literals.append(\"actor1('\" + movie_title + \"','\" + actor1 + \"')\")\n",
        "            literals.append(\"actor('\" + movie_title + \"','\" + actor1 + \"')\")\n",
        "        if actor2 != \"UNK\":\n",
        "            literals.append(\"actor2('\" + movie_title + \"','\" + actor2 + \"')\")\n",
        "            literals.append(\"actor('\" + movie_title + \"','\" + actor2 + \"')\")\n",
        "        if actor3 != \"UNK\":\n",
        "            literals.append(\"actor3('\" + movie_title + \"','\" + actor3 + \"')\")\n",
        "            literals.append(\"actor('\" + movie_title + \"','\" + actor3 + \"')\")\n",
        "\n",
        "        if color != \"UNK\":\n",
        "            literals.append(\"color('\" + movie_title + \"','\" + color + \"')\")\n",
        "        if language != \"UNK\":\n",
        "            literals.append(\"language('\" + movie_title + \"','\" + language + \"')\")\n",
        "        \n",
        "        \n",
        "\n",
        "#Η Prolog θέλει τα κατηγορήματά της με την σειρά \n",
        "literals.sort()\n",
        "for literal in literals:\n",
        "    prolog.assertz(literal)\n",
        "\n",
        "#Επίσης μπορούμε να κάνουμε consult ένα έτοιμό αρχίο στον κόσμο όπως γίνεται παρακάτω\n",
        "# prolog.consult(\"filename.pl\")"
      ],
      "execution_count": 0,
      "outputs": []
    },
    {
      "cell_type": "markdown",
      "metadata": {
        "id": "BGp5GnkLQbBy",
        "colab_type": "text"
      },
      "source": [
        "\n",
        "Πρέπει να βρούμε όλες τις ταινίες με:\n",
        "\n",
        "\n",
        "1.  Αρκετά κοινό θέμα (κάποιες λέξεις σχετικά με το genre κοινές)\n",
        "2.  Σχετικά κοινό θέμα (κάποιες λιγότερες λέξεις σχετικά με το genre κοινές π.χ. 3)\n",
        "3.  Λιγότερο κοινό θέμα (λίγες λέξεις σχετικές με το genre κοινές π.χ. 1)\n",
        "4.  Κοινός σκηνοθέτης\n",
        "5.  Ακριβώς ίδια πλοκή (κάποιες λέξεις κλειδιά της πλοκής να είναι κοινές)\n",
        "6.  Σχετικά ίδια πλοκή (κάποιες λιγότερες λέξεις κλειδιά κοινές)\n",
        "7.  Ίδιους τους βασικούς ηθοποιούς (και τους 3)\n",
        "8.  Αρκετά ίδιους βασικούς ηθοποιούς (ορισμένους βασικούς ηθοποιούς κοινούς π.χ. 2)\n",
        "9.  Σχετικά ίδιους ηθοποιούς (π.χ. 1 από τους 3)\n",
        "10.  Ίδια γλώσσα\n",
        "11.  Είναι έγχρωμες ή ασπρόμαυρες\n",
        "\n",
        "\n"
      ]
    },
    {
      "cell_type": "code",
      "metadata": {
        "id": "mW1LxETGM19L",
        "colab_type": "code",
        "colab": {}
      },
      "source": [
        "#1) Find movies with very common theme:\n",
        "prolog.assertz(\"\"\"find_movies_1(X,Y) :- genre(X,A), genre(X,B), genre(X,C), genre(X,D),genre(Y,A), genre(Y,B), genre(Y,C), genre(Y,D),A\\=B, A\\=C, A\\=D,B\\=C, B\\=D, C\\=D,X\\=Y\"\"\")\n",
        "\n",
        "#2) Find movies with relatively common theme:\n",
        "prolog.assertz(\"\"\"find_movies_2(X,Y) :- genre(X,A), genre(X,B), genre(X,C),genre(Y,A), genre(Y,B), genre(Y,C), A\\=B, A\\=C, B\\=C,  X\\=Y\"\"\")\n",
        "\n",
        "#3) Find movies with less common theme:\n",
        "prolog.assertz(\"\"\"find_movies_3(X,Y) :- genre(X,A),  genre(Y,A), X\\=Y\"\"\")\n",
        "\n",
        "#4) Find movies with the same director:\n",
        "prolog.assertz(\"find_movies_4(X,Y) :- director(X,Z), director(Y, Z),X\\=Y\")\n",
        "\n",
        "#5) Find movies with 4 same keywords:\n",
        "prolog.assertz(\"\"\"find_movies_5(X,Y) :- keywords(X,A), keywords(X,B), keywords(X,C), keywords(X,D),keywords(Y,A), keywords(Y,B), keywords(Y,C), keywords(Y,D),A\\=B, A\\=C, A\\=D,B\\=C, B\\=D,C\\=D,X\\=Y\"\"\")\n",
        "\n",
        "#6) Find movies with 2 same keywords:\n",
        "prolog.assertz(\"\"\"find_movies_6(X,Y) :- keywords(X,A), keywords(X,B),keywords(Y,A), keywords(Y,B),A\\=B,X\\=Y\"\"\")\n",
        "\n",
        "#7) Find movies with the 3 main actors common:\n",
        "prolog.assertz(\"\"\"find_movies_7(X,Y) :- actor(X,A), actor(X,B), actor(X,C),actor(Y,A), actor(Y,B), actor(Y,C), A\\=B, A\\=C,B\\=C, X\\=Y\"\"\")\n",
        "\n",
        "#8) Find movies with only 2 actors common:\n",
        "prolog.assertz(\"\"\"find_movies_8(X,Y) :- actor(X,A), actor(X,B),actor(Y,A), actor(Y,B),A\\=B, X\\=Y\"\"\")\n",
        "\n",
        "#9) Find movies with only 1 actor common:\n",
        "prolog.assertz(\"\"\"find_movies_9(X,Y) :- actor(X,A), actor(Y,A),X\\=Y\"\"\")\n",
        "\n",
        "#10) Find movies with the same language:\n",
        "prolog.assertz(\"find_movies_10(X,Y) :- language(X,L), language(Y,L), X\\=Y\")\n",
        "\n",
        "#11) Find movies that have the same color:\n",
        "prolog.assertz(\"find_movies_11(X,Y) :- color(X, C), color(Y, C), X\\=Y\")"
      ],
      "execution_count": 0,
      "outputs": []
    },
    {
      "cell_type": "code",
      "metadata": {
        "id": "m4ZFkZZ3QaE5",
        "colab_type": "code",
        "colab": {
          "base_uri": "https://localhost:8080/",
          "height": 433
        },
        "outputId": "9f75bb56-ae88-4329-d592-f1c377e9feef"
      },
      "source": [
        "#1)\n",
        "\n",
        "counter = 0\n",
        "output = set()\n",
        "for soln in prolog.query(\"find_movies_1(X,Y), X='Avatar'\"):\n",
        "    counter += 1\n",
        "    output.add(soln['Y'])\n",
        "print(output)\n",
        "print(counter, len(output))\n",
        "\n",
        "#2)\n",
        "\n",
        "counter = 0\n",
        "output = set()\n",
        "for soln in prolog.query(\"find_movies_2(X,Y), X='Avatar'\"):\n",
        "    counter += 1\n",
        "    output.add(soln['Y'])\n",
        "print(output)\n",
        "print(counter)\n",
        "\n",
        "#3)\n",
        "\n",
        "counter = 0\n",
        "output = set()\n",
        "for soln in prolog.query(\"find_movies_3(X,Y), X='Iron Man'\"):\n",
        "    counter += 1\n",
        "    output.add(soln['Y'])\n",
        "print(output)\n",
        "print(counter, len(output))\n",
        "\n",
        "#4)\n",
        "\n",
        "counter = 0\n",
        "output = set()\n",
        "for soln in prolog.query(\"find_movies_4(X,Y), X='Iron Man'\"):\n",
        "    counter += 1\n",
        "    output.add(soln['Y'])\n",
        "print(output)\n",
        "print(counter, len(output))\n",
        "\n",
        "#5)\n",
        "\n",
        "counter = 0\n",
        "output = set()\n",
        "for soln in prolog.query(\"find_movies_5(X,Y), X='American Wedding'\"):\n",
        "    counter += 1\n",
        "    output.add(soln['Y'])\n",
        "print(output)\n",
        "print(counter, len(output))\n",
        "\n",
        "#6)\n",
        "\n",
        "counter = 0\n",
        "output = set()\n",
        "for soln in prolog.query(\"find_movies_6(X,Y), X='Avengers: Age of Ultron'\"):\n",
        "    counter += 1\n",
        "    output.add(soln['Y'])\n",
        "print(output)\n",
        "print(counter, len(output))\n",
        "\n",
        "#7)\n",
        "\n",
        "counter = 0\n",
        "output = set()\n",
        "for soln in prolog.query(\"find_movies_7(X,Y), X='c'\"):\n",
        "    counter += 1\n",
        "    output.add(soln['Y'])\n",
        "print(output)\n",
        "print(counter, len(output))\n",
        "\n",
        "#8)\n",
        "\n",
        "output = set()\n",
        "counter = 0\n",
        "for soln in prolog.query(\"find_movies_8(X,Y), X='Iron Man'\"):\n",
        "    counter += 1\n",
        "    output.add(soln['Y'])\n",
        "print(output)\n",
        "print(counter, len(output))\n",
        "\n",
        "#9)\n",
        "counter = 0\n",
        "output = set()\n",
        "for soln in prolog.query(\"find_movies_9(X,Y), X='Iron Man'\"):\n",
        "    counter += 1\n",
        "    output.add(soln['Y'])\n",
        "print(output)\n",
        "print(counter, len(output))\n",
        "\n",
        "#10)\n",
        "counter = 0\n",
        "output = set()\n",
        "for soln in prolog.query(\"find_movies_10(X,Y), X='Iron Man'\"):\n",
        "    counter += 1\n",
        "    output.add(soln['Y'])\n",
        "print(output, len(output))\n",
        "print(counter, len(output))\n",
        "#11)\n",
        "counter = 0\n",
        "output = set()\n",
        "for soln in prolog.query(\"find_movies_11(X,Y), X='Iron Man'\"):\n",
        "    counter += 1\n",
        "    output.add(soln['Y'])\n",
        "print(output)\n",
        "print(counter, len(output))"
      ],
      "execution_count": 61,
      "outputs": [
        {
          "output_type": "stream",
          "text": [
            "{'Atlantis: The Lost Empire', 'Beastmaster 2: Through the Portal of Time', 'Man of Steel', 'Race to Witch Mountain', 'Destiny', 'Stargate: The Ark of Truth', 'X-Men Origins: Wolverine', 'X-Men: The Last Stand', 'Men in Black 3', 'TMNT', 'The League of Extraordinary Gentlemen', 'Star Wars: Episode III - Revenge of the Sith', 'Teenage Mutant Ninja Turtles III', 'Underworld: Rise of the Lycans', 'Underworld: Evolution', 'X-Men: Days of Future Past', 'G-Force', 'Star Wars: Episode VI - Return of the Jedi', 'The Helix... Loaded', 'Star Wars: Episode II - Attack of the Clones', 'Star Wars: Episode V - The Empire Strikes Back', 'Hellboy II: The Golden Army', 'Final Fantasy: The Spirits Within', 'Blade: Trinity', 'Mortal Kombat: Annihilation', 'The Omega Code', 'Pokémon 3: The Movie', 'Journey to the Center of the Earth', 'X-Men 2', 'Star Wars: Episode IV - A New Hope', 'Journey 2: The Mysterious Island', 'The Amazing Spider-Man 2', 'Dragonball: Evolution', 'Star Wars: Episode I - The Phantom Menace', 'Star Wars: The Clone Wars            ', 'Aqua Teen Hunger Force Colon Movie Film for Theaters', 'Men in Black II', 'Highlander: Endgame', 'Reign of Fire', 'Megiddo: The Omega Code 2', 'Mortal Kombat', 'Zathura: A Space Adventure'}\n",
            "1008 42\n",
            "{'Howard the Duck', '2012', 'The Last Legion', '20,000 Leagues Under the Sea', 'The Phantom', 'Moonraker', 'Dungeons & Dragons: Wrath of the Dragon God', 'Monsters vs. Aliens', 'Beowulf', 'Men in Black 3', 'TMNT', 'Steamboy', 'The Postman', 'Sky Captain and the World of Tomorrow', 'The Princess and the Cobbler', 'Spider-Man 2', 'Journey to Saturn', 'The Forbidden Kingdom', 'The Lost World: Jurassic Park', 'Space Battleship Yamato', 'Krull', 'Armageddon', 'G-Force', 'Jurassic Park III', 'Wing Commander', 'Edge of Tomorrow', 'The Helix... Loaded', 'The Day After Tomorrow', 'Spy Kids', 'Waterworld', 'Dragonslayer', 'X-Men: First Class', 'Phantasm II', 'Batman v Superman: Dawn of Justice', 'Stargate SG-1            ', 'Hellboy II: The Golden Army', 'The Lord of the Rings: The Two Towers', 'Final Fantasy: The Spirits Within', 'Six-String Samurai', 'Blade: Trinity', 'Mad Max', 'The Host', 'The Omega Code', 'Pirates of the Caribbean: On Stranger Tides', 'Oblivion', 'The Wolverine', 'Mars Needs Moms', 'The Beastmaster', 'Space Jam', 'Journey 2: The Mysterious Island', 'Home', 'Reindeer Games', 'Gods of Egypt', 'Jupiter Ascending', 'World War Z', 'Transformers: Dark of the Moon', 'The Incredible Hulk', 'Legend of the Guardians: The Owls of GaHoole', 'Agent Cody Banks 2: Destination London', 'Green Lantern', 'The Brothers Grimm', 'Mortal Kombat', 'Thor', 'The Golden Child', 'After Earth', 'Deep Rising', 'Jimmy Neutron: Boy Genius', 'Man of Steel', 'Beastmaster 2: Through the Portal of Time', 'Lockout', 'Race to Witch Mountain', 'Destiny', 'Fantastic Four', 'The Lord of the Rings: The Return of the King', 'Mighty Joe Young', 'Superman IV: The Quest for Peace', 'The Lord of the Rings: The Fellowship of the Ring', 'X-Men Origins: Wolverine', 'Star Wars: Episode III - Revenge of the Sith', 'Inspector Gadget', 'Underworld: Rise of the Lycans', 'Clockstoppers', 'Underworld: Evolution', 'The Chronicles of Riddick', 'Captain America: The First Avenger', 'Captain America: The Winter Soldier', 'Clash of the Titans', 'Hellboy', 'Seventh Son', 'Dylan Dog: Dead of Night', 'Beneath the Planet of the Apes', 'In the Name of the King: A Dungeon Siege Tale', 'Maleficent', 'Red Sonja', 'Mystery Men', 'The Legend of Hercules', 'The Amazing Spider-Man', 'The Spy Who Loved Me', 'Mortal Kombat: Annihilation', 'TRON: Legacy', 'Teenage Mutant Ninja Turtles', 'Puss in Boots', 'Baahubali: The Beginning', 'Xi you ji zhi: Sun Wukong san da Baigu Jing', 'Lost in Space', 'Titan A.E.', 'Ice Age: The Meltdown', 'Star Wars: Episode IV - A New Hope', 'Superman Returns', 'Bill & Teds Bogus Journey', 'Mad Max: Fury Road', 'Aliens in the Attic', 'City of Ember', 'Spy Kids 3-D: Game Over', 'Transformers: Revenge of the Fallen', 'Digimon: The Movie', 'The Mummy Returns', 'Dragonball: Evolution', 'Prince of Persia: The Sands of Time', 'Star Wars: Episode I - The Phantom Menace', 'Spy Kids 2: Island of Lost Dreams', 'Looney Tunes: Back in Action', 'Star Wars: The Clone Wars            ', 'Indiana Jones and the Kingdom of the Crystal Skull', 'Snow White and the Huntsman', 'Star Trek Into Darkness', 'Cloverfield', 'Heavy Metal', 'Highlander: Endgame', 'Reign of Fire', 'DragonHeart', 'Thor: The Dark World', 'Eragon', '47 Ronin', 'X-Men: Apocalypse', 'Ant-Man', 'Dark City', 'Highlander: The Final Dimension', 'Transformers: Age of Extinction', 'Pirates of the Caribbean: The Curse of the Black Pearl', 'Conan the Destroyer', 'The Lego Movie', 'Doom', 'Zathura: A Space Adventure', 'Atlantis: The Lost Empire', 'X-Men', 'The Island', 'Star Trek: Insurrection', 'Ink', 'Iron Man 2', 'Iron Man 3', 'Small Soldiers', 'The Last Witch Hunter', 'Star Trek V: The Final Frontier', 'The Avengers', 'Timeline', 'Aliens', 'The Adventures of Sharkboy and Lavagirl 3-D', 'Congo', 'The League of Extraordinary Gentlemen', 'Teenage Mutant Ninja Turtles III', 'Daredevil            ', 'Jumper', 'Star Trek: Generations', 'Cirque du Freak: The Vampires Assistant', 'Captain America: Civil War', 'Star Trek: Nemesis', 'Warcraft', 'The Core', 'The Ice Pirates', 'Jurassic World', 'How to Train Your Dragon 2', 'Fantastic 4: Rise of the Silver Surfer', 'Godzilla Resurgence', 'Terminator Genisys', 'Star Wars: Episode VI - Return of the Jedi', 'The Iron Giant', 'John Carter', 'Spider-Man', 'Zoom', 'Big Hero 6', 'Pokémon 3: The Movie', 'Ultramarines: A Warhammer 40,000 Movie', 'X-Men 2', 'G.I. Joe: Retaliation', 'The Mummy: Tomb of the Dragon Emperor', 'Independence Day', 'The Amazing Spider-Man 2', 'Teenage Mutant Ninja Turtles: Out of the Shadows', 'George and the Dragon', 'Star Trek: First Contact', 'Aqua Teen Hunger Force Colon Movie Film for Theaters', 'The Last Airbender', 'Tomorrowland', 'Obitaemyy ostrov', 'The 5th Wave', 'Krrish', 'Barbarella', 'The Sorcerers Apprentice', 'I, Frankenstein', 'Megiddo: The Omega Code 2', 'Muppets from Space', 'Alpha and Omega 4: The Legend of the Saw Toothed Cave', 'Superman', 'Priest', 'Suicide Squad', 'The Huntsman: Winters War', 'Godzilla 2000', 'Pirates of the Caribbean: At Worlds End', 'Thunderbirds', '9', 'Star Trek VI: The Undiscovered Country', 'G.I. Joe: The Rise of Cobra', 'Pacific Rim', 'Star Trek', 'BloodRayne', 'Lara Croft: Tomb Raider', 'Osmosis Jones', 'Stargate: The Ark of Truth', 'Babylon A.D.', 'Star Trek Beyond', 'Star Trek II: The Wrath of Khan', 'Terminator Salvation', 'The Fifth Element', 'Planet of the Apes', 'Lara Croft Tomb Raider: The Cradle of Life', 'Transformers', 'Pirates of the Caribbean: Dead Mans Chest', 'X-Men: The Last Stand', 'Ghostbusters', 'Mad Max Beyond Thunderdome', 'Highlander', 'Dune', 'Batman Forever', 'A Sound of Thunder', 'X-Men: Days of Future Past', 'Predators', 'In the Name of the King: The Last Job', 'The Time Machine', 'Super Mario Bros.', 'Mad Max 2: The Road Warrior', 'Flash Gordon', 'Independence Day: Resurgence', 'Logans Run', 'Star Wars: Episode II - Attack of the Clones', 'Last Action Hero', 'Star Wars: Episode V - The Empire Strikes Back', 'The Scorpion King', 'Dawn of the Planet of the Apes', 'Warriors of Virtue', 'Indiana Jones and the Last Crusade', 'Wrath of the Titans', 'I Am Number Four', 'Superman II', 'Lilo & Stitch', 'Journey to the Center of the Earth', 'The Shadow', 'Inception', 'Iron Man', 'Stealth', 'Teenage Mutant Ninja Turtles II: The Secret of the Ooze', 'The Chronicles of Narnia: Prince Caspian', 'The Lovers', 'Battlefield Earth', 'Resident Evil: Afterlife', 'The Darkest Hour', 'Allegiant', 'Star Trek III: The Search for Spock', 'Men in Black II', 'Revolution            ', 'The Specials', 'Avengers: Age of Ultron', 'Serenity', 'The Saint', 'Yu-Gi-Oh! Duel Monsters            ', 'Battleship', 'Spy Kids: All the Time in the World in 4D', 'Time Bandits', 'Guardians of the Galaxy', 'The Powerpuff Girls            ', 'Big Trouble in Little China', 'Night at the Museum', 'Escape from L.A.', 'Deadpool'}\n",
            "3084\n",
            "{'Ladder 49', '20,000 Leagues Under the Sea', 'Homefront', 'The Masked Saint', 'Outlander            ', 'Without a Paddle', 'Steel', 'Tangled', 'Austin Powers: The Spy Who Shagged Me', 'Con Air', 'A View to a Kill', 'Red Tails', 'Megamind', 'Final Fantasy: The Spirits Within', 'Once Upon a Time in Mexico', 'The One', 'Wicked Blood', 'Twilight Zone: The Movie', 'World War Z', 'Harry Potter and the Chamber of Secrets', 'Quarantine', 'Limitless            ', 'Deep Rising', 'Windtalkers', 'Spaceballs', '1941', 'Double Take', 'Clear and Present Danger', 'The Marine', 'The French Connection', 'Bubble Boy', 'Lethal Weapon 4', 'Easy Money', 'The Legend of Hercules', 'Dances with Wolves', 'AVP: Alien vs. Predator', 'Akira', 'Xi you ji zhi: Sun Wukong san da Baigu Jing', 'The Mummy Returns', 'Rio 2', 'The Horseman on the Roof', 'The I Inside', 'The Peacemaker', 'Eraser', 'From a Whisper to a Scream', 'Blast from the Past', 'GoldenEye', 'Ghost Dog: The Way of the Samurai', 'Knight and Day', 'Pirates of the Caribbean: The Curse of the Black Pearl', 'The Raid: Redemption', 'Thunderball', 'Donovans Reef', 'Drive Hard', 'Bridge to Terabithia', 'Primer', 'Despicable Me 2', 'Criminal', 'Resident Evil', 'Shadow Conspiracy', 'True Grit', 'The Island of Dr. Moreau', 'Max Payne', 'The Adventures of Rocky & Bullwinkle', 'Money Talks', 'Chain Reaction', 'Nutty Professor II: The Klumps', 'Beverly Hills Cop II', 'Teenage Mutant Ninja Turtles: Out of the Shadows', 'The Last Airbender', 'Money Train', 'Eternal Sunshine of the Spotless Mind', 'Home Alone 2: Lost in New York', 'The Huntsman: Winters War', 'The Wiz', 'Bad Company', 'Pacific Rim', 'Predator 2', 'Osmosis Jones', 'Star Trek Beyond', 'Flicka', 'Return to Never Land', 'Vacation', 'Underdogs', 'Flash Gordon', 'Formula 51', 'Kick-Ass 2', '12 Monkeys            ', 'Harold & Kumar Go to White Castle', 'The Imaginarium of Doctor Parnassus', 'District B13', 'Astro Boy', 'Yu-Gi-Oh! Duel Monsters            ', 'Charly', 'Blood Work', 'The Hunting Party', 'The Lawnmower Man', 'Immortals', 'Street Fighter', 'The Cat in the Hat', 'I Spy', 'Timecrimes', 'Man of the House', '2 Fast 2 Furious', 'The Wild Bunch', 'Happily NEver After', 'Bodyguards and Assassins', 'My Stepmother Is an Alien', 'DOA: Dead or Alive', 'The Wolverine', 'Mars Needs Moms', 'Jekyll and Hyde... Together Again', 'Bicentennial Man', 'The Rugrats Movie', 'Micmacs', 'The Dark Knight Rises', 'Green Lantern', 'Rapa Nui', 'The Brothers Grimm', 'Robot & Frank', 'Special', '3 Ninjas Kick Back', 'Walking with Dinosaurs 3D', 'Friday the 13th Part VIII: Jason Takes Manhattan', 'The Descent', 'The Punisher', 'Attack the Block', 'Straw Dogs', 'Harry Potter and the Half-Blood Prince', 'The Life Aquatic with Steve Zissou', 'Anastasia', 'My Name Is Khan', 'The Crow', 'The Spy Who Loved Me', 'Teenage Mutant Ninja Turtles', 'Little Shop of Horrors', 'Kicks', 'Sunshine', 'Mad Max: Fury Road', 'Virtuosity', 'The Astronaut Farmer', 'Ponyo', 'Alien', 'The Pirates Who Dont Do Anything: A VeggieTales Movie', 'Mercy Streets', 'The Losers', 'Madagascar: Escape 2 Africa', 'Parker', 'American Outlaws', 'Star Trek: Nemesis', 'See Spot Run', 'The Dark Knight', 'Wild Hogs', 'Face/Off', 'Kung Fu Panda 2', 'The Cell', 'Queen of the Mountains', 'Star Trek: First Contact', 'MacGruber', 'Crocodile Dundee II', 'I, Frankenstein', 'Return to Oz', 'The Good Dinosaur', 'Crocodile Dundee in Los Angeles', 'A Bugs Life', 'Pirates of the Caribbean: At Worlds End', 'Hop', '9', 'The Legend of Zorro', 'Cars', 'Preacher            ', 'Rango', 'A Sound of Thunder', 'The Wild Thornberrys Movie', 'Decoys', 'Blackhat', 'Logans Run', 'Kung Fu Killer', 'Star Wars: Episode V - The Empire Strikes Back', 'Twister', 'Contact', 'Only the Strong', 'King Kong', 'Animal Kingdom: Lets go Ape', 'Drive Angry', 'The Darkest Hour', 'Duma', 'The Boondock Saints', 'Daybreakers', 'The Saint', 'The Toxic Avenger Part II', '28 Days Later...', 'Mutant World', 'Escape from New York', 'Heist', 'Renaissance', 'Watchmen', 'Wreck-It Ralph', 'Crossover', 'Deep Blue Sea', 'The Musketeer', 'Licence to Kill', 'The Edge', 'The SpongeBob SquarePants Movie', 'Gullivers Travels', 'Beowulf', 'Extremely Loud & Incredibly Close', 'The Hobbit: The Desolation of Smaug', 'Jason Bourne', 'Saving Private Perez', 'Krull', 'Epic Movie', 'The Helix... Loaded', 'The Hobbit: The Battle of the Five Armies', 'Six-String Samurai', 'Creature            ', 'The Polar Express', 'Nerve', 'For Your Eyes Only', 'Space Jam', 'Jack Brooks: Monster Slayer', 'Moon', 'Blindness', 'Silver Medallist', 'Big Mommas: Like Father, Like Son', 'Minions', 'Eureka            ', 'Automata', 'The Golden Child', 'Captain Alatriste: The Spanish Musketeer', 'Lone Wolf McQuade', 'The Last Dragon', 'Unleashed', 'Pompeii', 'The Secret Life of Walter Mitty', 'Impostor', 'The Last Stand', 'Dr. No', 'Red Cliff', 'X-Men Origins: Wolverine', 'Ben-Hur', 'Sorcerer', 'Dreamcatcher', 'Fortress', 'Chernobyl Diaries', 'Red Sonja', 'Green Street 3: Never Back Down', 'Harold & Kumar Escape from Guantanamo Bay', 'My Favorite Martian', 'Holes', 'The Blue Butterfly', 'Viy', 'Stuart Little', 'Highlander: Endgame', 'My Fellow Americans', 'Transformers: Age of Extinction', 'Underclassman', 'The Promise', 'Crouching Tiger, Hidden Dragon', 'Supernova', 'Harry Brown', 'Star Trek V: The Final Frontier', 'Stone Cold', 'The Muppets', 'Chicken Run', 'Crocodile Dundee', 'Kung Fu Hustle', 'Jurassic World', 'The Iron Giant', 'Pineapple Express', 'The Hunger Games: Mockingjay - Part 2', 'Getaway', 'Righteous Kill', 'Inkheart', 'The Messenger: The Story of Joan of Arc', 'Independence Day', 'The Amazing Spider-Man 2', 'Bad Boys II', 'A Scanner Darkly', 'Sideways', 'Alice Through the Looking Glass', '10 Cloverfield Lane', 'Suicide Squad', 'Re-Kill', 'Sin City: A Dame to Kill For', 'Stargate: The Ark of Truth', 'Babylon A.D.', 'War of the Worlds', 'Faster', 'Antitrust', 'Recess: Schools Out', 'Pirates of the Caribbean: Dead Mans Chest', 'RED', 'Apollo 13', 'Tycoon', 'Transporter 2', 'The Newton Boys', 'Warlock', 'The Long Kiss Goodnight', 'Circle', 'The Shadow', 'Teenage Mutant Ninja Turtles II: The Secret of the Ooze', 'Thunder and the House of Magic', 'The Specials', 'The Lazarus Effect', 'The Stepford Wives', 'Shooter', 'Paul', 'Big Trouble in Little China', 'Ink', 'Tears of the Sun', 'Jungle Shuffle', 'The Ant Bully', 'Double Impact', 'Bill & Teds Excellent Adventure', 'Cloudy with a Chance of Meatballs 2', 'Code of Honor', 'Willard', 'Legion', 'Cold Mountain', 'Wing Commander', 'Sound of My Voice', 'Hot Pursuit', 'Flight of the Phoenix', 'Phantasm II', 'Hardflip', 'The Last Castle', 'Pirates of the Caribbean: On Stranger Tides', 'Antz', 'Hard Rain', 'Hollow Man', 'The Simpsons Movie', 'Percy Jackson: Sea of Monsters', 'The Little Prince', 'The Assassin', 'American Hero', 'Pixels', 'The Secret of Kells', 'The Andromeda Strain', 'Rugrats Go Wild', 'Jimmy Neutron: Boy Genius', 'Lockout', 'The Sweeney', 'Waterloo', 'Men in Black', 'The Adventures of Elmo in Grouchland', 'American Sniper', 'Centurion', 'The Hunger Games: Mockingjay - Part 1', 'Bon Cop Bad Cop', 'Anaconda', 'Volcano', 'Jack the Giant Slayer', 'Firestorm', 'Timecop', 'Les visiteurs', 'Y Tu Mamá También', 'The Amazing Spider-Man', 'The Green Hornet', 'Hobo with a Shotgun', 'Superman III', 'Jack Ryan: Shadow Recruit', 'Star Wars: Episode I - The Phantom Menace', 'Rush', 'Charlies Angels', 'The Big Hit', 'Body of Lies', 'Dawn of the Dead', 'Splice', 'The Worlds End', '2001: A Space Odyssey', 'Ride Along', 'Battle Los Angeles', 'Left Behind', 'The Adventures of Tintin', 'The Other Side of Heaven', 'Turbulence', 'Zombieland', 'The Cold Light of Day', 'Quigley Down Under', 'Rambo III', 'Seven Samurai', 'Space: Above and Beyond            ', 'D.E.B.S.', 'Rollerball', 'The Prince', 'Legends of Oz: Dorothys Return', 'Source Code', 'Pokémon 3: The Movie', 'The Astronauts Wife', 'District 9', 'Romeo Must Die', 'The Geographer Drank His Globe Away', '16 Blocks', 'Whiteout', 'Cloudy with a Chance of Meatballs', 'Raise the Titanic', 'The Mask', 'Krrish', 'Toy Story 3', 'The Twilight Saga: New Moon', 'Womb', 'Everybodys Fine', 'Frequency', 'A Low Down Dirty Shame', 'Live and Let Die', 'Firestarter', 'The Toxic Avenger', 'Melancholia', 'Quantum of Solace', 'Over the Hedge', 'Jackass 3D', 'Mongol: The Rise of Genghis Khan', 'Alive', 'The Jungle Book 2', 'The Mexican', 'The Perfect Wave', 'Wrath of the Titans', 'E.T. the Extra-Terrestrial', 'Red State', 'Her', 'Hot Tub Time Machine', 'Noah', 'Equilibrium', 'S.W.A.T.', 'Spy Kids: All the Time in the World in 4D', 'The Four Feathers', 'Unstoppable', 'American Heist', 'On Her Majestys Secret Service', 'Minority Report', 'Monsters vs. Aliens', 'Saving Private Ryan', 'The Hobbit: An Unexpected Journey', 'Dragon Nest: Warriors Dawn', 'The Twilight Saga: Eclipse', 'Collateral Damage', 'Dragonslayer', 'The Taking of Pelham 1 2 3', 'The Lost Medallion: The Adventures of Billy Stone', 'Snitch', 'Thomas and the Magic Railroad', 'ZMD: Zombies of Mass Destruction', 'The Barbarians', 'Chain of Command', 'Gods of Egypt', 'Arn: The Knight Templar', 'Kung Pow: Enter the Fist', 'Hansel & Gretel: Witch Hunters', 'Looper', 'Tombstone', 'The Maze Runner', 'Rush Hour            ', 'The Good Thief', 'Mortal Kombat', 'Wolves', 'Beastmaster 2: Through the Portal of Time', 'How to Train Your Dragon', 'The Faculty', '300: Rise of an Empire', 'Blood Diamond', 'Never Back Down', 'Khumba', 'The Pirate', 'Underworld', 'Harry Potter and the Deathly Hallows: Part II', 'The Cave', 'Orgazmo', 'CJ7', 'Lost in Space', 'Puss in Boots', 'Titan A.E.', 'Silent Hill: Revelation 3D', 'Nighthawks', 'Alien: Resurrection', 'Beverly Hills Cop', 'Indiana Jones and the Kingdom of the Crystal Skull', 'Heavy Metal', 'Superbabies: Baby Geniuses 2', 'Ride Along 2', 'Sleep Dealer', 'Toy Story', 'The Great Raid', 'Eragon', '47 Ronin', 'Crimson Tide', 'Ant-Man', 'Conan the Destroyer', 'Atlantis: The Lost Empire', 'The Man Who Knew Too Little', 'Cars 2', 'Airlift', 'The Avengers', 'Timeline', 'Ironclad', 'Cirque du Freak: The Vampires Assistant', '2046', 'Run All Night', 'John Carter', 'Prometheus', 'Madagascar 3: Europes Most Wanted', 'On Deadly Ground', 'The Nutty Professor', 'Die Hard 2', 'Fido', 'Z Storm', 'Harry Potter and the Sorcerers Stone', 'Heroes            ', 'The Warlords', 'The Great Train Robbery', 'The Timber', 'The Negotiator', 'Super 8', 'What Planet Are You From?', 'Smillas Sense of Snow', 'A Fistful of Dollars', 'Yogi Bear', 'Death Calls', 'Terminator 3: Rise of the Machines', 'Night at the Museum: Secret of the Tomb', 'The Good, the Bad, the Weird', 'Crowsnest', 'Chappie', 'Prophecy', 'ParaNorman', 'Rampage', 'Escape from the Planet of the Apes', 'Dune', 'Highlander', 'Tomorrow Never Dies', 'The Siege', 'The Return of the Living Dead', 'The Chronicles of Narnia: The Lion, the Witch and the Wardrobe', 'Mad Max 2: The Road Warrior', 'The Expendables 2', 'Top Gun', 'Major Dundee', 'Life of Pi', 'Team America: World Police', 'Warriors of Virtue', 'Days of Thunder', 'Stripes', 'Wyatt Earp', 'Invaders from Mars', 'Proof of Life', 'Vanilla Sky', 'Atlas Shrugged: Who Is John Galt?', 'The Ghost and the Darkness', 'The A-Team            ', 'Scott Pilgrim vs. the World', 'Exodus: Gods and Kings', '55 Days at Peking', 'Running Scared', 'The Replacement Killers', 'Sleeper', 'The Sentinel', 'Dick Tracy', 'Half Past Dead', 'American Ninja 2: The Confrontation', 'Self/less', 'Men in Black 3', 'Halloween III: Season of the Witch', 'Sanctum', 'The Marine 4: Moving Target', 'Broken Arrow', 'The Matrix', 'Goldfinger', 'Heroes of Dirt', 'Lifeforce', 'Hellboy II: The Golden Army', 'Rio', 'Valiant', 'The Bourne Supremacy', 'Vertical Limit', 'Space Chimps', 'Kiss of Death', 'Repo! The Genetic Opera', 'Silent Running', 'Percy Jackson & the Olympians: The Lightning Thief', 'Joe Dirt', 'Get Smart', 'Alien Uprising', 'The Lord of the Rings: The Fellowship of the Ring', 'Sahara', 'The SpongeBob Movie: Sponge Out of Water', 'Excessive Force', 'Dylan Dog: Dead of Night', 'Back to the Future Part II', 'Falcon Rising', 'White House Down', 'The Grand Budapest Hotel', 'Split Second', 'Perriers Bounty', 'The Italian Job', 'The Time Travelers Wife', 'Ice Age: The Meltdown', 'Gladiator', 'Mission to Mars', 'Spy Kids 3-D: Game Over', 'The Fourth Kind', 'Dragonball: Evolution', 'Underworld: Awakening', 'Star Trek IV: The Voyage Home', 'Avatar', 'Big Fat Liar', 'The Transporter Refueled', 'The Karate Kid', 'Def-Con 4', 'Capricorn One', 'Quest for Fire', 'Ice Age: Continental Drift', 'Phenomenon', 'X-Men', '28 Weeks Later', 'The Order', 'The Young and Prodigious T.S. Spivet', 'Zambezia', 'Assassins', 'Aliens', 'Bait', 'Road House', 'Blade II', 'Colombiana', 'Cargo', 'Out of Inferno', 'The Player            ', 'Mr. & Mrs. Smith', 'A Lonely Place to Die', 'Escape Plan', 'Metropolis', 'Lone Survivor', 'Megiddo: The Omega Code 2', 'Skyline', 'Divergent', 'Rabbit-Proof Fence', 'The Patriot', 'Troop Beverly Hills', 'Godzilla 2000', 'Rotor DR1', 'Raiders of the Lost Ark', 'The Three Musketeers', 'The Spirit', 'Close Encounters of the Third Kind', 'Book of Shadows: Blair Witch 2', 'Light from the Darkroom', 'Heartbeeps', 'Sabotage', 'The Tuxedo', 'The Signal', 'Les couloirs du temps: Les visiteurs II', 'Air Force One', 'The Scorpion King', 'The Chronicles of Narnia: The Voyage of the Dawn Treader', 'Kingdom of Heaven', 'What the #$*! Do We (K)now!?', 'A Warriors Tail', 'Haywire', 'Year One', 'Ladyhawke', 'Spy Game', 'After the Sunset', 'Aladdin', 'Hitman', 'Ronin', 'Gangsters Paradise: Jerusalema', 'Gerry', 'Tom Jones', 'Nebraska', 'The Jackal', 'The Thing', 'The Princess and the Cobbler', 'Spider-Man 2', 'G-Force', 'Batman v Superman: Dawn of Justice', 'A Knights Tale', 'Containment', 'First Blood', 'Domino', 'Journey 2: The Mysterious Island', 'Non-Stop', 'Exit Wounds', 'Poseidon', 'Batman: The Movie', 'Bangkok Dangerous', 'Land of the Lost', 'Wild Wild West', 'Thor', 'Texas Rangers', 'Kites', 'The Lord of the Rings: The Return of the King', 'Miami Vice            ', 'The Dead Zone', 'Mystery Men', 'Signs', 'Trash', 'Class of 1984', 'Robots', 'Conspiracy Theory', 'In Her Line of Fire', 'All Superheroes Must Die', 'Mr. Peabody & Sherman', 'The Jacket', 'Racing Stripes', 'Star Trek Into Darkness', 'Wind Walkers', 'Rumble in the Bronx', 'Doomsday', 'The Animal', 'Alex Rider: Operation Stormbreaker', 'Resident Evil: Apocalypse', 'Babys Day Out', 'Spider-Man 3', 'Deep Impact', 'Lake Placid', 'Silent Trigger', 'Harper', 'Gentlemen Broncos', 'Dogma', 'The Mummy: Tomb of the Dragon Emperor', 'The Spiderwick Chronicles', 'The Last Days on Mars', 'George and the Dragon', 'Stolen', 'The Art of War', 'The X Files: I Want to Believe', 'Obitaemyy ostrov', 'Mission: Impossible - Rogue Nation', 'Barbarella', 'Gravity', 'Buffy the Vampire Slayer            ', 'Universal Soldier: The Return', 'A Very Harold & Kumar 3D Christmas', 'Ong-bak 2', 'Inglourious Basterds', 'Return of the Living Dead III', 'Bronson', 'Planet of the Apes', 'Jaws', 'X-Men: The Last Stand', 'The Terminator', 'Armored', 'Max', 'The Rundown', 'The BFG', 'The Adventures of Ford Fairlane', 'Batman Begins', 'Saints and Soldiers', 'Toy Story 2', 'Battlefield Earth', 'The Oogieloves in the Big Balloon Adventure', 'Keanu', '12 Rounds', 'Time Bandits', 'Asterix at the Olympic Games', 'Griff the Invisible', 'Conquest of the Planet of the Apes', 'The International', 'Hot Tub Time Machine 2', 'Escape from L.A.', 'Good Boy!', 'Howard the Duck', 'The Lizzie McGuire Movie', 'The Charge of the Light Brigade', 'Fast Five', 'Mr. Nice Guy', 'The Martian', 'Shipwrecked', 'Penguins of Madagascar', 'Project Almanac', 'Pan', 'Shrek the Third', 'Safe', 'The Pursuit of D.B. Cooper', 'The Bourne Ultimatum', 'Moby Dick', 'The Kingdom', 'Never Let Me Go', 'Rush Hour 3', '30 Minutes or Less', 'Meet Dave', 'Monsters', 'Western Religion', 'Megaforce', 'I Am Wrath', 'Fantastic Four', 'Slither', 'Ice Age', 'The Dukes of Hazzard', 'The Chronicles of Riddick', 'The Grandmaster', 'Seventh Son', 'The Road to El Dorado', 'In the Name of the King: A Dungeon Siege Tale', 'The Corruptor', 'Epic', 'Dragon Hunters', '15 Minutes', 'The Wicked Lady', 'The Golden Compass', 'Del 1 - Män som hatar kvinnor            ', 'Superman Returns', 'Detention', 'Amidst the Devils Wings', 'Space Cowboys', 'The Adjustment Bureau', 'The Gunman', 'Reign of Assassins', 'Monte Carlo', 'Born of War', 'Wild Card', 'Frozen', 'The Lego Movie', 'Daylight', 'Salt', 'Iron Man 3', 'Tora! Tora! Tora!', 'Dragon Wars: D-War', 'Congo', 'Die Another Day', 'BrainDead            ', 'Gunless', 'Red Planet', 'Godzilla Resurgence', 'Mission: Impossible - Ghost Protocol', 'The Prestige', 'The Incredibles', 'Unnatural', 'Interstellar', 'The Revenant', 'Patriot Games', 'The Running Man', 'Shanghai Knights', 'Blade Runner', 'The Quick and the Dead', 'The Sorcerers Apprentice', 'Man on a Ledge', '127 Hours', 'Priest', 'Compadres', 'Cypher', 'The Prisoner of Zenda', 'The Croods', 'The Adventures of Pluto Nash', 'Mercury Rising', 'BloodRayne', 'The Purge', 'Lara Croft Tomb Raider: The Cradle of Life', 'Listening', 'Where the Wild Things Are', 'Cheaper by the Dozen 2', 'The Bourne Identity', 'Kill Bill: Vol. 2', 'Das Boot', 'Last Holiday', 'The Fast and the Furious: Tokyo Drift', 'Star Wars: Episode II - Attack of the Clones', 'Exiled', 'Showdown in Little Tokyo', 'I Am Number Four', 'Arthur and the Invisibles', 'Spectre', 'The Chronicles of Narnia: Prince Caspian', 'Rat Race', 'R.I.P.D.', 'Bulletproof Monk', 'RocknRolla', 'Six Days Seven Nights', 'The Wizard of Oz', 'Battle for the Planet of the Apes', 'Kill Bill: Vol. 1', 'Four Brothers', 'Catwoman', 'The Legend of Drunken Master', 'Pulse', 'Harsh Times', 'Sherlock Holmes: A Game of Shadows', 'Rise of the Guardians', 'The Phantom', 'Johnny English Reborn', 'Taken 3', 'Unaccompanied Minors', '102 Dalmatians', 'Pound of Flesh', '1911', 'The Forbidden Kingdom', 'Strange Wilderness', 'Time Changer', 'Street Fighter: The Legend of Chun-Li', 'The True Story of PussN Boots', 'Edge of Tomorrow', 'Spy Kids', 'Checkmate', 'Unknown', 'Cradle 2 the Grave', 'The Divide', 'Evolution', 'Into the Woods', 'El Mariachi', 'Transcendence', 'Agent Cody Banks 2: Destination London', 'The Net', 'Diamond Ruff', 'Vampire Killers', 'The Smurfs', 'Henry V', 'Batman: The Dark Knight Returns, Part 2', 'Beavis and Butt-Head Do America', 'Spirit: Stallion of the Cimarron', 'The Abyss', 'White Fang', 'Rockaway', 'Tidal Wave', 'The Curse of the Were-Rabbit', 'A Monster in Paris', 'Plastic', 'Commando', 'Casino Royale', 'Alex Cross', 'Inspector Gadget', 'Hook', 'The Sticky Fingers of Time', 'Royal Kill', 'Shaft', 'Kung Fu Panda', 'Action Jackson', 'Jonah Hex', 'Open Season', 'Maximum Risk', 'Tae Guk Gi: The Brotherhood of War', 'Mirrormask', 'Heavens Gate', 'Tower Heist', 'TRON: Legacy', 'The Protector', 'Damnation Alley', 'Independence Daysaster', 'Batman Returns', 'Dantes Peak', 'The Peanuts Movie', 'First Knight', 'eXistenZ', 'Dinosaur', 'Predator', 'Broken Horses', 'Furious 7', 'Iron Man 2', 'Fury', 'The Last Witch Hunter', 'Blackthorn', 'Abduction', 'Cloud Atlas', '13 Hours', 'Kiss of the Dragon', 'Modern Problems', 'The Magic Sword: Quest for Camelot', 'Grand Theft Parsons', 'Robin and Marian', 'G.I. Joe: Retaliation', 'Ultraviolet', 'Contraband', 'The Spy Next Door', 'Silmido', 'The 5th Wave', 'Street Kings', 'The Expendables', 'Green Zone', 'A Nightmare on Elm Street 3: Dream Warriors', 'Paul Blart: Mall Cop', 'Shrek', 'Rise of the Planet of the Apes', 'G.I. Joe: The Rise of Cobra', 'Star Trek', 'The Devils Tomb', 'The Baader Meinhof Complex', 'Bang Bang Baby', 'The Flintstones in Viva Rock Vegas', 'Terminator Salvation', 'Hollywood Homicide', 'Midnight Special', 'Fear and Loathing in Las Vegas', 'Ip Man 3', 'Unsullied', 'The Skulls', 'The World Is Not Enough', 'Memoirs of an Invisible Man', 'The Time Machine', 'Elysium', 'In the Name of the King: The Last Job', 'I Am Legend', 'Batman & Robin', 'Gangster Squad', 'Driven', 'Finding Nemo', 'Dawn of the Planet of the Apes', 'Loaded Weapon 1', 'Space Dogs', 'Ishtar', 'A Good Day to Die Hard', 'Brazil', 'You Only Live Twice', 'Real Steel', 'Men in Black II', 'Hulk', 'Antiviral', 'Cube', 'Airborne', 'True Lies', 'The Boondock Saints II: All Saints Day', 'The Happening', 'A Perfect Getaway', 'Pocahontas', 'Dungeons & Dragons: Wrath of the Dragon God', 'Hugo', 'Fools Gold', 'Journey to Saturn', 'Star Trek: The Motion Picture', 'Armageddon', 'I Dreamed of Africa', 'Waterworld', 'Earth to Echo', 'Now You See Me 2', '3000 Miles to Graceland', 'Blade: Trinity', 'Basic', 'The Count of Monte Cristo', 'Red River', 'The Matrix Reloaded', 'Conan the Barbarian', 'Close Range', 'Robin Hood', 'Transamerica', 'Desperado', 'Navy Seals vs. Zombies', 'The Land Before Time', 'Cotton Comes to Harlem', 'Shaolin Soccer', 'The Collection', 'Rush Hour 2', 'The Equalizer', 'Harry Potter and the Order of the Phoenix', 'Here Comes the Boom', 'Man on Fire', 'Superman IV: The Quest for Peace', 'Yesterday Was a Lie', 'Snow Queen', 'Underworld: Rise of the Lycans', 'Alice in Wonderland', 'Underworld: Evolution', 'Goosebumps', 'Captain America: The Winter Soldier', 'Taken 2', 'Kickboxer: Vengeance', 'Lucy', 'Up', 'The Blood of Heroes', 'Oz the Great and Powerful', 'All About the Benjamins', 'Transformers: Revenge of the Fallen', 'Bolt', 'The Hunger Games: Catching Fire', 'Mirror Mirror', 'Monsters University', 'Inside Out', 'The Legend of Tarzan', 'Highlander: The Final Dimension', 'The Thirteenth Floor', 'Hum To Mohabbat Karega', 'Unbreakable', 'Travelers and Magicians', 'Dracula 2000', 'U-571', 'Monty Python and the Holy Grail', 'The Lion King', 'The League of Extraordinary Gentlemen', 'Around the World in 80 Days', 'Ballistic: Ecks vs. Sever', 'I Origins', 'Open Water', 'Terminator Genisys', 'Touching the Void', 'Zoom', 'Stake Land', 'Johnny English', 'Malone', 'End of the Spear', 'The Rage: Carrie 2', 'Virgin Territory', 'Pootie Tang', 'Harry Potter and the Goblet of Fire', 'Survivor', 'Mission: Impossible II', 'The Invasion', 'The Specialist', 'The Clan of the Cave Bear', 'Miss Congeniality', 'Meteor', 'Star Trek VI: The Undiscovered Country', 'Fight to the Finish', 'Star Trek II: The Wrath of Khan', 'Madagascar', 'Species', 'The Fan', 'Dolphins and Whales 3D: Tribes of the Ocean', 'Incident at Loch Ness', 'War, Inc.', 'Chicken Little', 'The Finest Hours', 'Queen Crab', 'Hanna', 'The Book of Life', 'Hoodwinked!', 'Southland Tales', 'Eight Below', 'Hudson Hawk', 'Soldier', 'Pandorum', 'Three Kings', 'Boom Town', 'Spawn', 'The Beach', 'Guardians of the Galaxy', 'Ghosts of Mars', 'Into the Storm', 'A.I. Artificial Intelligence', 'Outbreak', 'Big Mommas House', 'xXx: State of the Union', 'Back to the Future', 'Tropic Thunder', 'TMNT', 'The Lost World: Jurassic Park', 'Tango & Cash', 'G.I. Jane', 'Cats & Dogs', 'The Manchurian Candidate', 'Death Sentence', 'Die Hard', 'High Heels and Low Lifes', 'Jonah: A VeggieTales Movie', 'The Omega Code', 'Seeking a Friend for the End of the World', 'Kingdom of the Spiders', '3:10 to Yuma', 'Cutthroat Island', 'Pitch Black', 'Total Recall', 'They Live', 'Princess Mononoke', 'Elektra', 'Atlas Shrugged II: The Strike', 'Knowing', 'Man of Steel', 'On the Road', 'Planet 51', 'Mighty Joe Young', 'Snow Day', 'Invasion U.S.A.', 'Skin Trade', 'Flipper', 'Live Free or Die Hard', 'The Hitchhikers Guide to the Galaxy', 'Hellboy', 'Hot Fuzz', 'My Super Ex-Girlfriend', 'Courage Under Fire', 'The Watch', 'Stand by Me', 'Mars Attacks!', 'Get Carter', 'Assault on Precinct 13', 'Beyond Borders', 'Jack Reacher', 'Dark City', 'Benji', 'Death Race 2000', 'The River Wild', 'Vessel', 'The Island', 'We Were Soldiers', 'Echo Dr.', 'Sausage Party', 'The Covenant', 'Small Soldiers', 'Shark Tale', 'Pearl Harbor', 'Videodrome', 'Teenage Mutant Ninja Turtles III', 'Captain America: Civil War', 'The Core', 'Dead Man Down', 'The Heat', 'The Purge: Election Year', 'Mulan', 'Bandidas', 'Three Kingdoms: Resurrection of the Dragon', 'Fantastic Mr. Fox', 'H.', 'Superman', 'Rob Roy', 'Thunderbirds', 'The Hunger Games', 'Set It Off', 'Young Sherlock Holmes', 'The Longest Day', '3 Days to Kill', 'Spirited Away', 'Jarhead', 'Nikita            ', 'Superman II', 'Bad Boys', 'The Right Stuff', 'Operation Chromite', 'The Man with the Golden Gun', 'No Escape', 'The Hunted', 'Firefox', 'Avengers: Age of Ultron', 'Idiocracy', 'This Means War', 'Scooby-Doo', 'The Nutcracker in 3D', 'Alone in the Dark', 'Steamboy', 'Silent Hill', 'Starship Troopers', 'Back to the Future Part III', 'The Smurfs 2', 'Space Battleship Yamato', 'Skyfall', 'C.H.U.D.', 'Stargate SG-1            ', 'Red Sky', 'The Lord of the Rings: The Two Towers', 'Eraserhead', 'You Dont Mess with the Zohan', 'Olympus Has Fallen', 'Defiance            ', 'Crank: High Voltage', 'Chicago Overcoat', 'The Brave Little Toaster', 'V for Vendetta', 'Surrogates', 'Alvin and the Chipmunks: The Road Chip', 'The November Man', 'Race to Witch Mountain', 'Charlies Angels: Full Throttle', 'The Bridge on the River Kwai', 'Just Visiting', 'Another Earth', 'The Book of Mormon Movie, Volume 1: The Journey', 'Free Birds', 'Maleficent', 'Knock Off', 'Baahubali: The Beginning', 'Bill & Teds Bogus Journey', 'The Wraith', 'Prince of Persia: The Sands of Time', 'Resident Evil: Retribution', 'Nims Island', 'Reign of Fire', 'In Time', 'Thor: The Dark World', 'Aliens vs. Predator: Requiem', 'The Prince of Egypt', 'Gone in Sixty Seconds', 'Limbo', 'The Fast and the Furious', 'The Little Vampire', 'Flight of the Intruder', 'The Legend of Suriyothai', 'Galaxy Quest', 'Beyond the Black Rainbow', 'A Passage to India', 'Gattaca', 'Beverly Hills Cop III', 'Daredevil            ', 'Shinjuku Incident', 'Valley of the Wolves: Iraq', 'Three Burials', 'Jaws: The Revenge', 'Hancock', 'The X Files', 'Hands of Stone', 'Spider-Man', 'Takers', 'Midnight Run', 'Tomorrowland', 'Nowhere to Run', 'Under the Skin', 'The Ghastly Love of Johnny X', 'Grosse Pointe Blank', 'Antarctic Edge: 70° South', 'The Giver', 'The Man with the Iron Fists', 'Chill Factor', 'War', 'Apollo 18', 'Wild Target', 'Swelter', 'Ghostbusters', 'Frankenweenie', 'X-Men: Days of Future Past', 'Independence Day: Resurgence', 'Entrapment', 'Scooby-Doo 2: Monsters Unleashed', 'Inception', 'Barry Lyndon', 'Its a Mad, Mad, Mad, Mad World', 'Next Day Air', 'Death Race', 'Resident Evil: Afterlife', 'My Lucky Star', 'Die Hard with a Vengeance', 'The Fountain', 'Lethal Weapon 3', 'Petes Dragon', 'Jason X', 'Supercross', 'Deadpool', 'The Lost Skeleton of Cadavra', 'The Last Legion', 'Moonraker', 'Delgo', 'Baby Geniuses', 'Big Fish', 'Risen', 'The Pirates! Band of Misfits', 'Ninja Assassin', 'Under the Same Moon', 'Black November', 'Cast Away', 'Stardust', 'Harley Davidson and the Marlboro Man', 'Undisputed', 'Escape from Planet Earth', 'Return to the Blue Lagoon', 'Home', 'The Legend of Hells Gate: An American Conspiracy', 'Reindeer Games', 'The Man from Snowy River', 'Sphere', 'Jupiter Ascending', 'Jackass Number Two', 'Howls Moving Castle', 'Transformers: Dark of the Moon', 'The Incredible Hulk', 'Legend of the Guardians: The Owls of GaHoole', 'The Fugitive', 'Eight Legged Freaks', 'The Last Samurai', 'Stuart Little 2', 'The Adventures of Pinocchio', 'Cats & Dogs: The Revenge of Kitty Galore', 'The Bounty Hunter', 'Iguana', 'The Man in the Iron Mask', 'Paul Blart: Mall Cop 2', 'Never Say Never Again', 'Clash of the Titans', 'Paycheck', 'Walking Tall', 'Caravans', 'Disturbing Behavior', 'Wanted', 'The Bounty', 'Born to Fly: Elizabeth Streb vs. Gravity', 'Mortal Kombat: Annihilation', 'Pride and Prejudice and Zombies', 'Area 51', 'Hostage', 'Digimon: The Movie', 'Wasabi', 'Taxman', 'Dawn of the Crescent Moon', 'The Lone Ranger', 'The Dead Zone            ', 'The Bucket List', 'The Adventures of Sharkboy and Lavagirl 3-D', 'Superhero Movie', 'The Way of the Gun', 'Insurgent', 'One for the Money', 'Jane Got a Gun', 'Star Trek: Generations', 'The Mask of Zorro', 'Robin Hood: Prince of Thieves', 'Feast', 'WarGames', 'The Jungle Book', 'Master and Commander: The Far Side of the World', '2 Guns', 'Æon Flux', 'Ghost Rider', 'Repo Man', 'Enders Game', 'Into the Blue', 'The Crocodile Hunter: Collision Course', 'Big Hero 6', 'Paparazzi', 'The Last of the Mohicans', 'The Muppet Movie', 'X-Men 2', 'Hit and Run', 'Are We There Yet?', 'Curious George', 'Alvin and the Chipmunks: Chipwrecked', 'From Paris with Love', 'Aqua Teen Hunger Force Colon Movie Film for Theaters', 'Austin Powers in Goldmember', 'The Mechanic', 'Foodfight!', 'Punisher: War Zone', 'Triple 9', 'Fight Valley', 'The Bourne Legacy', 'Lara Croft: Tomb Raider', 'Barneys Great Adventure', 'The Fifth Element', 'Roar', 'Mad Max Beyond Thunderdome', 'Sicario', 'The Bodyguard', 'Brave', 'Abraham Lincoln: Vampire Hunter', 'Speed 2: Cruise Control', 'The Grey', 'K-PAX', 'Allegiant', 'The Dead Undead', 'Snakes on a Plane', 'Serenity', 'Free State of Jones', 'Kung Fu Panda 3', 'All the Queens Men', 'House of Flying Daggers', 'Night at the Museum', 'The 13th Warrior', 'March or Die', 'Ex Machina', 'The Butterfly Effect', '22 Jump Street', 'Arthur Christmas', 'Spartacus: War of the Damned            ', 'The Book of Eli', 'Open Road', 'Agora', 'Tales from the Crypt: Demon Knight', 'In the Heart of the Sea', 'The Postman', 'Dark Angel            ', 'Hey Arnold! The Movie', 'X-Men: First Class', 'Chronicle', 'The Day After Tomorrow', 'Talladega Nights: The Ballad of Ricky Bobby', 'The Scorch Trials', 'Mission: Impossible III', 'Miracle at St. Anna', 'The Streets of San Francisco            ', 'Point Break', 'Hidalgo', 'Sphinx', 'Black Knight', 'Breakdown', 'Khiladi 786', 'Rambo: First Blood Part II', 'Machine Gun Preacher', 'Brick Mansions', 'The Pink Panther', 'Diamonds Are Forever', 'The Legend of the Lone Ranger', 'Destiny', 'The Brothers Bloom', 'National Treasure', 'Cellular', 'Flatliners', 'The Boxtrolls', 'The Devils Own', 'Multiplicity', 'End of Days', 'From Russia with Love', 'Hercules', 'Beneath the Planet of the Apes', 'Shanghai Noon', 'Sex Drive', 'Dance Flick', 'City of Ember', 'Star Wars: Episode IV - A New Hope', 'Event Horizon', 'Shrek Forever After', 'Looney Tunes: Back in Action', 'Repo Men', 'Star Wars: The Clone Wars            ', 'Cloverfield', 'The Blues Brothers', 'Everest', 'Babe: Pig in the City', 'The Algerian', 'Into the Wild', 'The Adventurer: The Curse of the Midas Box', 'Rugrats in Paris: The Movie', 'Never Back Down 2: The Beatdown', 'Almost Famous', 'Warcraft', 'The Ice Pirates', 'Fled', 'Against the Wild', 'Star Wars: Episode VI - Return of the Jedi', 'The Medallion', 'Seven Years in Tibet', 'The Pacifier', 'Cool Runnings', 'Black Rain', 'Killers', 'Speed', 'Batman', 'Ghost Rider: Spirit of Vengeance', 'Snow Dogs', 'The Perfect Storm', 'Tremors', 'The Hole', 'I Married a Strange Person!', 'Flyboys', 'The Expendables 3', 'Executive Decision', 'The Transporter', 'The Princess Bride', 'Young Guns', 'National Lampoons Vacation', 'Lilo & Stitch', 'Alien 3', 'Snowpiercer', 'The Hit List', 'Behind Enemy Lines', 'Resident Evil: Extinction', 'Revolution            ', 'Galaxina', 'Under Siege 2: Dark Territory', 'The Prophecy', 'Flushed Away', 'The Powerpuff Girls            ', 'Super Hybrid', 'Victor Frankenstein', 'Troy', 'Bats', 'Gamer', 'White Squall', 'Sheena', 'Shanghai Surprise', 'Beverly Hills Chihuahua', 'Terminator 2: Judgment Day', 'Alexander', 'Blue Streak', 'The Host', 'Grindhouse', 'Oblivion', 'Dracula Untold', 'The Beastmaster', 'Riddick', 'The Matrix Revolutions', 'Medicine Man', 'Nothing to Lose', 'The Tale of Despereaux', 'Central Intelligence', 'After Earth', '300', 'The Border            ', 'Undercover Brother', 'Payback', 'Carriers', 'Agent Cody Banks', 'Grabbers', 'Indiana Jones and the Temple of Doom', 'Machete', 'Godsend', 'Monsters, Inc.', 'Eagle Eye', 'The Tourist', 'The Walk', 'Bee Movie', 'San Andreas', 'Charlie and the Chocolate Factory', 'London Has Fallen', 'Snow White and the Huntsman', 'The Hunt for Red October', 'Harry Potter and the Prisoner of Azkaban', 'Enemy of the State', 'I, Robot', 'The Man from U.N.C.L.E.', 'Dragon Blade', 'Torque', 'Doom', 'The Nut Job', 'Sands of Iwo Jima', 'Red Dawn', 'The Purge: Anarchy', 'Sinbad: Legend of the Seven Seas', 'How to Train Your Dragon 2', 'Act of Valor', 'Octopussy', 'Ultramarines: A Warhammer 40,000 Movie', 'Mortdecai', 'Bullet to the Head', 'Treasure Planet', 'Premium Rush', 'Zombie Hunter', 'Spy Hard', 'The Blue Lagoon', 'Muppets from Space', 'A Man Apart', 'Alpha and Omega 4: The Legend of the Saw Toothed Cave', 'Silverado', 'The Other Guys', 'Miss Congeniality 2: Armed and Fabulous', 'The Black Hole', 'Into the Grizzly Maze', 'The Warriors Way', 'Turbo', 'Deuces Wild', 'The Rock', 'Transformers', 'George of the Jungle', 'Harlock: Space Pirate', 'Predators', 'The Twilight Saga: Breaking Dawn - Part 2', 'Batman Forever', 'Safe House', 'Romeo Is Bleeding', 'Legend of Kung Fu Rabbit', 'Alpha and Omega', 'Indiana Jones and the Last Crusade', 'Children of Men', 'Taken', 'Stealth', 'The Relic', 'Flubber', 'The Man', 'A Turtles Tale: Sammys Adventures', 'Apocalypto', 'Code 46', 'Star Trek III: The Search for Spock', 'Sur le seuil', 'Dum Maaro Dum', 'Jurassic Park', 'Ace Ventura: When Nature Calls', 'The Borrowers', '2012', 'Solaris', 'True Romance', 'One Mans Hero', 'Winnie the Pooh', 'Doogal', 'Sky High', 'Kangaroo Jack', 'Rescue Dawn', 'Donnie Darko', 'Sky Captain and the World of Tomorrow', 'The Sum of All Fears', 'The Man from Earth', 'Jurassic Park III', 'Mad Max', 'Speed Racer', 'Machete Kills', 'Dredd', 'Kick-Ass', 'Subconscious', 'Ramona and Beezus', 'Muppets Most Wanted', 'Absolute Power', '21 Jump Street', 'Kindergarten Cop', 'Creative Control', 'Spaced Invaders', 'Herbie Fully Loaded', 'Star Wars: Episode III - Revenge of the Sith', 'Australia', 'Clockstoppers', 'Hoot', 'Captain America: The First Avenger', 'Bloodsport', 'Wild', 'O Brother, Where Art Thou?', 'The Living Daylights', 'A Most Violent Year', 'Sleepy Hollow            ', 'The Brain That Wouldnt Die', 'Code Name: The Cleaner', 'Aliens in the Attic', 'Need for Speed', 'The Adventures of Huck Finn', 'Spy Kids 2: Island of Lost Dreams', 'The Glimmer Man', 'DragonHeart', 'X-Men: Apocalypse', 'The NeverEnding Story', 'Jaws 2', 'Zathura: A Space Adventure', 'Freddy vs. Jason', 'Anacondas: The Hunt for the Blood Orchid', 'Star Trek: Insurrection', 'The Day the Earth Stood Still', 'Hero', 'Ice Age: Dawn of the Dinosaurs', 'Jumper', 'Vampires', 'Moonrise Kingdom', 'Fantastic 4: Rise of the Silver Surfer', 'All Is Lost', 'Cop Out', 'RoboCop 3', 'WALL·E', '3rd Rock from the Sun            ', 'xXx', 'Force 10 from Navarone', 'Night at the Museum: Battle of the Smithsonian', 'Blade', '5 Days of War', 'Cliffhanger', 'Mission: Impossible', 'Two Brothers', 'The Truman Show', 'Men of War', 'The Death and Life of Bobby Z', 'Sherlock Holmes', 'The Angry Birds Movie', 'Smokin Aces', 'Tank Girl', 'Antarctica: A Year on Ice', 'The Road', 'Salvation Boulevard', 'The Green Inferno', 'Killer Elite', 'Shrek 2', 'RED 2', 'Elite Squad', 'Super Mario Bros.', 'The Black Stallion', 'Rogue            ', 'Crank', 'Last Action Hero', 'Lawrence of Arabia', 'The Great Escape', 'Fun Size', 'RoboCop', 'Journey to the Center of the Earth', 'The 6th Day', 'The Lovers', 'Swordfish', 'The Beast from 20,000 Fathoms', 'Sucker Punch', 'Hard to Be a God', 'Extreme Ops', 'Battleship', 'Tracker', 'Your Highness', 'The Emperors New Groove'}\n",
            "2689 1756\n",
            "{'Elf', 'Iron Man 2', 'The Jungle Book', 'Made', 'Zathura: A Space Adventure'}\n",
            "6 5\n",
            "{'Very Bad Things'}\n",
            "24 1\n",
            "{'Captain America: Civil War', 'Spawn', 'Batman v Superman: Dawn of Justice'}\n",
            "10 3\n",
            "set()\n",
            "0 0\n",
            "{'Iron Man 2', 'Iron Man 3'}\n",
            "4 2\n",
            "{'Swingers', 'The Open Road', 'Sherlock Holmes', 'Couples Retreat', 'The Break-Up', 'Lucky You', 'Sherlock Holmes: A Game of Shadows', 'Iron Man 2', 'Kiss Kiss Bang Bang', 'Iron Man 3', 'Fur: An Imaginary Portrait of Diane Arbus', 'In Dreams', 'Seabiscuit', 'The Fisher King', 'White Squall', 'Deep Impact', 'The Avengers', 'The Wolf of Wall Street', 'I Love You, Man', 'The Shaggy Dog', 'Tropic Thunder', 'Two Girls and a Guy', 'The Singing Detective', 'Captain America: Civil War', 'The Soloist', 'Seventh Son', 'Four Christmases', 'Charlie Bartlett', 'True Grit', 'The Replacements', 'The Mirror Has Two Faces', 'Due Date', 'Wonder Boys', 'Crazy Heart', 'Zodiac', 'Open Season', 'Heavens Gate', 'PCU', 'TRON: Legacy', 'Wimbledon', 'Made', 'Richard III', 'The Big Lebowski', 'Masked and Anonymous', 'Arlington Road', 'Very Bad Things', 'R.I.P.D.', 'K-PAX', 'Gothika', 'The Little Prince', 'Somethings Gotta Give', 'The Contender', 'Identity Thief', 'Avengers: Age of Ultron', 'Bowfinger', 'Surfs Up', 'A Scanner Darkly', 'Good Night, and Good Luck.', 'Home for the Holidays', 'The Judge', 'The Men Who Stare at Goats', 'Stick It', 'The Muse', 'The Giver'}\n",
            "68 64\n",
            "{'Ladder 49', '20,000 Leagues Under the Sea', 'Severance', 'Katy Perry: Part of Me', 'Keeping Up with the Steins', 'Club Dread', 'Under the Tuscan Sun', 'Bride & Prejudice', 'Horrible Bosses', 'Napoleon Dynamite', 'The Killer Inside Me', 'Homefront', 'The Masked Saint', 'Boys and Girls', 'When a Stranger Calls', 'Outlander            ', 'Chocolat', 'The Devil Inside', 'Without a Paddle', 'Not Cool', 'The Real Cancun', 'Bathing Beauty', 'Steel', 'The Life of David Gale', 'The Rookie', 'Meet the Spartans', 'Tangled', 'Austin Powers: The Spy Who Shagged Me', 'Con Air', 'Certifiably Jonathan', 'Elizabeth', 'Martin Lawrence Live: Runteldat', 'Cat on a Hot Tin Roof', 'Edward Scissorhands', 'A View to a Kill', 'My Name Is Bruce', 'Step Brothers', 'The Godfather: Part III', 'Oliver Twist', 'Serial Mom', '21', 'Megamind', 'Final Fantasy: The Spirits Within', 'Once Upon a Time in Mexico', 'Lady in the Water', 'Red Tails', 'The One', 'Last Orders', 'I Hope They Serve Beer in Hell', 'Wicked Blood', 'Dazed and Confused', 'The Haunting of Molly Hartley', 'Brokeback Mountain', 'The Cookout', 'Twilight Zone: The Movie', 'The Dangerous Lives of Altar Boys', 'Masked and Anonymous', 'Alone with Her', 'Metallica Through the Never', 'World War Z', 'Harry Potter and the Chamber of Secrets', 'Quarantine', 'Stitches', 'Limitless            ', 'Sholem Aleichem: Laughing in the Darkness', 'Catch That Kid', 'Celeste & Jesse Forever', 'Deep Rising', 'Déjà Vu', 'The Apartment', 'Connie and Carla', 'The Texas Chainsaw Massacre 2', 'The Apparition', 'No Mans Land: The Rise of Reeker', 'After', 'Windtalkers', 'The Indian in the Cupboard', 'Spaceballs', '25th Hour', 'Scarface', 'Shallow Hal', 'Mother and Child', 'Yentl', 'Stepmom', '1941', 'Double Take', 'The Cotton Club', 'Elsa & Fred', '10 Things I Hate About You', 'Clear and Present Danger', 'Latter Days', 'Trippin', 'Hard Candy', 'L.A. Confidential', 'The Marine', 'The French Connection', 'Adaptation.', 'The Witch', 'Bubble Boy', 'Lethal Weapon 4', 'The Pallbearer', 'Killing Zoe', 'The Legend of Hercules', 'Dances with Wolves', 'AVP: Alien vs. Predator', 'The Big Tease', 'The Chumscrubber', 'The Ultimate Gift', 'Cradle Will Rock', 'Catch a Fire', 'Xi you ji zhi: Sun Wukong san da Baigu Jing', 'The Blue Bird', 'Crossroads', 'The Mummy Returns', 'Rio 2', 'The Merchant of Venice', 'The I Inside', 'Dolphin Tale 2', 'The Peacemaker', 'Eraser', 'You Will Meet a Tall Dark Stranger', 'The Master', 'Scott Walker: 30 Century Man', 'Dancin Its On', 'From a Whisper to a Scream', 'Blast from the Past', 'Americas Sweethearts', 'Divine Secrets of the Ya-Ya Sisterhood', 'GoldenEye', 'Ghost Dog: The Way of the Samurai', 'Knight and Day', 'Jackass: The Movie', 'The Men Who Stare at Goats', 'Pirates of the Caribbean: The Curse of the Black Pearl', 'Small Apartments', 'Bella', 'Caddyshack', 'Teachers Pet', 'Thunderball', 'Whale Rider', 'Thr3e', 'Let Me In', 'Donovans Reef', 'Lights Out', 'How to Lose Friends & Alienate People', 'Murderball', 'Drive Hard', 'In the Land of Women', 'Bridge to Terabithia', 'Primer', 'The Sleepwalker', 'Despicable Me 2', 'Baby Boy', 'Criminal', 'Resident Evil', 'Shadow Conspiracy', 'True Grit', 'The Island of Dr. Moreau', 'Max Payne', 'Ice Princess', 'The Adventures of Rocky & Bullwinkle', 'The Salton Sea', 'Graduation Day', 'United 93', 'Fatal Attraction', 'Lake of Fire', 'Memoirs of a Geisha', 'Money Talks', 'Saw', 'Chain Reaction', 'Nutty Professor II: The Klumps', 'The Terminal', 'Beverly Hills Cop II', 'Brokedown Palace', 'The Company            ', 'Celebrity', 'Another Happy Day', 'Bachelorette', 'Igby Goes Down', 'Mama', 'Identity', 'On the Waterfront', 'Teenage Mutant Ninja Turtles: Out of the Shadows', 'Black Water Transit', 'Oceans Thirteen', 'The Last Airbender', 'Hoffa', 'An Education', 'Money Train', 'Wolf Creek            ', 'Cecil B. DeMented', 'Mr. Church', 'Eternal Sunshine of the Spotless Mind', 'The Canyons', 'The Nativity Story', 'Home Alone 2: Lost in New York', 'Fascination', 'Chairman of the Board', 'School for Scoundrels', 'Lucky You', 'The Huntsman: Winters War', 'The Bone Collector', 'The Wiz', 'Whiplash', 'Bad Company', 'Pacific Rim', 'Frenzy', 'Predator 2', 'Osmosis Jones', 'Star Trek Beyond', 'Flicka', 'Army of Darkness', 'The Wolf of Wall Street', 'Return to Never Land', 'Vacation', 'Hit the Floor            ', 'Tiny Furniture', 'Riding Giants', 'Enter Nowhere', 'Flash Gordon', 'Philadelphia', 'Formula 51', 'High Road', 'Larry the Cable Guy: Health Inspector', 'Kings Ransom', 'The World Is Not Enough', 'Gods and Generals', 'Blended', 'Kick-Ass 2', 'This Christmas', 'Suspect Zero', 'Anomalisa', 'I Got the Hook Up', 'Shalako', 'Opal Dream', '12 Monkeys            ', 'Glory', 'Harold & Kumar Go to White Castle', 'Grown Ups', 'Zero Effect', 'Creed', 'Project X', 'Silver Linings Playbook', 'Slacker', 'The Imaginarium of Doctor Parnassus', 'Soul Surfer', 'Enough Said', 'Focus', 'Astro Boy', 'Charly', 'The Grand            ', 'Secret in Their Eyes', 'Four Weddings and a Funeral', 'The Work and the Glory', 'My Big Fat Greek Wedding', 'All Is Bright', 'In & Out', 'Blood Work', 'Swingers', 'The Good Heart', 'The Hunting Party', 'Steve Jobs', 'The Maids Room', 'The Lawnmower Man', 'Darkness', '20 Dates', 'Immortals', 'School of Rock', 'Street Fighter', 'Winters Bone', 'Argo', 'Our Family Wedding', 'The Alamo', 'The Woman in Black', 'The Cat in the Hat', 'I Spy', 'Held Up', 'Man of the House', 'Something Borrowed', 'The Grudge', '2 Fast 2 Furious', 'The Wild Bunch', 'Donnie Brasco', 'Ghost Town', 'Get Real            ', 'Deuce Bigalow: Male Gigolo', 'Home Movies            ', 'Nancy Drew', 'Salvador', 'Sorority Boys', 'Stoker', 'Happily NEver After', 'Hope Floats', 'In the Shadow of the Moon', 'The Ballad of Cable Hogue', 'The Blind Side', 'My Stepmother Is an Alien', 'Veronika Decides to Die', 'DOA: Dead or Alive', 'Mrs Henderson Presents', 'Jekyll and Hyde... Together Again', 'Mars Needs Moms', 'Bicentennial Man', 'Made in Dagenham', 'The Rugrats Movie', 'The Wolverine', 'The Last Big Thing', 'Towering Inferno            ', 'The Dark Knight Rises', 'A Room with a View', 'Green Lantern', 'Rapa Nui', 'The Yards', 'An American Girl Holiday', 'Good Night, and Good Luck.', 'Radio Flyer', 'Simply Irresistible', 'Grown Ups 2', 'Mutual Friends', 'The Brothers Grimm', 'Billy Elliot', 'Hannibal Rising', 'Raging Bull', 'Stonewall', 'An American Haunting', 'Robot & Frank', 'Mr. Turner', 'No Strings Attached', 'Dawn Patrol', 'Yours, Mine and Ours', 'Niagara', 'The Robe', 'Day of the Dead', 'Special', 'The Water Diviner', '3 Ninjas Kick Back', 'Unfaithful', 'Walking with Dinosaurs 3D', 'Changeling', 'Friday the 13th Part VIII: Jason Takes Manhattan', 'The Descent', 'London', 'The Punisher', 'Promised Land', 'Attack the Block', 'Straw Dogs', 'Death to Smoochy', 'Harry Potter and the Half-Blood Prince', 'Ghost Ship', 'How to Deal', 'Proud', 'The Life Aquatic with Steve Zissou', 'Anastasia', 'Platoon', 'Thirteen Days', 'The Tempest', 'The Railway Man', 'The Mudge Boy', 'The Crow', 'Home Run', 'Rendition', 'The Spy Who Loved Me', 'Teenage Mutant Ninja Turtles', 'Little Shop of Horrors', 'Unfriended', 'Girl 6', 'Stomp the Yard', 'Coach Carter', 'Kicks', 'Sunshine', 'Smiling Fish & Goat on Fire', 'Mad Max: Fury Road', 'Michael Jordan to the Max', 'Red Riding Hood', 'Gangs of New York', 'Trees Lounge', 'Wild Things', 'Don Juan DeMarco', 'Virtuosity', 'Anchorman: The Legend of Ron Burgundy', 'Bang', 'Black Rock', 'I Love You Phillip Morris', '8 Days', 'Halloween II', 'Liar Liar', 'Alleluia! The Devils Carnival', 'Runner Runner', '1408', 'The Astronaut Farmer', 'The Crazies', 'Alien', 'Black or White', 'Good Kill', 'Panic Room', 'The Pirates Who Dont Do Anything: A VeggieTales Movie', 'Mercy Streets', 'The Losers', 'For Your Consideration', 'The History Boys', 'The Craft', 'Summer Catch', 'The Brothers McMullen', 'The Sting', 'Pat Garrett & Billy the Kid', 'Madagascar: Escape 2 Africa', 'Girl, Interrupted', 'Friday Night Lights            ', 'Archaeology of a Woman', 'Parker', 'American Outlaws', 'Secondhand Lions', 'Son of the Mask', 'The Ice Storm', 'What Dreams May Come', 'Boat Trip', 'Trucker', 'Bobby', 'Crooklyn', 'Screwed', 'See Spot Run', 'A Hard Days Night', 'Amigo', 'Star Trek: Nemesis', 'The Dark Knight', 'The Young Messiah', 'Angelas Ashes', 'Evil Dead', 'Don Jon', 'Last Vegas', 'Observe and Report', 'The Haunting in Connecticut 2: Ghosts of Georgia', 'Wild Hogs', 'Face/Off', 'Hide and Seek', 'Tiger Orange', 'Kung Fu Panda 2', 'Coraline', 'Its Complicated', 'The Cell', 'A Christmas Story', 'The Mighty', 'Pocketful of Miracles', 'History of the World: Part I', 'L!fe Happens', 'Abandon', 'Queen of the Mountains', 'The Hangover', 'Dracula: Pages from a Virgins Diary', 'Star Trek: First Contact', 'Remember the Titans', 'The Other Boleyn Girl', 'Warlock: The Armageddon', 'He Got Game', 'Son of God', 'MacGruber', 'Honey', 'Rock Star', 'A Beginners Guide to Snuff', 'The Verdict', 'What Lies Beneath', 'Crocodile Dundee II', 'Renaissance Man', 'Trance', 'I, Frankenstein', 'Return to Oz', 'The Postman Always Rings Twice', 'Dangerous Liaisons', 'The Good Dinosaur', 'Crocodile Dundee in Los Angeles', 'Big', 'A Bugs Life', 'Scrooged', 'The Work and the Story', 'Layer Cake', 'Dancer, Texas Pop. 81', 'Mud', 'Mumford', 'Hop', 'Pirates of the Caribbean: At Worlds End', 'Saving Mr. Banks', '9', 'Wal-Mart: The High Cost of Low Price', 'Night of the Living Dead', 'Stay Alive', 'Dirty Work', 'Fur: An Imaginary Portrait of Diane Arbus', 'Red Dog', 'Cars', 'Barbershop 2: Back in Business', 'Treading Water', 'Preacher            ', 'House of Wax', 'Clay Pigeons', 'Rango', 'Akeelah and the Bee', 'Its a Wonderful Afterlife', 'The Waterboy', 'A Sound of Thunder', 'Mulholland Drive', 'The Out-of-Towners', 'The Wild Thornberrys Movie', 'Decoys', 'Blackhat', 'Madeas Witness Protection', 'Logans Run', 'Twins', 'The Greatest Story Ever Told', 'Star Wars: Episode V - The Empire Strikes Back', 'Contact', 'Milk', 'Only the Strong', 'Twister', 'Eye of the Beholder', 'Good Luck Chuck', 'Sublime', 'Lovely & Amazing', 'Whip It', 'King Kong', 'Beginners', 'Hotel Transylvania 2', 'Beetlejuice', 'Message in a Bottle', 'Drive Angry', 'Orphan', 'Pinocchio', 'The Gallows', 'The Darkest Hour', 'Imagine That', 'Duma', 'Deterrence', 'Baggage Claim', 'Heaven Is for Real', 'Empire            ', 'The Words', 'Girl House', 'The Boondock Saints', 'Daybreakers', 'The Saint', 'Domestic Disturbance', '28 Days Later...', 'Mr. Poppers Penguins', 'Mutant World', 'Schindlers List', 'The Toxic Avenger Part II', 'Brigham City', 'The Doors', 'Escape from New York', 'Heist', 'Mad City', 'Renaissance', 'Black Mass', 'Watchmen', 'Snatch', 'About a Boy', 'Critical Care', 'Do the Right Thing', 'Wreck-It Ralph', 'Crossover', 'The Inbetweeners            ', 'Steppin: The Movie', 'Instinct', 'Deep Blue Sea', 'The Musketeer', 'Licence to Kill', 'Gentlemans Agreement', 'A Mighty Wind', 'The Edge', 'Beyond the Mat', 'Interview with the Assassin', 'Legends of the Fall', 'Gullivers Travels', 'Beowulf', 'Extremely Loud & Incredibly Close', 'Supporting Characters', 'Sweet Sweetbacks Baadasssss Song', 'The Son of No One', 'The SpongeBob SquarePants Movie', 'Fifty Shades of Grey', 'The Hobbit: The Desolation of Smaug', 'Jason Bourne', 'The Texas Chain Saw Massacre', 'Welcome to the Dollhouse', 'Krull', 'The Emperors Club', 'Labor Day', 'Epic Movie', 'Now You See Me', 'The Helix... Loaded', 'Without Men', 'Mr. Deeds', 'The Hobbit: The Battle of the Five Armies', 'Six-String Samurai', 'Creature            ', 'Run, Fatboy, Run', 'Wonderland', 'Groove', 'Duplex', 'The Polar Express', 'Chéri', 'Nerve', 'For Your Eyes Only', 'Space Jam', 'Jack Brooks: Monster Slayer', 'Twisted            ', 'Prom', 'Gone Girl', 'The Naked Gun 2½: The Smell of Fear', 'Moon', 'Blindness', 'In the Heat of the Night            ', 'Kinsey', 'Big Mommas: Like Father, Like Son', 'Major League', 'Married Life', 'Adulterers', 'Bubba Ho-Tep', 'Minions', 'Eureka            ', 'Patton', '500 Days of Summer', 'Sense and Sensibility', 'Soul Food', 'Love and Death on Long Island', 'Bruce Almighty', 'The Score', 'Pitch Perfect 2', 'Automata', 'Like Crazy', 'The Best of Me', 'The Golden Child', 'The Juror', 'Lock, Stock and Two Smoking Barrels', 'Marvins Room', 'Bobby Jones: Stroke of Genius', 'Buffalo Soldiers', 'Marie Antoinette', 'Top Hat', 'Lone Wolf McQuade', 'Phat Girlz', 'The Last Dragon', 'Rent', 'Unleashed', 'Pompeii', 'Ri¢hie Ri¢h', 'The Secret Life of Walter Mitty', 'The Best Little Whorehouse in Texas', 'Home on the Range', 'Impostor', 'The Last Stand', 'Dr. No', 'X-Men Origins: Wolverine', 'Ben-Hur', 'Top Spin', 'Catch-22', 'American Pie', 'Sorcerer', 'The Three Stooges', 'Outside Providence', 'Dreamcatcher', 'Zack and Miri Make a Porno', 'Fortress', 'Analyze That', 'How Green Was My Valley', 'Housebound', 'Chernobyl Diaries', 'Reign Over Me', 'Red Sonja', 'Green Room', 'Pride and Glory', 'The Boy in the Striped Pajamas', 'Disaster Movie', 'Lakeview Terrace', 'Carrie', 'What a Girl Wants', 'An Unfinished Life', 'Taxi to the Dark Side', 'Infamous', 'High Plains Drifter', 'The Tigger Movie', 'Saw IV', 'Zipper', 'Green Street 3: Never Back Down', 'From Justin to Kelly', 'Harold & Kumar Escape from Guantanamo Bay', 'My Favorite Martian', 'Holes', 'The Blue Butterfly', 'Angels & Demons', 'Stuart Little', 'The Invention of Lying', 'Highlander: Endgame', 'Cat People', 'Blood and Wine', 'My Fellow Americans', 'The Basket', 'Passchendaele', 'The Intern', 'The Horse Boy', 'The Longest Yard', 'We Bought a Zoo', 'Transformers: Age of Extinction', 'Underclassman', 'The Girl with the Dragon Tattoo', 'Lets Be Cops', 'For Colored Girls', 'Erin Brockovich', 'The Cavemans Valentine', 'Two Brothers', 'Supernova', 'Ayurveda: Art of Being', 'Baghead', 'Harry Brown', 'Star Trek V: The Final Frontier', 'Running with Scissors', 'Stone Cold', 'Chicken Run', 'Crocodile Dundee', 'The Muppets', 'I Love You, Man', 'The Full Monty', 'Hall Pass', 'You, Me and Dupree', 'Stolen Summer', 'The Devils Advocate', 'Bram Stokers Dracula', 'Gods Not Dead 2', 'Maos Last Dancer', 'Jurassic World', 'Resurrecting the Champ', 'My Beautiful Laundrette', 'The Iron Giant', 'Worlds Greatest Dad', 'Auto Focus', 'The Worlds Fastest Indian', 'Pineapple Express', 'The Hunger Games: Mockingjay - Part 2', 'The Greatest Show on Earth', 'Getaway', 'Sydney White', 'The Sisterhood of the Traveling Pants', 'Righteous Kill', 'Inkheart', 'The Messenger: The Story of Joan of Arc', 'Pride & Prejudice', 'Win a Date with Tad Hamilton!', 'The Yellow Handkerchief', 'All About Steve', 'Independence Day', 'The Amazing Spider-Man 2', 'Coffee Town', 'Morning Glory', 'My Date with Drew', 'Tootsie', 'Gremlins 2: The New Batch', 'Secretary', 'Ali', 'Brighton Rock', 'Lisa Picard Is Famous', 'The Debt', 'Bad Boys II', 'A Scanner Darkly', 'Poltergeist III', 'Sideways', 'Submarine', 'Basquiat', 'Chasing Liberty', 'The Phantom of the Opera', 'Alice Through the Looking Glass', 'Lars and the Real Girl', 'Mrs. Winterbourne', '10 Cloverfield Lane', 'Suicide Squad', 'Tim and Erics Billion Dollar Movie', 'The Hangover Part II', 'A Most Wanted Man', 'Chicago', 'For a Good Time, Call...', 'Jesus People', 'Midnight Cabaret', 'Re-Kill', 'Rodeo Girl', 'Blue Valentine', 'Lovely, Still', 'Sin City: A Dame to Kill For', 'Stargate: The Ark of Truth', 'Babylon A.D.', 'Moneyball', 'The Oh in Ohio', 'Faster', 'War of the Worlds', 'Antitrust', 'Clueless', 'Pirates of the Caribbean: Dead Mans Chest', 'Ratatouille', 'Recess: Schools Out', 'RED', 'Spotlight', 'Shanghai Calling', 'The Town', 'Apollo 13', 'This Is Martin Bonner', 'Tycoon', 'Transporter 2', 'M*A*S*H            ', 'Jade', 'The Goods: Live Hard, Sell Hard', 'The Newton Boys', 'The Past is a Grotesque Animal', 'Hurricane Streets', 'The Inkwell', 'Now Is Good', 'Sling Blade', 'Blazing Saddles', 'The Greatest Movie Ever Sold', 'Town & Country', 'Warlock', 'Manito', 'The Long Kiss Goodnight', 'Pretty Woman', 'Circle', 'Leap Year', 'Romance & Cigarettes', 'Scream 3', 'The Kentucky Fried Movie', 'The Majestic', 'Teenage Mutant Ninja Turtles II: The Secret of the Ooze', 'Jawbreaker', 'Lonesome Jim', 'Perfect Cowboy', 'The Shadow', 'Down Terrace', 'Thunder and the House of Magic', 'Grease', 'Margaret', '17 Again', 'The Specials', 'Child 44', 'The Lazarus Effect', '3 Strikes', 'The Stepford Wives', 'Dirty Pretty Things', 'Little Nicky', 'Django Unchained', 'Redemption Road', 'Shooter', 'The Front Page', 'Paul', 'Two Weeks Notice', 'Big Trouble in Little China', 'Ink', 'Tears of the Sun', 'Love in the Time of Cholera', 'McFarland, USA', 'Jungle Shuffle', 'Highway', 'Double Impact', 'Nanny McPhee', 'The Ant Bully', 'The Last Song', 'The Sound of Music', 'The Lovely Bones', 'Bill & Teds Excellent Adventure', 'Cloudy with a Chance of Meatballs 2', 'This Is 40', 'Code of Honor', 'The Frozen Ground', 'Super', 'Legion', 'Willard', 'American History X', 'Cold Mountain', 'The Birth of a Nation', 'The Boy Next Door', 'Wing Commander', 'Paranormal Activity', 'Daddy Day Camp', 'How She Move', 'Legally Blonde', '50 First Dates', 'Flight of the Phoenix', 'Casino Jack', 'Hot Pursuit', 'Below Zero', 'Phantasm II', 'Sound of My Voice', 'The English Patient', 'Birth', 'Hardflip', 'The Salon', 'The Wood', 'Escape from Alcatraz', 'Its Always Sunny in Philadelphia            ', 'Poetic Justice', 'Scoop', 'The Santa Clause 2', 'Courage', 'The Last Castle', 'Pirates of the Caribbean: On Stranger Tides', 'Antz', 'Because I Said So', 'Hard Rain', 'Hollow Man', 'Happiness', 'The Simpsons Movie', 'Percy Jackson: Sea of Monsters', 'The Little Prince', 'What Just Happened', 'American Hero', 'Pixels', 'Rosemarys Baby', 'Whatever It Takes', 'The Andromeda Strain', 'The Secret of Kells', 'Diary of a Wimpy Kid', 'Rugrats Go Wild', 'We Need to Talk About Kevin', 'Cavite', 'Grandmas Boy', 'It Happened One Night', 'Brooklyn Rules', 'Thumbsucker', 'Nurse 3D', 'Jimmy Neutron: Boy Genius', 'Lockout', 'The Sweeney', 'Waterloo', 'Supercapitalist', 'Maniac', 'Tomorrow Never Dies', 'Men in Black', 'The Adventures of Elmo in Grouchland', 'The Boss', 'A Cinderella Story', 'American Sniper', 'Frat Party', 'Centurion', 'The Hunger Games: Mockingjay - Part 1', 'Childless', 'Half Nelson', 'The Apostle', 'Tin Can Man', 'The Brown Bunny', 'Bon Cop Bad Cop', 'Anaconda', 'Volcano', 'Jack the Giant Slayer', 'Twilight', 'Get on Up', 'The 5th Quarter', 'Hachi: A Dogs Tale', 'Fifty Dead Men Walking', 'Timecop', 'The Forsaken', 'Syriana', 'The Oxford Murders', '1776', 'Drive Me Crazy', 'Religulous', 'Welcome to Collinwood', 'Ghosts of Mississippi', 'The Amazing Spider-Man', 'Ray', 'Hobo with a Shotgun', 'Kids', 'PCU', 'Silent House', 'Romeo + Juliet', 'The Green Hornet', 'The Jimmy Show', 'Friday the 13th Part VII: The New Blood', 'Superman III', 'The Bridges of Madison County', 'The Prince and Me', 'The Proposal', 'Paranormal Activity 3', 'Funny Ha Ha', 'Love Actually', 'Yoga Hosers', 'Jack Ryan: Shadow Recruit', 'Star Wars: Episode I - The Phantom Menace', 'Rush', 'Little Boy', 'Palo Alto', 'The New Guy', 'College', 'Charlies Angels', 'New York Stories', 'Keeping the Faith', 'Body of Lies', 'Dawn of the Dead', 'Splice', 'The Big Hit', 'Walk the Line', 'The Worlds End', '2001: A Space Odyssey', 'The Diary of a Teenage Girl', 'Lady in White', 'Ride Along', 'Magnolia', 'The Devils Rejects', 'Battle Los Angeles', 'The Legend of Bagger Vance', 'The Replacements', 'Brooklyns Finest', 'Left Behind', 'We Own the Night', 'The Adventures of Tintin', 'Death Becomes Her', 'The Other Side of Heaven', 'Walk Hard: The Dewey Cox Story', 'Turbulence', 'Varsity Blues', 'Zombieland', 'Gracie', 'Timber Falls', 'Crazy/Beautiful', 'The Cold Light of Day', 'Quigley Down Under', 'Spun', 'Coyote Ugly', 'The Sisterhood of Night', 'Rambo III', 'Love and Other Catastrophes', 'High School Musical', 'Confessions of a Teenage Drama Queen', 'Up in the Air', 'Drumline', 'Space: Above and Beyond            ', 'Freddy Got Fingered', 'Pay It Forward', 'Mommie Dearest', 'D.E.B.S.', 'Southpaw', 'Criminal Activities', 'Rollerball', 'Dying of the Light', 'The Cottage', 'The Shipping News', 'Fear Clinic', 'Eden', 'The Prince', 'Legends of Oz: Dorothys Return', 'The Unborn', 'Velvet Goldmine', 'Pain & Gain', 'Source Code', 'Concussion', 'The Astronauts Wife', 'Freeway', 'Slow Burn', 'The Ballad of Jack and Rose', 'Dressed to Kill', 'Vera Drake', 'District 9', 'Bride of Chucky', 'Raymond Did It', 'Romeo Must Die', 'The Believer', 'The Nuns Story', 'Grace of Monaco', '16 Blocks', 'The Hustler', 'Whiteout', 'Thank You for Smoking', 'Cloudy with a Chance of Meatballs', 'The Devil Wears Prada', 'Raise the Titanic', 'Unforgiven', 'The Mask', 'Harriet the Spy', 'Toy Story 3', 'Regression', 'The Twilight Saga: New Moon', 'Mean Girls', 'Womb', 'Valkyrie', 'A Good Year', 'Everybodys Fine', 'Frequency', 'A Low Down Dirty Shame', 'Spider', 'Texas Chainsaw 3D', 'Time to Choose', 'Civil Brand', 'Live and Let Die', 'Firestarter', 'Lucky Numbers', 'Devil', 'Ravenous', 'Absentia', 'The Toxic Avenger', 'Melancholia', 'The Good Guy', 'The Valley of Decision', 'Who Killed the Electric Car?', 'Man on Wire', 'Air Bud', 'Over the Hedge', 'Quantum of Solace', 'Jackass 3D', 'Shadowlands', 'The Box', 'Tusk', 'Once Upon a Time in America', 'Things We Lost in the Fire', 'Sex with Strangers', 'Alive', 'The Jungle Book 2', 'Bring It On', 'Crash', 'Hannibal            ', 'Meet the Parents', 'The Hills Have Eyes II', 'The Mexican', 'The Perfect Wave', 'E.T. the Extra-Terrestrial', 'Wrath of the Titans', 'Shutter', 'Wordplay', 'Primary Colors', 'Misconduct', 'State Fair', 'Living Out Loud', 'The Poker House', 'Red State', 'Her', 'Hot Tub Time Machine', 'The Wash', 'Noah', 'Vicky Cristina Barcelona', 'Moms Night Out', 'Equilibrium', 'The Outsiders', 'Abandoned', 'Bride Wars', 'S.W.A.T.', 'Youth in Revolt', 'Spy Kids: All the Time in the World in 4D', 'Boynton Beach Club', 'Control', 'The Four Feathers', 'Living Dark: The Story of Ted the Caver', 'Her Cry: La Llorona Investigation', 'Unstoppable', 'Jason Lives: Friday the 13th Part VI', 'American Heist', 'The Doombolt Chase            ', 'Anonymous', 'The Hurt Locker', 'On Her Majestys Secret Service', 'The Hundred-Foot Journey', 'Minority Report', 'The Runaways', 'Shattered', 'Crop Circles: Quest for Truth', 'House of 1000 Corpses', 'Monsters vs. Aliens', 'Saving Private Ryan', 'Enemy at the Gates', 'The Hobbit: An Unexpected Journey', 'Dragon Nest: Warriors Dawn', 'Be Kind Rewind', 'The Twilight Saga: Eclipse', 'Collateral Damage', 'Imaginary Heroes', 'Dragonslayer', 'The Pledge', 'Legally Blonde 2: Red, White & Blonde', 'The Taking of Pelham 1 2 3', 'Inchon', 'A Walk Among the Tombstones', 'Big Mommas House 2', 'The Lost Medallion: The Adventures of Billy Stone', 'Snitch', 'Thomas and the Magic Railroad', 'ZMD: Zombies of Mass Destruction', 'The Barbarians', 'Slacker Uprising', 'Chain of Command', 'Gods of Egypt', 'Dear John', 'Playing for Keeps', 'Snake Eyes', 'Halloween: The Curse of Michael Myers', 'Invictus', 'Kung Pow: Enter the Fist', 'Hansel & Gretel: Witch Hunters', 'Our Brand Is Crisis', 'Looper', 'Network', 'Tombstone', 'The Maze Runner', 'Rush Hour            ', 'Blue Car', 'Bad Lieutenant: Port of Call New Orleans', 'Laws of Attraction', 'The Good Thief', 'Insomnia Manica', 'The Velocity of Gary', 'To Kill a Mockingbird', 'Mortal Kombat', 'The Quiet American', 'N-Secure', 'Wolves', 'The Rise of the Krays', 'The Ladykillers', 'Beastmaster 2: Through the Portal of Time', 'How to Train Your Dragon', 'Me You and Five Bucks', 'Derailed', 'Me Before You', 'The Faculty', '300: Rise of an Empire', 'Nicholas Nickleby', 'Blood Diamond', 'Psycho Beach Party', 'The Hunchback of Notre Dame', 'Down to You', 'Never Back Down', 'The Second Best Exotic Marigold Hotel', 'The Hotel New Hampshire', 'Khumba', 'The Pirate', 'How to Be Single', 'Jefferson in Paris', 'Strangerland', 'The Long Riders', 'Underworld', 'Friday', 'Malcolm X', 'The Face of an Angel', 'Harry Potter and the Deathly Hallows: Part II', 'Leatherheads', 'Lovesick            ', 'Isnt She Great', 'Your Sisters Sister', 'I Am Sam', 'The Cave', 'Orgazmo', 'In Cold Blood', 'The Betrayed', 'Its Kind of a Funny Story', 'Lost in Space', 'Puss in Boots', 'Newlyweds', 'Sparkle', 'Silent Hill: Revelation 3D', 'Titan A.E.', 'Two Can Play That Game', 'Nighthawks', 'The Awakening', 'Man on the Moon', 'Alien: Resurrection', 'Beverly Hills Cop', 'The Sweetest Thing', 'Indiana Jones and the Kingdom of the Crystal Skull', 'The Five-Year Engagement', 'Heavy Metal', 'Superbabies: Baby Geniuses 2', 'Ride Along 2', 'Light Sleeper', 'Butch Cassidy and the Sundance Kid', 'Toy Story', 'World Trade Center', 'State of Play', 'Vantage Point', 'Eragon', '47 Ronin', 'Crimson Tide', 'Shaun the Sheep            ', 'Sonny with a Chance            ', 'Ant-Man', 'Black Nativity', 'Conan the Destroyer', 'Bridget Jones: The Edge of Reason', 'Rebecca', 'Atlantis: The Lost Empire', 'Snow White: A Tale of Terror', 'The Man Who Knew Too Little', 'Cars 2', 'Hotel Transylvania', 'Machine Gun McCain', 'The Devils Double', 'The Avengers', 'Austin Powers: International Man of Mystery', 'Trainspotting', 'Post Grad', 'Rise of the Entrepreneur: The Search for a Better Way', 'Timeline', 'Ironclad', 'Bandits', 'The Perfect Game', 'The Puffy Chair', 'The Others', 'Funny Games', 'The Possession', 'A Lego Brickumentary', 'Call + Response', 'Cirque du Freak: The Vampires Assistant', 'Killer Joe', 'White Noise', 'Witchboard', 'Witless Protection', 'The To Do List', 'Girl with a Pearl Earring', 'Run All Night', 'John Carter', 'Prometheus', 'Madagascar 3: Europes Most Wanted', 'On Deadly Ground', '88 Minutes', 'Shark Night 3D', 'The Howling', 'Breakin All the Rules', 'Must Love Dogs', 'Anything Else', 'Die Hard 2', 'Fido', 'Once in a Lifetime: The Extraordinary Story of the New York Cosmos', 'Paranormal Activity 4', 'The Importance of Being Earnest', 'The Nutty Professor', 'Deck the Halls', 'Barnyard', 'Here on Earth', 'Knocked Up', 'Losin It', 'The Flintstones', 'Rain Man', 'Return to the Blue Lagoon', 'Bones            ', 'Harry Potter and the Sorcerers Stone', '30 Nights of Paranormal Activity with the Devil Inside the Girl with the Dragon Tattoo', 'Heroes            ', 'High School Musical 2', 'Restoration', 'Down to Earth', 'Perfume: The Story of a Murderer', 'Super 8', 'The Great Train Robbery', 'The Lion of Judah', 'Smillas Sense of Snow', 'Da Sweet Blood of Jesus', 'The Negotiator', 'The Timber', 'Bathory: Countess of Blood', 'What Planet Are You From?', 'Ed Wood', 'Yogi Bear', 'Death Calls', 'Night at the Museum: Secret of the Tomb', 'Terminator 3: Rise of the Machines', 'Two Lovers', 'Bled', 'Kansas City', 'The Lucky Ones', 'In the Bedroom', 'Cleopatra', 'Crowsnest', 'I Think I Love My Wife', 'The Longest Ride', 'Chappie', 'Prophecy', 'Taking Woodstock', 'Christmas Mail', 'Morvern Callar', 'Saw V', 'ParaNorman', 'Rampage', 'Escape from the Planet of the Apes', 'Dune', 'Highlander', 'Million Dollar Arm', 'Pieces of April', 'The Return of the Living Dead', 'Charlottes Web', 'The Chronicles of Narnia: The Lion, the Witch and the Wardrobe', 'The Siege', 'The Object of My Affection', 'Mad Max 2: The Road Warrior', 'The Expendables 2', 'Top Gun', 'Major Dundee', 'Anchorman 2: The Legend Continues', 'Life of Pi', 'Amadeus', 'Grace Unplugged', 'Police Academy', 'Team America: World Police', 'Hellraiser', 'Sex Tape', 'The Exploding Girl', 'The Squid and the Whale', 'Days of Thunder', 'A Farewell to Arms', 'Poltergeist', 'The Broken Hearts Club: A Romantic Comedy', 'How to Lose a Guy in 10 Days', 'Elizabeth: The Golden Age', 'The Best Exotic Marigold Hotel', 'Wag the Dog', 'Paddington', 'W.', 'Disclosure', 'Stripes', 'The Pelican Brief', 'Wimbledon', 'Bowling for Columbine', 'No Reservations', 'Standard Operating Procedure', 'The Living Wake', 'The Wind That Shakes the Barley', 'Invaders from Mars', 'Wyatt Earp', 'Proof of Life', 'Food, Inc.', 'Everything You Always Wanted to Know About Sex * But Were Afraid to Ask', 'Atlas Shrugged: Who Is John Galt?', 'Robot Chicken            ', 'Vanilla Sky', 'Antwone Fisher', 'Judgment at Nuremberg', 'Maid in Manhattan', 'American Wedding', 'The Infiltrator', 'Best in Show', 'The Ghost and the Darkness', 'The A-Team            ', 'Scott Pilgrim vs. the World', 'Easy Virtue', 'Exodus: Gods and Kings', '55 Days at Peking', 'Impact Point', 'Running Scared', 'Coal Miners Daughter', 'The Replacement Killers', 'Man of the Year', 'Sleeper', 'Kissing Jessica Stein', 'Good Dick', 'The Sentinel', 'Dick Tracy', 'Half Past Dead', 'American Ninja 2: The Confrontation', 'Self/less', 'The Young Victoria', 'Weekend', 'The Brothers', '8 Mile', 'How Do You Know', 'Water & Power', 'Men in Black 3', 'Halloween III: Season of the Witch', 'Hostel', 'Begin Again', 'Big Miracle', 'Sanctum', 'Shattered Glass', 'Family Plot', 'Broken Arrow', 'Snow White: A Deadly Summer', 'The Marine 4: Moving Target', 'The Eclipse', 'The Matrix', 'Goldfinger', 'Dude, Wheres My Car?', 'Half Baked', 'The Pet', 'Heroes of Dirt', 'Lifeforce', 'Hellboy II: The Golden Army', 'Rio', 'A Night at the Roxbury', 'Clerks', 'Young Frankenstein', 'Under the Rainbow', 'Bucky Larson: Born to Be a Star', 'Hostel: Part II', 'Marmaduke', 'Midnight in the Garden of Good and Evil', 'Enter the Void', 'Winnie Mandela', 'Valiant', 'Good Deeds', 'Rivers Edge', 'The Bourne Supremacy', '40 Days and 40 Nights', 'Thir13en Ghosts', 'Legal Eagles', '20 Feet from Stardom', 'Bridget Joness Diary', 'Shakespeare in Love', 'Vertical Limit', 'Space Chimps', 'The Other Dream Team', 'A Haunted House', 'Trade of Innocents', 'White Noise 2: The Light', 'August: Osage County', 'The Monuments Men', 'Eye of the Dolphin', 'An Everlasting Piece', 'Signed Sealed Delivered', 'Come Early Morning', 'My Cousin Vinny', 'The Hours', 'Valentine', 'Days of Heaven', 'Kiss of Death', 'Elf', 'Repo! The Genetic Opera', 'Babel', 'Silent Running', 'And Then Came Love', '1982', 'Rachel Getting Married', 'Hereafter', 'Percy Jackson & the Olympians: The Lightning Thief', 'Joe Dirt', 'Snow Flower and the Secret Fan', 'By the Sea', 'Creepshow', 'Get Smart', '50/50', 'Alien Uprising', 'Life            ', 'Spice World', 'The Lord of the Rings: The Fellowship of the Ring', 'Sahara', 'The Matador', 'Lord of War', 'All the Kings Men', 'Superstar', 'I Dont Know How She Does It', 'A Mighty Heart', 'The SpongeBob Movie: Sponge Out of Water', 'Excessive Force', 'American Reunion', 'Standing Ovation', 'Selena', 'Back to the Future Part II', 'Dylan Dog: Dead of Night', 'Wonder Boys', 'B-Girl', 'Horse Camp', 'Falcon Rising', 'Rounders', 'Striptease', 'The Grand Budapest Hotel', 'The Hadza: Last of the First', 'The Players Club', 'Split Second', '9½ Weeks', 'Perriers Bounty', 'White House Down', 'Windsor Drive', 'Vamps', 'The Italian Job', 'Doctor Zhivago', 'What Happens in Vegas', 'The Time Travelers Wife', 'Inescapable', 'Little Voice', 'Ice Age: The Meltdown', 'Gladiator', 'Mission to Mars', 'Juwanna Mann', 'Spy Kids 3-D: Game Over', 'The Fourth Kind', 'Fabled', 'Dragonball: Evolution', 'The End of the Affair', 'Safety Not Guaranteed', 'Underworld: Awakening', 'Flash of Genius', 'Avatar', 'Star Trek IV: The Voyage Home', 'Big Fat Liar', 'The Contender', 'The Imitation Game', 'The Impossible', 'The Skeleton Twins', 'Surfs Up', 'Def-Con 4', 'The Karate Kid', 'The Kid', 'The Transporter Refueled', 'Capricorn One', 'Jerry Maguire', 'Dil Jo Bhi Kahey...', 'Double Jeopardy', 'The Return of the Pink Panther', 'The Fifth Estate', 'Ice Age: Continental Drift', 'Phenomenon', 'The Country Bears', 'The Social Network', 'X-Men', 'West Side Story', 'Waking Ned Devine', 'A Civil Action', 'The Break-Up', 'The Virgin Suicides', '8: The Mormon Proposition', '28 Weeks Later', 'Kiss Kiss Bang Bang', 'The Order', 'The Young and Prodigious T.S. Spivet', 'Zambezia', 'Assassins', 'Mambo Italiano', 'Aliens', 'Remember Me', 'Big Daddy', 'American Hustle', 'Bait', 'Hackers', 'The Dirties', 'Road House', 'Slam', 'St. Vincent', 'The Prince of Tides', 'Beyond the Sea', 'Blade II', 'The Statement', 'Colombiana', '200 Cigarettes', 'The Family Man', 'The Piano', 'Autumn in New York', 'Baby Mama', 'The Deported', 'The Player            ', 'The Family            ', 'Mr. & Mrs. Smith', 'The Heart of Me', 'A Lonely Place to Die', 'Edmond', 'Escape Plan', 'Mr 3000', 'Fargo            ', 'Two Evil Eyes', 'A Dogs Breakfast', 'The Other Woman', 'Lone Survivor', 'Flashdance', 'Juno', 'Peaceful Warrior', 'Employee of the Month', 'That Thing You Do!', 'Midnight Cowboy', 'A Bridge Too Far', 'Megiddo: The Omega Code 2', 'A Guy Thing', 'Divergent', 'Skyline', 'Marilyn Hotchkiss Ballroom Dancing and Charm School', 'The Patriot', 'Troop Beverly Hills', 'Kill List', 'The Sisterhood of the Traveling Pants 2', 'A Walk on the Moon', 'Rotor DR1', 'Sugar Town', 'Bridesmaids', 'Darkness Falls', 'Shade', 'Kevin Hart: Let Me Explain', 'Raiders of the Lost Ark', 'The Incredibly True Adventure of Two Girls in Love', 'The Three Musketeers', 'The Spirit', 'Close Encounters of the Third Kind', 'What to Expect When Youre Expecting', 'Book of Shadows: Blair Witch 2', 'The Texas Chainsaw Massacre: The Beginning', 'You Got Served: Beat the World', 'Light from the Darkroom', 'Heartbeeps', 'Fat, Sick & Nearly Dead', 'Good', 'Sabotage', 'The Hoax', 'Annabelle', 'Dinner Rush', 'Fireproof', 'Cheaper by the Dozen', 'The Rose', 'The Tuxedo', 'Adore', 'The White Countess', 'Against the Ropes', 'Cant Stop the Music', 'The Signal', 'Black Hawk Down', 'Race', 'Simon Birch', 'Air Force One', 'The Wolfman', 'Dead Man Walking', 'The Scorpion King', 'The Chronicles of Narnia: The Voyage of the Dawn Treader', 'Kingdom of Heaven', 'Still Alice', 'What the #$*! Do We (K)now!?', 'Haywire', '90 Minutes in Heaven', 'Good Will Hunting', 'Pirate Radio', 'Year One', 'Bamboozled', 'Ladyhawke', 'Tucker and Dale vs Evil', 'One Flew Over the Cuckoos Nest', 'Breaking Upwards', 'The House of the Devil', 'Spy Game', 'Some Guy Who Kills People', 'Cinderella Man', 'Along the Roadside', 'Fifty Shades of Black', 'After the Sunset', 'Aladdin', 'Bully', 'Hitman', 'Rocky', 'Love Jones', 'Riding in Cars with Boys', 'Safe Men', 'American Graffiti', 'My Babys Daddy', 'The Secret Life of Pets', 'Fruitvale Station', 'A Guy Named Joe', 'Ronin', 'Gangsters Paradise: Jerusalema', 'Gerry', 'Fair Game', 'Sexy Beast', 'The Hammer', 'Tom Jones', 'The Blair Witch Project', 'A Lot Like Love', 'Beautiful Creatures', 'Garfield', 'Nebraska', 'Once Upon a Time in Queens', 'Winters Tale', 'The Jackal', 'Dancer in the Dark', 'On the Downlow', 'Me and Orson Welles', 'My Life in Ruins', 'Redacted', 'Drillbit Taylor', 'The Thing', 'House at the End of the Street', 'Never Again', 'Darling Lili', 'The Princess and the Cobbler', 'Spider-Man 2', 'Four Christmases', 'G-Force', 'Shes Gotta Have It', 'The Color of Money', 'Seed of Chucky', 'Arbitrage', 'A Knights Tale', 'Batman v Superman: Dawn of Justice', 'Containment', 'Changing Lanes', 'Just Wright', 'The Ten', 'Wings            ', 'Elizabethtown', 'First Blood', 'The Partys Over', 'Domino', 'The Station Agent', 'Journey 2: The Mysterious Island', 'Non-Stop', 'My Last Day Without You', 'Exit Wounds', 'Poseidon', 'Batman: The Movie', 'Aroused', 'I Still Know What You Did Last Summer', 'Run, Hide, Die', 'Young Adult', 'Aberdeen', 'Bangkok Dangerous', 'Once', 'The Notebook', 'Out of the Furnace', 'The Hateful Eight', 'The Ides of March', 'Land of the Lost', 'House at the End of the Drive', 'The Roommate', 'Wild Wild West', 'Thor', 'Bridge of Spies', 'Enter the Dangerous Mind', 'Hannah Montana: The Movie', 'Texas Rangers', 'Final Destination 5', 'Kites', 'Filly Brown', 'Ordinary People', 'The Lord of the Rings: The Return of the King', 'Across the Universe', 'The Perfect Host', 'Martha Marcy May Marlene', 'Fun with Dick and Jane', 'Fight Club', 'Miami Vice            ', 'The Proposition', 'Things to Do in Denver When Youre Dead', 'Bulworth', 'The Lost Boys', 'The Dead Zone', 'Mystery Men', 'Signs', 'Easy A', 'The Reaping', 'Being John Malkovich', 'The Business of Strangers', 'Class of 1984', 'Robots', 'Survival of the Dead', 'Conspiracy Theory', 'Charlie Wilsons War', 'Horrible Bosses 2', 'In Her Line of Fire', 'The Other End of the Line', 'All Superheroes Must Die', 'Mr. Peabody & Sherman', 'My Soul to Take', 'Red Dragon', 'The Jacket', 'Racing Stripes', 'Furry Vengeance', 'Star Trek Into Darkness', 'This Is It', 'Closer', 'Wind Walkers', 'Mary Poppins', 'Doomsday', 'The Animal', 'Wall Street', 'Hitch', 'Gigli', 'Albino Alligator', 'The Aviator', 'Alex Rider: Operation Stormbreaker', 'Couples Retreat', 'Resident Evil: Apocalypse', 'Love Stinks', 'Babys Day Out', 'Get Hard', 'Spider-Man 3', 'Deep Impact', 'Diner', 'Unfinished Business', 'Gridiron Gang', 'Saved!', 'Lake Placid', 'Burn After Reading', 'Only God Forgives', 'Alfie', 'Real Women Have Curves', 'Next Stop Wonderland', 'Paranormal Activity: The Marked Ones', 'Dumb and Dumberer: When Harry Met Lloyd', 'The Children of Huang Shi', 'Silent Trigger', 'Big Eyes', 'Harper', 'Bullets Over Broadway', 'Gentlemen Broncos', 'Alien Zone', 'Dogma', 'The Calling', 'Moonlight Mile', 'Wish I Was Here', 'The Mummy: Tomb of the Dragon Emperor', 'The Spiderwick Chronicles', 'The Last Days on Mars', 'Corpse Bride', 'The Good Girl', 'George and the Dragon', 'The Greatest', 'Dead Mans Shoes', 'Stolen', 'Mr. Beans Holiday', 'The Art of War', 'Red Lights', 'Penitentiary', 'The X Files: I Want to Believe', 'The Call of Cthulhu', 'Mission: Impossible - Rogue Nation', 'My Life Without Me', 'War & Peace            ', 'Fired Up            ', 'Barbarella', 'Charlie St. Cloud', 'Gravity', 'The Woman Chaser', 'Bottle Rocket', 'The Messengers            ', 'Wolf', 'Buffy the Vampire Slayer            ', 'A Very Harold & Kumar 3D Christmas', 'Owning Mahowny', 'Animal House', 'Straight Outta Compton', 'Crying with Laughter', 'Universal Soldier: The Return', 'Return of the Living Dead III', 'Inglourious Basterds', 'Final Destination 2', 'Our Idiot Brother', 'Heavenly Creatures', 'I Spit on Your Grave', 'Extract', 'Higher Ground', 'Bronson', 'Planet of the Apes', 'Sisters in Law', 'The Rite', 'Jaws', 'The Color of Freedom', 'Our Kind of Traitor', 'X-Men: The Last Stand', 'Lets Kill Wards Wife', 'The Campaign', 'Be Cool', 'The Terminator', 'Armored', 'Max', 'The Rundown', 'Home Alone', 'Confessions of a Dangerous Mind', 'The BFG', 'The Great Debaters', 'The House of Mirth', 'Analyze This', 'The Adventures of Ford Fairlane', 'Poolhall Junkies', 'The Art of Getting By', 'Batman Begins', 'Bringing Out the Dead', 'Hatchet', 'Saints and Soldiers', 'Untraceable', 'Shaun of the Dead', 'Toy Story 2', 'Battlefield Earth', 'American Splendor', 'Two Lovers and a Bear', 'Bogus', 'Go for It!', 'The Oogieloves in the Big Balloon Adventure', 'Keanu', 'All the Pretty Horses', 'Partition', 'The Reef', '12 Rounds', 'Heartbreakers', 'Pink Flamingos', 'Time Bandits', 'Griff the Invisible', 'Conquest of the Planet of the Apes', 'Hot Tub Time Machine 2', 'The International', 'Escape from L.A.', 'There Be Dragons', 'Eyes Wide Shut', 'Good Boy!', 'Ride with the Devil', 'For Love of the Game', 'Howard the Duck', 'The Last Waltz', 'Hail, Caesar!', 'The Remains of the Day', 'The Lizzie McGuire Movie', 'Edge of Darkness', 'The Ugly Truth', 'The Charge of the Light Brigade', 'Catch Me If You Can', 'Barbershop', 'Seabiscuit', 'The Battle of Shaker Heights', 'Atonement', 'To Save a Life', 'The Magic Flute', 'Trust the Man', 'Chicken Tikka Masala', 'Fast Five', 'Forty Shades of Blue', 'To Rome with Love', 'Mr. Nice Guy', 'The Martian', 'Shipwrecked', 'The House Bunny', 'Penguins of Madagascar', 'No End in Sight', 'Project Almanac', 'Slackers', 'Pan', 'Shrek the Third', 'The Constant Gardener', 'Fame', 'The Rocker', 'Anna and the King', 'Dreamgirls', 'Super Troopers', 'Sleepers', 'Safe', 'The Mongol King', 'The Pursuit of D.B. Cooper', 'Nothing', 'The Bourne Ultimatum', 'Pet Sematary', 'Pulp Fiction', 'I Heart Huckabees', 'Moby Dick', 'Anywhere But Here', 'A Room for Romeo Brass', 'Desert Blue', 'Land of the Dead', 'Short Cut to Nirvana: Kumbh Mela', 'Never Let Me Go', 'Rush Hour 3', 'Sweet Home Alabama', 'Sicko', 'Home for the Holidays', 'Prisoners', 'The Kingdom', 'Sunshine State', 'Thirteen', 'The Fault in Our Stars', 'The Life Before Her Eyes', 'Insidious: Chapter 3', 'The Big Bounce', 'The Producers', '30 Minutes or Less', 'Meet Dave', 'Monsters', 'Envy', 'Jeepers Creepers', 'Western Religion', 'Megaforce', 'I Am Wrath', 'Fantastic Four', 'Narc', 'Constantine            ', 'Slither', 'Saint Ralph', 'Somewhere', 'Ice Age', 'Were the Millers', 'The Dukes of Hazzard', 'Fat Albert', 'Mean Streets', 'License to Wed', 'Broken Vessels', 'The Chronicles of Riddick', 'Letters to God', 'Seventh Son', 'The Road to El Dorado', 'Blow Out', 'In the Name of the King: A Dungeon Siege Tale', 'The Corruptor', 'A Single Man', 'Epic', 'Foolish', 'Hoop Dreams', '15 Minutes', 'Topsy-Turvy', 'UnDivided', 'Detention of the Dead', 'Rust', 'Notes on a Scandal', 'The Golden Compass', 'Broken City', 'The Wicked Lady', 'The Women', 'Tinker Tailor Soldier Spy', 'The Haunted Mansion', 'The Last Station', 'Tarnation', 'High School Musical 3: Senior Year', 'Superman Returns', 'Thats My Boy', 'Unbroken', 'Detention', 'Shall We Dance', 'Amidst the Devils Wings', 'Bernie', 'The Upside of Anger', 'Space Cowboys', 'The Adjustment Bureau', 'The Horse Whisperer', 'The Gunman', 'Monte Carlo', 'Ripleys Game', 'The Funeral', 'Born of War', 'Copycat', 'Wild Card', 'Frozen', 'The Lego Movie', 'The Gift', 'Eden Lake', 'Oceans Twelve', 'Stigmata', 'The Elephant Man', 'Ghost', 'Daylight', 'Salt', 'Iron Man 3', 'Dry Spell', 'Van Wilder: Party Liaison', 'Radio', 'Tora! Tora! Tora!', 'Confidence', 'Seven Pounds', 'Tanner Hall', 'Dragon Wars: D-War', 'Congo', 'Die Another Day', 'Deadfall', 'Jersey Boys', 'BrainDead            ', 'Capote', 'Stir of Echoes', 'The Midnight Meat Train', 'Gunless', 'Swimfan', 'Red Planet', 'Mandela: Long Walk to Freedom', '28 Days', 'One Hour Photo', 'The Hudsucker Proxy', 'Mission: Impossible - Ghost Protocol', 'The Prestige', 'Random Hearts', 'Just Married', 'The Incredibles', 'Interstellar', 'Unnatural', 'Forgetting Sarah Marshall', 'New in Town', 'Running Forever', 'The Revenant', 'Valentines Day', 'Insidious', 'Patriot Games', 'The Conjuring', 'Happy Christmas', 'The Running Man', 'Dreamer: Inspired by a True Story', 'The Village', 'Shanghai Knights', 'Somethings Gotta Give', 'Idle Hands', 'Some Like It Hot', 'Blade Runner', 'The Quick and the Dead', 'McHales Navy            ', 'The Sorcerers Apprentice', 'Man on a Ledge', 'When the Game Stands Tall', 'Kill the Messenger', 'The Big Year', '127 Hours', 'Hes Just Not That Into You', 'Cinderella', 'Compadres', 'Priest', 'Cypher', 'Made of Honor', 'The Prisoner of Zenda', 'City by the Sea', 'The Croods', 'The Adventures of Pluto Nash', 'St. Trinians', 'Mercury Rising', 'Roadside', 'BloodRayne', 'Saving Grace            ', 'The Purge', 'Lara Croft Tomb Raider: The Cradle of Life', 'Listening', 'Freakonomics', 'Office Space', 'Where the Wild Things Are', 'Cheaper by the Dozen 2', 'The Bourne Identity', 'Kill Bill: Vol. 2', 'The Following            ', 'A Shine of Rainbows', 'Last Holiday', 'L.I.E.', 'The Fast and the Furious: Tokyo Drift', 'The Best Offer', 'Star Wars: Episode II - Attack of the Clones', 'Gettysburg', '12 Angry Men', 'Showdown in Little Tokyo', 'Arthur and the Invisibles', 'Cirque du Soleil: Worlds Away', 'Dead Man on Campus', 'I Am Number Four', 'Saw III', 'Bran Nue Dae', 'Childs Play', 'Spectre', 'Middle of Nowhere', 'Veronica Guerin', 'Wristcutters: A Love Story', 'The Chronicles of Narnia: Prince Caspian', 'Rat Race', 'R.I.P.D.', 'Kicking & Screaming', 'Head of State', 'Bulletproof Monk', 'RocknRolla', 'The Lucky One', 'Where the Heart Is', 'Exorcist: The Beginning', 'Six Days Seven Nights', 'Iris', 'Because of Winn-Dixie', 'The Cable Guy', 'Battle for the Planet of the Apes', 'Shadow of the Vampire', 'A Plague So Pleasant', 'Kill Bill: Vol. 1', 'Lets Go to Prison', 'The Wizard of Oz', 'Woodstock', 'Zulu', 'Mean Creek', 'Four Brothers', 'Catwoman', 'The Story of Us', 'Pulse', 'Bottle Shock', 'Harsh Times', 'Election', 'Fahrenheit 9/11', 'Sherlock Holmes: A Game of Shadows', 'At First Sight', 'Rise of the Guardians', 'The Phantom', 'Johnny English Reborn', 'Ready to Rumble', 'Taken 3', 'Unaccompanied Minors', '102 Dalmatians', 'The Ladies Man', 'Better Luck Tomorrow', 'Howards End', 'The Secret Life of Bees', 'The Singing Detective', 'Creepshow 2', 'A Home at the End of the World', 'Pound of Flesh', 'Hoodwinked Too! Hood vs. Evil', 'The Forbidden Kingdom', 'Mary Reilly', 'Red Eye', 'Strange Wilderness', 'Blood and Chocolate', 'Due Date', 'Black Snake Moan', 'Edge of Tomorrow', 'How High', 'Million Dollar Baby', 'Oceans Eleven', 'Shes All That', 'Spy Kids', 'Street Fighter: The Legend of Chun-Li', 'The True Story of PussN Boots', 'Jay and Silent Bob Strike Back', 'Checkmate', 'Finishing the Game: The Search for a New Bruce Lee', 'Jindabyne', 'Out Cold', 'Unknown', 'Joy Ride', 'Cradle 2 the Grave', 'The Divide', 'America Is Still the Place', 'LOL', 'Into the Woods', 'Much Ado About Nothing', 'Mystery, Alaska', 'The Big Lebowski', 'Freaky Deaky', 'Friday After Next', 'The Good German', 'Forrest Gump', 'Transcendence', 'Leaving Las Vegas', 'Agent Cody Banks 2: Destination London', 'The Guilt Trip', 'The Net', 'Secretariat', 'Bowfinger', 'Diamond Ruff', 'Time Changer', 'The Watcher', '30 Days of Night', 'Captive', 'Oculus', 'Vampire Killers', 'Murder by Numbers', 'Swimming Pool', 'The Smurfs', 'This Is Where I Leave You', 'Did You Hear About the Morgans?', 'The Tooth Fairy', '27 Dresses', 'Henry V', 'Batman: The Dark Knight Returns, Part 2', 'Beavis and Butt-Head Do America', 'Spirit: Stallion of the Cimarron', 'The Abyss', 'The Ghost Writer', 'White Fang', 'She Wore a Yellow Ribbon', 'Tomcats', 'Donkey Punch', 'Rockaway', 'The Curse of the Were-Rabbit', 'Dont Be Afraid of the Dark', 'New York, New York', 'Room', 'The Exorcist', 'Plastic', 'High Anxiety', 'Commando', 'Dear Wendy', 'Casino Royale', '10 Days in a Madhouse', 'Sleepover', 'The Messenger', 'The Vatican Exorcisms', 'They', 'Alex Cross', 'Inspector Gadget', 'The City of Your Final Destination', 'Hook', 'Lolita', 'The Sticky Fingers of Time', 'My Bosss Daughter', 'The Nutcracker', 'Royal Kill', 'Gods and Monsters', 'Next Friday', 'Shaft', 'The Cry of the Owl', 'Evan Almighty', 'Stranger Than Fiction', 'Jingle All the Way', 'Kung Fu Panda', 'The Iceman', 'Julia', 'Action Jackson', 'Escobar: Paradise Lost', 'Jonah Hex', 'Lion of the Desert', 'Maximum Risk', 'Mirrormask', 'Open Season', 'Tales from the Hood', 'Heavens Gate', 'Tower Heist', 'Bedazzled', 'Evil Dead II', 'Breakfast of Champions', 'Aquamarine', 'TRON: Legacy', 'Dwegons and Leprechauns', 'Trade', 'The New World', 'Alvin and the Chipmunks: The Squeakquel', 'Damnation Alley', 'Independence Daysaster', 'Mi America', 'Gun Shy', 'Bloody Sunday', 'Batman Returns', 'Dick', 'Dantes Peak', 'Goodfellas', 'The Peanuts Movie', 'First Knight', 'Pitch Perfect', 'Dougs 1st Movie', 'eXistenZ', 'Dinosaur', 'Devils Due', 'Predator', 'About Schmidt', 'Broken Horses', 'Fast Times at Ridgemont High', 'Furious 7', 'Insidious: Chapter 2', 'Arnolds Park', 'Frailty', 'In the Cut', 'In Good Company', 'Iron Man 2', 'Monsters Ball', 'The Perfect Match', 'Fury', 'R.L. Stines Monsterville: The Cabinet of Souls', 'The Last Witch Hunter', 'Blackthorn', 'Red Riding: In the Year of Our Lord 1974', 'April Fools Day', 'Step Up 2: The Streets', 'Love in the Time of Monsters', 'xXx: State of the Union', 'The Gambler', 'Ted 2', 'Abduction', 'Give Me Shelter', 'Cloud Atlas', 'Mamma Mia!', 'Forsaken', 'Nine', 'If I Stay', 'Warrior', 'Disturbia', 'Click', 'Ca$h', '13 Hours', 'Witness', 'Drop Dead Gorgeous', 'Kiss of the Dragon', 'The Forest', 'Michael Clayton', 'Modern Problems', 'Get Over It', 'The Magic Sword: Quest for Camelot', 'Grand Theft Parsons', 'Blood Ties', 'Robin and Marian', 'G.I. Joe: Retaliation', 'Ultraviolet', 'Cruel Intentions', 'The Godfather: Part II', 'Step Up', 'Wont Back Down', 'Contraband', 'The Spy Next Door', 'The Ridges', 'Raise Your Voice', 'Fuel', 'The Descendants', 'They Came Together', 'My Sisters Keeper', 'The 5th Wave', 'American Beauty', 'Street Kings', 'Me and You and Everyone We Know', 'The Expendables', 'The Man from Snowy River', 'Sorority Row', 'Detroit Rock City', 'The Touch', 'Green Zone', 'A Nightmare on Elm Street 3: Dream Warriors', 'Paul Blart: Mall Cop', 'A Beautiful Mind', 'A Few Good Men', 'Shrek', 'Kiss the Girls', 'Rise of the Planet of the Apes', 'Out of Sight', 'Flightplan', 'Insomnia', 'G.I. Joe: The Rise of Cobra', 'Star Trek', 'The Devils Tomb', 'Bang Bang Baby', 'The Flintstones in Viva Rock Vegas', 'Delivery Man', 'Terminator Salvation', 'Glee: The 3D Concert Movie', 'Hollywood Homicide', 'The Firm', 'Fighting Tommy Riley', 'Midnight Special', 'Fear and Loathing in Las Vegas', 'The Outrageous Sophie Tucker', 'Unsullied', 'Psycho', 'The Client', 'The Skulls', 'Do You Believe?', 'Memoirs of an Invisible Man', 'Swing Vote', 'The Time Machine', 'Elysium', 'Mystic Pizza', 'Pontypool', 'Hocus Pocus', 'In the Name of the King: The Last Job', 'Human Traffic', 'I Am Legend', 'Little Women', 'Me, Myself & Irene', 'Batman & Robin', 'Music and Lyrics', 'Straight As', 'Gangster Squad', 'The Sweet Hereafter', 'High Noon', 'Driven', 'Jesse            ', 'Finding Nemo', 'Dawn of the Planet of the Apes', 'Dead Like Me: Life After Death', 'Mrs. Doubtfire', 'Loaded Weapon 1', 'Munich', 'Prison', 'Gandhi', 'Shooting the Warwicks', 'Monster-in-Law', 'Ishtar', 'Showgirls', 'Casino', 'A Good Day to Die Hard', 'Brazil', 'The 41-Year-Old Virgin Who Knocked Up Sarah Marshall and Felt Superbad About It', 'Entourage            ', 'You Only Live Twice', 'Real Steel', 'Play It to the Bone', 'Thinner', 'The Visual Bible: The Gospel of John', 'Men in Black II', 'Novocaine', 'Exeter', 'Antiviral', 'Hulk', 'Why Did I Get Married?', 'The Stewardesses', 'Conversations with Other Women', 'Driving Lessons', 'Ransom', 'Cube', 'Airborne', 'True Lies', 'The Boondock Saints II: All Saints Day', 'Iraq for Sale: The War Profiteers', 'Sin City', 'The Happening', 'The Usual Suspects', 'Smoke Signals', 'Peeples', 'Radio Days', 'The Shawshank Redemption', 'A Perfect Getaway', 'Pocahontas', 'Dungeons & Dragons: Wrath of the Dragon God', 'On the Line', 'The First Wives Club', 'Were No Angels', 'Mutual Appreciation', 'Nacho Libre', 'Lake Mungo', 'Hugo', 'South Park: Bigger Longer & Uncut', 'Surfer, Dude', 'Zoolander', '13 Going on 30', 'The Ninth Gate', 'Fools Gold', 'Defendor', 'Star Trek: The Motion Picture', 'The Sitter', 'Armageddon', 'I Dreamed of Africa', 'Poohs Heffalump Movie', 'August', 'Earth to Echo', 'Waterworld', 'Now You See Me 2', '3000 Miles to Graceland', 'Goal! The Dream Begins', 'The Spectacular Now', 'And So It Goes', 'The Little Ponderosa Zoo', 'Zoolander 2', 'Blade: Trinity', 'Basic', 'Garfield 2', 'Public Enemies', 'Birthday Girl', 'One Night with the King', 'Requiem for a Dream', 'The R.M.', 'Twin Falls Idaho', 'The Count of Monte Cristo', 'Another Year', 'Police Academy: Mission to Moscow', 'The Bachelor            ', 'The Cabin in the Woods', 'Halloween 4: The Return of Michael Myers', 'Conan the Barbarian', 'Red River', 'The Illusionist', 'The Matrix Reloaded', 'Close Range', 'Hearts in Atlantis', 'Wild', 'Its All Gone Pete Tong', 'Robin Hood', 'Boogeyman', 'Desperado', 'Navy Seals vs. Zombies', 'Transamerica', 'Lost in Translation', 'The Land Before Time', 'Groundhog Day', 'Kundun', 'Cotton Comes to Harlem', 'Demonic', 'How Stella Got Her Groove Back', 'The Collection', 'Nothing But a Man', 'Old Dogs', 'Rush Hour 2', 'One True Thing', 'Beer League', 'The Equalizer', 'Amen.', 'Spanglish', 'Rubber', 'Aloft', 'The Number 23', 'The Young Unknowns', 'Fever Pitch', 'Love Ranch', 'Malibus Most Wanted', 'Blue Like Jazz', 'Selma', 'Beloved', 'Harry Potter and the Order of the Phoenix', 'Here Comes the Boom', 'Man on Fire', 'Superman IV: The Quest for Peace', 'Road Trip', 'The Wrestler', 'Yesterday Was a Lie', 'The Wackness', 'Jackie Brown', 'Flying By', 'Alice in Wonderland', 'Underworld: Rise of the Lycans', 'American Psycho', 'Goosebumps', 'Underworld: Evolution', 'Captain America: The Winter Soldier', '24 7: Twenty Four Seven', 'Taken 2', 'Hang Em High', 'Josie and the Pussycats', 'Michael Collins', 'Outside Bet', 'The Whole Ten Yards', 'Lucy', 'Scream: The TV Series            ', 'Up', 'Life or Something Like It', 'The Blood of Heroes', 'Oz the Great and Powerful', 'The Scarlet Letter', 'Evita', 'All About the Benjamins', 'Transformers: Revenge of the Fallen', 'Bolt', '8MM', 'Sabrina, the Teenage Witch            ', 'End of Watch', 'May', 'The Lake House', 'The Hunger Games: Catching Fire', 'Dragonfly', 'The Game', 'Dear Frankie', 'The Hebrew Hammer', 'Fantasia', 'The Girlfriend Experience            ', 'Drowning Mona', 'Mirror Mirror', 'Urbania', 'Trading Places', 'Monsters University', 'Inside Out', 'The Mist', 'The Misfits', 'Semi-Pro', 'Highlander: The Final Dimension', 'The Legend of Tarzan', 'The Back-up Plan', 'Jakob the Liar', 'You Can Count on Me', 'The Thirteenth Floor', 'Sweet Charity', 'Dudley Do-Right', 'Unbreakable', 'Down for Life', 'Enchanted', 'Inside Deep Throat', 'Nine Dead', 'Tupac: Resurrection', 'Ace Ventura: Pet Detective', 'Dracula 2000', 'Pandaemonium', 'The Stepfather', 'U-571', 'Gran Torino', 'Monty Python and the Holy Grail', 'The Lion King', 'Trainwreck', 'Perception            ', 'The League of Extraordinary Gentlemen', 'Dickie Roberts: Former Child Star', 'The Glass House', 'Around the World in 80 Days', 'How to Fall in Love', 'My Summer of Love', 'Ballistic: Ecks vs. Sever', 'I Origins', 'Open Water', 'Terminator Genisys', 'Scary Movie 5', 'The Joneses', 'The Libertine', 'Woman in Gold', 'Philomena', 'The Princess and the Frog', 'Final Destination 3', 'Cabin Fever', 'People I Know', 'Touching the Void', 'A Dangerous Method', 'Stake Land', 'Zoom', 'The Loved Ones', 'Johnny English', 'Failure to Launch', 'To Be Frank, Sinatra at 100', 'How to Be a Player', 'Malone', 'Quills', 'End of the Spear', 'Oliver!', 'Miss March', 'The Rage: Carrie 2', 'One Missed Call', 'Being Julia', 'Spring Breakers', 'Secrets and Lies            ', 'Snow Angels', 'Unforgotten            ', 'Virgin Territory', 'Finding Forrester', 'Pootie Tang', 'Harry Potter and the Goblet of Fire', 'Miracle', 'Survivor', 'Mission: Impossible II', 'Eye See You', 'The Invasion', 'Nowhere in Africa', 'Trouble with the Curve', 'The Clan of the Cave Bear', 'The Specialist', 'The Cooler', 'My Own Private Idaho', 'Miss Congeniality', 'Exam', 'Meteor', 'A Better Life', 'Star Trek VI: The Undiscovered Country', 'Carnage', 'Se7en', 'Fight to the Finish', 'No Vacancy', 'The Namesake', 'Shortbus', 'Dolphins and Whales 3D: Tribes of the Ocean', 'Hells Angels', 'Incident at Loch Ness', 'Madagascar', 'Eddie the Eagle', 'Pi', 'Species', 'Star Trek II: The Wrath of Khan', 'The Fan', 'War, Inc.', 'Chicken Little', 'Cedar Rapids', 'The Finest Hours', 'Queen Crab', 'Hanna', 'Going the Distance', '11:14', 'Draft Day', 'Blood Done Sign My Name', 'In the Company of Men', 'The Book of Life', 'Yes Man', 'The O.C.            ', 'Black Christmas', 'Hamlet 2', 'Capitalism: A Love Story', 'The Black Dahlia', 'Hoodwinked!', 'Mystic River', 'Deadline - U.S.A.', 'Nightcrawler', 'Southland Tales', 'Eight Below', 'Killing Them Softly', 'Hudson Hawk', 'Love Letters', 'The Broadway Melody', 'Anna Karenina', 'Buffalo 66', 'The DUFF', 'Soldier', 'Solomon and Sheba', 'Pandorum', 'Three Kings', 'Boom Town', 'A Time to Kill', 'Spawn', 'Wendy and Lucy', 'Serving Sara', 'All the Real Girls', 'Theresa Is a Mother', 'The Beach', 'Winged Migration', 'Jimmy and Judy', 'Blades of Glory', 'Aloha', 'Beyond the Valley of the Dolls', 'Ghosts of Mars', 'Guardians of the Galaxy', 'Into the Storm', 'Someone Like You...', 'A.I. Artificial Intelligence', 'Christmas Eve', 'The Dictator', 'Gosford Park', '16 to Life', 'The Veil', 'Outbreak', 'Big Mommas House', 'Shotgun Stories', 'In Dreams', 'The In Crowd', 'Super Size Me', 'Marci X', 'The Loss of Sexual Innocence', 'Ouija', 'Back to the Future', 'Tropic Thunder', 'Brave New Girl', 'Flywheel', '21 Grams', 'TMNT', 'Extreme Movie', 'Undiscovered', 'Mad Money', 'Buried', 'Birdman or (The Unexpected Virtue of Ignorance)', 'But Im a Cheerleader', 'Northfork', 'The Lost World: Jurassic Park', 'Dreaming of Joseph Lees', 'Feardotcom', 'Happy Feet', 'Shes the Man', 'Shes the One', 'G.I. Jane', 'Cats & Dogs', 'Footloose', 'Slums of Beverly Hills', 'Down in the Valley', 'Tango & Cash', 'The Manchurian Candidate', 'White Chicks', 'Saving Silverman', 'The Blood of My Brother', 'Mr. Hollands Opus', 'Death Sentence', 'Die Hard', 'The Ruins', 'High Heels and Low Lifes', 'Jonah: A VeggieTales Movie', 'Halloween 5', '54', 'Sinister', 'The Omega Code', 'Hollywood Shuffle', 'School Daze', 'The Queen', 'Seeking a Friend for the End of the World', 'Dark Blue', 'Kingdom of the Spiders', 'I Can Do Bad All by Myself', '3:10 to Yuma', 'Harvard Man', 'Cutthroat Island', 'Pitch Black', 'Dirty Grandpa', 'A Nightmare on Elm Street 4: The Dream Master', 'Total Recall', 'Any Given Sunday', 'They Live', 'The Insider', 'The Machinist', 'Love Me Tender', 'The Legend of Hells Gate: An American Conspiracy', 'Elektra', 'Ira & Abby', 'Shark Lake', 'Pale Rider', 'Atlas Shrugged II: The Strike', 'Knowing', 'The Muppet Christmas Carol', 'Why Did I Get Married Too?', 'Man of Steel', 'The Weather Man', 'Joyful Noise', 'On the Road', 'Planet 51', 'The Best Man Holiday', 'Quo Vadis', 'Mighty Joe Young', 'This Is England', 'Drag Me to Hell', 'Invasion U.S.A.', 'Snow Day', 'Skin Trade', 'The Dead Girl', 'Flipper', 'Intolerable Cruelty', 'Away We Go', 'Live Free or Die Hard', 'The Last Five Years', 'Return to Me', 'The Hitchhikers Guide to the Galaxy', 'Hellboy', 'Hot Fuzz', 'Maggie', 'My Super Ex-Girlfriend', 'House Party 2', 'Old School', 'Traffic', 'Courage Under Fire', 'Drinking Buddies', 'I Want Your Money', 'The Savages', 'Paranormal Activity 2', 'Grudge Match', 'The 40-Year-Old Virgin', 'Copying Beethoven', 'Bad Moms', 'The Ballad of Gregorio Cortez', 'The Watch', 'Elmer Gantry', 'Stand by Me', 'Neighbors', 'Rules of Engagement            ', 'Mars Attacks!', 'Get Carter', 'Reservoir Dogs', 'Joe', 'ATL', 'Hud', 'The Vatican Tapes', 'Assault on Precinct 13', 'Reno 911!: Miami', 'In the Valley of Elah', 'Beyond Borders', 'We Have Your Husband', 'The Skeleton Key', 'Beyond the Lights', 'A Streetcar Named Desire', 'Roger & Me', 'Jack Reacher', 'Teeth and Blood', 'Dark City', 'In Too Deep', 'Benji', 'The Call', 'Death Race 2000', 'Stick It', 'The Muse', 'Scary Movie 2', 'The River Wild', 'Ondine', 'Vessel', 'The Island', 'Flight', 'Ulees Gold', 'Restless', 'To Die For', 'Echo Dr.', 'Sausage Party', 'The Covenant', 'We Were Soldiers', 'Small Soldiers', 'Shark Tale', 'Pearl Harbor', 'Tuck Everlasting', 'Accidental Love', 'An Inconvenient Truth', 'Go', 'Damsels in Distress', 'Straight Out of Brooklyn', 'Lies in Plain Sight', 'New Years Eve', 'Videodrome', 'Despicable Me', 'Teenage Mutant Ninja Turtles III', 'Captain America: Civil War', 'Crazy, Stupid, Love.', 'The Core', 'Taxi Driver', 'All Hat', 'Dead Man Down', 'The Business of Fancydancing', 'The Heat', 'Mallrats', '3 Men and a Baby', 'Dream with the Fishes', 'Guiana 1838', 'Bad Santa', 'The Best Years of Our Lives', 'A True Story', '42nd Street', 'The Purge: Election Year', 'The Departed', 'Mulan', 'Stealing Harvard', 'My Best Friends Girl', 'Life During Wartime', 'Meet Joe Black', 'Nanny McPhee Returns', 'Not Easily Broken', 'Bandidas', 'The Virginity Hit', 'Urban Legend', 'The Trouble with Harry', 'The Wedding Planner', 'The Haunting', 'Pink Ribbons, Inc.', 'A Simple Plan', 'Bizarre', 'Blonde Ambition', 'Holy Man', 'Luminarias', 'Fantastic Mr. Fox', 'A Dog of Flanders', 'H.', 'Love & Basketball', 'Water for Elephants', 'The Duchess', 'Scream', 'Superman', 'The Banger Sisters', 'The Hurricane', 'Fort McCoy', 'Rob Roy', 'The Guru', 'The Hunger Games', 'Set It Off', 'The Iron Lady', 'Before I Go to Sleep', 'Thunderbirds', 'Young Sherlock Holmes', 'The Longest Day', 'Along Came a Spider', '3 Days to Kill', 'Johnny Suede', 'Zero Dark Thirty', 'The Homesman', 'Jarhead', 'Amnesiac', 'The Book Thief', 'Open Secret', 'Mean Machine', 'The Last House on the Left', 'Full Frontal', 'Crazy Heart', 'One Direction: This Is Us', 'Chasing Mavericks', 'Waitress', 'Nikita            ', 'Stiff Upper Lips', 'Superman II', 'Bad Boys', 'Hairspray', 'The Interview', 'The Right Stuff', 'Operation Chromite', 'The Man with the Golden Gun', 'Danny Collins', 'Dinner for Schmucks', 'One Day', 'Money Monster', 'A Man for All Seasons', 'When Harry Met Sally...', 'No Escape', 'The Hunted', 'Firefox', 'Men with Brooms', 'Avengers: Age of Ultron', 'Idiocracy', 'A Touch of Frost            ', 'Freeheld', 'The Next Three Days', 'Rushmore', 'Waynes World', 'Halloween', 'My Big Fat Greek Wedding 2', 'The Big Wedding', 'Paper Towns', 'This Means War', 'Gremlins', 'Scooby-Doo', '12 Years a Slave', 'Welcome Home, Roscoe Jenkins', 'Kiss the Bride', 'John Q', 'The Exorcism of Emily Rose', 'The Nutcracker in 3D', 'October Baby', 'The Hills Have Eyes', 'Alone in the Dark', 'Fantasia 2000', 'Silent Hill', 'Thirteen Conversations About One Thing', 'Back to the Future Part III', 'Starship Troopers', 'The Smurfs 2', 'The Place Beyond the Pines', 'The Theory of Everything', 'Songcatcher', 'As Good as It Gets', 'August Rush', 'Dark Shadows', 'C.H.U.D.', 'Skyfall', 'The Generals Daughter', 'American Gangster', 'Red Sky', 'Stargate SG-1            ', 'The Lord of the Rings: The Two Towers', 'Prom Night', 'Eraserhead', 'The 33', 'The Whole Nine Yards', 'Waiting...', 'Olympus Has Fallen', 'You Dont Mess with the Zohan', 'Out of the Blue', 'A Haunted House 2', 'Ararat', 'Defiance            ', 'Frances Ha', 'Crank: High Voltage', 'Pollock', 'The Visit', 'The Fighter', 'Chicago Overcoat', 'The Last Shot', 'Motherhood', 'Animal Kingdom            ', 'The Brave Little Toaster', 'The Night Visitor', 'The Wendell Baker Story', 'Roll Bounce', 'V for Vendetta', 'Save the Last Dance', 'Kingpin', 'Sinister 2', 'A Charlie Brown Christmas', 'Adam', 'Practical Magic', 'Alvin and the Chipmunks: The Road Chip', 'Blood In, Blood Out', 'Surrogates', 'Quartet', 'The Curse of Downers Grove', 'The November Man', 'Cursed', 'Just Go with It', 'North Country', 'Side Effects', 'Charlie Bartlett', 'Somewhere in Time', 'Race to Witch Mountain', 'Idlewild', 'Meet the Browns            ', 'Charlies Angels: Full Throttle', 'My Bloody Valentine', 'The Best Man', 'The Bridge on the River Kwai', 'The Shallows', 'Just Visiting', 'The Walking Deceased', 'Its a Wonderful Life', 'You Got Served', 'City Hall', 'Another Earth', 'Plush', 'The Book of Mormon Movie, Volume 1: The Journey', 'The Singles Ward', 'Open Range', 'All That Jazz', 'Starsuckers', 'Psych            ', 'Role Models', 'Romantic Schemer', 'Hayride', 'Free Birds', 'Teen Wolf Too', 'The Age of Innocence', 'House of Sand and Fog', 'The Molly Maguires', 'I Know What You Did Last Summer', 'Maleficent', 'Knock Off', 'Singin in the Rain', 'Maurice', 'Alvin and the Chipmunks', 'Just My Luck', 'Diary of a Wimpy Kid: Rodrick Rules', 'Bill & Teds Bogus Journey', 'Freddys Dead: The Final Nightmare', 'Happy Gilmore', 'The Conjuring 2', 'The Wraith', 'Prince of Persia: The Sands of Time', 'Patch Adams', 'Truth or Die', 'American Dreamz', 'Friday the 13th Part 2', 'La Bamba', 'Saw 3D: The Final Chapter', 'Nims Island', 'Resident Evil: Retribution', 'Enough', 'In Time', 'Lilyhammer            ', 'Dolphin Tale', 'Reign of Fire', 'Thor: The Dark World', 'Aliens vs. Predator: Requiem', 'The Last Emperor', 'Cyrus', 'Clockwatchers', 'The Santa Clause', 'Monkeybone', 'The Prince of Egypt', 'Get on the Bus', 'Gone in Sixty Seconds', 'Limbo', 'The Fast and the Furious', 'Synecdoche, New York', 'The Little Vampire', 'Warriors of Virtue', 'Soul Plane', 'Shine a Light', 'Flight of the Intruder', 'Ghost Hunters            ', 'Mr. Smith Goes to Washington', 'Beyond the Black Rainbow', 'Galaxy Quest', 'My Big Fat Independent Movie', 'The Californians', 'A Passage to India', 'Counting', 'Gattaca', 'Eves Bayou', 'Hav Plenty', 'Basic Instinct 2', 'Tadpole', 'The Green Mile', 'Arachnophobia', 'The Shaggy Dog', 'Beverly Hills Cop III', 'Solitude', 'Daredevil            ', 'Deuce Bigalow: European Gigolo', 'Three Burials', 'Wrong Turn', 'Jaws: The Revenge', 'Bambi', 'Butterfly Girl', 'Strangers with Candy            ', 'Hancock', 'The Good Night', 'Treachery', 'Bananas', 'Zodiac', 'Sharkskin', 'The X Files', 'Hands of Stone', 'Spider-Man', 'Takers', 'London to Brighton', 'Chasing Amy', 'Rudderless', 'Midnight Run', 'Brooklyn', 'Inside Man', 'Bright Lights, Big City', 'Mo Better Blues', 'Zookeeper', 'City of Angels', 'Please Give', 'The Lady from Shanghai', 'Tomorrowland', 'Nowhere to Run', 'The Boys from Brazil', 'High Fidelity', 'The Fall of the Roman Empire', 'Under the Skin', 'Deconstructing Harry', 'The Game of Their Lives', 'The Night Listener', 'Meet the Deedles', 'The Ghastly Love of Johnny X', 'Grosse Pointe Blank', 'Antarctic Edge: 70° South', 'Dutch Kills', 'Magic Mike', 'Premonition', 'The FP', 'Georgia Rule', 'The Giver', 'Hesher', 'The Man with the Iron Fists', 'Wuthering Heights            ', 'Case 39', 'Starsky & Hutch', 'Blue Crush', 'Chill Factor', 'An American in Hollywood', 'Jersey Girl', 'Lost Souls', 'Superbad', 'Twixt', 'War', 'Apollo 18', 'Annie Get Your Gun', 'The Addams Family', 'Flirting with Disaster', 'The Benchwarmers', 'Wild Target', 'Little Children', 'Ghostbusters', 'Swelter', 'A Funny Thing Happened on the Way to the Forum', 'An American Carol', 'Dogtown and Z-Boys', 'Frankenweenie', 'Grave Encounters', 'The Grudge 2', 'Burnt', 'The Last Exorcism', 'X-Men: Days of Future Past', 'Luther            ', 'Dr. Dolittle 2', 'Independence Day: Resurgence', 'Monster', 'The Love Letter', 'Boomerang', 'Entrapment', 'Firewall', 'I Love Your Work', 'Porkys', 'Soul Men', 'The Big Short', 'The Sessions', 'Winter Passing', 'Scooby-Doo 2: Monsters Unleashed', 'Take Me Home Tonight', 'The Switch', 'Inception', 'Sugar Hill', 'Barry Lyndon', 'Barneys Version', 'City of Ghosts', 'Arthur            ', 'Body Double', 'Death Race', 'Gothika', 'Its a Mad, Mad, Mad, Mad World', 'Next Day Air', 'Resident Evil: Afterlife', 'Very Bad Things', 'White Oleander', 'Die Hard with a Vengeance', 'Friends with Benefits', 'Extreme Measures', 'Lethal Weapon 3', 'Black Swan', 'Indie Game: The Movie', 'Identity Thief', 'The Fountain', 'The Tailor of Panama', 'Petes Dragon', 'Dope', 'Monster House', 'The Reader', 'Jason X', 'Supercross', 'Butterfly', 'Glory Road', 'The Bank Job', 'Deadpool', 'The Longshots', 'The Lost Skeleton of Cadavra', 'Four Lions', 'The Wedding Date', 'Transsiberian', 'The Last Legion', 'Illuminata', 'Welcome to Mooseport', 'Delgo', 'Moonraker', 'The Perez Family', 'Baby Geniuses', 'Dave Chappelles Block Party', 'Big Fish', 'The Grace Card', 'Date Night', 'Closure', 'This Thing of Ours', 'Gone with the Wind', 'Risen', 'Ninja Assassin', 'The Pirates! Band of Misfits', 'An Alan Smithee Film: Burn Hollywood Burn', 'Admission', 'Black November', 'Childs Play 2', 'Cast Away', 'Jeepers Creepers II', 'Beauty Shop', 'Annie', 'Harley Davidson and the Marlboro Man', 'Mindhunters', 'Stardust', 'Think Like a Man Too', 'Obvious Child', 'Happy Feet 2', 'Undisputed', 'Gone, Baby, Gone            ', 'Casper', 'Finding Neverland', 'Lottery Ticket', 'Escape from Planet Earth', 'Cry_Wolf', 'Arlington Road', 'Hansel & Gretel Get Baked', 'Before Midnight', 'Home', 'Hustle & Flow', 'Mooz-Lum', 'Jupiter Ascending', 'Jackass Number Two', 'My Blueberry Nights', 'Good Morning, Vietnam', 'November', 'Reindeer Games', 'Legend of the Guardians: The Owls of GaHoole', 'Sphere', 'Eight Legged Freaks', 'The Fugitive', 'The Incredible Hulk', 'Sunday School Musical', 'Transformers: Dark of the Moon', 'How the Grinch Stole Christmas', 'The Deer Hunter', 'A League of Their Own', 'Pushing Tin', 'Swept Away', 'The Last Samurai', 'Stuart Little 2', 'The Raven', 'Whats Your Number?', 'Cats & Dogs: The Revenge of Kitty Galore', 'Compliance', 'The Bounty Hunter', 'Braveheart', 'Lucky Break', 'Iguana', 'Clerks II', 'Cats Dont Dance', 'Flawless', 'The Legend of Gods Gun', 'Contagion', 'Inside Llewyn Davis', 'Topaz', 'The Man in the Iron Mask', 'Scary Movie 3', 'Born on the Fourth of July', 'Interview with the Vampire: The Vampire Chronicles', 'Willy Wonka & the Chocolate Factory', 'Naked Gun 33 1/3: The Final Insult', 'Never Say Never Again', 'Paul Blart: Mall Cop 2', 'Spellbound', 'Stuck on You', 'The Claim', 'The Innkeepers', 'Clash of the Titans', 'Paycheck', 'Shes Out of My League', 'Before Sunset', 'Everything Must Go', 'Walking Tall', 'Caravans', 'Choke', 'Disturbing Behavior', 'Wanted', 'Angel Eyes', 'Born to Fly: Elizabeth Streb vs. Gravity', 'The Bounty', 'Say It Isnt So', 'Eat Pray Love', 'Jason Goes to Hell: The Final Friday', 'Deceptive Practice: The Mysteries and Mentors of Ricky Jay', 'Captain Phillips', 'Mortal Kombat: Annihilation', 'I Want Someone to Eat Cheese With', 'Splash', 'Pride and Prejudice and Zombies', 'Darling Companion', 'Rock of Ages', 'The Curse of the Jade Scorpion', 'Alexander and the Terrible, Horrible, No Good, Very Bad Day', 'Area 51', 'Bad Teacher', 'Titanic', 'Like Mike', 'Take the Lead', 'Hostage', 'Digimon: The Movie', 'Over Her Dead Body', 'Pathology', 'The Color Purple', 'Cop Land', 'When the Lights Went Out', 'Drive', 'Beasts of the Southern Wild', 'Boogie Nights', 'Taxman', 'Dawn of the Crescent Moon', 'Bend It Like Beckham', 'All or Nothing', 'Jack and Jill', 'Scary Movie 4', 'The Lone Ranger', 'F.I.S.T.', 'Doubt', 'Lions for Lambs', 'The Dead Zone            ', 'Sea Rex 3D: Journey to a Prehistoric World', 'Dude, Wheres My Dog?!', 'UHF', 'The Bucket List', '51 Birch Street', 'The Adventures of Sharkboy and Lavagirl 3-D', 'Superhero Movie', 'The Way of the Gun', 'Insurgent', 'Just Like Heaven', 'One for the Money', 'Jane Got a Gun', 'The Family Stone', 'War Horse', 'Good Intentions', 'Star Trek: Generations', 'Robin Hood: Prince of Thieves', 'Feast', 'Fright Night', 'The Mask of Zorro', 'Secret Window', 'Fiddler on the Roof', 'The Jungle Book', 'Master and Commander: The Far Side of the World', 'WarGames', '2 Guns', 'Æon Flux', 'Ghost Rider', 'Kit Kittredge: An American Girl', 'Repo Man', 'Shorts', 'The Princess Diaries 2: Royal Engagement', 'Enders Game', 'Barry Munday', 'Into the Blue', 'Queen of the Damned', 'The Crocodile Hunter: Collision Course', 'Big Hero 6', 'Christmas with the Kranks', 'Courageous', 'Paparazzi', 'The Last of the Mohicans', 'The Muppet Movie', 'Hedwig and the Angry Inch', 'X-Men 2', 'A Walk to Remember', 'Hotel for Dogs', 'The Perfect Man', 'Are We There Yet?', 'Hit and Run', 'Curious George', 'The Wicked Within', 'From Hell', 'Wicker Park', 'Alvin and the Chipmunks: Chipwrecked', 'Wall Street: Money Never Sleeps', 'Exorcist II: The Heretic', 'Aqua Teen Hunger Force Colon Movie Film for Theaters', 'From Paris with Love', 'Austin Powers in Goldmember', 'Valley of the Hearts Delight', 'Solitary Man', 'Little Black Book', 'Florence Foster Jenkins', 'The Brothers Solomon', 'Road to Perdition', 'The Mechanic', 'American Desi', 'Foodfight!', 'Brother', 'Original Sin', 'Punisher: War Zone', 'Session 9', 'Something Wicked', 'Blow', 'Triple 9', 'Fight Valley', 'The Counselor', 'The Bourne Legacy', 'The Express', 'Dream House', 'Phone Booth', 'Theres Something About Mary', 'Yes', 'Lara Croft: Tomb Raider', 'Freedom Writers', 'Barneys Great Adventure', 'The Brass Teapot', 'Roar', 'A Simple Wish', 'The Fifth Element', 'The Fisher King', 'Im Not There.', 'Raising Victor Vargas', 'Mad Max Beyond Thunderdome', 'Sicario', 'Bandslam', 'Diary of a Wimpy Kid: Dog Days', 'Jennifers Body', 'Triangle', 'Alexanders Ragtime Band', 'A Christmas Carol', 'The Bodyguard', 'Friday the 13th: The Final Chapter', 'Princess Kaiulani', 'All Good Things', 'The Immigrant', 'Brave', 'The Secret            ', 'Modern Times', 'The Crying Game', 'Abraham Lincoln: Vampire Hunter', 'Party Monster', 'Speed 2: Cruise Control', 'The Grey', 'The Mothman Prophecies', 'The Omen', 'There Will Be Blood', 'Krush Groove', 'Shutter Island', 'A Million Ways to Die in the West', 'K-PAX', 'The Slaughter Rule', 'Allegiant', 'J. Edgar', 'The Dead Undead', 'Snakes on a Plane', 'The Dilemma', 'Serenity', 'Endless Love', 'Free State of Jones', 'Kung Fu Panda 3', 'All the Queens Men', 'Dodgeball: A True Underdog Story', 'Night at the Museum', 'The 13th Warrior', 'Get Him to the Greek', 'The Lost City', 'March or Die', 'Ex Machina', 'House of D', 'Speedway Junky', 'The Butterfly Effect', 'Corky Romano', 'Julie & Julia', 'Up Close & Personal', 'Frozen River', '22 Jump Street', 'Savages', 'Arthur Christmas', 'Bringing Down the House', 'Spartacus: War of the Damned            ', 'The Book of Eli', 'Emma            ', 'The Deep End of the Ocean', 'The Odd Life of Timothy Green', 'Chuck & Buck', 'Open Road', 'Agora', 'Neighbors 2: Sorority Rising', 'The Talented Mr. Ripley', 'Loser', 'Two Girls and a Guy', 'The East', 'Cant Hardly Wait', 'Tales from the Crypt: Demon Knight', 'In the Heart of the Sea', 'Extraordinary Measures', 'The Postman', 'Dark Angel            ', 'Dont Say a Word', 'Four Rooms', 'Hey Arnold! The Movie', 'Midnight in Paris', 'The Internship', 'Chronicle', 'The Day After Tomorrow', 'Trapeze', 'What Women Want', 'X-Men: First Class', 'Talladega Nights: The Ballad of Ricky Bobby', 'The Scorch Trials', 'Mission: Impossible III', 'Miracle at St. Anna', 'Dumb and Dumber To', 'Ella Enchanted', 'K-19: The Widowmaker', 'Death at a Funeral', 'Sparkler', 'The Boy', 'Meeks Cutoff', 'I Love You, Beth Cooper', 'The Streets of San Francisco            ', 'Lone Star', 'Song One', 'The Bold and the Beautiful            ', 'Point Break', 'Loving Annabelle', 'Hidalgo', 'Sphinx', 'Black Knight', 'Breakdown', 'Rambo: First Blood Part II', 'Machine Gun Preacher', 'The Next Best Thing', 'Shine', 'Happy, Texas', 'The Amityville Horror', 'My Week with Marilyn', 'Brick Mansions', 'The Pink Panther', 'Purple Violets', 'The Way Way Back', 'Diamonds Are Forever', 'The Legend of the Lone Ranger', 'Brothers', 'The Crew', 'The Last Sin Eater', 'Destiny', 'The Brothers Bloom', 'Fetching Cody', 'National Treasure', 'Cellular', 'Flatliners', 'Sanctuary; Quite a Conundrum', 'Center Stage', 'Shopgirl', 'Take Shelter', 'Funny People', 'Amistad', 'The Boxtrolls', 'The Devils Own', 'Multiplicity', 'End of Days', 'Imagine Me & You', 'From Russia with Love', 'Scream 4', 'Hercules', 'Beneath the Planet of the Apes', 'The Pianist', 'The Pursuit of Happyness', 'Shanghai Noon', 'The Horror Network Vol. 1', 'Halloween: Resurrection', 'Revolutionary Road', 'The Girl Next Door', 'Sex Drive', 'Dance Flick', 'Edtv', 'City of Ember', 'Miracles from Heaven', 'Deadline Gallipoli            ', 'Star Wars: Episode IV - A New Hope', 'Event Horizon', 'Cadillac Records', 'Serendipity', 'Shrek Forever After', 'The Help', 'Looney Tunes: Back in Action', 'Repo Men', 'The Christmas Bunny', 'The Work and the Glory II: American Zion', 'Star Wars: The Clone Wars            ', 'Nixon', 'Ramanujan', 'The Vow', 'Cloverfield', 'Magic Mike XXL', 'Everest', 'The Blues Brothers', 'Mona Lisa Smile', 'The Jerky Boys', 'Babe: Pig in the City', 'Duel in the Sun', 'Old Joy', 'Bound', 'Into the Wild', 'The Algerian', 'Vampire in Brooklyn', 'Wanderlust', 'The Adventurer: The Curse of the Midas Box', 'Hot Rod', 'Duplicity', 'Rugrats in Paris: The Movie', 'Beerfest', 'Justin Bieber: Never Say Never', 'Chariots of Fire', 'My Best Friends Wedding', 'Desert Dancer', 'Free Style', 'Sherrybaby', 'Never Back Down 2: The Beatdown', 'Letters to Juliet', 'A History of Violence', 'Almost Famous', 'Sunshine Cleaning', 'Warcraft', 'The Ice Pirates', 'You Kill Me', 'Against the Wild', 'Fled', 'Freeze Frame', 'Whipped', 'Star Wars: Episode VI - Return of the Jedi', 'The Medallion', 'The Mirror Has Two Faces', 'No Country for Old Men', 'Seven Years in Tibet', 'The Pacifier', 'A Prairie Home Companion', 'Ever After: A Cinderella Story', 'The Greatest Game Ever Played', 'Boys Dont Cry', 'Cool Runnings', 'Naturally Native', 'After.Life', 'There Goes My Baby', 'Chain Letter', 'Whatever Works', 'As Above, So Below', 'Black Rain', 'Not Another Teen Movie', 'The Thomas Crown Affair', 'Hanging Up', 'Killers', 'Beastly', 'Menace II Society', 'Speed', 'Batman', 'Ghost Rider: Spirit of Vengeance', 'Life as a House', 'Snow Dogs', 'The Man Who Shot Liberty Valance', 'The Sound and the Shadow', 'Sweet November', 'Veronica Mars            ', 'De-Lovely', 'Get Shorty', 'The Land Girls', 'Apocalypse Now', 'The Perfect Storm', 'Tremors', 'The Judge', 'The Incredible Burt Wonderstone', 'Woo', 'Get Rich or Die Tryin', 'The Hole', 'The Bridge of San Luis Rey', 'I Married a Strange Person!', 'The Lords of Salem', 'Inside Job', 'Shame', 'Flyboys', 'Flipped', 'Before Sunrise', 'Crazy in Alabama', 'The Expendables 3', 'The Eye', 'Hamlet', 'Executive Decision', 'The Sixth Sense', 'Lords of Dogtown', 'Tristram Shandy: A Cock and Bull Story', 'Facing the Giants', 'The Transporter', 'Sex and the City 2', 'The Princess Bride', 'Torn Curtain', 'JFK', 'The Trials of Darryl Hunt', 'Young Guns', 'New York Minute', 'Match Point', 'Joy', 'National Lampoons Vacation', 'Lilo & Stitch', 'The Final Destination', 'Metropolitan', 'Richard III', 'Alien 3', 'Love & Other Drugs', 'Snowpiercer', 'A Nightmare on Elm Street', 'The Hit List', 'Eulogy', 'Behind Enemy Lines', 'Eastern Promises', 'Resident Evil: Extinction', 'Revolution            ', 'Saving Face', 'Eddie: The Sleepwalking Cannibal', 'Galaxina', 'The Last Exorcism Part II', 'Prefontaine', 'Under Siege 2: Dark Territory', 'Guess Who', 'Legend', 'Chloe', 'Dark Water', 'The Prophecy', 'Flushed Away', 'Ask Me Anything', 'The Powerpuff Girls            ', 'Super Hybrid', 'Shooting Fish', 'Duets', 'Victor Frankenstein', 'Troy', 'Bats', 'The Egyptian', 'The Royal Tenenbaums', 'Teeth', 'Glitter', 'Poultrygeist: Night of the Chicken Dead', 'Snow Falling on Cedars', 'Urban Legends: Final Cut', 'Gamer', 'The Mortal Instruments: City of Bones', 'Andersons Cross', 'White Squall', 'A Thin Line Between Love and Hate', 'Woman on Top', 'Law Abiding Citizen', 'Ruby in Paradise', 'Sheena', 'Deliver Us from Evil', 'Beneath Hill 60', 'Friday the 13th: A New Beginning', 'Shanghai Surprise', 'Everyone Says I Love You', 'Joe Somebody', 'Awake', 'DysFunktional Family', 'Lincoln', 'Don McKay', 'Food Chains', 'Inherent Vice', 'Daddy Day Care', 'Beverly Hills Chihuahua', 'Little Miss Sunshine', 'The Tree of Life', 'Tin Cup', 'Nowhere Boy', 'You Again', 'Terminator 2: Judgment Day', 'Garden State', 'Love Happens', 'Alexander', 'Blue Streak', 'Stop-Loss', 'The Conspirator', 'Harry Potter and the Deathly Hallows: Part I', 'The Host', 'Rosewater', 'The Love Guru', 'Margin Call', 'Grindhouse', 'Henry & Me', 'Oblivion', 'Dracula Untold', 'The Damned United', 'The Beastmaster', 'The Perks of Being a Wallflower', 'Whats Love Got to Do with It', 'While Were Young', 'Brick Lane', 'Riddick', 'Flags of Our Fathers', 'Whos Your Caddy?', 'The Frozen', 'The Matrix Revolutions', 'Medicine Man', 'Jeff, Who Lives at Home', '8 Heads in a Duffel Bag', 'Cry Freedom', 'Gossip', 'Nothing to Lose', 'Bless the Child', 'The Looking Glass', 'Central Intelligence', 'The Tale of Despereaux', 'After Earth', '300', 'About Last Night', 'Cheap Thrills', 'Big Trouble', 'Brotherly Love', 'Little Big Top', 'Blue Jasmine', 'Lucky Number Slevin', 'Undercover Brother', 'Payback', 'The Christmas Candle', 'Carriers', 'Vanity Fair', 'Men of Honor', 'Sliding Doors', 'U2 3D', 'Agent Cody Banks', 'Grabbers', 'Sex, Lies, and Videotape', 'The Last Time I Committed Suicide', 'Indiana Jones and the Temple of Doom', 'Machete', 'That Awkward Moment', 'My Dog Tulip', 'Sharknado', 'Godsend', 'Where the Truth Lies', 'A Thousand Words', 'The Last Godfather', 'Stone', 'United Passions', 'Light It Up', 'Tea with Mussolini', 'Boyz n the Hood', 'High Crimes', 'Nurse Betty', 'A Serious Man', 'Bleeding Hearts', 'George Washington', 'The Master of Disguise', 'The Silence of the Lambs', 'Welcome to the Rileys', 'Without Limits', 'A Nightmare on Elm Street 5: The Dream Child', 'Reds', 'Monsters, Inc.', 'Animals', 'Parental Guidance', 'The Quiet', 'First Love, Last Rites', 'Eagle Eye', 'Moulin Rouge!', 'Felicias Journey', 'A Nightmare on Elm Street 2: Freddys Revenge', '2016: Obamas America', 'The Tourist', 'The Walk', 'Bee Movie', 'Dead Poets Society', 'Charlie and the Chocolate Factory', 'San Andreas', 'London Has Fallen', 'The Mighty Macs', 'Femme Fatale', 'We Are Marshall', 'Snow White and the Huntsman', 'Banshee Chapter', 'Girls Gone Dead', 'Vampires Suck', 'The Hunt for Red October', 'Harry Potter and the Prisoner of Azkaban', 'Madea Goes to Jail', 'Enemy of the State', 'Larry Crowne', 'Get Low', 'Neal N Nikki', 'Training Day', 'I, Robot', 'The Image Revolution', 'Far from Heaven', 'Battle of the Year', 'Ed and His Dead Mother', 'Notting Hill', 'The Man from U.N.C.L.E.', 'East Is East', 'Torque', 'Doom', 'House on Haunted Hill', 'Trekkies', 'The Nut Job', 'Kevin Hart: Laugh at My Pain', 'Alex & Emma', 'Goddess of Love', 'Sands of Iwo Jima', 'Red Dawn', 'Out of the Dark', 'All the Boys Love Mandy Lane', 'Marley & Me', 'Saw VI', 'The Opposite Sex', 'The Missing Person', 'Slumdog Millionaire', 'Raising Cain', 'Seven Psychopaths', 'The Purge: Anarchy', 'The Big Swap', 'Tammy', 'Sinbad: Legend of the Seven Seas', 'How to Train Your Dragon 2', 'Act of Valor', 'Jesus Son', 'Train', 'Kama Sutra: A Tale of Love', 'Trust', 'Captain Corellis Mandolin', 'Babe', 'Krampus', 'Freedom', 'Mirrors', 'Small Time Crooks', 'Octopussy', 'Ultramarines: A Warhammer 40,000 Movie', 'Mortdecai', 'Bullet to the Head', 'Day One', 'Treasure Planet', 'My Girl', 'Premium Rush', 'Hits', 'Out of Africa', 'Savage Grace', 'AWOL-72', 'Adventureland', 'Oscar and Lucinda', 'Zombie Hunter', 'Airplane!', 'My Dog Skip', 'From Here to Eternity', 'Spy Hard', 'The Blue Lagoon', 'Muppets from Space', 'Find Me Guilty', 'O', 'A Man Apart', 'The Other Guys', 'Silverado', 'Glengarry Glen Ross', 'Miss Congeniality 2: Armed and Fabulous', 'Summer of Sam', 'The Limey', 'The Black Hole', 'Saint John of Las Vegas', 'Saw II', 'The Open Road', 'Into the Grizzly Maze', 'The Warriors Way', 'Mad Hot Ballroom', 'Walter', 'Turbo', 'Little Fockers', 'Walking and Talking', 'Deuces Wild', 'The Naked Ape', 'The Rock', 'Transformers', 'George of the Jungle', 'Stung', 'We Are Your Friends', 'When Did You Last See Your Father?', 'Frost/Nixon', 'Predators', 'The Twilight Saga: Breaking Dawn - Part 2', 'Batman Forever', 'Safe House', 'Dallas Buyers Club', 'Brown Sugar', 'Romeo Is Bleeding', 'The Janky Promoters', 'The Lincoln Lawyer', 'Last Man Standing            ', 'Just Looking', 'Alpha and Omega', 'Friends with Money', 'Road Hard', 'Always Woodstock', 'Raising Helen', '21 & Over', 'Indiana Jones and the Last Crusade', 'Stan Helsing', 'Children of Men', 'In Bruges', 'Movie 43', 'Taken', 'Home Fries', 'Stealth', 'The Relic', 'Freaky Friday', 'Punch-Drunk Love', 'Flubber', 'Code 46', 'A Turtles Tale: Sammys Adventures', 'Carlos            ', 'The Man', 'The Four Seasons', 'Star Trek III: The Search for Spock', 'Hollywood Ending', 'EuroTrip', 'I Love You, Dont Touch Me!', 'Bad Words', 'Molly', 'The Kings Speech', 'Meet the Fockers', 'Show Boat', 'Think Like a Man', 'An Ideal Husband', 'You Cant Take It with You', 'Wah-Wah', 'The Great Gatsby', 'Johnson Family Vacation', 'Jurassic Park', 'Whats the Worst That Could Happen?', 'The Informant!', 'The Dog Lover', 'The Honeymooners            ', 'Waiting for Guffman', '3 Backyards', 'Snow White and the Seven Dwarfs', 'Ace Ventura: When Nature Calls', 'Appaloosa', 'Driving Miss Daisy', '2012', 'Bewitched            ', 'Memento', 'The Borrowers', 'Closer to the Moon', 'The Harvest/La Cosecha', 'The Bad News Bears', 'True Romance', 'One Mans Hero', 'Factory Girl', 'Sex and the City            ', 'Locker 13', 'The Ridiculous 6', 'Whats Eating Gilbert Grape', 'Winnie the Pooh', 'Donnie Darko', 'Doogal', 'Kangaroo Jack', 'Rescue Dawn', 'Sky High', 'The Princess Diaries', 'Hotel Rwanda', 'Sky Captain and the World of Tomorrow', 'Rize', 'The Sum of All Fears', 'The Man from Earth', 'Jurassic Park III', 'Once Upon a Time in the West', 'Pink Narcissus', 'Peggy Sue Got Married', 'Mad Max', 'The Last Temptation of Christ', 'Speed Racer', 'Ghost World', 'Knockaround Guys', 'Made', 'The Kids Are All Right', 'Casablanca', 'Machete Kills', 'Dredd', 'Kick-Ass', 'Subconscious', 'Ramona and Beezus', 'Exotica', 'The Rainmaker', 'Head Over Heels', 'Peace, Propaganda & the Promised Land', 'Piranha 3D', 'The Mighty Ducks', 'Muppets Most Wanted', 'Daddys Home', '10th & Wolf', 'Absolute Power', 'Frida', 'Madison', 'The Last King of Scotland', 'Warm Bodies', 'City Island', 'Dumb & Dumber', '21 Jump Street', 'Hardball', 'The Artist', 'Kindergarten Cop', 'Creative Control', 'P.S. I Love You', 'About Time', 'Slow West', 'Spaced Invaders', 'The Rules of Attraction', 'She Done Him Wrong', 'No Good Deed', 'Herbie Fully Loaded', 'Star Wars: Episode III - Revenge of the Sith', 'Australia', 'Paint Your Wagon', 'Clockstoppers', 'Hoot', 'The Assassination of Jesse James by the Coward Robert Ford', '#Horror', 'Adam Resurrected', 'Captain America: The First Avenger', 'Annie Hall', 'Bloodsport', 'Definitely, Maybe', '42', 'Rocky Balboa', 'O Brother, Where Art Thou?', 'The American', 'The Change-Up', 'The Dark Hours', 'The Soloist', 'The Untouchables', 'Love the Coopers', 'Farce of the Penguins', 'Martian Child', 'The Living Daylights', 'A Most Violent Year', 'Tumbleweeds', 'Diary of a Mad Black Woman', 'Kate & Leopold', 'Miss Potter', 'Nick and Norahs Infinite Playlist', 'Sleepy Hollow            ', 'The Brain That Wouldnt Die', 'Collateral', 'Hope Springs', 'Aliens in the Attic', 'Code Name: The Cleaner', 'Forget Me Not', 'Need for Speed', 'The Adventures of Huck Finn', 'Anger Management            ', 'Spy Kids 2: Island of Lost Dreams', 'The Glimmer Man', 'New Nightmare', 'From Dusk Till Dawn', 'Private Benjamin', 'Madeas Family Reunion', 'Sea of Love', 'Down and Out with the Dolls', 'Faithful', 'The Evil Dead', 'DragonHeart', 'Precious', 'Malevolence', 'Talk Radio', 'The NeverEnding Story', 'X-Men: Apocalypse', 'Jaws 2', 'The Train', 'Lords of London', 'Zathura: A Space Adventure', 'The Ring Two', 'Freddy vs. Jason', 'Woman Thou Art Loosed', 'Anacondas: The Hunt for the Blood Orchid', 'Star Trek: Insurrection', 'The Straight Story', 'The Day the Earth Stood Still', 'Anne of Green Gables            ', 'Cape Fear', 'American Pie 2', 'The Age of Adaline', 'Boiler Room', 'Departure', 'Among Giants', 'Runaway Bride', 'Ice Age: Dawn of the Dinosaurs', 'Jumper', 'Step Up Revolution', 'The Original Kings of Comedy', 'Vampires', 'Moonrise Kingdom', 'Max Keebles Big Move', 'The Godfather', 'Diary of the Dead', 'Fantastic 4: Rise of the Silver Surfer', 'The American President', 'Friday the 13th Part III', 'The Conversation', 'The Fog', 'The Lost Weekend', 'Three to Tango', 'All Is Lost', 'Cop Out', 'RoboCop 3', 'WALL·E', 'Bright Star', 'The Holiday', 'Point Blank', 'Lee Daniels The Butler', 'Along Came Polly', 'Jumping the Broom', '3rd Rock from the Sun            ', 'xXx', 'Escape from Tomorrow', 'Force 10 from Navarone', 'Mickey Blue Eyes', 'Safe Haven', 'The Extra Man', 'Switchback', 'Chasing Papi', 'Antibirth', 'Doc Hollidays Revenge', 'Blade', 'Night at the Museum: Battle of the Smithsonian', '5 Days of War', 'Cliffhanger', 'Mission: Impossible', 'Shouldve Been Romeo', 'Ted', 'The Truman Show', 'Bending Steel', 'Out of Time', 'Sgt. Bilko', 'The Game Plan', 'A Madea Christmas', 'Brüno', 'Growing Up Smith', 'Men of War', 'On the Outs', 'The Death and Life of Bobby Z', 'Date Movie', 'Scream 2', 'Doctor Dolittle', 'Boyhood', 'Miss Julie', 'Harts War', 'Sherlock Holmes', 'I Come with the Rain', 'Burlesque', 'Rabbit Hole', 'It Follows', 'Burn', 'Final Destination', 'Littleman', 'Manderlay', '2:13', 'Antarctica: A Year on Ice', 'Smokin Aces', 'Tank Girl', 'The Angry Birds Movie', 'The Road', 'Top Five', 'The Thin Red Line', 'Country Strong', 'Salvation Boulevard', 'The Green Inferno', 'Killer Elite', 'Harrison Montgomery', 'Youve Got Mail', 'Shrek 2', 'Happy Valley            ', 'RED 2', 'Super Mario Bros.', 'Dom Hemingway', 'Blue Ruin', 'The Black Stallion', 'Dysfunctional Friends', 'Les Misérables', 'Rogue            ', 'The Neon Demon', 'Crank', 'Borat: Cultural Learnings of America for Make Benefit Glorious Nation of Kazakhstan', 'Eye for an Eye', 'Last Action Hero', 'Lawrence of Arabia', 'The Great Escape', 'The Curious Case of Benjamin Button', 'Fish Tank', 'Fun Size', 'RoboCop', 'Coriolanus', 'My Fair Lady', 'Journey to the Center of the Earth', 'The 6th Day', 'The Beaver', 'The Lovers', 'Bedtime Stories', 'Swordfish', 'Gory Gory Hallelujah', 'Dr. Strangelove or: How I Learned to Stop Worrying and Love the Bomb', 'The Beast from 20,000 Fathoms', 'The Guard', 'The Shining', 'The Missing            ', 'Soul Survivors', 'Everything Put Together', 'This Is the End', 'Sucker Punch', 'The Da Vinci Code', 'Step Up 3D', 'Becoming Jane', 'Battleship', 'Extreme Ops', 'Tracker', 'Your Highness', 'Bad Grandpa', 'The Emperors New Groove', 'The Spanish Prisoner', 'The Informers', 'Albert Nobbs', 'Redbelt'} 4582\n",
            "4703 4582\n",
            "{'Ladder 49', '20,000 Leagues Under the Sea', 'Severance', 'Katy Perry: Part of Me', 'Keeping Up with the Steins', 'Club Dread', 'Under the Tuscan Sun', 'Bride & Prejudice', 'Horrible Bosses', 'Napoleon Dynamite', 'The Killer Inside Me', 'Homefront', 'The Masked Saint', 'Boys and Girls', 'When a Stranger Calls', 'Outlander            ', 'Chocolat', 'The Devil Inside', 'Without a Paddle', 'Not Cool', 'The Real Cancun', 'Bathing Beauty', 'Steel', 'The Life of David Gale', 'The Rookie', 'Meet the Spartans', 'Tangled', 'Austin Powers: The Spy Who Shagged Me', 'Con Air', 'Certifiably Jonathan', 'Elizabeth', 'Martin Lawrence Live: Runteldat', 'Cat on a Hot Tin Roof', 'Edward Scissorhands', 'A View to a Kill', 'My Name Is Bruce', 'Step Brothers', 'The Godfather: Part III', 'Oliver Twist', 'Serial Mom', 'The Warlords', '21', 'Megamind', 'Final Fantasy: The Spirits Within', 'Once Upon a Time in Mexico', 'Lady in the Water', 'Red Tails', 'The One', 'Last Orders', 'I Hope They Serve Beer in Hell', 'Wicked Blood', 'Dazed and Confused', 'The Haunting of Molly Hartley', 'Brokeback Mountain', 'The Cookout', 'The Red Violin', 'The Dangerous Lives of Altar Boys', 'Twilight Zone: The Movie', 'Masked and Anonymous', 'Nine Queens', 'Metallica Through the Never', 'World War Z', 'Harry Potter and the Chamber of Secrets', 'Quarantine', 'Stitches', 'Limitless            ', 'Sholem Aleichem: Laughing in the Darkness', 'Catch That Kid', 'Celeste & Jesse Forever', 'Deep Rising', 'Déjà Vu', 'Connie and Carla', 'The Texas Chainsaw Massacre 2', 'The Apparition', 'No Mans Land: The Rise of Reeker', 'After', 'Windtalkers', 'The Indian in the Cupboard', 'Spaceballs', '25th Hour', 'Scarface', 'Shallow Hal', 'Mother and Child', 'Yentl', 'Stepmom', '1941', 'Double Take', 'The Cotton Club', 'Elsa & Fred', '10 Things I Hate About You', 'Clear and Present Danger', 'Latter Days', 'Trippin', 'Hard Candy', 'L.A. Confidential', 'The Marine', 'The French Connection', 'Adaptation.', 'The Witch', 'Bubble Boy', 'Lethal Weapon 4', 'The Pallbearer', 'Killing Zoe', 'Fateless', 'Easy Money', 'The Legend of Hercules', 'Dances with Wolves', 'AVP: Alien vs. Predator', 'The Big Tease', 'The Chumscrubber', 'Akira', 'Cradle Will Rock', 'Catch a Fire', 'The Ultimate Gift', 'Xi you ji zhi: Sun Wukong san da Baigu Jing', 'Crossroads', 'Coming Home', 'The Mummy Returns', 'Rio 2', 'The World Is Mine', 'The Horseman on the Roof', 'The Merchant of Venice', 'The I Inside', 'Dolphin Tale 2', 'The Peacemaker', 'Eraser', 'You Will Meet a Tall Dark Stranger', 'The Master', 'Scott Walker: 30 Century Man', 'Dancin Its On', 'From a Whisper to a Scream', 'Blast from the Past', 'Americas Sweethearts', 'Divine Secrets of the Ya-Ya Sisterhood', 'GoldenEye', 'Ghost Dog: The Way of the Samurai', 'Knight and Day', 'Jackass: The Movie', 'The Men Who Stare at Goats', 'Pirates of the Caribbean: The Curse of the Black Pearl', 'The Raid: Redemption', 'Bella', 'Caddyshack', 'Teachers Pet', 'Thunderball', 'Whale Rider', 'You Dont Mess with the Zohan', 'Thr3e', 'Let Me In', 'Donovans Reef', 'Lights Out', 'How to Lose Friends & Alienate People', 'Murderball', 'Drive Hard', 'In the Land of Women', 'Bridge to Terabithia', 'Primer', 'The Sleepwalker', 'Despicable Me 2', 'Criminal', 'Resident Evil', 'Shadow Conspiracy', 'True Grit', 'United 93', 'The Island of Dr. Moreau', 'Max Payne', 'Ice Princess', 'The Adventures of Rocky & Bullwinkle', 'The Salton Sea', 'Graduation Day', 'Fatal Attraction', 'Money Talks', 'Clean', 'Memoirs of a Geisha', 'The Salon', 'Saw', 'Chain Reaction', 'Nutty Professor II: The Klumps', 'The Terminal', 'Beverly Hills Cop II', 'Brokedown Palace', 'The Company            ', 'Volver', 'Another Happy Day', 'Bachelorette', 'Igby Goes Down', 'Mama', 'Identity', 'Teenage Mutant Ninja Turtles: Out of the Shadows', 'Live-In Maid', 'Black Water Transit', 'Oceans Thirteen', 'The Last Airbender', 'The Diving Bell and the Butterfly', 'Hoffa', 'Dead Snow', 'An Education', 'Money Train', 'Wolf Creek            ', 'Cecil B. DeMented', 'Mr. Church', 'Eternal Sunshine of the Spotless Mind', 'The Canyons', 'The Nativity Story', 'Home Alone 2: Lost in New York', 'Fascination', 'Chairman of the Board', 'School for Scoundrels', 'Lucky You', 'The Huntsman: Winters War', 'The Bone Collector', 'Ernest & Celestine', 'The Wiz', 'Whiplash', 'Bad Company', 'Pacific Rim', 'Frenzy', 'Predator 2', 'Osmosis Jones', 'Star Trek Beyond', 'Flicka', 'Army of Darkness', 'The Wolf of Wall Street', 'Return to Never Land', 'Vacation', 'Hit the Floor            ', 'Tiny Furniture', 'Riding Giants', 'Enter Nowhere', 'Underdogs', 'Flash Gordon', 'Philadelphia', 'Formula 51', 'High Road', 'Larry the Cable Guy: Health Inspector', 'Kings Ransom', 'Gods and Generals', 'Blended', 'Kick-Ass 2', 'This Christmas', 'Suspect Zero', 'Anomalisa', 'I Got the Hook Up', 'Shalako', 'Opal Dream', '12 Monkeys            ', 'Glory', 'Harold & Kumar Go to White Castle', 'Grown Ups', 'Zero Effect', 'Creed', 'Project X', 'Silver Linings Playbook', 'Black Book', 'The Imaginarium of Doctor Parnassus', 'Instructions Not Included', 'Enough Said', 'District B13', 'Focus', 'Astro Boy', 'Charly', 'Soul Surfer', 'Secret in Their Eyes', 'Four Weddings and a Funeral', 'The Grand            ', 'Yu-Gi-Oh! Duel Monsters            ', 'The Work and the Glory', 'My Big Fat Greek Wedding', 'All Is Bright', 'In & Out', 'Blood Work', 'Swingers', 'The Good Heart', 'The Hunting Party', 'Steve Jobs', 'The Maids Room', 'The Lawnmower Man', 'Darkness', '20 Dates', 'Immortals', 'School of Rock', 'Street Fighter', 'Winters Bone', 'Argo', 'Our Family Wedding', 'The Alamo', 'The Woman in Black', 'The Cat in the Hat', 'I Spy', 'Held Up', 'Timecrimes', 'Man of the House', 'Something Borrowed', 'The Grudge', '2 Fast 2 Furious', 'The Hunt', 'The Wild Bunch', 'Donnie Brasco', 'Ghost Town', 'Get Real            ', 'Deuce Bigalow: Male Gigolo', 'Home Movies            ', 'Nancy Drew', 'Rang De Basanti', 'Salvador', 'Sorority Boys', 'Happily NEver After', 'Hope Floats', 'Stoker', 'The Ballad of Cable Hogue', 'The Blind Side', 'Bodyguards and Assassins', 'My Stepmother Is an Alien', 'Veronika Decides to Die', 'DOA: Dead or Alive', 'Mrs Henderson Presents', 'Jekyll and Hyde... Together Again', 'Mars Needs Moms', 'Bicentennial Man', 'Made in Dagenham', 'The Rugrats Movie', 'The Wolverine', 'The Last Big Thing', 'Micmacs', 'Towering Inferno            ', 'The Dark Knight Rises', 'A Room with a View', 'Green Lantern', 'Rapa Nui', 'The Yards', 'An American Girl Holiday', 'Lauberge espagnole', 'Radio Flyer', 'Simply Irresistible', 'Dogtooth', 'Grown Ups 2', 'Mutual Friends', 'The Brothers Grimm', 'Billy Elliot', 'Hannibal Rising', 'Remember Me, My Love', 'Stonewall', 'An American Haunting', 'Robot & Frank', 'Mr. Turner', 'No Strings Attached', 'Dawn Patrol', 'Yours, Mine and Ours', 'Niagara', 'The Robe', 'Day of the Dead', 'Special', 'The Water Diviner', '3 Ninjas Kick Back', 'Unfaithful', 'Walking with Dinosaurs 3D', 'Changeling', 'Friday the 13th Part VIII: Jason Takes Manhattan', 'The Descent', 'London', 'The Punisher', 'Promised Land', 'Attack the Block', 'Straw Dogs', 'Death to Smoochy', 'Harry Potter and the Half-Blood Prince', 'Ghost Ship', 'How to Deal', 'Proud', 'The Life Aquatic with Steve Zissou', 'Anastasia', 'My Name Is Khan', 'Platoon', 'The Tempest', 'The Railway Man', 'The Mudge Boy', 'Thirteen Days', 'The Crow', 'Home Run', 'Crazy Stone', 'Rendition', 'Teenage Mutant Ninja Turtles', 'Little Shop of Horrors', 'The Spy Who Loved Me', 'Unfriended', 'Girl 6', 'When the Cats Away', 'Stomp the Yard', 'Coach Carter', 'Kicks', 'Sunshine', 'Smiling Fish & Goat on Fire', 'Mad Max: Fury Road', 'Michael Jordan to the Max', 'Red Riding Hood', 'Gangs of New York', 'Trees Lounge', 'Wild Things', 'Don Juan DeMarco', 'Virtuosity', 'Anchorman: The Legend of Ron Burgundy', 'Bang', 'Black Rock', 'I Love You Phillip Morris', '8 Days', 'Halloween II', 'Liar Liar', 'Alleluia! The Devils Carnival', 'Runner Runner', '1408', 'Ponyo', 'The Astronaut Farmer', 'Alien', 'Black or White', 'Good Kill', 'Panic Room', 'The Crazies', 'Mercy Streets', 'The Pirates Who Dont Do Anything: A VeggieTales Movie', 'The Losers', 'For Your Consideration', 'The History Boys', 'The Craft', 'Summer Catch', 'The Brothers McMullen', 'The Sting', 'Pat Garrett & Billy the Kid', 'Madagascar: Escape 2 Africa', 'Girl, Interrupted', 'Chocolate: Deep Dark Secrets', 'Friday Night Lights            ', 'Archaeology of a Woman', 'Parker', 'American Outlaws', 'Secondhand Lions', 'Son of the Mask', 'The Ice Storm', 'What Dreams May Come', 'Boat Trip', 'Trucker', 'Bobby', 'Crooklyn', 'Screwed', 'See Spot Run', 'Star Trek: Nemesis', 'Amigo', 'The Cure', 'The Dark Knight', 'The Triplets of Belleville', 'The Young Messiah', 'Angelas Ashes', 'Evil Dead', 'Don Jon', 'Last Vegas', 'Observe and Report', 'The Haunting in Connecticut 2: Ghosts of Georgia', 'Wild Hogs', 'Face/Off', 'Hide and Seek', 'Tiger Orange', 'Kung Fu Panda 2', 'Its Complicated', 'The Cell', 'A Christmas Story', 'The Mighty', 'Pocketful of Miracles', 'History of the World: Part I', 'L!fe Happens', 'Abandon', 'Queen of the Mountains', 'The Hangover', 'Star Trek: First Contact', 'The Other Boleyn Girl', 'Remember the Titans', 'The Returned            ', 'Warlock: The Armageddon', 'He Got Game', 'Son of God', 'MacGruber', 'Honey', 'Rock Star', 'A Beginners Guide to Snuff', 'Fugly', 'The Verdict', 'Crocodile Dundee II', 'Renaissance Man', 'Trance', 'I, Frankenstein', 'Return to Oz', 'The Postman Always Rings Twice', 'Dangerous Liaisons', 'The Good Dinosaur', 'Crocodile Dundee in Los Angeles', 'Big', 'A Bugs Life', 'Scrooged', 'The Work and the Story', 'Layer Cake', 'Dancer, Texas Pop. 81', 'Mud', 'Pirates of the Caribbean: At Worlds End', 'Hop', 'Saving Mr. Banks', 'The Return', '9', 'Wal-Mart: The High Cost of Low Price', 'The Legend of Zorro', 'Stay Alive', 'Dirty Work', 'Fur: An Imaginary Portrait of Diane Arbus', 'Red Dog', 'Cars', 'Treading Water', 'Preacher            ', 'House of Wax', 'Clay Pigeons', 'Rango', 'Akeelah and the Bee', 'Its a Wonderful Afterlife', 'A Sound of Thunder', 'Mulholland Drive', 'The Out-of-Towners', 'The Wild Thornberrys Movie', 'Decoys', 'Blackhat', 'Madeas Witness Protection', 'Logans Run', 'Twins', 'Kung Fu Killer', 'The Greatest Story Ever Told', 'Star Wars: Episode V - The Empire Strikes Back', 'Contact', 'Milk', 'Only the Strong', 'Twister', 'Eye of the Beholder', 'Good Luck Chuck', 'Sublime', 'Lovely & Amazing', 'Whip It', 'King Kong', 'Beginners', 'Hotel Transylvania 2', 'Beetlejuice', 'Animal Kingdom: Lets go Ape', 'Message in a Bottle', 'Drive Angry', 'Orphan', 'Pinocchio', 'The Gallows', 'The Darkest Hour', 'Imagine That', 'Duma', 'Deterrence', 'Baggage Claim', 'Paris, je taime', 'Heaven Is for Real', 'Empire            ', 'The Words', 'Girl House', 'Daybreakers', 'The Saint', 'Domestic Disturbance', '28 Days Later...', 'Mr. Poppers Penguins', 'Mutant World', 'The Toxic Avenger Part II', 'Brigham City', 'The Doors', 'Escape from New York', 'Heist', 'Mad City', 'Renaissance', 'Black Mass', 'Watchmen', 'Snatch', 'About a Boy', 'Critical Care', 'Do the Right Thing', 'Wreck-It Ralph', 'Crossover', 'The Inbetweeners            ', 'Steppin: The Movie', 'Instinct', 'Deep Blue Sea', 'The Musketeer', 'Licence to Kill', 'A Mighty Wind', 'The Edge', 'Beyond the Mat', 'Interview with the Assassin', 'Legends of the Fall', 'Gullivers Travels', 'Beowulf', 'Extremely Loud & Incredibly Close', 'Supporting Characters', 'Sweet Sweetbacks Baadasssss Song', 'The Son of No One', 'The SpongeBob SquarePants Movie', 'Fifty Shades of Grey', 'The Hobbit: The Desolation of Smaug', 'Jason Bourne', 'The Texas Chain Saw Massacre', 'Welcome to the Dollhouse', 'Saving Private Perez', 'Krull', 'The Emperors Club', 'Labor Day', 'Epic Movie', 'Now You See Me', 'The Helix... Loaded', 'Without Men', 'Monsoon Wedding', 'Mr. Deeds', 'The Hobbit: The Battle of the Five Armies', 'Six-String Samurai', 'Creature            ', 'Run, Fatboy, Run', 'Wonderland', 'Groove', 'Duplex', 'The Polar Express', 'Chéri', 'Nerve', 'For Your Eyes Only', 'Space Jam', 'Jack Brooks: Monster Slayer', 'Twisted            ', 'Prom', 'Gone Girl', 'The Naked Gun 2½: The Smell of Fear', 'Moon', 'Blindness', 'In the Heat of the Night            ', 'Major League', 'Big Mommas: Like Father, Like Son', 'Minions', 'Married Life', 'Adulterers', 'Bubba Ho-Tep', 'Patton', 'Eureka            ', 'Silver Medallist', '[Rec] 2', '500 Days of Summer', 'Sense and Sensibility', 'Soul Food', 'Love and Death on Long Island', 'Bruce Almighty', 'The Score', 'Pitch Perfect 2', 'Automata', 'Like Crazy', 'Le Havre', 'The Best of Me', 'The Golden Child', 'The Juror', 'Housefull', 'Lock, Stock and Two Smoking Barrels', 'Marvins Room', 'Captain Alatriste: The Spanish Musketeer', 'Bobby Jones: Stroke of Genius', 'Buffalo Soldiers', 'Marie Antoinette', 'Lone Wolf McQuade', 'Phat Girlz', 'The Last Dragon', 'Rent', 'Unleashed', 'Pompeii', 'Ri¢hie Ri¢h', 'The Secret Life of Walter Mitty', 'The Best Little Whorehouse in Texas', 'Home on the Range', 'Impostor', 'The Last Stand', 'Dr. No', 'La otra conquista', 'Red Cliff', 'X-Men Origins: Wolverine', 'Ben-Hur', 'Top Spin', 'Catch-22', 'American Pie', 'Sorcerer', 'The Three Stooges', 'Outside Providence', 'Dreamcatcher', 'Zack and Miri Make a Porno', 'Fortress', 'Analyze That', 'Housebound', 'Chernobyl Diaries', 'Reign Over Me', 'Red Sonja', 'Green Room', 'Pride and Glory', 'The Boy in the Striped Pajamas', 'Disaster Movie', 'Lakeview Terrace', 'Carrie', 'Welcome to the Sticks', 'What a Girl Wants', 'An Unfinished Life', 'Taxi to the Dark Side', 'Infamous', 'High Plains Drifter', 'The Tigger Movie', 'Saw IV', 'Zipper', 'Green Street 3: Never Back Down', 'From Justin to Kelly', 'Harold & Kumar Escape from Guantanamo Bay', 'My Favorite Martian', 'The Blue Butterfly', 'Viy', 'Angels & Demons', 'Stuart Little', 'The Invention of Lying', 'Highlander: Endgame', 'Cat People', 'Blood and Wine', 'My Fellow Americans', 'The Basket', 'Passchendaele', 'The Intern', 'The Horse Boy', 'What Lies Beneath', 'The Longest Yard', 'We Bought a Zoo', 'Transformers: Age of Extinction', 'Underclassman', 'The Girl with the Dragon Tattoo', 'Lets Be Cops', 'Caramel', 'For Colored Girls', 'Erin Brockovich', 'The Cavemans Valentine', 'Crouching Tiger, Hidden Dragon', 'The Promise', 'Supernova', 'Two Brothers', 'Ayurveda: Art of Being', 'Baghead', 'Harry Brown', 'Star Trek V: The Final Frontier', 'Running with Scissors', 'Stone Cold', 'Chicken Run', 'Crocodile Dundee', 'The Muppets', 'I Love You, Man', 'The Full Monty', 'Kung Fu Hustle', 'Hall Pass', 'Stolen Summer', 'The Devils Advocate', 'Bram Stokers Dracula', 'Gods Not Dead 2', 'Maos Last Dancer', 'Jurassic World', 'Resurrecting the Champ', 'My Beautiful Laundrette', 'The Iron Giant', 'Worlds Greatest Dad', 'Auto Focus', 'The Worlds Fastest Indian', 'Pineapple Express', 'The Motel', 'The Hunger Games: Mockingjay - Part 2', 'The Greatest Show on Earth', 'Getaway', 'Sydney White', 'The Sisterhood of the Traveling Pants', 'Righteous Kill', 'Inkheart', 'The Messenger: The Story of Joan of Arc', 'Pride & Prejudice', 'Win a Date with Tad Hamilton!', 'The Yellow Handkerchief', 'All About Steve', 'Independence Day', 'The Amazing Spider-Man 2', 'Coffee Town', 'Morning Glory', 'My Date with Drew', 'Tootsie', 'The Names of Love', 'Gremlins 2: The New Batch', 'Irreversible', 'Brighton Rock', 'Secretary', 'The Wailing', 'Lisa Picard Is Famous', 'The Debt', 'Bad Boys II', 'A Scanner Darkly', 'Coco Before Chanel', 'Poltergeist III', 'Sideways', 'Irreplaceable', 'Basquiat', 'Submarine', 'Chasing Liberty', 'Alice Through the Looking Glass', 'Show Me', 'Lars and the Real Girl', 'Mrs. Winterbourne', '10 Cloverfield Lane', 'Suicide Squad', 'Tim and Erics Billion Dollar Movie', 'The Hangover Part II', 'A Most Wanted Man', 'Rodeo Girl', 'For a Good Time, Call...', 'Jesus People', 'Re-Kill', 'Blue Valentine', 'In the Land of Blood and Honey', 'Lovely, Still', 'The Oh in Ohio', 'Stargate: The Ark of Truth', 'Babylon A.D.', 'Moneyball', 'War of the Worlds', 'Faster', 'Antitrust', 'Clueless', 'Pirates of the Caribbean: Dead Mans Chest', 'Ratatouille', 'Recess: Schools Out', 'RED', 'Spotlight', 'Shanghai Calling', 'The Town', 'Apollo 13', 'This Is Martin Bonner', 'Tycoon', 'Transporter 2', 'M*A*S*H            ', 'Jade', 'The Goods: Live Hard, Sell Hard', 'The Newton Boys', 'The Past is a Grotesque Animal', 'The Inkwell', 'Now Is Good', 'Sling Blade', 'R100', 'Blazing Saddles', 'The Greatest Movie Ever Sold', 'Town & Country', 'Warlock', 'Manito', 'The Long Kiss Goodnight', 'Pretty Woman', 'Circle', 'Leap Year', 'Romance & Cigarettes', 'Scream 3', 'The Kentucky Fried Movie', 'The Majestic', 'Teenage Mutant Ninja Turtles II: The Secret of the Ooze', 'Jawbreaker', 'Lonesome Jim', 'Perfect Cowboy', 'The Shadow', 'Down Terrace', 'The Widow of Saint-Pierre', 'Thunder and the House of Magic', 'Grease', 'Margaret', '17 Again', 'The Specials', 'Child 44', 'The Lazarus Effect', '3 Strikes', 'The Stepford Wives', 'Dirty Pretty Things', 'Little Nicky', 'Django Unchained', 'Redemption Road', 'Amores Perros', 'Shooter', 'The Front Page', 'Paul', 'Two Weeks Notice', 'Big Trouble in Little China', 'Ink', 'Tears of the Sun', 'Love in the Time of Cholera', 'McFarland, USA', 'Jungle Shuffle', 'Highway', 'Double Impact', 'Nanny McPhee', 'The Ant Bully', 'The Last Song', 'The Sound of Music', 'The Lovely Bones', 'Bill & Teds Excellent Adventure', 'Cloudy with a Chance of Meatballs 2', 'This Is 40', 'Code of Honor', 'The Frozen Ground', 'Super', 'Legion', 'Willard', 'Cold Mountain', 'The Birth of a Nation', 'The Boy Next Door', 'Wing Commander', 'Paranormal Activity', 'Daddy Day Camp', 'Far from Men', 'How She Move', '50 First Dates', 'Faith Like Potatoes', 'Casino Jack', 'Flight of the Phoenix', 'Below Zero', 'Hot Pursuit', 'Legally Blonde', 'For Greater Glory: The True Story of Cristiada', 'Birth', 'Hardflip', 'Phantasm II', 'The English Patient', 'Escape from Alcatraz', 'Its Always Sunny in Philadelphia            ', 'Poetic Justice', 'Scoop', 'The Santa Clause 2', 'Courage', 'The Last Castle', 'Pirates of the Caribbean: On Stranger Tides', 'Antz', 'Because I Said So', 'Hard Rain', 'Hollow Man', 'Happiness', 'Sleep Tight', 'The Simpsons Movie', 'Percy Jackson: Sea of Monsters', 'The Little Prince', 'The Assassin', 'What Just Happened', 'American Hero', 'Pixels', 'Rosemarys Baby', 'Whatever It Takes', 'The Andromeda Strain', 'The Secret of Kells', 'Diary of a Wimpy Kid', 'Rugrats Go Wild', 'We Need to Talk About Kevin', 'Cavite', 'Grandmas Boy', 'Thumbsucker', 'Brooklyn Rules', 'Nurse 3D', 'Jimmy Neutron: Boy Genius', 'Lockout', 'The Sweeney', 'Waterloo', 'Supercapitalist', 'Maniac', 'Men in Black', 'The Adventures of Elmo in Grouchland', 'The Boss', 'A Cinderella Story', 'American Sniper', 'Frat Party', 'Centurion', 'The Hunger Games: Mockingjay - Part 1', 'Childless', 'Half Nelson', 'The Apostle', 'The Brown Bunny', 'Bon Cop Bad Cop', 'Anaconda', 'Volcano', 'Jack the Giant Slayer', 'Twilight', 'The Celebration', 'Firestorm', 'Get on Up', 'The 5th Quarter', 'Hachi: A Dogs Tale', 'Fifty Dead Men Walking', 'Timecop', 'The Forsaken', 'Syriana', 'Les visiteurs', '1776', 'The Oxford Murders', 'Drive Me Crazy', 'Religulous', 'Welcome to Collinwood', 'Y Tu Mamá También', 'Ghosts of Mississippi', 'The Amazing Spider-Man', 'Ray', 'Hobo with a Shotgun', 'Kids', 'PCU', 'Silent House', 'Romeo + Juliet', 'The Green Hornet', 'The Jimmy Show', 'Friday the 13th Part VII: The New Blood', 'Superman III', 'The Bridges of Madison County', 'The Sea Inside', 'The Prince and Me', 'The Proposal', 'Paranormal Activity 3', 'As It Is in Heaven', 'Funny Ha Ha', 'Love Actually', 'Yoga Hosers', 'Joyeux Noel', 'Jack Ryan: Shadow Recruit', 'Star Wars: Episode I - The Phantom Menace', 'Rush', 'Little Boy', 'Palo Alto', 'The New Guy', 'College', 'Charlies Angels', 'New York Stories', 'Keeping the Faith', 'Body of Lies', 'Dawn of the Dead', 'Splice', 'The Big Hit', 'Walk the Line', 'The Worlds End', '2001: A Space Odyssey', 'The Diary of a Teenage Girl', 'Lady in White', 'Ride Along', 'Magnolia', 'The Devils Rejects', 'Battle Los Angeles', 'The Legend of Bagger Vance', 'The Replacements', 'Brooklyns Finest', 'Left Behind', 'We Own the Night', 'The Adventures of Tintin', 'Death Becomes Her', 'The Other Side of Heaven', 'Walk Hard: The Dewey Cox Story', 'Turbulence', 'Varsity Blues', 'Zombieland', 'Gracie', 'Timber Falls', 'A Woman, a Gun and a Noodle Shop', 'Crazy/Beautiful', 'The Cold Light of Day', 'Quigley Down Under', 'Spun', 'Coyote Ugly', 'The Sisterhood of Night', 'Rambo III', 'Love and Other Catastrophes', 'High School Musical', 'Confessions of a Teenage Drama Queen', 'Up in the Air', 'Drumline', 'Space: Above and Beyond            ', 'Freddy Got Fingered', 'Pay It Forward', 'Mommie Dearest', 'D.E.B.S.', 'Southpaw', 'Criminal Activities', 'Rollerball', 'Dying of the Light', 'The Cottage', 'The Shipping News', 'Fear Clinic', 'Eden', 'The Prince', 'Legends of Oz: Dorothys Return', 'The Unborn', 'Velvet Goldmine', 'Pain & Gain', 'Source Code', 'Pokémon 3: The Movie', 'Concussion', 'The Astronauts Wife', 'Freeway', 'Slow Burn', 'The Ballad of Jack and Rose', 'Dressed to Kill', 'Vera Drake', 'District 9', 'Bride of Chucky', 'Raymond Did It', 'Romeo Must Die', 'Little White Lies', 'The Geographer Drank His Globe Away', 'Grace of Monaco', 'The Nuns Story', '16 Blocks', 'Whiteout', 'Thank You for Smoking', 'Cloudy with a Chance of Meatballs', 'The Devil Wears Prada', 'Raise the Titanic', 'Unforgiven', 'The Holy Girl', 'Harriet the Spy', 'Krrish', 'The Mask', 'Toy Story 3', 'Regression', 'The Twilight Saga: New Moon', 'Mean Girls', 'Womb', 'Valkyrie', 'A Good Year', 'Everybodys Fine', 'Frequency', 'Samsara', 'A Low Down Dirty Shame', 'Spider', 'Texas Chainsaw 3D', 'Time to Choose', 'Civil Brand', 'Live and Let Die', 'Firestarter', 'Lucky Numbers', 'Devil', 'Ravenous', 'Absentia', 'The Toxic Avenger', 'Melancholia', 'The Good Guy', 'Who Killed the Electric Car?', 'Man on Wire', 'Air Bud', 'Over the Hedge', 'Quantum of Solace', 'Jackass 3D', 'Shadowlands', 'The Box', 'Tusk', 'Once Upon a Time in America', 'Things We Lost in the Fire', 'Sex with Strangers', 'Mongol: The Rise of Genghis Khan', 'Alive', 'The Jungle Book 2', 'Bring It On', 'Crash', 'Hannibal            ', 'Meet the Parents', 'The Hills Have Eyes II', 'The Mexican', 'The Perfect Wave', 'E.T. the Extra-Terrestrial', 'Wrath of the Titans', 'Shutter', 'Wordplay', 'One to Another', 'Primary Colors', 'Misconduct', 'State Fair', 'Living Out Loud', 'The Good, the Bad and the Ugly', 'Red State', 'Her', 'Hot Tub Time Machine', 'The Poker House', 'Noah', 'The Wash', 'Vicky Cristina Barcelona', 'Moms Night Out', 'Equilibrium', 'The Outsiders', 'Abandoned', 'Bride Wars', 'S.W.A.T.', 'Youth in Revolt', 'Spy Kids: All the Time in the World in 4D', 'Boynton Beach Club', 'The Four Feathers', 'Living Dark: The Story of Ted the Caver', 'Her Cry: La Llorona Investigation', 'Unstoppable', 'Jason Lives: Friday the 13th Part VI', 'American Heist', 'The Doombolt Chase            ', 'Anonymous', 'The Hurt Locker', 'On Her Majestys Secret Service', 'The Hundred-Foot Journey', 'Minority Report', 'The Runaways', 'Shattered', 'Crop Circles: Quest for Truth', 'Monsters vs. Aliens', 'Saving Private Ryan', 'Enemy at the Gates', 'The Hobbit: An Unexpected Journey', 'Dragon Nest: Warriors Dawn', 'Be Kind Rewind', 'The Twilight Saga: Eclipse', 'Collateral Damage', 'Imaginary Heroes', 'High Tension', 'Dragonslayer', 'The Pledge', 'Legally Blonde 2: Red, White & Blonde', 'The Taking of Pelham 1 2 3', 'Inchon', 'A Walk Among the Tombstones', 'Big Mommas House 2', 'The Lost Medallion: The Adventures of Billy Stone', 'Snitch', 'Thomas and the Magic Railroad', 'ZMD: Zombies of Mass Destruction', 'The Barbarians', 'Slacker Uprising', 'Chain of Command', 'Gods of Egypt', 'Playing for Keeps', 'Snake Eyes', 'Arn: The Knight Templar', 'Halloween: The Curse of Michael Myers', 'Invictus', 'Kung Pow: Enter the Fist', 'Hansel & Gretel: Witch Hunters', 'Our Brand Is Crisis', 'Looper', 'Network', 'Tombstone', 'The Maze Runner', 'Rush Hour            ', 'Blue Car', 'Bad Lieutenant: Port of Call New Orleans', 'Laws of Attraction', 'The Good Thief', 'Insomnia Manica', 'The Velocity of Gary', 'Mortal Kombat', 'Paa', 'The Quiet American', 'N-Secure', 'Wolves', 'The Ladykillers', 'Beastmaster 2: Through the Portal of Time', 'How to Train Your Dragon', 'Me You and Five Bucks', 'Derailed', 'Me Before You', 'The Faculty', '300: Rise of an Empire', 'Nicholas Nickleby', 'Blood Diamond', 'Psycho Beach Party', 'The Hunchback of Notre Dame', 'Down to You', 'Never Back Down', 'The Second Best Exotic Marigold Hotel', 'The Hotel New Hampshire', 'Khumba', 'The Pirate', 'How to Be Single', 'Jefferson in Paris', 'Strangerland', 'The Long Riders', 'Underworld', 'Whats Love Got to Do with It', 'Malcolm X', 'Gabriela', 'The Face of an Angel', 'Harry Potter and the Deathly Hallows: Part II', 'Leatherheads', 'Lovesick            ', 'Isnt She Great', 'Your Sisters Sister', 'I Am Sam', 'The Cave', 'Orgazmo', 'The Betrayed', 'CJ7', 'Its Kind of a Funny Story', 'Lost in Space', 'Puss in Boots', 'Newlyweds', 'Sparkle', 'Silent Hill: Revelation 3D', 'Titan A.E.', 'Two Can Play That Game', 'Nighthawks', 'The Awakening', 'Central Station', 'Man on the Moon', 'Alien: Resurrection', 'Beverly Hills Cop', 'The Sweetest Thing', 'Indiana Jones and the Kingdom of the Crystal Skull', 'The Five-Year Engagement', 'Heavy Metal', 'Superbabies: Baby Geniuses 2', 'Ride Along 2', 'Sleep Dealer', 'Light Sleeper', 'Butch Cassidy and the Sundance Kid', 'Toy Story', 'World Trade Center', 'State of Play', 'Vantage Point', '47 Ronin', 'Crimson Tide', 'Shaun the Sheep            ', 'Sonny with a Chance            ', 'Ant-Man', 'Black Nativity', 'Conan the Destroyer', 'Bridget Jones: The Edge of Reason', 'Atlantis: The Lost Empire', 'Snow White: A Tale of Terror', 'The Man Who Knew Too Little', 'Cars 2', 'Airlift', 'Soul Kitchen', 'Hotel Transylvania', 'Aimee & Jaguar', 'Machine Gun McCain', 'The Devils Double', 'The Avengers', 'Austin Powers: International Man of Mystery', 'Trainspotting', 'Post Grad', 'Rise of the Entrepreneur: The Search for a Better Way', 'Timeline', 'Ironclad', 'Bandits', 'The Puffy Chair', 'The Others', 'Funny Games', 'The Possession', 'A Lego Brickumentary', 'Call + Response', 'Cirque du Freak: The Vampires Assistant', 'Killer Joe', 'White Noise', 'Witchboard', 'Witless Protection', 'The To Do List', 'Girl with a Pearl Earring', 'Nomad: The Warrior', 'Run All Night', 'John Carter', 'Prometheus', 'Madagascar 3: Europes Most Wanted', 'On Deadly Ground', '88 Minutes', 'Shark Night 3D', 'The Howling', 'Breakin All the Rules', 'Must Love Dogs', 'Anything Else', 'Die Hard 2', 'Once in a Lifetime: The Extraordinary Story of the New York Cosmos', 'Paranormal Activity 4', 'The Importance of Being Earnest', 'The Nutty Professor', 'Deck the Halls', 'Barnyard', 'Here on Earth', 'Knocked Up', 'Losin It', 'The Flintstones', 'Z Storm', 'Rain Man', 'Return to the Blue Lagoon', 'Bones            ', 'Harry Potter and the Sorcerers Stone', '30 Nights of Paranormal Activity with the Devil Inside the Girl with the Dragon Tattoo', 'Heroes            ', 'High School Musical 2', 'Restoration', 'Down to Earth', 'Perfume: The Story of a Murderer', 'Super 8', 'The Lion of Judah', 'The Negotiator', 'Smillas Sense of Snow', 'Da Sweet Blood of Jesus', 'The Timber', 'What Planet Are You From?', 'Bathory: Countess of Blood', 'A Fistful of Dollars', 'Yogi Bear', 'Death Calls', 'Night at the Museum: Secret of the Tomb', 'Terminator 3: Rise of the Machines', 'Two Lovers', 'Bled', 'Kansas City', 'Loves Abiding Joy', 'In the Bedroom', 'The Lucky Ones', 'The Good, the Bad, the Weird', 'Cleopatra', 'Crowsnest', 'I Think I Love My Wife', 'The Longest Ride', 'Chappie', 'Prophecy', 'Taking Woodstock', 'Christmas Mail', 'Morvern Callar', 'Saw V', 'ParaNorman', 'Rampage', 'Escape from the Planet of the Apes', 'Dune', 'Highlander', 'Million Dollar Arm', 'Pieces of April', 'The Return of the Living Dead', 'Charlottes Web', 'The Chronicles of Narnia: The Lion, the Witch and the Wardrobe', 'The Siege', 'The Object of My Affection', 'Tomorrow Never Dies', 'The Expendables 2', 'Top Gun', 'Major Dundee', 'Anchorman 2: The Legend Continues', 'Life of Pi', 'Amadeus', 'Grace Unplugged', 'Oceans', 'Police Academy', 'Hellraiser', 'Osama', 'Sex Tape', 'Team America: World Police', 'Days of Thunder', 'The Broken Hearts Club: A Romantic Comedy', 'Poltergeist', 'A Separation', 'How to Lose a Guy in 10 Days', 'Elizabeth: The Golden Age', 'The Best Exotic Marigold Hotel', 'The Exploding Girl', 'Paddington', 'W.', 'Disclosure', 'Stripes', 'The Pelican Brief', 'Wag the Dog', 'Wimbledon', 'Wyatt Earp', 'No Reservations', 'Standard Operating Procedure', 'The Living Wake', 'The Wind That Shakes the Barley', 'Invaders from Mars', 'Proof of Life', 'Food, Inc.', 'Vanilla Sky', 'Atlas Shrugged: Who Is John Galt?', 'Alias Betty', 'Robot Chicken            ', 'Antwone Fisher', 'Maid in Manhattan', 'American Wedding', 'The Infiltrator', 'Best in Show', 'The Ghost and the Darkness', 'The A-Team            ', 'Scott Pilgrim vs. the World', 'Loose Cannons', 'Easy Virtue', 'Exodus: Gods and Kings', '55 Days at Peking', 'Impact Point', 'Running Scared', 'Coal Miners Daughter', 'The Replacement Killers', 'Man of the Year', 'Sleeper', 'Kissing Jessica Stein', 'Good Dick', 'The Sentinel', 'Dick Tracy', 'Half Past Dead', 'American Ninja 2: The Confrontation', 'Self/less', 'The Young Victoria', 'Weekend', 'The Brothers', '8 Mile', 'How Do You Know', 'The Torture Chamber of Dr. Sadism', 'Water & Power', 'Men in Black 3', 'Halloween III: Season of the Witch', 'Hostel', 'Begin Again', 'Big Miracle', 'Sanctum', 'Shattered Glass', 'Family Plot', 'Broken Arrow', 'Snow White: A Deadly Summer', 'The Marine 4: Moving Target', 'The Eclipse', 'The Matrix', 'Goldfinger', 'Dude, Wheres My Car?', 'Half Baked', 'The Pet', 'Heroes of Dirt', 'Lifeforce', 'Hellboy II: The Golden Army', 'Rio', 'Ta Ra Rum Pum', 'A Night at the Roxbury', 'Under the Rainbow', 'Bucky Larson: Born to Be a Star', 'Hostel: Part II', 'Marmaduke', 'Midnight in the Garden of Good and Evil', 'Enter the Void', 'Winnie Mandela', 'Valiant', 'Good Deeds', 'The Bourne Supremacy', '40 Days and 40 Nights', 'Thir13en Ghosts', 'Legal Eagles', '20 Feet from Stardom', 'Bridget Joness Diary', 'Shakespeare in Love', 'Vertical Limit', 'Space Chimps', 'The Other Dream Team', 'A Haunted House', 'Trade of Innocents', 'White Noise 2: The Light', 'August: Osage County', 'The Monuments Men', 'Eye of the Dolphin', 'An Everlasting Piece', 'Signed Sealed Delivered', 'Come Early Morning', 'My Cousin Vinny', 'The Hours', 'Valentine', 'Days of Heaven', 'Kiss of Death', 'Elf', 'Repo! The Genetic Opera', 'Babel', 'Silent Running', 'And Then Came Love', '1982', 'Rachel Getting Married', 'Hereafter', 'Percy Jackson & the Olympians: The Lightning Thief', 'Joe Dirt', 'You, Me and Dupree', 'By the Sea', 'Creepshow', 'Get Smart', '50/50', 'Alien Uprising', 'Life            ', 'Spice World', 'The Lord of the Rings: The Fellowship of the Ring', '3', 'Sahara', 'Lord of War', 'Summer Storm', 'The Matador', 'Superstar', 'I Dont Know How She Does It', 'A Mighty Heart', 'The SpongeBob Movie: Sponge Out of Water', 'Excessive Force', 'American Reunion', 'Standing Ovation', 'Selena', 'Back to the Future Part II', 'Dylan Dog: Dead of Night', 'Wonder Boys', 'B-Girl', 'Horse Camp', 'Falcon Rising', 'Rounders', 'Striptease', 'The Grand Budapest Hotel', 'The Hadza: Last of the First', 'The Players Club', 'Censored Voices', '9½ Weeks', 'Perriers Bounty', 'I Am Love', 'Split Second', 'The Swindle', 'Vamps', 'Windsor Drive', 'The Italian Job', 'Doctor Zhivago', 'What Happens in Vegas', 'The Time Travelers Wife', 'Inescapable', 'Little Voice', 'Ice Age: The Meltdown', 'Gladiator', 'Mission to Mars', 'Juwanna Mann', 'Spy Kids 3-D: Game Over', 'The Fourth Kind', 'Dragonball: Evolution', 'The End of the Affair', 'Safety Not Guaranteed', 'Underworld: Awakening', 'Flash of Genius', 'Avatar', 'Star Trek IV: The Voyage Home', 'Big Fat Liar', 'The Contender', 'The Imitation Game', 'The Impossible', 'The Skeleton Twins', 'Surfs Up', 'Def-Con 4', 'The Karate Kid', 'The Kid', 'The Transporter Refueled', 'Capricorn One', 'Jerry Maguire', 'Dil Jo Bhi Kahey...', 'Double Jeopardy', 'The Return of the Pink Panther', 'Quest for Fire', 'Ice Age: Continental Drift', 'Phenomenon', 'The Fifth Estate', 'The Country Bears', 'The Social Network', 'X-Men', 'West Side Story', 'Waking Ned Devine', 'A Civil Action', 'The Break-Up', 'The Virgin Suicides', '8: The Mormon Proposition', '28 Weeks Later', 'Kiss Kiss Bang Bang', 'The Order', 'The Young and Prodigious T.S. Spivet', 'Zambezia', 'Mambo Italiano', 'Circumstance', 'Aliens', 'Remember Me', 'Big Daddy', 'American Hustle', 'Bait', 'Hackers', 'The Dirties', 'Road House', 'Slam', 'St. Vincent', 'The Prince of Tides', 'Blade II', 'Colombiana', 'Cargo', '200 Cigarettes', 'Out of Inferno', 'The Family Man', 'The Piano', 'Autumn in New York', 'Baby Mama', 'The Deported', 'The Player            ', 'The Family            ', 'Mr. & Mrs. Smith', 'The Heart of Me', 'A Lonely Place to Die', 'Edmond', 'Escape Plan', 'Mr 3000', 'Fargo            ', 'Two Evil Eyes', 'A Dogs Breakfast', 'The Other Woman', 'Lone Survivor', 'Flashdance', 'Juno', 'Peaceful Warrior', 'Employee of the Month', 'That Thing You Do!', 'Megiddo: The Omega Code 2', 'A Guy Thing', 'Divergent', 'Rabbit-Proof Fence', 'Skyline', 'Marilyn Hotchkiss Ballroom Dancing and Charm School', 'The Patriot', 'Troop Beverly Hills', 'Kill List', 'Godzilla 2000', 'A Walk on the Moon', 'The Sisterhood of the Traveling Pants 2', 'Rotor DR1', 'Sugar Town', 'Bridesmaids', 'Darkness Falls', 'Shade', 'Kevin Hart: Let Me Explain', 'Raiders of the Lost Ark', 'The Incredibly True Adventure of Two Girls in Love', 'The Three Musketeers', 'The Spirit', 'Close Encounters of the Third Kind', 'What to Expect When Youre Expecting', 'Book of Shadows: Blair Witch 2', 'The Texas Chainsaw Massacre: The Beginning', 'You Got Served: Beat the World', 'Light from the Darkroom', 'Heartbeeps', 'Fat, Sick & Nearly Dead', 'Good', 'Sabotage', 'The Hoax', 'Annabelle', 'Dinner Rush', 'Fireproof', 'Cheaper by the Dozen', 'The Rose', 'The Tuxedo', 'Adore', 'The White Countess', 'Against the Ropes', 'Cant Stop the Music', 'The Signal', 'Les couloirs du temps: Les visiteurs II', 'Black Hawk Down', 'Race', 'Simon Birch', 'Air Force One', 'The Wolfman', 'Dead Man Walking', 'The Scorpion King', 'The Chronicles of Narnia: The Voyage of the Dawn Treader', 'Kingdom of Heaven', 'Still Alice', 'A Warriors Tail', 'Haywire', '90 Minutes in Heaven', 'Good Will Hunting', 'Pirate Radio', 'Year One', 'Bamboozled', 'Ladyhawke', 'Tucker and Dale vs Evil', 'One Flew Over the Cuckoos Nest', 'Breaking Upwards', 'The Wood', 'The House of the Devil', 'Spy Game', 'Some Guy Who Kills People', 'Cinderella Man', 'Along the Roadside', 'Fifty Shades of Black', 'After the Sunset', 'Aladdin', 'Bully', 'Hitman', 'Rocky', 'Love Jones', 'Riding in Cars with Boys', 'Safe Men', 'American Graffiti', 'My Babys Daddy', 'The Secret Life of Pets', 'Fruitvale Station', 'Ronin', 'The Hammer', 'Gangsters Paradise: Jerusalema', 'Gerry', 'Fair Game', 'Sexy Beast', 'Tom Jones', 'A Lot Like Love', 'Beautiful Creatures', 'Garfield', 'Winters Tale', 'The Jackal', 'Dancer in the Dark', 'On the Downlow', 'Me and Orson Welles', 'My Life in Ruins', 'Redacted', 'Drillbit Taylor', 'The Thing', 'House at the End of the Street', 'Never Again', 'Darling Lili', 'The Princess and the Cobbler', 'Spider-Man 2', 'Four Christmases', 'G-Force', 'The Color of Money', 'Seed of Chucky', 'Arbitrage', 'A Knights Tale', 'Batman v Superman: Dawn of Justice', 'Containment', 'Changing Lanes', 'Just Wright', 'The Ten', 'Wings            ', 'Elizabethtown', 'First Blood', 'Domino', 'The Station Agent', 'Journey 2: The Mysterious Island', 'Non-Stop', 'My Last Day Without You', 'Pierrot le Fou', 'Exit Wounds', 'Poseidon', 'Batman: The Movie', 'I Still Know What You Did Last Summer', 'The Square', 'Run, Hide, Die', 'Young Adult', 'Aberdeen', 'Bangkok Dangerous', 'Once', 'The Notebook', 'Out of the Furnace', 'The Hateful Eight', 'The Ides of March', 'Land of the Lost', 'House at the End of the Drive', 'The Roommate', 'Wild Wild West', 'Thor', 'Bridge of Spies', 'Enter the Dangerous Mind', 'Hannah Montana: The Movie', 'Texas Rangers', 'Final Destination 5', 'Kites', 'Filly Brown', 'Ordinary People', 'The Lord of the Rings: The Return of the King', 'Across the Universe', 'The Perfect Host', 'Martha Marcy May Marlene', 'Amour', 'Fun with Dick and Jane', 'Fight Club', 'Miami Vice            ', 'The Proposition', 'Things to Do in Denver When Youre Dead', 'Bulworth', 'The Lost Boys', 'The Lunchbox', 'The Dead Zone', 'Mystery Men', 'Signs', 'Easy A', 'The Reaping', 'Being John Malkovich', 'The Business of Strangers', 'Trash', 'Class of 1984', 'Robots', 'Survival of the Dead', 'Conspiracy Theory', 'Charlie Wilsons War', 'Horrible Bosses 2', 'In Her Line of Fire', 'The Other End of the Line', 'All Superheroes Must Die', 'Mr. Peabody & Sherman', 'My Soul to Take', 'Faith Connections', 'Red Dragon', 'Racing Stripes', 'The Jacket', 'Furry Vengeance', 'Star Trek Into Darkness', 'This Is It', 'Closer', 'Wind Walkers', 'Mary Poppins', 'Rumble in the Bronx', 'Doomsday', 'The Animal', 'Wall Street', 'Hitch', 'Gigli', 'Albino Alligator', 'Alex Rider: Operation Stormbreaker', 'Couples Retreat', 'Resident Evil: Apocalypse', 'Love Stinks', 'Babys Day Out', 'Get Hard', 'Spider-Man 3', 'Deep Impact', 'Diner', 'Unfinished Business', 'Gridiron Gang', 'Saved!', 'Lake Placid', 'Burn After Reading', 'Only God Forgives', 'Alfie', 'Curse of the Golden Flower', 'Real Women Have Curves', 'Next Stop Wonderland', 'Paranormal Activity: The Marked Ones', 'Dumb and Dumberer: When Harry Met Lloyd', 'The Children of Huang Shi', 'Rocket Singh: Salesman of the Year', 'Silent Trigger', 'Big Eyes', 'The Girl on the Train', 'Harper', 'Bullets Over Broadway', 'Gentlemen Broncos', 'The Secret in Their Eyes', 'Alien Zone', 'Dogma', 'The Calling', 'Moonlight Mile', 'Wish I Was Here', 'The Mummy: Tomb of the Dragon Emperor', 'The Spiderwick Chronicles', 'The Last Days on Mars', 'Corpse Bride', 'The Good Girl', 'George and the Dragon', 'The Greatest', 'Stolen', 'The Art of War', 'Mr. Beans Holiday', 'The Interpreter', 'Red Lights', 'Penitentiary', 'The X Files: I Want to Believe', 'Obitaemyy ostrov', 'Mission: Impossible - Rogue Nation', 'My Life Without Me', 'War & Peace            ', 'Fired Up            ', 'Barbarella', 'Charlie St. Cloud', 'Gravity', 'Bottle Rocket', 'The Messengers            ', 'Wolf', 'Buffy the Vampire Slayer            ', 'A Very Harold & Kumar 3D Christmas', 'Owning Mahowny', 'Animal House', 'Straight Outta Compton', 'Crying with Laughter', 'Universal Soldier: The Return', 'Ong-bak 2', 'Inglourious Basterds', 'Final Destination 2', 'Our Idiot Brother', 'Return of the Living Dead III', 'Heavenly Creatures', 'I Spit on Your Grave', 'Extract', 'Higher Ground', 'Bronson', 'Planet of the Apes', 'Sisters in Law', 'The Rite', 'Jaws', 'The Color of Freedom', 'Our Kind of Traitor', 'X-Men: The Last Stand', 'La Famille Bélier', 'Wild Grass', 'Lets Kill Wards Wife', 'The Campaign', 'Be Cool', 'The Terminator', 'Lilya 4-Ever', 'Armored', 'Max', 'The Rundown', 'Home Alone', 'Confessions of a Dangerous Mind', 'The BFG', 'The Great Debaters', 'The House of Mirth', 'Analyze This', 'The Adventures of Ford Fairlane', 'Poolhall Junkies', 'The Art of Getting By', 'Batman Begins', 'Bringing Out the Dead', 'Hatchet', 'Saints and Soldiers', 'Untraceable', 'Shaun of the Dead', 'Toy Story 2', 'Battlefield Earth', 'American Splendor', 'Two Lovers and a Bear', 'Bogus', 'Go for It!', 'The Oogieloves in the Big Balloon Adventure', 'Keanu', 'All the Pretty Horses', 'Partition', 'The Reef', '12 Rounds', 'Heartbreakers', 'Asterix at the Olympic Games', 'Pink Flamingos', 'Griff the Invisible', 'Conquest of the Planet of the Apes', 'Hot Tub Time Machine 2', 'The International', 'Time Bandits', 'Escape from L.A.', 'There Be Dragons', 'Eyes Wide Shut', 'Good Boy!', 'Ride with the Devil', 'For Love of the Game', 'Howard the Duck', 'The Last Waltz', 'Hail, Caesar!', 'The Remains of the Day', 'The Lizzie McGuire Movie', 'Edge of Darkness', 'The Conformist', 'The Ugly Truth', 'Catch Me If You Can', 'Barbershop', 'The Battle of Shaker Heights', 'Atonement', 'To Save a Life', 'The Magic Flute', 'Trust the Man', 'Chicken Tikka Masala', 'Fast Five', 'Forty Shades of Blue', 'To Rome with Love', 'Mr. Nice Guy', 'The Martian', 'Shipwrecked', 'The House Bunny', 'Penguins of Madagascar', 'No End in Sight', 'Project Almanac', 'Slackers', 'Pan', 'Shrek the Third', 'The Constant Gardener', 'Fame', 'The Rocker', 'Anna and the King', 'Dreamgirls', 'Super Troopers', 'Safe', 'The Mongol King', 'The Pursuit of D.B. Cooper', 'Nothing', 'The Bourne Ultimatum', 'Pet Sematary', 'Pulp Fiction', 'I Heart Huckabees', 'Moby Dick', 'Anywhere But Here', 'A Room for Romeo Brass', 'Desert Blue', 'Short Cut to Nirvana: Kumbh Mela', 'Sweet Home Alabama', 'Never Let Me Go', 'Rush Hour 3', 'The Amazing Catfish', 'Sicko', 'Home for the Holidays', 'Prisoners', 'The Kingdom', 'Sunshine State', 'Thirteen', 'The Fault in Our Stars', 'The Life Before Her Eyes', 'Insidious: Chapter 3', 'The Big Bounce', 'The Producers', '30 Minutes or Less', 'Meet Dave', 'Monsters', 'Downfall', 'Envy', 'Jeepers Creepers', 'Western Religion', 'Megaforce', 'I Am Wrath', 'Fantastic Four', 'Narc', 'Constantine            ', 'Sardaar Ji', 'Saint Ralph', 'Slither', 'Ice Age', 'Somewhere', 'Were the Millers', 'The Dukes of Hazzard', 'Fat Albert', 'Mean Streets', 'License to Wed', 'Broken Vessels', 'The Chronicles of Riddick', 'Letters to God', 'The Grandmaster', 'Seventh Son', 'The Road to El Dorado', 'Blow Out', 'In the Name of the King: A Dungeon Siege Tale', 'The Corruptor', 'A Single Man', 'Epic', 'Dragon Hunters', 'Foolish', '15 Minutes', 'Hoop Dreams', 'Topsy-Turvy', 'UnDivided', 'Detention of the Dead', 'Rust', 'Notes on a Scandal', 'The Golden Compass', 'Broken City', 'The Wicked Lady', 'The Women', 'Tinker Tailor Soldier Spy', 'The Haunted Mansion', 'The Last Station', 'Del 1 - Män som hatar kvinnor            ', 'Tarnation', 'High School Musical 3: Senior Year', 'Superman Returns', 'Thats My Boy', 'Unbroken', 'Detention', 'Shall We Dance', 'Amidst the Devils Wings', 'Bernie', 'The Upside of Anger', 'The Adjustment Bureau', 'The Horse Whisperer', 'The Gunman', 'Reign of Assassins', 'Monte Carlo', 'Ripleys Game', 'The Funeral', 'Born of War', 'Copycat', 'Wild Card', 'Frozen', 'The Lego Movie', 'The Gift', 'Eden Lake', 'Oceans Twelve', 'Stigmata', 'Ghost', 'Daylight', 'Salt', 'Iron Man 3', 'Dry Spell', 'Van Wilder: Party Liaison', 'Radio', 'Tora! Tora! Tora!', 'Confidence', 'Seven Pounds', 'Silent Movie', 'Tanner Hall', 'Dragon Wars: D-War', 'Congo', 'Deadfall', 'Jersey Boys', 'Camping sauvage', 'BrainDead            ', 'Capote', 'Stir of Echoes', 'The Midnight Meat Train', 'Gunless', 'Swimfan', 'Red Planet', 'Four Single Fathers', 'Godzilla Resurgence', 'Mandela: Long Walk to Freedom', '28 Days', 'One Hour Photo', 'Mission: Impossible - Ghost Protocol', 'The Prestige', 'Random Hearts', 'Just Married', 'The Incredibles', 'Interstellar', 'Unnatural', 'Forgetting Sarah Marshall', 'New in Town', 'Running Forever', 'The Revenant', 'Valentines Day', 'Insidious', 'Patriot Games', 'The Conjuring', 'Happy Christmas', 'The Running Man', 'Dreamer: Inspired by a True Story', 'The Village', 'Shanghai Knights', 'Somethings Gotta Give', 'Idle Hands', 'Blade Runner', 'Polisse', 'The Sorcerers Apprentice', 'Man on a Ledge', 'When the Game Stands Tall', 'Kill the Messenger', 'Yeh Jawaani Hai Deewani', 'The Big Year', '127 Hours', 'Hes Just Not That Into You', 'Cinderella', 'Compadres', 'Priest', 'Cypher', 'Made of Honor', 'City by the Sea', 'The Croods', 'Julija in alfa Romeo', 'The Adventures of Pluto Nash', 'St. Trinians', 'Mercury Rising', 'Roadside', 'BloodRayne', 'Saving Grace            ', 'The Purge', 'Lara Croft Tomb Raider: The Cradle of Life', 'Listening', 'Freakonomics', 'Office Space', 'Where the Wild Things Are', 'Cheaper by the Dozen 2', 'The Bourne Identity', 'The Following            ', 'Das Boot', 'A Shine of Rainbows', 'The Angry Birds Movie', 'Last Holiday', 'L.I.E.', 'The Fast and the Furious: Tokyo Drift', 'The Best Offer', 'Star Wars: Episode II - Attack of the Clones', 'Gettysburg', 'Exiled', 'Showdown in Little Tokyo', 'Arthur and the Invisibles', 'Cirque du Soleil: Worlds Away', 'Dead Man on Campus', 'I Am Number Four', 'Saw III', 'Bran Nue Dae', 'Childs Play', 'Spectre', 'Middle of Nowhere', 'Veronica Guerin', 'Gandhi, My Father', 'The Kite Runner', 'Wristcutters: A Love Story', 'The Chronicles of Narnia: Prince Caspian', 'Rat Race', 'R.I.P.D.', 'Kicking & Screaming', 'Head of State', 'Bulletproof Monk', 'RocknRolla', 'The Lucky One', 'Where the Heart Is', 'Exorcist: The Beginning', 'Six Days Seven Nights', 'Iris', 'Because of Winn-Dixie', 'The Cable Guy', 'Battle for the Planet of the Apes', 'The Squid and the Whale', 'A Plague So Pleasant', 'Lets Go to Prison', 'Woodstock', 'Zulu', 'Mean Creek', 'Four Brothers', 'Catwoman', 'The Legend of Drunken Master', '[Rec]', 'The Story of Us', 'Pulse', 'Bottle Shock', 'Harsh Times', 'Election', 'Fahrenheit 9/11', 'Sherlock Holmes: A Game of Shadows', 'Rise of the Guardians', 'The Phantom', 'Johnny English Reborn', 'Ready to Rumble', 'Taken 3', 'Unaccompanied Minors', '102 Dalmatians', 'The Ladies Man', 'Better Luck Tomorrow', 'Howards End', 'The Secret Life of Bees', 'The Class', 'The Singing Detective', 'Creepshow 2', 'A Home at the End of the World', 'Pound of Flesh', '1911', 'Hoodwinked Too! Hood vs. Evil', 'The Forbidden Kingdom', 'Mary Reilly', 'Red Eye', 'Strange Wilderness', 'Blood and Chocolate', 'Due Date', 'How High', 'Edge of Tomorrow', 'Million Dollar Baby', 'Street Fighter: The Legend of Chun-Li', 'Oceans Eleven', 'Shes All That', 'Spy Kids', 'The Raven', 'The True Story of PussN Boots', 'Jay and Silent Bob Strike Back', 'Checkmate', 'Finishing the Game: The Search for a New Bruce Lee', 'Jindabyne', 'Out Cold', 'Unknown', 'Joy Ride', 'Cradle 2 the Grave', 'The Divide', 'America Is Still the Place', 'Evolution', 'LOL', 'Into the Woods', 'Much Ado About Nothing', 'Mystery, Alaska', 'The Big Lebowski', 'El Mariachi', 'Friday After Next', 'Transcendence', 'Leaving Las Vegas', 'Agent Cody Banks 2: Destination London', 'The Guilt Trip', 'The Net', 'Secretariat', 'Bowfinger', 'Diamond Ruff', 'Time Changer', 'The Watcher', '30 Days of Night', 'Captive', 'Oculus', 'Vampire Killers', 'Murder by Numbers', 'Swimming Pool', 'The Smurfs', 'This Is Where I Leave You', 'Did You Hear About the Morgans?', 'The Passion of the Christ', 'The Tooth Fairy', '27 Dresses', 'Henry V', 'Batman: The Dark Knight Returns, Part 2', 'Beavis and Butt-Head Do America', 'Spirit: Stallion of the Cimarron', 'Buen Día, Ramón', 'The Abyss', 'The Ghost Writer', 'She Wore a Yellow Ribbon', 'White Fang', 'Tomcats', 'Donkey Punch', 'Rockaway', 'The Curse of the Were-Rabbit', 'Tidal Wave', 'A Monster in Paris', 'Dont Be Afraid of the Dark', 'New York, New York', 'Room', 'The Exorcist', 'Hidden Away', 'Plastic', 'High Anxiety', 'Commando', 'Dear Wendy', 'Sleepover', '10 Days in a Madhouse', 'The Messenger', 'The Vatican Exorcisms', 'They', 'Alex Cross', 'Inspector Gadget', 'The City of Your Final Destination', 'Hook', 'My Bosss Daughter', 'The Nutcracker', 'Royal Kill', 'Next Friday', 'Shaft', 'The Cry of the Owl', 'Evan Almighty', 'Stranger Than Fiction', 'Jingle All the Way', 'Kung Fu Panda', 'The Iceman', 'Julia', 'Action Jackson', 'Escobar: Paradise Lost', 'Elling', 'Jonah Hex', 'Maximum Risk', 'Mirrormask', 'Open Season', 'Tae Guk Gi: The Brotherhood of War', 'Heavens Gate', 'Tales from the Hood', 'Bedazzled', 'Evil Dead II', 'Breakfast of Champions', 'Aquamarine', 'TRON: Legacy', 'Tower Heist', 'Dwegons and Leprechauns', 'Trade', 'The Protector', 'The New World', 'Alvin and the Chipmunks: The Squeakquel', 'Damnation Alley', 'Independence Daysaster', 'Mi America', 'Gun Shy', 'Bloody Sunday', 'Batman Returns', 'Dick', 'Dantes Peak', 'Goodfellas', 'The Peanuts Movie', 'First Knight', 'Pitch Perfect', 'Dougs 1st Movie', 'eXistenZ', 'Dinosaur', 'Devils Due', 'Predator', 'About Schmidt', 'Broken Horses', 'Fast Times at Ridgemont High', 'Furious 7', 'Insidious: Chapter 2', 'Arnolds Park', 'Frailty', 'Trollhunter', 'In the Cut', 'In Good Company', 'Iron Man 2', 'Monsters Ball', 'The Perfect Match', 'Fury', 'R.L. Stines Monsterville: The Cabinet of Souls', 'The Last Witch Hunter', 'Blackthorn', 'Winter in Wartime', 'Red Riding: In the Year of Our Lord 1974', 'April Fools Day', 'Step Up 2: The Streets', 'Love in the Time of Monsters', 'xXx: State of the Union', 'The Gambler', 'Ted 2', 'Abduction', 'Give Me Shelter', 'Cloud Atlas', 'Mamma Mia!', 'Forsaken', 'If I Stay', 'Warrior', 'Disturbia', 'Click', 'Ca$h', 'Maria Full of Grace', '13 Hours', 'Witness', 'Drop Dead Gorgeous', 'Kiss of the Dragon', 'The Forest', 'Michael Clayton', 'Modern Problems', 'Get Over It', 'The Magic Sword: Quest for Camelot', 'Grand Theft Parsons', 'Blood Ties', 'Robin and Marian', 'G.I. Joe: Retaliation', 'Ultraviolet', 'Cruel Intentions', 'The Godfather: Part II', 'Step Up', 'Wont Back Down', 'Contraband', 'The Spy Next Door', 'Raise Your Voice', 'Fuel', 'The Descendants', 'They Came Together', 'My Sisters Keeper', 'Silmido', 'The 5th Wave', 'American Beauty', 'Street Kings', 'Me and You and Everyone We Know', 'The Expendables', 'The Man from Snowy River', 'Sorority Row', 'Detroit Rock City', 'The Touch', 'Green Zone', 'A Nightmare on Elm Street 3: Dream Warriors', 'Paul Blart: Mall Cop', 'A Beautiful Mind', 'A Few Good Men', 'Shrek', 'Kiss the Girls', 'Rise of the Planet of the Apes', 'Out of Sight', 'Flightplan', 'Insomnia', 'G.I. Joe: The Rise of Cobra', 'Star Trek', 'The Baader Meinhof Complex', 'Bang Bang Baby', 'The Devils Tomb', 'The Flintstones in Viva Rock Vegas', 'Delivery Man', 'Terminator Salvation', 'Glee: The 3D Concert Movie', 'Hollywood Homicide', 'The Firm', 'Fighting Tommy Riley', 'Midnight Special', 'Fear and Loathing in Las Vegas', 'Ip Man 3', 'The Outrageous Sophie Tucker', 'Unsullied', 'The Client', 'The Skulls', 'The World Is Not Enough', 'Anatomy', 'Do You Believe?', 'Memoirs of an Invisible Man', 'Swing Vote', 'Elysium', 'Mystic Pizza', 'Pontypool', 'Hocus Pocus', 'The Time Machine', 'In the Name of the King: The Last Job', 'Human Traffic', 'I Am Legend', 'Little Women', 'Me, Myself & Irene', 'Batman & Robin', 'Music and Lyrics', 'Straight As', 'Gangster Squad', 'The Sweet Hereafter', 'Driven', 'Jesse            ', 'Finding Nemo', 'Dawn of the Planet of the Apes', 'Dead Like Me: Life After Death', 'Mrs. Doubtfire', 'Loaded Weapon 1', 'Munich', 'Prison', 'Shooting the Warwicks', 'Monster-in-Law', 'Space Dogs', 'Ishtar', 'Showgirls', 'Casino', 'A Good Day to Die Hard', 'Brazil', 'The 41-Year-Old Virgin Who Knocked Up Sarah Marshall and Felt Superbad About It', 'Entourage            ', 'You Only Live Twice', 'Real Steel', 'Play It to the Bone', 'Thinner', 'The Visual Bible: The Gospel of John', 'Men in Black II', 'Novocaine', 'Exeter', 'Antiviral', 'Hulk', 'Why Did I Get Married?', 'The Stewardesses', 'Conversations with Other Women', 'Driving Lessons', 'Ransom', 'Cube', 'Airborne', 'True Lies', 'The Boondock Saints II: All Saints Day', 'Iraq for Sale: The War Profiteers', 'The Happening', 'The Usual Suspects', 'Smoke Signals', 'Peeples', 'Radio Days', 'The Shawshank Redemption', 'A Perfect Getaway', 'Pocahontas', 'Dungeons & Dragons: Wrath of the Dragon God', 'On the Line', 'The First Wives Club', 'Were No Angels', 'Nacho Libre', 'Surfer, Dude', 'Lake Mungo', 'Hugo', 'South Park: Bigger Longer & Uncut', 'Zoolander', '13 Going on 30', 'The Ninth Gate', 'Fools Gold', 'Journey to Saturn', 'Defendor', 'Star Trek: The Motion Picture', 'The Sitter', 'Armageddon', 'I Dreamed of Africa', 'Poohs Heffalump Movie', 'August', 'Earth to Echo', 'Waterworld', 'Now You See Me 2', '3000 Miles to Graceland', 'Goal! The Dream Begins', 'The Spectacular Now', 'And So It Goes', 'The Little Ponderosa Zoo', 'Zoolander 2', 'Blade: Trinity', 'Basic', 'Garfield 2', 'Public Enemies', 'Birthday Girl', 'One Night with the King', 'Requiem for a Dream', 'The R.M.', 'Twin Falls Idaho', 'The Count of Monte Cristo', 'Incendies', 'Another Year', 'Police Academy: Mission to Moscow', 'The Bachelor            ', 'The Cabin in the Woods', 'Halloween 4: The Return of Michael Myers', 'Conan the Barbarian', 'The Illusionist', 'The Matrix Reloaded', 'Close Range', 'Hearts in Atlantis', 'Wild', 'Its All Gone Pete Tong', 'Robin Hood', 'Boogeyman', 'Desperado', 'Navy Seals vs. Zombies', 'Transamerica', 'Lost in Translation', 'The Land Before Time', 'Groundhog Day', 'Kundun', 'Cotton Comes to Harlem', 'Demonic', 'How Stella Got Her Groove Back', 'The Collection', 'Old Dogs', 'Rush Hour 2', 'One True Thing', 'Beer League', 'The Equalizer', 'Amen.', 'Spanglish', 'Rubber', 'Aloft', 'The Number 23', 'The Young Unknowns', 'Fever Pitch', 'Love Ranch', 'Malibus Most Wanted', 'Blue Like Jazz', 'Selma', 'Beloved', 'Harry Potter and the Order of the Phoenix', 'Here Comes the Boom', 'Man on Fire', 'Superman IV: The Quest for Peace', 'Road Trip', 'The Wrestler', 'Snow Queen', 'Jackie Brown', 'The Wackness', 'Flying By', 'Alice in Wonderland', 'Underworld: Rise of the Lycans', 'American Psycho', 'Goosebumps', 'Tango', 'Captain America: The Winter Soldier', 'Taken 2', 'Underworld: Evolution', 'Hang Em High', 'Josie and the Pussycats', 'Outside Bet', 'The Whole Ten Yards', 'Lucy', 'Scream: The TV Series            ', 'Up', 'Life or Something Like It', 'The Blood of Heroes', 'Oz the Great and Powerful', 'The Scarlet Letter', 'Evita', 'All About the Benjamins', 'Transformers: Revenge of the Fallen', 'Bolt', '8MM', 'Sabrina, the Teenage Witch            ', 'End of Watch', 'May', 'The Lake House', 'The Hunger Games: Catching Fire', 'Dragonfly', 'The Game', 'Dear Frankie', 'Fantasia', 'The Girlfriend Experience            ', 'Drowning Mona', 'Mirror Mirror', 'Urbania', 'Trading Places', 'Monsters University', 'Inside Out', 'The Mist', 'Semi-Pro', 'Highlander: The Final Dimension', 'The Legend of Tarzan', 'The Back-up Plan', 'Jakob the Liar', 'You Can Count on Me', 'The Thirteenth Floor', 'Sweet Charity', 'Dudley Do-Right', 'Hum To Mohabbat Karega', 'Unbreakable', 'Down for Life', 'Enchanted', 'Travelers and Magicians', 'Nine Dead', 'Tupac: Resurrection', 'Ace Ventura: Pet Detective', 'Dracula 2000', 'Pandaemonium', 'The Stepfather', 'U-571', 'Gran Torino', 'Monty Python and the Holy Grail', 'The Lion King', 'Trainwreck', 'Perception            ', 'Dickie Roberts: Former Child Star', 'The Glass House', 'Around the World in 80 Days', 'How to Fall in Love', 'My Summer of Love', 'Ballistic: Ecks vs. Sever', 'I Origins', 'Open Water', 'Terminator Genisys', 'Scary Movie 5', 'The Joneses', 'The Libertine', 'Woman in Gold', 'Philomena', 'The Princess and the Frog', 'Final Destination 3', 'Cabin Fever', 'People I Know', 'Touching the Void', 'A Dangerous Method', 'Stake Land', 'Zoom', 'The Loved Ones', 'Johnny English', 'Failure to Launch', 'To Be Frank, Sinatra at 100', 'How to Be a Player', 'Malone', 'Quills', 'End of the Spear', 'Oliver!', 'Miss March', 'The Chambermaid on the Titanic', 'One Missed Call', 'Being Julia', 'Spring Breakers', 'Secrets and Lies            ', 'Snow Angels', 'Unforgotten            ', 'Virgin Territory', 'Finding Forrester', 'Pootie Tang', 'Harry Potter and the Goblet of Fire', 'Miracle', 'Survivor', 'Mission: Impossible II', 'Eye See You', 'The Invasion', 'Nowhere in Africa', 'Trouble with the Curve', 'The Clan of the Cave Bear', 'The Specialist', 'The Cooler', 'My Own Private Idaho', 'Miss Congeniality', 'Exam', 'Meteor', 'A Better Life', 'Star Trek VI: The Undiscovered Country', 'Carnage', 'Se7en', 'Fight to the Finish', 'No Vacancy', 'The Namesake', 'Shortbus', 'Dolphins and Whales 3D: Tribes of the Ocean', 'Madagascar', 'Incident at Loch Ness', 'Species', 'Eddie the Eagle', 'Star Trek II: The Wrath of Khan', 'The Fan', 'War, Inc.', 'Chicken Little', 'Cedar Rapids', 'The Finest Hours', 'Queen Crab', 'Hanna', 'Going the Distance', '11:14', 'Draft Day', 'Blood Done Sign My Name', 'In the Company of Men', 'The Book of Life', 'Yes Man', 'The O.C.            ', 'Black Christmas', 'Hamlet 2', 'Capitalism: A Love Story', 'The Black Dahlia', 'Hoodwinked!', 'Mystic River', 'Nightcrawler', 'Southland Tales', 'Eight Below', 'Killing Them Softly', 'Hudson Hawk', 'Love Letters', 'Anna Karenina', 'Buffalo 66', 'The DUFF', 'Soldier', 'Solomon and Sheba', 'Pandorum', 'Three Kings', 'A Time to Kill', 'Spawn', 'Wendy and Lucy', 'Serving Sara', 'All the Real Girls', 'Theresa Is a Mother', 'The Beach', 'Winged Migration', 'Jimmy and Judy', 'Blades of Glory', 'Aloha', 'Beyond the Valley of the Dolls', 'Ghosts of Mars', 'Guardians of the Galaxy', 'Into the Storm', 'Someone Like You...', 'A.I. Artificial Intelligence', 'Christmas Eve', 'The Dictator', 'Gosford Park', '16 to Life', 'The Veil', 'Outbreak', 'Big Mommas House', 'Shotgun Stories', 'In Dreams', 'Super Size Me', 'Marci X', 'The Loss of Sexual Innocence', 'Ouija', 'Back to the Future', 'Tropic Thunder', 'Brave New Girl', 'Flywheel', '21 Grams', 'TMNT', 'Extreme Movie', 'Undiscovered', 'Mad Money', 'Buried', 'Birdman or (The Unexpected Virtue of Ignorance)', 'But Im a Cheerleader', 'Northfork', 'The Lost World: Jurassic Park', 'Dreaming of Joseph Lees', 'Feardotcom', 'Happy Feet', 'Shes the Man', 'City of God', 'G.I. Jane', 'Cats & Dogs', 'Footloose', 'Shes the One', 'Down in the Valley', 'Slums of Beverly Hills', 'The Manchurian Candidate', 'White Chicks', 'A Tale of Three Cities', 'Saving Silverman', 'The Blood of My Brother', 'Mr. Hollands Opus', 'Death Sentence', 'Die Hard', 'The Ruins', 'High Heels and Low Lifes', 'The Circle', 'Jonah: A VeggieTales Movie', 'Halloween 5', '54', 'Sinister', 'The Omega Code', 'Hollywood Shuffle', 'School Daze', 'The Queen', 'Dark Blue', 'Kingdom of the Spiders', 'I Can Do Bad All by Myself', '3:10 to Yuma', 'Karachi se Lahore', 'Harvard Man', 'Cutthroat Island', 'Pitch Black', 'Dirty Grandpa', 'The Act of Killing', 'A Nightmare on Elm Street 4: The Dream Master', 'Total Recall', 'Any Given Sunday', 'They Live', 'The Insider', 'The Machinist', 'Princess Mononoke', 'The Legend of Hells Gate: An American Conspiracy', 'Elektra', 'The Chorus', 'Ira & Abby', 'Shark Lake', 'Pale Rider', 'Atlas Shrugged II: The Strike', 'Knowing', 'The Muppet Christmas Carol', 'Why Did I Get Married Too?', 'Man of Steel', 'The Weather Man', 'Joyful Noise', 'On the Road', 'Planet 51', 'The Best Man Holiday', 'Quo Vadis', 'Mighty Joe Young', 'This Is England', 'Drag Me to Hell', 'Invasion U.S.A.', 'Snow Day', 'Skin Trade', 'The Dead Girl', 'Flipper', 'Intolerable Cruelty', 'Away We Go', 'Live Free or Die Hard', 'The Last Five Years', 'Return to Me', 'The Hitchhikers Guide to the Galaxy', 'Hellboy', 'Hot Fuzz', 'Maggie', 'My Super Ex-Girlfriend', 'House Party 2', 'Old School', 'Traffic', 'Courage Under Fire', 'Drinking Buddies', 'I Want Your Money', 'The Savages', 'Paranormal Activity 2', 'Grudge Match', 'The 40-Year-Old Virgin', 'Copying Beethoven', 'Bad Moms', 'The Ballad of Gregorio Cortez', 'The Watch', 'Elmer Gantry', 'Stand by Me', 'Neighbors', 'Rules of Engagement            ', 'Mars Attacks!', 'Get Carter', 'Reservoir Dogs', 'Joe', 'ATL', 'The Vatican Tapes', 'Assault on Precinct 13', 'Reno 911!: Miami', 'In the Valley of Elah', 'Beyond Borders', 'We Have Your Husband', 'Beyond the Lights', 'Roger & Me', 'Jack Reacher', 'Teeth and Blood', 'Dark City', 'In Too Deep', 'Benji', 'The Call', 'Death Race 2000', 'Stick It', 'The Muse', 'Scary Movie 2', 'The River Wild', 'Ondine', 'Vessel', 'The Island', 'Flight', 'Ulees Gold', 'Restless', 'To Die For', 'Echo Dr.', 'Sausage Party', 'The Covenant', 'We Were Soldiers', 'Small Soldiers', 'Shark Tale', 'Tuck Everlasting', 'Accidental Love', 'An Inconvenient Truth', 'Go', 'Damsels in Distress', 'Straight Out of Brooklyn', 'Lies in Plain Sight', 'New Years Eve', 'Videodrome', 'Despicable Me', 'Teenage Mutant Ninja Turtles III', 'Captain America: Civil War', 'Crazy, Stupid, Love.', 'The Core', 'Taxi Driver', 'Mondays in the Sun', 'All Hat', 'Dead Man Down', 'The Business of Fancydancing', 'The Heat', 'Mallrats', '3 Men and a Baby', 'Dream with the Fishes', 'Guiana 1838', 'Bad Santa', 'The Purge: Election Year', 'A True Story', 'The Departed', 'Mulan', 'Stealing Harvard', 'My Best Friends Girl', 'Life During Wartime', 'Meet Joe Black', 'Nanny McPhee Returns', 'Not Easily Broken', 'Bandidas', 'The Virginity Hit', 'Urban Legend', 'The Trouble with Harry', 'My Blueberry Nights', 'The Wedding Planner', 'The Haunting', 'Pink Ribbons, Inc.', 'A Simple Plan', 'A Very Long Engagement', 'Bizarre', 'Blonde Ambition', 'Holy Man', 'Fantastic Mr. Fox', 'Luminarias', 'A Dog of Flanders', 'H.', 'Three Kingdoms: Resurrection of the Dragon', 'Love & Basketball', 'Water for Elephants', 'The Duchess', 'Scream', 'Superman', 'The Banger Sisters', 'Fort McCoy', 'Rob Roy', 'The Guru', 'The Hunger Games', 'Set It Off', 'The Iron Lady', 'Before I Go to Sleep', 'Thunderbirds', 'Young Sherlock Holmes', 'Along Came a Spider', '3 Days to Kill', 'Zero Dark Thirty', 'Spirited Away', 'The Homesman', 'Jarhead', 'Amnesiac', 'The Book Thief', 'Mean Machine', 'The Last House on the Left', 'Full Frontal', 'Crazy Heart', 'One Direction: This Is Us', 'Chasing Mavericks', 'Waitress', 'Nikita            ', 'Stiff Upper Lips', 'Superman II', 'Animals United', 'Bad Boys', 'Hairspray', 'The Interview', 'The Right Stuff', 'Elza', 'Operation Chromite', 'The Man with the Golden Gun', 'Danny Collins', 'Dinner for Schmucks', 'One Day', 'Money Monster', 'A Man for All Seasons', 'When Harry Met Sally...', 'No Escape', '8 Women', 'The Hunted', 'Firefox', 'Men with Brooms', 'A Perfect Plan', 'Avengers: Age of Ultron', 'Children of Heaven', 'Idiocracy', 'A Touch of Frost            ', 'Freeheld', 'The Next Three Days', 'Rushmore', 'Waynes World', 'Halloween', 'My Big Fat Greek Wedding 2', 'The Big Wedding', 'Paper Towns', 'This Means War', 'Gremlins', 'Scooby-Doo', '12 Years a Slave', 'Welcome Home, Roscoe Jenkins', 'Kiss the Bride', 'John Q', 'The Exorcism of Emily Rose', 'Letters from Iwo Jima', 'The Nutcracker in 3D', 'October Baby', 'The Hills Have Eyes', 'Alone in the Dark', 'Steamboy', 'Fantasia 2000', 'Silent Hill', 'Thirteen Conversations About One Thing', 'Back to the Future Part III', 'Starship Troopers', 'The Smurfs 2', 'Space Battleship Yamato', 'The Place Beyond the Pines', 'The Theory of Everything', 'Songcatcher', 'As Good as It Gets', 'August Rush', 'Dark Shadows', 'C.H.U.D.', 'Skyfall', 'The Generals Daughter', 'American Gangster', 'Stargate SG-1            ', 'The Lord of the Rings: The Two Towers', 'Prom Night', 'The 33', 'The Whole Nine Yards', 'Waiting...', 'Cinco de Mayo, La Batalla', 'Olympus Has Fallen', 'Out of the Blue', 'A Haunted House 2', 'Ararat', 'Defiance            ', 'Pollock', 'Crank: High Voltage', 'The Visit', 'The Fighter', 'Chicago Overcoat', 'The Last Shot', 'Motherhood', 'Animal Kingdom            ', 'The Brave Little Toaster', 'The Night Visitor', 'The Wendell Baker Story', 'Roll Bounce', 'V for Vendetta', 'Save the Last Dance', 'Kingpin', 'Sinister 2', 'A Charlie Brown Christmas', 'Adam', 'Practical Magic', 'Alvin and the Chipmunks: The Road Chip', 'Blood In, Blood Out', 'Surrogates', 'Quartet', 'Addicted', 'The Curse of Downers Grove', 'The November Man', 'Cursed', 'Just Go with It', 'North Country', 'Side Effects', 'Charlie Bartlett', 'Somewhere in Time', 'Race to Witch Mountain', 'Idlewild', 'Meet the Browns            ', 'Charlies Angels: Full Throttle', 'My Bloody Valentine', 'The Best Man', 'The Bridge on the River Kwai', 'The Shallows', 'Just Visiting', 'The Walking Deceased', 'Its a Wonderful Life', 'You Got Served', 'City Hall', 'Another Earth', 'Plush', 'The Book of Mormon Movie, Volume 1: The Journey', 'The Singles Ward', 'Open Range', 'All That Jazz', 'Starsuckers', 'Psych            ', 'Role Models', 'Romantic Schemer', 'Hayride', 'Free Birds', 'Teen Wolf Too', 'The Age of Innocence', 'House of Sand and Fog', 'The Great Beauty', 'The Molly Maguires', 'I Know What You Did Last Summer', 'Maleficent', 'Knock Off', 'Top Cat Begins', 'Singin in the Rain', 'Maurice', 'Alvin and the Chipmunks', 'Baahubali: The Beginning', 'Diary of a Wimpy Kid: Rodrick Rules', 'Just My Luck', 'Bill & Teds Bogus Journey', 'Freddys Dead: The Final Nightmare', 'Happy Gilmore', 'The Conjuring 2', 'The Wraith', 'Prince of Persia: The Sands of Time', 'Patch Adams', 'Truth or Die', 'American Dreamz', 'Friday the 13th Part 2', 'La Bamba', 'Saw 3D: The Final Chapter', 'Nims Island', 'Resident Evil: Retribution', 'Enough', 'In Time', 'Lilyhammer            ', 'Dolphin Tale', 'Reign of Fire', 'Thor: The Dark World', 'Aliens vs. Predator: Requiem', 'The Last Emperor', 'Cyrus', 'Clockwatchers', 'The Painted Veil', 'Subway', 'The Santa Clause', 'Monkeybone', 'The Prince of Egypt', 'Get on the Bus', 'Gone in Sixty Seconds', 'Limbo', 'The Fast and the Furious', 'Synecdoche, New York', 'The Little Vampire', 'Warriors of Virtue', 'Soul Plane', 'Shine a Light', 'Flight of the Intruder', 'The Legend of Suriyothai', 'Ghost Hunters            ', 'My Big Fat Independent Movie', 'Beyond the Black Rainbow', 'Galaxy Quest', 'The Californians', 'A Passage to India', 'Counting', 'Eves Bayou', 'Gattaca', 'Hav Plenty', 'Basic Instinct 2', 'Tadpole', 'The Green Mile', 'Arachnophobia', 'Sound of My Voice', 'The Shaggy Dog', 'Beverly Hills Cop III', 'Solitude', 'Deuce Bigalow: European Gigolo', 'Three Burials', 'Valley of the Wolves: Iraq', 'Wrong Turn', 'Jaws: The Revenge', 'Bambi', 'Butterfly Girl', '4 Months, 3 Weeks and 2 Days', 'Hancock', 'Strangers with Candy            ', 'The Good Night', 'Bananas', 'Treachery', 'Zodiac', 'Sharkskin', 'The X Files', 'Hands of Stone', 'Spider-Man', 'Takers', 'London to Brighton', 'Chasing Amy', 'Rudderless', 'Midnight Run', 'Brooklyn', 'Inside Man', 'Bright Lights, Big City', 'Mo Better Blues', 'Zookeeper', 'City of Angels', 'Please Give', 'Kabhi Alvida Naa Kehna', 'Tomorrowland', 'Nowhere to Run', 'The Boys from Brazil', 'High Fidelity', 'The Fall of the Roman Empire', 'Under the Skin', 'Deconstructing Harry', 'The Game of Their Lives', 'The Night Listener', 'Meet the Deedles', 'Grosse Pointe Blank', 'Antarctic Edge: 70° South', 'Dutch Kills', 'Magic Mike', 'Premonition', 'The FP', 'Georgia Rule', 'Hesher', 'The Man with the Iron Fists', 'Wuthering Heights            ', 'Case 39', 'Starsky & Hutch', 'Blue Crush', 'Chill Factor', 'An American in Hollywood', 'Jersey Girl', 'Lost Souls', 'Sarahs Key', 'Superbad', 'Twixt', 'Apollo 18', 'War', 'Annie Get Your Gun', 'The Addams Family', 'Flirting with Disaster', 'The Benchwarmers', 'Wild Target', 'Little Children', 'Ghostbusters', 'Swelter', 'A Funny Thing Happened on the Way to the Forum', 'An American Carol', 'Grave Encounters', 'Roadside Romeo', 'The Grudge 2', 'Burnt', 'The Last Exorcism', 'X-Men: Days of Future Past', 'Luther            ', 'Dr. Dolittle 2', 'Independence Day: Resurgence', 'Monster', 'The Love Letter', 'Boomerang', 'Entrapment', 'Firewall', 'I Love Your Work', 'Porkys', 'Soul Men', 'The Big Short', 'The Sessions', 'Winter Passing', 'Scooby-Doo 2: Monsters Unleashed', 'Take Me Home Tonight', 'The Switch', 'Inception', 'Barry Lyndon', 'Barneys Version', 'City of Ghosts', 'Arthur            ', 'Body Double', 'Death Race', 'Gothika', 'Its a Mad, Mad, Mad, Mad World', 'My Lucky Star', 'Next Day Air', 'Resident Evil: Afterlife', 'Very Bad Things', 'White Oleander', 'Die Hard with a Vengeance', 'Friends with Benefits', 'Extreme Measures', 'Lethal Weapon 3', 'Black Swan', 'Indie Game: The Movie', 'Identity Thief', 'The Fountain', 'The Tailor of Panama', 'Petes Dragon', 'Dope', 'Monster House', 'The Reader', 'Jason X', 'Supercross', 'Butterfly', 'Glory Road', 'The Bank Job', 'Deadpool', 'The Longshots', 'The Wedding Date', 'Four Lions', 'Transsiberian', 'The Last Legion', 'Illuminata', 'Welcome to Mooseport', 'Delgo', 'Moonraker', 'The Perez Family', 'Baby Geniuses', 'Dave Chappelles Block Party', 'Big Fish', 'The Grace Card', 'Date Night', 'Closure', 'This Thing of Ours', 'Gone with the Wind', 'Risen', 'Ninja Assassin', 'The Pirates! Band of Misfits', 'An Alan Smithee Film: Burn Hollywood Burn', 'Admission', 'Black November', 'Under the Same Moon', 'Childs Play 2', 'Cast Away', 'Jeepers Creepers II', 'Beauty Shop', 'Annie', 'Harley Davidson and the Marlboro Man', 'Mindhunters', 'Stardust', 'Think Like a Man Too', 'Obvious Child', 'Happy Feet 2', 'Gone, Baby, Gone            ', 'Casper', 'Finding Neverland', 'Lottery Ticket', 'Flame and Citron', 'Escape from Planet Earth', 'Barbecue', 'Cry_Wolf', 'Arlington Road', 'Hansel & Gretel Get Baked', 'Before Midnight', 'Home', 'Hustle & Flow', 'Mooz-Lum', 'Jupiter Ascending', 'Jackass Number Two', 'Howls Moving Castle', 'Good Morning, Vietnam', 'November', 'Reindeer Games', 'Legend of the Guardians: The Owls of GaHoole', 'Sphere', 'Eight Legged Freaks', 'The Fugitive', 'The Incredible Hulk', 'Sunday School Musical', 'Transformers: Dark of the Moon', 'How the Grinch Stole Christmas', 'The Deer Hunter', 'Pushing Tin', 'Swept Away', 'The Last Samurai', 'Stuart Little 2', 'Whats Your Number?', 'The Adventures of Pinocchio', 'Cats & Dogs: The Revenge of Kitty Galore', 'Compliance', 'The Bounty Hunter', 'Braveheart', 'Lucky Break', 'Iguana', 'Flawless', 'Cats Dont Dance', 'Tango & Cash', 'The Legend of Gods Gun', 'Contagion', 'Inside Llewyn Davis', 'Topaz', 'The Man in the Iron Mask', 'Scary Movie 3', 'Born on the Fourth of July', 'Interview with the Vampire: The Vampire Chronicles', 'Willy Wonka & the Chocolate Factory', 'Naked Gun 33 1/3: The Final Insult', 'Never Say Never Again', 'Paul Blart: Mall Cop 2', 'Spellbound', 'Stuck on You', 'The Claim', 'The Innkeepers', 'Clash of the Titans', 'Paycheck', 'Shes Out of My League', 'Before Sunset', 'Everything Must Go', 'Walking Tall', 'Caravans', 'Choke', 'Disturbing Behavior', 'Wanted', 'Angel Eyes', 'Born to Fly: Elizabeth Streb vs. Gravity', 'Chiamatemi Francesco - Il Papa della gente', 'Say It Isnt So', 'The Bounty', 'Eat Pray Love', 'Jason Goes to Hell: The Final Friday', 'Deceptive Practice: The Mysteries and Mentors of Ricky Jay', 'Captain Phillips', 'Mortal Kombat: Annihilation', 'I Want Someone to Eat Cheese With', 'Splash', 'Pride and Prejudice and Zombies', 'Darling Companion', 'Mississippi Mermaid', 'Rock of Ages', 'The Curse of the Jade Scorpion', 'Alexander and the Terrible, Horrible, No Good, Very Bad Day', 'Area 51', 'Bad Teacher', 'Titanic', 'Like Mike', 'Take the Lead', 'Hostage', 'Veer-Zaara', 'Digimon: The Movie', 'Over Her Dead Body', 'Pathology', 'The Color Purple', 'Wasabi', 'Cop Land', 'When the Lights Went Out', 'Drive', 'Beasts of the Southern Wild', 'Boogie Nights', 'Taxman', 'Dawn of the Crescent Moon', 'Bend It Like Beckham', 'All or Nothing', 'Jack and Jill', 'Scary Movie 4', 'The Lone Ranger', 'F.I.S.T.', 'Night Watch', 'Doubt', 'Lions for Lambs', 'The Dead Zone            ', 'Sea Rex 3D: Journey to a Prehistoric World', 'Dude, Wheres My Dog?!', 'UHF', 'The Bucket List', '51 Birch Street', 'The Adventures of Sharkboy and Lavagirl 3-D', 'Superhero Movie', 'The Way of the Gun', 'Insurgent', 'Just Like Heaven', 'One for the Money', 'Jane Got a Gun', 'The Family Stone', 'Good Intentions', 'Star Trek: Generations', 'Robin Hood: Prince of Thieves', 'Feast', 'Fright Night', 'The Mask of Zorro', 'Secret Window', 'Fiddler on the Roof', 'The Jungle Book', 'Master and Commander: The Far Side of the World', 'WarGames', '2 Guns', 'March of the Penguins', 'Æon Flux', 'Ghost Rider', 'Kit Kittredge: An American Girl', 'Repo Man', 'Shorts', 'The Princess Diaries 2: Royal Engagement', 'Enders Game', 'Barry Munday', 'Into the Blue', 'Tsotsi', 'Queen of the Damned', 'The Crocodile Hunter: Collision Course', 'Big Hero 6', 'Christmas with the Kranks', 'Courageous', 'Paparazzi', 'The Last of the Mohicans', 'The Muppet Movie', 'Hedwig and the Angry Inch', 'X-Men 2', 'A Walk to Remember', 'Hotel for Dogs', 'The Perfect Man', 'Oldboy', 'Are We There Yet?', 'Hit and Run', 'Curious George', 'The Wicked Within', 'From Hell', 'Wicker Park', 'Alvin and the Chipmunks: Chipwrecked', 'Wall Street: Money Never Sleeps', 'Exorcist II: The Heretic', 'Aqua Teen Hunger Force Colon Movie Film for Theaters', 'From Paris with Love', 'Dekalog            ', 'Austin Powers in Goldmember', 'Valley of the Hearts Delight', 'Solitary Man', 'Little Black Book', 'Florence Foster Jenkins', 'The Brothers Solomon', 'Road to Perdition', 'The Mechanic', 'American Desi', 'Foodfight!', 'Waltz with Bashir', 'Brother', 'Original Sin', 'Punisher: War Zone', 'Session 9', 'Blow', 'Triple 9', 'Fight Valley', 'The Counselor', 'The Bourne Legacy', 'Dream House', 'Phone Booth', 'Theres Something About Mary', 'Yes', 'Lara Croft: Tomb Raider', 'Freedom Writers', 'Barneys Great Adventure', 'The Brass Teapot', 'Roar', 'A Simple Wish', 'The Fifth Element', 'The Fisher King', 'Raising Victor Vargas', 'Mad Max Beyond Thunderdome', 'Sicario', 'Bandslam', 'Diary of a Wimpy Kid: Dog Days', 'Jennifers Body', 'Triangle', 'A Christmas Carol', 'The Bodyguard', 'Friday the 13th: The Final Chapter', 'Princess Kaiulani', 'All Good Things', 'The Case of the Grinning Cat', 'Brave', 'The Immigrant', 'The Secret            ', 'Q', 'The Crying Game', 'Abraham Lincoln: Vampire Hunter', 'Party Monster', 'Speed 2: Cruise Control', 'The Grey', 'The Mothman Prophecies', 'The Omen', 'There Will Be Blood', 'Krush Groove', 'Shutter Island', 'A Million Ways to Die in the West', 'K-PAX', 'The Slaughter Rule', 'Allegiant', 'J. Edgar', 'The Dead Undead', 'Snakes on a Plane', 'The Dilemma', 'Serenity', 'Endless Love', 'Free State of Jones', 'Kung Fu Panda 3', 'All the Queens Men', 'Of Horses and Men', 'House of Flying Daggers', 'Night at the Museum', 'The 13th Warrior', 'Get Him to the Greek', 'The Lost City', 'March or Die', 'House of D', 'The Butterfly Effect', 'Speedway Junky', 'Corky Romano', 'Julie & Julia', 'Up Close & Personal', 'Frozen River', '22 Jump Street', 'Arthur Christmas', 'Bringing Down the House', 'Spartacus: War of the Damned            ', 'The Book of Eli', 'Emma            ', 'The Deep End of the Ocean', 'The Odd Life of Timothy Green', 'Chuck & Buck', 'Open Road', 'Agora', 'Neighbors 2: Sorority Rising', 'The Talented Mr. Ripley', 'Loser', 'Two Girls and a Guy', 'The East', 'Cant Hardly Wait', 'Tales from the Crypt: Demon Knight', 'In the Heart of the Sea', 'Extraordinary Measures', 'The Postman', 'Dark Angel            ', 'Dont Say a Word', 'Four Rooms', 'Hey Arnold! The Movie', 'Midnight in Paris', 'The Internship', 'Chronicle', 'The Day After Tomorrow', 'Trapeze', 'Water', 'What Women Want', 'X-Men: First Class', 'Talladega Nights: The Ballad of Ricky Bobby', 'The Scorch Trials', 'Mission: Impossible III', 'Miracle at St. Anna', 'Dumb and Dumber To', 'Ella Enchanted', 'K-19: The Widowmaker', 'Death at a Funeral', 'Lady Vengeance', 'Sparkler', 'Meeks Cutoff', 'I Love You, Beth Cooper', 'The Boy', 'The Streets of San Francisco            ', 'Lone Star', 'Song One', 'The Bold and the Beautiful            ', 'Point Break', 'Loving Annabelle', 'Hidalgo', 'Sphinx', 'Black Knight', 'Breakdown', 'Khiladi 786', 'Rambo: First Blood Part II', 'Machine Gun Preacher', 'The Next Best Thing', 'Shine', 'Happy, Texas', 'The Amityville Horror', 'My Week with Marilyn', 'Brick Mansions', 'The Pink Panther', 'Purple Violets', 'The Way Way Back', 'Diamonds Are Forever', 'The Legend of the Lone Ranger', 'The Flower of Evil', 'Brothers', 'The Crew', 'The Last Sin Eater', 'Destiny', 'The Brothers Bloom', 'Fetching Cody', 'National Treasure', 'Cellular', 'Flatliners', 'Sanctuary; Quite a Conundrum', 'Center Stage', 'Shopgirl', 'Take Shelter', 'Funny People', 'Amistad', 'The Boxtrolls', 'The Devils Own', 'Multiplicity', 'End of Days', 'Imagine Me & You', 'From Russia with Love', 'Scream 4', 'Hercules', 'Beneath the Planet of the Apes', 'The Pursuit of Happyness', 'Shanghai Noon', 'The Horror Network Vol. 1', 'Halloween: Resurrection', 'Revolutionary Road', 'The Girl Next Door', 'Sex Drive', 'Dance Flick', 'Edtv', 'City of Ember', 'Miracles from Heaven', 'Deadline Gallipoli            ', 'Star Wars: Episode IV - A New Hope', 'Event Horizon', 'Cadillac Records', 'Serendipity', 'Shrek Forever After', 'The Help', 'Looney Tunes: Back in Action', 'Repo Men', 'The Christmas Bunny', 'The Work and the Glory II: American Zion', 'Star Wars: The Clone Wars            ', 'Ramanujan', 'The Vow', 'Cloverfield', 'Magic Mike XXL', 'Everest', 'The Blues Brothers', 'Mona Lisa Smile', 'The Jerky Boys', 'Babe: Pig in the City', 'Duel in the Sun', 'Old Joy', 'Bound', 'Into the Wild', 'The Algerian', 'The Dress', 'Vampire in Brooklyn', 'Wanderlust', 'The Adventurer: The Curse of the Midas Box', 'Indignation', 'Hot Rod', 'Duplicity', 'Rugrats in Paris: The Movie', 'Beerfest', 'Earth', 'Justin Bieber: Never Say Never', 'Chariots of Fire', 'My Best Friends Wedding', 'Desert Dancer', 'Free Style', 'Sherrybaby', 'Never Back Down 2: The Beatdown', 'Letters to Juliet', 'A History of Violence', 'Almost Famous', 'Sunshine Cleaning', 'Warcraft', 'The Ice Pirates', 'You Kill Me', 'Against the Wild', 'Fled', 'Freeze Frame', 'I Served the King of England', 'Star Wars: Episode VI - Return of the Jedi', 'The Medallion', 'The Mirror Has Two Faces', 'No Country for Old Men', 'Whipped', 'Seven Years in Tibet', 'The Pacifier', 'A Prairie Home Companion', 'Ever After: A Cinderella Story', 'The Greatest Game Ever Played', 'Boys Dont Cry', 'Naturally Native', 'After.Life', 'The Knife of Don Juan', 'Chain Letter', 'Molière', 'There Goes My Baby', 'Whatever Works', 'Ajami', 'As Above, So Below', 'Black Rain', 'Not Another Teen Movie', 'The Thomas Crown Affair', 'Hanging Up', 'Mozarts Sister', 'Killers', 'Beastly', 'Menace II Society', 'Speed', 'Batman', 'Ghost Rider: Spirit of Vengeance', 'Life as a House', 'Snow Dogs', 'The Sound and the Shadow', 'Sweet November', 'Veronica Mars            ', 'Get Shorty', 'The Land Girls', 'The Perfect Storm', 'Apocalypse Now', 'Tremors', 'The Judge', 'The Incredible Burt Wonderstone', 'Woo', 'Get Rich or Die Tryin', 'The Hole', 'The Bridge of San Luis Rey', 'I Married a Strange Person!', 'The Lords of Salem', 'Inside Job', 'Shame', 'They Will Have to Kill Us First', 'Barfi', 'The Blue Room', 'Flipped', 'Before Sunrise', 'Crazy in Alabama', 'The Expendables 3', 'The Eye', 'Hamlet', 'Executive Decision', 'The Sixth Sense', 'Lords of Dogtown', 'Tristram Shandy: A Cock and Bull Story', 'Facing the Giants', 'The Transporter', 'Sex and the City 2', 'The Princess Bride', 'Torn Curtain', 'The Trials of Darryl Hunt', 'Young Guns', 'New York Minute', 'Match Point', 'Joy', 'National Lampoons Vacation', 'Lilo & Stitch', 'Pans Labyrinth', 'The Final Destination', 'Metropolitan', 'Richard III', 'Alien 3', 'Love & Other Drugs', 'Snowpiercer', 'A Nightmare on Elm Street', 'The Hit List', 'Eulogy', 'Behind Enemy Lines', 'Eastern Promises', 'Resident Evil: Extinction', 'Revolution            ', 'Saving Face', 'Eddie: The Sleepwalking Cannibal', 'Galaxina', 'The Last Exorcism Part II', 'Prefontaine', 'Under Siege 2: Dark Territory', 'Guess Who', 'Legend', 'Chloe', 'Dark Water', 'The Prophecy', 'Flushed Away', 'Ask Me Anything', 'The Powerpuff Girls            ', 'Super Hybrid', 'Shooting Fish', 'Duets', 'Victor Frankenstein', 'The Barbarian Invasions', 'Troy', 'Bats', 'The Egyptian', 'The Royal Tenenbaums', 'Teeth', 'Glitter', 'Poultrygeist: Night of the Chicken Dead', 'Snow Falling on Cedars', 'Urban Legends: Final Cut', 'Gamer', 'The Mortal Instruments: City of Bones', 'Andersons Cross', 'White Squall', 'A Thin Line Between Love and Hate', 'Woman on Top', 'Law Abiding Citizen', 'Ruby in Paradise', 'Sheena', 'Deliver Us from Evil', 'Beneath Hill 60', 'Friday the 13th: A New Beginning', 'Casa de mi Padre', 'Shanghai Surprise', 'Everyone Says I Love You', 'Joe Somebody', 'Awake', 'DysFunktional Family', 'Lincoln', 'Don McKay', 'Food Chains', 'Inherent Vice', 'Daddy Day Care', 'Beverly Hills Chihuahua', 'Little Miss Sunshine', 'The Rocket: The Legend of Rocket Richard', 'The Tree of Life', 'Nowhere Boy', 'Tin Cup', 'You Again', 'Terminator 2: Judgment Day', 'Garden State', 'Love Happens', 'Alexander', 'Blue Streak', 'Stop-Loss', 'The Conspirator', 'Harry Potter and the Deathly Hallows: Part I', 'The Host', 'Rosewater', 'The Love Guru', 'Margin Call', 'Grindhouse', 'Henry & Me', 'Madadayo', 'Dracula Untold', 'Oblivion', 'The Beastmaster', 'The Damned United', 'The Perks of Being a Wallflower', 'While Were Young', 'Brick Lane', 'Riddick', 'Cries & Whispers', 'Flags of Our Fathers', 'The Frozen', 'The Matrix Revolutions', 'Whos Your Caddy?', 'Medicine Man', 'Jeff, Who Lives at Home', '8 Heads in a Duffel Bag', 'Cry Freedom', 'Gossip', 'Nothing to Lose', 'Namastey London', 'Bless the Child', 'The Looking Glass', 'Central Intelligence', 'The Tale of Despereaux', 'After Earth', '300', 'About Last Night', 'Cheap Thrills', 'Big Trouble', 'Brotherly Love', 'Headhunters', 'Blue Jasmine', 'Little Big Top', 'Lucky Number Slevin', 'Payback', 'The Christmas Candle', 'Carriers', 'Undercover Brother', 'Men of Honor', 'Sliding Doors', 'Vanity Fair', 'U2 3D', 'Agent Cody Banks', 'Grabbers', 'Sex, Lies, and Videotape', 'The Last Time I Committed Suicide', 'Indiana Jones and the Temple of Doom', 'Machete', 'That Awkward Moment', 'My Dog Tulip', 'Sharknado', 'Godsend', 'Where the Truth Lies', 'A Thousand Words', 'The Last Godfather', 'Stone', 'United Passions', 'Light It Up', 'Tea with Mussolini', 'Boyz n the Hood', 'High Crimes', 'Nurse Betty', 'A Serious Man', 'Bleeding Hearts', 'George Washington', 'The Master of Disguise', 'The Silence of the Lambs', 'Welcome to the Rileys', 'Without Limits', 'Reds', 'Monsters, Inc.', 'Animals', 'Parental Guidance', 'The Quiet', 'First Love, Last Rites', 'Eagle Eye', 'Felicias Journey', 'A Nightmare on Elm Street 2: Freddys Revenge', '2016: Obamas America', 'The King of Najayo', 'The Tourist', 'The Walk', 'Bee Movie', 'Dead Poets Society', 'Charlie and the Chocolate Factory', 'San Andreas', 'London Has Fallen', 'The Mighty Macs', 'Femme Fatale', 'We Are Marshall', 'Snow White and the Huntsman', 'Banshee Chapter', 'Girls Gone Dead', 'Vampires Suck', 'The Hunt for Red October', 'Harry Potter and the Prisoner of Azkaban', 'Madea Goes to Jail', 'Enemy of the State', 'Larry Crowne', 'Get Low', 'Neal N Nikki', 'Training Day', 'I, Robot', 'The Image Revolution', 'Dragon Blade', 'Battle of the Year', 'Far from Heaven', 'Notting Hill', 'Gomorrah            ', 'East Is East', 'The Man from U.N.C.L.E.', 'Doom', 'House on Haunted Hill', 'Torque', 'Trekkies', 'The Nut Job', 'Kevin Hart: Laugh at My Pain', 'Alex & Emma', 'Goddess of Love', 'Red Dawn', 'Out of the Dark', 'All the Boys Love Mandy Lane', 'Character', 'Marley & Me', 'Saw VI', 'The Opposite Sex', 'The Missing Person', 'Slumdog Millionaire', 'Raising Cain', 'Seven Psychopaths', 'The Purge: Anarchy', 'The Big Swap', 'Tammy', 'Sinbad: Legend of the Seven Seas', 'How to Train Your Dragon 2', 'Act of Valor', 'Jesus Son', 'Train', 'Kama Sutra: A Tale of Love', 'Trust', 'Captain Corellis Mandolin', 'Babe', 'Krampus', 'Freedom', 'Mirrors', 'Small Time Crooks', 'Octopussy', 'Ultramarines: A Warhammer 40,000 Movie', 'Mortdecai', 'Bullet to the Head', 'Day One', 'Treasure Planet', 'My Girl', 'Premium Rush', 'Hits', 'Out of Africa', 'Savage Grace', 'AWOL-72', 'ABCD (Any Body Can Dance)', 'Adventureland', 'Oscar and Lucinda', 'The Brain That Sings', 'Airplane!', 'My Dog Skip', 'Zombie Hunter', 'Spy Hard', 'The Blue Lagoon', 'Muppets from Space', 'Find Me Guilty', 'O', 'A Man Apart', 'The Other Guys', 'Silverado', 'Glengarry Glen Ross', 'Miss Congeniality 2: Armed and Fabulous', 'Of Gods and Men', 'Summer of Sam', 'The Limey', 'Holy Motors', 'Saint John of Las Vegas', 'Saw II', 'The Black Hole', 'The Open Road', 'The Warriors Way', 'Mad Hot Ballroom', 'Walter', 'Turbo', 'Little Fockers', 'Walking and Talking', 'Deuces Wild', 'The Naked Ape', 'The Rock', 'Transformers', 'George of the Jungle', 'Lage Raho Munna Bhai', 'Stung', 'We Are Your Friends', 'When Did You Last See Your Father?', 'Frost/Nixon', 'Harlock: Space Pirate', 'Predators', 'Batman Forever', 'Safe House', 'The Twilight Saga: Breaking Dawn - Part 2', 'Dallas Buyers Club', 'Brown Sugar', 'Romeo Is Bleeding', 'The Janky Promoters', 'The Lincoln Lawyer', 'Last Man Standing            ', 'Just Looking', 'Legend of Kung Fu Rabbit', 'Alpha and Omega', 'Friends with Money', 'Road Hard', 'Always Woodstock', 'Raising Helen', 'Vaalu', '21 & Over', 'Indiana Jones and the Last Crusade', 'Persepolis', 'Children of Men', 'In Bruges', 'Movie 43', 'Stan Helsing', 'Taken', 'Home Fries', 'Stealth', 'The Relic', 'Freaky Friday', 'Punch-Drunk Love', 'Flubber', 'Code 46', 'A Turtles Tale: Sammys Adventures', 'Apocalypto', 'Carlos            ', 'The Four Seasons', 'The Man', 'Star Trek III: The Search for Spock', 'Hollywood Ending', 'EuroTrip', 'I Love You, Dont Touch Me!', 'Bad Words', 'Molly', 'Quinceañera', 'Meet the Fockers', 'The Kings Speech', 'Show Boat', 'Think Like a Man', 'An Ideal Husband', 'Sur le seuil', 'Wah-Wah', 'White House Down', 'Dum Maaro Dum', 'The Great Gatsby', 'Johnson Family Vacation', 'Jurassic Park', 'Whats the Worst That Could Happen?', 'The Informant!', 'The Dog Lover', 'Waiting for Guffman', '3 Backyards', 'Snow White and the Seven Dwarfs', 'The Flowers of War', 'Ace Ventura: When Nature Calls', 'Appaloosa', 'Driving Miss Daisy', '2012', 'The Borrowers', 'The Harvest/La Cosecha', 'Closer to the Moon', 'True Romance', 'The Bad News Bears', 'One Mans Hero', 'Factory Girl', 'Sex and the City            ', 'The Second Mother', 'Locker 13', 'The Ridiculous 6', 'Whats Eating Gilbert Grape', 'Winnie the Pooh', 'Donnie Darko', 'Doogal', 'Kangaroo Jack', 'Rescue Dawn', 'Sky High', 'The Princess Diaries', 'Hotel Rwanda', 'Sky Captain and the World of Tomorrow', 'Rize', 'The Sum of All Fears', 'The Man from Earth', 'Jurassic Park III', 'Once Upon a Time in the West', 'Pink Narcissus', 'Peggy Sue Got Married', 'Mad Max', 'The Border            ', 'The Last Temptation of Christ', 'Speed Racer', 'Ghost World', 'Knockaround Guys', 'Made', 'The Kids Are All Right', 'Casablanca', 'Machete Kills', 'Dredd', 'Kick-Ass', 'Subconscious', 'Ramona and Beezus', 'Exotica', 'The Bubble', 'The Rainmaker', 'Head Over Heels', 'Trapped            ', 'Peace, Propaganda & the Promised Land', 'Piranha 3D', 'September Dawn', 'The Mighty Ducks', 'Muppets Most Wanted', 'Daddys Home', 'El crimen del padre Amaro', '10th & Wolf', 'Absolute Power', 'Madison', 'The Last King of Scotland', 'Warm Bodies', 'City Island', 'Dumb & Dumber', '21 Jump Street', 'Hardball', 'Kindergarten Cop', 'Creative Control', 'P.S. I Love You', 'About Time', 'Slow West', 'Spaced Invaders', 'The Rules of Attraction', 'Futuro Beach', 'No Good Deed', 'Herbie Fully Loaded', 'Star Wars: Episode III - Revenge of the Sith', 'Australia', 'Paint Your Wagon', 'Clockstoppers', 'Hoot', 'The Assassination of Jesse James by the Coward Robert Ford', '#Horror', 'Adam Resurrected', 'Captain America: The First Avenger', 'Annie Hall', 'Bloodsport', 'Definitely, Maybe', '42', 'Rocky Balboa', 'O Brother, Where Art Thou?', 'The American', 'The Change-Up', 'The Dark Hours', 'The Soloist', 'The Untouchables', 'Love the Coopers', 'Farce of the Penguins', 'Martian Child', 'The Living Daylights', 'A Most Violent Year', 'Tumbleweeds', 'Diary of a Mad Black Woman', 'Kate & Leopold', 'Miss Potter', 'Nick and Norahs Infinite Playlist', 'Sleepy Hollow            ', 'The Wave', 'Collateral', 'Hope Springs', 'Aliens in the Attic', 'Code Name: The Cleaner', 'Forget Me Not', 'Need for Speed', 'The Adventures of Huck Finn', 'Anger Management            ', 'Spy Kids 2: Island of Lost Dreams', 'The Glimmer Man', 'New Nightmare', 'From Dusk Till Dawn', 'Private Benjamin', 'Madeas Family Reunion', 'Biutiful', 'Down and Out with the Dolls', 'Sea of Love', 'Faithful', 'The Evil Dead', 'DragonHeart', 'Precious', 'Malevolence', 'Talk Radio', 'The NeverEnding Story', 'X-Men: Apocalypse', 'Jaws 2', 'Lords of London', 'Zathura: A Space Adventure', 'The Ring Two', 'Freddy vs. Jason', 'Woman Thou Art Loosed', 'Anacondas: The Hunt for the Blood Orchid', 'Star Trek: Insurrection', 'The Straight Story', 'The Day the Earth Stood Still', 'Anne of Green Gables            ', 'Cape Fear', 'American Pie 2', 'The Orphanage', 'The Age of Adaline', 'Boiler Room', 'Departure', 'Among Giants', 'Runaway Bride', 'Ice Age: Dawn of the Dinosaurs', 'Jumper', 'Step Up Revolution', 'The Original Kings of Comedy', 'Vampires', 'Jab Tak Hai Jaan', 'Max Keebles Big Move', 'Moonrise Kingdom', 'The Godfather', 'Diary of the Dead', 'Fantastic 4: Rise of the Silver Surfer', 'The American President', 'Friday the 13th Part III', 'The Conversation', 'The Fog', 'Three to Tango', 'All Is Lost', 'Cop Out', 'RoboCop 3', 'WALL·E', 'Bright Star', 'The Holiday', 'Point Blank', 'Lee Daniels The Butler', 'Along Came Polly', 'Jumping the Broom', '3rd Rock from the Sun            ', 'xXx', 'Safe Haven', 'Mickey Blue Eyes', 'The Extra Man', 'Switchback', 'Chasing Papi', 'Antibirth', 'Doc Hollidays Revenge', 'Blade', 'Night at the Museum: Battle of the Smithsonian', '5 Days of War', 'Cliffhanger', 'Mission: Impossible', 'Shouldve Been Romeo', 'Ted', 'The Truman Show', 'Bending Steel', 'Out of Time', 'Sgt. Bilko', 'The Game Plan', 'A Madea Christmas', 'Brüno', 'Growing Up Smith', 'Men of War', 'On the Outs', 'The Death and Life of Bobby Z', 'Date Movie', 'The Lives of Others', 'Scream 2', 'Doctor Dolittle', 'Boyhood', 'Miss Julie', 'Harts War', 'Sherlock Holmes', 'I Come with the Rain', 'Burlesque', 'Rabbit Hole', 'Journey from the Fall', 'It Follows', 'Burn', 'Final Destination', 'Littleman', 'Manderlay', '2:13', 'Antarctica: A Year on Ice', 'Smokin Aces', 'Little Nicholas', 'Tank Girl', 'The Road', 'Top Five', 'House of Sand', 'The Thin Red Line', 'Country Strong', 'Salvation Boulevard', 'The Green Inferno', 'Killer Elite', 'Harrison Montgomery', 'Youve Got Mail', 'Shrek 2', 'Happy Valley            ', 'RED 2', 'Elite Squad', 'Super Mario Bros.', 'Dom Hemingway', 'Blue Ruin', 'The Black Stallion', 'Dysfunctional Friends', 'Les Misérables', 'Rogue            ', 'The Neon Demon', 'Crank', 'Borat: Cultural Learnings of America for Make Benefit Glorious Nation of Kazakhstan', 'Eye for an Eye', 'Last Action Hero', 'Lawrence of Arabia', 'The Gatekeepers', 'The Great Escape', 'The Curious Case of Benjamin Button', 'Fish Tank', 'Fun Size', 'RoboCop', 'Coriolanus', 'My Fair Lady', 'Journey to the Center of the Earth', 'The 6th Day', 'Heli', 'The Beaver', 'The Lovers', 'Bedtime Stories', 'Swordfish', 'Gory Gory Hallelujah', 'The Guard', 'The Shining', 'The Missing            ', 'Soul Survivors', 'Everything Put Together', 'This Is the End', 'Sucker Punch', 'The Da Vinci Code', 'Step Up 3D', 'Becoming Jane', 'Battleship', 'Extreme Ops', 'Tracker', 'Your Highness', 'Bad Grandpa', 'The Emperors New Groove', 'The Spanish Prisoner', 'The Informers', 'Albert Nobbs', 'Redbelt'}\n",
            "4814 4693\n"
          ],
          "name": "stdout"
        }
      ]
    },
    {
      "cell_type": "markdown",
      "metadata": {
        "colab_type": "text",
        "id": "gpMVPz-3K07i"
      },
      "source": [
        "# **2ο Μέρος: Recommendation System με βάση μόνο τα χαρακτηριστικά των ταινιών.**\n",
        "\n",
        "Στο σημείο αυτό με βάση τους κανόνες που κατασκευάστηκαν στο Μέρος 1 θα κατασκευαστούν κατηγορήματα για την ομοιότητα ταινιών. Παρακάτω δίνεται ένα μικρό παράδειγμα ενός κανόνα και πώς αυτός θα μπορούσε να γραφτεί μέσω του Pyswip. Επίσης όπως αναφέρεται και σε σχόλιο παραπάνω θα μπορεί να γραφτεί και μια βάση δεδομένων με τους κανόνες και να γίνει απευθείας consult.\n",
        "\n",
        "Στο παρακάτω παράδειγμα το 5 και το 4 εκφράζουν την ομοιότητα των ταινιών π.χ. οι ταινίες που παράγονται μέσω του find_similar_5 είναι πιο όμοιες από αυτές που παράγονται μέσω του find_similar_4. \n"
      ]
    },
    {
      "cell_type": "code",
      "metadata": {
        "colab_type": "code",
        "id": "h1nmSLlmA75q",
        "colab": {}
      },
      "source": [
        "prolog.assertz('(find_similar_movies_5(X, Y) :- director(X, D), director(Y, D), genre(X, G), genre(Y, G), X \\= Y )')\n",
        "prolog.assertz('(find_similar_movies_4(X, Y) :- genre(X, G), genre(Y, G), X \\= Y, not(find_similar_movies_5(X, Y)) )')\n",
        "\n",
        "# prolog.consult('db.pl')"
      ],
      "execution_count": 0,
      "outputs": []
    },
    {
      "cell_type": "code",
      "metadata": {
        "colab_type": "code",
        "id": "DeAvc55byC0l",
        "colab": {}
      },
      "source": [
        "def simple_recommender(movie):\n",
        "\n",
        "    q = prolog.query(\"find_similar_movies_5('\" + movie +\"',M)\")\n",
        "    ans5 = []\n",
        "    for soln in q:\n",
        "        ans5.append(soln[\"M\"])\n",
        "    ans = set(ans5)\n",
        "    \n",
        "    q = prolog.query(\"find_similar_movies_4('\" + movie +\"',M)\")\n",
        "    ans4 = []\n",
        "    for soln in q:\n",
        "        if soln[\"M\"] not in ans:\n",
        "            ans4.append(soln[\"M\"])\n",
        "            ans.add(soln[\"M\"])\n",
        "\n",
        "    #κάνουμε κάποιο Processing στα παραπάνω αποτελέσματα και επιστρέφουμε τις \"όμοιες\" ταινίες με φθίνουσα σειρά\n",
        "    return list(set(ans5))[:10], list(set(ans4))[:10]"
      ],
      "execution_count": 0,
      "outputs": []
    },
    {
      "cell_type": "markdown",
      "metadata": {
        "colab_type": "text",
        "id": "wCryo9VGAeWi"
      },
      "source": [
        "**Στο σημείο αυτό θα ζητήσουμε από το σύστημα να μας επιστρέψει ορισμένα αποτελέσματα για ταινίες για να εξετάσουμε την απόδοσή του.**\n"
      ]
    },
    {
      "cell_type": "code",
      "metadata": {
        "colab_type": "code",
        "id": "IxNuJ6kX1m0m",
        "outputId": "c257414a-5384-4559-f603-e47440bb00e8",
        "colab": {
          "base_uri": "https://localhost:8080/",
          "height": 251
        }
      },
      "source": [
        "simple_recommender(\"Star Wars: Episode III - Revenge of the Sith\")"
      ],
      "execution_count": 12,
      "outputs": [
        {
          "output_type": "execute_result",
          "data": {
            "text/plain": [
              "(['Star Wars: Episode II - Attack of the Clones',\n",
              "  'Star Wars: Episode IV - A New Hope',\n",
              "  'Star Wars: Episode I - The Phantom Menace'],\n",
              " ['Ladder 49',\n",
              "  '20,000 Leagues Under the Sea',\n",
              "  'Homefront',\n",
              "  'The Masked Saint',\n",
              "  'Outlander            ',\n",
              "  'Without a Paddle',\n",
              "  'Steel',\n",
              "  'Tangled',\n",
              "  'Austin Powers: The Spy Who Shagged Me',\n",
              "  'Con Air'])"
            ]
          },
          "metadata": {
            "tags": []
          },
          "execution_count": 12
        }
      ]
    },
    {
      "cell_type": "code",
      "metadata": {
        "id": "a1Xz4XRBgGeO",
        "colab_type": "code",
        "outputId": "f206922d-6ca1-45d8-b2d9-4dd8c385a9a3",
        "colab": {
          "base_uri": "https://localhost:8080/",
          "height": 287
        }
      },
      "source": [
        "simple_recommender(\"Avatar\")"
      ],
      "execution_count": 13,
      "outputs": [
        {
          "output_type": "execute_result",
          "data": {
            "text/plain": [
              "(['The Terminator',\n",
              "  'The Abyss',\n",
              "  'Aliens',\n",
              "  'Terminator 2: Judgment Day',\n",
              "  'True Lies'],\n",
              " ['Ladder 49',\n",
              "  '20,000 Leagues Under the Sea',\n",
              "  'Homefront',\n",
              "  'The Masked Saint',\n",
              "  'Outlander            ',\n",
              "  'Without a Paddle',\n",
              "  'Steel',\n",
              "  'Tangled',\n",
              "  'Austin Powers: The Spy Who Shagged Me',\n",
              "  'Con Air'])"
            ]
          },
          "metadata": {
            "tags": []
          },
          "execution_count": 13
        }
      ]
    },
    {
      "cell_type": "code",
      "metadata": {
        "colab_type": "code",
        "id": "_isjJITtG7P3",
        "outputId": "a5541a00-cfe8-40d5-b8ca-68e9a1cddcee",
        "colab": {
          "base_uri": "https://localhost:8080/",
          "height": 287
        }
      },
      "source": [
        "simple_recommender('Pirates of the Caribbean: Dead Mans Chest')"
      ],
      "execution_count": 14,
      "outputs": [
        {
          "output_type": "execute_result",
          "data": {
            "text/plain": [
              "(['Rango',\n",
              "  'The Mexican',\n",
              "  'The Lone Ranger',\n",
              "  'Pirates of the Caribbean: The Curse of the Black Pearl',\n",
              "  'Pirates of the Caribbean: At Worlds End'],\n",
              " ['Ladder 49',\n",
              "  '20,000 Leagues Under the Sea',\n",
              "  'Homefront',\n",
              "  'The Masked Saint',\n",
              "  'Without a Paddle',\n",
              "  'Steel',\n",
              "  'Tangled',\n",
              "  'Austin Powers: The Spy Who Shagged Me',\n",
              "  'Con Air',\n",
              "  'Edward Scissorhands'])"
            ]
          },
          "metadata": {
            "tags": []
          },
          "execution_count": 14
        }
      ]
    },
    {
      "cell_type": "code",
      "metadata": {
        "id": "SbEj8TwrgGeb",
        "colab_type": "code",
        "colab": {}
      },
      "source": [
        "def jaccard_similarity(list1, list2):\n",
        "    set1 = set(list1)\n",
        "    set2 = set(list2)\n",
        "    intersection = len(set1.intersection(set2))\n",
        "    union = len(set1) + len(set2) - intersection\n",
        "    return intersection / union"
      ],
      "execution_count": 0,
      "outputs": []
    },
    {
      "cell_type": "code",
      "metadata": {
        "id": "nKJJFMxOKjdU",
        "colab_type": "code",
        "outputId": "4d849bb9-e386-40b4-a6eb-39c96c154980",
        "colab": {
          "base_uri": "https://localhost:8080/",
          "height": 35
        }
      },
      "source": [
        "l1, l2 = simple_recommender('Pirates of the Caribbean: Dead Mans Chest')\n",
        "jaccard_similarity(l1, l2)"
      ],
      "execution_count": 16,
      "outputs": [
        {
          "output_type": "execute_result",
          "data": {
            "text/plain": [
              "0.0"
            ]
          },
          "metadata": {
            "tags": []
          },
          "execution_count": 16
        }
      ]
    },
    {
      "cell_type": "code",
      "metadata": {
        "id": "IWMpRt7SXB4b",
        "colab_type": "code",
        "outputId": "c5b94525-22d6-41ac-b5c4-9494f26aa1be",
        "colab": {
          "base_uri": "https://localhost:8080/",
          "height": 204
        }
      },
      "source": [
        "relative_movies = pd.read_csv(\"/content/drive/My Drive/Colab Notebooks/AI/Assignment 2/relative_movies.csv\")\n",
        "relative_movies.head()"
      ],
      "execution_count": 17,
      "outputs": [
        {
          "output_type": "execute_result",
          "data": {
            "text/html": [
              "<div>\n",
              "<style scoped>\n",
              "    .dataframe tbody tr th:only-of-type {\n",
              "        vertical-align: middle;\n",
              "    }\n",
              "\n",
              "    .dataframe tbody tr th {\n",
              "        vertical-align: top;\n",
              "    }\n",
              "\n",
              "    .dataframe thead th {\n",
              "        text-align: right;\n",
              "    }\n",
              "</style>\n",
              "<table border=\"1\" class=\"dataframe\">\n",
              "  <thead>\n",
              "    <tr style=\"text-align: right;\">\n",
              "      <th></th>\n",
              "      <th>movie_title</th>\n",
              "      <th>relative_movies</th>\n",
              "    </tr>\n",
              "  </thead>\n",
              "  <tbody>\n",
              "    <tr>\n",
              "      <th>0</th>\n",
              "      <td>Friday the 13th Part VII: The New Blood</td>\n",
              "      <td>The Wicked Within,The Devils Rejects,Alien Zon...</td>\n",
              "    </tr>\n",
              "    <tr>\n",
              "      <th>1</th>\n",
              "      <td>A Million Ways to Die in the West</td>\n",
              "      <td>Lone Wolf McQuade,Pat Garrett &amp; Billy the Kid,...</td>\n",
              "    </tr>\n",
              "    <tr>\n",
              "      <th>2</th>\n",
              "      <td>Phat Girlz</td>\n",
              "      <td>Beerfest,Waiting for Guffman,Lets Be Cops,I Ho...</td>\n",
              "    </tr>\n",
              "    <tr>\n",
              "      <th>3</th>\n",
              "      <td>Water</td>\n",
              "      <td>High School Musical,The Diary of a Teenage Gir...</td>\n",
              "    </tr>\n",
              "    <tr>\n",
              "      <th>4</th>\n",
              "      <td>Killers</td>\n",
              "      <td>21,Abduction,The Devils Advocate,No Country fo...</td>\n",
              "    </tr>\n",
              "  </tbody>\n",
              "</table>\n",
              "</div>"
            ],
            "text/plain": [
              "                               movie_title                                    relative_movies\n",
              "0  Friday the 13th Part VII: The New Blood  The Wicked Within,The Devils Rejects,Alien Zon...\n",
              "1        A Million Ways to Die in the West  Lone Wolf McQuade,Pat Garrett & Billy the Kid,...\n",
              "2                               Phat Girlz  Beerfest,Waiting for Guffman,Lets Be Cops,I Ho...\n",
              "3                                    Water  High School Musical,The Diary of a Teenage Gir...\n",
              "4                                  Killers  21,Abduction,The Devils Advocate,No Country fo..."
            ]
          },
          "metadata": {
            "tags": []
          },
          "execution_count": 17
        }
      ]
    },
    {
      "cell_type": "code",
      "metadata": {
        "id": "KQSfN-pR2fqJ",
        "colab_type": "code",
        "outputId": "0173192b-32e7-4488-97ef-3e35366e943b",
        "colab": {
          "base_uri": "https://localhost:8080/",
          "height": 287
        }
      },
      "source": [
        ",(  find_movies_1(X,Y) ; find_movies_5(X,Y) ; find_movies_7(X,Y) ; (find_movies_4(X,Y) , find_movies_3(X,Y)) ;  (find_movies_6(X,Y) , find_movies_8(X,Y)) ) "
      ],
      "execution_count": 18,
      "outputs": [
        {
          "output_type": "execute_result",
          "data": {
            "text/plain": [
              "('(',\n",
              " 'find_movies_1(X,Y)',\n",
              " ';',\n",
              " 'find_movies_5(X,Y)',\n",
              " ';',\n",
              " 'find_movies_7(X,Y)',\n",
              " ';',\n",
              " '(find_movies_4(X,Y)',\n",
              " ',',\n",
              " 'find_movies_3(X,Y))',\n",
              " ';',\n",
              " '(find_movies_6(X,Y)',\n",
              " ',',\n",
              " 'find_movies_8(X,Y))',\n",
              " ')')"
            ]
          },
          "metadata": {
            "tags": []
          },
          "execution_count": 18
        }
      ]
    },
    {
      "cell_type": "code",
      "metadata": {
        "id": "jPupsayCphTC",
        "colab_type": "code",
        "colab": {}
      },
      "source": [
        "prolog.assertz('(find_similar_movies_a(X, Y) :- find_movies_6(X,Y), find_movies_3(X,Y), X \\= Y )')\n",
        "prolog.assertz('(find_similar_movies_b(X, Y) :- find_movies_3(X,Y), find_movies_8(X,Y), not(find_similar_movies_a(X, Y)), X \\= Y)')\n",
        "prolog.assertz('(find_similar_movies_c(X, Y) :- find_movies_9(X,Y), find_movies_3(X,Y), not(find_similar_movies_b(X, Y)), X \\= Y)')\n",
        "prolog.assertz('(find_similar_movies_d(X, Y) :- find_movies_4(X,Y), find_movies_3(X,Y), not(find_similar_movies_c(X, Y)), X \\= Y)')\n",
        "prolog.assertz('(find_similar_movies_e(X, Y) :- (  find_movies_1(X,Y) ; find_movies_5(X,Y) ; find_movies_7(X,Y) ; (find_movies_4(X,Y) , find_movies_3(X,Y)) ;  (find_movies_6(X,Y) , find_movies_8(X,Y)) ) , X \\= Y)' )"
      ],
      "execution_count": 0,
      "outputs": []
    },
    {
      "cell_type": "code",
      "metadata": {
        "id": "DvgPjrsp5fqp",
        "colab_type": "code",
        "colab": {}
      },
      "source": [
        "def advanced_recommender1(movie):\n",
        "    ans = []\n",
        "    q = prolog.query(\"find_movies_6('\" + movie + \"',M)\")\n",
        "    for soln in q:\n",
        "        ans.append(soln[\"M\"])\n",
        "    ans1 = set(ans)\n",
        "    return list(ans1)[:10]\n",
        "def advanced_recommender2(movie):\n",
        "    ans = []\n",
        "    q = prolog.query(\"find_movies_3('\" + movie + \"',M)\")\n",
        "    for soln in q:\n",
        "        ans.append(soln[\"M\"])\n",
        "    ans1 = set(ans)\n",
        "    return list(ans1)[:10]\n",
        "def advanced_recommender3(movie):\n",
        "    ans = []\n",
        "    q = prolog.query(\"find_movies_8('\" + movie + \"',M)\")\n",
        "    for soln in q:\n",
        "        ans.append(soln[\"M\"])\n",
        "    ans1 = set(ans)\n",
        "    return list(ans1)[:10]\n",
        "def advanced_recommender4(movie):\n",
        "    ans = []\n",
        "    q = prolog.query(\"find_movies_4('\" + movie + \"',M)\")\n",
        "    for soln in q:\n",
        "        ans.append(soln[\"M\"])\n",
        "    ans1 = set(ans)\n",
        "    return list(ans1)[:10]\n",
        "def advanced_recommender5(movie):\n",
        "    ans = []\n",
        "    q = prolog.query(\"find_movies_8('\" + movie + \"',M), find_movies_3('\" + movie + \"',M)\")\n",
        "    for soln in q:\n",
        "        ans.append(soln[\"M\"])\n",
        "    if len(set(ans)) < 10:\n",
        "        q = prolog.query(\"find_movies_8('\" + movie + \"',M), find_movies_6('\" + movie + \"',M)\")\n",
        "        for soln in q:\n",
        "            ans.append(soln[\"M\"])\n",
        "    if len(set(ans)) < 10:\n",
        "        q = prolog.query(\"find_movies_4('\" + movie + \"',M), find_movies_6('\" + movie + \"',M)\")\n",
        "        for soln in q:\n",
        "            ans.append(soln[\"M\"])\n",
        "    if len(set(ans)) < 10:\n",
        "        q = prolog.query(\"find_movies_4('\" + movie + \"',M), find_movies_8('\" + movie + \"',M)\")\n",
        "        for soln in q:\n",
        "            ans.append(soln[\"M\"])\n",
        "    if len(set(ans)) < 10:\n",
        "        q = prolog.query(\"find_movies_4('\" + movie + \"',M), find_movies_3('\" + movie + \"',M)\")\n",
        "        for soln in q:\n",
        "            ans.append(soln[\"M\"])\n",
        "    if len(set(ans)) < 10:\n",
        "        q = prolog.query(\"find_movies_4('\" + movie + \"',M)\")\n",
        "        for soln in q:\n",
        "            ans.append(soln[\"M\"])\n",
        "    ans1 = set(ans)\n",
        "    return list(ans1)[:10]"
      ],
      "execution_count": 0,
      "outputs": []
    },
    {
      "cell_type": "code",
      "metadata": {
        "id": "s613RQ897dgz",
        "colab_type": "code",
        "colab": {}
      },
      "source": [
        "def advanced_recommender_a(movie):\n",
        "    ans = []\n",
        "    q = prolog.query(\"find_similar_movies_a('\" + movie + \"',M)\")\n",
        "    for soln in q:\n",
        "        ans.append(soln[\"M\"])\n",
        "    ans1 = set(ans)\n",
        "    return list(ans1)[:10]\n",
        "def advanced_recommender_b(movie):\n",
        "    ans = []\n",
        "    q = prolog.query(\"find_similar_movies_b('\" + movie + \"',M)\")\n",
        "    for soln in q:\n",
        "        ans.append(soln[\"M\"])\n",
        "    ans1 = set(ans)\n",
        "    return list(ans1)[:10]\n",
        "def advanced_recommender_c(movie):\n",
        "    ans = []\n",
        "    q = prolog.query(\"find_similar_movies_c('\" + movie + \"',M)\")\n",
        "    for soln in q:\n",
        "        ans.append(soln[\"M\"])\n",
        "    ans1 = set(ans)\n",
        "    return list(ans1)[:10]\n",
        "def advanced_recommender_d(movie):\n",
        "    ans = []\n",
        "    q = prolog.query(\"find_similar_movies_d('\" + movie + \"',M)\")\n",
        "    for soln in q:\n",
        "        ans.append(soln[\"M\"])\n",
        "    ans1 = set(ans)\n",
        "    return list(ans1)[:10]\n",
        "def advanced_recommender_e(movie):\n",
        "    ans = []\n",
        "    q = prolog.query(\"find_similar_movies_e('\" + movie + \"',M)\")\n",
        "    for soln in q:\n",
        "        ans.append(soln[\"M\"])\n",
        "    ans1 = set(ans)\n",
        "    return list(ans1)[:10]"
      ],
      "execution_count": 0,
      "outputs": []
    },
    {
      "cell_type": "code",
      "metadata": {
        "colab_type": "code",
        "outputId": "e78d8312-daaa-4d2f-f933-6b980ea9ef4c",
        "id": "K95b3CuF5V1U",
        "colab": {
          "base_uri": "https://localhost:8080/",
          "height": 233
        }
      },
      "source": [
        "sum1 = 0\n",
        "sum2 = 0\n",
        "sum3 = 0\n",
        "sum4 = 0\n",
        "sum5 = 0\n",
        "sum6 = 0\n",
        "sum7 = 0\n",
        "suma = 0\n",
        "sumb = 0\n",
        "sumc = 0\n",
        "sumd = 0\n",
        "sume = 0\n",
        "i = 0\n",
        "\n",
        "\n",
        "for row in relative_movies.itertuples(index=True, name='Pandas'):\n",
        "\n",
        "    movie_title = clean_text(getattr(row, 'movie_title'))\n",
        "\n",
        "    relatives = clean_text(getattr(row, 'relative_movies'))\n",
        "    relatives = relatives.split(',')\n",
        "    #print(relatives)\n",
        "\n",
        "    recommendations1 = advanced_recommender1(movie_title)\n",
        "    recommendations2 = advanced_recommender2(movie_title)\n",
        "    recommendations3 = advanced_recommender3(movie_title)\n",
        "    recommendations4 = advanced_recommender4(movie_title)\n",
        "    recommendations5 = advanced_recommender5(movie_title)\n",
        "\n",
        "    recommendations_a = advanced_recommender_a(movie_title)\n",
        "    recommendations_b = advanced_recommender_b(movie_title)\n",
        "    recommendations_c = advanced_recommender_c(movie_title)\n",
        "    recommendations_d = advanced_recommender_d(movie_title)\n",
        "    recommendations_e = advanced_recommender_e(movie_title)\n",
        "    \"\"\"\n",
        "    print(relatives)\n",
        "    print(recommendations_e)\n",
        "    \n",
        "    print(recommendations1)\n",
        "    print(recommendations2)\n",
        "    print(recommendations3)\n",
        "    print(recommendations4)\n",
        "    print(recommendations5)\n",
        "    \"\"\"\n",
        "    sum1 += jaccard_similarity(recommendations1, relatives)\n",
        "    sum2 += jaccard_similarity(recommendations2, relatives)\n",
        "    sum3 += jaccard_similarity(recommendations3, relatives)\n",
        "    sum4 += jaccard_similarity(recommendations4, relatives)\n",
        "    sum5 += jaccard_similarity(recommendations5, relatives)\n",
        "\n",
        "    suma += jaccard_similarity(recommendations_a, relatives)\n",
        "    sumb += jaccard_similarity(recommendations_b, relatives)\n",
        "    sumc += jaccard_similarity(recommendations_c, relatives)\n",
        "    sumd += jaccard_similarity(recommendations_d, relatives)\n",
        "    sume += jaccard_similarity(recommendations_e, relatives)\n",
        "\n",
        "\n",
        "    l1, l2 = simple_recommender(movie_title)\n",
        "    sum6 += jaccard_similarity(l1, relatives)\n",
        "    sum7 += jaccard_similarity(l2, relatives)\n",
        "\n",
        "    i+=1\n",
        "\n",
        "print(\"average advanced1 : \" + str(sum1/i))\n",
        "print(\"average advanced2 : \" + str(sum2/i))\n",
        "print(\"average advanced3 : \" + str(sum3/i))\n",
        "print(\"average advanced4 : \" + str(sum4/i))\n",
        "print(\"average advanced5 : \" + str(sum5/i))\n",
        "print(\"average advanced_a: \" + str(suma/i))\n",
        "print(\"average advanced_b: \" + str(sumb/i))\n",
        "print(\"average advanced_c: \" + str(sumc/i))\n",
        "print(\"average advanced_d: \" + str(sumd/i))\n",
        "print(\"average advanced_e: \" + str(sume/i))\n",
        "print(\"average simple1:    \" + str(sum6/i))\n",
        "print(\"average simple2:    \" + str(sum7/i))\n"
      ],
      "execution_count": 22,
      "outputs": [
        {
          "output_type": "stream",
          "text": [
            "average advanced1 : 0.0008912655971479501\n",
            "average advanced2 : 0.0010061919504643962\n",
            "average advanced3 : 0.00196078431372549\n",
            "average advanced4 : 0.0634314371019889\n",
            "average advanced5 : 0.0634314371019889\n",
            "average advanced_a: 0.0008912655971479501\n",
            "average advanced_b: 0.000980392156862745\n",
            "average advanced_c: 0.004459259780467211\n",
            "average advanced_d: 0.06115804829609235\n",
            "average advanced_e: 0.05868622746126843\n",
            "average simple1:    0.06590603723525776\n",
            "average simple2:    0.0005159958720330237\n"
          ],
          "name": "stdout"
        }
      ]
    },
    {
      "cell_type": "code",
      "metadata": {
        "id": "yQ4B6Y2I6vPi",
        "colab_type": "code",
        "outputId": "b89e3c31-f398-4067-dbc9-1de4d21b6267",
        "colab": {
          "base_uri": "https://localhost:8080/",
          "height": 217
        }
      },
      "source": [
        "print(advanced_recommender1('Iron Man'))\n",
        "print(advanced_recommender2('Iron Man'))\n",
        "print(advanced_recommender3('Iron Man'))\n",
        "print(advanced_recommender4('Iron Man'))\n",
        "print(advanced_recommender5('Iron Man'))\n",
        "print(advanced_recommender_a('Iron Man'))\n",
        "print(advanced_recommender_b('Iron Man'))\n",
        "print(advanced_recommender_c('Iron Man'))\n",
        "print(advanced_recommender_d('Iron Man'))\n",
        "print(advanced_recommender_e('Iron Man'))"
      ],
      "execution_count": 23,
      "outputs": [
        {
          "output_type": "stream",
          "text": [
            "['The Ultimate Gift']\n",
            "['Ladder 49', '20,000 Leagues Under the Sea', 'Homefront', 'The Masked Saint', 'Outlander            ', 'Without a Paddle', 'Steel', 'Tangled', 'Austin Powers: The Spy Who Shagged Me', 'Con Air']\n",
            "['Iron Man 2', 'Iron Man 3']\n",
            "['Elf', 'Iron Man 2', 'The Jungle Book', 'Made', 'Zathura: A Space Adventure']\n",
            "['Elf', 'Iron Man 2', 'Iron Man 3', 'The Jungle Book', 'Made', 'Zathura: A Space Adventure']\n",
            "[]\n",
            "['Iron Man 2', 'Iron Man 3']\n",
            "['The Little Prince', 'Heavens Gate', 'Sherlock Holmes', 'TRON: Legacy', 'Avengers: Age of Ultron', 'Sherlock Holmes: A Game of Shadows', 'Captain America: Civil War', 'A Scanner Darkly', 'Seventh Son', 'True Grit']\n",
            "['Iron Man 2', 'The Jungle Book', 'Zathura: A Space Adventure']\n",
            "['Iron Man 2', 'The Jungle Book', 'Zathura: A Space Adventure']\n"
          ],
          "name": "stdout"
        }
      ]
    },
    {
      "cell_type": "markdown",
      "metadata": {
        "colab_type": "text",
        "id": "aAM9o2UZFbMC"
      },
      "source": [
        "# **3ο Μέρος: Recommendation System Με βάση τις προτιμήσεις-αξιολογήσεις του χρήστη**\n",
        "\n",
        "Αρχικά μελετάμε τις αξιολογήσεις κάθε χρήστη για να καταλάβουμε την δομή και τις πληροφορίες κάθε αρχείου.\n",
        "\n",
        "\n",
        "\n",
        "\n"
      ]
    },
    {
      "cell_type": "code",
      "metadata": {
        "colab_type": "code",
        "id": "wdheN52GETd8",
        "outputId": "82b4ef9a-ec8f-4890-dde1-45bcb8bb4938",
        "colab": {
          "base_uri": "https://localhost:8080/",
          "height": 204
        }
      },
      "source": [
        "user1 = \"/content/drive/My Drive/Colab Notebooks/AI/Assignment 2/user1.csv\"\n",
        "user2 = \"/content/drive/My Drive/Colab Notebooks/AI/Assignment 2/user2.csv\"\n",
        "ratings1 = pd.read_csv(user1) \n",
        "ratings2 = pd.read_csv(user2)\n",
        "# Preview the first 5 lines of the loaded data \n",
        "ratings1.head()\n",
        "ratings2.head()"
      ],
      "execution_count": 24,
      "outputs": [
        {
          "output_type": "execute_result",
          "data": {
            "text/html": [
              "<div>\n",
              "<style scoped>\n",
              "    .dataframe tbody tr th:only-of-type {\n",
              "        vertical-align: middle;\n",
              "    }\n",
              "\n",
              "    .dataframe tbody tr th {\n",
              "        vertical-align: top;\n",
              "    }\n",
              "\n",
              "    .dataframe thead th {\n",
              "        text-align: right;\n",
              "    }\n",
              "</style>\n",
              "<table border=\"1\" class=\"dataframe\">\n",
              "  <thead>\n",
              "    <tr style=\"text-align: right;\">\n",
              "      <th></th>\n",
              "      <th>movie_title</th>\n",
              "      <th>rating</th>\n",
              "    </tr>\n",
              "  </thead>\n",
              "  <tbody>\n",
              "    <tr>\n",
              "      <th>0</th>\n",
              "      <td>Loser</td>\n",
              "      <td>1</td>\n",
              "    </tr>\n",
              "    <tr>\n",
              "      <th>1</th>\n",
              "      <td>All That Jazz</td>\n",
              "      <td>2</td>\n",
              "    </tr>\n",
              "    <tr>\n",
              "      <th>2</th>\n",
              "      <td>The Sting</td>\n",
              "      <td>2</td>\n",
              "    </tr>\n",
              "    <tr>\n",
              "      <th>3</th>\n",
              "      <td>Torque</td>\n",
              "      <td>3</td>\n",
              "    </tr>\n",
              "    <tr>\n",
              "      <th>4</th>\n",
              "      <td>Project X</td>\n",
              "      <td>1</td>\n",
              "    </tr>\n",
              "  </tbody>\n",
              "</table>\n",
              "</div>"
            ],
            "text/plain": [
              "     movie_title  rating\n",
              "0          Loser       1\n",
              "1  All That Jazz       2\n",
              "2      The Sting       2\n",
              "3         Torque       3\n",
              "4      Project X       1"
            ]
          },
          "metadata": {
            "tags": []
          },
          "execution_count": 24
        }
      ]
    },
    {
      "cell_type": "markdown",
      "metadata": {
        "colab_type": "text",
        "id": "_AmyMzx5dXtS"
      },
      "source": [
        "**Κατασκευάζουμε τα scores για κάθε ταινία με βάση τις προηγούμενες αξιολογήσεις του χρήστη**"
      ]
    },
    {
      "cell_type": "code",
      "metadata": {
        "colab_type": "code",
        "id": "6V4QJFUTbRZC",
        "colab": {}
      },
      "source": [
        "similarity_weights = {\"similarity_5\": 15, \"similarity_4\":7}\n",
        "rating_weight = {5: 10, 4: 5, 3: 0, 2: -5, 1: -10}\n",
        "movie_score = {m: 0 for m in  movie_score}\n",
        "for row in ratings1.itertuples(index=True, name='Pandas'):\n",
        "    movie = clean_text(getattr(row, 'movie_title'))\n",
        "    rating = getattr(row, 'rating')    \n",
        "    \n",
        "    q = prolog.query(\"find_similar_movies_5('\" + movie + \"',M)\")\n",
        "    for soln in q:\n",
        "        movie_score [soln[\"M\"]] += similarity_weights['similarity_5'] * rating_weight[rating] #το weight θα το ορίσετε ανα επίπεδο ομοιότητας οι πολύ όμοιες ταινίες θα έχουν μεγαλύτερο βάρος\n",
        "    q.close()\n",
        "    \n",
        "    q = prolog.query(\"find_similar_movies_4('\" + movie + \"',M)\")\n",
        "    for soln in q:\n",
        "        movie_score [soln[\"M\"]] += similarity_weights['similarity_4'] * rating_weight[rating] #το weight θα το ορίσετε ανα επίπεδο ομοιότητας οι πολύ όμοιες ταινίες θα έχουν μεγαλύτερο βάρος\n",
        "    q.close()\n"
      ],
      "execution_count": 0,
      "outputs": []
    },
    {
      "cell_type": "markdown",
      "metadata": {
        "colab_type": "text",
        "id": "luU3can3dm-N"
      },
      "source": [
        "**Στο σημείο αυτό κατασκευάζουμε την νέα συνάρτηση η όποια θα επιστρέφει τις προτεινόμενες ταινίες συνυπολογίζοντας τις αξιολογήσεις του χρήστη.**"
      ]
    },
    {
      "cell_type": "code",
      "metadata": {
        "colab_type": "code",
        "id": "kvL14dw3c9cF",
        "colab": {}
      },
      "source": [
        "def recommender(movie_score):\n",
        "    movies_score = {k: v for k, v in sorted(movie_score.items(), key=lambda item: item[1], reverse = True)}\n",
        "    return [m for m in movies_score][:10]"
      ],
      "execution_count": 0,
      "outputs": []
    },
    {
      "cell_type": "code",
      "metadata": {
        "colab_type": "code",
        "id": "VkHP2NVEvpqR",
        "outputId": "28d9e895-fe57-427c-ea57-9660d22fe21b",
        "colab": {
          "base_uri": "https://localhost:8080/",
          "height": 197
        }
      },
      "source": [
        "recommender(movie_score)"
      ],
      "execution_count": 57,
      "outputs": [
        {
          "output_type": "execute_result",
          "data": {
            "text/plain": [
              "[('Home', 12495),\n",
              " ('Pan', 8505),\n",
              " ('20,000 Leagues Under the Sea', 6230),\n",
              " ('Alice in Wonderland', 5670),\n",
              " ('Oz the Great and Powerful', 5670),\n",
              " ('Teenage Mutant Ninja Turtles', 5260),\n",
              " ('The Jungle Book', 5180),\n",
              " ('Goosebumps', 4830),\n",
              " ('Big Fat Liar', 4830),\n",
              " ('Conan the Barbarian', 4200)]"
            ]
          },
          "metadata": {
            "tags": []
          },
          "execution_count": 57
        }
      ]
    },
    {
      "cell_type": "markdown",
      "metadata": {
        "id": "xpW1Jr6cgGeu",
        "colab_type": "text"
      },
      "source": [
        "Σχολιάστε τα αποτελέσματά σας."
      ]
    },
    {
      "cell_type": "code",
      "metadata": {
        "id": "BUvu8MJpT-uP",
        "colab_type": "code",
        "colab": {}
      },
      "source": [
        "my_similarity_weights = {\"similarity_a\": 5, \"similarity_b\":10, \"similarity_c\":15, \"similarity_d\":20, \"similarity_e\":25}\n",
        "my_rating_weight = {5: 10, 4: 5, 3: 0, 2: -5, 1: -10}\n",
        "\n",
        "\n",
        "my_movie_score = {m: 0 for m in  my_movie_score}\n",
        "for row in ratings1.itertuples(index=True, name='Pandas'):\n",
        "    movie = clean_text(getattr(row, 'movie_title'))\n",
        "    rating = getattr(row, 'rating')    \n",
        "    \n",
        "    q = prolog.query(\"find_similar_movies_a('\" + movie + \"',M)\")\n",
        "    ans = []\n",
        "    for soln in q:\n",
        "        ans.append(soln[\"M\"])\n",
        "    ans = list(set(ans))\n",
        "    for x in ans:\n",
        "        my_movie_score [x] += my_similarity_weights['similarity_a'] * my_rating_weight[rating] #το weight θα το ορίσετε ανα επίπεδο ομοιότητας οι πολύ όμοιες ταινίες θα έχουν μεγαλύτερο βάρος\n",
        "    q.close()\n",
        "    \n",
        "    q = prolog.query(\"find_similar_movies_b('\" + movie + \"',M)\")\n",
        "    ans = []\n",
        "    for soln in q:\n",
        "        ans.append(soln[\"M\"])\n",
        "    ans = list(set(ans))\n",
        "    for x in ans:\n",
        "        my_movie_score [x] += my_similarity_weights['similarity_b'] * my_rating_weight[rating] \n",
        "    q.close()\n",
        "\n",
        "    q = prolog.query(\"find_similar_movies_c('\" + movie + \"',M)\")\n",
        "    ans = []\n",
        "    for soln in q:\n",
        "        ans.append(soln[\"M\"])\n",
        "    ans = list(set(ans))\n",
        "    for x in ans:\n",
        "        my_movie_score [x] += my_similarity_weights['similarity_c'] * my_rating_weight[rating] \n",
        "    q.close()\n",
        "\n",
        "    q = prolog.query(\"find_similar_movies_d('\" + movie + \"',M)\")\n",
        "    ans = []\n",
        "    for soln in q:\n",
        "        ans.append(soln[\"M\"])\n",
        "    ans = list(set(ans))\n",
        "    for x in ans:\n",
        "        my_movie_score [x] += my_similarity_weights['similarity_d'] * my_rating_weight[rating] \n",
        "    q.close()\n",
        "\n",
        "    q = prolog.query(\"find_similar_movies_e('\" + movie + \"',M)\")\n",
        "    ans = []\n",
        "    for soln in q:\n",
        "        ans.append(soln[\"M\"])\n",
        "    ans = list(set(ans))\n",
        "    for x in ans:\n",
        "        my_movie_score [x] += my_similarity_weights['similarity_e'] * my_rating_weight[rating] \n",
        "    q.close()"
      ],
      "execution_count": 0,
      "outputs": []
    },
    {
      "cell_type": "code",
      "metadata": {
        "id": "wjVVzWCTU2XM",
        "colab_type": "code",
        "colab": {
          "base_uri": "https://localhost:8080/",
          "height": 197
        },
        "outputId": "d6385b72-829a-452e-cb5e-90ab80cd8078"
      },
      "source": [
        "recommender(my_movie_score)"
      ],
      "execution_count": 58,
      "outputs": [
        {
          "output_type": "execute_result",
          "data": {
            "text/plain": [
              "[('G-Force', 1875),\n",
              " ('TMNT', 1875),\n",
              " ('Alpha and Omega 4: The Legend of the Saw Toothed Cave', 1875),\n",
              " ('Rango', 1800),\n",
              " ('Tangled', 1775),\n",
              " ('How to Train Your Dragon 2', 1625),\n",
              " ('Ice Age: The Meltdown', 1625),\n",
              " ('Osmosis Jones', 1625),\n",
              " ('The Lego Movie', 1625),\n",
              " ('Aladdin', 1625)]"
            ]
          },
          "metadata": {
            "tags": []
          },
          "execution_count": 58
        }
      ]
    },
    {
      "cell_type": "markdown",
      "metadata": {
        "id": "HJtLDqR-gGew",
        "colab_type": "text"
      },
      "source": [
        "\n",
        "---\n",
        "\n",
        "\n",
        "<center><h2>Κατασκευή των Δικών σας Users</h2></center>\n",
        "\n",
        "---"
      ]
    },
    {
      "cell_type": "code",
      "metadata": {
        "id": "boP-3SumgGex",
        "colab_type": "code",
        "colab": {}
      },
      "source": [
        "import csv\n",
        "import numpy as np\n",
        "\n",
        "def create_my_user(liked, notLiked, filename, num_of_liked =20, num_of_notliked = 20):\n",
        "    with open(filename, 'w', newline='') as file:\n",
        "        writer = csv.writer(file)\n",
        "        writer.writerow([\"movie_title\",\"rating\"])\n",
        "        liked = np.random.choice(liked, num_of_liked)\n",
        "        notliked = np.random.choice(notLiked, num_of_notliked)\n",
        "        for i in  liked:\n",
        "            grade = np.random.choice([5,4,3], p = [0.5, 0.4, 0.1])\n",
        "            writer.writerow([i, grade])\n",
        "        for i in notliked:\n",
        "            grade = np.random.choice([1, 2, 3], p = [0.5, 0.4, 0.1])\n",
        "            writer.writerow([i, grade])"
      ],
      "execution_count": 0,
      "outputs": []
    },
    {
      "cell_type": "code",
      "metadata": {
        "id": "hwHrJw7UgGe0",
        "colab_type": "code",
        "colab": {}
      },
      "source": [
        "# prolog.consult(\"db.pl\")\n",
        "#Κατασκευάστε τα κατηγορήματα για τις ταινίες που σας αρέσουν και για αυτές που δεν σας αρέσουν\n",
        "#Αν μια ταινία ανήκει σε μια ευρίτερη κατηγορία κατεσκευάστε την πρώτα\n",
        "prolog.assertz(\"(fantasy(X) :- genre(X, 'Sci-Fi'); genre(X, 'Fantasy'))\")\n",
        "prolog.assertz(\"(action(X) :- genre(X, 'Action'); genre(X, 'Adventure'))\")\n",
        "prolog.assertz(\"(comedy(X) :- genre(X, 'Comedy'); genre(X, 'Family'))\")\n",
        "prolog.assertz(\"(thriller(X) :- genre(X, 'Horror'))\")\n",
        "prolog.assertz(\"(vampire_shit(X):- keywords(X, 'vampire'), keywords(X, 'werewolf'))\")\n",
        "prolog.assertz(\"(mcu(X) :- keywords(X, 'marvel cinematic universe'); keywords(X, 'based on comic'); keywords(X, 'artificial intelligence'); keywords(X, 'superhero'))\")\n",
        "prolog.assertz(\"(space(X) :- keywords(X, 'space'); keywords(X, 'star trek'); keywords(X, 'spacecraft'); keywords(X, 'alien'); keywords(X, 'space station'); keywords(X, 'robot'); keywords(X, 'death star'))\")\n",
        "\n",
        "\n",
        "prolog.assertz(\"(liked(X) :- fantasy(X); director(X, 'James Cameron'); fantasy(X); action(X); comedy(X); director(X, 'George Lucas'); director(X, 'Jon Favreau') ; mcu(X); space(X))\")\n",
        "prolog.assertz(\"(notLiked(X) :- thriller(X); genre(X, Romance); vampire_shit(X))\")"
      ],
      "execution_count": 0,
      "outputs": []
    },
    {
      "cell_type": "code",
      "metadata": {
        "id": "twxiT66CgGe4",
        "colab_type": "code",
        "colab": {}
      },
      "source": [
        "q = prolog.query(\"liked(M)\")\n",
        "ans = []\n",
        "for soln in q:\n",
        "    ans.append(soln[\"M\"])\n",
        "liked = list(set(ans))[:2000]\n",
        "\n",
        "q = prolog.query(\"notLiked(M)\")\n",
        "ans = []\n",
        "for soln in q:\n",
        "    if soln['M'] not in liked:\n",
        "        ans.append(soln[\"M\"])\n",
        "notliked = list(set(ans))[:2000]\n",
        "\n",
        "create_my_user(liked, notliked, filename= \"myuser.csv\", num_of_liked = len(liked), num_of_notliked = len(notliked))"
      ],
      "execution_count": 0,
      "outputs": []
    },
    {
      "cell_type": "code",
      "metadata": {
        "id": "uizjvexVj70v",
        "colab_type": "code",
        "colab": {
          "base_uri": "https://localhost:8080/",
          "height": 204
        },
        "outputId": "6055fd37-e9fd-405b-d6e4-504ddc59c08d"
      },
      "source": [
        "me = \"/content/myuser.csv\"\n",
        "my_ratings = pd.read_csv(me) \n",
        "my_ratings.head()"
      ],
      "execution_count": 45,
      "outputs": [
        {
          "output_type": "execute_result",
          "data": {
            "text/html": [
              "<div>\n",
              "<style scoped>\n",
              "    .dataframe tbody tr th:only-of-type {\n",
              "        vertical-align: middle;\n",
              "    }\n",
              "\n",
              "    .dataframe tbody tr th {\n",
              "        vertical-align: top;\n",
              "    }\n",
              "\n",
              "    .dataframe thead th {\n",
              "        text-align: right;\n",
              "    }\n",
              "</style>\n",
              "<table border=\"1\" class=\"dataframe\">\n",
              "  <thead>\n",
              "    <tr style=\"text-align: right;\">\n",
              "      <th></th>\n",
              "      <th>movie_title</th>\n",
              "      <th>rating</th>\n",
              "    </tr>\n",
              "  </thead>\n",
              "  <tbody>\n",
              "    <tr>\n",
              "      <th>0</th>\n",
              "      <td>28 Days Later...</td>\n",
              "      <td>3</td>\n",
              "    </tr>\n",
              "    <tr>\n",
              "      <th>1</th>\n",
              "      <td>Crocodile Dundee in Los Angeles</td>\n",
              "      <td>3</td>\n",
              "    </tr>\n",
              "    <tr>\n",
              "      <th>2</th>\n",
              "      <td>Big Mommas House 2</td>\n",
              "      <td>5</td>\n",
              "    </tr>\n",
              "    <tr>\n",
              "      <th>3</th>\n",
              "      <td>Mutual Friends</td>\n",
              "      <td>5</td>\n",
              "    </tr>\n",
              "    <tr>\n",
              "      <th>4</th>\n",
              "      <td>Pretty Woman</td>\n",
              "      <td>3</td>\n",
              "    </tr>\n",
              "  </tbody>\n",
              "</table>\n",
              "</div>"
            ],
            "text/plain": [
              "                       movie_title  rating\n",
              "0                 28 Days Later...       3\n",
              "1  Crocodile Dundee in Los Angeles       3\n",
              "2               Big Mommas House 2       5\n",
              "3                   Mutual Friends       5\n",
              "4                     Pretty Woman       3"
            ]
          },
          "metadata": {
            "tags": []
          },
          "execution_count": 45
        }
      ]
    },
    {
      "cell_type": "code",
      "metadata": {
        "id": "XYV5zCS8nHWw",
        "colab_type": "code",
        "colab": {}
      },
      "source": [
        "my_new_similarity_weights = {\"similarity_a\": 5, \"similarity_b\":10, \"similarity_c\":15, \"similarity_d\":20, \"similarity_e\":25}\n",
        "my_new_rating_weight = {5: 10, 4: 5, 3: 0, 2: -5, 1: -10}\n",
        "\n",
        "\n",
        "my_new_movie_score = {m: 0 for m in  my_movie_score}\n",
        "for row in my_ratings.itertuples(index=True, name='Pandas'):\n",
        "    movie = clean_text(getattr(row, 'movie_title'))\n",
        "    rating = getattr(row, 'rating')    \n",
        "    \n",
        "    q = prolog.query(\"find_similar_movies_a('\" + movie + \"',M)\")\n",
        "    ans = []\n",
        "    for soln in q:\n",
        "        ans.append(soln[\"M\"])\n",
        "    ans = list(set(ans))\n",
        "    for x in ans:\n",
        "        my_movie_score [x] += my_new_similarity_weights['similarity_a'] * my_new_rating_weight[rating] #το weight θα το ορίσετε ανα επίπεδο ομοιότητας οι πολύ όμοιες ταινίες θα έχουν μεγαλύτερο βάρος\n",
        "    q.close()\n",
        "    \n",
        "    q = prolog.query(\"find_similar_movies_b('\" + movie + \"',M)\")\n",
        "    ans = []\n",
        "    for soln in q:\n",
        "        ans.append(soln[\"M\"])\n",
        "    ans = list(set(ans))\n",
        "    for x in ans:\n",
        "        my_movie_score [x] += my_new_similarity_weights['similarity_b'] * my_new_rating_weight[rating] \n",
        "    q.close()\n",
        "\n",
        "    q = prolog.query(\"find_similar_movies_c('\" + movie + \"',M)\")\n",
        "    ans = []\n",
        "    for soln in q:\n",
        "        ans.append(soln[\"M\"])\n",
        "    ans = list(set(ans))\n",
        "    for x in ans:\n",
        "        my_movie_score [x] += my_new_similarity_weights['similarity_c'] * my_new_rating_weight[rating] \n",
        "    q.close()\n",
        "\n",
        "    q = prolog.query(\"find_similar_movies_d('\" + movie + \"',M)\")\n",
        "    ans = []\n",
        "    for soln in q:\n",
        "        ans.append(soln[\"M\"])\n",
        "    ans = list(set(ans))\n",
        "    for x in ans:\n",
        "        my_movie_score [x] += my_new_similarity_weights['similarity_d'] * my_new_rating_weight[rating] \n",
        "    q.close()\n",
        "\n",
        "    q = prolog.query(\"find_similar_movies_e('\" + movie + \"',M)\")\n",
        "    ans = []\n",
        "    for soln in q:\n",
        "        ans.append(soln[\"M\"])\n",
        "    ans = list(set(ans))\n",
        "    for x in ans:\n",
        "        my_movie_score [x] += my_new_similarity_weights['similarity_e'] * my_new_rating_weight[rating] \n",
        "    q.close()"
      ],
      "execution_count": 0,
      "outputs": []
    },
    {
      "cell_type": "code",
      "metadata": {
        "id": "gkheZcHmscyD",
        "colab_type": "code",
        "colab": {
          "base_uri": "https://localhost:8080/",
          "height": 197
        },
        "outputId": "7504f701-ddc7-49c8-c125-2fd4e598c537"
      },
      "source": [
        "recommender(my_new_movie_score)"
      ],
      "execution_count": 67,
      "outputs": [
        {
          "output_type": "execute_result",
          "data": {
            "text/plain": [
              "['Avatar',\n",
              " 'Pirates of the Caribbean: At Worlds End',\n",
              " 'Spectre',\n",
              " 'The Dark Knight Rises',\n",
              " 'Star Wars: Episode VII - The Force Awakens            ',\n",
              " 'John Carter',\n",
              " 'Spider-Man 3',\n",
              " 'Tangled',\n",
              " 'Avengers: Age of Ultron',\n",
              " 'Harry Potter and the Half-Blood Prince']"
            ]
          },
          "metadata": {
            "tags": []
          },
          "execution_count": 67
        }
      ]
    },
    {
      "cell_type": "code",
      "metadata": {
        "id": "uc9gU_pBuEQk",
        "colab_type": "code",
        "colab": {}
      },
      "source": [
        ""
      ],
      "execution_count": 0,
      "outputs": []
    }
  ]
}