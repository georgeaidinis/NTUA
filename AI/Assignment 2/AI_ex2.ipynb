{
  "nbformat": 4,
  "nbformat_minor": 0,
  "metadata": {
    "kernelspec": {
      "name": "python3",
      "display_name": "Python 3"
    },
    "language_info": {
      "codemirror_mode": {
        "name": "ipython",
        "version": 3
      },
      "file_extension": ".py",
      "mimetype": "text/x-python",
      "name": "python",
      "nbconvert_exporter": "python",
      "pygments_lexer": "ipython3",
      "version": "3.7.3"
    },
    "pycharm": {
      "stem_cell": {
        "cell_type": "raw",
        "source": [],
        "metadata": {
          "collapsed": false
        }
      }
    },
    "colab": {
      "name": "AI_ex2.ipynb",
      "provenance": [],
      "collapsed_sections": [],
      "include_colab_link": true
    },
    "accelerator": "GPU"
  },
  "cells": [
    {
      "cell_type": "markdown",
      "metadata": {
        "id": "view-in-github",
        "colab_type": "text"
      },
      "source": [
        "<a href=\"https://colab.research.google.com/github/georgeaidinis/NTUA/blob/master/AI/Assignment%202/AI_ex2.ipynb\" target=\"_parent\"><img src=\"https://colab.research.google.com/assets/colab-badge.svg\" alt=\"Open In Colab\"/></a>"
      ]
    },
    {
      "cell_type": "markdown",
      "metadata": {
        "colab_type": "text",
        "id": "816WHA5P3nJT"
      },
      "source": [
        "# Τεχνητή Νοημοσύνη: Εργαστηριακή Άσκηση 2\n",
        "---\n",
        "\n",
        "Ο στόχος της εργασίας είναι η κατασκευή ενός συστήματος προτάσεων (Recommendation System) για ταινίες. Οι προτάσεις αυτές θα πηγάζουν τόσο από τα χαρακτηριστικά της ταινίας όσο και από ορισμένες αξιολογήσεις του κάθε χρήστη.\n",
        "\n",
        "Στα δεδομένα της άσκησης περιλαμβάνονται ένα αρχείο με το όνομα movies_metadata.csv το όποιο περιέχει τα χαρακτηριστικά κάθε ταινίας όπως θέμα, σκηνοθέτης, ηθοποιοί, λέξεις κλειδιά κ.α. από το imdb, τα αρχεία user1.csv και user2.csv τα όποια περιέχουν αξιολογήσεις για 2 διαφορετικούς χρήστες καθώς και το αρχείο relative_movies.csv, που περιέχει 10 όμοιες ταινίες για ορισμένους τυχαία επιλεγμένους τίτλους.\n"
      ]
    },
    {
      "cell_type": "markdown",
      "metadata": {
        "colab_type": "text",
        "id": "aa-wJhCX9Nwk"
      },
      "source": [
        "# Εκφώνηση\n",
        "Στην παρούσα εργασία σας ζητείται να μελετήσετε και υλοποιήσετε τα παρακάτω:<br>\n",
        "\n",
        "### Μέρος 1\n",
        "Στο μέρος 1 και 2 θα ασχοληθείτε και θα εργαστείτε μόνο με το αρχείο movies_metadata.csv.\n",
        "#### Ερώτημα 1α\n",
        "\n",
        "Αρχικά θα πρέπει αφού μελετήσετε την δομή και τα χαρακτηριστικά του αρχείου αυτού να κατασκευάσετε μια βάση γνώσης για την Prolog η όποια ουσιαστικά θα αποτελεί τον κόσμο με τον όποιο θα εργαστείτε στην συνέχεια. Τα κατηγορήματα που θα δημιουργηθούν θα σας βοηθήσουν και στην κατασκευή του recommender και θα είναι της μορφής:\n",
        "\n",
        "```\n",
        "director(Movie, Director).\n",
        "genre(Movie, Genre).\n",
        "```\n",
        "#### Ερώτημα 1β\n",
        "\n",
        "Αφού δημιουργήσετε τον κόσμο του προβλήματος στην συνέχεια καλείστε να δημιουργήσετε, σε Prolog, απλούς κανόνες οι οποίοι θα βρίσκουν όλες τις ταινίες με:\n",
        "1.\tΑρκετά κοινό θέμα (κάποιες λέξεις σχετικά με το genre κοινές)\n",
        "2.\tΣχετικά κοινό θέμα (κάποιες λιγότερες λέξεις σχετικά με το genre κοινές π.χ. 3)\n",
        "3.\tΛιγότερο κοινό θέμα (λίγες λέξεις σχετικές με το genre κοινές π.χ. 1)\n",
        "4.\tΚοινός σκηνοθέτης\n",
        "5.\tΑκριβώς ίδια πλοκή (κάποιες λέξεις κλειδιά της πλοκής να είναι κοινές)\n",
        "6.\tΣχετικά ίδια πλοκή (κάποιες λιγότερες λέξεις κλειδιά κοινές)\n",
        "7.\tΊδιους τους βασικούς ηθοποιούς (και τους 3)\n",
        "8.\tΑρκετά ίδιους βασικούς ηθοποιούς (ορισμένους βασικούς ηθοποιούς κοινούς π.χ. 2)\n",
        "9.\tΣχετικά ίδιους ηθοποιούς (π.χ. 1 από τους 3)\n",
        "10.\tΊδια γλώσσα\n",
        "11.\tΕίναι έγχρωμες ή ασπρόμαυρες\n",
        "\n",
        "Αξίζει να σημειωθεί ότι στα παραπάνω μπορείτε να προσθέσετε περισσότερα ερωτήματα ή να αλλάξετε την κλιμακωσιμότητα των queries (πέρα από το ίδιο, αρκετά ίδιο, σχετικά ίδιο) που θα κατασκευάσετε(π.χ. μια κλίμακα από 1 στα 5 όπου αυτό είναι δυνατόν), μιας και αυτά στην συνέχεια θα χρησιμοποιηθούν για την λειτουργία του recommender. Έτσι μπορείτε να προσθέσετε queries με τα όποια μπορεί να παράγονται καλύτερες συστάσεις  (το αρχείο movie_metadata.csv περιέχει πολλές πληροφορίες ακόμα για κάθε ταινία όπως έτος κυκλοφορίας, βαθμολογία στο imdb, facebοok_likes κ.α.).\n",
        "\n",
        "Περισσότερες πληροφορίες για το dataset μπορείτε να διαβάσετε σε αυτό το Link: https://www.kaggle.com/adnanr94/imdb-movies-metadata.\n",
        "\n",
        "### Μέρος 2: Recommendation System\n",
        "Στο σημείο αυτό καλείστε με βάση αυτά που κάνατε στο μέρος 1 να κατασκευάσετε queries τα όποια θα σας επιστρέφουν παρόμοιες (σε χαρακτηριστικά) ταινίες. Τα ερωτήματα αυτά θα είναι κλιμακούμενα, δηλαδή θα υπάρχουν ερωτήματα που επιστρέφουν αρκετά κοινές ταινίες, και άλλα που επιστρέφουν λιγότερο κοινές (σε μια κλίμακα π.χ. από 1 σε 5). Για παράδειγμα:\n",
        "\n",
        "```\n",
        "simple_recommender_5(\"Pirates Of The Caribbean\", M).\n",
        "M = \"Pirates Of The Caribbean: On Stranger Tides\"\n",
        "M = \"The Chronicles Of Narnia\"\n",
        "M = \"Prince Of Persia: The Sands Of Time\"\n",
        "...\n",
        "\n",
        "simple_recommender_5(\"Avatar\").\n",
        "M = 'Terminator 2: Judgment Day'\n",
        "M = 'Aliens'\n",
        "M = 'The Terminator'\n",
        "\n",
        "simple_recommender_5(\"Star Wars: Episode III - Revenge of the Sith\").\n",
        "M = Star Wars: Episode IV - A New Hope'\n",
        "M = 'Star Wars: Episode I - The Phantom Menace'\n",
        "M = 'Star Wars: Episode II - Attack of the Clones'\n",
        "\n",
        "```\n",
        "Για παράδειγμα το παραπάνω ερώτημα θα επιστρέφει αρκετά κοινές σε περιεχόμενο ταινίες με την ταινια \"Pirates Of The Caribbean\". Αντίστοιχα θα υπάρχουν και ερωτήματα που θα βρίσκουν λιγότερα όμοιες ταινίες. Ο δείκτης ομοιότητας των ταινιών είναι αυθαίρετος και μπορείτε να τον ορίσετε εσείς όπως θέλετε, αρκεί απλά να υπάρχει κάποια λογική σύνδεση με τα δεδομένα που περιέχονται στο αρχείο movies_metadata.csv. \n",
        "\n",
        "Συνεπώς η συνάρτηση που θα κάνει τις προτάσεις (recommendation) με είσοδο μια ταινία πρέπει να επιστρέφει-εκτυπώνει μια λίστα με τις προτεινόμενες ταινίες σε φθίνουσα σειρά ομοιότητας. \n",
        "\n",
        "Για να μπορείτε να αξιολογήσετε τα αποτελέσματα των συστάσεων σας σας δίνεται ένα αρχείο με ορισμένες ταινίας και τα 10 πρώτα αποτελέσματά τους σε φθίνουσα σειρά ομοιότητας. Για την σύγκρισή των αποτελεσμάτων σας με τα  αποτελέσματα του αρχείου relative_movies.csv  μπορείτε να χρησιμοποιήσετε της συνάρτηση ομοιότητας συνόλων Jaccard (https://www.statisticshowto.datasciencecentral.com/jaccard-index/).\n",
        "\n",
        "$$jaccard(A,B)=\\frac{|A\\cap B|}{|A\\cup B|}$$\n",
        "\n",
        "Η υλοποίηση της συνάρτησης αυτής σε Python σας δίνεται με το όνομα jaccard_similarity (set1, set2). \n",
        "\n",
        "Αξίζει να σημειωθεί ότι η παραπάνω σύγκριση δεν είναι απόλυτη για τον λόγο ότι οι συναρτήσεις ομοιότητας μπορεί να είναι διαφορετικές (διαφορετικά ορίζει ο καθένας της ομοιότητα μεταξύ ταινιών) καθώς επίσης αν μια ταινία δεν έχει πολύ σχετικές προτάσεις τότε οι πιο γενικές συναρτήσεις ομοιότητας θα έχουν πολλά αποτελέσματα τα όποια η Prolog θα επιστρέψει με την σειρά που τα βρίσκει στην βάση, όποτε τότε δεν έχει ιδιαίτερο νόημα η σύγκριση σε αυτήν την περίπτωση.\n",
        "Η ομοιότητα των ταινιών είναι βοηθητική και σκοπό έχει να σας βοηθήσει να κατανοήσετε την κατεύθυνση της ασκήσης και όχι για να καταφέρετε την πλήρη ταύτιση των συστάσεων.\n",
        "\n",
        "### 3ο Μέρος: Recommendation System με βάση τις προτιμήσεις-αξιολογήσεις του χρήστη\n",
        "\n",
        "\n",
        "Σε αυτό το σημείο θα εργαστείτε με τα αρχεία user1.csv και user2.csv, τα όποια περιέχουν αξιολογήσεις (από 1 μέχρι 5) για ταινίες από 2 διαφορετικούς χρήστες. Το προηγούμενο σύστημα συστάσεων προτείνει στον χρήστη ταινίες αποκλειστικά με βάση την ομοιότητά τους. Έτσι σε αυτό το σημείο θα γίνει μια αναβάθμιση του συστήματος έτσι ώστε να παράγονται καλύτερες  συστάσεις οι όποιες θα λαμβάνουν υπόψιν και τις προτιμήσεις του χρήστη, οι όποιες θα εξάγονται από τις αξιολογήσεις που έχει κάνει μέχρι στιγμής. \n",
        "\n",
        "Έτσι πλέον για κάθε ταινία θα υπάρχει ένα score το όποιο αρχικά θε είναι ίσο με 0 και θα διαμορφώνεται από τις αξιολογήσεις κάθε user. Έτσι για έναν χρήστη με βάση τις αξιολογήσεις που έχει κάνει θα πρέπει για κάθε ταινία που έχει βαθμολογήσει θα βρίσκονται οι κοινές ταινίες ανά κλίμακα και στο μέχρι τώρα σκορ κάθε παρόμοιας ταινίας θα προστίθεται ένα βάρος το όποιο θα μπορούσε να είναι το ποσοστό ομοιότητας της ταινίας (δηλαδή ένα βάρος για κάθε κλίμακα) επί τον βαθμό που έχει βάλει ο χρήστης για την αρχική ταινία (ή ένα βάρος ανά βαθμό ώστε οι καλές κριτικές να γίνονται καλύτερες ενώ οι κακές χειρότερες). Δηλαδή, αν $rated\\_movies$ είναι το σύνολο ταινιών που έχει αξιολογήσει ο χρήστης, τότε τα recommendations που θα λαμβάνει ο χρήστης θα είναι οι ταινίες που είναι τουλάχιστον similar_1 με τουλάχιστον μία ταινία που έχει βαθμολογήσει ο χρήστης, σε φθίνουσα σειρά recommendation_score, όπου:\n",
        "\n",
        "$$recommendation\\_score(m_1)=\\sum_{m_2\\in rated\\_movies} similarity\\_weight(m_1,m_2)\\cdot voting\\_weight(m_2)$$\n",
        "\n",
        "\n",
        "Έτσι για παράδειγμα αν ένας χρήστης έχει αξιολογήσει αρκετές  ταινίες οι όποιες είναι sci-fiction με 5/5 τότε όταν ζητήσει τις προτεινόμενες είναι λογικό να λάβει πρώτα κάποιες που είναι αυτού του είδους μιας και αυτές μπορεί του αρέσουν περισσότερο.\n",
        "\n",
        "Επίσης για να εξετάσετε την αποδοτικότητα του συστήματος αυτού μπορείτε να κατασκευάσετε τους δικούς σας χρήστες. Για να το κάνετε αυτό πρέπει να γράψετε ορισμένους κανόνες της μορφής: liked(X), notliked(X) οι οποίοι θα σας επιστρέφουν ταινίες που πιθανώς θα σας αρέσουν, π.χ. σας αρέσουν ταινίες επιστημονικής φαντασίας που τις έχει σκηνοθετήσει ένας συγκεκριμένος σκηνοθέτης και αυτές που δεν είναι του γούστου σας. Για την κατασκευή του αρχείου και των αξιολογήσεων σας δίνεται μια συνάρτηση η όποια δέχεται σας ορίσματα όλες τις ταινίες από κάθε κατηγορία και τυχαία επιλέγετε ένας ορισμένος αριθμός ταινιών από αυτές στις όποιες δίνεται ένας βαθμός (για αυτές που αρέσουν στον χρήστη από 3 μέχρι 5 με διαφορετικές πιθανότητες ενώ σε αυτές που δεν του αρέσουν από 1 μέχρι 3). Μπορείτε να πειραματιστείτε με αυτήν την συνάρτηση για να ελέγξετε τα αποτελέσματά σας.\n"
      ]
    },
    {
      "cell_type": "markdown",
      "metadata": {
        "colab_type": "text",
        "id": "mgT4rsTd4tcf"
      },
      "source": [
        "---\n",
        "## Κατασκευή Περιβάλλοντος Εργασίας\n",
        "---\n",
        "### Διάβασμα Αρχείων στο Colab (Μόνο για το Colab)\n",
        "Αν η υλοποίηση γίνει στο google colab τότε μπορεί να χρησιμοποιηθεί το google drive ως file system. Για να γίνει Mount το google drive τρέχουμε τον παρακάτω κώδικα και κλικάρουμε στο link που θα μας εμφανιστεί. \n",
        "\n",
        "```\n",
        "from google.colab import drive\n",
        "drive.mount('/gdrive')\n",
        "import os\n",
        "os.listdir('/gdrive/My Drive')\n",
        "```\n",
        "Επέιτα στην σελίδα που άνοιξε επιλέγουμε το mail μας και στο επόμενο παράθυρο που θα μας ανοίξει πατάμε Να επιτρέπεται. Στην συνέχεια αντιγράφουμε τον κωδικό που θα μας βγάλει και τον κάνουμε paste στο Input που έχει ανοίξει στο colab. Έτσι πλέον αν έχουμε ανεβάσει ένα αρχείο στο google drive μπορούμε να το βρούμε στην θέση:\n",
        "\n",
        "```\n",
        "movies_filename = '/gdrive/My Drive/' + movies_metadata.csv\n",
        "```\n",
        "Μπορούμε πλέον κανονικά να δουλέψουμε φτιάχνοντας φακέλους ή αρχεία και γενικότερα κάνοντας οτιδήποτε θα κάναμε αν ήμασταν τοπικά. \n",
        "\n",
        "### Prolog μέσω Python\n",
        "\n",
        "Το πακέτο που θα χρησιμοποιηθεί για την επικοινωνία Python και Prolog είναι το pyswip (https://pypi.org/project/pyswip/). Για να δουλέψει το Pyswip  χρειάζεται να υπάρχει το Swi-Prolog το όποιο αν δουλεύουμε τοπικά πρέπει να το εγκαταστήσουμε, ακολουθώντας αντίστοιχές οδηγίες στην σελίδα του εργαλείου. Για να γίνει του Swi-Prolog η εγκατάσταση στο Google Colab πρέπει να τρέξουμε τον παρακάτω κώδικα:\n",
        "\n",
        "```\n",
        "!sudo apt-get install software-properties-common\n",
        "!sudo apt-add-repository ppa:swi-prolog/stable\n",
        "!sudo apt-get update\n",
        "!sudo apt-get install swi-prolog\n",
        "```\n",
        "Σε κάποιο σημείο της εκτέλεσης εμφανίζεται ένα μήνυμα ότι πρέπει να πατήσουμε enter σε ένα input για να συνεχίσει η διαδικασία. Έπειτα από αυτό η εκτέλεση θα συνεχίσει χωρίς κάποιο πρόβλημα.\n",
        "\n",
        "Τέλος πρέπει να εγκαταστήσουμε το pyswip (**όπου και να δουλεύουμε**) όπως παρακάτω:\n",
        "\n",
        "```\n",
        "!pip isntall pyswip\n",
        "```\n"
      ]
    },
    {
      "cell_type": "markdown",
      "metadata": {
        "colab_type": "text",
        "id": "21xzXVjQ5tFB"
      },
      "source": [
        "---\n",
        "#Κώδικας για κατασκευή περιβάλλοντος εργασίας\n",
        "##Μόνο για Google Colab\n",
        "\n",
        "Κώδικας για να γίνει Mount to Google Drive"
      ]
    },
    {
      "cell_type": "code",
      "metadata": {
        "colab_type": "code",
        "id": "DfT5Z_wtrhsV",
        "outputId": "221beb78-e736-40ff-eaee-0be0940b6153",
        "colab": {
          "base_uri": "https://localhost:8080/",
          "height": 127
        }
      },
      "source": [
        "from google.colab import drive\n",
        "drive.mount('/content/drive')\n"
      ],
      "execution_count": 1,
      "outputs": [
        {
          "output_type": "stream",
          "text": [
            "Go to this URL in a browser: https://accounts.google.com/o/oauth2/auth?client_id=947318989803-6bn6qk8qdgf4n4g3pfee6491hc0brc4i.apps.googleusercontent.com&redirect_uri=urn%3aietf%3awg%3aoauth%3a2.0%3aoob&response_type=code&scope=email%20https%3a%2f%2fwww.googleapis.com%2fauth%2fdocs.test%20https%3a%2f%2fwww.googleapis.com%2fauth%2fdrive%20https%3a%2f%2fwww.googleapis.com%2fauth%2fdrive.photos.readonly%20https%3a%2f%2fwww.googleapis.com%2fauth%2fpeopleapi.readonly\n",
            "\n",
            "Enter your authorization code:\n",
            "··········\n",
            "Mounted at /content/drive\n"
          ],
          "name": "stdout"
        }
      ]
    },
    {
      "cell_type": "markdown",
      "metadata": {
        "colab_type": "text",
        "id": "Rk-8r3HU6Jyo"
      },
      "source": [
        "Κώδικάς για να εγκατασταθεί το Swi-Prolog και το pyswip.<br>\n",
        "\n",
        "***Αυτά χρειάζονται σε κάθε περιβάλλον λειτουργίας, αν δεν έιναι ήδη  εγκατεστημένα.***"
      ]
    },
    {
      "cell_type": "code",
      "metadata": {
        "colab_type": "code",
        "id": "mHVpa_D65-E2",
        "colab": {
          "base_uri": "https://localhost:8080/",
          "height": 1000
        },
        "outputId": "fa027b30-a8e4-4ed8-f07b-fd24b491f336"
      },
      "source": [
        "#install swi-prolog\n",
        "!sudo apt-get install software-properties-common\n",
        "!sudo apt-add-repository ppa:swi-prolog/stable\n",
        "!sudo apt-get update\n",
        "!sudo apt-get install swi-prolog"
      ],
      "execution_count": 2,
      "outputs": [
        {
          "output_type": "stream",
          "text": [
            "Reading package lists... Done\n",
            "Building dependency tree       \n",
            "Reading state information... Done\n",
            "software-properties-common is already the newest version (0.96.24.32.11).\n",
            "The following package was automatically installed and is no longer required:\n",
            "  libnvidia-common-430\n",
            "Use 'sudo apt autoremove' to remove it.\n",
            "0 upgraded, 0 newly installed, 0 to remove and 7 not upgraded.\n",
            " Comprehensive Prolog implementation with extensive libraries and development tools.   Primarily targetted at teaching, RDF processing and web-related tasks, such as creating web services or analysing web content.\n",
            " More info: https://launchpad.net/~swi-prolog/+archive/ubuntu/stable\n",
            "Press [ENTER] to continue or Ctrl-c to cancel adding it.\n",
            "\n",
            "Ign:1 https://developer.download.nvidia.com/compute/cuda/repos/ubuntu1804/x86_64  InRelease\n",
            "Get:2 https://cloud.r-project.org/bin/linux/ubuntu bionic-cran35/ InRelease [3,626 B]\n",
            "Ign:3 https://developer.download.nvidia.com/compute/machine-learning/repos/ubuntu1804/x86_64  InRelease\n",
            "Hit:4 https://developer.download.nvidia.com/compute/cuda/repos/ubuntu1804/x86_64  Release\n",
            "Get:5 https://developer.download.nvidia.com/compute/machine-learning/repos/ubuntu1804/x86_64  Release [564 B]\n",
            "Get:6 https://developer.download.nvidia.com/compute/machine-learning/repos/ubuntu1804/x86_64  Release.gpg [833 B]\n",
            "Get:7 http://security.ubuntu.com/ubuntu bionic-security InRelease [88.7 kB]\n",
            "Get:8 http://ppa.launchpad.net/graphics-drivers/ppa/ubuntu bionic InRelease [21.3 kB]\n",
            "Hit:9 http://archive.ubuntu.com/ubuntu bionic InRelease\n",
            "Get:11 https://developer.download.nvidia.com/compute/machine-learning/repos/ubuntu1804/x86_64  Packages [30.4 kB]\n",
            "Get:12 http://archive.ubuntu.com/ubuntu bionic-updates InRelease [88.7 kB]\n",
            "Get:13 https://cloud.r-project.org/bin/linux/ubuntu bionic-cran35/ Packages [81.6 kB]\n",
            "Get:14 http://ppa.launchpad.net/marutter/c2d4u3.5/ubuntu bionic InRelease [15.4 kB]\n",
            "Get:15 http://security.ubuntu.com/ubuntu bionic-security/universe amd64 Packages [804 kB]\n",
            "Get:16 http://archive.ubuntu.com/ubuntu bionic-backports InRelease [74.6 kB]\n",
            "Get:17 http://ppa.launchpad.net/swi-prolog/stable/ubuntu bionic InRelease [15.4 kB]\n",
            "Get:18 http://archive.ubuntu.com/ubuntu bionic-updates/multiverse amd64 Packages [10.8 kB]\n",
            "Get:19 http://archive.ubuntu.com/ubuntu bionic-updates/universe amd64 Packages [1,335 kB]\n",
            "Get:20 http://ppa.launchpad.net/graphics-drivers/ppa/ubuntu bionic/main amd64 Packages [36.8 kB]\n",
            "Get:21 http://security.ubuntu.com/ubuntu bionic-security/restricted amd64 Packages [23.7 kB]\n",
            "Get:22 http://security.ubuntu.com/ubuntu bionic-security/multiverse amd64 Packages [6,779 B]\n",
            "Get:23 http://security.ubuntu.com/ubuntu bionic-security/main amd64 Packages [780 kB]\n",
            "Get:24 http://archive.ubuntu.com/ubuntu bionic-updates/restricted amd64 Packages [37.4 kB]\n",
            "Get:25 http://archive.ubuntu.com/ubuntu bionic-updates/main amd64 Packages [1,077 kB]\n",
            "Get:26 http://ppa.launchpad.net/marutter/c2d4u3.5/ubuntu bionic/main Sources [1,752 kB]\n",
            "Get:27 http://archive.ubuntu.com/ubuntu bionic-backports/universe amd64 Packages [4,241 B]\n",
            "Get:28 http://ppa.launchpad.net/marutter/c2d4u3.5/ubuntu bionic/main amd64 Packages [845 kB]\n",
            "Get:29 http://ppa.launchpad.net/swi-prolog/stable/ubuntu bionic/main amd64 Packages [1,491 B]\n",
            "Fetched 7,135 kB in 4s (1,661 kB/s)\n",
            "Reading package lists... Done\n",
            "Hit:1 https://cloud.r-project.org/bin/linux/ubuntu bionic-cran35/ InRelease\n",
            "Ign:2 https://developer.download.nvidia.com/compute/cuda/repos/ubuntu1804/x86_64  InRelease\n",
            "Ign:3 https://developer.download.nvidia.com/compute/machine-learning/repos/ubuntu1804/x86_64  InRelease\n",
            "Hit:4 https://developer.download.nvidia.com/compute/cuda/repos/ubuntu1804/x86_64  Release\n",
            "Hit:5 https://developer.download.nvidia.com/compute/machine-learning/repos/ubuntu1804/x86_64  Release\n",
            "Hit:7 http://ppa.launchpad.net/graphics-drivers/ppa/ubuntu bionic InRelease\n",
            "Hit:8 http://security.ubuntu.com/ubuntu bionic-security InRelease\n",
            "Hit:9 http://archive.ubuntu.com/ubuntu bionic InRelease\n",
            "Hit:11 http://archive.ubuntu.com/ubuntu bionic-updates InRelease\n",
            "Hit:12 http://ppa.launchpad.net/marutter/c2d4u3.5/ubuntu bionic InRelease\n",
            "Hit:13 http://archive.ubuntu.com/ubuntu bionic-backports InRelease\n",
            "Hit:14 http://ppa.launchpad.net/swi-prolog/stable/ubuntu bionic InRelease\n",
            "Reading package lists... Done\n",
            "Reading package lists... Done\n",
            "Building dependency tree       \n",
            "Reading state information... Done\n",
            "The following package was automatically installed and is no longer required:\n",
            "  libnvidia-common-430\n",
            "Use 'sudo apt autoremove' to remove it.\n",
            "The following additional packages will be installed:\n",
            "  libbsd-dev libedit-dev libgmp-dev libgmpxx4ldbl libncursesw5-dev\n",
            "  libossp-uuid16 swi-prolog-nox swi-prolog-x\n",
            "Suggested packages:\n",
            "  gmp-doc libgmp10-doc libmpfr-dev ncurses-doc uuid swi-prolog-doc prolog-el\n",
            "The following NEW packages will be installed:\n",
            "  libbsd-dev libedit-dev libgmp-dev libgmpxx4ldbl libncursesw5-dev\n",
            "  libossp-uuid16 swi-prolog swi-prolog-nox swi-prolog-x\n",
            "0 upgraded, 9 newly installed, 0 to remove and 63 not upgraded.\n",
            "Need to get 6,664 kB of archives.\n",
            "After this operation, 34.7 MB of additional disk space will be used.\n",
            "Get:1 http://archive.ubuntu.com/ubuntu bionic/main amd64 libbsd-dev amd64 0.8.7-1 [150 kB]\n",
            "Get:2 http://ppa.launchpad.net/swi-prolog/stable/ubuntu bionic/main amd64 swi-prolog-nox amd64 8.0.3-1-gcbd8b3b92-bionicppa2 [3,723 kB]\n",
            "Get:3 http://archive.ubuntu.com/ubuntu bionic/main amd64 libedit-dev amd64 3.1-20170329-1 [99.1 kB]\n",
            "Get:4 http://archive.ubuntu.com/ubuntu bionic/main amd64 libgmpxx4ldbl amd64 2:6.1.2+dfsg-2 [8,964 B]\n",
            "Get:5 http://archive.ubuntu.com/ubuntu bionic/main amd64 libgmp-dev amd64 2:6.1.2+dfsg-2 [316 kB]\n",
            "Get:6 http://archive.ubuntu.com/ubuntu bionic-updates/main amd64 libncursesw5-dev amd64 6.1-1ubuntu1.18.04 [199 kB]\n",
            "Get:7 http://archive.ubuntu.com/ubuntu bionic/universe amd64 libossp-uuid16 amd64 1.6.2-1.5build4 [29.0 kB]\n",
            "Get:8 http://ppa.launchpad.net/swi-prolog/stable/ubuntu bionic/main amd64 swi-prolog-x amd64 8.0.3-1-gcbd8b3b92-bionicppa2 [2,110 kB]\n",
            "Get:9 http://ppa.launchpad.net/swi-prolog/stable/ubuntu bionic/main amd64 swi-prolog amd64 8.0.3-1-gcbd8b3b92-bionicppa2 [27.3 kB]\n",
            "Fetched 6,664 kB in 3s (2,034 kB/s)\n",
            "debconf: unable to initialize frontend: Dialog\n",
            "debconf: (No usable dialog-like program is installed, so the dialog based frontend cannot be used. at /usr/share/perl5/Debconf/FrontEnd/Dialog.pm line 76, <> line 9.)\n",
            "debconf: falling back to frontend: Readline\n",
            "debconf: unable to initialize frontend: Readline\n",
            "debconf: (This frontend requires a controlling tty.)\n",
            "debconf: falling back to frontend: Teletype\n",
            "dpkg-preconfigure: unable to re-open stdin: \n",
            "Selecting previously unselected package libbsd-dev:amd64.\n",
            "(Reading database ... 145674 files and directories currently installed.)\n",
            "Preparing to unpack .../0-libbsd-dev_0.8.7-1_amd64.deb ...\n",
            "Unpacking libbsd-dev:amd64 (0.8.7-1) ...\n",
            "Selecting previously unselected package libedit-dev:amd64.\n",
            "Preparing to unpack .../1-libedit-dev_3.1-20170329-1_amd64.deb ...\n",
            "Unpacking libedit-dev:amd64 (3.1-20170329-1) ...\n",
            "Selecting previously unselected package libgmpxx4ldbl:amd64.\n",
            "Preparing to unpack .../2-libgmpxx4ldbl_2%3a6.1.2+dfsg-2_amd64.deb ...\n",
            "Unpacking libgmpxx4ldbl:amd64 (2:6.1.2+dfsg-2) ...\n",
            "Selecting previously unselected package libgmp-dev:amd64.\n",
            "Preparing to unpack .../3-libgmp-dev_2%3a6.1.2+dfsg-2_amd64.deb ...\n",
            "Unpacking libgmp-dev:amd64 (2:6.1.2+dfsg-2) ...\n",
            "Selecting previously unselected package libncursesw5-dev:amd64.\n",
            "Preparing to unpack .../4-libncursesw5-dev_6.1-1ubuntu1.18.04_amd64.deb ...\n",
            "Unpacking libncursesw5-dev:amd64 (6.1-1ubuntu1.18.04) ...\n",
            "Selecting previously unselected package libossp-uuid16:amd64.\n",
            "Preparing to unpack .../5-libossp-uuid16_1.6.2-1.5build4_amd64.deb ...\n",
            "Unpacking libossp-uuid16:amd64 (1.6.2-1.5build4) ...\n",
            "Selecting previously unselected package swi-prolog-nox.\n",
            "Preparing to unpack .../6-swi-prolog-nox_8.0.3-1-gcbd8b3b92-bionicppa2_amd64.deb ...\n",
            "Unpacking swi-prolog-nox (8.0.3-1-gcbd8b3b92-bionicppa2) ...\n",
            "Selecting previously unselected package swi-prolog-x.\n",
            "Preparing to unpack .../7-swi-prolog-x_8.0.3-1-gcbd8b3b92-bionicppa2_amd64.deb ...\n",
            "Unpacking swi-prolog-x (8.0.3-1-gcbd8b3b92-bionicppa2) ...\n",
            "Selecting previously unselected package swi-prolog.\n",
            "Preparing to unpack .../8-swi-prolog_8.0.3-1-gcbd8b3b92-bionicppa2_amd64.deb ...\n",
            "Unpacking swi-prolog (8.0.3-1-gcbd8b3b92-bionicppa2) ...\n",
            "Setting up libbsd-dev:amd64 (0.8.7-1) ...\n",
            "Setting up libossp-uuid16:amd64 (1.6.2-1.5build4) ...\n",
            "Setting up libncursesw5-dev:amd64 (6.1-1ubuntu1.18.04) ...\n",
            "Setting up libedit-dev:amd64 (3.1-20170329-1) ...\n",
            "Setting up libgmpxx4ldbl:amd64 (2:6.1.2+dfsg-2) ...\n",
            "Setting up libgmp-dev:amd64 (2:6.1.2+dfsg-2) ...\n",
            "Setting up swi-prolog-nox (8.0.3-1-gcbd8b3b92-bionicppa2) ...\n",
            "update-alternatives: using /usr/bin/swipl to provide /usr/bin/prolog (prolog) in auto mode\n",
            "Setting up swi-prolog-x (8.0.3-1-gcbd8b3b92-bionicppa2) ...\n",
            "Setting up swi-prolog (8.0.3-1-gcbd8b3b92-bionicppa2) ...\n",
            "Processing triggers for libc-bin (2.27-3ubuntu1) ...\n",
            "Processing triggers for man-db (2.8.3-2ubuntu0.1) ...\n"
          ],
          "name": "stdout"
        }
      ]
    },
    {
      "cell_type": "code",
      "metadata": {
        "id": "wEG7xB7GgGdm",
        "colab_type": "code",
        "outputId": "025c9f4d-562d-4b0f-8c54-3c9dadc4fcd6",
        "colab": {
          "base_uri": "https://localhost:8080/",
          "height": 89
        }
      },
      "source": [
        "#install pyswip\n",
        "!pip install pyswip"
      ],
      "execution_count": 3,
      "outputs": [
        {
          "output_type": "stream",
          "text": [
            "Collecting pyswip\n",
            "  Downloading https://files.pythonhosted.org/packages/e4/f3/2b1462c4379b089426dbedb29d8d903e63baf37857ccf6e87f168b786019/pyswip-0.2.9-py2.py3-none-any.whl\n",
            "Installing collected packages: pyswip\n",
            "Successfully installed pyswip-0.2.9\n"
          ],
          "name": "stdout"
        }
      ]
    },
    {
      "cell_type": "markdown",
      "metadata": {
        "colab_type": "text",
        "id": "YwVgPW316S3l"
      },
      "source": [
        "---"
      ]
    },
    {
      "cell_type": "markdown",
      "metadata": {
        "colab_type": "text",
        "id": "rhbCLdSqKUy2"
      },
      "source": [
        "# **Μέρος 1: Μελέτη των Metadata, Δημιουργία κόσμου και των βασικών queries.**\n"
      ]
    },
    {
      "cell_type": "code",
      "metadata": {
        "colab_type": "code",
        "id": "Z_f0xW6_tHhp",
        "outputId": "9cd56bf6-60d9-419f-a7aa-047177ae2636",
        "colab": {
          "base_uri": "https://localhost:8080/",
          "height": 360
        }
      },
      "source": [
        "# Η βιβλιοθήκη pandas είναι χρήσιμη για την εργασία με τέτοια δεδομένα\n",
        "import pandas as pd \n",
        "# Διάβασμα του αρχείου 'movie_metadata.csv' \n",
        "data = pd.read_csv(\"/content/drive/My Drive/Colab Notebooks/AI/Assignment 2/movie_metadata.csv\") \n",
        "#Στο csv υπαρχούν κελία με nan τιμές\n",
        "#Στις θέσεις αυτές βάζουμε 'UNK' πράγμα που  κάνουμε με την παρακάτω συνάρτηση\n",
        "data.fillna(\"UNK\", inplace=True)\n",
        "# Preview the first 5 lines of the loaded data \n",
        "data.shape\n",
        "\n",
        "data.head()"
      ],
      "execution_count": 4,
      "outputs": [
        {
          "output_type": "execute_result",
          "data": {
            "text/html": [
              "<div>\n",
              "<style scoped>\n",
              "    .dataframe tbody tr th:only-of-type {\n",
              "        vertical-align: middle;\n",
              "    }\n",
              "\n",
              "    .dataframe tbody tr th {\n",
              "        vertical-align: top;\n",
              "    }\n",
              "\n",
              "    .dataframe thead th {\n",
              "        text-align: right;\n",
              "    }\n",
              "</style>\n",
              "<table border=\"1\" class=\"dataframe\">\n",
              "  <thead>\n",
              "    <tr style=\"text-align: right;\">\n",
              "      <th></th>\n",
              "      <th>color</th>\n",
              "      <th>director_name</th>\n",
              "      <th>num_critic_for_reviews</th>\n",
              "      <th>duration</th>\n",
              "      <th>director_facebook_likes</th>\n",
              "      <th>actor_3_facebook_likes</th>\n",
              "      <th>actor_2_name</th>\n",
              "      <th>actor_1_facebook_likes</th>\n",
              "      <th>gross</th>\n",
              "      <th>genres</th>\n",
              "      <th>actor_1_name</th>\n",
              "      <th>movie_title</th>\n",
              "      <th>num_voted_users</th>\n",
              "      <th>cast_total_facebook_likes</th>\n",
              "      <th>actor_3_name</th>\n",
              "      <th>facenumber_in_poster</th>\n",
              "      <th>plot_keywords</th>\n",
              "      <th>movie_imdb_link</th>\n",
              "      <th>num_user_for_reviews</th>\n",
              "      <th>language</th>\n",
              "      <th>country</th>\n",
              "      <th>content_rating</th>\n",
              "      <th>budget</th>\n",
              "      <th>title_year</th>\n",
              "      <th>actor_2_facebook_likes</th>\n",
              "      <th>imdb_score</th>\n",
              "      <th>aspect_ratio</th>\n",
              "      <th>movie_facebook_likes</th>\n",
              "    </tr>\n",
              "  </thead>\n",
              "  <tbody>\n",
              "    <tr>\n",
              "      <th>0</th>\n",
              "      <td>Color</td>\n",
              "      <td>James Cameron</td>\n",
              "      <td>723</td>\n",
              "      <td>178</td>\n",
              "      <td>0</td>\n",
              "      <td>855</td>\n",
              "      <td>Joel David Moore</td>\n",
              "      <td>1000</td>\n",
              "      <td>7.60506e+08</td>\n",
              "      <td>Action|Adventure|Fantasy|Sci-Fi</td>\n",
              "      <td>CCH Pounder</td>\n",
              "      <td>Avatar</td>\n",
              "      <td>886204</td>\n",
              "      <td>4834</td>\n",
              "      <td>Wes Studi</td>\n",
              "      <td>0</td>\n",
              "      <td>avatar|future|marine|native|paraplegic</td>\n",
              "      <td>http://www.imdb.com/title/tt0499549/?ref_=fn_t...</td>\n",
              "      <td>3054</td>\n",
              "      <td>English</td>\n",
              "      <td>USA</td>\n",
              "      <td>PG-13</td>\n",
              "      <td>2.37e+08</td>\n",
              "      <td>2009</td>\n",
              "      <td>936</td>\n",
              "      <td>7.9</td>\n",
              "      <td>1.78</td>\n",
              "      <td>33000</td>\n",
              "    </tr>\n",
              "    <tr>\n",
              "      <th>1</th>\n",
              "      <td>Color</td>\n",
              "      <td>Gore Verbinski</td>\n",
              "      <td>302</td>\n",
              "      <td>169</td>\n",
              "      <td>563</td>\n",
              "      <td>1000</td>\n",
              "      <td>Orlando Bloom</td>\n",
              "      <td>40000</td>\n",
              "      <td>3.09404e+08</td>\n",
              "      <td>Action|Adventure|Fantasy</td>\n",
              "      <td>Johnny Depp</td>\n",
              "      <td>Pirates of the Caribbean: At World's End</td>\n",
              "      <td>471220</td>\n",
              "      <td>48350</td>\n",
              "      <td>Jack Davenport</td>\n",
              "      <td>0</td>\n",
              "      <td>goddess|marriage ceremony|marriage proposal|pi...</td>\n",
              "      <td>http://www.imdb.com/title/tt0449088/?ref_=fn_t...</td>\n",
              "      <td>1238</td>\n",
              "      <td>English</td>\n",
              "      <td>USA</td>\n",
              "      <td>PG-13</td>\n",
              "      <td>3e+08</td>\n",
              "      <td>2007</td>\n",
              "      <td>5000</td>\n",
              "      <td>7.1</td>\n",
              "      <td>2.35</td>\n",
              "      <td>0</td>\n",
              "    </tr>\n",
              "    <tr>\n",
              "      <th>2</th>\n",
              "      <td>Color</td>\n",
              "      <td>Sam Mendes</td>\n",
              "      <td>602</td>\n",
              "      <td>148</td>\n",
              "      <td>0</td>\n",
              "      <td>161</td>\n",
              "      <td>Rory Kinnear</td>\n",
              "      <td>11000</td>\n",
              "      <td>2.00074e+08</td>\n",
              "      <td>Action|Adventure|Thriller</td>\n",
              "      <td>Christoph Waltz</td>\n",
              "      <td>Spectre</td>\n",
              "      <td>275868</td>\n",
              "      <td>11700</td>\n",
              "      <td>Stephanie Sigman</td>\n",
              "      <td>1</td>\n",
              "      <td>bomb|espionage|sequel|spy|terrorist</td>\n",
              "      <td>http://www.imdb.com/title/tt2379713/?ref_=fn_t...</td>\n",
              "      <td>994</td>\n",
              "      <td>English</td>\n",
              "      <td>UK</td>\n",
              "      <td>PG-13</td>\n",
              "      <td>2.45e+08</td>\n",
              "      <td>2015</td>\n",
              "      <td>393</td>\n",
              "      <td>6.8</td>\n",
              "      <td>2.35</td>\n",
              "      <td>85000</td>\n",
              "    </tr>\n",
              "    <tr>\n",
              "      <th>3</th>\n",
              "      <td>Color</td>\n",
              "      <td>Christopher Nolan</td>\n",
              "      <td>813</td>\n",
              "      <td>164</td>\n",
              "      <td>22000</td>\n",
              "      <td>23000</td>\n",
              "      <td>Christian Bale</td>\n",
              "      <td>27000</td>\n",
              "      <td>4.48131e+08</td>\n",
              "      <td>Action|Thriller</td>\n",
              "      <td>Tom Hardy</td>\n",
              "      <td>The Dark Knight Rises</td>\n",
              "      <td>1144337</td>\n",
              "      <td>106759</td>\n",
              "      <td>Joseph Gordon-Levitt</td>\n",
              "      <td>0</td>\n",
              "      <td>deception|imprisonment|lawlessness|police offi...</td>\n",
              "      <td>http://www.imdb.com/title/tt1345836/?ref_=fn_t...</td>\n",
              "      <td>2701</td>\n",
              "      <td>English</td>\n",
              "      <td>USA</td>\n",
              "      <td>PG-13</td>\n",
              "      <td>2.5e+08</td>\n",
              "      <td>2012</td>\n",
              "      <td>23000</td>\n",
              "      <td>8.5</td>\n",
              "      <td>2.35</td>\n",
              "      <td>164000</td>\n",
              "    </tr>\n",
              "    <tr>\n",
              "      <th>4</th>\n",
              "      <td>UNK</td>\n",
              "      <td>Doug Walker</td>\n",
              "      <td>UNK</td>\n",
              "      <td>UNK</td>\n",
              "      <td>131</td>\n",
              "      <td>UNK</td>\n",
              "      <td>Rob Walker</td>\n",
              "      <td>131</td>\n",
              "      <td>UNK</td>\n",
              "      <td>Documentary</td>\n",
              "      <td>Doug Walker</td>\n",
              "      <td>Star Wars: Episode VII - The Force Awakens    ...</td>\n",
              "      <td>8</td>\n",
              "      <td>143</td>\n",
              "      <td>UNK</td>\n",
              "      <td>0</td>\n",
              "      <td>UNK</td>\n",
              "      <td>http://www.imdb.com/title/tt5289954/?ref_=fn_t...</td>\n",
              "      <td>UNK</td>\n",
              "      <td>UNK</td>\n",
              "      <td>UNK</td>\n",
              "      <td>UNK</td>\n",
              "      <td>UNK</td>\n",
              "      <td>UNK</td>\n",
              "      <td>12</td>\n",
              "      <td>7.1</td>\n",
              "      <td>UNK</td>\n",
              "      <td>0</td>\n",
              "    </tr>\n",
              "  </tbody>\n",
              "</table>\n",
              "</div>"
            ],
            "text/plain": [
              "   color      director_name  ... aspect_ratio movie_facebook_likes\n",
              "0  Color      James Cameron  ...         1.78                33000\n",
              "1  Color     Gore Verbinski  ...         2.35                    0\n",
              "2  Color         Sam Mendes  ...         2.35                85000\n",
              "3  Color  Christopher Nolan  ...         2.35               164000\n",
              "4    UNK        Doug Walker  ...          UNK                    0\n",
              "\n",
              "[5 rows x 28 columns]"
            ]
          },
          "metadata": {
            "tags": []
          },
          "execution_count": 4
        }
      ]
    },
    {
      "cell_type": "code",
      "metadata": {
        "colab_type": "code",
        "id": "dG4-a9_FzRRd",
        "colab": {}
      },
      "source": [
        "from pyswip import Prolog"
      ],
      "execution_count": 0,
      "outputs": []
    },
    {
      "cell_type": "code",
      "metadata": {
        "colab_type": "code",
        "id": "ceBtnUMn7Mwm",
        "colab": {}
      },
      "source": [
        "def clean_text(text):\n",
        "    text = text.replace(u'\\xa0', u'')\n",
        "    text = text.replace(u\"'\", u'')\n",
        "    text = text.replace(u'\"', u'')\n",
        "    return text"
      ],
      "execution_count": 0,
      "outputs": []
    },
    {
      "cell_type": "code",
      "metadata": {
        "id": "l8e_v_4iPfy0",
        "colab_type": "code",
        "outputId": "bdf4ceb6-a520-4766-e058-1e3fa8a8cb93",
        "colab": {
          "base_uri": "https://localhost:8080/",
          "height": 35
        }
      },
      "source": [
        "#create World\n",
        "#Ορίζουμε τον κόσμο μας\n",
        "prolog = Prolog()\n",
        "#και σβήνουμε ότι υπήρχε αποθηκευμένο από πρίν\n",
        "prolog.query(\"make\")\n"
      ],
      "execution_count": 7,
      "outputs": [
        {
          "output_type": "execute_result",
          "data": {
            "text/plain": [
              "<generator object Prolog._QueryWrapper.__call__ at 0x7fd8ccb407d8>"
            ]
          },
          "metadata": {
            "tags": []
          },
          "execution_count": 7
        }
      ]
    },
    {
      "cell_type": "code",
      "metadata": {
        "colab_type": "code",
        "id": "8-fmdlMxxBzx",
        "colab": {}
      },
      "source": [
        "#Για κάθε row του πίνακα φτιάχνουμε τα κατηγοτήματα που θέλουμε να αποθηκέυσουμε\n",
        "#αρχικά σε μια λίστα με το όνομα literals\n",
        "literals = []\n",
        "movie_score = {}\n",
        "my_movie_score = {}\n",
        "for row in data.itertuples(index=True, name='Pandas'):\n",
        "    \n",
        "    movie_title = clean_text(getattr(row, 'movie_title'))\n",
        "\n",
        "    genres = clean_text(getattr(row, 'genres'))\n",
        "    genres = genres.split('|')\n",
        "\n",
        "    director = clean_text(getattr(row, 'director_name'))\n",
        "\n",
        "    movie_score[movie_title] = 0\n",
        "    my_movie_score[movie_title] = 0\n",
        "\n",
        "    plot_keywords = clean_text(getattr(row, 'plot_keywords'))\n",
        "    plot_keywords = plot_keywords.split('|')\n",
        "\n",
        "    actor1 = clean_text(getattr(row, 'actor_1_name'))\n",
        "\n",
        "    actor2 = clean_text(getattr(row, 'actor_2_name'))\n",
        "\n",
        "    actor3 = clean_text(getattr(row, 'actor_3_name'))\n",
        "\n",
        "    color = clean_text(getattr(row, 'color'))\n",
        "\n",
        "    language = clean_text(getattr(row, 'language'))\n",
        "    \n",
        "    if movie_title != \"UNK\":\n",
        "        if director != \"UNK\":\n",
        "            literals.append(\"director('\"+ movie_title +\"','\" + director + \"')\")\n",
        "        for genre in genres:\n",
        "            literals.append(\"genre('\"+ movie_title +\"','\"+ genre +\"')\")\n",
        "        for plot_keyword in plot_keywords:\n",
        "            literals.append(\"keywords('\" + movie_title + \"','\" + plot_keyword + \"')\")\n",
        "\n",
        "        if actor1 != \"UNK\":\n",
        "            literals.append(\"actor1('\" + movie_title + \"','\" + actor1 + \"')\")\n",
        "            literals.append(\"actor('\" + movie_title + \"','\" + actor1 + \"')\")\n",
        "        if actor2 != \"UNK\":\n",
        "            literals.append(\"actor2('\" + movie_title + \"','\" + actor2 + \"')\")\n",
        "            literals.append(\"actor('\" + movie_title + \"','\" + actor2 + \"')\")\n",
        "        if actor3 != \"UNK\":\n",
        "            literals.append(\"actor3('\" + movie_title + \"','\" + actor3 + \"')\")\n",
        "            literals.append(\"actor('\" + movie_title + \"','\" + actor3 + \"')\")\n",
        "\n",
        "        if color != \"UNK\":\n",
        "            literals.append(\"color('\" + movie_title + \"','\" + color + \"')\")\n",
        "        if language != \"UNK\":\n",
        "            literals.append(\"language('\" + movie_title + \"','\" + language + \"')\")\n",
        "        \n",
        "        \n",
        "\n",
        "#Η Prolog θέλει τα κατηγορήματά της με την σειρά \n",
        "literals.sort()\n",
        "for literal in literals:\n",
        "    prolog.assertz(literal)\n",
        "\n",
        "#Επίσης μπορούμε να κάνουμε consult ένα έτοιμό αρχίο στον κόσμο όπως γίνεται παρακάτω\n",
        "# prolog.consult(\"filename.pl\")"
      ],
      "execution_count": 0,
      "outputs": []
    },
    {
      "cell_type": "markdown",
      "metadata": {
        "id": "BGp5GnkLQbBy",
        "colab_type": "text"
      },
      "source": [
        "\n",
        "Πρέπει να βρούμε όλες τις ταινίες με:\n",
        "\n",
        "\n",
        "1.  Αρκετά κοινό θέμα (κάποιες λέξεις σχετικά με το genre κοινές)\n",
        "2.  Σχετικά κοινό θέμα (κάποιες λιγότερες λέξεις σχετικά με το genre κοινές π.χ. 3)\n",
        "3.  Λιγότερο κοινό θέμα (λίγες λέξεις σχετικές με το genre κοινές π.χ. 1)\n",
        "4.  Κοινός σκηνοθέτης\n",
        "5.  Ακριβώς ίδια πλοκή (κάποιες λέξεις κλειδιά της πλοκής να είναι κοινές)\n",
        "6.  Σχετικά ίδια πλοκή (κάποιες λιγότερες λέξεις κλειδιά κοινές)\n",
        "7.  Ίδιους τους βασικούς ηθοποιούς (και τους 3)\n",
        "8.  Αρκετά ίδιους βασικούς ηθοποιούς (ορισμένους βασικούς ηθοποιούς κοινούς π.χ. 2)\n",
        "9.  Σχετικά ίδιους ηθοποιούς (π.χ. 1 από τους 3)\n",
        "10.  Ίδια γλώσσα\n",
        "11.  Είναι έγχρωμες ή ασπρόμαυρες\n",
        "\n",
        "\n"
      ]
    },
    {
      "cell_type": "code",
      "metadata": {
        "id": "mW1LxETGM19L",
        "colab_type": "code",
        "colab": {}
      },
      "source": [
        "#1) Find movies with very common theme:\n",
        "prolog.assertz(\"\"\"find_movies_1(X,Y) :- genre(X,A), genre(X,B), genre(X,C), genre(X,D),genre(Y,A), genre(Y,B), genre(Y,C), genre(Y,D),A\\=B, A\\=C, A\\=D,B\\=C, B\\=D, C\\=D,X\\=Y\"\"\")\n",
        "\n",
        "#2) Find movies with relatively common theme:\n",
        "prolog.assertz(\"\"\"find_movies_2(X,Y) :- genre(X,A), genre(X,B), genre(X,C),genre(Y,A), genre(Y,B), genre(Y,C), A\\=B, A\\=C, B\\=C,  X\\=Y\"\"\")\n",
        "\n",
        "#3) Find movies with less common theme:\n",
        "prolog.assertz(\"\"\"find_movies_3(X,Y) :- genre(X,A),  genre(Y,A), X\\=Y\"\"\")\n",
        "\n",
        "#4) Find movies with the same director:\n",
        "prolog.assertz(\"find_movies_4(X,Y) :- director(X,Z), director(Y, Z),X\\=Y\")\n",
        "\n",
        "#5) Find movies with 4 same keywords:\n",
        "prolog.assertz(\"\"\"find_movies_5(X,Y) :- keywords(X,A), keywords(X,B), keywords(X,C), keywords(X,D),keywords(Y,A), keywords(Y,B), keywords(Y,C), keywords(Y,D),A\\=B, A\\=C, A\\=D,B\\=C, B\\=D,C\\=D,X\\=Y\"\"\")\n",
        "\n",
        "#6) Find movies with 2 same keywords:\n",
        "prolog.assertz(\"\"\"find_movies_6(X,Y) :- keywords(X,A), keywords(X,B),keywords(Y,A), keywords(Y,B),A\\=B,X\\=Y\"\"\")\n",
        "\n",
        "#7) Find movies with the 3 main actors common:\n",
        "prolog.assertz(\"\"\"find_movies_7(X,Y) :- actor(X,A), actor(X,B), actor(X,C),actor(Y,A), actor(Y,B), actor(Y,C), A\\=B, A\\=C,B\\=C, X\\=Y\"\"\")\n",
        "\n",
        "#8) Find movies with only 2 actors common:\n",
        "prolog.assertz(\"\"\"find_movies_8(X,Y) :- actor(X,A), actor(X,B),actor(Y,A), actor(Y,B),A\\=B, X\\=Y\"\"\")\n",
        "\n",
        "#9) Find movies with only 1 actor common:\n",
        "prolog.assertz(\"\"\"find_movies_9(X,Y) :- actor(X,A), actor(Y,A),X\\=Y\"\"\")\n",
        "\n",
        "#10) Find movies with the same language:\n",
        "prolog.assertz(\"find_movies_10(X,Y) :- language(X,L), language(Y,L), X\\=Y\")\n",
        "\n",
        "#11) Find movies that have the same color:\n",
        "prolog.assertz(\"find_movies_11(X,Y) :- color(X, C), color(Y, C), X\\=Y\")"
      ],
      "execution_count": 0,
      "outputs": []
    },
    {
      "cell_type": "code",
      "metadata": {
        "id": "m4ZFkZZ3QaE5",
        "colab_type": "code",
        "colab": {}
      },
      "source": [
        "#1)\n",
        "\n",
        "counter = 0\n",
        "output = set()\n",
        "for soln in prolog.query(\"find_movies_1(X,Y), X='Avatar'\"):\n",
        "    counter += 1\n",
        "    output.add(soln['Y'])\n",
        "print(output)\n",
        "print(counter, len(output))\n",
        "\n",
        "#2)\n",
        "\n",
        "counter = 0\n",
        "output = set()\n",
        "for soln in prolog.query(\"find_movies_2(X,Y), X='Avatar'\"):\n",
        "    counter += 1\n",
        "    output.add(soln['Y'])\n",
        "print(output)\n",
        "print(counter)\n",
        "\n",
        "#3)\n",
        "\n",
        "counter = 0\n",
        "output = set()\n",
        "for soln in prolog.query(\"find_movies_3(X,Y), X='Iron Man'\"):\n",
        "    counter += 1\n",
        "    output.add(soln['Y'])\n",
        "print(output)\n",
        "print(counter, len(output))\n",
        "\n",
        "#4)\n",
        "\n",
        "counter = 0\n",
        "output = set()\n",
        "for soln in prolog.query(\"find_movies_4(X,Y), X='Iron Man'\"):\n",
        "    counter += 1\n",
        "    output.add(soln['Y'])\n",
        "print(output)\n",
        "print(counter, len(output))\n",
        "\n",
        "#5)\n",
        "\n",
        "counter = 0\n",
        "output = set()\n",
        "for soln in prolog.query(\"find_movies_5(X,Y), X='American Wedding'\"):\n",
        "    counter += 1\n",
        "    output.add(soln['Y'])\n",
        "print(output)\n",
        "print(counter, len(output))\n",
        "\n",
        "#6)\n",
        "\n",
        "counter = 0\n",
        "output = set()\n",
        "for soln in prolog.query(\"find_movies_6(X,Y), X='Avengers: Age of Ultron'\"):\n",
        "    counter += 1\n",
        "    output.add(soln['Y'])\n",
        "print(output)\n",
        "print(counter, len(output))\n",
        "\n",
        "#7)\n",
        "\n",
        "counter = 0\n",
        "output = set()\n",
        "for soln in prolog.query(\"find_movies_7(X,Y), X='c'\"):\n",
        "    counter += 1\n",
        "    output.add(soln['Y'])\n",
        "print(output)\n",
        "print(counter, len(output))\n",
        "\n",
        "#8)\n",
        "\n",
        "output = set()\n",
        "counter = 0\n",
        "for soln in prolog.query(\"find_movies_8(X,Y), X='Iron Man'\"):\n",
        "    counter += 1\n",
        "    output.add(soln['Y'])\n",
        "print(output)\n",
        "print(counter, len(output))\n",
        "\n",
        "#9)\n",
        "counter = 0\n",
        "output = set()\n",
        "for soln in prolog.query(\"find_movies_9(X,Y), X='Iron Man'\"):\n",
        "    counter += 1\n",
        "    output.add(soln['Y'])\n",
        "print(output)\n",
        "print(counter, len(output))\n",
        "\n",
        "#10)\n",
        "counter = 0\n",
        "output = set()\n",
        "for soln in prolog.query(\"find_movies_10(X,Y), X='Iron Man'\"):\n",
        "    counter += 1\n",
        "    output.add(soln['Y'])\n",
        "print(output, len(output))\n",
        "print(counter, len(output))\n",
        "#11)\n",
        "counter = 0\n",
        "output = set()\n",
        "for soln in prolog.query(\"find_movies_11(X,Y), X='Iron Man'\"):\n",
        "    counter += 1\n",
        "    output.add(soln['Y'])\n",
        "print(output)\n",
        "print(counter, len(output))"
      ],
      "execution_count": 0,
      "outputs": []
    },
    {
      "cell_type": "markdown",
      "metadata": {
        "colab_type": "text",
        "id": "gpMVPz-3K07i"
      },
      "source": [
        "# **2ο Μέρος: Recommendation System με βάση μόνο τα χαρακτηριστικά των ταινιών.**\n",
        "\n",
        "Στο σημείο αυτό με βάση τους κανόνες που κατασκευάστηκαν στο Μέρος 1 θα κατασκευαστούν κατηγορήματα για την ομοιότητα ταινιών. Παρακάτω δίνεται ένα μικρό παράδειγμα ενός κανόνα και πώς αυτός θα μπορούσε να γραφτεί μέσω του Pyswip. Επίσης όπως αναφέρεται και σε σχόλιο παραπάνω θα μπορεί να γραφτεί και μια βάση δεδομένων με τους κανόνες και να γίνει απευθείας consult.\n",
        "\n",
        "Στο παρακάτω παράδειγμα το 5 και το 4 εκφράζουν την ομοιότητα των ταινιών π.χ. οι ταινίες που παράγονται μέσω του find_similar_5 είναι πιο όμοιες από αυτές που παράγονται μέσω του find_similar_4. \n"
      ]
    },
    {
      "cell_type": "code",
      "metadata": {
        "colab_type": "code",
        "id": "h1nmSLlmA75q",
        "colab": {}
      },
      "source": [
        "prolog.assertz('(find_similar_movies_5(X, Y) :- director(X, D), director(Y, D), genre(X, G), genre(Y, G), X \\= Y )')\n",
        "prolog.assertz('(find_similar_movies_4(X, Y) :- genre(X, G), genre(Y, G), X \\= Y, not(find_similar_movies_5(X, Y)) )')\n",
        "\n",
        "# prolog.consult('db.pl')"
      ],
      "execution_count": 0,
      "outputs": []
    },
    {
      "cell_type": "code",
      "metadata": {
        "colab_type": "code",
        "id": "DeAvc55byC0l",
        "colab": {}
      },
      "source": [
        "def simple_recommender(movie):\n",
        "\n",
        "    q = prolog.query(\"find_similar_movies_5('\" + movie +\"',M)\")\n",
        "    ans5 = []\n",
        "    for soln in q:\n",
        "        ans5.append(soln[\"M\"])\n",
        "    ans = set(ans5)\n",
        "    \n",
        "    q = prolog.query(\"find_similar_movies_4('\" + movie +\"',M)\")\n",
        "    ans4 = []\n",
        "    for soln in q:\n",
        "        if soln[\"M\"] not in ans:\n",
        "            ans4.append(soln[\"M\"])\n",
        "            ans.add(soln[\"M\"])\n",
        "\n",
        "    #κάνουμε κάποιο Processing στα παραπάνω αποτελέσματα και επιστρέφουμε τις \"όμοιες\" ταινίες με φθίνουσα σειρά\n",
        "    return list(set(ans5))[:10], list(set(ans4))[:10]"
      ],
      "execution_count": 0,
      "outputs": []
    },
    {
      "cell_type": "markdown",
      "metadata": {
        "colab_type": "text",
        "id": "wCryo9VGAeWi"
      },
      "source": [
        "**Στο σημείο αυτό θα ζητήσουμε από το σύστημα να μας επιστρέψει ορισμένα αποτελέσματα για ταινίες για να εξετάσουμε την απόδοσή του.**\n"
      ]
    },
    {
      "cell_type": "code",
      "metadata": {
        "colab_type": "code",
        "id": "IxNuJ6kX1m0m",
        "outputId": "c257414a-5384-4559-f603-e47440bb00e8",
        "colab": {
          "base_uri": "https://localhost:8080/",
          "height": 251
        }
      },
      "source": [
        "simple_recommender(\"Star Wars: Episode III - Revenge of the Sith\")"
      ],
      "execution_count": 12,
      "outputs": [
        {
          "output_type": "execute_result",
          "data": {
            "text/plain": [
              "(['Star Wars: Episode II - Attack of the Clones',\n",
              "  'Star Wars: Episode IV - A New Hope',\n",
              "  'Star Wars: Episode I - The Phantom Menace'],\n",
              " ['Ladder 49',\n",
              "  '20,000 Leagues Under the Sea',\n",
              "  'Homefront',\n",
              "  'The Masked Saint',\n",
              "  'Outlander            ',\n",
              "  'Without a Paddle',\n",
              "  'Steel',\n",
              "  'Tangled',\n",
              "  'Austin Powers: The Spy Who Shagged Me',\n",
              "  'Con Air'])"
            ]
          },
          "metadata": {
            "tags": []
          },
          "execution_count": 12
        }
      ]
    },
    {
      "cell_type": "code",
      "metadata": {
        "id": "a1Xz4XRBgGeO",
        "colab_type": "code",
        "outputId": "f206922d-6ca1-45d8-b2d9-4dd8c385a9a3",
        "colab": {
          "base_uri": "https://localhost:8080/",
          "height": 287
        }
      },
      "source": [
        "simple_recommender(\"Avatar\")"
      ],
      "execution_count": 13,
      "outputs": [
        {
          "output_type": "execute_result",
          "data": {
            "text/plain": [
              "(['The Terminator',\n",
              "  'The Abyss',\n",
              "  'Aliens',\n",
              "  'Terminator 2: Judgment Day',\n",
              "  'True Lies'],\n",
              " ['Ladder 49',\n",
              "  '20,000 Leagues Under the Sea',\n",
              "  'Homefront',\n",
              "  'The Masked Saint',\n",
              "  'Outlander            ',\n",
              "  'Without a Paddle',\n",
              "  'Steel',\n",
              "  'Tangled',\n",
              "  'Austin Powers: The Spy Who Shagged Me',\n",
              "  'Con Air'])"
            ]
          },
          "metadata": {
            "tags": []
          },
          "execution_count": 13
        }
      ]
    },
    {
      "cell_type": "code",
      "metadata": {
        "colab_type": "code",
        "id": "_isjJITtG7P3",
        "outputId": "a5541a00-cfe8-40d5-b8ca-68e9a1cddcee",
        "colab": {
          "base_uri": "https://localhost:8080/",
          "height": 287
        }
      },
      "source": [
        "simple_recommender('Pirates of the Caribbean: Dead Mans Chest')"
      ],
      "execution_count": 14,
      "outputs": [
        {
          "output_type": "execute_result",
          "data": {
            "text/plain": [
              "(['Rango',\n",
              "  'The Mexican',\n",
              "  'The Lone Ranger',\n",
              "  'Pirates of the Caribbean: The Curse of the Black Pearl',\n",
              "  'Pirates of the Caribbean: At Worlds End'],\n",
              " ['Ladder 49',\n",
              "  '20,000 Leagues Under the Sea',\n",
              "  'Homefront',\n",
              "  'The Masked Saint',\n",
              "  'Without a Paddle',\n",
              "  'Steel',\n",
              "  'Tangled',\n",
              "  'Austin Powers: The Spy Who Shagged Me',\n",
              "  'Con Air',\n",
              "  'Edward Scissorhands'])"
            ]
          },
          "metadata": {
            "tags": []
          },
          "execution_count": 14
        }
      ]
    },
    {
      "cell_type": "code",
      "metadata": {
        "id": "SbEj8TwrgGeb",
        "colab_type": "code",
        "colab": {}
      },
      "source": [
        "def jaccard_similarity(list1, list2):\n",
        "    set1 = set(list1)\n",
        "    set2 = set(list2)\n",
        "    intersection = len(set1.intersection(set2))\n",
        "    union = len(set1) + len(set2) - intersection\n",
        "    return intersection / union"
      ],
      "execution_count": 0,
      "outputs": []
    },
    {
      "cell_type": "code",
      "metadata": {
        "id": "nKJJFMxOKjdU",
        "colab_type": "code",
        "outputId": "4d849bb9-e386-40b4-a6eb-39c96c154980",
        "colab": {
          "base_uri": "https://localhost:8080/",
          "height": 35
        }
      },
      "source": [
        "l1, l2 = simple_recommender('Pirates of the Caribbean: Dead Mans Chest')\n",
        "jaccard_similarity(l1, l2)"
      ],
      "execution_count": 16,
      "outputs": [
        {
          "output_type": "execute_result",
          "data": {
            "text/plain": [
              "0.0"
            ]
          },
          "metadata": {
            "tags": []
          },
          "execution_count": 16
        }
      ]
    },
    {
      "cell_type": "code",
      "metadata": {
        "id": "IWMpRt7SXB4b",
        "colab_type": "code",
        "outputId": "c5b94525-22d6-41ac-b5c4-9494f26aa1be",
        "colab": {
          "base_uri": "https://localhost:8080/",
          "height": 204
        }
      },
      "source": [
        "relative_movies = pd.read_csv(\"/content/drive/My Drive/Colab Notebooks/AI/Assignment 2/relative_movies.csv\")\n",
        "relative_movies.head()"
      ],
      "execution_count": 17,
      "outputs": [
        {
          "output_type": "execute_result",
          "data": {
            "text/html": [
              "<div>\n",
              "<style scoped>\n",
              "    .dataframe tbody tr th:only-of-type {\n",
              "        vertical-align: middle;\n",
              "    }\n",
              "\n",
              "    .dataframe tbody tr th {\n",
              "        vertical-align: top;\n",
              "    }\n",
              "\n",
              "    .dataframe thead th {\n",
              "        text-align: right;\n",
              "    }\n",
              "</style>\n",
              "<table border=\"1\" class=\"dataframe\">\n",
              "  <thead>\n",
              "    <tr style=\"text-align: right;\">\n",
              "      <th></th>\n",
              "      <th>movie_title</th>\n",
              "      <th>relative_movies</th>\n",
              "    </tr>\n",
              "  </thead>\n",
              "  <tbody>\n",
              "    <tr>\n",
              "      <th>0</th>\n",
              "      <td>Friday the 13th Part VII: The New Blood</td>\n",
              "      <td>The Wicked Within,The Devils Rejects,Alien Zon...</td>\n",
              "    </tr>\n",
              "    <tr>\n",
              "      <th>1</th>\n",
              "      <td>A Million Ways to Die in the West</td>\n",
              "      <td>Lone Wolf McQuade,Pat Garrett &amp; Billy the Kid,...</td>\n",
              "    </tr>\n",
              "    <tr>\n",
              "      <th>2</th>\n",
              "      <td>Phat Girlz</td>\n",
              "      <td>Beerfest,Waiting for Guffman,Lets Be Cops,I Ho...</td>\n",
              "    </tr>\n",
              "    <tr>\n",
              "      <th>3</th>\n",
              "      <td>Water</td>\n",
              "      <td>High School Musical,The Diary of a Teenage Gir...</td>\n",
              "    </tr>\n",
              "    <tr>\n",
              "      <th>4</th>\n",
              "      <td>Killers</td>\n",
              "      <td>21,Abduction,The Devils Advocate,No Country fo...</td>\n",
              "    </tr>\n",
              "  </tbody>\n",
              "</table>\n",
              "</div>"
            ],
            "text/plain": [
              "                               movie_title                                    relative_movies\n",
              "0  Friday the 13th Part VII: The New Blood  The Wicked Within,The Devils Rejects,Alien Zon...\n",
              "1        A Million Ways to Die in the West  Lone Wolf McQuade,Pat Garrett & Billy the Kid,...\n",
              "2                               Phat Girlz  Beerfest,Waiting for Guffman,Lets Be Cops,I Ho...\n",
              "3                                    Water  High School Musical,The Diary of a Teenage Gir...\n",
              "4                                  Killers  21,Abduction,The Devils Advocate,No Country fo..."
            ]
          },
          "metadata": {
            "tags": []
          },
          "execution_count": 17
        }
      ]
    },
    {
      "cell_type": "code",
      "metadata": {
        "id": "KQSfN-pR2fqJ",
        "colab_type": "code",
        "outputId": "0173192b-32e7-4488-97ef-3e35366e943b",
        "colab": {
          "base_uri": "https://localhost:8080/",
          "height": 287
        }
      },
      "source": [
        ",(  find_movies_1(X,Y) ; find_movies_5(X,Y) ; find_movies_7(X,Y) ; (find_movies_4(X,Y) , find_movies_3(X,Y)) ;  (find_movies_6(X,Y) , find_movies_8(X,Y)) ) "
      ],
      "execution_count": 18,
      "outputs": [
        {
          "output_type": "execute_result",
          "data": {
            "text/plain": [
              "('(',\n",
              " 'find_movies_1(X,Y)',\n",
              " ';',\n",
              " 'find_movies_5(X,Y)',\n",
              " ';',\n",
              " 'find_movies_7(X,Y)',\n",
              " ';',\n",
              " '(find_movies_4(X,Y)',\n",
              " ',',\n",
              " 'find_movies_3(X,Y))',\n",
              " ';',\n",
              " '(find_movies_6(X,Y)',\n",
              " ',',\n",
              " 'find_movies_8(X,Y))',\n",
              " ')')"
            ]
          },
          "metadata": {
            "tags": []
          },
          "execution_count": 18
        }
      ]
    },
    {
      "cell_type": "code",
      "metadata": {
        "id": "jPupsayCphTC",
        "colab_type": "code",
        "colab": {}
      },
      "source": [
        "prolog.assertz('(find_similar_movies_a(X, Y) :- find_movies_6(X,Y), find_movies_3(X,Y), X \\= Y )')\n",
        "prolog.assertz('(find_similar_movies_b(X, Y) :- find_movies_3(X,Y), find_movies_8(X,Y), not(find_similar_movies_a(X, Y)), X \\= Y)')\n",
        "prolog.assertz('(find_similar_movies_c(X, Y) :- find_movies_9(X,Y), find_movies_3(X,Y), not(find_similar_movies_b(X, Y)), X \\= Y)')\n",
        "prolog.assertz('(find_similar_movies_d(X, Y) :- find_movies_4(X,Y), find_movies_3(X,Y), not(find_similar_movies_c(X, Y)), X \\= Y)')\n",
        "prolog.assertz('(find_similar_movies_e(X, Y) :- (  find_movies_1(X,Y) ; find_movies_5(X,Y) ; find_movies_7(X,Y) ; (find_movies_4(X,Y) , find_movies_3(X,Y)) ;  (find_movies_6(X,Y) , find_movies_8(X,Y)) ) , X \\= Y)' )"
      ],
      "execution_count": 0,
      "outputs": []
    },
    {
      "cell_type": "code",
      "metadata": {
        "id": "DvgPjrsp5fqp",
        "colab_type": "code",
        "colab": {}
      },
      "source": [
        "def advanced_recommender1(movie):\n",
        "    ans = []\n",
        "    q = prolog.query(\"find_movies_6('\" + movie + \"',M)\")\n",
        "    for soln in q:\n",
        "        ans.append(soln[\"M\"])\n",
        "    ans1 = set(ans)\n",
        "    return list(ans1)[:10]\n",
        "def advanced_recommender2(movie):\n",
        "    ans = []\n",
        "    q = prolog.query(\"find_movies_3('\" + movie + \"',M)\")\n",
        "    for soln in q:\n",
        "        ans.append(soln[\"M\"])\n",
        "    ans1 = set(ans)\n",
        "    return list(ans1)[:10]\n",
        "def advanced_recommender3(movie):\n",
        "    ans = []\n",
        "    q = prolog.query(\"find_movies_8('\" + movie + \"',M)\")\n",
        "    for soln in q:\n",
        "        ans.append(soln[\"M\"])\n",
        "    ans1 = set(ans)\n",
        "    return list(ans1)[:10]\n",
        "def advanced_recommender4(movie):\n",
        "    ans = []\n",
        "    q = prolog.query(\"find_movies_4('\" + movie + \"',M)\")\n",
        "    for soln in q:\n",
        "        ans.append(soln[\"M\"])\n",
        "    ans1 = set(ans)\n",
        "    return list(ans1)[:10]\n",
        "def advanced_recommender5(movie):\n",
        "    ans = []\n",
        "    q = prolog.query(\"find_movies_8('\" + movie + \"',M), find_movies_3('\" + movie + \"',M)\")\n",
        "    for soln in q:\n",
        "        ans.append(soln[\"M\"])\n",
        "    if len(set(ans)) < 10:\n",
        "        q = prolog.query(\"find_movies_8('\" + movie + \"',M), find_movies_6('\" + movie + \"',M)\")\n",
        "        for soln in q:\n",
        "            ans.append(soln[\"M\"])\n",
        "    if len(set(ans)) < 10:\n",
        "        q = prolog.query(\"find_movies_4('\" + movie + \"',M), find_movies_6('\" + movie + \"',M)\")\n",
        "        for soln in q:\n",
        "            ans.append(soln[\"M\"])\n",
        "    if len(set(ans)) < 10:\n",
        "        q = prolog.query(\"find_movies_4('\" + movie + \"',M), find_movies_8('\" + movie + \"',M)\")\n",
        "        for soln in q:\n",
        "            ans.append(soln[\"M\"])\n",
        "    if len(set(ans)) < 10:\n",
        "        q = prolog.query(\"find_movies_4('\" + movie + \"',M), find_movies_3('\" + movie + \"',M)\")\n",
        "        for soln in q:\n",
        "            ans.append(soln[\"M\"])\n",
        "    if len(set(ans)) < 10:\n",
        "        q = prolog.query(\"find_movies_4('\" + movie + \"',M)\")\n",
        "        for soln in q:\n",
        "            ans.append(soln[\"M\"])\n",
        "    ans1 = set(ans)\n",
        "    return list(ans1)[:10]"
      ],
      "execution_count": 0,
      "outputs": []
    },
    {
      "cell_type": "code",
      "metadata": {
        "id": "s613RQ897dgz",
        "colab_type": "code",
        "colab": {}
      },
      "source": [
        "def advanced_recommender_a(movie):\n",
        "    ans = []\n",
        "    q = prolog.query(\"find_similar_movies_a('\" + movie + \"',M)\")\n",
        "    for soln in q:\n",
        "        ans.append(soln[\"M\"])\n",
        "    ans1 = set(ans)\n",
        "    return list(ans1)[:10]\n",
        "def advanced_recommender_b(movie):\n",
        "    ans = []\n",
        "    q = prolog.query(\"find_similar_movies_b('\" + movie + \"',M)\")\n",
        "    for soln in q:\n",
        "        ans.append(soln[\"M\"])\n",
        "    ans1 = set(ans)\n",
        "    return list(ans1)[:10]\n",
        "def advanced_recommender_c(movie):\n",
        "    ans = []\n",
        "    q = prolog.query(\"find_similar_movies_c('\" + movie + \"',M)\")\n",
        "    for soln in q:\n",
        "        ans.append(soln[\"M\"])\n",
        "    ans1 = set(ans)\n",
        "    return list(ans1)[:10]\n",
        "def advanced_recommender_d(movie):\n",
        "    ans = []\n",
        "    q = prolog.query(\"find_similar_movies_d('\" + movie + \"',M)\")\n",
        "    for soln in q:\n",
        "        ans.append(soln[\"M\"])\n",
        "    ans1 = set(ans)\n",
        "    return list(ans1)[:10]\n",
        "def advanced_recommender_e(movie):\n",
        "    ans = []\n",
        "    q = prolog.query(\"find_similar_movies_e('\" + movie + \"',M)\")\n",
        "    for soln in q:\n",
        "        ans.append(soln[\"M\"])\n",
        "    ans1 = set(ans)\n",
        "    return list(ans1)[:10]"
      ],
      "execution_count": 0,
      "outputs": []
    },
    {
      "cell_type": "code",
      "metadata": {
        "colab_type": "code",
        "outputId": "e78d8312-daaa-4d2f-f933-6b980ea9ef4c",
        "id": "K95b3CuF5V1U",
        "colab": {
          "base_uri": "https://localhost:8080/",
          "height": 233
        }
      },
      "source": [
        "sum1 = 0\n",
        "sum2 = 0\n",
        "sum3 = 0\n",
        "sum4 = 0\n",
        "sum5 = 0\n",
        "sum6 = 0\n",
        "sum7 = 0\n",
        "suma = 0\n",
        "sumb = 0\n",
        "sumc = 0\n",
        "sumd = 0\n",
        "sume = 0\n",
        "i = 0\n",
        "\n",
        "\n",
        "for row in relative_movies.itertuples(index=True, name='Pandas'):\n",
        "\n",
        "    movie_title = clean_text(getattr(row, 'movie_title'))\n",
        "\n",
        "    relatives = clean_text(getattr(row, 'relative_movies'))\n",
        "    relatives = relatives.split(',')\n",
        "    #print(relatives)\n",
        "\n",
        "    recommendations1 = advanced_recommender1(movie_title)\n",
        "    recommendations2 = advanced_recommender2(movie_title)\n",
        "    recommendations3 = advanced_recommender3(movie_title)\n",
        "    recommendations4 = advanced_recommender4(movie_title)\n",
        "    recommendations5 = advanced_recommender5(movie_title)\n",
        "\n",
        "    recommendations_a = advanced_recommender_a(movie_title)\n",
        "    recommendations_b = advanced_recommender_b(movie_title)\n",
        "    recommendations_c = advanced_recommender_c(movie_title)\n",
        "    recommendations_d = advanced_recommender_d(movie_title)\n",
        "    recommendations_e = advanced_recommender_e(movie_title)\n",
        "    \"\"\"\n",
        "    print(relatives)\n",
        "    print(recommendations_e)\n",
        "    \n",
        "    print(recommendations1)\n",
        "    print(recommendations2)\n",
        "    print(recommendations3)\n",
        "    print(recommendations4)\n",
        "    print(recommendations5)\n",
        "    \"\"\"\n",
        "    sum1 += jaccard_similarity(recommendations1, relatives)\n",
        "    sum2 += jaccard_similarity(recommendations2, relatives)\n",
        "    sum3 += jaccard_similarity(recommendations3, relatives)\n",
        "    sum4 += jaccard_similarity(recommendations4, relatives)\n",
        "    sum5 += jaccard_similarity(recommendations5, relatives)\n",
        "\n",
        "    suma += jaccard_similarity(recommendations_a, relatives)\n",
        "    sumb += jaccard_similarity(recommendations_b, relatives)\n",
        "    sumc += jaccard_similarity(recommendations_c, relatives)\n",
        "    sumd += jaccard_similarity(recommendations_d, relatives)\n",
        "    sume += jaccard_similarity(recommendations_e, relatives)\n",
        "\n",
        "\n",
        "    l1, l2 = simple_recommender(movie_title)\n",
        "    sum6 += jaccard_similarity(l1, relatives)\n",
        "    sum7 += jaccard_similarity(l2, relatives)\n",
        "\n",
        "    i+=1\n",
        "\n",
        "print(\"average advanced1 : \" + str(sum1/i))\n",
        "print(\"average advanced2 : \" + str(sum2/i))\n",
        "print(\"average advanced3 : \" + str(sum3/i))\n",
        "print(\"average advanced4 : \" + str(sum4/i))\n",
        "print(\"average advanced5 : \" + str(sum5/i))\n",
        "print(\"average advanced_a: \" + str(suma/i))\n",
        "print(\"average advanced_b: \" + str(sumb/i))\n",
        "print(\"average advanced_c: \" + str(sumc/i))\n",
        "print(\"average advanced_d: \" + str(sumd/i))\n",
        "print(\"average advanced_e: \" + str(sume/i))\n",
        "print(\"average simple1:    \" + str(sum6/i))\n",
        "print(\"average simple2:    \" + str(sum7/i))\n"
      ],
      "execution_count": 22,
      "outputs": [
        {
          "output_type": "stream",
          "text": [
            "average advanced1 : 0.0008912655971479501\n",
            "average advanced2 : 0.0010061919504643962\n",
            "average advanced3 : 0.00196078431372549\n",
            "average advanced4 : 0.0634314371019889\n",
            "average advanced5 : 0.0634314371019889\n",
            "average advanced_a: 0.0008912655971479501\n",
            "average advanced_b: 0.000980392156862745\n",
            "average advanced_c: 0.004459259780467211\n",
            "average advanced_d: 0.06115804829609235\n",
            "average advanced_e: 0.05868622746126843\n",
            "average simple1:    0.06590603723525776\n",
            "average simple2:    0.0005159958720330237\n"
          ],
          "name": "stdout"
        }
      ]
    },
    {
      "cell_type": "code",
      "metadata": {
        "id": "yQ4B6Y2I6vPi",
        "colab_type": "code",
        "outputId": "b89e3c31-f398-4067-dbc9-1de4d21b6267",
        "colab": {
          "base_uri": "https://localhost:8080/",
          "height": 217
        }
      },
      "source": [
        "print(advanced_recommender1('Iron Man'))\n",
        "print(advanced_recommender2('Iron Man'))\n",
        "print(advanced_recommender3('Iron Man'))\n",
        "print(advanced_recommender4('Iron Man'))\n",
        "print(advanced_recommender5('Iron Man'))\n",
        "print(advanced_recommender_a('Iron Man'))\n",
        "print(advanced_recommender_b('Iron Man'))\n",
        "print(advanced_recommender_c('Iron Man'))\n",
        "print(advanced_recommender_d('Iron Man'))\n",
        "print(advanced_recommender_e('Iron Man'))"
      ],
      "execution_count": 23,
      "outputs": [
        {
          "output_type": "stream",
          "text": [
            "['The Ultimate Gift']\n",
            "['Ladder 49', '20,000 Leagues Under the Sea', 'Homefront', 'The Masked Saint', 'Outlander            ', 'Without a Paddle', 'Steel', 'Tangled', 'Austin Powers: The Spy Who Shagged Me', 'Con Air']\n",
            "['Iron Man 2', 'Iron Man 3']\n",
            "['Elf', 'Iron Man 2', 'The Jungle Book', 'Made', 'Zathura: A Space Adventure']\n",
            "['Elf', 'Iron Man 2', 'Iron Man 3', 'The Jungle Book', 'Made', 'Zathura: A Space Adventure']\n",
            "[]\n",
            "['Iron Man 2', 'Iron Man 3']\n",
            "['The Little Prince', 'Heavens Gate', 'Sherlock Holmes', 'TRON: Legacy', 'Avengers: Age of Ultron', 'Sherlock Holmes: A Game of Shadows', 'Captain America: Civil War', 'A Scanner Darkly', 'Seventh Son', 'True Grit']\n",
            "['Iron Man 2', 'The Jungle Book', 'Zathura: A Space Adventure']\n",
            "['Iron Man 2', 'The Jungle Book', 'Zathura: A Space Adventure']\n"
          ],
          "name": "stdout"
        }
      ]
    },
    {
      "cell_type": "markdown",
      "metadata": {
        "colab_type": "text",
        "id": "aAM9o2UZFbMC"
      },
      "source": [
        "# **3ο Μέρος: Recommendation System Με βάση τις προτιμήσεις-αξιολογήσεις του χρήστη**\n",
        "\n",
        "Αρχικά μελετάμε τις αξιολογήσεις κάθε χρήστη για να καταλάβουμε την δομή και τις πληροφορίες κάθε αρχείου.\n",
        "\n",
        "\n",
        "\n",
        "\n"
      ]
    },
    {
      "cell_type": "code",
      "metadata": {
        "colab_type": "code",
        "id": "wdheN52GETd8",
        "outputId": "82b4ef9a-ec8f-4890-dde1-45bcb8bb4938",
        "colab": {
          "base_uri": "https://localhost:8080/",
          "height": 204
        }
      },
      "source": [
        "user1 = \"/content/drive/My Drive/Colab Notebooks/AI/Assignment 2/user1.csv\"\n",
        "user2 = \"/content/drive/My Drive/Colab Notebooks/AI/Assignment 2/user2.csv\"\n",
        "ratings1 = pd.read_csv(user1) \n",
        "ratings2 = pd.read_csv(user2)\n",
        "# Preview the first 5 lines of the loaded data \n",
        "ratings1.head()\n",
        "ratings2.head()"
      ],
      "execution_count": 24,
      "outputs": [
        {
          "output_type": "execute_result",
          "data": {
            "text/html": [
              "<div>\n",
              "<style scoped>\n",
              "    .dataframe tbody tr th:only-of-type {\n",
              "        vertical-align: middle;\n",
              "    }\n",
              "\n",
              "    .dataframe tbody tr th {\n",
              "        vertical-align: top;\n",
              "    }\n",
              "\n",
              "    .dataframe thead th {\n",
              "        text-align: right;\n",
              "    }\n",
              "</style>\n",
              "<table border=\"1\" class=\"dataframe\">\n",
              "  <thead>\n",
              "    <tr style=\"text-align: right;\">\n",
              "      <th></th>\n",
              "      <th>movie_title</th>\n",
              "      <th>rating</th>\n",
              "    </tr>\n",
              "  </thead>\n",
              "  <tbody>\n",
              "    <tr>\n",
              "      <th>0</th>\n",
              "      <td>Loser</td>\n",
              "      <td>1</td>\n",
              "    </tr>\n",
              "    <tr>\n",
              "      <th>1</th>\n",
              "      <td>All That Jazz</td>\n",
              "      <td>2</td>\n",
              "    </tr>\n",
              "    <tr>\n",
              "      <th>2</th>\n",
              "      <td>The Sting</td>\n",
              "      <td>2</td>\n",
              "    </tr>\n",
              "    <tr>\n",
              "      <th>3</th>\n",
              "      <td>Torque</td>\n",
              "      <td>3</td>\n",
              "    </tr>\n",
              "    <tr>\n",
              "      <th>4</th>\n",
              "      <td>Project X</td>\n",
              "      <td>1</td>\n",
              "    </tr>\n",
              "  </tbody>\n",
              "</table>\n",
              "</div>"
            ],
            "text/plain": [
              "     movie_title  rating\n",
              "0          Loser       1\n",
              "1  All That Jazz       2\n",
              "2      The Sting       2\n",
              "3         Torque       3\n",
              "4      Project X       1"
            ]
          },
          "metadata": {
            "tags": []
          },
          "execution_count": 24
        }
      ]
    },
    {
      "cell_type": "markdown",
      "metadata": {
        "colab_type": "text",
        "id": "_AmyMzx5dXtS"
      },
      "source": [
        "**Κατασκευάζουμε τα scores για κάθε ταινία με βάση τις προηγούμενες αξιολογήσεις του χρήστη**"
      ]
    },
    {
      "cell_type": "code",
      "metadata": {
        "colab_type": "code",
        "id": "6V4QJFUTbRZC",
        "colab": {}
      },
      "source": [
        "similarity_weights = {\"similarity_5\": 15, \"similarity_4\":7}\n",
        "rating_weight = {5: 10, 4: 5, 3: 0, 2: -5, 1: -10}\n",
        "movie_score = {m: 0 for m in  movie_score}\n",
        "for row in ratings1.itertuples(index=True, name='Pandas'):\n",
        "    movie = clean_text(getattr(row, 'movie_title'))\n",
        "    rating = getattr(row, 'rating')    \n",
        "    \n",
        "    q = prolog.query(\"find_similar_movies_5('\" + movie + \"',M)\")\n",
        "    for soln in q:\n",
        "        movie_score [soln[\"M\"]] += similarity_weights['similarity_5'] * rating_weight[rating] #το weight θα το ορίσετε ανα επίπεδο ομοιότητας οι πολύ όμοιες ταινίες θα έχουν μεγαλύτερο βάρος\n",
        "    q.close()\n",
        "    \n",
        "    q = prolog.query(\"find_similar_movies_4('\" + movie + \"',M)\")\n",
        "    for soln in q:\n",
        "        movie_score [soln[\"M\"]] += similarity_weights['similarity_4'] * rating_weight[rating] #το weight θα το ορίσετε ανα επίπεδο ομοιότητας οι πολύ όμοιες ταινίες θα έχουν μεγαλύτερο βάρος\n",
        "    q.close()\n"
      ],
      "execution_count": 0,
      "outputs": []
    },
    {
      "cell_type": "markdown",
      "metadata": {
        "colab_type": "text",
        "id": "luU3can3dm-N"
      },
      "source": [
        "**Στο σημείο αυτό κατασκευάζουμε την νέα συνάρτηση η όποια θα επιστρέφει τις προτεινόμενες ταινίες συνυπολογίζοντας τις αξιολογήσεις του χρήστη.**"
      ]
    },
    {
      "cell_type": "code",
      "metadata": {
        "colab_type": "code",
        "id": "kvL14dw3c9cF",
        "colab": {}
      },
      "source": [
        "def recommender(movie_score):\n",
        "    movies_score = {k: v for k, v in sorted(movie_score.items(), key=lambda item: item[1], reverse = True)}\n",
        "    return [m for m in movies_score][:10]"
      ],
      "execution_count": 0,
      "outputs": []
    },
    {
      "cell_type": "code",
      "metadata": {
        "colab_type": "code",
        "id": "VkHP2NVEvpqR",
        "outputId": "28d9e895-fe57-427c-ea57-9660d22fe21b",
        "colab": {
          "base_uri": "https://localhost:8080/",
          "height": 197
        }
      },
      "source": [
        "recommender(movie_score)"
      ],
      "execution_count": 57,
      "outputs": [
        {
          "output_type": "execute_result",
          "data": {
            "text/plain": [
              "[('Home', 12495),\n",
              " ('Pan', 8505),\n",
              " ('20,000 Leagues Under the Sea', 6230),\n",
              " ('Alice in Wonderland', 5670),\n",
              " ('Oz the Great and Powerful', 5670),\n",
              " ('Teenage Mutant Ninja Turtles', 5260),\n",
              " ('The Jungle Book', 5180),\n",
              " ('Goosebumps', 4830),\n",
              " ('Big Fat Liar', 4830),\n",
              " ('Conan the Barbarian', 4200)]"
            ]
          },
          "metadata": {
            "tags": []
          },
          "execution_count": 57
        }
      ]
    },
    {
      "cell_type": "markdown",
      "metadata": {
        "id": "xpW1Jr6cgGeu",
        "colab_type": "text"
      },
      "source": [
        "Σχολιάστε τα αποτελέσματά σας."
      ]
    },
    {
      "cell_type": "code",
      "metadata": {
        "id": "BUvu8MJpT-uP",
        "colab_type": "code",
        "colab": {}
      },
      "source": [
        "my_similarity_weights = {\"similarity_a\": 5, \"similarity_b\":10, \"similarity_c\":15, \"similarity_d\":20, \"similarity_e\":25}\n",
        "my_rating_weight = {5: 10, 4: 5, 3: 0, 2: -5, 1: -10}\n",
        "\n",
        "\n",
        "my_movie_score = {m: 0 for m in  my_movie_score}\n",
        "for row in ratings1.itertuples(index=True, name='Pandas'):\n",
        "    movie = clean_text(getattr(row, 'movie_title'))\n",
        "    rating = getattr(row, 'rating')    \n",
        "    \n",
        "    q = prolog.query(\"find_similar_movies_a('\" + movie + \"',M)\")\n",
        "    ans = []\n",
        "    for soln in q:\n",
        "        ans.append(soln[\"M\"])\n",
        "    ans = list(set(ans))\n",
        "    for x in ans:\n",
        "        my_movie_score [x] += my_similarity_weights['similarity_a'] * my_rating_weight[rating] #το weight θα το ορίσετε ανα επίπεδο ομοιότητας οι πολύ όμοιες ταινίες θα έχουν μεγαλύτερο βάρος\n",
        "    q.close()\n",
        "    \n",
        "    q = prolog.query(\"find_similar_movies_b('\" + movie + \"',M)\")\n",
        "    ans = []\n",
        "    for soln in q:\n",
        "        ans.append(soln[\"M\"])\n",
        "    ans = list(set(ans))\n",
        "    for x in ans:\n",
        "        my_movie_score [x] += my_similarity_weights['similarity_b'] * my_rating_weight[rating] \n",
        "    q.close()\n",
        "\n",
        "    q = prolog.query(\"find_similar_movies_c('\" + movie + \"',M)\")\n",
        "    ans = []\n",
        "    for soln in q:\n",
        "        ans.append(soln[\"M\"])\n",
        "    ans = list(set(ans))\n",
        "    for x in ans:\n",
        "        my_movie_score [x] += my_similarity_weights['similarity_c'] * my_rating_weight[rating] \n",
        "    q.close()\n",
        "\n",
        "    q = prolog.query(\"find_similar_movies_d('\" + movie + \"',M)\")\n",
        "    ans = []\n",
        "    for soln in q:\n",
        "        ans.append(soln[\"M\"])\n",
        "    ans = list(set(ans))\n",
        "    for x in ans:\n",
        "        my_movie_score [x] += my_similarity_weights['similarity_d'] * my_rating_weight[rating] \n",
        "    q.close()\n",
        "\n",
        "    q = prolog.query(\"find_similar_movies_e('\" + movie + \"',M)\")\n",
        "    ans = []\n",
        "    for soln in q:\n",
        "        ans.append(soln[\"M\"])\n",
        "    ans = list(set(ans))\n",
        "    for x in ans:\n",
        "        my_movie_score [x] += my_similarity_weights['similarity_e'] * my_rating_weight[rating] \n",
        "    q.close()"
      ],
      "execution_count": 0,
      "outputs": []
    },
    {
      "cell_type": "code",
      "metadata": {
        "id": "wjVVzWCTU2XM",
        "colab_type": "code",
        "colab": {
          "base_uri": "https://localhost:8080/",
          "height": 197
        },
        "outputId": "d6385b72-829a-452e-cb5e-90ab80cd8078"
      },
      "source": [
        "recommender(my_movie_score)"
      ],
      "execution_count": 58,
      "outputs": [
        {
          "output_type": "execute_result",
          "data": {
            "text/plain": [
              "[('G-Force', 1875),\n",
              " ('TMNT', 1875),\n",
              " ('Alpha and Omega 4: The Legend of the Saw Toothed Cave', 1875),\n",
              " ('Rango', 1800),\n",
              " ('Tangled', 1775),\n",
              " ('How to Train Your Dragon 2', 1625),\n",
              " ('Ice Age: The Meltdown', 1625),\n",
              " ('Osmosis Jones', 1625),\n",
              " ('The Lego Movie', 1625),\n",
              " ('Aladdin', 1625)]"
            ]
          },
          "metadata": {
            "tags": []
          },
          "execution_count": 58
        }
      ]
    },
    {
      "cell_type": "markdown",
      "metadata": {
        "id": "HJtLDqR-gGew",
        "colab_type": "text"
      },
      "source": [
        "\n",
        "---\n",
        "\n",
        "\n",
        "<center><h2>Κατασκευή των Δικών σας Users</h2></center>\n",
        "\n",
        "---"
      ]
    },
    {
      "cell_type": "code",
      "metadata": {
        "id": "boP-3SumgGex",
        "colab_type": "code",
        "colab": {}
      },
      "source": [
        "import csv\n",
        "import numpy as np\n",
        "\n",
        "def create_my_user(liked, notLiked, filename, num_of_liked =20, num_of_notliked = 20):\n",
        "    with open(filename, 'w', newline='') as file:\n",
        "        writer = csv.writer(file)\n",
        "        writer.writerow([\"movie_title\",\"rating\"])\n",
        "        liked = np.random.choice(liked, num_of_liked)\n",
        "        notliked = np.random.choice(notLiked, num_of_notliked)\n",
        "        for i in  liked:\n",
        "            grade = np.random.choice([5,4,3], p = [0.5, 0.4, 0.1])\n",
        "            writer.writerow([i, grade])\n",
        "        for i in notliked:\n",
        "            grade = np.random.choice([1, 2, 3], p = [0.5, 0.4, 0.1])\n",
        "            writer.writerow([i, grade])"
      ],
      "execution_count": 0,
      "outputs": []
    },
    {
      "cell_type": "code",
      "metadata": {
        "id": "hwHrJw7UgGe0",
        "colab_type": "code",
        "colab": {}
      },
      "source": [
        "# prolog.consult(\"db.pl\")\n",
        "#Κατασκευάστε τα κατηγορήματα για τις ταινίες που σας αρέσουν και για αυτές που δεν σας αρέσουν\n",
        "#Αν μια ταινία ανήκει σε μια ευρίτερη κατηγορία κατεσκευάστε την πρώτα\n",
        "prolog.assertz(\"(fantasy(X) :- genre(X, 'Sci-Fi'); genre(X, 'Fantasy'))\")\n",
        "prolog.assertz(\"(action(X) :- genre(X, 'Action'); genre(X, 'Adventure'))\")\n",
        "prolog.assertz(\"(comedy(X) :- genre(X, 'Comedy'); genre(X, 'Family'))\")\n",
        "prolog.assertz(\"(thriller(X) :- genre(X, 'Horror'))\")\n",
        "prolog.assertz(\"(vampire_shit(X):- keywords(X, 'vampire'), keywords(X, 'werewolf'))\")\n",
        "prolog.assertz(\"(mcu(X) :- keywords(X, 'marvel cinematic universe'); keywords(X, 'based on comic'); keywords(X, 'artificial intelligence'); keywords(X, 'superhero'))\")\n",
        "prolog.assertz(\"(space(X) :- keywords(X, 'space'); keywords(X, 'star trek'); keywords(X, 'spacecraft'); keywords(X, 'alien'); keywords(X, 'space station'); keywords(X, 'robot'); keywords(X, 'death star'))\")\n",
        "\n",
        "\n",
        "prolog.assertz(\"(liked(X) :- fantasy(X); director(X, 'James Cameron'); fantasy(X); action(X); comedy(X); director(X, 'George Lucas'); director(X, 'Jon Favreau') ; mcu(X); space(X))\")\n",
        "prolog.assertz(\"(notLiked(X) :- thriller(X); genre(X, Romance); vampire_shit(X))\")"
      ],
      "execution_count": 0,
      "outputs": []
    },
    {
      "cell_type": "code",
      "metadata": {
        "id": "twxiT66CgGe4",
        "colab_type": "code",
        "colab": {}
      },
      "source": [
        "q = prolog.query(\"liked(M)\")\n",
        "ans = []\n",
        "for soln in q:\n",
        "    ans.append(soln[\"M\"])\n",
        "liked = list(set(ans))[:2000]\n",
        "\n",
        "q = prolog.query(\"notLiked(M)\")\n",
        "ans = []\n",
        "for soln in q:\n",
        "    if soln['M'] not in liked:\n",
        "        ans.append(soln[\"M\"])\n",
        "notliked = list(set(ans))[:2000]\n",
        "\n",
        "create_my_user(liked, notliked, filename= \"myuser.csv\", num_of_liked = len(liked), num_of_notliked = len(notliked))"
      ],
      "execution_count": 0,
      "outputs": []
    },
    {
      "cell_type": "code",
      "metadata": {
        "id": "uizjvexVj70v",
        "colab_type": "code",
        "colab": {
          "base_uri": "https://localhost:8080/",
          "height": 204
        },
        "outputId": "6055fd37-e9fd-405b-d6e4-504ddc59c08d"
      },
      "source": [
        "me = \"/content/myuser.csv\"\n",
        "my_ratings = pd.read_csv(me) \n",
        "my_ratings.head()"
      ],
      "execution_count": 45,
      "outputs": [
        {
          "output_type": "execute_result",
          "data": {
            "text/html": [
              "<div>\n",
              "<style scoped>\n",
              "    .dataframe tbody tr th:only-of-type {\n",
              "        vertical-align: middle;\n",
              "    }\n",
              "\n",
              "    .dataframe tbody tr th {\n",
              "        vertical-align: top;\n",
              "    }\n",
              "\n",
              "    .dataframe thead th {\n",
              "        text-align: right;\n",
              "    }\n",
              "</style>\n",
              "<table border=\"1\" class=\"dataframe\">\n",
              "  <thead>\n",
              "    <tr style=\"text-align: right;\">\n",
              "      <th></th>\n",
              "      <th>movie_title</th>\n",
              "      <th>rating</th>\n",
              "    </tr>\n",
              "  </thead>\n",
              "  <tbody>\n",
              "    <tr>\n",
              "      <th>0</th>\n",
              "      <td>28 Days Later...</td>\n",
              "      <td>3</td>\n",
              "    </tr>\n",
              "    <tr>\n",
              "      <th>1</th>\n",
              "      <td>Crocodile Dundee in Los Angeles</td>\n",
              "      <td>3</td>\n",
              "    </tr>\n",
              "    <tr>\n",
              "      <th>2</th>\n",
              "      <td>Big Mommas House 2</td>\n",
              "      <td>5</td>\n",
              "    </tr>\n",
              "    <tr>\n",
              "      <th>3</th>\n",
              "      <td>Mutual Friends</td>\n",
              "      <td>5</td>\n",
              "    </tr>\n",
              "    <tr>\n",
              "      <th>4</th>\n",
              "      <td>Pretty Woman</td>\n",
              "      <td>3</td>\n",
              "    </tr>\n",
              "  </tbody>\n",
              "</table>\n",
              "</div>"
            ],
            "text/plain": [
              "                       movie_title  rating\n",
              "0                 28 Days Later...       3\n",
              "1  Crocodile Dundee in Los Angeles       3\n",
              "2               Big Mommas House 2       5\n",
              "3                   Mutual Friends       5\n",
              "4                     Pretty Woman       3"
            ]
          },
          "metadata": {
            "tags": []
          },
          "execution_count": 45
        }
      ]
    },
    {
      "cell_type": "code",
      "metadata": {
        "id": "XYV5zCS8nHWw",
        "colab_type": "code",
        "colab": {}
      },
      "source": [
        "my_new_similarity_weights = {\"similarity_a\": 5, \"similarity_b\":10, \"similarity_c\":15, \"similarity_d\":20, \"similarity_e\":25}\n",
        "my_new_rating_weight = {5: 10, 4: 5, 3: 0, 2: -5, 1: -10}\n",
        "\n",
        "\n",
        "my_new_movie_score = {m: 0 for m in  my_movie_score}\n",
        "for row in my_ratings.itertuples(index=True, name='Pandas'):\n",
        "    movie = clean_text(getattr(row, 'movie_title'))\n",
        "    rating = getattr(row, 'rating')    \n",
        "    \n",
        "    q = prolog.query(\"find_similar_movies_a('\" + movie + \"',M)\")\n",
        "    ans = []\n",
        "    for soln in q:\n",
        "        ans.append(soln[\"M\"])\n",
        "    ans = list(set(ans))\n",
        "    for x in ans:\n",
        "        my_movie_score [x] += my_new_similarity_weights['similarity_a'] * my_new_rating_weight[rating] #το weight θα το ορίσετε ανα επίπεδο ομοιότητας οι πολύ όμοιες ταινίες θα έχουν μεγαλύτερο βάρος\n",
        "    q.close()\n",
        "    \n",
        "    q = prolog.query(\"find_similar_movies_b('\" + movie + \"',M)\")\n",
        "    ans = []\n",
        "    for soln in q:\n",
        "        ans.append(soln[\"M\"])\n",
        "    ans = list(set(ans))\n",
        "    for x in ans:\n",
        "        my_movie_score [x] += my_new_similarity_weights['similarity_b'] * my_new_rating_weight[rating] \n",
        "    q.close()\n",
        "\n",
        "    q = prolog.query(\"find_similar_movies_c('\" + movie + \"',M)\")\n",
        "    ans = []\n",
        "    for soln in q:\n",
        "        ans.append(soln[\"M\"])\n",
        "    ans = list(set(ans))\n",
        "    for x in ans:\n",
        "        my_movie_score [x] += my_new_similarity_weights['similarity_c'] * my_new_rating_weight[rating] \n",
        "    q.close()\n",
        "\n",
        "    q = prolog.query(\"find_similar_movies_d('\" + movie + \"',M)\")\n",
        "    ans = []\n",
        "    for soln in q:\n",
        "        ans.append(soln[\"M\"])\n",
        "    ans = list(set(ans))\n",
        "    for x in ans:\n",
        "        my_movie_score [x] += my_new_similarity_weights['similarity_d'] * my_new_rating_weight[rating] \n",
        "    q.close()\n",
        "\n",
        "    q = prolog.query(\"find_similar_movies_e('\" + movie + \"',M)\")\n",
        "    ans = []\n",
        "    for soln in q:\n",
        "        ans.append(soln[\"M\"])\n",
        "    ans = list(set(ans))\n",
        "    for x in ans:\n",
        "        my_movie_score [x] += my_new_similarity_weights['similarity_e'] * my_new_rating_weight[rating] \n",
        "    q.close()"
      ],
      "execution_count": 0,
      "outputs": []
    },
    {
      "cell_type": "code",
      "metadata": {
        "id": "gkheZcHmscyD",
        "colab_type": "code",
        "colab": {
          "base_uri": "https://localhost:8080/",
          "height": 197
        },
        "outputId": "7504f701-ddc7-49c8-c125-2fd4e598c537"
      },
      "source": [
        "recommender(my_new_movie_score)"
      ],
      "execution_count": 67,
      "outputs": [
        {
          "output_type": "execute_result",
          "data": {
            "text/plain": [
              "['Avatar',\n",
              " 'Pirates of the Caribbean: At Worlds End',\n",
              " 'Spectre',\n",
              " 'The Dark Knight Rises',\n",
              " 'Star Wars: Episode VII - The Force Awakens            ',\n",
              " 'John Carter',\n",
              " 'Spider-Man 3',\n",
              " 'Tangled',\n",
              " 'Avengers: Age of Ultron',\n",
              " 'Harry Potter and the Half-Blood Prince']"
            ]
          },
          "metadata": {
            "tags": []
          },
          "execution_count": 67
        }
      ]
    },
    {
      "cell_type": "code",
      "metadata": {
        "id": "uc9gU_pBuEQk",
        "colab_type": "code",
        "colab": {}
      },
      "source": [
        ""
      ],
      "execution_count": 0,
      "outputs": []
    }
  ]
}