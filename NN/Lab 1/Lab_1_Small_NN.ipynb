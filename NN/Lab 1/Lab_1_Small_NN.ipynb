{
  "nbformat": 4,
  "nbformat_minor": 0,
  "metadata": {
    "colab": {
      "name": "Lab 1 Small - NN.ipynb",
      "provenance": [],
      "collapsed_sections": [],
      "include_colab_link": true
    },
    "kernelspec": {
      "name": "python3",
      "display_name": "Python 3"
    }
  },
  "cells": [
    {
      "cell_type": "markdown",
      "metadata": {
        "id": "view-in-github",
        "colab_type": "text"
      },
      "source": [
        "<a href=\"https://colab.research.google.com/github/georgeaidinis/NTUA/blob/master/NN/Lab%201/Lab_1_Small_NN.ipynb\" target=\"_parent\"><img src=\"https://colab.research.google.com/assets/colab-badge.svg\" alt=\"Open In Colab\"/></a>"
      ]
    },
    {
      "cell_type": "markdown",
      "metadata": {
        "id": "TKqs0XolswuQ",
        "colab_type": "text"
      },
      "source": [
        "Αϊδίνης Γιώργος 03116031\n",
        "\n",
        "Κολιός Παναγιώτης 03116100\n",
        "\n",
        "---\n",
        "\n",
        "Ομάδα M.B.8\n",
        "\n",
        "---\n",
        "\n",
        "\n",
        "#Lab 1: Επιβλεπόμενη Μάθηση - Ταξινόμηση - Μικρό Dataset (S11 - Quality Assessment of Digital Colposcopies)"
      ]
    },
    {
      "cell_type": "markdown",
      "metadata": {
        "id": "ypUIaKPuxyCI",
        "colab_type": "text"
      },
      "source": [
        "Αρχικά ενημερώνουμε τις βιβλιοθήκες που θα χρησιμοποιήσουμε.\n",
        "\n"
      ]
    },
    {
      "cell_type": "code",
      "metadata": {
        "id": "5ZTpGgaqwT3G",
        "colab_type": "code",
        "colab": {
          "base_uri": "https://localhost:8080/",
          "height": 341
        },
        "outputId": "a8e585c9-9481-4f8e-8702-aa6a2cb15e60"
      },
      "source": [
        "!pip install --upgrade pip #upgrade pip package installer\n",
        "!pip install scikit-learn --upgrade #upgrade scikit-learn package\n",
        "!pip install numpy --upgrade #upgrade numpy package\n",
        "!pip install pandas --upgrade #--upgrade #upgrade pandas package"
      ],
      "execution_count": 1,
      "outputs": [
        {
          "output_type": "stream",
          "text": [
            "Requirement already up-to-date: pip in /usr/local/lib/python3.6/dist-packages (19.3.1)\n",
            "Collecting scikit-learn\n",
            "\u001b[?25l  Downloading https://files.pythonhosted.org/packages/2e/d0/860c4f6a7027e00acff373d9f5327f4ae3ed5872234b3cbdd7bcb52e5eff/scikit_learn-0.22-cp36-cp36m-manylinux1_x86_64.whl (7.0MB)\n",
            "\u001b[K     |████████████████████████████████| 7.0MB 3.0MB/s \n",
            "\u001b[?25hRequirement already satisfied, skipping upgrade: numpy>=1.11.0 in /usr/local/lib/python3.6/dist-packages (from scikit-learn) (1.17.4)\n",
            "Requirement already satisfied, skipping upgrade: scipy>=0.17.0 in /usr/local/lib/python3.6/dist-packages (from scikit-learn) (1.3.3)\n",
            "Requirement already satisfied, skipping upgrade: joblib>=0.11 in /usr/local/lib/python3.6/dist-packages (from scikit-learn) (0.14.1)\n",
            "Installing collected packages: scikit-learn\n",
            "  Found existing installation: scikit-learn 0.21.3\n",
            "    Uninstalling scikit-learn-0.21.3:\n",
            "      Successfully uninstalled scikit-learn-0.21.3\n",
            "Successfully installed scikit-learn-0.22\n",
            "Requirement already up-to-date: numpy in /usr/local/lib/python3.6/dist-packages (1.17.4)\n",
            "Requirement already up-to-date: pandas in /usr/local/lib/python3.6/dist-packages (0.25.3)\n",
            "Requirement already satisfied, skipping upgrade: numpy>=1.13.3 in /usr/local/lib/python3.6/dist-packages (from pandas) (1.17.4)\n",
            "Requirement already satisfied, skipping upgrade: python-dateutil>=2.6.1 in /usr/local/lib/python3.6/dist-packages (from pandas) (2.6.1)\n",
            "Requirement already satisfied, skipping upgrade: pytz>=2017.2 in /usr/local/lib/python3.6/dist-packages (from pandas) (2018.9)\n",
            "Requirement already satisfied, skipping upgrade: six>=1.5 in /usr/local/lib/python3.6/dist-packages (from python-dateutil>=2.6.1->pandas) (1.12.0)\n"
          ],
          "name": "stdout"
        }
      ]
    },
    {
      "cell_type": "code",
      "metadata": {
        "id": "NPGXEYNcqtmv",
        "colab_type": "code",
        "colab": {}
      },
      "source": [
        "from urllib.request import urlretrieve\n",
        "import os\n",
        "import zipfile\n",
        "\n",
        "def download(url, file):\n",
        "    if not os.path.isfile(file):\n",
        "        print(\"Download file... \" + file + \" ...\")\n",
        "        urlretrieve(url,file)\n",
        "        print(\"File downloaded\")\n"
      ],
      "execution_count": 0,
      "outputs": []
    },
    {
      "cell_type": "code",
      "metadata": {
        "id": "wL_pZToQuTs4",
        "colab_type": "code",
        "colab": {
          "base_uri": "https://localhost:8080/",
          "height": 71
        },
        "outputId": "a5e239e1-1325-4797-f97f-d20858d46ac9"
      },
      "source": [
        "download(\"http://archive.ics.uci.edu/ml/machine-learning-databases/00384/Quality%20Assessment%20-%20Digital%20Colposcopy.zip\",\"QADC.zip\")\n",
        "print(\"All the files are downloaded\")"
      ],
      "execution_count": 3,
      "outputs": [
        {
          "output_type": "stream",
          "text": [
            "Download file... QADC.zip ...\n",
            "File downloaded\n",
            "All the files are downloaded\n"
          ],
          "name": "stdout"
        }
      ]
    },
    {
      "cell_type": "code",
      "metadata": {
        "id": "e1fY1PPQ7L9d",
        "colab_type": "code",
        "colab": {
          "base_uri": "https://localhost:8080/",
          "height": 35
        },
        "outputId": "ca302e03-7904-499a-f2e7-2594aa2d80ae"
      },
      "source": [
        "!ls"
      ],
      "execution_count": 4,
      "outputs": [
        {
          "output_type": "stream",
          "text": [
            "QADC.zip  sample_data\n"
          ],
          "name": "stdout"
        }
      ]
    },
    {
      "cell_type": "code",
      "metadata": {
        "id": "TFe5qqIq6jSZ",
        "colab_type": "code",
        "colab": {}
      },
      "source": [
        "!unzip -q \"QADC.zip\""
      ],
      "execution_count": 0,
      "outputs": []
    },
    {
      "cell_type": "code",
      "metadata": {
        "id": "4AZDcWwK7IKb",
        "colab_type": "code",
        "colab": {
          "base_uri": "https://localhost:8080/",
          "height": 35
        },
        "outputId": "92fc25a3-a2d0-4484-8493-7d2b4b088de1"
      },
      "source": [
        "!ls"
      ],
      "execution_count": 6,
      "outputs": [
        {
          "output_type": "stream",
          "text": [
            " QADC.zip  'Quality Assessment - Digital Colposcopy'   sample_data\n"
          ],
          "name": "stdout"
        }
      ]
    },
    {
      "cell_type": "markdown",
      "metadata": {
        "id": "LDKrxf0wzLvH",
        "colab_type": "text"
      },
      "source": [
        "Rename directory for better handling\n",
        "\n"
      ]
    },
    {
      "cell_type": "code",
      "metadata": {
        "id": "Oxlh8yEDy47d",
        "colab_type": "code",
        "colab": {}
      },
      "source": [
        "!mv Quality\\ Assessment\\ -\\ Digital\\ Colposcopy QADC"
      ],
      "execution_count": 0,
      "outputs": []
    },
    {
      "cell_type": "markdown",
      "metadata": {
        "id": "3PDIZ5HBzx9i",
        "colab_type": "text"
      },
      "source": [
        "Remove attributes line for the 2nd and 3rd files:"
      ]
    },
    {
      "cell_type": "code",
      "metadata": {
        "id": "bhtKAnFCyl0j",
        "colab_type": "code",
        "colab": {}
      },
      "source": [
        "with open(\"QADC/hinselmann.csv\",'r') as f:\n",
        "    with open(\"QADC/hinselmann1.csv\",'w') as f1:\n",
        "        next(f) # skip header line\n",
        "        for line in f:\n",
        "            f1.write(line)"
      ],
      "execution_count": 0,
      "outputs": []
    },
    {
      "cell_type": "code",
      "metadata": {
        "id": "mcY__jBiymmT",
        "colab_type": "code",
        "colab": {}
      },
      "source": [
        "with open(\"QADC/schiller.csv\",'r') as f:\n",
        "    with open(\"QADC/schiller1.csv\",'w') as f1:\n",
        "        next(f) # skip header line\n",
        "        for line in f:\n",
        "            f1.write(line)"
      ],
      "execution_count": 0,
      "outputs": []
    },
    {
      "cell_type": "markdown",
      "metadata": {
        "id": "4hTiHGpp0JR2",
        "colab_type": "text"
      },
      "source": [
        "create one big .csv"
      ]
    },
    {
      "cell_type": "code",
      "metadata": {
        "id": "-VimXlyS7fGn",
        "colab_type": "code",
        "colab": {}
      },
      "source": [
        "!cat QADC/green.csv QADC/hinselmann1.csv QADC/schiller1.csv > all.csv"
      ],
      "execution_count": 0,
      "outputs": []
    },
    {
      "cell_type": "markdown",
      "metadata": {
        "id": "I0110eLi0kT7",
        "colab_type": "text"
      },
      "source": [
        "Let's print number and types of attributes"
      ]
    },
    {
      "cell_type": "code",
      "metadata": {
        "id": "eZ1Qrlcl0h_t",
        "colab_type": "code",
        "colab": {
          "base_uri": "https://localhost:8080/",
          "height": 1000
        },
        "outputId": "118694b1-13aa-4a43-d03b-a95041ecbd7b"
      },
      "source": [
        "import pandas as pd\n",
        "import numpy as np\n",
        "\n",
        "df = pd.read_csv(\"all.csv\")\n",
        "print (len(df.columns))\n",
        "for i in range(0, len(df.columns)):\n",
        "    print(i+1, \": \\t\", df.columns[i], \"type: \", df.dtypes[df.columns[i]])"
      ],
      "execution_count": 32,
      "outputs": [
        {
          "output_type": "stream",
          "text": [
            "69\n",
            "1 : \t cervix_area type:  float64\n",
            "2 : \t os_area type:  float64\n",
            "3 : \t walls_area type:  float64\n",
            "4 : \t speculum_area type:  float64\n",
            "5 : \t artifacts_area type:  float64\n",
            "6 : \t cervix_artifacts_area type:  float64\n",
            "7 : \t os_artifacts_area type:  float64\n",
            "8 : \t walls_artifacts_area type:  float64\n",
            "9 : \t speculum_artifacts_area type:  float64\n",
            "10 : \t cervix_specularities_area type:  float64\n",
            "11 : \t os_specularities_area type:  float64\n",
            "12 : \t walls_specularities_area type:  float64\n",
            "13 : \t speculum_specularities_area type:  float64\n",
            "14 : \t specularities_area type:  float64\n",
            "15 : \t area_h_max_diff type:  float64\n",
            "16 : \t rgb_cervix_r_mean type:  float64\n",
            "17 : \t rgb_cervix_r_std type:  float64\n",
            "18 : \t rgb_cervix_r_mean_minus_std type:  float64\n",
            "19 : \t rgb_cervix_r_mean_plus_std type:  float64\n",
            "20 : \t rgb_cervix_g_mean type:  float64\n",
            "21 : \t rgb_cervix_g_std type:  float64\n",
            "22 : \t rgb_cervix_g_mean_minus_std type:  float64\n",
            "23 : \t rgb_cervix_g_mean_plus_std type:  float64\n",
            "24 : \t rgb_cervix_b_mean type:  float64\n",
            "25 : \t rgb_cervix_b_std type:  float64\n",
            "26 : \t rgb_cervix_b_mean_minus_std type:  float64\n",
            "27 : \t rgb_cervix_b_mean_plus_std type:  float64\n",
            "28 : \t rgb_total_r_mean type:  float64\n",
            "29 : \t rgb_total_r_std type:  float64\n",
            "30 : \t rgb_total_r_mean_minus_std type:  float64\n",
            "31 : \t rgb_total_r_mean_plus_std type:  float64\n",
            "32 : \t rgb_total_g_mean type:  float64\n",
            "33 : \t rgb_total_g_std type:  float64\n",
            "34 : \t rgb_total_g_mean_minus_std type:  float64\n",
            "35 : \t rgb_total_g_mean_plus_std type:  float64\n",
            "36 : \t rgb_total_b_mean type:  float64\n",
            "37 : \t rgb_total_b_std type:  float64\n",
            "38 : \t rgb_total_b_mean_minus_std type:  float64\n",
            "39 : \t rgb_total_b_mean_plus_std type:  float64\n",
            "40 : \t hsv_cervix_h_mean type:  float64\n",
            "41 : \t hsv_cervix_h_std type:  float64\n",
            "42 : \t hsv_cervix_s_mean type:  float64\n",
            "43 : \t hsv_cervix_s_std type:  float64\n",
            "44 : \t hsv_cervix_v_mean type:  float64\n",
            "45 : \t hsv_cervix_v_std type:  float64\n",
            "46 : \t hsv_total_h_mean type:  float64\n",
            "47 : \t hsv_total_h_std type:  float64\n",
            "48 : \t hsv_total_s_mean type:  float64\n",
            "49 : \t hsv_total_s_std type:  float64\n",
            "50 : \t hsv_total_v_mean type:  float64\n",
            "51 : \t hsv_total_v_std type:  float64\n",
            "52 : \t fit_cervix_hull_rate type:  float64\n",
            "53 : \t fit_cervix_hull_total type:  float64\n",
            "54 : \t fit_cervix_bbox_rate type:  float64\n",
            "55 : \t fit_cervix_bbox_total type:  float64\n",
            "56 : \t fit_circle_rate type:  float64\n",
            "57 : \t fit_circle_total type:  float64\n",
            "58 : \t fit_ellipse_rate type:  float64\n",
            "59 : \t fit_ellipse_total type:  float64\n",
            "60 : \t fit_ellipse_goodness type:  float64\n",
            "61 : \t dist_to_center_cervix type:  float64\n",
            "62 : \t dist_to_center_os type:  float64\n",
            "63 : \t experts::0 type:  float64\n",
            "64 : \t experts::1 type:  float64\n",
            "65 : \t experts::2 type:  float64\n",
            "66 : \t experts::3 type:  float64\n",
            "67 : \t experts::4 type:  float64\n",
            "68 : \t experts::5 type:  float64\n",
            "69 : \t consensus type:  float64\n"
          ],
          "name": "stdout"
        }
      ]
    },
    {
      "cell_type": "code",
      "metadata": {
        "id": "bGZm4jNv5MyX",
        "colab_type": "code",
        "colab": {
          "base_uri": "https://localhost:8080/",
          "height": 35
        },
        "outputId": "85b2f3ec-f54e-4ca2-86aa-aa715fc4d5a7"
      },
      "source": [
        ""
      ],
      "execution_count": 28,
      "outputs": [
        {
          "output_type": "stream",
          "text": [
            "<class 'pandas.core.series.Series'>\n"
          ],
          "name": "stdout"
        }
      ]
    },
    {
      "cell_type": "markdown",
      "metadata": {
        "id": "Gc2zfFzd0pQb",
        "colab_type": "text"
      },
      "source": [
        "Let's print the names of the attributes"
      ]
    },
    {
      "cell_type": "code",
      "metadata": {
        "id": "ZPaifHwF0469",
        "colab_type": "code",
        "colab": {}
      },
      "source": [
        ""
      ],
      "execution_count": 0,
      "outputs": []
    },
    {
      "cell_type": "markdown",
      "metadata": {
        "id": "UPLZO8N605LP",
        "colab_type": "text"
      },
      "source": [
        "We needed to concatenate the 3 .csv files && remove the category names from the second and third files gia na min exoume asxeta instances\n"
      ]
    }
  ]
}