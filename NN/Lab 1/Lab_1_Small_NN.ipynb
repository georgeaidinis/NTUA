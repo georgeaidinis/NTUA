{
  "nbformat": 4,
  "nbformat_minor": 0,
  "metadata": {
    "colab": {
      "name": "Lab 1 Small - NN.ipynb",
      "provenance": [],
      "collapsed_sections": [],
      "include_colab_link": true
    },
    "kernelspec": {
      "name": "python3",
      "display_name": "Python 3"
    },
    "accelerator": "GPU"
  },
  "cells": [
    {
      "cell_type": "markdown",
      "metadata": {
        "id": "view-in-github",
        "colab_type": "text"
      },
      "source": [
        "<a href=\"https://colab.research.google.com/github/georgeaidinis/NTUA/blob/master/NN/Lab%201/Lab_1_Small_NN.ipynb\" target=\"_parent\"><img src=\"https://colab.research.google.com/assets/colab-badge.svg\" alt=\"Open In Colab\"/></a>"
      ]
    },
    {
      "cell_type": "markdown",
      "metadata": {
        "id": "TKqs0XolswuQ",
        "colab_type": "text"
      },
      "source": [
        "Αϊδίνης Γιώργος 03116031\n",
        "\n",
        "Κολιός Παναγιώτης 03116100\n",
        "\n",
        "---\n",
        "\n",
        "Ομάδα M.B.8\n",
        "\n",
        "---\n",
        "\n",
        "\n",
        "#Lab 1: Επιβλεπόμενη Μάθηση - Ταξινόμηση - Μικρό Dataset (S11 - Quality Assessment of Digital Colposcopies)"
      ]
    },
    {
      "cell_type": "markdown",
      "metadata": {
        "id": "ypUIaKPuxyCI",
        "colab_type": "text"
      },
      "source": [
        "Αρχικά ενημερώνουμε τις βιβλιοθήκες που θα χρησιμοποιήσουμε.\n",
        "\n"
      ]
    },
    {
      "cell_type": "code",
      "metadata": {
        "id": "5ZTpGgaqwT3G",
        "colab_type": "code",
        "colab": {}
      },
      "source": [
        "!pip install --upgrade pip #upgrade pip package installer\n",
        "!pip install scikit-learn --upgrade #upgrade scikit-learn package\n",
        "!pip install numpy --upgrade #upgrade numpy package\n",
        "!pip install pandas --upgrade #--upgrade #upgrade pandas package"
      ],
      "execution_count": 0,
      "outputs": []
    },
    {
      "cell_type": "markdown",
      "metadata": {
        "id": "_deFZG7YvKWh",
        "colab_type": "text"
      },
      "source": [
        "\n",
        "\n",
        "1.   Το dataset περιγράφει μετρήσεις κολποσκοπήσεων και την κατάσταση (ετικέτα) των αντίστοιχων κόλπων, όπως προκύπτει από τις εκτιμήσεις καθενός από 6 ειδικούς και την εκτίμηση της πλειοψηφίας. Οι μετρήσεις και οι εκτιμήσεις είναι διαφορετικές για τις διαφορετικές μεθόδους με τις οποίες πραγματοποιούνται οι κολποσκοπήσεις: Hinselmann, Green, Schiller.\n",
        "\n",
        "\n",
        "\n",
        "2.    Έχουμε συνολικά 287 δείγματα, 92 από τη μέθοδο Schiller, 98 από τη μέθοδο Green και 97 από τη μέθοδο Hinselmann. Σε κάθε δείγμα περιέχονται μετρήσεις για 62 χαρακτηριστικά-παρατηρήσεις από τα οποία προέκυψαν οι εκτιμήσεις. Όλα τα χαρακτηριστικά είναι διατεταγμένα.Οι μετρήσεις είναι αριθμητικά δεδομένα και αφορούν τιμές όπως τις επιφάνειες περιοχών του κόπλου.\n",
        "\n",
        "3.    Υπάρχουν επικεφαλίδες στην πρώτη γραμμή πάνω από τα χαρακτηριστικά και τις ετικέτες, οι οποίες θα πρέπει να αφαιρεθούν. Δεν υπάρχει στήλη για την αρίθμηση των γραμμών.\n",
        "\n",
        "4.    Η τιμή της κατάστασης μπορεί να πάρει δύο τιμές, 0 για κακή και 1 για καλή. Όπως υποδεικνύεται από τις FAQ το πρόβλημα θα αναλυθεί ως binary classification λαμβάνοντας υπόψην μόνο τις εκτιμήσεις της πλειοψηφίας. Έτσι οι στήλες των ετικετών που αφορούν μεμονωμένα τον κάθε ειδικό αφαιρούνται και μένει μόνο η τελευταία στήλη με τις εκτιμήσεις της πλειοψηφίας. Η στήλη αυτή είναι η τελευταία (θέση 69 στον αρχικό πίνακα). Παρατηρούμε οτι όλες οι ισοψηφίες (3-3) επιλύονται θεωρώντας την κατάσταση ως καλή, γεγονός που ίσως μας αναγκάσει να αυξήσουμε αργότερα το πλήθος των δειγμάτων με ετικέτα 0 ή να διαγράψουμε δείγματα με ετικέτα 1.\n",
        "\n",
        "    \n",
        "5.    Συνενώνουμε τα αρχεία που αφορούν τις 3 διαφορετικές μεθόδους. Μετά τη συνένωση οι επικεφαλίδες προστέθηκαν ως γραμμές, με αποτέλεσμα να έχουμε 3 φορές την ίδια γραμμή με τις επικεφαλίδες, τις οποίες και αφαιρούμε.\n",
        "\n",
        "6.    Δεν υπάρχουν απουσιάζουσες τιμές.\n",
        "\n"
      ]
    },
    {
      "cell_type": "code",
      "metadata": {
        "id": "NPGXEYNcqtmv",
        "colab_type": "code",
        "colab": {}
      },
      "source": [
        "from urllib.request import urlretrieve\n",
        "import os\n",
        "import zipfile\n",
        "\n",
        "def download(url, file):\n",
        "    if not os.path.isfile(file):\n",
        "        print(\"Download file... \" + file + \" ...\")\n",
        "        urlretrieve(url,file)\n",
        "        print(\"File downloaded\")\n"
      ],
      "execution_count": 0,
      "outputs": []
    },
    {
      "cell_type": "code",
      "metadata": {
        "id": "wL_pZToQuTs4",
        "colab_type": "code",
        "outputId": "8ea22cf4-5f60-4cc5-9b6b-5bcb5eb1d34c",
        "colab": {
          "base_uri": "https://localhost:8080/",
          "height": 69
        }
      },
      "source": [
        "download(\"http://archive.ics.uci.edu/ml/machine-learning-databases/00384/Quality%20Assessment%20-%20Digital%20Colposcopy.zip\",\"QADC.zip\")\n",
        "print(\"All the files are downloaded\")"
      ],
      "execution_count": 3,
      "outputs": [
        {
          "output_type": "stream",
          "text": [
            "Download file... QADC.zip ...\n",
            "File downloaded\n",
            "All the files are downloaded\n"
          ],
          "name": "stdout"
        }
      ]
    },
    {
      "cell_type": "code",
      "metadata": {
        "id": "e1fY1PPQ7L9d",
        "colab_type": "code",
        "outputId": "9e2b63e5-6e2e-493b-c165-b0a1e1454caa",
        "colab": {
          "base_uri": "https://localhost:8080/",
          "height": 34
        }
      },
      "source": [
        "!ls"
      ],
      "execution_count": 4,
      "outputs": [
        {
          "output_type": "stream",
          "text": [
            "QADC.zip  sample_data\n"
          ],
          "name": "stdout"
        }
      ]
    },
    {
      "cell_type": "code",
      "metadata": {
        "id": "TFe5qqIq6jSZ",
        "colab_type": "code",
        "colab": {}
      },
      "source": [
        "!unzip -q \"QADC.zip\""
      ],
      "execution_count": 0,
      "outputs": []
    },
    {
      "cell_type": "code",
      "metadata": {
        "id": "4AZDcWwK7IKb",
        "colab_type": "code",
        "outputId": "e5aff3fc-3483-47db-a625-4f280b6b9734",
        "colab": {
          "base_uri": "https://localhost:8080/",
          "height": 34
        }
      },
      "source": [
        "!ls"
      ],
      "execution_count": 6,
      "outputs": [
        {
          "output_type": "stream",
          "text": [
            " QADC.zip  'Quality Assessment - Digital Colposcopy'   sample_data\n"
          ],
          "name": "stdout"
        }
      ]
    },
    {
      "cell_type": "markdown",
      "metadata": {
        "id": "LDKrxf0wzLvH",
        "colab_type": "text"
      },
      "source": [
        "Rename directory for better handling\n",
        "\n"
      ]
    },
    {
      "cell_type": "code",
      "metadata": {
        "id": "Oxlh8yEDy47d",
        "colab_type": "code",
        "colab": {}
      },
      "source": [
        "!mv Quality\\ Assessment\\ -\\ Digital\\ Colposcopy QADC"
      ],
      "execution_count": 0,
      "outputs": []
    },
    {
      "cell_type": "markdown",
      "metadata": {
        "id": "3PDIZ5HBzx9i",
        "colab_type": "text"
      },
      "source": [
        "Remove attributes line for the 2nd and 3rd files:"
      ]
    },
    {
      "cell_type": "code",
      "metadata": {
        "id": "bhtKAnFCyl0j",
        "colab_type": "code",
        "colab": {}
      },
      "source": [
        "with open(\"QADC/hinselmann.csv\",'r') as f:\n",
        "    with open(\"QADC/hinselmann1.csv\",'w') as f1:\n",
        "        next(f) # skip header line\n",
        "        for line in f:\n",
        "            f1.write(line)"
      ],
      "execution_count": 0,
      "outputs": []
    },
    {
      "cell_type": "code",
      "metadata": {
        "id": "mcY__jBiymmT",
        "colab_type": "code",
        "colab": {}
      },
      "source": [
        "with open(\"QADC/schiller.csv\",'r') as f:\n",
        "    with open(\"QADC/schiller1.csv\",'w') as f1:\n",
        "        next(f) # skip header line\n",
        "        for line in f:\n",
        "            f1.write(line)"
      ],
      "execution_count": 0,
      "outputs": []
    },
    {
      "cell_type": "markdown",
      "metadata": {
        "id": "4hTiHGpp0JR2",
        "colab_type": "text"
      },
      "source": [
        "create one big .csv"
      ]
    },
    {
      "cell_type": "code",
      "metadata": {
        "id": "-VimXlyS7fGn",
        "colab_type": "code",
        "colab": {}
      },
      "source": [
        "!cat QADC/green.csv QADC/hinselmann1.csv QADC/schiller1.csv > all.csv"
      ],
      "execution_count": 0,
      "outputs": []
    },
    {
      "cell_type": "markdown",
      "metadata": {
        "id": "UPLZO8N605LP",
        "colab_type": "text"
      },
      "source": [
        "We needed to concatenate the 3 .csv files && remove the category names from the second and third files gia na min exoume asxeta instances\n",
        "We also need to remove the attribute of the experts, apart from the concensus"
      ]
    },
    {
      "cell_type": "code",
      "metadata": {
        "id": "wVGBnlk67zwC",
        "colab_type": "code",
        "colab": {}
      },
      "source": [
        "import pandas as pd\n",
        "import numpy as np\n",
        "\n",
        "df = pd.read_csv(\"all.csv\")\n",
        "df = df.drop(df.columns[[62, 63, 64, 65, 66, 67]], axis=1)"
      ],
      "execution_count": 0,
      "outputs": []
    },
    {
      "cell_type": "markdown",
      "metadata": {
        "id": "I0110eLi0kT7",
        "colab_type": "text"
      },
      "source": [
        "Let's print number, names and types of attributes"
      ]
    },
    {
      "cell_type": "code",
      "metadata": {
        "id": "eZ1Qrlcl0h_t",
        "colab_type": "code",
        "outputId": "a4b52611-6d62-47aa-830b-354ed3a46c19",
        "colab": {
          "base_uri": "https://localhost:8080/",
          "height": 1000
        }
      },
      "source": [
        "print (\"We have \",len(df.columns), \" attributes.\")\n",
        "for i in range(0, len(df.columns)):\n",
        "    print('{:<10}{:<40}{:<10}{:<20}'.format(str(i+1), str(df.columns[i]),\"type: \", str(df.dtypes[df.columns[i]])))\n"
      ],
      "execution_count": 23,
      "outputs": [
        {
          "output_type": "stream",
          "text": [
            "We have  63  attributes.\n",
            "1         cervix_area                             type:     float64             \n",
            "2         os_area                                 type:     float64             \n",
            "3         walls_area                              type:     float64             \n",
            "4         speculum_area                           type:     float64             \n",
            "5         artifacts_area                          type:     float64             \n",
            "6         cervix_artifacts_area                   type:     float64             \n",
            "7         os_artifacts_area                       type:     float64             \n",
            "8         walls_artifacts_area                    type:     float64             \n",
            "9         speculum_artifacts_area                 type:     float64             \n",
            "10        cervix_specularities_area               type:     float64             \n",
            "11        os_specularities_area                   type:     float64             \n",
            "12        walls_specularities_area                type:     float64             \n",
            "13        speculum_specularities_area             type:     float64             \n",
            "14        specularities_area                      type:     float64             \n",
            "15        area_h_max_diff                         type:     float64             \n",
            "16        rgb_cervix_r_mean                       type:     float64             \n",
            "17        rgb_cervix_r_std                        type:     float64             \n",
            "18        rgb_cervix_r_mean_minus_std             type:     float64             \n",
            "19        rgb_cervix_r_mean_plus_std              type:     float64             \n",
            "20        rgb_cervix_g_mean                       type:     float64             \n",
            "21        rgb_cervix_g_std                        type:     float64             \n",
            "22        rgb_cervix_g_mean_minus_std             type:     float64             \n",
            "23        rgb_cervix_g_mean_plus_std              type:     float64             \n",
            "24        rgb_cervix_b_mean                       type:     float64             \n",
            "25        rgb_cervix_b_std                        type:     float64             \n",
            "26        rgb_cervix_b_mean_minus_std             type:     float64             \n",
            "27        rgb_cervix_b_mean_plus_std              type:     float64             \n",
            "28        rgb_total_r_mean                        type:     float64             \n",
            "29        rgb_total_r_std                         type:     float64             \n",
            "30        rgb_total_r_mean_minus_std              type:     float64             \n",
            "31        rgb_total_r_mean_plus_std               type:     float64             \n",
            "32        rgb_total_g_mean                        type:     float64             \n",
            "33        rgb_total_g_std                         type:     float64             \n",
            "34        rgb_total_g_mean_minus_std              type:     float64             \n",
            "35        rgb_total_g_mean_plus_std               type:     float64             \n",
            "36        rgb_total_b_mean                        type:     float64             \n",
            "37        rgb_total_b_std                         type:     float64             \n",
            "38        rgb_total_b_mean_minus_std              type:     float64             \n",
            "39        rgb_total_b_mean_plus_std               type:     float64             \n",
            "40        hsv_cervix_h_mean                       type:     float64             \n",
            "41        hsv_cervix_h_std                        type:     float64             \n",
            "42        hsv_cervix_s_mean                       type:     float64             \n",
            "43        hsv_cervix_s_std                        type:     float64             \n",
            "44        hsv_cervix_v_mean                       type:     float64             \n",
            "45        hsv_cervix_v_std                        type:     float64             \n",
            "46        hsv_total_h_mean                        type:     float64             \n",
            "47        hsv_total_h_std                         type:     float64             \n",
            "48        hsv_total_s_mean                        type:     float64             \n",
            "49        hsv_total_s_std                         type:     float64             \n",
            "50        hsv_total_v_mean                        type:     float64             \n",
            "51        hsv_total_v_std                         type:     float64             \n",
            "52        fit_cervix_hull_rate                    type:     float64             \n",
            "53        fit_cervix_hull_total                   type:     float64             \n",
            "54        fit_cervix_bbox_rate                    type:     float64             \n",
            "55        fit_cervix_bbox_total                   type:     float64             \n",
            "56        fit_circle_rate                         type:     float64             \n",
            "57        fit_circle_total                        type:     float64             \n",
            "58        fit_ellipse_rate                        type:     float64             \n",
            "59        fit_ellipse_total                       type:     float64             \n",
            "60        fit_ellipse_goodness                    type:     float64             \n",
            "61        dist_to_center_cervix                   type:     float64             \n",
            "62        dist_to_center_os                       type:     float64             \n",
            "63        consensus                               type:     float64             \n"
          ],
          "name": "stdout"
        }
      ]
    },
    {
      "cell_type": "markdown",
      "metadata": {
        "id": "WFW2ZAJs6pIz",
        "colab_type": "text"
      },
      "source": [
        "We need to count the occurences of each label (healthy or unhealthy):"
      ]
    },
    {
      "cell_type": "code",
      "metadata": {
        "id": "2757HtVM6vna",
        "colab_type": "code",
        "outputId": "22eeba76-b9d6-4a28-b068-ff806cf5bcd9",
        "colab": {
          "base_uri": "https://localhost:8080/",
          "height": 34
        }
      },
      "source": [
        "labels_df = df.iloc[:, [62]]\n",
        "labels = labels_df.values.reshape(287,)\n",
        "positive = 0\n",
        "negative = 0\n",
        "for i in range(0, len(labels)):\n",
        "    positive += labels[i]==1\n",
        "    negative += labels[i]==0\n",
        "print(\"positive = \", positive, \" negative: \", negative)"
      ],
      "execution_count": 13,
      "outputs": [
        {
          "output_type": "stream",
          "text": [
            "positive =  216  negative:  71\n"
          ],
          "name": "stdout"
        }
      ]
    },
    {
      "cell_type": "markdown",
      "metadata": {
        "id": "Pe8KtmADxNwS",
        "colab_type": "text"
      },
      "source": [
        "Βλεπουμε οτι εχουμε unbalanced data set, καθως η κλαση των positive(υγειων) ειναι κατα πολυ μεγαλυτερη σε μεγεθος απο την κλαση των negative. (75-25)"
      ]
    },
    {
      "cell_type": "markdown",
      "metadata": {
        "id": "I2l2kgIc_qXj",
        "colab_type": "text"
      },
      "source": [
        "Train - Test split"
      ]
    },
    {
      "cell_type": "code",
      "metadata": {
        "id": "WBRy3W1k8o82",
        "colab_type": "code",
        "colab": {
          "base_uri": "https://localhost:8080/",
          "height": 34
        },
        "outputId": "f7b8a1b9-2112-456e-d540-e3258d1f00a9"
      },
      "source": [
        "from sklearn.model_selection import train_test_split\n",
        "\n",
        "\n",
        "train, test, train_labels, test_labels = train_test_split(df, labels, test_size=0.2)\n",
        "print(len(train))\n"
      ],
      "execution_count": 125,
      "outputs": [
        {
          "output_type": "stream",
          "text": [
            "229\n"
          ],
          "name": "stdout"
        }
      ]
    },
    {
      "cell_type": "code",
      "metadata": {
        "id": "mCzWdW8gFcSO",
        "colab_type": "code",
        "colab": {
          "base_uri": "https://localhost:8080/",
          "height": 69
        },
        "outputId": "4512b5b8-44b7-4158-92d7-616e1911c9b0"
      },
      "source": [
        "from scipy import stats as st\n",
        "\n",
        "\n",
        "# standardization\n",
        "std_x = st.zscore(train)\n",
        "Xvar = np.var(std_x, axis=0)\n",
        "print(Xvar)"
      ],
      "execution_count": 126,
      "outputs": [
        {
          "output_type": "stream",
          "text": [
            "[1. 1. 1. 1. 1. 1. 1. 1. 1. 1. 1. 1. 1. 1. 1. 1. 1. 1. 1. 1. 1. 1. 1. 1.\n",
            " 1. 1. 1. 1. 1. 1. 1. 1. 1. 1. 1. 1. 1. 1. 1. 1. 1. 1. 1. 1. 1. 1. 1. 1.\n",
            " 1. 1. 1. 1. 1. 1. 1. 1. 1. 1. 1. 1. 1. 1. 1.]\n"
          ],
          "name": "stdout"
        }
      ]
    },
    {
      "cell_type": "markdown",
      "metadata": {
        "id": "oHjdhP3J_umE",
        "colab_type": "text"
      },
      "source": [
        "Undersampling - Oversampling"
      ]
    },
    {
      "cell_type": "code",
      "metadata": {
        "id": "68L7yenY70BL",
        "colab_type": "code",
        "colab": {
          "base_uri": "https://localhost:8080/",
          "height": 34
        },
        "outputId": "4defafcf-c871-4ad8-ff08-414c43bbf46b"
      },
      "source": [
        "positive = 0\n",
        "negative = 0\n",
        "for i in range(0, len(train_labels)):\n",
        "    positive += train_labels[i]==1\n",
        "    negative += train_labels[i]==0\n",
        "print(\"positive = \", positive, \" negative: \", negative)"
      ],
      "execution_count": 127,
      "outputs": [
        {
          "output_type": "stream",
          "text": [
            "positive =  169  negative:  60\n"
          ],
          "name": "stdout"
        }
      ]
    },
    {
      "cell_type": "code",
      "metadata": {
        "id": "_4v4by5X_pXM",
        "colab_type": "code",
        "outputId": "039d15e0-4bee-47c6-9afb-c11627ad1549",
        "colab": {
          "base_uri": "https://localhost:8080/",
          "height": 72
        }
      },
      "source": [
        "from imblearn.over_sampling import RandomOverSampler\n",
        "ros = RandomOverSampler(sampling_strategy=0.65)\n",
        "train_oversampled, train_labels_oversampled = ros.fit_sample(train,train_labels)\n"
      ],
      "execution_count": 128,
      "outputs": [
        {
          "output_type": "stream",
          "text": [
            "/usr/local/lib/python3.6/dist-packages/sklearn/utils/deprecation.py:87: FutureWarning: Function safe_indexing is deprecated; safe_indexing is deprecated in version 0.22 and will be removed in version 0.24.\n",
            "  warnings.warn(msg, category=FutureWarning)\n"
          ],
          "name": "stderr"
        }
      ]
    },
    {
      "cell_type": "code",
      "metadata": {
        "id": "P4DIEMGOD-E6",
        "colab_type": "code",
        "outputId": "58258753-d686-45a9-9f5e-d7d5db4b946e",
        "colab": {
          "base_uri": "https://localhost:8080/",
          "height": 34
        }
      },
      "source": [
        "positive = 0\n",
        "negative = 0\n",
        "for i in range(0, len(train_labels_oversampled)):\n",
        "    positive += train_labels_oversampled[i]==1\n",
        "    negative += train_labels_oversampled[i]==0\n",
        "print(\"positive = \", positive, \" negative: \", negative)"
      ],
      "execution_count": 129,
      "outputs": [
        {
          "output_type": "stream",
          "text": [
            "positive =  169  negative:  109\n"
          ],
          "name": "stdout"
        }
      ]
    },
    {
      "cell_type": "code",
      "metadata": {
        "id": "WFvQGqnPEikC",
        "colab_type": "code",
        "outputId": "42e8a7b9-8f1b-44e6-8af8-6cd88c6a8761",
        "colab": {
          "base_uri": "https://localhost:8080/",
          "height": 72
        }
      },
      "source": [
        "from imblearn.under_sampling import RandomUnderSampler\n",
        "\n",
        "ros = RandomUnderSampler(random_state=0)\n",
        "train_undersampled, train_labels_undersampled = ros.fit_sample(train_oversampled,train_labels_oversampled)"
      ],
      "execution_count": 130,
      "outputs": [
        {
          "output_type": "stream",
          "text": [
            "/usr/local/lib/python3.6/dist-packages/sklearn/utils/deprecation.py:87: FutureWarning: Function safe_indexing is deprecated; safe_indexing is deprecated in version 0.22 and will be removed in version 0.24.\n",
            "  warnings.warn(msg, category=FutureWarning)\n"
          ],
          "name": "stderr"
        }
      ]
    },
    {
      "cell_type": "code",
      "metadata": {
        "id": "u666iwHyE6BK",
        "colab_type": "code",
        "outputId": "e6361066-9c0e-4745-bd0c-b7de0874ed38",
        "colab": {
          "base_uri": "https://localhost:8080/",
          "height": 34
        }
      },
      "source": [
        "positive = 0\n",
        "negative = 0\n",
        "for i in range(0, len(train_labels_undersampled)):\n",
        "    positive += train_labels_undersampled[i]==1\n",
        "    negative += train_labels_undersampled[i]==0\n",
        "print(\"positive = \", positive, \" negative: \", negative)"
      ],
      "execution_count": 131,
      "outputs": [
        {
          "output_type": "stream",
          "text": [
            "positive =  109  negative:  109\n"
          ],
          "name": "stdout"
        }
      ]
    },
    {
      "cell_type": "code",
      "metadata": {
        "id": "u6p2K8aVFENn",
        "colab_type": "code",
        "colab": {
          "base_uri": "https://localhost:8080/",
          "height": 295
        },
        "outputId": "0fa3a37a-1d2a-4def-aac2-a0a491d06921"
      },
      "source": [
        "Xvar = np.var(train_undersampled, axis=0)\n",
        "print(Xvar)"
      ],
      "execution_count": 132,
      "outputs": [
        {
          "output_type": "stream",
          "text": [
            "[6.30904381e-02 3.71779851e-05 5.17588274e-02 3.45886080e-02\n",
            " 4.92078009e-03 4.12846440e-03 1.85240636e-02 1.59511273e-02\n",
            " 7.35949723e-03 6.72240073e-04 1.67196037e-03 4.70183725e-04\n",
            " 1.11578612e-02 1.36595893e-03 1.89294819e-02 2.42966946e+03\n",
            " 3.03317566e+02 1.53148104e+03 3.93449300e+03 3.30142694e+03\n",
            " 2.84963831e+02 2.24281866e+03 4.92996287e+03 4.05927984e+03\n",
            " 5.19511925e+02 2.30130760e+03 6.85627592e+03 1.17879914e+03\n",
            " 4.49947951e+02 5.51363551e+02 2.70613063e+03 1.29852116e+03\n",
            " 4.93612301e+02 6.32529002e+02 2.95173793e+03 2.47173961e+03\n",
            " 5.87125163e+02 1.12041810e+03 4.99731145e+03 5.49135908e-01\n",
            " 4.45608194e-01 3.43832296e+03 4.68797860e+02 4.24602627e+03\n",
            " 4.45364911e+02 4.48090584e-01 6.36383459e-02 3.01604617e+03\n",
            " 4.13602552e+02 1.72150097e+03 4.55085570e+02 4.53760412e-02\n",
            " 6.16136892e-02 4.17285730e-02 7.02754240e-02 2.46292278e-02\n",
            " 2.09082826e-01 4.80350378e-02 5.62237445e-02 1.03195608e+04\n",
            " 6.96535626e-02 3.45979614e-02 2.50000000e-01]\n"
          ],
          "name": "stdout"
        }
      ]
    },
    {
      "cell_type": "code",
      "metadata": {
        "id": "MDZtTNqMBZZE",
        "colab_type": "code",
        "colab": {
          "base_uri": "https://localhost:8080/",
          "height": 69
        },
        "outputId": "61eadd41-b7ec-4538-9445-6a36dfa8a1e5"
      },
      "source": [
        "from scipy import stats as st\n",
        "from sklearn import preprocessing\n",
        "\n",
        "\n",
        "train_scaled = preprocessing.scale(train_undersampled)\n",
        "\n",
        "Xvar = np.var(train_scaled, axis=0)\n",
        "print(Xvar)"
      ],
      "execution_count": 138,
      "outputs": [
        {
          "output_type": "stream",
          "text": [
            "[1. 1. 1. 1. 1. 1. 1. 1. 1. 1. 1. 1. 1. 1. 1. 1. 1. 1. 1. 1. 1. 1. 1. 1.\n",
            " 1. 1. 1. 1. 1. 1. 1. 1. 1. 1. 1. 1. 1. 1. 1. 1. 1. 1. 1. 1. 1. 1. 1. 1.\n",
            " 1. 1. 1. 1. 1. 1. 1. 1. 1. 1. 1. 1. 1. 1. 1.]\n"
          ],
          "name": "stdout"
        }
      ]
    },
    {
      "cell_type": "code",
      "metadata": {
        "id": "0fYR_D06D1yn",
        "colab_type": "code",
        "colab": {
          "base_uri": "https://localhost:8080/",
          "height": 295
        },
        "outputId": "982356fd-1634-46d0-d4a2-3be52ab4e685"
      },
      "source": [
        "Yvar = np.var(np.asarray(test), axis=0)\n",
        "print(Yvar)"
      ],
      "execution_count": 137,
      "outputs": [
        {
          "output_type": "stream",
          "text": [
            "[4.03496918e-02 4.63873100e-05 3.94788130e-02 3.02162360e-02\n",
            " 3.29430285e-03 5.38331944e-03 2.88393877e-02 7.82565493e-03\n",
            " 1.50640780e-02 1.28816752e-03 5.60647379e-03 3.78570437e-03\n",
            " 1.88683092e-02 1.50749170e-03 2.03016954e-02 2.98263096e+03\n",
            " 2.82069045e+02 2.07708767e+03 4.45231234e+03 2.14381566e+03\n",
            " 2.41248262e+02 1.56059768e+03 3.20953016e+03 4.56381198e+03\n",
            " 4.47692376e+02 3.06611469e+03 6.95689401e+03 1.41129377e+03\n",
            " 4.35261628e+02 7.20855883e+02 2.97225492e+03 1.02516706e+03\n",
            " 3.19590765e+02 6.43645132e+02 2.04587052e+03 2.37947717e+03\n",
            " 5.30279612e+02 1.23116451e+03 4.58834906e+03 4.77859861e-01\n",
            " 3.16317404e-01 3.29231847e+03 4.64338146e+02 3.33091773e+03\n",
            " 3.41033475e+02 3.97294543e-01 6.24156947e-02 3.46769744e+03\n",
            " 3.85283186e+02 1.29817445e+03 2.82277554e+02 3.14114104e-02\n",
            " 3.98653690e-02 2.70736240e-02 4.45784640e-02 1.62156646e-02\n",
            " 1.21072691e-01 3.32473717e-02 3.69132900e-02 4.84253370e+03\n",
            " 6.94157766e-02 3.11866770e-02 1.53686088e-01]\n"
          ],
          "name": "stdout"
        }
      ]
    },
    {
      "cell_type": "code",
      "metadata": {
        "id": "prSXp5QRGssp",
        "colab_type": "code",
        "colab": {
          "base_uri": "https://localhost:8080/",
          "height": 208
        },
        "outputId": "cb51548d-efce-492a-fc66-4b12e9ce5025"
      },
      "source": [
        "scaler = preprocessing.StandardScaler().fit(train_undersampled)\n",
        "test_scaled = scaler.transform(test)\n",
        "Yvar = np.var(np.asarray(test_scaled), axis=0)\n",
        "print(Yvar)"
      ],
      "execution_count": 139,
      "outputs": [
        {
          "output_type": "stream",
          "text": [
            "[0.6395532  1.24770909 0.76274551 0.87358925 0.6694676  1.30395201\n",
            " 1.55686076 0.490602   2.04688956 1.91623138 3.35323367 8.05154277\n",
            " 1.69103279 1.10361422 1.07249081 1.22758713 0.92994629 1.35626078\n",
            " 1.13161018 0.64936032 0.84659257 0.69581982 0.65102522 1.12429105\n",
            " 0.86175573 1.33233588 1.01467533 1.19723007 0.96735995 1.30740576\n",
            " 1.09834126 0.78948814 0.647453   1.0175741  0.6931071  0.96267308\n",
            " 0.90317984 1.09884382 0.91816352 0.87020327 0.70985545 0.95753613\n",
            " 0.99048691 0.78447883 0.76573944 0.8866389  0.98078751 1.14974945\n",
            " 0.93153    0.75409452 0.62027358 0.6922466  0.6470213  0.64880302\n",
            " 0.63433931 0.65839111 0.57906569 0.69214834 0.65654272 0.46925773\n",
            " 0.99658616 0.90140216 0.61474435]\n"
          ],
          "name": "stdout"
        }
      ]
    },
    {
      "cell_type": "code",
      "metadata": {
        "id": "2doolScyIJqP",
        "colab_type": "code",
        "colab": {}
      },
      "source": [
        ""
      ],
      "execution_count": 0,
      "outputs": []
    }
  ]
}