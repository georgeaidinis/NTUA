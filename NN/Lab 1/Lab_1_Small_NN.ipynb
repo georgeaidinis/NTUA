{
  "nbformat": 4,
  "nbformat_minor": 0,
  "metadata": {
    "colab": {
      "name": "Lab 1 Small - NN.ipynb",
      "provenance": [],
      "collapsed_sections": [],
      "include_colab_link": true
    },
    "kernelspec": {
      "name": "python3",
      "display_name": "Python 3"
    },
    "accelerator": "GPU"
  },
  "cells": [
    {
      "cell_type": "markdown",
      "metadata": {
        "id": "view-in-github",
        "colab_type": "text"
      },
      "source": [
        "<a href=\"https://colab.research.google.com/github/georgeaidinis/NTUA/blob/master/NN/Lab%201/Lab_1_Small_NN.ipynb\" target=\"_parent\"><img src=\"https://colab.research.google.com/assets/colab-badge.svg\" alt=\"Open In Colab\"/></a>"
      ]
    },
    {
      "cell_type": "markdown",
      "metadata": {
        "id": "TKqs0XolswuQ",
        "colab_type": "text"
      },
      "source": [
        "Αϊδίνης Γιώργος 03116031\n",
        "\n",
        "Κολιός Παναγιώτης 03116100\n",
        "\n",
        "---\n",
        "\n",
        "Ομάδα M.B.8\n",
        "\n",
        "---\n",
        "\n",
        "\n",
        "#Lab 1: Επιβλεπόμενη Μάθηση - Ταξινόμηση - Μικρό Dataset (S11 - Quality Assessment of Digital Colposcopies)"
      ]
    },
    {
      "cell_type": "markdown",
      "metadata": {
        "id": "ypUIaKPuxyCI",
        "colab_type": "text"
      },
      "source": [
        "Αρχικά ενημερώνουμε τις βιβλιοθήκες που θα χρησιμοποιήσουμε.\n",
        "\n"
      ]
    },
    {
      "cell_type": "code",
      "metadata": {
        "id": "5ZTpGgaqwT3G",
        "colab_type": "code",
        "outputId": "7da21206-7cb5-4772-bd80-6bd48bccd8a0",
        "colab": {
          "base_uri": "https://localhost:8080/",
          "height": 215
        }
      },
      "source": [
        "# -*- coding: utf-8 -*-\n",
        "!pip install --upgrade pip #upgrade pip package installer\n",
        "!pip install scikit-learn --upgrade #upgrade scikit-learn package\n",
        "!pip install numpy --upgrade #upgrade numpy package\n",
        "!pip install pandas --upgrade #--upgrade #upgrade pandas package\n",
        "import warnings \n",
        "warnings.filterwarnings('ignore')"
      ],
      "execution_count": 278,
      "outputs": [
        {
          "output_type": "stream",
          "text": [
            "Requirement already up-to-date: pip in /usr/local/lib/python3.6/dist-packages (19.3.1)\n",
            "Requirement already up-to-date: scikit-learn in /usr/local/lib/python3.6/dist-packages (0.22)\n",
            "Requirement already satisfied, skipping upgrade: numpy>=1.11.0 in /usr/local/lib/python3.6/dist-packages (from scikit-learn) (1.17.4)\n",
            "Requirement already satisfied, skipping upgrade: joblib>=0.11 in /usr/local/lib/python3.6/dist-packages (from scikit-learn) (0.14.1)\n",
            "Requirement already satisfied, skipping upgrade: scipy>=0.17.0 in /usr/local/lib/python3.6/dist-packages (from scikit-learn) (1.3.3)\n",
            "Requirement already up-to-date: numpy in /usr/local/lib/python3.6/dist-packages (1.17.4)\n",
            "Requirement already up-to-date: pandas in /usr/local/lib/python3.6/dist-packages (0.25.3)\n",
            "Requirement already satisfied, skipping upgrade: pytz>=2017.2 in /usr/local/lib/python3.6/dist-packages (from pandas) (2018.9)\n",
            "Requirement already satisfied, skipping upgrade: numpy>=1.13.3 in /usr/local/lib/python3.6/dist-packages (from pandas) (1.17.4)\n",
            "Requirement already satisfied, skipping upgrade: python-dateutil>=2.6.1 in /usr/local/lib/python3.6/dist-packages (from pandas) (2.6.1)\n",
            "Requirement already satisfied, skipping upgrade: six>=1.5 in /usr/local/lib/python3.6/dist-packages (from python-dateutil>=2.6.1->pandas) (1.12.0)\n"
          ],
          "name": "stdout"
        }
      ]
    },
    {
      "cell_type": "markdown",
      "metadata": {
        "id": "_deFZG7YvKWh",
        "colab_type": "text"
      },
      "source": [
        "\n",
        "\n",
        "1.   Το dataset περιγράφει μετρήσεις κολποσκοπήσεων και την κατάσταση (ετικέτα) των αντίστοιχων κόλπων, όπως προκύπτει από τις εκτιμήσεις καθενός από 6 ειδικούς και την εκτίμηση της πλειοψηφίας. Οι μετρήσεις και οι εκτιμήσεις είναι διαφορετικές για τις διαφορετικές μεθόδους με τις οποίες πραγματοποιούνται οι κολποσκοπήσεις: Hinselmann, Green, Schiller.\n",
        "\n",
        "\n",
        "\n",
        "2.    Έχουμε συνολικά 287 δείγματα, 92 από τη μέθοδο Schiller, 98 από τη μέθοδο Green και 97 από τη μέθοδο Hinselmann. Σε κάθε δείγμα περιέχονται μετρήσεις για 62 χαρακτηριστικά-παρατηρήσεις από τα οποία προέκυψαν οι εκτιμήσεις. Όλα τα χαρακτηριστικά είναι διατεταγμένα.Οι μετρήσεις είναι αριθμητικά δεδομένα και αφορούν τιμές όπως τις επιφάνειες περιοχών του κόπλου.\n",
        "\n",
        "3.    Υπάρχουν επικεφαλίδες στην πρώτη γραμμή πάνω από τα χαρακτηριστικά και τις ετικέτες, οι οποίες θα πρέπει να αφαιρεθούν. Δεν υπάρχει στήλη για την αρίθμηση των γραμμών.\n",
        "\n",
        "4.    Η τιμή της κατάστασης μπορεί να πάρει δύο τιμές, 0 για κακή και 1 για καλή. Όπως υποδεικνύεται από τις FAQ το πρόβλημα θα αναλυθεί ως binary classification λαμβάνοντας υπόψην μόνο τις εκτιμήσεις της πλειοψηφίας. Έτσι οι στήλες των ετικετών που αφορούν μεμονωμένα τον κάθε ειδικό αφαιρούνται και μένει μόνο η τελευταία στήλη με τις εκτιμήσεις της πλειοψηφίας. Η στήλη αυτή είναι η τελευταία (θέση 69 στον αρχικό πίνακα). Παρατηρούμε οτι όλες οι ισοψηφίες (3-3) επιλύονται θεωρώντας την κατάσταση ως καλή, γεγονός που ίσως μας αναγκάσει να αυξήσουμε αργότερα το πλήθος των δειγμάτων με ετικέτα 0 ή να διαγράψουμε δείγματα με ετικέτα 1.\n",
        "\n",
        "    \n",
        "5.    Συνενώνουμε τα αρχεία που αφορούν τις 3 διαφορετικές μεθόδους. Μετά τη συνένωση οι επικεφαλίδες προστέθηκαν ως γραμμές, με αποτέλεσμα να έχουμε 3 φορές την ίδια γραμμή με τις επικεφαλίδες, τις οποίες και αφαιρούμε.\n",
        "\n",
        "6.    Δεν υπάρχουν απουσιάζουσες τιμές.\n",
        "\n"
      ]
    },
    {
      "cell_type": "code",
      "metadata": {
        "id": "NPGXEYNcqtmv",
        "colab_type": "code",
        "colab": {}
      },
      "source": [
        "from urllib.request import urlretrieve\n",
        "import os\n",
        "import zipfile\n",
        "\n",
        "def download(url, file):\n",
        "    if not os.path.isfile(file):\n",
        "        print(\"Download file... \" + file + \" ...\")\n",
        "        urlretrieve(url,file)\n",
        "        print(\"File downloaded\")\n"
      ],
      "execution_count": 0,
      "outputs": []
    },
    {
      "cell_type": "code",
      "metadata": {
        "id": "wL_pZToQuTs4",
        "colab_type": "code",
        "outputId": "013193f4-e010-4696-f339-c9fdf8e5f5f2",
        "colab": {
          "base_uri": "https://localhost:8080/",
          "height": 35
        }
      },
      "source": [
        "download(\"http://archive.ics.uci.edu/ml/machine-learning-databases/00384/Quality%20Assessment%20-%20Digital%20Colposcopy.zip\",\"QADC.zip\")\n",
        "print(\"All the files are downloaded\")"
      ],
      "execution_count": 280,
      "outputs": [
        {
          "output_type": "stream",
          "text": [
            "All the files are downloaded\n"
          ],
          "name": "stdout"
        }
      ]
    },
    {
      "cell_type": "code",
      "metadata": {
        "id": "e1fY1PPQ7L9d",
        "colab_type": "code",
        "outputId": "0ac76b14-5952-4740-c0fe-8cda21cef3dd",
        "colab": {
          "base_uri": "https://localhost:8080/",
          "height": 35
        }
      },
      "source": [
        "!ls"
      ],
      "execution_count": 281,
      "outputs": [
        {
          "output_type": "stream",
          "text": [
            "all.csv  QADC  QADC.zip  sample_data\n"
          ],
          "name": "stdout"
        }
      ]
    },
    {
      "cell_type": "code",
      "metadata": {
        "id": "TFe5qqIq6jSZ",
        "colab_type": "code",
        "colab": {}
      },
      "source": [
        "!unzip -q \"QADC.zip\""
      ],
      "execution_count": 0,
      "outputs": []
    },
    {
      "cell_type": "code",
      "metadata": {
        "id": "4AZDcWwK7IKb",
        "colab_type": "code",
        "outputId": "ca0f58ef-bfb2-4866-aa19-e405d64078b0",
        "colab": {
          "base_uri": "https://localhost:8080/",
          "height": 53
        }
      },
      "source": [
        "!ls"
      ],
      "execution_count": 283,
      "outputs": [
        {
          "output_type": "stream",
          "text": [
            " all.csv   QADC.zip\t\t\t\t      sample_data\n",
            " QADC\t  'Quality Assessment - Digital Colposcopy'\n"
          ],
          "name": "stdout"
        }
      ]
    },
    {
      "cell_type": "markdown",
      "metadata": {
        "id": "LDKrxf0wzLvH",
        "colab_type": "text"
      },
      "source": [
        "Rename directory for better handling\n",
        "\n"
      ]
    },
    {
      "cell_type": "code",
      "metadata": {
        "id": "Oxlh8yEDy47d",
        "colab_type": "code",
        "colab": {
          "base_uri": "https://localhost:8080/",
          "height": 35
        },
        "outputId": "7e5b84fd-bce9-4e17-d33e-c52375ad1161"
      },
      "source": [
        "!mv Quality\\ Assessment\\ -\\ Digital\\ Colposcopy QADC"
      ],
      "execution_count": 284,
      "outputs": [
        {
          "output_type": "stream",
          "text": [
            "mv: cannot move 'Quality Assessment - Digital Colposcopy' to 'QADC/Quality Assessment - Digital Colposcopy': Directory not empty\n"
          ],
          "name": "stdout"
        }
      ]
    },
    {
      "cell_type": "markdown",
      "metadata": {
        "id": "3PDIZ5HBzx9i",
        "colab_type": "text"
      },
      "source": [
        "Remove attributes line for the 2nd and 3rd files:"
      ]
    },
    {
      "cell_type": "code",
      "metadata": {
        "id": "bhtKAnFCyl0j",
        "colab_type": "code",
        "colab": {}
      },
      "source": [
        "with open(\"QADC/hinselmann.csv\",'r') as f:\n",
        "    with open(\"QADC/hinselmann1.csv\",'w') as f1:\n",
        "        next(f) # skip header line\n",
        "        for line in f:\n",
        "            f1.write(line)"
      ],
      "execution_count": 0,
      "outputs": []
    },
    {
      "cell_type": "code",
      "metadata": {
        "id": "mcY__jBiymmT",
        "colab_type": "code",
        "colab": {}
      },
      "source": [
        "with open(\"QADC/schiller.csv\",'r') as f:\n",
        "    with open(\"QADC/schiller1.csv\",'w') as f1:\n",
        "        next(f) # skip header line\n",
        "        for line in f:\n",
        "            f1.write(line)"
      ],
      "execution_count": 0,
      "outputs": []
    },
    {
      "cell_type": "markdown",
      "metadata": {
        "id": "4hTiHGpp0JR2",
        "colab_type": "text"
      },
      "source": [
        "create one big .csv"
      ]
    },
    {
      "cell_type": "code",
      "metadata": {
        "id": "-VimXlyS7fGn",
        "colab_type": "code",
        "colab": {}
      },
      "source": [
        "!cat QADC/green.csv QADC/hinselmann1.csv QADC/schiller1.csv > all.csv"
      ],
      "execution_count": 0,
      "outputs": []
    },
    {
      "cell_type": "markdown",
      "metadata": {
        "id": "UPLZO8N605LP",
        "colab_type": "text"
      },
      "source": [
        "We needed to concatenate the 3 .csv files && remove the category names from the second and third files gia na min exoume asxeta instances\n",
        "We also need to remove the attribute of the experts, apart from the concensus"
      ]
    },
    {
      "cell_type": "code",
      "metadata": {
        "id": "wVGBnlk67zwC",
        "colab_type": "code",
        "colab": {}
      },
      "source": [
        "import pandas as pd\n",
        "import numpy as np\n",
        "\n",
        "df = pd.read_csv(\"all.csv\")\n",
        "df = df.drop(df.columns[[62, 63, 64, 65, 66, 67]], axis=1)"
      ],
      "execution_count": 0,
      "outputs": []
    },
    {
      "cell_type": "markdown",
      "metadata": {
        "id": "I0110eLi0kT7",
        "colab_type": "text"
      },
      "source": [
        "Let's print number, names and types of attributes"
      ]
    },
    {
      "cell_type": "code",
      "metadata": {
        "id": "eZ1Qrlcl0h_t",
        "colab_type": "code",
        "outputId": "8e3d7774-7fc0-4b80-aa11-f577ef1d2bce",
        "colab": {
          "base_uri": "https://localhost:8080/",
          "height": 1000
        }
      },
      "source": [
        "print (\"We have \",len(df.columns), \" attributes.\")\n",
        "for i in range(0, len(df.columns)):\n",
        "    print('{:<10}{:<40}{:<10}{:<20}'.format(str(i+1), str(df.columns[i]),\"type: \", str(df.dtypes[df.columns[i]])))\n"
      ],
      "execution_count": 289,
      "outputs": [
        {
          "output_type": "stream",
          "text": [
            "We have  63  attributes.\n",
            "1         cervix_area                             type:     float64             \n",
            "2         os_area                                 type:     float64             \n",
            "3         walls_area                              type:     float64             \n",
            "4         speculum_area                           type:     float64             \n",
            "5         artifacts_area                          type:     float64             \n",
            "6         cervix_artifacts_area                   type:     float64             \n",
            "7         os_artifacts_area                       type:     float64             \n",
            "8         walls_artifacts_area                    type:     float64             \n",
            "9         speculum_artifacts_area                 type:     float64             \n",
            "10        cervix_specularities_area               type:     float64             \n",
            "11        os_specularities_area                   type:     float64             \n",
            "12        walls_specularities_area                type:     float64             \n",
            "13        speculum_specularities_area             type:     float64             \n",
            "14        specularities_area                      type:     float64             \n",
            "15        area_h_max_diff                         type:     float64             \n",
            "16        rgb_cervix_r_mean                       type:     float64             \n",
            "17        rgb_cervix_r_std                        type:     float64             \n",
            "18        rgb_cervix_r_mean_minus_std             type:     float64             \n",
            "19        rgb_cervix_r_mean_plus_std              type:     float64             \n",
            "20        rgb_cervix_g_mean                       type:     float64             \n",
            "21        rgb_cervix_g_std                        type:     float64             \n",
            "22        rgb_cervix_g_mean_minus_std             type:     float64             \n",
            "23        rgb_cervix_g_mean_plus_std              type:     float64             \n",
            "24        rgb_cervix_b_mean                       type:     float64             \n",
            "25        rgb_cervix_b_std                        type:     float64             \n",
            "26        rgb_cervix_b_mean_minus_std             type:     float64             \n",
            "27        rgb_cervix_b_mean_plus_std              type:     float64             \n",
            "28        rgb_total_r_mean                        type:     float64             \n",
            "29        rgb_total_r_std                         type:     float64             \n",
            "30        rgb_total_r_mean_minus_std              type:     float64             \n",
            "31        rgb_total_r_mean_plus_std               type:     float64             \n",
            "32        rgb_total_g_mean                        type:     float64             \n",
            "33        rgb_total_g_std                         type:     float64             \n",
            "34        rgb_total_g_mean_minus_std              type:     float64             \n",
            "35        rgb_total_g_mean_plus_std               type:     float64             \n",
            "36        rgb_total_b_mean                        type:     float64             \n",
            "37        rgb_total_b_std                         type:     float64             \n",
            "38        rgb_total_b_mean_minus_std              type:     float64             \n",
            "39        rgb_total_b_mean_plus_std               type:     float64             \n",
            "40        hsv_cervix_h_mean                       type:     float64             \n",
            "41        hsv_cervix_h_std                        type:     float64             \n",
            "42        hsv_cervix_s_mean                       type:     float64             \n",
            "43        hsv_cervix_s_std                        type:     float64             \n",
            "44        hsv_cervix_v_mean                       type:     float64             \n",
            "45        hsv_cervix_v_std                        type:     float64             \n",
            "46        hsv_total_h_mean                        type:     float64             \n",
            "47        hsv_total_h_std                         type:     float64             \n",
            "48        hsv_total_s_mean                        type:     float64             \n",
            "49        hsv_total_s_std                         type:     float64             \n",
            "50        hsv_total_v_mean                        type:     float64             \n",
            "51        hsv_total_v_std                         type:     float64             \n",
            "52        fit_cervix_hull_rate                    type:     float64             \n",
            "53        fit_cervix_hull_total                   type:     float64             \n",
            "54        fit_cervix_bbox_rate                    type:     float64             \n",
            "55        fit_cervix_bbox_total                   type:     float64             \n",
            "56        fit_circle_rate                         type:     float64             \n",
            "57        fit_circle_total                        type:     float64             \n",
            "58        fit_ellipse_rate                        type:     float64             \n",
            "59        fit_ellipse_total                       type:     float64             \n",
            "60        fit_ellipse_goodness                    type:     float64             \n",
            "61        dist_to_center_cervix                   type:     float64             \n",
            "62        dist_to_center_os                       type:     float64             \n",
            "63        consensus                               type:     float64             \n"
          ],
          "name": "stdout"
        }
      ]
    },
    {
      "cell_type": "markdown",
      "metadata": {
        "id": "WFW2ZAJs6pIz",
        "colab_type": "text"
      },
      "source": [
        "We need to count the occurences of each label (healthy or unhealthy):"
      ]
    },
    {
      "cell_type": "code",
      "metadata": {
        "id": "2757HtVM6vna",
        "colab_type": "code",
        "outputId": "463dec03-f820-4e15-c1ab-0faedc237b66",
        "colab": {
          "base_uri": "https://localhost:8080/",
          "height": 35
        }
      },
      "source": [
        "labels_df = df.iloc[:, [62]]\n",
        "labels = labels_df.values.reshape(287,)\n",
        "positive = 0\n",
        "negative = 0\n",
        "for i in range(0, len(labels)):\n",
        "    positive += labels[i]==1\n",
        "    negative += labels[i]==0\n",
        "print(\"positive = \", positive, \" negative: \", negative)"
      ],
      "execution_count": 290,
      "outputs": [
        {
          "output_type": "stream",
          "text": [
            "positive =  216  negative:  71\n"
          ],
          "name": "stdout"
        }
      ]
    },
    {
      "cell_type": "markdown",
      "metadata": {
        "id": "Pe8KtmADxNwS",
        "colab_type": "text"
      },
      "source": [
        "Βλεπουμε οτι εχουμε unbalanced data set, καθως η κλαση των positive(υγειων) ειναι κατα πολυ μεγαλυτερη σε μεγεθος απο την κλαση των negative. (75-25)"
      ]
    },
    {
      "cell_type": "markdown",
      "metadata": {
        "id": "I2l2kgIc_qXj",
        "colab_type": "text"
      },
      "source": [
        "Train - Test split"
      ]
    },
    {
      "cell_type": "code",
      "metadata": {
        "id": "WBRy3W1k8o82",
        "colab_type": "code",
        "outputId": "25cf7306-b8ea-42de-8b3a-57ff8badd08d",
        "colab": {
          "base_uri": "https://localhost:8080/",
          "height": 35
        }
      },
      "source": [
        "from sklearn.model_selection import train_test_split\n",
        "\n",
        "\n",
        "train, test, train_labels, test_labels = train_test_split(df, labels, test_size=0.2, random_state=78)\n",
        "print(len(train))\n"
      ],
      "execution_count": 291,
      "outputs": [
        {
          "output_type": "stream",
          "text": [
            "229\n"
          ],
          "name": "stdout"
        }
      ]
    },
    {
      "cell_type": "code",
      "metadata": {
        "id": "Miepy3x5hvpx",
        "colab_type": "code",
        "colab": {}
      },
      "source": [
        "from sklearn.decomposition import PCA\n",
        "from sklearn.feature_selection import VarianceThreshold\n",
        "\n",
        "\"\"\"\n",
        "    This is a function that applies a transformation (selection) on a dataset, \n",
        "    based on the type of the selector. Takes 3 arguments, one is mandatory and \n",
        "    is the dataset, which is a tuple of data. It needs to be in the form:\n",
        "    (train_data, train_labels, test_data, test_labels). The other two can be\n",
        "    None, and when they are, no transformation happens. The selector argument\n",
        "    is a string and can be one of two things: either \"PCA\" or \n",
        "    \"Variance Threshold\". In either case, there can be arguments, and in \"PCA\"\n",
        "    the arguments can be an int of the number of principal components, and in\n",
        "    \"Variance Threshold\", it can be a float. Returns the transformed dataset.\n",
        "\"\"\"\n",
        "def Apply_selector(data, selector = None, arguments = None):\n",
        "    (train, train_labels, test, test_labels) = data\n",
        "    \n",
        "    if selector == \"PCA\":    \n",
        "        if arguments:\n",
        "            number_of_components = arguments\n",
        "            pca = PCA(n_components = number_of_components)\n",
        "            pca.fit(train)\n",
        "            train_reduced = pca.transform(train)\n",
        "            test_reduced = pca.transform(test)\n",
        "        else:\n",
        "            pca = PCA()\n",
        "            pca.fit(train)\n",
        "            train_reduced = pca.transform(train)\n",
        "            test_reduced = pca.transform(test)\n",
        "    elif selector == \"Variance Threshold\":\n",
        "        if arguments:\n",
        "            t = arguments\n",
        "            sel = VarianceThreshold(threshold=t)\n",
        "            train_reduced = sel.fit_transform(train)\n",
        "            test_reduced = sel.transform(test)\n",
        "        else:\n",
        "            sel = VarianceThreshold()\n",
        "            train_reduced = sel.fit_transform(train)\n",
        "            test_reduced = sel.transform(test)\n",
        "    else:\n",
        "        (train_reduced, train_labels, test_reduced, test_labels) = data\n",
        "    return (train_reduced, train_labels, test_reduced, test_labels)"
      ],
      "execution_count": 0,
      "outputs": []
    },
    {
      "cell_type": "code",
      "metadata": {
        "id": "05vv4ikkh3Zu",
        "colab_type": "code",
        "colab": {}
      },
      "source": [
        "from imblearn.over_sampling import RandomOverSampler\n",
        "from imblearn.under_sampling import RandomUnderSampler\n",
        "\n",
        "\"\"\"\n",
        "    This is a function that applies resampling on a dataset, based on the \n",
        "    type of sampling method. Takes 3 arguments, one is mandatory and \n",
        "    is the dataset, which is a tuple of data. It needs to be in the form:\n",
        "    (train_data, train_labels, test_data, test_labels). The other two can be\n",
        "    None, and when they are, no sampling happens. The sampling argument\n",
        "    is a string and can be one of three things: \"Over\", \"Under\" or \n",
        "    \"OverUnder\". In any case, there can be arguments, and in Under or Over or\n",
        "    OverUnder it can be a float with the ratio of samples between classes. \n",
        "    Returns the resampled dataset.\n",
        "\"\"\"\n",
        "def Apply_sampling(data, sampling = None, arguments = None):\n",
        "    (train, train_labels, test, test_labels) = data\n",
        "    if sampling == \"Over\":    \n",
        "        if arguments:\n",
        "            ratio = arguments\n",
        "            ros = RandomOverSampler(sampling_strategy=ratio)\n",
        "            train_oversampled, train_labels_oversampled = ros.fit_sample(train,train_labels)\n",
        "        else:\n",
        "            ros = RandomOverSampler()\n",
        "            train_oversampled, train_labels_oversampled = ros.fit_sample(train,train_labels)\n",
        "        return (train_oversampled, train_labels_oversampled, test, test_labels)\n",
        "    elif sampling == \"Under\":\n",
        "        if arguments:\n",
        "            ratio = arguments\n",
        "            rus = RandomUnderSampler(sampling_strategy=ratio)\n",
        "            train_undersampled, train_labels_undersampled = rus.fit_sample(train,train_labels)\n",
        "        else:\n",
        "            rus = RandomUnderSampler()\n",
        "            train_undersampled, train_labels_undersampled = rus.fit_sample(train,train_labels)\n",
        "        return (train_undersampled, train_labels_undersampled, test, test_labels)\n",
        "    elif sampling==\"OverUnder\":\n",
        "        if arguments:    \n",
        "            ratio = arguments\n",
        "            ros = RandomOverSampler(sampling_strategy=ratio)\n",
        "            train_oversampled, train_labels_oversampled = ros.fit_sample(train,train_labels)\n",
        "            rus = RandomUnderSampler()\n",
        "            train_undersampled, train_labels_undersampled = rus.fit_sample(train_oversampled,train_labels_oversampled)\n",
        "        else:\n",
        "            ros = RandomOverSampler()\n",
        "            train_oversampled, train_labels_oversampled = ros.fit_sample(train,train_labels)\n",
        "            rus = RandomUnderSampler()\n",
        "            train_undersampled, train_labels_undersampled = rus.fit_sample(train_oversampled,train_labels_oversampled)\n",
        "        return (train_undersampled, train_labels_undersampled, test, test_labels)\n",
        "    else:\n",
        "        return data"
      ],
      "execution_count": 0,
      "outputs": []
    },
    {
      "cell_type": "code",
      "metadata": {
        "id": "7qw5kMxliJud",
        "colab_type": "code",
        "colab": {}
      },
      "source": [
        "from scipy import stats as st\n",
        "\n",
        "\"\"\"\n",
        "    This is a function that applies a transformation (standardization) on a dataset, \n",
        "    based on the type of the standardizer. Takes 3 arguments, one is mandatory and \n",
        "    is the dataset, which is a tuple of data. It needs to be in the form:\n",
        "    (train_data, train_labels, test_data, test_labels). The other two can be\n",
        "    None, and when they are, no transformation happens. The selector argument\n",
        "    is a string and can be one of two things: either \"zscore\" or \n",
        "    \"minmax\". Argument arguments is always None. Returns the transformed dataset.\n",
        "\"\"\"\n",
        "def Apply_standardizer(data, standardizer = None,  arguments = None):\n",
        "    (train, train_labels, test, test_labels) = data\n",
        "    if standardizer==\"zscore\":\n",
        "        std_train = st.zscore(train)\n",
        "    elif standardizer==\"minmax\":\n",
        "        std_train = (train - np.min(train) )/ (np.max(train) - np.min(train))\n",
        "    else:\n",
        "        std_train = train\n",
        "    return (std_train, train_labels, test, test_labels)"
      ],
      "execution_count": 0,
      "outputs": []
    },
    {
      "cell_type": "code",
      "metadata": {
        "id": "2doolScyIJqP",
        "colab_type": "code",
        "colab": {}
      },
      "source": [
        "from sklearn import neighbors\n",
        "from sklearn.metrics import classification_report\n",
        "from sklearn.dummy import DummyClassifier\n",
        "\n",
        "\"\"\"\n",
        "    This is a function that creates a classifier object. It does not train, \n",
        "    it takes the name of the classifier, along with the arguments we want \n",
        "    to pass to the instance creator for the classifier and returns the \n",
        "    classifier object.\n",
        "\"\"\"\n",
        "def Create_classifier(classifier,  arguments = None):\n",
        "    if classifier==\"kNN\":\n",
        "        if arguments and arguments!=-1:\n",
        "            clf = neighbors.KNeighborsClassifier(n_jobs = -1, n_neighbors = arguments)\n",
        "        else:\n",
        "            clf = neighbors.KNeighborsClassifier(n_jobs = -1)\n",
        "    else:\n",
        "        if arguments:\n",
        "            strat = arguments\n",
        "            clf = DummyClassifier(strategy=strat)\n",
        "        else:\n",
        "            clf = neighbors.KNeighborsClassifier()\n",
        "    return clf\n"
      ],
      "execution_count": 0,
      "outputs": []
    },
    {
      "cell_type": "code",
      "metadata": {
        "id": "cMX219HCiTQx",
        "colab_type": "code",
        "colab": {}
      },
      "source": [
        "\"\"\"\n",
        "    This is an implementation for the function imblearn.pipeline.Pipeline().\n",
        "    The way this function works is, it takes as input two arguments. The first\n",
        "    is a list. This list contains the steps that need to be executed in the \n",
        "    pipeline, IN ORDER. Always the last step is the classifier. Each step is\n",
        "    a tuple, which contains the name of the step, and the arguments needed to \n",
        "    execute the step, like so: (\"name\", arguments). The second argument of the \n",
        "    function is a tuple of data. It needs to be in the form:\n",
        "    (train_data, train_labels, test_data, test_labels). The function outputs a\n",
        "    tuple, which contains the processed data, ready for fitting the classier, \n",
        "    and the classifier object, as specified by the arguments, like so:\n",
        "    returns: (processed_data, classifier_object)\n",
        "\"\"\"\n",
        "def Pipeline(steps, data):\n",
        "    steps_dict = {\"selector\": Apply_selector,\n",
        "                  \"sampling\": Apply_sampling,\n",
        "                  \"standardizer\": Apply_standardizer,\n",
        "                  \"kNN\": Create_classifier,\n",
        "                  \"dummy\": Create_classifier}\n",
        "    for step in steps:\n",
        "        if step[0]!=\"kNN\" and step[0]!=\"dummy\":\n",
        "            data = steps_dict[step[0]](data,step[1])\n",
        "        else:\n",
        "            return ( data, Create_classifier(step[0], arguments = step[1]) )\n"
      ],
      "execution_count": 0,
      "outputs": []
    },
    {
      "cell_type": "code",
      "metadata": {
        "id": "RktfiSkMmjfW",
        "colab_type": "code",
        "colab": {}
      },
      "source": [
        "import time\n",
        "from sklearn.metrics import accuracy_score\n",
        "\n",
        "\"\"\"\n",
        "    This is an implementation for the function gridsearchcv. It takes 3\n",
        "    arguments, a tuple (model_name, model_parameters), the data to be fitted\n",
        "    and trained, and the specific parameters. The data parameter needs to be \n",
        "    in the form: (train_data, train_labels, test_data, test_labels). Lastly, \n",
        "    the Steps argument is a list, that has the steps for the data preprocessing,\n",
        "    as described in the Pipeline Function. For this exercise, we are dealing \n",
        "    only with dummy classifiers and kNN. The model_parameters if not None, is \n",
        "    a list of parameters (strings for dummy, ints for kNN).\n",
        "    Returns (classifier_object, best_parameter, accuracy_list)\n",
        "\"\"\"\n",
        "def model_tuning(model, data, preprocessing_steps = None):\n",
        "    #Start measuring the time:\n",
        "    start_time = time.time()\n",
        "    #if the classifier is a dummy:\n",
        "    if model[0]==\"dummy\":\n",
        "        #and it has parameters (strategy):\n",
        "        if model[1]!=None:\n",
        "\n",
        "\n",
        "            #initialize the lists with the possible best parameters, and the average\n",
        "            #accuracies for each of the model parameter\n",
        "            avg_accuracy_list = []\n",
        "            best_parameter = model[1][0]\n",
        "            #for each parameter, run the \n",
        "            for parameter in model[1]:\n",
        "    \n",
        "                #if there are preprocessing steps, add the model_creation \n",
        "                #to the pipeline:\n",
        "                if preprocessing_steps:\n",
        "                    steps = preprocessing_steps + [(model[0], parameter)]\n",
        "                else:\n",
        "                    steps = [(model[0], parameter)]\n",
        "                #create the pipeline, returns the processed data, the \n",
        "                #classifier ready for training and evaluating:\n",
        "                folded_data = ten_fold(data)\n",
        "\n",
        "                #initialize a list with the accuracies for the folded data:\n",
        "                accuracy_list = []\n",
        "                #train for each of the 10 folds, begin from scratch every time,\n",
        "                #and then average out the results.\n",
        "                for data in folded_data:\n",
        "                    \n",
        "                    #process the data, create the classifier\n",
        "                    (processed_data, clf) = Pipeline(steps, data)\n",
        "                    (train, train_labels, test, test_labels) = processed_data\n",
        "                    #fit the classifier\n",
        "                    clf = clf.fit(train, train_labels)\n",
        "                    #make the predictions based on the training\n",
        "                    preds = clf.predict(test)\n",
        "                    accuracy_list.append(accuracy_score(test_labels, preds))\n",
        "                \n",
        "                \n",
        "                \n",
        "                #store the average accuracy\n",
        "                avg_accuracy_list.append(sum(accuracy_list)/len(accuracy_list))\n",
        "                \n",
        "                #if the average accuracy of the 10 folds is the best one yet, \n",
        "                #keep the parameter\n",
        "                if (sum(accuracy_list)/len(accuracy_list)) >= max(avg_accuracy_list):\n",
        "                    best_parameter = parameter\n",
        "        \n",
        "        \n",
        "        \n",
        "        #if the dummy classifier has no parameters:                    \n",
        "        else:\n",
        "                #initialize the lists with the possible best parameters, and the average\n",
        "                #accuracies for each of the model parameter\n",
        "                avg_accuracy_list = []\n",
        "\n",
        "                #if there are preprocessing steps, add the model_creation \n",
        "                #to the pipeline:\n",
        "                if preprocessing_steps:\n",
        "                    steps = preprocessing_steps + [(model[0], model[1])]\n",
        "                else:\n",
        "                    steps = [(model[0], model[1])]\n",
        "                #create the pipeline, returns the processed data, the \n",
        "                #classifier ready for training and evaluating:\n",
        "                folded_data = ten_fold(data)\n",
        "                \n",
        "                #initialize a list with the accuracies for the folded data:\n",
        "                accuracy_list = []\n",
        "\n",
        "                #train for each of the 10 folds, begin from scratch every time,\n",
        "                #and then average out the results.\n",
        "                for data in folded_data:\n",
        "                    \n",
        "                    #process the data, create the classifier\n",
        "                    (processed_data, clf) = Pipeline(steps, data)\n",
        "                    (train, train_labels, test, test_labels) = processed_data\n",
        "                    #fit the classifier\n",
        "                    clf = clf.fit(train, train_labels)\n",
        "                    #make the predictions based on the training\n",
        "                    preds = clf.predict(test)\n",
        "                    accuracy_list.append(accuracy_score(test_labels, preds))\n",
        "                \n",
        "                #since no parameter list has been given, best_param = param\n",
        "                best_parameter = None\n",
        "                #store the average accuracy\n",
        "                avg_accuracy_list = sum(accuracy_list)/len(accuracy_list)\n",
        "    \n",
        "    \n",
        "    #if the classifier is a kNN:\n",
        "    elif model[0] == \"kNN\":\n",
        "\n",
        "        #if the kNN classifier has no parameters:    \n",
        "        if model[1]== -1:\n",
        "            #initialize the lists with the possible best parameters, and the average\n",
        "            #accuracies for each of the model parameter\n",
        "            avg_accuracy_list = []\n",
        "\n",
        "            #if there are preprocessing steps, add the model_creation \n",
        "            #to the pipeline:\n",
        "            if preprocessing_steps:\n",
        "                steps = preprocessing_steps + [(model[0], model[1])]\n",
        "            else:\n",
        "                steps = [(model[0], parameter)]\n",
        "            #create the pipeline, returns the processed data, the \n",
        "            #classifier ready for training and evaluating:\n",
        "            folded_data = ten_fold(data)\n",
        "            \n",
        "            #initialize a list with the accuracies for the folded data:\n",
        "            accuracy_list = []\n",
        "                \n",
        "            #train for each of the 10 folds, begin from scratch every time,\n",
        "            #and then average out the results.\n",
        "            for data in folded_data:\n",
        "                \n",
        "                #process the data, create the classifier\n",
        "                (processed_data, clf) = Pipeline(steps, data)\n",
        "                (train, train_labels, test, test_labels) = processed_data\n",
        "                #fit the classifier\n",
        "                clf = clf.fit(train, train_labels)\n",
        "                #make the predictions based on the training\n",
        "                preds = clf.predict(test)\n",
        "                accuracy_list.append(accuracy_score(test_labels, preds))\n",
        "            \n",
        "            #since no parameter list has been given, best_param = None\n",
        "            best_parameter = None\n",
        "            #store the average accuracy\n",
        "            avg_accuracy_list = sum(accuracy_list)/len(accuracy_list)\n",
        "\n",
        "        #if it has parameters (number_of_neighbors):    \n",
        "        else:\n",
        "            #initialize the lists with the possible best parameters, and the average\n",
        "            #accuracies for each of the model parameter\n",
        "            avg_accuracy_list = []\n",
        "            best_parameter = model[1][0]\n",
        "            #for each parameter, run the \n",
        "            for parameter in model[1]:\n",
        "    \n",
        "                #if there are preprocessing steps, add the model_creation \n",
        "                #to the pipeline:\n",
        "                if preprocessing_steps:\n",
        "                    steps = preprocessing_steps + [(model[0], parameter)]\n",
        "                else:\n",
        "                    steps = [(model[0], parameter)]\n",
        "                #create the pipeline, returns the processed data, the \n",
        "                #classifier ready for training and evaluating:\n",
        "                folded_data = ten_fold(data)\n",
        "                \n",
        "                #initialize a list with the accuracies for the folded data:\n",
        "                accuracy_list = []\n",
        "\n",
        "                #train for each of the 10 folds, begin from scratch every time,\n",
        "                #and then average out the results.\n",
        "                for data in folded_data:\n",
        "                    \n",
        "                    #process the data, create the classifier\n",
        "                    (processed_data, clf) = Pipeline(steps, data)\n",
        "                    (train, train_labels, test, test_labels) = processed_data\n",
        "                    #fit the classifier\n",
        "                    clf = clf.fit(train, train_labels)\n",
        "                    #make the predictions based on the training\n",
        "                    preds = clf.predict(test)\n",
        "                    accuracy_list.append(accuracy_score(test_labels, preds))\n",
        "                print(accuracy_list)\n",
        "                #store the average accuracy\n",
        "                avg_accuracy_list.append(sum(accuracy_list)/len(accuracy_list))\n",
        "\n",
        "\n",
        "                #if the average accuracy of the 10 folds is the best one yet, \n",
        "                #keep the parameter\n",
        "                if (sum(accuracy_list)/len(accuracy_list)) >= max(avg_accuracy_list):\n",
        "                    best_parameter = parameter\n",
        "                \n",
        "        \n",
        "        \n",
        "\n",
        "    print(\"Συνολικός χρόνος fit και predict: %s seconds\" % (time.time() - start_time))\n",
        "    return (clf, best_parameter, avg_accuracy_list)"
      ],
      "execution_count": 0,
      "outputs": []
    },
    {
      "cell_type": "code",
      "metadata": {
        "id": "TRmPXV7pibkh",
        "colab_type": "code",
        "colab": {}
      },
      "source": [
        "from sklearn.utils import shuffle\n",
        "\n",
        "\"\"\"This function is an implementation for KFold(). It takes one argument that \n",
        "is a tuple in the form (train, train_labels, test, test_labels), and returns\n",
        "a list of k (10) tuples in the same form. It shuffles the train and train \n",
        "labels, to randomize the data, before splitting. \"\"\"\n",
        "def ten_fold(data):\n",
        "    #In our exercise, the number of folds is 10:\n",
        "    k = 10\n",
        "    #Reading the data, no need to read the test and test_labels data.\n",
        "    train, train_labels, _, _ = data\n",
        "    #Randomize the data:\n",
        "    train, train_labels = shuffle(train, train_labels)\n",
        "    #train is a pandas dataframe, need to make it a numpy array:\n",
        "    train = np.asarray(train)\n",
        "    #This is the size of the test set each time:\n",
        "    fold_size = int(len(train)/k)\n",
        "    #Create the list to be returned, fill it:\n",
        "    folds = []\n",
        "    for i in range(0,10):\n",
        "        train1 = []\n",
        "        train_labels1 = []\n",
        "        test = []\n",
        "        test_labels = []\n",
        "        for j in range(0, len(train)):\n",
        "            if j>= i*fold_size and j<(i+1)*fold_size:\n",
        "                test.append(train[j])\n",
        "                test_labels.append(train_labels[j])\n",
        "            else:\n",
        "                train1.append(train[j])\n",
        "                train_labels1.append(train_labels[j])\n",
        "        folds.append((train1, train_labels1, test, test_labels))\n",
        "    return folds"
      ],
      "execution_count": 0,
      "outputs": []
    },
    {
      "cell_type": "code",
      "metadata": {
        "id": "mJ2oqrmDedlH",
        "colab_type": "code",
        "outputId": "5e879a62-9c65-43cf-bea7-df65e47d8e7d",
        "colab": {
          "base_uri": "https://localhost:8080/",
          "height": 613
        }
      },
      "source": [
        "df = pd.read_csv(\"all.csv\")\n",
        "df = df.drop(df.columns[[62, 63, 64, 65, 66, 67]], axis=1)\n",
        "labels_df = df.iloc[:, [62]]\n",
        "labels = labels_df.values.reshape(287,)\n",
        "df = df.drop(df.columns[62], axis=1)\n",
        "train, test, train_labels, test_labels = train_test_split(df, labels, test_size=0.2, random_state=78)\n",
        "\n",
        "print(len(train), len(test))\n",
        "data = (train, train_labels, test,  test_labels)\n",
        "print(\"1:\")\n",
        "clf, best_parameter, acc_list = model_tuning( (\"kNN\", -1),  data,    preprocessing_steps= [(\"selector\", \"PCA\"),(\"sampling\",\"Under\",0.5), (\"standardizer\", \"zscore\")]   )  \n",
        "\n",
        "print(\"best parameter = \",best_parameter,\"\\taccuracy: \", acc_list)\n",
        "print(\"2:\")\n",
        "clf, best_parameter, acc_list = model_tuning( (\"dummy\", None),  data,    preprocessing_steps= [(\"selector\", \"PCA\"),(\"sampling\",\"Under\",0.5), (\"standardizer\", \"zscore\")]   )    \n",
        "print(\"best parameter = \",best_parameter,\"\\taccuracy: \", acc_list)\n",
        "\n",
        "print(\"3:\")\n",
        "acc_list = []\n",
        "data = (train, train_labels, test,  test_labels)\n",
        "near = [i for i in range(1,22)]\n",
        "model = (\"kNN\", near)\n",
        "clf, best_parameter, acc_list = model_tuning(model, data)\n",
        "print(\"best parameter = \",best_parameter ,\"\\tmax_accuracy: \", max(acc_list))\n",
        "print(acc_list)"
      ],
      "execution_count": 320,
      "outputs": [
        {
          "output_type": "stream",
          "text": [
            "229 58\n",
            "1:\n",
            "Συνολικός χρόνος fit και predict: 1.146442174911499 seconds\n",
            "best parameter =  None \taccuracy:  0.5227272727272727\n",
            "2:\n",
            "Συνολικός χρόνος fit και predict: 0.12574291229248047 seconds\n",
            "best parameter =  None \taccuracy:  0.5181818181818182\n",
            "3:\n",
            "[0.6818181818181818, 0.8636363636363636, 0.8181818181818182, 0.6818181818181818, 0.6818181818181818, 0.5454545454545454, 0.7727272727272727, 0.7272727272727273, 0.6818181818181818, 0.6818181818181818]\n",
            "[0.75, 0.6, 0.7, 0.7, 0.7, 0.4, 0.5, 0.8, 0.75, 0.65]\n",
            "[0.5555555555555556, 0.8333333333333334, 0.5, 0.7777777777777778, 0.6111111111111112, 0.9444444444444444, 0.8333333333333334, 0.7222222222222222, 0.6666666666666666, 0.7777777777777778]\n",
            "[0.6875, 0.8125, 0.5625, 0.625, 0.6875, 0.6875, 0.5625, 0.5625, 0.6875, 0.6875]\n",
            "[0.6, 0.7333333333333333, 0.6, 0.9333333333333333, 0.8, 0.7333333333333333, 0.8, 0.7333333333333333, 0.8666666666666667, 0.6666666666666666]\n",
            "[0.6923076923076923, 0.9230769230769231, 0.5384615384615384, 0.8461538461538461, 0.6153846153846154, 0.8461538461538461, 0.7692307692307693, 0.5384615384615384, 0.6923076923076923, 0.6923076923076923]\n",
            "[0.75, 0.8333333333333334, 0.6666666666666666, 0.6666666666666666, 0.75, 0.9166666666666666, 0.5833333333333334, 0.8333333333333334, 0.9166666666666666, 0.75]\n",
            "[0.8181818181818182, 0.6363636363636364, 1.0, 1.0, 0.6363636363636364, 0.7272727272727273, 0.8181818181818182, 0.6363636363636364, 0.5454545454545454, 0.7272727272727273]\n",
            "[0.5, 0.7, 1.0, 0.9, 0.6, 1.0, 0.6, 1.0, 0.7, 0.7]\n",
            "[0.3333333333333333, 0.5555555555555556, 0.8888888888888888, 0.7777777777777778, 0.8888888888888888, 0.7777777777777778, 0.6666666666666666, 0.8888888888888888, 1.0, 0.8888888888888888]\n",
            "[0.625, 0.5, 0.875, 0.875, 0.875, 0.875, 0.875, 0.75, 0.625, 0.75]\n",
            "[0.7142857142857143, 0.8571428571428571, 0.5714285714285714, 0.7142857142857143, 0.7142857142857143, 1.0, 0.8571428571428571, 0.8571428571428571, 0.7142857142857143, 0.7142857142857143]\n",
            "[0.8333333333333334, 0.6666666666666666, 0.8333333333333334, 0.8333333333333334, 0.8333333333333334, 0.6666666666666666, 0.3333333333333333, 1.0, 0.6666666666666666, 1.0]\n",
            "[1.0, 0.6666666666666666, 1.0, 0.8333333333333334, 0.3333333333333333, 0.5, 0.8333333333333334, 0.6666666666666666, 0.6666666666666666, 0.8333333333333334]\n",
            "[0.8, 0.8, 0.8, 0.8, 0.8, 0.8, 0.6, 0.6, 0.8, 0.8]\n",
            "[0.8, 0.8, 0.6, 0.8, 0.6, 0.8, 0.8, 0.4, 0.6, 1.0]\n",
            "[0.5, 0.75, 0.5, 1.0, 0.75, 0.5, 0.5, 0.75, 0.75, 0.75]\n",
            "[0.5, 0.5, 0.75, 0.75, 0.75, 0.5, 1.0, 0.75, 0.25, 1.0]\n",
            "[0.6666666666666666, 1.0, 0.3333333333333333, 0.6666666666666666, 0.6666666666666666, 0.6666666666666666, 0.6666666666666666, 0.6666666666666666, 0.3333333333333333, 0.6666666666666666]\n",
            "[0.6666666666666666, 0.6666666666666666, 0.6666666666666666, 0.3333333333333333, 1.0, 0.3333333333333333, 0.6666666666666666, 0.6666666666666666, 0.6666666666666666, 0.6666666666666666]\n",
            "[0.6666666666666666, 0.6666666666666666, 0.0, 0.6666666666666666, 1.0, 0.3333333333333333, 1.0, 1.0, 0.3333333333333333, 0.6666666666666666]\n",
            "Συνολικός χρόνος fit και predict: 21.605040550231934 seconds\n",
            "best parameter =  12 \tmax_accuracy:  0.7714285714285714\n",
            "[0.7136363636363636, 0.655, 0.7222222222222222, 0.65625, 0.7466666666666666, 0.7153846153846154, 0.7666666666666666, 0.7545454545454546, 0.77, 0.7666666666666668, 0.7625, 0.7714285714285714, 0.7666666666666667, 0.7333333333333334, 0.7599999999999999, 0.72, 0.675, 0.675, 0.6333333333333333, 0.6333333333333335, 0.6333333333333334]\n"
          ],
          "name": "stdout"
        }
      ]
    },
    {
      "cell_type": "code",
      "metadata": {
        "id": "Rqq8OnaOlBuY",
        "colab_type": "code",
        "colab": {}
      },
      "source": [
        "print(acc_list)"
      ],
      "execution_count": 0,
      "outputs": []
    },
    {
      "cell_type": "code",
      "metadata": {
        "id": "Y-Dve50_lDni",
        "colab_type": "code",
        "colab": {}
      },
      "source": [
        ""
      ],
      "execution_count": 0,
      "outputs": []
    }
  ]
}