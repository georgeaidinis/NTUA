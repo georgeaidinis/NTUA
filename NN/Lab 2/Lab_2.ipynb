{
  "nbformat": 4,
  "nbformat_minor": 0,
  "metadata": {
    "colab": {
      "name": "Lab_2.ipynb",
      "provenance": [],
      "collapsed_sections": [],
      "include_colab_link": true
    },
    "kernelspec": {
      "name": "python3",
      "display_name": "Python 3"
    },
    "accelerator": "GPU"
  },
  "cells": [
    {
      "cell_type": "markdown",
      "metadata": {
        "id": "view-in-github",
        "colab_type": "text"
      },
      "source": [
        "<a href=\"https://colab.research.google.com/github/georgeaidinis/NTUA/blob/master/NN/Lab%202/Lab_2.ipynb\" target=\"_parent\"><img src=\"https://colab.research.google.com/assets/colab-badge.svg\" alt=\"Open In Colab\"/></a>"
      ]
    },
    {
      "cell_type": "markdown",
      "metadata": {
        "colab_type": "text",
        "id": "hLFXD3IePSyL"
      },
      "source": [
        "# Εργαστηριακή Άσκηση 2. Μη επιβλεπόμενη μάθηση. \n",
        "Ημερομηνία εκφώνησης άσκησης: 8/12/19\n",
        "## Σύστημα συστάσεων βασισμένο στο περιεχόμενο\n",
        "## Σημασιολογική απεικόνιση δεδομένων με χρήση SOM \n",
        "\n"
      ]
    },
    {
      "cell_type": "code",
      "metadata": {
        "id": "S5wbBzIYnird",
        "colab_type": "code",
        "colab": {
          "base_uri": "https://localhost:8080/",
          "height": 260
        },
        "outputId": "856bf16b-b9da-44c7-911a-c6ce92508262"
      },
      "source": [
        "!pip install --upgrade pip\n",
        "!pip install --upgrade numpy\n",
        "!pip install --upgrade pandas\n",
        "!pip install --upgrade nltk\n",
        "!pip install --upgrade scikit-learn\n",
        "!pip install --upgrade joblib"
      ],
      "execution_count": 2,
      "outputs": [
        {
          "output_type": "stream",
          "text": [
            "Requirement already up-to-date: pip in /usr/local/lib/python3.6/dist-packages (20.0.2)\n",
            "Requirement already up-to-date: numpy in /usr/local/lib/python3.6/dist-packages (1.18.1)\n",
            "Requirement already up-to-date: pandas in /usr/local/lib/python3.6/dist-packages (0.25.3)\n",
            "Requirement already satisfied, skipping upgrade: pytz>=2017.2 in /usr/local/lib/python3.6/dist-packages (from pandas) (2018.9)\n",
            "Requirement already satisfied, skipping upgrade: numpy>=1.13.3 in /usr/local/lib/python3.6/dist-packages (from pandas) (1.18.1)\n",
            "Requirement already satisfied, skipping upgrade: python-dateutil>=2.6.1 in /usr/local/lib/python3.6/dist-packages (from pandas) (2.6.1)\n",
            "Requirement already satisfied, skipping upgrade: six>=1.5 in /usr/local/lib/python3.6/dist-packages (from python-dateutil>=2.6.1->pandas) (1.12.0)\n",
            "Requirement already up-to-date: nltk in /usr/local/lib/python3.6/dist-packages (3.4.5)\n",
            "Requirement already satisfied, skipping upgrade: six in /usr/local/lib/python3.6/dist-packages (from nltk) (1.12.0)\n",
            "Requirement already up-to-date: scikit-learn in /usr/local/lib/python3.6/dist-packages (0.22.1)\n",
            "Requirement already satisfied, skipping upgrade: joblib>=0.11 in /usr/local/lib/python3.6/dist-packages (from scikit-learn) (0.14.1)\n",
            "Requirement already satisfied, skipping upgrade: scipy>=0.17.0 in /usr/local/lib/python3.6/dist-packages (from scikit-learn) (1.4.1)\n",
            "Requirement already satisfied, skipping upgrade: numpy>=1.11.0 in /usr/local/lib/python3.6/dist-packages (from scikit-learn) (1.18.1)\n",
            "Requirement already up-to-date: joblib in /usr/local/lib/python3.6/dist-packages (0.14.1)\n"
          ],
          "name": "stdout"
        }
      ]
    },
    {
      "cell_type": "markdown",
      "metadata": {
        "colab_type": "text",
        "id": "aViHqlQcPSyP"
      },
      "source": [
        "## Εισαγωγή του Dataset"
      ]
    },
    {
      "cell_type": "markdown",
      "metadata": {
        "colab_type": "text",
        "id": "2ZVmdDExPSyQ"
      },
      "source": [
        "Το σύνολο δεδομένων με το οποίο θα δουλέψουμε είναι βασισμένο στο [Carnegie Mellon Movie Summary Corpus](http://www.cs.cmu.edu/~ark/personas/). Πρόκειται για ένα dataset με περίπου 40.000 περιγραφές ταινιών. Η περιγραφή κάθε ταινίας αποτελείται από τον τίτλο της, μια ή περισσότερες ετικέτες που χαρακτηρίζουν το είδος της ταινίας και τέλος τη σύνοψη της υπόθεσής της. Αρχικά εισάγουμε το dataset (χρησιμοποιήστε αυτούσιο τον κώδικα, δεν χρειάζεστε το αρχείο csv) στο dataframe `df_data_1`: "
      ]
    },
    {
      "cell_type": "code",
      "metadata": {
        "colab_type": "code",
        "id": "62SOj46gPSyS",
        "colab": {}
      },
      "source": [
        "import pandas as pd\n",
        "\n",
        "dataset_url = \"https://drive.google.com/uc?export=download&id=1PdkVDENX12tQliCk_HtUnAUbfxXvnWuG\"\n",
        "df_data_1 = pd.read_csv(dataset_url, sep='\\t',  header=None, quoting=3, error_bad_lines=False)"
      ],
      "execution_count": 0,
      "outputs": []
    },
    {
      "cell_type": "markdown",
      "metadata": {
        "colab_type": "text",
        "id": "7TAEZGdIPSyW"
      },
      "source": [
        "Κάθε ομάδα θα δουλέψει σε ένα μοναδικό υποσύνολο 5.000 ταινιών (διαφορετικό dataset για κάθε ομάδα) ως εξής\n",
        "\n",
        "1. Κάθε ομάδα μπορεί να βρει [εδώ](https://docs.google.com/spreadsheets/d/1oEr3yuPg22lmMeqDjFtWjJRzmGQ8N57YIuV-ZOvy3dM/edit?usp=sharing) τον μοναδικό  αριθμό της \"Seed\" από 1 έως 78. \n",
        "\n",
        "2. Το data frame `df_data_2` έχει 78 γραμμές (ομάδες) και 5.000 στήλες. Σε κάθε ομάδα αντιστοιχεί η γραμμή του πίνακα με το `team_seed_number` της. Η γραμμή αυτή θα περιλαμβάνει 5.000 διαφορετικούς αριθμούς που αντιστοιχούν σε ταινίες του αρχικού dataset. \n",
        "\n",
        "3. Στο επόμενο κελί αλλάξτε τη μεταβλητή `team_seed_number` με το Seed της ομάδας σας από το Google Sheet.\n",
        "\n",
        "4. Τρέξτε τον κώδικα. Θα προκύψουν τα μοναδικά για κάθε ομάδα  titles, categories, catbins, summaries και corpus με τα οποία θα δουλέψετε."
      ]
    },
    {
      "cell_type": "code",
      "metadata": {
        "colab_type": "code",
        "id": "2POlqDjkPSyY",
        "colab": {}
      },
      "source": [
        "import numpy as np\n",
        "\n",
        "# βάλτε το seed που αντιστοιχεί στην ομάδα σας\n",
        "team_seed_number = 23\n",
        "\n",
        "movie_seeds_url = \"https://drive.google.com/uc?export=download&id=1RRoiOjhD0JB3l4oHNFOmPUqZHDphIdwL\"\n",
        "df_data_2 = pd.read_csv(movie_seeds_url, header=None, error_bad_lines=False)\n",
        "\n",
        "# επιλέγεται \n",
        "my_index = df_data_2.iloc[team_seed_number,:].values\n",
        "\n",
        "titles = df_data_1.iloc[:, [2]].values[my_index] # movie titles (string), list of 5000\n",
        "categories = df_data_1.iloc[:, [3]].values[my_index] # movie categories (string), list of 5000\n",
        "bins = df_data_1.iloc[:, [4]]\n",
        "catbins = bins[4].str.split(',', expand=True).values.astype(np.float)[my_index] # movie categories in binary form (1 feature per category), array of 5000*322\n",
        "summaries =  df_data_1.iloc[:, [5]].values[my_index] # movie summaries (string)\n",
        "corpus = summaries[:,0].tolist() # list form of summaries"
      ],
      "execution_count": 0,
      "outputs": []
    },
    {
      "cell_type": "markdown",
      "metadata": {
        "colab_type": "text",
        "id": "If66lkwxPSyb"
      },
      "source": [
        "- Ο πίνακας **titles** περιέχει τους τίτλους των ταινιών. Παράδειγμα: 'Sid and Nancy'.\n",
        "- O πίνακας **categories** περιέχει τις κατηγορίες (είδη) της ταινίας υπό τη μορφή string. Παράδειγμα: '\"Tragedy\",  \"Indie\",  \"Punk rock\",  \"Addiction Drama\",  \"Cult\",  \"Musical\",  \"Drama\",  \"Biopic \\[feature\\]\",  \"Romantic drama\",  \"Romance Film\",  \"Biographical film\"'. Παρατηρούμε ότι είναι μια comma separated λίστα strings, με κάθε string να είναι μια κατηγορία.\n",
        "- Ο πίνακας **catbins** περιλαμβάνει πάλι τις κατηγορίες των ταινιών αλλά σε δυαδική μορφή ([one hot encoding](https://hackernoon.com/what-is-one-hot-encoding-why-and-when-do-you-have-to-use-it-e3c6186d008f)). Έχει διαστάσεις 5.000 x 322 (όσες οι διαφορετικές κατηγορίες). Αν η ταινία ανήκει στο συγκεκριμένο είδος η αντίστοιχη στήλη παίρνει την τιμή 1, αλλιώς παίρνει την τιμή 0.\n",
        "- Ο πίνακας **summaries** και η λίστα **corpus** περιλαμβάνουν τις συνόψεις των ταινιών (η corpus είναι απλά ο summaries σε μορφή λίστας). Κάθε σύνοψη είναι ένα (συνήθως μεγάλο) string. Παράδειγμα: *'The film is based on the real story of a Soviet Internal Troops soldier who killed his entire unit  as a result of Dedovschina. The plot unfolds mostly on board of the prisoner transport rail car guarded by a unit of paramilitary conscripts.'*\n",
        "- Θεωρούμε ως **ID** της κάθε ταινίας τον αριθμό γραμμής της ή το αντίστοιχο στοιχείο της λίστας. Παράδειγμα: για να τυπώσουμε τη σύνοψη της ταινίας με `ID=99` (την εκατοστή) θα γράψουμε `print(corpus[99])`."
      ]
    },
    {
      "cell_type": "code",
      "metadata": {
        "colab_type": "code",
        "id": "k_7A3KXLp0qS",
        "outputId": "b2061e89-d877-4d8a-b581-9504086e1f0d",
        "colab": {
          "base_uri": "https://localhost:8080/",
          "height": 332
        }
      },
      "source": [
        "ID = 99\n",
        "print(titles[ID])\n",
        "print(categories[ID])\n",
        "print(catbins[ID])\n",
        "print(corpus[ID])"
      ],
      "execution_count": 9,
      "outputs": [
        {
          "output_type": "stream",
          "text": [
            "['Chick Magnet']\n",
            "['\"Romantic comedy\",  \"Romance Film\",  \"Comedy\",  \"Comedy film\"']\n",
            "[0. 0. 0. 0. 0. 0. 0. 0. 0. 0. 0. 0. 0. 0. 0. 0. 0. 0. 0. 0. 0. 0. 0. 0.\n",
            " 0. 0. 0. 0. 0. 0. 0. 0. 0. 0. 0. 0. 0. 0. 0. 0. 0. 0. 0. 0. 0. 0. 0. 0.\n",
            " 0. 0. 0. 0. 0. 0. 0. 0. 0. 0. 0. 0. 0. 0. 0. 0. 0. 0. 0. 1. 0. 0. 1. 0.\n",
            " 0. 0. 0. 0. 0. 0. 0. 0. 0. 0. 0. 0. 0. 0. 0. 0. 0. 0. 0. 0. 0. 0. 0. 0.\n",
            " 0. 0. 0. 0. 0. 0. 0. 0. 0. 0. 0. 0. 0. 0. 0. 0. 0. 0. 0. 0. 0. 0. 0. 0.\n",
            " 0. 0. 0. 0. 0. 0. 0. 0. 0. 0. 0. 0. 0. 0. 0. 0. 0. 0. 0. 0. 0. 0. 0. 0.\n",
            " 0. 0. 0. 0. 0. 0. 0. 0. 0. 0. 0. 0. 0. 0. 0. 0. 0. 0. 0. 0. 0. 0. 0. 0.\n",
            " 0. 0. 0. 0. 0. 0. 0. 0. 0. 0. 0. 0. 0. 0. 0. 0. 0. 0. 0. 0. 0. 0. 0. 0.\n",
            " 0. 0. 0. 0. 0. 0. 0. 0. 0. 0. 0. 0. 0. 0. 0. 0. 0. 0. 0. 0. 0. 0. 0. 0.\n",
            " 0. 0. 0. 0. 0. 0. 0. 0. 0. 0. 0. 0. 0. 0. 0. 0. 0. 0. 0. 0. 0. 0. 0. 0.\n",
            " 0. 0. 0. 0. 0. 0. 0. 0. 0. 0. 0. 0. 0. 0. 0. 0. 1. 1. 0. 0. 0. 0. 0. 0.\n",
            " 0. 0. 0. 0. 0. 0. 0. 0. 0. 0. 0. 0. 0. 0. 0. 0. 0. 0. 0. 0. 0. 0. 0. 0.\n",
            " 0. 0. 0. 0. 0. 0. 0. 0. 0. 0. 0. 0. 0. 0. 0. 0. 0. 0. 0. 0. 0. 0. 0. 0.\n",
            " 0. 0. 0. 0. 0. 0. 0. 0. 0. 0.]\n",
            "When freeloader Phil is tossed out by the love of his life, Jen, he stays with two old friends who come upon a magic shirt that guarantees them sex with all the women they can handle. The three losers have their lives upended as Phil’s friends pursue a daily diet of Maxim models and close encounters with Hollywood’s hottest-but Phil schemes to use the shirt to win back Jen. And when an insane marine steals the shirt and threatens to use it on Jen, Phil’s battle for her affections takes on dangerously high stakes. Chick Magnet makes it clear that the laws of attraction were made to be broken.\n"
          ],
          "name": "stdout"
        }
      ]
    },
    {
      "cell_type": "markdown",
      "metadata": {
        "colab_type": "text",
        "id": "UTNgwBfjPSyc"
      },
      "source": [
        "# Εφαρμογή 1. Υλοποίηση συστήματος συστάσεων ταινιών βασισμένο στο περιεχόμενο\n",
        "<img src=\"http://clture.org/wp-content/uploads/2015/12/Netflix-Streaming-End-of-Year-Posts.jpg\" width=\"70%\">"
      ]
    },
    {
      "cell_type": "markdown",
      "metadata": {
        "colab_type": "text",
        "id": "rnA2RP8GPSyf"
      },
      "source": [
        "Η πρώτη εφαρμογή που θα αναπτύξετε θα είναι ένα [σύστημα συστάσεων](https://en.wikipedia.org/wiki/Recommender_system) ταινιών βασισμένο στο περιεχόμενο (content based recommender system). Τα συστήματα συστάσεων στοχεύουν στο να προτείνουν αυτόματα στο χρήστη αντικείμενα από μια συλλογή τα οποία ιδανικά θέλουμε να βρει ενδιαφέροντα ο χρήστης. Η κατηγοριοποίηση των συστημάτων συστάσεων βασίζεται στο πώς γίνεται η επιλογή (filtering) των συστηνόμενων αντικειμένων. Οι δύο κύριες κατηγορίες είναι η συνεργατική διήθηση (collaborative filtering) όπου το σύστημα προτείνει στο χρήστη αντικείμενα που έχουν αξιολογηθεί θετικά από χρήστες που έχουν παρόμοιο με αυτόν ιστορικό αξιολογήσεων και η διήθηση με βάση το περιεχόμενο (content based filtering), όπου προτείνονται στο χρήστη αντικείμενα με παρόμοιο περιεχόμενο (με βάση κάποια χαρακτηριστικά) με αυτά που έχει προηγουμένως αξιολογήσει θετικά.\n",
        "\n",
        "Το σύστημα συστάσεων που θα αναπτύξετε θα βασίζεται στο **περιεχόμενο** και συγκεκριμένα στις συνόψεις των ταινιών (corpus). \n"
      ]
    },
    {
      "cell_type": "markdown",
      "metadata": {
        "colab_type": "text",
        "id": "DD5KuSKrxQ8I"
      },
      "source": [
        "## Μετατροπή σε TFIDF\n",
        "\n",
        "Το πρώτο βήμα θα είναι λοιπόν να μετατρέψετε το corpus σε αναπαράσταση tf-idf. <br> Ο TfidfVectorizer συνδυάζει τα μοντέλα CountVectorizer και TfidfTransformer. Ο πρώτος εφαρμόζει tokenization και βρίσκει τις εμφανίσεις κάθε λέξης σε κάθε κείμενο του corpus, δηλαδή σε κάθε κριτική. Ο δεύτερος υπολογίζει τους tf-idf συντελεστές.<br>\n",
        "Δεν λαμβάνονται υπόψην λέξεις που:\n",
        "* δεν προσθέτουν νέα πληροφορία λόγω της εμφάνισής τους σε πολλά αγγλικά κείμενα (stop words)\n",
        "* εμφανίζονται ποσοστό των κειμένων του corpus μεγαλύτερο του x (max_df)\n",
        "* εμφανίζονται σε λιγότερα κείμενα από y (min_df)\n"
      ]
    },
    {
      "cell_type": "markdown",
      "metadata": {
        "colab_type": "text",
        "id": "9Ioa2JSzjqlh"
      },
      "source": [
        "Αλλάζουμε τις παραμέτρους δίνοντάς μας τη δυνατότητα να προσθέσουμε και δικιές μας stopwords."
      ]
    },
    {
      "cell_type": "code",
      "metadata": {
        "colab_type": "code",
        "id": "s5YP6XCZPSyh",
        "colab": {}
      },
      "source": [
        "from sklearn.feature_extraction.text import ENGLISH_STOP_WORDS as stopwords_english\n",
        "from sklearn.feature_extraction.text import TfidfVectorizer\n",
        "\n",
        "def tf_idf(mx_df, mn_df, my_stopwrods=list()):\n",
        "\n",
        "  stopwords_film = [\"movie\", \"film\", \"plot\", \"begins\", \"opens\", \"starts\", \"piece\", \"named\", \"woman\", \"women\", \"man\", \"men\", \"prologue\", \"help\", \"helping\"]\n",
        "  stopwords = list(stopwords_english) + list(my_stopwrods) + list(stopwords_film)# enhancing stopwords\n",
        "\n",
        "  vectorizer = TfidfVectorizer(max_df=mx_df, min_df=mn_df, stop_words=stopwords, analyzer='word')\n",
        "  vectorizer.fit(corpus)\n",
        "  corpus_tf_idf = vectorizer.transform(corpus)\n",
        "  print(\"Dimensions: \", corpus_tf_idf.shape, \"\\n\")\n",
        "\n",
        "\n",
        "  return corpus_tf_idf"
      ],
      "execution_count": 0,
      "outputs": []
    },
    {
      "cell_type": "markdown",
      "metadata": {
        "colab_type": "text",
        "id": "H-uRZK3EPSyl"
      },
      "source": [
        "Η συνάρτηση [TfidfVectorizer](http://scikit-learn.org/stable/modules/generated/sklearn.feature_extraction.text.TfidfVectorizer.html) όπως καλείται εδώ **δεν είναι βελτιστοποιημένη**. Οι επιλογές των μεθόδων και παραμέτρων της μπορεί να έχουν **δραματική επίδραση στην ποιότητα των συστάσεων** και είναι διαφορετικές για κάθε dataset. Επίσης, οι επιλογές αυτές έχουν πολύ μεγάλη επίδραση και στη **διαστατικότητα και όγκο των δεδομένων**. Η διαστατικότητα των δεδομένων με τη σειρά της θα έχει πολύ μεγάλη επίδραση στους **χρόνους εκπαίδευσης**, ιδιαίτερα στη δεύτερη εφαρμογή της άσκησης. Ανατρέξτε στα notebooks του εργαστηρίου και στο [FAQ](https://docs.google.com/document/d/1-E4eQkVnTxa3Jb0HL9OAs11bugYRRZ7RNWpu7yh9G4s/edit?usp=sharing) των ασκήσεων.\n"
      ]
    },
    {
      "cell_type": "code",
      "metadata": {
        "id": "y_Cw0brpnisF",
        "colab_type": "code",
        "outputId": "1d2de0fa-6ad8-49c4-c79f-f238bef7cda2",
        "colab": {
          "base_uri": "https://localhost:8080/",
          "height": 937
        }
      },
      "source": [
        "print(tf_idf(1.0, 0))"
      ],
      "execution_count": 12,
      "outputs": [
        {
          "output_type": "stream",
          "text": [
            "Dimensions:  (5000, 48259) \n",
            "\n",
            "  (0, 40124)\t0.21238465458574116\n",
            "  (0, 39464)\t0.13351976687936476\n",
            "  (0, 35971)\t0.14615800861628445\n",
            "  (0, 34587)\t0.5789705755549767\n",
            "  (0, 33502)\t0.18037842247252975\n",
            "  (0, 32638)\t0.19705388864626128\n",
            "  (0, 27935)\t0.3238774441811171\n",
            "  (0, 23987)\t0.4872240039741379\n",
            "  (0, 17918)\t0.09922598819785111\n",
            "  (0, 16542)\t0.23676633227404953\n",
            "  (0, 16405)\t0.2104218843363792\n",
            "  (0, 7736)\t0.23804251310562874\n",
            "  (1, 47902)\t0.01423446731727961\n",
            "  (1, 47802)\t0.0159759637184735\n",
            "  (1, 47603)\t0.02927745942024364\n",
            "  (1, 47601)\t0.056512661619941985\n",
            "  (1, 47595)\t0.07880768817412807\n",
            "  (1, 47519)\t0.03543301973938139\n",
            "  (1, 47506)\t0.037654407714266945\n",
            "  (1, 47504)\t0.03506671805545417\n",
            "  (1, 47480)\t0.033969809026154\n",
            "  (1, 47449)\t0.027699709952391828\n",
            "  (1, 47419)\t0.025933547469626096\n",
            "  (1, 47143)\t0.015094840668391412\n",
            "  (1, 46827)\t0.026012023883060488\n",
            "  :\t:\n",
            "  (4999, 25221)\t0.07182670346256194\n",
            "  (4999, 24998)\t0.098165486502305\n",
            "  (4999, 24418)\t0.0788913580998555\n",
            "  (4999, 23583)\t0.060799482581889545\n",
            "  (4999, 21005)\t0.12711296985439807\n",
            "  (4999, 20105)\t0.09538662589016884\n",
            "  (4999, 20104)\t0.1733579835273829\n",
            "  (4999, 19276)\t0.06115551491117103\n",
            "  (4999, 17739)\t0.15727808631839016\n",
            "  (4999, 16366)\t0.07528094969643924\n",
            "  (4999, 15863)\t0.07700982133719246\n",
            "  (4999, 15469)\t0.09897330362864254\n",
            "  (4999, 15346)\t0.10948163296871728\n",
            "  (4999, 13351)\t0.1360644065225091\n",
            "  (4999, 9936)\t0.09457689451018209\n",
            "  (4999, 9133)\t0.12128625656848781\n",
            "  (4999, 8964)\t0.10269833269679923\n",
            "  (4999, 7908)\t0.14766286972579143\n",
            "  (4999, 7540)\t0.08633325275443393\n",
            "  (4999, 6756)\t0.0986502616356164\n",
            "  (4999, 4771)\t0.08870991612514217\n",
            "  (4999, 2304)\t0.14822863038492015\n",
            "  (4999, 2052)\t0.07960102724751934\n",
            "  (4999, 1488)\t0.07418467973776308\n",
            "  (4999, 1294)\t0.13264584291395204\n"
          ],
          "name": "stdout"
        }
      ]
    },
    {
      "cell_type": "markdown",
      "metadata": {
        "colab_type": "text",
        "id": "3LsmvSyVykTU"
      },
      "source": [
        "## Υλοποίηση του συστήματος συστάσεων\n",
        "\n",
        "Το σύστημα συστάσεων που θα παραδώσετε θα είναι μια συνάρτηση `content_recommender` με δύο ορίσματα `target_movie` και `max_recommendations`. Στην `target_movie` περνάμε το ID μιας ταινίας-στόχου για την οποία μας ενδιαφέρει να βρούμε παρόμοιες ως προς το περιεχόμενο (τη σύνοψη) ταινίες, `max_recommendations` στο πλήθος.\n",
        "Υλοποιήστε τη συνάρτηση ως εξής: \n",
        "- για την ταινία-στόχο, από το `corpus_tf_idf` υπολογίστε την [ομοιότητα συνημιτόνου](https://en.wikipedia.org/wiki/Cosine_similarity) της με όλες τις ταινίες της συλλογής σας\n",
        "- με βάση την ομοιότητα συνημιτόνου που υπολογίσατε, δημιουργήστε ταξινομημένο πίνακα από το μεγαλύτερο στο μικρότερο, με τα indices (`ID`) των ταινιών. Παράδειγμα: αν η ταινία με index 1 έχει ομοιότητα συνημιτόνου με 3 ταινίες \\[0.2 1 0.6\\] (έχει ομοιότητα 1 με τον εαύτό της) ο ταξινομημένος αυτός πίνακας indices θα είναι \\[1 2 0\\].\n",
        "- Για την ταινία-στόχο εκτυπώστε: id, τίτλο, σύνοψη, κατηγορίες (categories)\n",
        "- Για τις `max_recommendations` ταινίες (πλην της ίδιας της ταινίας-στόχου που έχει cosine similarity 1 με τον εαυτό της) με τη μεγαλύτερη ομοιότητα συνημιτόνου (σε φθίνουσα σειρά), τυπώστε σειρά σύστασης (1 πιο κοντινή, 2 η δεύτερη πιο κοντινή κλπ), id, τίτλο, σύνοψη, κατηγορίες (categories)\n"
      ]
    },
    {
      "cell_type": "code",
      "metadata": {
        "id": "DV_Q6AehAi5b",
        "colab_type": "code",
        "colab": {}
      },
      "source": [
        "# function that prints movie info\n",
        "def print_movie(ID):\n",
        "  print(\"ID: \", ID)\n",
        "  print(\"Title: \", ', '.join(titles[ID]))\n",
        "  print(\"Categories: \", ', '.join(categories[ID]))\n",
        "  print(\"Summary:\\n\", corpus[ID], \"\\n\")"
      ],
      "execution_count": 0,
      "outputs": []
    },
    {
      "cell_type": "code",
      "metadata": {
        "id": "WTD9H9kH5-nU",
        "colab_type": "code",
        "colab": {}
      },
      "source": [
        "from sklearn.metrics.pairwise import linear_kernel\n",
        "\n",
        "def content_recommender(ID, max_recommendations):\n",
        "  cosine_similarities = linear_kernel(corpus_tf_idf[ID], corpus_tf_idf).flatten()  # calculating cosine similarities using sparse matrices\n",
        "\n",
        "  cosine_similarities = (-cosine_similarities).argsort()  # sorting the array and saving movies based on ID's\n",
        "\n",
        "  print_movie(ID)  # print target movie info\n",
        "\n",
        "  for i in range(1, max_recommendations+1):   # print recommendations\n",
        "    print(\"Place:\", i)\n",
        "    print_movie(cosine_similarities[i])"
      ],
      "execution_count": 0,
      "outputs": []
    },
    {
      "cell_type": "markdown",
      "metadata": {
        "id": "AnvR_-DXDzW4",
        "colab_type": "text"
      },
      "source": [
        "Ένα παράδειγμα χρήσης για την 2η ταινία και 5 recommendations:"
      ]
    },
    {
      "cell_type": "code",
      "metadata": {
        "id": "0Y2QicrfSZf9",
        "colab_type": "code",
        "outputId": "c6eb38d0-9e82-478d-949b-e1990cf5b15f",
        "colab": {
          "base_uri": "https://localhost:8080/",
          "height": 52
        }
      },
      "source": [
        "corpus_tf_idf = tf_idf(1.0, 0)"
      ],
      "execution_count": 15,
      "outputs": [
        {
          "output_type": "stream",
          "text": [
            "Dimensions:  (5000, 48259) \n",
            "\n"
          ],
          "name": "stdout"
        }
      ]
    },
    {
      "cell_type": "code",
      "metadata": {
        "id": "1D0VKoRNSps-",
        "colab_type": "code",
        "outputId": "9ed50429-7796-450d-86a4-0b809091cad6",
        "colab": {
          "base_uri": "https://localhost:8080/",
          "height": 749
        }
      },
      "source": [
        "content_recommender(1, 5)"
      ],
      "execution_count": 16,
      "outputs": [
        {
          "output_type": "stream",
          "text": [
            "ID:  1\n",
            "Title:  The Nines\n",
            "Categories:  \"Science Fiction\",  \"Comedy-drama\",  \"Mystery\",  \"Drama\",  \"Fantasy Drama\",  \"Fantasy\"\n",
            "Summary:\n",
            " \"Part One: The Prisoner\" tells of a troubled actor, Gary , who is wearing a green bracelet on his wrist. Gary is under house arrest living in another person's house because he burned down his own. The owner of the house is described as a TV writer away on work. While living in the house he is befriended by both a P.R. 'handler', Margaret , and the single mom next door, Sarah , who may or may not be interested in him romantically. Over the course of his house arrest, Gary becomes convinced that he is being haunted by the number nine, including finding a note saying \"Look for the nines\" in his handwriting. He encounters many occurrences of the number nine, while playing backgammon he rolls nines, while reading newspaper advertisements he becomes obsessed with finding nines. Asking Sarah about the number 9 worries her and she cryptically tells him \"I can get you out of here\". He also sees different versions of himself around the house, which unsettles him, causing him to break out of his house arrest barrier, which in turn causes a blip in reality. \"Part Two: Reality Television\" tells of a television writer, Gavin , trying to get his pilot made. He leaves his house to go away and work on his TV show, Knowing, about a mother and daughter who are lost, which stars his friend Melissa  as the lead actress. In a conversation about reviews and critics Susan , a television executive and producer of the show, tells Gavin to look for the nines which he then writes on a piece of paper, the same piece which Gary found in Part One. He also tells Melissa he thinks he is haunted by himself. During the process of post production, Susan pushes for Gavin to ditch his friend Melissa as the unconventional lead actress of his project, in favor of a more attractive, well-known actress. This causes an argument between him and Melissa. He then finds out that the well-known actress was actually cast in another show which Susan knew of before suggesting her. Since she is now unavailable and Melissa won't answer Gavin's phone-calls. Gavin confronts Susan about her knowing his show would never get picked up and about him only being a subject on a Reality-TV show. After a heated exchange, he snaps and slaps her in the mouth. Insulting his manhood for hitting a woman she scoffs \"Do you think you are a man\"? She walks away, which leads to him telling the reality TV cameraman to leave him alone. A pedestrian then asks him who he is talking to, and it is shown that the reality television cameraman does not exist. He looks around and notices that everyone has a 7 floating above their heads and also that he has the number nine floating above his head. A flashback from Part One shows Gary's P.R. handler, Margaret, telling him he is a God-like being and that God is a 10, humans are a 7 and that he is a 9, therefore he can destroy the world with a single thought, and that he exists in many different forms and that none of them are real. Gary does not believe this and flips out, which is revealed to be the real reason for his breaking his house arrest barrier in Part One. \"Part Three: Knowing\" tells of an acclaimed video game designer, Gabriel , whose car breaks down in the middle of nowhere. Gabriel leaves his wife, Mary , and young daughter, Noelle, to try to get a better signal on his phone. He meets a woman, Sierra , who leads him off into the woods to her car, so she can give him a lift to the gas station. Meanwhile back at the car Noelle watches a video on a digital camera showing Gavin talking to Melissa from Part Two and Margaret talking to Gary in Part One. She is confused and shows her mom, who appears confused as well. Meanwhile, Gabriel shows signs of intoxication, as Sierra had drugged water she was giving him with GHB. She has been trying all along as Sarah, Sierra, Susan to separate the other three incarnations of \"G\" from Mary. That poisoning him with GHB was the only way to get him to stop long enough to reason with him. She calms Gabriel by telling him that this is an intervention and they , were trying to help him come home. She likens Gabriel's addiction to video game addiction. That Gabriel has been playing for 4,000 years reincarnating into different roles to play with the humans. The 3 nines plead with him to come back home. Back at the car Noelle has gone missing. Gabriel then returns to the car with Noelle in his arms and the family goes home. Mary, who realizes that he is not who he seems, tells Gabriel he needs to go and that the world is not real. Gabriel tells her that there were ninety different variations of the universe and this is the last one. Gabriel then realizes he must go and removes the green bracelet from his wrist, at which point the universe peels away into nothing. The film ends with the woman from all three parts married to Ben, whom she is married to in Part Two, and Noelle as their daughter. Noelle tells her mother that \"he's not coming back\" and that \"all the pieces have been put together\" and her mother finishes her sentence that this is \"the best of all possible worlds.\" \n",
            "\n",
            "Place: 1\n",
            "ID:  3951\n",
            "Title:  Gabriel\n",
            "Categories:  \"Horror\",  \"Indie\",  \"World cinema\",  \"Action/Adventure\",  \"Fantasy\",  \"Action\"\n",
            "Summary:\n",
            " Since the beginning of time, heaven and hell have fought over purgatory and the souls trapped inside it. Each side has sent seven warriors: archangels from heaven, fallen angels from hell. They must assume human form to enter purgatory. Hell has attained control, transforming purgatory into a dark, seedy city. The last archangel, Gabriel , endeavours to discover what has become of his comrades and to restore the Light. Upon entering purgatory, Gabriel first visits the archangel Michael's apartment, finding it abandoned. Meanwhile, four of the seven Fallen—Sammael , Asmodeus , Balan , and Baliel—gather and Sammael kills an insubordinate Baliel, so reducing the Fallen's number from seven to six. While walking through the city, Gabriel receives a vision about the whereabouts of his comrade Uriel . However, the leader of the Fallen, Sammael, senses Gabriel’s presence and sends the Fallen Molloch  to kill him. Gabriel fights and kills Molloch, then proceeds to the city's outskirts. He finds a dishevelled and alcoholic Uriel hiding in a rundown bus. After mortally wounding, then convincing Uriel to heal himself, Uriel explains to Gabriel that the Fallen can sense Archangels when they use their powers, and teaches Gabriel to conceal his bright blue angel eyes. He also reluctantly tells Gabriel what happened to some of the other five Archangels: Remiel was killed before Uriel arrived; and Amitiel , who now calls herself Jade, was defeated by Sammael, stripped of her wings, and forced to work as a prostitute; the whereabouts of Ithuriel , Raphael , and Michael are uncertain, but Raphael is most likely hiding in the East Side of the city and it is thought that Sammael has killed Michael. Uriel also explains that due to the nature of the evil and darkness that controls purgatory that Gabriel will be cut off from the \"source\". He reveals to Gabriel that this is what eventually led to the downfall of the Archangels sent before him. Cut off from their power the Archangels were eventually worn down and fell prey to the Fallen who thrive and become stronger the longer they stay in Purgatory. The Archangels have all assumed human form and have become subject to human desires and feelings which weakens them. Uriel and Amitiel are direct examples of how far the Archangels can truly fall. Uriel warns Gabriel that if they die in purgatory their souls will die too, they completely vanish. Gabriel travels back to the city, and finds the brothel where Amitiel works. He also encounters Asmodeus, the Fallen who runs the brothel. Gabriel rescues Amitiel and kills the Fallen Balan who tries to rape her. He then heals her of the drugs she has been taking to dull the pain of her job. Amitiel takes Gabriel to the soup kitchen where the Archangel Ithuriel hides. Initially angry at Ithuriel for abandoning his mission of seeking out and detroying the Fallen, Gabriel eventually shows him compassion and understanding. Ithuriel takes Gabriel to the abandoned tunnels beneath the soup kitchen where the gravely wounded Raphael dwells. Gabriel heals Raphael, expending much of his strength. After rebuking Gabriel, Raphael explains that Sammael draws his immense power from the other Fallen. Gabriel proposes to take out the remaining Fallen one by one, before finally facing Sammael. Raphael is unconvinced, as Sammael has already killed the stronger angel Michael. Gabriel fights and kills the Fallen Ahriman , then returns to Michael's apartment where he sketches a picture of Amitiel. At the same time Gabriel begins his campaign against the Fallen, the Fallen Lilith  kills Uriel, Asmodeus kills Ithuriel, and Sammael kills Raphael. Driven mad by anger, Gabriel’s eyes turn bright brown, the colour of the Fallen. He returns to the brothel and viciously scars, then kills Asmodeus. Gabriel halts his own imminent fall when he heals and restores a young female who was slowly having her life force and youthful vitality extracted by the Fallen Asmodeus, returning her to her normal appearance and essence. Shocked by his near fall, Gabriel returns to Amitiel. Amitiel comforts Gabriel and they make love, healing both which sends perceptible waves of discomfort to the Fallen. Gabriel then travels to a nightclub and kills Lilith, injecting her with several full vials of Ahriman's drugs. Gabriel chases Sammael to the nightclub’s rooftop. Sammael refuses to fight Gabriel, instead asking him to listen to what he has to say. He explains how he despises being an angel, a being created entirely to serve others. He sees purgatory as a chance to take control of his own destiny and lets Gabriel know that it was him all along keeping Gabriel protected and alive in a city amongst all the Fallen, and asks Gabriel to join him. Refusing his offer, Gabriel unwittingly realises that Sammael is actually the Archangel Michael, his closest friend. The two Archangels fight, but because Gabriel has used up so much of his strength helping the other Archangels, Michael has the advantage. Michael ultimately impales Gabriel’s chest with a metal pipe. Gabriel admits that during his time as a human he has felt rage and anger, but he has also experienced things that Michael hasn’t. An impaled Gabriel embraces Michael, which drives the metal pipe through Michael’s chest also, and tells Michael that he forgives him. Both Archangels collapse. Michael uses the last of his strength to heal Gabriel’s wound, then dies. Light returns to purgatory. Kneeling in front of Michael's dead body, Gabriel shouts up at God asking \"Is It This That You Wanted?, Is It This You Wanted?\". The healed Gabriel moves to the edge of the rooftop, and muses that he needs to understand why all this happened. He outstretches his arms, and lets himself fall. His final words are, \"Forgive me... I hope I see you again...\" A post-credits scene shows Gabriel, , joining Amitiel and smiling. \n",
            "\n",
            "Place: 2\n",
            "ID:  423\n",
            "Title:  Have You Seen This Snail?\n",
            "Categories:  \"Short Film\"\n",
            "Summary:\n",
            "  SpongeBob receives a new Mermaid Man and Barnacle Boy Paddle Ball Set in the mail and decides to take the Dirty Bubble Challenge of hitting the ball 29,998,559,671,349  times in a row. He is totally consumed by the challenge and forgets Gary for ten days. Gary feels neglected and runs away from home. When Patrick arrives, SpongeBob snaps out of it and cannot find Gary. SpongeBob finds a note saying that Gary has left in search of a new owner. Meanwhile, Gary has wandered into a new city. He gets scared by some stray snails who on the outside seem tough, but were only trying to be friendly. A kind old lady discovers Gary and mistakes him for one of her own pets, \"Miss Tuftsy\". Gary is showered with love and food while SpongeBob goes to work, depressed that Gary has not shown up. Mr. Krabs says, \"Any problem you have can be solved with a little hard work\", trying to encourage him to work. But SpongeBob misinterprets him, and he takes the day off to look for Gary. He puts up posters and signs everywhere in the hope of finding Gary. Gary, at the old lady's house, has been fed a lot and needs to go to the bathroom. The old lady puts out fresh sheets of paper which were flyers given to her by Patrick, who was helping SpongeBob in his attempts to get Gary to return to him. Upon reading them, Gary realizes that SpongeBob truly loves him and wants him back. He tries to leave, but instead of doing that, he ends up going to the closet, filled with empty snail shells. When the old lady tries to feed him again, Gary finds that the old lady most likely has sinister motives — she is possibly trying to fatten him up and then eat him like a pig. He makes his escape, but the old lady chases him out onto the streets. Gary quickly finds the snail that he saw before, which the old lady now mistakes for \"Miss Tuftsy\", and takes home instead. Elsewhere, SpongeBob gives up on his search for Gary, and is trying to forget about him by taking a walk, but his memories keep coming to mind and upsetting him. He's constantly reminded as the streets are filled with \"missing pet\"-type posters and signs for Gary. SpongeBob then hears a meow. At first he thinks he is imagining Gary's there, but then he turns around to find Gary is actually at his side, and he is overjoyed to see his beloved pet again. SpongeBob then decides to take Gary home, thinking that he is probably very hungry. But Gary, who has been a bit overfed by the old lady, moans. \n",
            "\n",
            "Place: 3\n",
            "ID:  413\n",
            "Title:  Shatter Dead\n",
            "Categories:  \"Zombie Film\",  \"Horror\",  \"B-movie\"\n",
            "Summary:\n",
            " The film opens with a scene of a woman having sex with an apparently female angel. No explanation is given in the film. The back of the DVD cover says the Angel of Death impregnates a mortal woman, causing the dead to come alive. The next shot is of seventeen months later as Susan works her way through a mostly abandoned town on foot. She encounters some of the living dead, including one who gave up his arm to research. Unlike most modern zombie film denizens, however, they seem somewhat bewildered and eager to please. However, she catches one zombie stealing gas from her car. She chases him and puts a bullet through his gas canister. It explodes dousing the zombie in flames. Susan returns to her car leaves town. Outside of town, her car runs out of gas. She then finds herself surrounded by zombies to force her from her car. A preacher claims her car for the service of the Lord and drives off after the zombies refill the gas tank. After walking on foot for a while, another car pulls up. The driver offers her a ride. She holds him at gun point and holds a mirror under his nose. When he doesn't exhale warm moist air, she determines him to be a zombie. She takes the car from him  and drives for a while, listening to an announcer discussing the current situation on the radio. He doesn't have much information. Arriving in a new town, she encounters some living people who direct her to a safe house to stay the night . While staying there, she encounters Mary, a dead woman pretending to be alive, they shower together. Mary tells Susan that she poisoned herself so she can be beautiful forever. Susan, trusts Mary enough to share the bedroom together. Susan sleeps while Mary plays the harmonium. Susan has a dream where she walks in a graveyard and performs fellatio on her sidearm. At this point the house is attacked by militant zombies . This group of Zombies believes these are the end times and God will return once humanity is all dead. They are intent on converting living humans into their way of, uh, metabolism. Waking up surprised, Susan accidentally shoots Mary in the head, destroying Mary's hope of being beautiful forever. The owner of the house, who looks like the woman from the intro but isn't, is shot in the back at close range with a shotgun. She was pregnant but her wound aborts the baby out the front. Susan watches as the newly dead mother begins to nurse the newly dead fetus. Susan escapes and encounters the preacher who stole her car. She threatens him while he tries to convince her that death is better than life. Susan gives him the mirror test and discovers that he is still alive. Another shot to the face from Susan and the preacher is now one of the undead. Susan gets her car and her food back and arrives at the apartment of her boyfriend. He's also killed himself but is up and about. The bathtub is filled with his blood. Her boyfriend has lost his mind. He kept hearing the phone ringing and hearing the dead talking to him  They can't have sex because he has no blood pressure , so they have intercourse using her gun as a strap-on. He slips poison into her milk. He wants her to be dead and beautiful forever. She tries to induce vomiting, but he stops her. Before she dies, she manages to throw him out the window, breaking most of his bones . The last sequence of the film is a montage switching back and forth between the preacher making splints for her boyfriend and Susan putting tears in her eyes from the faucet so she can mourn her own death. \n",
            "\n",
            "Place: 4\n",
            "ID:  4189\n",
            "Title:  Legion\n",
            "Categories:  \"Thriller\",  \"Action\",  \"Fantasy\",  \"Supernatural\"\n",
            "Summary:\n",
            "  The Archangel Michael  falls to Earth in Los Angeles and cuts off his wings. He steals a police car after a policeman is killed by another officer who is possessed. He then heads for the Paradise Falls diner, near the edge of the Mojave Desert. Meanwhile, Kyle , a single father driving to L.A., stops at the diner. There he meets the owner, Bob Hanson ; his son Jeep ; the short-order cook Percy ; a pregnant waitress, Charlie , a married couple, Howard and Sandra Anderson (Jon Tenney and [[Kate Walsh , and their rebellious teenaged daughter, Audrey . An old woman enters the diner. She seems pleasant at first, but then begins taunting the diner's patrons. When Howard confronts her, she rips his throat open, screeches that they are all going to die and climbs up the ceiling like an insect. Kyle shoots her with a handgun before she can kill Bob. Percy, Kyle, Bob, Sandra, Audrey, Jeep, and Charlie try to get the injured Howard to the hospital, but are forced to go back after passing through a swarm of flies. Michael arrives and arms the patrons as the entire sky plunges into blackness. Hundreds of cars approach, filled with possessed people who begin to attack the diner. Michael leads the patrons in the fight against the possessed, but Howard is dragged away. Later Michael explains that God has lost faith in mankind and has sent His angels to destroy the human race. He also reveals that Charlie's baby is destined to be the savior of mankind, and that it must stay alive if humanity is to have any hope of surviving. Michael also reveals that his original mission was to kill Charlie's baby, but he disagreed with God's orders, as he still has faith in the goodness of humanity. The next morning, Sandra discovers Howard crucified behind the restaurant and covered with boils. She tries to rescue him, but he violently explodes into acid. Percy dies shielding Sandra from the blast, and Sandra is driven insane. Meanwhile, the remaining survivors  manage to catch a radio transmission revealing that there are other pockets of survivors holding out against the possessed, with one such refuge nearby. However, Michael advises them not to go, since they would be too vulnerable on the move. That night, a second wave of possessed attack, luring Kyle out by having a father and his son show up and having the father run over, motivating Kyle to attempt to save the child. The child turns out to be possessed, kills Kyle, and attacks Audrey but Michael intervenes and shoots down many possessed. The attack pushes a panicked Charlie into labor. Audrey and Michael help her deliver the baby as trumpets sound, signaling the approach of the Archangel Gabriel . In a panic, Sandra breaks her restraints and tries to give the baby to the possessed, but Michael guns her down. Moments later, Gabriel enters the diner seriously injuring Bob. Michael gives Jeep the keys to the police cruiser he arrived in, urging them to escape and telling Jeep, rather enigmatically to \"find the prophets, learn to read the instructions\". The hordes of possessed humans are unable to approach Charlie's baby, so Jeep, Audrey, Charlie, and the baby make their way to the cruiser. Gabriel and Michael fight, ending with Gabriel stabbing Michael through the chest with his mace. Michael dies and his body disappears. The dying Bob lights a flame to the diner's gas main, blowing up the diner, incinerating himself and the remaining possessed. Jeep's body gets covered in the same mysterious drawings seen on Michael's body which leads Jeep to realize that the tattoos are the instructions Michael spoke of. Gabriel then appears, having survived, and swoops down on the fleeing car. As he tries to reach Charlie, Audrey jumps on him and sacrifices herself by yelling at Jeep to slam on the brakes, sending Gabriel through the front windshield as the car crashes. Charlie and Jeep survive with the baby, but Audrey doesn't survive the crash. Gabriel finally corners the three in the nearby mountains. He is about to kill them when Michael appears from Heaven, an angel once more, and stops Gabriel. Michael tells Gabriel that he  did what God needed, not what God wanted, thus giving humanity another chance. With his angelic powers back, Michael easily defeats Gabriel, but spares his life after which Gabriel leaves, defeated. Michael explains to Jeep that he is the child's true protector and to have faith when Jeep asks if they will see Michael again, then flies off. Charlie and Jeep make it to the top of the mountain and see a small town in the valley below. Sometime later, Charlie, Jeep and the baby are seen driving off into the distance with a station wagon full of weapons, after which the credits roll. \n",
            "\n",
            "Place: 5\n",
            "ID:  1510\n",
            "Title:  Shall We Kiss?\n",
            "Categories:  \"Romantic comedy\",  \"World cinema\",  \"Drama\",  \"Comedy\",  \"Romantic drama\",  \"Romance Film\"\n",
            "Summary:\n",
            " In Nantes, Gabriel meets Émilie. The two pass an evening together, and as they are about to part ways, Gabriel asks her for a kiss. She refuses, and explains by telling him a story: In Paris, her friend Judith, happily married, has a childhood friend, Nicolas, who she still sees regularly. One day, as a solution to his lack of physical affection, Nicolas asks Judith for a platonic kiss. She accepts, and subsequently what should have been a simple act between friends without consequences becomes complicated, and the situation quickly becomes out of control. \n",
            "\n"
          ],
          "name": "stdout"
        }
      ]
    },
    {
      "cell_type": "markdown",
      "metadata": {
        "colab_type": "text",
        "id": "8IvHkTUHyu78"
      },
      "source": [
        "## Βελτιστοποίηση\n",
        "\n",
        "Αφού υλοποιήσετε τη συνάρτηση `content_recommender` χρησιμοποιήστε τη για να βελτιστοποιήσετε την `TfidfVectorizer`. Συγκεκριμένα, αρχικά μπορείτε να δείτε τι επιστρέφει το σύστημα για τυχαίες ταινίες-στόχους και για ένα μικρό `max_recommendations` (2 ή 3). Αν σε κάποιες ταινίες το σύστημα μοιάζει να επιστρέφει σημασιολογικά κοντινές ταινίες σημειώστε το `ID` τους. Δοκιμάστε στη συνέχεια να βελτιστοποιήσετε την `TfidfVectorizer` για τα συγκεκριμένα `ID` ώστε να επιστρέφονται σημασιολογικά κοντινές ταινίες για μεγαλύτερο αριθμό `max_recommendations`. Παράλληλα, όσο βελτιστοποιείτε την `TfidfVectorizer`, θα πρέπει να λαμβάνετε καλές συστάσεις για μεγαλύτερο αριθμό τυχαίων ταινιών. Μπορείτε επίσης να βελτιστοποιήσετε τη συνάρτηση παρατηρώντας πολλά φαινόμενα που το σύστημα εκλαμβάνει ως ομοιότητα περιεχομένου ενώ επί της ουσίας δεν είναι επιθυμητό να συνυπολογίζονται (δείτε σχετικά το [FAQ](https://docs.google.com/document/d/1-E4eQkVnTxa3Jb0HL9OAs11bugYRRZ7RNWpu7yh9G4s/edit?usp=sharing)). Ταυτόχρονα, μια άλλη κατεύθυνση της βελτιστοποίησης είναι να χρησιμοποιείτε τις παραμέτρους του `TfidfVectorizer` έτσι ώστε να μειώνονται οι διαστάσεις του Vector Space Model μέχρι το σημείο που θα αρχίσει να εμφανίζονται επιπτώσεις στην ποιότητα των συστάσεων. \n",
        "\n",
        "------------------------------------------------------------------------------\n"
      ]
    },
    {
      "cell_type": "markdown",
      "metadata": {
        "id": "TxiGP-UNkG98",
        "colab_type": "text"
      },
      "source": [
        "Ορίζουμε την συνάρτηση similar_movies οι οποία μας επιστρέφει το σύνολο των ταινιών στόχων, για τις οποίες οι πρώτες 3 επιλογές ανήκαν σε count (count είναι η παράμετρος που της δίνουμε) είδη όμοια με την πρώτη. Εκτός των υπολοίπων μεθόδων συμβουλευόμαστε και αυτήν την μετρική και με τη μεγιστοποίηση της συνάρτησης αυτής προσπαθούμε να βελτιστοποιήσουμε τον Tfidfvectorizer."
      ]
    },
    {
      "cell_type": "code",
      "metadata": {
        "id": "LR0QoeBlTF6G",
        "colab_type": "code",
        "colab": {}
      },
      "source": [
        "def similar_movies(count):\n",
        "  movie_list = []\n",
        "\n",
        "  for i in range(0, 5000): # for all movies\n",
        "    cnt = count\n",
        "\n",
        "    cosine_similarities = linear_kernel(corpus_tf_idf[i], corpus_tf_idf).flatten()  # find best matches\n",
        "    cosine_similarities = (-cosine_similarities).argsort()\n",
        "    \n",
        "    categs = categories[i][0]\n",
        "    categs = categs.split(\",\")\n",
        "    \n",
        "    for category in categs: # find categories similar between th movie and the 3 top matches\n",
        "      if category.lstrip(' ') in (categories[cosine_similarities[1]][0]) and category.lstrip(' ') in (categories[cosine_similarities[2]][0]) and category.lstrip(' ') in (categories[cosine_similarities[3]][0]):\n",
        "        cnt = cnt - 1\n",
        "      if cnt == 0: # if count similar categories are found append the movie to movie_list\n",
        "        movie_list.append(i)\n",
        "        break\n",
        "\n",
        "  return movie_list"
      ],
      "execution_count": 0,
      "outputs": []
    },
    {
      "cell_type": "markdown",
      "metadata": {
        "id": "atHCXXvYjyYa",
        "colab_type": "text"
      },
      "source": [
        "Εμπλουτίζουμε τις stop words με αγγλικά ονόματα. Έτσι οι ομοιότητες μεταξύ ταινιών δεν θα οφείλονται σε κοινά ονόματα χαρακτήρων τους. Εξηγούμε παρακάτω γιατί προέκυψε η ανάγκη πρόσθεσής τους."
      ]
    },
    {
      "cell_type": "code",
      "metadata": {
        "colab_type": "code",
        "id": "utsJ-WcnTscL",
        "colab": {}
      },
      "source": [
        "import urllib.request \n",
        "import string\n",
        "\n",
        "# female english names\n",
        "target_url = \"http://www.cs.cmu.edu/Groups/AI/util/areas/nlp/corpora/names/female.txt\"\n",
        "response = urllib.request.urlopen(target_url).read().decode()\n",
        "lines_temp = response.split('\\n')\n",
        "names = []\n",
        "\n",
        "for line in lines_temp:\n",
        "  if line and line[0] != \"#\":\n",
        "    names.append(line.lower())\n",
        "\n",
        "# male english names\n",
        "target_url = \"http://www.cs.cmu.edu/Groups/AI/util/areas/nlp/corpora/names/male.txt\"\n",
        "response = urllib.request.urlopen(target_url).read().decode()\n",
        "lines_temp = response.split('\\n')\n",
        "\n",
        "for line in lines_temp:\n",
        "  if line and line[0] != \"#\":\n",
        "    names.append(line.lower())\n"
      ],
      "execution_count": 0,
      "outputs": []
    },
    {
      "cell_type": "markdown",
      "metadata": {
        "id": "ISm9jOv8dI4B",
        "colab_type": "text"
      },
      "source": [
        "Παρατηρούμε μείωση στη διαστατικότητα κατά 3000 περίπου. Δηλαδή έφυγαν 3000 ονόματα που αναφέρονταν στους πρωταγωνιστές των ταινιών."
      ]
    },
    {
      "cell_type": "code",
      "metadata": {
        "id": "GSGK6X-Aj04f",
        "colab_type": "code",
        "outputId": "5b398af0-570c-4bf9-8502-95b8273d1a06",
        "colab": {
          "base_uri": "https://localhost:8080/",
          "height": 106
        }
      },
      "source": [
        "corpus_tf_idf = tf_idf(1.0, 0, names)"
      ],
      "execution_count": 19,
      "outputs": [
        {
          "output_type": "stream",
          "text": [
            "/usr/local/lib/python3.6/dist-packages/sklearn/feature_extraction/text.py:385: UserWarning: Your stop_words may be inconsistent with your preprocessing. Tokenizing the stop words generated tokens ['luc', 'mar', 'zsa'] not in stop_words.\n",
            "  'stop_words.' % sorted(inconsistent))\n"
          ],
          "name": "stderr"
        },
        {
          "output_type": "stream",
          "text": [
            "Dimensions:  (5000, 45239) \n",
            "\n"
          ],
          "name": "stdout"
        }
      ]
    },
    {
      "cell_type": "markdown",
      "metadata": {
        "colab_type": "text",
        "id": "NPVK7Z5c1p5F"
      },
      "source": [
        "## Επεξήγηση επιλογών και ποιοτική ερμηνεία\n",
        "\n",
        "Σε markdown περιγράψτε πώς προχωρήσατε στις επιλογές σας για τη βελτιστοποίηση της `TfidfVectorizer`. Επίσης σε markdown δώστε 10 παραδείγματα (IDs) από τη συλλογή σας που επιστρέφουν καλά αποτελέσματα μέχρι `max_recommendations` (5 και παραπάνω) και σημειώστε συνοπτικά ποια είναι η θεματική που ενώνει τις ταινίες.\n",
        "\n",
        "Δείτε [εδώ](https://pastebin.com/raw/ZEvg5t3z) ένα παράδειγμα εξόδου του βελτιστοποιημένου συστήματος συστάσεων για την ταίνία [\"Q Planes\"](https://en.wikipedia.org/wiki/Q_Planes) με την κλήση της συνάρτησης για κάποιο seed `content_recommender(529,3)`. Είναι φανερό ότι η κοινή θεματική των ταινιών είναι τα αεροπλάνα, οι πτήσεις, οι πιλότοι, ο πόλεμος.\n",
        "\n",
        "-------------------------------------------------------------------------------"
      ]
    },
    {
      "cell_type": "markdown",
      "metadata": {
        "id": "M2NF5Peqdc75",
        "colab_type": "text"
      },
      "source": [
        "Αρχικά παρατηρήσαμε πως σε πολλές περιπτώσεις οι παρόμοιες ταινίες οφείλονταν σε κοινά ονόματα χαρακτήρων τους. Έτσι ενισχύσαμε τις stopwords με αγγλικά ονόματα ώστε να μην εντοπίζονται αυτές οι ομοιότητες. \n"
      ]
    },
    {
      "cell_type": "code",
      "metadata": {
        "id": "mKnao6Gedgy9",
        "colab_type": "code",
        "outputId": "4186610e-db0e-4e2e-ebb3-428f830e605b",
        "colab": {
          "base_uri": "https://localhost:8080/",
          "height": 52
        }
      },
      "source": [
        "corpus_tf_idf = tf_idf(1.0, 0)"
      ],
      "execution_count": 20,
      "outputs": [
        {
          "output_type": "stream",
          "text": [
            "Dimensions:  (5000, 48259) \n",
            "\n"
          ],
          "name": "stdout"
        }
      ]
    },
    {
      "cell_type": "markdown",
      "metadata": {
        "id": "5StDQ5-GeGC2",
        "colab_type": "text"
      },
      "source": [
        "Παρακάτω φαίνεται το πρόβλημα που δημιουργείται εξαιτίας των ονομάτων. Όπως φαίνεται ο πρωταγωνιστής της ταινία στόχου ονομάζεται Ben. Επειδή το όνομα λαμβάνεται υπόψην ως λέξη παρατηρούμε οτι και οι 3 πρώτες ταινίες περιέχουν επίσης αυτό το όνομα. Αυτό σημαίνει οτι ίσως να υπάρχουν σχετικότερες ταινίες με την ταινία στόχο, οι οποίες να υποβαθμίζονται λόγω αυτών των ομοιοτήτων."
      ]
    },
    {
      "cell_type": "code",
      "metadata": {
        "id": "wSL3EDCzdlUG",
        "colab_type": "code",
        "outputId": "0aa17543-474d-4b5a-a200-6411b022382d",
        "colab": {
          "base_uri": "https://localhost:8080/",
          "height": 506
        }
      },
      "source": [
        "content_recommender(10, 3)"
      ],
      "execution_count": 21,
      "outputs": [
        {
          "output_type": "stream",
          "text": [
            "ID:  10\n",
            "Title:  Cashback\n",
            "Categories:  \"Romance Film\",  \"Drama\",  \"Comedy\"\n",
            "Summary:\n",
            " Ben, an aspiring artist, develops insomnia after a painful breakup with his girlfriend, Suzy. To take his mind off of Suzy and to occupy the extra waking hours he has recently gained, Ben begins working at a local Sainsbury's supermarket, where he meets colourful co-workers. Among them is his colleague Sharon, with whom he soon develops a mutual crush. As his personal means to escape the boredom inherent in the night shift, Ben lets his imagination run wild. In particular, he imagines that he can stop time so that he can walk around in a world that is \"frozen\" like the pause of a film. He imagines female patrons of the supermarket stopped in time, allowing him to undress and draw them. Finally the ability to stop time becomes real. A series of flashbacks occur with each progression of the plot, accompanied by Ben's narration and an examination of the effect the situation had had upon him. He explains how he always has been impressed by the beauty of the female body: how he, as a young boy, witnessed a Swedish boarder  walk naked from the shower to her room. In another flashback the young Ben and his best friend Sean Higgins share Sean's discovery of his parents' adult magazines, and Sean pays a neighbourhood girl fifty pence to show him, and all the neighbourhood boys, her vulva. Ben's boss, Jenkins, recruits the staff for a weekend football game and, after an embarrassing defeat, Ben freezes time again. This time he discovers that he is not alone when he sees a mysterious stranger who is able to move inside the frozen world as he can. When Ben's boss throws a party to honour his own birthday and as a consolation for their defeat, Sharon asks Ben to be her date, to which he eagerly but nervously agrees. While there, Ben encounters his ex-girlfriend Suzy, who implores him to try their relationship again. Ben refuses her advance but she kisses him, just as Sharon witnesses from afar. Sharon angrily leaves the party. Ben realizes Sharon has seen the kiss, and freezes time. After spending several days \"frozen\", Ben concludes that although he can stop time, he cannot reverse it to correct the mistake. He eventually seeks to explain himself to Sharon at her apartment, and a confrontation similar to the film-opening breakup occurs. Sharon henceforth does not show up to work at the supermarket. As a practical joke, colleagues Barry and Matt phone Ben; Matt poses as an art gallery owner who is interested in displaying Ben's drawings, and schedules an appointment for Ben to present more to him. When Ben arrives as agreed, the reaction of the owner quickly reveals the prank. However, the gallery owner is nonetheless interested in Ben's work and decides to exhibit Ben's drawings. Sharon receives an invitation to the exhibition and visits it. She is moved as most of the pieces depict her and she happily greets Ben, congratulating him on his success. The finale occurs as Ben shares his ability to stop time with her and the two step outside into a time-frozen snowfall. \n",
            "\n",
            "Place: 1\n",
            "ID:  864\n",
            "Title:  Coming Down the Mountain\n",
            "Categories:  \"Drama\"\n",
            "Summary:\n",
            " David and Ben Philips are teenage brothers who live in London. Ben has Down's syndrome. David resents the protective attention his parents lavish on his younger brother and how much they rely on him to look after Ben. The family move from London to Derbyshire so that Ben can attend a special school, meaning David has to leave his friends and girlfriend, Gail, behind. Ben makes friends and finds a girl friend. David has difficulty fitting into his new school, suffering at the hands of bullies which leads him to self-harm. David decides to kill his brother. He takes Ben hitchhiking without telling his parents, and they camp in Snowdonia. Climbing the mountain, David plans to murder Ben by pushing him off a high ridge. At the top, David changes his mind but following taunting by Ben pushes him in a fit of rage. Ben survives the fall relatively uninjured, but goes to hospital. David kidnaps him from hospital, but Ben stands up to him. He becomes the stronger character and after an evening talking round the camp fire David sees the real Ben for the first time and the brothers become reconciled. They both stand up to their parents' excessive molly coddling who for the first time see Ben as a young adult. Ben explains that he has a girlfriend and wants to work on a farm. \n",
            "\n",
            "Place: 2\n",
            "ID:  55\n",
            "Title:  Driving Lessons\n",
            "Categories:  \"Comedy-drama\",  \"Coming of age\",  \"Drama\",  \"Comedy\",  \"Indie\"\n",
            "Summary:\n",
            "  Seventeen-year-old Ben Marshall is the sensitive, poetry-writing son of complacent and emasculated Robert, a vicar obsessed with ornithology, and domineering overbearing mother Laura, whose strong religious beliefs lead her to perform numerous charitable acts while ignoring the emotional needs of her own family, such as forcing Ben to deliver meals on wheels despite his having no car. Her faith does not, however, hinder her from engaging in an affair with Peter, a young curate portraying Jesus Christ in the church pageant she is directing. Notably Laura's religious side appears to be completely invented to simply bully her husband and son. Amongst Laura's many random and meanspirited rulings she refuses to allow Ben to have a mobile phone , refuses to allow him go hang around with people his own age and uses his driving lessons as a way to be ferried around for her affair with Peter, who appears unrepentant for sleeping with his mentor's wife. Miserable in his life, Ben writes poems for a girl he knows from church named Sarah. He decides to read his most recent \"Sarah Poem\" to her aloud, only to result in him being rebuked by Sarah. Before Sarah walks off in embassment, she tells him that he's \"just too weird\". Seeking summer employment, at his mother's urging, so that she pay for the upkeep of a mental patient named Mr. Fincham she has adopted, Ben responds to an ad placed by Dame Evie Walton, an alcoholic, classically-trained actress who was reduced to accepting a role on a daytime soap opera when her once flourishing career began to fade and hasn't worked since the series ended, to her annoyance. In search of a companion to assist her in the house and drive her to various appointments, Evie immediately takes to Ben and offers him the position. Ben's conservative upbringing hasn't prepared him for the adventures he begins to experience with his new employer. When Laura refuses to allow Ben to take a camping trip with Evie, she suggests they take a drive in the country instead, then \"swallows\" the car key when they find an idyllic spot for setting up a campsite. The following morning she announces she needs Ben to drive her to the Edinburgh International Book Festival, where she has been invited to read poetry. Their road trip proves to be an epiphany for Ben, who has his first sexual experience with Bryony, one of the young women organising the event; learns the importance of accepting responsibility and honouring commitments; and finds the inner strength to stand up for himself and speak his mind. Upon returning from the trip, Laura interrogates Ben as she labels Evie as \"Wicked\" and believes she has \"corrupted\" him. However when Evie comes to visit, she is rebuffed by Laura. Ben discovers this and in a fit of rebellion walks offstage in the pageant and goes for a bike ride over to Evie's house where the two friends reconcile. Later Evie turns up at the Pageant and \"portraying\" the part of God manages to whip everyone up into a religious frenzy, allowing Ben to join her in the car park. Laura chases the pair and tries to weaponise the Bible once more, however Ben finally tells her to go away, seconds later Laura is run over by Mr. Fincham, whose mental state has steadily declined throughout the film. When Ben visits her at hospital she tells him her near death experience has made her a prophet and that god says she must have a divorce so that she can run off with Peter, whom the Bishop has fired; with him taking Laura to Cornwall to convalescence. Angered at her lack of concern for either him or his father Ben storms off, on his way out of the hospital he runs into Sarah who aimlessly prattles in a condescending tone on about how the affair was god's will, finally pushed beyond endurance Ben tells Sarah to \"fuck off\" which shocks her. Later, following Evie's advice, Ben buys himself a tent and moves into the backyard as a way to \"get away from it all\". When Robert speaks to him Ben shouts at him, telling him that he and not Laura should have asked for divorce, which is when we learn that it was indeed him. Startled, Ben listens to Robert explain about how much he loved his wife and tried to be faithful even when she was not. Finally free from Laura's brand of Christian fanaticism, Ben and his father express their love to one another. Later Ben visits Evie to tell her he is moving to Edinburgh to attend University to study English. Evie is pleased for Ben and a little saddened that Ben shall no longer be working for her. Ben reads Evie a last poem expressing his gratitude for her friendship, promises to visit whenever he's home from college and heads off. The final scene of the film shows Ben, finally free, walking through the park on his way home to start packing for Edinburgh. \n",
            "\n",
            "Place: 3\n",
            "ID:  3531\n",
            "Title:  'Salem's Lot\n",
            "Categories:  \"Thriller\",  \"Horror\",  \"Television movie\",  \"Mystery\",  \"Drama\",  \"Film adaptation\"\n",
            "Summary:\n",
            " The story opens with Ben Mears  attacking the priest Donald Callahan  in a homeless shelter. They fall together from a high window into the street. In the hospital, Ben Mears tells his story and the reasons behind his fight with the priest to an orderly. This takes the form of a flashback in which the miniseries' central plot unfolds. In the flashback, Ben, a successful writer, returns to his hometown, Jerusalem's Lot , intending to write a novel while he deals with the demons of his past. He tells Susan Norton , that as a child he accepted a dare to enter the house of Hubie Marsden. Local legend said that there was something wrong with the house and/or its owner, suggesting that he tortured and murdered children. That night in the house, Ben overheard something horrible — including Hubie begging for his life before committing suicide. Ben believes that he also heard Hubie Marsden's last victim crying for help, but Ben was too afraid to find or help him and fled. Ben plans to rent and investigate the house to bring catharsis to himself and to gather material for his novel, but he discovers that the owner, Larry Crockett , has sold it to a pair of antique dealers, Richard Straker  and Kurt Barlow . Shortly thereafter, the dark secrets of the town's residents begin to emerge. Crockett is sexually abusing his daughter Ruthie . When she spends time with a cripple named Dud  whom Crockett employs, Crockett fires him. Evie , who runs the boarding house where Ben stays, played evil games with Hughie Marsden when they were teenagers. The school bus driver is a bully who loves to torment the children he transports, forcing those he doesn't like to walk home. These painful revelations increase in frequency and magnitude up until the arrival of the mysterious Barlow. Barlow, a master vampire, is influencing some of these occurrences as a prelude to \"recruiting\" more vampires to serve him. A child vanishes, and his brother then sickens and dies. Laborer Mike Ryerson  buries the boy, then also gets sick and dies. He returns from the grave  to tempt high school teacher Matt Burke , who is rescued but suffers a heart attack. Ben is persuaded by the mounting evidence that the town is plagued by vampirism. He and his allies, Dr. Cody , Father Callahan and Mark Petrie  begin acting as vampire hunters, although they balk upon finding that Susan Norton has become a victim. Ben insists upon targeting Barlow in the hopes that Barlow's victims might be restored upon his destruction. The characters face their own psychological demons as the physical demons surround them. Father Callahan, trying to confront Barlow by himself, finds his faith is not strong enough. Callahan is forced to drink Barlow's blood, turning Callahan into Barlow's servant. Larry Crockett, who invited the vampire into town, sees his daughter willingly join the vampiric Dud in the night. Most of all, Ben still wrestles with his own guilt and personal failures. In the course of the hunt, Cody and Burke are killed, and Crockett, who abandons Ben and Mark to find his daughter, is killed and devoured by Dud and the other vampires instead of being turned into one of them. Mark Petrie and Ben manage to destroy Barlow, but not before he taunts Ben, liking Ben to himself as another parasite who preys on the tragedies of others. Additionally, Ben's hypothesis is disproven: though Barlow is destroyed, Susan is still a vampire. She tells him that the boy he failed to rescue all those years ago was already dead when Marsden died, and Ben was never to blame. When Susan turns to attack Mark, Ben is forced to destroy her. In the end, Ben and Mark set the Marston House alight, and during a chase with the school bus driver, who was turned into a vampire by his former charges and bullying victims, a gas station is damaged and goes up in flames. As the fires begin to spread, Callahan screams vows of revenge against Ben as the town's now vampirized population flocks to him. As Ben concludes his flashback, the orderly is deeply moved and frightened by the story, then realizes that Ben wasn't acting alone. He leaves to look after Father Callahan, but finds him dead, suffocated with a pillow. While he is absent, Mark slips into Ben's room to tell him that the hunt is now over, whereupon Ben suffers a cardiac arrest. The orderly returns and corners Mark, but decides to let him go. In his hospital room, Ben passes away, feeling at peace. \n",
            "\n"
          ],
          "name": "stdout"
        }
      ]
    },
    {
      "cell_type": "code",
      "metadata": {
        "id": "wHv3cnIRetzu",
        "colab_type": "code",
        "outputId": "d54bbed2-7c19-4cfb-a868-0c0361747a1c",
        "colab": {
          "base_uri": "https://localhost:8080/",
          "height": 106
        }
      },
      "source": [
        "corpus_tf_idf = tf_idf(1.0, 0, names)"
      ],
      "execution_count": 22,
      "outputs": [
        {
          "output_type": "stream",
          "text": [
            "/usr/local/lib/python3.6/dist-packages/sklearn/feature_extraction/text.py:385: UserWarning: Your stop_words may be inconsistent with your preprocessing. Tokenizing the stop words generated tokens ['luc', 'mar', 'zsa'] not in stop_words.\n",
            "  'stop_words.' % sorted(inconsistent))\n"
          ],
          "name": "stderr"
        },
        {
          "output_type": "stream",
          "text": [
            "Dimensions:  (5000, 45239) \n",
            "\n"
          ],
          "name": "stdout"
        }
      ]
    },
    {
      "cell_type": "markdown",
      "metadata": {
        "id": "OGihU1U5gG7j",
        "colab_type": "text"
      },
      "source": [
        "Παρατηρούμε οτι οι επιλογές είναι αρκετά πιο σχετικές καθώς όλες αφορούν τις ζωές ατόμων μικρών σε ηλικία (εκτός της πρώτης επιλογής, στην οποία η σύνδεση είναι η λέξη \"time\" αλλά λόγω του σεναρίου αφορά, τεχνικά, άτομα ηλικιακά νέα)."
      ]
    },
    {
      "cell_type": "code",
      "metadata": {
        "id": "zebv_cqqevcu",
        "colab_type": "code",
        "outputId": "cc87ab66-3b8b-4ee9-a87e-1a077af5434d",
        "colab": {
          "base_uri": "https://localhost:8080/",
          "height": 506
        }
      },
      "source": [
        "content_recommender(10, 3)"
      ],
      "execution_count": 23,
      "outputs": [
        {
          "output_type": "stream",
          "text": [
            "ID:  10\n",
            "Title:  Cashback\n",
            "Categories:  \"Romance Film\",  \"Drama\",  \"Comedy\"\n",
            "Summary:\n",
            " Ben, an aspiring artist, develops insomnia after a painful breakup with his girlfriend, Suzy. To take his mind off of Suzy and to occupy the extra waking hours he has recently gained, Ben begins working at a local Sainsbury's supermarket, where he meets colourful co-workers. Among them is his colleague Sharon, with whom he soon develops a mutual crush. As his personal means to escape the boredom inherent in the night shift, Ben lets his imagination run wild. In particular, he imagines that he can stop time so that he can walk around in a world that is \"frozen\" like the pause of a film. He imagines female patrons of the supermarket stopped in time, allowing him to undress and draw them. Finally the ability to stop time becomes real. A series of flashbacks occur with each progression of the plot, accompanied by Ben's narration and an examination of the effect the situation had had upon him. He explains how he always has been impressed by the beauty of the female body: how he, as a young boy, witnessed a Swedish boarder  walk naked from the shower to her room. In another flashback the young Ben and his best friend Sean Higgins share Sean's discovery of his parents' adult magazines, and Sean pays a neighbourhood girl fifty pence to show him, and all the neighbourhood boys, her vulva. Ben's boss, Jenkins, recruits the staff for a weekend football game and, after an embarrassing defeat, Ben freezes time again. This time he discovers that he is not alone when he sees a mysterious stranger who is able to move inside the frozen world as he can. When Ben's boss throws a party to honour his own birthday and as a consolation for their defeat, Sharon asks Ben to be her date, to which he eagerly but nervously agrees. While there, Ben encounters his ex-girlfriend Suzy, who implores him to try their relationship again. Ben refuses her advance but she kisses him, just as Sharon witnesses from afar. Sharon angrily leaves the party. Ben realizes Sharon has seen the kiss, and freezes time. After spending several days \"frozen\", Ben concludes that although he can stop time, he cannot reverse it to correct the mistake. He eventually seeks to explain himself to Sharon at her apartment, and a confrontation similar to the film-opening breakup occurs. Sharon henceforth does not show up to work at the supermarket. As a practical joke, colleagues Barry and Matt phone Ben; Matt poses as an art gallery owner who is interested in displaying Ben's drawings, and schedules an appointment for Ben to present more to him. When Ben arrives as agreed, the reaction of the owner quickly reveals the prank. However, the gallery owner is nonetheless interested in Ben's work and decides to exhibit Ben's drawings. Sharon receives an invitation to the exhibition and visits it. She is moved as most of the pieces depict her and she happily greets Ben, congratulating him on his success. The finale occurs as Ben shares his ability to stop time with her and the two step outside into a time-frozen snowfall. \n",
            "\n",
            "Place: 1\n",
            "ID:  1900\n",
            "Title:  In Time\n",
            "Categories:  \"Thriller\",  \"Crime Fiction\",  \"Science Fiction\",  \"Action\"\n",
            "Summary:\n",
            " By the year 2169, genetic alteration has allowed humanity to stop aging at 25. \"Living time\", which can be transferred among individuals on body contact, is displayed on a clock implanted in people's forearms. When this clock reaches zero, one dies instantly. Society is divided by social class living in specialized towns called \"Time Zones\". The poor live in the ghettos of Dayton, where youth predominates, and must work each day to earn a few more hours of life, which they must also use to pay for everyday necessities, since time has replaced money as currency. The rich live in the luxurious New Greenwich, where the middle-aged and elderly predominate, though they look young because they have stopped aging at 25 years old as well. 28-year-old factory worker Will Salas lives with his mother Rachel in the ghettos. One day, Will saves 105-year-old Henry Hamilton from suffering a time-robbery assault in a bar. Hamilton is attacked by Fortis, the elderly British mobster boss of a middle-aged gang called the Minute Men. Will rescues Hamilton, who tells him, \"For few to be immortal, many must die\", as there is essentially enough time for everyone to live a full life, but it is stockpiled for the rich to become immortal. An upset Will argues that no one should die before their time naturally ends, upon which Hamilton describes how he no longer even desires life, saying \"Your mind can be spent, even if your body is not. We want to die. We need to.\" Later that night, Hamilton transfers 116 years to the sleeping Will, keeping only five minutes for himself, then proceeds to go and sit on a bridge over an aqueduct. As his time expires, Hamilton falls into the river below. Will arrives too late to save him. Resident police force, the Timekeepers, have various theories as to his death. A young timekeeper, Jaeger, correctly assumes Hamilton had \"timed out\", i.e. killed himself, but a middle-aged veteran Timekeeper, Raymond Leon, is convinced he was murdered by a Dayton resident. Will visits his friend, Borel, and gives him 10 years of time, one for each year of their friendship. Will waits for his mother at a bus station, only to discover that she didn't have enough time to pay for her usual bus ride after the price suddenly increased. Faced with a 2-hour walk, she tries to find anyone who can loan her time but failing that she runs in a panic, watching her life slip away with minutes left. Will also runs along his mother's bus route to find her. They encounter each other on foot, and as she runs and leaps into his arms, her time expires and she dies. Remembering what Hamilton told him about the inequity of the time system, Will decides to seek revenge. He leaves for New Greenwich, with over a century on his clock. Upon arrival, he enters a casino, where he meets an old millionaire, time-loaning businessman Philippe Weis, and his daughter Sylvia. Sylvia has observed Will's arrival in New Greenwich and becomes further intrigued at the gambling table, where Will beats her father in poker betting practically his entire time. She invites Will to a party at her father's mansion. At the mansion, Will is apprehended by Leon, who confiscates all of his time, sparing him two hours. Will then escapes by taking Sylvia hostage. Returning to the ghetto with her, he drives into an ambush by Fortis, who, in disappointment to find that the unconscious Will has lost all of Hamilton's time, steals most of Sylvia's, failing to take the last half hour as the approach of Timekeepers forces him to leave. Will returns to consciousness and gives Sylvia some of his remaining time so they can return to his old neighborhood. They first visit Borel to retrieve some time Will had given him earlier, only to find out from Borel's grief-stricken wife, Greta, that he has drunk himself to death with 9 years on his clock. Sylvia pawns her jewelry for the meager price of 2 days. Finding themselves a shelter, Will calls Weis demanding a 1,000-year ransom for Sylvia, to be distributed to the people of the ghetto. Leon traces Will's location from his phone call, and heads to Dayton in pursuit. Will discovers that Weis did not pay the ransom, but decides to let Sylvia go regardless. Leon appears to arrest Will, but is shot in the shoulder by Sylvia. Will transfers two hours of time to the disarmed Leon so he can walk out of Dayton before he \"times out\". Will and Sylvia escape in Leon's patrol car and use it to steal a limo. Later, Will tells her that she still has a chance to walk away from the situation, but she says there is no purpose to the life she once had in New Greenwich. They begin a series of Time Bank robberies, stealing Time Capsules which store time equivalents and distributing them to the poor, getting a bounty of 10 years on their heads. Fortis eventually tracks down Will and Sylvia a second time, and challenges Will to a Time Fight. Will uses the technique he learned from his late father to defeat Fortis. Will and Sylvia realize their previous efforts were futile, as the rich have the power to simply increase the cost of living in the ghettos to maintain the status quo. They succeed in stealing a million years from Weis' private headquarters in a Time Capsule, Will informing Weis in the process that \"nobody should be immortal if even one person has to die\". As they return to Dayton, Leon crashes his car into Will's, but Will is able to hand the Time Capsule to a young girl who then distributes the time among the people. Leon eventually catches up with Will and Sylvia outside the city, holding them at gunpoint. Having noticed that Leon behaves differently from the other Timekeepers, Will deduces that Leon was himself from the ghettos once but had managed to successfully circumvent the system. Will jokingly asks Leon to return some of the time he previously loaned him so that they can survive until their executions, but Leon realizes that he had neglected to replenish his own time before going after them, and dies. Will and Sylvia are left with seconds to live. Will runs to Leon's car and takes his allotted time. In a scene mirroring his mother's death, Will transfers the time to Sylvia seconds before she is to die. Will and Sylvia continue robbing banks as part of their efforts to crash the system, now with a bounty of 100 years on their heads, while the rich attempt to cope with the sudden surge of people who now have enough time to change zones arriving from the ghettos. A news broadcast shows the factories, in which Will once worked, are no longer in action. Factory workers, now rich with Time, cross Time Zones while the Timekeepers look on. The last scene shows Will and Sylvia preparing to rob an obscenely huge Time Bank and continue disrupting the system. \n",
            "\n",
            "Place: 2\n",
            "ID:  2996\n",
            "Title:  Me Without You\n",
            "Categories:  \"Drama\",  \"Period piece\",  \"Coming of age\",  \"Indie\",  \"Comedy\"\n",
            "Summary:\n",
            " This drama charts the development of the friendship between two very different girls  from their teenage years during the late 1970s to the present day. The first scene depicts the girls at 12 years old in 1973. Although they are next-door neighbours, both girls come from very different backgrounds. Holly is Jewish and has an overprotective mother, while Marina's mother is much more laid back and her father is almost never around. At this point, Holly also develops a crush on Marina's older brother Nat. The film then cuts to 1978, which finds them lying on Marina's bed smoking because they're bored. Later on, Marina runs over to Holly's house to tell her that she's found out about a party that Nat's girlfriend, Carolyn, is having. When the girls get to the party, the others ask if they would like to \"play a game\", although the \"game\" simply involves shooting heroin. Nat's girlfriend soon leaves with the other two guys; while Marina wants to follow them, Holly begs her not to. However, when Marina gets up to leave, Holly kisses Nat and the two end up sleeping together. Marina sees them and becomes angry, telling Holly that Nat only had sex with her because he was stoned and probably didn't even recognize her. The next morning, Nat wakes up Marina and asks her to leave a note with Holly that says what happened last night was \"beautiful\" but a case of bad timing, and that he looks forward to their future. However, Marina angrily rips up the note and goes to see Holly who is sitting in her yard reading a book. When Holly asks Marina if Nat said anything about the night before, Marina lies, and says \"no\", but reassures Holly that they will always have each other. The film then jumps ahead to 1982, at which point Holly and Marina are attending university together. In addition, they are both sleeping with the same professor; a man that Marina had originally thought boring. Nat comes to visit, and he and Holly reconnect. Holly decides she wants to be with him. But, when she goes to end things with her professor, she sees Marina kissing him goodbye. She runs back to Nat, so upset she forgets about the relationship they were about to enter. Holly soon confronts Marina and the two fight. While Marina soon makes up with Holly, she ruins things between Holly and Nat by telling them both that the other hasn't wanted to talk to them. Ultimately, the three of them are reunited at a New Year's party, where Nat announces his intent to marry his girlfriend Isabel. The next scene finds the girls in their late 20s, in 1989. Holly is a writer, dating a man Marina has chosen for her. Marina is dating a Jewish doctor. Nat comes over to Holly's place and tells her he talks to her in his head all the time. They are interrupted by Holly's boyfriend returning, at which point she tells Nat to leave. Shortly thereafter, she decides she wants to go to America, but Marina tries to stop her by telling her she is pregnant. Some time later, the characters are reunited at another New Year's Eve party. While playing \"Guess Who?\", Nat begins to describe someone in a very deep way. Holly guesses Isabel, but Isabel claims it's Holly. Marina says she's bored with this game and they should play sardines. As they wander through the dark house, Marina begins to kiss Holly's boyfriend. Holly and Nat then find each other, however, and Holly tells him she also talks to him all the time in her head. When Holly's boyfriend refuses her advances, Marina freaks out and runs outside. Holly confronts her, and tells her they have to stop being friends. Marina tells her \"there's no me without you!\" Holly tells her there is. As Holly walks away, Nat catches up to her and asks if he can come. The two ride a bus away. The final scene finds the characters in 2001. Nat and Holly have a daughter, and Marina has a daughter and a son. Marina and Holly do not appear as close as they once were, although each accepts the other's presence for the sake of their two young daughters, who appear to be best friends. \n",
            "\n",
            "Place: 3\n",
            "ID:  3372\n",
            "Title:  A New Wave\n",
            "Categories:  \"Crime Fiction\",  \"Heist\",  \"Indie\",  \"Action/Adventure\",  \"Comedy\",  \"Action\"\n",
            "Summary:\n",
            " A would-be artist  is working in a dead end job as a bank teller. At the urging of his movie-obsessed slacker roommate , he agrees to be the inside man for a bank heist. While the heist plans are coordinated, the artist’s girlfriend  arranges for him to have his first gallery exhibition. But when he tries to stop the heist, the plan is too far into motion to be halted. \n",
            "\n"
          ],
          "name": "stdout"
        }
      ]
    },
    {
      "cell_type": "markdown",
      "metadata": {
        "colab_type": "text",
        "id": "F756BAxbrcS4"
      },
      "source": [
        "Αργότερα προσθέσαμε στις stopwords λέξεις όπως τις \"film\", \"movie\", \"begins\" κλπ που εμφανίζονται συχνά σε περιλήψεις ταινίων."
      ]
    },
    {
      "cell_type": "markdown",
      "metadata": {
        "id": "bUCzOXR8iFn1",
        "colab_type": "text"
      },
      "source": [
        "Πράγματι μετά από αυτές τις διορθώσεις οι περιπτώσεις, στις οποίες οι τρεις πρώτες επιλογές είχαν όλες τουλάχιστον μία ίδια κατηγορία με την ταινία στόχο έγιναν, από 667, 738."
      ]
    },
    {
      "cell_type": "markdown",
      "metadata": {
        "id": "15jMTS4cXppE",
        "colab_type": "text"
      },
      "source": [
        "Μετά πήραμε από τη λίστα με τις 738 ταινίες που βρήκαμε παραπάνω, περιπτώσεις (60, 78, 83, 95, 103, 115, 138), οι οποίες ήταν καλές και προσπαθήσαμε να βελτιώσουμε περαιτέρω τις εκτιμήσεις. Παρατηρώντας τα αποτελέσματα αποφασίσαμε να εξαιρέσουμε μερικές ακόμα λέξεις: \"begins\", \"opens\", \"starts\", \"piece\", \"named\", \"woman\", \"women\", \"man\", \"men\", \"prologue\", \"help\", \"helping\". Έτσι αναβάσαμε τον παραπάνω αριθμό σε 746."
      ]
    },
    {
      "cell_type": "markdown",
      "metadata": {
        "id": "HkD4xLUerPjC",
        "colab_type": "text"
      },
      "source": [
        "Corpus με τις film_stopwords. Έχουμε μείωση κατά 15 λέξεις."
      ]
    },
    {
      "cell_type": "code",
      "metadata": {
        "id": "4SbyK8SWrSGA",
        "colab_type": "code",
        "outputId": "4f5b5b30-cd25-49ab-d030-d6018a43dcbe",
        "colab": {
          "base_uri": "https://localhost:8080/",
          "height": 106
        }
      },
      "source": [
        "corpus_tf_idf = tf_idf(1.0, 0, names)"
      ],
      "execution_count": 24,
      "outputs": [
        {
          "output_type": "stream",
          "text": [
            "/usr/local/lib/python3.6/dist-packages/sklearn/feature_extraction/text.py:385: UserWarning: Your stop_words may be inconsistent with your preprocessing. Tokenizing the stop words generated tokens ['luc', 'mar', 'zsa'] not in stop_words.\n",
            "  'stop_words.' % sorted(inconsistent))\n"
          ],
          "name": "stderr"
        },
        {
          "output_type": "stream",
          "text": [
            "Dimensions:  (5000, 45239) \n",
            "\n"
          ],
          "name": "stdout"
        }
      ]
    },
    {
      "cell_type": "markdown",
      "metadata": {
        "id": "KkshmbUknBnV",
        "colab_type": "text"
      },
      "source": [
        "### min_df\n",
        "\n",
        "Η χρήση μόνο των λιγότερο συχνών λέξεων, με μείωση του max_df, αποδείχθηκε οτι δε βοηθά, καθώς μόλις οδηγούσε σε μείωση των λέξεων του λεξιλογίου υπήρχε άμεση χειροτέρευση της ποιότητας των αποτελεσμάτων.\n",
        "\n",
        "Ο αποκλεισμός των λιγότερο συχνών λέξεων βοηθά σε κάποιες περιπτώσεις καθώς αποκλείει σπάνιες λέξεις που δεν προσφέρουν στο νόημα, ενώ σε άλλες κάνει το ίδιο αλλά με λέξεις που συσχετίζουν μικρό αριθμό ταινιών της ίδιας κατηγορίας οδηγώντας σε χειρότερα αποτελέσματα.<br>\n",
        "Παρακάτω φαίνονται 1 περίπτωση, στην οποία ισχύει το πρώτο και μία στην οποία ισχύει το δεύτερο:"
      ]
    },
    {
      "cell_type": "code",
      "metadata": {
        "id": "XgYb2Uv-rpiy",
        "colab_type": "code",
        "outputId": "57dacdd9-73b0-4f89-d5f0-97aa817800e9",
        "colab": {
          "base_uri": "https://localhost:8080/",
          "height": 106
        }
      },
      "source": [
        "corpus_tf_idf = tf_idf(1.0, 2, names)"
      ],
      "execution_count": 25,
      "outputs": [
        {
          "output_type": "stream",
          "text": [
            "/usr/local/lib/python3.6/dist-packages/sklearn/feature_extraction/text.py:385: UserWarning: Your stop_words may be inconsistent with your preprocessing. Tokenizing the stop words generated tokens ['luc', 'mar', 'zsa'] not in stop_words.\n",
            "  'stop_words.' % sorted(inconsistent))\n"
          ],
          "name": "stderr"
        },
        {
          "output_type": "stream",
          "text": [
            "Dimensions:  (5000, 22385) \n",
            "\n"
          ],
          "name": "stdout"
        }
      ]
    },
    {
      "cell_type": "code",
      "metadata": {
        "id": "HvPIPXLlrsHf",
        "colab_type": "code",
        "outputId": "5d46baba-ab80-40dc-ff8f-7f904b770e1c",
        "colab": {
          "base_uri": "https://localhost:8080/",
          "height": 506
        }
      },
      "source": [
        "content_recommender(83, 3)"
      ],
      "execution_count": 26,
      "outputs": [
        {
          "output_type": "stream",
          "text": [
            "ID:  83\n",
            "Title:  The Lost Man\n",
            "Categories:  \"Crime Fiction\",  \"Drama\"\n",
            "Summary:\n",
            " Former US Army lieutenant Jason Higgs  who, after becoming a black militant during the 1960s Black Revolutionary Movement, is wounded as he pulls a payroll heist to help imprisoned \"brothers\", and has to hide from the police. Social worker Cathy Ellis  falls in love with Higgs while helping him elude capture. \n",
            "\n",
            "Place: 1\n",
            "ID:  1345\n",
            "Title:  The Gilded Cage\n",
            "Categories:  \"Crime Fiction\",  \"Drama\"\n",
            "Summary:\n",
            " Two brothers become involved with criminals planning a major art heist only to be framed by them for the theft. \n",
            "\n",
            "Place: 2\n",
            "ID:  874\n",
            "Title:  Hustle & Flow\n",
            "Categories:  \"Crime Fiction\",  \"Indie\",  \"Hip hop movies\",  \"Drama\",  \"Music\",  \"Romance Film\",  \"Musical Drama\"\n",
            "Summary:\n",
            " DJay  is a pimp and drug dealer who is dissatisfied with his life. After acquiring a keyboard and reacquainting himself with an old friend from school, Key , who has become a sound technician, DJay decides to try his hand at making hip hop songs. Key and his sound-mixer friend Shelby  help DJay put together several \"flow\" songs. While DJay quickly proves to have a real talent for lyrics, in which he expresses the frustrations of a small-time hustler struggling to survive, it is his first fixed-length song, done at the urging of these friends, which most obviously has the chance of becoming a hit and getting local radio play. The group experiences many setbacks throughout the creative process. DJay must hustle those around him in order to procure proper equipment and recording time, and Key's relationship with his wife becomes strained. DJay throws out one of his prostitutes, Lexus, for ridiculing his art. DJay's pregnant prostitute, Shug , joins in the creative process, singing hooks, and the group eventually records several fixed-length tracks, including \"Whoop That Trick\" and their primary single \"It's Hard Out Here for a Pimp\". After their first recording, DJay begins to show a romantic interest in Shug. DJay's friend, Arnel , informs him that Skinny Black , a successful Memphis rapper, will be returning to the neighborhood for a Fourth of July party. DJay gains admittance to the party under the pretext of providing marijuana, with the intention of giving Skinny Black his demo tape. Black is dismissive at first, but after a long night of reminiscing DJay successfully persuades him into taking the tape. Before leaving the party, however, DJay discovers that the drunken Black has destroyed his tape, flushing it down the toilet. When DJay confronts Skinny Black, Black reveals that he never had any intention on helping DJay with his musical aspirations. In a fit of rage, DJay begins to assault Skinny Black. During the confrontation Skinny Black manages to break the chain around DJays neck, which was a gift from Shug. Black pulls out a gun, but DJay quickly disarms him and pistol whips him. DJay aims the gun at Black but suddenly comes to the realization of what he has done. While he attempts to resuscitate the unconscious Black, a member of Black's entourage enters the bathroom and quickly pulls out his gun, which results in DJay shooting him in the arm. DJay then resorts to using the guard as a human shield to make his escape. DJay arrives home to find the police waiting for him. DJay turns himself in and tells Nola to keep his writing pad, with his rap lyrics. He tells her that \"she is in charge\" of getting his songs on local radio stations. While Shug tearfully watches DJay being led away in handcuffs, one of Black's entourage takes advantage of his defenseless position to deliver a sucker punch. DJay is charged for assault and possession of a firearm and is sentenced to 11 months in prison. While serving his time, DJay gets a visit from Key and learns that Nola  has hustled the local radio DJs into playing his songs, which have become local hits. When Key asks DJay if he really knew Skinny Black, DJay reveals that he made it up in order to keep the groups dream alive. The film ends as we see a duo of prison guards who have their own rap group asking DJay to listen to their demo, much as DJay had approached Skinny Black. Djay accepts their tape and responds with: \"You know what they say, everybody gotta have a dream\". \n",
            "\n",
            "Place: 3\n",
            "ID:  3945\n",
            "Title:  Seven Brides for Seven Brothers\n",
            "Categories:  \"Musical\",  \"Americana\",  \"Drama\",  \"Comedy\",  \"Adventure\"\n",
            "Summary:\n",
            " A backwoodsman named Adam Pontipee and his new bride Milly agreed to marry despite only knowing each other for only a few hours. On returning to his cabin in the mountains, Milly is surprised to learn that Adam is one of seven brothers living under the same roof. The brothers have been named alphabetically from the Old Testament and in chronological order are: Adam, Benjamin, Caleb, Daniel, Ephraim, Frank , and Gideon. All of the brothers have red hair and are well over six feet tall, except Gideon, who is younger and shorter than his brothers. Milly teaches Adam's rowdy, ill-behaved younger brothers manners and social mores. She also shows them how to dance. At first, the brothers have a hard time changing from their \"mountain man\" ways, but eventually each comes to see that the only way he will get a girl of his own is to do things Milly's way. They are able to test their new manners at a barn-raising, where they meet six girls they like — Dorcas, Ruth, Martha, Liza, Sarah and Alice — and, fortunately, the girls take a fancy to the brothers as well. However, the girls already have suitors from the town, who jealously taunt the brothers into fighting during the barn-raising. At first the brothers try to resist and remember Milly's teaching, but Adam refuses to let himself be pushed around by the rival suitors, who he sees as cowards taking advantage of his younger brothers. The rival suitors finally go too far when they attack Adam, which provokes Gideon into fighting back and a fierce brawl ensues wherein the brothers dominate their physically weaker rivals. Although the brothers do not start the fight, they are banished from the town after destroying the barn in the process. Winter arrives, with the six younger brothers pining for their girls. Adam reads his brothers the story of \"Sobbin' Women\"  and tells them that they should stop moping around and take whatever action is necessary to get their women back. Aided by Adam, the brothers kidnap the girls, then cause an avalanche so that they cannot be followed by the townspeople. They have, however, forgotten to kidnap a preacher. Milly is furious at Adam, as are the girls at having been kidnapped. Milly consigns the brothers to the barn \"with the rest of the livestock\" while the girls live in the house. Adam, surprised and offended by Milly's reaction, leaves for the trapping cabin further up the mountain to live out the winter by himself. Months pass, and the girls vent their frustration and resentment by playing pranks on the brothers, such as hitting them with snowballs that have rocks in them. By spring the girls have forgiven and fallen in love with the brothers, who are now allowed to court them. Milly gives birth to a daughter, Hannah. Gideon rides to the cabin to inform Adam about his daughter's arrival and asks him to come home. Adam refuses to do so, saying that he had said he would return home only when the snow had melted enough and the pass was open once more to traffic. Having time to think about his baby daughter, Adam returns home in the spring just as the pass is opening and reconciles with Milly. As a newly responsible father, he has become aware of how worried the townspeople would be about what has happened to the girls. Realizing he was wrong to tell his brothers to kidnap the girls, Adam tells his brothers that they need to take the girls back to their homes in the town, but his brothers do not want to do so. The girls do not want to return to their homes, either &mdash; they all want to stay at the farm with their new suitors and thus go and hide so that they will not be taken back home. When Milly discovers that the girls are not in the house, Adam tells his brothers to go after the girls and bring them back. The townspeople arrive, with the intention of taking vengeance against the brothers for the kidnappings. Upon finding the brothers trying to force the girls to return, the fathers get the wrong impression, believing their daughters are being assaulted, and charge to their rescue. Alice's father, who is a preacher, hears baby Hannah cry in the distance, and worries that the baby might belong to one of the girls. The fighting is finally sorted out, with the fathers, and other townsmen, rounding up the brothers and announcing that they intend to hang them. Alice's father asks the girls whose baby he heard. They all decide, simultaneously, to claim the baby as their own. This misinformation gives the girls and the brothers their fondest wish — the townspeople insist that all six couples marry immediately in a shotgun wedding. \n",
            "\n"
          ],
          "name": "stdout"
        }
      ]
    },
    {
      "cell_type": "markdown",
      "metadata": {
        "id": "dvjhK8idtUPB",
        "colab_type": "text"
      },
      "source": [
        "Όπως φαίνεται η ταινία είναι δραματική και σχετίζεται με το έγκλημα, όπως και η 1η και η 2η επιλογή. Αντίθετα η 3η δεν σχετίζεται με το έγκλημα. <br>\n",
        "Αυξάνουμε το min_dfQ:"
      ]
    },
    {
      "cell_type": "code",
      "metadata": {
        "id": "s3Hk3V18tJx6",
        "colab_type": "code",
        "outputId": "add0f843-0cd5-4234-e15a-aebe43470330",
        "colab": {
          "base_uri": "https://localhost:8080/",
          "height": 106
        }
      },
      "source": [
        "corpus_tf_idf = tf_idf(1.0, 15, names)"
      ],
      "execution_count": 27,
      "outputs": [
        {
          "output_type": "stream",
          "text": [
            "/usr/local/lib/python3.6/dist-packages/sklearn/feature_extraction/text.py:385: UserWarning: Your stop_words may be inconsistent with your preprocessing. Tokenizing the stop words generated tokens ['luc', 'mar', 'zsa'] not in stop_words.\n",
            "  'stop_words.' % sorted(inconsistent))\n"
          ],
          "name": "stderr"
        },
        {
          "output_type": "stream",
          "text": [
            "Dimensions:  (5000, 5600) \n",
            "\n"
          ],
          "name": "stdout"
        }
      ]
    },
    {
      "cell_type": "code",
      "metadata": {
        "id": "ubn7Cz8vtM-2",
        "colab_type": "code",
        "outputId": "098a53ec-a84f-48e4-b3a5-6fabc39b368f",
        "colab": {
          "base_uri": "https://localhost:8080/",
          "height": 506
        }
      },
      "source": [
        "content_recommender(83, 3)"
      ],
      "execution_count": 28,
      "outputs": [
        {
          "output_type": "stream",
          "text": [
            "ID:  83\n",
            "Title:  The Lost Man\n",
            "Categories:  \"Crime Fiction\",  \"Drama\"\n",
            "Summary:\n",
            " Former US Army lieutenant Jason Higgs  who, after becoming a black militant during the 1960s Black Revolutionary Movement, is wounded as he pulls a payroll heist to help imprisoned \"brothers\", and has to hide from the police. Social worker Cathy Ellis  falls in love with Higgs while helping him elude capture. \n",
            "\n",
            "Place: 1\n",
            "ID:  874\n",
            "Title:  Hustle & Flow\n",
            "Categories:  \"Crime Fiction\",  \"Indie\",  \"Hip hop movies\",  \"Drama\",  \"Music\",  \"Romance Film\",  \"Musical Drama\"\n",
            "Summary:\n",
            " DJay  is a pimp and drug dealer who is dissatisfied with his life. After acquiring a keyboard and reacquainting himself with an old friend from school, Key , who has become a sound technician, DJay decides to try his hand at making hip hop songs. Key and his sound-mixer friend Shelby  help DJay put together several \"flow\" songs. While DJay quickly proves to have a real talent for lyrics, in which he expresses the frustrations of a small-time hustler struggling to survive, it is his first fixed-length song, done at the urging of these friends, which most obviously has the chance of becoming a hit and getting local radio play. The group experiences many setbacks throughout the creative process. DJay must hustle those around him in order to procure proper equipment and recording time, and Key's relationship with his wife becomes strained. DJay throws out one of his prostitutes, Lexus, for ridiculing his art. DJay's pregnant prostitute, Shug , joins in the creative process, singing hooks, and the group eventually records several fixed-length tracks, including \"Whoop That Trick\" and their primary single \"It's Hard Out Here for a Pimp\". After their first recording, DJay begins to show a romantic interest in Shug. DJay's friend, Arnel , informs him that Skinny Black , a successful Memphis rapper, will be returning to the neighborhood for a Fourth of July party. DJay gains admittance to the party under the pretext of providing marijuana, with the intention of giving Skinny Black his demo tape. Black is dismissive at first, but after a long night of reminiscing DJay successfully persuades him into taking the tape. Before leaving the party, however, DJay discovers that the drunken Black has destroyed his tape, flushing it down the toilet. When DJay confronts Skinny Black, Black reveals that he never had any intention on helping DJay with his musical aspirations. In a fit of rage, DJay begins to assault Skinny Black. During the confrontation Skinny Black manages to break the chain around DJays neck, which was a gift from Shug. Black pulls out a gun, but DJay quickly disarms him and pistol whips him. DJay aims the gun at Black but suddenly comes to the realization of what he has done. While he attempts to resuscitate the unconscious Black, a member of Black's entourage enters the bathroom and quickly pulls out his gun, which results in DJay shooting him in the arm. DJay then resorts to using the guard as a human shield to make his escape. DJay arrives home to find the police waiting for him. DJay turns himself in and tells Nola to keep his writing pad, with his rap lyrics. He tells her that \"she is in charge\" of getting his songs on local radio stations. While Shug tearfully watches DJay being led away in handcuffs, one of Black's entourage takes advantage of his defenseless position to deliver a sucker punch. DJay is charged for assault and possession of a firearm and is sentenced to 11 months in prison. While serving his time, DJay gets a visit from Key and learns that Nola  has hustled the local radio DJs into playing his songs, which have become local hits. When Key asks DJay if he really knew Skinny Black, DJay reveals that he made it up in order to keep the groups dream alive. The film ends as we see a duo of prison guards who have their own rap group asking DJay to listen to their demo, much as DJay had approached Skinny Black. Djay accepts their tape and responds with: \"You know what they say, everybody gotta have a dream\". \n",
            "\n",
            "Place: 2\n",
            "ID:  1345\n",
            "Title:  The Gilded Cage\n",
            "Categories:  \"Crime Fiction\",  \"Drama\"\n",
            "Summary:\n",
            " Two brothers become involved with criminals planning a major art heist only to be framed by them for the theft. \n",
            "\n",
            "Place: 3\n",
            "ID:  3372\n",
            "Title:  A New Wave\n",
            "Categories:  \"Crime Fiction\",  \"Heist\",  \"Indie\",  \"Action/Adventure\",  \"Comedy\",  \"Action\"\n",
            "Summary:\n",
            " A would-be artist  is working in a dead end job as a bank teller. At the urging of his movie-obsessed slacker roommate , he agrees to be the inside man for a bank heist. While the heist plans are coordinated, the artist’s girlfriend  arranges for him to have his first gallery exhibition. But when he tries to stop the heist, the plan is too far into motion to be halted. \n",
            "\n"
          ],
          "name": "stdout"
        }
      ]
    },
    {
      "cell_type": "markdown",
      "metadata": {
        "id": "i-fHLdSirudi",
        "colab_type": "text"
      },
      "source": [
        "Πια και η 3η ταινία έχει σχετικό περιεχόμενο."
      ]
    },
    {
      "cell_type": "markdown",
      "metadata": {
        "id": "lNPaTP6dtugW",
        "colab_type": "text"
      },
      "source": [
        "Αντίθετα υπάρχουν περιπτώσεις όπου αυτή η τακτική δημιουργεί πρόβλημα:"
      ]
    },
    {
      "cell_type": "code",
      "metadata": {
        "id": "7oBf_7Zitluf",
        "colab_type": "code",
        "outputId": "874041a6-29c7-4b3d-c3d2-f14a07b7bc2c",
        "colab": {
          "base_uri": "https://localhost:8080/",
          "height": 106
        }
      },
      "source": [
        "corpus_tf_idf = tf_idf(1.0, 2, names)"
      ],
      "execution_count": 29,
      "outputs": [
        {
          "output_type": "stream",
          "text": [
            "/usr/local/lib/python3.6/dist-packages/sklearn/feature_extraction/text.py:385: UserWarning: Your stop_words may be inconsistent with your preprocessing. Tokenizing the stop words generated tokens ['luc', 'mar', 'zsa'] not in stop_words.\n",
            "  'stop_words.' % sorted(inconsistent))\n"
          ],
          "name": "stderr"
        },
        {
          "output_type": "stream",
          "text": [
            "Dimensions:  (5000, 22385) \n",
            "\n"
          ],
          "name": "stdout"
        }
      ]
    },
    {
      "cell_type": "code",
      "metadata": {
        "id": "DES1a1cjtm0_",
        "colab_type": "code",
        "outputId": "effcc407-1c46-40a5-eecb-b699ebbfcf41",
        "colab": {
          "base_uri": "https://localhost:8080/",
          "height": 506
        }
      },
      "source": [
        "content_recommender(95, 3)"
      ],
      "execution_count": 30,
      "outputs": [
        {
          "output_type": "stream",
          "text": [
            "ID:  95\n",
            "Title:  The Book of Stars\n",
            "Categories:  \"Drama\"\n",
            "Summary:\n",
            " Penny and Mary are sisters living together in a tenement apartment in a seedy section of an unnamed city. The responsibility of caring for fifteen year old Mary has fallen on Penny due to the death of their parents years before. Mary has cystic fibrosis, and the deterioration of her lungs is rapidly worsening. Forced to spend most of her time indoors, she has tracked her life and dreams and hopes in an artistic scrapbook which she calls her \"Book of Stars and Lovely Things.\" In it, she fashions herself an astronaut, cut adrift in space and slowly and helplessly drifting towards the sun and her eventual doom. Penny is a once-promising poet who has turned to a life of drugs and prostitution to help numb her from the grim reality of her job and the impending loss of her sister. There is the quiet young man who has moved in next door. He is from war-torn Eastern Europe and walks with a limp. Penny gets a letter from a prisoner, who was moved by her poetry and writes her admiring letters. She won't answer, or even read the letters, so Mary does it for her. Mary arranges things and events to keep her sister human. Together, they all face life, death, and the universal need to reach out for someone. \n",
            "\n",
            "Place: 1\n",
            "ID:  1285\n",
            "Title:  Le Corbeau\n",
            "Categories:  \"Thriller\",  \"World cinema\",  \"Psychological thriller\",  \"Black-and-white\",  \"Mystery\",  \"Drama\",  \"Film noir\"\n",
            "Summary:\n",
            " In a small French town identified as 'anywhere', anonymous poison pen letters are sent by somebody signing as Le Corbeau . The letters start by accusing doctor Rémy Germain  of having an affair with Laura Vorzet , the pretty young wife of the elderly psychiatrist Dr. Vorzet . Germain is also accused of practicing illegal abortions. Letters are then sent to virtually all the population of the town, but keep getting back at the initial victim, Dr. Germain. The situation becomes serious when a patient of the hospital commits suicide with his straight razor after the Raven writes to him that his cancer is terminal. Marie Corbin, a nurse in the infirmary, becomes a suspect and is arrested, but soon new letters arrive. Germain's lover Denise is suspected, only for Laura to be identified by material contained in her blotter. Germain agrees to sign an order committing Laura as insane, just before he is called away to a patient. Just as the ambulance takes Laura away, Germain returns and finds Vorzet dead at his desk, his throat cut by the cancer patient's mother as he was writing the Raven's final triumphant letter. The film is loosely based on a famous anonymous letter case that started in the town of Tulle, Limousin in 1917. Anonymous letters had been sent by somebody signing the eye of the tiger. \n",
            "\n",
            "Place: 2\n",
            "ID:  4474\n",
            "Title:  The Record of a Tenement Gentleman\n",
            "Categories:  \"Japanese Movies\",  \"Melodrama\",  \"Drama\",  \"Historical fiction\",  \"Art film\"\n",
            "Summary:\n",
            " A man finds a lost boy  in a war-torn village and brings him to his tenement. He tries to find someone to take care for him but no-one accepts the responsibility. The child eventually ends up with a sour widow Tané , despite her refusal. Their relationship doesn't develop well as Tané has no interest in being a mother again. After the boy disappears Tané realizes that she likes having him around after all. \n",
            "\n",
            "Place: 3\n",
            "ID:  1299\n",
            "Title:  Hope and Glory\n",
            "Categories:  \"Comedy-drama\",  \"Childhood Drama\",  \"Period piece\",  \"Drama\",  \"Comedy\",  \"War film\"\n",
            "Summary:\n",
            " Beginning just before the start of the Second World War, the film tells the story of the Rowan family: Bill, his sisters Sue and Dawn, and his parents Grace and Clive, living in a suburb of London. After the war starts, Clive joins the army, leaving Grace alone to watch over the children. Seen through the eyes of 10-year-old Bill, the \"fireworks\" provided by the Blitz every night are as exciting as they are terrifying. His family do not see things in quite the same way as the bombs continue to drop, but their will to survive brings them closer together. The nightly raids do not provide the only drama, however, as his older sister, Dawn, falls for a Canadian soldier, becomes pregnant, and finding her life turned upside down, soon discovers the value of her family. The family eventually moves to the Thames-side home of Grace's parents when their house burns down . This provides an opportunity for Bill to spend more time with his curmudgeonly grandfather. \n",
            "\n"
          ],
          "name": "stdout"
        }
      ]
    },
    {
      "cell_type": "markdown",
      "metadata": {
        "id": "2zHYUuQmvmvE",
        "colab_type": "text"
      },
      "source": [
        "Η ταινία αφορά 2 αδελφές, την Πένυ και την Μαίρη και τις δυσκολίες που περνάνε.<br>\n",
        "Η 1η ταινία είναι μυστηρίου. Η 2η είναι δραματική, όπως και η πρώτη, αλλά και κωμωδία και η 3η έχει κάποιες ομοιότητες με την ταινία στόχο, αλλά έχει πιο ρομαντικό χαρακτήρα."
      ]
    },
    {
      "cell_type": "code",
      "metadata": {
        "id": "585E5WvhvbI7",
        "colab_type": "code",
        "outputId": "1605aed8-a0dc-4ccb-fa11-51d54b4572f6",
        "colab": {
          "base_uri": "https://localhost:8080/",
          "height": 106
        }
      },
      "source": [
        "corpus_tf_idf = tf_idf(1.0, 5, names)"
      ],
      "execution_count": 31,
      "outputs": [
        {
          "output_type": "stream",
          "text": [
            "/usr/local/lib/python3.6/dist-packages/sklearn/feature_extraction/text.py:385: UserWarning: Your stop_words may be inconsistent with your preprocessing. Tokenizing the stop words generated tokens ['luc', 'mar', 'zsa'] not in stop_words.\n",
            "  'stop_words.' % sorted(inconsistent))\n"
          ],
          "name": "stderr"
        },
        {
          "output_type": "stream",
          "text": [
            "Dimensions:  (5000, 11840) \n",
            "\n"
          ],
          "name": "stdout"
        }
      ]
    },
    {
      "cell_type": "code",
      "metadata": {
        "id": "GYLODMUfvgoB",
        "colab_type": "code",
        "outputId": "f73ec627-6e59-4b7b-b710-23c6e1d0b562",
        "colab": {
          "base_uri": "https://localhost:8080/",
          "height": 506
        }
      },
      "source": [
        "content_recommender(95, 3)"
      ],
      "execution_count": 32,
      "outputs": [
        {
          "output_type": "stream",
          "text": [
            "ID:  95\n",
            "Title:  The Book of Stars\n",
            "Categories:  \"Drama\"\n",
            "Summary:\n",
            " Penny and Mary are sisters living together in a tenement apartment in a seedy section of an unnamed city. The responsibility of caring for fifteen year old Mary has fallen on Penny due to the death of their parents years before. Mary has cystic fibrosis, and the deterioration of her lungs is rapidly worsening. Forced to spend most of her time indoors, she has tracked her life and dreams and hopes in an artistic scrapbook which she calls her \"Book of Stars and Lovely Things.\" In it, she fashions herself an astronaut, cut adrift in space and slowly and helplessly drifting towards the sun and her eventual doom. Penny is a once-promising poet who has turned to a life of drugs and prostitution to help numb her from the grim reality of her job and the impending loss of her sister. There is the quiet young man who has moved in next door. He is from war-torn Eastern Europe and walks with a limp. Penny gets a letter from a prisoner, who was moved by her poetry and writes her admiring letters. She won't answer, or even read the letters, so Mary does it for her. Mary arranges things and events to keep her sister human. Together, they all face life, death, and the universal need to reach out for someone. \n",
            "\n",
            "Place: 1\n",
            "ID:  759\n",
            "Title:  Sparkle\n",
            "Categories:  \"Remake\",  \"Musical\",  \"Drama\"\n",
            "Summary:\n",
            " Detroit, Michigan 1968, A nightclub MC named Red  introduces a local singer Black  who performs his song \"I'm a Man\". While Black performs Stix  an aspiring record label executive is watching in the club, meanwhile 19 year old Sparkle Anderson  talks with her eldest sister, 28 year old Tammy \"Sister\" Anderson  backstage, making sure she's ready to go onstage to perform a song she wrote. After performing Black encounters Sister and Sparkle backstage, attempting to flirt with Sister, but instead of accepting his advances, teases him by slitting the side of her mini-dress above the thigh, before walking on stage. Sister, being the sultry and sexy sister, does a solo performance of a song that Sparkle wrote titled \"Yes I Do\" that grabs all the men's attention, while Sparkle looks on proudly from in front of the stage. Stix spots Sister and Sparkle, and wants to talk to them, as they're rushing out, but she and Sister leave the club and rush home. As Sister and Sparkle arrive home, their middle sister 24 year old Delores/Dee  opens the door and they sneak upstairs to their room to avoid having their mother hear them come in. Emma , the girls' mother, walks into the girls' room and notices Sparkle, Sister and Dee in bed together pretending to be sleep, but Emma being the wise and clever mother she is, sees right through it, and demands that Sister and Sparkle prepare for bed and be ready for church in the morning. The next morning while at church Stix along with his older cousin Levi  spot Sister, Dee, and Sparkle sitting in the choir. Levi tells Stix that Sister, Dee, and Sparkle are siblings with equal musical talent, and Stix is interested in meeting Sparkle. After church Stix and Sparkle meet and talk for a while, as Emma notices and looks on disapprovingly. Ms. Waters  Emma's long time best friend points out that Emma's oldest daughter Sister is almost 30, and due to a bad situation in New York City was forced to move back to Detroit to live with Emma. Later that night Emma hosts a Bible study at her home in which both Levi and Stix are present, however Levi takes the time to make a date with Sister who is uninterested and not participating in her mother's Bible study. After Emma and everyone leave the house, Stix secretly stays behind and notices Sparkle playing an original song that she wrote on a piano. Stix tries to encourage Sparkle to sing. A few nights later Stix comes to Sparkle's home to take her on a date at a nightclub. On the way home while sitting in front of Sparkle's home Stix tries again to encourage Sparkle to pursue a music career and tries to convince her to form a group with her sisters. Sparkle tells Stix that her mother was a former singer, but almost died pursuing her dream. One day after church Stix tries to convince Dee and Sister to form a music group with Sparkle and Sparkle becomes angry feeling that Stix had used her to speak with Dee and Sister about his plan. Dee explains that she will take part in order to make enough money for medical school, then will quit, while Sister is undecided as she will be starting a new job working at a department store. While at Emma's boutique, Ms. Waters shows Sparkle old photos of Emma with Sparkle's father and photos of Emma with Dee's father, explaining how different Emma was when she was with Sparkle and Sister's father. Sparkle leaves and goes to a record store where she sees Stix again. The two make up, and arrange a way for Sparkle to convince her big sisters to join in. While on a date, Sister and Levi are having a good evening at a local cafe, and are really starting to feel something for one another. Levi expresses his love to Sister, and hands her a small ring box which only contains a picture of a ring, as Levi promises to one day give Sister a real engagement ring once he could afford it, touching Sister's heart. Moments later comedian Satin Struthers  comes into the diner with his entourage, noticing Sister and Levi and begins to insult Levi for not being able to afford a real ring to give Sister. Satin has an immediate attraction to Sistr, and photographs her as she exits the diner with Levi. After receiving her first paycheck from her new job which only amounts to $96, Sister is convinced by Dee and Sparkle that if they enter this local talent show they could win hundreds of dollars, which would finally help Sister move out of Emma's home. Levi picks the sisters up, and drive them to the club where Stix is waiting for them, and they watch as another girl group  perform their song, \"Running.\" Sister, at the last minute, changes their practice, and tells her sisters to follow her lead, and together give a show like no other. Sister wows the crowd with her sexually seductive lead performing \"Hooked on Your Love\". Satin watches Sister perform and is mesmerized as Levi becomes uncomfortable noticing the attention Sister is getting from Satin & other men there. The sisters become a popular act and are invited back to perform at various clubs throughout Detroit. A montage of the sisters performing \"Jump\" at different clubs is shown. Sister, Sparkle and Dee sit in a dressing room as Stix and Levi come to congratulate them on their performance. Levi and Sister, now a serious couple, Levi hands Sister a bouquet of flowers, telling her how proud he was of her, but Satin soon comes in giving Sister a ring which she eagerly accepts. Levi sees this gesture and becomes enraged and gets into a fight with Satin, but is pulled away by Stix. Afterwards Levi confronts Stix about not sticking up for him during the fight with Satin since they are cousins. Emma invites her minister Reverend Bryce, Ms. Waters, and her daughter Bertha over for dinner after church, but the dinner is interrupted when Sister brings Satin whom she is now engaged to. Satin makes insulting and rude remarks at the dinner and Emma makes her dislike for him known to everyone at the table. In response Sister lashes out at Emma criticizing her for having her as a teen then forcing Sister to raise Sparkle and Dee as Emma was passed out drunk occasionally and trying to pursue a music career. Emma responds that Sister isn't telling the whole story, and tells her that if she leaves with Satin she is never to come back. Sister packs her bags and leaves with Satin. Dee, Sparkle and a visibly high Sister rehearse for a performance at Satin and Sister's home, until Satin comes into the room and interrupts wanting Dee and Sparkle to leave. The girls are invited to open for Aretha Franklin on a television show, and while Dee and Sparkle get ready, Sister walks in with a black eye and bruises. Sparkle and Dee realize that Satin has been beating Sister, and has gotten her hooked on cocaine causing a fight to break out between the three. Sister then adds her makeup, and gets high telling her sisters: \"Sister can't fly on one wing.\" That evening, Sparkle, Sister and Dee perform a stunning, sexy, version of \"Something He Can Feel\", when Emma happens to wake up at home and catches a glimpse of their performance on television. She becomes both shocked and angry that her girls have been singing outside the church against her wishes. After their performance Stix introduces the girls to Columbia Records executive Larry who offers to sign them as a group. Dee and Sparkle try to get Sister to come home with them and leave Satin, but as they leave Sister spots Satin and goes back to him. At home Emma scolds Sparkle about her trying to pursue a career in the music industry, going as far as throwing a book which Sparkle has written song lyrics in the trash. Emma gives Sparkle an ultimatum that if she wants to continue living with her she must give up pursuing a music career. At a club Satin is performing for his first all-black audience, but his jokes are trite, pandering, and ill received. Levi who is sitting in the audience with a new woman begins to mock him, receiving more laughs from the audience than Satin, prompting an angered and annoyed Satin to attack Levi. Levi sees an obviously high, unhappy Sister walking out of the club and sarcastically tells her she's never looked better. Satin and Sister run to Satin's car and drive home. At home Satin chases Sister through the home beating her mercilessly. Dee, Sparkle and Sister have a meeting with Columbia Records, Dee and Sparkle arrive and can't find Sister, but soon find her in a utility room beaten and looking for a cocaine fix. After hearing rumors that Sister is now an abused junkie, the rumors are confirmed when Stix, Larry and Columbia executives find the sisters in the backroom and notice Sister beaten with a broken cocaine vial on the floor in front of her. Stix tries to get Sparkle to leave with him and get married declaring that they could move to California, and start a new life together. Sparkle however turns down Stix's proposal, saying her sisters and mother need her. At Satin and Sister's home, Dee and Sparkle try to get Sister to leave and get help for her cocaine problem, but Satin shows up demanding Dee and Sparkle leave. When Dee and Sparkle insist they're not leaving without Sister, Satin punches Sparkle. Sister, seeing this, lashes out at Satin attacking him head on, as Dee helps her fight him. Soon all three of the sisters are in a fight with Satin, but Dee strikes Satin in the back of the head with a fire iron as he attempts to hit Sparkle again. Satin falls unconscious, and Dee tries to administer CPR, but the sisters realize Satin is dead. Sister orders Sparkle and Dee to leave the house, and she begins to cry in misery over the mistake of allowing herself to love Satin costing her everything. When the police arrive Sister pleads self-defense, and is arrested and charged with manslaughter taking the full blame for the entire ordeal. As Sister's arrest makes newspaper headlines, Saddened Emma leads her church choir in a performance of \"His Eye is on the Sparrow\". After church Emma arrives home to find Dee packing up to leave. Dee tells Emma that she was accepted to Meharry Medical College, and must leave at that moment in order to start research for scholarships which will pay for her schooling. Dee thanks Emma for her strict rules, and tells her that she loves her. A proud Emma hugs Dee thanking her for giving her the proof that she did a few things right. Sparkle visits Sister in prison, and tells her about Dee getting into medical school, making Sister happy, who assures her that she'd be getting out in two to three years, and that she was clean now. She asks Sparkle and Stix's relationship, in which Sparkle tells her that her and Stix broke up. Sister tells Sparkle not to visit her anymore when she sees Sparkle about to make the mistake as saying she was involved in the crime, and she doesn't want Sparkle to be dragged down into Sister's tragedy. Soon after Sparkle moves out of Emma's home, renting her own apartment. Sparkle also shows up at Columbia Records everyday until she gets a meeting with Larry. She convinces Larry to give her a shot, but she must first put on a musical showcase to seal the deal. Sparkle reaches out to Stix to help her set up her first solo concert. Sparkle goes back to her mother's home to invite her to see her show, but Emma seems uninterested, to where Ms. Waters tells her to not make the same mistake again. As Sparkle rehearses for her show Stix gives her a cupcake and a candy ring after Sparkle says her wish is that he propose to her again, properly. Sparkle performs \"Look Into Your Heart\" with Stix. Emma goes to visit Sister in prison, in which Sister states that Emma appears tired and worn out, and the two have a talk about their relationship. While getting ready in her dressing room Sparkle suffers a nose bleed ruining her dress, but Emma walks in to Sparkle's surprise with a new dress Sister suggested her to make for Sparkle to give her confidence. Emma expresses that she's proud Sparkle has decided to follow her dreams, and wishes her a great show. Sparkle goes out on stage and performs \"One Wing\", a song which she dedicates to Sister. A proud Emma and Ms. Waters watches in the audience while Stix and Larry watch from the side of the stage. Larry informs Stix that he wants to sign Sparkle. As the closing credits begin Sparkle's show continues with her performing \"Love Will\", as the crowd cheers. \n",
            "\n",
            "Place: 2\n",
            "ID:  1285\n",
            "Title:  Le Corbeau\n",
            "Categories:  \"Thriller\",  \"World cinema\",  \"Psychological thriller\",  \"Black-and-white\",  \"Mystery\",  \"Drama\",  \"Film noir\"\n",
            "Summary:\n",
            " In a small French town identified as 'anywhere', anonymous poison pen letters are sent by somebody signing as Le Corbeau . The letters start by accusing doctor Rémy Germain  of having an affair with Laura Vorzet , the pretty young wife of the elderly psychiatrist Dr. Vorzet . Germain is also accused of practicing illegal abortions. Letters are then sent to virtually all the population of the town, but keep getting back at the initial victim, Dr. Germain. The situation becomes serious when a patient of the hospital commits suicide with his straight razor after the Raven writes to him that his cancer is terminal. Marie Corbin, a nurse in the infirmary, becomes a suspect and is arrested, but soon new letters arrive. Germain's lover Denise is suspected, only for Laura to be identified by material contained in her blotter. Germain agrees to sign an order committing Laura as insane, just before he is called away to a patient. Just as the ambulance takes Laura away, Germain returns and finds Vorzet dead at his desk, his throat cut by the cancer patient's mother as he was writing the Raven's final triumphant letter. The film is loosely based on a famous anonymous letter case that started in the town of Tulle, Limousin in 1917. Anonymous letters had been sent by somebody signing the eye of the tiger. \n",
            "\n",
            "Place: 3\n",
            "ID:  1270\n",
            "Title:  The House of Mirth\n",
            "Categories:  \"Black-and-white\",  \"Period piece\",  \"Drama\",  \"Film adaptation\",  \"Romantic drama\",  \"Romance Film\"\n",
            "Summary:\n",
            "  It is New York City, 1905. Miss Lily Bart is young, witty and beautiful. Along with her quiet cousin, Grace Stepney, she lives with her wealthy aunt, Julia Peniston. Lily, a socialite raised in comfort and always admired, soon learns that there are bitter consequences for a single woman without wealth trapped in an uncaring society. Lily's closest friend is Mr. Lawrence Selden, a lawyer. Relaxing at his flat, she teasingly points out how seldom he comes to see her. He gently reminds her that he is not a good catch, i.e. not rich enough for her to marry. When she leaves his apartment, she runs into wealthy Simon Rosedale, who is instantly smitten with her. On the train to Bellomont, she invites Mr. Percy Gryce to sit next to her. Another acquaintance, Mrs. Bertha Dorset, takes the seat next to Lily. Lily is encouraged by her good friend Judy Trenor to pursue wealthy but dull Percy Gryce. Lily and Mr. Gryce arrange a date for the next morning to go to church, but Lily misses it on purpose; she waits in the park for Mr. Selden. They take a walk, and while chatting dreamily about love and marriage they forget all caution and kiss. Mr. Gryce has been watching and leaves abruptly because of Lily’s behavior. A dejected Lily pours out her troubles to Judy's husband, Gus Trenor, and he agrees to help her make money through an investment. Later, Lily innocently comes across some scandalous letters Bertha Dorset wrote that reveal Selden was her lover. Lily is hurt and disillusioned but keeps the letters a secret. At a wedding, Lily receives a $5,000 check from Gus Trenor, who claims to have also reinvested another $4,000. He wants to see her alone, but she suggests he see her at her aunt’s house. He invites Lily to the opera, where she also meets Lawrence Selden and Simon Rosedale. Late that night, Selden tells Lily that he loves her. They kiss, but Gus Trenor is watching them. Later, Lily goes to the opera with Gus Trenor and Sim Rosedale. Lily later leaves with Gus, but he lures her into his home and tries to kiss her. Lily flees but she still owes Gus money, over 9,000 dollars. At home, Aunt Julia tells Lily she won’t give her any more money and how much she disapproves of Lily’s behavior. Lily is devastated. Lily longs for Lawrence Selden to come to her. Instead loud, coarse Simon Rosedale comes to call. He has been eyeing her for quite some time. His wealth could free Lily from danger, yet his marriage proposal makes her shudder with disgust. Later that day, Bertha Dorset invites Lily to the Dorsets' yacht for a cruise in the Mediterranean. Lily is desperate to escape New York, the whispers and the constant criticism. Bertha slyly describes the tranquil cruise in glowing terms, with a French chef, a masseuse, and every conceivable form of luxury. Tempted by images of tranquility and bliss, Lily gives in and agrees to go. In Monte Carlo, Mrs. Carry Fisher meets Lawrence Selden, who just arrived from London. They are both very worried about Lily. Meanwhile Lily herself is having a massage on the yacht, her eyes growing heavy, while George Dorset is snoring nearby. A young man is reading French poetry to Bertha. The two of them soon slip away together. Hours later, Lily and George awake and look for them in vain. Next morning, an angry George enters Lily’s cabin, blaming her for everything. When Bertha finally arrives, Lily confronts her, but Bertha viciously accuses Lily of adultery with George. Lawrence Selden arrives on the scene and is shocked. Lily is barred from returning to the yacht. Back in New York, Aunt Julia has died. Lily is cut out of her will in favor of mousy little Cousin Grace. A dazed Lily is now homeless and adrift. Carry Fisher invites her to stay with her and the Gormers for the summer at her house. Carry believes Lily must get married, and there are two only two possibilities left, George Dorset and Sim Rosedale. Vengeful George asks Lily to tell the truth about his wife Bertha, since Lily witnessed what happened on the cruise, but she denies any knowledge. Simon Rosedale knows about Bertha’s letters and advises Lily to use them against Bertha. He offers to marry Lily once Bertha has been disgraced, but Lily refuses. Lily goes to work for Mrs. Hatch as her social secretary. Selden gently tells Lily this isn’t appropriate, but she defends herself saying she needs the money. Lily frequently goes to the pharmacy to get Mrs. Hatch’s sleeping medication, and after a while begins taking it herself. After Mrs. Hatch fires Lily, Lily takes up millinery piece work, but gets fired because she works too slowly and poorly. Lily goes to see Grace Stepney and asks for a loan, but is coldly rejected. When Sim Rosedale invites Lily to tea, she tells him everything, but refuses his help because it would again put her in debt to a man. The next morning, Lily decides to confront Bertha Dorset with those letters she once wrote to Mr. Selden, but finds that the Dorsets have left town. Lily goes to Lawrence Selden and breaks down desperately, telling him she knows she lost his love. When Lawrence isn’t looking, she throws the letters in the fire. Lily goes home and receives an envelope containing her inheritance at last. She writes two checks, one for the bank, the other one for Gus Trenor, and takes the sleeping medicine once again. She lies down in bed, loses consciousness and dies. Selden discovers the burnt letters in his fireplace, but when he hurries to Lily’s apartment, he finds her and cries at her deathbed, telling her he loves her. \n",
            "\n"
          ],
          "name": "stdout"
        }
      ]
    },
    {
      "cell_type": "markdown",
      "metadata": {
        "id": "lkjxOSd7vuiw",
        "colab_type": "text"
      },
      "source": [
        "Αφαιρούνται οι πιο σχετικές 2η και 3η επιλογή και προστίθενται στην 1η και 3η θέση ταινίες, με την 3η να μην είναι καθόλου σχετική."
      ]
    },
    {
      "cell_type": "markdown",
      "metadata": {
        "id": "ocvwKuCb2cZX",
        "colab_type": "text"
      },
      "source": [
        "Συνεχίσαμε τις δοκιμές και καταλήξαμε κοντά σε μία τιμή 5-6 στο min-df, στην οποία παίρναμε καλά αποτελέσματα, χωρίς να χαλάνε τα αποτελέσματα. "
      ]
    },
    {
      "cell_type": "markdown",
      "metadata": {
        "id": "au_-VPTpr72F",
        "colab_type": "text"
      },
      "source": [
        "Για να επιβεβαιώσουμε την σωστή τιμή του min_df, η οποία επηρεάζει τη διαστατικότητα του πίνακα και άρα και το χρόνο εκπαίδευσης εκτυπώνουμε τα μεγέθη των λιστών που δίνει η συνάρτηση similar_movies που φτιάξαμε, συναρτήσει της min_df, για αριθμό κοινών ειδών μεταξύ των ταινιών 2 και 3."
      ]
    },
    {
      "cell_type": "code",
      "metadata": {
        "id": "ctEO1gfl28or",
        "colab_type": "code",
        "outputId": "1a0a6822-ae8b-4090-e575-29d50f84e708",
        "colab": {
          "base_uri": "https://localhost:8080/",
          "height": 1000
        }
      },
      "source": [
        "import matplotlib.pyplot as plt\n",
        "\n",
        "length_2 = []\n",
        "length_3 = []\n",
        "min_dfs = [1,2,3,4,5,6,7,8,9,10]\n",
        "for min_df in min_dfs:\n",
        "  corpus_tf_idf = tf_idf(1.0, min_df, names)\n",
        "  temp = []\n",
        "  length_2.append(len(similar_movies(2)))\n",
        "  length_3.append(len(similar_movies(3)))\n",
        "  \n",
        "\n",
        "plt.plot(min_dfs, length_2)\n",
        "plt.plot(min_dfs, length_3)\n",
        "plt.xlabel('min_df')\n",
        "plt.ylabel('Number of Similar Movies')\n",
        "plt.title('Recommendations Quality to min_df')\n",
        "plt.legend(['2 same genres', '3 same genres'], loc='center right')\n",
        "plt.show()"
      ],
      "execution_count": 0,
      "outputs": [
        {
          "output_type": "stream",
          "text": [
            "/usr/local/lib/python3.6/dist-packages/sklearn/feature_extraction/text.py:385: UserWarning: Your stop_words may be inconsistent with your preprocessing. Tokenizing the stop words generated tokens ['luc', 'mar', 'zsa'] not in stop_words.\n",
            "  'stop_words.' % sorted(inconsistent))\n"
          ],
          "name": "stderr"
        },
        {
          "output_type": "stream",
          "text": [
            "Dimensions:  (5000, 45239) \n",
            "\n"
          ],
          "name": "stdout"
        },
        {
          "output_type": "stream",
          "text": [
            "/usr/local/lib/python3.6/dist-packages/sklearn/feature_extraction/text.py:385: UserWarning: Your stop_words may be inconsistent with your preprocessing. Tokenizing the stop words generated tokens ['luc', 'mar', 'zsa'] not in stop_words.\n",
            "  'stop_words.' % sorted(inconsistent))\n"
          ],
          "name": "stderr"
        },
        {
          "output_type": "stream",
          "text": [
            "Dimensions:  (5000, 22385) \n",
            "\n"
          ],
          "name": "stdout"
        },
        {
          "output_type": "stream",
          "text": [
            "/usr/local/lib/python3.6/dist-packages/sklearn/feature_extraction/text.py:385: UserWarning: Your stop_words may be inconsistent with your preprocessing. Tokenizing the stop words generated tokens ['luc', 'mar', 'zsa'] not in stop_words.\n",
            "  'stop_words.' % sorted(inconsistent))\n"
          ],
          "name": "stderr"
        },
        {
          "output_type": "stream",
          "text": [
            "Dimensions:  (5000, 16800) \n",
            "\n"
          ],
          "name": "stdout"
        },
        {
          "output_type": "stream",
          "text": [
            "/usr/local/lib/python3.6/dist-packages/sklearn/feature_extraction/text.py:385: UserWarning: Your stop_words may be inconsistent with your preprocessing. Tokenizing the stop words generated tokens ['luc', 'mar', 'zsa'] not in stop_words.\n",
            "  'stop_words.' % sorted(inconsistent))\n"
          ],
          "name": "stderr"
        },
        {
          "output_type": "stream",
          "text": [
            "Dimensions:  (5000, 13817) \n",
            "\n"
          ],
          "name": "stdout"
        },
        {
          "output_type": "stream",
          "text": [
            "/usr/local/lib/python3.6/dist-packages/sklearn/feature_extraction/text.py:385: UserWarning: Your stop_words may be inconsistent with your preprocessing. Tokenizing the stop words generated tokens ['luc', 'mar', 'zsa'] not in stop_words.\n",
            "  'stop_words.' % sorted(inconsistent))\n"
          ],
          "name": "stderr"
        },
        {
          "output_type": "stream",
          "text": [
            "Dimensions:  (5000, 11840) \n",
            "\n"
          ],
          "name": "stdout"
        },
        {
          "output_type": "stream",
          "text": [
            "/usr/local/lib/python3.6/dist-packages/sklearn/feature_extraction/text.py:385: UserWarning: Your stop_words may be inconsistent with your preprocessing. Tokenizing the stop words generated tokens ['luc', 'mar', 'zsa'] not in stop_words.\n",
            "  'stop_words.' % sorted(inconsistent))\n"
          ],
          "name": "stderr"
        },
        {
          "output_type": "stream",
          "text": [
            "Dimensions:  (5000, 10549) \n",
            "\n"
          ],
          "name": "stdout"
        },
        {
          "output_type": "stream",
          "text": [
            "/usr/local/lib/python3.6/dist-packages/sklearn/feature_extraction/text.py:385: UserWarning: Your stop_words may be inconsistent with your preprocessing. Tokenizing the stop words generated tokens ['luc', 'mar', 'zsa'] not in stop_words.\n",
            "  'stop_words.' % sorted(inconsistent))\n"
          ],
          "name": "stderr"
        },
        {
          "output_type": "stream",
          "text": [
            "Dimensions:  (5000, 9491) \n",
            "\n"
          ],
          "name": "stdout"
        },
        {
          "output_type": "stream",
          "text": [
            "/usr/local/lib/python3.6/dist-packages/sklearn/feature_extraction/text.py:385: UserWarning: Your stop_words may be inconsistent with your preprocessing. Tokenizing the stop words generated tokens ['luc', 'mar', 'zsa'] not in stop_words.\n",
            "  'stop_words.' % sorted(inconsistent))\n"
          ],
          "name": "stderr"
        },
        {
          "output_type": "stream",
          "text": [
            "Dimensions:  (5000, 8656) \n",
            "\n"
          ],
          "name": "stdout"
        },
        {
          "output_type": "stream",
          "text": [
            "/usr/local/lib/python3.6/dist-packages/sklearn/feature_extraction/text.py:385: UserWarning: Your stop_words may be inconsistent with your preprocessing. Tokenizing the stop words generated tokens ['luc', 'mar', 'zsa'] not in stop_words.\n",
            "  'stop_words.' % sorted(inconsistent))\n"
          ],
          "name": "stderr"
        },
        {
          "output_type": "stream",
          "text": [
            "Dimensions:  (5000, 8023) \n",
            "\n"
          ],
          "name": "stdout"
        },
        {
          "output_type": "stream",
          "text": [
            "/usr/local/lib/python3.6/dist-packages/sklearn/feature_extraction/text.py:385: UserWarning: Your stop_words may be inconsistent with your preprocessing. Tokenizing the stop words generated tokens ['luc', 'mar', 'zsa'] not in stop_words.\n",
            "  'stop_words.' % sorted(inconsistent))\n"
          ],
          "name": "stderr"
        },
        {
          "output_type": "stream",
          "text": [
            "Dimensions:  (5000, 7481) \n",
            "\n"
          ],
          "name": "stdout"
        },
        {
          "output_type": "display_data",
          "data": {
            "image/png": "[encoded data removed]",
            "text/plain": [
              "<Figure size 432x288 with 1 Axes>"
            ]
          },
          "metadata": {
            "tags": []
          }
        }
      ]
    },
    {
      "cell_type": "code",
      "metadata": {
        "id": "R2sllZkaLS8B",
        "colab_type": "code",
        "outputId": "9dc7db0b-7ed5-43dd-a2dd-93d0ee81e84d",
        "colab": {
          "base_uri": "https://localhost:8080/",
          "height": 52
        }
      },
      "source": [
        "print(length_2)\n",
        "print(length_3)"
      ],
      "execution_count": 0,
      "outputs": [
        {
          "output_type": "stream",
          "text": [
            "[101, 97, 100, 104, 110, 102, 107, 103, 98, 99]\n",
            "[51, 49, 48, 48, 50, 41, 37, 33, 32, 31]\n"
          ],
          "name": "stdout"
        }
      ]
    },
    {
      "cell_type": "markdown",
      "metadata": {
        "id": "t8B5tZxMGOkj",
        "colab_type": "text"
      },
      "source": [
        "Παρατηρούμε γενικά μείωση της ποιότητας των επιλογών με την αύξηση του min_df, με μία μικρή αύξηση όμως στις τιμές για count = 2 και min_df μεταξύ 4 και 8. Για count = 3 παρατηρείται μείωση της ποιότητας. Έτσι οι παρατηρήσεις μας επιβεβαιώνονται.\n",
        "\n",
        "Συνεπώς θεωρούμε μια μέση καλή επιλογή την min_df = 6, η οποία διατηρεί την ποιότητα και μειώνει τη διαστατικότητα στις 10549 από τις 45254, δηλαδή μείωση κατά 76.7%."
      ]
    },
    {
      "cell_type": "markdown",
      "metadata": {
        "id": "kgM01dbYiVKN",
        "colab_type": "text"
      },
      "source": [
        "### 10 Πετυχημένες Επιλογές"
      ]
    },
    {
      "cell_type": "code",
      "metadata": {
        "id": "bO4pVLGQM9YE",
        "colab_type": "code",
        "outputId": "dd22ead4-dc6e-441e-c670-1ced86d0d147",
        "colab": {
          "base_uri": "https://localhost:8080/",
          "height": 106
        }
      },
      "source": [
        "corpus_tf_idf = tf_idf(1.0, 6, names)"
      ],
      "execution_count": 33,
      "outputs": [
        {
          "output_type": "stream",
          "text": [
            "/usr/local/lib/python3.6/dist-packages/sklearn/feature_extraction/text.py:385: UserWarning: Your stop_words may be inconsistent with your preprocessing. Tokenizing the stop words generated tokens ['luc', 'mar', 'zsa'] not in stop_words.\n",
            "  'stop_words.' % sorted(inconsistent))\n"
          ],
          "name": "stderr"
        },
        {
          "output_type": "stream",
          "text": [
            "Dimensions:  (5000, 10549) \n",
            "\n"
          ],
          "name": "stdout"
        }
      ]
    },
    {
      "cell_type": "markdown",
      "metadata": {
        "id": "26Vw9G5oR9bH",
        "colab_type": "text"
      },
      "source": [
        "1.Οι ταινίες αφορούν τους Stooges, 3 άντρες, οι οποίοι ξεκινώντας σε κάθε ταινία από διαφορετικό εργασιακό backround καταφέρνουν να μπλεχθούν σε αστείες ιστορίες."
      ]
    },
    {
      "cell_type": "code",
      "metadata": {
        "id": "QrEJlvlON8OU",
        "colab_type": "code",
        "outputId": "39c4f786-ca6b-4a66-a025-b912ff5f0101",
        "colab": {
          "base_uri": "https://localhost:8080/",
          "height": 871
        }
      },
      "source": [
        "content_recommender(12, 6)"
      ],
      "execution_count": 34,
      "outputs": [
        {
          "output_type": "stream",
          "text": [
            "ID:  12\n",
            "Title:  Monkey Businessmen\n",
            "Categories:  \"Short Film\",  \"Comedy\",  \"Black-and-white\",  \"Slapstick\"\n",
            "Summary:\n",
            " The Stooges are inept electricians who manage to electrocute themselves as well as their boss, \"Smilin'\" Sam McGann . After predictably getting fired from their job, Curly suggests that the boys take \"a nice, long rest.\" They spot an ad for Mallard's Rest Home, and embark on their R&R trip. Upon arrival, the boys are introduced to Dr. Mallard ([[Kenneth MacDonald  who prescribes a detailed, regimented schedule of exercise, only to be fed a \"nice bowl of milk\" for breakfast and lunch. Mallard then assigns two nurses to train the Stooges, which sends the boys head over heels into fits of love — until the nurses turn out to be men . While the Stooges are vigorously training in the gym the following day, Moe and Larry attempt to help Curly flex his muscles by removing the individual weights, pound by pound. The weights land on the nurses' heads, knocking them cold. In their daze, the two spill the beans that Mallard is a quack, and the Stooges realize that the phony doctor is out to swindle the trio from their hard-earned money. In their efforts to escape, Curly bumps into a wealthy man with a bad foot , and is handsomely rewarded with a $1,000 for his \"efforts.\" When Curly suggests using the money to take \"a nice, long rest,\" Moe and Larry promptly clobber him. \n",
            "\n",
            "Place: 1\n",
            "ID:  4855\n",
            "Title:  How High is Up?\n",
            "Categories:  \"Short Film\",  \"Comedy\",  \"Black-and-white\"\n",
            "Summary:\n",
            " The Stooges, who are working as menders, are asleep under their wagon when a broken hydrant washes them down the street, mattress and all, and into the path of a truck. Rudely awoken by a beat cop, they set about drumming up business. Curly attempts to fix a flat tire , and Moe and Larry struggle to get Curly out of his too-tight sweater. They later arrive at a construction site and poke holes on the bottom of the workers' lunch boxes, offering to fix the holes for money. When their ruse is discovered, they are chased onto the actual site and blend in with a crowd of people looking for work. Curly states that they are \"the best riveters that ever riveted,\" and the hiring workman  sends them to work on the 97th floor, despite Curly's debilitating fear of heights. The construction scene features a classic gag of Larry heating a sausage for Moe to eat, and then he grills up a rivet and throws it to Curly, who thinks it's a sausage, and he proceeds to chew the rivet, claiming \"It's a weenie, but it's kind of tough.\" Curly uses a hard hat with a screwhead to engage the rivets while Moe drills them. Here another classic Stoogery ensues as Curly overturns a bucket of grease, which allows him to slide off the building and land on a hot grill below after Moe drills the rivet against his hard hat. The Stooges do a lousy job riveting and part of the building collapses when head foreman Mr. Blake  leans against a beam. He and several men chase the stooges, who escape by parachuting off the building and landing in their wagon below. They drive off with the parachute still covering the wagon, impairing their driving vision. \n",
            "\n",
            "Place: 2\n",
            "ID:  4370\n",
            "Title:  Micro-Phonies\n",
            "Categories:  \"Short Film\",  \"Comedy\",  \"Black-and-white\",  \"Slapstick\"\n",
            "Summary:\n",
            " The trio are employed as handymen in a recording studio at the fictional radio station KGBY. While not doing their work, they hear a recording session as Alice Van Doren  sings \"Voices of Spring\". She is recording this song under a pseudonym  to audition for a radio show, an endeavor to which her father  objects. Impressed by the operatic virtuosity of this stunningly beautiful soprano, Curly lip syncs, as the other stooges adorn him as a woman. Curly  is \"heard\" by the radio host Mrs. Bixby . Moe dubs Curly \"Señorita Cucaracha,\" and the trio are hired to sing professionally on the radio, but must also appear at the home of the radio show’s sponsor for a party. Before they leave the studio, they have a run-in with an Italian baritone singer/violinist , and end up destroying his glasses and violin before the encounter is over. Little do the Stooges know the irate singer/violinist is also slated to perform at Mrs. Bixby's home that evening. After sabotaging the baritone's vocal performance by tossing cherries into his mouth as he croons, the trio get ready for Curly to \"perform.\" Moe's idea is to play \"Voices of Spring\" on the nearby, out-of-view phonograph while Curly mimes the words, just as he did convincingly at the recording studio. All is well at the party until Moe angrily breaks the record over Curly’s head, leaving the trio with no song. Larry spots a collection of records, hastily selects the \"Lucia Sextet,\" and announces it as the \"Sextet by Lucy\". This song, however, requires pantomime by all three. This works well until the baritone recognizes them, and unplugs the phonograph midway through the \"Lucia Sextet\", leaving the trio groaning out loud. To prevent Curly from having to sing, Moe \"concludes\" that the Señorita has lost her voice.  Alice Van Doran is also present at the party, and catches onto the boys' scheme. To help them out of their jam, she hides behind a curtain and sings \"Voices of Spring\" live as Curly again mimics his way through. This works well until the baritone, wondering how Curly is \"singing\" without the aid of the phonograph, discovers Alice behind the curtain. The baritone quickly yanks off Curly's wig, and reveals the trio as a bunch of fakes. Alice's father, however, sees that his daughter has genuine talent, and decides she should indeed pursue her singing career. As for the Stooges, they are pelted with records and make a quick exit from the party. \n",
            "\n",
            "Place: 3\n",
            "ID:  2554\n",
            "Title:  Nutty But Nice\n",
            "Categories:  \"Short Film\",  \"Comedy\",  \"Black-and-white\",  \"Slapstick\"\n",
            "Summary:\n",
            " The Stooges are working as singing waiters at a restaurant and meet two doctors (Vernon Dent, [[John Tyrrell  who ask them to cheer up Betty Williams, a little girl who is sick from grief because her father , a bank cashier, has been kidnapped while delivering bonds. After the Stooges, as little girls with blonde sausage curls, fail to cheer her up, they volunteer to find the girl's father. The doctors give them a brief description of the father . He and Betty like to yodel to each other, something Curly seems rather adept at. The Stooges waste no time in stopping every suspect in sight and giving them the Stooge third degree. Frustrated, Curly starts yodeling, and after a few maladies that befall him , the boys hear a response...from a radio that one of the kidnappers, Butch , has on. Butch is guarding Betty's father who is gagged and tied to a bed. Mistaking the yodeling cowboy on the radio for the cashier, the Stooges follow the sounds and intercede, knock out Butch, and free Betty's father. Just then, three other members of the gang return. The Stooges and the father barricade the room door and use the dumbwaiter to escape to the basement. The four men follow them downstairs where a fight ensues, plunging everything into darkness, leaving only Curly fully conscious afterward to light a candle. The cashier is reunited with Betty, who recovers from her lethargy, and the pair, along with the two doctors, are serenaded at the restaurant by the Stooges. \n",
            "\n",
            "Place: 4\n",
            "ID:  3121\n",
            "Title:  Playing the Ponies\n",
            "Categories:  \"Short Film\",  \"Comedy\",  \"Black-and-white\"\n",
            "Summary:\n",
            " The Stooges operate a failing restaurant and are plenty sick of it. Two men  walk in and order food as they look over a racing form. One man laments the state in which his horse, Thunderbolt, is in, claiming that he is \"all run out\" and that he wants to dump him off on some unsuspecting sap. This works in his favor when Larry opens a newspaper and reads a story on a horse named Mad Cap who won a race worth $10,000. The Stooges then decide to sell their restaurant to Thunderbolt's owners and get into the horse racing industry. Upon arriving at Thunderbolt's stable, Curly races the horse around the track. Curly misunderstands and runs alongside Thunderbolt, but he stops when Moe calls him over. Feeling hungry, Curly pulls out a handful of pepperinos that he swiped from the restaurant, thinking them to be salted peanuts. However, Thunderbolt eats them first and, with his mouth burning, runs like lightning towards the nearest water trough. Moe demands to know what Curly gave the horse, but he still believes them to be peanuts. To be sure, Moe eats a handful and suffers the same heated mouth as Thunderbolt and runs to the trough. Curly follows suit, and blazes to the trough as well. The Stooges quickly discover that the pepperinos  caused Thunderbolt's sudden burst of speed and believe it to be their ace in the hole for future races. Once the race starts, Thunderbolt turns around and starts running in the opposite direction. Larry stops him and feeds him the hot peppers, but the effect is too much for Thunderbolt and he is too disoriented to run. Moe and Curly grab a bucket of water, hop on a parked motorcycle and drive alongside of Thunderbolt with the bucket hanging from a pole in front of the horse. Thunderbolt wins the race, and the Stooges enjoy the good life as Thunderbolt eats peanuts out of a large bowl in celebration. \n",
            "\n",
            "Place: 5\n",
            "ID:  1057\n",
            "Title:  Healthy, Wealthy and Dumb\n",
            "Categories:  \"Short Film\",  \"Absurdism\",  \"Comedy\",  \"Black-and-white\",  \"Slapstick\"\n",
            "Summary:\n",
            "  Curly wins $50,000 from writing a catchy jingle for a radio contest. The boys quickly spend their loot, and check in at the Hotel Costa Plente. Their suite is furnished with many expensive items which they systematically destroy. In the process, three gold diggers connive their way into the boys' room, under the guise that they are three rich widows looking to remarry. This works perfectly, as Curly quickly discovers that all the tax deductions reduce his winnings to a minuscule $4.85. The boys hastily agree to marry the ladies, who soon find out the Stooges are broke and give them what for. \n",
            "\n",
            "Place: 6\n",
            "ID:  924\n",
            "Title:  Three Missing Links\n",
            "Categories:  \"Short Film\",  \"Comedy\",  \"Black-and-white\"\n",
            "Summary:\n",
            " The boys are janitors at Hollywood studio Super Terrific Productions. They are cleaning the office of B. O. Botswaddle , who is reviewing a script a new picture \"Jilted In The Jungle\" where the leading man will be a gorilla. After nearly destroying Botswaddle's office, Curly does his classic imitation of a \"chicken with its head cut off\"  followed by other motions that cause Botswaddle to declare Curly to be the \"dead image of the missing link\" and sends the boys off to Africa to begin shooting. While setting up camp, Curly buys some \"love candy\" from a cannibalistic medicine man , in hopes of impressing leading lady Mirabel Mirabel ([[Jane Hamilton . Problems arise when Curly  gets entangled with a real gorilla, who scares the film crew off the set. The gorilla then turns his attention to Curly, who, in trying to placate the beast, eats some of the love candy and falls in love with it. The gorilla, repulsed, dashes off with a lovestruck Curly in pursuit. \n",
            "\n"
          ],
          "name": "stdout"
        }
      ]
    },
    {
      "cell_type": "markdown",
      "metadata": {
        "id": "H8mGssPKSB93",
        "colab_type": "text"
      },
      "source": [
        "2.Όλες οι ταινίες αφορούν σχέσεις παντρεμένων ανθρώπων. Οι λέξεις που κυριαρχούν είναι \"marry\", \"affair\" και \"divorce\"."
      ]
    },
    {
      "cell_type": "code",
      "metadata": {
        "id": "GpCcQ2YZPsVT",
        "colab_type": "code",
        "outputId": "7d6a7c7f-5562-4033-fcb3-eeba40000477",
        "colab": {
          "base_uri": "https://localhost:8080/",
          "height": 749
        }
      },
      "source": [
        "content_recommender(1547, 5)"
      ],
      "execution_count": 35,
      "outputs": [
        {
          "output_type": "stream",
          "text": [
            "ID:  1547\n",
            "Title:  The Divorcee\n",
            "Categories:  \"Pre-Code\",  \"Black-and-white\",  \"Drama\",  \"Film adaptation\",  \"Romantic drama\",  \"Romance Film\"\n",
            "Summary:\n",
            " Ted , Jerry , Paul  and Dorothy  are part of the New York in-crowd. Jerry's decision to marry Ted crushes Paul. He gets drunk and is involved in an accident that leaves Dorothy's face disfigured. Out of pity, Paul marries Dorothy. Ted and Jerry have been married three years when she discovers he had a brief affair with another woman — and when she confronts him on their third anniversary, he tells her it didn't \"mean a thing\". Lonely and upset, and with Ted out on a business trip, Jerry has an affair with his best friend, Don. She shares the truth with Ted upon his return, withholding Don's name, and they argue ending with Ted leaving her and the couple filing for a divorce. While Jerry turns to partying to drown her sorrows, Ted becomes an alcoholic. Paul and Jerry run into each other and she discovers he still loves her and is willing to leave Dorothy to be with her. It is only after she meets Dorothy that Jerry is forced to evaluate her decision. Norma Shearer won the Academy Award for Best Actress. Also starring in the film are Robert Montgomery, Conrad Nagel, and Florence Eldridge. \n",
            "\n",
            "Place: 1\n",
            "ID:  4871\n",
            "Title:  The Rich are Always With Us\n",
            "Categories:  \"Romance Film\",  \"Drama\"\n",
            "Summary:\n",
            " New York City socialite Caroline Grannard and her wealthy stockbroker husband Greg seemingly have a happy marriage until she learns about his affair with Allison Adair. When she confronts him, he confesses he wants a divorce. While en route to an assignment in Romania, novelist and war correspondent Julian Tierney, long in love with Caroline, meets her in Paris after her divorce is finalized and asks her to marry him. Although she insists she no longer has feelings for her ex-husband, she asks Julian for time to consider his proposal, and he departs without her. Caroline returns to the United States and discovers Greg and Alison are expecting a baby. Malbro, who has been trying to entice Julian into a romantic relationship without much success, advises Caroline he is planning to travel to China and India in hopes of forgetting her. Caroline tells Julian she loves him as well and they spend the night together. When Allison learns about their tryst, she tries to create a scandal but is stopped by Malbro and Greg. On their way home, the couple become involved in a heated discussion in the car and are involved in a crash in which Allison is killed and Greg is injured severely. When Caroline visits Greg in the hospital, he begs, \"Don't leave me.\" His doctor tells her the hope of a reconciliation will help Greg recover faster. She tells him, \"I won't leave you Greg.\" When Caroline sees Julian, she tells him that she cannot leave with him because she must take care of Greg. However, she arranges for a judge, hospitalized in a nearby room, to marry her and Julian before he departs for the Far East, and she promises to join him there once Greg has recuperated fully. \n",
            "\n",
            "Place: 2\n",
            "ID:  2598\n",
            "Title:  Hobbi al-Wahid\n",
            "Categories:  \"Romance Film\",  \"Drama\"\n",
            "Summary:\n",
            " Adel  is an airplane captain who shares a love relationship with a woman named Mona . Rushdi , a friend of Mona's family, wants her and has fallen in love with her. He tries to come onto her and approach her several times but she rejects him. On the day of Adel and Mona's engagement, Adel and Mona's friend, Hoda, have a car accident on their way to the engagement. When Mona calls Adel to see why he is late, Hoda replies to her telephone call. Mona thinks Adel is having an affair with her. She agrees to marry Rushdi, but after their marriage, he treats her badly. He makes her pregnant and after learning she has become pregnant, he hits her, thus making her have an abortion. Hoda meets Mona secretly and tells her the truth. Shocked by the truth, she asks Rushdi to divorce her. Rushdi plans to kill Mona, but he fails, and his plan was discovered. Mona spares Rushdi from any charges in return for their divorce. She returns to her lover Adel. \n",
            "\n",
            "Place: 3\n",
            "ID:  3123\n",
            "Title:  Murder\n",
            "Categories:  \"Thriller\",  \"Crime Fiction\",  \"World cinema\",  \"Drama\",  \"Romantic drama\",  \"Romance Film\"\n",
            "Summary:\n",
            " The story follows Simran , a young woman married to Sudhir  a workaholic. Due to her lonely married life, she gets into an affair with her college love, Sunny , whom she accidentally meets. She starts telling lies to Sudhir so as to meet Sunny daily. She gets so engrossed in their affair that she forgets all her commitments as a wife and mother, and she realises that it is grossly wrong. She decides to end the affair but, to her surprise, she finds another woman named Radhika with him. Simran then realises the mistake of sleeping with Sunny just because of unhappy marital life. She laments her unfaithful act. On the other hand, Sudhir hires a detective and learns about the affair and that Sunny is a womaniser. The next day, Sunny suddenly goes missing. The police come to their house and inquire about the missing Sunny, on a report registered by his girlfriend. Simran gets an idea that it has something to do with Sudhir. It is revealed that when Sudhir went to Sunny to ask him to end the affair, in the heat of the moment, he beat him brutally and buried his dead body. She accepts her mistake, supports Sudhir, and even tries to take every risk and blame on herself. This develops and strengthens their love and faith. With Sunny murdered, she is arrested by the police and she pleads guilty. Sudhir claims that it is actually he who has killed Sunny. This confuses the police. Moreover, the dead body is missing from the spot. The story takes a u-turn when it is found that this \"murder\" never took place; rather it was a plot planned by Sunny with the aid of Radhika to separate Simran and Sudhir, so that he could continue his love affair with Simran. But only Simran comes to realize this, and she is then trapped by Sunny. She is then rescued by her husband Sudhir who breaks into the house, and beats Sunny. Before Sunny goes, he tells Sudhir that if he dies, both of them would go to jail, and therefore Sudhir walks away. Sunny runs up behind Sudhir with a shovel but is then shot at the back by a police officer. The couple reunites with the love developed on the strong foundations of the test of mutual support and understanding to lead a happily married life. \n",
            "\n",
            "Place: 4\n",
            "ID:  3097\n",
            "Title:  Secrets\n",
            "Categories:  \"Silent film\",  \"Drama\"\n",
            "Summary:\n",
            " The films opens in present. 75-year-old Mary Carlton is depressed over her husband John's illness. She feels her life has no use if he dies. She starts reading her diary, after which the film jumps to 1865 in the time she fell in love with John. She feels she has to hide her love for her strict mother, fearing she will disapprove because of their social class differences. Mary lives within the very wealthy Marlowe family and grows up to be a lady with manners, while John is a working class employee. When her parents find out about the affair, they are outrageous. They forbid her from ever seeing John again. However, Mary tells them she only loves John and will never marry anybody if she can't see him anymore. Her father William locks her into her own room until she stops being a rebel. Meanwhile, she receives a letter from John, who announces he has been fired over their love affair. Later that night, John sneaks into her room by the balcony and announces he will leave for America. Despite knowing her parents won't ever talk to her again, she decides to go with him. Before they can leave, William comes in. He tells Mary he will send her to Scotland to live with her grandmother. After he leaves the room, Mary writes a farewell letter and sneaks off with John. By the time it's 1870, she lives with John in a poor house. He works all day, while Mary is giving birth to a son. One day, a gang threatens to kill John. He wants to surrender so they won't kill Mary and the baby as well, but Mary demands him to fight. He does as his wife tells him and eventually defeats the gang. Years pass by. In 1888, Mary celebrates her 39th birthday and is having contact with her family again. She finds out John is having a mistress, Estelle. Mary feels humiliated, but Estelle makes things worse when she confronts Mary with the fact she can't make her husband happy. Mary grants her husband a divorce, but he doesn't want to leave her. He admits he has had an affair with Estelle, but that it didn't mean anything. They reunite, although John announces he has lost all of his money. The film goes back to present, where Mary is told her husband has recovered from his illness.Secrets at the silentera.com databaseSecrets as produced on Broadway beginning December 25, 1922; Fulton Theatre \n",
            "\n",
            "Place: 5\n",
            "ID:  2117\n",
            "Title:  The Kate Logan Affair\n",
            "Categories:  \"Drama\"\n",
            "Summary:\n",
            " The Kate Logan Affair is about a young psychologically unstable police woman named Kate Logan and a married Frenchman who find themselves caught up in a dramatic twisted affair. \n",
            "\n"
          ],
          "name": "stdout"
        }
      ]
    },
    {
      "cell_type": "markdown",
      "metadata": {
        "id": "FnEaqvJVSJBF",
        "colab_type": "text"
      },
      "source": [
        "3.Και οι 5 ταινίες αφορούν τον κόσμο του εγκλήματος, είτε από την πλευρά των αστυνόμων είτε των δραστών και είτε το έγκλημα πρόκειται για δολοφονία είτε για κλοπή. Οι πρώτη αφορά μάλιστα τον ίδιο ήρωα, ενώ ο εντοπισμός της δεν έγινε μέσω του ονόματος, το οποίο όπως είπαμε έχει εξαιρεθεί, αλλά μέσω της πλοκής."
      ]
    },
    {
      "cell_type": "code",
      "metadata": {
        "id": "6vRf6hu2RtZw",
        "colab_type": "code",
        "outputId": "cd98bab2-fe4f-4ec9-d71c-e782917c595b",
        "colab": {
          "base_uri": "https://localhost:8080/",
          "height": 749
        }
      },
      "source": [
        "content_recommender(4814, 5)"
      ],
      "execution_count": 36,
      "outputs": [
        {
          "output_type": "stream",
          "text": [
            "ID:  4814\n",
            "Title:  Jesse Stone: Innocents Lost\n",
            "Categories:  \"Crime Fiction\",  \"Thriller\",  \"Television movie\",  \"Drama\",  \"Film adaptation\",  \"Crime Thriller\"\n",
            "Summary:\n",
            " After being replaced as the chief of police in Paradise, Massachusetts by the town council president's son-in-law, William Butler , Jesse Stone is still without a full-time job . Nevertheless, he continues to find ways to pursue investigations into two separate murders: one involves a friend with whom he had lost contact, and the other has him working as a consulting investigator for the Massachusetts State Police Homicide Division on a case involving a robbery and murder suspect. Both Jesse and his friend, State Police Captain Healy , have doubts as to the robbery/murder suspect's guilt. All the while, Jesse deals with tensions between Butler, who expects him to give up his \"concealed carry\" gun permit, but who is informed, by Rose Gammon , that as a retired  police officer that he has a federally-mandated right to \"concealed carry\" for life. His problems with his ex-wife, and drinking issues are still present. \n",
            "\n",
            "Place: 1\n",
            "ID:  3011\n",
            "Title:  Jesse Stone: No Remorse\n",
            "Categories:  \"Crime Fiction\",  \"Thriller\",  \"Television movie\",  \"Mystery\",  \"Drama\",  \"Film adaptation\",  \"Crime Thriller\"\n",
            "Summary:\n",
            " The film begins with the murder of a young man as he opens his car door in a parking garage. The film then turns to catching us up with Jesse, who as it turns out hasn’t been up to much. After his suspension, Jesse Stone sinks into seclusion and alcoholism. Ordered not to communicate with his former subordinates while on suspension, no one is able to reach him. Eventually Rose becomes concerned and asks Jesse’s friend Captain Healy, the State Police Homicide Commander, to check in on him. Healy is still recovering from his gunshot wounds, and is supposed to be on medical leave, but as he informs Jesse – he’s taking his leave at his office. Healy finds Jesse looking disheveled, drunk, and despondent. Shortly after arriving, Jesse receives a phone call from Jenn, so Healy excuses himself. Jenn tells Jesse that she needs to talk to him because she and Elliot had a fight. Angered by this, Jesse tells Jenn that they shouldn’t speak anymore, then rips the phone out of the wall and throws it across the room. Later he buys a cell phone, but Rose has to help him program it. He only gives the number to her, and a few others, warning them not to give it to anyone else. It appears that Jesse and Rose are becoming close. After a second murder in a parking garage, Healy asks Jesse to work as a private consultant to the Boston police department on the investigation. He does this partly to help his friend, but mostly because he needs Jesse’s experience. Jesse soon learns that the first victim had ties to Boston mob boss, Gino Fish. However when Jesse questions Fish about the man, Fish denies ever knowing him, as does his secretary Allen. After a third murder, Jesse questions Fish again, who then admits that he knew the first victim, but that he hadn’t seen him for a couple of days before the murder. Allen confirms this. Later Jesse takes Sister Mary John on a sort of date. At dinner he asks if Allen or Gino had been trying to get anymore young girls, but she hints to the fact that Allen and Gino are probably gay. He also discovers that the place, Milly’s, that the first victim was leaving when he was killed, was a gay bar, and a favorite destination of Allen and Gino’s. He suspects that Allen saw Gino and the first victim together there. After having sometime to contemplate the revelation that Gino and Allen are gay, and probably in a relationship, he begins to suspect that Allen may have murdered the first victim out of jealousy. Having a master’s degree in Criminal Psychology, Allen would have known that the murder would eventually be connected to him, unless he could provide another explanation for it. So he then murdered the other two to hide his motive and make it look like a serial killer. Jesse confronts Gino, and later Allen with this information. Jesse calls Allen to have him meet him at Milly’s at 3pm to discuss matters further. Allen says he won’t be there and then vomits in his toilet. He then retrieves the murder weapon and throws it in the ocean. Later, while waiting for Allen at Milly’s, Jesse witnesses Allen’s murder in a hit and run. Jesse and Commander Healy later speculate that Gino ordered this fearing that Allen’s confession would lead people to discovering Gino was gay and destroy his underworld reputation. \n",
            "\n",
            "Place: 2\n",
            "ID:  3845\n",
            "Title:  The Robber\n",
            "Categories:  \"Thriller\",  \"Crime Fiction\",  \"Biography\",  \"World cinema\",  \"Sports\",  \"Drama\",  \"Crime Thriller\"\n",
            "Summary:\n",
            " Johann  is a convicted felon and marathon runner who has been paroled from prison for attempted armed robbery. Upon his release he immediately continues to commit bank robbery, armed with a shotgun and disguised with a mask. He then moves in with a young social worker and friend, Erika , and the two soon begin a relationship. Johann goes on to win several marathons with record times, and is congratulated by his parole officer. However, after committing several more robberies, Erika begins to suspect Johann. After finding Johann's loot under his bed she asks him to leave, but not before telling him that change is possible. After weeks of Johann failing to contact his parole officer, the officer shows up after a marathon to talk with Johann. The officer expresses concern that Johann is not keeping in contact and cooperating with him. After pressing Johann to talk with him, Johann becomes enraged and bludgeons his parole officer to death with his trophy. After a final meeting with Erika, Johann is apprehended by the police in the hotel room where he had kept his money, having been turned in by a heartbroken Erika. After being handed a confession to sign, Johann breaks out of jail through a window and leads the police on a cross country manhunt on foot. He takes refuge in the house of an old man, and during the process of tying him up, the old man pulls a concealed pocket knife and stabs Johann deeply. Johann takes the old man’s car and drives until he notices a helicopter following him, after which he switches cars with some motorists at a rest stop, and seemingly evades the police. As Johann continues to drive he begins to lose consciousness, and realizes the seriousness of his wound. He pulls over, dying, and calls Erika, asking her to stay on the phone. Finally his breath slows, stops, and he dies. \n",
            "\n",
            "Place: 3\n",
            "ID:  2031\n",
            "Title:  The Night the Bridge Fell Down\n",
            "Categories:  \"Action\"\n",
            "Summary:\n",
            " Engineer Cal Miller's unauthorized attempt to close off the dangerously unstable Madison Bridge is foiled by the police pursuit of a robbery suspect. The chase ends in a multi-car accident in the middle of the bridge, which begins falling apart during the confusion. The wounded police officer and a handful of bystanders find themselves stranded with the armed suspect upon a short stretch of crumbling pavement high atop a single collapsing pylon, as Miller organizes a rescue operation. \n",
            "\n",
            "Place: 4\n",
            "ID:  518\n",
            "Title:  Edge of Darkness\n",
            "Categories:  \"Thriller\",  \"Mystery\",  \"Crime Fiction\",  \"Drama\"\n",
            "Summary:\n",
            " By moonlight, three bodies float to the surface of the Western Massachusetts stretch of the Connecticut River. At South Station, Boston, Thomas Craven  picks up his daughter, Emma , who has returned home to visit. She vomits while getting into the car. At home, as Craven prepares a meal, Emma starts to nosebleed and vomits again, and becomes frantic, saying that she needs to see a doctor and tell him something. When they stop at the porch, as they hurriedly leave to find a hospital, a masked gunman yells \"Craven!\" and then fires simultaneous shotgun blasts at Emma before driving away. Blasted through the door, she dies in Craven's arms. At first, everyone believes that Craven, a homicide detective for the Boston Police Department, was the gunman's target, but when Craven finds Emma had a .45 pistol in her night stand, he starts to suspect that Emma was an intended target. At the police station, he checks the ownership of the pistol and finds that it belongs to her boyfriend David . David is living in fear of a nearby company called Northmoor, where Emma worked, and Craven makes a discovery: Emma found out that Northmoor, a research and development facility under contract to the U.S. government, was secretly manufacturing nuclear weapons using foreign material and foreign specifications. It was intended to be traced to foreign nations if they are used as dirty bombs. Following the failed break-in of the activists seen dead at the opening, Emma was poisoned with thallium through a bottle of organic milk. Burning her clothing in his backyard, Craven encounters Jedburgh , a British \"consultant\" tasked with preventing Craven from discovering Emma's information, or killing him. Jedburgh instead takes a liking to Craven, and leaves him to investigate. David is later killed. Throughout the film, Craven repeatedly imagines he hears and sees his daughter, even having short conversations and interactions with her . Craven also has several encounters with Northmoor agents, and he eventually discovers through one of Emma's friends, another activist who is nearly killed by another of Northmoor's agents, that Jack Bennett , head of Northmoor, ordered the murder of his daughter, as well as the activists Emma was working with to steal evidence of the illegal nuclear weapons. Northmoor personnel kill a hitman marked as a fall guy after he is set up for killing Emma. Craven confronts lawyer and Massachusetts U.S. Senator Jim Pine , contacted earlier by Emma, revealing that they know almost everything that happened. At night, Craven's fellow detective and friend, Bill , talks to Craven at his home while the Northmoor agents break into the house. Craven realizes that Bill set him up, and the agents taser and kidnap him, taking him to Northmoor. Craven, upon waking up handcuffed to a gurney, manages to quickly escape the facility and returns home. His health deteriorating rapidly from the poison, Craven arrives at Bennett's house and kills the agents, one of whom Craven realizes is the man who shot his daughter. After he orders him at gunpoint to scream the name \"Craven\", he executes his daughter's killer. Bennett shoots Craven, but Craven tackles Bennett and pulls out the radioactive milk. He forces it down Bennett's throat and collapses. A gagging Bennett frantically runs to his cabinet to get pills to counteract the radioactivity, but Craven drags himself over and shoots Bennett in the throat, killing him. Craven is hospitalized for the gunshot wounds and radiation poisoning. Jedburgh, who is revealed to be suffering from an unrelated terminal illness, meets the Senator  and the two political advisors who assigned Jedburgh to eliminate Craven. He listens to their suggestions as to how to play the Northmoor incident in a positive light. He tells them that he is done and then suggests an assassination attempt on the Senator should be the feature story, to drive Bennett's death out of the tabloids. They are happy to go along with the story until Jedburgh coldly tells the senator that he is on the wrong side of the equation. As the meeting ends, Jedburgh abruptly pulls out a gun and shoots both advisors, and then the senator dead, before a young Massachusetts State Police officer enters . Jedburgh points his gun at the officer and asks if the young man has a family and kids. The officer says yes; Jedburgh contemplates shooting the officer, and thus ultimately becoming like those who he sought to stop, lowers his gun to face his death as an honorable man. He is immediately shot dead by the officer. As Craven lies dying in the hospital, a young reporter for the local FOX TV station WFXT, who spoke to Craven a few nights earlier at his home, opens a letter from him with DVDs  revealing the conspiracy, with Craven's \"good luck\" wishes, ensuring Northmoor's end. As Craven dies, Emma, in spirit form, comforts him. The father and daughter are shown leaving the hospital together, walking down the corridor and toward a bright, white light. \n",
            "\n",
            "Place: 5\n",
            "ID:  3758\n",
            "Title:  Khatarnak\n",
            "Categories:  \"Action\"\n",
            "Summary:\n",
            " Dasu  is the son of a counterfeit racketeer . As his father goes to jail, Dasu becomes an orphan. He stops his education at 10th class and moves like a vagabond. On the other side, there is a smuggler who used to smuggle drugs and arms into the country. But an honest police officer  hatches a plan and sends one informer  into their underworld. He stays with them for sometime and passes on information to the police, with the help of which the police were able to bust the smugglers team, though not the kingpin. The don's assistant, who was also a lawyer advises him to play the same trick and admit one of their henchmen into the police to get information from the reverse side. However, he should not be in police records but should be crooked and cunning. The smugglers team's search ends with Dasu. The group threatens Dasu and make him to play like a puppet in their hands. In order to push him inside the police department, he should at least pass tenth class. So, they admit him in a school, where he falls in love with a teacher Nakshatra . However, she doesn't like him as he neither has good education nor good looks. After a few incidents, the don's right hand i.e., the lawyer tells Dasu to study well and become a police officer to win her love. Admitting the idea, Dasu turns a good student and gets through the exam. Later, he becomes a constable and gets posted in traffic. The smugglers unit hatches another plan and succeeds in pushing him in the crime police. After watching Dasu as a sincere police constable, Nakshatra too starts liking him. Soon, in a turn of events, Nakshatra's brother, who was a police informer, gets killed in the hands of Dasu at the behest of the don. She chides Dasu and starts hating him. Dasu starts disliking his job as he became a police officer only to win her love. As he lost her love, Dasu turns against the don and finally kills him. Nakshatra learns from the lawyer that her brother actually died in the hands of the don, she reunites with Dasu and the film ends on a happy note. \n",
            "\n"
          ],
          "name": "stdout"
        }
      ]
    },
    {
      "cell_type": "markdown",
      "metadata": {
        "id": "clm-lBjQTGLz",
        "colab_type": "text"
      },
      "source": [
        "4.Οι ταινίες έχουν κυρίως Ιάπωνες χαρακτήρες και σχετίζονται βασικά με τον Ιαπωνικό υπόκοσμο (Yakuza) και με τις διαμάχες που συμβαίνουν σε αυτό το πλαίσιο."
      ]
    },
    {
      "cell_type": "code",
      "metadata": {
        "id": "tBvezNzzVY0U",
        "colab_type": "code",
        "outputId": "5577fc6a-ae11-4354-ac70-cb2255b18fe6",
        "colab": {
          "base_uri": "https://localhost:8080/",
          "height": 871
        }
      },
      "source": [
        "content_recommender(4912, 6)"
      ],
      "execution_count": 37,
      "outputs": [
        {
          "output_type": "stream",
          "text": [
            "ID:  4912\n",
            "Title:  The Street Fighter\n",
            "Categories:  \"Action/Adventure\",  \"Action\",  \"Martial Arts Film\",  \"Japanese Movies\",  \"World cinema\"\n",
            "Summary:\n",
            " The film begins as Takuma  Tsurugi meets the condemned murderer Tateki  Shikenbaru while disguised as a Buddhist monk. Tsuguri applies his \"oxygen coma punch\" to Junjo, causing him to collapse just before he can be executed. As Junjo is rushed to a hospital, Tsurugi and his sidekick Rakuda  ambush the ambulance and free him. As Tsurugi and Ratnose watch the incident on the news, Junjo's brother Gijun and sister Nachi arrive and plead for more time to pay for Tsurugi's help. Outraged, Tsurugi refuses and attacks the siblings. Gijun is defenestrated when Tsurugi dodges a flying kick, and Nachi is sold into sexual slavery by Mutaguchi. Mutaguchi and his associates attempt to hire Tsurugi to kidnap Sarai, the daughter of a recently deceased oil tycoon. Tsurugi refuses after discovering that the gangsters are Yakuza. He escapes, but the Yakuza gangsters resolve to kill Tsurugi as well as kidnap Sarai. Tsurugi immediately seeks out Sarai, who is being protected at the Nippon Seibukan dojo by her uncle, Kendō Masaoka, a Karate master. Tsurugi captures Sarai and challenges the entire dojo to a fight. He brutalizes the rank-and-file students before Masaoka bests him. Ultimately, Tsurugi offers to protect Sarai, and Masaoka agrees, against Sarai's protests. Meanwhile, the Yakuza's allies in Hong Kong, led by Kowloon Dinsau, recruit Junjo Shikenbaru to avenge his siblings by killing Tsurugi. The gangsters make several attempts to kill Tsurugi before they successfully kidnap Sarai. Tsurugi manages to rescue her, but gets captured himself. Ratnose gives up Sarai's location to save Tsurugi, causing the honorable Tsurugi to forsake him. When Tsurugi faces a blind swordsman working for the Hong Kong gangsters, Ratnose dies in a reckless attempt at redemption. Tsurugi finally tracks the gangsters down to a shipyard and fights his way through their guards. In the end, Dinsau permits Tsurugi to duel Junjo. Nachi sacrifices herself to give her brother a free shot with a sai, but Tsurugi survives and kills Junjo. Critically wounded, Tsurugi is helped to his feet by Sarai and Dinsau in the final shot of the film. \n",
            "\n",
            "Place: 1\n",
            "ID:  1793\n",
            "Title:  Zatoichi\n",
            "Categories:  \"Crime Fiction\",  \"Japanese Movies\",  \"World cinema\",  \"Action/Adventure\",  \"Martial Arts Film\",  \"Drama\",  \"Comedy\",  \"Music\",  \"Action\"\n",
            "Summary:\n",
            " The film's plot follows a traditional theme, with Zatōichi coming to the defense of townspeople caught up in a local Yakuza gang war and being forced to pay excessive amounts of protection money. Meanwhile, Zatōichi befriends a local farmer and her gambler nephew and eventually offers his assistance to two geisha siblings  who are seeking revenge for the murder of their parents. The siblings are the only survivors of a massacre that was carried out on their family estate in order to obtain large sums of money ten years ago. They soon discover the people responsible for the murders are the same Yakuza wreaking havoc on the small town. After slicing his way through an army of henchmen with his shikomizue, Zatōichi defeats the Yakuzas' bodyguard, a powerful ronin, in a duel. Zatōichi later wanders into town and confronts the Yakuza bosses, killing the second-in-command and blinding the elderly Yakuza boss  after opening his eyes for the first time and revealing that he has been able to see the entire time. The film ends with a dance number led by noted Japanese tap dance troupe The Stripes, and Zatōichi walking down a trail and tripping over a rock, saying \"Even with my eyes wide open, I can't see anything.\" \n",
            "\n",
            "Place: 2\n",
            "ID:  3753\n",
            "Title:  Gen-X Cops\n",
            "Categories:  \"World cinema\",  \"Action Comedy\",  \"Action/Adventure\",  \"Martial Arts Film\",  \"Comedy\",  \"Action\",  \"Chinese Movies\"\n",
            "Summary:\n",
            " Jet fuel is stolen by weapons smugglers. The fuel is reacquired by the Hong Kong police but then once again stolen by a yakuza boss named Akatora who is trying to sell it with the help of Hong Kong thug Daniel. Three rebellious cops go undercover to find both the jet fuel and Akatora. They must use the criminal instincts that got them kicked out of the force to save Hong Kong from a devastating terrorist attack. \n",
            "\n",
            "Place: 3\n",
            "ID:  905\n",
            "Title:  Crows ZERO\n",
            "Categories:  \"Thriller\",  \"Action/Adventure\",  \"Action\",  \"Japanese Movies\",  \"World cinema\"\n",
            "Summary:\n",
            "  The plot begins when Takiya Genji , the son of a Yakuza boss named Takiya Hideo, enters Suzuran All-Boys High School as a transferred senior with the goal of conquering it. During the freshman orientation lecture, Yakuza arrive at the school seeking third-year senior Tamao Serizawa to avenge an injury. To show his worth, Genji fights and defeats the Yakuza, who mistake him for Tamao. One of the Yakuza, Ken Katagiri is impressed by Genji's skills. Meanwhile, Tamao greets his best friend Tokio Tatsukawa, who is discharged from a hospital, claiming that he is in good health. Tamao quietly dismisses Tokio claim and takes his bike to ensure he won't get harmed, slightly insulted that Tokio would lie to him. Tamao drives back to the school to witness Genji brutally finish off the last of the yakuza thugs. The two briefly take in the looming threat of each other's presence before Tamao is arrested for not having a driver's license for a bike. After the intro, Genji meets Ruka in a nightclub, where she sings as an R&B singer. Genji declares his ambition of conquering Suzuran to his father, who failed in the task. They agree that if Genji conquers Suzuran, he may inherit his father's Yakuza family. The next day, Genji meets Serizawa and Tokio, who was a childhood friend of Genji's. Tokio manages to halt a potential fight in between the two and tells Genji to take down Rindaman before approaching Serizawa. Rindaman, who is giant-sized and a legendary figure in the school, ignores Genji, who instead finds Ken Katagiri. Ken attacks Genji for getting his gang arrested but Genji takes him down in one punch. Ken surrenders and takes Genji to a quiet bar to chat about Suzuran. Ken tells Genji that he was in Suzuran as well, and came close to ruling it, but failed and ended up being a dropout. He proposes teaching Genji about leadership and influencing others to join his army, in order to correct Genji's lack of strategy in his ambition. Genji follows Ken's advice that he writes in a small notebook and manages to easily conquer Chuta Tamura's class, admitting him into his army. The Mikami Brothers of Class B join Serizawa's army, who then approach Class C's leader, Takashi Makise, who maintains a neutral position, claiming that even if Serizawa beats him in a fight, his men will never follow an enemy leader. Genji decides to acquire Makise by exploiting his weakness for sex. Ken arranges a group date, but due to Makise's obvious awkwardness around women, the date flops miserably. Makise joins Genji anyway, based solely on the friendship formed on the day. Meanwhile, a gang known as the Freshmen Trio, have managed to take control of their grade level. They are soon provoked by Izaki, a notorious and calculating senior. Izaki proposes joining Genji, but ambushes him instead, to test his strength. Genji fights valiantly, and Izaki is impressed, despite thoroughly defeating Genji . He joins forces with Genji, forming the Genji's Perfect Seiha Army. Serizawa is alarmed by the rapid rise of Genji, but chooses not to take action. A member of his army, Tokaji takes covert action against the perceived threat by ambushing Izaki and hanging him from a rope, bloodied. This provokes Genji, unused to caring for his fellow men and claims that, \"This really hurts.\" Makise stops him from making a rash attack on Serizawa, their army still too small to hold a major fight. Later, Serizawa and Tokio meet Genji in a pub, but Tokio suffers a seizure and is rushed to a hospital, where he learns that he has a large cerebral aneurysm, and that the surgery required has a 30% success rate. Tokio chooses to go ahead with the operation, confident of his survival. Angered by the provocations, Genji attacks Serizawa's classes even as Makise tries to stop him. Chuta is also ambushed by Tokaji, and as Genji tries to leave to attack Serizawa, Makise finally decides to leave the GPS Army, stating that he cannot follow a leader without control. Ken tries to encourage Genji, and learns that Genji 's father is Hideo Takiya, a former associate of Ken's. Tokaji covertly tries to arranges a deal with Hideto Bandou, a second year and leader of a biker gang, The Front of Armament, to kidnap Ruka to further provoke Genji and throw him off his focus. Meanwhile, Genji challenges Makise to a fight, with a condition that if Genji wins, Makise joins him again. Makise forgives Genji with their familiar, \"Take all,\" gesture the two shared on the night they became friends. Genji holds back his tears of gratitude and playfully flips off Makise, the bond sealed again. Ken's boss, Joji Yazaki asks Ken to kill Genji, disregarding the fact that killing the heir to a Yakuza family would entail an all-out war. Izaki returns from the hospital and is given an awkward but warm welcome back by the Genji and his gang. Ken's order to kill Genji bears too much on his conscience and he informs Genji's father Takiya Hideo of Yazaki's plan to kill his son. Ken decides that he will not do as he was asked, and suffer Yakuza punishment for disobedience - death. Ruka calls Genji, telling him that she is abducted and that her abductors wore jackets with skulls on the backs. Realizing that they are the Armoured Front, the GPS Army gathers and makes their advancement to the Narai Warehouse, The Front's headquarters. A fight ensues, and Bandou is impressed by Genji 's strength. He calls an end to fight to ask why Genji has chosen to oppose The Armoured Front. After Genji states that Ruka was abducted by men wearing jackets bearing skulls Bandou reveals that he has sealed the skulls and that none of his men bear the skulls on their backs. He then tells Genji that Tokaji might be behind the whole farce and tells him where he can find him. Finding Ruka there, Ayman is finally bent for war against Serizawa. Serizawa, who was not aware of Tokaji's actions, fights him and agrees to Genji 's proposal for an all-out battle on the school grounds. They decide to fight at 5 PM, at the same time when Tokio will enter operation, the idea being that Serizawa will fight alongside Tokio. The two share a cold stare down and leave. The next day, the two armies meet across the rain soaked school ground, Serizawa' army having 100 strong, GPS, 70. The two armies shout their battle cries and charge at each other. As the battle enters full swing, the Freshmen Trio comment on the battle's balance. The battle goes in Serizawa's favour, even though the GPS army fights strongly. The Armoured Front joins the battle midway on the GPS' side, evening the odds. Towards the end, only Serizawa and Genji remain standing, and fight. Meanwhile, Ken's boss takes him to a dock to be executed for his disobedience. He gives Ken his coat, stating that Ken had always wanted to wear it . He then shoots Ken, who cries out to Genji before sinking. The battle drags into the evening as Genji and Serizawa continue to pound on each other, both badly damaged and exhausted. Genji gains the upper hand and wins the fight against Serizawa, who receives a call informing him that Tokio's operation was a success. Ken wakes up in the sea suddenly and swims up to the surface, realising that the coat he wore was bulletproof. Having defeated Serizawa, Genji finally meets Rindaman, stating that he has to be defeated if Genji is to be titled the king of Suzuran. Rindaman replies that Suzuran can never be conquered, as there is always someone left to defeat. The film ends as Genji attacks Rindaman. \n",
            "\n",
            "Place: 4\n",
            "ID:  1040\n",
            "Title:  Double Impact\n",
            "Categories:  \"Crime Fiction\",  \"Action/Adventure\",  \"Action\",  \"Martial Arts Film\",  \"Thriller\"\n",
            "Summary:\n",
            " The story begins with the opening of the Hong Kong Victoria Harbour tunnel by business partners Paul Wagner and Nigel Griffith . Paul attends with his twin baby sons, Chad and Alex. However, after the celebrations, the family is followed home by a Triad hit squad on orders from Griffith and crime lord Raymond Zhang . A shootout ensues, in which Paul and his wife are killed by the bodyguard Moon . Chad is rescued by the family bodyguard, Frank Avery , and raised abroad. Alex is dropped off on the doorstep of a Hong Kong orphanage. In the present day, Chad  and Frank are running a successful martial arts business in Los Angeles when Frank reveals a new \"business\" for the two of them in Hong Kong. Soon after arrival, they find Chad's twin brother Alex  and Frank explain their shared past. It is revealed that Alex is immersed in the Hong Kong crime world ruled by Zhang, and has a girlfriend who works for Griffith’s company, Danielle Wilde . After escaping the Hong Kong Marine Police for trying to sell foreign cars with electronics inside, Chad  is taken in by the Triads to discuss the incident. During the interrogation, Chad learns about a drug lab in Causeway Bay. Alex and Chad arrange to destroy the lab by planting C4 in the complex one night, but Chad's clumsiness triggers a massive gunfight. The lab is destroyed, but Chad loses any respect for Alex. Later, Danielle and Alex talk on a ferry and discuss a meeting that will take place soon in a night club in Hong Kong, with Zhang and other bosses in attendance. Alex, Chad and Frank endure their third mission to take down Zhang using Cognac boxes with C4 encased in them. Zhang discover that both Chad and Alex are not only twins, but the twins from 25 years ago. Danielle locates the document that she had been sent to recover, but is stopped by Kara . Griffing assassin and begins to search Danielle in ways she thought were strange since Kara is bisexual and hits on her as well, Chad heads to the Hideout in a bar where Alex has a base, Chad has rescue Danielle after fleeing from the triads, this infuriates Alex and begins to hate Chad even more to the point where Chad leaves the building. Alex reveals that he has no brother on the grounds that he was raised in the streets alone and had no one to help him. After a massive hangover Alex looks at the building as it is being raided by armed soldiers working for Griffin and Zhang, after locating Frank and Danielle they`re taken hostage on the Golden Glory ship's furnace room where they are being tortured, Alex and Chad have joined forces as the infultrate the ship and begin killing off soldiers. Despite ongoing tension between the twins, Chad and Alex eventually team up to start dismantling Zhang’s criminal empire. Towards the end of the movie, Zhang and Griffith kidnap Frank and Danielle to lure the twins into a trap. Chad and Alex fight their way through most of the henchmen sent to kill them and finally pursue and kill Zhang and Griffith. Chad and Alex decide to put aside their differences and become brothers once more. \n",
            "\n",
            "Place: 5\n",
            "ID:  3791\n",
            "Title:  New Battles Without Honor and Humanity\n",
            "Categories:  \"Drama\"\n",
            "Summary:\n",
            " While the film is a remake of the original Battles Without Honor and Humanity series, it has no direct similarities. Set in Osaka, it focuses on former childhood friends Kadoya Kaneo  and Tochino Masatatsu  as their lives cross paths again. Kaneo is now a yakuza member, while Masatatsu is a nightclub owner with a distaste for crime gangs. When a yakuza boss dies, a struggle for his position takes place between Kaneo's boss Awano  and the young Nakahira . Nakahira's men try to extort money from Masatatsu, bringing him in between a yakuza battle.<ref name Schilling |first  2000-11-21 |title  http://www.japantimes.co.jp/text/ff20001121a1.html |publisher  2012-05-26 }} \n",
            "\n",
            "Place: 6\n",
            "ID:  558\n",
            "Title:  The Slammin' Salmon\n",
            "Categories:  \"Gross out\",  \"Gross-out film\",  \"Indie\",  \"Comedy\",  \"Slapstick\"\n",
            "Summary:\n",
            " \"Slammin\" Cleon Salmon  is a former world heavyweight boxing champion who retired to open a sports-themed restaurant in Miami. His antics lead him to believe that he owes $20,000 to the head of the Japanese Yakuza. Needing to come up with the money in one night, he challenges the wait staff to sell more food than they have ever sold, with the top waiter receiving $10,000 in cash and the lowest waiter getting a \"broken ribs sandwich\" courtesy of the champ. Zany hijinks ensue as the staff try to one-up each other and win the prize while avoiding a beating. In the end, Cleon realizes that he only owed 20,000 Yen to the Japanese Yakuza  and shares the takings with the wait staff. But before he goes to give the Japanese Yakuza the money, he beats up Guy since he was the lowest selling waiter. \n",
            "\n"
          ],
          "name": "stdout"
        }
      ]
    },
    {
      "cell_type": "markdown",
      "metadata": {
        "id": "PCArw3zrV00q",
        "colab_type": "text"
      },
      "source": [
        "5.Όλες οι ταινίες έχουν σχέση με το φαγητό, κυρίως μέσω των εστιατορίων και αρκετές με τον ρομαντισμό που αναπτύσσεται σε αυτό το πλαίσιο μεταξύ ανθρώπων."
      ]
    },
    {
      "cell_type": "code",
      "metadata": {
        "id": "V55UyntpV2FY",
        "colab_type": "code",
        "outputId": "9620ff85-ca93-4f74-e0cd-16172f380d79",
        "colab": {
          "base_uri": "https://localhost:8080/",
          "height": 871
        }
      },
      "source": [
        "content_recommender(4953, 6)"
      ],
      "execution_count": 38,
      "outputs": [
        {
          "output_type": "stream",
          "text": [
            "ID:  4953\n",
            "Title:  Bon Appétit\n",
            "Categories:  \"Romance Film\",  \"Drama\",  \"Comedy\"\n",
            "Summary:\n",
            " Daniel  is a young and ambitious Spanish chef who just realized his dream: working at a famous restaurant managed by star chef Thomas Wackerle . Due to his extraordinary talent, Daniel soon progresses in Wackerle's demanding kitchen. He is attracted to Hanna , the attractive sommellier of the restaurant. One evening, Daniel and Hanna are walking in the city, talking about life, love, and relationships. Daniel expresses his opinion that love isn't at all like a romantic movie. After saying this, Hanna kisses Daniel. This unexpected situation provides a turning point in Daniel's tidy and organized life. He faces a difficult question: Is it worth risking your professional career for love? Bon Appétit is a film telling the story of friends who dare to cross the thin line dividing friendship and romantic love. The film talks about conventional people and includes scenes shot in some of the most picturesque places of Zurich, Switzerland. \n",
            "\n",
            "Place: 1\n",
            "ID:  1496\n",
            "Title:  Eat Drink Man Woman\n",
            "Categories:  \"World cinema\",  \"Comedy-drama\",  \"Domestic Comedy\",  \"Drama\",  \"Comedy\",  \"Romance Film\",  \"Chinese Movies\"\n",
            "Summary:\n",
            " This film tells the story of a semi-retired and widowed Chinese master chef at the Taipei Grand Hotel. Chef Chu  and his family are living in modern day Taipei, Taiwan. At the start of the film, he lives with his three attractive daughters, all of whom are unattached. The three daughters are: * Jia-Jen, the oldest one , a school teacher nursing a broken heart * Jia-Chien, the middle one , a career woman * Jia-Ning, the youngest one , a twenty year old As the film progresses, each daughter encounters new men. When these new relationships blossom, their roles are broken and the living situation within the family changes. The father eventually brings the greatest surprise to the audience at the end of the story. \n",
            "\n",
            "Place: 2\n",
            "ID:  4583\n",
            "Title:  Simply Irresistible\n",
            "Categories:  \"Romantic comedy\",  \"Drama\",  \"Romance Film\",  \"Fantasy\",  \"Comedy\"\n",
            "Summary:\n",
            "  Amanda Shelton  inherits her late mother's restaurant, but lacks her mother's ability to cook. The restaurant is failing when Amanda meets a mysterious and possibly magical man at the local market. He introduces himself as Gene O'Reilly and claims to be an old friend of her mother's. He sells her crabs, one of which escapes cooking to become her personal mascot. This special crab is magical and it casts spells, with a wave of its claw. Amanda meets her love interest at the market, Tom Bartlett , a department store manager at Henri Bendel on Fifth Avenue, who is opening an ambitious new restaurant inside his store. It is never explicitly explained why, but this eventful day transforms Amanda into a miraculous food witch; people who now eat her impressive new dishes fall under her accidental spells . These are inspired by her emotions and created with the help of her magic crab. Amanda saves her restaurant overnight, and her relationship with Tom blossoms just as fast. However, Tom, being a career-minded control freak, panics when he realizes that not only could she be a witch who could be casting spells on him, but that his own emotions are getting the best of him, and he promptly dumps her. When Amanda goes to confront Tom one last time at his office, she witnesses the violent tantrum and resignation of a celebrity French chef hired for the opening of Tom's new restaurant. When it is discovered that Amanda is in fact the hot new chef in town everyone is talking about, she is hired on the spot, despite Tom's protests. Once Amanda overcomes her self-doubts and insecurities, she reaches her full potential as a chef, and the opening is a complete success. Though Tom refuses to taste Amanda's food during the opening, he eventually admits to himself he was wrong to reject Amanda because she made him feel emotional. He finally decides to embrace his feelings for her and goes after her. At the last minute, he reaches her with his own personal magic , and the two reconcile on the dance floor. \n",
            "\n",
            "Place: 3\n",
            "ID:  3881\n",
            "Title:  Mostly Martha\n",
            "Categories:  \"Romantic comedy\",  \"World cinema\",  \"Comedy film\",  \"Family Drama\",  \"Drama\",  \"Comedy\",  \"Romantic drama\",  \"Romance Film\"\n",
            "Summary:\n",
            " Martha Klein  is a chef at Lido, a gourmet restaurant in Hamburg, Germany. A perfectionist who lives only for her work, Martha has difficulty relating to the world other than through food. Her single-minded obsession with her culinary craft occasionally leads to unpleasant confrontations with customers. Consequently, the restaurant owner, Frida , requires her to see a therapist  to work out her poor interpersonal skills. Martha's therapy sessions, however, turn into monologues on food, and her approach to stress management usually involves hiding in the restaurant's walk-in refrigerator. Martha's life takes a dramatic turn when she learns that her sister died in a car accident, leaving behind a young daughter, Lina . The girl's father, Giuseppe Lorenzo , has been out of the picture for years living somewhere in Italy. Martha must now look after her niece, who is depressed, withdrawn, and refuses to eat. While trying to cope with her sister's death and the difficulty of raising a young girl, Martha's world is further complicated when Frida hires funloving and unorthodox Mario  as a sous-chef to replace Lea , who is expecting a child any day. Martha looks on in horror as Mario transforms her kitchen of precision and logistics with his relaxed banter and Italian music. Unable to find an acceptable babysitter, Martha starts to bring Lina to the restaurant with her. Lina warms to Mario's playfulness and even devours a plate of spaghetti he's prepared. Touched by Mario's kindness and concern for the child, Martha becomes more accepting of Mario. She even asks for his help in locating Lina's father in Italy and translating a letter she's written to him. Just as Martha's relationship with Lina seems to be improving, a setback occurs when she forgets to pick the girl up from school while helping Lea get to the hospital to deliver her baby. Lina is angry at being forgotten. To make amends, Martha offers to grant Lina any wish. For her wish, Lina wants Mario to cook for them. Mario agrees, and prepares a picnic-style dinner in Martha's living room. Despite the mess left behind in the kitchen, the evening of stories and games bring the three closer together. Martha's relationship with Lina is tested again when Martha is informed by the school principal that Lina has not been attending school regularly, and when she does come to school, she sleeps in the classroom. Lina has also been telling her friends that she's forced to work in a kitchen for her room and board. Angered by Lina's behavior, Martha tells her she can no longer come to the restaurant. Lina storms off, nearly getting hit by a car, and later attempts to run away to Italy. A frustrated Martha tells Lina in frustration, \"I wish I had a recipe for you, that I could follow.\" Mario continues to support Martha, and their relationship becomes romantic. Lina's father finally arrives, and takes his daughter to Italy to live with his new wife and family. Distraught and conflicted by the separation, Martha rejects Mario's loving support, and after another confrontation with a customer, she quits her job. Martha reconciles with Mario, and the two drive to Italy to bring Lina back to Germany. Martha and Mario marry, adopt Lina, and make plans to open their own restaurant together. Meanwhile, Martha's therapy sessions have turned into cooking lessons for her therapist, who is amazed that she can tell the difference between the type of sugar he used and the type of sugar called for in the recipe. \n",
            "\n",
            "Place: 4\n",
            "ID:  4163\n",
            "Title:  The Cook, the Thief, His Wife & Her Lover\n",
            "Categories:  \"Drama\"\n",
            "Summary:\n",
            " English gangster Albert Spica  has taken over the high-class Le Hollandais Restaurant, run by French chef Richard Borst . Spica makes nightly appearances at the restaurant with his retinue of thugs. His oafish behavior causes frequent confrontations with the staff and his own customers, whose patronage he loses, but whose money he seems not to miss. Forced to accompany Spica is his reluctant, well-bred wife, Georgina , who soon catches the eye of a quiet regular at the restaurant, bookshop owner Michael . Under her husband's nose, Georgina carries on an affair with Michael with the help of the restaurant staff. Ultimately Spica learns of the affair, forcing Georgina to hide out at Michael's bookshop. Borst sends food to Georgina through his young employee, a boy soprano who sings while working. Spica tortures the boy before finding the bookstore's location written in a book the boy is carrying. Spica's men storm Michael's bookshop while Georgina is visiting the boy in hospital, and torture him to death by force-feeding him pages from his books. Georgina discovers his body when she returns. Overcome with rage and grief, she begs Borst to cook Michael's body, and he eventually complies. Together with all the people that Spica wronged throughout the film, Georgina confronts her husband at the restaurant and forces him to eat a mouthful of Michael's cooked body. Spica complies, gagging, before Georgina shoots him in the head. \n",
            "\n",
            "Place: 5\n",
            "ID:  3811\n",
            "Title:  The Ramen Girl\n",
            "Categories:  \"Japanese Movies\",  \"Romance Film\",  \"Drama\",  \"Comedy\",  \"Indie\"\n",
            "Summary:\n",
            " Abby  is an American girl who goes to Tokyo to be with her boyfriend, Ethan. Ethan tells her that he has to go to Osaka on a business trip and may not be back for a while. Abby asks to go with him but Ethan refuses and breaks up with her. Abby goes to a ramen shop afterward, and the chef Maezumi  and his wife Reiko  tell her that they are closed. Abby does not understand them as she does not speak Japanese. She starts to cry, so the chef conveys to her to sit down. He brings her a bowl of ramen, and she loves it. A small distance away, she hallucinates that the lucky cat, known as the Maneki Neko, or Beckoning Cat, gestures to her to come over. She offers to pay for her meal, but the chef and his wife refuse. The next day she comes back and sits down at the counter. He gives her another bowl of ramen and she eats. As she eats, she breaks into uncontrollable giggles, as does another patron. The following day she returns, but is told they are out of ramen. Seeing the wife's swollen ankles, she insists on helping instead. After the night is through, she is passed out asleep in the back. They shoo her out, but as she is walking away she realizes she wants to cook ramen. Rushing back into the store, she begs him to teach her how to cook ramen. He argues, but finally gives in and tells her to come the next day at 5. She shows up late, in high heels and a dress, and is put to work scrubbing the toilet and cleaning pots and pans. In the following weeks Maezumi only gives her cleaning work in the hopes that she quits, but she comes back. After she is given work as a waitress, she wins the hearts of all who come in, including two older women who are regular customers, and a middle aged male regular who develops a crush on her. On a rare night off, she heads to a night club with a British man named Charlie and an American woman named Gretchen whom she met earlier. The three meet Toshi Iwamoto  and his friends. Abby and Toshi fall in love. But soon, Toshi has to go to Shanghai, China for three years. He asks Abby to come with him, but she declines, saying she can't. They share their last kiss. Abby learns during the Christmas week of someone named Shintaro. She sees Maezumi crying over a collection of letters and photos from Paris. His wife then tells Abby that Maezumi and Shintaro, their son, have not spoken in 5 years since Shintaro left for France. Abby soon learns how to make ramen, but Maezumi insists that it has no soul. Maezumi's mother tastes her ramen and tells her, in Japanese, that she is cooking with her head, and that she should put tears in her ramen, as she has no love to share. Later in the film, she is shown cooking ramen, crying. The two ladies, and the middle-aged man and another old man taste her ramen and almost immediately become melancholic. Maezumi tastes it, and starts to cry, but goes upstairs to his home. One day, Maezumi talks with a rival, who brags about his son having a master chef come to taste his ramen while ridiculing Maezumi for trying to train Abby. Maezumi, drunk, says that her ramen will receive the Master Chef's blessing, or he'll stop making ramen. The Master arrives, and tastes the young man's ramen. He gives him his blessing, and goes on to Abby. Abby has strayed from the safety of conventional ramen, and made hers with peppers, corn and tomato, a concoction she calls \"Goddess Ramen\". The Master says Abby's noodles are good, but he cannot give her his blessing, saying that she needs more time and restraint. Maezumi is sad to have to stop his business, but talks to Abby. He tells her about his son wanting to learn French cooking, but she does not understand. He tells her that the ramen shop needs a successor, and that she is the successor of his ramen shop. She leaves for America soon, but before that, has a celebration. Maezumi gives her the lantern that had hung outside his ramen shop for 45 years, and she takes it to America with her, where it is shown a year later outside her shop in New York City, appropriately named The Ramen Girl. The shop hangs a photo of Maezumi and his wife with their son happily in Paris. Then, an employee of hers tells her about a man wanting to see her. It is Toshi. He says he hated his job and that he decided to do what she would do: quit his job and go back to what he loved - writing music. She welcomes him to her ramen shop and they kiss. \n",
            "\n",
            "Place: 6\n",
            "ID:  332\n",
            "Title:  American Cuisine\n",
            "Categories:  \"Comedy\"\n",
            "Summary:\n",
            " After a conflict with an officer, Loren Collins got fired from the US Navy, where he was learning to be a Chef. Too poor to pay for cooking studies he went to Dijon and got hired by Louis Boyer, the bad tempered owner of a prestigious restaurant. \n",
            "\n"
          ],
          "name": "stdout"
        }
      ]
    },
    {
      "cell_type": "markdown",
      "metadata": {
        "id": "zYgIHkTYYMcE",
        "colab_type": "text"
      },
      "source": [
        "6.Οι ταινίες αφορούν πράκτορες, κυρίως της CIA (εκτός της 3ης επιλογής) και τις κατασκοπευτικές περιπέτειές τους."
      ]
    },
    {
      "cell_type": "code",
      "metadata": {
        "id": "wD41B_pMYO-d",
        "colab_type": "code",
        "outputId": "69f540fb-2d78-416b-9a75-9d2f7e83442f",
        "colab": {
          "base_uri": "https://localhost:8080/",
          "height": 749
        }
      },
      "source": [
        "content_recommender(60, 5)"
      ],
      "execution_count": 39,
      "outputs": [
        {
          "output_type": "stream",
          "text": [
            "ID:  60\n",
            "Title:  History Is Made at Night\n",
            "Categories:  \"Thriller\",  \"Romantic comedy\",  \"Indie\",  \"Comedy\",  \"Romance Film\",  \"Action\",  \"Suspense\"\n",
            "Summary:\n",
            " Harry  is a seasoned CIA agent who is looking to forget his past and become his cover identity—a jazz club owner in Helsinki, Finland. Natasha  is a young, ambitious SVR agent who is looking to secure a future for herself amidst the chaos of the new Russian Republic and her floundering intelligence agency. Originally assigned to spy on Harry, Natasha has fallen in love with the object of her spying, and her assignment has led to a torrid love affair between the two. Like all couples, they are keeping secrets from each other—but in their case, the secrets have international implications. Harry's life with Natasha is disrupted when a young, over-zealous CIA agent, Dave , comes to Helsinki to intercept a videotape encoded with state secrets en route from New York. The videotape's hidden code is so sensitive that those who come in contact with the tape are soon killed. Dave is pursuing the unsuspecting courier, a manic ex-bond trader named Max , who is unaware of what he is carrying. Max took the job by chance, following his recent prison term for stock market fraud. Natasha sees the videotape as a possible ticket out of the SVR and into the United States and the American Dream. In fact, everyone involved except Harry is planning to exploit the encoded videotape. Harry's only plan is to prevent Natasha from getting herself killed—or worse, from leaving him for America. \n",
            "\n",
            "Place: 1\n",
            "ID:  2288\n",
            "Title:  Black Dawn\n",
            "Categories:  \"Thriller\",  \"Action/Adventure\",  \"Action Thrillers\",  \"Action\",  \"Martial Arts Film\"\n",
            "Summary:\n",
            " Jon Cold  is an ex-CIA agent who's now working for himself and offering his services to the highest bidder. Jon is hired to break James Donovan  out of prison. After the successful break, Jon takes James to see his brother, arms dealer Michael Donovan , the man who hired Jon to break James out. In gratitude, the Donovans hire Jon to help sell the parts for a small nuclear bomb to Nicholi , the leader of a Chechan terrorist group that is planning to blow up Los Angeles because the CIA killed the group's previous leader. Meanwhile, Jon's former protégé, agent Amanda Stuart , is spying on the Donovans for the CIA. The Donovans see her spying on them while they're in the middle of the deal with Nicholi. Jon rescues Amanda and takes Michael hostage. Nicholi really doesn't care what happens to Michael, so that doesn't really work as well as it should have. Jon and Amanda find themselves on the run, trying to keep the Donovans out of the way and stop Nicholi from blowing up the city. Also, Jon has been framed for the killings of some of his former CIA co-workers, so there's a shoot-on-sight directive on his head. It'll be a miracle of Jon can clear his name and keep Los Angeles from getting blown up. \n",
            "\n",
            "Place: 2\n",
            "ID:  4241\n",
            "Title:  Company Man\n",
            "Categories:  \"Parody\",  \"Screwball comedy\",  \"Action/Adventure\",  \"Political satire\",  \"Comedy\",  \"Political cinema\",  \"Black comedy\",  \"Action\"\n",
            "Summary:\n",
            " In the 1960s, Alan Quimp is a schoolteacher of English grammar and married with the very demanding woman Daisy Quimp. In order to avoid the constant mockery in Daisy's family, Alan says that he is a secret CIA agent. Daisy tells everybody, the CIA acknowledges the lie, but due to a coincidence, Alan has just helped and hidden the professional Russian dancer Petrov who wanted to leave Russia. The CIA decides to hire Alan as an agent, to get the credits of bringing Petrov to USA, and immediately decides to send him to a very calm place, Cuba. \n",
            "\n",
            "Place: 3\n",
            "ID:  897\n",
            "Title:  Code Name: Heraclitus\n",
            "Categories:  \"Science Fiction\",  \"Action\",  \"Adventure\",  \"Spy\"\n",
            "Summary:\n",
            " Stanley Baker stars as a British spy who investigates the past of Lydia Constantine , the widow of secret agent Constantine . Lydia is suspected of selling cold war secrets to the Communists. To ascertain the truth, it is necessary to \"rebuild\" agent Constantine and send his living counterpart behind the Iron Curtain. When agent Constantine is \"rebuild\" he doesn't remember anything. \n",
            "\n",
            "Place: 4\n",
            "ID:  2809\n",
            "Title:  Three Days of the Condor\n",
            "Categories:  \"Thriller\",  \"Mystery\",  \"Suspense\",  \"Political thriller\",  \"New Hollywood\",  \"Spy\"\n",
            "Summary:\n",
            " Joe Turner  is a CIA employee  who works in a clandestine office in New York City. He reads books, newspapers, and magazines from around the world, looking for hidden meanings and new ideas. As part of his duties, Turner files a report to CIA headquarters on a low-quality thriller novel his office has been reading, pointing out strange plot elements therein, and the unusual assortment of languages into which the book has been translated. On the day in which Turner expects a response to his report, a group of armed men, led by an Alsatian assassin later identified as Joubert , executes the six people in the office. Turner escapes death because at the moment of the incursion, he was out of the office getting lunch. Realizing he is in danger when he returns to the office and discovers his coworkers' bodies, Turner calls the CIA New York headquarters, and is given instructions to meet some agents who will take care of him. The meeting, however, is a trap, and Turner escapes an attempt to kill him. Needing a place to hide, Turner forces a woman, Kathy Hale , whom he sees randomly in a ski shop, to take him to her apartment in Brooklyn Heights. He holds her prisoner while he attempts to figure out what's going on. However, his hiding place is discovered. A hitman, disguised as a postman with a parcel that must be signed for, shows up at the apartment. Turner opens the door and a fight ensues. Turner kills the hitman. Realizing that he cannot trust anyone within the CIA, Turner begins to play a cat-and-mouse game with Higgins , the CIA deputy director of the New York division. With the help of Hale, Turner abducts Higgins, who reveals through questioning that the killer was a Frenchman named Joubert. Higgins discovers that the postman who attacked Turner in Hale's apartment was a former U.S. Marine Corps Gunnery Sergeant and CIA operative who had collaborated with Joubert on a previous operation. The mastermind of that operation, however, is revealed to be Leonard Atwood , the CIA Deputy Director of Operations and Higgins' superior. Meanwhile, using material he found on the fake postman's body, Turner finds where Joubert is staying, then uses his skills as a former telephone lineman to trace a call Joubert makes from his hotel room. He then finds the name and address of the person Joubert called: Atwood. Turner confronts Atwood at his home late at night and questions him at gunpoint. Turner learns that the report he had filed had uncovered a secret plan to take over Middle East oilfields, setting in motion the killing of all the members in his section. Joubert surprises them, takes away Turner's pistol, and unexpectedly kills Atwood. The contract has now changed: even though Atwood had hired Joubert to terminate Turner before, Atwood's superiors have now hired Joubert to terminate Atwood. Turner is dumbfounded, realizing that Joubert and he are on the same side, working once again for the CIA. Joubert is disarmingly courteous, suggesting that Turner leave the country, even become an assassin himself since Turner had shown such resourcefulness in staying alive. Turner rejects the suggestions, but seems to take seriously Joubert's warning that the CIA will still try to kill him. Joubert even muses aloud on how Turner's killing would likely be carried out. Turner goes back to New York City and meets Higgins on a busy street. Higgins defends the oil-fields plan, claiming that there will be a day in which oil shortages will cause a major economic crisis for the country. And when that day comes, Americans will want the government to use any means necessary to obtain the oil. Turner says he has told the press \"a story\" , but Higgins questions Turner's assurances that the story will be printed. After a brief dialogue, an anxious Turner glances at Higgins and The New York Times office, then hastily walks away. The final shot is a freeze frame of Turner passing behind a Salvation Army band singing Christmas carols while looking over his shoulder back at Higgins. \n",
            "\n",
            "Place: 5\n",
            "ID:  4443\n",
            "Title:  The Bourne Supremacy\n",
            "Categories:  \"Thriller\",  \"Crime Fiction\",  \"Action/Adventure\",  \"Mystery\",  \"Martial Arts Film\",  \"Drama\",  \"Film adaptation\",  \"Action Thrillers\",  \"Action\",  \"Spy\"\n",
            "Summary:\n",
            " Two years after his escape from France, Jason Bourne and Marie Kreutz are living in Goa, India. Bourne continues to have flashbacks about his former life as a CIA assassin, which he writes in a small diary. Meanwhile, in Berlin, Germany, CIA agents subordinate to Deputy Director Pamela Landy are paying US$3 million for the \"Neski files\", documents on the theft of $20 million in allocation money seven years earlier. Russian Federal Security Service agent Kirill plants Bourne's fingerprint to frame him, kills the agents, and steals the files and money, giving them to his employer, Russian oil oligarch Yuri Gretkov. Kirill travels to Goa to kill Bourne, but Bourne spots him and flees with Marie. As the couple drive away, Kirill attempts to shoot Bourne, but kills Marie by mistake. Their vehicle goes off a bridge and into a river; Kirill believes that Bourne is dead. Bourne survives and leaves for Naples, Italy, with money and passports. After finding the fingerprint Kirill planted, Landy learns that it belongs to Bourne and subsequently asks Deputy Director Ward Abbott about Operation Treadstone. Landy tells Abbott that the CIA agent who stole the $20 million was named in the stolen files. Some years ago, Russian politician Vladimir Neski was about to identify the thief when he was supposedly murdered by his wife in a Berlin hotel. Landy believes that Bourne and the late Treadstone supervisor Alexander Conklin were somehow involved, and assumes that Bourne killed her two agents. Both Abbott and Landy go to Berlin to find Bourne and take him down. In Naples, Bourne allows himself to be identified by security. He subdues his CIA interrogator, copies the SIM card from his cell phone, and learns from a subsequent phone call about Landy and what she thinks Bourne did. Bourne goes to Munich to visit the only other remaining Treadstone operative, Jarda, who informs Bourne that Treadstone was shut down after Conklin's death. Jarda tries to incapacitate Bourne before an incoming CIA team arrives, but Bourne kills him, blows up his house, and escapes. Bourne follows Landy and Abbott as they meet former Treadstone support technician Nicky Parsons to question her about her past experience with him. Believing that the CIA is hunting him again, Bourne calls Landy and is told that he is being pursued because he killed two people in Berlin—though she is not referring to Bourne's recent flashbacks. Bourne arranges to meet Nicky at the Alexanderplatz, where he kidnaps and interrogates her, finding out that Abbott was the head of Treadstone, not Conklin. He remembers that he murdered Neski in Berlin, but Parsons knows nothing about it. Bourne visits the hotel where the killing took place and remembers more of his mission—he killed Neski on Conklin's orders, and when Neski's wife showed up, he shot her to make it look like a murder–suicide. Abbott kills his own assistant once he suspects a conspiracy against Bourne, who breaks into Abbott's hotel room and records a conversation between him and Gretkov that incriminates them in the theft of the money. Abbott confesses to ordering the assassination in Goa, Neski's murder by Bourne, and the murder of the agents by Kirill, for which Bourne was to be framed. When Landy suspects Bourne's innocence and confronts Abbott, he commits suicide. Bourne sends the tape of the confession to Landy, vindicating himself. Bourne goes to Moscow to find Irena Neski, the daughter of Vladimir Neski. Kirill tracks down Bourne and wounds him in the shoulder. Bourne reaches a car and Kirill engages him in a high-speed car chase, ending with Kirill's death after Bourne forces his car into a concrete divider. Bourne locates Neski and apologizes for murdering her parents. Gretkov is arrested by Landy, using the evidence she got from Bourne. Some time later, in New York City, she receives a phone call from Bourne; she expresses her thanks for the tape of Abbott's confession before telling Bourne his real name is David Webb and that he was born \"4-15-71\" in Nixa, Missouri. Bourne tells her that she looks tired, indicating that he can see her, before hanging up and fading into a New York crowd. \n",
            "\n"
          ],
          "name": "stdout"
        }
      ]
    },
    {
      "cell_type": "markdown",
      "metadata": {
        "id": "wcvHX4HKYvVk",
        "colab_type": "text"
      },
      "source": [
        "7.Οι ταινίες έχουν πολεμικό χαρακτήρα, κυρίως το κομμάτι που αφορά τις πολεμικές αεροπορίες και οι περισσότερες το συνδυάζουν και με ρομαντικές σχέσεις μεταξύ των ηρώων."
      ]
    },
    {
      "cell_type": "code",
      "metadata": {
        "id": "EjDp-euyYxEd",
        "colab_type": "code",
        "outputId": "048b833d-5fc6-495a-b607-7d4347d98bc3",
        "colab": {
          "base_uri": "https://localhost:8080/",
          "height": 871
        }
      },
      "source": [
        "content_recommender(103, 6)"
      ],
      "execution_count": 40,
      "outputs": [
        {
          "output_type": "stream",
          "text": [
            "ID:  103\n",
            "Title:  Flyboys\n",
            "Categories:  \"Adventure\",  \"History\",  \"Action/Adventure\",  \"Period piece\",  \"Drama\",  \"War film\",  \"Romance Film\",  \"Action\"\n",
            "Summary:\n",
            " Prior to America's entrance into the war, a group of young Americans go to France, for different personal reasons, to fight in the French Air Service, L'Aéronautique militaire, during World War I . One of them, Blaine Rawlings  faced with the foreclosure of his family ranch in Texas, decides to enlist after seeing a newsreel of aerial combat in France. Dilettante Briggs Lowry  joins because of his overbearing father. African-American boxer Eugene Skinner , who had been accepted as an athlete in France, was motivated to \"pay back\" his adopted country. These American recruits were under the command of French Captain Georges Thenault , while the veteran fighter ace Reed Cassidy , a fellow American, takes over as their mentor. During their training, each pilot struggles with the demanding flying; later, they have to face the aerial dogfights that dominate the front line missions. Rawlings meets a young woman named Lucienne whom he courts despite her hesitations about his risky profession. The hero is given a small bear, which he carries as a good luck charm, possibly a reference to the small bear carried as a good luck charm by a pilot in \"Wings,\" a silent film about World War I American Pilots, which, in 1927, was the first film ever to win the Academy Award for Best Picture. On their first mission to escort two bombers to attack a German ammunition depot, the rookie pilots are ambushed by Germans and two are killed while flying; another pilot is forced to make an emergency landing. While on the ground this American pilot is shot and killed by the German ace The Black Falcon who returns to altitude and is met by the more chivalrous German pilot Franz Wolferd who shakes his head in disapproval. During an attack on a German Zeppelin, Reed Cassidy is mortally wounded by the Black Falcon but, as his final act, destroys the Zeppelin by crashing into it. Rawlings reunites with Lucienne before she leaves for Paris. Before Rawlings leaves for another battle, his plane is presented with an eagle, Cassidy's former insignia, and Rawlings is promoted to Commander. Their next mission is to escort four bombers which are being sent to bomb the same supply depot from the first mission. During the battle Franz Wolferd is shot down as well as a few of the American pilots, including Briggs Lowry, who shoots himself with his sidearm rather than be burned alive in his stricken plane. Nevertheless, the mission is a success and the German supply depot is bombed. Upon returning from the bombing mission, Rawlings takes off again to exact revenge on the Black Falcon, followed soon after by the rest of the Lafayette Escadrille. A melee between Rawlings and his American pilots and the Black Falcon and his German squadron ensues. During the final battle, despite having jammed guns and being wounded, Rawlings evades his enemy and fatally shoots the Black Falcon with his pistol. The rest of the Germans either retreat or are shot down. Rawlings and three other pilots  survive the encounter and return to base. \n",
            "\n",
            "Place: 1\n",
            "ID:  3765\n",
            "Title:  LaFayette Escadrille\n",
            "Categories:  \"Romance Film\",  \"Drama\",  \"War film\"\n",
            "Summary:\n",
            " Thad Walker , a spoiled, rich kid from Boston, who had gotten in serious trouble with the law, fled to France to join the French Foreign Legion in World War I. In Paris, with companions, \"Duke\" Sinclair , Dave Putnam , Tom Hitchcock  and Bill Wellman , the boys stop at a bar and learn of the recent formation of the Lafayette Escadrille made up of American volunteer pilots who fly for France. The group of expatriates join up and learn to fly on training aircraft before becoming combat pilots. While off duty, Walker meets and falls in love with Renée Beaulieu , a common streetwalker with some sensitivity; she quits the oldest profession and takes a job, reforming for her American lover's sake. Walker's father beat him, and he resents any kind of authority. When a strutting, arrogant French officer , irritated by the young man's inability to understand commands in French, strikes him, he knocks the officer to the ground, a very serious offense. Before he can be jailed, his pals smuggle Walker out of camp. He then spends a great deal of time hiding in Paris in his sweetheart's apartment. His friends continue with their training while Walker works for the Madam , hoping to make enough money to run away to South America with his girlfriend. Later, the now veteran pilots he had befriended come to the bar and Walker realizes he still wants to redeem himself. Convincing an American general that he is sincere, when the United States enters the war, he joins the American Air Service. Wellman based the contact with an American general on his own encounter with General John J. \"Black Jack\" Pershing.Thompson 1983, pp. 35–36. Walker finally is able to fly a mission with the Lafayette Escadrille, where he proves to be a superb fighter pilot. Returning to Paris, Walker asks his friends to join him as he weds Renée. \n",
            "\n",
            "Place: 2\n",
            "ID:  3214\n",
            "Title:  The Birth of a Race\n",
            "Categories:  \"Silent film\",  \"Drama\",  \"Indie\",  \"Black-and-white\"\n",
            "Summary:\n",
            " Following the \"Birth of the Human Race\" section of the film, two brothers in a German-American family go to war in Europe, one  fighting for the United States, and the other  fighting for Germany. George is wounded, and at the hospital defends it from a German attack, killing Oscar in the process. George is sent home to America, where he rescues his wife from a German spy. \n",
            "\n",
            "Place: 3\n",
            "ID:  4091\n",
            "Title:  The Right Stuff\n",
            "Categories:  \"Adventure\",  \"History\",  \"Docudrama\",  \"Period piece\",  \"Drama\",  \"Film adaptation\"\n",
            "Summary:\n",
            " The film begins in 1947 at Muroc Army Air Field, an arid California military base where test pilots often die flying high-speed aircraft such as the rocket-powered Bell X-1. After another pilot demands $150,000 to attempt to break the sound barrier, war hero Chuck Yeager  receives the chance to fly the X-1. While on a horseback ride with his wife Glennis , Yeager collides with a tree branch and breaks his ribs, which inhibits him from leaning over and locking the door to the X-1. Worried that his injury might become known, Yeager confides in friend and fellow pilot Jack Ridley . Ridley cuts off part of a broomstick and tells Yeager to use it as a lever to help seal the hatch to the X-1, and Yeager becomes the first man to fly at supersonic speed, defeating the \"demon in the sky\". In 1953 Muroc, now Edwards Air Force Base, still attracts the best test pilots. Yeager and friendly rival Scott Crossfield ([[Scott Wilson  repeatedly break the other's speed records. The \"prime\" pilots often visit the Happy Bottom Riding Club run by Pancho Barnes , where Gordon \"Gordo\" Cooper  and Virgil \"Gus\" Grissom  of the United States Air Force are among the newer \"pudknockers\" that hope to also prove that they have \"the Right Stuff\".Pancho Barnes classifies the pilots at Edwards as either \"prime\" pilots flying the best equipment or \"pudknockers\" who only dream about it. The tests are no longer secret, as the military recognizes that it needs good publicity for funding, and with \"no bucks, no Buck Rogers\". Cooper's wife, Trudy , and other wives are afraid of becoming widows, but cannot change their husbands' ambitions and desire for success and fame. In 1957, the launch of the Russian Sputnik satellite alarms the United States government. Politicians such as Senator Lyndon B. Johnson and military leaders demand that NASA help America defeat the Russians in the new Space Race. The search for the first Americans in space excludes Yeager, because he lacks a college degree. Grueling physical and mental tests select the Mercury Seven astronauts, including John Glenn  of the United States Marine Corps, Alan Shepard  of the United States Navy, Cooper, Grissom, and three others; they immediately become national heroes. Although many early NASA rockets explode during launch, the ambitious astronauts all hope to be the first in space as part of Project Mercury. Although engineers see the men as passengers, the pilots insist that the Mercury spacecraft have a window, a hatch with explosive bolts, and pitch-yaw-roll controls. Shepard is the first to reach space on the 15-minute sub-orbital flight of Mercury-Redstone 3 in May 1961. After Grissom's sub-orbital flight on Mercury-Redstone 4 lands in the ocean, the spacecraft's hatch inexplicably jettisons during the ocean recovery and quickly fills with water. Grissom escapes, but the spacecraft, overweight with seawater, sinks. Many criticize Grissom for possibly panicking and opening the hatch prematurely. Glenn becomes the first American to orbit the Earth on Mercury-Atlas 6 in February 1962, surviving a possibly loose heat shield, and receives a ticker-tape parade. He, his colleagues, and their families become celebrities, including a gigantic celebration in Texas, despite Glenn's wife Annie's  fear of public speaking due to a stutter. Although test pilots at Edwards mock the Mercury program for sending \"spam in a can\" into space, they recognize that they are no longer the fastest men on Earth, and Yeager states that \"it takes a special kind of man to volunteer for a suicide mission, especially when it's on national TV.\" While testing the new Lockheed NF-104A, Yeager attempts to set a new altitude record at the edge of space but is nearly killed in a high-speed ejection when his engines fail. Though badly burned, after reaching the ground Yeager gathers up his parachute and walks to the ambulance, proving that he still has the Right Stuff. The film ends with Cooper's successful launch in May 1963 on Mercury-Atlas 9, ending the Mercury program. As the last American to fly into space alone, he \"went higher, farther, and faster than any other American ... for a brief moment, Gordo Cooper became the greatest pilot anyone had ever seen.\" \n",
            "\n",
            "Place: 4\n",
            "ID:  3413\n",
            "Title:  Hot Shots!\n",
            "Categories:  \"Parody\",  \"Absurdism\",  \"Action/Adventure\",  \"Comedy\",  \"War film\",  \"Action\",  \"Slapstick\"\n",
            "Summary:\n",
            "  The film begins at Flemner Air Base 20 years prior. A pilot named Leland \"Buzz\" Harley  loses control of his plane and ejects, leaving his co-pilot Dominic \"Mailman\" Farnum  to crash alone; although Mailman survives, he's mistaken for a deer owing to the branches stuck to his helmet and is shot by a hunter. Topper Harley  wakes up from a nightmare he's having about the event when Lt. Commander Block  asks him to return to active duty as a pilot in the U.S. Navy, to help on a new top secret mission: Operation Sleepy Weasel. Harley starts to show some psychological problems, especially when his father is mentioned. His therapist, Ramada , tries to keep Topper from flying, but he relents, and also starts to build a budding romance with her. Meanwhile, Topper gets into a rivalry with another fighter pilot, Kent Gregory , who hates Topper because of the loss of his father \"Mailman\" to Buzz Harley, and believes Topper may do the same to him. Meanwhile, Block starts privately meeting with an airplane tycoon, Mr. Wilson, who has recently built a new \"Super Fighter\" that will make the American pilots superior. Block reveals that he brought back Topper for the reason of making Sleepy Weasel fail. Block would then report that it was the Navy's planes that were the real reason for the mission failure and that they need to be replaced with Wilson's planes. During one of the last training missions, an unfortunate accident between Pete \"Dead Meat\" Thompson ([[William O'Leary  and Jim \"Wash-Out\" Pfaffenbach  occurs, leaving Dead Meat dead and Wash Out reassigned to radar operator. Block believes this is enough to convince the Navy to buy new fighters, but Wilson brushes it aside as a \"minor incident,\" and the planes need to fail in combat to take notice. Meanwhile, Topper starts to show more and more feelings to Ramada, but she is also smitten with Gregory, who believes Topper cannot handle combat pressure. On the carrier U.S.S. Essess, Block reveals the mission to be an attack of an Iraqi nuclear plant and assigns Topper to lead the mission, much to Gregory's chagrin. Meanwhile, Wilson, who is also on board, coerces a crew member to sabotage the planes, putting the pilots' lives at risk. At first, the mission goes according to Block's plan. He mentions Buzz Harley to Topper, who becomes overcome with emotion and unable to lead the mission. Block just starts to call out for the mission to be aborted when Iraqi fighters attack the squadron. All the planes' weapons fail and Block realizes what has happened. He then tells Topper that he saw what really happened with Buzz and Mailman, that Buzz tried to do everything possible to save Mailman, but ended up falling out of the plane, failing in his attempts. Inspired, Topper single-handedly beats the Iraqi fighters and bombs the nuclear plant, despite sustaining heavy damage. Back aboard ship, Block decides that American planes will always be superior with pilots like Topper . Wilson's plan is revealed and his standing with the military is lost. Back in port, Gregory accepts Topper as a great pilot and lets Ramada be with Topper and the two begin a loving new relationship. \n",
            "\n",
            "Place: 5\n",
            "ID:  2386\n",
            "Title:  Pearl Harbor\n",
            "Categories:  \"Action/Adventure\",  \"Period piece\",  \"Drama\",  \"War film\",  \"Romantic drama\",  \"Romance Film\",  \"Action\",  \"Airplanes and airports\"\n",
            "Summary:\n",
            " In early 1923, two young boys from Tennessee, Rafe McCawley and Danny Walker, pretending to fight the Germans, climb into Rafe's father's biplane cropduster and accidentally start it, giving them their first taste of flying. Soon after, Danny's father  comes to drag him home, berating him for playing with Rafe and beating him. Rafe attacks Danny's father calling him a \"dirty German\"; Danny's father counters by explaining that he fought the Germans in World War I and wishes that they never witness the horrors of war. In the summer of 1940, as grown men, Rafe  and Danny  are First Lieutenants in the United States Army Air Corps under the command of Major Jimmy Doolittle . Rafe meets Evelyn Johnson , a Navy nurse who passes him for his physical examination even though he has dyslexia, and is instantly smitten. The two soon begin dating and fall in love. However, Rafe has volunteered to serve with the Royal Air Force's Eagle Squadrons. Before Rafe leaves for England, he makes a promise to Evelyn that he will come back for her. Evelyn and Danny are transferred with their respective squadrons to Pearl Harbor. Rafe is shot down over the English Channel and presumed to have been killed in action. Three months later, Evelyn and Danny bond over their mourning of Rafe and unexpectedly develop feelings for each other. They soon begin their own relationship. On the night of December 6, 1941, Rafe unexpectedly returns to Pearl Harbor, having survived the crash and being stranded in occupied France in the interval. He quickly realizes that Evelyn and Danny are now together, and feeling hurt and betrayed, the two friends soon get into a fight at the local hula bar. The next morning, on December 7, they are interrupted by the Japanese attack on Pearl Harbor by Zero fighters, Val dive bombers and Kate torpedo bombers. The surprise Japanese air raid sinks the battleships ,  and many other ships. Back at the hospital, Evelyn helps tend to the dozens of wounded who come in and must help decide who can and cannot be saved. Meanwhile, Rafe and Danny are the only two who manage to get airborne and shoot down seven Japanese aircraft with P-40s using their reckless tactics, including an old game of theirs called chicken. The two men then go to the hospital, where Evelyn takes blood from them for the hundreds of injured soldiers, and later aid in trying to rescue the many men still in the harbor. In the aftermath, the survivors attend a memorial service for the fallen victims after the U.S. declaration of war on Japan. Rafe and Danny are both promoted to Captain, awarded the Silver Star and assigned to now-Colonel Doolittle for a dangerous and top-secret mission. Before their departure, Evelyn meets Rafe and reveals that she is pregnant with Danny's child, although she doesn't want Danny to know so he can focus on the upcoming mission. She says that she is going to remain with Danny, though deep down she will always love Rafe just as much. Rafe accepts this. President Franklin D. Roosevelt  wants to send a message that the Japanese homeland is not immune from bombing. Danny, Rafe and others are to fly B-25 Mitchell medium bombers from the aircraft carrier , bomb Tokyo and then land in friendly Chinese territory. The two men succeed in their bombing but crash-land into a rice field in a Japanese-held area when their bombers run out of fuel. Just as Rafe is about to be shot, Danny flies over head and shoots the attacking Japanese soldiers. Danny's plane then crashes and he is wounded. Japanese come in and attack Rafe and start to hold the others captive. They tie Danny to a cattle holder. Rafe picks up a gun and kills several Japanese. Danny acts as human shield for Rafe and is fatally wounded. Rafe holds a dying Danny in his arms, telling him he can't die because he's going to be a father. With his dying words, Danny tells Rafe to raise his child for him. The crew arrives back in Hawaii and a hopeful Evelyn awaits. She sees Rafe and is excited, but then sees him carrying Danny's coffin. At the end of the war, Dorie Miller becomes the first African American to be awarded the Navy Cross and Rafe is discharged from the Army. He and Evelyn, who are together again, and Danny's son, also called Danny, who Rafe is bringing up as his own, are back at the farm in Tennessee visiting Danny's grave. Rafe then takes his son flying, and the two fly off into the sunset in the old biplane. \n",
            "\n",
            "Place: 6\n",
            "ID:  482\n",
            "Title:  Kings Go Forth\n",
            "Categories:  \"Melodrama\",  \"War film\",  \"Black-and-white\",  \"Drama\",  \"Film adaptation\",  \"Romance Film\",  \"Action\"\n",
            "Summary:\n",
            " In the final year of World War II, units of the US Army are in the foothills of the Alps between France and Italy, trying to dislodge a unit of German soldiers from a supply post in the middle of a small village. 1st Lt. Sam Loggins  is in charge of a reconnaissance unit that has just lost its radioman. A truckload of fresh young soldiers arrive, one of whom, Corporal Britt Harris  admits to radio training and experience—Harris is immediately appointed the unit's radioman by Loggins. Harris reveals himself at once as a lady's man and a schemer, acquiring girlfriends, food, and other luxury items. Corporal Lindsay , in charge of the unit's paperwork and logistics, reveals Harris' story to Loggins: Harris is the son of a wealthy textile mill owner in New Jersey—in order to avoid criminal charges of trying to bribe a member of the local Draft Board with a car, Harris has \"volunteered\" for combat duty in Europe. Harris does show bravery while rescuing a group of men trapped in a minefield and while attacking a German bunker single-handed, but Loggins still has his reservations about the man. The Colonel  grants Loggins and his unit leave in the seaside town of Nice. While walking by himself on a quay, Loggins is attracted to Monique Blair  -- they go to dinner, and she explains she was born in America, but has lived in France since she was a small child. She's unwilling to go out with Loggins again. Loggins ask her to meet him in the same cafe the next week at 8PM. The next week, Loggins waits at the cafe, Monique doesn't show, and he walks out despondent, only to be asked to have a drink by an older American woman who has apparently been waiting for him. He finds out it is Monique's mother, who was checking him out, he passed, and she takes him to her palatial home to join Monique. The two spend a great deal of time together. One night he tells her he loves her, and Monique finally reveals to him that she is afraid to get involved with a US soldier because her now-dead father was a Negro, and she has seen the general bigotry all American soldiers seem to have. Loggins is confused and leaves, not sure about his feelings. Back at the US Army camp, the Colonel and Loggins agree the battle is at a standstill—the US needs better idea of what the Germans have set up in the village. Loggins suggest a covert mission to put an observer in a church tower in the middle of town; the Colonel says he'll pass the idea on up to Headquarters. Loggins decides to put aside the former prejudices he would have had about Monique's parentage, and goes to see her. She and her mother are delighted to see Loggins. Loggins invites Monique to go out on a date with him. They end up going to a smokey jazz cafe, where they are surprised to see Harris play a fantastic jazz solo on a trumpet, to the acclaim of the entire French crowd. Harris joins Loggins and Monique at their table, and Loggins is left on the sidelines as Harris and Monique are immediately drawn to each other. Outside, Harris and Monique kiss. After Loggins takes Monique home, she asks Loggins to tell Harris about her Negro father. Loggins does so, and it doesn't seem to bother Harris. The next weekend, Loggins and Harris return to Nice to visit Monique. Once again, Loggins is forced to the sidelines as the handsome and smooth-talking Harris takes over. Loggins returns to his hotel room alone. Harris and Monique stay out most of the night. When Harris returns to the hotel, he tells Loggins he's asked Monique to marry him, and she has said yes. Loggins is shattered, but he puts on a brave face. He tells Harris about the paperwork he will need to fill out to get the army's permission to marry. When they return to their unit, Harris immediately asks for the marriage permission form. Two months pass, and Harris still hasn't received an answer from the army on his request to marry. One day, while talking to Corporal Lindsay, Loggins finds out that Harris had indeed picked up the completed paperwork 3 weeks earlier. In fact, Harris had told the corporal that the whole thing was a gag. Loggins is furious when he hears this. Meanwhile, the Colonel tells Loggins that Headquarters has approved Loggins' covert operation. Loggins says it's a two-man operation, and he want to bring Harris as his radioman—Loggins also asks for a few hours leave to take care of some personal matters in town. The colonel agrees to both of Loggins' requests. Loggins and Harris go to the Blair mansion, and Loggins forces Harris to admit to Monique that Harris is not going to marry her. Monique runs away in tears. Harris tries to explain himself to Loggins , and Loggins punches him out. Loggins then goes out to find Monique. It turns out she had tried to drown herself, but a fisherman fished her out of the water while she was still alive. Loggins tries to talk to her, but she doesn't want to talk to him. Back at the US Army base, Loggins and Harris prepare for their mission. Loggins says he is going to kill Harris. Harris responds that essentially, \"Only if I don't kill you first.\" They eye each other suspiciously and cautiously. However, Loggins clarifies that he plans to kill Loggins in the future—after the mission is over or perhaps after the war is over. On the mission, they encounter and kill a German soldier together. The duo establishes themselves at 2 AM in the church tower, calls in, and reports their observations, especially that a hidden section of the village contains an enormous German ammo dump. Loggins sends an order back to the base to begin a bombardment at 4 AM of the ammo dump that will certainly destroy most of the village. They leave the tower, and are soon discovered by a German patrol. Harris is shot dead by the Germans, and Loggins is pinned down. The German officers, panicking at the thought of American soldiers in the village, order an immediate evacuation. Hearing this, Loggins grabs the radio and orders the US artillery to begin firing right now. Shells fall on the village and the ammo dump, and everything blows up. The movie ends with Loggins relating how he was found under the rubble still alive by US troops, and brought to a hospital, where his right arm was amputated. He had gotten two letters from Monique. In one of them she says that she has learned that Harris was killed. She also tells Loggins that her mother has died. When Loggins is finally released from the hospital after many months, he decides to go to Nice to visit Monique one last time before returning to the States. He finds that she is now heading up a school for war orphans. She invites Loggins to come into one of the classrooms. As a tribute to Loggins and all the American soldiers who fought to free France, the children sing a song of appreciation. During the singing, Monique and Loggis look earnestly at each other. Will their romance bloom once again? \n",
            "\n"
          ],
          "name": "stdout"
        }
      ]
    },
    {
      "cell_type": "markdown",
      "metadata": {
        "id": "hpH6lSNiZwyy",
        "colab_type": "text"
      },
      "source": [
        "8.Οι ταινίες είναι όλες western, διαδραματίζονται στα ίδια μέρη στις Νότιες και Δυτικές Η.Π.Α. και υπάρχουν κοινές λέξεις όπως \"Indians\", \"Cowboy\" και \"Horse\". "
      ]
    },
    {
      "cell_type": "code",
      "metadata": {
        "id": "7u7buLXFZykT",
        "colab_type": "code",
        "outputId": "96556401-9167-470c-c913-d7bd171240cc",
        "colab": {
          "base_uri": "https://localhost:8080/",
          "height": 871
        }
      },
      "source": [
        "content_recommender(248, 6)"
      ],
      "execution_count": 41,
      "outputs": [
        {
          "output_type": "stream",
          "text": [
            "ID:  248\n",
            "Title:  The Stalking Moon\n",
            "Categories:  \"Action/Adventure\",  \"Western\",  \"Action\",  \"Indian Western\"\n",
            "Summary:\n",
            " U.S. Army soldiers round up a group of Indians, mostly women and children. Surprisingly, they find among them a white woman and her half-Indian son. Sam Varner  is a scout retiring from the Army to his ranch in New Mexico. He agrees to escort Sarah Carver  and her son after she begs him. She wants to leave immediately rather than wait five days for a military escort. Varner takes them to a stage coach stop called Hennessy. The boy runs away during the night. Varner and Sarah go looking for him as a dust storm begins. They find the boy and then hole up  to wait out the storm. When they return to the station, everyone there is dead, killed by the boy's Indian warrior father, Salvaje . Salvaje is greatly feared even among his own people - and with good reason: he is known to be a silent and ruthless killer. Salvaje means \"Ghost\" in Apache, or in their own tongue: \"He Who Is Not Here\", meaning a dead man. Varner is upset that the woman's impatience to leave has cost the people at the station their lives. When the stagecoach does arrive, Varner puts the woman and boy on it and follows them to a rail station called Silverton. He trades government letters of transport for train tickets to Topeka, Kansas. After some careful consideration, Varner decides to invite the woman and her son to accompany him to his ranch where she can cook for him and an old man, Ned , who takes care of the ranch. Sam sells his horse and they take the train to New Mexico. They uneasily try to coexist. The woman and her son are not talkative despite Sam's best efforts. His friend Nick, a half-breed scout he has been friends with for ten years, shows up. Nick tells him that Salvaje killed everyone at Silverton and even killed Sam's old horse. It's apparent that Salvaje is coming to the ranch to retake his son. Ned goes outside to feed his dog and finds it killed with an arrow. In a blind rage, he runs into the trees after a Salvaje. Sam tries to bring him back, but can't find him. Shortly after, he hears Ned's death scream. Sam decides to go after Salvaje and create an opportunity for Nick to get a clear shot. But, when Sam is being tracked, Nick jumps up to warn him and Salvaje kills him. Nick dies in Sam's arms. Salvaje enters the ranch house through a window. Sam blows out the kerosene lamp in order to hide in a dark corner. Sam shoots at him with a rifle and Salvaje flees, but he leaves a trail of blood. Sam trails him and steps into a booby-trap that Salvaje has rigged with a knife. Sam is stabbed in the left thigh and bleeds profusely enough that he has to apply a tourniquet. The two men fight and eventually Sam shoots Salvaje three times as the warrior falls atop him, dying. Sam manages to walk, stumble, and crawl back to the house, where Sarah rushes out to help him. \n",
            "\n",
            "Place: 1\n",
            "ID:  434\n",
            "Title:  The Red Stallion\n",
            "Categories:  \"Action/Adventure\",  \"Family Film\",  \"Family Drama\",  \"Drama\",  \"Western\"\n",
            "Summary:\n",
            " Joel Curtis  is a young orphan who is living with his grandmother, Aggie Curtis , on her ranch. Joel finds an orphaned colt in the nearby woods, and names the horse Red. Joel learns that Grandma Curtis has extensive debts, and will be forced to sell her ranch to pay them off. Joel is friends with Andy McBride , a ranch hand at the nearby Moresby Farms. Joel convinces Andy to help him train Red as a racehorse, with the intention of selling his beloved horse to pay off his grandmother's debts. Joel and Andy convinced Moresby Farms horse trainer Ellen Reynolds  to race Red against the farm's best racehorse, Black Moor. But the untrained Red loses the race because he does not stay close to the inside rail. Joel next approaches Mr. Moresby  with an offer to sell horses from the Curtis ranch to Moresby Farms. Mr. Moresby agrees, but says he will buy only those horses which can outrace Black Moor. With the foreclosure auction on Grandma Curtis' farm approaching quickly, Joel and Ho-Na , a Native American working for Grandma Curtis, train Red on Moresby's racetrack nightly. Joel's dog, Curley, helps by barking at Red and forcing the horse against the rail whenever Red tries to stray. Moresby promises to see Red race one more time first thing in the morning on the day before the auction. But that night, Red escapes the barn and goes into the woods, where a bear attacks him. Red escapes, but is too exhausted to race. The next day, Joel races Red against Black Moor and beats Moresboy's horse. Moresby purchases Red for a large sum, saving Grandma Curtis' ranch. At Grandma Curtis' suggestion, Moresby makes Joel co-owner of Red. Andy and Ellen reveal they are in love. \n",
            "\n",
            "Place: 2\n",
            "ID:  4617\n",
            "Title:  Giant\n",
            "Categories:  \"Action/Adventure\",  \"Western\",  \"Drama\",  \"Epic\"\n",
            "Summary:\n",
            " Jordan \"Bick\" Benedict , the head of the rich Benedict ranching family of Texas, goes to Maryland to buy a stud horse, War Winds. There he meets and courts the socialite Leslie Lynnton , who breaks off her engagement to a diplomat  and becomes Bick's wife. They return to Texas to start their life together on the family ranch, Reata, where Bick's sister Luz  runs the household. Luz resents Leslie's arrival and tries to intimidate her. Jett Rink  works for Luz and hopes to find his fortune by leaving Texas; he also has a secret love for Leslie. Luz expresses her hostility for Leslie by cruelly digging in her spurs while riding Leslie's beloved horse, War Winds. Luz dies after War Winds bucks her off, and as part of her will, Jett is given a plot of land within the Benedict ranch. Bick tries to buy back the land, but Jett refuses. Jett keeps the fenced off waterhole as his home and names the property Little Reata. Leslie eventually gives birth to twins, Jordan \"Jordy\" Benedict III  and Judy Benedict , and a younger daughter named Luz II . Jett discovers traces of oil in a footprint left by Leslie and he drills in the spot. He hits his first gusher and is covered in the spouting oil. He drives to the Benedict front yard to assert himself and proclaim to the family and guests that he will be richer than the Benedicts. After Jett makes a rude sexual remark to Leslie, Bick punches him. As Bick's friends restrain him, Jett hits him several times, then drives off. In the years before World War II, Jett prospers through his oil drilling company, named 'Jetexas'. Determined to remain a cattle rancher like his forefathers, Bick rejects several offers to drill for oil on his much larger ranch. Meanwhile, tensions in the Benedict household revolve around how the parents want to bring up their children. Bick insists that Jordy must succeed him and run the ranch, as his father and grandfather before him &ndash; but Jordy wants to be a doctor. Leslie wants Judy to attend finishing school in Switzerland, but Judy loves the ranch and wants to study animal husbandry at Texas Tech. Both children succeed in pursuing their chosen vocations. After war breaks out, Jett visits the Benedicts to persuade Bick to allow oil production on his land to help the war effort. Recognizing that his children will not take over the ranch when he retires, Bick concedes. Both Bick and Jett have developed drinking problems. Luz II, now in her teens, starts flirting with Jett. Once oil production starts on the ranch, the wealthy Benedict family becomes even wealthier, as suggested by the addition of a swimming pool next to the house. After the war, the Benedict-Rink rivalry continues, coming to a head when the Benedicts discover that Luz II and the much older Jett have been dating. At a huge gala Jett organizes in his own honor, an irate Jordy tries to fight him after his Mexican-American wife, Juana , is repeatedly insulted by Jett's employees because of her race. As his goons hold Jordy, Jett punches him repeatedly in front of a crowd, and has the young man thrown out. Fed up, Bick challenges Jett to a fistfight. Drunk and almost incoherent, Jett leads the way to a wine storage room. Seeing that Jett is in no state to defend himself, Bick lowers his fists, says \"You're not even worth hitting. ... You're all through,\" and leaves, but not before toppling Jett's wine cellar shelves, domino-style. Jett, completely drunk, collapses face down and falls asleep on the table in front of his seat of honor. All the guests leave. Later, Luz II sees him partly recovered from his stupor, talking to an empty room and disclosing that his sexual interest in the young girl is only his attempt to possess her mother symbolically. The next day, the Benedicts, all except Jordy, drive down a sparsely traveled road and stop at a segregated diner. Juana and her little boy are once again insulted racially, and when the proprietor, Sarge , insults and begins to physically eject an old Mexican man and his family, Bick tries to stop him. This leads to a fistfight, which Bick clearly loses. Juana, Leslie and Luz II are disgusted by Sarge's bigotry, but proud of Bick for standing up to the bully. Back at the ranch, Bick and Leslie watch their grandchildren, blonde and Latino, and reflect on their life and family. Leslie tells Bick that after watching him lose the fight in the diner, she respects his evolution in understanding the concerns of people not like his wealthy forbears, and considers their own incarnation of the Benedict family a success. \n",
            "\n",
            "Place: 3\n",
            "ID:  4547\n",
            "Title:  Monte Walsh\n",
            "Categories:  \"Action/Adventure\",  \"Costume drama\",  \"Western\",  \"Drama\"\n",
            "Summary:\n",
            " Monte Walsh  is an aging cowboy facing the final days of the Wild West era. He and his friend Chet Rollins , another long-time cowhand, work at whatever ranch work comes their way, but \"nothing they can't do from a horse\". Their lives are divided between months on the range and the occasional trip into town. Camaraderie and competition with the other cowboys fill their days. They seek work and take a job at the ranch of Cal Brennan ([[Jim Davis , where they meet an old friend, Shorty Austin , another ranch hand. Monte has a long-term relationship with an old flame, prostitute and saloon girl Martine Bernard , who suffers from tuberculosis. Chet, meanwhile, has fallen in love with Mary Eagle , a widow who owns a hardware store. As barbed wire and railways steadily eliminate the need for the cowboy, Monte and his friends are left with fewer and fewer options. New work opportunities are available to them, but the freedom of the open prairie is what they long for. Shorty loses his job and gets involved in rustling and killing, gunning down a local lawman. Then Monte and Chet find that their lives on the range are inexorably redirected. Chet marries Mary and goes to work in the store, telling Monte that their old way of life is simply disappearing. Caught up in the spirit of the moment, Monte asks Martine to marry him, and she accepts. Monte goes on a drinking binge and rides a wild horse through town. A rodeo owner, Colonel Wilson , sees him and offers him a job. Monte considers the high salary, but decides the work is too degrading and refuses. Eventually, they all must say goodbye to the lives they knew, and try to make a new start. When Shorty shoots and kills Chet while trying to rob the store, Monte, distraught after the death of his beloved Martine, goes after him. Shorty arrives and Monte chases him. Shorty shoots Monte, but runs off when the shot only hits his arm. Monte then manages to slip around Shorty and shoots him. As Shorty is dying, Monte tells him that he rode the wild horse. \n",
            "\n",
            "Place: 4\n",
            "ID:  3056\n",
            "Title:  Mackintosh and T.J.\n",
            "Categories:  \"Western\"\n",
            "Summary:\n",
            " MacKintosh  is an aging migrant cowboy drifting from ranch to ranch doing odd jobs along the way with the exception of his World War II service in the Pacific. When passing through a town he sees T.J.  a 14 year old recently released from doing clean up work for vagrancy. Shopping for supplies, MacKintosh sights T.J. preparing to steal an apple being watched by the store owner. MacKintosh pretends the boy is with him and pays for their supplies. Giving T.J. a ride the two realise they have much in common. Having left his single mother and not having been in school since Dick and Jane books were used , T.J. is off to work his way to the Pacific Ocean that he has never seen. When MacKintosh's vehicle breaks down T.J. catches a lift with a well dressed stranger on his way to El Paso as MacKintosh makes his repairs. Stopping for dinner in a bar that night, MacKintosh sights T.J. working as a busboy in the bar. T.J. explains that the man who picked him up was \"funny\" that made T.J. leave him as quicly as possible. A drunken loud cowboy named Cal misplaces his money and accuses T.J. of stealing. When Cal strikes T.J., MacKintosh knocks him down. Cal comes after MacKintosh with a knife with MacKintosh knocking him down again by breaking a catsup bottle on his head. Losing his job, T.J. and MacKintosh team up again. The pair find work at the 6666 Ranch run by Jim Webster where MacKintosh impresses everyone when he breaks horses, works as a ranch hand and gains more money by obtaining cash bounties for coyotes he shoots. T.J. is put to work cleaning up abandoned buildings. The two settle in until accusations are made against MacKintosh for his being too friendly to the wife of his foreman. \n",
            "\n",
            "Place: 5\n",
            "ID:  1382\n",
            "Title:  The Broken Spur\n",
            "Categories:  \"Western\"\n",
            "Summary:\n",
            "  The Broken Spur  is a western film set in west Texas during the early 1860s.Los Angeles Times ' http://articles.latimes.com/1989-11-12/entertainment/ca-1912_1_executive-producerhttp://movie.701panduan.com/movie.php?id4664857Los Angeles Times  http://articles.latimes.com/1990-01-21/entertainment/ca-955_1_rock-star/33The New York Times Movie Review http://community.nytimes.com/rate-review/movies.nytimes.com/movie/439769/Broken-Spur/overviewLos Angeles Times ' http://articles.latimes.com/1990-01-21/entertainment/ca-955_1_rock-star/33 As a child, Steele witnesses the vicious death of his family at the hands of an Indian raiding party. He is nearly killed but is rescued by his sister who sacrifices her life in the process. Growing to manhood, Steel becomes foreman of a large cattle ranch owned by a kindly but tough woman named Berdie '. Steele and the ranch cowboys deliver their herd of longhorn cattle to the stockyards in the town of Eagle Mesa. As he leaves the cattle yard with his friend Rawhide Johnson ', he encounters his girl, Beth Hendricks . Rawhide leaves the two to talk, saying that he is going to the general store in town for supplies.   Sandy meets Rawhide later in the town as a fight abruptly breaks out at the other end of the street. Three snarly looking men have assaulted an old Indian in town with his Grandson, Little Hawk. Sandy sees the altercation but does not want to get involved. However, when he sees Slade ' knock the boy down, it is too much for him. Sandy quick-mounts his horse, gallops down the street and leaps onto the three men. A fight ensues and when Steel is winning, the other two Jenkins ' and Barton ', grab their guns and attempt to shoot the cowboy. Rawhide arrives on the scene and stops them as Steele finishes the fight leaving Slade unconscious on the street. The three bad men have been humiliated and slink away. Sandy and Rawhide now joined by Beth, help the grandfather and young child load their wagon. As the two Indians and their wagon pass down the street, Slade, Jenkins and Barton watch from a hidden recess by one of the buildings. Jenkins aims his pistol at the passing Indians. Slade stops him, cautioning his cohorts to wait until their targets are out of town. As the sun passes behind a cloud, the three gunfighters ride atop a cliff and wait. Soon, they see Little Hawk and his grandfather riding through the canyon below them. Slade smiles, removes his rifle, takes aim and fires. The grandfather slumps forward and the two horses frightened by the sound break into a runaway gallop. Sandy and Rawhide ride along a ridge some distance from the gunfighters. Rawhide hears the rifle shot as Steele spots the runaway team. He spurs his horse down the canyon’s side and gallops toward the speeding buckboard. He leaps from his horse onto wagon bed and makes his way to the reins. Atop the cliff, Slade fires his rifle once again. A bullet strikes the wagon strut causing Sandy to fall forward under the wagon. He quickly grabs the undercarriage, swings himself back up, and stops the runaways. However, it is too late as the Grandfather is dying. Before passing, the old Indian takes the cowboy’s hand along with Little Hawk’s and places one in the other. His request is that Sandy Steel care for the young boy after the grandfather dies. Steele meets the hand of fate when he becomes responsible for Little Hawk, a young Indian boy whose only family, his grandfather, has just been killed by white men. The cowboy realizes that the child has no one to care for him yet the memories of his own family’s death are too close. He gets into a heated discussion with Berdie and Rawhide.  Berdie takes a hard line with Sandy, accusing him of holding on to the pain and being insensitive. Sandy knows that she is right but has a difficult time letting go of his feelings. Unbeknownst to Sandy, Little Hawk overhears the conversation where Steele expresses his dislike for Indians. Little Hawk already hurt by the passing of his grandfather is hurt even more, thinking he is unwanted. He decides to leave the ranch and wakes early the next morning to do so. He finds and old gun and takes it, his Indian pony and runs away. His mission now, is to track, locate and kill the three men that murdered his Grandfather.  Later than morning Beth Hendricks arrives at the ranch to see whether she can help. She discovers that Little Hawk is missing and alerts Sandy and his friend, Rawhide. Together, the two set out to find the young boy before he can get hurt. Sandy and Rawhide manage to find Little Hawk who has already found the gunfighters’ trail and is tracking them. Little Hawk refuses to leave until the killers are found and justice is served. Sandy and Rawhide decide to go forward and try to capture the bad men. They corner Jenkins but not before, he wounds Rawhide. A gunfight ensues at the top of a high cliff where Jenkins accidentally falls to his death. Sandy and Little Hawk bandage Rawhide and proceed on forward. The Indian and Cowboy eventually track the remaining killers. Barton is captured as Slade tries to escape on horseback. Steele follows in pursuit, catches up with him and knocks him from his horse. The two tumble down a tall embankment and furious fight ensues. In the end, Sandy defeats Slade and the two bad guys are taken back to Eagle Mesa where they are tried and hung. In the film’s final scene, Sandy and Rawhide are alone as the sun sets in the western skies. Sandy tells the story of his childhood and apologizes for the things he said that Little Hawk overhears. The little Indian nods in understanding. As Sandy extends his hand, Little Hawk takes it before erupting into a tearful hug. In the end, each has overcome their own prejudice and biases to find their better selves. \n",
            "\n",
            "Place: 6\n",
            "ID:  1058\n",
            "Title:  The Revengers\n",
            "Categories:  \"Western\"\n",
            "Summary:\n",
            " The Civil War is over and Congressional Medal of Honor winner John Benedict is a Colorado rancher now, with a wife and four children. His pride and joy, son Morgan, is invited to attend West Point, but prefers to help run his father's ranch. One day while John is away, he sees Comanche Indians riding from the ranch. He returns to find his family killed, Morgan hanged inside a barn. Vowing vengeance, John ignores a posse organized by Sheriff Whitcomb and forms his own band, freeing six men from a prison. If they help him find Tarp, who apparently led the slaughter of his family, John will do everything in his power to pardon them from jail. One of the six, Chamaco, bonds with John, feels like a son to him, but is offended by John's reaction to that. He shoots John in the chest. Elizabeth Reilly nurses him back to health, saying the bullet missed his heart by an inch. The six convicts, including Chamaco, continue to follow John in his quest. The trail leads them to a U.S. Army camp, where the six help fend off an Indian attack. By the time John comes face to face with Tarp, his thirst for revenge is gone and he rides home. \n",
            "\n"
          ],
          "name": "stdout"
        }
      ]
    },
    {
      "cell_type": "markdown",
      "metadata": {
        "id": "0B1uuscraT_q",
        "colab_type": "text"
      },
      "source": [
        "9.Όλες οι ταινίες παρουσιάζουν ρομαντικές σχέσεις μεταξύ ανθρώπων κυριώς στον χώρο του πανεπιστημίου."
      ]
    },
    {
      "cell_type": "code",
      "metadata": {
        "id": "nP1oZtSVbusu",
        "colab_type": "code",
        "outputId": "16272c5f-059b-415c-bbd4-35789cce2e2d",
        "colab": {
          "base_uri": "https://localhost:8080/",
          "height": 749
        }
      },
      "source": [
        "content_recommender(749, 5)"
      ],
      "execution_count": 42,
      "outputs": [
        {
          "output_type": "stream",
          "text": [
            "ID:  749\n",
            "Title:  Arya\n",
            "Categories:  \"Romantic comedy\",  \"World cinema\",  \"Musical\",  \"Drama\",  \"Comedy\",  \"Tollywood\",  \"Romantic drama\",  \"Romance Film\"\n",
            "Summary:\n",
            " Geetanjali a.k.a. Geeta  goes to Kanyakumari on a trip. She finds a poem in a diary left on a beach and signs in it. Her anklet falls into the ocean and a guy jumps into the water in front of her eyes but no one sees him resurfacing. However, Geeta did not see who jumped in the ocean. She dreams about the incident frequently with the idea that the guy who jumped has died but her friends ask her to forget it. Ajay  is a spoiled brat, and is the son of local MP Avataram . He likes to flirt with beautiful girls and wants them to be his girlfriends. One day he sees Geeta and proposes to her. When she refuses, he threatens to jump from the top of college building. Being a weak-minded girl, Geeta accepts the proposal with the thought that as some guy has already died for her and she doesn't want someone to get hurt because of her and starts dating him. Arya  is a happy-go-lucky guy who enjoys his life with friends and kids. On his first day to the college, he sees Geeta who was just confessing her love to Ajay who was at the top of the college building, threatening her. Charmed by her beauty, Arya falls in love with her and proposes to her. She actually rejects his proposal saying that she is already committed to Ajay. One day Avataram arranges a party in his house and it so turns out that Ajay introduces Geeta to his father and persuades him to fix their marriage. Ajay's father, who initially pretended to accept his son's marriage with Geeta, turns tables upside down by introducing another girl Lalasa and announces that his son is going to marry Lalasa. He threatens his son not to marry anyone except Lalasa. Being embarrassed by the situation and helpless, Ajay sits down and starts to get frustrated. Arya, who loves Geeta so much that he never hesitated to help her, decides to bring Ajay to Geeta and helps them elope. On their way, they are followed by Avataram's henchmen. The three youngsters find a train and get into it. When they get down from the train in the night, they are shocked to see the leader of Avataram's henchmen who forces Geeta to come with him, defying his boss' order. On the other hand Ajay remains helpless, while Arya bravely fights all the men and finally defeats them, rescuing Ajay and Geeta. They walk on to the nearby town, Arya's hometown. Being tired, the three go to bed. The next morning they wake up and realize that Ajay is missing. Arya tries to convince Geeta that Ajay left to win over his father. This leaves private time for Arya and Geeta and they grow close to each other. Geetha starts liking Arya. But when she tries to reveal it to him, Ajay and his father return. Avataram agrees to get Ajay married to Geeta. On the day of wedding, Geeta finds out that Arya was the guy who dove into the sea for her anklet and realizes that he came into her life much before Ajay. She realizes that while Ajay blackmailed her into loving him, Arya just wanted to see her happy. Geeta also realizes that Arya truly loves her, while Ajay was just acting on his impulse of wanting what he couldn't have. She leaves the wedding hall in tears and confesses her love to Arya. \n",
            "\n",
            "Place: 1\n",
            "ID:  3721\n",
            "Title:  Mella Thirandhathu Kadhavu\n",
            "Categories:  \"World cinema\",  \"Musical\",  \"Drama\",  \"Romantic drama\",  \"Romance Film\",  \"Bollywood\"\n",
            "Summary:\n",
            " Tulasi  is a village girl. One day she gets a letter from her cousin Subramani. She gets excited as they were close friends in childhood but Mohan left with his family to city. Subramani visits the village for his college thesis about folk songs. Tulasi is in love with Subramani but she is confused whether Subramani also loves her. Tulasi's father passes away due to heart attack. When Subramani's mother arranges a marriage for Subramani with Tulsi he refuses. Because of this her mother died in frustration. Then Tulasi comes to her Uncle's house. Later a flashback comes in which Subramani is in love with Banu . Since Banu used to come to the music college with veil he has not seen her face. On a day when they plan to meet Banu dies after she steps into quick sand. Finally whether Tulasi marries her beloved cousin Subramani is the story. \n",
            "\n",
            "Place: 2\n",
            "ID:  43\n",
            "Title:  Venky\n",
            "Categories:  \"Mystery\",  \"Romance Film\"\n",
            "Summary:\n",
            " Venkateswarlu  is a wayward youth in Vizag who roams around with his friends all the time. One day he - along with his three buddies - accidentally gets selected in police selections. Venky and his friends embark on a journey from Vizag to Hyderabad to join police academy for the training. He falls in love with a co-passenger Sravani ([[Sneha  aboard the train. Sravani refuses the instant proposal of Venky. He also picks up a row in a state of inebriation with Sravani's father and another girl and threatens them that he would kill them. And surprisingly, Sravani's father and other girl found dead on their berths on the next day morning. After realizing that they would be blamed for a murder committed by somebody else, Venky and his gang slips off from the train and join the police training academy. There they realize that their boss Yogendra Sharma  is responsible for the murders in the train. Why does Yogendra want to kill Sravani and her father is the mysterious question that would be solved by Venky. Rest of the story is all about how Venky protects Sravani and how he brings Yogendra Sharma to the book. \n",
            "\n",
            "Place: 3\n",
            "ID:  4334\n",
            "Title:  Rehna Hai Tere Dil Mein\n",
            "Categories:  \"Drama\",  \"World cinema\"\n",
            "Summary:\n",
            " The story starts with narration by Maddy himself. Maddy is son of a music shop owner. The man hopes that Maddy will someday take over his shop. Instead, Maddy is a total brat, who is not serious about studies and notorious in his college. He harasses the girls in his college. In contrast to him is his arch rival Sam, a model student, with whom Maddy is at constant loggerheads. The enmity goes so far that Maddy even tries to frame Sam. Sam leaves the college, but promises Maddy that he will have his revenge. 2 Years later, Maddy has taken a job as software instructor at a private company. His attitude has mellowed a lot, but not changed. Once, he and his college cronies attend a wedding of another classmate, where Maddy spots Reena. Maddy gets smitten and tries to know more about her, but in vain. However, destiny makes them meet again. Soon he learns that Reena plans to marry Rajeev Samra, an old friend who is now an NRI. Maddy also learns that Reena doesn't know how Rajeev looks like now. On persuasion of his friends, Maddy decides to pretend to be Rajeev. Reena, who previously liked him only as a friend, falls in love with him too. Everything is going alright, until Rajiv's parents really call and tell them that Rajiv is coming to meet them. On learning this, everyone is shocked and Maddy's secret comes to fore. Reena's parents tell her to call off her relationship with Maddy, which she does. The real Rajiv also decides to meet his impostor. Maddy is shocked to see that Rajiv is none other than Sam. Sam is even more infuriated to learn his impostor's true identity. Rajiv and Reena's parents decide to get them married as soon as possible. Here, Maddy goes into depression and starts drinking. Reena is no better off without him either, as she finds it very difficult to forget him. Though the enmity between Sam and Maddy is renewed, Sam cannot help but notice that Reena is marrying him only because she is mad at Maddy. Finally, Rajiv confronts Reena and asks her whether she loves him or Maddy. Here, Maddy's well wishers decide to send him off to America. When Rajiv realizes that Reena still loves Maddy, he takes her to the airport. Rajiv and Maddy spot each other. Maddy thinks that Rajiv has come to rebuke him once more. Rajiv hands Reena over to Maddy, upon which the duo confess their feelings for each other. Rajiv is heartbroken, but feigns his old attitude towards Maddy and leaves them. \n",
            "\n",
            "Place: 4\n",
            "ID:  4114\n",
            "Title:  Ahista Ahista\n",
            "Categories:  \"Romantic drama\",  \"Romance Film\",  \"Drama\",  \"World cinema\"\n",
            "Summary:\n",
            " The story is woven around aimless youth Ankush Ramdev  who scrapes a living by acting as a witness in Delhi's marriage registrar bureau and a girl Megha  who has run away from her home in Nainital, to get married to her love Raj . Fate intervenes and Raj does not show up in the Marriage Registrar's Office. Dejected Megha is forced to rely on Ankush's generosity. Ankush helps Megha by getting her a job at a local old age home so that she has the security of a roof over her head. As time passes Megha begins to realize her potential as an educated girl who had earlier dedicated her life to her boyfriend and that relationship, thinking that there was nothing more to her. She realizes that she was wrong, and finally there comes a when she tells Ankush that she is glad Raj stood her up at the Marriage Bureau. Else, she would have never known who she really was. At the same time Ankush realizes that the meagre amount he earns each day is not enough for him. He still has to repay the loan he had taken for Meghas sake. So he starts working as a bank's representative who opens bank accounts for a commission. Slowly he starts increasing the number of hours working at his new job and reduces those spent at the Marriage Registrar's Office. A day comes when he is able to repay the loan he had taken for Megha. On learning of this Megha reprimands him for doing so much for a girl who was a stranger for him. But now Ankush is earning 5 times more than he was before. He has a much more respectable job and a future. Ankush believes he has changed because of Megha and her faith in him. Life progresses well for Ankush. Soon he gets an offer to join the same bank as an Area Supervisor, at a fantastic salary. Ankush hesitates, as fluent English is a pre-requisite. Megha inspires Ankush giving him the confidence to realize that all he needed was an opportunity in life to succeed. A relationship develops between Megha and Ankush. Megha decides to leave her past with Raj behind and embrace the future with Ankush by her side. Everything seems to be falling in place for Ankush when Raj returns. He is persistent in his search for Megha and Ankush's new found happiness crumbles. Ankush tries to force Raj return to Nainital. He tries all his wits and energy to do this, but does not succeed. He even shows Raj the death certificate of Megha, so that he can return, but Raj has complete faith in his love and Megha. One day Ankush's friend shows Raj about the whereabouts of Megha. This is on the same day when Megha and Ankush have planned to get married. On seeing Raj in the mirror, she gets angry at him and asks him to leave. Raj agrees, but he also insists her to listen to what had happened to him when he was coming to Delhi from Nainital. He was preyed in a plot of RDX in the train. He somehow escapes from the plot. Megha realizes that what Raj did was not intentional and was just a situation in which Raj was trapped. Megha talks to Ankush and tells him that she can not live without Raj and finally Ankush realizes that he is just a friend to her. In the end Ankush becomes the witness of the wedding of Raj and Megha but asks for his regular fees, severing all connection to Megha and Raj love story. \n",
            "\n",
            "Place: 5\n",
            "ID:  4659\n",
            "Title:  Pagala Premi\n",
            "Categories:  \"Romance Film\"\n",
            "Summary:\n",
            " Surya  and Gitanjali  are smart college students. Surya falls in love with Gitanjali at first sight. Ajay  is a spoilt brat and is the son of local M.L.A. Abinash .Ajay likes Gitanjali and thus proposes to her. When Gitanjali refuses, Ajay threatens that he will jump from the college roof top. Being a meek girl, Gitanjali accepts the proposal and starts dating Ajay. Meanwhile, Surya proposes to Gitanjali. In the presence of Gitanjali's boy friend, Ajay, Gitanjali refuses. But Surya doesn't yet to give up on her as he feels that Gitanjali doesn't love Ajay truly. Surya tries to impress Gitanjali sincerely without creating a rift between the two. The film is all about how Surya tries to win Gitanjali with his attitude and positive out look. \n",
            "\n"
          ],
          "name": "stdout"
        }
      ]
    },
    {
      "cell_type": "markdown",
      "metadata": {
        "id": "LwalG2JufvFk",
        "colab_type": "text"
      },
      "source": [
        "10.Όλες οι ταινίες αφορούν εγκλήματα και παρουσιάζονται είτε οι εγκληματικές προσωπικότητες είτε όσοι προσπαθούν να τους οδηγήσουν στη δικαιοσύνη. Στις περισσότερες περιπτώσεις αυτό έχει και το χαρακτήρα εκδίκησης, όπως και στην ταινία-στόχο.\n",
        "\n"
      ]
    },
    {
      "cell_type": "code",
      "metadata": {
        "id": "3keozMmwhO7m",
        "colab_type": "code",
        "outputId": "749f2253-7cfe-454a-f13e-19a84f32b62c",
        "colab": {
          "base_uri": "https://localhost:8080/",
          "height": 871
        }
      },
      "source": [
        "content_recommender(1446, 6)"
      ],
      "execution_count": 43,
      "outputs": [
        {
          "output_type": "stream",
          "text": [
            "ID:  1446\n",
            "Title:  Underworld U.S.A.\n",
            "Categories:  \"Thriller\",  \"Crime Fiction\",  \"Black-and-white\",  \"Drama\",  \"Crime Thriller\",  \"Action\",  \"Film noir\"\n",
            "Summary:\n",
            " Fourteen-year-old Tolly Devlin sees four hoods beat his father to death. Twenty years later, the killers have risen to the top of the crime syndicate. Ever since his adolescence, Tolly's  goal has been to avenge his father. Tolly has even become a criminal and gotten himself sent to prison so that he could get close to one of the perpetrators. Tolly becomes as vindictive and sadistic as the men he is after. He rejects the two relationships that could redeem him, his mother-figure  and his moll  in favor of cold, hard vengeance. Becoming a secret informant for the government, Tolly ends up playing both sides against the middle in his cagey campaign to bring down the remaining mobsters. Tolly's nihilistic vendetta eventually robs him of his own humanity . \n",
            "\n",
            "Place: 1\n",
            "ID:  1687\n",
            "Title:  Fast Getaway\n",
            "Categories:  \"Crime Fiction\",  \"Adventure\",  \"Chase Movie\",  \"Action Comedy\",  \"Comedy\",  \"Action\"\n",
            "Summary:\n",
            " Nelson  is a teenager who robs banks with his father in group along with two other friends. When the group is disbanded over differences, Nelson and his father part ways with their former partners and form their own group. The ex-members tip off the police to where Nelson and his father are hitting next. Nelson's father is caught and sent to prison. Nelson however escapes. Together with his mother, he sets out to break his father out of prison and get revenge on their former partners. \n",
            "\n",
            "Place: 2\n",
            "ID:  4582\n",
            "Title:  Vengeance\n",
            "Categories:  \"Crime Fiction\",  \"Thriller\",  \"World cinema\",  \"Action/Adventure\",  \"Drama\",  \"Action\",  \"Chinese Movies\",  \"Film noir\"\n",
            "Summary:\n",
            " In Macau, three men break into a house, shoot a French woman  and kill her husband and two children. The woman's father, Francis Costello , arrives to visit his daughter who is now suffering from serious injuries. She is nevertheless able to tell her father that there were three shooters and that she shot one of the killers in the ear. At a hotel, Costello meets Kwai , Chu  and Fat Lok , a trio of hitmen who are hired to murder the unfaithful wife of Triad crime boss George Fung . After overhearing the murder in a hotel room, Costello reaches an unspoken agreement to walk away. Costello later tracks down Kwai's syndicate, hands them a stack of Euros and his watch, and asks them to help him avenge his daughter's family's deaths. Before doing so, though, he takes a Polaroid picture of each of the hitmen, and writes down their names, so that he will not forget what they look like. Together, the four make their way to the apartment where the shooting occurred and surmise the weapons used. The four men visit a landfill to meet Kwai's cousin Tony, who supplies illegal arms. Tony mentions that he sold matching weapons to a trio of Hong Kong hitmen who work on Seafood Street. As the four men reach the street, they see a man with a bandage over his ear. However, they see only two men. Kwai's syndicate decide to wait until the men lead them to the third attacker. The two suspects head towards the countryside as Kwai's syndicate follows. The two men later reach a Nature reserve as the third killer shows up. The trio meet their wives, their kids and Kwai's syndicate during the barbecue. After a tense standoff, the trio explain that they killed Costello's grandchildren because the children had seen their faces. Not wanting to start a shootout in front of the three attackers' wives and children, everyone waits until they have left. A moonlit gun battle ensues, with both sides suffering injuries. The three attackers flee, while Costello and Kwai's syndicate take refuge at a run-down apartment in Hong Kong to perform surgeries by themselves to remove bullets from their bodies. Costello reveals that he is a former assassin and has a bullet in his head for twenty years which is affecting his memories. Shortly after they have tended to their wounds, Kwai receives a phone call from George Fung, who informs him that three of his men need help, and are with an underground non-registered doctor known as \"Old Five\". Fung tells Kwai that his men were attacked by three Chinese men and one white man. The four men realize that Fung ordered the hit on Costello's daughter and her family. They head to the dwelling and kill the three attackers and leave Old Five alive, who then makes a call to Fung, reporting what had happened. Fung then contacts Kwai, explaining that Costello's son-in-law was handing over Fung's financial reports to the police. Fung also says he only ordered his men to kill the parents. Kwai replies that his syndicate has switched their loyalty from Fung to Costello as a matter of honor. Later that night, Fung sends more killers to Kwai's refuge in order to eliminate Kwai's syndicate. A gunfight ensues, with the four men emerging victorious. As they escape, Kwai's syndicate lose track of Costello, who is walking through a crowded street, seemingly lost in the night rain. He pulls out the Polaroid pictures that he took of the hitmen earlier, and tries to find them in the crowd. They meet again, but it becomes evident that Costello has a problem with his memory, and has rapidly forgotten who his friends are, but also what he is doing. The hitmen try to explain to Costello that he is seeking revenge for his daughter, but Costello does not recognize her, nor does he understand the concept of revenge. The three men give up in despair, and take him to a beach where they meet a pregnant woman  with a group of children. Kwai gives her a stack of money and ask her to take care of Costello. Kwai's syndicate return to Macau because they lost contact with Kwai's cousin Tony who supplies their ammunition. When they reach the landfill where Tony is living, they find him and his partner dying as they were tortured by Fung and his gang. Soon, a large group of assassins sent by Fung show up and a gunfight ensues. Kwai, Chu and Fat Lok are killed. Costello and the pregnant woman learn of the shootout during a news report. The next day, Fung is having tea in a public square surrounded by his subordinates. He sees a beautiful woman  having tea in the same square. As he tries to get her attention, a large group of children come asking him to buy charity stickers. The children place stickers on Fung and his men. The pregnant woman leaves the square and meets up with Costello, then tells him that the man back in the square with the most number of stickers is Fung. Costello thanks her, makes his way to the square and begins to shoot a great many of the guards as well as Fung as chaos ensues. However, Fung turns out to be wearing a bulletproof vest. His subordinates help him run away from Costello, who gives chase on foot. As Costello walks, he checks the bystanders for stickers, which tips Fung off to the fact that Costello does not actually recognize him, apart from the stickers he is wearing. Fung removes the stickers from his coat, and puts them on the jacket of a subordinate instead. This causes Costello to shoot Fung's subordinate. Fung then removes his coat with all the stickers and runs off. Costello picks up the trenchcoat and shoots more subordinates who get in his way. Fung is finally the last surviving member, so he attempts to walk nonchalantly by Costello, relying on the Frenchman's inability to recognize him without the coat, but as he is walking by, Costello sees a sticker on Fung's tie. Both men reach for their guns fire at each other. Fung is hit and Costello demands that he put the coat on, which Fung refuses, so Costello shoots him in the leg. Fung then puts the coat on and Costello checks the bullet holes in the coat and sees that they align with the bullets stuck in the bullet-proof vest he was wearing. Costello then stands up and fires a round into Fung's head killing him. \n",
            "\n",
            "Place: 3\n",
            "ID:  2624\n",
            "Title:  An Eye for an Eye\n",
            "Categories:  \"Thriller\",  \"Crime Fiction\",  \"Indie\",  \"Martial Arts Film\",  \"Action\",  \"Adventure\"\n",
            "Summary:\n",
            " Undercover San Francisco narcotics cops Sean Kane  and Dave Pierce  head into a dark alley to meet up with an informant by the name of Tony Montoya  who promises to break their big investigation wide open by providing the name of the oriental drug ringleader. Minutes later, Pierce is dead after having been shot, hit by a car, and burned. Kane gets into trouble with his boss, Captain Stevens , for sending one of the killers flying out a third story window to his death in full public view right after the incident. Rather than face discipline, and told to keep his distance by his superiors, Kane now decides to quit the force, and sets out to exact vengeance. Kane is not the only one who is angry; Dave’s girlfriend, reporter Linda Chan , is too, and she vows to bring the drug gang down herself by way of investigative reporting and public exposure. However, when Linda uncovers the secret that Kane and Pierce never found, she, too, is killed. Now Kane is not just angry; he is furious, and so is Linda's grieving father James Chan . Kane vows to get to the bottom of things himself and bring down the drug gang, which is led by Morgan Canfield . \n",
            "\n",
            "Place: 4\n",
            "ID:  3738\n",
            "Title:  Ex$pendable\n",
            "Categories:  \"Crime Fiction\"\n",
            "Summary:\n",
            " On the streets of Philadelphia, competing gangs try to gain control of their territories, but the government sponsored informant system is becoming a nuisance to their corrupt dealings. Raffy Omillio Sparks finds out the hard way that the ‘snitch-network’ has hit him where it hurts most, when he discovers his wife is actually a police informant! Now that the empire that he worked so hard to create is threatened, what will he choose...his love for his wife or his loyalty to the streets? \n",
            "\n",
            "Place: 5\n",
            "ID:  167\n",
            "Title:  The Kings of Appletown\n",
            "Categories:  \"Comedy-drama\",  \"Adventure\"\n",
            "Summary:\n",
            " The film is about two cousins – Will and Clayton – who witness a murder, but out of fear decide not to tell anyone. They and their friend Betsy, whose father has been wrongfully accused of the crime, go on a journey to find the real killer, and at the same time redeem themselves. \n",
            "\n",
            "Place: 6\n",
            "ID:  1935\n",
            "Title:  Sidewalks of Bangkok\n",
            "Categories:  \"Thriller\",  \"Action\"\n",
            "Summary:\n",
            " The film begins with a French secret service agent by the name of Rick is shot and killed, his friend Jacques retrieves his camera which contains his last film which Rick had on him when he was found. On the film there are shots of a young woman named Eva and the FSS concludes that she has what Rick was killed for, a deadly substance that would kill an entire city if released. The FSS fly back to Bangkok to search for Eva, who works in a local brothel. Two women break into the FSS apartmentand kill a man and retrieve the film canister, these women work for an evil syndicate which is run by a lady who is also in search of Eva. Since the FSS cannot afford to fly out to Paris, the Syndicate get to Eva first. Eva is helped by Claudine, another woman who works for the syndicate by trying to arrange for her to be taken away on board a cargo ship and smuggled into France. Claudine has a man from the FSS murdered and then pretends to be his wife when Roger, the FSS agent arrives. She takes him to the nightclub where they pretend that that Eva is nowhere to be found. It is during this visit that the film comes out in the open and reveals itself for exactly what it is. Claudine tries to protect Eva, but are later captured by the syndicate. Eva is chained up and whipped, Claudine tried to save her but is killed. It turns out that Rick was not murdered after all and shows up to rescue Eva, killing everyone, and then tells Eva that he must kill her too, but Eva over powers him and kills him instead. \n",
            "\n"
          ],
          "name": "stdout"
        }
      ]
    },
    {
      "cell_type": "markdown",
      "metadata": {
        "colab_type": "text",
        "id": "4irg4K-IPSym"
      },
      "source": [
        "## Tip: persistence αντικειμένων με joblib.dump\n",
        "\n",
        "H βιβλιοθήκη [joblib](https://pypi.python.org/pypi/joblib) της Python δίνει κάποιες εξαιρετικά χρήσιμες ιδιότητες στην ανάπτυξη κώδικα: pipelining, παραλληλισμό, caching και variable persistence. Τις τρεις πρώτες ιδιότητες τις είδαμε στην πρώτη άσκηση. Στην παρούσα άσκηση θα μας φανεί χρήσιμη η τέταρτη, το persistence των αντικειμένων. Συγκεκριμένα μπορούμε με:\n",
        "\n",
        "```python\n",
        "joblib.dump(my_object, 'my_object.pkl') \n",
        "```\n",
        "\n",
        "να αποθηκεύσουμε οποιοδήποτε αντικείμενο-μεταβλητή (εδώ το `my_object`) απευθείας πάνω στο filesystem ως αρχείο, το οποίο στη συνέχεια μπορούμε να ανακαλέσουμε ως εξής:\n",
        "\n",
        "```python\n",
        "my_object = joblib.load('my_object.pkl')\n",
        "```\n",
        "\n",
        "Μπορούμε έτσι να ανακαλέσουμε μεταβλητές ακόμα και αφού κλείσουμε και ξανανοίξουμε το notebook, χωρίς να χρειαστεί να ακολουθήσουμε ξανά όλα τα βήματα ένα - ένα για την παραγωγή τους, κάτι ιδιαίτερα χρήσιμο αν αυτή η διαδικασία είναι χρονοβόρα. Προσοχή: αυτό ισχύει μόνο στα Azure και Kaggle, στο Colab και στο IBM τα αρχεία εξαφανίζονται όταν ανακυκλώνεται ο πυρήνας και θα πρέπει να τα αποθηκεύετε τοπικά. Περισσότερα στο [FAQ](https://docs.google.com/document/d/1-E4eQkVnTxa3Jb0HL9OAs11bugYRRZ7RNWpu7yh9G4s/edit?usp=sharing).\n",
        "\n",
        "Ας αποθηκεύσουμε το `corpus_tf_idf` και στη συνέχεια ας το ανακαλέσουμε."
      ]
    },
    {
      "cell_type": "code",
      "metadata": {
        "colab_type": "code",
        "id": "aESOPYQaPSyo",
        "scrolled": true,
        "outputId": "14411c86-189a-4373-c5c6-1fdb95aec63f",
        "colab": {
          "base_uri": "https://localhost:8080/",
          "height": 34
        }
      },
      "source": [
        "\n",
        "import joblib\n",
        "\n",
        "joblib.dump(corpus_tf_idf, 'corpus_tf_idf.pkl', compress=True) "
      ],
      "execution_count": 44,
      "outputs": [
        {
          "output_type": "execute_result",
          "data": {
            "text/plain": [
              "['corpus_tf_idf.pkl']"
            ]
          },
          "metadata": {
            "tags": []
          },
          "execution_count": 44
        }
      ]
    },
    {
      "cell_type": "markdown",
      "metadata": {
        "colab_type": "text",
        "id": "7_rAEj5ZPSy1"
      },
      "source": [
        "\n",
        "\n",
        "Μπορείτε με ένα απλό `!ls` να δείτε ότι το αρχείο `corpus_tf_idf.pkl` υπάρχει στο filesystem σας (== persistence):"
      ]
    },
    {
      "cell_type": "code",
      "metadata": {
        "colab_type": "code",
        "id": "ZhwXmTEIPSy3",
        "scrolled": true,
        "outputId": "48969425-93f9-4e57-f6d0-7beab3f5c142",
        "colab": {
          "base_uri": "https://localhost:8080/",
          "height": 86
        }
      },
      "source": [
        "!ls -lh"
      ],
      "execution_count": 45,
      "outputs": [
        {
          "output_type": "stream",
          "text": [
            "total 23M\n",
            "-rw-r--r-- 1 root root 3.8M Jan 26 19:17 corpus_tf_idf.pkl\n",
            "drwxr-xr-x 1 root root 4.0K Jan 13 16:38 sample_data\n",
            "-rw-r--r-- 1 root root  19M Jan 26 19:17 som20x20@100e.pkl\n"
          ],
          "name": "stdout"
        }
      ]
    },
    {
      "cell_type": "markdown",
      "metadata": {
        "colab_type": "text",
        "id": "cey5AbkO475S"
      },
      "source": [
        "και μπορούμε να τα διαβάσουμε με `joblib.load`"
      ]
    },
    {
      "cell_type": "code",
      "metadata": {
        "colab_type": "code",
        "id": "DSJPTKY8PSyu",
        "colab": {}
      },
      "source": [
        "corpus_tf_idf = joblib.load('corpus_tf_idf.pkl')"
      ],
      "execution_count": 0,
      "outputs": []
    },
    {
      "cell_type": "markdown",
      "metadata": {
        "colab_type": "text",
        "id": "zHOQtO83PSy9"
      },
      "source": [
        "# Εφαρμογή 2.  Τοπολογική και σημασιολογική απεικόνιση της ταινιών με χρήση SOM\n",
        "<img src=\"https://drive.google.com/uc?export=download&id=1R1R7Ds9UEfhjOY_fk_3wcTjsM0rI4WLl\" width=\"60%\">"
      ]
    },
    {
      "cell_type": "markdown",
      "metadata": {
        "colab_type": "text",
        "id": "UB_clmizPSy-"
      },
      "source": [
        "## Δημιουργία dataset\n",
        "Στη δεύτερη εφαρμογή θα βασιστούμε στις τοπολογικές ιδιότητες των Self Organizing Maps (SOM) για να φτιάξουμε ενά χάρτη (grid) δύο διαστάσεων όπου θα απεικονίζονται όλες οι ταινίες της συλλογής της ομάδας με τρόπο χωρικά συνεκτικό ως προς το περιεχόμενο και κυρίως το είδος τους. \n",
        "\n",
        "Η `build_final_set` αρχικά μετατρέπει την αραιή αναπαράσταση tf-idf της εξόδου της `TfidfVectorizer()` σε πυκνή (η [αραιή αναπαράσταση](https://en.wikipedia.org/wiki/Sparse_matrix) έχει τιμές μόνο για τα μη μηδενικά στοιχεία). \n",
        "\n",
        "Στη συνέχεια ενώνει την πυκνή `dense_tf_idf` αναπαράσταση και τις binarized κατηγορίες `catbins` των ταινιών ως επιπλέον στήλες (χαρακτηριστικά). Συνεπώς, κάθε ταινία αναπαρίσταται στο Vector Space Model από τα χαρακτηριστικά του TFIDF και τις κατηγορίες της.\n",
        "\n",
        "Τέλος, δέχεται ένα ορισμα για το πόσες ταινίες να επιστρέψει, με default τιμή όλες τις ταινίες (5000). Αυτό είναι χρήσιμο για να μπορείτε αν θέλετε να φτιάχνετε μικρότερα σύνολα δεδομένων ώστε να εκπαιδεύεται ταχύτερα το SOM.\n",
        "\n",
        "Σημειώστε ότι το IBM Watson δείνει \"Kernel dead\" εάν δεν έχετε βελτιστοποιήσει το tfidf και μικρύνει τις διαστάσεις του dataset (πιθανότατα κάποια υπέρβαση μνήμης)."
      ]
    },
    {
      "cell_type": "code",
      "metadata": {
        "colab_type": "code",
        "id": "U-FDDOkQPSzA",
        "colab": {}
      },
      "source": [
        "def build_final_set(doc_limit = 5000, tf_idf_only=False):\n",
        "    # convert sparse tf_idf to dense tf_idf representation\n",
        "    dense_tf_idf = corpus_tf_idf.toarray()[0:doc_limit,:]\n",
        "    if tf_idf_only:\n",
        "        # use only tf_idf\n",
        "        final_set = dense_tf_idf\n",
        "    else:\n",
        "        # append the binary categories features horizontaly to the (dense) tf_idf features\n",
        "        final_set = np.hstack((dense_tf_idf, catbins[0:doc_limit,:]))\n",
        "        # η somoclu θέλει δεδομένα σε float32\n",
        "    return np.array(final_set, dtype=np.float32)"
      ],
      "execution_count": 0,
      "outputs": []
    },
    {
      "cell_type": "code",
      "metadata": {
        "colab_type": "code",
        "id": "aF1B62UbPSzF",
        "colab": {}
      },
      "source": [
        "final_set = build_final_set()"
      ],
      "execution_count": 0,
      "outputs": []
    },
    {
      "cell_type": "markdown",
      "metadata": {
        "colab_type": "text",
        "id": "KjvPPENS_dYL"
      },
      "source": [
        "Τυπώνουμε τις διαστάσεις του τελικού dataset μας. Χωρίς βελτιστοποίηση του TFIDF θα έχουμε περίπου 50.000 χαρακτηριστικά."
      ]
    },
    {
      "cell_type": "code",
      "metadata": {
        "colab_type": "code",
        "id": "fvEgNn-L-jEw",
        "outputId": "339c01f2-279e-499c-e5b1-369bde070d14",
        "colab": {
          "base_uri": "https://localhost:8080/",
          "height": 52
        }
      },
      "source": [
        "print(corpus_tf_idf.shape)\n",
        "print(final_set.shape)"
      ],
      "execution_count": 49,
      "outputs": [
        {
          "output_type": "stream",
          "text": [
            "(5000, 10549)\n",
            "(5000, 10871)\n"
          ],
          "name": "stdout"
        }
      ]
    },
    {
      "cell_type": "markdown",
      "metadata": {
        "id": "XYMvUSPTSZuf",
        "colab_type": "text"
      },
      "source": [
        "Τυπωνουμε τις (μη μηδενικες) τιμες ενος στοιχειου του final_set για να δουμε τι περιεχει. "
      ]
    },
    {
      "cell_type": "code",
      "metadata": {
        "id": "O7LMx2XgQaXc",
        "colab_type": "code",
        "outputId": "8ba86d69-675b-4705-b841-0137101371b3",
        "colab": {
          "base_uri": "https://localhost:8080/",
          "height": 225
        }
      },
      "source": [
        "for i in range(len(final_set[0])):\n",
        "    if final_set[0][i]!=0:\n",
        "        print(final_set[0][i])"
      ],
      "execution_count": 50,
      "outputs": [
        {
          "output_type": "stream",
          "text": [
            "0.27258533\n",
            "0.24095662\n",
            "0.27112398\n",
            "0.11362487\n",
            "0.37087595\n",
            "0.22564878\n",
            "0.20655349\n",
            "0.66298616\n",
            "0.1673673\n",
            "0.1528951\n",
            "0.24320422\n",
            "1.0\n"
          ],
          "name": "stdout"
        }
      ]
    },
    {
      "cell_type": "markdown",
      "metadata": {
        "colab_type": "text",
        "id": "Om7PoyDVCqis"
      },
      "source": [
        "Με βάση την εμπειρία σας στην προετοιμασία των δεδομένων στην επιβλεπόμενη μάθηση, υπάρχει κάποιο βήμα προεπεξεργασίας που θα μπορούσε να εφαρμοστεί σε αυτό το dataset; "
      ]
    },
    {
      "cell_type": "markdown",
      "metadata": {
        "id": "RDMMfo1kUmJO",
        "colab_type": "text"
      },
      "source": [
        "Θα μπορούσε να εφαρμοστεί PCA για την περαιτέρω μείωση της διαστατικότητας πριν εκπαιδεύσουμε τον χάρτη SOM. Στο πρώτο εργαστήριο η εφαρμογή PCA ήταν αυτή που βελτιώνε τα αποτελέσματα περισσότερο από όλες τις άλλες μεθόδους."
      ]
    },
    {
      "cell_type": "markdown",
      "metadata": {
        "colab_type": "text",
        "id": "8tikdip0PSzQ"
      },
      "source": [
        "## Εκπαίδευση χάρτη SOM\n",
        "\n",
        "\n",
        "\n",
        "\n",
        "Θα δουλέψουμε με τη βιβλιοθήκη SOM [\"Somoclu\"](http://somoclu.readthedocs.io/en/stable/index.html). Εισάγουμε τις somoclu και matplotlib και λέμε στη matplotlib να τυπώνει εντός του notebook (κι όχι σε pop up window)."
      ]
    },
    {
      "cell_type": "code",
      "metadata": {
        "colab_type": "code",
        "id": "oX9rzxGSPSzR",
        "outputId": "8f978a37-eb39-4d45-b126-2fbee654d790",
        "colab": {
          "base_uri": "https://localhost:8080/",
          "height": 347
        }
      },
      "source": [
        "# install somoclu\n",
        "!pip install --upgrade somoclu\n",
        "# import sompoclu, matplotlib\n",
        "import somoclu\n",
        "import matplotlib\n",
        "# we will plot inside the notebook and not in separate window\n",
        "%matplotlib inline"
      ],
      "execution_count": 53,
      "outputs": [
        {
          "output_type": "stream",
          "text": [
            "Collecting somoclu\n",
            "  Downloading somoclu-1.7.5.tar.gz (6.1 MB)\n",
            "\u001b[K     |████████████████████████████████| 6.1 MB 8.6 MB/s \n",
            "\u001b[?25hRequirement already satisfied, skipping upgrade: numpy in /usr/local/lib/python3.6/dist-packages (from somoclu) (1.18.1)\n",
            "Requirement already satisfied, skipping upgrade: matplotlib in /usr/local/lib/python3.6/dist-packages (from somoclu) (3.1.2)\n",
            "Requirement already satisfied, skipping upgrade: scipy in /usr/local/lib/python3.6/dist-packages (from somoclu) (1.4.1)\n",
            "Requirement already satisfied, skipping upgrade: python-dateutil>=2.1 in /usr/local/lib/python3.6/dist-packages (from matplotlib->somoclu) (2.6.1)\n",
            "Requirement already satisfied, skipping upgrade: cycler>=0.10 in /usr/local/lib/python3.6/dist-packages (from matplotlib->somoclu) (0.10.0)\n",
            "Requirement already satisfied, skipping upgrade: pyparsing!=2.0.4,!=2.1.2,!=2.1.6,>=2.0.1 in /usr/local/lib/python3.6/dist-packages (from matplotlib->somoclu) (2.4.6)\n",
            "Requirement already satisfied, skipping upgrade: kiwisolver>=1.0.1 in /usr/local/lib/python3.6/dist-packages (from matplotlib->somoclu) (1.1.0)\n",
            "Requirement already satisfied, skipping upgrade: six>=1.5 in /usr/local/lib/python3.6/dist-packages (from python-dateutil>=2.1->matplotlib->somoclu) (1.12.0)\n",
            "Requirement already satisfied, skipping upgrade: setuptools in /usr/local/lib/python3.6/dist-packages (from kiwisolver>=1.0.1->matplotlib->somoclu) (42.0.2)\n",
            "Building wheels for collected packages: somoclu\n",
            "  Building wheel for somoclu (setup.py) ... \u001b[?25l\u001b[?25hdone\n",
            "  Created wheel for somoclu: filename=somoclu-1.7.5-cp36-cp36m-linux_x86_64.whl size=419255 sha256=c7780143aa01bdbb4611f97e97ebb1895344c2b0ebd60f617600e809736c10df\n",
            "  Stored in directory: /root/.cache/pip/wheels/9f/f0/00/215f76b550c8f69ace8bea4828c7823b43552e10ba9b4a16f2\n",
            "Successfully built somoclu\n",
            "Installing collected packages: somoclu\n",
            "Successfully installed somoclu-1.7.5\n"
          ],
          "name": "stdout"
        }
      ]
    },
    {
      "cell_type": "markdown",
      "metadata": {
        "colab_type": "text",
        "id": "EqBfn0ijPSzX"
      },
      "source": [
        "Καταρχάς διαβάστε το [function reference](http://somoclu.readthedocs.io/en/stable/reference.html) του somoclu. Θα δoυλέψουμε με χάρτη τύπου planar, παραλληλόγραμμου σχήματος νευρώνων με τυχαία αρχικοποίηση (όλα αυτά είναι default). Μπορείτε να δοκιμάσετε διάφορα μεγέθη χάρτη ωστόσο όσο ο αριθμός των νευρώνων μεγαλώνει, μεγαλώνει και ο χρόνος εκπαίδευσης. Για το training δεν χρειάζεται να ξεπεράσετε τα 100 epochs. Σε γενικές γραμμές μπορούμε να βασιστούμε στις default παραμέτρους μέχρι να έχουμε τη δυνατότητα να οπτικοποιήσουμε και να αναλύσουμε ποιοτικά τα αποτελέσματα. Ξεκινήστε με ένα χάρτη 10 x 10, 100 epochs training και ένα υποσύνολο των ταινιών (π.χ. 2000). Χρησιμοποιήστε την `time` για να έχετε μια εικόνα των χρόνων εκπαίδευσης. Ενδεικτικά, με σωστή κωδικοποίηση tf-idf, μικροί χάρτες για λίγα δεδομένα (1000-2000) παίρνουν γύρω στο ένα λεπτό ενώ μεγαλύτεροι χάρτες με όλα τα δεδομένα μπορούν να πάρουν 10-15 λεπτά ή και περισσότερο.\n"
      ]
    },
    {
      "cell_type": "markdown",
      "metadata": {
        "id": "eoI0kS7kS4yQ",
        "colab_type": "text"
      },
      "source": [
        "Αρχικα οριζουμε τις διαστασεις του SOM για να τις εχουμε ευκαιρες, και οριζουμε το ονομα του αρχειου που ειτε θα αποθηκευσουμε στην συνεχεια η (στους υπολογιστες μας) θα φορτωσουμε για να μην κανουμε την εκπαιδευση του δικτυου."
      ]
    },
    {
      "cell_type": "code",
      "metadata": {
        "id": "7rPcBRCzrQ4X",
        "colab_type": "code",
        "colab": {}
      },
      "source": [
        "n_rows, n_columns = 20,20\n",
        "som = somoclu.Somoclu(n_columns, n_rows, compactsupport=False)\n",
        "epochs = 100\n",
        "filename = 'som' + str(n_rows) + 'x' + str(n_columns) + '@' + str(epochs) + 'e.pkl'"
      ],
      "execution_count": 0,
      "outputs": []
    },
    {
      "cell_type": "code",
      "metadata": {
        "id": "PXlYsQn_mywd",
        "colab_type": "code",
        "colab": {}
      },
      "source": [
        "#don't execute this cell unless the som is already loaded!\n",
        "#execute cell below to train from scratch the SOM!\n",
        "som = joblib.load(filename)"
      ],
      "execution_count": 0,
      "outputs": []
    },
    {
      "cell_type": "code",
      "metadata": {
        "id": "brPEza_bm9dy",
        "colab_type": "code",
        "colab": {}
      },
      "source": [
        "%time som.train(final_set, epochs=epochs)"
      ],
      "execution_count": 0,
      "outputs": []
    },
    {
      "cell_type": "markdown",
      "metadata": {
        "colab_type": "text",
        "id": "ntd2GE9SaHiS"
      },
      "source": [
        "\n",
        "## Best matching units\n",
        "\n",
        "Μετά από κάθε εκπαίδευση αποθηκεύστε σε μια μεταβλητή τα best matching units (bmus) για κάθε ταινία. Τα bmus μας δείχνουν σε ποιο νευρώνα ανήκει η κάθε ταινία. Προσοχή: η σύμβαση των συντεταγμένων των νευρώνων είναι (στήλη, γραμμή) δηλαδή το ανάποδο από την Python. Με χρήση της [np.unique](https://docs.scipy.org/doc/numpy-1.13.0/reference/generated/numpy.unique.html) (μια πολύ χρήσιμη συνάρτηση στην άσκηση) αποθηκεύστε τα μοναδικά best matching units και τους δείκτες τους (indices) προς τις ταινίες. Σημειώστε ότι μπορεί να έχετε λιγότερα μοναδικά bmus από αριθμό νευρώνων γιατί μπορεί σε κάποιους νευρώνες να μην έχουν ανατεθεί ταινίες. Ως αριθμό νευρώνα θα θεωρήσουμε τον αριθμό γραμμής στον πίνακα μοναδικών bmus.\n"
      ]
    },
    {
      "cell_type": "markdown",
      "metadata": {
        "id": "l6a77LRoTqOX",
        "colab_type": "text"
      },
      "source": [
        "Για να καταλαβουμε την φυση των δεδομενων, τυπωνουμε αρχικα τις διαστασεις του πινακα με τα bmus, και ενδεικτικα καποια απο αυτα για να δουμε τι συμβαινει:"
      ]
    },
    {
      "cell_type": "code",
      "metadata": {
        "id": "FJ8NlVPPrdqJ",
        "colab_type": "code",
        "outputId": "8ab53722-c675-4a1c-8f93-c08f623ce870",
        "colab": {
          "base_uri": "https://localhost:8080/",
          "height": 156
        }
      },
      "source": [
        "bmus = som.bmus\n",
        "print(bmus.shape)\n",
        "print(bmus)\n",
        "ubmus, indices = np.unique(bmus, return_inverse=True, axis=0)\n",
        "# το return_inverse επιστρέφει και τους δείκτες indices"
      ],
      "execution_count": 69,
      "outputs": [
        {
          "output_type": "stream",
          "text": [
            "(5000, 2)\n",
            "[[ 3 13]\n",
            " [16 12]\n",
            " [10 17]\n",
            " ...\n",
            " [17  0]\n",
            " [19 17]\n",
            " [16 10]]\n"
          ],
          "name": "stdout"
        }
      ]
    },
    {
      "cell_type": "markdown",
      "metadata": {
        "id": "0qwTufrHT1MR",
        "colab_type": "text"
      },
      "source": [
        "Επιπλεον, τυπωνουμε τα ιδια για τα ubmus. Παρατηρουμε οτι δεν υπαρχουν ολοι οι νευρωνες, δηλαδη σε καποιους νευρωνες δεν εχουν ανατεθει ταινιες (π.χ. ο νευρωνας (1,5))."
      ]
    },
    {
      "cell_type": "code",
      "metadata": {
        "id": "9FTKIdnS6jPx",
        "colab_type": "code",
        "outputId": "b012c305-ada4-4825-9af6-a4b17cf106b6",
        "colab": {
          "base_uri": "https://localhost:8080/",
          "height": 1000
        }
      },
      "source": [
        "print(ubmus[100:].shape)\n",
        "print(ubmus[100:])"
      ],
      "execution_count": 136,
      "outputs": [
        {
          "output_type": "stream",
          "text": [
            "(232, 2)\n",
            "[[ 5 16]\n",
            " [ 5 18]\n",
            " [ 5 19]\n",
            " [ 6  0]\n",
            " [ 6  1]\n",
            " [ 6  2]\n",
            " [ 6  3]\n",
            " [ 6  4]\n",
            " [ 6  6]\n",
            " [ 6 10]\n",
            " [ 6 12]\n",
            " [ 6 13]\n",
            " [ 6 14]\n",
            " [ 6 17]\n",
            " [ 6 18]\n",
            " [ 6 19]\n",
            " [ 7  0]\n",
            " [ 7  1]\n",
            " [ 7  2]\n",
            " [ 7  3]\n",
            " [ 7  5]\n",
            " [ 7  7]\n",
            " [ 7  8]\n",
            " [ 7  9]\n",
            " [ 7 10]\n",
            " [ 7 11]\n",
            " [ 7 13]\n",
            " [ 7 14]\n",
            " [ 7 15]\n",
            " [ 7 16]\n",
            " [ 7 17]\n",
            " [ 7 18]\n",
            " [ 7 19]\n",
            " [ 8  0]\n",
            " [ 8  1]\n",
            " [ 8  3]\n",
            " [ 8  5]\n",
            " [ 8  7]\n",
            " [ 8  8]\n",
            " [ 8 10]\n",
            " [ 8 11]\n",
            " [ 8 12]\n",
            " [ 8 13]\n",
            " [ 8 14]\n",
            " [ 8 15]\n",
            " [ 8 16]\n",
            " [ 8 17]\n",
            " [ 8 18]\n",
            " [ 8 19]\n",
            " [ 9  0]\n",
            " [ 9  1]\n",
            " [ 9  2]\n",
            " [ 9  3]\n",
            " [ 9  5]\n",
            " [ 9  7]\n",
            " [ 9  8]\n",
            " [ 9 10]\n",
            " [ 9 11]\n",
            " [ 9 12]\n",
            " [ 9 15]\n",
            " [ 9 16]\n",
            " [ 9 18]\n",
            " [ 9 19]\n",
            " [10  0]\n",
            " [10  2]\n",
            " [10  4]\n",
            " [10  7]\n",
            " [10  8]\n",
            " [10  9]\n",
            " [10 10]\n",
            " [10 11]\n",
            " [10 13]\n",
            " [10 14]\n",
            " [10 15]\n",
            " [10 16]\n",
            " [10 17]\n",
            " [10 18]\n",
            " [10 19]\n",
            " [11  0]\n",
            " [11  1]\n",
            " [11  2]\n",
            " [11  3]\n",
            " [11  5]\n",
            " [11  7]\n",
            " [11  9]\n",
            " [11 10]\n",
            " [11 12]\n",
            " [11 13]\n",
            " [11 14]\n",
            " [11 15]\n",
            " [11 16]\n",
            " [11 17]\n",
            " [11 18]\n",
            " [11 19]\n",
            " [12  0]\n",
            " [12  1]\n",
            " [12  2]\n",
            " [12  5]\n",
            " [12  6]\n",
            " [12  7]\n",
            " [12  8]\n",
            " [12  9]\n",
            " [12 10]\n",
            " [12 12]\n",
            " [12 14]\n",
            " [12 16]\n",
            " [12 17]\n",
            " [12 18]\n",
            " [12 19]\n",
            " [13  0]\n",
            " [13  1]\n",
            " [13  2]\n",
            " [13  3]\n",
            " [13  5]\n",
            " [13  6]\n",
            " [13  7]\n",
            " [13  8]\n",
            " [13 10]\n",
            " [13 11]\n",
            " [13 13]\n",
            " [13 15]\n",
            " [13 16]\n",
            " [13 17]\n",
            " [13 18]\n",
            " [13 19]\n",
            " [14  0]\n",
            " [14  1]\n",
            " [14  2]\n",
            " [14  3]\n",
            " [14  4]\n",
            " [14  5]\n",
            " [14  6]\n",
            " [14  7]\n",
            " [14  8]\n",
            " [14  9]\n",
            " [14 10]\n",
            " [14 12]\n",
            " [14 13]\n",
            " [14 14]\n",
            " [14 15]\n",
            " [14 16]\n",
            " [14 17]\n",
            " [14 18]\n",
            " [14 19]\n",
            " [15  0]\n",
            " [15  1]\n",
            " [15  2]\n",
            " [15  3]\n",
            " [15  4]\n",
            " [15  5]\n",
            " [15  6]\n",
            " [15  7]\n",
            " [15  9]\n",
            " [15 10]\n",
            " [15 13]\n",
            " [15 14]\n",
            " [15 15]\n",
            " [15 16]\n",
            " [15 17]\n",
            " [15 19]\n",
            " [16  0]\n",
            " [16  1]\n",
            " [16  2]\n",
            " [16  3]\n",
            " [16  4]\n",
            " [16  5]\n",
            " [16  6]\n",
            " [16  7]\n",
            " [16  8]\n",
            " [16  9]\n",
            " [16 10]\n",
            " [16 11]\n",
            " [16 12]\n",
            " [16 14]\n",
            " [16 15]\n",
            " [16 16]\n",
            " [16 17]\n",
            " [16 18]\n",
            " [16 19]\n",
            " [17  0]\n",
            " [17  1]\n",
            " [17  2]\n",
            " [17  3]\n",
            " [17  4]\n",
            " [17  5]\n",
            " [17  6]\n",
            " [17  8]\n",
            " [17 10]\n",
            " [17 11]\n",
            " [17 12]\n",
            " [17 13]\n",
            " [17 15]\n",
            " [17 16]\n",
            " [17 17]\n",
            " [17 18]\n",
            " [17 19]\n",
            " [18  0]\n",
            " [18  1]\n",
            " [18  2]\n",
            " [18  3]\n",
            " [18  4]\n",
            " [18  5]\n",
            " [18  6]\n",
            " [18  7]\n",
            " [18  8]\n",
            " [18 10]\n",
            " [18 11]\n",
            " [18 12]\n",
            " [18 14]\n",
            " [18 15]\n",
            " [18 16]\n",
            " [18 17]\n",
            " [18 19]\n",
            " [19  0]\n",
            " [19  1]\n",
            " [19  2]\n",
            " [19  3]\n",
            " [19  4]\n",
            " [19  5]\n",
            " [19  6]\n",
            " [19  7]\n",
            " [19  8]\n",
            " [19 10]\n",
            " [19 11]\n",
            " [19 12]\n",
            " [19 13]\n",
            " [19 14]\n",
            " [19 15]\n",
            " [19 16]\n",
            " [19 17]\n",
            " [19 18]\n",
            " [19 19]]\n"
          ],
          "name": "stdout"
        }
      ]
    },
    {
      "cell_type": "code",
      "metadata": {
        "id": "DxIDaMmp8kIA",
        "colab_type": "code",
        "outputId": "54fd7eca-3ba1-45ff-a986-bffb0b90bbcd",
        "colab": {
          "base_uri": "https://localhost:8080/",
          "height": 52
        }
      },
      "source": [
        "print(len(indices))\n",
        "print(indices)"
      ],
      "execution_count": 137,
      "outputs": [
        {
          "output_type": "stream",
          "text": [
            "5000\n",
            "[ 65 272 175 ... 279 329 270]\n"
          ],
          "name": "stdout"
        }
      ]
    },
    {
      "cell_type": "markdown",
      "metadata": {
        "id": "54GOvRg5UFJ2",
        "colab_type": "text"
      },
      "source": [
        "Κανουμε χρηση της np.where για να δουμε την μορφη εξοδου, αλλα και για να δουμε οτι ολα δουλευουν σωστα."
      ]
    },
    {
      "cell_type": "code",
      "metadata": {
        "id": "5aw5gHsi-Xw1",
        "colab_type": "code",
        "outputId": "36c74c3d-8b21-4688-dc1a-00513f59c20d",
        "colab": {
          "base_uri": "https://localhost:8080/",
          "height": 121
        }
      },
      "source": [
        "print(np.where(indices==0))"
      ],
      "execution_count": 72,
      "outputs": [
        {
          "output_type": "stream",
          "text": [
            "(array([ 130,  226,  320,  330,  593,  596,  618,  676,  966, 1080, 1276,\n",
            "       1366, 1398, 1407, 1448, 1457, 1464, 1584, 1585, 1662, 1977, 2034,\n",
            "       2281, 2380, 2507, 2526, 2732, 2744, 2876, 2889, 2986, 3022, 3048,\n",
            "       3248, 3276, 3438, 3451, 3562, 3565, 3652, 3658, 3666, 3685, 3823,\n",
            "       4101, 4116, 4265, 4347, 4351, 4352, 4466, 4609, 4641, 4710, 4724,\n",
            "       4733, 4887, 4927]),)\n"
          ],
          "name": "stdout"
        }
      ]
    },
    {
      "cell_type": "markdown",
      "metadata": {
        "colab_type": "text",
        "id": "grzqcyHyaKdg"
      },
      "source": [
        "\n",
        "## Ομαδοποίηση (clustering)\n",
        "\n",
        "Τυπικά, η ομαδοποίηση σε ένα χάρτη SOM προκύπτει από το unified distance matrix (U-matrix): για κάθε κόμβο υπολογίζεται η μέση απόστασή του από τους γειτονικούς κόμβους. Εάν χρησιμοποιηθεί μπλε χρώμα στις περιοχές του χάρτη όπου η τιμή αυτή είναι χαμηλή (μικρή απόσταση) και κόκκινο εκεί που η τιμή είναι υψηλή (μεγάλη απόσταση), τότε μπορούμε να πούμε ότι οι μπλε περιοχές αποτελούν clusters και οι κόκκινες αποτελούν σύνορα μεταξύ clusters.\n",
        "\n",
        "To somoclu δίνει την επιπρόσθετη δυνατότητα να κάνουμε ομαδοποίηση των νευρώνων χρησιμοποιώντας οποιονδήποτε αλγόριθμο ομαδοποίησης του scikit-learn. Στην άσκηση θα χρησιμοποιήσουμε τον k-Means. Για τον αρχικό σας χάρτη δοκιμάστε ένα k=20 ή 25. Οι δύο προσεγγίσεις ομαδοποίησης είναι διαφορετικές, οπότε περιμένουμε τα αποτελέσματα να είναι κοντά αλλά όχι τα ίδια.\n"
      ]
    },
    {
      "cell_type": "markdown",
      "metadata": {
        "id": "jTuOZAy4gMdf",
        "colab_type": "text"
      },
      "source": [
        "Καναμε δοκιμες για τον αριθμο των clusters, και δουλεψαμε με 15, 20, 25 και 30. Βρηκαμε οτι οσο μεγαλωνε το K, τα clusters ηταν πιο διακριτα στις κατηγοριες που περιειχαν (πραγμα εξαιρετικα φυσιολογικο, καθως μικρα Κ τεινουν να μην σεβονται υποκατηγοριες). Ακομα, δεν παρατηρηθηκε καποια αισθητη διαφορα μεταξυ Κ=25 και Κ=30, και επιλεξαμε Κ = 25 καθως θεωρησαμε οτι τα clusters δεν πρεπει να ειναι παρα πολλα, καθως μπορει το νοημα να χαθει και να αναλυουμε λεπτομερειες. Θεωρητικα,θα επρεπε να εχουμε κανει καποια αναλυση με βαση καποιο κριτηριο για την επιλογη του Κ, αλλα αυτο ας αφεθει για καποια αλλη εργασια. "
      ]
    },
    {
      "cell_type": "code",
      "metadata": {
        "id": "KTcCRKnM3X7V",
        "colab_type": "code",
        "colab": {}
      },
      "source": [
        "from sklearn.cluster import KMeans\n",
        "n_cluster = 25\n",
        "algorithm = KMeans(n_clusters=n_cluster)\n",
        "som.cluster(algorithm=algorithm)"
      ],
      "execution_count": 0,
      "outputs": []
    },
    {
      "cell_type": "markdown",
      "metadata": {
        "colab_type": "text",
        "id": "2nupuqcuaMe3"
      },
      "source": [
        "\n",
        "## Αποθήκευση του SOM\n",
        "\n",
        "Επειδή η αρχικοποίηση του SOM γίνεται τυχαία και το clustering είναι και αυτό στοχαστική διαδικασία, οι θέσεις και οι ετικέτες των νευρώνων και των clusters θα είναι διαφορετικές κάθε φορά που τρέχετε τον χάρτη, ακόμα και με τις ίδιες παραμέτρους. Για να αποθηκεύσετε ένα συγκεκριμένο som και clustering χρησιμοποιήστε και πάλι την `joblib`. Μετά την ανάκληση ενός SOM θυμηθείτε να ακολουθήσετε τη διαδικασία για τα bmus.\n"
      ]
    },
    {
      "cell_type": "code",
      "metadata": {
        "id": "iRJ_KjhRsG20",
        "colab_type": "code",
        "outputId": "da795571-7b67-4511-8bbf-42190141c463",
        "colab": {
          "base_uri": "https://localhost:8080/",
          "height": 34
        }
      },
      "source": [
        "filename = 'som' + str(n_rows) + 'x' + str(n_columns) + '@' + str(epochs) + 'e.pkl'\n",
        "joblib.dump(som, filename, compress = True)"
      ],
      "execution_count": 0,
      "outputs": [
        {
          "output_type": "execute_result",
          "data": {
            "text/plain": [
              "['som20x20@100e.pkl']"
            ]
          },
          "metadata": {
            "tags": []
          },
          "execution_count": 55
        }
      ]
    },
    {
      "cell_type": "markdown",
      "metadata": {
        "colab_type": "text",
        "id": "ejX0Qs18aRHU"
      },
      "source": [
        "\n",
        "## Οπτικοποίηση U-matrix, clustering και μέγεθος clusters\n",
        "\n",
        "Για την εκτύπωση του U-matrix χρησιμοποιήστε τη `view_umatrix` με ορίσματα `bestmatches=True` και `figsize=(15, 15)` ή `figsize=(20, 20)`. Τα διαφορετικά χρώματα που εμφανίζονται στους κόμβους αντιπροσωπεύουν τα διαφορετικά clusters που προκύπτουν από τον k-Means. Μπορείτε να εμφανίσετε τη λεζάντα του U-matrix με το όρισμα `colorbar`. Μην τυπώνετε τις ετικέτες (labels) των δειγμάτων, είναι πολύ μεγάλος ο αριθμός τους.\n",
        "\n",
        "Για μια δεύτερη πιο ξεκάθαρη οπτικοποίηση του clustering τυπώστε απευθείας τη μεταβλητή `clusters`.\n",
        "\n",
        "Τέλος, χρησιμοποιώντας πάλι την `np.unique` (με διαφορετικό όρισμα) και την `np.argsort` (υπάρχουν και άλλοι τρόποι υλοποίησης) εκτυπώστε τις ετικέτες των clusters (αριθμοί από 0 έως k-1) και τον αριθμό των νευρώνων σε κάθε cluster, με φθίνουσα ή αύξουσα σειρά ως προς τον αριθμό των νευρώνων. Ουσιαστικά είναι ένα εργαλείο για να βρίσκετε εύκολα τα μεγάλα και μικρά clusters. \n",
        "\n",
        "Ακολουθεί ένα μη βελτιστοποιημένο παράδειγμα για τις τρεις προηγούμενες εξόδους:\n",
        "\n",
        "<img src=\"https://image.ibb.co/i0tsfR/umatrix_s.jpg\" width=\"35%\">\n",
        "<img src=\"https://image.ibb.co/nLgHEm/clusters.png\" width=\"35%\">\n",
        "\n"
      ]
    },
    {
      "cell_type": "markdown",
      "metadata": {
        "id": "B90ELgzBV0Qr",
        "colab_type": "text"
      },
      "source": [
        "Χρησιμοποιουμε τις παραπανω πληροφοριες για να τυπωσουμε το heatmap και τους πινακες ετσι ωστε να εχουμε μια καλυτερη εικονα."
      ]
    },
    {
      "cell_type": "code",
      "metadata": {
        "id": "OSwTpJm_rXaj",
        "colab_type": "code",
        "outputId": "4ff4ddd7-6b2a-4c28-a7e9-c27583c5cc61",
        "colab": {
          "base_uri": "https://localhost:8080/",
          "height": 1000
        }
      },
      "source": [
        "som.view_umatrix(bestmatches=True, colorbar=True, figsize=(15,15))\n",
        "print(som.clusters)\n",
        "_ , no_of_neurons = np.unique(som.clusters, return_counts=True)\n",
        "cluster_index = np.argsort(no_of_neurons)\n",
        "print(\"Cluster Index:\")\n",
        "print(cluster_index)\n",
        "print(\"Number of Neurons:\")\n",
        "print(no_of_neurons[cluster_index])"
      ],
      "execution_count": 103,
      "outputs": [
        {
          "output_type": "display_data",
          "data": {
            "image/png": "[encoded data removed]",
            "text/plain": [
              "<Figure size 1080x1080 with 2 Axes>"
            ]
          },
          "metadata": {
            "tags": []
          }
        },
        {
          "output_type": "stream",
          "text": [
            "[[17 17  3  3 19  3  3  3  3 24  3 13 13 13 13  5 20 20 20 20]\n",
            " [16 16 16  3  3  3  3  3 24 24 24 13 13 13 13 20 20 20 20 20]\n",
            " [16 16 16  3  3  3  3  3  3 24 24 13 13 13 13 20 20 20 20  5]\n",
            " [16 16 16  3  3  3  3  3  3  3 13 13 13 13 13 20 20 20  5  5]\n",
            " [16 16 17 17 18 18  3  3  3 13 13 13  0  9  9  9 20  5  5  5]\n",
            " [17 17 17 17 18 18 18 18  6  6 13  0  0  9  9  9  9 21  5  5]\n",
            " [17 17 17 17 18 18 18 18  6  6  6  0  0  0  9  9 21 21 21 21]\n",
            " [17 17 17  4  4 18 18 15  6  6  6  0  0  0  9  9 21 21 21 21]\n",
            " [19 19  4  4  4  4 15 15 15  6  6  6  0  0  0 21 21 21 21 21]\n",
            " [19 19 22  4  4  4 15 15 15  6  6  6  1  1  1  1 21 21 21 21]\n",
            " [22 22 22 22  4  4 15 15  6  6  6  6  1  1  1  1 14 14 14 14]\n",
            " [22 22 22 22 11  6  6 15  6  6  6  6  1  1  1 14 14 14 14 14]\n",
            " [22 22 22 11 11  8  8  6  6  6  6  6  6 14 14 14 14 14 14 14]\n",
            " [11 11 11 11 11  8  8  8  6  6  6  6  6 14 14 14 14 14 14 14]\n",
            " [11 11 11 11 11  8  8  8 23 23  6  6  6 14 14 14 14 14 14 14]\n",
            " [11 11 11 12 12 23  8 23 23 23  6  2  2  6 14 14 14 14 14 14]\n",
            " [12 12 12 12 23 23 23 23 23 23 10  2  2  2  2 14 14 14 14 14]\n",
            " [12 12 12 12  7 23 23 23 23 10 10  2  2  2  2  2 14 14 14 14]\n",
            " [12 12 12  7  7  7  7 23 10 10 10 10  2  2  2  2 14 14 14 14]\n",
            " [12 12 12  7  7  7  7 10 10 10 10 10  2  2  2  2 15 15 14 14]]\n",
            "Cluster Index:\n",
            "[19 24  5  7  8  1  4  9 16 22 18 15  0 10 17 11 12 20 23 21  2 13  3  6\n",
            " 14]\n",
            "Number of Neurons:\n",
            "[ 5  6  9  9  9 11 11 11 11 12 12 12 12 12 15 16 16 17 17 18 19 21 28 40\n",
            " 51]\n"
          ],
          "name": "stdout"
        }
      ]
    },
    {
      "cell_type": "markdown",
      "metadata": {
        "colab_type": "text",
        "id": "fMO_KcQYaTv-"
      },
      "source": [
        "\n",
        "## Σημασιολογική ερμηνεία των clusters\n",
        "\n",
        "Προκειμένου να μελετήσουμε τις τοπολογικές ιδιότητες του SOM και το αν έχουν ενσωματώσει σημασιολογική πληροφορία για τις ταινίες διαμέσου της διανυσματικής αναπαράστασης με το tf-idf και των κατηγοριών, χρειαζόμαστε ένα κριτήριο ποιοτικής επισκόπησης των clusters. Θα υλοποιήσουμε το εξής κριτήριο: Λαμβάνουμε όρισμα έναν αριθμό (ετικέτα) cluster. Για το cluster αυτό βρίσκουμε όλους τους νευρώνες που του έχουν ανατεθεί από τον k-Means. Για όλους τους νευρώνες αυτούς βρίσκουμε όλες τις ταινίες που τους έχουν ανατεθεί (για τις οποίες αποτελούν bmus). Για όλες αυτές τις ταινίες τυπώνουμε ταξινομημένη τη συνολική στατιστική όλων των ειδών (κατηγοριών) και τις συχνότητές τους. Αν το cluster διαθέτει καλή συνοχή και εξειδίκευση, θα πρέπει κάποιες κατηγορίες να έχουν σαφώς μεγαλύτερη συχνότητα από τις υπόλοιπες. Θα μπορούμε τότε να αναθέσουμε αυτήν/ές την/τις κατηγορία/ες ως ετικέτες κινηματογραφικού είδους στο cluster.\n",
        "\n",
        "Μπορείτε να υλοποιήσετε τη συνάρτηση αυτή όπως θέλετε. Μια πιθανή διαδικασία θα μπορούσε να είναι η ακόλουθη:\n",
        "\n",
        "1. Ορίζουμε συνάρτηση `print_categories_stats` που δέχεται ως είσοδο λίστα με ids ταινιών. Δημιουργούμε μια κενή λίστα συνολικών κατηγοριών. Στη συνέχεια, για κάθε ταινία επεξεργαζόμαστε το string `categories` ως εξής: δημιουργούμε μια λίστα διαχωρίζοντας το string κατάλληλα με την `split` και αφαιρούμε τα whitespaces μεταξύ ετικετών με την `strip`. Προσθέτουμε τη λίστα αυτή στη συνολική λίστα κατηγοριών με την `extend`. Τέλος χρησιμοποιούμε πάλι την `np.unique` για να μετρήσουμε συχνότητα μοναδικών ετικετών κατηγοριών και ταξινομούμε με την `np.argsort`. Τυπώνουμε τις κατηγορίες και τις συχνότητες εμφάνισης ταξινομημένα. Χρήσιμες μπορεί να σας φανούν και οι `np.ravel`, `np.nditer`, `np.array2string` και `zip`.\n",
        "\n",
        "2. Ορίζουμε τη βασική μας συνάρτηση `print_cluster_neurons_movies_report` που δέχεται ως όρισμα τον αριθμό ενός cluster. Με τη χρήση της `np.where` μπορούμε να βρούμε τις συντεταγμένες των bmus που αντιστοιχούν στο cluster και με την `column_stack` να φτιάξουμε έναν πίνακα bmus για το cluster. Προσοχή στη σειρά (στήλη - σειρά) στον πίνακα bmus. Για κάθε bmu αυτού του πίνακα ελέγχουμε αν υπάρχει στον πίνακα μοναδικών bmus που έχουμε υπολογίσει στην αρχή συνολικά και αν ναι προσθέτουμε το αντίστοιχο index του νευρώνα σε μια λίστα. Χρήσιμες μπορεί να είναι και οι `np.rollaxis`, `np.append`, `np.asscalar`. Επίσης πιθανώς να πρέπει να υλοποιήσετε ένα κριτήριο ομοιότητας μεταξύ ενός bmu και ενός μοναδικού bmu από τον αρχικό πίνακα bmus.\n",
        "\n",
        "3. Υλοποιούμε μια βοηθητική συνάρτηση `neuron_movies_report`. Λαμβάνει ένα σύνολο νευρώνων από την `print_cluster_neurons_movies_report` και μέσω της `indices` φτιάχνει μια λίστα με το σύνολο ταινιών που ανήκουν σε αυτούς τους νευρώνες. Στο τέλος καλεί με αυτή τη λίστα την `print_categories_stats` που τυπώνει τις στατιστικές των κατηγοριών.\n",
        "\n",
        "Μπορείτε βέβαια να προσθέσετε οποιαδήποτε επιπλέον έξοδο σας βοηθάει. Μια χρήσιμη έξοδος είναι πόσοι νευρώνες ανήκουν στο cluster και σε πόσους και ποιους από αυτούς έχουν ανατεθεί ταινίες.\n",
        "\n",
        "Θα επιτελούμε τη σημασιολογική ερμηνεία του χάρτη καλώντας την `print_cluster_neurons_movies_report` με τον αριθμός ενός cluster που μας ενδιαφέρει. \n",
        "\n",
        "Παράδειγμα εξόδου για ένα cluster (μη βελτιστοποιημένος χάρτης, ωστόσο βλέπετε ότι οι μεγάλες κατηγορίες έχουν σημασιολογική  συνάφεια):\n",
        "\n",
        "```\n",
        "Overall Cluster Genres stats:  \n",
        "[('\"Horror\"', 86), ('\"Science Fiction\"', 24), ('\"B-movie\"', 16), ('\"Monster movie\"', 10), ('\"Creature Film\"', 10), ('\"Indie\"', 9), ('\"Zombie Film\"', 9), ('\"Slasher\"', 8), ('\"World cinema\"', 8), ('\"Sci-Fi Horror\"', 7), ('\"Natural horror films\"', 6), ('\"Supernatural\"', 6), ('\"Thriller\"', 6), ('\"Cult\"', 5), ('\"Black-and-white\"', 5), ('\"Japanese Movies\"', 4), ('\"Short Film\"', 3), ('\"Drama\"', 3), ('\"Psychological thriller\"', 3), ('\"Crime Fiction\"', 3), ('\"Monster\"', 3), ('\"Comedy\"', 2), ('\"Western\"', 2), ('\"Horror Comedy\"', 2), ('\"Archaeology\"', 2), ('\"Alien Film\"', 2), ('\"Teen\"', 2), ('\"Mystery\"', 2), ('\"Adventure\"', 2), ('\"Comedy film\"', 2), ('\"Combat Films\"', 1), ('\"Chinese Movies\"', 1), ('\"Action/Adventure\"', 1), ('\"Gothic Film\"', 1), ('\"Costume drama\"', 1), ('\"Disaster\"', 1), ('\"Docudrama\"', 1), ('\"Film adaptation\"', 1), ('\"Film noir\"', 1), ('\"Parody\"', 1), ('\"Period piece\"', 1), ('\"Action\"', 1)]```\n",
        "   "
      ]
    },
    {
      "cell_type": "markdown",
      "metadata": {
        "id": "sTUKh9MaZXS8",
        "colab_type": "text"
      },
      "source": [
        "Αρχικα ορισαμε την πρωτη συναρτηση, η οποια παιρνει μια λιστα με ταινιες (list of ints) και τυπωνει τον αριθμο των μοναδικων κατηγοριων (κατηγοριες που εμφανιζονται στην λιστα αυτη με τις ταινιες), καθως και για την καθε κατηγορια τον αριθμο των ταινιων που εχουν σαν κατηγορια αυτην. "
      ]
    },
    {
      "cell_type": "code",
      "metadata": {
        "id": "Dthic8V-EATk",
        "colab_type": "code",
        "colab": {}
      },
      "source": [
        "#Imported counter to count unique categories\n",
        "from collections import Counter\n",
        "#Imported operator to have a rule of ordering based on the second item of a tuple\n",
        "import operator\n",
        "\n",
        "def print_categories_stats(movie_list):\n",
        "    \n",
        "    #create the empty list\n",
        "    total_categories = []\n",
        "    \n",
        "    for movie in movie_list:\n",
        "    \n",
        "        #take the categories of the string (its a list of one string, so take the first element)\n",
        "        cats = categories[movie][0]\n",
        "        #split on comma\n",
        "        cats = cats.split(',')\n",
        "    \n",
        "        for cat in cats:\n",
        "            #strip of extra spaces\n",
        "            cat = cat.strip(' ')\n",
        "            #strip of quotes\n",
        "            cat = cat.strip('\"')\n",
        "            #put it on the list\n",
        "            total_categories.append(cat)\n",
        "    \n",
        "    #use the counter module to get the unique names of the categories\n",
        "    uniq = list(Counter(total_categories).keys())\n",
        "    #as well as the indices of the categories themselves:\n",
        "    indic = list(Counter(total_categories).values())\n",
        "\n",
        "\n",
        "    #this didn't work correctly:\n",
        "    #uniq, indices = np.unique(total_categories, return_index=True)\n",
        "    \n",
        "    \n",
        "    print(\"Overall Genre Stats:\")\n",
        "    tots = []\n",
        "    for i in range(len(uniq)):\n",
        "        tots.append((uniq[i], indic[i]))\n",
        "    print(len(tots), \"Categories.\")\n",
        "\n",
        "    #sort based on the second item of the tuples in tots. \n",
        "    tots.sort(key = operator.itemgetter(1), reverse=True)\n",
        "    print(tots)\n",
        "    return 0"
      ],
      "execution_count": 0,
      "outputs": []
    },
    {
      "cell_type": "markdown",
      "metadata": {
        "id": "OwIsGw-2Z0W8",
        "colab_type": "text"
      },
      "source": [
        "Για να το τεσταρουμε, χρησιμοποιουμε σαν εισοδο την πληρη λιστα ταινιων (φτιαξαμε μια λιστα με 5000 αριθμους):"
      ]
    },
    {
      "cell_type": "code",
      "metadata": {
        "id": "sgRA1sWumHcP",
        "colab_type": "code",
        "colab": {
          "base_uri": "https://localhost:8080/",
          "height": 106
        },
        "outputId": "9f4199e5-d9c7-4e2f-930e-2bef5588212f"
      },
      "source": [
        "movie_list_ids = list(range(5000))\n",
        "print_categories_stats(movie_list_ids)"
      ],
      "execution_count": 129,
      "outputs": [
        {
          "output_type": "stream",
          "text": [
            "Overall Genre Stats:\n",
            "272 Categories.\n",
            "[('Drama', 2302), ('Comedy', 1240), ('Romance Film', 778), ('Thriller', 771), ('Action', 703), ('World cinema', 605), ('Crime Fiction', 496), ('Horror', 496), ('Black-and-white', 462), ('Short Film', 428), ('Family Film', 407), ('Action/Adventure', 406), ('Adventure', 396), ('Indie', 362), ('Musical', 317), ('Animation', 288), ('Science Fiction', 285), ('Romantic drama', 285), ('Mystery', 254), ('Romantic comedy', 250), ('Fantasy', 232), ('Comedy film', 227), ('Crime Thriller', 186), ('War film', 177), ('Japanese Movies', 151), ('Silent film', 147), ('Psychological thriller', 146), ('Comedy-drama', 142), ('Bollywood', 138), ('Period piece', 136), ('Film adaptation', 130), ('Documentary', 121), ('Western', 116), ('Chinese Movies', 105), ('Coming of age', 97), ('Teen', 95), ('Television movie', 90), ('Parody', 90), ('Cult', 84), ('Black comedy', 83), (\"Children's/Family\", 81), ('Suspense', 80), ('Family Drama', 78), ('Slapstick', 76), ('Sports', 76), ('Film noir', 75), ('Martial Arts Film', 75), ('Biographical film', 73), ('Slasher', 72), ('Supernatural', 63), ('Action Thrillers', 63), ('Satire', 62), ('Biography', 61), ('Political drama', 54), ('Spy', 53), ('Melodrama', 52), (\"Children's\", 49), ('Biopic [feature]', 45), ('Costume drama', 45), ('Anime', 44), ('Music', 42), ('Art film', 42), ('Crime Drama', 40), ('Historical fiction', 39), ('B-movie', 37), ('Ensemble Film', 36), ('Creature Film', 34), ('Political thriller', 34), ('Zombie Film', 33), ('History', 31), ('Buddy film', 31), ('Filipino Movies', 30), ('Detective', 30), ('Docudrama', 29), (\"Children's Fantasy\", 29), ('Road movie', 29), ('Disaster', 29), ('Fantasy Adventure', 28), ('Horror Comedy', 28), ('Superhero movie', 28), ('Gangster Film', 28), ('Screwball comedy', 27), ('Sex comedy', 26), ('Musical comedy', 25), ('Detective fiction', 24), ('Epic', 23), ('Surrealism', 22), ('Culture & Society', 21), ('Comedy of Errors', 20), ('Childhood Drama', 20), ('Action Comedy', 20), ('Computer Animation', 20), ('Family-Oriented Adventure', 19), ('Pre-Code', 19), ('Comedy of manners', 19), ('Marriage Drama', 19), ('Experimental film', 18), ('Domestic Comedy', 18), ('Crime Comedy', 18), ('Courtroom Drama', 17), ('Heist', 17), ('Avant-garde', 16), ('Animal Picture', 16), ('Political cinema', 16), ('Sci-Fi Horror', 15), ('Superhero', 15), ('Mockumentary', 15), ('Natural horror films', 15), ('Fantasy Comedy', 14), ('Musical Drama', 13), ('Jungle Film', 13), ('Social problem film', 12), ('Doomsday film', 12), ('Wuxia', 12), ('Chase Movie', 12), ('Absurdism', 12), ('Comedy Thriller', 12), ('Animated cartoon', 12), ('Gross out', 12), ('Gross-out film', 12), ('Alien Film', 12), ('Americana', 11), ('Juvenile Delinquency Film', 11), ('Erotic thriller', 11), ('Propaganda film', 11), ('Monster movie', 11), ('Monster', 11), ('Dystopia', 11), ('Haunted House Film', 11), ('Remake', 11), ('Stop motion', 11), ('Time travel', 10), ('Airplanes and airports', 10), ('Christian film', 10), ('Costume Adventure', 10), ('Blaxploitation', 10), ('Medical fiction', 10), ('Caper story', 10), ('Social issues', 10), ('Historical drama', 9), ('Dance', 9), ('Addiction Drama', 9), ('Historical Epic', 8), ('Boxing', 8), ('Combat Films', 8), ('Swashbuckler films', 8), ('New Hollywood', 8), ('Adventure Comedy', 8), ('Holiday Film', 8), ('Media Satire', 8), ('Tragedy', 7), ('Giallo', 7), ('Spaghetti Western', 7), ('Tamil cinema', 7), ('Rockumentary', 7), ('Comedy Western', 7), ('Feminist Film', 7), ('Fairy tale', 7), ('Romantic fantasy', 6), ('Slice of life story', 6), ('Neo-noir', 6), ('Glamorized Spy Film', 6), ('Roadshow theatrical release', 6), ('Religious Film', 6), ('Future noir', 6), ('Political satire', 6), ('Sword and sorcery films', 6), ('Prison', 6), ('Hip hop movies', 5), ('Workplace Comedy', 5), ('Punk rock', 5), ('Gothic Film', 5), ('Kitchen sink realism', 5), ('Revisionist Western', 5), ('Christmas movie', 5), ('Auto racing', 5), ('Master Criminal Films', 5), ('Tollywood', 4), ('Costume Horror', 4), ('Erotic Drama', 4), ('Stoner film', 4), ('Nature', 4), ('Hybrid Western', 4), ('Animated Musical', 4), ('Existentialism', 4), ('Escape Film', 4), ('Beach Film', 4), ('Whodunit', 4), ('Fantasy Drama', 3), ('Tragicomedy', 3), ('Steampunk', 3), ('Sci-Fi Adventure', 3), ('Apocalyptic and post-apocalyptic fiction', 3), ('Language & Literature', 3), ('Sword and sorcery', 3), ('Animals', 3), ('Foreign legion', 3), ('Comedy horror', 3), ('Travel', 3), ('Educational', 3), ('B-Western', 3), ('Fan film', 2), ('Crime', 2), ('Indian Western', 2), ('Archaeology', 2), ('Interpersonal Relationships', 2), ('Splatter film', 2), ('Sword and Sandal', 2), ('Environmental Science', 2), ('Vampire movies', 2), ('British Empire Film', 2), ('Anti-war', 2), ('Inspirational Drama', 2), ('Hagiography', 2), ('Heavenly Comedy', 2), ('Filipino', 2), ('Illnesses & Disabilities', 2), ('Cold War', 2), ('Film u00e0 clef', 2), ('Albino bias', 2), ('Cavalry Film', 1), ('Latino', 1), ('Dogme 95', 1), ('News', 1), ('Kafkaesque', 1), ('Archives and records', 1), ('Northern', 1), ('Libraries and librarians', 1), ('Space western', 1), ('Media Studies', 1), ('Cyberpunk', 1), ('Anti-war film', 1), ('Psycho-biddy', 1), ('Natural disaster', 1), ('Historical Documentaries', 1), ('Computers', 1), ('Instrumental Music', 1), ('Backstage Musical', 1), ('Clay animation', 1), ('Sci-Fi Thriller', 1), ('British New Wave', 1), ('Bengali Cinema', 1), ('Courtroom Comedy', 1), ('Czechoslovak New Wave', 1), ('Health & Fitness', 1), ('Operetta', 1), ('Coming-of-age film', 1), ('Bloopers & Candid Camera', 1), ('Graphic & Applied Arts', 1), ('Legal drama', 1), ('Mondo film', 1), ('Buddy cop', 1), ('Samurai cinema', 1), ('Sci Fi Pictures original films', 1), ('Law & Crime', 1), ('Epic Western', 1), ('Stand-up comedy', 1), ('Feature film', 1), ('Live action', 1), ('Movie serial', 1), ('Road-Horror', 1), ('Baseball', 1), ('Goat gland', 1), ('Heaven-Can-Wait Fantasies', 1), ('Concert film', 1), ('Exploitation', 1), ('Roadshow/Carny', 1), ('Mumblecore', 1), ('Parkour in popular culture', 1), ('Reboot', 1), ('Jukebox musical', 1), (\"Children's Entertainment\", 1)]\n"
          ],
          "name": "stdout"
        },
        {
          "output_type": "execute_result",
          "data": {
            "text/plain": [
              "0"
            ]
          },
          "metadata": {
            "tags": []
          },
          "execution_count": 129
        }
      ]
    },
    {
      "cell_type": "markdown",
      "metadata": {
        "id": "_Z3Cyvs4avdf",
        "colab_type": "text"
      },
      "source": [
        "Στην συνεχεια ορισαμε την δευτερη συναρτηση, η οποια παιρνει εναν αριθμο που ειναι το id του cluster και επιστρεφει μια λιστα με αριθμους, που ειναι οι συντεταγμενες των νευρωνων για να βρουμε μεσω των bmus τις ταινιες που θα χρησιμοποιησουμε σαν ορισμα για την πρωτη συναρτηση. "
      ]
    },
    {
      "cell_type": "code",
      "metadata": {
        "id": "CuJVJA6HYdI-",
        "colab_type": "code",
        "colab": {}
      },
      "source": [
        "def print_cluster_neurons_movies_report(cluster_id):\n",
        "\n",
        "    #use the previously built in variable \n",
        "    how_many_neurons = no_of_neurons[cluster_id]\n",
        "\n",
        "    #use np.where to find where in the cluster map the value of the map is the same as the cluster id\n",
        "    positions = np.where(som.clusters==cluster_id)\n",
        "    #make a stack out of the tuples of the coordinates:\n",
        "    pos = np.column_stack((positions[0], positions[1]))\n",
        "    \n",
        "    #create a list of indices to be returned\n",
        "    INDICES = []\n",
        "    for position in pos:\n",
        "        if position in ubmus:\n",
        "            #make sure the unique index is calculated correctly:\n",
        "            INDICES.append(int(position[0])*n_rows + int(position[1]))\n",
        "    return INDICES"
      ],
      "execution_count": 0,
      "outputs": []
    },
    {
      "cell_type": "markdown",
      "metadata": {
        "id": "fDYxzR-IcA2a",
        "colab_type": "text"
      },
      "source": [
        "Για να ελεγξουμε την ορθη λειτουργια της συναρτησης, την καλουμε με ορισμα 7 (που αντιστοιχει σε ενα cluster που ξερουμε τον αριθμο των νευρωνων που του αντιστοιχουν απο το cluster map):"
      ]
    },
    {
      "cell_type": "code",
      "metadata": {
        "id": "-sWC_xW2QeQt",
        "colab_type": "code",
        "colab": {
          "base_uri": "https://localhost:8080/",
          "height": 34
        },
        "outputId": "0d2c9f94-71ab-4a44-953a-fe65b250522d"
      },
      "source": [
        "print_cluster_neurons_movies_report(7)"
      ],
      "execution_count": 131,
      "outputs": [
        {
          "output_type": "execute_result",
          "data": {
            "text/plain": [
              "[344, 363, 364, 365, 366, 383, 384, 385, 386]"
            ]
          },
          "metadata": {
            "tags": []
          },
          "execution_count": 131
        }
      ]
    },
    {
      "cell_type": "markdown",
      "metadata": {
        "id": "Y13XhOG7cmde",
        "colab_type": "text"
      },
      "source": [
        "Τελος, οριζουμε και την τελευταια συναρτηση, η οποια παιρνει μια λιστα με neuron_ids (list of ints) και καλει την πρωτη συναρτηση ετσι ωστε να τυπωθουν για ολες τις ταινιες που αντιστοιχουν σε αυτους τους νευρωνες τα συνολικα στατιστικα για τις κατηγοριες."
      ]
    },
    {
      "cell_type": "code",
      "metadata": {
        "id": "oNQB4Pn7YkRv",
        "colab_type": "code",
        "colab": {}
      },
      "source": [
        "def neuron_movies_report(neuron_list):\n",
        "    #First we have to append every movie that is related to every neuron:\n",
        "    movie_list_IDs = []\n",
        "    for neuron in neuron_list:\n",
        "\n",
        "        #We use np.where to find the movies that are related to that neuron\n",
        "        list_of_movies = list(np.where(indices==neuron))\n",
        "\n",
        "        #for every movie: append its ID:\n",
        "        for i in range(len(list_of_movies[0])):\n",
        "            movie_list_IDs.append(list_of_movies[0][i])\n",
        "\n",
        "    #now call the first function with the total list to print the stats. \n",
        "    print_categories_stats(movie_list_IDs)"
      ],
      "execution_count": 0,
      "outputs": []
    },
    {
      "cell_type": "markdown",
      "metadata": {
        "id": "E6MBFzhIdcWv",
        "colab_type": "text"
      },
      "source": [
        "Για να ελεγξουμε την συναρτηση αυτη, αλλα και για να δουμε μια συνολικη εικονα, τυπωνουμε εξουθενωτικα για καθε cluster ID τις κατηγοριες με τις οποιες σχετιζεται "
      ]
    },
    {
      "cell_type": "code",
      "metadata": {
        "id": "sc0teMDdUz8g",
        "colab_type": "code",
        "outputId": "ad0890c8-3e0a-4584-fb2b-fdc07f52e24a",
        "colab": {
          "base_uri": "https://localhost:8080/",
          "height": 1000
        }
      },
      "source": [
        "for i in list(cluster_index):\n",
        "    print(\"Cluster ID\" , i)\n",
        "    neuron_movies_report(print_cluster_neurons_movies_report(i))"
      ],
      "execution_count": 190,
      "outputs": [
        {
          "output_type": "stream",
          "text": [
            "Cluster ID 19\n",
            "Overall Genre Stats:\n",
            "38 Categories.\n",
            "[('Romance Film', 26), ('Comedy', 26), ('Thriller', 24), ('Psychological thriller', 20), ('Horror', 12), ('Supernatural', 10), ('Teen', 5), ('Short Film', 4), ('Animated cartoon', 4), ('Family Film', 4), ('Science Fiction', 4), ('Indie', 4), ('Suspense', 2), ('Black-and-white', 2), ('World cinema', 2), ('Haunted House Film', 2), ('Japanese Movies', 2), ('Mystery', 2), ('Action', 2), ('Comedy-drama', 2), ('Sex comedy', 2), ('Musical comedy', 1), ('Black comedy', 1), ('Film adaptation', 1), ('Spy', 1), ('Film noir', 1), ('Media Satire', 1), ('Christian film', 1), ('Zombie Film', 1), ('Crime Thriller', 1), ('Satire', 1), ('Comedy film', 1), ('Ensemble Film', 1), ('Gross-out film', 1), ('Gross out', 1), ('Adventure', 1), ('Fantasy', 1), ('Crime Fiction', 1)]\n",
            "Cluster ID 24\n",
            "Overall Genre Stats:\n",
            "39 Categories.\n",
            "[('Action', 33), ('Adventure', 27), ('Comedy', 18), ('Fantasy', 14), ('Drama', 9), ('Science Fiction', 5), ('Crime Fiction', 5), ('Family Film', 4), ('Fantasy Adventure', 4), ('Spy', 4), (\"Children's/Family\", 3), (\"Children's Fantasy\", 2), ('Comedy film', 2), ('Chase Movie', 2), ('Action Comedy', 2), ('Steampunk', 1), ('Musical', 1), ('Sci-Fi Adventure', 1), ('Indie', 1), ('World cinema', 1), ('Historical fiction', 1), ('Family-Oriented Adventure', 1), ('Jungle Film', 1), ('Addiction Drama', 1), ('History', 1), ('Romance Film', 1), ('Black-and-white', 1), ('Ensemble Film', 1), ('Detective fiction', 1), ('Detective', 1), ('Mystery', 1), ('Gross-out film', 1), ('Gross out', 1), ('Slapstick', 1), ('Bollywood', 1), ('Adventure Comedy', 1), ('Chinese Movies', 1), ('Animal Picture', 1), ('Thriller', 1)]\n",
            "Cluster ID 5\n",
            "Overall Genre Stats:\n",
            "55 Categories.\n",
            "[('Action/Adventure', 42), ('Action', 39), ('World cinema', 34), ('Western', 21), ('Thriller', 18), ('Japanese Movies', 14), ('Martial Arts Film', 13), ('Science Fiction', 11), ('Action Thrillers', 10), ('Comedy', 10), ('Drama', 9), ('Adventure', 9), ('Short Film', 9), ('Comedy film', 9), ('Animation', 9), ('Fantasy', 8), ('Horror', 8), ('Chinese Movies', 7), ('Bollywood', 6), ('Musical', 6), ('Crime Fiction', 5), ('Monster', 5), ('Black-and-white', 5), ('Creature Film', 3), ('Cult', 3), ('Spaghetti Western', 3), ('Zombie Film', 2), ('Psychological thriller', 2), ('Disaster', 2), ('Romance Film', 2), ('B-Western', 2), ('Comedy Thriller', 1), ('Sci-Fi Horror', 1), ('Detective fiction', 1), ('Detective', 1), ('Action Comedy', 1), ('Supernatural', 1), ('Crime Thriller', 1), ('Parkour in popular culture', 1), ('Propaganda film', 1), ('Documentary', 1), ('Doomsday film', 1), ('Indian Western', 1), ('Revisionist Western', 1), ('Biography', 1), ('Roadshow theatrical release', 1), ('Epic', 1), ('War film', 1), ('Comedy Western', 1), ('Biographical film', 1), ('Film adaptation', 1), ('Television movie', 1), ('Natural disaster', 1), ('Musical comedy', 1), ('Family Film', 1)]\n",
            "Cluster ID 7\n",
            "Overall Genre Stats:\n",
            "0 Categories.\n",
            "[]\n",
            "Cluster ID 8\n",
            "Overall Genre Stats:\n",
            "52 Categories.\n",
            "[('Drama', 69), ('Comedy', 43), ('World cinema', 41), ('Musical', 18), ('Romance Film', 17), ('Romantic drama', 14), ('Romantic comedy', 11), ('War film', 10), ('Comedy-drama', 6), ('Coming of age', 6), ('Black comedy', 6), ('Fantasy', 5), ('Indie', 5), ('Chinese Movies', 5), ('Political drama', 5), ('Teen', 4), ('Japanese Movies', 4), ('Crime Fiction', 4), ('Art film', 4), ('Period piece', 3), ('Music', 3), ('Horror', 3), ('Costume drama', 2), ('Remake', 2), ('Satire', 2), ('Thriller', 2), ('Black-and-white', 2), ('Childhood Drama', 2), ('Biopic [feature]', 2), ('Film adaptation', 1), ('Medical fiction', 1), ('Fairy tale', 1), ('Dance', 1), ('Family Film', 1), ('Domestic Comedy', 1), ('Comedy of manners', 1), ('Slice of life story', 1), ('Surrealism', 1), ('Gross-out film', 1), ('Gross out', 1), ('Fantasy Comedy', 1), ('Bollywood', 1), ('Gangster Film', 1), ('Crime Drama', 1), ('Road movie', 1), ('Religious Film', 1), ('Tragedy', 1), ('Historical fiction', 1), ('Hip hop movies', 1), ('Documentary', 1), ('Musical comedy', 1), ('Addiction Drama', 1)]\n",
            "Cluster ID 1\n",
            "Overall Genre Stats:\n",
            "94 Categories.\n",
            "[('Comedy', 112), ('Romance Film', 93), ('Romantic comedy', 69), ('Drama', 43), ('Science Fiction', 32), ('Thriller', 30), ('Horror', 30), ('Musical', 14), ('Black-and-white', 13), ('Fantasy', 10), ('Black comedy', 9), ('Action', 9), ('Family Film', 9), ('Family Drama', 9), ('Indie', 8), ('Musical comedy', 8), ('Adventure', 7), ('Cult', 6), ('Screwball comedy', 6), ('Creature Film', 5), ('Television movie', 5), ('World cinema', 4), ('Sci-Fi Horror', 4), ('Sex comedy', 4), ('Film adaptation', 4), ('Psychological thriller', 3), ('Japanese Movies', 3), ('Action/Adventure', 3), ('Domestic Comedy', 3), ('Slapstick', 3), ('Period piece', 3), ('Mystery', 2), ('Experimental film', 2), ('Surrealism', 2), ('Avant-garde', 2), ('Suspense', 2), ('History', 2), ('Natural horror films', 2), ('B-movie', 2), ('Zombie Film', 2), ('Political cinema', 2), ('Gross-out film', 2), ('Gross out', 2), ('Comedy of Errors', 2), ('Crime Fiction', 2), ('Comedy of manners', 2), ('Road movie', 2), ('Sports', 2), ('Ensemble Film', 2), ('Satire', 2), ('Comedy-drama', 2), (\"Children's/Family\", 2), ('Doomsday film', 1), ('Disaster', 1), ('Crime Thriller', 1), ('Cyberpunk', 1), ('Escape Film', 1), ('Short Film', 1), ('Alien Film', 1), ('Biography', 1), ('Supernatural', 1), ('Language & Literature', 1), ('Teen', 1), ('Comedy film', 1), ('Libraries and librarians', 1), ('Workplace Comedy', 1), ('Chinese Movies', 1), ('Music', 1), ('Fantasy Comedy', 1), ('Costume drama', 1), ('Courtroom Comedy', 1), ('Comedy Western', 1), ('Western', 1), ('Romantic drama', 1), ('Jukebox musical', 1), ('Christmas movie', 1), ('Tamil cinema', 1), ('Boxing', 1), ('Filipino Movies', 1), ('Biopic [feature]', 1), ('Biographical film', 1), ('Social problem film', 1), ('Americana', 1), ('Anti-war', 1), ('War film', 1), ('Buddy film', 1), ('Absurdism', 1), ('Family-Oriented Adventure', 1), ('Fantasy Adventure', 1), ('Dystopia', 1), ('Fairy tale', 1), (\"Children's Fantasy\", 1), ('Tragedy', 1), ('Remake', 1)]\n",
            "Cluster ID 4\n",
            "Overall Genre Stats:\n",
            "82 Categories.\n",
            "[('Thriller', 69), ('Comedy', 36), ('Horror', 34), ('Family Film', 21), ('Mystery', 19), ('Romantic comedy', 19), ('Indie', 18), ('Drama', 16), ('Romance Film', 15), ('Musical', 12), ('Crime Fiction', 10), ('Documentary', 9), ('Fantasy', 7), ('Film adaptation', 7), ('Slasher', 7), ('Cult', 5), ('Black-and-white', 5), ('World cinema', 4), ('Supernatural', 4), ('Bollywood', 4), ('Culture & Society', 4), ('Natural horror films', 3), ('Chinese Movies', 3), ('Television movie', 3), ('Political cinema', 3), ('Satire', 3), ('Parody', 3), ('Sports', 3), ('Adventure', 2), ('Film noir', 2), ('Comedy film', 2), ('Zombie Film', 2), ('Action/Adventure', 2), ('Action', 2), ('Comedy of manners', 2), ('Comedy-drama', 2), ('Teen', 2), ('Biography', 2), ('Caper story', 1), ('Buddy film', 1), ('Crime Comedy', 1), ('Tamil cinema', 1), ('Erotic thriller', 1), ('Christian film', 1), ('War film', 1), ('Science Fiction', 1), ('Detective fiction', 1), ('Detective', 1), ('Gothic Film', 1), ('Filipino Movies', 1), ('Docudrama', 1), ('Disaster', 1), ('Jungle Film', 1), ('Suspense', 1), ('Haunted House Film', 1), ('Japanese Movies', 1), ('Sex comedy', 1), ('Media Satire', 1), ('Political satire', 1), ('Coming of age', 1), ('Absurdism', 1), ('Screwball comedy', 1), ('Pre-Code', 1), ('Slapstick', 1), ('Comedy Western', 1), ('Western', 1), (\"Children's/Family\", 1), ('Musical comedy', 1), ('Romantic drama', 1), ('Instrumental Music', 1), ('Rockumentary', 1), ('Music', 1), ('Bloopers & Candid Camera', 1), ('Graphic & Applied Arts', 1), ('Nature', 1), ('Travel', 1), ('Illnesses & Disabilities', 1), ('History', 1), ('Social issues', 1), ('Horror Comedy', 1), ('Black comedy', 1), ('Psychological thriller', 1)]\n",
            "Cluster ID 9\n",
            "Overall Genre Stats:\n",
            "77 Categories.\n",
            "[('Comedy', 52), ('Romance Film', 42), ('Mystery', 37), ('Thriller', 36), ('Japanese Movies', 34), ('Musical', 32), ('Science Fiction', 29), ('Drama', 25), ('Crime Thriller', 20), ('Crime Fiction', 15), ('Psychological thriller', 13), ('World cinema', 11), ('Suspense', 11), ('Indie', 9), ('Black-and-white', 9), ('Musical comedy', 9), ('Teen', 8), ('Sex comedy', 7), ('Film noir', 6), ('Satire', 6), ('Mockumentary', 5), ('Cult', 5), ('Detective', 5), ('Chinese Movies', 4), ('Detective fiction', 4), ('Horror', 4), ('Comedy film', 3), ('Superhero movie', 3), ('Time travel', 3), ('Fantasy', 3), ('Film adaptation', 3), ('Period piece', 3), ('Action', 2), ('Sports', 2), ('Political thriller', 2), ('Future noir', 2), ('Supernatural', 2), ('Screwball comedy', 2), ('Coming of age', 2), ('Media Satire', 2), ('Black comedy', 2), ('Absurdism', 2), ('Horror Comedy', 2), ('Comedy-drama', 1), ('Prison', 1), ('Apocalyptic and post-apocalyptic fiction', 1), ('Disaster', 1), ('Alien Film', 1), ('Creature Film', 1), (\"Children's\", 1), ('Parody', 1), ('Television movie', 1), ('Superhero', 1), ('Sci-Fi Thriller', 1), ('Experimental film', 1), ('Surrealism', 1), ('Slasher', 1), ('Comedy Thriller', 1), ('Gross out', 1), ('Gross-out film', 1), ('Tragicomedy', 1), ('Buddy film', 1), ('Music', 1), ('Family Drama', 1), ('Slapstick', 1), ('Ensemble Film', 1), ('B-movie', 1), ('Feminist Film', 1), ('Docudrama', 1), ('Western', 1), ('Romantic comedy', 1), ('Punk rock', 1), ('Beach Film', 1), ('Comedy of Errors', 1), ('Bollywood', 1), ('Tragedy', 1), ('Adventure', 1)]\n",
            "Cluster ID 16\n",
            "Overall Genre Stats:\n",
            "47 Categories.\n",
            "[('Short Film', 94), ('Animation', 73), ('Comedy', 52), ('Science Fiction', 32), ('Action', 32), ('Japanese Movies', 29), ('Black-and-white', 28), ('Anime', 26), ('Fantasy', 19), ('Adventure', 10), (\"Children's\", 9), ('Musical', 9), ('World cinema', 8), ('Drama', 7), ('Horror', 6), ('Action/Adventure', 5), ('Fantasy Adventure', 5), (\"Children's/Family\", 4), ('Family Film', 4), ('Superhero movie', 4), ('Romance Film', 3), ('Animated cartoon', 3), ('Surrealism', 3), ('Music', 3), ('Dystopia', 3), ('Television movie', 3), ('Thriller', 2), ('Alien Film', 2), ('Silent film', 1), ('Computer Animation', 1), ('Experimental film', 1), ('Avant-garde', 1), ('Film noir', 1), ('Documentary', 1), ('Educational', 1), ('Propaganda film', 1), (\"Children's Entertainment\", 1), ('Martial Arts Film', 1), ('Epic', 1), ('Coming of age', 1), ('Parody', 1), ('Sword and sorcery films', 1), ('Action Thrillers', 1), ('Chase Movie', 1), ('Spy', 1), ('Indie', 1), ('Superhero', 1)]\n",
            "Cluster ID 22\n",
            "Overall Genre Stats:\n",
            "74 Categories.\n",
            "[('Horror', 63), ('Drama', 38), ('Family Film', 36), ('Indie', 18), ('Supernatural', 18), ('Cult', 16), ('Zombie Film', 16), ('Comedy', 14), ('Musical', 10), ('B-movie', 9), ('Psychological thriller', 9), ('Fantasy', 7), ('Mystery', 6), ('Teen', 6), ('Action', 5), ('Creature Film', 5), ('Film adaptation', 4), ('Black-and-white', 4), ('Documentary', 4), ('Horror Comedy', 4), ('Monster movie', 4), ('World cinema', 4), ('Adventure', 3), ('Haunted House Film', 3), ('Comedy film', 2), ('Sports', 2), ('Biographical film', 2), ('Biography', 2), ('Experimental film', 2), ('Splatter film', 2), ('Surrealism', 2), ('Period piece', 2), ('Natural horror films', 2), ('Japanese Movies', 2), ('Roadshow theatrical release', 1), ('Western', 1), ('Action/Adventure', 1), ('Science Fiction', 1), ('Satire', 1), ('Political drama', 1), ('Americana', 1), ('Juvenile Delinquency Film', 1), ('Romantic comedy', 1), ('Music', 1), ('Docudrama', 1), ('Inspirational Drama', 1), ('Holiday Film', 1), ('Short Film', 1), ('Culture & Society', 1), ('Environmental Science', 1), ('Nature', 1), ('Animals', 1), ('Historical Documentaries', 1), ('Time travel', 1), ('Punk rock', 1), ('Language & Literature', 1), ('Monster', 1), ('Costume Horror', 1), ('Doomsday film', 1), ('Gothic Film', 1), ('Romance Film', 1), ('Silent film', 1), ('Avant-garde', 1), ('Television movie', 1), ('Black comedy', 1), ('Fantasy Adventure', 1), ('Sword and sorcery films', 1), ('Sword and sorcery', 1), ('Road-Horror', 1), ('Exploitation', 1), ('Roadshow/Carny', 1), ('Sci-Fi Horror', 1), ('Suspense', 1), ('Costume drama', 1)]\n",
            "Cluster ID 18\n",
            "Overall Genre Stats:\n",
            "59 Categories.\n",
            "[('Thriller', 48), ('Crime Fiction', 43), ('Comedy', 36), ('Drama', 35), ('World cinema', 30), ('Black-and-white', 28), ('Psychological thriller', 13), ('Crime Thriller', 13), ('Film noir', 12), ('Chinese Movies', 10), ('Action/Adventure', 10), ('Horror', 5), ('Comedy-drama', 5), ('Romance Film', 4), ('Fantasy', 4), ('Black comedy', 4), ('Indie', 4), ('Film adaptation', 3), ('Crime Drama', 3), ('Suspense', 3), ('Crime Comedy', 3), ('Ensemble Film', 3), ('Science Fiction', 3), ('Teen', 3), ('Propaganda film', 3), ('Erotic thriller', 3), ('Comedy film', 2), ('Sports', 2), ('Comedy of Errors', 2), ('Caper story', 2), ('Political satire', 2), ('Gross out', 2), ('Screwball comedy', 2), ('Gross-out film', 2), ('Bollywood', 2), ('War film', 2), ('Adventure', 2), ('Coming of age', 1), ('Road movie', 1), ('Remake', 1), ('Supernatural', 1), ('Courtroom Drama', 1), ('Neo-noir', 1), ('Period piece', 1), ('Mockumentary', 1), ('Computer Animation', 1), ('Animation', 1), ('Fantasy Comedy', 1), ('Media Satire', 1), ('Political cinema', 1), ('Japanese Movies', 1), ('Romantic comedy', 1), ('Superhero movie', 1), ('Mystery', 1), ('Foreign legion', 1), ('Addiction Drama', 1), (\"Children's/Family\", 1), ('Political thriller', 1), ('Psycho-biddy', 1)]\n",
            "Cluster ID 15\n",
            "Overall Genre Stats:\n",
            "61 Categories.\n",
            "[('Documentary', 70), ('Horror', 21), ('Culture & Society', 12), ('Cult', 12), ('Slasher', 12), ('Comedy-drama', 11), ('B-movie', 11), ('Science Fiction', 10), ('Comedy', 10), ('Drama', 9), ('Biography', 8), ('Music', 7), ('Social issues', 7), ('Horror Comedy', 7), ('Romance Film', 6), ('Romantic comedy', 5), ('Biographical film', 5), ('Rockumentary', 4), ('War film', 4), ('Political cinema', 4), ('Thriller', 3), ('Psychological thriller', 3), ('Teen', 3), ('Short Film', 2), ('Black-and-white', 2), ('Interpersonal Relationships', 2), ('Crime Fiction', 2), ('Supernatural', 2), ('Zombie Film', 2), ('Indie', 2), ('World cinema', 1), ('Film noir', 1), ('Mystery', 1), ('Coming of age', 1), ('Buddy film', 1), ('Family Drama', 1), ('Feminist Film', 1), ('Satire', 1), ('Comedy of manners', 1), ('Nature', 1), ('Animals', 1), ('Political drama', 1), ('Mockumentary', 1), ('Musical', 1), ('Animation', 1), ('Language & Literature', 1), ('Media Studies', 1), ('Environmental Science', 1), ('Computers', 1), ('History', 1), ('Travel', 1), ('Health & Fitness', 1), ('Law & Crime', 1), ('Stoner film', 1), ('Monster movie', 1), ('Creature Film', 1), ('Crime Thriller', 1), ('Parody', 1), ('Sci-Fi Horror', 1), ('Family Film', 1), ('Fantasy', 1)]\n",
            "Cluster ID 0\n",
            "Overall Genre Stats:\n",
            "83 Categories.\n",
            "[('Comedy film', 72), ('Thriller', 35), ('Action/Adventure', 33), ('Western', 33), ('Psychological thriller', 31), ('Comedy', 29), ('Drama', 27), ('Mystery', 27), ('Indie', 24), ('Musical', 22), ('Crime Thriller', 19), ('Romance Film', 17), ('Horror', 12), ('World cinema', 11), ('Suspense', 11), ('Adventure', 10), ('Parody', 10), ('Supernatural', 10), ('Crime Fiction', 8), ('Black-and-white', 8), ('Fantasy', 6), ('Biography', 5), ('Science Fiction', 5), ('Slasher', 5), ('Family Film', 4), ('Teen', 4), ('Surrealism', 4), ('Cult', 4), ('Black comedy', 4), ('Documentary', 4), ('Revisionist Western', 3), ('War film', 3), ('Coming of age', 3), ('Satire', 3), ('Musical comedy', 3), ('Music', 2), ('Biographical film', 2), ('Biopic [feature]', 2), ('Television movie', 2), ('Spaghetti Western', 2), ('Comedy Western', 2), ('Film adaptation', 2), ('Costume drama', 2), ('Comedy-drama', 2), ('Film noir', 2), ('Sex comedy', 2), ('Historical fiction', 1), ('Hybrid Western', 1), ('Zombie Film', 1), ('Family Drama', 1), ('Indian Western', 1), ('Chase Movie', 1), ('Stop motion', 1), ('Epic', 1), ('Doomsday film', 1), ('Tragedy', 1), ('Period piece', 1), ('Time travel', 1), ('Future noir', 1), ('Romantic drama', 1), ('Disaster', 1), ('Giallo', 1), ('Neo-noir', 1), ('Haunted House Film', 1), ('Experimental film', 1), ('Avant-garde', 1), ('Gross out', 1), ('Gross-out film', 1), ('Slapstick', 1), ('Heist', 1), ('Mockumentary', 1), ('Ensemble Film', 1), ('Crime Comedy', 1), ('Clay animation', 1), ('Punk rock', 1), ('Master Criminal Films', 1), ('Comedy Thriller', 1), ('Romantic comedy', 1), ('Sports', 1), ('Religious Film', 1), ('Illnesses & Disabilities', 1), ('History', 1), ('Erotic thriller', 1)]\n",
            "Cluster ID 10\n",
            "Overall Genre Stats:\n",
            "7 Categories.\n",
            "[('Crime Fiction', 2), ('Drama', 2), ('Period piece', 2), ('Musical', 1), ('Indie', 1), ('Coming of age', 1), ('Action', 1)]\n",
            "Cluster ID 17\n",
            "Overall Genre Stats:\n",
            "85 Categories.\n",
            "[('Comedy', 207), ('Short Film', 86), ('Drama', 77), ('Silent film', 76), ('Thriller', 75), ('Animation', 59), ('Crime Fiction', 56), ('Mystery', 53), ('Family Film', 48), ('Black-and-white', 48), ('Indie', 35), ('Crime Thriller', 30), ('War film', 17), ('Western', 12), ('Action', 12), ('Film noir', 12), ('Detective', 11), ('Suspense', 10), ('Detective fiction', 10), ('Political thriller', 9), ('Musical', 8), ('Comedy film', 8), ('Political drama', 8), ('Romance Film', 7), ('Sports', 7), ('Television movie', 6), ('Period piece', 6), ('Adventure', 6), ('Crime Drama', 6), ('Science Fiction', 5), ('Horror', 5), ('Action/Adventure', 5), ('World cinema', 5), ('Anime', 5), ('Fantasy', 4), ('Spy', 4), (\"Children's/Family\", 3), (\"Children's Fantasy\", 3), ('Slapstick', 3), ('Docudrama', 3), ('Film adaptation', 3), ('Japanese Movies', 3), ('Romantic drama', 3), ('Fantasy Comedy', 3), ('Stop motion', 2), ('Disaster', 2), ('Biographical film', 2), ('Psychological thriller', 2), ('Ensemble Film', 2), ('Courtroom Drama', 2), ('Costume drama', 2), ('Comedy-drama', 2), ('Whodunit', 2), ('Melodrama', 2), ('Horror Comedy', 2), ('Domestic Comedy', 2), ('Computer Animation', 1), ('Black comedy', 1), ('Buddy film', 1), ('B-Western', 1), ('Combat Films', 1), ('Airplanes and airports', 1), ('Bollywood', 1), ('History', 1), ('Neo-noir', 1), ('Satire', 1), ('New Hollywood', 1), ('Erotic thriller', 1), ('Juvenile Delinquency Film', 1), ('Heist', 1), ('Caper story', 1), ('Costume Adventure', 1), ('Workplace Comedy', 1), ('Haunted House Film', 1), ('Documentary', 1), ('Religious Film', 1), ('Stoner film', 1), ('Comedy Western', 1), ('Animal Picture', 1), ('Superhero movie', 1), ('Romantic comedy', 1), ('Parody', 1), ('Martial Arts Film', 1), ('Chinese Movies', 1), ('Pre-Code', 1)]\n",
            "Cluster ID 11\n",
            "Overall Genre Stats:\n",
            "102 Categories.\n",
            "[('Drama', 139), ('Romance Film', 137), ('Romantic drama', 132), ('Horror', 105), ('World cinema', 52), ('Comedy', 33), ('Romantic comedy', 27), ('Period piece', 26), ('Film adaptation', 22), ('Musical', 17), ('Indie', 17), ('Black-and-white', 16), ('Chinese Movies', 14), ('Television movie', 10), ('Melodrama', 8), ('Bollywood', 8), ('Comedy-drama', 8), ('Action/Adventure', 8), ('Coming of age', 8), ('Fantasy', 7), ('Costume drama', 7), ('Action', 7), ('Crime Fiction', 7), ('Creature Film', 6), ('Adventure', 6), ('Family Drama', 6), ('Thriller', 6), ('Marriage Drama', 6), ('Teen', 6), ('War film', 6), ('Musical Drama', 5), ('Music', 5), ('Filipino Movies', 4), ('Western', 4), ('Science Fiction', 4), ('Road movie', 4), ('Ensemble Film', 4), ('Dance', 4), ('Epic', 4), ('Monster movie', 3), ('Short Film', 3), ('Experimental film', 3), ('Avant-garde', 3), ('Film noir', 3), ('Biography', 3), ('Costume Horror', 2), ('Horror Comedy', 2), ('Remake', 2), ('Natural horror films', 2), ('Jungle Film', 2), ('Mystery', 2), ('Comedy of Errors', 2), ('Martial Arts Film', 2), ('Political drama', 2), ('Crime Drama', 2), ('Americana', 2), ('Romantic fantasy', 2), ('Addiction Drama', 2), ('Biographical film', 2), ('Pre-Code', 2), ('Kitchen sink realism', 2), ('Archaeology', 1), ('Blaxploitation', 1), ('Comedy horror', 1), ('Vampire movies', 1), ('Tollywood', 1), ('Comedy of manners', 1), ('Sex comedy', 1), ('Comedy Thriller', 1), ('Comedy film', 1), ('Wuxia', 1), ('Parody', 1), ('Silent film', 1), ('Black comedy', 1), ('Boxing', 1), ('Sports', 1), ('Historical fiction', 1), ('Medical fiction', 1), ('Disaster', 1), ('New Hollywood', 1), ('Heaven-Can-Wait Fantasies', 1), ('Psychological thriller', 1), ('Tragedy', 1), ('Punk rock', 1), ('Cult', 1), ('Biopic [feature]', 1), ('Slice of life story', 1), ('Computer Animation', 1), ('Animation', 1), ('Docudrama', 1), ('Gangster Film', 1), ('Japanese Movies', 1), ('Airplanes and airports', 1), ('Social problem film', 1), ('Inspirational Drama', 1), ('Childhood Drama', 1), ('Family Film', 1), ('History', 1), ('Roadshow theatrical release', 1), ('Christian film', 1), ('Art film', 1), ('Crime Comedy', 1)]\n",
            "Cluster ID 12\n",
            "Overall Genre Stats:\n",
            "54 Categories.\n",
            "[('Drama', 256), ('World cinema', 109), ('Thriller', 12), ('Bollywood', 10), ('Political drama', 8), ('Action/Adventure', 6), ('Japanese Movies', 5), ('Filipino Movies', 5), ('Political thriller', 4), ('Crime Fiction', 4), ('Social problem film', 4), ('Period piece', 3), ('Indie', 3), ('Marriage Drama', 3), ('Chinese Movies', 3), ('Ensemble Film', 3), ('Erotic Drama', 3), ('Horror', 3), ('Musical', 2), ('Family Film', 2), ('Music', 2), ('Science Fiction', 2), ('Biography', 2), ('Mystery', 1), ('Childhood Drama', 1), ('Fantasy Adventure', 1), ('Doomsday film', 1), ('Martial Arts Film', 1), ('Disaster', 1), ('Propaganda film', 1), ('Black-and-white', 1), ('Concert film', 1), ('Coming of age', 1), ('Existentialism', 1), ('Melodrama', 1), ('Epic', 1), ('Action', 1), ('Tollywood', 1), ('Juvenile Delinquency Film', 1), ('Feminist Film', 1), ('Comedy horror', 1), ('Comedy film', 1), ('Experimental film', 1), ('Avant-garde', 1), ('Short Film', 1), ('Zombie Film', 1), ('Creature Film', 1), ('Docudrama', 1), ('Christian film', 1), ('Crime Drama', 1), ('Romantic comedy', 1), ('Buddy film', 1), ('Czechoslovak New Wave', 1), ('Suspense', 1)]\n",
            "Cluster ID 20\n",
            "Overall Genre Stats:\n",
            "105 Categories.\n",
            "[('Comedy', 103), ('Action', 97), ('Action/Adventure', 94), ('Thriller', 93), ('Family Film', 68), ('Black-and-white', 50), ('Crime Fiction', 42), ('Slapstick', 38), ('Short Film', 36), ('Action Thrillers', 33), ('Science Fiction', 22), ('Crime Thriller', 21), ('Horror', 14), ('Fantasy', 14), ('Adventure', 12), ('Indie', 11), (\"Children's/Family\", 11), ('Japanese Movies', 10), ('Animation', 9), ('Mystery', 8), ('Suspense', 8), ('Martial Arts Film', 8), ('Drama', 8), ('Spy', 7), ('Anime', 7), ('Television movie', 6), ('Political thriller', 6), ('Buddy film', 6), ('Comedy film', 6), ('Glamorized Spy Film', 5), ('Superhero movie', 5), ('Superhero', 5), ('Gangster Film', 5), ('Screwball comedy', 5), ('Sports', 4), ('Disaster', 4), ('Parody', 4), ('Satire', 4), ('Psychological thriller', 3), ('War film', 3), ('Master Criminal Films', 3), ('Comedy Thriller', 3), ('Teen', 3), ('Romantic comedy', 3), ('Black comedy', 3), ('World cinema', 3), ('Western', 3), ('Musical', 3), (\"Children's\", 3), ('Animal Picture', 3), ('Domestic Comedy', 3), ('Christmas movie', 3), ('Horror Comedy', 3), ('Doomsday film', 2), ('Detective fiction', 2), ('Detective', 2), ('Auto racing', 2), ('Cult', 2), ('Chase Movie', 2), ('Airplanes and airports', 2), ('Period piece', 2), ('Blaxploitation', 2), ('Heist', 2), ('Crime Comedy', 2), ('Romance Film', 2), ('Foreign legion', 2), ('Film adaptation', 2), ('Computer Animation', 2), ('Fantasy Comedy', 2), ('Comedy of Errors', 2), ('Comedy-drama', 2), ('Caper story', 1), ('Archives and records', 1), ('Monster movie', 1), ('Stop motion', 1), ('Time travel', 1), ('Sci-Fi Adventure', 1), ('Nature', 1), ('Animals', 1), ('Jungle Film', 1), ('Future noir', 1), ('Dystopia', 1), ('B-movie', 1), ('Natural horror films', 1), ('Steampunk', 1), ('Action Comedy', 1), ('Buddy cop', 1), ('Boxing', 1), ('Erotic thriller', 1), ('Absurdism', 1), ('Film noir', 1), ('Remake', 1), ('Music', 1), (\"Children's Fantasy\", 1), ('Holiday Film', 1), ('Bengali Cinema', 1), ('Coming of age', 1), ('Prison', 1), ('Fairy tale', 1), ('Operetta', 1), ('Silent film', 1), ('Archaeology', 1), ('Sci-Fi Horror', 1), ('Fantasy Adventure', 1), ('Hybrid Western', 1)]\n",
            "Cluster ID 23\n",
            "Overall Genre Stats:\n",
            "80 Categories.\n",
            "[('Drama', 418), ('Action', 74), ('Comedy film', 44), ('War film', 32), ('Crime Fiction', 26), ('Short Film', 19), ('Silent film', 11), ('Science Fiction', 9), ('Romance Film', 9), ('Melodrama', 8), ('Mystery', 8), ('Historical fiction', 7), ('Japanese Movies', 5), ('Romantic drama', 5), ('Docudrama', 5), ('Bollywood', 5), ('Sports', 5), ('Western', 4), ('Art film', 3), ('Medical fiction', 3), ('Marriage Drama', 3), ('Teen', 3), ('Epic', 3), ('Combat Films', 3), ('Music', 3), ('Musical', 3), ('Crime Drama', 3), ('Courtroom Drama', 2), ('Satire', 2), ('Historical Epic', 2), ('Gangster Film', 2), ('Action/Adventure', 2), ('Political thriller', 2), ('Political drama', 2), ('History', 2), ('Propaganda film', 2), ('Chinese Movies', 2), ('Crime', 2), ('Historical drama', 2), ('Disaster', 2), ('Fantasy', 2), ('Coming of age', 2), ('Period piece', 2), ('Cavalry Film', 1), ('Road movie', 1), ('Addiction Drama', 1), ('Comedy-drama', 1), ('Doomsday film', 1), ('Juvenile Delinquency Film', 1), ('Film noir', 1), ('Filipino Movies', 1), ('Cold War', 1), ('Dogme 95', 1), ('Feminist Film', 1), (\"Children's\", 1), ('Culture & Society', 1), ('Social issues', 1), ('Movie serial', 1), ('Animation', 1), ('Educational', 1), ('Indie', 1), ('Biographical film', 1), ('Romantic comedy', 1), ('Family Film', 1), ('Horror', 1), ('Slasher', 1), ('Martial Arts Film', 1), ('Blaxploitation', 1), ('Biography', 1), ('Spy', 1), ('Boxing', 1), ('Television movie', 1), ('World cinema', 1), ('Dystopia', 1), ('Tollywood', 1), ('Heist', 1), ('Caper story', 1), ('Comedy', 1), ('Crime Thriller', 1), ('Pre-Code', 1)]\n",
            "Cluster ID 21\n",
            "Overall Genre Stats:\n",
            "109 Categories.\n",
            "[('Comedy', 96), ('Thriller', 65), ('Drama', 63), ('Horror', 52), ('Romantic comedy', 33), ('Musical', 31), ('Romance Film', 29), ('Black-and-white', 19), ('Chinese Movies', 19), ('Teen', 18), ('Slasher', 18), ('Crime Fiction', 13), ('Fantasy', 13), ('World cinema', 12), ('Coming of age', 10), ('Suspense', 10), ('Psychological thriller', 9), ('Bollywood', 8), ('Cult', 7), ('Science Fiction', 7), ('Adventure', 7), ('Martial Arts Film', 7), ('Parody', 6), ('Filipino Movies', 6), ('Mystery', 6), ('Black comedy', 5), ('Comedy of Errors', 5), ('Wuxia', 5), ('Biographical film', 5), ('B-movie', 5), ('Costume drama', 4), ('Sports', 4), ('Supernatural', 4), ('Giallo', 4), ('Action', 4), ('Sex comedy', 4), ('War film', 3), ('Art film', 3), ('Historical drama', 3), ('Indie', 3), ('Disaster', 3), ('Action/Adventure', 3), ('Fantasy Comedy', 3), ('Satire', 3), ('Rockumentary', 2), (\"Children's\", 2), ('Pre-Code', 2), ('Romantic drama', 2), ('Silent film', 2), ('Film noir', 2), ('Historical fiction', 2), ('Religious Film', 2), ('Action Thrillers', 2), ('Spy', 2), ('Television movie', 2), ('Crime Thriller', 2), ('Creature Film', 2), ('Japanese Movies', 2), ('Film adaptation', 2), ('Melodrama', 2), ('Beach Film', 2), ('Domestic Comedy', 2), ('Comedy film', 2), ('Buddy film', 2), ('Crime Comedy', 1), ('Music', 1), (\"Children's/Family\", 1), (\"Children's Fantasy\", 1), ('Family-Oriented Adventure', 1), ('Dance', 1), ('Western', 1), ('Short Film', 1), ('Family Film', 1), ('Spaghetti Western', 1), ('Remake', 1), ('Kitchen sink realism', 1), ('Animated cartoon', 1), ('Mockumentary', 1), ('Propaganda film', 1), ('Tamil cinema', 1), ('Musical comedy', 1), ('Historical Epic', 1), ('Gangster Film', 1), ('Fan film', 1), ('Zombie Film', 1), ('Heist', 1), ('Alien Film', 1), ('Whodunit', 1), ('Monster movie', 1), ('Juvenile Delinquency Film', 1), ('Comedy Thriller', 1), ('Comedy horror', 1), ('Haunted House Film', 1), ('Filipino', 1), ('Natural horror films', 1), ('Period piece', 1), ('Slapstick', 1), ('Screwball comedy', 1), ('Ensemble Film', 1), ('Comedy of manners', 1), ('Political drama', 1), ('Superhero movie', 1), ('Boxing', 1), ('Americana', 1), ('Animation', 1), ('Media Satire', 1), ('Crime Drama', 1), ('Heavenly Comedy', 1), ('Road movie', 1)]\n",
            "Cluster ID 2\n",
            "Overall Genre Stats:\n",
            "48 Categories.\n",
            "[('Drama', 86), ('Crime Fiction', 82), ('Black-and-white', 15), ('Indie', 15), ('Mystery', 9), ('Crime Drama', 8), ('Film noir', 7), ('Television movie', 7), ('Action', 4), ('Melodrama', 4), ('Coming of age', 4), ('Gangster Film', 4), ('Pre-Code', 3), ('Courtroom Drama', 3), ('Adventure', 3), ('Teen', 3), ('Biographical film', 3), ('Western', 2), ('Action/Adventure', 2), ('Suspense', 2), ('Family Drama', 2), ('Film adaptation', 2), ('Juvenile Delinquency Film', 2), ('Crime Thriller', 2), ('Sports', 2), ('Comedy', 1), ('Disaster', 1), ('Fantasy', 1), ('Hybrid Western', 1), ('Media Satire', 1), ('World cinema', 1), ('Road movie', 1), ('Period piece', 1), ('Bollywood', 1), ('Childhood Drama', 1), ('Short Film', 1), ('Erotic Drama', 1), ('Psychological thriller', 1), ('Docudrama', 1), ('Romantic drama', 1), ('Buddy film', 1), ('Caper story', 1), ('Tragedy', 1), ('Political drama', 1), ('Legal drama', 1), ('Filipino Movies', 1), ('Biography', 1), ('Heist', 1)]\n",
            "Cluster ID 13\n",
            "Overall Genre Stats:\n",
            "125 Categories.\n",
            "[('Action', 171), ('Action/Adventure', 144), ('Comedy', 124), ('Thriller', 92), ('Drama', 84), ('Crime Fiction', 80), ('Adventure', 60), ('World cinema', 48), ('Black-and-white', 32), ('Crime Thriller', 30), ('Martial Arts Film', 28), ('War film', 21), ('Mystery', 19), ('Western', 18), ('Chinese Movies', 18), ('Slapstick', 15), ('Romance Film', 14), ('Indie', 13), ('Family Film', 13), ('Action Comedy', 11), ('Science Fiction', 11), ('Period piece', 10), ('Fantasy', 10), ('Buddy film', 10), ('Heist', 10), ('Japanese Movies', 10), ('Romantic comedy', 9), ('Black comedy', 9), ('Action Thrillers', 9), ('Comedy film', 9), ('Crime Comedy', 8), ('Screwball comedy', 8), ('Parody', 8), ('Suspense', 8), ('Animation', 8), ('Film adaptation', 7), ('Gangster Film', 7), ('Spy', 7), (\"Children's/Family\", 6), ('Sports', 6), ('Psychological thriller', 6), ('Costume drama', 5), ('Epic', 5), ('Blaxploitation', 5), ('Horror', 5), ('Film noir', 5), ('Television movie', 5), ('Detective', 5), ('History', 4), ('Costume Adventure', 4), ('Historical fiction', 4), ('Chase Movie', 4), ('Silent film', 4), ('Cult', 4), ('Road movie', 4), ('Crime Drama', 4), ('Satire', 4), ('Disaster', 4), ('Detective fiction', 4), ('Family-Oriented Adventure', 4), ('Jungle Film', 3), ('Swashbuckler films', 3), ('Airplanes and airports', 3), ('Musical', 3), ('Adventure Comedy', 3), ('Comedy-drama', 3), ('Comedy of Errors', 3), ('Wuxia', 3), ('Political cinema', 3), (\"Children's\", 3), ('Teen', 3), ('Remake', 2), ('British Empire Film', 2), ('Historical Epic', 2), ('Caper story', 2), ('Absurdism', 2), ('Auto racing', 2), ('Superhero movie', 2), ('Horror Comedy', 2), ('Time travel', 2), ('Political satire', 2), ('Fantasy Adventure', 2), ('Filipino Movies', 2), ('Bollywood', 2), ('Stoner film', 2), ('Romantic drama', 2), ('Political drama', 2), ('Comedy Thriller', 2), ('Animal Picture', 2), ('Sword and Sandal', 1), ('Americana', 1), ('Historical drama', 1), ('Superhero', 1), ('Stop motion', 1), ('Zombie Film', 1), ('Music', 1), ('Filipino', 1), ('Samurai cinema', 1), ('Art film', 1), ('Albino bias', 1), ('Musical Drama', 1), ('Courtroom Drama', 1), ('Cold War', 1), ('Juvenile Delinquency Film', 1), ('Ensemble Film', 1), ('Melodrama', 1), ('Supernatural', 1), ('Escape Film', 1), ('Existentialism', 1), ('New Hollywood', 1), ('Family Drama', 1), ('Short Film', 1), ('Vampire movies', 1), ('Political thriller', 1), ('Future noir', 1), ('Dystopia', 1), ('Coming of age', 1), ('Live action', 1), ('Fantasy Comedy', 1), ('Comedy of manners', 1), ('Whodunit', 1), ('Mondo film', 1), ('Spaghetti Western', 1), ('Epic Western', 1), ('Revisionist Western', 1)]\n",
            "Cluster ID 3\n",
            "Overall Genre Stats:\n",
            "122 Categories.\n",
            "[('Adventure', 168), ('Action', 166), ('Short Film', 157), ('Family Film', 132), ('Animation', 122), ('Thriller', 88), ('Fantasy', 69), ('Drama', 66), ('Crime Fiction', 49), ('Comedy', 38), ('Science Fiction', 36), ('Crime Thriller', 34), ('Comedy film', 33), (\"Children's/Family\", 31), ('Black-and-white', 29), ('Action/Adventure', 24), ('Indie', 22), (\"Children's\", 22), (\"Children's Fantasy\", 21), ('Musical', 17), ('Spy', 15), ('Documentary', 14), ('Romance Film', 14), ('War film', 14), ('Fantasy Adventure', 12), ('World cinema', 12), ('Computer Animation', 11), ('Superhero movie', 11), ('Martial Arts Film', 11), ('Japanese Movies', 10), ('Film noir', 10), ('Western', 9), ('Family-Oriented Adventure', 8), ('Mystery', 8), ('Silent film', 7), ('Superhero', 7), ('Film adaptation', 7), ('Action Thrillers', 7), ('Psychological thriller', 7), ('Anime', 6), ('Crime Drama', 6), ('Stop motion', 5), ('Television movie', 5), ('Costume drama', 5), ('Period piece', 5), ('Chinese Movies', 5), ('Suspense', 5), ('Gangster Film', 5), ('Music', 4), ('Animated cartoon', 4), ('Adventure Comedy', 4), ('Fairy tale', 4), ('Action Comedy', 4), ('Sword and sorcery films', 4), ('Historical fiction', 4), ('Jungle Film', 4), ('Political thriller', 4), ('Animated Musical', 3), ('Animal Picture', 3), ('Costume Adventure', 3), ('Sports', 3), ('Wuxia', 3), ('Horror', 3), ('Detective', 3), ('Bollywood', 3), ('Romantic drama', 3), ('Propaganda film', 2), ('Romantic fantasy', 2), ('Holiday Film', 2), ('Sword and sorcery', 2), ('Doomsday film', 2), ('Biopic [feature]', 2), ('Cult', 2), ('Road movie', 2), ('Alien Film', 2), ('Chase Movie', 2), ('Docudrama', 2), ('Comedy Thriller', 2), ('Buddy film', 2), ('Courtroom Drama', 2), ('Fan film', 1), ('Satire', 1), ('History', 1), ('Educational', 1), ('Melodrama', 1), ('Fantasy Comedy', 1), ('Coming-of-age film', 1), ('Coming of age', 1), ('Airplanes and airports', 1), ('Swashbuckler films', 1), ('Auto racing', 1), ('Epic', 1), ('Parody', 1), ('Monster', 1), ('Sci-Fi Adventure', 1), ('Comedy-drama', 1), ('Zombie Film', 1), ('Glamorized Spy Film', 1), ('Master Criminal Films', 1), ('New Hollywood', 1), ('Apocalyptic and post-apocalyptic fiction', 1), ('Space western', 1), ('Hybrid Western', 1), ('Time travel', 1), ('Tamil cinema', 1), ('Sci Fi Pictures original films', 1), ('Feature film', 1), ('Disaster', 1), ('Supernatural', 1), ('Blaxploitation', 1), ('Remake', 1), ('Reboot', 1), ('Biography', 1), ('Caper story', 1), ('Neo-noir', 1), ('Erotic thriller', 1), ('Political drama', 1), ('Domestic Comedy', 1), ('Detective fiction', 1), ('Heavenly Comedy', 1), ('Comedy of Errors', 1), ('Screwball comedy', 1)]\n",
            "Cluster ID 6\n",
            "Overall Genre Stats:\n",
            "159 Categories.\n",
            "[('Drama', 330), ('Romance Film', 184), ('Comedy', 175), ('Horror', 85), ('Comedy-drama', 80), ('Indie', 73), ('Romantic comedy', 57), ('Parody', 51), ('World cinema', 50), ('Thriller', 48), ('Science Fiction', 45), ('War film', 39), ('Black comedy', 33), ('Action', 32), ('Mystery', 32), ('Coming of age', 28), ('Slasher', 28), ('Black-and-white', 26), ('Satire', 26), ('Comedy film', 25), ('Art film', 23), ('Fantasy', 22), ('Family Drama', 22), ('Psychological thriller', 21), ('Period piece', 20), ('Crime Fiction', 18), ('Romantic drama', 18), ('Cult', 16), ('Teen', 15), ('Television movie', 14), ('Film adaptation', 14), ('Sports', 13), ('Musical', 13), ('Family Film', 12), ('Action/Adventure', 12), ('Documentary', 12), ('Ensemble Film', 12), ('Slapstick', 11), ('History', 11), ('Adventure', 10), ('Childhood Drama', 10), ('Political drama', 10), ('Spy', 9), ('Road movie', 9), ('Comedy of manners', 9), ('Creature Film', 9), ('Historical fiction', 9), ('Surrealism', 8), ('B-movie', 8), ('Docudrama', 8), ('Biographical film', 8), ('Supernatural', 7), ('Short Film', 7), ('Experimental film', 7), ('Avant-garde', 7), ('Japanese Movies', 7), ('Sci-Fi Horror', 7), ('Costume drama', 7), ('Crime Thriller', 6), ('Mockumentary', 6), ('Melodrama', 6), ('Suspense', 5), ('Horror Comedy', 5), ('Absurdism', 5), ('Sex comedy', 5), (\"Children's\", 5), (\"Children's/Family\", 5), ('Alien Film', 5), ('Domestic Comedy', 5), ('Silent film', 5), ('Political thriller', 4), ('Monster', 4), ('Music', 4), ('Natural horror films', 4), ('Americana', 4), ('Chinese Movies', 4), ('Biography', 4), ('Film noir', 3), ('Erotic thriller', 3), ('Dystopia', 3), ('Political cinema', 3), ('Gross-out film', 3), ('Gross out', 3), ('Workplace Comedy', 3), ('Computer Animation', 3), ('Biopic [feature]', 3), ('Zombie Film', 3), ('Pre-Code', 3), ('Epic', 3), ('Combat Films', 3), ('Western', 2), ('Neo-noir', 2), ('New Hollywood', 2), ('Medical fiction', 2), ('Giallo', 2), ('Gothic Film', 2), ('Hip hop movies', 2), ('Disaster', 2), ('Holiday Film', 2), ('Filipino Movies', 2), ('Swashbuckler films', 2), ('Social problem film', 2), ('Slice of life story', 2), ('Dance', 2), ('Escape Film', 2), ('Crime Drama', 2), ('Existentialism', 2), ('Historical Epic', 2), ('Courtroom Drama', 2), ('Historical drama', 2), ('Kafkaesque', 1), ('Haunted House Film', 1), ('Sword and Sandal', 1), ('Beach Film', 1), ('Comedy Western', 1), ('Political satire', 1), ('Boxing', 1), ('Comedy of Errors', 1), ('Media Satire', 1), ('Doomsday film', 1), ('Airplanes and airports', 1), ('News', 1), ('Travel', 1), ('Culture & Society', 1), ('Christmas movie', 1), ('Martial Arts Film', 1), ('Action Thrillers', 1), ('Monster movie', 1), ('Romantic fantasy', 1), ('Screwball comedy', 1), ('Film u00e0 clef', 1), ('Musical Drama', 1), ('Kitchen sink realism', 1), ('Religious Film', 1), ('Buddy film', 1), ('Mumblecore', 1), ('Tragedy', 1), ('Addiction Drama', 1), ('Crime Comedy', 1), ('Gangster Film', 1), ('Stand-up comedy', 1), ('Tragicomedy', 1), ('Anti-war', 1), ('Anti-war film', 1), ('Future noir', 1), ('Prison', 1), ('Marriage Drama', 1), ('Jungle Film', 1), ('Fantasy Adventure', 1), ('Juvenile Delinquency Film', 1), ('Family-Oriented Adventure', 1), ('Fantasy Drama', 1), ('Albino bias', 1), ('Animation', 1), ('Christian film', 1), ('Roadshow theatrical release', 1), ('Hagiography', 1), ('Northern', 1), ('Backstage Musical', 1)]\n",
            "Cluster ID 14\n",
            "Overall Genre Stats:\n",
            "131 Categories.\n",
            "[('Drama', 486), ('World cinema', 161), ('Romance Film', 155), ('Black-and-white', 119), ('Romantic drama', 102), ('Musical', 94), ('Bollywood', 85), ('Indie', 74), ('Adventure', 52), ('Period piece', 45), ('Film adaptation', 45), ('Family Film', 44), ('Biographical film', 41), ('Silent film', 38), ('Family Drama', 35), ('Biopic [feature]', 34), ('Biography', 30), ('Coming of age', 25), ('Horror', 25), ('Comedy', 24), ('Thriller', 24), ('Crime Fiction', 22), ('War film', 20), ('Sports', 19), ('Melodrama', 19), ('Television movie', 18), ('Comedy-drama', 14), (\"Children's/Family\", 13), ('Political drama', 12), ('Mystery', 12), ('Science Fiction', 11), ('Action', 10), ('Action/Adventure', 10), ('Romantic comedy', 10), ('Costume drama', 9), ('Historical fiction', 9), ('Teen', 8), ('Chinese Movies', 8), ('Japanese Movies', 8), ('Art film', 7), ('Filipino Movies', 7), ('Animal Picture', 6), ('Musical Drama', 6), ('Film noir', 6), ('Pre-Code', 6), ('Marriage Drama', 6), ('Fantasy', 5), ('Childhood Drama', 5), ('Christian film', 5), ('Docudrama', 5), ('Short Film', 5), ('History', 5), ('Social problem film', 4), ('Documentary', 4), ('Comedy film', 4), ('Ensemble Film', 4), ('Crime Thriller', 4), ('Courtroom Drama', 4), ('Buddy film', 3), (\"Children's\", 3), ('Road movie', 3), ('Family-Oriented Adventure', 3), ('Western', 3), ('Epic', 3), ('Black comedy', 3), ('Medical fiction', 3), ('Tamil cinema', 3), ('Feminist Film', 3), ('Prison', 3), ('Crime Drama', 3), ('Parody', 2), ('Spy', 2), ('Hip hop movies', 2), ('Animation', 2), ('Holiday Film', 2), ('Roadshow theatrical release', 2), ('Disaster', 2), ('Satire', 2), ('New Hollywood', 2), ('Swashbuckler films', 2), ('Costume Adventure', 2), ('Slice of life story', 2), ('Addiction Drama', 2), ('Fantasy Drama', 2), ('Boxing', 2), ('Juvenile Delinquency Film', 2), ('Music', 2), ('Culture & Society', 2), ('Domestic Comedy', 1), ('Action Comedy', 1), ('Dance', 1), ('Slapstick', 1), ('Stop motion', 1), ('Animated Musical', 1), ('Airplanes and airports', 1), ('Dystopia', 1), ('Historical drama', 1), ('Comedy of Errors', 1), ('Time travel', 1), ('Punk rock', 1), ('Comedy of manners', 1), ('Cult', 1), ('Film u00e0 clef', 1), ('Gangster Film', 1), ('Americana', 1), ('Baseball', 1), ('Creature Film', 1), ('Supernatural', 1), ('Gothic Film', 1), ('Haunted House Film', 1), ('Costume Horror', 1), ('Detective', 1), ('Hagiography', 1), ('Political thriller', 1), ('Combat Films', 1), ('Doomsday film', 1), ('Apocalyptic and post-apocalyptic fiction', 1), ('Steampunk', 1), ('Kitchen sink realism', 1), ('British New Wave', 1), ('Surrealism', 1), ('Psychological thriller', 1), ('Tragicomedy', 1), ('Goat gland', 1), ('Latino', 1), ('Historical Epic', 1), ('Fantasy Comedy', 1), ('Martial Arts Film', 1), ('Romantic fantasy', 1), ('Tollywood', 1), ('Social issues', 1)]\n"
          ],
          "name": "stdout"
        }
      ]
    },
    {
      "cell_type": "markdown",
      "metadata": {
        "colab_type": "text",
        "id": "lq4QrImhaa7E"
      },
      "source": [
        "\n",
        "## Tips για το SOM και το clustering\n",
        "\n",
        "- Για την ομαδοποίηση ένα U-matrix καλό είναι να εμφανίζει και μπλε-πράσινες περιοχές (clusters) και κόκκινες περιοχές (ορίων). Παρατηρήστε ποια σχέση υπάρχει μεταξύ αριθμού ταινιών στο final set, μεγέθους grid και ποιότητας U-matrix.\n",
        "- Για το k του k-Means προσπαθήστε να προσεγγίζει σχετικά τα clusters του U-matrix (όπως είπαμε είναι διαφορετικοί μέθοδοι clustering). Μικρός αριθμός k δεν θα σέβεται τα όρια. Μεγάλος αριθμός θα δημιουργεί υπο-clusters εντός των clusters που φαίνονται στο U-matrix. Το τελευταίο δεν είναι απαραίτητα κακό, αλλά μεγαλώνει τον αριθμό clusters που πρέπει να αναλυθούν σημασιολογικά.\n",
        "- Σε μικρούς χάρτες και με μικρά final sets δοκιμάστε διαφορετικές παραμέτρους για την εκπαίδευση του SOM. Σημειώστε τυχόν παραμέτρους που επηρεάζουν την ποιότητα του clustering για το dataset σας ώστε να τις εφαρμόσετε στους μεγάλους χάρτες.\n",
        "- Κάποια τοπολογικά χαρακτηριστικά εμφανίζονται ήδη σε μικρούς χάρτες. Κάποια άλλα χρειάζονται μεγαλύτερους χάρτες. Δοκιμάστε μεγέθη 20x20, 25x25 ή και 30x30 και αντίστοιχη προσαρμογή των k. Όσο μεγαλώνουν οι χάρτες, μεγαλώνει η ανάλυση του χάρτη αλλά μεγαλώνει και ο αριθμός clusters που πρέπει να αναλυθούν.\n"
      ]
    },
    {
      "cell_type": "markdown",
      "metadata": {
        "colab_type": "text",
        "id": "x4IUl8O8ayVf"
      },
      "source": [
        "\n",
        "\n",
        "## Ανάλυση τοπολογικών ιδιοτήτων χάρτη SOM\n",
        "\n",
        "Μετά το πέρας της εκπαίδευσης και του clustering θα έχετε ένα χάρτη με τοπολογικές ιδιότητες ως προς τα είδη των ταίνιών της συλλογής σας, κάτι αντίστοιχο με την εικόνα στην αρχή της Εφαρμογής 2 αυτού του notebook (η συγκεκριμένη εικόνα είναι μόνο για εικονογράφιση, δεν έχει καμία σχέση με τη συλλογή δεδομένων και τις κατηγορίες μας).\n",
        "\n",
        "Για τον τελικό χάρτη SOM που θα παράξετε για τη συλλογή σας, αναλύστε σε markdown με συγκεκριμένη αναφορά σε αριθμούς clusters και τη σημασιολογική ερμηνεία τους τις εξής τρεις τοπολογικές ιδιότητες του SOM: \n",
        "\n",
        "1. Δεδομένα που έχουν μεγαλύτερη πυκνότητα πιθανότητας στο χώρο εισόδου τείνουν να απεικονίζονται με περισσότερους νευρώνες στο χώρο μειωμένης διαστατικότητας. Δώστε παραδείγματα από συχνές και λιγότερο συχνές κατηγορίες ταινιών. Χρησιμοποιήστε τις στατιστικές των κατηγοριών στη συλλογή σας και τον αριθμό κόμβων που χαρακτηρίζουν.\n",
        "2. Μακρινά πρότυπα εισόδου τείνουν να απεικονίζονται απομακρυσμένα στο χάρτη. Υπάρχουν χαρακτηριστικές κατηγορίες ταινιών που ήδη από μικρούς χάρτες τείνουν να τοποθετούνται σε διαφορετικά ή απομονωμένα σημεία του χάρτη.\n",
        "3. Κοντινά πρότυπα εισόδου τείνουν να απεικονίζονται κοντά στο χάρτη. Σε μεγάλους χάρτες εντοπίστε είδη ταινιών και κοντινά τους υποείδη.\n",
        "\n",
        "Προφανώς τοποθέτηση σε 2 διαστάσεις που να σέβεται μια απόλυτη τοπολογία δεν είναι εφικτή, αφενός γιατί δεν υπάρχει κάποια απόλυτη εξ ορισμού για τα κινηματογραφικά είδη ακόμα και σε πολλές διαστάσεις, αφετέρου γιατί πραγματοποιούμε μείωση διαστατικότητας.\n",
        "\n",
        "4. Εντοπίστε μεγάλα clusters και μικρά clusters που δεν έχουν σαφή χαρακτηριστικά. Εντοπίστε clusters συγκεκριμένων ειδών που μοιάζουν να μην έχουν τοπολογική συνάφεια με γύρω περιοχές. Προτείνετε πιθανές ερμηνείες.\n",
        "\n",
        "\n",
        "\n",
        "Τέλος, εντοπίστε clusters που έχουν κατά την άποψή σας ιδιαίτερο ενδιαφέρον στη συλλογή της ομάδας σας (data exploration / discovery value) και σχολιάστε.\n"
      ]
    },
    {
      "cell_type": "markdown",
      "metadata": {
        "id": "HrmeH3_7mwYH",
        "colab_type": "text"
      },
      "source": [
        "#Ερωτηση 1\n",
        "\n"
      ]
    },
    {
      "cell_type": "markdown",
      "metadata": {
        "id": "8IMn_YreQcFS",
        "colab_type": "text"
      },
      "source": [
        "Τα δεδομενα που εχουν μεγαλυτερη συχνοτητα εμφανισης, ειναι λογικο οτι θα εμφανιστουν και σε περισσοτερους νευρωνες. Για να το ελεγξουμε αυτο, δημιουργησαμε την παρακατω συναρτηση, η οποια για μια δεδομενη κατηγορια ταινιων βρισκει καθε νευρωνα στον οποιο η κατηγορια αυτη εμφανιζεται με συχνοτητα που να την τοποθετει στις τοπ 5 κατηγοριες για αυτον τον νευρωνα (πιστευουμε οτι ενας νευρωνας δεν αρκει να εχει απλως την κατηγορια για να θεωρειται οτι η κατηγορια χαρακτηριζει τον νευρωνα, αλλα πρεπει να εχει και μια σχετικα υψηλη συχνοτητα στον νευρωνα αυτον), και μετραει συνολικα σε ποσους νευρωνες εμφανιστηκε. "
      ]
    },
    {
      "cell_type": "code",
      "metadata": {
        "id": "YRgWaQsWnvIS",
        "colab_type": "code",
        "colab": {}
      },
      "source": [
        "def find_category_in_neurons(category):\n",
        "\n",
        "    number_of_neurons_found_in = 0\n",
        "    for neuron in range(n_rows*n_columns):\n",
        "\n",
        "        list_of_movies = list(np.where(indices==neuron))\n",
        "        category_list = []\n",
        "        for i in range(len(list_of_movies[0])):\n",
        "            cats1 = categories[list_of_movies[0][i]][0]\n",
        "            #split on comma\n",
        "            cats1 = cats1.split(',')\n",
        "        \n",
        "            for cat1 in cats1:\n",
        "                #strip of extra spaces\n",
        "                cat1 = cat1.strip(' ')\n",
        "                #strip of quotes\n",
        "                cat1 = cat1.strip('\"')\n",
        "                #put it on the list\n",
        "                category_list.append(cat1)\n",
        "        #use the counter module to get the unique names of the categories\n",
        "        uniq1 = list(Counter(category_list).keys())\n",
        "        #as well as the indices of the categories themselves:\n",
        "        indices1 = list(Counter(category_list).values())\n",
        "        if (category in uniq1):\n",
        "            if (uniq1.index(category) < 5):\n",
        "                number_of_neurons_found_in += 1\n",
        "\n",
        "    print(\"Category '\" + category + \"', found in \" , number_of_neurons_found_in, \"neurons.\")"
      ],
      "execution_count": 0,
      "outputs": []
    },
    {
      "cell_type": "code",
      "metadata": {
        "id": "ybXzEIHfovie",
        "colab_type": "code",
        "colab": {
          "base_uri": "https://localhost:8080/",
          "height": 436
        },
        "outputId": "2611b7f1-4c1c-4ef3-dc45-9e7e2fe55e3c"
      },
      "source": [
        "movie_list_ids = list(range(5000))\n",
        "print_categories_stats(movie_list_ids)\n",
        "find_category_in_neurons(\"Drama\")\n",
        "find_category_in_neurons(\"Comedy\")\n",
        "find_category_in_neurons(\"Romance Film\")\n",
        "find_category_in_neurons(\"Thriller\")\n",
        "find_category_in_neurons(\"Action\")\n",
        "find_category_in_neurons(\"World cinema\")\n",
        "find_category_in_neurons(\"Crime Fiction\")\n",
        "find_category_in_neurons(\"Horror\")\n",
        "find_category_in_neurons(\"Black-and-white\")\n",
        "find_category_in_neurons(\"Short Film\")\n",
        "find_category_in_neurons(\"Family Film\")\n",
        "\n",
        "print()\n",
        "\n",
        "find_category_in_neurons(\"Comedy film\")\n",
        "find_category_in_neurons(\"Crime Thriller\")\n",
        "find_category_in_neurons(\"War film\")\n",
        "find_category_in_neurons(\"Silent film\")\n",
        "find_category_in_neurons(\"Psychological thriller\")\n",
        "find_category_in_neurons(\"Bollywood\")\n",
        "\n",
        "\n",
        "print()\n",
        "\n",
        "\n",
        "find_category_in_neurons(\"Coming-of-age film\")"
      ],
      "execution_count": 198,
      "outputs": [
        {
          "output_type": "stream",
          "text": [
            "Overall Genre Stats:\n",
            "272 Categories.\n",
            "[('Drama', 2302), ('Comedy', 1240), ('Romance Film', 778), ('Thriller', 771), ('Action', 703), ('World cinema', 605), ('Crime Fiction', 496), ('Horror', 496), ('Black-and-white', 462), ('Short Film', 428), ('Family Film', 407), ('Action/Adventure', 406), ('Adventure', 396), ('Indie', 362), ('Musical', 317), ('Animation', 288), ('Science Fiction', 285), ('Romantic drama', 285), ('Mystery', 254), ('Romantic comedy', 250), ('Fantasy', 232), ('Comedy film', 227), ('Crime Thriller', 186), ('War film', 177), ('Japanese Movies', 151), ('Silent film', 147), ('Psychological thriller', 146), ('Comedy-drama', 142), ('Bollywood', 138), ('Period piece', 136), ('Film adaptation', 130), ('Documentary', 121), ('Western', 116), ('Chinese Movies', 105), ('Coming of age', 97), ('Teen', 95), ('Television movie', 90), ('Parody', 90), ('Cult', 84), ('Black comedy', 83), (\"Children's/Family\", 81), ('Suspense', 80), ('Family Drama', 78), ('Slapstick', 76), ('Sports', 76), ('Film noir', 75), ('Martial Arts Film', 75), ('Biographical film', 73), ('Slasher', 72), ('Supernatural', 63), ('Action Thrillers', 63), ('Satire', 62), ('Biography', 61), ('Political drama', 54), ('Spy', 53), ('Melodrama', 52), (\"Children's\", 49), ('Biopic [feature]', 45), ('Costume drama', 45), ('Anime', 44), ('Music', 42), ('Art film', 42), ('Crime Drama', 40), ('Historical fiction', 39), ('B-movie', 37), ('Ensemble Film', 36), ('Creature Film', 34), ('Political thriller', 34), ('Zombie Film', 33), ('History', 31), ('Buddy film', 31), ('Filipino Movies', 30), ('Detective', 30), ('Docudrama', 29), (\"Children's Fantasy\", 29), ('Road movie', 29), ('Disaster', 29), ('Fantasy Adventure', 28), ('Horror Comedy', 28), ('Superhero movie', 28), ('Gangster Film', 28), ('Screwball comedy', 27), ('Sex comedy', 26), ('Musical comedy', 25), ('Detective fiction', 24), ('Epic', 23), ('Surrealism', 22), ('Culture & Society', 21), ('Comedy of Errors', 20), ('Childhood Drama', 20), ('Action Comedy', 20), ('Computer Animation', 20), ('Family-Oriented Adventure', 19), ('Pre-Code', 19), ('Comedy of manners', 19), ('Marriage Drama', 19), ('Experimental film', 18), ('Domestic Comedy', 18), ('Crime Comedy', 18), ('Courtroom Drama', 17), ('Heist', 17), ('Avant-garde', 16), ('Animal Picture', 16), ('Political cinema', 16), ('Sci-Fi Horror', 15), ('Superhero', 15), ('Mockumentary', 15), ('Natural horror films', 15), ('Fantasy Comedy', 14), ('Musical Drama', 13), ('Jungle Film', 13), ('Social problem film', 12), ('Doomsday film', 12), ('Wuxia', 12), ('Chase Movie', 12), ('Absurdism', 12), ('Comedy Thriller', 12), ('Animated cartoon', 12), ('Gross out', 12), ('Gross-out film', 12), ('Alien Film', 12), ('Americana', 11), ('Juvenile Delinquency Film', 11), ('Erotic thriller', 11), ('Propaganda film', 11), ('Monster movie', 11), ('Monster', 11), ('Dystopia', 11), ('Haunted House Film', 11), ('Remake', 11), ('Stop motion', 11), ('Time travel', 10), ('Airplanes and airports', 10), ('Christian film', 10), ('Costume Adventure', 10), ('Blaxploitation', 10), ('Medical fiction', 10), ('Caper story', 10), ('Social issues', 10), ('Historical drama', 9), ('Dance', 9), ('Addiction Drama', 9), ('Historical Epic', 8), ('Boxing', 8), ('Combat Films', 8), ('Swashbuckler films', 8), ('New Hollywood', 8), ('Adventure Comedy', 8), ('Holiday Film', 8), ('Media Satire', 8), ('Tragedy', 7), ('Giallo', 7), ('Spaghetti Western', 7), ('Tamil cinema', 7), ('Rockumentary', 7), ('Comedy Western', 7), ('Feminist Film', 7), ('Fairy tale', 7), ('Romantic fantasy', 6), ('Slice of life story', 6), ('Neo-noir', 6), ('Glamorized Spy Film', 6), ('Roadshow theatrical release', 6), ('Religious Film', 6), ('Future noir', 6), ('Political satire', 6), ('Sword and sorcery films', 6), ('Prison', 6), ('Hip hop movies', 5), ('Workplace Comedy', 5), ('Punk rock', 5), ('Gothic Film', 5), ('Kitchen sink realism', 5), ('Revisionist Western', 5), ('Christmas movie', 5), ('Auto racing', 5), ('Master Criminal Films', 5), ('Tollywood', 4), ('Costume Horror', 4), ('Erotic Drama', 4), ('Stoner film', 4), ('Nature', 4), ('Hybrid Western', 4), ('Animated Musical', 4), ('Existentialism', 4), ('Escape Film', 4), ('Beach Film', 4), ('Whodunit', 4), ('Fantasy Drama', 3), ('Tragicomedy', 3), ('Steampunk', 3), ('Sci-Fi Adventure', 3), ('Apocalyptic and post-apocalyptic fiction', 3), ('Language & Literature', 3), ('Sword and sorcery', 3), ('Animals', 3), ('Foreign legion', 3), ('Comedy horror', 3), ('Travel', 3), ('Educational', 3), ('B-Western', 3), ('Fan film', 2), ('Crime', 2), ('Indian Western', 2), ('Archaeology', 2), ('Interpersonal Relationships', 2), ('Splatter film', 2), ('Sword and Sandal', 2), ('Environmental Science', 2), ('Vampire movies', 2), ('British Empire Film', 2), ('Anti-war', 2), ('Inspirational Drama', 2), ('Hagiography', 2), ('Heavenly Comedy', 2), ('Filipino', 2), ('Illnesses & Disabilities', 2), ('Cold War', 2), ('Film u00e0 clef', 2), ('Albino bias', 2), ('Cavalry Film', 1), ('Latino', 1), ('Dogme 95', 1), ('News', 1), ('Kafkaesque', 1), ('Archives and records', 1), ('Northern', 1), ('Libraries and librarians', 1), ('Space western', 1), ('Media Studies', 1), ('Cyberpunk', 1), ('Anti-war film', 1), ('Psycho-biddy', 1), ('Natural disaster', 1), ('Historical Documentaries', 1), ('Computers', 1), ('Instrumental Music', 1), ('Backstage Musical', 1), ('Clay animation', 1), ('Sci-Fi Thriller', 1), ('British New Wave', 1), ('Bengali Cinema', 1), ('Courtroom Comedy', 1), ('Czechoslovak New Wave', 1), ('Health & Fitness', 1), ('Operetta', 1), ('Coming-of-age film', 1), ('Bloopers & Candid Camera', 1), ('Graphic & Applied Arts', 1), ('Legal drama', 1), ('Mondo film', 1), ('Buddy cop', 1), ('Samurai cinema', 1), ('Sci Fi Pictures original films', 1), ('Law & Crime', 1), ('Epic Western', 1), ('Stand-up comedy', 1), ('Feature film', 1), ('Live action', 1), ('Movie serial', 1), ('Road-Horror', 1), ('Baseball', 1), ('Goat gland', 1), ('Heaven-Can-Wait Fantasies', 1), ('Concert film', 1), ('Exploitation', 1), ('Roadshow/Carny', 1), ('Mumblecore', 1), ('Parkour in popular culture', 1), ('Reboot', 1), ('Jukebox musical', 1), (\"Children's Entertainment\", 1)]\n",
            "Category 'Drama', found in  136 neurons.\n",
            "Category 'Comedy', found in  93 neurons.\n",
            "Category 'Romance Film', found in  44 neurons.\n",
            "Category 'Thriller', found in  63 neurons.\n",
            "Category 'Action', found in  40 neurons.\n",
            "Category 'World cinema', found in  54 neurons.\n",
            "Category 'Crime Fiction', found in  44 neurons.\n",
            "Category 'Horror', found in  39 neurons.\n",
            "Category 'Black-and-white', found in  50 neurons.\n",
            "Category 'Short Film', found in  30 neurons.\n",
            "Category 'Family Film', found in  33 neurons.\n",
            "\n",
            "Category 'Comedy film', found in  18 neurons.\n",
            "Category 'Crime Thriller', found in  6 neurons.\n",
            "Category 'War film', found in  15 neurons.\n",
            "Category 'Silent film', found in  16 neurons.\n",
            "Category 'Psychological thriller', found in  11 neurons.\n",
            "Category 'Bollywood', found in  11 neurons.\n",
            "\n",
            "Category 'Coming-of-age film', found in  0 neurons.\n"
          ],
          "name": "stdout"
        }
      ]
    },
    {
      "cell_type": "markdown",
      "metadata": {
        "id": "vdVlMiVqGu-b",
        "colab_type": "text"
      },
      "source": [
        "Βλεπουμε οτι οι κατηγοριες που εμφανιζονται πιο συχνα στο συνολικο συνολο δεδομενων, εμφανιζονται και σε περισσοτερους νευρωνες σαν τοπ κατηγορια (δηλαδη κατηγορια που να εχει απο τις περισσοτερες εμφανισεις σε εναν νευρωνα). Αυτο γινεται ιδιαιτερα ξεκαθαρο αν εκτελεσουμε το κελι παραπανω, που μας δειχνει οτι οι κατηγοριες που ειναι οι πιο συχνες γενικα, ειναι και εξαιρετικα συχνες στους νευρωνες (πχ Drama - 136 νευρωνες ~ 40% των νευρωνων που χρησιμοποιουνται). Ακομα, ειναι εμφανες (με καποιες μικρες αποκλισεις βεβαια) οτι οσο μια κατηγορια ειναι λιγοτερο συχνη στα δεδομενα, ειναι και λιγοτερο συχνη στους νευρωνες. Τελος, γινεται ξεκαθαρο οτι κατηγοριες που ειναι λιγο συχνες στα δεδομενα, εμφανιζονται σαν τοπ κατηγορια σε ελαχιστους νευρωνες, ενω κατηγοριες που ειναι εξαιρετικα σπανιες, δεν εμφανιζονται ως τοπ κατηγορια σε κανεναν νευρωνα (πχ \"Coming-of-age film\")"
      ]
    },
    {
      "cell_type": "markdown",
      "metadata": {
        "id": "AaHtE0gUt99e",
        "colab_type": "text"
      },
      "source": [
        "#Ερωτηση 2\n",
        "\n"
      ]
    },
    {
      "cell_type": "code",
      "metadata": {
        "id": "mEkd_Rpqud9r",
        "colab_type": "code",
        "colab": {}
      },
      "source": [
        "def distant_categories(category1, category2):\n",
        "\n",
        "    neurons_found_in1 = []\n",
        "    neurons_found_in2 = []\n",
        "\n",
        "    for neuron in range(n_rows*n_columns):\n",
        "\n",
        "        list_of_movies = list(np.where(indices==neuron))\n",
        "        category_list = []\n",
        "        for i in range(len(list_of_movies[0])):\n",
        "            cats1 = categories[list_of_movies[0][i]][0]\n",
        "            #split on comma\n",
        "            cats1 = cats1.split(',')\n",
        "        \n",
        "            for cat1 in cats1:\n",
        "                #strip of extra spaces\n",
        "                cat1 = cat1.strip(' ')\n",
        "                #strip of quotes\n",
        "                cat1 = cat1.strip('\"')\n",
        "                #put it on the list\n",
        "                category_list.append(cat1)\n",
        "        #use the counter module to get the unique names of the categories\n",
        "        uniq1 = list(Counter(category_list).keys())\n",
        "        #as well as the indices of the categories themselves:\n",
        "        indices1 = list(Counter(category_list).values())\n",
        "        if (category1 in uniq1):\n",
        "            if (uniq1.index(category1) < 5):\n",
        "                l = list(ubmus[neuron])\n",
        "                neurons_found_in1.append((l[0], l[1]))\n",
        "        if (category2 in uniq1):\n",
        "            if (uniq1.index(category2) < 5):\n",
        "                l = list(ubmus[neuron])\n",
        "                neurons_found_in2.append((l[0], l[1]))\n",
        "    \n",
        "    \n",
        "    print(\"Category '\" + category1 + \"', found in \", len(neurons_found_in1), \" neurons:\" , neurons_found_in1)\n",
        "    print()\n",
        "\n",
        "    print(\"Category '\" + category2 + \"', found in \", len(neurons_found_in2), \" neurons:\" , neurons_found_in2)\n",
        "    print()\n",
        "\n",
        "    intersect = list(set(neurons_found_in1).intersection(neurons_found_in2))\n",
        "\n",
        "    print(\"Both categories are found in \", len(intersect), \" neurons:\" , intersect)"
      ],
      "execution_count": 0,
      "outputs": []
    },
    {
      "cell_type": "code",
      "metadata": {
        "id": "o9cOCSoLvbfF",
        "colab_type": "code",
        "colab": {
          "base_uri": "https://localhost:8080/",
          "height": 124
        },
        "outputId": "983f4f95-ea56-46bb-8903-5951ea733ecc"
      },
      "source": [
        "distant_categories(\"Romance Film\", \"Crime Fiction\")"
      ],
      "execution_count": 175,
      "outputs": [
        {
          "output_type": "stream",
          "text": [
            "Category 'Romance Film', found in  44  neurons: [(0, 4), (0, 13), (1, 2), (3, 13), (4, 13), (6, 6), (8, 7), (8, 8), (8, 16), (9, 5), (9, 7), (9, 8), (10, 4), (10, 7), (10, 8), (11, 0), (11, 1), (11, 2), (11, 3), (12, 0), (12, 1), (12, 2), (13, 0), (13, 1), (13, 2), (13, 3), (14, 1), (14, 2), (16, 1), (16, 2), (17, 0), (17, 2), (17, 3), (17, 4), (17, 5), (18, 0), (18, 3), (18, 5), (18, 14), (19, 0), (19, 1), (19, 2), (19, 4), (19, 5)]\n",
            "\n",
            "Category 'Crime Fiction', found in  44  neurons: [(0, 19), (1, 18), (1, 19), (2, 14), (2, 18), (2, 19), (3, 14), (3, 17), (3, 18), (3, 19), (4, 17), (4, 18), (4, 19), (5, 6), (5, 18), (5, 19), (6, 1), (6, 4), (6, 6), (6, 18), (6, 19), (7, 1), (7, 13), (7, 16), (7, 18), (7, 19), (8, 8), (8, 13), (8, 14), (9, 0), (10, 17), (10, 18), (11, 15), (12, 6), (12, 14), (14, 4), (18, 2), (18, 4), (18, 8), (18, 19), (19, 1), (19, 17), (19, 18), (19, 19)]\n",
            "\n",
            "Both categories are found in  3  neurons: [(8, 8), (19, 1), (6, 6)]\n"
          ],
          "name": "stdout"
        }
      ]
    },
    {
      "cell_type": "markdown",
      "metadata": {
        "id": "HkxxBtEoQSut",
        "colab_type": "text"
      },
      "source": [
        "Παρατηρούμε το παραπάνω παράδειγμα για τα είδη \"Romance Film\" και \"Crime Fiction\", τα οποία εμφανίζονται και τα δύο σε έναν σχετικά μεγάλο αριθμό νευρώνων ίσο με 44. Παρόλα αυτά κυριαρχούν ταυτόχρονα μόνο σε 3 από αυτούς, γεγονός που αναδεικνύει τις αναδεικνύει τις μεγάλες διαφορές μεταξύ των ταινιών που ανήκουν σε αυτά τα δύο είδη. Εντυπωσιακό είναι ακόμα το γεγονός πως οι περισσότερες ταινίες \"Crime Fiction\" βρίσκονται στο πάνω μέρος του SOM (μονοψήφιος ο πρώτος δείκτης) ενώ οι περισσότερες ταινίες \"Romance Film\" βρίσκονται στο κάτω μέρος του (διψήφιος ο πρώτος δείκτης). Επίσης από τους 44 νευρώνες για το \"Romance Film\" μόνο 4 βρίσκονται στο δεξί μέρος του χάρτη (διψήφιος ο δεύτερος δείκτης) και από τους 44 νευρώνες για το \"Crime Fiction\" μόνο 11 βρίσκονται στο αριστερό μέρος του χάρτη (μονοψήφιος ο δεύτερος δείκτης). Αυτά τα στατιστικά αποδεικνύουν την διαφορά που αναφέραμε παραπάνω."
      ]
    },
    {
      "cell_type": "markdown",
      "metadata": {
        "id": "09nSl7k3z_-x",
        "colab_type": "text"
      },
      "source": [
        "#Ερωτηση 3\n"
      ]
    },
    {
      "cell_type": "code",
      "metadata": {
        "id": "CHn_4h9m0Dno",
        "colab_type": "code",
        "colab": {
          "base_uri": "https://localhost:8080/",
          "height": 280
        },
        "outputId": "9141a459-185e-4fd7-af37-a1f5e24dc0f2"
      },
      "source": [
        "distant_categories(\"Thriller\", \"Psychological thriller\")\n",
        "print()\n",
        "print()\n",
        "print()\n",
        "print()\n",
        "distant_categories(\"Comedy\", \"Black comedy\")"
      ],
      "execution_count": 188,
      "outputs": [
        {
          "output_type": "stream",
          "text": [
            "Category 'Thriller', found in  63  neurons: [(0, 16), (0, 17), (0, 18), (0, 19), (1, 16), (1, 17), (1, 18), (1, 19), (2, 8), (2, 15), (2, 16), (2, 17), (2, 18), (2, 19), (3, 10), (3, 15), (3, 16), (3, 17), (3, 18), (3, 19), (4, 17), (4, 18), (4, 19), (5, 15), (5, 16), (5, 18), (5, 19), (6, 17), (6, 18), (6, 19), (7, 14), (7, 15), (7, 16), (7, 17), (7, 18), (7, 19), (8, 14), (8, 15), (8, 16), (8, 17), (8, 18), (8, 19), (9, 2), (9, 5), (9, 15), (9, 16), (9, 18), (9, 19), (10, 17), (10, 18), (10, 19), (11, 18), (11, 19), (13, 0), (14, 4), (14, 13), (16, 8), (16, 19), (17, 2), (18, 4), (18, 7), (18, 8), (19, 2)]\n",
            "\n",
            "Category 'Psychological thriller', found in  11  neurons: [(6, 19), (7, 17), (7, 18), (7, 19), (8, 12), (8, 17), (8, 18), (9, 16), (10, 16), (11, 17), (13, 17)]\n",
            "\n",
            "Both categories are found in  7  neurons: [(6, 19), (7, 18), (7, 19), (9, 16), (8, 18), (7, 17), (8, 17)]\n",
            "\n",
            "\n",
            "\n",
            "\n",
            "Category 'Comedy', found in  93  neurons: [(0, 0), (0, 13), (0, 14), (1, 1), (1, 2), (1, 3), (1, 9), (1, 13), (1, 14), (2, 0), (2, 1), (2, 2), (2, 3), (2, 14), (2, 15), (2, 16), (2, 19), (3, 0), (3, 1), (3, 2), (4, 0), (4, 1), (4, 2), (4, 3), (5, 0), (5, 1), (5, 3), (5, 4), (6, 0), (6, 1), (6, 2), (6, 3), (6, 4), (7, 0), (7, 1), (7, 2), (7, 3), (7, 17), (8, 0), (8, 1), (8, 3), (8, 14), (9, 0), (9, 1), (9, 3), (10, 0), (10, 4), (11, 0), (11, 1), (11, 2), (11, 3), (11, 7), (12, 0), (12, 1), (12, 2), (12, 5), (12, 6), (12, 7), (12, 8), (12, 16), (12, 18), (13, 0), (13, 1), (13, 2), (13, 3), (13, 6), (13, 8), (14, 0), (14, 1), (14, 2), (14, 3), (14, 5), (14, 6), (14, 7), (14, 8), (14, 9), (14, 17), (15, 0), (15, 1), (15, 2), (15, 3), (15, 4), (15, 5), (15, 6), (15, 10), (16, 4), (16, 5), (16, 6), (16, 7), (16, 16), (17, 4), (17, 5), (18, 17)]\n",
            "\n",
            "Category 'Black comedy', found in  8  neurons: [(5, 3), (6, 2), (7, 1), (8, 1), (9, 16), (10, 11), (13, 6), (15, 7)]\n",
            "\n",
            "Both categories are found in  5  neurons: [(7, 1), (8, 1), (13, 6), (6, 2), (5, 3)]\n"
          ],
          "name": "stdout"
        }
      ]
    },
    {
      "cell_type": "markdown",
      "metadata": {
        "id": "P3uPtkICQVmH",
        "colab_type": "text"
      },
      "source": [
        "Οι κατηγορίες \"Thriller\" και \"Psychological thriller\" είναι συγγενικές και περιμένουμε να χρησιμοποιούνε κοντινούς νευρώνες στον χάρτη SOM. Η κατηγορία \"Psychological thriller\" κυριαρχεί σε 11 νευρώνες. Στους 7 από αυτούς κυριαρχεί και η κατηγορία \"Thriller\", κάτι που αποδεικνύει τη συνάφεια των δύο ειδών. Παράλληλα η \"Psychological thriller\" εμφανίζεται και στους νευρώνες (10, 16), (11, 17). Η \"Thriller\", αν και δεν εμφανίζεται σε αυτούς, εμφανίζεται στους (10, 17), (11, 18) που είναι οι διπλανοί των παραπάνω αντίστοιχα.\n",
        "\n",
        "Το ίδιο παρατηρείται και με τις κατηγορίες \"Comedy\" και \"Black Comedy\", με την δεύτερη να κυριαρχεί σε 8 νευρώνες και να συγκατοικεί με την πρώτη σε 5 από αυτούς. Όπως και πριν η \"Black Comedy\" κυριαρχεί στον (15, 7) και η \"Comedy\" στον διπλανό (16, 7)."
      ]
    },
    {
      "cell_type": "markdown",
      "metadata": {
        "id": "AlSTmqE18KZn",
        "colab_type": "text"
      },
      "source": [
        "#Ερωτηση 4"
      ]
    },
    {
      "cell_type": "markdown",
      "metadata": {
        "id": "ti7Iq-ZM6zF2",
        "colab_type": "text"
      },
      "source": [
        "Ενα παραδειγμα μεγαλου cluster που δεν εχει σαφη χαρακτηριστικα ειναι:"
      ]
    },
    {
      "cell_type": "code",
      "metadata": {
        "id": "RXUas7Rc7SVl",
        "colab_type": "code",
        "colab": {
          "base_uri": "https://localhost:8080/",
          "height": 89
        },
        "outputId": "460fbc38-3743-4225-8b3f-6da1c2959b67"
      },
      "source": [
        "neuron_movies_report(print_cluster_neurons_movies_report(21))"
      ],
      "execution_count": 191,
      "outputs": [
        {
          "output_type": "stream",
          "text": [
            "Overall Genre Stats:\n",
            "109 Categories.\n",
            "[('Comedy', 96), ('Thriller', 65), ('Drama', 63), ('Horror', 52), ('Romantic comedy', 33), ('Musical', 31), ('Romance Film', 29), ('Black-and-white', 19), ('Chinese Movies', 19), ('Teen', 18), ('Slasher', 18), ('Crime Fiction', 13), ('Fantasy', 13), ('World cinema', 12), ('Coming of age', 10), ('Suspense', 10), ('Psychological thriller', 9), ('Bollywood', 8), ('Cult', 7), ('Science Fiction', 7), ('Adventure', 7), ('Martial Arts Film', 7), ('Parody', 6), ('Filipino Movies', 6), ('Mystery', 6), ('Black comedy', 5), ('Comedy of Errors', 5), ('Wuxia', 5), ('Biographical film', 5), ('B-movie', 5), ('Costume drama', 4), ('Sports', 4), ('Supernatural', 4), ('Giallo', 4), ('Action', 4), ('Sex comedy', 4), ('War film', 3), ('Art film', 3), ('Historical drama', 3), ('Indie', 3), ('Disaster', 3), ('Action/Adventure', 3), ('Fantasy Comedy', 3), ('Satire', 3), ('Rockumentary', 2), (\"Children's\", 2), ('Pre-Code', 2), ('Romantic drama', 2), ('Silent film', 2), ('Film noir', 2), ('Historical fiction', 2), ('Religious Film', 2), ('Action Thrillers', 2), ('Spy', 2), ('Television movie', 2), ('Crime Thriller', 2), ('Creature Film', 2), ('Japanese Movies', 2), ('Film adaptation', 2), ('Melodrama', 2), ('Beach Film', 2), ('Domestic Comedy', 2), ('Comedy film', 2), ('Buddy film', 2), ('Crime Comedy', 1), ('Music', 1), (\"Children's/Family\", 1), (\"Children's Fantasy\", 1), ('Family-Oriented Adventure', 1), ('Dance', 1), ('Western', 1), ('Short Film', 1), ('Family Film', 1), ('Spaghetti Western', 1), ('Remake', 1), ('Kitchen sink realism', 1), ('Animated cartoon', 1), ('Mockumentary', 1), ('Propaganda film', 1), ('Tamil cinema', 1), ('Musical comedy', 1), ('Historical Epic', 1), ('Gangster Film', 1), ('Fan film', 1), ('Zombie Film', 1), ('Heist', 1), ('Alien Film', 1), ('Whodunit', 1), ('Monster movie', 1), ('Juvenile Delinquency Film', 1), ('Comedy Thriller', 1), ('Comedy horror', 1), ('Haunted House Film', 1), ('Filipino', 1), ('Natural horror films', 1), ('Period piece', 1), ('Slapstick', 1), ('Screwball comedy', 1), ('Ensemble Film', 1), ('Comedy of manners', 1), ('Political drama', 1), ('Superhero movie', 1), ('Boxing', 1), ('Americana', 1), ('Animation', 1), ('Media Satire', 1), ('Crime Drama', 1), ('Heavenly Comedy', 1), ('Road movie', 1)]\n"
          ],
          "name": "stdout"
        }
      ]
    },
    {
      "cell_type": "markdown",
      "metadata": {
        "id": "X6O5UzKr7S8o",
        "colab_type": "text"
      },
      "source": [
        "\n",
        "Ενα παραδειγμα μικρου cluster που δεν εχει σαφη χαρακτηριστικα ειναι:"
      ]
    },
    {
      "cell_type": "code",
      "metadata": {
        "id": "NDumeORc7aEi",
        "colab_type": "code",
        "colab": {
          "base_uri": "https://localhost:8080/",
          "height": 89
        },
        "outputId": "9e49f97e-6417-4ca8-aa23-51914387e915"
      },
      "source": [
        "neuron_movies_report(print_cluster_neurons_movies_report(19))"
      ],
      "execution_count": 192,
      "outputs": [
        {
          "output_type": "stream",
          "text": [
            "Overall Genre Stats:\n",
            "38 Categories.\n",
            "[('Romance Film', 26), ('Comedy', 26), ('Thriller', 24), ('Psychological thriller', 20), ('Horror', 12), ('Supernatural', 10), ('Teen', 5), ('Short Film', 4), ('Animated cartoon', 4), ('Family Film', 4), ('Science Fiction', 4), ('Indie', 4), ('Suspense', 2), ('Black-and-white', 2), ('World cinema', 2), ('Haunted House Film', 2), ('Japanese Movies', 2), ('Mystery', 2), ('Action', 2), ('Comedy-drama', 2), ('Sex comedy', 2), ('Musical comedy', 1), ('Black comedy', 1), ('Film adaptation', 1), ('Spy', 1), ('Film noir', 1), ('Media Satire', 1), ('Christian film', 1), ('Zombie Film', 1), ('Crime Thriller', 1), ('Satire', 1), ('Comedy film', 1), ('Ensemble Film', 1), ('Gross-out film', 1), ('Gross out', 1), ('Adventure', 1), ('Fantasy', 1), ('Crime Fiction', 1)]\n"
          ],
          "name": "stdout"
        }
      ]
    },
    {
      "cell_type": "markdown",
      "metadata": {
        "id": "gpAbU53p8WTb",
        "colab_type": "text"
      },
      "source": [
        "Clusters που δεν εχουν τοπολογικη συναφεια:"
      ]
    },
    {
      "cell_type": "code",
      "metadata": {
        "id": "OFKOhCi-8aGr",
        "colab_type": "code",
        "colab": {
          "base_uri": "https://localhost:8080/",
          "height": 245
        },
        "outputId": "bbcd240c-b506-4567-a543-a354ab625b99"
      },
      "source": [
        "neuron_movies_report(print_cluster_neurons_movies_report(3))\n",
        "neuron_movies_report(print_cluster_neurons_movies_report(16))\n",
        "neuron_movies_report(print_cluster_neurons_movies_report(17))\n",
        "neuron_movies_report(print_cluster_neurons_movies_report(19))"
      ],
      "execution_count": 197,
      "outputs": [
        {
          "output_type": "stream",
          "text": [
            "Overall Genre Stats:\n",
            "122 Categories.\n",
            "[('Adventure', 168), ('Action', 166), ('Short Film', 157), ('Family Film', 132), ('Animation', 122), ('Thriller', 88), ('Fantasy', 69), ('Drama', 66), ('Crime Fiction', 49), ('Comedy', 38), ('Science Fiction', 36), ('Crime Thriller', 34), ('Comedy film', 33), (\"Children's/Family\", 31), ('Black-and-white', 29), ('Action/Adventure', 24), ('Indie', 22), (\"Children's\", 22), (\"Children's Fantasy\", 21), ('Musical', 17), ('Spy', 15), ('Documentary', 14), ('Romance Film', 14), ('War film', 14), ('Fantasy Adventure', 12), ('World cinema', 12), ('Computer Animation', 11), ('Superhero movie', 11), ('Martial Arts Film', 11), ('Japanese Movies', 10), ('Film noir', 10), ('Western', 9), ('Family-Oriented Adventure', 8), ('Mystery', 8), ('Silent film', 7), ('Superhero', 7), ('Film adaptation', 7), ('Action Thrillers', 7), ('Psychological thriller', 7), ('Anime', 6), ('Crime Drama', 6), ('Stop motion', 5), ('Television movie', 5), ('Costume drama', 5), ('Period piece', 5), ('Chinese Movies', 5), ('Suspense', 5), ('Gangster Film', 5), ('Music', 4), ('Animated cartoon', 4), ('Adventure Comedy', 4), ('Fairy tale', 4), ('Action Comedy', 4), ('Sword and sorcery films', 4), ('Historical fiction', 4), ('Jungle Film', 4), ('Political thriller', 4), ('Animated Musical', 3), ('Animal Picture', 3), ('Costume Adventure', 3), ('Sports', 3), ('Wuxia', 3), ('Horror', 3), ('Detective', 3), ('Bollywood', 3), ('Romantic drama', 3), ('Propaganda film', 2), ('Romantic fantasy', 2), ('Holiday Film', 2), ('Sword and sorcery', 2), ('Doomsday film', 2), ('Biopic [feature]', 2), ('Cult', 2), ('Road movie', 2), ('Alien Film', 2), ('Chase Movie', 2), ('Docudrama', 2), ('Comedy Thriller', 2), ('Buddy film', 2), ('Courtroom Drama', 2), ('Fan film', 1), ('Satire', 1), ('History', 1), ('Educational', 1), ('Melodrama', 1), ('Fantasy Comedy', 1), ('Coming-of-age film', 1), ('Coming of age', 1), ('Airplanes and airports', 1), ('Swashbuckler films', 1), ('Auto racing', 1), ('Epic', 1), ('Parody', 1), ('Monster', 1), ('Sci-Fi Adventure', 1), ('Comedy-drama', 1), ('Zombie Film', 1), ('Glamorized Spy Film', 1), ('Master Criminal Films', 1), ('New Hollywood', 1), ('Apocalyptic and post-apocalyptic fiction', 1), ('Space western', 1), ('Hybrid Western', 1), ('Time travel', 1), ('Tamil cinema', 1), ('Sci Fi Pictures original films', 1), ('Feature film', 1), ('Disaster', 1), ('Supernatural', 1), ('Blaxploitation', 1), ('Remake', 1), ('Reboot', 1), ('Biography', 1), ('Caper story', 1), ('Neo-noir', 1), ('Erotic thriller', 1), ('Political drama', 1), ('Domestic Comedy', 1), ('Detective fiction', 1), ('Heavenly Comedy', 1), ('Comedy of Errors', 1), ('Screwball comedy', 1)]\n",
            "Overall Genre Stats:\n",
            "47 Categories.\n",
            "[('Short Film', 94), ('Animation', 73), ('Comedy', 52), ('Science Fiction', 32), ('Action', 32), ('Japanese Movies', 29), ('Black-and-white', 28), ('Anime', 26), ('Fantasy', 19), ('Adventure', 10), (\"Children's\", 9), ('Musical', 9), ('World cinema', 8), ('Drama', 7), ('Horror', 6), ('Action/Adventure', 5), ('Fantasy Adventure', 5), (\"Children's/Family\", 4), ('Family Film', 4), ('Superhero movie', 4), ('Romance Film', 3), ('Animated cartoon', 3), ('Surrealism', 3), ('Music', 3), ('Dystopia', 3), ('Television movie', 3), ('Thriller', 2), ('Alien Film', 2), ('Silent film', 1), ('Computer Animation', 1), ('Experimental film', 1), ('Avant-garde', 1), ('Film noir', 1), ('Documentary', 1), ('Educational', 1), ('Propaganda film', 1), (\"Children's Entertainment\", 1), ('Martial Arts Film', 1), ('Epic', 1), ('Coming of age', 1), ('Parody', 1), ('Sword and sorcery films', 1), ('Action Thrillers', 1), ('Chase Movie', 1), ('Spy', 1), ('Indie', 1), ('Superhero', 1)]\n",
            "Overall Genre Stats:\n",
            "85 Categories.\n",
            "[('Comedy', 207), ('Short Film', 86), ('Drama', 77), ('Silent film', 76), ('Thriller', 75), ('Animation', 59), ('Crime Fiction', 56), ('Mystery', 53), ('Family Film', 48), ('Black-and-white', 48), ('Indie', 35), ('Crime Thriller', 30), ('War film', 17), ('Western', 12), ('Action', 12), ('Film noir', 12), ('Detective', 11), ('Suspense', 10), ('Detective fiction', 10), ('Political thriller', 9), ('Musical', 8), ('Comedy film', 8), ('Political drama', 8), ('Romance Film', 7), ('Sports', 7), ('Television movie', 6), ('Period piece', 6), ('Adventure', 6), ('Crime Drama', 6), ('Science Fiction', 5), ('Horror', 5), ('Action/Adventure', 5), ('World cinema', 5), ('Anime', 5), ('Fantasy', 4), ('Spy', 4), (\"Children's/Family\", 3), (\"Children's Fantasy\", 3), ('Slapstick', 3), ('Docudrama', 3), ('Film adaptation', 3), ('Japanese Movies', 3), ('Romantic drama', 3), ('Fantasy Comedy', 3), ('Stop motion', 2), ('Disaster', 2), ('Biographical film', 2), ('Psychological thriller', 2), ('Ensemble Film', 2), ('Courtroom Drama', 2), ('Costume drama', 2), ('Comedy-drama', 2), ('Whodunit', 2), ('Melodrama', 2), ('Horror Comedy', 2), ('Domestic Comedy', 2), ('Computer Animation', 1), ('Black comedy', 1), ('Buddy film', 1), ('B-Western', 1), ('Combat Films', 1), ('Airplanes and airports', 1), ('Bollywood', 1), ('History', 1), ('Neo-noir', 1), ('Satire', 1), ('New Hollywood', 1), ('Erotic thriller', 1), ('Juvenile Delinquency Film', 1), ('Heist', 1), ('Caper story', 1), ('Costume Adventure', 1), ('Workplace Comedy', 1), ('Haunted House Film', 1), ('Documentary', 1), ('Religious Film', 1), ('Stoner film', 1), ('Comedy Western', 1), ('Animal Picture', 1), ('Superhero movie', 1), ('Romantic comedy', 1), ('Parody', 1), ('Martial Arts Film', 1), ('Chinese Movies', 1), ('Pre-Code', 1)]\n",
            "Overall Genre Stats:\n",
            "38 Categories.\n",
            "[('Romance Film', 26), ('Comedy', 26), ('Thriller', 24), ('Psychological thriller', 20), ('Horror', 12), ('Supernatural', 10), ('Teen', 5), ('Short Film', 4), ('Animated cartoon', 4), ('Family Film', 4), ('Science Fiction', 4), ('Indie', 4), ('Suspense', 2), ('Black-and-white', 2), ('World cinema', 2), ('Haunted House Film', 2), ('Japanese Movies', 2), ('Mystery', 2), ('Action', 2), ('Comedy-drama', 2), ('Sex comedy', 2), ('Musical comedy', 1), ('Black comedy', 1), ('Film adaptation', 1), ('Spy', 1), ('Film noir', 1), ('Media Satire', 1), ('Christian film', 1), ('Zombie Film', 1), ('Crime Thriller', 1), ('Satire', 1), ('Comedy film', 1), ('Ensemble Film', 1), ('Gross-out film', 1), ('Gross out', 1), ('Adventure', 1), ('Fantasy', 1), ('Crime Fiction', 1)]\n"
          ],
          "name": "stdout"
        }
      ]
    },
    {
      "cell_type": "markdown",
      "metadata": {
        "id": "8vgvwbEUGfJI",
        "colab_type": "text"
      },
      "source": [
        "Ερμηνεια:\n",
        "\n",
        "Αρχικα πρεπει να αιτιολογησουμε την ασαφεια στα δυο clusters που παραθεσαμε. Το μικρο και το μεγαλο cluster ειναι ασαφη ως προς τα χαρακτηριστικα τους, καθως εχουν σαν τοπ κατηγοριες εννοιες που δεν ειναι σχετικες (πχ \"Comedy\"-\"Thriller\" η \"Romance Film\"-\"Thriller\"). Αυτο γινεται γιατι οι νευρωνες (αλλα και ο αριθμος των clusters, και οι εποχες που ειχαμε την δυνατοτητα να αφησουμε το SOM να γινει trained) ηταν εξαιρετικα λιγοι, με αποτελεσμα πολλες εννοιες να συγκεντρωνονται στους ιδιους νευρωνες επειδη οι ιδιες οι ταινιες εχουν καποιες \"περιεργες\" κατηγοριες. \n",
        "\n",
        "Επιπλεον, οσον αφορα την τοπολογικη συναφεια μεταξυ των clusters 3,16,17,19, εχουμε να ανεφερουμε τα εξης. Ενω τα clusters αυτα ειναι κοντα μεταξυ τους (ολα ειναι στο πανω αριστερα κομματι του χαρτη), βλεπουμε οτι εχουν διαφορες στις τοπ κατηγοριες τους, που ουσιαστικα εκφραζουν τους ιδιους τους νευρωνες (\"Adventure\"/\"Action\" vs \"Short Film\"/\"Animation\" vs. \"Comedy\" vs. \"Romance Film\"/\"comedy\").\n",
        "\n",
        "Αυτο εχει πολλες πιθανες αιτιες. Μια απο αυτες ειναι οτι η εκπαιδευση του δικτυου που καναμε (100 εποχες) δεν ειναι αρκετη για να προσδιορισθουν πληρως οι νευρωνες στις τοπολογικες ιδιοτητες των δεδομενων μας στον πολυδιαστατο χωρο που βρισκονται. Μια αλλη (προφανης) εξηγηση ειναι οτι προσπαθουμε να \"απλωσουμε\" ενα δισδιαστο \"πεπλο\" (2d plane) σε εναν χωρο εξαιρετικα πολλων διαστασεων. Αυτο εχει ως αποτελεσμα ποτε να μην μπορουμε επακριβως να κανουμε καλη τοπολογικη προσεγγιση των δεδομενων, καθως η μειωση των διαστασεων ειναι απλα παρα πολυ μεγαλη, και ως συνεπεια χανεται παρα πολυ τοπολογικη πληροφορια. Μια οπτικοποιηση spacial information loss ειναι η ακολουθη, που ειναι πολυ πιθανο να συμβαινει και στην περιπτωση μας:\n",
        "\n",
        "https://en.wikipedia.org/wiki/Nonlinear_dimensionality_reduction#/media/File:Lle_hlle_swissroll.png"
      ]
    },
    {
      "cell_type": "markdown",
      "metadata": {
        "colab_type": "text",
        "id": "tYjxGR5DawIy"
      },
      "source": [
        "\n",
        "# Τελική παράδοση άσκησης\n",
        "\n",
        "- Θα παραδώσετε στο mycourses το παρόν notebook επεξεργασμένο με τις απαντήσεις σας για τα ζητούμενα και των δύο εφαρμογών. \n",
        "- Προσέξτε ώστε να **απαντήσετε σε όλα τα σημεία όπου απαιτείται**.\n",
        "- Μαζί Θα παραδώσετε τα joblib dumps των τελικών `corpus_tf_idf.pkl` και `som.pkl` (μεγάλος χάρτης - 5000 ταινίες) που θα χρησιμοποιήσετε. Θυμηθείτε ότι η ανάλυση του χάρτη στο markdown με αναφορά σε αριθμούς clusters πρέπει να αναφέρεται στο dump του χάρτη που θα μας παραδώσετε αλλιώς ο χάρτης που θα προκύψει θα είναι διαφορετικός και τα labels των clusters δεν θα αντιστοιχούν στην ανάλυσή σας. Οδηγίες για την αποθήκευση των dumps θα βρείτε στο [FAQ](https://docs.google.com/document/d/1-E4eQkVnTxa3Jb0HL9OAs11bugYRRZ7RNWpu7yh9G4s/edit?usp=sharing). \n",
        "- Μην ξεχάσετε στην αρχή ένα κελί markdown με **τα στοιχεία της ομάδας σας**.\n",
        "- Στο **zip** που θα παραδώσετε πρέπει να βρίσκονται **4 αρχεία (το .ipynb και το .py του notebook καθώς και τα δύο .pkl)**\n",
        "- **Το maximum upload filesize στο mycourses είναι 29MB**, εάν το zip σας είναι μεγαλύτερο, δεν έχετε βελτιστοποιήσει το tfidf."
      ]
    },
    {
      "cell_type": "markdown",
      "metadata": {
        "id": "UHhCkvxjnitd",
        "colab_type": "text"
      },
      "source": [
        "<table>\n",
        "  <tr><td align=\"center\">\n",
        "    <font size=\"4\">Παρακαλούμε διατρέξτε βήμα-βήμα το notebook για να μην ξεχάσετε παραδοτέα!</font>\n",
        "</td>\n",
        "  </tr>\n",
        "</table>"
      ]
    },
    {
      "cell_type": "markdown",
      "metadata": {
        "id": "a-FvmQai5S9m",
        "colab_type": "text"
      },
      "source": [
        "## Ημερομηνία παράδοσης ##\n",
        "\n",
        "Κυριακή 19 Ιανουαρίου 2020.\n",
        "\n",
        "Καλή επιτυχία!\n"
      ]
    }
  ]
}