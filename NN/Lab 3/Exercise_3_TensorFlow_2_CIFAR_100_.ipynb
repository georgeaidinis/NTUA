{
  "nbformat": 4,
  "nbformat_minor": 0,
  "metadata": {
    "colab": {
      "name": "Exercise_3_TensorFlow_2_CIFAR_100.ipynb",
      "provenance": [],
      "collapsed_sections": [
        "mtVx8MsZRQrn",
        "yypACH_oZx_i",
        "A3FT5z-4ZIeW",
        "goy-hmCn_ATJ",
        "wR_3GcR22-9_"
      ],
      "toc_visible": true
    },
    "kernelspec": {
      "name": "python3",
      "display_name": "Python 3"
    },
    "accelerator": "GPU"
  },
  "cells": [
    {
      "cell_type": "markdown",
      "metadata": {
        "id": "h2IcJXcTy-Qs",
        "colab_type": "text"
      },
      "source": [
        "# Εισαγωγή\n",
        "Στα εργαστήρια φέτος δουλέψαμε με τη βιβλιοθήκη TensorFlow 1 και το σύνολο δεδομένων CIFAR-10.\n",
        "\n",
        "Ο βασικός στόχος της παρούσας άσκησης είναι η εξοικείωση με τη βιβλιοθήκη **TensorFlow 2**. Κάθε ομάδα θα δουλέψει σε ένα διαφορετικό υποσύνολο του συνόλου δεδομένων **CIFAR-100**."
      ]
    },
    {
      "cell_type": "markdown",
      "metadata": {
        "id": "xpieffc31YMY",
        "colab_type": "text"
      },
      "source": [
        "# TensorFlow 2 (vs TensorFlow 1)\n",
        "\n",
        "![alt text](https://miro.medium.com/max/4928/1*-QTg-_71YF0SVshMEaKZ_g.png)\n",
        "Η βιβλιοθήκη TensorFlow 2 διαδέχθηκε την TensorFlow 1 τον Οκτώβριο του 2019 και η τελευταία έκδοσή της αυτή τη στιγμή είναι η 2.1.0 (8 Ιανουαρίου 2020). \n",
        "\n",
        "Οι δύο πιο σημαντικές διαφορές του TensorFlow 2 σε σχέση με το TensorFlow 1 είναι οι εξής:\n",
        "\n",
        "1. **Απλοποίηση της χρήσης - Keras API**: το tf2 χρησιμοποιεί πλέον ως high-level API το tf.keras, δηλαδή τη δική του υλοποίηση της προδιαγραφής API του Keras. Επίσης διάφορα δομοστοιχεία του tf1 αφαιρέθηκαν, συγχωνεύθηκαν ή μετακινήθηκαν σε υποπακέτα ώστε να “καθαρίσει” o ονοματοχώρος tf.*.\n",
        "\n",
        "2. **Πρόθυμη εκτέλεση (Eager execution)**: στο tf1 το γράψιμο του κώδικα χωρίζεται σε δύο μέρη, στον ορισμό του υπολογιστικού γράφου και στη συνέχεια στον ορισμό μιας συνεδρίας (session) για την εκτέλεσή του. Tο tf2, όπως συνήθως και η Python, εκτελεί πρόθυμα τον κώδικα και δεν χρειάζεται ξεχωριστός ορισμός συνεδριών: ο γράφος και η συνεδρία αποτελούν στοιχεία μιας ενιαίας υλοποίησης.\n",
        "\n",
        "Μεταξύ των υπόλοιπων νέων χαρακτηριστικών και διαφορών του tf2 σε σχέση με το tf1 που μπορούμε να ξεχωρίσουμε είναι: \n",
        "- η **απλοποίηση της διοχέτευσης (pipeline)** των δεδομένων. Με το tf.data του tf2 μπορούμε να έχουμε απευθείας πρόσβαση σε σύνολα δεδομένων αλλά και να εκτελούμε μετασχηματισμούς με απλό τρόπο. Επίσης, σε αντίθεση με το tf1, δεν απαιτείται καθόλου η δήλωση συμβόλων αντικατάστασης (placeholders) στον ορισμό του γράφου τα οποία στη συνέχεια θα χρησιμοποιηθούν για την εισαγωγή των δεδομένων στο δίκτυο.\n",
        "- η **απαλοιφή καθολικών μεταβλητών**. Το tf1 βασίζονταν σε μεγάλο βαθμό σε καθολικές μεταβλητές οι οποίες ήταν προσπελάσιμες μόνο από το όνομά τους, το οποίο όμως δεν είναι πάντα γνωστό εφόσον πολύ συχνά έχει οριστεί από άλλους. Σο tf2 ο χρήστης καλείται να παρακολουθεί τις μη καθολικές μεταβλητές του ο ίδιος με τη βοήθεια αντικειμένων του Keras, χωρίς να χρειάζεται πλέον η καθολική υποδομή γύρω από τις μεταβλητές.\n",
        "- η **εγκαθίδρυση του SavedModel** format (of TensorFlow 2) ως ενιαίο τρόπο αποθήκευσης, φόρτωσης και ανταλλαγής μοντέλων στα TensorFlow, TensorFlow Serving, TensorFlow Lite, TensorFlow.js, TensorFlow Hub κλπ.\n",
        "\n",
        "Περισσότερα: [Effective TensorFlow 2](https://www.tensorflow.org/guide/effective_tf2), [Overview of changes TensorFlow 1.0 vs TensorFlow 2.0](https://www.datasciencecentral.com/profiles/blogs/tensorflow-1-x-vs-2-x-summary-of-changes)\n"
      ]
    },
    {
      "cell_type": "markdown",
      "metadata": {
        "id": "HUPTXpNqvrB0",
        "colab_type": "text"
      },
      "source": [
        "# Σύνολο δεδομένων CIFAR-100\n",
        "![alt text](https://datarepository.wolframcloud.com/resources/images/69f/69f1e629-81e6-4eaa-998f-f6734fcd2cb3-io-4-o.en.gif)\n",
        "\n",
        "To [CIFAR-100](https://www.cs.toronto.edu/~kriz/cifar.html) όπως και το CIFAR-10 που είδαμε στο εργαστήριο είναι επισημειωμένα υποσύνολα του συνόλου δεδομένων “80 million tiny images”. Τα συνέλλεξαν οι Alex Krizhevsky (πρώτος συγγραφέας του [AlexNet - 2012](https://papers.nips.cc/paper/4824-imagenet-classification-with-deep-convolutional-neural-networks.pdf)), Vinod Nair (πρώτος συγγραφέας των [ReLU - 2010](https://www.cs.toronto.edu/~hinton/absps/reluICML.pdf)) και ο Geoffrey Hinton.\n",
        "\n",
        "Το CIFAR-100 αποτελείται από **60000 έγχρωμες εικόνες των 32x32 pixel χωρισμένες σε 100 κατηγορίες**. Σε κάθε κατηγορία αντιστοιχούν 500 εικόνες εκπαίδευσης και 100 εικόνες ελέγχου, δηλαδή το train-test split είναι προκαθορισμένο. **Κάθε μια από τις 100 κατηγορίες του CIFAR-100 ανήκει και σε μια από 20 υπερκατηγορίες**, για παράδειγμα οι κατηγορίες “maple”, “oak”, “palm”, “pine” και “willow” ανήκουν στην υπερκατηγορία “trees”. Κάθε εικόνα έχει δύο ετικέτες, μια “fine” που δείχνει την κατηγορία της και μια “coarse” που δείχνει την υπερκατηγορία της. **Θα δουλέψουμε αποκλειστικά με τις κατηγορίες (\"fine\")**.\n",
        "\n",
        "**To CIFAR-100 είναι, όπως είναι αναμενόμενο, σημαντικά πιο δύσκολο dataset από το CIFAR-10.** Μέχρι το 2019, η απόδοση των συστημάτων state-of-the-art στο CIFAR-10 ήταν ορθότητα (accuracy) [99.00%](https://benchmarks.ai/cifar-10https://) (GPipe: Efficient Training of Giant Neural Networks using Pipeline Parallelism) ενώ στο CIFAR-100 ήταν [91.70%](https://benchmarks.ai/cifar-100https://)\n",
        "(EfficientNet: Rethinking Model Scaling for Convolutional Neural Networks)\t"
      ]
    },
    {
      "cell_type": "code",
      "metadata": {
        "id": "DsRt5JelvV7u",
        "colab_type": "code",
        "outputId": "2bb85462-54b4-4e45-85de-3d7d0c518865",
        "colab": {
          "base_uri": "https://localhost:8080/",
          "height": 649
        }
      },
      "source": [
        "!sudo pip install --upgrade pip\n",
        "!sudo pip install --upgrade tensorflow"
      ],
      "execution_count": 0,
      "outputs": [
        {
          "output_type": "stream",
          "text": [
            "Requirement already up-to-date: pip in /usr/local/lib/python3.6/dist-packages (20.0.2)\n",
            "Requirement already up-to-date: tensorflow in /usr/local/lib/python3.6/dist-packages (2.1.0)\n",
            "Requirement already satisfied, skipping upgrade: keras-applications>=1.0.8 in /usr/local/lib/python3.6/dist-packages (from tensorflow) (1.0.8)\n",
            "Requirement already satisfied, skipping upgrade: wrapt>=1.11.1 in /usr/local/lib/python3.6/dist-packages (from tensorflow) (1.11.2)\n",
            "Requirement already satisfied, skipping upgrade: google-pasta>=0.1.6 in /usr/local/lib/python3.6/dist-packages (from tensorflow) (0.1.8)\n",
            "Requirement already satisfied, skipping upgrade: astor>=0.6.0 in /usr/local/lib/python3.6/dist-packages (from tensorflow) (0.8.1)\n",
            "Requirement already satisfied, skipping upgrade: tensorboard<2.2.0,>=2.1.0 in /usr/local/lib/python3.6/dist-packages (from tensorflow) (2.1.1)\n",
            "Requirement already satisfied, skipping upgrade: tensorflow-estimator<2.2.0,>=2.1.0rc0 in /usr/local/lib/python3.6/dist-packages (from tensorflow) (2.1.0)\n",
            "Requirement already satisfied, skipping upgrade: termcolor>=1.1.0 in /usr/local/lib/python3.6/dist-packages (from tensorflow) (1.1.0)\n",
            "Requirement already satisfied, skipping upgrade: six>=1.12.0 in /usr/local/lib/python3.6/dist-packages (from tensorflow) (1.12.0)\n",
            "Requirement already satisfied, skipping upgrade: wheel>=0.26; python_version >= \"3\" in /usr/local/lib/python3.6/dist-packages (from tensorflow) (0.34.2)\n",
            "Requirement already satisfied, skipping upgrade: numpy<2.0,>=1.16.0 in /usr/local/lib/python3.6/dist-packages (from tensorflow) (1.17.5)\n",
            "Requirement already satisfied, skipping upgrade: protobuf>=3.8.0 in /usr/local/lib/python3.6/dist-packages (from tensorflow) (3.10.0)\n",
            "Requirement already satisfied, skipping upgrade: absl-py>=0.7.0 in /usr/local/lib/python3.6/dist-packages (from tensorflow) (0.9.0)\n",
            "Requirement already satisfied, skipping upgrade: gast==0.2.2 in /usr/local/lib/python3.6/dist-packages (from tensorflow) (0.2.2)\n",
            "Requirement already satisfied, skipping upgrade: scipy==1.4.1; python_version >= \"3\" in /usr/local/lib/python3.6/dist-packages (from tensorflow) (1.4.1)\n",
            "Requirement already satisfied, skipping upgrade: grpcio>=1.8.6 in /usr/local/lib/python3.6/dist-packages (from tensorflow) (1.27.1)\n",
            "Requirement already satisfied, skipping upgrade: keras-preprocessing>=1.1.0 in /usr/local/lib/python3.6/dist-packages (from tensorflow) (1.1.0)\n",
            "Requirement already satisfied, skipping upgrade: opt-einsum>=2.3.2 in /usr/local/lib/python3.6/dist-packages (from tensorflow) (3.1.0)\n",
            "Requirement already satisfied, skipping upgrade: h5py in /usr/local/lib/python3.6/dist-packages (from keras-applications>=1.0.8->tensorflow) (2.8.0)\n",
            "Requirement already satisfied, skipping upgrade: werkzeug>=0.11.15 in /usr/local/lib/python3.6/dist-packages (from tensorboard<2.2.0,>=2.1.0->tensorflow) (1.0.0)\n",
            "Requirement already satisfied, skipping upgrade: google-auth<2,>=1.6.3 in /usr/local/lib/python3.6/dist-packages (from tensorboard<2.2.0,>=2.1.0->tensorflow) (1.7.2)\n",
            "Requirement already satisfied, skipping upgrade: google-auth-oauthlib<0.5,>=0.4.1 in /usr/local/lib/python3.6/dist-packages (from tensorboard<2.2.0,>=2.1.0->tensorflow) (0.4.1)\n",
            "Requirement already satisfied, skipping upgrade: markdown>=2.6.8 in /usr/local/lib/python3.6/dist-packages (from tensorboard<2.2.0,>=2.1.0->tensorflow) (3.2.1)\n",
            "Requirement already satisfied, skipping upgrade: setuptools>=41.0.0 in /usr/local/lib/python3.6/dist-packages (from tensorboard<2.2.0,>=2.1.0->tensorflow) (45.2.0)\n",
            "Requirement already satisfied, skipping upgrade: requests<3,>=2.21.0 in /usr/local/lib/python3.6/dist-packages (from tensorboard<2.2.0,>=2.1.0->tensorflow) (2.21.0)\n",
            "Requirement already satisfied, skipping upgrade: pyasn1-modules>=0.2.1 in /usr/local/lib/python3.6/dist-packages (from google-auth<2,>=1.6.3->tensorboard<2.2.0,>=2.1.0->tensorflow) (0.2.8)\n",
            "Requirement already satisfied, skipping upgrade: rsa<4.1,>=3.1.4 in /usr/local/lib/python3.6/dist-packages (from google-auth<2,>=1.6.3->tensorboard<2.2.0,>=2.1.0->tensorflow) (4.0)\n",
            "Requirement already satisfied, skipping upgrade: cachetools<3.2,>=2.0.0 in /usr/local/lib/python3.6/dist-packages (from google-auth<2,>=1.6.3->tensorboard<2.2.0,>=2.1.0->tensorflow) (3.1.1)\n",
            "Requirement already satisfied, skipping upgrade: requests-oauthlib>=0.7.0 in /usr/local/lib/python3.6/dist-packages (from google-auth-oauthlib<0.5,>=0.4.1->tensorboard<2.2.0,>=2.1.0->tensorflow) (1.3.0)\n",
            "Requirement already satisfied, skipping upgrade: certifi>=2017.4.17 in /usr/local/lib/python3.6/dist-packages (from requests<3,>=2.21.0->tensorboard<2.2.0,>=2.1.0->tensorflow) (2019.11.28)\n",
            "Requirement already satisfied, skipping upgrade: idna<2.9,>=2.5 in /usr/local/lib/python3.6/dist-packages (from requests<3,>=2.21.0->tensorboard<2.2.0,>=2.1.0->tensorflow) (2.8)\n",
            "Requirement already satisfied, skipping upgrade: chardet<3.1.0,>=3.0.2 in /usr/local/lib/python3.6/dist-packages (from requests<3,>=2.21.0->tensorboard<2.2.0,>=2.1.0->tensorflow) (3.0.4)\n",
            "Requirement already satisfied, skipping upgrade: urllib3<1.25,>=1.21.1 in /usr/local/lib/python3.6/dist-packages (from requests<3,>=2.21.0->tensorboard<2.2.0,>=2.1.0->tensorflow) (1.24.3)\n",
            "Requirement already satisfied, skipping upgrade: pyasn1<0.5.0,>=0.4.6 in /usr/local/lib/python3.6/dist-packages (from pyasn1-modules>=0.2.1->google-auth<2,>=1.6.3->tensorboard<2.2.0,>=2.1.0->tensorflow) (0.4.8)\n",
            "Requirement already satisfied, skipping upgrade: oauthlib>=3.0.0 in /usr/local/lib/python3.6/dist-packages (from requests-oauthlib>=0.7.0->google-auth-oauthlib<0.5,>=0.4.1->tensorboard<2.2.0,>=2.1.0->tensorflow) (3.1.0)\n"
          ],
          "name": "stdout"
        }
      ]
    },
    {
      "cell_type": "markdown",
      "metadata": {
        "id": "LpnEVMCYYlnD",
        "colab_type": "text"
      },
      "source": [
        "# Έαν απλό παράδειγμα υλοποίησης"
      ]
    },
    {
      "cell_type": "markdown",
      "metadata": {
        "id": "DfEMjsB4Yurm",
        "colab_type": "text"
      },
      "source": [
        "## Εισαγωγή και επισκόπηση του συνόλου δεδομένων"
      ]
    },
    {
      "cell_type": "code",
      "metadata": {
        "id": "STXQMBuN3nZ6",
        "colab_type": "code",
        "colab": {}
      },
      "source": [
        "from __future__ import absolute_import, division, print_function, unicode_literals # legacy compatibility\n",
        "\n",
        "import tensorflow as tf\n",
        "from tensorflow.keras import datasets, layers, models\n",
        "\n",
        "import numpy as np\n",
        "import pandas as pd\n",
        "import matplotlib.pyplot as plt"
      ],
      "execution_count": 0,
      "outputs": []
    },
    {
      "cell_type": "code",
      "metadata": {
        "id": "2WSEGPI9Q7tW",
        "colab_type": "code",
        "colab": {}
      },
      "source": [
        "# helper functions\n",
        "\n",
        "# select from from_list elements with index in index_list\n",
        "def select_from_list(from_list, index_list):\n",
        "  filtered_list= [from_list[i] for i in index_list]\n",
        "  return(filtered_list)\n",
        "\n",
        "# append in filtered_list the index of each element of unfilterd_list if it exists in in target_list\n",
        "def get_ds_index(unfiliterd_list, target_list):\n",
        "  index = 0\n",
        "  filtered_list=[]\n",
        "  for i_ in unfiliterd_list:\n",
        "    if i_[0] in target_list:\n",
        "      filtered_list.append(index)\n",
        "    index += 1\n",
        "  return(filtered_list)\n",
        "\n",
        "# select a url for a unique subset of CIFAR-100 with 20, 40, 60, or 80 classes\n",
        "def select_classes_number(classes_number = 20):\n",
        "  cifar100_20_classes_url = \"https://pastebin.com/raw/nzE1n98V\"\n",
        "  cifar100_40_classes_url = \"https://pastebin.com/raw/zGX4mCNP\"\n",
        "  cifar100_60_classes_url = \"https://pastebin.com/raw/nsDTd3Qn\"\n",
        "  cifar100_80_classes_url = \"https://pastebin.com/raw/SNbXz700\"\n",
        "  if classes_number == 20:\n",
        "    return cifar100_20_classes_url\n",
        "  elif classes_number == 40:\n",
        "    return cifar100_40_classes_url\n",
        "  elif classes_number == 60:\n",
        "    return cifar100_60_classes_url\n",
        "  elif classes_number == 80:\n",
        "    return cifar100_80_classes_url\n",
        "  else:\n",
        "    return -1"
      ],
      "execution_count": 0,
      "outputs": []
    },
    {
      "cell_type": "code",
      "metadata": {
        "id": "OCW71UaGzz0Q",
        "colab_type": "code",
        "colab": {}
      },
      "source": [
        "# load the entire dataset\n",
        "(x_train_all, y_train_all), (x_test_all, y_test_all) = tf.keras.datasets.cifar100.load_data(label_mode='fine')"
      ],
      "execution_count": 0,
      "outputs": []
    },
    {
      "cell_type": "markdown",
      "metadata": {
        "id": "9PO9wIwYUf0R",
        "colab_type": "text"
      },
      "source": [
        "Η κάθε ομάδα θα δουλέψει με \n",
        "Στο επόμενο κελί, αντικαταστήστε την τιμή της μεταβλητής `team_seed` με τον αριθμό που αντιστοιχεί στην ομάδας σας σε [αυτό το σύνδεσμο](https://docs.google.com/spreadsheets/d/1oEr3yuPg22lmMeqDjFtWjJRzmGQ8N57YIuV-ZOvy3dM/edit?usp=sharing)."
      ]
    },
    {
      "cell_type": "code",
      "metadata": {
        "id": "NN0kEze7uZ_G",
        "colab_type": "code",
        "colab": {}
      },
      "source": [
        "# REPLACE WITH YOUR TEAM NUMBER\n",
        "team_seed = 23"
      ],
      "execution_count": 0,
      "outputs": []
    },
    {
      "cell_type": "markdown",
      "metadata": {
        "id": "8xYQ_Q1SVZEk",
        "colab_type": "text"
      },
      "source": [
        "Στο επόμενο κελί μπορείτε να διαλέξετε το πλήθος των κατηγορίων σας: 20 (default), 40, 60 ή 80."
      ]
    },
    {
      "cell_type": "code",
      "metadata": {
        "id": "RhbZJW6PxUDJ",
        "colab_type": "code",
        "colab": {}
      },
      "source": [
        "# select the number of classes\n",
        "cifar100_classes_url = select_classes_number()"
      ],
      "execution_count": 0,
      "outputs": []
    },
    {
      "cell_type": "markdown",
      "metadata": {
        "id": "yO9f6wb0Wi0H",
        "colab_type": "text"
      },
      "source": [
        "Δημιουργούμε το μοναδικό dataset της ομάδας μας:"
      ]
    },
    {
      "cell_type": "code",
      "metadata": {
        "id": "PgIN2h_KuCp_",
        "colab_type": "code",
        "colab": {}
      },
      "source": [
        "team_classes = pd.read_csv(cifar100_classes_url, sep=',', header=None)\n",
        "CIFAR100_LABELS_LIST = pd.read_csv('https://pastebin.com/raw/qgDaNggt', sep=',', header=None).astype(str).values.tolist()[0]\n",
        "\n",
        "our_index = team_classes.iloc[team_seed,:].values.tolist()\n",
        "our_classes = select_from_list(CIFAR100_LABELS_LIST, our_index)\n",
        "train_index = get_ds_index(y_train_all, our_index)\n",
        "test_index = get_ds_index(y_test_all, our_index)\n",
        "\n",
        "x_train_ds = np.asarray(select_from_list(x_train_all, train_index))\n",
        "y_train_ds = np.asarray(select_from_list(y_train_all, train_index))\n",
        "x_test_ds = np.asarray(select_from_list(x_test_all, test_index))\n",
        "y_test_ds = np.asarray(select_from_list(y_test_all, test_index))"
      ],
      "execution_count": 0,
      "outputs": []
    },
    {
      "cell_type": "code",
      "metadata": {
        "id": "_B4-tvVOQq3j",
        "colab_type": "code",
        "outputId": "a5ab8ecd-7e13-4e1b-e7a8-61e9ddce3a17",
        "colab": {
          "base_uri": "https://localhost:8080/",
          "height": 54
        }
      },
      "source": [
        "# print our classes\n",
        "print(our_classes)"
      ],
      "execution_count": 0,
      "outputs": [
        {
          "output_type": "stream",
          "text": [
            "[' baby', ' beaver', ' cattle', ' chair', ' crab', ' flatfish', ' girl', ' kangaroo', ' mouse', ' oak_tree', ' pickup_truck', ' pine_tree', ' poppy', ' porcupine', ' road', ' snail', ' spider', ' sunflower', ' tank', ' trout']\n"
          ],
          "name": "stdout"
        }
      ]
    },
    {
      "cell_type": "code",
      "metadata": {
        "id": "QpGXgTs_5ZCk",
        "colab_type": "code",
        "outputId": "484a4ae8-d04b-4779-8dac-a4da078a2791",
        "colab": {
          "base_uri": "https://localhost:8080/",
          "height": 441
        }
      },
      "source": [
        "# get (train) dataset dimensions\n",
        "data_size, img_rows, img_cols, img_channels = x_train_ds.shape\n",
        "\n",
        "# set validation set percentage (wrt the training set size)\n",
        "validation_percentage = 0.15\n",
        "val_size = round(validation_percentage * data_size)\n",
        "\n",
        "# Reserve val_size samples for validation and normalize all values\n",
        "x_val = x_train_ds[-val_size:]/255\n",
        "y_val = y_train_ds[-val_size:]\n",
        "x_train = x_train_ds[:-val_size]/255\n",
        "y_train = y_train_ds[:-val_size]\n",
        "x_test = x_test_ds/255\n",
        "y_test = y_test_ds\n",
        "\n",
        "# summarize loaded dataset\n",
        "print('Train: X=%s, y=%s' % (x_train.shape, y_train.shape))\n",
        "print('Validation: X=%s, y=%s' % (x_val.shape, y_val.shape))\n",
        "print('Test: X=%s, y=%s' % (x_test.shape, y_test.shape))\n",
        "\n",
        "# get class label from class index\n",
        "def class_label_from_index(fine_category):\n",
        "  return(CIFAR100_LABELS_LIST[fine_category.item(0)])\n",
        "\n",
        "# plot first few images\n",
        "plt.figure(figsize=(6, 6))\n",
        "for i in range(9):\n",
        "\t# define subplot\n",
        "  plt.subplot(330 + 1 + i).set_title(class_label_from_index(y_train[i]))\n",
        "\t# plot raw pixel data\n",
        "  plt.imshow(x_train[i], cmap=plt.get_cmap('gray'))\n",
        "  #show the figure\n",
        "plt.show()"
      ],
      "execution_count": 0,
      "outputs": [
        {
          "output_type": "stream",
          "text": [
            "Train: X=(8500, 32, 32, 3), y=(8500, 1)\n",
            "Validation: X=(1500, 32, 32, 3), y=(1500, 1)\n",
            "Test: X=(2000, 32, 32, 3), y=(2000, 1)\n"
          ],
          "name": "stdout"
        },
        {
          "output_type": "display_data",
          "data": {
            "image/png": "[encoded data removed]",
            "text/plain": [
              "<Figure size 432x432 with 9 Axes>"
            ]
          },
          "metadata": {
            "tags": []
          }
        }
      ]
    },
    {
      "cell_type": "markdown",
      "metadata": {
        "id": "0cniJE8eZQAA",
        "colab_type": "text"
      },
      "source": [
        "## Συναρτήσεις εκπαίδευσης"
      ]
    },
    {
      "cell_type": "markdown",
      "metadata": {
        "id": "G3xB9x5JZjSN",
        "colab_type": "text"
      },
      "source": [
        "Θα χρησιμοποιήσουμε την ιδιότητα data prefetch του tf2:"
      ]
    },
    {
      "cell_type": "code",
      "metadata": {
        "id": "KPFYqOmIa5Fr",
        "colab_type": "code",
        "colab": {}
      },
      "source": [
        "# we user prefetch https://www.tensorflow.org/api_docs/python/tf/data/Dataset#prefetch \n",
        "# this improves latency and throughput, at the cost of using additional memory to store prefetched elements\n",
        "# see also AUTOTUNE\n",
        "# the dataset is now \"infinite\"\n",
        "\n",
        "BATCH_SIZE = 128\n",
        "AUTOTUNE = tf.data.experimental.AUTOTUNE # https://www.tensorflow.org/guide/data_performance\n",
        "\n",
        "def _input_fn(x,y, BATCH_SIZE):\n",
        "  ds = tf.data.Dataset.from_tensor_slices((x,y))\n",
        "  ds = ds.shuffle(buffer_size=data_size)\n",
        "  ds = ds.repeat()\n",
        "  ds = ds.batch(BATCH_SIZE)\n",
        "  ds = ds.prefetch(buffer_size=AUTOTUNE)\n",
        "  return ds\n",
        "\n",
        "train_ds =_input_fn(x_train,y_train, BATCH_SIZE) #PrefetchDataset object\n",
        "validation_ds =_input_fn(x_val,y_val, BATCH_SIZE) #PrefetchDataset object\n",
        "test_ds =_input_fn(x_test,y_test, BATCH_SIZE) #PrefetchDataset object\n",
        "\n",
        "# steps_per_epoch and validation_steps for training and validation: https://www.tensorflow.org/guide/keras/train_and_evaluate\n",
        "\n",
        "def train_model(model, epochs = 10, steps_per_epoch = 2, validation_steps = 1):\n",
        "  history = model.fit(train_ds, epochs=epochs, steps_per_epoch=steps_per_epoch, validation_data=validation_ds, validation_steps=validation_steps)\n",
        "  return(history)"
      ],
      "execution_count": 0,
      "outputs": []
    },
    {
      "cell_type": "markdown",
      "metadata": {
        "id": "onYIggE9Z2f4",
        "colab_type": "text"
      },
      "source": [
        "## Γραφικές παραστάσεις εκπαίδευσης και απόδοση στο σύνολο ελέγχου"
      ]
    },
    {
      "cell_type": "code",
      "metadata": {
        "id": "vdWPm3zqbRo1",
        "colab_type": "code",
        "colab": {}
      },
      "source": [
        "# plot diagnostic learning curves\n",
        "def summarize_diagnostics(history):\n",
        "\tplt.figure(figsize=(8, 8))\n",
        "\tplt.suptitle('Training Curves')\n",
        "\t# plot loss\n",
        "\tplt.subplot(211)\n",
        "\tplt.title('Cross Entropy Loss')\n",
        "\tplt.plot(history.history['loss'], color='blue', label='train')\n",
        "\tplt.plot(history.history['val_loss'], color='orange', label='val')\n",
        "\tplt.legend(loc='upper right')\n",
        "\t# plot accuracy\n",
        "\tplt.subplot(212)\n",
        "\tplt.title('Classification Accuracy')\n",
        "\tplt.plot(history.history['accuracy'], color='blue', label='train')\n",
        "\tplt.plot(history.history['val_accuracy'], color='orange', label='val')\n",
        "\tplt.legend(loc='lower right')\n",
        "\treturn plt\n",
        " \n",
        "# print test set evaluation metrics\n",
        "def model_evaluation(model, evaluation_steps):\n",
        "\tprint('\\nTest set evaluation metrics')\n",
        "\tloss0,accuracy0 = model.evaluate(test_ds, steps = evaluation_steps)\n",
        "\tprint(\"loss: {:.2f}\".format(loss0))\n",
        "\tprint(\"accuracy: {:.2f}\".format(accuracy0))\n",
        "\n",
        "def model_report(model, history, evaluation_steps = 10):\n",
        "\tplt = summarize_diagnostics(history)\n",
        "\tplt.show()\n",
        "\tmodel_evaluation(model, evaluation_steps)"
      ],
      "execution_count": 0,
      "outputs": []
    },
    {
      "cell_type": "markdown",
      "metadata": {
        "id": "Waa4c40Yay3k",
        "colab_type": "text"
      },
      "source": [
        "## Μοντέλα δικτύων"
      ]
    },
    {
      "cell_type": "markdown",
      "metadata": {
        "id": "cFTzQtMOa3Rv",
        "colab_type": "text"
      },
      "source": [
        "### Ένα μικρό συνελικτικό δίκτυο \"from scratch\""
      ]
    },
    {
      "cell_type": "code",
      "metadata": {
        "id": "LtcgTkHojt0G",
        "colab_type": "code",
        "colab": {}
      },
      "source": [
        "# a simple CNN https://www.tensorflow.org/tutorials/images/cnn\n",
        "\n",
        "def init_simple_model(summary):\n",
        "  model = models.Sequential()\n",
        "  model.add(layers.Conv2D(32, (3, 3), activation='relu', input_shape=(32, 32, 3)))\n",
        "  model.add(layers.MaxPooling2D((2, 2)))\n",
        "  model.add(layers.Conv2D(64, (3, 3), activation='relu'))\n",
        "  model.add(layers.MaxPooling2D((2, 2)))\n",
        "  model.add(layers.Conv2D(64, (3, 3), activation='relu'))\n",
        "  model.add(layers.Flatten())\n",
        "  model.add(layers.Dense(64, activation='relu'))\n",
        "  model.add(layers.Dense(100, activation='softmax'))\n",
        "  model.compile(optimizer=tf.keras.optimizers.Adam(), loss=tf.keras.losses.sparse_categorical_crossentropy, metrics=[\"accuracy\"])\n",
        "  if summary: \n",
        "    model.summary()\n",
        "  return model"
      ],
      "execution_count": 0,
      "outputs": []
    },
    {
      "cell_type": "code",
      "metadata": {
        "id": "dSbtouO9lGvj",
        "colab_type": "code",
        "outputId": "c8ad85c1-8bad-4d0a-9c8c-00fbe4720f6a",
        "colab": {
          "base_uri": "https://localhost:8080/",
          "height": 1000
        }
      },
      "source": [
        "SIMPLE_MODEL = init_simple_model(summary = True)\n",
        "SIMPLE_MODEL_history = train_model(SIMPLE_MODEL, 50, 30, 5)"
      ],
      "execution_count": 0,
      "outputs": [
        {
          "output_type": "stream",
          "text": [
            "Model: \"sequential_1\"\n",
            "_________________________________________________________________\n",
            "Layer (type)                 Output Shape              Param #   \n",
            "=================================================================\n",
            "conv2d_3 (Conv2D)            (None, 30, 30, 32)        896       \n",
            "_________________________________________________________________\n",
            "max_pooling2d_2 (MaxPooling2 (None, 15, 15, 32)        0         \n",
            "_________________________________________________________________\n",
            "conv2d_4 (Conv2D)            (None, 13, 13, 64)        18496     \n",
            "_________________________________________________________________\n",
            "max_pooling2d_3 (MaxPooling2 (None, 6, 6, 64)          0         \n",
            "_________________________________________________________________\n",
            "conv2d_5 (Conv2D)            (None, 4, 4, 64)          36928     \n",
            "_________________________________________________________________\n",
            "flatten_1 (Flatten)          (None, 1024)              0         \n",
            "_________________________________________________________________\n",
            "dense_2 (Dense)              (None, 64)                65600     \n",
            "_________________________________________________________________\n",
            "dense_3 (Dense)              (None, 100)               6500      \n",
            "=================================================================\n",
            "Total params: 128,420\n",
            "Trainable params: 128,420\n",
            "Non-trainable params: 0\n",
            "_________________________________________________________________\n",
            "Train for 30 steps, validate for 5 steps\n",
            "Epoch 1/50\n",
            "30/30 [==============================] - 1s 25ms/step - loss: 3.6331 - accuracy: 0.0661 - val_loss: 2.8492 - val_accuracy: 0.0859\n",
            "Epoch 2/50\n",
            "30/30 [==============================] - 0s 8ms/step - loss: 2.7226 - accuracy: 0.1445 - val_loss: 2.6054 - val_accuracy: 0.1922\n",
            "Epoch 3/50\n",
            "30/30 [==============================] - 0s 10ms/step - loss: 2.5305 - accuracy: 0.2000 - val_loss: 2.4783 - val_accuracy: 0.2281\n",
            "Epoch 4/50\n",
            "30/30 [==============================] - 0s 8ms/step - loss: 2.4034 - accuracy: 0.2466 - val_loss: 2.3716 - val_accuracy: 0.3000\n",
            "Epoch 5/50\n",
            "30/30 [==============================] - 0s 10ms/step - loss: 2.2759 - accuracy: 0.2984 - val_loss: 2.3119 - val_accuracy: 0.2984\n",
            "Epoch 6/50\n",
            "30/30 [==============================] - 0s 8ms/step - loss: 2.1508 - accuracy: 0.3349 - val_loss: 2.2193 - val_accuracy: 0.3297\n",
            "Epoch 7/50\n",
            "30/30 [==============================] - 0s 10ms/step - loss: 2.0881 - accuracy: 0.3560 - val_loss: 2.0750 - val_accuracy: 0.3734\n",
            "Epoch 8/50\n",
            "30/30 [==============================] - 0s 8ms/step - loss: 2.0094 - accuracy: 0.3766 - val_loss: 2.0279 - val_accuracy: 0.3719\n",
            "Epoch 9/50\n",
            "30/30 [==============================] - 0s 9ms/step - loss: 1.9513 - accuracy: 0.3854 - val_loss: 2.0499 - val_accuracy: 0.3703\n",
            "Epoch 10/50\n",
            "30/30 [==============================] - 0s 9ms/step - loss: 1.8994 - accuracy: 0.4083 - val_loss: 1.8628 - val_accuracy: 0.4281\n",
            "Epoch 11/50\n",
            "30/30 [==============================] - 0s 8ms/step - loss: 1.8525 - accuracy: 0.4195 - val_loss: 1.9592 - val_accuracy: 0.4000\n",
            "Epoch 12/50\n",
            "30/30 [==============================] - 0s 8ms/step - loss: 1.7809 - accuracy: 0.4385 - val_loss: 1.9116 - val_accuracy: 0.3969\n",
            "Epoch 13/50\n",
            "30/30 [==============================] - 0s 9ms/step - loss: 1.7505 - accuracy: 0.4542 - val_loss: 1.8153 - val_accuracy: 0.4219\n",
            "Epoch 14/50\n",
            "30/30 [==============================] - 0s 8ms/step - loss: 1.6980 - accuracy: 0.4578 - val_loss: 1.8829 - val_accuracy: 0.4125\n",
            "Epoch 15/50\n",
            "30/30 [==============================] - 0s 8ms/step - loss: 1.6788 - accuracy: 0.4753 - val_loss: 1.7925 - val_accuracy: 0.4359\n",
            "Epoch 16/50\n",
            "30/30 [==============================] - 0s 8ms/step - loss: 1.6375 - accuracy: 0.4839 - val_loss: 1.7891 - val_accuracy: 0.4563\n",
            "Epoch 17/50\n",
            "30/30 [==============================] - 0s 9ms/step - loss: 1.6043 - accuracy: 0.4927 - val_loss: 1.8133 - val_accuracy: 0.4594\n",
            "Epoch 18/50\n",
            "30/30 [==============================] - 0s 8ms/step - loss: 1.5697 - accuracy: 0.5026 - val_loss: 1.6803 - val_accuracy: 0.4812\n",
            "Epoch 19/50\n",
            "30/30 [==============================] - 0s 9ms/step - loss: 1.5644 - accuracy: 0.5120 - val_loss: 1.7883 - val_accuracy: 0.4516\n",
            "Epoch 20/50\n",
            "30/30 [==============================] - 0s 8ms/step - loss: 1.4902 - accuracy: 0.5312 - val_loss: 1.6426 - val_accuracy: 0.4766\n",
            "Epoch 21/50\n",
            "30/30 [==============================] - 0s 8ms/step - loss: 1.4905 - accuracy: 0.5349 - val_loss: 1.6171 - val_accuracy: 0.5000\n",
            "Epoch 22/50\n",
            "30/30 [==============================] - 0s 8ms/step - loss: 1.4760 - accuracy: 0.5297 - val_loss: 1.7179 - val_accuracy: 0.4609\n",
            "Epoch 23/50\n",
            "30/30 [==============================] - 0s 8ms/step - loss: 1.4241 - accuracy: 0.5516 - val_loss: 1.6691 - val_accuracy: 0.4766\n",
            "Epoch 24/50\n",
            "30/30 [==============================] - 0s 9ms/step - loss: 1.4413 - accuracy: 0.5503 - val_loss: 1.5575 - val_accuracy: 0.5203\n",
            "Epoch 25/50\n",
            "30/30 [==============================] - 0s 8ms/step - loss: 1.4116 - accuracy: 0.5620 - val_loss: 1.6558 - val_accuracy: 0.4797\n",
            "Epoch 26/50\n",
            "30/30 [==============================] - 0s 8ms/step - loss: 1.3440 - accuracy: 0.5698 - val_loss: 1.6931 - val_accuracy: 0.4938\n",
            "Epoch 27/50\n",
            "30/30 [==============================] - 0s 8ms/step - loss: 1.3654 - accuracy: 0.5656 - val_loss: 1.6257 - val_accuracy: 0.5125\n",
            "Epoch 28/50\n",
            "30/30 [==============================] - 0s 9ms/step - loss: 1.3424 - accuracy: 0.5836 - val_loss: 1.6140 - val_accuracy: 0.5172\n",
            "Epoch 29/50\n",
            "30/30 [==============================] - 0s 8ms/step - loss: 1.3472 - accuracy: 0.5763 - val_loss: 1.5679 - val_accuracy: 0.5125\n",
            "Epoch 30/50\n",
            "30/30 [==============================] - 0s 9ms/step - loss: 1.2755 - accuracy: 0.5997 - val_loss: 1.5175 - val_accuracy: 0.5281\n",
            "Epoch 31/50\n",
            "30/30 [==============================] - 0s 8ms/step - loss: 1.3119 - accuracy: 0.5943 - val_loss: 1.5840 - val_accuracy: 0.5297\n",
            "Epoch 32/50\n",
            "30/30 [==============================] - 0s 8ms/step - loss: 1.2149 - accuracy: 0.6128 - val_loss: 1.5858 - val_accuracy: 0.5125\n",
            "Epoch 33/50\n",
            "30/30 [==============================] - 0s 9ms/step - loss: 1.2765 - accuracy: 0.5966 - val_loss: 1.5296 - val_accuracy: 0.5375\n",
            "Epoch 34/50\n",
            "30/30 [==============================] - 0s 8ms/step - loss: 1.2223 - accuracy: 0.6156 - val_loss: 1.6328 - val_accuracy: 0.5047\n",
            "Epoch 35/50\n",
            "30/30 [==============================] - 0s 8ms/step - loss: 1.2388 - accuracy: 0.6102 - val_loss: 1.4769 - val_accuracy: 0.5500\n",
            "Epoch 36/50\n",
            "30/30 [==============================] - 0s 8ms/step - loss: 1.2024 - accuracy: 0.6177 - val_loss: 1.5415 - val_accuracy: 0.5188\n",
            "Epoch 37/50\n",
            "30/30 [==============================] - 0s 9ms/step - loss: 1.2154 - accuracy: 0.6167 - val_loss: 1.6271 - val_accuracy: 0.5047\n",
            "Epoch 38/50\n",
            "30/30 [==============================] - 0s 8ms/step - loss: 1.1525 - accuracy: 0.6336 - val_loss: 1.5716 - val_accuracy: 0.5437\n",
            "Epoch 39/50\n",
            "30/30 [==============================] - 0s 9ms/step - loss: 1.1839 - accuracy: 0.6185 - val_loss: 1.5583 - val_accuracy: 0.5156\n",
            "Epoch 40/50\n",
            "30/30 [==============================] - 0s 8ms/step - loss: 1.1604 - accuracy: 0.6299 - val_loss: 1.5664 - val_accuracy: 0.5188\n",
            "Epoch 41/50\n",
            "30/30 [==============================] - 0s 9ms/step - loss: 1.1208 - accuracy: 0.6469 - val_loss: 1.6356 - val_accuracy: 0.5312\n",
            "Epoch 42/50\n",
            "30/30 [==============================] - 0s 8ms/step - loss: 1.1343 - accuracy: 0.6438 - val_loss: 1.6219 - val_accuracy: 0.5234\n",
            "Epoch 43/50\n",
            "30/30 [==============================] - 0s 8ms/step - loss: 1.0891 - accuracy: 0.6542 - val_loss: 1.5621 - val_accuracy: 0.5172\n",
            "Epoch 44/50\n",
            "30/30 [==============================] - 0s 8ms/step - loss: 1.0823 - accuracy: 0.6479 - val_loss: 1.5462 - val_accuracy: 0.5422\n",
            "Epoch 45/50\n",
            "30/30 [==============================] - 0s 8ms/step - loss: 1.0907 - accuracy: 0.6508 - val_loss: 1.5308 - val_accuracy: 0.5391\n",
            "Epoch 46/50\n",
            "30/30 [==============================] - 0s 8ms/step - loss: 1.0393 - accuracy: 0.6630 - val_loss: 1.5252 - val_accuracy: 0.5453\n",
            "Epoch 47/50\n",
            "30/30 [==============================] - 0s 8ms/step - loss: 1.0363 - accuracy: 0.6802 - val_loss: 1.5540 - val_accuracy: 0.5578\n",
            "Epoch 48/50\n",
            "30/30 [==============================] - 0s 9ms/step - loss: 1.0143 - accuracy: 0.6773 - val_loss: 1.5957 - val_accuracy: 0.5344\n",
            "Epoch 49/50\n",
            "30/30 [==============================] - 0s 8ms/step - loss: 1.0241 - accuracy: 0.6724 - val_loss: 1.5588 - val_accuracy: 0.5688\n",
            "Epoch 50/50\n",
            "30/30 [==============================] - 0s 9ms/step - loss: 0.9590 - accuracy: 0.6927 - val_loss: 1.5949 - val_accuracy: 0.5516\n"
          ],
          "name": "stdout"
        }
      ]
    },
    {
      "cell_type": "code",
      "metadata": {
        "id": "thrleQ5Nzz3D",
        "colab_type": "code",
        "outputId": "547a9fb7-724a-4d9b-a11e-d76f3df2afc0",
        "colab": {
          "base_uri": "https://localhost:8080/",
          "height": 625
        }
      },
      "source": [
        "model_report(SIMPLE_MODEL, SIMPLE_MODEL_history, 30)"
      ],
      "execution_count": 0,
      "outputs": [
        {
          "output_type": "display_data",
          "data": {
            "image/png": "[encoded data removed]",
            "text/plain": [
              "<Figure size 576x576 with 2 Axes>"
            ]
          },
          "metadata": {
            "tags": []
          }
        },
        {
          "output_type": "stream",
          "text": [
            "\n",
            "Test set evaluation metrics\n",
            "30/30 [==============================] - 0s 5ms/step - loss: 1.5025 - accuracy: 0.5404\n",
            "loss: 1.50\n",
            "accuracy: 0.54\n"
          ],
          "name": "stdout"
        }
      ]
    },
    {
      "cell_type": "markdown",
      "metadata": {
        "id": "12z4zsoVbPWR",
        "colab_type": "text"
      },
      "source": [
        "### Μεταφορά μάθησης: VGG16"
      ]
    },
    {
      "cell_type": "code",
      "metadata": {
        "id": "6QJueWvUXUTJ",
        "colab_type": "code",
        "colab": {}
      },
      "source": [
        "# transfer learning: VGG16 trained on ImageNet without the top layer\n",
        "\n",
        "def init_VGG16_model(summary):\n",
        "  VGG16_MODEL=tf.keras.applications.VGG16(input_shape=(img_rows, img_cols, img_channels), include_top=False, weights='imagenet')\n",
        "\n",
        "  # unfreeze conv layers\n",
        "  VGG16_MODEL.trainable=True\n",
        "\n",
        "  dropout_layer = tf.keras.layers.Dropout(rate = 0.5)\n",
        "  global_average_layer = tf.keras.layers.GlobalAveragePooling2D()\n",
        "\n",
        "  # add top layer for CIFAR100 classification\n",
        "  prediction_layer = tf.keras.layers.Dense(len(CIFAR100_LABELS_LIST),activation='softmax')\n",
        "  model = tf.keras.Sequential([VGG16_MODEL, dropout_layer, global_average_layer, prediction_layer])\n",
        "  model.compile(optimizer=tf.optimizers.Adam(learning_rate=0.00005), loss=tf.keras.losses.sparse_categorical_crossentropy, metrics=[\"accuracy\"])\n",
        "  if summary: \n",
        "    model.summary()\n",
        "  return model"
      ],
      "execution_count": 0,
      "outputs": []
    },
    {
      "cell_type": "code",
      "metadata": {
        "id": "HR-bPAmGGt2N",
        "colab_type": "code",
        "outputId": "197fe142-40ba-49d1-85ce-8617e76694d9",
        "colab": {
          "base_uri": "https://localhost:8080/",
          "height": 1000
        }
      },
      "source": [
        "VGG16_MODEL = init_VGG16_model(summary = True)\n",
        "VGG16_MODEL_history = train_model(VGG16_MODEL, 25, 40, 10)"
      ],
      "execution_count": 0,
      "outputs": [
        {
          "output_type": "stream",
          "text": [
            "Downloading data from https://github.com/fchollet/deep-learning-models/releases/download/v0.1/vgg16_weights_tf_dim_ordering_tf_kernels_notop.h5\n",
            "58892288/58889256 [==============================] - 2s 0us/step\n",
            "Model: \"sequential_1\"\n",
            "_________________________________________________________________\n",
            "Layer (type)                 Output Shape              Param #   \n",
            "=================================================================\n",
            "vgg16 (Model)                (None, 1, 1, 512)         14714688  \n",
            "_________________________________________________________________\n",
            "dropout (Dropout)            (None, 1, 1, 512)         0         \n",
            "_________________________________________________________________\n",
            "global_average_pooling2d (Gl (None, 512)               0         \n",
            "_________________________________________________________________\n",
            "dense_2 (Dense)              (None, 100)               51300     \n",
            "=================================================================\n",
            "Total params: 14,765,988\n",
            "Trainable params: 14,765,988\n",
            "Non-trainable params: 0\n",
            "_________________________________________________________________\n",
            "Train for 40 steps, validate for 10 steps\n",
            "Epoch 1/25\n",
            "40/40 [==============================] - 5s 132ms/step - loss: 3.3638 - accuracy: 0.1814 - val_loss: 2.1476 - val_accuracy: 0.3922\n",
            "Epoch 2/25\n",
            "40/40 [==============================] - 2s 62ms/step - loss: 2.1588 - accuracy: 0.3984 - val_loss: 1.6579 - val_accuracy: 0.5180\n",
            "Epoch 3/25\n",
            "40/40 [==============================] - 2s 62ms/step - loss: 1.6846 - accuracy: 0.5135 - val_loss: 1.4018 - val_accuracy: 0.5773\n",
            "Epoch 4/25\n",
            "40/40 [==============================] - 3s 63ms/step - loss: 1.3872 - accuracy: 0.5725 - val_loss: 1.2556 - val_accuracy: 0.6211\n",
            "Epoch 5/25\n",
            "40/40 [==============================] - 2s 62ms/step - loss: 1.2556 - accuracy: 0.6252 - val_loss: 1.1385 - val_accuracy: 0.6422\n",
            "Epoch 6/25\n",
            "40/40 [==============================] - 2s 62ms/step - loss: 1.0717 - accuracy: 0.6666 - val_loss: 1.0797 - val_accuracy: 0.6664\n",
            "Epoch 7/25\n",
            "40/40 [==============================] - 2s 62ms/step - loss: 0.9559 - accuracy: 0.7021 - val_loss: 1.0168 - val_accuracy: 0.6812\n",
            "Epoch 8/25\n",
            "40/40 [==============================] - 3s 63ms/step - loss: 0.8485 - accuracy: 0.7287 - val_loss: 0.9521 - val_accuracy: 0.7039\n",
            "Epoch 9/25\n",
            "40/40 [==============================] - 3s 63ms/step - loss: 0.7611 - accuracy: 0.7635 - val_loss: 0.9588 - val_accuracy: 0.7047\n",
            "Epoch 10/25\n",
            "40/40 [==============================] - 3s 63ms/step - loss: 0.6872 - accuracy: 0.7822 - val_loss: 0.9396 - val_accuracy: 0.7133\n",
            "Epoch 11/25\n",
            "40/40 [==============================] - 3s 64ms/step - loss: 0.5822 - accuracy: 0.8164 - val_loss: 0.9364 - val_accuracy: 0.7180\n",
            "Epoch 12/25\n",
            "40/40 [==============================] - 3s 63ms/step - loss: 0.5343 - accuracy: 0.8232 - val_loss: 0.9594 - val_accuracy: 0.7188\n",
            "Epoch 13/25\n",
            "40/40 [==============================] - 3s 63ms/step - loss: 0.5118 - accuracy: 0.8342 - val_loss: 0.9319 - val_accuracy: 0.7203\n",
            "Epoch 14/25\n",
            "40/40 [==============================] - 3s 63ms/step - loss: 0.4259 - accuracy: 0.8578 - val_loss: 0.9709 - val_accuracy: 0.7164\n",
            "Epoch 15/25\n",
            "40/40 [==============================] - 3s 64ms/step - loss: 0.3804 - accuracy: 0.8768 - val_loss: 0.9901 - val_accuracy: 0.7203\n",
            "Epoch 16/25\n",
            "40/40 [==============================] - 3s 64ms/step - loss: 0.2846 - accuracy: 0.9113 - val_loss: 0.9786 - val_accuracy: 0.7297\n",
            "Epoch 17/25\n",
            "40/40 [==============================] - 3s 64ms/step - loss: 0.2758 - accuracy: 0.9094 - val_loss: 1.0282 - val_accuracy: 0.7477\n",
            "Epoch 18/25\n",
            "40/40 [==============================] - 3s 64ms/step - loss: 0.2271 - accuracy: 0.9225 - val_loss: 1.1260 - val_accuracy: 0.7227\n",
            "Epoch 19/25\n",
            "40/40 [==============================] - 3s 65ms/step - loss: 0.2304 - accuracy: 0.9242 - val_loss: 0.9627 - val_accuracy: 0.7469\n",
            "Epoch 20/25\n",
            "40/40 [==============================] - 3s 64ms/step - loss: 0.1797 - accuracy: 0.9377 - val_loss: 1.0663 - val_accuracy: 0.7273\n",
            "Epoch 21/25\n",
            "40/40 [==============================] - 3s 66ms/step - loss: 0.1311 - accuracy: 0.9615 - val_loss: 1.0866 - val_accuracy: 0.7414\n",
            "Epoch 22/25\n",
            "40/40 [==============================] - 3s 65ms/step - loss: 0.1272 - accuracy: 0.9578 - val_loss: 1.1833 - val_accuracy: 0.7336\n",
            "Epoch 23/25\n",
            "40/40 [==============================] - 3s 65ms/step - loss: 0.1045 - accuracy: 0.9658 - val_loss: 1.1147 - val_accuracy: 0.7305\n",
            "Epoch 24/25\n",
            "40/40 [==============================] - 3s 65ms/step - loss: 0.0944 - accuracy: 0.9684 - val_loss: 1.2040 - val_accuracy: 0.7156\n",
            "Epoch 25/25\n",
            "40/40 [==============================] - 3s 66ms/step - loss: 0.0817 - accuracy: 0.9750 - val_loss: 1.2157 - val_accuracy: 0.7336\n"
          ],
          "name": "stdout"
        }
      ]
    },
    {
      "cell_type": "code",
      "metadata": {
        "id": "2bZChKpdh0Cn",
        "colab_type": "code",
        "outputId": "db4ea7e2-2f0f-46af-aae7-9153650725e3",
        "colab": {
          "base_uri": "https://localhost:8080/",
          "height": 625
        }
      },
      "source": [
        "model_report(VGG16_MODEL, VGG16_MODEL_history, 30)"
      ],
      "execution_count": 0,
      "outputs": [
        {
          "output_type": "display_data",
          "data": {
            "image/png": "[encoded data removed]",
            "text/plain": [
              "<Figure size 576x576 with 2 Axes>"
            ]
          },
          "metadata": {
            "tags": []
          }
        },
        {
          "output_type": "stream",
          "text": [
            "\n",
            "Test set evaluation metrics\n",
            "30/30 [==============================] - 1s 20ms/step - loss: 1.1466 - accuracy: 0.7508\n",
            "loss: 1.15\n",
            "accuracy: 0.75\n"
          ],
          "name": "stdout"
        }
      ]
    },
    {
      "cell_type": "markdown",
      "metadata": {
        "id": "HUfob-kNfaSD",
        "colab_type": "text"
      },
      "source": [
        "# Βελτίωση της επίδοσης με πειράματα\n",
        "\n",
        "Καλείστε να βελτιώσετε τα αποτελέσματα ταξινόμησης στο CIFAR-100 και να βγάλατε συμπεράσματα, σύμφωνα με όσα ζητούνται σε σχέση με την αναφορά παράδοσης. "
      ]
    },
    {
      "cell_type": "markdown",
      "metadata": {
        "id": "FiVKTH5rmhWn",
        "colab_type": "text"
      },
      "source": [
        "## Δοκιμές διαφορετικών μοντέλων\n",
        "\n",
        "Μπορείτε είτε να δοκιμάσετε μοντέλα \"from scratch\", όπου ορίζετε την αρχιτεκτονική του δικτύου όπως θέλετε, είτε να χρησιμοποιήσετε μεταφορά μάθησης.\n"
      ]
    },
    {
      "cell_type": "markdown",
      "metadata": {
        "id": "pAbqI8hapbX9",
        "colab_type": "text"
      },
      "source": [
        "\n",
        "### Μοντέλα \"from scratch\"\n",
        "\n",
        "Μπορείτε να τροποποιήσετε/αλλάξετε το αρχικό μικρό συνελικτικό δίκτυο του παραδείγματος. Μπορείτε να συμβουλευτείτε \n",
        "- τη [βιβλιογραφία απο το leaderboard του CIFAR-100](https://benchmarks.ai/cifar-100) για αρχιτεκτονικές και παραμέτρους των δικτύων\n",
        "- ή/και να πάρετε ιδέες [από σχετική αναζήτηση στο Google Scholar](https://scholar.google.gr/scholar?hl=en&as_sdt=0%2C5&q=cifar+100+cnn&oq=cifa)"
      ]
    },
    {
      "cell_type": "markdown",
      "metadata": {
        "id": "8LZIFj-AmlPv",
        "colab_type": "text"
      },
      "source": [
        "### Μεταφορά μάθησης\n",
        "\n",
        "Εναλλακτικά, μπορείτε να χρησιμοποιήσετ τη [μεταφορά μάθησης του tf2](https://www.tensorflow.org/tutorials/images/transfer_learning). Σε αντίθεση με τα μοντέλα \"from scratch\" η μεταφορά μάθησης μας επιστρέφει έτοιμα μοντέλα με προκαθορισμένη αρχιτεκτονική στην οποία μπορούμε γενικά μόνο να προσθέσουμε επίπεδα, τα οποία συνήθως περιορίζοντα σε πλήρως διασυνδεδεμένα επίπεδα που εξειδικεύονται στο συγκεκριμένο task ταξινόμησης που έχουμε να επιτελέσουμε. "
      ]
    },
    {
      "cell_type": "markdown",
      "metadata": {
        "id": "GrCxOjJ7ush3",
        "colab_type": "text"
      },
      "source": [
        "#### Εκπαίδευση βαρών\n",
        "\n",
        "Ταυτόχρονα με την αρχιτεκτονική, στη μεταφορά μάθησης εισάγουμε και τη γνώση που έχει αποκτήσει το μοντέλο, δηλαδή τις τιμές των βαρών του όπως έχουν προκύψει μετά από εκπαίδευση συνήθως στο (τεράστιο) ImageNet. Οταν εισάγουμε ένα μοντέλο με μεταφορά μάθησης έχουμε τρεις επιλογές για την εκπαίδευση:\n",
        "- να παγώσουμε τη συνελικτική βάση και να εκπαιδεύσουμε την κεφαλή ταξινόμησης (classification head). Αυτό αντιστοιχεί στο να χρησιμοποιήσουμε τη συνελικτική βάση για εξαγωγή χαρακτηριστικών (feature extraction), σημαία trainable = False.\n",
        "- να συνεχίσουμε να εκπαιδεύουμε όλα τα επίπεδα του δικτύου, σημαία trainable = True.\n",
        "- να εκπαιδευτεί μόνο ένα ποσοστό των επιπέδων, εβρισκόμενο προς την έξοδο του δικτύου. Οι σημαίες trainable εδώ θα πρέπει να οριστούν ανά επίπεδο.\n"
      ]
    },
    {
      "cell_type": "markdown",
      "metadata": {
        "id": "6WFvmWr9xEUz",
        "colab_type": "text"
      },
      "source": [
        "\n",
        "#### Διαθέσιμα μοντέλα για μεταφορά μάθησης στο tf2\n",
        "\n",
        "1. tf.keras.applications. Ο πιο απλός τρόπος για να κάνουμε μεταφορά μάθησης στο tf2 είναι μέσω του [tf.keras.applications](https://www.tensorflow.org/api_docs/python/tf/keras/applications) που παρέχει προεκπαιδευμένα μοντέλα από το Keras και συγκεκριμένα τα δίκτυα: DenseNet, Inception-ResNet V2, Inception V3, MobileNet v1, MobileNet v2, NASNet-A, ResNet, ResNet v2, VGG16, VGG19 και Xception V1. Η εισαγωγή των μοντέλων γίνεται παρόμοια με αυτή που δείξαμε παραπάνω για το VGG16.\n",
        "\n",
        "2. TensorFlow Hub. Μπορείτε επίσης να χρησιμοποιήσετε μοντέλα τα οποία είναι διαθέσιμα στο αποθετήριο [TensoFlow Hub](https://tfhub.dev/s?fine-tunable=yes&module-type=image-augmentation,image-classification,image-feature-vector,image-generator,image-object-detection,image-others,image-style-transfer,image-rnn-agent&tf-version=tf2) το οποίο περιλαμβάνει πάνω από 100 προεκπαιδευμένα μοντέλα.\n",
        "\n",
        "3. Αποθηκευμένα μοντέλα απο τρίτες πηγές. Μπορείτε επίσης να κάνετε μεταφορά μάθησης από τρίτες πηγές, είτε του συνόλου του νευρωνικού, αρχιτεκτονικής και βαρών, είτε μόνο της αρχιτεκτονικής ή των βαρών. Το μοντέλο θα πρέπει να έχει αποθηκευθεί σε ένα από τα δύο φορμάτ, Keras HDF5 format (.h5 ή .keras) ή ως στο SavedModel format που αναφέραμε στην εισαγωγή. Τα βάρη μπορούν να εισαχθούν και μόνα τους ως Checkpoints. Για περισσότερα, διαβάστε σχετικά τα λήμματα [\"Save and load models\"](https://www.tensorflow.org/tutorials/keras/save_and_load), [\"Save and serialize\"](https://www.tensorflow.org/guide/keras/save_and_serialize), [\"Using the SavedModel format\"](https://www.tensorflow.org/guide/saved_model) και δείτε για παράδειγμα πως μπορούμε να κάνουμε μεταφορά μάθησης από τα state-of-the-art EfficientNets ([1](https://www.dlology.com/blog/transfer-learning-with-efficientnet/), [2](https://github.com/tensorflow/tpu/tree/master/models/official/efficientnethttps://)).\n",
        "\n",
        "Σημειώστε ότι πολλά μοντέλα απαιτούν μεγαλύτερες διαστάσεις στην είσοδο από αυτές του CIFAR-100 και κατά συνέπεια τα δεδομένα πρέπει να [μετασχηματιστούν](https://www.tensorflow.org/api_docs/python/tf/image/resize). Προσέξτε ωστόσο τις απαιτήσεις σε μνήμη όταν αυτοί οι μετασχηματισμοί γίνονται απευθείας σε μεταβλητές (βλ. πιο κάτω \"Διαχείριση μνήμης\"). \n"
      ]
    },
    {
      "cell_type": "markdown",
      "metadata": {
        "id": "SRI_3XhBQ7sb",
        "colab_type": "text"
      },
      "source": [
        "## Παρατηρήσεις ως προς τη βελτιστοποίηση"
      ]
    },
    {
      "cell_type": "markdown",
      "metadata": {
        "id": "mtVx8MsZRQrn",
        "colab_type": "text"
      },
      "source": [
        "### Διαχείριση μνήμης (TFRecord)\n",
        "\n",
        "Η φόρτωση δεδομένων με τον τρόπο που το κάναμε παραπάνω στο απλό παράδειγμα υλοποίησης είναι πολύ βολική αλλά δεν είναι καθόλου αποτελεσματική ως προς τη διαχείριση της μνήμης. Συγκεκριμένα, με τον τρόπο αυτό, τα δεδομένα αποθηκεύονται απευθείας σε μεταβλητές, οι οποίες όλες μαζί καταλαμβάνουν τη RAM της CPU ή της GPU, κάτι που κάνει αδύνατη τη διαχείριση μεγάλων datasets ή τον μεταχηματισμό των δεδομένων όπως όταν κάνουμε αύξηση δεδομένων (data augmentation).\n",
        "\n",
        "Για να παρακαμφθεί αυτό το πρόβλημα, υπάρχει η δυνατότητα της σειριοποίησης των δεδομένων (serialization) και της αποθήκευσής τους σε αρχεία μεσαίου μεγέθους (κάποιων MB) τα οποία μπορούνα να αναγνωστούν γραμμικά. Το φορμάτ TFRecord είναι ένα φορμάτ που επιτρέπει την αποθήκευση σειράς δυαδικών εγγραφών. Διαβάστε τα σχετικά λήμματα [TFRecord and tf.Example](https://www.tensorflow.org/tutorials/load_data/tfrecord) και [tf.data: Build TensorFlow input pipelines](https://www.tensorflow.org/guide/data). \n",
        "\n",
        "Σημειώστε ότι με τη μέθοδο αυτή θα πρέπει να γίνει import η `tensorflow_datasets` και να χρησιμοποιήσουμε την `tfds.load` ώστε να αποθηκευθεί το σύνολο δεδομένων σε αρχεία tfrecord στο δίσκο (δείτε [εδώ](https://colab.research.google.com/github/tensorflow/datasets/blob/master/docs/overview.ipynb) ένα παράδειγμα). Φυσικά μπορούμε να μετατρέψουμε και τα πρωτογενή δεδομένα (raw data) του dataset όπως αρχεία jpg σε φορματ tfrecord όπως [εδώ](https://towardsdatascience.com/working-with-tfrecords-and-tf-train-example-36d111b3ff4d).\n",
        "\n",
        "--------------------------------------------------------------------------------\n",
        "\n"
      ]
    },
    {
      "cell_type": "markdown",
      "metadata": {
        "id": "B1On1LTjeCn7",
        "colab_type": "text"
      },
      "source": [
        "Επιλέξαμε να ακολουθήσουμε την δεύτερη μέθοδο, όπως περιγράφεται [εδώ](https://towardsdatascience.com/working-with-tfrecords-and-tf-train-example-36d111b3ff4d).\n"
      ]
    },
    {
      "cell_type": "markdown",
      "metadata": {
        "id": "3nQSbTX_wWfa",
        "colab_type": "text"
      },
      "source": [
        "#### Δημιουργία TFRecords και Αποκωδικοποίηση"
      ]
    },
    {
      "cell_type": "markdown",
      "metadata": {
        "id": "j8NIDNlW3VKB",
        "colab_type": "text"
      },
      "source": [
        "Functions to convert arrays to byte string features and labels to int64 features.\n"
      ]
    },
    {
      "cell_type": "code",
      "metadata": {
        "id": "embcGH_HvPBr",
        "colab_type": "code",
        "colab": {}
      },
      "source": [
        "def _bytes_feature(value):\n",
        "    \"\"\"Returns a bytes_list from a string / byte.\"\"\"\n",
        "    # If the value is an eager tensor BytesList won't unpack a string from an EagerTensor.\n",
        "    if isinstance(value, type(tf.constant(0))):\n",
        "        value = value.numpy() \n",
        "    return tf.train.Feature(bytes_list=tf.train.BytesList(value=[value]))\n",
        "\n",
        "def _float_feature(value):\n",
        "    \"\"\"Returns a float_list from a float / double.\"\"\"\n",
        "    return tf.train.Feature(float_list=tf.train.FloatList(value=[value]))\n",
        "\n",
        "def _int64_feature(value):\n",
        "    \"\"\"Returns an int64_list from a bool / enum / int / uint.\"\"\"\n",
        "    return tf.train.Feature(int64_list=tf.train.Int64List(value=[value]))"
      ],
      "execution_count": 0,
      "outputs": []
    },
    {
      "cell_type": "markdown",
      "metadata": {
        "id": "L9rIsmrG7FRy",
        "colab_type": "text"
      },
      "source": [
        "Serialize x_train instances.\n"
      ]
    },
    {
      "cell_type": "code",
      "metadata": {
        "id": "cRzZ7Bjw1UZZ",
        "colab_type": "code",
        "colab": {}
      },
      "source": [
        "def serialize_array(array):\n",
        "  array = tf.io.serialize_tensor(array)\n",
        "  return array"
      ],
      "execution_count": 0,
      "outputs": []
    },
    {
      "cell_type": "markdown",
      "metadata": {
        "id": "SHpHKkEp7edD",
        "colab_type": "text"
      },
      "source": [
        "Write TFRecord file for training, validation and test data"
      ]
    },
    {
      "cell_type": "code",
      "metadata": {
        "id": "cqET3MTY1a3T",
        "colab_type": "code",
        "colab": {}
      },
      "source": [
        "train_path = 'train.tfrecords'\n",
        "with tf.io.TFRecordWriter(train_path) as writer:\n",
        "  for array, label in zip(x_train, y_train):\n",
        "    serialized_array = serialize_array(array)\n",
        "    feature = {'b_feature': _bytes_feature(serialized_array), 'label': _int64_feature(label)} # create dictionary to store data for each train instance\n",
        "    example_message = tf.train.Example(features=tf.train.Features(feature=feature))\n",
        "    writer.write(example_message.SerializeToString())"
      ],
      "execution_count": 0,
      "outputs": []
    },
    {
      "cell_type": "code",
      "metadata": {
        "id": "r__lMWlJFNUv",
        "colab_type": "code",
        "colab": {}
      },
      "source": [
        "val_path = 'val.tfrecords'\n",
        "with tf.io.TFRecordWriter(val_path) as writer:\n",
        "  for array, label in zip(x_val, y_val):\n",
        "    serialized_array = serialize_array(array)\n",
        "    feature = {'b_feature': _bytes_feature(serialized_array), \n",
        "               'label': _int64_feature(label)} # create dictionary to store data for each val instance\n",
        "    example_message = tf.train.Example(features=tf.train.Features(feature=feature))\n",
        "    writer.write(example_message.SerializeToString())"
      ],
      "execution_count": 0,
      "outputs": []
    },
    {
      "cell_type": "code",
      "metadata": {
        "id": "NrEo2t2dKwGI",
        "colab_type": "code",
        "colab": {}
      },
      "source": [
        "test_path = 'test.tfrecords'\n",
        "with tf.io.TFRecordWriter(test_path) as writer:\n",
        "  for array, label in zip(x_test, y_test):\n",
        "    serialized_array = serialize_array(array)\n",
        "    feature = {'b_feature': _bytes_feature(serialized_array), \n",
        "               'label': _int64_feature(label)} # create dictionary to store data for each test instance\n",
        "    example_message = tf.train.Example(features=tf.train.Features(feature=feature))\n",
        "    writer.write(example_message.SerializeToString())"
      ],
      "execution_count": 0,
      "outputs": []
    },
    {
      "cell_type": "markdown",
      "metadata": {
        "id": "ipK1L4z17jZy",
        "colab_type": "text"
      },
      "source": [
        "Function for TFRecord file decoding"
      ]
    },
    {
      "cell_type": "code",
      "metadata": {
        "id": "sFZ4UBGl1u_C",
        "colab_type": "code",
        "colab": {}
      },
      "source": [
        "def _parse_tfr_element(element):\n",
        "  parse_dic = { 'b_feature': tf.io.FixedLenFeature([], tf.string), # Note that it is tf.string, not tf.float32\n",
        "                'label': tf.io.FixedLenFeature([], tf.int64)}\n",
        "  example_message = tf.io.parse_single_example(element, parse_dic)\n",
        "\n",
        "  b_feature = example_message['b_feature'] # get byte string\n",
        "  label = tf.cast(example_message['label'], tf.int64)\n",
        "  feature = tf.io.parse_tensor(b_feature, out_type=tf.float64) # restore Multi-Dimensional array from byte string\n",
        "\n",
        "  feature.set_shape((32, 32, 3))  # shapes are not stored, so they must be set manually\n",
        "  label.set_shape(())\n",
        "\n",
        "  return feature, label"
      ],
      "execution_count": 0,
      "outputs": []
    },
    {
      "cell_type": "markdown",
      "metadata": {
        "id": "wJRoa6NMAGYl",
        "colab_type": "text"
      },
      "source": [
        "Sources:\n",
        "* https://stackoverflow.com/questions/47861084/how-to-store-numpy-arrays-as-tfrecord\n",
        "* https://docs.databricks.com/applications/deep-learning/data-prep/tfrecords-to-tensorflow.html"
      ]
    },
    {
      "cell_type": "markdown",
      "metadata": {
        "id": "SZY-CfBkqCLu",
        "colab_type": "text"
      },
      "source": [
        "#### Εκπαίδευση\n",
        "\n"
      ]
    },
    {
      "cell_type": "code",
      "metadata": {
        "id": "sW5yT_oSSa_K",
        "colab_type": "code",
        "colab": {}
      },
      "source": [
        "BATCH_SIZE = 128\n",
        "AUTOTUNE = tf.data.experimental.AUTOTUNE # https://www.tensorflow.org/guide/data_performance\n",
        "\n",
        "def _input_fn(file_path, num_epochs = 30, BATCH_SIZE = 128):\n",
        "  d = tf.data.TFRecordDataset(file_path)\n",
        "  d = d.map(_parse_tfr_element, num_parallel_calls=AUTOTUNE)  # map deconding function that will allow data to be loaded sequentially\n",
        "  d = d.shuffle(buffer_size=data_size)\n",
        "  d = d.repeat()\n",
        "  d = d.batch(BATCH_SIZE)\n",
        "  d = d.prefetch(buffer_size=AUTOTUNE)\n",
        "  return d\n",
        "\n",
        "train_ds =_input_fn(train_path, num_epochs = 50) #PrefetchDataset object\n",
        "validation_ds =_input_fn(val_path, num_epochs = 50) #PrefetchDataset object\n",
        "test_ds =_input_fn(test_path, num_epochs = 50) #PrefetchDataset object\n",
        "\n",
        "# steps_per_epoch and validation_steps for training and validation: https://www.tensorflow.org/guide/keras/train_and_evaluate\n",
        "\n",
        "def train_model(model, epochs = 10, steps_per_epoch = 2, validation_steps = 1):\n",
        "  history = model.fit(train_ds, epochs=epochs, steps_per_epoch=steps_per_epoch, validation_data=validation_ds, validation_steps=validation_steps)\n",
        "  return(history)"
      ],
      "execution_count": 0,
      "outputs": []
    },
    {
      "cell_type": "markdown",
      "metadata": {
        "id": "Jz5oHColZsv6",
        "colab_type": "text"
      },
      "source": [
        "Defining same model as before for comparison purposes."
      ]
    },
    {
      "cell_type": "code",
      "metadata": {
        "id": "tRiaRaT3D2iq",
        "colab_type": "code",
        "colab": {}
      },
      "source": [
        "def init_simple_model(summary):\n",
        "  model = models.Sequential()\n",
        "  model.add(layers.Conv2D(32, (3, 3), activation='relu', input_shape=(32, 32, 3)))\n",
        "  model.add(layers.MaxPooling2D((2, 2)))\n",
        "  model.add(layers.Conv2D(64, (3, 3), activation='relu'))\n",
        "  model.add(layers.MaxPooling2D((2, 2)))\n",
        "  model.add(layers.Conv2D(64, (3, 3), activation='relu'))\n",
        "  model.add(layers.Flatten())\n",
        "  model.add(layers.Dense(64, activation='relu'))\n",
        "  model.add(layers.Dense(100, activation='softmax'))\n",
        "  model.compile(optimizer=tf.optimizers.Adam(), loss=tf.keras.losses.sparse_categorical_crossentropy, metrics=[\"accuracy\"])\n",
        "  if summary: \n",
        "    model.summary()\n",
        "  return model"
      ],
      "execution_count": 0,
      "outputs": []
    },
    {
      "cell_type": "code",
      "metadata": {
        "id": "5W6w5-lZIkxS",
        "colab_type": "code",
        "outputId": "c9c78d6a-3023-4bb1-8b46-f01771bf2efe",
        "colab": {
          "base_uri": "https://localhost:8080/",
          "height": 1000
        }
      },
      "source": [
        "SIMPLE_MODEL = init_simple_model(summary = True)\n",
        "SIMPLE_MODEL_history = train_model(SIMPLE_MODEL, 50, 30, 5)"
      ],
      "execution_count": 0,
      "outputs": [
        {
          "output_type": "stream",
          "text": [
            "Model: \"sequential_2\"\n",
            "_________________________________________________________________\n",
            "Layer (type)                 Output Shape              Param #   \n",
            "=================================================================\n",
            "conv2d_6 (Conv2D)            (None, 30, 30, 32)        896       \n",
            "_________________________________________________________________\n",
            "max_pooling2d_4 (MaxPooling2 (None, 15, 15, 32)        0         \n",
            "_________________________________________________________________\n",
            "conv2d_7 (Conv2D)            (None, 13, 13, 64)        18496     \n",
            "_________________________________________________________________\n",
            "max_pooling2d_5 (MaxPooling2 (None, 6, 6, 64)          0         \n",
            "_________________________________________________________________\n",
            "conv2d_8 (Conv2D)            (None, 4, 4, 64)          36928     \n",
            "_________________________________________________________________\n",
            "flatten_2 (Flatten)          (None, 1024)              0         \n",
            "_________________________________________________________________\n",
            "dense_4 (Dense)              (None, 64)                65600     \n",
            "_________________________________________________________________\n",
            "dense_5 (Dense)              (None, 100)               6500      \n",
            "=================================================================\n",
            "Total params: 128,420\n",
            "Trainable params: 128,420\n",
            "Non-trainable params: 0\n",
            "_________________________________________________________________\n",
            "Train for 30 steps, validate for 5 steps\n",
            "Epoch 1/50\n",
            "30/30 [==============================] - 1s 41ms/step - loss: 3.5223 - accuracy: 0.0648 - val_loss: 2.9193 - val_accuracy: 0.1016\n",
            "Epoch 2/50\n",
            "30/30 [==============================] - 0s 11ms/step - loss: 2.8031 - accuracy: 0.1292 - val_loss: 2.7054 - val_accuracy: 0.1328\n",
            "Epoch 3/50\n",
            "30/30 [==============================] - 1s 28ms/step - loss: 2.6375 - accuracy: 0.1792 - val_loss: 2.5472 - val_accuracy: 0.2297\n",
            "Epoch 4/50\n",
            "30/30 [==============================] - 0s 11ms/step - loss: 2.4437 - accuracy: 0.2456 - val_loss: 2.3440 - val_accuracy: 0.2859\n",
            "Epoch 5/50\n",
            "30/30 [==============================] - 1s 36ms/step - loss: 2.3086 - accuracy: 0.2724 - val_loss: 2.2579 - val_accuracy: 0.2922\n",
            "Epoch 6/50\n",
            "30/30 [==============================] - 0s 12ms/step - loss: 2.1998 - accuracy: 0.3091 - val_loss: 2.1524 - val_accuracy: 0.3438\n",
            "Epoch 7/50\n",
            "30/30 [==============================] - 1s 27ms/step - loss: 2.1374 - accuracy: 0.3279 - val_loss: 2.1205 - val_accuracy: 0.3469\n",
            "Epoch 8/50\n",
            "30/30 [==============================] - 0s 11ms/step - loss: 2.0744 - accuracy: 0.3521 - val_loss: 2.0613 - val_accuracy: 0.3656\n",
            "Epoch 9/50\n",
            "30/30 [==============================] - 1s 28ms/step - loss: 1.9947 - accuracy: 0.3740 - val_loss: 2.0728 - val_accuracy: 0.3719\n",
            "Epoch 10/50\n",
            "30/30 [==============================] - 0s 12ms/step - loss: 1.9631 - accuracy: 0.3831 - val_loss: 2.0409 - val_accuracy: 0.3531\n",
            "Epoch 11/50\n",
            "30/30 [==============================] - 0s 12ms/step - loss: 1.9044 - accuracy: 0.4078 - val_loss: 2.0223 - val_accuracy: 0.3750\n",
            "Epoch 12/50\n",
            "30/30 [==============================] - 1s 19ms/step - loss: 1.8517 - accuracy: 0.4260 - val_loss: 1.9145 - val_accuracy: 0.4094\n",
            "Epoch 13/50\n",
            "30/30 [==============================] - 0s 13ms/step - loss: 1.8424 - accuracy: 0.4151 - val_loss: 1.9588 - val_accuracy: 0.3859\n",
            "Epoch 14/50\n",
            "30/30 [==============================] - 1s 22ms/step - loss: 1.7649 - accuracy: 0.4448 - val_loss: 1.8832 - val_accuracy: 0.4062\n",
            "Epoch 15/50\n",
            "30/30 [==============================] - 0s 15ms/step - loss: 1.7815 - accuracy: 0.4451 - val_loss: 1.8550 - val_accuracy: 0.4234\n",
            "Epoch 16/50\n",
            "30/30 [==============================] - 0s 15ms/step - loss: 1.7044 - accuracy: 0.4716 - val_loss: 1.8115 - val_accuracy: 0.4422\n",
            "Epoch 17/50\n",
            "30/30 [==============================] - 0s 13ms/step - loss: 1.6890 - accuracy: 0.4625 - val_loss: 1.8425 - val_accuracy: 0.4344\n",
            "Epoch 18/50\n",
            "30/30 [==============================] - 0s 17ms/step - loss: 1.6822 - accuracy: 0.4656 - val_loss: 1.7928 - val_accuracy: 0.4406\n",
            "Epoch 19/50\n",
            "30/30 [==============================] - 0s 14ms/step - loss: 1.6603 - accuracy: 0.4805 - val_loss: 1.8077 - val_accuracy: 0.4219\n",
            "Epoch 20/50\n",
            "30/30 [==============================] - 1s 22ms/step - loss: 1.5781 - accuracy: 0.4932 - val_loss: 1.7707 - val_accuracy: 0.4609\n",
            "Epoch 21/50\n",
            "30/30 [==============================] - 0s 13ms/step - loss: 1.6089 - accuracy: 0.4977 - val_loss: 1.7031 - val_accuracy: 0.4609\n",
            "Epoch 22/50\n",
            "30/30 [==============================] - 0s 12ms/step - loss: 1.5815 - accuracy: 0.5021 - val_loss: 1.7735 - val_accuracy: 0.4578\n",
            "Epoch 23/50\n",
            "30/30 [==============================] - 0s 15ms/step - loss: 1.5270 - accuracy: 0.5161 - val_loss: 1.7753 - val_accuracy: 0.4469\n",
            "Epoch 24/50\n",
            "30/30 [==============================] - 0s 14ms/step - loss: 1.5429 - accuracy: 0.5193 - val_loss: 1.6979 - val_accuracy: 0.4594\n",
            "Epoch 25/50\n",
            "30/30 [==============================] - 1s 17ms/step - loss: 1.5051 - accuracy: 0.5266 - val_loss: 1.7753 - val_accuracy: 0.4422\n",
            "Epoch 26/50\n",
            "30/30 [==============================] - 0s 13ms/step - loss: 1.5164 - accuracy: 0.5234 - val_loss: 1.6606 - val_accuracy: 0.4781\n",
            "Epoch 27/50\n",
            "30/30 [==============================] - 1s 18ms/step - loss: 1.4374 - accuracy: 0.5456 - val_loss: 1.7836 - val_accuracy: 0.4672\n",
            "Epoch 28/50\n",
            "30/30 [==============================] - 0s 15ms/step - loss: 1.4579 - accuracy: 0.5388 - val_loss: 1.6679 - val_accuracy: 0.4734\n",
            "Epoch 29/50\n",
            "30/30 [==============================] - 0s 16ms/step - loss: 1.3967 - accuracy: 0.5612 - val_loss: 1.7605 - val_accuracy: 0.4719\n",
            "Epoch 30/50\n",
            "30/30 [==============================] - 0s 15ms/step - loss: 1.4036 - accuracy: 0.5560 - val_loss: 1.6547 - val_accuracy: 0.5063\n",
            "Epoch 31/50\n",
            "30/30 [==============================] - 0s 15ms/step - loss: 1.3887 - accuracy: 0.5651 - val_loss: 1.7613 - val_accuracy: 0.4719\n",
            "Epoch 32/50\n",
            "30/30 [==============================] - 0s 11ms/step - loss: 1.3344 - accuracy: 0.5776 - val_loss: 1.5893 - val_accuracy: 0.5234\n",
            "Epoch 33/50\n",
            "30/30 [==============================] - 0s 14ms/step - loss: 1.3771 - accuracy: 0.5648 - val_loss: 1.6755 - val_accuracy: 0.4766\n",
            "Epoch 34/50\n",
            "30/30 [==============================] - 0s 16ms/step - loss: 1.3300 - accuracy: 0.5867 - val_loss: 1.6710 - val_accuracy: 0.4906\n",
            "Epoch 35/50\n",
            "30/30 [==============================] - 0s 14ms/step - loss: 1.3350 - accuracy: 0.5763 - val_loss: 1.7945 - val_accuracy: 0.4422\n",
            "Epoch 36/50\n",
            "30/30 [==============================] - 1s 17ms/step - loss: 1.2791 - accuracy: 0.5990 - val_loss: 1.6427 - val_accuracy: 0.5000\n",
            "Epoch 37/50\n",
            "30/30 [==============================] - 0s 14ms/step - loss: 1.2910 - accuracy: 0.5911 - val_loss: 1.7135 - val_accuracy: 0.4750\n",
            "Epoch 38/50\n",
            "30/30 [==============================] - 1s 18ms/step - loss: 1.2393 - accuracy: 0.6083 - val_loss: 1.6709 - val_accuracy: 0.5031\n",
            "Epoch 39/50\n",
            "30/30 [==============================] - 0s 13ms/step - loss: 1.2497 - accuracy: 0.5990 - val_loss: 1.6272 - val_accuracy: 0.5016\n",
            "Epoch 40/50\n",
            "30/30 [==============================] - 1s 19ms/step - loss: 1.2360 - accuracy: 0.6099 - val_loss: 1.6812 - val_accuracy: 0.4750\n",
            "Epoch 41/50\n",
            "30/30 [==============================] - 0s 14ms/step - loss: 1.1705 - accuracy: 0.6313 - val_loss: 1.5817 - val_accuracy: 0.5250\n",
            "Epoch 42/50\n",
            "30/30 [==============================] - 0s 15ms/step - loss: 1.2224 - accuracy: 0.6091 - val_loss: 1.5573 - val_accuracy: 0.5281\n",
            "Epoch 43/50\n",
            "30/30 [==============================] - 0s 15ms/step - loss: 1.1325 - accuracy: 0.6417 - val_loss: 1.5450 - val_accuracy: 0.5203\n",
            "Epoch 44/50\n",
            "30/30 [==============================] - 0s 13ms/step - loss: 1.1850 - accuracy: 0.6240 - val_loss: 1.6381 - val_accuracy: 0.4969\n",
            "Epoch 45/50\n",
            "30/30 [==============================] - 0s 15ms/step - loss: 1.1142 - accuracy: 0.6482 - val_loss: 1.5914 - val_accuracy: 0.5188\n",
            "Epoch 46/50\n",
            "30/30 [==============================] - 0s 13ms/step - loss: 1.1184 - accuracy: 0.6510 - val_loss: 1.5934 - val_accuracy: 0.5125\n",
            "Epoch 47/50\n",
            "30/30 [==============================] - 1s 17ms/step - loss: 1.0818 - accuracy: 0.6573 - val_loss: 1.5851 - val_accuracy: 0.5109\n",
            "Epoch 48/50\n",
            "30/30 [==============================] - 0s 13ms/step - loss: 1.0958 - accuracy: 0.6547 - val_loss: 1.7558 - val_accuracy: 0.4859\n",
            "Epoch 49/50\n",
            "30/30 [==============================] - 1s 17ms/step - loss: 1.1100 - accuracy: 0.6466 - val_loss: 1.5468 - val_accuracy: 0.5531\n",
            "Epoch 50/50\n",
            "30/30 [==============================] - 0s 14ms/step - loss: 1.0408 - accuracy: 0.6690 - val_loss: 1.5946 - val_accuracy: 0.5063\n"
          ],
          "name": "stdout"
        }
      ]
    },
    {
      "cell_type": "markdown",
      "metadata": {
        "id": "zQis73vrAJ5m",
        "colab_type": "text"
      },
      "source": [
        "Sources:\n",
        "* https://androidkt.com/feed-tfrecord-to-keras/\n",
        "\n",
        "* https://towardsdatascience.com/a-unified-method-for-downloading-extracting-processing-using-datasets-7482a3b27aff\n",
        "\n",
        "* https://stackoverflow.com/questions/53851793/valueerror-cannot-take-the-length-of-shape-with-unknown-rank\n",
        "\n",
        "* https://stackoverflow.com/questions/42184863/how-do-you-make-tensorflow-keras-fast-with-a-tfrecord-dataset\n",
        "\n",
        "* https://github.com/tensorflow/tensorflow/issues/24520\n",
        "\n"
      ]
    },
    {
      "cell_type": "markdown",
      "metadata": {
        "id": "EkdeENtaawwk",
        "colab_type": "text"
      },
      "source": [
        "#### Γραφικές παραστάσεις εκπαίδευσης και απόδοση στο σύνολο ελέγχου"
      ]
    },
    {
      "cell_type": "code",
      "metadata": {
        "id": "6kwIb6KubEUy",
        "colab_type": "code",
        "outputId": "3c681277-fc36-4490-ca6f-35e1b7bf374b",
        "colab": {
          "base_uri": "https://localhost:8080/",
          "height": 625
        }
      },
      "source": [
        "model_report(SIMPLE_MODEL, SIMPLE_MODEL_history, 30)"
      ],
      "execution_count": 0,
      "outputs": [
        {
          "output_type": "display_data",
          "data": {
            "image/png": "[encoded data removed]",
            "text/plain": [
              "<Figure size 576x576 with 2 Axes>"
            ]
          },
          "metadata": {
            "tags": []
          }
        },
        {
          "output_type": "stream",
          "text": [
            "\n",
            "Test set evaluation metrics\n",
            "30/30 [==============================] - 0s 13ms/step - loss: 1.5215 - accuracy: 0.5409\n",
            "loss: 1.52\n",
            "accuracy: 0.54\n"
          ],
          "name": "stdout"
        }
      ]
    },
    {
      "cell_type": "markdown",
      "metadata": {
        "id": "XN10aeVvcH_7",
        "colab_type": "text"
      },
      "source": [
        "Τα αποτελέσματα είναι παρόμοια με αρχικά (0.5404 accuracy στο test set το αρχικό, 0.5409 εδώ). <br>\n",
        "Τα δεδομένα ωστόσο είναι τώρα αποθηκευμένα στον δίσκο και προσπελαύνονται σειριακά. Έτσι μειώνονται οι απαιτήσεις σε RAM."
      ]
    },
    {
      "cell_type": "markdown",
      "metadata": {
        "id": "yypACH_oZx_i",
        "colab_type": "text"
      },
      "source": [
        "### Υπερεκπαίδευση\n",
        "\n",
        "Μπορείτε να πειραματιστείτε ως προς τον έλεγχο της υπερεκπαίδευσης (overfitting) με διάφορους τρόπους. Μεταξύ αυτών μπορούμε να αναφέρουμε τους εξής:\n",
        "- Πρόωρος τερματισμός (early stopping). Μια μέθοδος που τερματίζει την εκπαίδευση αν δεν υπάρχει βελτίωση ως προς τη μετρική απόδοσης που παρακολουθούμε. [tf.keras.callbacks.EarlyStopping](https://www.tensorflow.org/api_docs/python/tf/keras/callbacks/EarlyStoppinghttps://)\n",
        "- Dropout. Μια άλλη τεχνική για τη μείωση της υπερεκπαίδευσης είναι το Dropout. Είναι ένα είδος ομαλοποίησης (regularization) που επιβάλλει στα βάρη του δικτύου να παίρνουν μόνο μικρές τιμές. Εάν εφαρμόσουε dropout σε ένα επίπεδο του δικτύου, τότε ένα ποσοστό των βαρών του γίνεται τυχαία μηδενικό κατά την εκπαίδευση. [Dropout](https://www.tensorflow.org/tutorials/images/classification#dropout)\n",
        "- Επαύξηση δεδομένων. Η υπερεκπαίδευση συνήθως συμβαίνει όταν έχουμε λίγα ή/και πολύ όμοια δεδομένα εκπαίδευσης. Ένας τρόπος να διορθωθεί αυτό το πρόβλημα είναι να αυξήσουμε τα δεδομένα (data augmentation). Το data augmentation δημιουργεί νέα δεδομένα εκπαίδευσης με βάση τα υπάρχοντα εφαρμόζοντας τυχαίους μετασχηματισμούς ώστε να προκύπτουν αληθοφανείς εικόνες. [Data augmentation](https://www.tensorflow.org/tutorials/images/classification#data_augmentation), [ImageDataGenerator](https://www.tensorflow.org/api_docs/python/tf/keras/preprocessing/image/ImageDataGenerator#class_imagedatagenerator)\n",
        "\n",
        "Βλέπε επίσης [Image classification](https://www.tensorflow.org/tutorials/images/classification).\n",
        "\n",
        "--------------------------------------------------------------------------------"
      ]
    },
    {
      "cell_type": "markdown",
      "metadata": {
        "id": "gn-w3DJCgK8c",
        "colab_type": "text"
      },
      "source": [
        "Τυπώνουμε τα αποτελέσματα του αρχικού μοντέλου."
      ]
    },
    {
      "cell_type": "code",
      "metadata": {
        "id": "lO6Edsx7gJVy",
        "colab_type": "code",
        "outputId": "7a110e63-4c93-4d93-88c8-12258cfea9cb",
        "colab": {
          "base_uri": "https://localhost:8080/",
          "height": 625
        }
      },
      "source": [
        "model_report(SIMPLE_MODEL, SIMPLE_MODEL_history, 30)"
      ],
      "execution_count": 0,
      "outputs": [
        {
          "output_type": "display_data",
          "data": {
            "image/png": "[encoded data removed]",
            "text/plain": [
              "<Figure size 576x576 with 2 Axes>"
            ]
          },
          "metadata": {
            "tags": []
          }
        },
        {
          "output_type": "stream",
          "text": [
            "\n",
            "Test set evaluation metrics\n",
            "30/30 [==============================] - 0s 8ms/step - loss: 1.4951 - accuracy: 0.5372\n",
            "loss: 1.50\n",
            "accuracy: 0.54\n"
          ],
          "name": "stdout"
        }
      ]
    },
    {
      "cell_type": "markdown",
      "metadata": {
        "id": "Ea620D2ZfSPB",
        "colab_type": "text"
      },
      "source": [
        "Παρατηρούμε στην εκπαίδευση του μοντέλου οτι ενώ μειώνεται το Cross Entropy loss και αυξάνεται η ακρίβεια στο train data, αυτό δεν συμβαίνει στο valuation dataset, στο οποίο μετά την 30η εποχή σταματά να υπάρχει ουσιαστική βελτίωση. Αυτό οφείλεται στο φαινόμενο της υπερεκπαίδευσης, κατά την οποία το μοντέλο αρχίζει και μαθαίνει τις ιδιαιτερότητες των δεδομένων εκπαίδευσης και χάνει την δυνατότητα γενίκευσης."
      ]
    },
    {
      "cell_type": "markdown",
      "metadata": {
        "id": "-GC7d0S9ez4D",
        "colab_type": "text"
      },
      "source": [
        "#### Early Stopping\n",
        "\n",
        "Μία λύση είναι να σταματάμε την εκπαίδευση όταν παρατηρούμε οτι δεν υπάρχει πια βελτίωση των αποτελεσμάτων στο valuation dataset."
      ]
    },
    {
      "cell_type": "code",
      "metadata": {
        "id": "yMHbZJYYlAGP",
        "colab_type": "code",
        "colab": {}
      },
      "source": [
        "# importing EarlyStopping implemented by tensorflow\n",
        "from tensorflow.keras import callbacks\n",
        "\n",
        "# monitored quantity is set to be accuracy on the valuation dataset\n",
        "# min_delta is the minimum change in the monitored quantity to qualify as an improvement and is set to 0.02%\n",
        "# patience is a delay to the trigger in terms of the number of epochs on which we would like to see no improvement and is set to 10 epochs\n",
        "cb = callbacks.EarlyStopping(monitor='val_accuracy', min_delta=0.02, patience=10, mode='max', verbose=1, baseline=None, restore_best_weights=False)\n",
        "\n",
        "# early stopping will occur after an iteration with low accuracy on the valuation dataset. So we choose the best model, based on the val_accuracy so far\n",
        "mc = callbacks.ModelCheckpoint('best_model.h5', monitor='val_accuracy', mode='max', verbose=1, save_best_only=True)\n",
        "\n",
        "def train_model(model, epochs = 10, steps_per_epoch = 2, validation_steps = 1):\n",
        "  history = model.fit(train_ds, epochs=epochs, steps_per_epoch=steps_per_epoch, validation_data=validation_ds, validation_steps=validation_steps, callbacks=[cb, mc])\n",
        "  return(history)"
      ],
      "execution_count": 0,
      "outputs": []
    },
    {
      "cell_type": "markdown",
      "metadata": {
        "id": "zMr6JP0Lmk6B",
        "colab_type": "text"
      },
      "source": [
        "Εκπαιδεύουμε το ίδιο μοντέλο."
      ]
    },
    {
      "cell_type": "code",
      "metadata": {
        "id": "bI5Ipmf1muDf",
        "colab_type": "code",
        "outputId": "153ccc65-bf6c-4850-ec5e-9485838960ca",
        "colab": {
          "base_uri": "https://localhost:8080/",
          "height": 1000
        }
      },
      "source": [
        "SIMPLE_MODEL = init_simple_model(summary = True)\n",
        "SIMPLE_MODEL_history = train_model(SIMPLE_MODEL, 50, 30, 5)"
      ],
      "execution_count": 0,
      "outputs": [
        {
          "output_type": "stream",
          "text": [
            "Model: \"sequential_8\"\n",
            "_________________________________________________________________\n",
            "Layer (type)                 Output Shape              Param #   \n",
            "=================================================================\n",
            "conv2d_24 (Conv2D)           (None, 30, 30, 32)        896       \n",
            "_________________________________________________________________\n",
            "max_pooling2d_16 (MaxPooling (None, 15, 15, 32)        0         \n",
            "_________________________________________________________________\n",
            "conv2d_25 (Conv2D)           (None, 13, 13, 64)        18496     \n",
            "_________________________________________________________________\n",
            "max_pooling2d_17 (MaxPooling (None, 6, 6, 64)          0         \n",
            "_________________________________________________________________\n",
            "conv2d_26 (Conv2D)           (None, 4, 4, 64)          36928     \n",
            "_________________________________________________________________\n",
            "flatten_8 (Flatten)          (None, 1024)              0         \n",
            "_________________________________________________________________\n",
            "dense_16 (Dense)             (None, 64)                65600     \n",
            "_________________________________________________________________\n",
            "dense_17 (Dense)             (None, 100)               6500      \n",
            "=================================================================\n",
            "Total params: 128,420\n",
            "Trainable params: 128,420\n",
            "Non-trainable params: 0\n",
            "_________________________________________________________________\n",
            "Train for 30 steps, validate for 5 steps\n",
            "Epoch 1/50\n",
            "28/30 [===========================>..] - ETA: 0s - loss: 3.6310 - accuracy: 0.0558\n",
            "Epoch 00001: val_accuracy improved from -inf to 0.13594, saving model to best_model.h5\n",
            "30/30 [==============================] - 1s 40ms/step - loss: 3.5873 - accuracy: 0.0586 - val_loss: 2.8899 - val_accuracy: 0.1359\n",
            "Epoch 2/50\n",
            "28/30 [===========================>..] - ETA: 0s - loss: 2.7720 - accuracy: 0.1487\n",
            "Epoch 00002: val_accuracy improved from 0.13594 to 0.15781, saving model to best_model.h5\n",
            "30/30 [==============================] - 0s 11ms/step - loss: 2.7646 - accuracy: 0.1487 - val_loss: 2.6972 - val_accuracy: 0.1578\n",
            "Epoch 3/50\n",
            "25/30 [========================>.....] - ETA: 0s - loss: 2.6426 - accuracy: 0.1828\n",
            "Epoch 00003: val_accuracy improved from 0.15781 to 0.22500, saving model to best_model.h5\n",
            "30/30 [==============================] - 1s 27ms/step - loss: 2.6254 - accuracy: 0.1898 - val_loss: 2.5454 - val_accuracy: 0.2250\n",
            "Epoch 4/50\n",
            "29/30 [============================>.] - ETA: 0s - loss: 2.4590 - accuracy: 0.2430\n",
            "Epoch 00004: val_accuracy improved from 0.22500 to 0.25938, saving model to best_model.h5\n",
            "30/30 [==============================] - 0s 11ms/step - loss: 2.4624 - accuracy: 0.2440 - val_loss: 2.4309 - val_accuracy: 0.2594\n",
            "Epoch 5/50\n",
            "21/30 [====================>.........] - ETA: 0s - loss: 2.3980 - accuracy: 0.2582\n",
            "Epoch 00005: val_accuracy improved from 0.25938 to 0.29375, saving model to best_model.h5\n",
            "30/30 [==============================] - 1s 31ms/step - loss: 2.3548 - accuracy: 0.2667 - val_loss: 2.3070 - val_accuracy: 0.2937\n",
            "Epoch 6/50\n",
            "28/30 [===========================>..] - ETA: 0s - loss: 2.2677 - accuracy: 0.2985\n",
            "Epoch 00006: val_accuracy improved from 0.29375 to 0.32344, saving model to best_model.h5\n",
            "30/30 [==============================] - 0s 11ms/step - loss: 2.2655 - accuracy: 0.3003 - val_loss: 2.2133 - val_accuracy: 0.3234\n",
            "Epoch 7/50\n",
            "28/30 [===========================>..] - ETA: 0s - loss: 2.1557 - accuracy: 0.3298\n",
            "Epoch 00007: val_accuracy improved from 0.32344 to 0.34844, saving model to best_model.h5\n",
            "30/30 [==============================] - 1s 28ms/step - loss: 2.1489 - accuracy: 0.3292 - val_loss: 2.1589 - val_accuracy: 0.3484\n",
            "Epoch 8/50\n",
            "28/30 [===========================>..] - ETA: 0s - loss: 2.0562 - accuracy: 0.3664\n",
            "Epoch 00008: val_accuracy did not improve from 0.34844\n",
            "30/30 [==============================] - 0s 10ms/step - loss: 2.0578 - accuracy: 0.3643 - val_loss: 2.1728 - val_accuracy: 0.3391\n",
            "Epoch 9/50\n",
            "26/30 [=========================>....] - ETA: 0s - loss: 2.0304 - accuracy: 0.3657\n",
            "Epoch 00009: val_accuracy improved from 0.34844 to 0.36250, saving model to best_model.h5\n",
            "30/30 [==============================] - 1s 31ms/step - loss: 2.0341 - accuracy: 0.3661 - val_loss: 2.0929 - val_accuracy: 0.3625\n",
            "Epoch 10/50\n",
            "29/30 [============================>.] - ETA: 0s - loss: 1.9514 - accuracy: 0.3995\n",
            "Epoch 00010: val_accuracy did not improve from 0.36250\n",
            "30/30 [==============================] - 0s 11ms/step - loss: 1.9478 - accuracy: 0.3995 - val_loss: 2.0010 - val_accuracy: 0.3547\n",
            "Epoch 11/50\n",
            "26/30 [=========================>....] - ETA: 0s - loss: 1.9036 - accuracy: 0.4087\n",
            "Epoch 00011: val_accuracy improved from 0.36250 to 0.40781, saving model to best_model.h5\n",
            "30/30 [==============================] - 0s 14ms/step - loss: 1.9048 - accuracy: 0.4081 - val_loss: 1.9448 - val_accuracy: 0.4078\n",
            "Epoch 12/50\n",
            "26/30 [=========================>....] - ETA: 0s - loss: 1.8434 - accuracy: 0.4285\n",
            "Epoch 00012: val_accuracy did not improve from 0.40781\n",
            "30/30 [==============================] - 1s 20ms/step - loss: 1.8486 - accuracy: 0.4260 - val_loss: 1.8911 - val_accuracy: 0.4062\n",
            "Epoch 13/50\n",
            "26/30 [=========================>....] - ETA: 0s - loss: 1.8238 - accuracy: 0.4363\n",
            "Epoch 00013: val_accuracy did not improve from 0.40781\n",
            "30/30 [==============================] - 0s 14ms/step - loss: 1.8247 - accuracy: 0.4372 - val_loss: 1.9298 - val_accuracy: 0.3938\n",
            "Epoch 14/50\n",
            "26/30 [=========================>....] - ETA: 0s - loss: 1.7957 - accuracy: 0.4390\n",
            "Epoch 00014: val_accuracy improved from 0.40781 to 0.42812, saving model to best_model.h5\n",
            "30/30 [==============================] - 1s 19ms/step - loss: 1.7962 - accuracy: 0.4393 - val_loss: 1.8750 - val_accuracy: 0.4281\n",
            "Epoch 15/50\n",
            "23/30 [======================>.......] - ETA: 0s - loss: 1.8020 - accuracy: 0.4334\n",
            "Epoch 00015: val_accuracy did not improve from 0.42812\n",
            "30/30 [==============================] - 0s 13ms/step - loss: 1.7854 - accuracy: 0.4437 - val_loss: 1.8986 - val_accuracy: 0.4125\n",
            "Epoch 16/50\n",
            "23/30 [======================>.......] - ETA: 0s - loss: 1.6773 - accuracy: 0.4667\n",
            "Epoch 00016: val_accuracy improved from 0.42812 to 0.45000, saving model to best_model.h5\n",
            "30/30 [==============================] - 1s 19ms/step - loss: 1.6809 - accuracy: 0.4664 - val_loss: 1.8342 - val_accuracy: 0.4500\n",
            "Epoch 17/50\n",
            "26/30 [=========================>....] - ETA: 0s - loss: 1.7258 - accuracy: 0.4561\n",
            "Epoch 00017: val_accuracy did not improve from 0.45000\n",
            "30/30 [==============================] - 0s 16ms/step - loss: 1.7111 - accuracy: 0.4648 - val_loss: 1.9573 - val_accuracy: 0.3984\n",
            "Epoch 18/50\n",
            "23/30 [======================>.......] - ETA: 0s - loss: 1.7227 - accuracy: 0.4698\n",
            "Epoch 00018: val_accuracy did not improve from 0.45000\n",
            "30/30 [==============================] - 0s 14ms/step - loss: 1.7254 - accuracy: 0.4661 - val_loss: 1.8462 - val_accuracy: 0.4078\n",
            "Epoch 19/50\n",
            "23/30 [======================>.......] - ETA: 0s - loss: 1.6111 - accuracy: 0.4973\n",
            "Epoch 00019: val_accuracy did not improve from 0.45000\n",
            "30/30 [==============================] - 0s 13ms/step - loss: 1.6117 - accuracy: 0.4943 - val_loss: 1.7218 - val_accuracy: 0.4437\n",
            "Epoch 20/50\n",
            "28/30 [===========================>..] - ETA: 0s - loss: 1.6512 - accuracy: 0.4819\n",
            "Epoch 00020: val_accuracy did not improve from 0.45000\n",
            "30/30 [==============================] - 1s 21ms/step - loss: 1.6529 - accuracy: 0.4810 - val_loss: 1.8100 - val_accuracy: 0.4437\n",
            "Epoch 21/50\n",
            "28/30 [===========================>..] - ETA: 0s - loss: 1.5579 - accuracy: 0.5047\n",
            "Epoch 00021: val_accuracy improved from 0.45000 to 0.47813, saving model to best_model.h5\n",
            "30/30 [==============================] - 0s 17ms/step - loss: 1.5653 - accuracy: 0.5021 - val_loss: 1.6690 - val_accuracy: 0.4781\n",
            "Epoch 22/50\n",
            "24/30 [=======================>......] - ETA: 0s - loss: 1.5714 - accuracy: 0.5068\n",
            "Epoch 00022: val_accuracy did not improve from 0.47813\n",
            "30/30 [==============================] - 0s 15ms/step - loss: 1.5681 - accuracy: 0.5112 - val_loss: 1.7644 - val_accuracy: 0.4625\n",
            "Epoch 23/50\n",
            "27/30 [==========================>...] - ETA: 0s - loss: 1.5053 - accuracy: 0.5318\n",
            "Epoch 00023: val_accuracy improved from 0.47813 to 0.48906, saving model to best_model.h5\n",
            "30/30 [==============================] - 0s 14ms/step - loss: 1.5021 - accuracy: 0.5326 - val_loss: 1.6563 - val_accuracy: 0.4891\n",
            "Epoch 24/50\n",
            "24/30 [=======================>......] - ETA: 0s - loss: 1.5075 - accuracy: 0.5225\n",
            "Epoch 00024: val_accuracy did not improve from 0.48906\n",
            "30/30 [==============================] - 0s 13ms/step - loss: 1.5061 - accuracy: 0.5219 - val_loss: 1.7235 - val_accuracy: 0.4672\n",
            "Epoch 25/50\n",
            "27/30 [==========================>...] - ETA: 0s - loss: 1.4855 - accuracy: 0.5286\n",
            "Epoch 00025: val_accuracy did not improve from 0.48906\n",
            "30/30 [==============================] - 0s 15ms/step - loss: 1.4885 - accuracy: 0.5289 - val_loss: 1.7318 - val_accuracy: 0.4625\n",
            "Epoch 26/50\n",
            "24/30 [=======================>......] - ETA: 0s - loss: 1.4856 - accuracy: 0.5387\n",
            "Epoch 00026: val_accuracy did not improve from 0.48906\n",
            "30/30 [==============================] - 0s 14ms/step - loss: 1.4941 - accuracy: 0.5370 - val_loss: 1.7403 - val_accuracy: 0.4641\n",
            "Epoch 27/50\n",
            "25/30 [========================>.....] - ETA: 0s - loss: 1.4694 - accuracy: 0.5378\n",
            "Epoch 00027: val_accuracy did not improve from 0.48906\n",
            "30/30 [==============================] - 1s 19ms/step - loss: 1.4640 - accuracy: 0.5424 - val_loss: 1.6655 - val_accuracy: 0.4563\n",
            "Epoch 28/50\n",
            "27/30 [==========================>...] - ETA: 0s - loss: 1.4255 - accuracy: 0.5501\n",
            "Epoch 00028: val_accuracy improved from 0.48906 to 0.49531, saving model to best_model.h5\n",
            "30/30 [==============================] - 0s 14ms/step - loss: 1.4303 - accuracy: 0.5505 - val_loss: 1.5871 - val_accuracy: 0.4953\n",
            "Epoch 29/50\n",
            "26/30 [=========================>....] - ETA: 0s - loss: 1.4215 - accuracy: 0.5463\n",
            "Epoch 00029: val_accuracy did not improve from 0.49531\n",
            "30/30 [==============================] - 0s 16ms/step - loss: 1.4224 - accuracy: 0.5464 - val_loss: 1.7332 - val_accuracy: 0.4688\n",
            "Epoch 30/50\n",
            "22/30 [=====================>........] - ETA: 0s - loss: 1.3988 - accuracy: 0.5661\n",
            "Epoch 00030: val_accuracy improved from 0.49531 to 0.52188, saving model to best_model.h5\n",
            "30/30 [==============================] - 0s 15ms/step - loss: 1.3954 - accuracy: 0.5654 - val_loss: 1.6028 - val_accuracy: 0.5219\n",
            "Epoch 31/50\n",
            "29/30 [============================>.] - ETA: 0s - loss: 1.4136 - accuracy: 0.5582\n",
            "Epoch 00031: val_accuracy improved from 0.52188 to 0.53438, saving model to best_model.h5\n",
            "30/30 [==============================] - 1s 19ms/step - loss: 1.4146 - accuracy: 0.5581 - val_loss: 1.5508 - val_accuracy: 0.5344\n",
            "Epoch 32/50\n",
            "24/30 [=======================>......] - ETA: 0s - loss: 1.3499 - accuracy: 0.5807\n",
            "Epoch 00032: val_accuracy did not improve from 0.53438\n",
            "30/30 [==============================] - 0s 13ms/step - loss: 1.3484 - accuracy: 0.5799 - val_loss: 1.5935 - val_accuracy: 0.4906\n",
            "Epoch 33/50\n",
            "28/30 [===========================>..] - ETA: 0s - loss: 1.3429 - accuracy: 0.5781\n",
            "Epoch 00033: val_accuracy did not improve from 0.53438\n",
            "30/30 [==============================] - 1s 17ms/step - loss: 1.3457 - accuracy: 0.5786 - val_loss: 1.7486 - val_accuracy: 0.4875\n",
            "Epoch 34/50\n",
            "29/30 [============================>.] - ETA: 0s - loss: 1.3268 - accuracy: 0.5706\n",
            "Epoch 00034: val_accuracy did not improve from 0.53438\n",
            "30/30 [==============================] - 0s 13ms/step - loss: 1.3256 - accuracy: 0.5708 - val_loss: 1.6747 - val_accuracy: 0.4812\n",
            "Epoch 35/50\n",
            "24/30 [=======================>......] - ETA: 0s - loss: 1.3344 - accuracy: 0.5801\n",
            "Epoch 00035: val_accuracy did not improve from 0.53438\n",
            "30/30 [==============================] - 0s 15ms/step - loss: 1.3361 - accuracy: 0.5797 - val_loss: 1.6403 - val_accuracy: 0.4891\n",
            "Epoch 36/50\n",
            "25/30 [========================>.....] - ETA: 0s - loss: 1.2792 - accuracy: 0.5897\n",
            "Epoch 00036: val_accuracy did not improve from 0.53438\n",
            "30/30 [==============================] - 0s 13ms/step - loss: 1.2620 - accuracy: 0.5982 - val_loss: 1.5516 - val_accuracy: 0.5141\n",
            "Epoch 37/50\n",
            "27/30 [==========================>...] - ETA: 0s - loss: 1.2713 - accuracy: 0.6082\n",
            "Epoch 00037: val_accuracy did not improve from 0.53438\n",
            "30/30 [==============================] - 0s 12ms/step - loss: 1.2781 - accuracy: 0.6036 - val_loss: 1.5906 - val_accuracy: 0.5031\n",
            "Epoch 38/50\n",
            "26/30 [=========================>....] - ETA: 0s - loss: 1.3127 - accuracy: 0.5826\n",
            "Epoch 00038: val_accuracy did not improve from 0.53438\n",
            "30/30 [==============================] - 1s 19ms/step - loss: 1.3001 - accuracy: 0.5862 - val_loss: 1.6263 - val_accuracy: 0.5094\n",
            "Epoch 39/50\n",
            "27/30 [==========================>...] - ETA: 0s - loss: 1.2384 - accuracy: 0.6085\n",
            "Epoch 00039: val_accuracy did not improve from 0.53438\n",
            "30/30 [==============================] - 0s 16ms/step - loss: 1.2413 - accuracy: 0.6081 - val_loss: 1.6578 - val_accuracy: 0.5109\n",
            "Epoch 40/50\n",
            "26/30 [=========================>....] - ETA: 0s - loss: 1.2468 - accuracy: 0.6016\n",
            "Epoch 00040: val_accuracy did not improve from 0.53438\n",
            "30/30 [==============================] - 0s 14ms/step - loss: 1.2525 - accuracy: 0.6010 - val_loss: 1.5769 - val_accuracy: 0.5297\n",
            "Epoch 00040: early stopping\n"
          ],
          "name": "stdout"
        }
      ]
    },
    {
      "cell_type": "markdown",
      "metadata": {
        "id": "NFnjBdk6m4d-",
        "colab_type": "text"
      },
      "source": [
        "Παρατηρούμε οτι μεταξύ των εποχών 30 και 40 δεν ξεπεράσαμε το 0.02% σε αύξηση οπότε το μοντέλο σταμάτησε στις 40 εποχές. <br>\n",
        "Το καλύτερο μοντέλο με το μεγαλύτερο accuracy στο validation set βρέθηκε στην 31η επανάληψη, έτσι το μοντέλο που αποθηκεύτηκε και χρησιμοποιήθηκε ήταν αυτό."
      ]
    },
    {
      "cell_type": "code",
      "metadata": {
        "id": "ZNTN0Epfm96_",
        "colab_type": "code",
        "outputId": "6247b4b7-fede-4d62-fda0-b54f8d435ef8",
        "colab": {
          "base_uri": "https://localhost:8080/",
          "height": 625
        }
      },
      "source": [
        "model_report(SIMPLE_MODEL, SIMPLE_MODEL_history, 30)"
      ],
      "execution_count": 0,
      "outputs": [
        {
          "output_type": "display_data",
          "data": {
            "image/png": "[encoded data removed]",
            "text/plain": [
              "<Figure size 576x576 with 2 Axes>"
            ]
          },
          "metadata": {
            "tags": []
          }
        },
        {
          "output_type": "stream",
          "text": [
            "\n",
            "Test set evaluation metrics\n",
            "30/30 [==============================] - 0s 13ms/step - loss: 1.5097 - accuracy: 0.5339\n",
            "loss: 1.51\n",
            "accuracy: 0.53\n"
          ],
          "name": "stdout"
        }
      ]
    },
    {
      "cell_type": "markdown",
      "metadata": {
        "id": "OapTKuHXY8QO",
        "colab_type": "text"
      },
      "source": [
        "Παρατηρούμε οτι πετύχαμε σχεδόν τα ίδια αποτελέσματα με 40 αντί για 50 εποχές."
      ]
    },
    {
      "cell_type": "markdown",
      "metadata": {
        "id": "vSg3dEacZm-e",
        "colab_type": "text"
      },
      "source": [
        "Source:\n",
        "* https://machinelearningmastery.com/how-to-stop-training-deep-neural-networks-at-the-right-time-using-early-stopping/"
      ]
    },
    {
      "cell_type": "markdown",
      "metadata": {
        "id": "A3FT5z-4ZIeW",
        "colab_type": "text"
      },
      "source": [
        "#### Dropout"
      ]
    },
    {
      "cell_type": "markdown",
      "metadata": {
        "id": "jvEjEbAeZb_2",
        "colab_type": "text"
      },
      "source": [
        "To Dropout είναι μία άλλη λύση. Εφαρμόζοντας Dropout με ποσοστό x% σε ένα επίπεδο του δικτύου μας αναγκάζουμε x% των εξόδων του επιπέδου, τυχαία επιλεγμένων σε κάθε εποχή, να πάρουν μηδενικές τιμές. Έτσι το δίκτυο δυσκολεύεται να μάθει τις ιδιαιτερότητες του dataset, καθώς αυτές αντιπροσωπεύονται με συγκεκριμένα βάρη τα οποία αποκτούν μεγάλες τιμές, κάτι το οποίο εμποδίζεται με το Dropout. <br>\n",
        "To Dropout ενσωματώνεται ξεχωριστά σε κάθε επίπεδο του μοντέλου μας, με διαφορετικά ποσοστά, αν θέλουμε."
      ]
    },
    {
      "cell_type": "code",
      "metadata": {
        "id": "C2uGvcv-byo1",
        "colab_type": "code",
        "colab": {}
      },
      "source": [
        "def train_model(model, epochs = 10, steps_per_epoch = 2, validation_steps = 1):\n",
        "  history = model.fit(train_ds, epochs=epochs, steps_per_epoch=steps_per_epoch, validation_data=validation_ds, validation_steps=validation_steps)\n",
        "  return(history)"
      ],
      "execution_count": 0,
      "outputs": []
    },
    {
      "cell_type": "markdown",
      "metadata": {
        "id": "de1iKqmQc157",
        "colab_type": "text"
      },
      "source": [
        "Όπως στο [παράδειγμα](https://www.tensorflow.org/tutorials/images/classification#dropout) εφαρμόζουμε αρχικά dropout μπροστά από τα MaxPooling layers."
      ]
    },
    {
      "cell_type": "code",
      "metadata": {
        "id": "IpSscX10g1Eu",
        "colab_type": "code",
        "colab": {}
      },
      "source": [
        "# a simple CNN https://www.tensorflow.org/tutorials/images/cnn\n",
        "\n",
        "def init_simple_model(summary):\n",
        "  model = models.Sequential()\n",
        "  model.add(layers.Conv2D(32, (3, 3), activation='relu', input_shape=(32, 32, 3)))\n",
        "  model.add(layers.MaxPooling2D((2, 2)))\n",
        "  model.add(layers.Dropout(0.4))\n",
        "  model.add(layers.Conv2D(64, (3, 3), activation='relu'))\n",
        "  model.add(layers.MaxPooling2D((2, 2)))\n",
        "  model.add(layers.Dropout(0.2))\n",
        "  model.add(layers.Conv2D(64, (3, 3), activation='relu'))\n",
        "  model.add(layers.Flatten())\n",
        "  model.add(layers.Dense(64, activation='relu'))\n",
        "  model.add(layers.Dense(100, activation='softmax'))\n",
        "  model.compile(optimizer=tf.optimizers.Adam(), loss=tf.keras.losses.sparse_categorical_crossentropy, metrics=[\"accuracy\"])\n",
        "  if summary: \n",
        "    model.summary()\n",
        "  return model"
      ],
      "execution_count": 0,
      "outputs": []
    },
    {
      "cell_type": "code",
      "metadata": {
        "id": "2NI8SStzg6Br",
        "colab_type": "code",
        "outputId": "66822d07-8534-410f-9120-e65a6878922f",
        "colab": {
          "base_uri": "https://localhost:8080/",
          "height": 1000
        }
      },
      "source": [
        "SIMPLE_MODEL = init_simple_model(summary = True)\n",
        "SIMPLE_MODEL_history = train_model(SIMPLE_MODEL, 50, 30, 5)"
      ],
      "execution_count": 0,
      "outputs": [
        {
          "output_type": "stream",
          "text": [
            "Model: \"sequential_40\"\n",
            "_________________________________________________________________\n",
            "Layer (type)                 Output Shape              Param #   \n",
            "=================================================================\n",
            "conv2d_116 (Conv2D)          (None, 30, 30, 32)        896       \n",
            "_________________________________________________________________\n",
            "max_pooling2d_78 (MaxPooling (None, 15, 15, 32)        0         \n",
            "_________________________________________________________________\n",
            "dropout_68 (Dropout)         (None, 15, 15, 32)        0         \n",
            "_________________________________________________________________\n",
            "conv2d_117 (Conv2D)          (None, 13, 13, 64)        18496     \n",
            "_________________________________________________________________\n",
            "max_pooling2d_79 (MaxPooling (None, 6, 6, 64)          0         \n",
            "_________________________________________________________________\n",
            "dropout_69 (Dropout)         (None, 6, 6, 64)          0         \n",
            "_________________________________________________________________\n",
            "conv2d_118 (Conv2D)          (None, 4, 4, 64)          36928     \n",
            "_________________________________________________________________\n",
            "flatten_38 (Flatten)         (None, 1024)              0         \n",
            "_________________________________________________________________\n",
            "dense_76 (Dense)             (None, 64)                65600     \n",
            "_________________________________________________________________\n",
            "dense_77 (Dense)             (None, 100)               6500      \n",
            "=================================================================\n",
            "Total params: 128,420\n",
            "Trainable params: 128,420\n",
            "Non-trainable params: 0\n",
            "_________________________________________________________________\n",
            "Train for 30 steps, validate for 5 steps\n",
            "Epoch 1/50\n",
            "30/30 [==============================] - 1s 30ms/step - loss: 3.6015 - accuracy: 0.0474 - val_loss: 3.0923 - val_accuracy: 0.0641\n",
            "Epoch 2/50\n",
            "30/30 [==============================] - 0s 10ms/step - loss: 2.9266 - accuracy: 0.0971 - val_loss: 2.7671 - val_accuracy: 0.1422\n",
            "Epoch 3/50\n",
            "30/30 [==============================] - 0s 11ms/step - loss: 2.7498 - accuracy: 0.1375 - val_loss: 2.7608 - val_accuracy: 0.1406\n",
            "Epoch 4/50\n",
            "30/30 [==============================] - 0s 9ms/step - loss: 2.6182 - accuracy: 0.1771 - val_loss: 2.6249 - val_accuracy: 0.1875\n",
            "Epoch 5/50\n",
            "30/30 [==============================] - 0s 11ms/step - loss: 2.5029 - accuracy: 0.2148 - val_loss: 2.4899 - val_accuracy: 0.2594\n",
            "Epoch 6/50\n",
            "30/30 [==============================] - 0s 9ms/step - loss: 2.3245 - accuracy: 0.2737 - val_loss: 2.3423 - val_accuracy: 0.2859\n",
            "Epoch 7/50\n",
            "30/30 [==============================] - 0s 11ms/step - loss: 2.2912 - accuracy: 0.2893 - val_loss: 2.2000 - val_accuracy: 0.3078\n",
            "Epoch 8/50\n",
            "30/30 [==============================] - 0s 9ms/step - loss: 2.2075 - accuracy: 0.3115 - val_loss: 2.2314 - val_accuracy: 0.3187\n",
            "Epoch 9/50\n",
            "30/30 [==============================] - 0s 10ms/step - loss: 2.1449 - accuracy: 0.3396 - val_loss: 2.2014 - val_accuracy: 0.3328\n",
            "Epoch 10/50\n",
            "30/30 [==============================] - 0s 9ms/step - loss: 2.1140 - accuracy: 0.3427 - val_loss: 2.1216 - val_accuracy: 0.3469\n",
            "Epoch 11/50\n",
            "30/30 [==============================] - 0s 10ms/step - loss: 2.0458 - accuracy: 0.3565 - val_loss: 2.0584 - val_accuracy: 0.3516\n",
            "Epoch 12/50\n",
            "30/30 [==============================] - 0s 9ms/step - loss: 1.9620 - accuracy: 0.3867 - val_loss: 2.0095 - val_accuracy: 0.3781\n",
            "Epoch 13/50\n",
            "30/30 [==============================] - 0s 10ms/step - loss: 1.9762 - accuracy: 0.3870 - val_loss: 1.9453 - val_accuracy: 0.3891\n",
            "Epoch 14/50\n",
            "30/30 [==============================] - 0s 9ms/step - loss: 1.8908 - accuracy: 0.4203 - val_loss: 1.9415 - val_accuracy: 0.3891\n",
            "Epoch 15/50\n",
            "30/30 [==============================] - 0s 9ms/step - loss: 1.8801 - accuracy: 0.4086 - val_loss: 1.9111 - val_accuracy: 0.4203\n",
            "Epoch 16/50\n",
            "30/30 [==============================] - 0s 9ms/step - loss: 1.8280 - accuracy: 0.4208 - val_loss: 1.9208 - val_accuracy: 0.4141\n",
            "Epoch 17/50\n",
            "30/30 [==============================] - 0s 9ms/step - loss: 1.8041 - accuracy: 0.4323 - val_loss: 1.8464 - val_accuracy: 0.4422\n",
            "Epoch 18/50\n",
            "30/30 [==============================] - 0s 10ms/step - loss: 1.7963 - accuracy: 0.4281 - val_loss: 1.8493 - val_accuracy: 0.4531\n",
            "Epoch 19/50\n",
            "30/30 [==============================] - 0s 10ms/step - loss: 1.7660 - accuracy: 0.4461 - val_loss: 1.8141 - val_accuracy: 0.4344\n",
            "Epoch 20/50\n",
            "30/30 [==============================] - 0s 9ms/step - loss: 1.7713 - accuracy: 0.4307 - val_loss: 1.8113 - val_accuracy: 0.4547\n",
            "Epoch 21/50\n",
            "30/30 [==============================] - 0s 9ms/step - loss: 1.7625 - accuracy: 0.4370 - val_loss: 1.7651 - val_accuracy: 0.4547\n",
            "Epoch 22/50\n",
            "30/30 [==============================] - 0s 9ms/step - loss: 1.6792 - accuracy: 0.4646 - val_loss: 1.7837 - val_accuracy: 0.4641\n",
            "Epoch 23/50\n",
            "30/30 [==============================] - 0s 8ms/step - loss: 1.6595 - accuracy: 0.4763 - val_loss: 1.8331 - val_accuracy: 0.4453\n",
            "Epoch 24/50\n",
            "30/30 [==============================] - 0s 10ms/step - loss: 1.6684 - accuracy: 0.4706 - val_loss: 1.7960 - val_accuracy: 0.4609\n",
            "Epoch 25/50\n",
            "30/30 [==============================] - 0s 10ms/step - loss: 1.6060 - accuracy: 0.5008 - val_loss: 1.8019 - val_accuracy: 0.4406\n",
            "Epoch 26/50\n",
            "30/30 [==============================] - 0s 10ms/step - loss: 1.6260 - accuracy: 0.4747 - val_loss: 1.7533 - val_accuracy: 0.4500\n",
            "Epoch 27/50\n",
            "30/30 [==============================] - 0s 8ms/step - loss: 1.6359 - accuracy: 0.4810 - val_loss: 1.7280 - val_accuracy: 0.4531\n",
            "Epoch 28/50\n",
            "30/30 [==============================] - 0s 10ms/step - loss: 1.5630 - accuracy: 0.5008 - val_loss: 1.6723 - val_accuracy: 0.4859\n",
            "Epoch 29/50\n",
            "30/30 [==============================] - 0s 9ms/step - loss: 1.5994 - accuracy: 0.4966 - val_loss: 1.7175 - val_accuracy: 0.4688\n",
            "Epoch 30/50\n",
            "30/30 [==============================] - 0s 10ms/step - loss: 1.5798 - accuracy: 0.5060 - val_loss: 1.6885 - val_accuracy: 0.4797\n",
            "Epoch 31/50\n",
            "30/30 [==============================] - 0s 9ms/step - loss: 1.5312 - accuracy: 0.5164 - val_loss: 1.6560 - val_accuracy: 0.4812\n",
            "Epoch 32/50\n",
            "30/30 [==============================] - 0s 9ms/step - loss: 1.5165 - accuracy: 0.5198 - val_loss: 1.6887 - val_accuracy: 0.4891\n",
            "Epoch 33/50\n",
            "30/30 [==============================] - 0s 10ms/step - loss: 1.5318 - accuracy: 0.5206 - val_loss: 1.6449 - val_accuracy: 0.4969\n",
            "Epoch 34/50\n",
            "30/30 [==============================] - 0s 8ms/step - loss: 1.4775 - accuracy: 0.5362 - val_loss: 1.6801 - val_accuracy: 0.4969\n",
            "Epoch 35/50\n",
            "30/30 [==============================] - 0s 9ms/step - loss: 1.5308 - accuracy: 0.5115 - val_loss: 1.6473 - val_accuracy: 0.5047\n",
            "Epoch 36/50\n",
            "30/30 [==============================] - 0s 9ms/step - loss: 1.4313 - accuracy: 0.5464 - val_loss: 1.6691 - val_accuracy: 0.4797\n",
            "Epoch 37/50\n",
            "30/30 [==============================] - 0s 10ms/step - loss: 1.4693 - accuracy: 0.5375 - val_loss: 1.6222 - val_accuracy: 0.4953\n",
            "Epoch 38/50\n",
            "30/30 [==============================] - 0s 9ms/step - loss: 1.4580 - accuracy: 0.5404 - val_loss: 1.5923 - val_accuracy: 0.5266\n",
            "Epoch 39/50\n",
            "30/30 [==============================] - 0s 10ms/step - loss: 1.4555 - accuracy: 0.5404 - val_loss: 1.6283 - val_accuracy: 0.4938\n",
            "Epoch 40/50\n",
            "30/30 [==============================] - 0s 10ms/step - loss: 1.4155 - accuracy: 0.5401 - val_loss: 1.6154 - val_accuracy: 0.4875\n",
            "Epoch 41/50\n",
            "30/30 [==============================] - 0s 10ms/step - loss: 1.4114 - accuracy: 0.5609 - val_loss: 1.5272 - val_accuracy: 0.5406\n",
            "Epoch 42/50\n",
            "30/30 [==============================] - 0s 9ms/step - loss: 1.3785 - accuracy: 0.5630 - val_loss: 1.5693 - val_accuracy: 0.5219\n",
            "Epoch 43/50\n",
            "30/30 [==============================] - 0s 9ms/step - loss: 1.3963 - accuracy: 0.5646 - val_loss: 1.6001 - val_accuracy: 0.5063\n",
            "Epoch 44/50\n",
            "30/30 [==============================] - 0s 8ms/step - loss: 1.3609 - accuracy: 0.5651 - val_loss: 1.5733 - val_accuracy: 0.5266\n",
            "Epoch 45/50\n",
            "30/30 [==============================] - 0s 9ms/step - loss: 1.3941 - accuracy: 0.5531 - val_loss: 1.6195 - val_accuracy: 0.4906\n",
            "Epoch 46/50\n",
            "30/30 [==============================] - 0s 10ms/step - loss: 1.3641 - accuracy: 0.5612 - val_loss: 1.6542 - val_accuracy: 0.4891\n",
            "Epoch 47/50\n",
            "30/30 [==============================] - 0s 9ms/step - loss: 1.3007 - accuracy: 0.5906 - val_loss: 1.4689 - val_accuracy: 0.5453\n",
            "Epoch 48/50\n",
            "30/30 [==============================] - 0s 9ms/step - loss: 1.3371 - accuracy: 0.5768 - val_loss: 1.5491 - val_accuracy: 0.5328\n",
            "Epoch 49/50\n",
            "30/30 [==============================] - 0s 9ms/step - loss: 1.3500 - accuracy: 0.5706 - val_loss: 1.6173 - val_accuracy: 0.5000\n",
            "Epoch 50/50\n",
            "30/30 [==============================] - 0s 10ms/step - loss: 1.2769 - accuracy: 0.5924 - val_loss: 1.5361 - val_accuracy: 0.5203\n"
          ],
          "name": "stdout"
        }
      ]
    },
    {
      "cell_type": "code",
      "metadata": {
        "id": "e04L2D4rhDgj",
        "colab_type": "code",
        "outputId": "3b186561-5146-4557-f9ba-85413ca8c016",
        "colab": {
          "base_uri": "https://localhost:8080/",
          "height": 625
        }
      },
      "source": [
        "model_report(SIMPLE_MODEL, SIMPLE_MODEL_history, 30)"
      ],
      "execution_count": 0,
      "outputs": [
        {
          "output_type": "display_data",
          "data": {
            "image/png": "[encoded data removed]",
            "text/plain": [
              "<Figure size 576x576 with 2 Axes>"
            ]
          },
          "metadata": {
            "tags": []
          }
        },
        {
          "output_type": "stream",
          "text": [
            "\n",
            "Test set evaluation metrics\n",
            "30/30 [==============================] - 0s 5ms/step - loss: 1.4574 - accuracy: 0.5529\n",
            "loss: 1.46\n",
            "accuracy: 0.55\n"
          ],
          "name": "stdout"
        }
      ]
    },
    {
      "cell_type": "markdown",
      "metadata": {
        "id": "UZiDaWVthPta",
        "colab_type": "text"
      },
      "source": [
        "Άμεσα παρατηρείται μία βελτίωση στο accuracy στο test set, ενώ είναι εμφανές πως οι κίτρινες γραμμές (valuation set) πλησιάζουν περισσότερο τις μπλε (train set)."
      ]
    },
    {
      "cell_type": "markdown",
      "metadata": {
        "id": "LN_9-lgihjT-",
        "colab_type": "text"
      },
      "source": [
        "Λόγω της [ερώτησης](https://stats.stackexchange.com/questions/240305/where-should-i-place-dropout-layers-in-a-neural-network) και του [paper](https://www.cs.toronto.edu/~hinton/absps/JMLRdropout.pdf) τοποθετούμε τα dropout layers μπροστά από τις 3 τελευταίες ReLU με πιθανότητα 0.4 (40%) στις 2 τελευταίες."
      ]
    },
    {
      "cell_type": "code",
      "metadata": {
        "id": "wN7yjvD6aWy4",
        "colab_type": "code",
        "colab": {}
      },
      "source": [
        "# a simple CNN https://www.tensorflow.org/tutorials/images/cnn\n",
        "\n",
        "def init_simple_model(summary):\n",
        "  model = models.Sequential()\n",
        "  model.add(layers.Conv2D(32, (3, 3), activation='relu', input_shape=(32, 32, 3)))\n",
        "  model.add(layers.MaxPooling2D((2, 2)))\n",
        "  model.add(layers.Conv2D(64, (3, 3), activation='relu'))\n",
        "  model.add(layers.Dropout(0.2))\n",
        "  model.add(layers.MaxPooling2D((2, 2)))\n",
        "  model.add(layers.Conv2D(64, (3, 3), activation='relu'))\n",
        "  model.add(layers.Dropout(0.4))\n",
        "  model.add(layers.Flatten())\n",
        "  model.add(layers.Dense(64, activation='relu'))\n",
        "  model.add(layers.Dropout(0.4))\n",
        "  model.add(layers.Dense(100, activation='softmax'))\n",
        "  model.compile(optimizer=tf.optimizers.Adam(), loss=tf.keras.losses.sparse_categorical_crossentropy, metrics=[\"accuracy\"])\n",
        "  if summary: \n",
        "    model.summary()\n",
        "  return model"
      ],
      "execution_count": 0,
      "outputs": []
    },
    {
      "cell_type": "code",
      "metadata": {
        "id": "08i_w_djiKyT",
        "colab_type": "code",
        "outputId": "c9b740b4-c009-4ab6-cf41-4a0151e86d43",
        "colab": {
          "base_uri": "https://localhost:8080/",
          "height": 1000
        }
      },
      "source": [
        "SIMPLE_MODEL = init_simple_model(summary = True)\n",
        "SIMPLE_MODEL_history = train_model(SIMPLE_MODEL, 50, 30, 5)"
      ],
      "execution_count": 0,
      "outputs": [
        {
          "output_type": "stream",
          "text": [
            "Model: \"sequential_43\"\n",
            "_________________________________________________________________\n",
            "Layer (type)                 Output Shape              Param #   \n",
            "=================================================================\n",
            "conv2d_125 (Conv2D)          (None, 30, 30, 32)        896       \n",
            "_________________________________________________________________\n",
            "max_pooling2d_84 (MaxPooling (None, 15, 15, 32)        0         \n",
            "_________________________________________________________________\n",
            "conv2d_126 (Conv2D)          (None, 13, 13, 64)        18496     \n",
            "_________________________________________________________________\n",
            "dropout_76 (Dropout)         (None, 13, 13, 64)        0         \n",
            "_________________________________________________________________\n",
            "max_pooling2d_85 (MaxPooling (None, 6, 6, 64)          0         \n",
            "_________________________________________________________________\n",
            "conv2d_127 (Conv2D)          (None, 4, 4, 64)          36928     \n",
            "_________________________________________________________________\n",
            "dropout_77 (Dropout)         (None, 4, 4, 64)          0         \n",
            "_________________________________________________________________\n",
            "flatten_41 (Flatten)         (None, 1024)              0         \n",
            "_________________________________________________________________\n",
            "dense_82 (Dense)             (None, 64)                65600     \n",
            "_________________________________________________________________\n",
            "dropout_78 (Dropout)         (None, 64)                0         \n",
            "_________________________________________________________________\n",
            "dense_83 (Dense)             (None, 100)               6500      \n",
            "=================================================================\n",
            "Total params: 128,420\n",
            "Trainable params: 128,420\n",
            "Non-trainable params: 0\n",
            "_________________________________________________________________\n",
            "Train for 30 steps, validate for 5 steps\n",
            "Epoch 1/50\n",
            "30/30 [==============================] - 1s 29ms/step - loss: 4.0190 - accuracy: 0.0414 - val_loss: 3.2625 - val_accuracy: 0.1250\n",
            "Epoch 2/50\n",
            "30/30 [==============================] - 0s 9ms/step - loss: 3.2360 - accuracy: 0.0875 - val_loss: 2.8601 - val_accuracy: 0.1766\n",
            "Epoch 3/50\n",
            "30/30 [==============================] - 0s 10ms/step - loss: 2.8994 - accuracy: 0.1398 - val_loss: 2.6621 - val_accuracy: 0.2391\n",
            "Epoch 4/50\n",
            "30/30 [==============================] - 0s 9ms/step - loss: 2.7692 - accuracy: 0.1656 - val_loss: 2.5581 - val_accuracy: 0.2422\n",
            "Epoch 5/50\n",
            "30/30 [==============================] - 0s 11ms/step - loss: 2.6363 - accuracy: 0.2016 - val_loss: 2.4303 - val_accuracy: 0.2844\n",
            "Epoch 6/50\n",
            "30/30 [==============================] - 0s 9ms/step - loss: 2.5768 - accuracy: 0.2188 - val_loss: 2.4094 - val_accuracy: 0.2656\n",
            "Epoch 7/50\n",
            "30/30 [==============================] - 0s 9ms/step - loss: 2.4751 - accuracy: 0.2362 - val_loss: 2.3105 - val_accuracy: 0.3266\n",
            "Epoch 8/50\n",
            "30/30 [==============================] - 0s 9ms/step - loss: 2.3565 - accuracy: 0.2688 - val_loss: 2.3181 - val_accuracy: 0.3141\n",
            "Epoch 9/50\n",
            "30/30 [==============================] - 0s 10ms/step - loss: 2.3517 - accuracy: 0.2625 - val_loss: 2.2145 - val_accuracy: 0.3344\n",
            "Epoch 10/50\n",
            "30/30 [==============================] - 0s 9ms/step - loss: 2.2408 - accuracy: 0.3117 - val_loss: 2.1223 - val_accuracy: 0.3656\n",
            "Epoch 11/50\n",
            "30/30 [==============================] - 0s 9ms/step - loss: 2.1751 - accuracy: 0.3104 - val_loss: 2.0609 - val_accuracy: 0.3828\n",
            "Epoch 12/50\n",
            "30/30 [==============================] - 0s 9ms/step - loss: 2.1629 - accuracy: 0.3174 - val_loss: 2.0664 - val_accuracy: 0.3766\n",
            "Epoch 13/50\n",
            "30/30 [==============================] - 0s 9ms/step - loss: 2.1226 - accuracy: 0.3359 - val_loss: 2.0426 - val_accuracy: 0.3844\n",
            "Epoch 14/50\n",
            "30/30 [==============================] - 0s 8ms/step - loss: 2.1010 - accuracy: 0.3490 - val_loss: 2.0248 - val_accuracy: 0.3859\n",
            "Epoch 15/50\n",
            "30/30 [==============================] - 0s 9ms/step - loss: 2.0498 - accuracy: 0.3568 - val_loss: 1.8919 - val_accuracy: 0.4281\n",
            "Epoch 16/50\n",
            "30/30 [==============================] - 0s 9ms/step - loss: 2.0545 - accuracy: 0.3560 - val_loss: 1.9893 - val_accuracy: 0.3875\n",
            "Epoch 17/50\n",
            "30/30 [==============================] - 0s 10ms/step - loss: 1.9744 - accuracy: 0.3805 - val_loss: 1.9751 - val_accuracy: 0.4109\n",
            "Epoch 18/50\n",
            "30/30 [==============================] - 0s 9ms/step - loss: 2.0169 - accuracy: 0.3745 - val_loss: 1.9957 - val_accuracy: 0.4078\n",
            "Epoch 19/50\n",
            "30/30 [==============================] - 0s 10ms/step - loss: 1.9592 - accuracy: 0.3721 - val_loss: 1.8880 - val_accuracy: 0.4437\n",
            "Epoch 20/50\n",
            "30/30 [==============================] - 0s 9ms/step - loss: 1.9046 - accuracy: 0.4034 - val_loss: 1.8751 - val_accuracy: 0.4094\n",
            "Epoch 21/50\n",
            "30/30 [==============================] - 0s 9ms/step - loss: 1.9092 - accuracy: 0.3940 - val_loss: 1.9442 - val_accuracy: 0.3672\n",
            "Epoch 22/50\n",
            "30/30 [==============================] - 0s 9ms/step - loss: 1.9196 - accuracy: 0.3966 - val_loss: 1.8936 - val_accuracy: 0.4359\n",
            "Epoch 23/50\n",
            "30/30 [==============================] - 0s 11ms/step - loss: 1.8496 - accuracy: 0.4182 - val_loss: 1.8610 - val_accuracy: 0.4500\n",
            "Epoch 24/50\n",
            "30/30 [==============================] - 0s 11ms/step - loss: 1.8699 - accuracy: 0.4073 - val_loss: 1.8183 - val_accuracy: 0.4688\n",
            "Epoch 25/50\n",
            "30/30 [==============================] - 0s 9ms/step - loss: 1.8510 - accuracy: 0.4138 - val_loss: 1.7184 - val_accuracy: 0.4750\n",
            "Epoch 26/50\n",
            "30/30 [==============================] - 0s 9ms/step - loss: 1.8125 - accuracy: 0.4203 - val_loss: 1.7567 - val_accuracy: 0.4719\n",
            "Epoch 27/50\n",
            "30/30 [==============================] - 0s 9ms/step - loss: 1.8054 - accuracy: 0.4273 - val_loss: 1.8223 - val_accuracy: 0.4500\n",
            "Epoch 28/50\n",
            "30/30 [==============================] - 0s 9ms/step - loss: 1.7844 - accuracy: 0.4417 - val_loss: 1.8043 - val_accuracy: 0.4500\n",
            "Epoch 29/50\n",
            "30/30 [==============================] - 0s 9ms/step - loss: 1.7892 - accuracy: 0.4378 - val_loss: 1.7534 - val_accuracy: 0.4672\n",
            "Epoch 30/50\n",
            "30/30 [==============================] - 0s 10ms/step - loss: 1.7578 - accuracy: 0.4437 - val_loss: 1.7229 - val_accuracy: 0.4547\n",
            "Epoch 31/50\n",
            "30/30 [==============================] - 0s 9ms/step - loss: 1.7773 - accuracy: 0.4391 - val_loss: 1.7188 - val_accuracy: 0.4781\n",
            "Epoch 32/50\n",
            "30/30 [==============================] - 0s 9ms/step - loss: 1.7291 - accuracy: 0.4557 - val_loss: 1.7211 - val_accuracy: 0.4547\n",
            "Epoch 33/50\n",
            "30/30 [==============================] - 0s 9ms/step - loss: 1.7477 - accuracy: 0.4479 - val_loss: 1.7226 - val_accuracy: 0.4625\n",
            "Epoch 34/50\n",
            "30/30 [==============================] - 0s 9ms/step - loss: 1.7224 - accuracy: 0.4581 - val_loss: 1.6758 - val_accuracy: 0.4766\n",
            "Epoch 35/50\n",
            "30/30 [==============================] - 0s 10ms/step - loss: 1.6928 - accuracy: 0.4581 - val_loss: 1.6522 - val_accuracy: 0.5047\n",
            "Epoch 36/50\n",
            "30/30 [==============================] - 0s 9ms/step - loss: 1.6649 - accuracy: 0.4654 - val_loss: 1.7668 - val_accuracy: 0.4938\n",
            "Epoch 37/50\n",
            "30/30 [==============================] - 0s 9ms/step - loss: 1.6661 - accuracy: 0.4758 - val_loss: 1.6842 - val_accuracy: 0.4734\n",
            "Epoch 38/50\n",
            "30/30 [==============================] - 0s 9ms/step - loss: 1.6820 - accuracy: 0.4648 - val_loss: 1.7446 - val_accuracy: 0.4563\n",
            "Epoch 39/50\n",
            "30/30 [==============================] - 0s 10ms/step - loss: 1.6328 - accuracy: 0.4750 - val_loss: 1.6798 - val_accuracy: 0.4766\n",
            "Epoch 40/50\n",
            "30/30 [==============================] - 0s 9ms/step - loss: 1.6384 - accuracy: 0.4750 - val_loss: 1.6753 - val_accuracy: 0.4922\n",
            "Epoch 41/50\n",
            "30/30 [==============================] - 0s 10ms/step - loss: 1.6511 - accuracy: 0.4706 - val_loss: 1.6419 - val_accuracy: 0.4906\n",
            "Epoch 42/50\n",
            "30/30 [==============================] - 0s 9ms/step - loss: 1.6247 - accuracy: 0.4805 - val_loss: 1.5929 - val_accuracy: 0.4984\n",
            "Epoch 43/50\n",
            "30/30 [==============================] - 0s 9ms/step - loss: 1.6152 - accuracy: 0.4826 - val_loss: 1.6361 - val_accuracy: 0.4812\n",
            "Epoch 44/50\n",
            "30/30 [==============================] - 0s 9ms/step - loss: 1.5929 - accuracy: 0.4878 - val_loss: 1.6903 - val_accuracy: 0.4672\n",
            "Epoch 45/50\n",
            "30/30 [==============================] - 0s 9ms/step - loss: 1.6060 - accuracy: 0.4818 - val_loss: 1.6229 - val_accuracy: 0.5219\n",
            "Epoch 46/50\n",
            "30/30 [==============================] - 0s 10ms/step - loss: 1.5852 - accuracy: 0.4870 - val_loss: 1.6469 - val_accuracy: 0.4766\n",
            "Epoch 47/50\n",
            "30/30 [==============================] - 0s 9ms/step - loss: 1.5632 - accuracy: 0.5078 - val_loss: 1.6137 - val_accuracy: 0.5094\n",
            "Epoch 48/50\n",
            "30/30 [==============================] - 0s 9ms/step - loss: 1.5494 - accuracy: 0.5096 - val_loss: 1.5840 - val_accuracy: 0.5078\n",
            "Epoch 49/50\n",
            "30/30 [==============================] - 0s 9ms/step - loss: 1.5418 - accuracy: 0.5034 - val_loss: 1.5115 - val_accuracy: 0.5469\n",
            "Epoch 50/50\n",
            "30/30 [==============================] - 0s 10ms/step - loss: 1.5532 - accuracy: 0.5065 - val_loss: 1.6349 - val_accuracy: 0.4953\n"
          ],
          "name": "stdout"
        }
      ]
    },
    {
      "cell_type": "code",
      "metadata": {
        "id": "4qWhY_ybiOnF",
        "colab_type": "code",
        "outputId": "c6e787b2-a818-4155-c3e7-be0f32d5403b",
        "colab": {
          "base_uri": "https://localhost:8080/",
          "height": 625
        }
      },
      "source": [
        "model_report(SIMPLE_MODEL, SIMPLE_MODEL_history, 30)"
      ],
      "execution_count": 0,
      "outputs": [
        {
          "output_type": "display_data",
          "data": {
            "image/png": "[encoded data removed]",
            "text/plain": [
              "<Figure size 576x576 with 2 Axes>"
            ]
          },
          "metadata": {
            "tags": []
          }
        },
        {
          "output_type": "stream",
          "text": [
            "\n",
            "Test set evaluation metrics\n",
            "30/30 [==============================] - 0s 6ms/step - loss: 1.5407 - accuracy: 0.5292\n",
            "loss: 1.54\n",
            "accuracy: 0.53\n"
          ],
          "name": "stdout"
        }
      ]
    },
    {
      "cell_type": "markdown",
      "metadata": {
        "id": "7DjXcyTYiUEA",
        "colab_type": "text"
      },
      "source": [
        "Ενώ δεν παρατηρείται η ίδια βελτίωση φαίνεται πως η κίτρινες γραμμές ακολουθούν τις μπλε. Άρα η εκπαίδευση συνεχίζεται. Μετά από πειράματα καταλήξαμε να αυξήσουμε τις εποχές στις 100 και παίρνουμε τα παρακάτω."
      ]
    },
    {
      "cell_type": "code",
      "metadata": {
        "id": "tj7qod8HbHRZ",
        "colab_type": "code",
        "outputId": "d37e0ced-4ce0-4993-fa17-988ed46db233",
        "colab": {
          "base_uri": "https://localhost:8080/",
          "height": 1000
        }
      },
      "source": [
        "SIMPLE_MODEL = init_simple_model(summary = True)\n",
        "SIMPLE_MODEL_history = train_model(SIMPLE_MODEL, 100, 30, 5)"
      ],
      "execution_count": 0,
      "outputs": [
        {
          "output_type": "stream",
          "text": [
            "Model: \"sequential_36\"\n",
            "_________________________________________________________________\n",
            "Layer (type)                 Output Shape              Param #   \n",
            "=================================================================\n",
            "conv2d_104 (Conv2D)          (None, 30, 30, 32)        896       \n",
            "_________________________________________________________________\n",
            "max_pooling2d_70 (MaxPooling (None, 15, 15, 32)        0         \n",
            "_________________________________________________________________\n",
            "conv2d_105 (Conv2D)          (None, 13, 13, 64)        18496     \n",
            "_________________________________________________________________\n",
            "dropout_59 (Dropout)         (None, 13, 13, 64)        0         \n",
            "_________________________________________________________________\n",
            "max_pooling2d_71 (MaxPooling (None, 6, 6, 64)          0         \n",
            "_________________________________________________________________\n",
            "conv2d_106 (Conv2D)          (None, 4, 4, 64)          36928     \n",
            "_________________________________________________________________\n",
            "dropout_60 (Dropout)         (None, 4, 4, 64)          0         \n",
            "_________________________________________________________________\n",
            "flatten_34 (Flatten)         (None, 1024)              0         \n",
            "_________________________________________________________________\n",
            "dense_68 (Dense)             (None, 64)                65600     \n",
            "_________________________________________________________________\n",
            "dropout_61 (Dropout)         (None, 64)                0         \n",
            "_________________________________________________________________\n",
            "dense_69 (Dense)             (None, 100)               6500      \n",
            "=================================================================\n",
            "Total params: 128,420\n",
            "Trainable params: 128,420\n",
            "Non-trainable params: 0\n",
            "_________________________________________________________________\n",
            "Train for 30 steps, validate for 5 steps\n",
            "Epoch 1/100\n",
            "30/30 [==============================] - 1s 31ms/step - loss: 3.9275 - accuracy: 0.0615 - val_loss: 3.1438 - val_accuracy: 0.1203\n",
            "Epoch 2/100\n",
            "30/30 [==============================] - 0s 10ms/step - loss: 3.1737 - accuracy: 0.1096 - val_loss: 2.8191 - val_accuracy: 0.1734\n",
            "Epoch 3/100\n",
            "30/30 [==============================] - 0s 11ms/step - loss: 2.8762 - accuracy: 0.1495 - val_loss: 2.5898 - val_accuracy: 0.2422\n",
            "Epoch 4/100\n",
            "30/30 [==============================] - 0s 10ms/step - loss: 2.7122 - accuracy: 0.1813 - val_loss: 2.5430 - val_accuracy: 0.2484\n",
            "Epoch 5/100\n",
            "30/30 [==============================] - 0s 11ms/step - loss: 2.5443 - accuracy: 0.2279 - val_loss: 2.3965 - val_accuracy: 0.2672\n",
            "Epoch 6/100\n",
            "30/30 [==============================] - 0s 9ms/step - loss: 2.5166 - accuracy: 0.2245 - val_loss: 2.3174 - val_accuracy: 0.3281\n",
            "Epoch 7/100\n",
            "30/30 [==============================] - 0s 10ms/step - loss: 2.4318 - accuracy: 0.2617 - val_loss: 2.2969 - val_accuracy: 0.3344\n",
            "Epoch 8/100\n",
            "30/30 [==============================] - 0s 9ms/step - loss: 2.2922 - accuracy: 0.2815 - val_loss: 2.1682 - val_accuracy: 0.3562\n",
            "Epoch 9/100\n",
            "30/30 [==============================] - 0s 10ms/step - loss: 2.2655 - accuracy: 0.3013 - val_loss: 2.1151 - val_accuracy: 0.3797\n",
            "Epoch 10/100\n",
            "30/30 [==============================] - 0s 9ms/step - loss: 2.2074 - accuracy: 0.3091 - val_loss: 2.0920 - val_accuracy: 0.3922\n",
            "Epoch 11/100\n",
            "30/30 [==============================] - 0s 10ms/step - loss: 2.1897 - accuracy: 0.3044 - val_loss: 2.0479 - val_accuracy: 0.3828\n",
            "Epoch 12/100\n",
            "30/30 [==============================] - 0s 9ms/step - loss: 2.1024 - accuracy: 0.3451 - val_loss: 1.9312 - val_accuracy: 0.4297\n",
            "Epoch 13/100\n",
            "30/30 [==============================] - 0s 11ms/step - loss: 2.0479 - accuracy: 0.3583 - val_loss: 1.9689 - val_accuracy: 0.4250\n",
            "Epoch 14/100\n",
            "30/30 [==============================] - 0s 9ms/step - loss: 2.0128 - accuracy: 0.3732 - val_loss: 1.9614 - val_accuracy: 0.4203\n",
            "Epoch 15/100\n",
            "30/30 [==============================] - 0s 10ms/step - loss: 1.9974 - accuracy: 0.3688 - val_loss: 1.8778 - val_accuracy: 0.4641\n",
            "Epoch 16/100\n",
            "30/30 [==============================] - 0s 9ms/step - loss: 1.9623 - accuracy: 0.3802 - val_loss: 1.9395 - val_accuracy: 0.3766\n",
            "Epoch 17/100\n",
            "30/30 [==============================] - 0s 9ms/step - loss: 1.9557 - accuracy: 0.3750 - val_loss: 1.9137 - val_accuracy: 0.4297\n",
            "Epoch 18/100\n",
            "30/30 [==============================] - 0s 11ms/step - loss: 1.9364 - accuracy: 0.3885 - val_loss: 1.8216 - val_accuracy: 0.4500\n",
            "Epoch 19/100\n",
            "30/30 [==============================] - 0s 9ms/step - loss: 1.9130 - accuracy: 0.4013 - val_loss: 1.8186 - val_accuracy: 0.4391\n",
            "Epoch 20/100\n",
            "30/30 [==============================] - 0s 11ms/step - loss: 1.8353 - accuracy: 0.4219 - val_loss: 1.7914 - val_accuracy: 0.4516\n",
            "Epoch 21/100\n",
            "30/30 [==============================] - 0s 9ms/step - loss: 1.8454 - accuracy: 0.4102 - val_loss: 1.8110 - val_accuracy: 0.4578\n",
            "Epoch 22/100\n",
            "30/30 [==============================] - 0s 9ms/step - loss: 1.8407 - accuracy: 0.4151 - val_loss: 1.8259 - val_accuracy: 0.4344\n",
            "Epoch 23/100\n",
            "30/30 [==============================] - 0s 9ms/step - loss: 1.8416 - accuracy: 0.4174 - val_loss: 1.6703 - val_accuracy: 0.4750\n",
            "Epoch 24/100\n",
            "30/30 [==============================] - 0s 10ms/step - loss: 1.7518 - accuracy: 0.4495 - val_loss: 1.7316 - val_accuracy: 0.4656\n",
            "Epoch 25/100\n",
            "30/30 [==============================] - 0s 9ms/step - loss: 1.7495 - accuracy: 0.4466 - val_loss: 1.7390 - val_accuracy: 0.4734\n",
            "Epoch 26/100\n",
            "30/30 [==============================] - 0s 10ms/step - loss: 1.7555 - accuracy: 0.4451 - val_loss: 1.7241 - val_accuracy: 0.4703\n",
            "Epoch 27/100\n",
            "30/30 [==============================] - 0s 9ms/step - loss: 1.7554 - accuracy: 0.4435 - val_loss: 1.5931 - val_accuracy: 0.5203\n",
            "Epoch 28/100\n",
            "30/30 [==============================] - 0s 9ms/step - loss: 1.7101 - accuracy: 0.4591 - val_loss: 1.7349 - val_accuracy: 0.4891\n",
            "Epoch 29/100\n",
            "30/30 [==============================] - 0s 9ms/step - loss: 1.7504 - accuracy: 0.4500 - val_loss: 1.7510 - val_accuracy: 0.4688\n",
            "Epoch 30/100\n",
            "30/30 [==============================] - 0s 10ms/step - loss: 1.6810 - accuracy: 0.4688 - val_loss: 1.6715 - val_accuracy: 0.4969\n",
            "Epoch 31/100\n",
            "30/30 [==============================] - 0s 10ms/step - loss: 1.6897 - accuracy: 0.4703 - val_loss: 1.6653 - val_accuracy: 0.4859\n",
            "Epoch 32/100\n",
            "30/30 [==============================] - 0s 9ms/step - loss: 1.6862 - accuracy: 0.4690 - val_loss: 1.6113 - val_accuracy: 0.5047\n",
            "Epoch 33/100\n",
            "30/30 [==============================] - 0s 9ms/step - loss: 1.6529 - accuracy: 0.4729 - val_loss: 1.6445 - val_accuracy: 0.4969\n",
            "Epoch 34/100\n",
            "30/30 [==============================] - 0s 9ms/step - loss: 1.6617 - accuracy: 0.4701 - val_loss: 1.6528 - val_accuracy: 0.4969\n",
            "Epoch 35/100\n",
            "30/30 [==============================] - 0s 10ms/step - loss: 1.6290 - accuracy: 0.4747 - val_loss: 1.6257 - val_accuracy: 0.4922\n",
            "Epoch 36/100\n",
            "30/30 [==============================] - 0s 9ms/step - loss: 1.6036 - accuracy: 0.4766 - val_loss: 1.5433 - val_accuracy: 0.5312\n",
            "Epoch 37/100\n",
            "30/30 [==============================] - 0s 10ms/step - loss: 1.6054 - accuracy: 0.4846 - val_loss: 1.5718 - val_accuracy: 0.5156\n",
            "Epoch 38/100\n",
            "30/30 [==============================] - 0s 11ms/step - loss: 1.6059 - accuracy: 0.4857 - val_loss: 1.5500 - val_accuracy: 0.5203\n",
            "Epoch 39/100\n",
            "30/30 [==============================] - 0s 11ms/step - loss: 1.5888 - accuracy: 0.4940 - val_loss: 1.6545 - val_accuracy: 0.4906\n",
            "Epoch 40/100\n",
            "30/30 [==============================] - 0s 10ms/step - loss: 1.6309 - accuracy: 0.4878 - val_loss: 1.5197 - val_accuracy: 0.5203\n",
            "Epoch 41/100\n",
            "30/30 [==============================] - 0s 11ms/step - loss: 1.5421 - accuracy: 0.5128 - val_loss: 1.4792 - val_accuracy: 0.5297\n",
            "Epoch 42/100\n",
            "30/30 [==============================] - 0s 9ms/step - loss: 1.5545 - accuracy: 0.5096 - val_loss: 1.5858 - val_accuracy: 0.5203\n",
            "Epoch 43/100\n",
            "30/30 [==============================] - 0s 9ms/step - loss: 1.5143 - accuracy: 0.5188 - val_loss: 1.5402 - val_accuracy: 0.5297\n",
            "Epoch 44/100\n",
            "30/30 [==============================] - 0s 10ms/step - loss: 1.5335 - accuracy: 0.5039 - val_loss: 1.5678 - val_accuracy: 0.5297\n",
            "Epoch 45/100\n",
            "30/30 [==============================] - 0s 10ms/step - loss: 1.4903 - accuracy: 0.5195 - val_loss: 1.5650 - val_accuracy: 0.5188\n",
            "Epoch 46/100\n",
            "30/30 [==============================] - 0s 9ms/step - loss: 1.5343 - accuracy: 0.5164 - val_loss: 1.5645 - val_accuracy: 0.5234\n",
            "Epoch 47/100\n",
            "30/30 [==============================] - 0s 9ms/step - loss: 1.5110 - accuracy: 0.5161 - val_loss: 1.5251 - val_accuracy: 0.5109\n",
            "Epoch 48/100\n",
            "30/30 [==============================] - 0s 10ms/step - loss: 1.4984 - accuracy: 0.5307 - val_loss: 1.4718 - val_accuracy: 0.5484\n",
            "Epoch 49/100\n",
            "30/30 [==============================] - 0s 9ms/step - loss: 1.4608 - accuracy: 0.5268 - val_loss: 1.5111 - val_accuracy: 0.5359\n",
            "Epoch 50/100\n",
            "30/30 [==============================] - 0s 10ms/step - loss: 1.4718 - accuracy: 0.5357 - val_loss: 1.5281 - val_accuracy: 0.5609\n",
            "Epoch 51/100\n",
            "30/30 [==============================] - 0s 9ms/step - loss: 1.4682 - accuracy: 0.5250 - val_loss: 1.5608 - val_accuracy: 0.5094\n",
            "Epoch 52/100\n",
            "30/30 [==============================] - 0s 10ms/step - loss: 1.4526 - accuracy: 0.5349 - val_loss: 1.4556 - val_accuracy: 0.5750\n",
            "Epoch 53/100\n",
            "30/30 [==============================] - 0s 9ms/step - loss: 1.4812 - accuracy: 0.5195 - val_loss: 1.4908 - val_accuracy: 0.5406\n",
            "Epoch 54/100\n",
            "30/30 [==============================] - 0s 9ms/step - loss: 1.4357 - accuracy: 0.5299 - val_loss: 1.5063 - val_accuracy: 0.5453\n",
            "Epoch 55/100\n",
            "30/30 [==============================] - 0s 10ms/step - loss: 1.4341 - accuracy: 0.5359 - val_loss: 1.4505 - val_accuracy: 0.5453\n",
            "Epoch 56/100\n",
            "30/30 [==============================] - 0s 9ms/step - loss: 1.4380 - accuracy: 0.5344 - val_loss: 1.4324 - val_accuracy: 0.5641\n",
            "Epoch 57/100\n",
            "30/30 [==============================] - 0s 10ms/step - loss: 1.4221 - accuracy: 0.5422 - val_loss: 1.4935 - val_accuracy: 0.5672\n",
            "Epoch 58/100\n",
            "30/30 [==============================] - 0s 9ms/step - loss: 1.3665 - accuracy: 0.5490 - val_loss: 1.4587 - val_accuracy: 0.5375\n",
            "Epoch 59/100\n",
            "30/30 [==============================] - 0s 10ms/step - loss: 1.3948 - accuracy: 0.5516 - val_loss: 1.5236 - val_accuracy: 0.5437\n",
            "Epoch 60/100\n",
            "30/30 [==============================] - 0s 9ms/step - loss: 1.4205 - accuracy: 0.5375 - val_loss: 1.5085 - val_accuracy: 0.5688\n",
            "Epoch 61/100\n",
            "30/30 [==============================] - 0s 10ms/step - loss: 1.3741 - accuracy: 0.5500 - val_loss: 1.3912 - val_accuracy: 0.5672\n",
            "Epoch 62/100\n",
            "30/30 [==============================] - 0s 9ms/step - loss: 1.3855 - accuracy: 0.5560 - val_loss: 1.4578 - val_accuracy: 0.5484\n",
            "Epoch 63/100\n",
            "30/30 [==============================] - 0s 10ms/step - loss: 1.3719 - accuracy: 0.5591 - val_loss: 1.4103 - val_accuracy: 0.5641\n",
            "Epoch 64/100\n",
            "30/30 [==============================] - 0s 11ms/step - loss: 1.3223 - accuracy: 0.5714 - val_loss: 1.5387 - val_accuracy: 0.5031\n",
            "Epoch 65/100\n",
            "30/30 [==============================] - 0s 10ms/step - loss: 1.3465 - accuracy: 0.5672 - val_loss: 1.4106 - val_accuracy: 0.5750\n",
            "Epoch 66/100\n",
            "30/30 [==============================] - 0s 10ms/step - loss: 1.3500 - accuracy: 0.5656 - val_loss: 1.4776 - val_accuracy: 0.5500\n",
            "Epoch 67/100\n",
            "30/30 [==============================] - 0s 9ms/step - loss: 1.3277 - accuracy: 0.5661 - val_loss: 1.4803 - val_accuracy: 0.5281\n",
            "Epoch 68/100\n",
            "30/30 [==============================] - 0s 10ms/step - loss: 1.3130 - accuracy: 0.5802 - val_loss: 1.4215 - val_accuracy: 0.5500\n",
            "Epoch 69/100\n",
            "30/30 [==============================] - 0s 10ms/step - loss: 1.3367 - accuracy: 0.5578 - val_loss: 1.5125 - val_accuracy: 0.5328\n",
            "Epoch 70/100\n",
            "30/30 [==============================] - 0s 10ms/step - loss: 1.3094 - accuracy: 0.5773 - val_loss: 1.4149 - val_accuracy: 0.5641\n",
            "Epoch 71/100\n",
            "30/30 [==============================] - 0s 9ms/step - loss: 1.2868 - accuracy: 0.5766 - val_loss: 1.4086 - val_accuracy: 0.5688\n",
            "Epoch 72/100\n",
            "30/30 [==============================] - 0s 10ms/step - loss: 1.3004 - accuracy: 0.5724 - val_loss: 1.4527 - val_accuracy: 0.5703\n",
            "Epoch 73/100\n",
            "30/30 [==============================] - 0s 9ms/step - loss: 1.2844 - accuracy: 0.5893 - val_loss: 1.4490 - val_accuracy: 0.5344\n",
            "Epoch 74/100\n",
            "30/30 [==============================] - 0s 9ms/step - loss: 1.2882 - accuracy: 0.5750 - val_loss: 1.4348 - val_accuracy: 0.5781\n",
            "Epoch 75/100\n",
            "30/30 [==============================] - 0s 9ms/step - loss: 1.3038 - accuracy: 0.5792 - val_loss: 1.4782 - val_accuracy: 0.5453\n",
            "Epoch 76/100\n",
            "30/30 [==============================] - 0s 9ms/step - loss: 1.2435 - accuracy: 0.5964 - val_loss: 1.2885 - val_accuracy: 0.5953\n",
            "Epoch 77/100\n",
            "30/30 [==============================] - 0s 10ms/step - loss: 1.2888 - accuracy: 0.5883 - val_loss: 1.4692 - val_accuracy: 0.5516\n",
            "Epoch 78/100\n",
            "30/30 [==============================] - 0s 9ms/step - loss: 1.2512 - accuracy: 0.6005 - val_loss: 1.4196 - val_accuracy: 0.5750\n",
            "Epoch 79/100\n",
            "30/30 [==============================] - 0s 10ms/step - loss: 1.2697 - accuracy: 0.5849 - val_loss: 1.4101 - val_accuracy: 0.5391\n",
            "Epoch 80/100\n",
            "30/30 [==============================] - 0s 9ms/step - loss: 1.2502 - accuracy: 0.5859 - val_loss: 1.4078 - val_accuracy: 0.5859\n",
            "Epoch 81/100\n",
            "30/30 [==============================] - 0s 10ms/step - loss: 1.2494 - accuracy: 0.5896 - val_loss: 1.3478 - val_accuracy: 0.6000\n",
            "Epoch 82/100\n",
            "30/30 [==============================] - 0s 9ms/step - loss: 1.2277 - accuracy: 0.6091 - val_loss: 1.4305 - val_accuracy: 0.5531\n",
            "Epoch 83/100\n",
            "30/30 [==============================] - 0s 10ms/step - loss: 1.2273 - accuracy: 0.5875 - val_loss: 1.4007 - val_accuracy: 0.5766\n",
            "Epoch 84/100\n",
            "30/30 [==============================] - 0s 10ms/step - loss: 1.2138 - accuracy: 0.6042 - val_loss: 1.4054 - val_accuracy: 0.6047\n",
            "Epoch 85/100\n",
            "30/30 [==============================] - 0s 9ms/step - loss: 1.1937 - accuracy: 0.6122 - val_loss: 1.4066 - val_accuracy: 0.5813\n",
            "Epoch 86/100\n",
            "30/30 [==============================] - 0s 10ms/step - loss: 1.1983 - accuracy: 0.6003 - val_loss: 1.4161 - val_accuracy: 0.5516\n",
            "Epoch 87/100\n",
            "30/30 [==============================] - 0s 9ms/step - loss: 1.2003 - accuracy: 0.6042 - val_loss: 1.3832 - val_accuracy: 0.6000\n",
            "Epoch 88/100\n",
            "30/30 [==============================] - 0s 9ms/step - loss: 1.2170 - accuracy: 0.6013 - val_loss: 1.4247 - val_accuracy: 0.5672\n",
            "Epoch 89/100\n",
            "30/30 [==============================] - 0s 9ms/step - loss: 1.1781 - accuracy: 0.6073 - val_loss: 1.3844 - val_accuracy: 0.5734\n",
            "Epoch 90/100\n",
            "30/30 [==============================] - 0s 10ms/step - loss: 1.2266 - accuracy: 0.5917 - val_loss: 1.4676 - val_accuracy: 0.5344\n",
            "Epoch 91/100\n",
            "30/30 [==============================] - 0s 10ms/step - loss: 1.1893 - accuracy: 0.6138 - val_loss: 1.3486 - val_accuracy: 0.5906\n",
            "Epoch 92/100\n",
            "30/30 [==============================] - 0s 10ms/step - loss: 1.1673 - accuracy: 0.6130 - val_loss: 1.3596 - val_accuracy: 0.5844\n",
            "Epoch 93/100\n",
            "30/30 [==============================] - 0s 9ms/step - loss: 1.2213 - accuracy: 0.5930 - val_loss: 1.3763 - val_accuracy: 0.5719\n",
            "Epoch 94/100\n",
            "30/30 [==============================] - 0s 9ms/step - loss: 1.1380 - accuracy: 0.6161 - val_loss: 1.3342 - val_accuracy: 0.5734\n",
            "Epoch 95/100\n",
            "30/30 [==============================] - 0s 10ms/step - loss: 1.1937 - accuracy: 0.6018 - val_loss: 1.3840 - val_accuracy: 0.5703\n",
            "Epoch 96/100\n",
            "30/30 [==============================] - 0s 9ms/step - loss: 1.1574 - accuracy: 0.6154 - val_loss: 1.3583 - val_accuracy: 0.5641\n",
            "Epoch 97/100\n",
            "30/30 [==============================] - 0s 10ms/step - loss: 1.1408 - accuracy: 0.6107 - val_loss: 1.3995 - val_accuracy: 0.5609\n",
            "Epoch 98/100\n",
            "30/30 [==============================] - 0s 10ms/step - loss: 1.1486 - accuracy: 0.6201 - val_loss: 1.3763 - val_accuracy: 0.5984\n",
            "Epoch 99/100\n",
            "30/30 [==============================] - 0s 10ms/step - loss: 1.1439 - accuracy: 0.6323 - val_loss: 1.3200 - val_accuracy: 0.5750\n",
            "Epoch 100/100\n",
            "30/30 [==============================] - 0s 10ms/step - loss: 1.1622 - accuracy: 0.6229 - val_loss: 1.3847 - val_accuracy: 0.5813\n"
          ],
          "name": "stdout"
        }
      ]
    },
    {
      "cell_type": "code",
      "metadata": {
        "id": "v3PFaq7pb796",
        "colab_type": "code",
        "outputId": "983839e7-5131-47b0-a3a8-7dc5dde50e2a",
        "colab": {
          "base_uri": "https://localhost:8080/",
          "height": 625
        }
      },
      "source": [
        "model_report(SIMPLE_MODEL, SIMPLE_MODEL_history, 30)"
      ],
      "execution_count": 0,
      "outputs": [
        {
          "output_type": "display_data",
          "data": {
            "image/png": "[encoded data removed]",
            "text/plain": [
              "<Figure size 576x576 with 2 Axes>"
            ]
          },
          "metadata": {
            "tags": []
          }
        },
        {
          "output_type": "stream",
          "text": [
            "\n",
            "Test set evaluation metrics\n",
            "30/30 [==============================] - 0s 6ms/step - loss: 1.2921 - accuracy: 0.5990\n",
            "loss: 1.29\n",
            "accuracy: 0.60\n"
          ],
          "name": "stdout"
        }
      ]
    },
    {
      "cell_type": "markdown",
      "metadata": {
        "id": "ZahRAotxirjn",
        "colab_type": "text"
      },
      "source": [
        "Επιτυγχάνουμε accuracy σχεδόν 60%, δηλαδή βελτίωση 10.8%, ενώ το overffiting φαίνεται να έχει μόλις ξεκινήσει."
      ]
    },
    {
      "cell_type": "markdown",
      "metadata": {
        "id": "goy-hmCn_ATJ",
        "colab_type": "text"
      },
      "source": [
        "#### Data Augmentation"
      ]
    },
    {
      "cell_type": "markdown",
      "metadata": {
        "id": "HHQfepE0_EEV",
        "colab_type": "text"
      },
      "source": [
        "Εφαρμόζουμε Data Augmentation για την επαύξηση του συνόλου των δεδομένων μας."
      ]
    },
    {
      "cell_type": "code",
      "metadata": {
        "id": "sU8Oesnh_6Df",
        "colab_type": "code",
        "colab": {}
      },
      "source": [
        "from tensorflow.keras.preprocessing.image import ImageDataGenerator\n",
        "\n",
        "train_datagen = ImageDataGenerator(\n",
        "    rotation_range=20, # Degree range for random rotations\n",
        "    horizontal_flip=True) # Randomly flip inputs horizontally"
      ],
      "execution_count": 0,
      "outputs": []
    },
    {
      "cell_type": "code",
      "metadata": {
        "id": "6H7MdONwze-C",
        "colab_type": "code",
        "colab": {}
      },
      "source": [
        "BATCH_SIZE = 128\n",
        "\n",
        "def train_model(model, epochs = 10, steps_per_epoch = 2, validation_steps = 1):\n",
        "  history = model.fit_generator(train_datagen.flow(x_train, y_train, batch_size=BATCH_SIZE), \n",
        "                                validation_data=validation_ds, \n",
        "                                steps_per_epoch=steps_per_epoch, \n",
        "                                epochs=epochs, \n",
        "                                validation_steps=validation_steps)\n",
        "  return(history)"
      ],
      "execution_count": 0,
      "outputs": []
    },
    {
      "cell_type": "code",
      "metadata": {
        "id": "HMG26k2YC5bG",
        "colab_type": "code",
        "outputId": "8a4fbcb0-1ad6-4cc1-efb8-5b45ec7af7e3",
        "colab": {
          "base_uri": "https://localhost:8080/",
          "height": 1000
        }
      },
      "source": [
        "SIMPLE_MODEL = init_simple_model(summary = True)\n",
        "\n",
        "# fits the model on batches with real-time data augmentation:\n",
        "SIMPLE_MODEL_history = train_model(SIMPLE_MODEL, 50, len(x_train)/BATCH_SIZE, len(x_val)/BATCH_SIZE)"
      ],
      "execution_count": 0,
      "outputs": [
        {
          "output_type": "stream",
          "text": [
            "Model: \"sequential_9\"\n",
            "_________________________________________________________________\n",
            "Layer (type)                 Output Shape              Param #   \n",
            "=================================================================\n",
            "conv2d_27 (Conv2D)           (None, 30, 30, 32)        896       \n",
            "_________________________________________________________________\n",
            "max_pooling2d_18 (MaxPooling (None, 15, 15, 32)        0         \n",
            "_________________________________________________________________\n",
            "conv2d_28 (Conv2D)           (None, 13, 13, 64)        18496     \n",
            "_________________________________________________________________\n",
            "max_pooling2d_19 (MaxPooling (None, 6, 6, 64)          0         \n",
            "_________________________________________________________________\n",
            "conv2d_29 (Conv2D)           (None, 4, 4, 64)          36928     \n",
            "_________________________________________________________________\n",
            "flatten_9 (Flatten)          (None, 1024)              0         \n",
            "_________________________________________________________________\n",
            "dense_18 (Dense)             (None, 64)                65600     \n",
            "_________________________________________________________________\n",
            "dense_19 (Dense)             (None, 100)               6500      \n",
            "=================================================================\n",
            "Total params: 128,420\n",
            "Trainable params: 128,420\n",
            "Non-trainable params: 0\n",
            "_________________________________________________________________\n",
            "WARNING:tensorflow:From <ipython-input-49-7d8e0d5a4d61>:18: Model.fit_generator (from tensorflow.python.keras.engine.training) is deprecated and will be removed in a future version.\n",
            "Instructions for updating:\n",
            "Please use Model.fit, which supports generators.\n",
            "WARNING:tensorflow:sample_weight modes were coerced from\n",
            "  ...\n",
            "    to  \n",
            "  ['...']\n",
            "Train for 66.40625 steps, validate for 11.71875 steps\n",
            "Epoch 1/50\n",
            "67/66 [==============================] - 4s 54ms/step - loss: 3.2155 - accuracy: 0.0913 - val_loss: 2.8199 - val_accuracy: 0.1510\n",
            "Epoch 2/50\n",
            "67/66 [==============================] - 3s 48ms/step - loss: 2.6341 - accuracy: 0.1899 - val_loss: 2.5615 - val_accuracy: 0.2383\n",
            "Epoch 3/50\n",
            "67/66 [==============================] - 3s 49ms/step - loss: 2.3887 - accuracy: 0.2568 - val_loss: 2.4253 - val_accuracy: 0.2689\n",
            "Epoch 4/50\n",
            "67/66 [==============================] - 3s 48ms/step - loss: 2.2576 - accuracy: 0.2971 - val_loss: 2.3327 - val_accuracy: 0.2845\n",
            "Epoch 5/50\n",
            "67/66 [==============================] - 3s 48ms/step - loss: 2.1565 - accuracy: 0.3259 - val_loss: 2.1723 - val_accuracy: 0.3366\n",
            "Epoch 6/50\n",
            "67/66 [==============================] - 3s 47ms/step - loss: 2.0743 - accuracy: 0.3544 - val_loss: 2.1706 - val_accuracy: 0.3483\n",
            "Epoch 7/50\n",
            "67/66 [==============================] - 3s 46ms/step - loss: 2.0032 - accuracy: 0.3780 - val_loss: 2.1172 - val_accuracy: 0.3717\n",
            "Epoch 8/50\n",
            "67/66 [==============================] - 3s 47ms/step - loss: 1.9244 - accuracy: 0.4032 - val_loss: 2.0511 - val_accuracy: 0.4017\n",
            "Epoch 9/50\n",
            "67/66 [==============================] - 3s 47ms/step - loss: 1.8626 - accuracy: 0.4193 - val_loss: 1.9390 - val_accuracy: 0.4147\n",
            "Epoch 10/50\n",
            "67/66 [==============================] - 3s 47ms/step - loss: 1.7996 - accuracy: 0.4395 - val_loss: 1.9159 - val_accuracy: 0.4251\n",
            "Epoch 11/50\n",
            "67/66 [==============================] - 3s 47ms/step - loss: 1.7506 - accuracy: 0.4534 - val_loss: 1.8945 - val_accuracy: 0.4199\n",
            "Epoch 12/50\n",
            "67/66 [==============================] - 3s 47ms/step - loss: 1.7145 - accuracy: 0.4631 - val_loss: 1.8640 - val_accuracy: 0.4329\n",
            "Epoch 13/50\n",
            "67/66 [==============================] - 3s 47ms/step - loss: 1.6758 - accuracy: 0.4729 - val_loss: 1.8502 - val_accuracy: 0.4388\n",
            "Epoch 14/50\n",
            "67/66 [==============================] - 3s 47ms/step - loss: 1.6391 - accuracy: 0.4807 - val_loss: 1.7991 - val_accuracy: 0.4544\n",
            "Epoch 15/50\n",
            "67/66 [==============================] - 3s 47ms/step - loss: 1.6157 - accuracy: 0.4967 - val_loss: 1.7940 - val_accuracy: 0.4622\n",
            "Epoch 16/50\n",
            "67/66 [==============================] - 3s 49ms/step - loss: 1.5665 - accuracy: 0.5078 - val_loss: 1.7505 - val_accuracy: 0.4701\n",
            "Epoch 17/50\n",
            "67/66 [==============================] - 3s 49ms/step - loss: 1.5364 - accuracy: 0.5147 - val_loss: 1.7626 - val_accuracy: 0.4688\n",
            "Epoch 18/50\n",
            "67/66 [==============================] - 3s 49ms/step - loss: 1.4993 - accuracy: 0.5235 - val_loss: 1.7264 - val_accuracy: 0.4818\n",
            "Epoch 19/50\n",
            "67/66 [==============================] - 3s 47ms/step - loss: 1.4936 - accuracy: 0.5239 - val_loss: 1.6882 - val_accuracy: 0.5000\n",
            "Epoch 20/50\n",
            "67/66 [==============================] - 3s 47ms/step - loss: 1.4632 - accuracy: 0.5379 - val_loss: 1.7244 - val_accuracy: 0.4935\n",
            "Epoch 21/50\n",
            "67/66 [==============================] - 3s 47ms/step - loss: 1.4559 - accuracy: 0.5356 - val_loss: 1.6883 - val_accuracy: 0.5007\n",
            "Epoch 22/50\n",
            "67/66 [==============================] - 3s 47ms/step - loss: 1.4121 - accuracy: 0.5527 - val_loss: 1.6555 - val_accuracy: 0.5117\n",
            "Epoch 23/50\n",
            "67/66 [==============================] - 3s 48ms/step - loss: 1.4098 - accuracy: 0.5533 - val_loss: 1.6915 - val_accuracy: 0.5091\n",
            "Epoch 24/50\n",
            "67/66 [==============================] - 3s 47ms/step - loss: 1.3856 - accuracy: 0.5599 - val_loss: 1.6840 - val_accuracy: 0.4967\n",
            "Epoch 25/50\n",
            "67/66 [==============================] - 3s 46ms/step - loss: 1.3741 - accuracy: 0.5611 - val_loss: 1.6913 - val_accuracy: 0.5052\n",
            "Epoch 26/50\n",
            "67/66 [==============================] - 3s 46ms/step - loss: 1.3534 - accuracy: 0.5635 - val_loss: 1.6511 - val_accuracy: 0.5111\n",
            "Epoch 27/50\n",
            "67/66 [==============================] - 3s 46ms/step - loss: 1.3383 - accuracy: 0.5733 - val_loss: 1.6759 - val_accuracy: 0.5052\n",
            "Epoch 28/50\n",
            "67/66 [==============================] - 3s 48ms/step - loss: 1.3232 - accuracy: 0.5762 - val_loss: 1.5969 - val_accuracy: 0.5293\n",
            "Epoch 29/50\n",
            "67/66 [==============================] - 3s 46ms/step - loss: 1.2999 - accuracy: 0.5892 - val_loss: 1.6457 - val_accuracy: 0.5176\n",
            "Epoch 30/50\n",
            "67/66 [==============================] - 3s 47ms/step - loss: 1.2947 - accuracy: 0.5815 - val_loss: 1.7566 - val_accuracy: 0.4928\n",
            "Epoch 31/50\n",
            "67/66 [==============================] - 3s 46ms/step - loss: 1.2989 - accuracy: 0.5822 - val_loss: 1.6420 - val_accuracy: 0.5072\n",
            "Epoch 32/50\n",
            "67/66 [==============================] - 3s 47ms/step - loss: 1.2908 - accuracy: 0.5839 - val_loss: 1.6012 - val_accuracy: 0.5195\n",
            "Epoch 33/50\n",
            "67/66 [==============================] - 3s 48ms/step - loss: 1.2674 - accuracy: 0.5935 - val_loss: 1.6737 - val_accuracy: 0.5195\n",
            "Epoch 34/50\n",
            "67/66 [==============================] - 3s 48ms/step - loss: 1.2559 - accuracy: 0.5931 - val_loss: 1.6536 - val_accuracy: 0.5195\n",
            "Epoch 35/50\n",
            "67/66 [==============================] - 3s 47ms/step - loss: 1.2308 - accuracy: 0.6038 - val_loss: 1.6180 - val_accuracy: 0.5319\n",
            "Epoch 36/50\n",
            "67/66 [==============================] - 3s 47ms/step - loss: 1.2250 - accuracy: 0.6092 - val_loss: 1.6149 - val_accuracy: 0.5293\n",
            "Epoch 37/50\n",
            "67/66 [==============================] - 3s 47ms/step - loss: 1.2341 - accuracy: 0.5989 - val_loss: 1.6413 - val_accuracy: 0.5286\n",
            "Epoch 38/50\n",
            "67/66 [==============================] - 3s 47ms/step - loss: 1.2115 - accuracy: 0.6105 - val_loss: 1.5774 - val_accuracy: 0.5339\n",
            "Epoch 39/50\n",
            "67/66 [==============================] - 3s 47ms/step - loss: 1.2050 - accuracy: 0.6113 - val_loss: 1.6593 - val_accuracy: 0.5228\n",
            "Epoch 40/50\n",
            "67/66 [==============================] - 3s 47ms/step - loss: 1.1998 - accuracy: 0.6119 - val_loss: 1.5804 - val_accuracy: 0.5365\n",
            "Epoch 41/50\n",
            "67/66 [==============================] - 3s 47ms/step - loss: 1.1727 - accuracy: 0.6215 - val_loss: 1.5616 - val_accuracy: 0.5404\n",
            "Epoch 42/50\n",
            "67/66 [==============================] - 3s 46ms/step - loss: 1.1787 - accuracy: 0.6205 - val_loss: 1.6321 - val_accuracy: 0.5247\n",
            "Epoch 43/50\n",
            "67/66 [==============================] - 3s 46ms/step - loss: 1.1648 - accuracy: 0.6282 - val_loss: 1.5738 - val_accuracy: 0.5423\n",
            "Epoch 44/50\n",
            "67/66 [==============================] - 3s 47ms/step - loss: 1.1604 - accuracy: 0.6233 - val_loss: 1.6248 - val_accuracy: 0.5430\n",
            "Epoch 45/50\n",
            "67/66 [==============================] - 3s 46ms/step - loss: 1.1560 - accuracy: 0.6280 - val_loss: 1.5624 - val_accuracy: 0.5436\n",
            "Epoch 46/50\n",
            "67/66 [==============================] - 3s 46ms/step - loss: 1.1435 - accuracy: 0.6279 - val_loss: 1.6037 - val_accuracy: 0.5378\n",
            "Epoch 47/50\n",
            "67/66 [==============================] - 3s 46ms/step - loss: 1.1273 - accuracy: 0.6327 - val_loss: 1.6896 - val_accuracy: 0.5202\n",
            "Epoch 48/50\n",
            "67/66 [==============================] - 3s 47ms/step - loss: 1.1054 - accuracy: 0.6409 - val_loss: 1.5642 - val_accuracy: 0.5436\n",
            "Epoch 49/50\n",
            "67/66 [==============================] - 3s 47ms/step - loss: 1.0970 - accuracy: 0.6411 - val_loss: 1.6301 - val_accuracy: 0.5312\n",
            "Epoch 50/50\n",
            "67/66 [==============================] - 3s 47ms/step - loss: 1.0957 - accuracy: 0.6449 - val_loss: 1.5394 - val_accuracy: 0.5540\n"
          ],
          "name": "stdout"
        }
      ]
    },
    {
      "cell_type": "code",
      "metadata": {
        "id": "G5VjuWT4JzxV",
        "colab_type": "code",
        "outputId": "845868d0-b9a8-400a-8add-faed48274899",
        "colab": {
          "base_uri": "https://localhost:8080/",
          "height": 625
        }
      },
      "source": [
        "model_report(SIMPLE_MODEL, SIMPLE_MODEL_history, len(x_train)/BATCH_SIZE)"
      ],
      "execution_count": 0,
      "outputs": [
        {
          "output_type": "display_data",
          "data": {
            "image/png": "[encoded data removed]",
            "text/plain": [
              "<Figure size 576x576 with 2 Axes>"
            ]
          },
          "metadata": {
            "tags": []
          }
        },
        {
          "output_type": "stream",
          "text": [
            "\n",
            "Test set evaluation metrics\n",
            "67/66 [==============================] - 1s 13ms/step - loss: 1.3683 - accuracy: 0.5831\n",
            "loss: 1.38\n",
            "accuracy: 0.58\n"
          ],
          "name": "stdout"
        }
      ]
    },
    {
      "cell_type": "markdown",
      "metadata": {
        "id": "cPj-8b46z0mv",
        "colab_type": "text"
      },
      "source": [
        "Παρατηρούμε βελτίωση στο accuracy κατά 7.9%. Ωστόσο υπάρχει μεγάλη αύξηση στο χρόνο εκπαίδευσης (από 10 ms/step περίπου στα 47 ms/step περίπου) λόγω της παραγωγής δεδομένων που πραγματοποιείται εκείνη τη στιγμή μέσω CPU. <br>\n",
        "Το πρόβλημα μπορεί να λυθεί με [παραλληλοποίηση](https://github.com/keras-team/keras/issues/12120) των εργασιών."
      ]
    },
    {
      "cell_type": "markdown",
      "metadata": {
        "id": "lKzl9h280_-5",
        "colab_type": "text"
      },
      "source": [
        "Προσπαθήσαμε να εφαρμόσουμε περισσότερες μετατροπές και καταλήξαμε το παρακάτω σχήμα. "
      ]
    },
    {
      "cell_type": "code",
      "metadata": {
        "id": "OuB9ID7PgOz1",
        "colab_type": "code",
        "colab": {}
      },
      "source": [
        "# this will do preprocessing and realtime data augmentation\n",
        "train_datagen = ImageDataGenerator(\n",
        "    rotation_range=20,  # randomly rotate images in the range (degrees, 0 to 180)\n",
        "    shear_range=20,\n",
        "    width_shift_range=0.2,  # randomly shift images horizontally (fraction of total width)\n",
        "    height_shift_range=0.2,  # randomly shift images vertically (fraction of total height)\n",
        "    horizontal_flip=True,  # randomly flip images\n",
        "    vertical_flip=True)  # randomly flip images\n",
        "\n",
        "BATCH_SIZE = 128"
      ],
      "execution_count": 0,
      "outputs": []
    },
    {
      "cell_type": "markdown",
      "metadata": {
        "id": "PIDEhQVJ1OOF",
        "colab_type": "text"
      },
      "source": [
        "Παρατηρήσαμε οτι αποφεύγαμε το overfitting αλλά η εκπαίδευση προχωρούσε με αργούς ρυθμούς. Έτσι αυξήσαμε τις εποχές στις 200. "
      ]
    },
    {
      "cell_type": "code",
      "metadata": {
        "id": "5qQUL89ViMHi",
        "colab_type": "code",
        "outputId": "f7a3a903-4a70-4ebe-de2b-0f3d8225baf3",
        "colab": {
          "base_uri": "https://localhost:8080/",
          "height": 1000
        }
      },
      "source": [
        "SIMPLE_MODEL = init_simple_model(summary = True)\n",
        "\n",
        "# fits the model on batches with real-time data augmentation:\n",
        "SIMPLE_MODEL_history = train_model(SIMPLE_MODEL, 200, len(x_train)/BATCH_SIZE, len(x_val)/BATCH_SIZE)"
      ],
      "execution_count": 0,
      "outputs": [
        {
          "output_type": "stream",
          "text": [
            "Model: \"sequential_12\"\n",
            "_________________________________________________________________\n",
            "Layer (type)                 Output Shape              Param #   \n",
            "=================================================================\n",
            "conv2d_36 (Conv2D)           (None, 30, 30, 32)        896       \n",
            "_________________________________________________________________\n",
            "max_pooling2d_24 (MaxPooling (None, 15, 15, 32)        0         \n",
            "_________________________________________________________________\n",
            "conv2d_37 (Conv2D)           (None, 13, 13, 64)        18496     \n",
            "_________________________________________________________________\n",
            "max_pooling2d_25 (MaxPooling (None, 6, 6, 64)          0         \n",
            "_________________________________________________________________\n",
            "conv2d_38 (Conv2D)           (None, 4, 4, 64)          36928     \n",
            "_________________________________________________________________\n",
            "flatten_12 (Flatten)         (None, 1024)              0         \n",
            "_________________________________________________________________\n",
            "dense_24 (Dense)             (None, 64)                65600     \n",
            "_________________________________________________________________\n",
            "dense_25 (Dense)             (None, 100)               6500      \n",
            "=================================================================\n",
            "Total params: 128,420\n",
            "Trainable params: 128,420\n",
            "Non-trainable params: 0\n",
            "_________________________________________________________________\n",
            "WARNING:tensorflow:sample_weight modes were coerced from\n",
            "  ...\n",
            "    to  \n",
            "  ['...']\n",
            "Train for 66.40625 steps, validate for 11.71875 steps\n",
            "Epoch 1/200\n",
            "67/66 [==============================] - 4s 67ms/step - loss: 3.0926 - accuracy: 0.0905 - val_loss: 2.7778 - val_accuracy: 0.1966\n",
            "Epoch 2/200\n",
            "67/66 [==============================] - 4s 58ms/step - loss: 2.6506 - accuracy: 0.1805 - val_loss: 2.5195 - val_accuracy: 0.2194\n",
            "Epoch 3/200\n",
            "67/66 [==============================] - 4s 58ms/step - loss: 2.4851 - accuracy: 0.2272 - val_loss: 2.5175 - val_accuracy: 0.2363\n",
            "Epoch 4/200\n",
            "67/66 [==============================] - 4s 57ms/step - loss: 2.3957 - accuracy: 0.2512 - val_loss: 2.3396 - val_accuracy: 0.2936\n",
            "Epoch 5/200\n",
            "67/66 [==============================] - 4s 57ms/step - loss: 2.3408 - accuracy: 0.2700 - val_loss: 2.3544 - val_accuracy: 0.2812\n",
            "Epoch 6/200\n",
            "67/66 [==============================] - 4s 58ms/step - loss: 2.2815 - accuracy: 0.2869 - val_loss: 2.2482 - val_accuracy: 0.3171\n",
            "Epoch 7/200\n",
            "67/66 [==============================] - 4s 59ms/step - loss: 2.2350 - accuracy: 0.2933 - val_loss: 2.2751 - val_accuracy: 0.3112\n",
            "Epoch 8/200\n",
            "67/66 [==============================] - 4s 59ms/step - loss: 2.1909 - accuracy: 0.3055 - val_loss: 2.2276 - val_accuracy: 0.3392\n",
            "Epoch 9/200\n",
            "67/66 [==============================] - 4s 59ms/step - loss: 2.1296 - accuracy: 0.3276 - val_loss: 2.2062 - val_accuracy: 0.3307\n",
            "Epoch 10/200\n",
            "67/66 [==============================] - 4s 59ms/step - loss: 2.0963 - accuracy: 0.3361 - val_loss: 2.0473 - val_accuracy: 0.3704\n",
            "Epoch 11/200\n",
            "67/66 [==============================] - 4s 59ms/step - loss: 2.0776 - accuracy: 0.3416 - val_loss: 2.3138 - val_accuracy: 0.2975\n",
            "Epoch 12/200\n",
            "67/66 [==============================] - 4s 59ms/step - loss: 2.0322 - accuracy: 0.3595 - val_loss: 1.9920 - val_accuracy: 0.3815\n",
            "Epoch 13/200\n",
            "67/66 [==============================] - 4s 59ms/step - loss: 2.0128 - accuracy: 0.3642 - val_loss: 2.0393 - val_accuracy: 0.3711\n",
            "Epoch 14/200\n",
            "67/66 [==============================] - 4s 58ms/step - loss: 1.9873 - accuracy: 0.3714 - val_loss: 2.0310 - val_accuracy: 0.3757\n",
            "Epoch 15/200\n",
            "67/66 [==============================] - 4s 59ms/step - loss: 1.9874 - accuracy: 0.3685 - val_loss: 1.9693 - val_accuracy: 0.3919\n",
            "Epoch 16/200\n",
            "67/66 [==============================] - 4s 58ms/step - loss: 1.9528 - accuracy: 0.3793 - val_loss: 1.8998 - val_accuracy: 0.4277\n",
            "Epoch 17/200\n",
            "67/66 [==============================] - 4s 59ms/step - loss: 1.9370 - accuracy: 0.3893 - val_loss: 1.9834 - val_accuracy: 0.3919\n",
            "Epoch 18/200\n",
            "67/66 [==============================] - 4s 59ms/step - loss: 1.9227 - accuracy: 0.3884 - val_loss: 1.9221 - val_accuracy: 0.4134\n",
            "Epoch 19/200\n",
            "67/66 [==============================] - 4s 59ms/step - loss: 1.9171 - accuracy: 0.3972 - val_loss: 1.9284 - val_accuracy: 0.4186\n",
            "Epoch 20/200\n",
            "67/66 [==============================] - 4s 58ms/step - loss: 1.8916 - accuracy: 0.4000 - val_loss: 1.8477 - val_accuracy: 0.4440\n",
            "Epoch 21/200\n",
            "67/66 [==============================] - 4s 58ms/step - loss: 1.8764 - accuracy: 0.4080 - val_loss: 1.8400 - val_accuracy: 0.4427\n",
            "Epoch 22/200\n",
            "67/66 [==============================] - 4s 58ms/step - loss: 1.8785 - accuracy: 0.4080 - val_loss: 1.8684 - val_accuracy: 0.4290\n",
            "Epoch 23/200\n",
            "67/66 [==============================] - 4s 59ms/step - loss: 1.8412 - accuracy: 0.4166 - val_loss: 1.8448 - val_accuracy: 0.4382\n",
            "Epoch 24/200\n",
            "67/66 [==============================] - 4s 59ms/step - loss: 1.8318 - accuracy: 0.4180 - val_loss: 1.8941 - val_accuracy: 0.4316\n",
            "Epoch 25/200\n",
            "67/66 [==============================] - 4s 58ms/step - loss: 1.8162 - accuracy: 0.4236 - val_loss: 1.8120 - val_accuracy: 0.4518\n",
            "Epoch 26/200\n",
            "67/66 [==============================] - 4s 58ms/step - loss: 1.8323 - accuracy: 0.4238 - val_loss: 1.8860 - val_accuracy: 0.4388\n",
            "Epoch 27/200\n",
            "67/66 [==============================] - 4s 59ms/step - loss: 1.8102 - accuracy: 0.4241 - val_loss: 1.9478 - val_accuracy: 0.4251\n",
            "Epoch 28/200\n",
            "67/66 [==============================] - 4s 59ms/step - loss: 1.7944 - accuracy: 0.4349 - val_loss: 1.8583 - val_accuracy: 0.4427\n",
            "Epoch 29/200\n",
            "67/66 [==============================] - 4s 59ms/step - loss: 1.7755 - accuracy: 0.4404 - val_loss: 1.8421 - val_accuracy: 0.4518\n",
            "Epoch 30/200\n",
            "67/66 [==============================] - 4s 61ms/step - loss: 1.7883 - accuracy: 0.4401 - val_loss: 1.7992 - val_accuracy: 0.4603\n",
            "Epoch 31/200\n",
            "67/66 [==============================] - 4s 61ms/step - loss: 1.7512 - accuracy: 0.4445 - val_loss: 1.7630 - val_accuracy: 0.4720\n",
            "Epoch 32/200\n",
            "67/66 [==============================] - 4s 62ms/step - loss: 1.7555 - accuracy: 0.4462 - val_loss: 1.7958 - val_accuracy: 0.4681\n",
            "Epoch 33/200\n",
            "67/66 [==============================] - 4s 61ms/step - loss: 1.7432 - accuracy: 0.4519 - val_loss: 1.7679 - val_accuracy: 0.4661\n",
            "Epoch 34/200\n",
            "67/66 [==============================] - 4s 61ms/step - loss: 1.7410 - accuracy: 0.4494 - val_loss: 1.7391 - val_accuracy: 0.4824\n",
            "Epoch 35/200\n",
            "67/66 [==============================] - 4s 61ms/step - loss: 1.7347 - accuracy: 0.4489 - val_loss: 1.7462 - val_accuracy: 0.4720\n",
            "Epoch 36/200\n",
            "67/66 [==============================] - 4s 62ms/step - loss: 1.7014 - accuracy: 0.4605 - val_loss: 1.7234 - val_accuracy: 0.4941\n",
            "Epoch 37/200\n",
            "67/66 [==============================] - 4s 60ms/step - loss: 1.6843 - accuracy: 0.4716 - val_loss: 1.7075 - val_accuracy: 0.4857\n",
            "Epoch 38/200\n",
            "67/66 [==============================] - 4s 61ms/step - loss: 1.7002 - accuracy: 0.4552 - val_loss: 1.7555 - val_accuracy: 0.4714\n",
            "Epoch 39/200\n",
            "67/66 [==============================] - 4s 62ms/step - loss: 1.6927 - accuracy: 0.4615 - val_loss: 1.7364 - val_accuracy: 0.4629\n",
            "Epoch 40/200\n",
            "67/66 [==============================] - 4s 61ms/step - loss: 1.6756 - accuracy: 0.4661 - val_loss: 1.6828 - val_accuracy: 0.4837\n",
            "Epoch 41/200\n",
            "67/66 [==============================] - 4s 62ms/step - loss: 1.6822 - accuracy: 0.4615 - val_loss: 1.6912 - val_accuracy: 0.4753\n",
            "Epoch 42/200\n",
            "67/66 [==============================] - 4s 62ms/step - loss: 1.6621 - accuracy: 0.4751 - val_loss: 1.6901 - val_accuracy: 0.4909\n",
            "Epoch 43/200\n",
            "67/66 [==============================] - 4s 61ms/step - loss: 1.6574 - accuracy: 0.4696 - val_loss: 1.6740 - val_accuracy: 0.4987\n",
            "Epoch 44/200\n",
            "67/66 [==============================] - 4s 61ms/step - loss: 1.6418 - accuracy: 0.4808 - val_loss: 1.7211 - val_accuracy: 0.4779\n",
            "Epoch 45/200\n",
            "67/66 [==============================] - 4s 61ms/step - loss: 1.6463 - accuracy: 0.4785 - val_loss: 1.6863 - val_accuracy: 0.4954\n",
            "Epoch 46/200\n",
            "67/66 [==============================] - 4s 62ms/step - loss: 1.6310 - accuracy: 0.4806 - val_loss: 1.6530 - val_accuracy: 0.4967\n",
            "Epoch 47/200\n",
            "67/66 [==============================] - 4s 62ms/step - loss: 1.6259 - accuracy: 0.4864 - val_loss: 1.6633 - val_accuracy: 0.5059\n",
            "Epoch 48/200\n",
            "67/66 [==============================] - 4s 62ms/step - loss: 1.6201 - accuracy: 0.4898 - val_loss: 1.7007 - val_accuracy: 0.4896\n",
            "Epoch 49/200\n",
            "67/66 [==============================] - 4s 61ms/step - loss: 1.6069 - accuracy: 0.4936 - val_loss: 1.6544 - val_accuracy: 0.5059\n",
            "Epoch 50/200\n",
            "67/66 [==============================] - 4s 61ms/step - loss: 1.6000 - accuracy: 0.4925 - val_loss: 1.7532 - val_accuracy: 0.4889\n",
            "Epoch 51/200\n",
            "67/66 [==============================] - 4s 61ms/step - loss: 1.5932 - accuracy: 0.4969 - val_loss: 1.7097 - val_accuracy: 0.4909\n",
            "Epoch 52/200\n",
            "67/66 [==============================] - 4s 61ms/step - loss: 1.5884 - accuracy: 0.4973 - val_loss: 1.7640 - val_accuracy: 0.4798\n",
            "Epoch 53/200\n",
            "67/66 [==============================] - 4s 61ms/step - loss: 1.5950 - accuracy: 0.4936 - val_loss: 1.6242 - val_accuracy: 0.4967\n",
            "Epoch 54/200\n",
            "67/66 [==============================] - 4s 62ms/step - loss: 1.5846 - accuracy: 0.4974 - val_loss: 1.7760 - val_accuracy: 0.4844\n",
            "Epoch 55/200\n",
            "67/66 [==============================] - 4s 61ms/step - loss: 1.5782 - accuracy: 0.4991 - val_loss: 1.6369 - val_accuracy: 0.4987\n",
            "Epoch 56/200\n",
            "67/66 [==============================] - 4s 61ms/step - loss: 1.5678 - accuracy: 0.5029 - val_loss: 1.6662 - val_accuracy: 0.5039\n",
            "Epoch 57/200\n",
            "67/66 [==============================] - 4s 61ms/step - loss: 1.5533 - accuracy: 0.5024 - val_loss: 1.5878 - val_accuracy: 0.5189\n",
            "Epoch 58/200\n",
            "67/66 [==============================] - 4s 61ms/step - loss: 1.5533 - accuracy: 0.5044 - val_loss: 1.6075 - val_accuracy: 0.5013\n",
            "Epoch 59/200\n",
            "67/66 [==============================] - 4s 60ms/step - loss: 1.5673 - accuracy: 0.5018 - val_loss: 1.5992 - val_accuracy: 0.5137\n",
            "Epoch 60/200\n",
            "67/66 [==============================] - 4s 61ms/step - loss: 1.5394 - accuracy: 0.5081 - val_loss: 1.5620 - val_accuracy: 0.5254\n",
            "Epoch 61/200\n",
            "67/66 [==============================] - 4s 61ms/step - loss: 1.5378 - accuracy: 0.5093 - val_loss: 1.5930 - val_accuracy: 0.5143\n",
            "Epoch 62/200\n",
            "67/66 [==============================] - 4s 61ms/step - loss: 1.5452 - accuracy: 0.5078 - val_loss: 1.6741 - val_accuracy: 0.4902\n",
            "Epoch 63/200\n",
            "67/66 [==============================] - 4s 61ms/step - loss: 1.5239 - accuracy: 0.5153 - val_loss: 1.6930 - val_accuracy: 0.4922\n",
            "Epoch 64/200\n",
            "67/66 [==============================] - 4s 61ms/step - loss: 1.5092 - accuracy: 0.5189 - val_loss: 1.6322 - val_accuracy: 0.4974\n",
            "Epoch 65/200\n",
            "67/66 [==============================] - 4s 62ms/step - loss: 1.5167 - accuracy: 0.5146 - val_loss: 1.6478 - val_accuracy: 0.4987\n",
            "Epoch 66/200\n",
            "67/66 [==============================] - 4s 60ms/step - loss: 1.5129 - accuracy: 0.5149 - val_loss: 1.5686 - val_accuracy: 0.5215\n",
            "Epoch 67/200\n",
            "67/66 [==============================] - 4s 60ms/step - loss: 1.5132 - accuracy: 0.5191 - val_loss: 1.6294 - val_accuracy: 0.5104\n",
            "Epoch 68/200\n",
            "67/66 [==============================] - 4s 61ms/step - loss: 1.4939 - accuracy: 0.5234 - val_loss: 1.6052 - val_accuracy: 0.5221\n",
            "Epoch 69/200\n",
            "67/66 [==============================] - 4s 61ms/step - loss: 1.4979 - accuracy: 0.5235 - val_loss: 1.6724 - val_accuracy: 0.4902\n",
            "Epoch 70/200\n",
            "67/66 [==============================] - 4s 62ms/step - loss: 1.5004 - accuracy: 0.5202 - val_loss: 1.5639 - val_accuracy: 0.5326\n",
            "Epoch 71/200\n",
            "67/66 [==============================] - 4s 62ms/step - loss: 1.4858 - accuracy: 0.5319 - val_loss: 1.6263 - val_accuracy: 0.5052\n",
            "Epoch 72/200\n",
            "67/66 [==============================] - 4s 62ms/step - loss: 1.4789 - accuracy: 0.5321 - val_loss: 1.6626 - val_accuracy: 0.5085\n",
            "Epoch 73/200\n",
            "67/66 [==============================] - 4s 61ms/step - loss: 1.4793 - accuracy: 0.5287 - val_loss: 1.6370 - val_accuracy: 0.5059\n",
            "Epoch 74/200\n",
            "67/66 [==============================] - 4s 60ms/step - loss: 1.4796 - accuracy: 0.5274 - val_loss: 1.5602 - val_accuracy: 0.5163\n",
            "Epoch 75/200\n",
            "67/66 [==============================] - 4s 61ms/step - loss: 1.4853 - accuracy: 0.5255 - val_loss: 1.5582 - val_accuracy: 0.5202\n",
            "Epoch 76/200\n",
            "67/66 [==============================] - 4s 61ms/step - loss: 1.5035 - accuracy: 0.5166 - val_loss: 1.5102 - val_accuracy: 0.5326\n",
            "Epoch 77/200\n",
            "67/66 [==============================] - 4s 61ms/step - loss: 1.4767 - accuracy: 0.5228 - val_loss: 1.5196 - val_accuracy: 0.5312\n",
            "Epoch 78/200\n",
            "67/66 [==============================] - 4s 60ms/step - loss: 1.4596 - accuracy: 0.5321 - val_loss: 1.5683 - val_accuracy: 0.5137\n",
            "Epoch 79/200\n",
            "67/66 [==============================] - 4s 60ms/step - loss: 1.4548 - accuracy: 0.5322 - val_loss: 1.4990 - val_accuracy: 0.5273\n",
            "Epoch 80/200\n",
            "67/66 [==============================] - 4s 60ms/step - loss: 1.4649 - accuracy: 0.5313 - val_loss: 1.5215 - val_accuracy: 0.5280\n",
            "Epoch 81/200\n",
            "67/66 [==============================] - 4s 59ms/step - loss: 1.4684 - accuracy: 0.5307 - val_loss: 1.5371 - val_accuracy: 0.5299\n",
            "Epoch 82/200\n",
            "67/66 [==============================] - 4s 60ms/step - loss: 1.4752 - accuracy: 0.5300 - val_loss: 1.6042 - val_accuracy: 0.5078\n",
            "Epoch 83/200\n",
            "67/66 [==============================] - 4s 60ms/step - loss: 1.4493 - accuracy: 0.5380 - val_loss: 1.5227 - val_accuracy: 0.5384\n",
            "Epoch 84/200\n",
            "67/66 [==============================] - 4s 60ms/step - loss: 1.4340 - accuracy: 0.5416 - val_loss: 1.5533 - val_accuracy: 0.5247\n",
            "Epoch 85/200\n",
            "67/66 [==============================] - 4s 61ms/step - loss: 1.4516 - accuracy: 0.5324 - val_loss: 1.5301 - val_accuracy: 0.5462\n",
            "Epoch 86/200\n",
            "67/66 [==============================] - 4s 60ms/step - loss: 1.4399 - accuracy: 0.5389 - val_loss: 1.6679 - val_accuracy: 0.5020\n",
            "Epoch 87/200\n",
            "67/66 [==============================] - 4s 60ms/step - loss: 1.4405 - accuracy: 0.5367 - val_loss: 1.5551 - val_accuracy: 0.5260\n",
            "Epoch 88/200\n",
            "67/66 [==============================] - 4s 60ms/step - loss: 1.4528 - accuracy: 0.5362 - val_loss: 1.5310 - val_accuracy: 0.5319\n",
            "Epoch 89/200\n",
            "67/66 [==============================] - 4s 60ms/step - loss: 1.4212 - accuracy: 0.5438 - val_loss: 1.5673 - val_accuracy: 0.5254\n",
            "Epoch 90/200\n",
            "67/66 [==============================] - 4s 61ms/step - loss: 1.4255 - accuracy: 0.5429 - val_loss: 1.4872 - val_accuracy: 0.5469\n",
            "Epoch 91/200\n",
            "67/66 [==============================] - 4s 60ms/step - loss: 1.4319 - accuracy: 0.5425 - val_loss: 1.4940 - val_accuracy: 0.5410\n",
            "Epoch 92/200\n",
            "67/66 [==============================] - 4s 61ms/step - loss: 1.4132 - accuracy: 0.5419 - val_loss: 1.5789 - val_accuracy: 0.5195\n",
            "Epoch 93/200\n",
            "67/66 [==============================] - 4s 60ms/step - loss: 1.4267 - accuracy: 0.5509 - val_loss: 1.5837 - val_accuracy: 0.5189\n",
            "Epoch 94/200\n",
            "67/66 [==============================] - 4s 59ms/step - loss: 1.4114 - accuracy: 0.5438 - val_loss: 1.5254 - val_accuracy: 0.5378\n",
            "Epoch 95/200\n",
            "67/66 [==============================] - 4s 60ms/step - loss: 1.4039 - accuracy: 0.5479 - val_loss: 1.4877 - val_accuracy: 0.5404\n",
            "Epoch 96/200\n",
            "67/66 [==============================] - 4s 60ms/step - loss: 1.4185 - accuracy: 0.5453 - val_loss: 1.5504 - val_accuracy: 0.5143\n",
            "Epoch 97/200\n",
            "67/66 [==============================] - 4s 59ms/step - loss: 1.3870 - accuracy: 0.5545 - val_loss: 1.5165 - val_accuracy: 0.5404\n",
            "Epoch 98/200\n",
            "67/66 [==============================] - 4s 60ms/step - loss: 1.4241 - accuracy: 0.5455 - val_loss: 1.5352 - val_accuracy: 0.5234\n",
            "Epoch 99/200\n",
            "67/66 [==============================] - 4s 59ms/step - loss: 1.3960 - accuracy: 0.5498 - val_loss: 1.5358 - val_accuracy: 0.5417\n",
            "Epoch 100/200\n",
            "67/66 [==============================] - 4s 58ms/step - loss: 1.3908 - accuracy: 0.5534 - val_loss: 1.5223 - val_accuracy: 0.5332\n",
            "Epoch 101/200\n",
            "67/66 [==============================] - 4s 59ms/step - loss: 1.3799 - accuracy: 0.5541 - val_loss: 1.5184 - val_accuracy: 0.5449\n",
            "Epoch 102/200\n",
            "67/66 [==============================] - 4s 59ms/step - loss: 1.3702 - accuracy: 0.5580 - val_loss: 1.4813 - val_accuracy: 0.5443\n",
            "Epoch 103/200\n",
            "67/66 [==============================] - 4s 58ms/step - loss: 1.3775 - accuracy: 0.5564 - val_loss: 1.4986 - val_accuracy: 0.5495\n",
            "Epoch 104/200\n",
            "67/66 [==============================] - 4s 58ms/step - loss: 1.3813 - accuracy: 0.5574 - val_loss: 1.4742 - val_accuracy: 0.5449\n",
            "Epoch 105/200\n",
            "67/66 [==============================] - 4s 58ms/step - loss: 1.3913 - accuracy: 0.5520 - val_loss: 1.5545 - val_accuracy: 0.5267\n",
            "Epoch 106/200\n",
            "67/66 [==============================] - 4s 58ms/step - loss: 1.3954 - accuracy: 0.5571 - val_loss: 1.5019 - val_accuracy: 0.5430\n",
            "Epoch 107/200\n",
            "67/66 [==============================] - 4s 57ms/step - loss: 1.3754 - accuracy: 0.5591 - val_loss: 1.5320 - val_accuracy: 0.5417\n",
            "Epoch 108/200\n",
            "67/66 [==============================] - 4s 57ms/step - loss: 1.3813 - accuracy: 0.5595 - val_loss: 1.5217 - val_accuracy: 0.5391\n",
            "Epoch 109/200\n",
            "67/66 [==============================] - 4s 57ms/step - loss: 1.3579 - accuracy: 0.5624 - val_loss: 1.5441 - val_accuracy: 0.5273\n",
            "Epoch 110/200\n",
            "67/66 [==============================] - 4s 57ms/step - loss: 1.3607 - accuracy: 0.5609 - val_loss: 1.4961 - val_accuracy: 0.5475\n",
            "Epoch 111/200\n",
            "67/66 [==============================] - 4s 57ms/step - loss: 1.3646 - accuracy: 0.5600 - val_loss: 1.4313 - val_accuracy: 0.5514\n",
            "Epoch 112/200\n",
            "67/66 [==============================] - 4s 57ms/step - loss: 1.3854 - accuracy: 0.5572 - val_loss: 1.5552 - val_accuracy: 0.5358\n",
            "Epoch 113/200\n",
            "67/66 [==============================] - 4s 56ms/step - loss: 1.3492 - accuracy: 0.5632 - val_loss: 1.5578 - val_accuracy: 0.5371\n",
            "Epoch 114/200\n",
            "67/66 [==============================] - 4s 57ms/step - loss: 1.3406 - accuracy: 0.5674 - val_loss: 1.4972 - val_accuracy: 0.5501\n",
            "Epoch 115/200\n",
            "67/66 [==============================] - 4s 56ms/step - loss: 1.3455 - accuracy: 0.5718 - val_loss: 1.5317 - val_accuracy: 0.5417\n",
            "Epoch 116/200\n",
            "67/66 [==============================] - 4s 56ms/step - loss: 1.3622 - accuracy: 0.5625 - val_loss: 1.4681 - val_accuracy: 0.5612\n",
            "Epoch 117/200\n",
            "67/66 [==============================] - 4s 58ms/step - loss: 1.3565 - accuracy: 0.5668 - val_loss: 1.5205 - val_accuracy: 0.5443\n",
            "Epoch 118/200\n",
            "67/66 [==============================] - 4s 57ms/step - loss: 1.3521 - accuracy: 0.5654 - val_loss: 1.4470 - val_accuracy: 0.5632\n",
            "Epoch 119/200\n",
            "67/66 [==============================] - 4s 56ms/step - loss: 1.3571 - accuracy: 0.5613 - val_loss: 1.4965 - val_accuracy: 0.5410\n",
            "Epoch 120/200\n",
            "67/66 [==============================] - 4s 55ms/step - loss: 1.3513 - accuracy: 0.5669 - val_loss: 1.4870 - val_accuracy: 0.5475\n",
            "Epoch 121/200\n",
            "67/66 [==============================] - 4s 57ms/step - loss: 1.3471 - accuracy: 0.5641 - val_loss: 1.5603 - val_accuracy: 0.5378\n",
            "Epoch 122/200\n",
            "67/66 [==============================] - 4s 55ms/step - loss: 1.3521 - accuracy: 0.5642 - val_loss: 1.5102 - val_accuracy: 0.5462\n",
            "Epoch 123/200\n",
            "67/66 [==============================] - 4s 55ms/step - loss: 1.3208 - accuracy: 0.5805 - val_loss: 1.4775 - val_accuracy: 0.5423\n",
            "Epoch 124/200\n",
            "67/66 [==============================] - 4s 55ms/step - loss: 1.3248 - accuracy: 0.5715 - val_loss: 1.4950 - val_accuracy: 0.5469\n",
            "Epoch 125/200\n",
            "67/66 [==============================] - 4s 55ms/step - loss: 1.3511 - accuracy: 0.5651 - val_loss: 1.4901 - val_accuracy: 0.5397\n",
            "Epoch 126/200\n",
            "67/66 [==============================] - 4s 56ms/step - loss: 1.3145 - accuracy: 0.5732 - val_loss: 1.5468 - val_accuracy: 0.5430\n",
            "Epoch 127/200\n",
            "67/66 [==============================] - 4s 56ms/step - loss: 1.3282 - accuracy: 0.5779 - val_loss: 1.5448 - val_accuracy: 0.5358\n",
            "Epoch 128/200\n",
            "67/66 [==============================] - 4s 55ms/step - loss: 1.3240 - accuracy: 0.5732 - val_loss: 1.5461 - val_accuracy: 0.5430\n",
            "Epoch 129/200\n",
            "67/66 [==============================] - 4s 57ms/step - loss: 1.3318 - accuracy: 0.5774 - val_loss: 1.4958 - val_accuracy: 0.5423\n",
            "Epoch 130/200\n",
            "67/66 [==============================] - 4s 56ms/step - loss: 1.3159 - accuracy: 0.5776 - val_loss: 1.4509 - val_accuracy: 0.5612\n",
            "Epoch 131/200\n",
            "67/66 [==============================] - 4s 55ms/step - loss: 1.3067 - accuracy: 0.5786 - val_loss: 1.5856 - val_accuracy: 0.5352\n",
            "Epoch 132/200\n",
            "67/66 [==============================] - 4s 57ms/step - loss: 1.3246 - accuracy: 0.5686 - val_loss: 1.4898 - val_accuracy: 0.5378\n",
            "Epoch 133/200\n",
            "67/66 [==============================] - 4s 56ms/step - loss: 1.3393 - accuracy: 0.5689 - val_loss: 1.4844 - val_accuracy: 0.5508\n",
            "Epoch 134/200\n",
            "67/66 [==============================] - 4s 56ms/step - loss: 1.3113 - accuracy: 0.5798 - val_loss: 1.4725 - val_accuracy: 0.5560\n",
            "Epoch 135/200\n",
            "67/66 [==============================] - 4s 55ms/step - loss: 1.3190 - accuracy: 0.5764 - val_loss: 1.4790 - val_accuracy: 0.5495\n",
            "Epoch 136/200\n",
            "67/66 [==============================] - 4s 55ms/step - loss: 1.3149 - accuracy: 0.5753 - val_loss: 1.5628 - val_accuracy: 0.5299\n",
            "Epoch 137/200\n",
            "67/66 [==============================] - 4s 56ms/step - loss: 1.3008 - accuracy: 0.5822 - val_loss: 1.5366 - val_accuracy: 0.5306\n",
            "Epoch 138/200\n",
            "67/66 [==============================] - 4s 55ms/step - loss: 1.3116 - accuracy: 0.5755 - val_loss: 1.4754 - val_accuracy: 0.5482\n",
            "Epoch 139/200\n",
            "67/66 [==============================] - 4s 55ms/step - loss: 1.3093 - accuracy: 0.5784 - val_loss: 1.5101 - val_accuracy: 0.5495\n",
            "Epoch 140/200\n",
            "67/66 [==============================] - 4s 55ms/step - loss: 1.2881 - accuracy: 0.5855 - val_loss: 1.4131 - val_accuracy: 0.5632\n",
            "Epoch 141/200\n",
            "67/66 [==============================] - 4s 55ms/step - loss: 1.2931 - accuracy: 0.5836 - val_loss: 1.5615 - val_accuracy: 0.5365\n",
            "Epoch 142/200\n",
            "67/66 [==============================] - 4s 56ms/step - loss: 1.3053 - accuracy: 0.5754 - val_loss: 1.3764 - val_accuracy: 0.5755\n",
            "Epoch 143/200\n",
            "67/66 [==============================] - 4s 55ms/step - loss: 1.3189 - accuracy: 0.5751 - val_loss: 1.4818 - val_accuracy: 0.5475\n",
            "Epoch 144/200\n",
            "67/66 [==============================] - 4s 55ms/step - loss: 1.2894 - accuracy: 0.5836 - val_loss: 1.4896 - val_accuracy: 0.5475\n",
            "Epoch 145/200\n",
            "67/66 [==============================] - 4s 55ms/step - loss: 1.2738 - accuracy: 0.5888 - val_loss: 1.4472 - val_accuracy: 0.5599\n",
            "Epoch 146/200\n",
            "67/66 [==============================] - 4s 55ms/step - loss: 1.2876 - accuracy: 0.5853 - val_loss: 1.5414 - val_accuracy: 0.5332\n",
            "Epoch 147/200\n",
            "67/66 [==============================] - 4s 54ms/step - loss: 1.2782 - accuracy: 0.5914 - val_loss: 1.4366 - val_accuracy: 0.5527\n",
            "Epoch 148/200\n",
            "67/66 [==============================] - 4s 55ms/step - loss: 1.2865 - accuracy: 0.5826 - val_loss: 1.4492 - val_accuracy: 0.5703\n",
            "Epoch 149/200\n",
            "67/66 [==============================] - 4s 55ms/step - loss: 1.2671 - accuracy: 0.5911 - val_loss: 1.4596 - val_accuracy: 0.5540\n",
            "Epoch 150/200\n",
            "67/66 [==============================] - 4s 55ms/step - loss: 1.2717 - accuracy: 0.5879 - val_loss: 1.4647 - val_accuracy: 0.5592\n",
            "Epoch 151/200\n",
            "67/66 [==============================] - 4s 57ms/step - loss: 1.2682 - accuracy: 0.5918 - val_loss: 1.4292 - val_accuracy: 0.5742\n",
            "Epoch 152/200\n",
            "67/66 [==============================] - 4s 57ms/step - loss: 1.2673 - accuracy: 0.5900 - val_loss: 1.4854 - val_accuracy: 0.5579\n",
            "Epoch 153/200\n",
            "67/66 [==============================] - 4s 57ms/step - loss: 1.2822 - accuracy: 0.5911 - val_loss: 1.5030 - val_accuracy: 0.5488\n",
            "Epoch 154/200\n",
            "67/66 [==============================] - 4s 55ms/step - loss: 1.2665 - accuracy: 0.5886 - val_loss: 1.5286 - val_accuracy: 0.5423\n",
            "Epoch 155/200\n",
            "67/66 [==============================] - 4s 56ms/step - loss: 1.2557 - accuracy: 0.5945 - val_loss: 1.5500 - val_accuracy: 0.5488\n",
            "Epoch 156/200\n",
            "67/66 [==============================] - 4s 55ms/step - loss: 1.2646 - accuracy: 0.5956 - val_loss: 1.4447 - val_accuracy: 0.5651\n",
            "Epoch 157/200\n",
            "67/66 [==============================] - 4s 54ms/step - loss: 1.2841 - accuracy: 0.5881 - val_loss: 1.5582 - val_accuracy: 0.5326\n",
            "Epoch 158/200\n",
            "67/66 [==============================] - 4s 55ms/step - loss: 1.2440 - accuracy: 0.6000 - val_loss: 1.5216 - val_accuracy: 0.5423\n",
            "Epoch 159/200\n",
            "67/66 [==============================] - 4s 54ms/step - loss: 1.2814 - accuracy: 0.5918 - val_loss: 1.5053 - val_accuracy: 0.5521\n",
            "Epoch 160/200\n",
            "67/66 [==============================] - 4s 55ms/step - loss: 1.2837 - accuracy: 0.5898 - val_loss: 1.5283 - val_accuracy: 0.5462\n",
            "Epoch 161/200\n",
            "67/66 [==============================] - 4s 55ms/step - loss: 1.2656 - accuracy: 0.5959 - val_loss: 1.4983 - val_accuracy: 0.5540\n",
            "Epoch 162/200\n",
            "67/66 [==============================] - 4s 55ms/step - loss: 1.2714 - accuracy: 0.5907 - val_loss: 1.4649 - val_accuracy: 0.5762\n",
            "Epoch 163/200\n",
            "67/66 [==============================] - 4s 54ms/step - loss: 1.2443 - accuracy: 0.5971 - val_loss: 1.4320 - val_accuracy: 0.5690\n",
            "Epoch 164/200\n",
            "67/66 [==============================] - 4s 55ms/step - loss: 1.2675 - accuracy: 0.5951 - val_loss: 1.5755 - val_accuracy: 0.5501\n",
            "Epoch 165/200\n",
            "67/66 [==============================] - 4s 54ms/step - loss: 1.2808 - accuracy: 0.5815 - val_loss: 1.4830 - val_accuracy: 0.5410\n",
            "Epoch 166/200\n",
            "67/66 [==============================] - 4s 55ms/step - loss: 1.2454 - accuracy: 0.6053 - val_loss: 1.4509 - val_accuracy: 0.5703\n",
            "Epoch 167/200\n",
            "67/66 [==============================] - 4s 54ms/step - loss: 1.2673 - accuracy: 0.5946 - val_loss: 1.4708 - val_accuracy: 0.5638\n",
            "Epoch 168/200\n",
            "67/66 [==============================] - 4s 54ms/step - loss: 1.2492 - accuracy: 0.5979 - val_loss: 1.4110 - val_accuracy: 0.5645\n",
            "Epoch 169/200\n",
            "67/66 [==============================] - 4s 55ms/step - loss: 1.2551 - accuracy: 0.5918 - val_loss: 1.5383 - val_accuracy: 0.5521\n",
            "Epoch 170/200\n",
            "67/66 [==============================] - 4s 56ms/step - loss: 1.2521 - accuracy: 0.5962 - val_loss: 1.5412 - val_accuracy: 0.5462\n",
            "Epoch 171/200\n",
            "67/66 [==============================] - 4s 54ms/step - loss: 1.2420 - accuracy: 0.5996 - val_loss: 1.5087 - val_accuracy: 0.5618\n",
            "Epoch 172/200\n",
            "67/66 [==============================] - 4s 55ms/step - loss: 1.2263 - accuracy: 0.6007 - val_loss: 1.5942 - val_accuracy: 0.5306\n",
            "Epoch 173/200\n",
            "67/66 [==============================] - 4s 54ms/step - loss: 1.2556 - accuracy: 0.5932 - val_loss: 1.4090 - val_accuracy: 0.5911\n",
            "Epoch 174/200\n",
            "67/66 [==============================] - 4s 54ms/step - loss: 1.2367 - accuracy: 0.5979 - val_loss: 1.4426 - val_accuracy: 0.5781\n",
            "Epoch 175/200\n",
            "67/66 [==============================] - 4s 55ms/step - loss: 1.2447 - accuracy: 0.6002 - val_loss: 1.4241 - val_accuracy: 0.5755\n",
            "Epoch 176/200\n",
            "67/66 [==============================] - 4s 56ms/step - loss: 1.2356 - accuracy: 0.5949 - val_loss: 1.4301 - val_accuracy: 0.5768\n",
            "Epoch 177/200\n",
            "67/66 [==============================] - 4s 57ms/step - loss: 1.2438 - accuracy: 0.6020 - val_loss: 1.4454 - val_accuracy: 0.5677\n",
            "Epoch 178/200\n",
            "67/66 [==============================] - 4s 55ms/step - loss: 1.2498 - accuracy: 0.5894 - val_loss: 1.4879 - val_accuracy: 0.5697\n",
            "Epoch 179/200\n",
            "67/66 [==============================] - 4s 55ms/step - loss: 1.2329 - accuracy: 0.5980 - val_loss: 1.5457 - val_accuracy: 0.5482\n",
            "Epoch 180/200\n",
            "67/66 [==============================] - 4s 54ms/step - loss: 1.2190 - accuracy: 0.6015 - val_loss: 1.5076 - val_accuracy: 0.5618\n",
            "Epoch 181/200\n",
            "67/66 [==============================] - 4s 55ms/step - loss: 1.2315 - accuracy: 0.5969 - val_loss: 1.4251 - val_accuracy: 0.5736\n",
            "Epoch 182/200\n",
            "67/66 [==============================] - 4s 55ms/step - loss: 1.2144 - accuracy: 0.6098 - val_loss: 1.5559 - val_accuracy: 0.5430\n",
            "Epoch 183/200\n",
            "67/66 [==============================] - 4s 55ms/step - loss: 1.2133 - accuracy: 0.6075 - val_loss: 1.4202 - val_accuracy: 0.5846\n",
            "Epoch 184/200\n",
            "67/66 [==============================] - 4s 54ms/step - loss: 1.2133 - accuracy: 0.6085 - val_loss: 1.4728 - val_accuracy: 0.5697\n",
            "Epoch 185/200\n",
            "67/66 [==============================] - 4s 55ms/step - loss: 1.2275 - accuracy: 0.6022 - val_loss: 1.4051 - val_accuracy: 0.5853\n",
            "Epoch 186/200\n",
            "67/66 [==============================] - 4s 55ms/step - loss: 1.2239 - accuracy: 0.6041 - val_loss: 1.5273 - val_accuracy: 0.5449\n",
            "Epoch 187/200\n",
            "67/66 [==============================] - 4s 54ms/step - loss: 1.2210 - accuracy: 0.5999 - val_loss: 1.4980 - val_accuracy: 0.5586\n",
            "Epoch 188/200\n",
            "67/66 [==============================] - 4s 54ms/step - loss: 1.1997 - accuracy: 0.6113 - val_loss: 1.4088 - val_accuracy: 0.5853\n",
            "Epoch 189/200\n",
            "67/66 [==============================] - 4s 53ms/step - loss: 1.2127 - accuracy: 0.6028 - val_loss: 1.5119 - val_accuracy: 0.5573\n",
            "Epoch 190/200\n",
            "67/66 [==============================] - 4s 54ms/step - loss: 1.2192 - accuracy: 0.6041 - val_loss: 1.4090 - val_accuracy: 0.5853\n",
            "Epoch 191/200\n",
            "67/66 [==============================] - 4s 54ms/step - loss: 1.2212 - accuracy: 0.6044 - val_loss: 1.4209 - val_accuracy: 0.5736\n",
            "Epoch 192/200\n",
            "67/66 [==============================] - 4s 54ms/step - loss: 1.2181 - accuracy: 0.6108 - val_loss: 1.4968 - val_accuracy: 0.5658\n",
            "Epoch 193/200\n",
            "67/66 [==============================] - 4s 54ms/step - loss: 1.2194 - accuracy: 0.6080 - val_loss: 1.4875 - val_accuracy: 0.5716\n",
            "Epoch 194/200\n",
            "67/66 [==============================] - 4s 55ms/step - loss: 1.2035 - accuracy: 0.6072 - val_loss: 1.4319 - val_accuracy: 0.5788\n",
            "Epoch 195/200\n",
            "67/66 [==============================] - 4s 55ms/step - loss: 1.2155 - accuracy: 0.6129 - val_loss: 1.4453 - val_accuracy: 0.5794\n",
            "Epoch 196/200\n",
            "67/66 [==============================] - 4s 53ms/step - loss: 1.1949 - accuracy: 0.6120 - val_loss: 1.4981 - val_accuracy: 0.5638\n",
            "Epoch 197/200\n",
            "67/66 [==============================] - 4s 55ms/step - loss: 1.1936 - accuracy: 0.6106 - val_loss: 1.5038 - val_accuracy: 0.5671\n",
            "Epoch 198/200\n",
            "67/66 [==============================] - 4s 54ms/step - loss: 1.1935 - accuracy: 0.6099 - val_loss: 1.4357 - val_accuracy: 0.5781\n",
            "Epoch 199/200\n",
            "67/66 [==============================] - 4s 55ms/step - loss: 1.1948 - accuracy: 0.6109 - val_loss: 1.4510 - val_accuracy: 0.5703\n",
            "Epoch 200/200\n",
            "67/66 [==============================] - 4s 55ms/step - loss: 1.1839 - accuracy: 0.6138 - val_loss: 1.4077 - val_accuracy: 0.5820\n"
          ],
          "name": "stdout"
        }
      ]
    },
    {
      "cell_type": "code",
      "metadata": {
        "id": "z6GgDBUrhfly",
        "colab_type": "code",
        "outputId": "ff00210d-31a9-4db8-f604-d460e01d4595",
        "colab": {
          "base_uri": "https://localhost:8080/",
          "height": 625
        }
      },
      "source": [
        "model_report(SIMPLE_MODEL, SIMPLE_MODEL_history, len(x_train)/BATCH_SIZE)"
      ],
      "execution_count": 0,
      "outputs": [
        {
          "output_type": "display_data",
          "data": {
            "image/png": "[encoded data removed]",
            "text/plain": [
              "<Figure size 576x576 with 2 Axes>"
            ]
          },
          "metadata": {
            "tags": []
          }
        },
        {
          "output_type": "stream",
          "text": [
            "\n",
            "Test set evaluation metrics\n",
            "67/66 [==============================] - 0s 5ms/step - loss: 1.3250 - accuracy: 0.5922\n",
            "loss: 1.34\n",
            "accuracy: 0.59\n"
          ],
          "name": "stdout"
        }
      ]
    },
    {
      "cell_type": "markdown",
      "metadata": {
        "id": "LG569rTG1eSF",
        "colab_type": "text"
      },
      "source": [
        "Πετύχαμε βελτίωση κατά 9.6% στο accuracy με το κόστος του χρόνου εκπαίδευσης (0.58 ms/step μέσος όρος)."
      ]
    },
    {
      "cell_type": "markdown",
      "metadata": {
        "id": "wR_3GcR22-9_",
        "colab_type": "text"
      },
      "source": [
        "#### Regularization"
      ]
    },
    {
      "cell_type": "markdown",
      "metadata": {
        "id": "PmT3Isul3DUd",
        "colab_type": "text"
      },
      "source": [
        "Χρησιμοποιούμε regularization για να αποφύγουμε το overfitting. Το regularization προσθέτει στην costfunction έναν επιπλέον όρο, ο οποίος εξαρτάται από τα μεγέθη των βαρών των επιπέδων, στα οποία εφαρμόζουμε την μέθοδο. Στο L2 regularization προστίθενται τα τετράγωνα των βαρών και οι παράγωγοι εξαρτώνται γραμμικά από αυτά. Στο L1 regularization προστίθενται οι απόλυτες τιμές. Αυτό οδηγεί σε sparse επιλογές για τα βάρη, καθώς πολλά καταλήγουν να μηδενίζονται."
      ]
    },
    {
      "cell_type": "markdown",
      "metadata": {
        "id": "PJUmlcRl7hQd",
        "colab_type": "text"
      },
      "source": [
        "* https://medium.com/@robertjohn_15390/regularization-in-tensorflow-using-keras-api-48aba746ae21\n",
        "\n",
        "* https://www.tensorflow.org/api_docs/python/tf/keras/layers/Dense\n",
        "\n",
        "* https://www.tensorflow.org/api_docs/python/tf/keras/regularizers/L1L2"
      ]
    },
    {
      "cell_type": "code",
      "metadata": {
        "id": "GvHg5xTn3_Qj",
        "colab_type": "code",
        "colab": {}
      },
      "source": [
        "# a simple CNN https://www.tensorflow.org/tutorials/images/cnn\n",
        "\n",
        "from tensorflow.keras import regularizers\n",
        "\n",
        "def init_simple_model(summary):\n",
        "  model = models.Sequential()\n",
        "  model.add(layers.Conv2D(32, (3, 3), activation='relu', input_shape=(32, 32, 3)))\n",
        "  model.add(layers.MaxPooling2D((2, 2)))\n",
        "  model.add(layers.Conv2D(64, (3, 3), activation='relu'))\n",
        "  model.add(layers.MaxPooling2D((2, 2)))\n",
        "  model.add(layers.Conv2D(64, (3, 3), activation='relu'))\n",
        "  model.add(layers.Flatten())\n",
        "  model.add(layers.Dense(64, kernel_regularizer=regularizers.l2(0.001), activation='relu'))\n",
        "  model.add(layers.Dense(100, activation='softmax'))\n",
        "  model.compile(optimizer=tf.keras.optimizers.Adam(), loss=tf.keras.losses.sparse_categorical_crossentropy, metrics=[\"accuracy\"])\n",
        "  if summary: \n",
        "    model.summary()\n",
        "  return model"
      ],
      "execution_count": 0,
      "outputs": []
    },
    {
      "cell_type": "code",
      "metadata": {
        "id": "Eil5o6SX6XJS",
        "colab_type": "code",
        "outputId": "39c8a377-b265-44b0-a0b9-a37587938fea",
        "colab": {
          "base_uri": "https://localhost:8080/",
          "height": 1000
        }
      },
      "source": [
        "SIMPLE_MODEL = init_simple_model(summary = True)\n",
        "SIMPLE_MODEL_history = train_model(SIMPLE_MODEL, 50, 30, 5)"
      ],
      "execution_count": 0,
      "outputs": [
        {
          "output_type": "stream",
          "text": [
            "Model: \"sequential\"\n",
            "_________________________________________________________________\n",
            "Layer (type)                 Output Shape              Param #   \n",
            "=================================================================\n",
            "conv2d (Conv2D)              (None, 30, 30, 32)        896       \n",
            "_________________________________________________________________\n",
            "max_pooling2d (MaxPooling2D) (None, 15, 15, 32)        0         \n",
            "_________________________________________________________________\n",
            "conv2d_1 (Conv2D)            (None, 13, 13, 64)        18496     \n",
            "_________________________________________________________________\n",
            "max_pooling2d_1 (MaxPooling2 (None, 6, 6, 64)          0         \n",
            "_________________________________________________________________\n",
            "conv2d_2 (Conv2D)            (None, 4, 4, 64)          36928     \n",
            "_________________________________________________________________\n",
            "flatten (Flatten)            (None, 1024)              0         \n",
            "_________________________________________________________________\n",
            "dense (Dense)                (None, 64)                65600     \n",
            "_________________________________________________________________\n",
            "dense_1 (Dense)              (None, 100)               6500      \n",
            "=================================================================\n",
            "Total params: 128,420\n",
            "Trainable params: 128,420\n",
            "Non-trainable params: 0\n",
            "_________________________________________________________________\n",
            "Train for 30 steps, validate for 5 steps\n",
            "Epoch 1/50\n",
            "30/30 [==============================] - 7s 226ms/step - loss: 3.7419 - accuracy: 0.0513 - val_loss: 3.0717 - val_accuracy: 0.0672\n",
            "Epoch 2/50\n",
            "30/30 [==============================] - 0s 10ms/step - loss: 2.8884 - accuracy: 0.1352 - val_loss: 2.7786 - val_accuracy: 0.1250\n",
            "Epoch 3/50\n",
            "30/30 [==============================] - 0s 13ms/step - loss: 2.6709 - accuracy: 0.1703 - val_loss: 2.6094 - val_accuracy: 0.2375\n",
            "Epoch 4/50\n",
            "30/30 [==============================] - 0s 10ms/step - loss: 2.5222 - accuracy: 0.2143 - val_loss: 2.5039 - val_accuracy: 0.2266\n",
            "Epoch 5/50\n",
            "30/30 [==============================] - 0s 12ms/step - loss: 2.4335 - accuracy: 0.2328 - val_loss: 2.3911 - val_accuracy: 0.2672\n",
            "Epoch 6/50\n",
            "30/30 [==============================] - 0s 11ms/step - loss: 2.3371 - accuracy: 0.2677 - val_loss: 2.2666 - val_accuracy: 0.3063\n",
            "Epoch 7/50\n",
            "30/30 [==============================] - 0s 12ms/step - loss: 2.2912 - accuracy: 0.2906 - val_loss: 2.2140 - val_accuracy: 0.3047\n",
            "Epoch 8/50\n",
            "30/30 [==============================] - 0s 10ms/step - loss: 2.1800 - accuracy: 0.3125 - val_loss: 2.1749 - val_accuracy: 0.3344\n",
            "Epoch 9/50\n",
            "30/30 [==============================] - 0s 11ms/step - loss: 2.1408 - accuracy: 0.3380 - val_loss: 2.1319 - val_accuracy: 0.3391\n",
            "Epoch 10/50\n",
            "30/30 [==============================] - 0s 10ms/step - loss: 2.0976 - accuracy: 0.3432 - val_loss: 2.1732 - val_accuracy: 0.3203\n",
            "Epoch 11/50\n",
            "30/30 [==============================] - 0s 11ms/step - loss: 2.0430 - accuracy: 0.3555 - val_loss: 2.1318 - val_accuracy: 0.3469\n",
            "Epoch 12/50\n",
            "30/30 [==============================] - 0s 11ms/step - loss: 2.0203 - accuracy: 0.3667 - val_loss: 1.9746 - val_accuracy: 0.4047\n",
            "Epoch 13/50\n",
            "30/30 [==============================] - 0s 11ms/step - loss: 1.9497 - accuracy: 0.3930 - val_loss: 1.9573 - val_accuracy: 0.4047\n",
            "Epoch 14/50\n",
            "30/30 [==============================] - 0s 10ms/step - loss: 1.9146 - accuracy: 0.3945 - val_loss: 2.0279 - val_accuracy: 0.3906\n",
            "Epoch 15/50\n",
            "30/30 [==============================] - 0s 11ms/step - loss: 1.8785 - accuracy: 0.4083 - val_loss: 1.9513 - val_accuracy: 0.4094\n",
            "Epoch 16/50\n",
            "30/30 [==============================] - 0s 11ms/step - loss: 1.8286 - accuracy: 0.4229 - val_loss: 1.7797 - val_accuracy: 0.4594\n",
            "Epoch 17/50\n",
            "30/30 [==============================] - 0s 10ms/step - loss: 1.7717 - accuracy: 0.4557 - val_loss: 1.8561 - val_accuracy: 0.4422\n",
            "Epoch 18/50\n",
            "30/30 [==============================] - 0s 11ms/step - loss: 1.7952 - accuracy: 0.4323 - val_loss: 1.9207 - val_accuracy: 0.4156\n",
            "Epoch 19/50\n",
            "30/30 [==============================] - 0s 10ms/step - loss: 1.7561 - accuracy: 0.4437 - val_loss: 1.8221 - val_accuracy: 0.4484\n",
            "Epoch 20/50\n",
            "30/30 [==============================] - 0s 11ms/step - loss: 1.7264 - accuracy: 0.4555 - val_loss: 1.8215 - val_accuracy: 0.4500\n",
            "Epoch 21/50\n",
            "30/30 [==============================] - 0s 10ms/step - loss: 1.6723 - accuracy: 0.4792 - val_loss: 1.8305 - val_accuracy: 0.4469\n",
            "Epoch 22/50\n",
            "30/30 [==============================] - 0s 11ms/step - loss: 1.6964 - accuracy: 0.4643 - val_loss: 1.8530 - val_accuracy: 0.4141\n",
            "Epoch 23/50\n",
            "30/30 [==============================] - 0s 11ms/step - loss: 1.6517 - accuracy: 0.4721 - val_loss: 1.8162 - val_accuracy: 0.4406\n",
            "Epoch 24/50\n",
            "30/30 [==============================] - 0s 11ms/step - loss: 1.6291 - accuracy: 0.4812 - val_loss: 1.7553 - val_accuracy: 0.4641\n",
            "Epoch 25/50\n",
            "30/30 [==============================] - 0s 10ms/step - loss: 1.6061 - accuracy: 0.4940 - val_loss: 1.7558 - val_accuracy: 0.4766\n",
            "Epoch 26/50\n",
            "30/30 [==============================] - 0s 12ms/step - loss: 1.5752 - accuracy: 0.5010 - val_loss: 1.6962 - val_accuracy: 0.4625\n",
            "Epoch 27/50\n",
            "30/30 [==============================] - 0s 11ms/step - loss: 1.5907 - accuracy: 0.4896 - val_loss: 1.6235 - val_accuracy: 0.4906\n",
            "Epoch 28/50\n",
            "30/30 [==============================] - 0s 11ms/step - loss: 1.5713 - accuracy: 0.5052 - val_loss: 1.7058 - val_accuracy: 0.4656\n",
            "Epoch 29/50\n",
            "30/30 [==============================] - 0s 11ms/step - loss: 1.5405 - accuracy: 0.5135 - val_loss: 1.6608 - val_accuracy: 0.4938\n",
            "Epoch 30/50\n",
            "30/30 [==============================] - 0s 10ms/step - loss: 1.5203 - accuracy: 0.5089 - val_loss: 1.6700 - val_accuracy: 0.4688\n",
            "Epoch 31/50\n",
            "30/30 [==============================] - 0s 11ms/step - loss: 1.5270 - accuracy: 0.5115 - val_loss: 1.6078 - val_accuracy: 0.4969\n",
            "Epoch 32/50\n",
            "30/30 [==============================] - 0s 10ms/step - loss: 1.4828 - accuracy: 0.5357 - val_loss: 1.6927 - val_accuracy: 0.4734\n",
            "Epoch 33/50\n",
            "30/30 [==============================] - 0s 11ms/step - loss: 1.5042 - accuracy: 0.5227 - val_loss: 1.6875 - val_accuracy: 0.4969\n",
            "Epoch 34/50\n",
            "30/30 [==============================] - 0s 11ms/step - loss: 1.4486 - accuracy: 0.5445 - val_loss: 1.7204 - val_accuracy: 0.4859\n",
            "Epoch 35/50\n",
            "30/30 [==============================] - 0s 11ms/step - loss: 1.4536 - accuracy: 0.5357 - val_loss: 1.7473 - val_accuracy: 0.4766\n",
            "Epoch 36/50\n",
            "30/30 [==============================] - 0s 10ms/step - loss: 1.4281 - accuracy: 0.5448 - val_loss: 1.6066 - val_accuracy: 0.5172\n",
            "Epoch 37/50\n",
            "30/30 [==============================] - 0s 11ms/step - loss: 1.4191 - accuracy: 0.5466 - val_loss: 1.6319 - val_accuracy: 0.5250\n",
            "Epoch 38/50\n",
            "30/30 [==============================] - 0s 11ms/step - loss: 1.4117 - accuracy: 0.5474 - val_loss: 1.5921 - val_accuracy: 0.5234\n",
            "Epoch 39/50\n",
            "30/30 [==============================] - 0s 10ms/step - loss: 1.4004 - accuracy: 0.5549 - val_loss: 1.5988 - val_accuracy: 0.5047\n",
            "Epoch 40/50\n",
            "30/30 [==============================] - 0s 11ms/step - loss: 1.3927 - accuracy: 0.5688 - val_loss: 1.6196 - val_accuracy: 0.4906\n",
            "Epoch 41/50\n",
            "30/30 [==============================] - 0s 11ms/step - loss: 1.4255 - accuracy: 0.5479 - val_loss: 1.7146 - val_accuracy: 0.4906\n",
            "Epoch 42/50\n",
            "30/30 [==============================] - 0s 11ms/step - loss: 1.3559 - accuracy: 0.5698 - val_loss: 1.6054 - val_accuracy: 0.5031\n",
            "Epoch 43/50\n",
            "30/30 [==============================] - 0s 11ms/step - loss: 1.3473 - accuracy: 0.5729 - val_loss: 1.5884 - val_accuracy: 0.5000\n",
            "Epoch 44/50\n",
            "30/30 [==============================] - 0s 11ms/step - loss: 1.3821 - accuracy: 0.5661 - val_loss: 1.6372 - val_accuracy: 0.5156\n",
            "Epoch 45/50\n",
            "30/30 [==============================] - 0s 10ms/step - loss: 1.3292 - accuracy: 0.5755 - val_loss: 1.6501 - val_accuracy: 0.5172\n",
            "Epoch 46/50\n",
            "30/30 [==============================] - 0s 12ms/step - loss: 1.3162 - accuracy: 0.5758 - val_loss: 1.5629 - val_accuracy: 0.5297\n",
            "Epoch 47/50\n",
            "30/30 [==============================] - 0s 11ms/step - loss: 1.2891 - accuracy: 0.6018 - val_loss: 1.5379 - val_accuracy: 0.5250\n",
            "Epoch 48/50\n",
            "30/30 [==============================] - 0s 10ms/step - loss: 1.2855 - accuracy: 0.5828 - val_loss: 1.5869 - val_accuracy: 0.5297\n",
            "Epoch 49/50\n",
            "30/30 [==============================] - 0s 11ms/step - loss: 1.3031 - accuracy: 0.5802 - val_loss: 1.6894 - val_accuracy: 0.4938\n",
            "Epoch 50/50\n",
            "30/30 [==============================] - 0s 10ms/step - loss: 1.2787 - accuracy: 0.5914 - val_loss: 1.5803 - val_accuracy: 0.5344\n"
          ],
          "name": "stdout"
        }
      ]
    },
    {
      "cell_type": "code",
      "metadata": {
        "id": "81ZBBIuK3tJs",
        "colab_type": "code",
        "outputId": "9b003011-3374-4d25-eec5-2efcecdaa739",
        "colab": {
          "base_uri": "https://localhost:8080/",
          "height": 625
        }
      },
      "source": [
        "model_report(SIMPLE_MODEL, SIMPLE_MODEL_history, 30)"
      ],
      "execution_count": 0,
      "outputs": [
        {
          "output_type": "display_data",
          "data": {
            "image/png": "[encoded data removed]",
            "text/plain": [
              "<Figure size 576x576 with 2 Axes>"
            ]
          },
          "metadata": {
            "tags": []
          }
        },
        {
          "output_type": "stream",
          "text": [
            "\n",
            "Test set evaluation metrics\n",
            "30/30 [==============================] - 0s 6ms/step - loss: 1.5236 - accuracy: 0.5177\n",
            "loss: 1.52\n",
            "accuracy: 0.52\n"
          ],
          "name": "stdout"
        }
      ]
    },
    {
      "cell_type": "code",
      "metadata": {
        "id": "YW9Kn27S31hS",
        "colab_type": "code",
        "outputId": "5a99cae9-e8e5-4ebd-fae8-7de908a77143",
        "colab": {
          "base_uri": "https://localhost:8080/",
          "height": 1000
        }
      },
      "source": [
        "SIMPLE_MODEL = init_simple_model(summary = True)\n",
        "SIMPLE_MODEL_history = train_model(SIMPLE_MODEL, 100, 30, 5)"
      ],
      "execution_count": 0,
      "outputs": [
        {
          "output_type": "stream",
          "text": [
            "Model: \"sequential_9\"\n",
            "_________________________________________________________________\n",
            "Layer (type)                 Output Shape              Param #   \n",
            "=================================================================\n",
            "conv2d_27 (Conv2D)           (None, 30, 30, 32)        896       \n",
            "_________________________________________________________________\n",
            "max_pooling2d_18 (MaxPooling (None, 15, 15, 32)        0         \n",
            "_________________________________________________________________\n",
            "conv2d_28 (Conv2D)           (None, 13, 13, 64)        18496     \n",
            "_________________________________________________________________\n",
            "max_pooling2d_19 (MaxPooling (None, 6, 6, 64)          0         \n",
            "_________________________________________________________________\n",
            "conv2d_29 (Conv2D)           (None, 4, 4, 64)          36928     \n",
            "_________________________________________________________________\n",
            "flatten_9 (Flatten)          (None, 1024)              0         \n",
            "_________________________________________________________________\n",
            "dense_13 (Dense)             (None, 64)                65600     \n",
            "_________________________________________________________________\n",
            "dense_14 (Dense)             (None, 100)               6500      \n",
            "=================================================================\n",
            "Total params: 128,420\n",
            "Trainable params: 128,420\n",
            "Non-trainable params: 0\n",
            "_________________________________________________________________\n",
            "Train for 30 steps, validate for 5 steps\n",
            "Epoch 1/100\n",
            "30/30 [==============================] - 1s 28ms/step - loss: 3.7307 - accuracy: 0.0534 - val_loss: 3.0803 - val_accuracy: 0.0437\n",
            "Epoch 2/100\n",
            "30/30 [==============================] - 0s 10ms/step - loss: 2.8718 - accuracy: 0.1365 - val_loss: 2.7567 - val_accuracy: 0.1609\n",
            "Epoch 3/100\n",
            "30/30 [==============================] - 0s 12ms/step - loss: 2.6762 - accuracy: 0.1706 - val_loss: 2.6182 - val_accuracy: 0.2078\n",
            "Epoch 4/100\n",
            "30/30 [==============================] - 0s 10ms/step - loss: 2.5258 - accuracy: 0.2167 - val_loss: 2.5150 - val_accuracy: 0.2531\n",
            "Epoch 5/100\n",
            "30/30 [==============================] - 0s 12ms/step - loss: 2.3935 - accuracy: 0.2638 - val_loss: 2.2970 - val_accuracy: 0.2969\n",
            "Epoch 6/100\n",
            "30/30 [==============================] - 0s 11ms/step - loss: 2.3219 - accuracy: 0.2911 - val_loss: 2.2504 - val_accuracy: 0.3109\n",
            "Epoch 7/100\n",
            "30/30 [==============================] - 0s 11ms/step - loss: 2.2264 - accuracy: 0.3154 - val_loss: 2.2836 - val_accuracy: 0.2969\n",
            "Epoch 8/100\n",
            "30/30 [==============================] - 0s 10ms/step - loss: 2.1956 - accuracy: 0.3247 - val_loss: 2.2593 - val_accuracy: 0.3125\n",
            "Epoch 9/100\n",
            "30/30 [==============================] - 0s 10ms/step - loss: 2.1413 - accuracy: 0.3393 - val_loss: 2.1830 - val_accuracy: 0.3391\n",
            "Epoch 10/100\n",
            "30/30 [==============================] - 0s 11ms/step - loss: 2.0646 - accuracy: 0.3594 - val_loss: 2.1051 - val_accuracy: 0.3562\n",
            "Epoch 11/100\n",
            "30/30 [==============================] - 0s 11ms/step - loss: 2.0387 - accuracy: 0.3823 - val_loss: 2.0888 - val_accuracy: 0.3703\n",
            "Epoch 12/100\n",
            "30/30 [==============================] - 0s 10ms/step - loss: 2.0045 - accuracy: 0.3846 - val_loss: 2.0544 - val_accuracy: 0.3828\n",
            "Epoch 13/100\n",
            "30/30 [==============================] - 0s 11ms/step - loss: 1.9499 - accuracy: 0.4096 - val_loss: 1.9962 - val_accuracy: 0.3906\n",
            "Epoch 14/100\n",
            "30/30 [==============================] - 0s 10ms/step - loss: 1.9066 - accuracy: 0.4120 - val_loss: 1.9422 - val_accuracy: 0.4141\n",
            "Epoch 15/100\n",
            "30/30 [==============================] - 0s 11ms/step - loss: 1.8316 - accuracy: 0.4378 - val_loss: 1.8980 - val_accuracy: 0.4109\n",
            "Epoch 16/100\n",
            "30/30 [==============================] - 0s 10ms/step - loss: 1.8512 - accuracy: 0.4320 - val_loss: 1.9810 - val_accuracy: 0.4141\n",
            "Epoch 17/100\n",
            "30/30 [==============================] - 0s 10ms/step - loss: 1.7956 - accuracy: 0.4581 - val_loss: 1.9199 - val_accuracy: 0.4266\n",
            "Epoch 18/100\n",
            "30/30 [==============================] - 0s 11ms/step - loss: 1.7536 - accuracy: 0.4680 - val_loss: 1.8794 - val_accuracy: 0.4187\n",
            "Epoch 19/100\n",
            "30/30 [==============================] - 0s 11ms/step - loss: 1.7108 - accuracy: 0.4826 - val_loss: 1.8454 - val_accuracy: 0.4516\n",
            "Epoch 20/100\n",
            "30/30 [==============================] - 0s 11ms/step - loss: 1.7309 - accuracy: 0.4732 - val_loss: 1.8203 - val_accuracy: 0.4453\n",
            "Epoch 21/100\n",
            "30/30 [==============================] - 0s 11ms/step - loss: 1.7037 - accuracy: 0.4792 - val_loss: 1.8446 - val_accuracy: 0.4297\n",
            "Epoch 22/100\n",
            "30/30 [==============================] - 0s 11ms/step - loss: 1.6877 - accuracy: 0.4763 - val_loss: 1.8739 - val_accuracy: 0.4469\n",
            "Epoch 23/100\n",
            "30/30 [==============================] - 0s 10ms/step - loss: 1.6417 - accuracy: 0.4917 - val_loss: 1.8433 - val_accuracy: 0.4375\n",
            "Epoch 24/100\n",
            "30/30 [==============================] - 0s 11ms/step - loss: 1.6517 - accuracy: 0.4924 - val_loss: 1.7357 - val_accuracy: 0.4547\n",
            "Epoch 25/100\n",
            "30/30 [==============================] - 0s 10ms/step - loss: 1.6218 - accuracy: 0.4906 - val_loss: 1.8666 - val_accuracy: 0.4641\n",
            "Epoch 26/100\n",
            "30/30 [==============================] - 0s 11ms/step - loss: 1.5859 - accuracy: 0.5188 - val_loss: 1.7520 - val_accuracy: 0.4859\n",
            "Epoch 27/100\n",
            "30/30 [==============================] - 0s 10ms/step - loss: 1.6150 - accuracy: 0.4956 - val_loss: 1.8552 - val_accuracy: 0.4563\n",
            "Epoch 28/100\n",
            "30/30 [==============================] - 0s 10ms/step - loss: 1.5576 - accuracy: 0.5227 - val_loss: 1.7655 - val_accuracy: 0.4609\n",
            "Epoch 29/100\n",
            "30/30 [==============================] - 0s 11ms/step - loss: 1.5618 - accuracy: 0.5180 - val_loss: 1.7811 - val_accuracy: 0.4672\n",
            "Epoch 30/100\n",
            "30/30 [==============================] - 0s 10ms/step - loss: 1.5195 - accuracy: 0.5292 - val_loss: 1.7449 - val_accuracy: 0.5016\n",
            "Epoch 31/100\n",
            "30/30 [==============================] - 0s 11ms/step - loss: 1.5461 - accuracy: 0.5307 - val_loss: 1.6800 - val_accuracy: 0.4938\n",
            "Epoch 32/100\n",
            "30/30 [==============================] - 0s 11ms/step - loss: 1.4513 - accuracy: 0.5578 - val_loss: 1.7123 - val_accuracy: 0.5047\n",
            "Epoch 33/100\n",
            "30/30 [==============================] - 0s 11ms/step - loss: 1.4408 - accuracy: 0.5586 - val_loss: 1.6712 - val_accuracy: 0.5172\n",
            "Epoch 34/100\n",
            "30/30 [==============================] - 0s 10ms/step - loss: 1.4454 - accuracy: 0.5518 - val_loss: 1.8410 - val_accuracy: 0.4578\n",
            "Epoch 35/100\n",
            "30/30 [==============================] - 0s 11ms/step - loss: 1.4554 - accuracy: 0.5547 - val_loss: 1.7091 - val_accuracy: 0.4688\n",
            "Epoch 36/100\n",
            "30/30 [==============================] - 0s 10ms/step - loss: 1.4031 - accuracy: 0.5667 - val_loss: 1.7851 - val_accuracy: 0.4875\n",
            "Epoch 37/100\n",
            "30/30 [==============================] - 0s 11ms/step - loss: 1.3885 - accuracy: 0.5766 - val_loss: 1.7073 - val_accuracy: 0.4938\n",
            "Epoch 38/100\n",
            "30/30 [==============================] - 0s 11ms/step - loss: 1.3643 - accuracy: 0.5841 - val_loss: 1.7184 - val_accuracy: 0.5156\n",
            "Epoch 39/100\n",
            "30/30 [==============================] - 0s 10ms/step - loss: 1.3737 - accuracy: 0.5669 - val_loss: 1.7776 - val_accuracy: 0.4750\n",
            "Epoch 40/100\n",
            "30/30 [==============================] - 0s 10ms/step - loss: 1.2835 - accuracy: 0.6081 - val_loss: 1.6195 - val_accuracy: 0.5203\n",
            "Epoch 41/100\n",
            "30/30 [==============================] - 0s 10ms/step - loss: 1.3007 - accuracy: 0.6000 - val_loss: 1.6740 - val_accuracy: 0.5000\n",
            "Epoch 42/100\n",
            "30/30 [==============================] - 0s 11ms/step - loss: 1.3618 - accuracy: 0.5794 - val_loss: 1.7562 - val_accuracy: 0.4797\n",
            "Epoch 43/100\n",
            "30/30 [==============================] - 0s 10ms/step - loss: 1.2589 - accuracy: 0.6089 - val_loss: 1.6118 - val_accuracy: 0.5359\n",
            "Epoch 44/100\n",
            "30/30 [==============================] - 0s 11ms/step - loss: 1.2990 - accuracy: 0.6003 - val_loss: 1.6140 - val_accuracy: 0.5250\n",
            "Epoch 45/100\n",
            "30/30 [==============================] - 0s 11ms/step - loss: 1.2570 - accuracy: 0.6112 - val_loss: 1.6957 - val_accuracy: 0.4891\n",
            "Epoch 46/100\n",
            "30/30 [==============================] - 0s 11ms/step - loss: 1.2650 - accuracy: 0.6091 - val_loss: 1.6652 - val_accuracy: 0.5063\n",
            "Epoch 47/100\n",
            "30/30 [==============================] - 0s 10ms/step - loss: 1.2207 - accuracy: 0.6221 - val_loss: 1.6721 - val_accuracy: 0.5172\n",
            "Epoch 48/100\n",
            "30/30 [==============================] - 0s 10ms/step - loss: 1.2017 - accuracy: 0.6328 - val_loss: 1.6557 - val_accuracy: 0.5328\n",
            "Epoch 49/100\n",
            "30/30 [==============================] - 0s 11ms/step - loss: 1.2367 - accuracy: 0.6286 - val_loss: 1.6573 - val_accuracy: 0.5094\n",
            "Epoch 50/100\n",
            "30/30 [==============================] - 0s 10ms/step - loss: 1.1820 - accuracy: 0.6411 - val_loss: 1.6948 - val_accuracy: 0.5094\n",
            "Epoch 51/100\n",
            "30/30 [==============================] - 0s 11ms/step - loss: 1.1956 - accuracy: 0.6344 - val_loss: 1.6426 - val_accuracy: 0.5078\n",
            "Epoch 52/100\n",
            "30/30 [==============================] - 0s 10ms/step - loss: 1.1915 - accuracy: 0.6336 - val_loss: 1.6104 - val_accuracy: 0.5391\n",
            "Epoch 53/100\n",
            "30/30 [==============================] - 0s 11ms/step - loss: 1.1671 - accuracy: 0.6409 - val_loss: 1.6123 - val_accuracy: 0.5234\n",
            "Epoch 54/100\n",
            "30/30 [==============================] - 0s 11ms/step - loss: 1.1572 - accuracy: 0.6487 - val_loss: 1.6551 - val_accuracy: 0.5281\n",
            "Epoch 55/100\n",
            "30/30 [==============================] - 0s 11ms/step - loss: 1.1627 - accuracy: 0.6414 - val_loss: 1.6339 - val_accuracy: 0.5016\n",
            "Epoch 56/100\n",
            "30/30 [==============================] - 0s 11ms/step - loss: 1.1042 - accuracy: 0.6602 - val_loss: 1.6715 - val_accuracy: 0.5234\n",
            "Epoch 57/100\n",
            "30/30 [==============================] - 0s 11ms/step - loss: 1.1355 - accuracy: 0.6583 - val_loss: 1.5558 - val_accuracy: 0.5562\n",
            "Epoch 58/100\n",
            "30/30 [==============================] - 0s 10ms/step - loss: 1.0928 - accuracy: 0.6672 - val_loss: 1.6149 - val_accuracy: 0.5234\n",
            "Epoch 59/100\n",
            "30/30 [==============================] - 0s 10ms/step - loss: 1.0612 - accuracy: 0.6768 - val_loss: 1.6371 - val_accuracy: 0.5266\n",
            "Epoch 60/100\n",
            "30/30 [==============================] - 0s 11ms/step - loss: 1.1146 - accuracy: 0.6638 - val_loss: 1.6479 - val_accuracy: 0.5156\n",
            "Epoch 61/100\n",
            "30/30 [==============================] - 0s 10ms/step - loss: 1.0533 - accuracy: 0.6781 - val_loss: 1.7110 - val_accuracy: 0.5219\n",
            "Epoch 62/100\n",
            "30/30 [==============================] - 0s 11ms/step - loss: 1.0828 - accuracy: 0.6732 - val_loss: 1.6960 - val_accuracy: 0.5422\n",
            "Epoch 63/100\n",
            "30/30 [==============================] - 0s 10ms/step - loss: 1.0246 - accuracy: 0.6891 - val_loss: 1.6843 - val_accuracy: 0.5281\n",
            "Epoch 64/100\n",
            "30/30 [==============================] - 0s 11ms/step - loss: 1.0547 - accuracy: 0.6771 - val_loss: 1.7125 - val_accuracy: 0.5359\n",
            "Epoch 65/100\n",
            "30/30 [==============================] - 0s 10ms/step - loss: 1.0097 - accuracy: 0.6865 - val_loss: 1.6546 - val_accuracy: 0.5500\n",
            "Epoch 66/100\n",
            "30/30 [==============================] - 0s 11ms/step - loss: 1.0423 - accuracy: 0.6828 - val_loss: 1.6684 - val_accuracy: 0.5297\n",
            "Epoch 67/100\n",
            "30/30 [==============================] - 0s 10ms/step - loss: 1.0394 - accuracy: 0.6820 - val_loss: 1.6366 - val_accuracy: 0.5312\n",
            "Epoch 68/100\n",
            "30/30 [==============================] - 0s 10ms/step - loss: 0.9955 - accuracy: 0.6956 - val_loss: 1.6337 - val_accuracy: 0.5422\n",
            "Epoch 69/100\n",
            "30/30 [==============================] - 0s 11ms/step - loss: 0.9908 - accuracy: 0.6979 - val_loss: 1.6697 - val_accuracy: 0.5531\n",
            "Epoch 70/100\n",
            "30/30 [==============================] - 0s 10ms/step - loss: 0.9622 - accuracy: 0.7078 - val_loss: 1.6692 - val_accuracy: 0.5094\n",
            "Epoch 71/100\n",
            "30/30 [==============================] - 0s 11ms/step - loss: 0.9705 - accuracy: 0.7047 - val_loss: 1.6708 - val_accuracy: 0.5344\n",
            "Epoch 72/100\n",
            "30/30 [==============================] - 0s 10ms/step - loss: 0.9324 - accuracy: 0.7177 - val_loss: 1.5833 - val_accuracy: 0.5547\n",
            "Epoch 73/100\n",
            "30/30 [==============================] - 0s 11ms/step - loss: 0.9864 - accuracy: 0.7036 - val_loss: 1.6187 - val_accuracy: 0.5578\n",
            "Epoch 74/100\n",
            "30/30 [==============================] - 0s 11ms/step - loss: 0.9087 - accuracy: 0.7258 - val_loss: 1.5842 - val_accuracy: 0.5609\n",
            "Epoch 75/100\n",
            "30/30 [==============================] - 0s 11ms/step - loss: 0.9206 - accuracy: 0.7198 - val_loss: 1.6592 - val_accuracy: 0.5406\n",
            "Epoch 76/100\n",
            "30/30 [==============================] - 0s 11ms/step - loss: 0.8826 - accuracy: 0.7268 - val_loss: 1.7422 - val_accuracy: 0.5594\n",
            "Epoch 77/100\n",
            "30/30 [==============================] - 0s 11ms/step - loss: 0.9257 - accuracy: 0.7182 - val_loss: 1.5850 - val_accuracy: 0.5703\n",
            "Epoch 78/100\n",
            "30/30 [==============================] - 0s 10ms/step - loss: 0.8771 - accuracy: 0.7393 - val_loss: 1.7293 - val_accuracy: 0.5609\n",
            "Epoch 79/100\n",
            "30/30 [==============================] - 0s 11ms/step - loss: 0.9339 - accuracy: 0.7156 - val_loss: 1.8575 - val_accuracy: 0.5312\n",
            "Epoch 80/100\n",
            "30/30 [==============================] - 0s 11ms/step - loss: 0.8658 - accuracy: 0.7331 - val_loss: 1.8033 - val_accuracy: 0.5437\n",
            "Epoch 81/100\n",
            "30/30 [==============================] - 0s 11ms/step - loss: 0.8606 - accuracy: 0.7417 - val_loss: 1.7335 - val_accuracy: 0.5250\n",
            "Epoch 82/100\n",
            "30/30 [==============================] - 0s 11ms/step - loss: 0.9106 - accuracy: 0.7206 - val_loss: 1.7696 - val_accuracy: 0.5328\n",
            "Epoch 83/100\n",
            "30/30 [==============================] - 0s 11ms/step - loss: 0.8494 - accuracy: 0.7435 - val_loss: 1.8658 - val_accuracy: 0.5125\n",
            "Epoch 84/100\n",
            "30/30 [==============================] - 0s 12ms/step - loss: 0.8612 - accuracy: 0.7419 - val_loss: 1.7710 - val_accuracy: 0.5531\n",
            "Epoch 85/100\n",
            "30/30 [==============================] - 0s 10ms/step - loss: 0.7969 - accuracy: 0.7560 - val_loss: 1.7192 - val_accuracy: 0.5703\n",
            "Epoch 86/100\n",
            "30/30 [==============================] - 0s 11ms/step - loss: 0.8140 - accuracy: 0.7581 - val_loss: 1.7424 - val_accuracy: 0.5594\n",
            "Epoch 87/100\n",
            "30/30 [==============================] - 0s 10ms/step - loss: 0.8003 - accuracy: 0.7617 - val_loss: 1.8082 - val_accuracy: 0.5578\n",
            "Epoch 88/100\n",
            "30/30 [==============================] - 0s 11ms/step - loss: 0.8260 - accuracy: 0.7456 - val_loss: 1.7712 - val_accuracy: 0.5547\n",
            "Epoch 89/100\n",
            "30/30 [==============================] - 0s 11ms/step - loss: 0.7776 - accuracy: 0.7674 - val_loss: 1.8789 - val_accuracy: 0.5281\n",
            "Epoch 90/100\n",
            "30/30 [==============================] - 0s 11ms/step - loss: 0.7713 - accuracy: 0.7758 - val_loss: 1.8780 - val_accuracy: 0.5281\n",
            "Epoch 91/100\n",
            "30/30 [==============================] - 0s 11ms/step - loss: 0.8109 - accuracy: 0.7505 - val_loss: 1.9469 - val_accuracy: 0.5344\n",
            "Epoch 92/100\n",
            "30/30 [==============================] - 0s 10ms/step - loss: 0.7878 - accuracy: 0.7622 - val_loss: 1.7970 - val_accuracy: 0.5109\n",
            "Epoch 93/100\n",
            "30/30 [==============================] - 0s 11ms/step - loss: 0.7849 - accuracy: 0.7664 - val_loss: 1.7748 - val_accuracy: 0.5328\n",
            "Epoch 94/100\n",
            "30/30 [==============================] - 0s 10ms/step - loss: 0.7019 - accuracy: 0.7917 - val_loss: 1.8879 - val_accuracy: 0.5609\n",
            "Epoch 95/100\n",
            "30/30 [==============================] - 0s 11ms/step - loss: 0.7541 - accuracy: 0.7737 - val_loss: 2.0136 - val_accuracy: 0.5328\n",
            "Epoch 96/100\n",
            "30/30 [==============================] - 0s 10ms/step - loss: 0.7237 - accuracy: 0.7846 - val_loss: 1.8736 - val_accuracy: 0.5469\n",
            "Epoch 97/100\n",
            "30/30 [==============================] - 0s 11ms/step - loss: 0.7225 - accuracy: 0.7815 - val_loss: 1.8530 - val_accuracy: 0.5437\n",
            "Epoch 98/100\n",
            "30/30 [==============================] - 0s 10ms/step - loss: 0.7222 - accuracy: 0.7799 - val_loss: 1.8369 - val_accuracy: 0.5188\n",
            "Epoch 99/100\n",
            "30/30 [==============================] - 0s 11ms/step - loss: 0.7134 - accuracy: 0.7888 - val_loss: 1.9972 - val_accuracy: 0.5141\n",
            "Epoch 100/100\n",
            "30/30 [==============================] - 0s 11ms/step - loss: 0.7291 - accuracy: 0.7867 - val_loss: 1.9511 - val_accuracy: 0.5078\n"
          ],
          "name": "stdout"
        }
      ]
    },
    {
      "cell_type": "code",
      "metadata": {
        "id": "Sv2_-wL44c3V",
        "colab_type": "code",
        "outputId": "caec299d-6fc7-4bca-c38d-10fccdc2a6f7",
        "colab": {
          "base_uri": "https://localhost:8080/",
          "height": 625
        }
      },
      "source": [
        "model_report(SIMPLE_MODEL, SIMPLE_MODEL_history, 30)"
      ],
      "execution_count": 0,
      "outputs": [
        {
          "output_type": "display_data",
          "data": {
            "image/png": "[encoded data removed]",
            "text/plain": [
              "<Figure size 576x576 with 2 Axes>"
            ]
          },
          "metadata": {
            "tags": []
          }
        },
        {
          "output_type": "stream",
          "text": [
            "\n",
            "Test set evaluation metrics\n",
            "30/30 [==============================] - 0s 6ms/step - loss: 1.8235 - accuracy: 0.5453\n",
            "loss: 1.82\n",
            "accuracy: 0.55\n"
          ],
          "name": "stdout"
        }
      ]
    },
    {
      "cell_type": "markdown",
      "metadata": {
        "id": "MBLBjFFFmsUP",
        "colab_type": "text"
      },
      "source": [
        "### Χρόνος εκπαίδευσης\n",
        "\n",
        "Το TensorFlow 2 προσφέρει νέους ή βελτιώνει διάφορους μηχανισμούς βελτιστοποίησης της εκπαίδευσης. Μεταξύ αυτών έχουμε τους εξής:\n",
        "- Data prefetching (το χρησιμοποιήσαμε παραπάνω)\n",
        "- Data reading parallelization \n",
        "- Map transformation parallelization\n",
        "- Caching\n",
        "- Reducing memory footprint\n",
        "\n",
        "Συμβουλευτείτε για τα παραπάνω το [Better performance with the tf.data API](https://www.tensorflow.org/guide/data_performance)\n",
        "\n",
        "--------------------------------------------------------------------------------"
      ]
    },
    {
      "cell_type": "markdown",
      "metadata": {
        "id": "eOiJD7IF-PNV",
        "colab_type": "text"
      },
      "source": [
        "Εφαρμόζουμε Data reading parallelization στα δεδομένα που έχουμε αποθηκεύσει σε TFRecords για να διαβάζονται πιο γρήγορα."
      ]
    },
    {
      "cell_type": "code",
      "metadata": {
        "id": "dy7fi_Rf7NFi",
        "colab_type": "code",
        "colab": {}
      },
      "source": [
        "BATCH_SIZE = 128\n",
        "AUTOTUNE = tf.data.experimental.AUTOTUNE # https://www.tensorflow.org/guide/data_performance\n",
        "interleave = tf.data.Dataset.interleave\n",
        "\n",
        "def _input_fn(file_path, num_epochs = 30, BATCH_SIZE = 128):\n",
        "  files = tf.data.Dataset.list_files(file_path)\n",
        "  d = files.interleave(lambda x: tf.data.TFRecordDataset(x).prefetch(100),\n",
        "                           cycle_length=8, block_length=16)\n",
        "  # Use num_parallel_calls to parallelize map().\n",
        "  #d = d.map(lambda record: _parse_tfr_element(record, …), num_parallel_calls=AUTOTUNE)\n",
        "  d = d.map(_parse_tfr_element, num_parallel_calls=AUTOTUNE)  # map deconding function that will allow data to be loaded sequentially\n",
        "  d = d.shuffle(buffer_size=data_size)\n",
        "  d = d.repeat(num_epochs)\n",
        "  d = d.batch(BATCH_SIZE)\n",
        "  #d = d.prefetch(buffer_size=AUTOTUNE)\n",
        "  return d\n",
        "\n",
        "train_ds =_input_fn(train_path, num_epochs = 50) #PrefetchDataset object\n",
        "validation_ds =_input_fn(val_path, num_epochs = 50) #PrefetchDataset object\n",
        "test_ds =_input_fn(test_path, num_epochs = 50) #PrefetchDataset object\n",
        "\n",
        "# steps_per_epoch and validation_steps for training and validation: https://www.tensorflow.org/guide/keras/train_and_evaluate\n",
        "\n",
        "def train_model(model, epochs = 10, steps_per_epoch = 2, validation_steps = 1):\n",
        "  history = model.fit(train_ds, epochs=epochs, steps_per_epoch=steps_per_epoch, validation_data=validation_ds, validation_steps=validation_steps)\n",
        "  return(history)"
      ],
      "execution_count": 0,
      "outputs": []
    },
    {
      "cell_type": "code",
      "metadata": {
        "id": "F5Bc5TyrAlwz",
        "colab_type": "code",
        "outputId": "9337a050-4d96-4ff5-aaa8-9bc558224d9b",
        "colab": {
          "base_uri": "https://localhost:8080/",
          "height": 1000
        }
      },
      "source": [
        "SIMPLE_MODEL = init_simple_model(summary = True)\n",
        "SIMPLE_MODEL_history = train_model(SIMPLE_MODEL, 50, 30, 5)"
      ],
      "execution_count": 0,
      "outputs": [
        {
          "output_type": "stream",
          "text": [
            "Model: \"sequential_4\"\n",
            "_________________________________________________________________\n",
            "Layer (type)                 Output Shape              Param #   \n",
            "=================================================================\n",
            "conv2d_12 (Conv2D)           (None, 30, 30, 32)        896       \n",
            "_________________________________________________________________\n",
            "max_pooling2d_8 (MaxPooling2 (None, 15, 15, 32)        0         \n",
            "_________________________________________________________________\n",
            "conv2d_13 (Conv2D)           (None, 13, 13, 64)        18496     \n",
            "_________________________________________________________________\n",
            "max_pooling2d_9 (MaxPooling2 (None, 6, 6, 64)          0         \n",
            "_________________________________________________________________\n",
            "conv2d_14 (Conv2D)           (None, 4, 4, 64)          36928     \n",
            "_________________________________________________________________\n",
            "flatten_4 (Flatten)          (None, 1024)              0         \n",
            "_________________________________________________________________\n",
            "dense_8 (Dense)              (None, 64)                65600     \n",
            "_________________________________________________________________\n",
            "dense_9 (Dense)              (None, 100)               6500      \n",
            "=================================================================\n",
            "Total params: 128,420\n",
            "Trainable params: 128,420\n",
            "Non-trainable params: 0\n",
            "_________________________________________________________________\n",
            "Train for 30 steps, validate for 5 steps\n",
            "Epoch 1/50\n",
            "30/30 [==============================] - 1s 43ms/step - loss: 3.8607 - accuracy: 0.0656 - val_loss: 3.1857 - val_accuracy: 0.1391\n",
            "Epoch 2/50\n",
            "30/30 [==============================] - 0s 13ms/step - loss: 2.8684 - accuracy: 0.1328 - val_loss: 2.7756 - val_accuracy: 0.1375\n",
            "Epoch 3/50\n",
            "30/30 [==============================] - 1s 28ms/step - loss: 2.6526 - accuracy: 0.1833 - val_loss: 2.5229 - val_accuracy: 0.2500\n",
            "Epoch 4/50\n",
            "30/30 [==============================] - 0s 13ms/step - loss: 2.4863 - accuracy: 0.2299 - val_loss: 2.4135 - val_accuracy: 0.2703\n",
            "Epoch 5/50\n",
            "30/30 [==============================] - 1s 28ms/step - loss: 2.3775 - accuracy: 0.2643 - val_loss: 2.3566 - val_accuracy: 0.2703\n",
            "Epoch 6/50\n",
            "30/30 [==============================] - 0s 13ms/step - loss: 2.2638 - accuracy: 0.2872 - val_loss: 2.4005 - val_accuracy: 0.2547\n",
            "Epoch 7/50\n",
            "30/30 [==============================] - 1s 28ms/step - loss: 2.2266 - accuracy: 0.3115 - val_loss: 2.1803 - val_accuracy: 0.3156\n",
            "Epoch 8/50\n",
            "30/30 [==============================] - 0s 13ms/step - loss: 2.1268 - accuracy: 0.3422 - val_loss: 2.1608 - val_accuracy: 0.3234\n",
            "Epoch 9/50\n",
            "30/30 [==============================] - 1s 27ms/step - loss: 2.0586 - accuracy: 0.3651 - val_loss: 2.0310 - val_accuracy: 0.3547\n",
            "Epoch 10/50\n",
            "30/30 [==============================] - 0s 12ms/step - loss: 1.9964 - accuracy: 0.3771 - val_loss: 1.9980 - val_accuracy: 0.3797\n",
            "Epoch 11/50\n",
            "30/30 [==============================] - 0s 13ms/step - loss: 1.9653 - accuracy: 0.3839 - val_loss: 2.0630 - val_accuracy: 0.3547\n",
            "Epoch 12/50\n",
            "30/30 [==============================] - 1s 28ms/step - loss: 1.9426 - accuracy: 0.3932 - val_loss: 1.9946 - val_accuracy: 0.4187\n",
            "Epoch 13/50\n",
            "30/30 [==============================] - 0s 13ms/step - loss: 1.8918 - accuracy: 0.4263 - val_loss: 1.9531 - val_accuracy: 0.4094\n",
            "Epoch 14/50\n",
            "30/30 [==============================] - 1s 29ms/step - loss: 1.8073 - accuracy: 0.4299 - val_loss: 1.9524 - val_accuracy: 0.3828\n",
            "Epoch 15/50\n",
            "30/30 [==============================] - 0s 12ms/step - loss: 1.8700 - accuracy: 0.4174 - val_loss: 1.9471 - val_accuracy: 0.4391\n",
            "Epoch 16/50\n",
            "30/30 [==============================] - 1s 27ms/step - loss: 1.7522 - accuracy: 0.4479 - val_loss: 1.7596 - val_accuracy: 0.4563\n",
            "Epoch 17/50\n",
            "30/30 [==============================] - 0s 13ms/step - loss: 1.7389 - accuracy: 0.4526 - val_loss: 1.8612 - val_accuracy: 0.4375\n",
            "Epoch 18/50\n",
            "30/30 [==============================] - 1s 28ms/step - loss: 1.6810 - accuracy: 0.4740 - val_loss: 1.9370 - val_accuracy: 0.4141\n",
            "Epoch 19/50\n",
            "30/30 [==============================] - 0s 14ms/step - loss: 1.6772 - accuracy: 0.4792 - val_loss: 1.8136 - val_accuracy: 0.4313\n",
            "Epoch 20/50\n",
            "30/30 [==============================] - 1s 28ms/step - loss: 1.7000 - accuracy: 0.4521 - val_loss: 1.9223 - val_accuracy: 0.4281\n",
            "Epoch 21/50\n",
            "30/30 [==============================] - 0s 12ms/step - loss: 1.6456 - accuracy: 0.4792 - val_loss: 1.8297 - val_accuracy: 0.4266\n",
            "Epoch 22/50\n",
            "30/30 [==============================] - 0s 13ms/step - loss: 1.5798 - accuracy: 0.5005 - val_loss: 1.7215 - val_accuracy: 0.4844\n",
            "Epoch 23/50\n",
            "30/30 [==============================] - 1s 28ms/step - loss: 1.5419 - accuracy: 0.5057 - val_loss: 1.7361 - val_accuracy: 0.4625\n",
            "Epoch 24/50\n",
            "30/30 [==============================] - 0s 12ms/step - loss: 1.5732 - accuracy: 0.5003 - val_loss: 1.7820 - val_accuracy: 0.4531\n",
            "Epoch 25/50\n",
            "30/30 [==============================] - 1s 27ms/step - loss: 1.5404 - accuracy: 0.5091 - val_loss: 1.7234 - val_accuracy: 0.4672\n",
            "Epoch 26/50\n",
            "30/30 [==============================] - 0s 12ms/step - loss: 1.5313 - accuracy: 0.5141 - val_loss: 1.7479 - val_accuracy: 0.4641\n",
            "Epoch 27/50\n",
            "30/30 [==============================] - 1s 27ms/step - loss: 1.4906 - accuracy: 0.5151 - val_loss: 1.6994 - val_accuracy: 0.4750\n",
            "Epoch 28/50\n",
            "30/30 [==============================] - 0s 12ms/step - loss: 1.4661 - accuracy: 0.5328 - val_loss: 1.6905 - val_accuracy: 0.4844\n",
            "Epoch 29/50\n",
            "30/30 [==============================] - 1s 29ms/step - loss: 1.4394 - accuracy: 0.5404 - val_loss: 1.7394 - val_accuracy: 0.4672\n",
            "Epoch 30/50\n",
            "30/30 [==============================] - 0s 13ms/step - loss: 1.4250 - accuracy: 0.5424 - val_loss: 1.7263 - val_accuracy: 0.4922\n",
            "Epoch 31/50\n",
            "30/30 [==============================] - 1s 27ms/step - loss: 1.4608 - accuracy: 0.5341 - val_loss: 1.6785 - val_accuracy: 0.4797\n",
            "Epoch 32/50\n",
            "30/30 [==============================] - 0s 12ms/step - loss: 1.4011 - accuracy: 0.5536 - val_loss: 1.7229 - val_accuracy: 0.4766\n",
            "Epoch 33/50\n",
            "30/30 [==============================] - 0s 12ms/step - loss: 1.4107 - accuracy: 0.5690 - val_loss: 1.6338 - val_accuracy: 0.4875\n",
            "Epoch 34/50\n",
            "30/30 [==============================] - 1s 28ms/step - loss: 1.3620 - accuracy: 0.5641 - val_loss: 1.7645 - val_accuracy: 0.4625\n",
            "Epoch 35/50\n",
            "30/30 [==============================] - 0s 13ms/step - loss: 1.3796 - accuracy: 0.5638 - val_loss: 1.7098 - val_accuracy: 0.4812\n",
            "Epoch 36/50\n",
            "30/30 [==============================] - 1s 29ms/step - loss: 1.3277 - accuracy: 0.5857 - val_loss: 1.7403 - val_accuracy: 0.4859\n",
            "Epoch 37/50\n",
            "30/30 [==============================] - 0s 12ms/step - loss: 1.3304 - accuracy: 0.5745 - val_loss: 1.7901 - val_accuracy: 0.4734\n",
            "Epoch 38/50\n",
            "30/30 [==============================] - 1s 28ms/step - loss: 1.2919 - accuracy: 0.5805 - val_loss: 1.7054 - val_accuracy: 0.4828\n",
            "Epoch 39/50\n",
            "30/30 [==============================] - 0s 13ms/step - loss: 1.2923 - accuracy: 0.5922 - val_loss: 1.5485 - val_accuracy: 0.5219\n",
            "Epoch 40/50\n",
            "30/30 [==============================] - 1s 28ms/step - loss: 1.2893 - accuracy: 0.5966 - val_loss: 1.6247 - val_accuracy: 0.5172\n",
            "Epoch 41/50\n",
            "30/30 [==============================] - 0s 12ms/step - loss: 1.2519 - accuracy: 0.6047 - val_loss: 1.5914 - val_accuracy: 0.5219\n",
            "Epoch 42/50\n",
            "30/30 [==============================] - 1s 19ms/step - loss: 1.2425 - accuracy: 0.6060 - val_loss: 1.6054 - val_accuracy: 0.5453\n",
            "Epoch 43/50\n",
            "30/30 [==============================] - 1s 20ms/step - loss: 1.2281 - accuracy: 0.6107 - val_loss: 1.6569 - val_accuracy: 0.4766\n",
            "Epoch 44/50\n",
            "30/30 [==============================] - 0s 13ms/step - loss: 1.2526 - accuracy: 0.6042 - val_loss: 1.6706 - val_accuracy: 0.5031\n",
            "Epoch 45/50\n",
            "30/30 [==============================] - 1s 27ms/step - loss: 1.2120 - accuracy: 0.6086 - val_loss: 1.6116 - val_accuracy: 0.5281\n",
            "Epoch 46/50\n",
            "30/30 [==============================] - 0s 12ms/step - loss: 1.2063 - accuracy: 0.6232 - val_loss: 1.6446 - val_accuracy: 0.5016\n",
            "Epoch 47/50\n",
            "30/30 [==============================] - 1s 28ms/step - loss: 1.1520 - accuracy: 0.6393 - val_loss: 1.5590 - val_accuracy: 0.5391\n",
            "Epoch 48/50\n",
            "30/30 [==============================] - 0s 12ms/step - loss: 1.1567 - accuracy: 0.6299 - val_loss: 1.7216 - val_accuracy: 0.4953\n",
            "Epoch 49/50\n",
            "30/30 [==============================] - 1s 27ms/step - loss: 1.1327 - accuracy: 0.6391 - val_loss: 1.6276 - val_accuracy: 0.5047\n",
            "Epoch 50/50\n",
            "30/30 [==============================] - 0s 13ms/step - loss: 1.1238 - accuracy: 0.6479 - val_loss: 1.5378 - val_accuracy: 0.5406\n"
          ],
          "name": "stdout"
        }
      ]
    },
    {
      "cell_type": "markdown",
      "metadata": {
        "id": "bU2y1VlGPQhf",
        "colab_type": "text"
      },
      "source": [
        "Source:\n",
        "* https://docs.google.com/presentation/d/16kHNtQslt-yuJ3w8GIx-eEH6t_AvFeQOchqGRFpAD7U/edit#slide=id.g254d08e080_0_370"
      ]
    },
    {
      "cell_type": "markdown",
      "metadata": {
        "id": "s3ddu1ECoCGQ",
        "colab_type": "text"
      },
      "source": [
        "### Εργαλεία υψηλού επιπέδου\n",
        "\n",
        "Μεταξύ των εργαλείων βελτιστοποίησης υψηλού επιπέδου (high-level) του TensorFlow μπορούμε να αναφέρουμε τα ακόλουθα:\n",
        "\n",
        "- [TensorBoard](https://www.tensorflow.org/tensorboard/get_started) και [What-If Tool](https://www.tensorflow.org/tensorboard/what_if_tool) Επικουρικό εργαλείο οπτικοποίησης για τον πειραματισμό στη Μηχανική Μάθηση\n",
        "- [tf-explain](https://tf-explain.readthedocs.io/en/latest/) Προσφέρει μεθόδους επεξηγισιμότητας για το tf2\n",
        "- [Keras Tuner](https://github.com/keras-team/keras-tuner) Βελτιστοποίηση υπερπαραμέτρων του Keras στο TensorFlow 2.0\n",
        "- [AutoAugment](https://github.com/tensorflow/models/tree/master/research/autoaugment) Εκμάθηση της πολιτικης επαύξησης από τα δεδομένα"
      ]
    },
    {
      "cell_type": "markdown",
      "metadata": {
        "id": "glBWZ6_ZvGlt",
        "colab_type": "text"
      },
      "source": [
        "# Easter eggs για το τέλος του μαθήματος Νευρωνικών 2019-2020\n"
      ]
    },
    {
      "cell_type": "markdown",
      "metadata": {
        "id": "VNHFNS981Qh0",
        "colab_type": "text"
      },
      "source": [
        "\n",
        "## What's next for Deep Learning\n",
        "\n",
        "The Godfathers of AI and 2018 ACM Turing Award winners Geoffrey Hinton, Yann LeCun, and Yoshua Bengio shared a stage in New York on Sunday night at an event organized by the Thirty-Fourth AAAI Conference on Artificial Intelligence (AAAI 2020). The trio of researchers have made deep neural networks a critical component of computing, and in individual talks and a panel discussion they discussed their views on current challenges facing deep learning and where it should be heading."
      ]
    },
    {
      "cell_type": "code",
      "metadata": {
        "id": "ECLw-wy_wGvm",
        "colab_type": "code",
        "colab": {}
      },
      "source": [
        "from IPython.display import IFrame\n",
        "IFrame(src='https://www.youtube.com/embed/UX8OubxsY8w', width=640, height=480)"
      ],
      "execution_count": 0,
      "outputs": []
    },
    {
      "cell_type": "markdown",
      "metadata": {
        "id": "mwhiplJkzR1W",
        "colab_type": "text"
      },
      "source": [
        "## Αντίλογος: η κριτική του Schmidhuber για τους LeCun & Bengio & Hinton\n",
        "\n",
        "(Ο Schmidhuber και ο Hochreiter [εισήγαγαν τα LSTM το 1997](https://www.bioinf.jku.at/publications/older/2604.pdf))\n",
        "\n",
        "*Machine learning is the science of credit assignment. The machine learning community itself profits from proper credit assignment to its members. The inventor of an important method should get credit for inventing it. She may not always be the one who popularizes it. Then the popularizer should get credit for popularizing it (but not for inventing it). Relatively young research areas such as machine learning should adopt the honor code of mature fields such as mathematics: if you have a new theorem, but use a proof technique similar to somebody else's, you must make this very clear. If you \"re-invent\" something that was already known, and only later become aware of this, you must at least make it clear later.*\n",
        "\n",
        "*As a case in point, let me now comment on a recent article in [Nature (2015) about \"deep learning\"](http://www.nature.com/nature/journal/v521/n7553/full/nature14539.html) in artificial neural networks (NNs), by LeCun & Bengio & Hinton (LBH for short), three CIFAR-funded collaborators who call themselves the \"deep learning conspiracy\" (e.g., LeCun, 2015). They heavily cite each other. Unfortunately, however, they fail to credit the pioneers of the field, which originated half a century ago. All references below are taken from the recent [deep learning overview](http://www.idsia.ch/~juergen/deep-learning-overview.html) (Schmidhuber, 2015), except for a few papers listed beneath this critique focusing on nine items.*\n",
        "\n",
        "[Read more...](http://people.idsia.ch/~juergen/deep-learning-conspiracy.htmlhttps://)"
      ]
    }
  ]
}
